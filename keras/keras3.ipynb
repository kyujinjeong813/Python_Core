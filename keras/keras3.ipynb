{
 "cells": [
  {
   "cell_type": "markdown",
   "metadata": {},
   "source": [
    "# RNN"
   ]
  },
  {
   "cell_type": "code",
   "execution_count": 1,
   "metadata": {},
   "outputs": [
    {
     "name": "stderr",
     "output_type": "stream",
     "text": [
      "Using TensorFlow backend.\n"
     ]
    },
    {
     "name": "stdout",
     "output_type": "stream",
     "text": [
      "96 48\n"
     ]
    }
   ],
   "source": [
    "%matplotlib inline\n",
    "import numpy\n",
    "import matplotlib.pyplot as plt\n",
    "import pandas\n",
    "from keras.models import Sequential\n",
    "from keras.layers import Dense\n",
    "import math\n",
    "numpy.random.seed(7)\n",
    "dataframe = pandas.read_csv('passengers.csv', usecols=[1],\n",
    "                           engine='python', skipfooter=3)\n",
    "dataset = dataframe.values\n",
    "dataset = dataset.astype('float32')\n",
    "train_size = int(len(dataset) * 0.67)\n",
    "test_size = len(dataset) - train_size\n",
    "train, test = dataset[0:train_size, :], dataset[train_size:len(dataset), :]\n",
    "print(len(train), len(test))"
   ]
  },
  {
   "cell_type": "code",
   "execution_count": 3,
   "metadata": {},
   "outputs": [
    {
     "name": "stdout",
     "output_type": "stream",
     "text": [
      "WARNING:tensorflow:From C:\\Users\\ICT01_13\\Anaconda3\\lib\\site-packages\\keras\\backend\\tensorflow_backend.py:74: The name tf.get_default_graph is deprecated. Please use tf.compat.v1.get_default_graph instead.\n",
      "\n",
      "WARNING:tensorflow:From C:\\Users\\ICT01_13\\Anaconda3\\lib\\site-packages\\keras\\backend\\tensorflow_backend.py:517: The name tf.placeholder is deprecated. Please use tf.compat.v1.placeholder instead.\n",
      "\n",
      "WARNING:tensorflow:From C:\\Users\\ICT01_13\\Anaconda3\\lib\\site-packages\\keras\\backend\\tensorflow_backend.py:4138: The name tf.random_uniform is deprecated. Please use tf.random.uniform instead.\n",
      "\n",
      "WARNING:tensorflow:From C:\\Users\\ICT01_13\\Anaconda3\\lib\\site-packages\\keras\\optimizers.py:790: The name tf.train.Optimizer is deprecated. Please use tf.compat.v1.train.Optimizer instead.\n",
      "\n",
      "WARNING:tensorflow:From C:\\Users\\ICT01_13\\Anaconda3\\lib\\site-packages\\keras\\backend\\tensorflow_backend.py:986: The name tf.assign_add is deprecated. Please use tf.compat.v1.assign_add instead.\n",
      "\n",
      "WARNING:tensorflow:From C:\\Users\\ICT01_13\\Anaconda3\\lib\\site-packages\\keras\\backend\\tensorflow_backend.py:973: The name tf.assign is deprecated. Please use tf.compat.v1.assign instead.\n",
      "\n",
      "WARNING:tensorflow:From C:\\Users\\ICT01_13\\Anaconda3\\lib\\site-packages\\keras\\backend\\tensorflow_backend.py:2741: The name tf.Session is deprecated. Please use tf.compat.v1.Session instead.\n",
      "\n",
      "Epoch 1/200\n",
      "WARNING:tensorflow:From C:\\Users\\ICT01_13\\Anaconda3\\lib\\site-packages\\keras\\backend\\tensorflow_backend.py:174: The name tf.get_default_session is deprecated. Please use tf.compat.v1.get_default_session instead.\n",
      "\n",
      "WARNING:tensorflow:From C:\\Users\\ICT01_13\\Anaconda3\\lib\\site-packages\\keras\\backend\\tensorflow_backend.py:181: The name tf.ConfigProto is deprecated. Please use tf.compat.v1.ConfigProto instead.\n",
      "\n",
      "WARNING:tensorflow:From C:\\Users\\ICT01_13\\Anaconda3\\lib\\site-packages\\keras\\backend\\tensorflow_backend.py:190: The name tf.global_variables is deprecated. Please use tf.compat.v1.global_variables instead.\n",
      "\n",
      "WARNING:tensorflow:From C:\\Users\\ICT01_13\\Anaconda3\\lib\\site-packages\\keras\\backend\\tensorflow_backend.py:199: The name tf.is_variable_initialized is deprecated. Please use tf.compat.v1.is_variable_initialized instead.\n",
      "\n",
      "WARNING:tensorflow:From C:\\Users\\ICT01_13\\Anaconda3\\lib\\site-packages\\keras\\backend\\tensorflow_backend.py:206: The name tf.variables_initializer is deprecated. Please use tf.compat.v1.variables_initializer instead.\n",
      "\n",
      " - 5s - loss: 90085.9055\n",
      "Epoch 2/200\n",
      " - 0s - loss: 78715.3146\n",
      "Epoch 3/200\n",
      " - 0s - loss: 70645.5389\n",
      "Epoch 4/200\n",
      " - 0s - loss: 64820.6602\n",
      "Epoch 5/200\n",
      " - 0s - loss: 60568.5388\n",
      "Epoch 6/200\n",
      " - 0s - loss: 57493.5670\n",
      "Epoch 7/200\n",
      " - 0s - loss: 55295.3161\n",
      "Epoch 8/200\n",
      " - 0s - loss: 53687.1267\n",
      "Epoch 9/200\n",
      " - 0s - loss: 52534.2290\n",
      "Epoch 10/200\n",
      " - 0s - loss: 51639.1572\n",
      "Epoch 11/200\n",
      " - 0s - loss: 50881.3457\n",
      "Epoch 12/200\n",
      " - 0s - loss: 50093.0191\n",
      "Epoch 13/200\n",
      " - 0s - loss: 49141.9657\n",
      "Epoch 14/200\n",
      " - 0s - loss: 47788.4251\n",
      "Epoch 15/200\n",
      " - 0s - loss: 45751.2486\n",
      "Epoch 16/200\n",
      " - 0s - loss: 42666.2211\n",
      "Epoch 17/200\n",
      " - 0s - loss: 38328.0491\n",
      "Epoch 18/200\n",
      " - 0s - loss: 32632.8639\n",
      "Epoch 19/200\n",
      " - 0s - loss: 26079.3964\n",
      "Epoch 20/200\n",
      " - 0s - loss: 19203.1052\n",
      "Epoch 21/200\n",
      " - 0s - loss: 13081.7069\n",
      "Epoch 22/200\n",
      " - 0s - loss: 8136.8942\n",
      "Epoch 23/200\n",
      " - 0s - loss: 4791.5954\n",
      "Epoch 24/200\n",
      " - 0s - loss: 2652.5190\n",
      "Epoch 25/200\n",
      " - 0s - loss: 1580.7391\n",
      "Epoch 26/200\n",
      " - 0s - loss: 1023.4857\n",
      "Epoch 27/200\n",
      " - 0s - loss: 805.2461\n",
      "Epoch 28/200\n",
      " - 0s - loss: 713.0310\n",
      "Epoch 29/200\n",
      " - 0s - loss: 681.9001\n",
      "Epoch 30/200\n",
      " - 0s - loss: 668.0194\n",
      "Epoch 31/200\n",
      " - 0s - loss: 667.7385\n",
      "Epoch 32/200\n",
      " - 0s - loss: 664.3772\n",
      "Epoch 33/200\n",
      " - 0s - loss: 661.1706\n",
      "Epoch 34/200\n",
      " - 0s - loss: 669.2285\n",
      "Epoch 35/200\n",
      " - 0s - loss: 667.1629\n",
      "Epoch 36/200\n",
      " - 0s - loss: 663.0739\n",
      "Epoch 37/200\n",
      " - 0s - loss: 663.2635\n",
      "Epoch 38/200\n",
      " - 0s - loss: 659.9920\n",
      "Epoch 39/200\n",
      " - 0s - loss: 662.4473\n",
      "Epoch 40/200\n",
      " - 0s - loss: 662.2418\n",
      "Epoch 41/200\n",
      " - 0s - loss: 664.9173\n",
      "Epoch 42/200\n",
      " - 0s - loss: 660.4533\n",
      "Epoch 43/200\n",
      " - 0s - loss: 659.6329\n",
      "Epoch 44/200\n",
      " - 0s - loss: 659.1630\n",
      "Epoch 45/200\n",
      " - 0s - loss: 658.8267\n",
      "Epoch 46/200\n",
      " - 0s - loss: 658.8012\n",
      "Epoch 47/200\n",
      " - 0s - loss: 670.0754\n",
      "Epoch 48/200\n",
      " - 0s - loss: 658.5761\n",
      "Epoch 49/200\n",
      " - 0s - loss: 659.9857\n",
      "Epoch 50/200\n",
      " - 0s - loss: 661.7281\n",
      "Epoch 51/200\n",
      " - 0s - loss: 660.2613\n",
      "Epoch 52/200\n",
      " - 0s - loss: 655.9337\n",
      "Epoch 53/200\n",
      " - 0s - loss: 656.3111\n",
      "Epoch 54/200\n",
      " - 0s - loss: 655.4735\n",
      "Epoch 55/200\n",
      " - 0s - loss: 654.6542\n",
      "Epoch 56/200\n",
      " - 0s - loss: 654.6047\n",
      "Epoch 57/200\n",
      " - 0s - loss: 661.2787\n",
      "Epoch 58/200\n",
      " - 0s - loss: 655.7501\n",
      "Epoch 59/200\n",
      " - 0s - loss: 655.4113\n",
      "Epoch 60/200\n",
      " - 0s - loss: 653.6021\n",
      "Epoch 61/200\n",
      " - 0s - loss: 658.9434\n",
      "Epoch 62/200\n",
      " - 0s - loss: 655.1934\n",
      "Epoch 63/200\n",
      " - 0s - loss: 657.4348\n",
      "Epoch 64/200\n",
      " - 0s - loss: 658.5118\n",
      "Epoch 65/200\n",
      " - 0s - loss: 651.9961\n",
      "Epoch 66/200\n",
      " - 0s - loss: 658.2642\n",
      "Epoch 67/200\n",
      " - 0s - loss: 652.7457\n",
      "Epoch 68/200\n",
      " - 0s - loss: 650.6901\n",
      "Epoch 69/200\n",
      " - 0s - loss: 648.6716\n",
      "Epoch 70/200\n",
      " - 0s - loss: 648.4945\n",
      "Epoch 71/200\n",
      " - 0s - loss: 652.2033\n",
      "Epoch 72/200\n",
      " - 0s - loss: 653.9365\n",
      "Epoch 73/200\n",
      " - 0s - loss: 649.6059\n",
      "Epoch 74/200\n",
      " - 0s - loss: 649.1096\n",
      "Epoch 75/200\n",
      " - 0s - loss: 648.6088\n",
      "Epoch 76/200\n",
      " - 0s - loss: 649.7129\n",
      "Epoch 77/200\n",
      " - 0s - loss: 654.9413\n",
      "Epoch 78/200\n",
      " - 0s - loss: 643.8241\n",
      "Epoch 79/200\n",
      " - 0s - loss: 650.1955\n",
      "Epoch 80/200\n",
      " - 0s - loss: 645.2279\n",
      "Epoch 81/200\n",
      " - 0s - loss: 646.0178\n",
      "Epoch 82/200\n",
      " - 0s - loss: 643.7628\n",
      "Epoch 83/200\n",
      " - 0s - loss: 645.6510\n",
      "Epoch 84/200\n",
      " - 0s - loss: 642.5252\n",
      "Epoch 85/200\n",
      " - 0s - loss: 640.5221\n",
      "Epoch 86/200\n",
      " - 0s - loss: 646.4887\n",
      "Epoch 87/200\n",
      " - 0s - loss: 644.1701\n",
      "Epoch 88/200\n",
      " - 0s - loss: 643.8511\n",
      "Epoch 89/200\n",
      " - 0s - loss: 643.8616\n",
      "Epoch 90/200\n",
      " - 0s - loss: 641.6327\n",
      "Epoch 91/200\n",
      " - 0s - loss: 644.1869\n",
      "Epoch 92/200\n",
      " - 0s - loss: 644.3281\n",
      "Epoch 93/200\n",
      " - 0s - loss: 637.8428\n",
      "Epoch 94/200\n",
      " - 0s - loss: 644.3962\n",
      "Epoch 95/200\n",
      " - 0s - loss: 636.9716\n",
      "Epoch 96/200\n",
      " - 0s - loss: 639.4403\n",
      "Epoch 97/200\n",
      " - 0s - loss: 634.0966\n",
      "Epoch 98/200\n",
      " - 0s - loss: 650.4702\n",
      "Epoch 99/200\n",
      " - 0s - loss: 654.1603\n",
      "Epoch 100/200\n",
      " - 0s - loss: 632.3624\n",
      "Epoch 101/200\n",
      " - 0s - loss: 637.2798\n",
      "Epoch 102/200\n",
      " - 0s - loss: 638.1240\n",
      "Epoch 103/200\n",
      " - 0s - loss: 631.2712\n",
      "Epoch 104/200\n",
      " - 0s - loss: 642.9456\n",
      "Epoch 105/200\n",
      " - 0s - loss: 640.8786\n",
      "Epoch 106/200\n",
      " - 0s - loss: 633.1711\n",
      "Epoch 107/200\n",
      " - 0s - loss: 627.4809\n",
      "Epoch 108/200\n",
      " - 0s - loss: 639.1248\n",
      "Epoch 109/200\n",
      " - 0s - loss: 632.7274\n",
      "Epoch 110/200\n",
      " - 0s - loss: 639.0658\n",
      "Epoch 111/200\n",
      " - 0s - loss: 640.6127\n",
      "Epoch 112/200\n",
      " - 0s - loss: 634.3999\n",
      "Epoch 113/200\n",
      " - 0s - loss: 629.9508\n",
      "Epoch 114/200\n",
      " - 0s - loss: 627.8225\n",
      "Epoch 115/200\n",
      " - 0s - loss: 620.5135\n",
      "Epoch 116/200\n",
      " - 0s - loss: 626.7093\n",
      "Epoch 117/200\n",
      " - 0s - loss: 628.9363\n",
      "Epoch 118/200\n",
      " - 0s - loss: 633.2823\n",
      "Epoch 119/200\n",
      " - 0s - loss: 630.1119\n",
      "Epoch 120/200\n",
      " - 0s - loss: 620.6422\n",
      "Epoch 121/200\n",
      " - 0s - loss: 621.7750\n",
      "Epoch 122/200\n",
      " - 0s - loss: 626.6715\n",
      "Epoch 123/200\n",
      " - 0s - loss: 621.8038\n",
      "Epoch 124/200\n",
      " - 0s - loss: 626.0831\n",
      "Epoch 125/200\n",
      " - 0s - loss: 626.0012\n",
      "Epoch 126/200\n",
      " - 0s - loss: 632.3873\n",
      "Epoch 127/200\n",
      " - 0s - loss: 628.3450\n",
      "Epoch 128/200\n",
      " - 0s - loss: 618.5377\n",
      "Epoch 129/200\n",
      " - 0s - loss: 619.1596\n",
      "Epoch 130/200\n",
      " - 0s - loss: 614.9328\n",
      "Epoch 131/200\n",
      " - 0s - loss: 615.9704\n",
      "Epoch 132/200\n",
      " - 0s - loss: 618.6385\n",
      "Epoch 133/200\n",
      " - 0s - loss: 626.3968\n",
      "Epoch 134/200\n",
      " - 0s - loss: 607.3360\n",
      "Epoch 135/200\n",
      " - 0s - loss: 618.3208\n",
      "Epoch 136/200\n",
      " - 0s - loss: 615.3188\n",
      "Epoch 137/200\n",
      " - 0s - loss: 614.3612\n",
      "Epoch 138/200\n",
      " - 0s - loss: 612.9698\n",
      "Epoch 139/200\n",
      " - 0s - loss: 608.7412\n",
      "Epoch 140/200\n",
      " - 0s - loss: 607.8866\n",
      "Epoch 141/200\n",
      " - 0s - loss: 612.0617\n",
      "Epoch 142/200\n",
      " - 0s - loss: 613.0342\n",
      "Epoch 143/200\n",
      " - 0s - loss: 614.0870\n",
      "Epoch 144/200\n",
      " - 0s - loss: 605.9886\n",
      "Epoch 145/200\n",
      " - 0s - loss: 609.9865\n",
      "Epoch 146/200\n",
      " - 0s - loss: 607.4244\n",
      "Epoch 147/200\n",
      " - 0s - loss: 605.3431\n",
      "Epoch 148/200\n",
      " - 0s - loss: 601.9895\n",
      "Epoch 149/200\n",
      " - 0s - loss: 610.9621\n",
      "Epoch 150/200\n",
      " - 0s - loss: 612.2915\n",
      "Epoch 151/200\n",
      " - 0s - loss: 613.5454\n",
      "Epoch 152/200\n",
      " - 0s - loss: 604.5491\n",
      "Epoch 153/200\n",
      " - 0s - loss: 605.4300\n",
      "Epoch 154/200\n",
      " - 0s - loss: 603.5803\n",
      "Epoch 155/200\n",
      " - 0s - loss: 599.7234\n",
      "Epoch 156/200\n",
      " - 0s - loss: 605.1488\n",
      "Epoch 157/200\n",
      " - 0s - loss: 597.9076\n",
      "Epoch 158/200\n",
      " - 0s - loss: 598.0245\n",
      "Epoch 159/200\n",
      " - 0s - loss: 601.8815\n"
     ]
    },
    {
     "name": "stdout",
     "output_type": "stream",
     "text": [
      "Epoch 160/200\n",
      " - 0s - loss: 598.9528\n",
      "Epoch 161/200\n",
      " - 0s - loss: 596.0134\n",
      "Epoch 162/200\n",
      " - 0s - loss: 599.7078\n",
      "Epoch 163/200\n",
      " - 0s - loss: 593.1386\n",
      "Epoch 164/200\n",
      " - 0s - loss: 592.7614\n",
      "Epoch 165/200\n",
      " - 0s - loss: 605.3726\n",
      "Epoch 166/200\n",
      " - 0s - loss: 609.0536\n",
      "Epoch 167/200\n",
      " - 0s - loss: 592.5354\n",
      "Epoch 168/200\n",
      " - 0s - loss: 599.1362\n",
      "Epoch 169/200\n",
      " - 0s - loss: 589.7647\n",
      "Epoch 170/200\n",
      " - 0s - loss: 598.6107\n",
      "Epoch 171/200\n",
      " - 0s - loss: 590.1529\n",
      "Epoch 172/200\n",
      " - 0s - loss: 589.3931\n",
      "Epoch 173/200\n",
      " - 0s - loss: 596.4143\n",
      "Epoch 174/200\n",
      " - 0s - loss: 604.5318\n",
      "Epoch 175/200\n",
      " - 0s - loss: 588.5148\n",
      "Epoch 176/200\n",
      " - 0s - loss: 587.1635\n",
      "Epoch 177/200\n",
      " - 0s - loss: 584.2845\n",
      "Epoch 178/200\n",
      " - 0s - loss: 592.8003\n",
      "Epoch 179/200\n",
      " - 0s - loss: 585.6782\n",
      "Epoch 180/200\n",
      " - 0s - loss: 587.6132\n",
      "Epoch 181/200\n",
      " - 0s - loss: 595.1088\n",
      "Epoch 182/200\n",
      " - 0s - loss: 584.3079\n",
      "Epoch 183/200\n",
      " - 0s - loss: 586.9193\n",
      "Epoch 184/200\n",
      " - 0s - loss: 581.5911\n",
      "Epoch 185/200\n",
      " - 0s - loss: 583.8105\n",
      "Epoch 186/200\n",
      " - 0s - loss: 587.2322\n",
      "Epoch 187/200\n",
      " - 0s - loss: 582.6900\n",
      "Epoch 188/200\n",
      " - 0s - loss: 578.7801\n",
      "Epoch 189/200\n",
      " - 0s - loss: 585.6090\n",
      "Epoch 190/200\n",
      " - 0s - loss: 588.1120\n",
      "Epoch 191/200\n",
      " - 0s - loss: 578.8672\n",
      "Epoch 192/200\n",
      " - 0s - loss: 584.7568\n",
      "Epoch 193/200\n",
      " - 0s - loss: 600.9757\n",
      "Epoch 194/200\n",
      " - 0s - loss: 573.4999\n",
      "Epoch 195/200\n",
      " - 0s - loss: 573.9885\n",
      "Epoch 196/200\n",
      " - 0s - loss: 573.0619\n",
      "Epoch 197/200\n",
      " - 0s - loss: 575.3020\n",
      "Epoch 198/200\n",
      " - 0s - loss: 572.2497\n",
      "Epoch 199/200\n",
      " - 0s - loss: 585.4865\n",
      "Epoch 200/200\n",
      " - 0s - loss: 576.0600\n"
     ]
    },
    {
     "data": {
      "text/plain": [
       "<keras.callbacks.History at 0x21ee02e9b88>"
      ]
     },
     "execution_count": 3,
     "metadata": {},
     "output_type": "execute_result"
    }
   ],
   "source": [
    "# window size로 독립변수와 종속변수를 분리\n",
    "def create_dataset(dataset, look_back=1):\n",
    "    dataX, dataY = [], []\n",
    "    for i in range(len(dataset) - look_back-1):\n",
    "        a = dataset[i:(i+look_back), 0]\n",
    "        dataX.append(a)\n",
    "        dataY.append(dataset[i+look_back, 0])\n",
    "    return numpy.array(dataX), numpy.array(dataY)\n",
    "\n",
    "look_back = 2 # window size\n",
    "trainX, trainY = create_dataset(train, look_back)\n",
    "testX, testY = create_dataset(test, look_back)\n",
    "trainX.shape\n",
    "model = Sequential()\n",
    "model.add(Dense(8, input_dim=look_back, activation='relu'))\n",
    "model.add(Dense(1))\n",
    "model.compile(loss='mean_squared_error', optimizer='adam')\n",
    "model.fit(trainX, trainY, epochs=200, batch_size=2, verbose=2)"
   ]
  },
  {
   "cell_type": "code",
   "execution_count": 5,
   "metadata": {},
   "outputs": [
    {
     "name": "stdout",
     "output_type": "stream",
     "text": [
      "Train Score: 564.76 MSE (23.76 RMSE)\n"
     ]
    }
   ],
   "source": [
    "# 데이터 분할 (시계열 데이터 형태에 일치 시킴)\n",
    "trainScore = model.evaluate(trainX, trainY, verbose=0)\n",
    "print('Train Score: %.2f MSE (%.2f RMSE)' % (trainScore, math.sqrt(trainScore)))"
   ]
  },
  {
   "cell_type": "markdown",
   "metadata": {},
   "source": [
    "# 시 계 열\n",
    "https://medium.com/@cdabakoglu/time-series-forecasting-arima-lstm-prophet-with-python-e73a750a9887"
   ]
  },
  {
   "cell_type": "code",
   "execution_count": 2,
   "metadata": {},
   "outputs": [
    {
     "name": "stdout",
     "output_type": "stream",
     "text": [
      "<class 'pandas.core.frame.DataFrame'>\n",
      "RangeIndex: 476 entries, 0 to 475\n",
      "Data columns (total 2 columns):\n",
      " #   Column                   Non-Null Count  Dtype  \n",
      "---  ------                   --------------  -----  \n",
      " 0   Month                    476 non-null    object \n",
      " 1   Monthly beer production  476 non-null    float64\n",
      "dtypes: float64(1), object(1)\n",
      "memory usage: 7.6+ KB\n"
     ]
    }
   ],
   "source": [
    "import numpy as np\n",
    "import pandas as pd\n",
    "from statsmodels.tsa.statespace.sarimax import SARIMAX\n",
    "from statsmodels.graphics.tsaplots import plot_acf, plot_pacf\n",
    "from statsmodels.tsa.seasonal import seasonal_decompose\n",
    "from pmdarima import auto_arima\n",
    "from sklearn.metrics import mean_squared_error\n",
    "from statsmodels.tools.eval_measures import rmse\n",
    "import warnings\n",
    "warnings.filterwarnings(\"ignore\")\n",
    "\n",
    "df = pd.read_csv('austr.csv')\n",
    "df.head()\n",
    "df.info()"
   ]
  },
  {
   "cell_type": "code",
   "execution_count": 49,
   "metadata": {},
   "outputs": [
    {
     "data": {
      "text/html": [
       "<div>\n",
       "<style scoped>\n",
       "    .dataframe tbody tr th:only-of-type {\n",
       "        vertical-align: middle;\n",
       "    }\n",
       "\n",
       "    .dataframe tbody tr th {\n",
       "        vertical-align: top;\n",
       "    }\n",
       "\n",
       "    .dataframe thead th {\n",
       "        text-align: right;\n",
       "    }\n",
       "</style>\n",
       "<table border=\"1\" class=\"dataframe\">\n",
       "  <thead>\n",
       "    <tr style=\"text-align: right;\">\n",
       "      <th></th>\n",
       "      <th>Monthly beer production</th>\n",
       "    </tr>\n",
       "    <tr>\n",
       "      <th>Month</th>\n",
       "      <th></th>\n",
       "    </tr>\n",
       "  </thead>\n",
       "  <tbody>\n",
       "    <tr>\n",
       "      <th>1956-01-01</th>\n",
       "      <td>93.2</td>\n",
       "    </tr>\n",
       "    <tr>\n",
       "      <th>1956-02-01</th>\n",
       "      <td>96.0</td>\n",
       "    </tr>\n",
       "    <tr>\n",
       "      <th>1956-03-01</th>\n",
       "      <td>95.2</td>\n",
       "    </tr>\n",
       "    <tr>\n",
       "      <th>1956-04-01</th>\n",
       "      <td>77.1</td>\n",
       "    </tr>\n",
       "    <tr>\n",
       "      <th>1956-05-01</th>\n",
       "      <td>70.9</td>\n",
       "    </tr>\n",
       "  </tbody>\n",
       "</table>\n",
       "</div>"
      ],
      "text/plain": [
       "            Monthly beer production\n",
       "Month                              \n",
       "1956-01-01                     93.2\n",
       "1956-02-01                     96.0\n",
       "1956-03-01                     95.2\n",
       "1956-04-01                     77.1\n",
       "1956-05-01                     70.9"
      ]
     },
     "execution_count": 49,
     "metadata": {},
     "output_type": "execute_result"
    }
   ],
   "source": [
    "df.Month = pd.to_datetime(df.Month)\n",
    "df = df.set_index('Month')\n",
    "df.head()"
   ]
  },
  {
   "cell_type": "code",
   "execution_count": 50,
   "metadata": {},
   "outputs": [],
   "source": [
    "df.index.freq = 'MS'\n",
    "ax = df['Monthly beer prodcution'].plot(figsize=(16,5), title=\"Monthly Beer Production\")\n",
    "ax.set(xlabel = 'Dates', ylabel='Total Production')"
   ]
  },
  {
   "cell_type": "code",
   "execution_count": 52,
   "metadata": {
    "scrolled": true
   },
   "outputs": [
    {
     "data": {
      "image/png": "[encoded data removed]",
      "text/plain": [
       "<Figure size 432x288 with 4 Axes>"
      ]
     },
     "execution_count": 52,
     "metadata": {},
     "output_type": "execute_result"
    },
    {
     "data": {
      "image/png": "[encoded data removed]",
      "text/plain": [
       "<Figure size 432x288 with 4 Axes>"
      ]
     },
     "metadata": {
      "needs_background": "light"
     },
     "output_type": "display_data"
    }
   ],
   "source": [
    "a = seasonal_decompose(df[\"Monthly beer production\"], model='add')\n",
    "a.plot()"
   ]
  },
  {
   "cell_type": "code",
   "execution_count": 53,
   "metadata": {},
   "outputs": [
    {
     "data": {
      "text/plain": [
       "<matplotlib.axes._subplots.AxesSubplot at 0x21f1ea5b9c8>"
      ]
     },
     "execution_count": 53,
     "metadata": {},
     "output_type": "execute_result"
    },
    {
     "data": {
      "image/png": "[encoded data removed]",
      "text/plain": [
       "<Figure size 1152x504 with 1 Axes>"
      ]
     },
     "metadata": {
      "needs_background": "light"
     },
     "output_type": "display_data"
    }
   ],
   "source": [
    "import matplotlib.pyplot as plt\n",
    "plt.figure(figsize = (16,7))\n",
    "a.seasonal.plot()"
   ]
  },
  {
   "cell_type": "code",
   "execution_count": 54,
   "metadata": {},
   "outputs": [
    {
     "data": {
      "text/html": [
       "<table class=\"simpletable\">\n",
       "<caption>Statespace Model Results</caption>\n",
       "<tr>\n",
       "  <th>Dep. Variable:</th>                  <td>y</td>               <th>  No. Observations:  </th>    <td>476</td>   \n",
       "</tr>\n",
       "<tr>\n",
       "  <th>Model:</th>           <td>SARIMAX(2, 1, 3)x(3, 0, 1, 12)</td> <th>  Log Likelihood     </th> <td>-1738.352</td>\n",
       "</tr>\n",
       "<tr>\n",
       "  <th>Date:</th>                   <td>Tue, 11 Feb 2020</td>        <th>  AIC                </th> <td>3498.704</td> \n",
       "</tr>\n",
       "<tr>\n",
       "  <th>Time:</th>                       <td>11:33:39</td>            <th>  BIC                </th> <td>3544.500</td> \n",
       "</tr>\n",
       "<tr>\n",
       "  <th>Sample:</th>                         <td>0</td>               <th>  HQIC               </th> <td>3516.713</td> \n",
       "</tr>\n",
       "<tr>\n",
       "  <th></th>                             <td> - 476</td>             <th>                     </th>     <td> </td>    \n",
       "</tr>\n",
       "<tr>\n",
       "  <th>Covariance Type:</th>               <td>opg</td>              <th>                     </th>     <td> </td>    \n",
       "</tr>\n",
       "</table>\n",
       "<table class=\"simpletable\">\n",
       "<tr>\n",
       "      <td></td>         <th>coef</th>     <th>std err</th>      <th>z</th>      <th>P>|z|</th>  <th>[0.025</th>    <th>0.975]</th>  \n",
       "</tr>\n",
       "<tr>\n",
       "  <th>intercept</th> <td>    0.0014</td> <td>    0.019</td> <td>    0.073</td> <td> 0.941</td> <td>   -0.035</td> <td>    0.038</td>\n",
       "</tr>\n",
       "<tr>\n",
       "  <th>ar.L1</th>     <td>   -1.1475</td> <td>    0.005</td> <td> -214.948</td> <td> 0.000</td> <td>   -1.158</td> <td>   -1.137</td>\n",
       "</tr>\n",
       "<tr>\n",
       "  <th>ar.L2</th>     <td>   -0.9906</td> <td>    0.006</td> <td> -177.340</td> <td> 0.000</td> <td>   -1.002</td> <td>   -0.980</td>\n",
       "</tr>\n",
       "<tr>\n",
       "  <th>ma.L1</th>     <td>    0.2167</td> <td>    0.024</td> <td>    9.054</td> <td> 0.000</td> <td>    0.170</td> <td>    0.264</td>\n",
       "</tr>\n",
       "<tr>\n",
       "  <th>ma.L2</th>     <td>   -0.0095</td> <td>    0.024</td> <td>   -0.404</td> <td> 0.687</td> <td>   -0.056</td> <td>    0.037</td>\n",
       "</tr>\n",
       "<tr>\n",
       "  <th>ma.L3</th>     <td>   -0.8631</td> <td>    0.022</td> <td>  -38.662</td> <td> 0.000</td> <td>   -0.907</td> <td>   -0.819</td>\n",
       "</tr>\n",
       "<tr>\n",
       "  <th>ar.S.L12</th>  <td>    0.9671</td> <td>    0.084</td> <td>   11.520</td> <td> 0.000</td> <td>    0.803</td> <td>    1.132</td>\n",
       "</tr>\n",
       "<tr>\n",
       "  <th>ar.S.L24</th>  <td>    0.0079</td> <td>    0.053</td> <td>    0.149</td> <td> 0.881</td> <td>   -0.096</td> <td>    0.111</td>\n",
       "</tr>\n",
       "<tr>\n",
       "  <th>ar.S.L36</th>  <td>    0.0161</td> <td>    0.063</td> <td>    0.254</td> <td> 0.799</td> <td>   -0.108</td> <td>    0.140</td>\n",
       "</tr>\n",
       "<tr>\n",
       "  <th>ma.S.L12</th>  <td>   -0.7595</td> <td>    0.072</td> <td>  -10.586</td> <td> 0.000</td> <td>   -0.900</td> <td>   -0.619</td>\n",
       "</tr>\n",
       "<tr>\n",
       "  <th>sigma2</th>    <td>   80.5134</td> <td>    4.294</td> <td>   18.749</td> <td> 0.000</td> <td>   72.097</td> <td>   88.930</td>\n",
       "</tr>\n",
       "</table>\n",
       "<table class=\"simpletable\">\n",
       "<tr>\n",
       "  <th>Ljung-Box (Q):</th>          <td>60.28</td> <th>  Jarque-Bera (JB):  </th> <td>37.04</td>\n",
       "</tr>\n",
       "<tr>\n",
       "  <th>Prob(Q):</th>                <td>0.02</td>  <th>  Prob(JB):          </th> <td>0.00</td> \n",
       "</tr>\n",
       "<tr>\n",
       "  <th>Heteroskedasticity (H):</th> <td>3.29</td>  <th>  Skew:              </th> <td>-0.18</td>\n",
       "</tr>\n",
       "<tr>\n",
       "  <th>Prob(H) (two-sided):</th>    <td>0.00</td>  <th>  Kurtosis:          </th> <td>4.32</td> \n",
       "</tr>\n",
       "</table><br/><br/>Warnings:<br/>[1] Covariance matrix calculated using the outer product of gradients (complex-step)."
      ],
      "text/plain": [
       "<class 'statsmodels.iolib.summary.Summary'>\n",
       "\"\"\"\n",
       "                                 Statespace Model Results                                 \n",
       "==========================================================================================\n",
       "Dep. Variable:                                  y   No. Observations:                  476\n",
       "Model:             SARIMAX(2, 1, 3)x(3, 0, 1, 12)   Log Likelihood               -1738.352\n",
       "Date:                            Tue, 11 Feb 2020   AIC                           3498.704\n",
       "Time:                                    11:33:39   BIC                           3544.500\n",
       "Sample:                                         0   HQIC                          3516.713\n",
       "                                            - 476                                         \n",
       "Covariance Type:                              opg                                         \n",
       "==============================================================================\n",
       "                 coef    std err          z      P>|z|      [0.025      0.975]\n",
       "------------------------------------------------------------------------------\n",
       "intercept      0.0014      0.019      0.073      0.941      -0.035       0.038\n",
       "ar.L1         -1.1475      0.005   -214.948      0.000      -1.158      -1.137\n",
       "ar.L2         -0.9906      0.006   -177.340      0.000      -1.002      -0.980\n",
       "ma.L1          0.2167      0.024      9.054      0.000       0.170       0.264\n",
       "ma.L2         -0.0095      0.024     -0.404      0.687      -0.056       0.037\n",
       "ma.L3         -0.8631      0.022    -38.662      0.000      -0.907      -0.819\n",
       "ar.S.L12       0.9671      0.084     11.520      0.000       0.803       1.132\n",
       "ar.S.L24       0.0079      0.053      0.149      0.881      -0.096       0.111\n",
       "ar.S.L36       0.0161      0.063      0.254      0.799      -0.108       0.140\n",
       "ma.S.L12      -0.7595      0.072    -10.586      0.000      -0.900      -0.619\n",
       "sigma2        80.5134      4.294     18.749      0.000      72.097      88.930\n",
       "===================================================================================\n",
       "Ljung-Box (Q):                       60.28   Jarque-Bera (JB):                37.04\n",
       "Prob(Q):                              0.02   Prob(JB):                         0.00\n",
       "Heteroskedasticity (H):               3.29   Skew:                            -0.18\n",
       "Prob(H) (two-sided):                  0.00   Kurtosis:                         4.32\n",
       "===================================================================================\n",
       "\n",
       "Warnings:\n",
       "[1] Covariance matrix calculated using the outer product of gradients (complex-step).\n",
       "\"\"\""
      ]
     },
     "execution_count": 54,
     "metadata": {},
     "output_type": "execute_result"
    }
   ],
   "source": [
    "auto_arima(df['Monthly beer production'], seasonal=True, m=12, max_p=7, max_q=7, max_P=4,\n",
    "          max_D=4, max_Q=4).summary()"
   ]
  },
  {
   "cell_type": "code",
   "execution_count": 56,
   "metadata": {},
   "outputs": [
    {
     "data": {
      "text/html": [
       "<table class=\"simpletable\">\n",
       "<caption>Statespace Model Results</caption>\n",
       "<tr>\n",
       "  <th>Dep. Variable:</th>       <td>Monthly beer production</td>    <th>  No. Observations:  </th>    <td>464</td>   \n",
       "</tr>\n",
       "<tr>\n",
       "  <th>Model:</th>           <td>SARIMAX(2, 1, 1)x(4, 0, 3, 12)</td> <th>  Log Likelihood     </th> <td>-1707.862</td>\n",
       "</tr>\n",
       "<tr>\n",
       "  <th>Date:</th>                   <td>Tue, 11 Feb 2020</td>        <th>  AIC                </th> <td>3437.725</td> \n",
       "</tr>\n",
       "<tr>\n",
       "  <th>Time:</th>                       <td>13:14:26</td>            <th>  BIC                </th> <td>3483.240</td> \n",
       "</tr>\n",
       "<tr>\n",
       "  <th>Sample:</th>                    <td>01-01-1956</td>           <th>  HQIC               </th> <td>3455.643</td> \n",
       "</tr>\n",
       "<tr>\n",
       "  <th></th>                          <td>- 08-01-1994</td>          <th>                     </th>     <td> </td>    \n",
       "</tr>\n",
       "<tr>\n",
       "  <th>Covariance Type:</th>               <td>opg</td>              <th>                     </th>     <td> </td>    \n",
       "</tr>\n",
       "</table>\n",
       "<table class=\"simpletable\">\n",
       "<tr>\n",
       "      <td></td>        <th>coef</th>     <th>std err</th>      <th>z</th>      <th>P>|z|</th>  <th>[0.025</th>    <th>0.975]</th>  \n",
       "</tr>\n",
       "<tr>\n",
       "  <th>ar.L1</th>    <td>   -0.1198</td> <td>    0.041</td> <td>   -2.913</td> <td> 0.004</td> <td>   -0.200</td> <td>   -0.039</td>\n",
       "</tr>\n",
       "<tr>\n",
       "  <th>ar.L2</th>    <td>   -0.1670</td> <td>    0.044</td> <td>   -3.807</td> <td> 0.000</td> <td>   -0.253</td> <td>   -0.081</td>\n",
       "</tr>\n",
       "<tr>\n",
       "  <th>ma.L1</th>    <td>   -0.8455</td> <td>    0.027</td> <td>  -30.846</td> <td> 0.000</td> <td>   -0.899</td> <td>   -0.792</td>\n",
       "</tr>\n",
       "<tr>\n",
       "  <th>ar.S.L12</th> <td>    1.7682</td> <td>    0.117</td> <td>   15.141</td> <td> 0.000</td> <td>    1.539</td> <td>    1.997</td>\n",
       "</tr>\n",
       "<tr>\n",
       "  <th>ar.S.L24</th> <td>   -1.6311</td> <td>    0.226</td> <td>   -7.223</td> <td> 0.000</td> <td>   -2.074</td> <td>   -1.188</td>\n",
       "</tr>\n",
       "<tr>\n",
       "  <th>ar.S.L36</th> <td>    0.8022</td> <td>    0.178</td> <td>    4.518</td> <td> 0.000</td> <td>    0.454</td> <td>    1.150</td>\n",
       "</tr>\n",
       "<tr>\n",
       "  <th>ar.S.L48</th> <td>    0.0595</td> <td>    0.064</td> <td>    0.927</td> <td> 0.354</td> <td>   -0.066</td> <td>    0.185</td>\n",
       "</tr>\n",
       "<tr>\n",
       "  <th>ma.S.L12</th> <td>   -1.5659</td> <td>    0.128</td> <td>  -12.264</td> <td> 0.000</td> <td>   -1.816</td> <td>   -1.316</td>\n",
       "</tr>\n",
       "<tr>\n",
       "  <th>ma.S.L24</th> <td>    1.4033</td> <td>    0.215</td> <td>    6.536</td> <td> 0.000</td> <td>    0.982</td> <td>    1.824</td>\n",
       "</tr>\n",
       "<tr>\n",
       "  <th>ma.S.L36</th> <td>   -0.6620</td> <td>    0.124</td> <td>   -5.325</td> <td> 0.000</td> <td>   -0.906</td> <td>   -0.418</td>\n",
       "</tr>\n",
       "<tr>\n",
       "  <th>sigma2</th>   <td>   83.5750</td> <td>    4.890</td> <td>   17.090</td> <td> 0.000</td> <td>   73.990</td> <td>   93.160</td>\n",
       "</tr>\n",
       "</table>\n",
       "<table class=\"simpletable\">\n",
       "<tr>\n",
       "  <th>Ljung-Box (Q):</th>          <td>92.60</td> <th>  Jarque-Bera (JB):  </th> <td>41.26</td>\n",
       "</tr>\n",
       "<tr>\n",
       "  <th>Prob(Q):</th>                <td>0.00</td>  <th>  Prob(JB):          </th> <td>0.00</td> \n",
       "</tr>\n",
       "<tr>\n",
       "  <th>Heteroskedasticity (H):</th> <td>4.09</td>  <th>  Skew:              </th> <td>-0.30</td>\n",
       "</tr>\n",
       "<tr>\n",
       "  <th>Prob(H) (two-sided):</th>    <td>0.00</td>  <th>  Kurtosis:          </th> <td>4.34</td> \n",
       "</tr>\n",
       "</table><br/><br/>Warnings:<br/>[1] Covariance matrix calculated using the outer product of gradients (complex-step)."
      ],
      "text/plain": [
       "<class 'statsmodels.iolib.summary.Summary'>\n",
       "\"\"\"\n",
       "                                 Statespace Model Results                                 \n",
       "==========================================================================================\n",
       "Dep. Variable:            Monthly beer production   No. Observations:                  464\n",
       "Model:             SARIMAX(2, 1, 1)x(4, 0, 3, 12)   Log Likelihood               -1707.862\n",
       "Date:                            Tue, 11 Feb 2020   AIC                           3437.725\n",
       "Time:                                    13:14:26   BIC                           3483.240\n",
       "Sample:                                01-01-1956   HQIC                          3455.643\n",
       "                                     - 08-01-1994                                         \n",
       "Covariance Type:                              opg                                         \n",
       "==============================================================================\n",
       "                 coef    std err          z      P>|z|      [0.025      0.975]\n",
       "------------------------------------------------------------------------------\n",
       "ar.L1         -0.1198      0.041     -2.913      0.004      -0.200      -0.039\n",
       "ar.L2         -0.1670      0.044     -3.807      0.000      -0.253      -0.081\n",
       "ma.L1         -0.8455      0.027    -30.846      0.000      -0.899      -0.792\n",
       "ar.S.L12       1.7682      0.117     15.141      0.000       1.539       1.997\n",
       "ar.S.L24      -1.6311      0.226     -7.223      0.000      -2.074      -1.188\n",
       "ar.S.L36       0.8022      0.178      4.518      0.000       0.454       1.150\n",
       "ar.S.L48       0.0595      0.064      0.927      0.354      -0.066       0.185\n",
       "ma.S.L12      -1.5659      0.128    -12.264      0.000      -1.816      -1.316\n",
       "ma.S.L24       1.4033      0.215      6.536      0.000       0.982       1.824\n",
       "ma.S.L36      -0.6620      0.124     -5.325      0.000      -0.906      -0.418\n",
       "sigma2        83.5750      4.890     17.090      0.000      73.990      93.160\n",
       "===================================================================================\n",
       "Ljung-Box (Q):                       92.60   Jarque-Bera (JB):                41.26\n",
       "Prob(Q):                              0.00   Prob(JB):                         0.00\n",
       "Heteroskedasticity (H):               4.09   Skew:                            -0.30\n",
       "Prob(H) (two-sided):                  0.00   Kurtosis:                         4.34\n",
       "===================================================================================\n",
       "\n",
       "Warnings:\n",
       "[1] Covariance matrix calculated using the outer product of gradients (complex-step).\n",
       "\"\"\""
      ]
     },
     "execution_count": 56,
     "metadata": {},
     "output_type": "execute_result"
    }
   ],
   "source": [
    "# Stata ARIMA 아리마 모형 (비정상적 데이터 분석이 가능)\n",
    "# AR, MA, ARMA -> 정상성을 띈 시계열 분석 모델\n",
    "train_data = df[:len(df)-12]\n",
    "test_data = df[len(df)-12:]\n",
    "arima_model = SARIMAX(train_data['Monthly beer production'],\n",
    "                     order = (2,1,1), seasonal_order=(4,0,3,12))\n",
    "arima_result = arima_model.fit()\n",
    "arima_result.summary()"
   ]
  },
  {
   "cell_type": "code",
   "execution_count": 57,
   "metadata": {},
   "outputs": [
    {
     "data": {
      "text/plain": [
       "1994-09-01    133.992296\n",
       "1994-10-01    157.785179\n",
       "1994-11-01    181.953065\n",
       "1994-12-01    183.559675\n",
       "1995-01-01    144.792369\n",
       "1995-02-01    136.760447\n",
       "1995-03-01    151.258433\n",
       "1995-04-01    133.024535\n",
       "1995-05-01    137.839346\n",
       "1995-06-01    120.595409\n",
       "1995-07-01    128.384947\n",
       "1995-08-01    138.849813\n",
       "Freq: MS, Name: ARIMA Predictions, dtype: float64"
      ]
     },
     "execution_count": 57,
     "metadata": {},
     "output_type": "execute_result"
    }
   ],
   "source": [
    "arima_pred = arima_result.predict(start=len(train_data),\n",
    "                                 end=len(df)-1, typ='levels').rename('ARIMA Predictions')\n",
    "arima_pred"
   ]
  },
  {
   "cell_type": "code",
   "execution_count": 58,
   "metadata": {},
   "outputs": [
    {
     "data": {
      "text/plain": [
       "<matplotlib.axes._subplots.AxesSubplot at 0x21fca6292c8>"
      ]
     },
     "execution_count": 58,
     "metadata": {},
     "output_type": "execute_result"
    },
    {
     "data": {
      "image/png": "[encoded data removed]",
      "text/plain": [
       "<Figure size 1152x360 with 1 Axes>"
      ]
     },
     "metadata": {
      "needs_background": "light"
     },
     "output_type": "display_data"
    }
   ],
   "source": [
    "test_data['Monthly beer production'].plot(figsize=(16,5), legend=True)\n",
    "arima_pred.plot(legend=True)"
   ]
  },
  {
   "cell_type": "code",
   "execution_count": 60,
   "metadata": {},
   "outputs": [
    {
     "name": "stdout",
     "output_type": "stream",
     "text": [
      "MSE Error: 65.56196226933746\n",
      "RMSE Error: 8.097034165009893\n",
      "Mean: 136.39537815126045\n"
     ]
    }
   ],
   "source": [
    "arima_rmse_error = rmse(test_data['Monthly beer production'], arima_pred)\n",
    "arima_mse_error = arima_rmse_error**2\n",
    "mean_value = df['Monthly beer production'].mean()\n",
    "\n",
    "print(f'MSE Error: {arima_mse_error}\\nRMSE Error: {arima_rmse_error}\\nMean: {mean_value}')"
   ]
  },
  {
   "cell_type": "code",
   "execution_count": 61,
   "metadata": {},
   "outputs": [],
   "source": [
    "test_data['ARIMA_Predictions'] = arima_pred"
   ]
  },
  {
   "cell_type": "markdown",
   "metadata": {},
   "source": [
    "# LSTM  forecast"
   ]
  },
  {
   "cell_type": "code",
   "execution_count": 62,
   "metadata": {},
   "outputs": [],
   "source": [
    "from sklearn.preprocessing import MinMaxScaler\n",
    "scaler = MinMaxScaler()\n",
    "\n",
    "scaler.fit(train_data)\n",
    "scaled_train_data = scaler.transform(train_data)\n",
    "scaled_test_data = scaler.transform(test_data)"
   ]
  },
  {
   "cell_type": "code",
   "execution_count": 64,
   "metadata": {},
   "outputs": [
    {
     "name": "stdout",
     "output_type": "stream",
     "text": [
      "_________________________________________________________________\n",
      "Layer (type)                 Output Shape              Param #   \n",
      "=================================================================\n",
      "lstm_1 (LSTM)                (None, 200)               161600    \n",
      "_________________________________________________________________\n",
      "dense_3 (Dense)              (None, 1)                 201       \n",
      "=================================================================\n",
      "Total params: 161,801\n",
      "Trainable params: 161,801\n",
      "Non-trainable params: 0\n",
      "_________________________________________________________________\n"
     ]
    }
   ],
   "source": [
    "from keras.preprocessing.sequence import TimeseriesGenerator\n",
    "\n",
    "n_input = 12\n",
    "n_features = 1\n",
    "generator = TimeseriesGenerator(scaled_train_data, scaled_train_data, length=n_input, batch_size=1)\n",
    "\n",
    "from keras.models import Sequential\n",
    "from keras.layers import Dense\n",
    "from keras.layers import LSTM\n",
    "\n",
    "lstm_model = Sequential()\n",
    "lstm_model.add(LSTM(200, activation='relu', input_shape=(n_input, n_features)))\n",
    "lstm_model.add(Dense(1))\n",
    "lstm_model.compile(optimizer='adam', loss='mse')\n",
    "lstm_model.summary()"
   ]
  },
  {
   "cell_type": "code",
   "execution_count": 65,
   "metadata": {},
   "outputs": [
    {
     "name": "stdout",
     "output_type": "stream",
     "text": [
      "WARNING:tensorflow:From C:\\Users\\ICT01_13\\Anaconda3\\lib\\site-packages\\tensorflow_core\\python\\ops\\math_grad.py:1424: where (from tensorflow.python.ops.array_ops) is deprecated and will be removed in a future version.\n",
      "Instructions for updating:\n",
      "Use tf.where in 2.0, which has the same broadcast rule as np.where\n",
      "Epoch 1/20\n",
      "452/452 [==============================] - 10s 21ms/step - loss: 0.0253 0s - loss: 0.025\n",
      "Epoch 2/20\n",
      "452/452 [==============================] - 9s 20ms/step - loss: 0.0148: 0s - loss:\n",
      "Epoch 3/20\n",
      "452/452 [==============================] - 9s 20ms/step - loss: 0.0116\n",
      "Epoch 4/20\n",
      "452/452 [==============================] - 9s 20ms/step - loss: 0.0088\n",
      "Epoch 5/20\n",
      "452/452 [==============================] - 9s 20ms/step - loss: 0.0077\n",
      "Epoch 6/20\n",
      "452/452 [==============================] - 9s 20ms/step - loss: 0.0077\n",
      "Epoch 7/20\n",
      "452/452 [==============================] - 9s 20ms/step - loss: 0.0080\n",
      "Epoch 8/20\n",
      "452/452 [==============================] - 9s 21ms/step - loss: 0.0075\n",
      "Epoch 9/20\n",
      "452/452 [==============================] - 9s 20ms/step - loss: 0.0077\n",
      "Epoch 10/20\n",
      "452/452 [==============================] - 9s 20ms/step - loss: 0.0067\n",
      "Epoch 11/20\n",
      "452/452 [==============================] - 9s 21ms/step - loss: 0.0079\n",
      "Epoch 12/20\n",
      "452/452 [==============================] - 9s 21ms/step - loss: 0.0065\n",
      "Epoch 13/20\n",
      "452/452 [==============================] - 9s 21ms/step - loss: 0.0067\n",
      "Epoch 14/20\n",
      "452/452 [==============================] - 9s 21ms/step - loss: 0.0068\n",
      "Epoch 15/20\n",
      "452/452 [==============================] - 9s 21ms/step - loss: 0.0066\n",
      "Epoch 16/20\n",
      "452/452 [==============================] - 9s 21ms/step - loss: 0.0065\n",
      "Epoch 17/20\n",
      "452/452 [==============================] - 9s 21ms/step - loss: 0.0062\n",
      "Epoch 18/20\n",
      "452/452 [==============================] - 9s 20ms/step - loss: 0.0065\n",
      "Epoch 19/20\n",
      "452/452 [==============================] - 9s 20ms/step - loss: 0.0065\n",
      "Epoch 20/20\n",
      "452/452 [==============================] - 9s 20ms/step - loss: 0.0070: 0\n"
     ]
    },
    {
     "data": {
      "text/plain": [
       "<keras.callbacks.History at 0x21fba55e848>"
      ]
     },
     "execution_count": 65,
     "metadata": {},
     "output_type": "execute_result"
    }
   ],
   "source": [
    "lstm_model.fit_generator(generator, epochs=20)"
   ]
  },
  {
   "cell_type": "code",
   "execution_count": 66,
   "metadata": {},
   "outputs": [
    {
     "data": {
      "text/plain": [
       "[<matplotlib.lines.Line2D at 0x21f1ed04548>]"
      ]
     },
     "execution_count": 66,
     "metadata": {},
     "output_type": "execute_result"
    },
    {
     "data": {
      "image/png": "[encoded data removed]",
      "text/plain": [
       "<Figure size 864x288 with 1 Axes>"
      ]
     },
     "metadata": {
      "needs_background": "light"
     },
     "output_type": "display_data"
    }
   ],
   "source": [
    "losses_lstm = lstm_model.history.history['loss']\n",
    "plt.figure(figsize=(12,4))\n",
    "plt.xlabel('Epochs')\n",
    "plt.ylabel('Loss')\n",
    "plt.xticks(np.arange(0,21,1))\n",
    "plt.plot(range(len(losses_lstm)), losses_lstm)"
   ]
  },
  {
   "cell_type": "code",
   "execution_count": 68,
   "metadata": {},
   "outputs": [],
   "source": [
    "lstm_predictions_scaled = list()\n",
    "batch = scaled_train_data[-n_input:]\n",
    "current_batch = batch.reshape((1, n_input, n_features))\n",
    "\n",
    "for i in range(len(test_data)):\n",
    "    lstm_pred = lstm_model.predict(current_batch)[0]\n",
    "    lstm_predictions_scaled.append(lstm_pred)\n",
    "    current_batch = np.append(current_batch[:,1:,:],\n",
    "                             [[lstm_pred]], axis=1)"
   ]
  },
  {
   "cell_type": "code",
   "execution_count": 69,
   "metadata": {},
   "outputs": [
    {
     "data": {
      "text/plain": [
       "[array([0.5231276], dtype=float32),\n",
       " array([0.5946881], dtype=float32),\n",
       " array([0.69163775], dtype=float32),\n",
       " array([0.6886584], dtype=float32),\n",
       " array([0.55562246], dtype=float32),\n",
       " array([0.51400036], dtype=float32),\n",
       " array([0.5685879], dtype=float32),\n",
       " array([0.43877816], dtype=float32),\n",
       " array([0.4356246], dtype=float32),\n",
       " array([0.4159373], dtype=float32),\n",
       " array([0.43923897], dtype=float32),\n",
       " array([0.49977493], dtype=float32)]"
      ]
     },
     "execution_count": 69,
     "metadata": {},
     "output_type": "execute_result"
    }
   ],
   "source": [
    "lstm_predictions_scaled"
   ]
  },
  {
   "cell_type": "code",
   "execution_count": 70,
   "metadata": {},
   "outputs": [
    {
     "data": {
      "text/plain": [
       "array([[144.83852516],\n",
       "       [155.78728198],\n",
       "       [170.62057643],\n",
       "       [170.16473769],\n",
       "       [149.81023614],\n",
       "       [143.4420545 ],\n",
       "       [151.79394858],\n",
       "       [131.93305879],\n",
       "       [131.45056372],\n",
       "       [128.43840759],\n",
       "       [132.00356172],\n",
       "       [141.26556473]])"
      ]
     },
     "execution_count": 70,
     "metadata": {},
     "output_type": "execute_result"
    }
   ],
   "source": [
    "lstm_predictions = scaler.inverse_transform(lstm_predictions_scaled)\n",
    "lstm_predictions"
   ]
  },
  {
   "cell_type": "code",
   "execution_count": 72,
   "metadata": {
    "scrolled": true
   },
   "outputs": [
    {
     "data": {
      "text/html": [
       "<div>\n",
       "<style scoped>\n",
       "    .dataframe tbody tr th:only-of-type {\n",
       "        vertical-align: middle;\n",
       "    }\n",
       "\n",
       "    .dataframe tbody tr th {\n",
       "        vertical-align: top;\n",
       "    }\n",
       "\n",
       "    .dataframe thead th {\n",
       "        text-align: right;\n",
       "    }\n",
       "</style>\n",
       "<table border=\"1\" class=\"dataframe\">\n",
       "  <thead>\n",
       "    <tr style=\"text-align: right;\">\n",
       "      <th></th>\n",
       "      <th>Monthly beer production</th>\n",
       "      <th>ARIMA_Predictions</th>\n",
       "      <th>LSTM_predictions</th>\n",
       "    </tr>\n",
       "    <tr>\n",
       "      <th>Month</th>\n",
       "      <th></th>\n",
       "      <th></th>\n",
       "      <th></th>\n",
       "    </tr>\n",
       "  </thead>\n",
       "  <tbody>\n",
       "    <tr>\n",
       "      <th>1994-09-01</th>\n",
       "      <td>143.0</td>\n",
       "      <td>133.992296</td>\n",
       "      <td>144.838525</td>\n",
       "    </tr>\n",
       "    <tr>\n",
       "      <th>1994-10-01</th>\n",
       "      <td>160.0</td>\n",
       "      <td>157.785179</td>\n",
       "      <td>155.787282</td>\n",
       "    </tr>\n",
       "    <tr>\n",
       "      <th>1994-11-01</th>\n",
       "      <td>190.0</td>\n",
       "      <td>181.953065</td>\n",
       "      <td>170.620576</td>\n",
       "    </tr>\n",
       "    <tr>\n",
       "      <th>1994-12-01</th>\n",
       "      <td>182.0</td>\n",
       "      <td>183.559675</td>\n",
       "      <td>170.164738</td>\n",
       "    </tr>\n",
       "    <tr>\n",
       "      <th>1995-01-01</th>\n",
       "      <td>138.0</td>\n",
       "      <td>144.792369</td>\n",
       "      <td>149.810236</td>\n",
       "    </tr>\n",
       "    <tr>\n",
       "      <th>1995-02-01</th>\n",
       "      <td>136.0</td>\n",
       "      <td>136.760447</td>\n",
       "      <td>143.442054</td>\n",
       "    </tr>\n",
       "    <tr>\n",
       "      <th>1995-03-01</th>\n",
       "      <td>152.0</td>\n",
       "      <td>151.258433</td>\n",
       "      <td>151.793949</td>\n",
       "    </tr>\n",
       "    <tr>\n",
       "      <th>1995-04-01</th>\n",
       "      <td>127.0</td>\n",
       "      <td>133.024535</td>\n",
       "      <td>131.933059</td>\n",
       "    </tr>\n",
       "    <tr>\n",
       "      <th>1995-05-01</th>\n",
       "      <td>151.0</td>\n",
       "      <td>137.839346</td>\n",
       "      <td>131.450564</td>\n",
       "    </tr>\n",
       "    <tr>\n",
       "      <th>1995-06-01</th>\n",
       "      <td>130.0</td>\n",
       "      <td>120.595409</td>\n",
       "      <td>128.438408</td>\n",
       "    </tr>\n",
       "    <tr>\n",
       "      <th>1995-07-01</th>\n",
       "      <td>119.0</td>\n",
       "      <td>128.384947</td>\n",
       "      <td>132.003562</td>\n",
       "    </tr>\n",
       "    <tr>\n",
       "      <th>1995-08-01</th>\n",
       "      <td>153.0</td>\n",
       "      <td>138.849813</td>\n",
       "      <td>141.265565</td>\n",
       "    </tr>\n",
       "  </tbody>\n",
       "</table>\n",
       "</div>"
      ],
      "text/plain": [
       "            Monthly beer production  ARIMA_Predictions  LSTM_predictions\n",
       "Month                                                                   \n",
       "1994-09-01                    143.0         133.992296        144.838525\n",
       "1994-10-01                    160.0         157.785179        155.787282\n",
       "1994-11-01                    190.0         181.953065        170.620576\n",
       "1994-12-01                    182.0         183.559675        170.164738\n",
       "1995-01-01                    138.0         144.792369        149.810236\n",
       "1995-02-01                    136.0         136.760447        143.442054\n",
       "1995-03-01                    152.0         151.258433        151.793949\n",
       "1995-04-01                    127.0         133.024535        131.933059\n",
       "1995-05-01                    151.0         137.839346        131.450564\n",
       "1995-06-01                    130.0         120.595409        128.438408\n",
       "1995-07-01                    119.0         128.384947        132.003562\n",
       "1995-08-01                    153.0         138.849813        141.265565"
      ]
     },
     "execution_count": 72,
     "metadata": {},
     "output_type": "execute_result"
    }
   ],
   "source": [
    "test_data['LSTM_predictions'] = lstm_predictions\n",
    "test_data"
   ]
  },
  {
   "cell_type": "code",
   "execution_count": 74,
   "metadata": {},
   "outputs": [
    {
     "data": {
      "text/plain": [
       "<matplotlib.axes._subplots.AxesSubplot at 0x21f1ebb1a48>"
      ]
     },
     "execution_count": 74,
     "metadata": {},
     "output_type": "execute_result"
    },
    {
     "data": {
      "image/png": "[encoded data removed]",
      "text/plain": [
       "<Figure size 1152x360 with 1 Axes>"
      ]
     },
     "metadata": {
      "needs_background": "light"
     },
     "output_type": "display_data"
    }
   ],
   "source": [
    "test_data['Monthly beer production'].plot(figsize=(16,5), legend=True)\n",
    "test_data['LSTM_predictions'].plot(legend=True)"
   ]
  },
  {
   "cell_type": "code",
   "execution_count": 76,
   "metadata": {},
   "outputs": [
    {
     "name": "stdout",
     "output_type": "stream",
     "text": [
      "MSE Error: 120.61788811722097\n",
      "RMSE Error: 10.982617543974705\n",
      "Mean: 136.39537815126045\n"
     ]
    }
   ],
   "source": [
    "lstm_rmse_error = rmse(test_data['Monthly beer production'], test_data['LSTM_predictions'])\n",
    "lstm_mse_error = lstm_rmse_error**2\n",
    "mean_value = df['Monthly beer production'].mean()\n",
    "\n",
    "print(f'MSE Error: {lstm_mse_error}\\nRMSE Error: {lstm_rmse_error}\\nMean: {mean_value}')"
   ]
  },
  {
   "cell_type": "markdown",
   "metadata": {},
   "source": [
    "# Embeddings\n",
    "https://jovianlin.io/embeddings-in-keras/"
   ]
  },
  {
   "cell_type": "code",
   "execution_count": 3,
   "metadata": {},
   "outputs": [
    {
     "name": "stdout",
     "output_type": "stream",
     "text": [
      "[[4, 4], [9, 7], [8, 8], [5, 7], [8], [3], [1, 8], [5, 9], [1, 7], [8, 2, 4, 1]]\n",
      "[[4 4 0 0 0]\n",
      " [9 7 0 0 0]\n",
      " [8 8 0 0 0]\n",
      " [5 7 0 0 0]\n",
      " [8 0 0 0 0]\n",
      " [3 0 0 0 0]\n",
      " [1 8 0 0 0]\n",
      " [5 9 0 0 0]\n",
      " [1 7 0 0 0]\n",
      " [8 2 4 1 0]]\n"
     ]
    }
   ],
   "source": [
    "import re\n",
    "import numpy as np\n",
    "from keras.preprocessing.sequence import pad_sequences\n",
    "from keras.preprocessing.text import one_hot\n",
    "from keras.models import Sequential\n",
    "from keras.layers import Embedding, Flatten, Dense\n",
    "\n",
    "docs = ['Well done!', 'Good work', 'Great effort', 'nice work', 'Excellent!',\n",
    "        'Weak', 'Poor effort!', 'not good', 'poor work', 'Could have done better.']\n",
    "labels = [1, 1, 1, 1, 1, 0, 0, 0, 0, 0] \n",
    "\n",
    "own_embedding_vocab_size = 10\n",
    "encoded_docs_oe = [one_hot(d, own_embedding_vocab_size) for d in docs]\n",
    "print(encoded_docs_oe)\n",
    "\n",
    "maxlen = 5\n",
    "padded_docs_oe = pad_sequences(encoded_docs_oe, maxlen=maxlen, padding='post')\n",
    "print(padded_docs_oe)"
   ]
  },
  {
   "cell_type": "code",
   "execution_count": 82,
   "metadata": {},
   "outputs": [
    {
     "name": "stdout",
     "output_type": "stream",
     "text": [
      "WARNING:tensorflow:From C:\\Users\\ICT01_13\\Anaconda3\\lib\\site-packages\\keras\\backend\\tensorflow_backend.py:3376: The name tf.log is deprecated. Please use tf.math.log instead.\n",
      "\n",
      "_________________________________________________________________\n",
      "Layer (type)                 Output Shape              Param #   \n",
      "=================================================================\n",
      "embedding_2 (Embedding)      (None, 5, 32)             320       \n",
      "_________________________________________________________________\n",
      "flatten_2 (Flatten)          (None, 160)               0         \n",
      "_________________________________________________________________\n",
      "dense_5 (Dense)              (None, 1)                 161       \n",
      "=================================================================\n",
      "Total params: 481\n",
      "Trainable params: 481\n",
      "Non-trainable params: 0\n",
      "_________________________________________________________________\n",
      "None\n",
      "Accuracy: 0.900\n"
     ]
    }
   ],
   "source": [
    "model = Sequential()\n",
    "model.add(Embedding(input_dim=own_embedding_vocab_size, output_dim=32, input_length=maxlen))\n",
    "model.add(Flatten())\n",
    "model.add(Dense(1, activation='sigmoid'))\n",
    "\n",
    "model.compile(optimizer='adam', loss='binary_crossentropy', metrics=['acc'])\n",
    "print(model.summary())\n",
    "model.fit(padded_docs_oe, labels, epochs=50, verbose=0)\n",
    "loss, accuracy = model.evaluate(padded_docs_oe, labels, verbose=0)\n",
    "print('Accuracy: %0.3f' % accuracy)"
   ]
  },
  {
   "cell_type": "code",
   "execution_count": 101,
   "metadata": {},
   "outputs": [
    {
     "data": {
      "text/plain": [
       "array([[0.5235652]], dtype=float32)"
      ]
     },
     "execution_count": 101,
     "metadata": {},
     "output_type": "execute_result"
    }
   ],
   "source": [
    "d = \"good work\"\n",
    "encoded_docs_oe_t = [one_hot(d, own_embedding_vocab_size)]\n",
    "encoded_docs_oe_t\n",
    "padded_docs_oe_t = pad_sequences(encoded_docs_oe_t, maxlen=maxlen, padding='post')                     \n",
    "padded_docs_oe_t\n",
    "model.predict(padded_docs_oe_t)"
   ]
  },
  {
   "cell_type": "code",
   "execution_count": 102,
   "metadata": {},
   "outputs": [
    {
     "data": {
      "text/plain": [
       "array([[1.]], dtype=float32)"
      ]
     },
     "execution_count": 102,
     "metadata": {},
     "output_type": "execute_result"
    }
   ],
   "source": [
    "word = \"Good work\"\n",
    "word_docs_oe = [one_hot(word, own_embedding_vocab_size)]\n",
    "word_oe = pad_sequences(word_docs_oe, maxlen=maxlen, padding='post')\n",
    "pred = model.predict(word_oe)\n",
    "import numpy as np\n",
    "np.round(pred)"
   ]
  },
  {
   "cell_type": "markdown",
   "metadata": {},
   "source": [
    "# tokenizer\n",
    "https://www.programcreek.com/python/example/97467/keras.datasets.reuters.load_data (ex.2)"
   ]
  },
  {
   "cell_type": "code",
   "execution_count": 4,
   "metadata": {},
   "outputs": [],
   "source": [
    "from keras.datasets import reuters\n",
    "from keras.utils import np_utils\n",
    "from keras.preprocessing.text import Tokenizer\n",
    "from functools import partial\n",
    "import numpy as np\n",
    "from keras.models import Sequential\n",
    "from keras.layers import Embedding, Flatten, Dense, Dropout\n",
    "\n",
    "#np_load_old = np.load\n",
    "#np.load = lambda *a, **k: np_load_old(*a, allow_pickle=True, **k)\n",
    "max_words = 1000\n",
    "batch_size = 100\n",
    "nb_epoch = 200\n",
    "\n",
    "(X_train, y_train), (X_test, y_test) = reuters.load_data(nb_words=max_words, test_split=0.2)\n",
    "#np.load = np_load_old\n",
    "\n",
    "nb_classes = np.max(y_train) + 1\n",
    "tokenizer = Tokenizer(nb_words = max_words)\n",
    "X_train = tokenizer.sequences_to_matrix(X_train, mode='binary')\n",
    "X_test = tokenizer.sequences_to_matrix(X_test, mode='binary')\n",
    "y_train = np_utils.to_categorical(y_train, nb_classes)\n",
    "y_test = np_utils.to_categorical(y_test, nb_classes)"
   ]
  },
  {
   "cell_type": "code",
   "execution_count": 11,
   "metadata": {},
   "outputs": [
    {
     "data": {
      "text/plain": [
       "(8982, 1000)"
      ]
     },
     "execution_count": 11,
     "metadata": {},
     "output_type": "execute_result"
    }
   ],
   "source": [
    "X_train.shape"
   ]
  },
  {
   "cell_type": "code",
   "execution_count": 7,
   "metadata": {},
   "outputs": [
    {
     "name": "stdout",
     "output_type": "stream",
     "text": [
      "WARNING:tensorflow:From C:\\Users\\ICT01_13\\Anaconda3\\lib\\site-packages\\keras\\backend\\tensorflow_backend.py:133: The name tf.placeholder_with_default is deprecated. Please use tf.compat.v1.placeholder_with_default instead.\n",
      "\n",
      "WARNING:tensorflow:From C:\\Users\\ICT01_13\\Anaconda3\\lib\\site-packages\\keras\\backend\\tensorflow_backend.py:3445: calling dropout (from tensorflow.python.ops.nn_ops) with keep_prob is deprecated and will be removed in a future version.\n",
      "Instructions for updating:\n",
      "Please use `rate` instead of `keep_prob`. Rate should be set to `rate = 1 - keep_prob`.\n",
      "WARNING:tensorflow:From C:\\Users\\ICT01_13\\Anaconda3\\lib\\site-packages\\keras\\optimizers.py:790: The name tf.train.Optimizer is deprecated. Please use tf.compat.v1.train.Optimizer instead.\n",
      "\n",
      "WARNING:tensorflow:From C:\\Users\\ICT01_13\\Anaconda3\\lib\\site-packages\\keras\\backend\\tensorflow_backend.py:3295: The name tf.log is deprecated. Please use tf.math.log instead.\n",
      "\n"
     ]
    }
   ],
   "source": [
    "model = Sequential()\n",
    "model.add(Dense(512, input_shape=(max_words,), activation='relu'))\n",
    "model.add(Dropout(0.5))\n",
    "model.add(Dense(nb_classes, activation='softmax'))\n",
    "model.compile(loss='categorical_crossentropy', optimizer='adam', metrics=['accuracy'])"
   ]
  },
  {
   "cell_type": "code",
   "execution_count": 10,
   "metadata": {},
   "outputs": [
    {
     "name": "stdout",
     "output_type": "stream",
     "text": [
      "WARNING:tensorflow:From C:\\Users\\ICT01_13\\Anaconda3\\lib\\site-packages\\tensorflow\\python\\ops\\math_grad.py:1250: add_dispatch_support.<locals>.wrapper (from tensorflow.python.ops.array_ops) is deprecated and will be removed in a future version.\n",
      "Instructions for updating:\n",
      "Use tf.where in 2.0, which has the same broadcast rule as np.where\n"
     ]
    },
    {
     "name": "stderr",
     "output_type": "stream",
     "text": [
      "C:\\Users\\ICT01_13\\Anaconda3\\lib\\site-packages\\ipykernel_launcher.py:2: UserWarning: The `nb_epoch` argument in `fit` has been renamed `epochs`.\n",
      "  \n"
     ]
    },
    {
     "name": "stdout",
     "output_type": "stream",
     "text": [
      "2246/2246 [==============================] - 0s 16us/step\n",
      "\n",
      "\n",
      "Model accuracy: 78.50%\n",
      "Model loss: 168.55%\n"
     ]
    }
   ],
   "source": [
    "history = model.fit(X_train, y_train, nb_epoch=nb_epoch,\n",
    "                   batch_size=batch_size, verbose=0, validation_split=0.1)\n",
    "score = model.evaluate(X_test, y_test, batch_size=batch_size, verbose=1)\n",
    "print('\\n\\nModel accuracy: %.2f%%' % (score[1]*100))\n",
    "print('Model loss: %.2f%%' % (score[0]))"
   ]
  },
  {
   "cell_type": "code",
   "execution_count": 13,
   "metadata": {},
   "outputs": [
    {
     "name": "stdout",
     "output_type": "stream",
     "text": [
      "Processing c:\\users\\ict01_13\\desktop\\kkyul\\jpype1-0.7.1-cp37-cp37m-win_amd64.whl\n"
     ]
    },
    {
     "name": "stderr",
     "output_type": "stream",
     "text": [
      "WARNING: Requirement 'JPype1-0.7.1-cp37-cp37m-win_amd64.whl' looks like a filename, but the file does not exist\n",
      "ERROR: Could not install packages due to an EnvironmentError: [Errno 2] No such file or directory: 'C:\\\\Users\\\\ICT01_13\\\\Desktop\\\\kkyul\\\\JPype1-0.7.1-cp37-cp37m-win_amd64.whl'\n",
      "\n"
     ]
    }
   ],
   "source": [
    "!pip install JPype1-0.7.1-cp37-cp37m-win_amd64.whl"
   ]
  },
  {
   "cell_type": "code",
   "execution_count": null,
   "metadata": {},
   "outputs": [],
   "source": []
  },
  {
   "cell_type": "code",
   "execution_count": 12,
   "metadata": {},
   "outputs": [
    {
     "data": {
      "text/plain": [
       "'\\n\\n\\n\\n\\n// flash 오류를 우회하기 위한 함수 추가\\nfunction _flash_removeCallback() {}\\n\\n검찰 “피고인들로서는 그렇게 주장할 수밖에… 법정서 밝히겠다”서울 서초구 서울중앙지검. 윤성호 기자검찰의 울산시장 선거개입 사건 수사 결과 재판에 넘겨진 백원우 민주연구원 부원장(전 청와대 민정비서관), 한병도 전 청와대 정무수석, 장환석 전 청와대 선임행정관이 11일 각자의 변호인을 통해 입장을 밝혔다. 이들은 공소사실이 “검찰의 주관적 추측과 예단으로 범벅돼 있다”고 주장했다. 또 “검찰 공소장에 문재인 대통령의 선거개입 관여 인상을 주는 표현이 있어 크게 우려된다”고도 했다.한 전 수석은 변호인 입장문을 통해 “지방선거 이전부터 임동호 후보로부터 공사의 직과 관련한 여러 요청을 먼저 받았다”고 밝혔다. 송철호 울산시장의 당선을 위해 당내 경쟁자를 매수하려 한 것이 아니라, 거꾸로 자리 요구를 받았다는 얘기다. 앞서 검찰은 한 전 수석이 임동호 전 더불어민주당 최고위원에게 공기업 사장 자리 등을 제공하겠다며 출마 포기를 권유했다고 결론짓고 한 전 수석을 공직선거법위반 혐의로 기소했다.임 전 최고위원 측도 한 전 수석의 주장에 동의했다. 임 전 최고위원 측 인사는 이날 국민일보와의 통화에서 “임 전 최고위원이 ‘오사카 총영사로 가 보고 싶다’고 처음에 이야기했다”며 “‘자리를 먼저 요청했다’고 표현할 수는 있을 것”이라고 말했다. 임 전 최고위원은 이후 최고위원 임기를 마칠 때의 회식 자리에서 한 전 수석에게 “오사카 총영사 자리를 한번 알아봤느냐”는 취지로 다시 물어봤다고 한다. 다만 선거 불출마를 조건으로 이야기를 나눈 적은 없었다는 입장이다.윤석열 검찰총장이 6일 서울 서초구 대검찰청에서 점심 식사를 위해 이동하다 창밖을 바라보고 있다. 윤성호 기자장 전 선임행정관은 2018년 지방선거 전 민간인이던 송철호 울산시장, 송병기 전 울산시 경제부시장 등과 식사를 하며 울산 지역 현안에 관해 대화를 나눈 사실은 인정했다. 다만 그는 “검찰 주장처럼 산재 모병원의 예비타당성조사 통과 가능성이나 발표 연기 등을 언급한 사실이 없다”고 주장했다. 그는 “만난 장소 자체가 공개된 장소라서, 이런 대화를 할 수 있는 상황도 아니었다”고 했다.당시 장 전 선임행정관과의 모임에 참석한 인사에 따르면 이들의 모임은 청와대 인근인 서울 종로의 한 식당에서 이뤄졌다. 장 전 선임행정관은 앞서 국민일보와의 통화에서 “송 시장 쪽에서 전화를 해서 2018년 1월 만났다”며 “울산 공공병원, 울산 외곽순환도로 등에 대해 이야기를 나눴다”고 했었다. 그는 “당시 송 시장이 지방선거 후보자였던 것을 몰랐다”며 “대통령을 모시는 비서관인데, 사전에 후보자임을 알았다면 그런 부적절한 자리에 갔겠느냐”고 했었다.백 부원장 등은 김기현 전 울산시장 낙선을 위한 하명수사가 진행됐다는 수사 결과에 대해서는 증거를 모르겠으며, 공모관계가 어떻게 인정될 수 있는지 의문이라는 입장을 밝혔다. 첩보 문건이 작성돼 울산경찰청까지 하달되는 2017년 10월부터 12월까지의 기간 동안 송 전 부시장, 문해주 전 청와대 행정관, 백 부원장, 박형철 전 청와대 반부패비서관, 황운하 전 울산경찰청장 등의 순차 공모가 과연 입증될 수 있느냐는 것이었다. 이들 모두가 지방선거를 6~8개월 앞두고 선거에 부당한 영향을 줄 고의를 갖고 있었다고 보기 힘들다는 것이 변호인들의 주장이다.백 부원장 등은 “공소사실은 검찰의 주관적 추측과 예단으로 범벅이 된 검찰 측 의견서라고 불러도 무방할 정도로 문제가 많다” “검찰의 공소사실이 마치 진실인양 논의가 진행되는 것은 민주주의 사회의 공론으로서는 심각한 문제”라고 지적했다. 이들은 “공소장에는 대통령에 대한 부적절한 언급을 통해, 대통령이 선거개입에 관여했다는 인상을 주려는 표현이 상당부분 포함돼 있다”고도 했다. 서울중앙지검 공공수사2부(부장검사 김태은)은 이들의 입장 발표에 대해 “피고인들로서는 그렇게 주장할 수밖에 없을 것”이라며 “법정에서 증거를 공개하겠다”고 했다.구승은 기자 gugiza@kmib.co.kr▶ 네이버에서 국민일보를 구독하세요(클릭)▶ 국민일보 페이스북 팔로우 ▶ TV국민일보 영상뉴스GoodNews paper ⓒ 국민일보(www.kmib.co.kr), 무단전재 및 재배포금지\\n\\t\\n'"
      ]
     },
     "execution_count": 12,
     "metadata": {},
     "output_type": "execute_result"
    }
   ],
   "source": [
    "import requests\n",
    "from bs4 import BeautifulSoup\n",
    "from wordcloud import WordCloud\n",
    "import matplotlib.pyplot as plt\n",
    "import nltk\n",
    "from konlpy.tag import Twitter\n",
    "res = requests.get('https://news.naver.com/main/read.nhn?mode=LSD&mid=shm&sid1=102&oid=005&aid=0001287033')\n",
    "soup = BeautifulSoup(res.content, 'html.parser')\n",
    "body = soup.find(id='articleBodyContents')\n",
    "a = body.get_text()\n",
    "a"
   ]
  },
  {
   "cell_type": "code",
   "execution_count": 10,
   "metadata": {},
   "outputs": [],
   "source": [
    "body"
   ]
  },
  {
   "cell_type": "code",
   "execution_count": 4,
   "metadata": {},
   "outputs": [
    {
     "data": {
      "text/plain": [
       "' [스포탈코리아] 정현준 인턴기자= 시즌 초 경기력과 완전히 달라졌다. 손흥민(26, 토트넘 홋스퍼)의 2018/2019 시즌이 점점 뜨거워진다. 손흥민은 지난달 첼시와 2018/2019 잉글랜드 프리미어리그(EPL) 13라운드에서 50m를 질주하는 원더골을 터트렸다. 손흥민의 놀라운 득점에 현지 언론은 찬사를 보냈고, 팬들은 그의 경기력을 높게 평가하며 부활을 기대했다. 12월에 접어들자 폭발력이 한층 강력해졌다. 이달 초 토트넘은 아스널에 2-4로 역전패했지만, 손흥민은 페널티킥을 얻어내며 공격진에서 두각을 드러냈다. 시작에 불과했다. 사우샘프턴-레스터 시티를 상대로 2경기 연속골을 작렬하며 물오른 기량을 과시했다. 특히 레스터전에서는 혼자서 1골 1도움을 올리며 토트넘에 2-0 승리를 선물했다. 손흥민은 측면과 최전방, 어느 자리에 배치해도 최상의 경기력을 펼쳤다. 아스널과 카라바오컵 8강전에서 최전방 공격수로 나서 경기 20분 만에 선제 결승골을 터트렸다. 이 골을 기점으로 아스널은 급격히 무너졌고, 그는 북런던 더비 9경기 만에 첫 골을 신고하며 앞서 당한 패배를 설욕했다. 손흥민의 기세가 절정에 달하자 각 팀의 견제도 심해졌다. 지난 주말 에버턴은 공식 홈페이지를 통해 손흥민을 토트넘의 주요 선수로 지목하며 위협적인 존재로 평가하며 만반의 준비를 했으나 역부족이었다. 손흥민은 에버턴의 실수를 놓치지 않고 동점골을 터트리더니 추가골에 이어 해리 케인의 득점까지 도와 MOM(Man Of the Match)으로 선정됐다. 27일(한국시간) 본머스도 손흥민에게 무릎을 꿇었다. 손흥민은 전반 23분 카일 워커 피터스의 패스를 받아 오른발 슈팅으로 골문을 뚫었고, 후반 25분에는 골키퍼가 모우라의 슈팅을 쳐내면서 흘린 공을 차분히 밀어 넣어 완승 발판을 만들었다. 2경기 연속 멀티골에 토트넘은 환호했고, 마우리시오 포체티노 감독은 “어메이징”이라는 표현으로 손흥민을 극찬했다. 시즌 초 부진을 12월에 제대로 풀고 있다. 손흥민은 대표팀과 소속팀을 왕래하면서 체력 부족을 호소했다. 그사이 모우라, 에릭 라멜라 등 경쟁자들이 좋은 모습을 보여 자리가 흔들렸고, 교체로 투입되는 경우도 많아졌다. 하지만 손흥민은 조급해하지 않았고 이달에만 리그 6골 3도움, 컵 대회 포함 7골 3도움을 폭발시켜 클래스를 증명했다. 손흥민은 오는 30일 울버햄턴 원더러스와 EPL 20라운드를 마지막으로 한 해의 마침표를 찍는다. 눈부신 12월을 보낸 그는 EPL 이달의 선수 유력 후보로 꼽히고 있다. 사진=게티이미지코리아'"
      ]
     },
     "execution_count": 4,
     "metadata": {},
     "output_type": "execute_result"
    }
   ],
   "source": [
    "text = \" \".join(p.get_text() for p in body.find_all('p'))\n",
    "text"
   ]
  },
  {
   "cell_type": "code",
   "execution_count": 2,
   "metadata": {},
   "outputs": [
    {
     "ename": "NameError",
     "evalue": "name 'tmp_data' is not defined",
     "output_type": "error",
     "traceback": [
      "\u001b[1;31m---------------------------------------------------------------------------\u001b[0m",
      "\u001b[1;31mNameError\u001b[0m                                 Traceback (most recent call last)",
      "\u001b[1;32m<ipython-input-2-e4f75841574c>\u001b[0m in \u001b[0;36m<module>\u001b[1;34m\u001b[0m\n\u001b[0;32m      1\u001b[0m wordcloud = WordCloud(font_path='/Library/Fonts/NanumMyeongjo.ttf',\n\u001b[1;32m----> 2\u001b[1;33m                       background_color='white').generate_from_frequencies(tmp_data)\n\u001b[0m\u001b[0;32m      3\u001b[0m \u001b[0mplt\u001b[0m\u001b[1;33m.\u001b[0m\u001b[0mfigure\u001b[0m\u001b[1;33m(\u001b[0m\u001b[0mfigsize\u001b[0m\u001b[1;33m=\u001b[0m\u001b[1;33m(\u001b[0m\u001b[1;36m16\u001b[0m\u001b[1;33m,\u001b[0m\u001b[1;36m8\u001b[0m\u001b[1;33m)\u001b[0m\u001b[1;33m)\u001b[0m\u001b[1;33m\u001b[0m\u001b[1;33m\u001b[0m\u001b[0m\n\u001b[0;32m      4\u001b[0m \u001b[0mplt\u001b[0m\u001b[1;33m.\u001b[0m\u001b[0mimshow\u001b[0m\u001b[1;33m(\u001b[0m\u001b[0mwordcloud\u001b[0m\u001b[1;33m)\u001b[0m\u001b[1;33m\u001b[0m\u001b[1;33m\u001b[0m\u001b[0m\n\u001b[0;32m      5\u001b[0m \u001b[0mplt\u001b[0m\u001b[1;33m.\u001b[0m\u001b[0maxis\u001b[0m\u001b[1;33m(\u001b[0m\u001b[1;34m'off'\u001b[0m\u001b[1;33m)\u001b[0m\u001b[1;33m\u001b[0m\u001b[1;33m\u001b[0m\u001b[0m\n",
      "\u001b[1;31mNameError\u001b[0m: name 'tmp_data' is not defined"
     ]
    }
   ],
   "source": [
    "t = Twitter()\n",
    "tokens_ko = t.nouns(text)\n",
    "ko = nltk.Text(tokens_ko, name='스포츠')\n",
    "ko.vocab().most_common(10)\n",
    "data = ko.vocab().most_common(500)\n",
    "tmp_dataq = dict(data)\n",
    "\n",
    "wordcloud = WordCloud(font_path='/Library/Fonts/NanumMyeongjo.ttf',\n",
    "                      background_color='white').generate_from_frequencies(tmp_data)\n",
    "plt.figure(figsize=(16,8))\n",
    "plt.imshow(wordcloud)\n",
    "plt.axis('off')\n",
    "plt.show()"
   ]
  },
  {
   "cell_type": "code",
   "execution_count": 17,
   "metadata": {},
   "outputs": [
    {
     "name": "stdout",
     "output_type": "stream",
     "text": [
      "[ 125   68    2    2   15  349  165    2   98    5    4  228    9   43\n",
      "    2 1157   15  299  120    5  120  174   11  220  175  136   50    9\n",
      "    2  228    2    5    2  656  245    2    5    4    2  131  152  491\n",
      "   18    2   32    2 1212   14    9    6  371   78   22  625   64 1382\n",
      "    9    8  168  145   23    4 1690   15   16    4 1355    5   28    6\n",
      "   52  154  462   33   89   78  285   16  145   95]\n"
     ]
    }
   ],
   "source": [
    "from keras.datasets import imdb\n",
    "from keras.utils import np_utils\n",
    "from keras.preprocessing.text import Tokenizer\n",
    "from keras.preprocessing import sequence\n",
    "from functools import partial\n",
    "import numpy as np\n",
    "from keras.models import Sequential\n",
    "from keras.layers import Embedding, Flatten, Dense, Dropout\n",
    "from keras.layers import LSTM\n",
    "\n",
    "#np_load_old = np.load\n",
    "#np.load = lambda *a, **k: np_load_old(*a, allow_pickle=True, **k)\n",
    "(X_train, y_train), (X_test, y_test) = imdb.load_data(nb_words=2000)\n",
    "#np.load = np_load_old\n",
    "\n",
    "X_train = sequence.pad_sequences(X_train, maxlen=80)\n",
    "X_test = sequence.pad_sequences(X_test, maxlen=80)\n",
    "print(X_train[1])"
   ]
  },
  {
   "cell_type": "code",
   "execution_count": 18,
   "metadata": {},
   "outputs": [
    {
     "name": "stdout",
     "output_type": "stream",
     "text": [
      "WARNING:tensorflow:From C:\\Users\\ICT01_13\\Anaconda3\\lib\\site-packages\\keras\\backend\\tensorflow_backend.py:74: The name tf.get_default_graph is deprecated. Please use tf.compat.v1.get_default_graph instead.\n",
      "\n",
      "WARNING:tensorflow:From C:\\Users\\ICT01_13\\Anaconda3\\lib\\site-packages\\keras\\backend\\tensorflow_backend.py:517: The name tf.placeholder is deprecated. Please use tf.compat.v1.placeholder instead.\n",
      "\n",
      "WARNING:tensorflow:From C:\\Users\\ICT01_13\\Anaconda3\\lib\\site-packages\\keras\\backend\\tensorflow_backend.py:4138: The name tf.random_uniform is deprecated. Please use tf.random.uniform instead.\n",
      "\n",
      "WARNING:tensorflow:From C:\\Users\\ICT01_13\\Anaconda3\\lib\\site-packages\\keras\\backend\\tensorflow_backend.py:133: The name tf.placeholder_with_default is deprecated. Please use tf.compat.v1.placeholder_with_default instead.\n",
      "\n",
      "WARNING:tensorflow:From C:\\Users\\ICT01_13\\Anaconda3\\lib\\site-packages\\keras\\backend\\tensorflow_backend.py:3445: calling dropout (from tensorflow.python.ops.nn_ops) with keep_prob is deprecated and will be removed in a future version.\n",
      "Instructions for updating:\n",
      "Please use `rate` instead of `keep_prob`. Rate should be set to `rate = 1 - keep_prob`.\n",
      "WARNING:tensorflow:From C:\\Users\\ICT01_13\\Anaconda3\\lib\\site-packages\\keras\\optimizers.py:790: The name tf.train.Optimizer is deprecated. Please use tf.compat.v1.train.Optimizer instead.\n",
      "\n",
      "WARNING:tensorflow:From C:\\Users\\ICT01_13\\Anaconda3\\lib\\site-packages\\keras\\backend\\tensorflow_backend.py:3376: The name tf.log is deprecated. Please use tf.math.log instead.\n",
      "\n",
      "WARNING:tensorflow:From C:\\Users\\ICT01_13\\Anaconda3\\lib\\site-packages\\tensorflow\\python\\ops\\nn_impl.py:180: add_dispatch_support.<locals>.wrapper (from tensorflow.python.ops.array_ops) is deprecated and will be removed in a future version.\n",
      "Instructions for updating:\n",
      "Use tf.where in 2.0, which has the same broadcast rule as np.where\n"
     ]
    }
   ],
   "source": [
    "model = Sequential()\n",
    "model.add(Embedding(2000, 128)) # 단어장의 크기, 벡터로 변환\n",
    "model.add(LSTM(128, dropout=0.2, recurrent_dropout=0.2)) # 셀의 가중치, 셀의 크기\n",
    "model.add(Dense(1, activation='sigmoid'))\n",
    "model.compile(loss='binary_crossentropy', optimizer='adam', metrics=['accuracy'])"
   ]
  },
  {
   "cell_type": "code",
   "execution_count": 21,
   "metadata": {},
   "outputs": [
    {
     "name": "stdout",
     "output_type": "stream",
     "text": [
      "Train on 25000 samples, validate on 25000 samples\n",
      "Epoch 1/15\n",
      "25000/25000 [==============================] - 104s 4ms/step - loss: 0.5044 - acc: 0.7518 - val_loss: 0.4971 - val_acc: 0.7658\n",
      "Epoch 2/15\n",
      "25000/25000 [==============================] - 100s 4ms/step - loss: 0.3932 - acc: 0.8248 - val_loss: 0.3974 - val_acc: 0.8151\n",
      "Epoch 3/15\n",
      "25000/25000 [==============================] - 100s 4ms/step - loss: 0.3641 - acc: 0.8399 - val_loss: 0.4414 - val_acc: 0.8094\n",
      "Epoch 4/15\n",
      "25000/25000 [==============================] - 100s 4ms/step - loss: 0.3282 - acc: 0.8555 - val_loss: 0.3625 - val_acc: 0.8394\n",
      "Epoch 5/15\n",
      "25000/25000 [==============================] - 101s 4ms/step - loss: 0.2960 - acc: 0.8730 - val_loss: 0.3801 - val_acc: 0.8300\n",
      "Epoch 6/15\n",
      "25000/25000 [==============================] - 100s 4ms/step - loss: 0.2789 - acc: 0.8820 - val_loss: 0.3853 - val_acc: 0.8390\n",
      "Epoch 7/15\n",
      "25000/25000 [==============================] - 100s 4ms/step - loss: 0.2582 - acc: 0.8924 - val_loss: 0.3949 - val_acc: 0.8314\n",
      "Epoch 8/15\n",
      "25000/25000 [==============================] - 100s 4ms/step - loss: 0.2427 - acc: 0.8997 - val_loss: 0.4092 - val_acc: 0.8339\n",
      "Epoch 9/15\n",
      "25000/25000 [==============================] - 100s 4ms/step - loss: 0.2230 - acc: 0.9083 - val_loss: 0.4110 - val_acc: 0.8358\n",
      "Epoch 10/15\n",
      "25000/25000 [==============================] - 102s 4ms/step - loss: 0.2049 - acc: 0.9174 - val_loss: 0.4791 - val_acc: 0.8329\n",
      "Epoch 11/15\n",
      "25000/25000 [==============================] - 100s 4ms/step - loss: 0.1856 - acc: 0.9258 - val_loss: 0.4444 - val_acc: 0.8298\n",
      "Epoch 12/15\n",
      "25000/25000 [==============================] - 101s 4ms/step - loss: 0.1717 - acc: 0.9320 - val_loss: 0.5259 - val_acc: 0.8308\n",
      "Epoch 13/15\n",
      "25000/25000 [==============================] - 101s 4ms/step - loss: 0.1549 - acc: 0.9383 - val_loss: 0.5044 - val_acc: 0.8254\n",
      "Epoch 14/15\n",
      "25000/25000 [==============================] - 96s 4ms/step - loss: 0.1428 - acc: 0.9449 - val_loss: 0.5466 - val_acc: 0.8296\n",
      "Epoch 15/15\n",
      "25000/25000 [==============================] - 101s 4ms/step - loss: 0.1280 - acc: 0.9521 - val_loss: 0.5881 - val_acc: 0.8265\n"
     ]
    },
    {
     "data": {
      "text/plain": [
       "<keras.callbacks.History at 0x28392a2b848>"
      ]
     },
     "execution_count": 21,
     "metadata": {},
     "output_type": "execute_result"
    }
   ],
   "source": [
    "model.fit(X_train, y_train, batch_size=32, epochs=15, validation_data=(X_test, y_test))"
   ]
  },
  {
   "cell_type": "code",
   "execution_count": 22,
   "metadata": {},
   "outputs": [
    {
     "name": "stdout",
     "output_type": "stream",
     "text": [
      "Downloading data from https://s3.amazonaws.com/text-datasets/imdb_word_index.json\n",
      "1646592/1641221 [==============================] - 1s 1us/step\n"
     ]
    },
    {
     "data": {
      "text/plain": [
       "'tsukino'"
      ]
     },
     "execution_count": 22,
     "metadata": {},
     "output_type": "execute_result"
    }
   ],
   "source": [
    "dictionary = imdb.get_word_index(path='imdb_word_index.json')\n",
    "imdb_key = dictionary.keys()\n",
    "list(imdb_key)[1]"
   ]
  },
  {
   "cell_type": "code",
   "execution_count": null,
   "metadata": {},
   "outputs": [],
   "source": [
    "# 숙제\n",
    "# 문제 x_train[1] 문장으로 변환해 보세요\n",
    "# model.summary를 해보고 가중치 사이즈를 계산해보세요"
   ]
  },
  {
   "cell_type": "code",
   "execution_count": 24,
   "metadata": {},
   "outputs": [
    {
     "name": "stdout",
     "output_type": "stream",
     "text": [
      "_________________________________________________________________\n",
      "Layer (type)                 Output Shape              Param #   \n",
      "=================================================================\n",
      "embedding_1 (Embedding)      (None, None, 128)         256000    \n",
      "_________________________________________________________________\n",
      "lstm_1 (LSTM)                (None, 128)               131584    \n",
      "_________________________________________________________________\n",
      "dense_1 (Dense)              (None, 1)                 129       \n",
      "=================================================================\n",
      "Total params: 387,713\n",
      "Trainable params: 387,713\n",
      "Non-trainable params: 0\n",
      "_________________________________________________________________\n"
     ]
    }
   ],
   "source": [
    "model.summary()"
   ]
  },
  {
   "cell_type": "code",
   "execution_count": null,
   "metadata": {},
   "outputs": [],
   "source": []
  },
  {
   "cell_type": "code",
   "execution_count": null,
   "metadata": {},
   "outputs": [],
   "source": []
  },
  {
   "cell_type": "code",
   "execution_count": null,
   "metadata": {},
   "outputs": [],
   "source": []
  },
  {
   "cell_type": "code",
   "execution_count": null,
   "metadata": {},
   "outputs": [],
   "source": []
  },
  {
   "cell_type": "code",
   "execution_count": null,
   "metadata": {},
   "outputs": [],
   "source": []
  }
 ],
 "metadata": {
  "kernelspec": {
   "display_name": "Python 3",
   "language": "python",
   "name": "python3"
  },
  "language_info": {
   "codemirror_mode": {
    "name": "ipython",
    "version": 3
   },
   "file_extension": ".py",
   "mimetype": "text/x-python",
   "name": "python",
   "nbconvert_exporter": "python",
   "pygments_lexer": "ipython3",
   "version": "3.7.6"
  }
 },
 "nbformat": 4,
 "nbformat_minor": 4
}
