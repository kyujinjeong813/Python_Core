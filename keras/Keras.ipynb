{
 "cells": [
  {
   "cell_type": "code",
   "execution_count": 8,
   "metadata": {},
   "outputs": [
    {
     "name": "stdout",
     "output_type": "stream",
     "text": [
      "입력데이터=[0.29466096 0.30317302], 예측결과=-95.68750948023445\n",
      "입력데이터=[0.39445118 0.79390858], 예측결과=26.204828091429512\n",
      "입력데이터=[0.02884127 0.6208843 ], 예측결과=-121.28229571474058\n"
     ]
    }
   ],
   "source": [
    "from keras.models import Sequential\n",
    "from keras.layers import Dense\n",
    "from sklearn.datasets import make_regression\n",
    "from sklearn.preprocessing import MinMaxScaler\n",
    "# X = 100X2, y = 100\n",
    "X, y = make_regression(n_samples=100, n_features=2, noise=0.1, random_state=1)\n",
    "# 값의 범위가 다름\n",
    "scalarX, scalarY = MinMaxScaler(), MinMaxScaler()\n",
    "scalarX.fit(X)\n",
    "scalarY.fit(y.reshape(100,1))\n",
    "X = scalarX.transform(X)\n",
    "y = scalarY.transform(y.reshape(100,1))\n",
    "# keras model\n",
    "model = Sequential()\n",
    "# 100X2 출력차수 지정 2X4 => 100X4\n",
    "model.add(Dense(4, input_dim=2, activation='relu'))\n",
    "# 입력 100X4, 가중치 4X4, 출력 100X4\n",
    "model.add(Dense(4, activation='relu'))\n",
    "# 입력 100X4, 가중치 4X1, 출력 100X1\n",
    "model.add(Dense(1, activation='linear'))\n",
    "# backend = tensorflow\n",
    "# mse, cross entropy, KL-divergence : 분포를 비교\n",
    "model.compile(loss='mse', optimizer='adam')\n",
    "model.fit(X, y, epochs=1000, verbose=0)\n",
    "Xnew, ynew = make_regression(n_samples=3, n_features=2, noise=0.1, random_state=1)\n",
    "Xnew = scalarX.transform(Xnew)\n",
    "for i in range(len(Xnew)):\n",
    "    print(\"입력데이터=%s, 예측결과=%s\" % (Xnew[i], ynew[i]))"
   ]
  },
  {
   "cell_type": "code",
   "execution_count": 15,
   "metadata": {},
   "outputs": [
    {
     "name": "stdout",
     "output_type": "stream",
     "text": [
      "Epoch 1/150\n",
      "768/768 [==============================] - 0s 435us/step - loss: 0.6723 - accuracy: 0.6081\n",
      "Epoch 2/150\n",
      "768/768 [==============================] - 0s 97us/step - loss: 0.6215 - accuracy: 0.6693\n",
      "Epoch 3/150\n",
      "768/768 [==============================] - 0s 99us/step - loss: 0.6119 - accuracy: 0.6875\n",
      "Epoch 4/150\n",
      "768/768 [==============================] - 0s 97us/step - loss: 0.6085 - accuracy: 0.6745\n",
      "Epoch 5/150\n",
      "768/768 [==============================] - 0s 91us/step - loss: 0.6032 - accuracy: 0.6810\n",
      "Epoch 6/150\n",
      "768/768 [==============================] - 0s 90us/step - loss: 0.5888 - accuracy: 0.6927\n",
      "Epoch 7/150\n",
      "768/768 [==============================] - 0s 94us/step - loss: 0.5884 - accuracy: 0.6888\n",
      "Epoch 8/150\n",
      "768/768 [==============================] - 0s 103us/step - loss: 0.5903 - accuracy: 0.6823\n",
      "Epoch 9/150\n",
      "768/768 [==============================] - 0s 88us/step - loss: 0.5923 - accuracy: 0.6927\n",
      "Epoch 10/150\n",
      "768/768 [==============================] - 0s 99us/step - loss: 0.5879 - accuracy: 0.7109\n",
      "Epoch 11/150\n",
      "768/768 [==============================] - 0s 90us/step - loss: 0.5882 - accuracy: 0.6758\n",
      "Epoch 12/150\n",
      "768/768 [==============================] - 0s 96us/step - loss: 0.5894 - accuracy: 0.6966\n",
      "Epoch 13/150\n",
      "768/768 [==============================] - 0s 100us/step - loss: 0.5866 - accuracy: 0.6797\n",
      "Epoch 14/150\n",
      "768/768 [==============================] - 0s 96us/step - loss: 0.5845 - accuracy: 0.6927\n",
      "Epoch 15/150\n",
      "768/768 [==============================] - 0s 96us/step - loss: 0.5739 - accuracy: 0.6979\n",
      "Epoch 16/150\n",
      "768/768 [==============================] - 0s 93us/step - loss: 0.5720 - accuracy: 0.7057\n",
      "Epoch 17/150\n",
      "768/768 [==============================] - 0s 95us/step - loss: 0.5718 - accuracy: 0.7031\n",
      "Epoch 18/150\n",
      "768/768 [==============================] - 0s 92us/step - loss: 0.5778 - accuracy: 0.6901\n",
      "Epoch 19/150\n",
      "768/768 [==============================] - 0s 105us/step - loss: 0.5655 - accuracy: 0.7148\n",
      "Epoch 20/150\n",
      "768/768 [==============================] - 0s 100us/step - loss: 0.5593 - accuracy: 0.7201\n",
      "Epoch 21/150\n",
      "768/768 [==============================] - 0s 101us/step - loss: 0.5595 - accuracy: 0.7201\n",
      "Epoch 22/150\n",
      "768/768 [==============================] - 0s 95us/step - loss: 0.5606 - accuracy: 0.7109\n",
      "Epoch 23/150\n",
      "768/768 [==============================] - 0s 94us/step - loss: 0.5644 - accuracy: 0.7070\n",
      "Epoch 24/150\n",
      "768/768 [==============================] - 0s 101us/step - loss: 0.5707 - accuracy: 0.7201\n",
      "Epoch 25/150\n",
      "768/768 [==============================] - 0s 103us/step - loss: 0.5476 - accuracy: 0.7227\n",
      "Epoch 26/150\n",
      "768/768 [==============================] - 0s 92us/step - loss: 0.5784 - accuracy: 0.6901\n",
      "Epoch 27/150\n",
      "768/768 [==============================] - 0s 94us/step - loss: 0.5572 - accuracy: 0.7122\n",
      "Epoch 28/150\n",
      "768/768 [==============================] - 0s 95us/step - loss: 0.5542 - accuracy: 0.7227\n",
      "Epoch 29/150\n",
      "768/768 [==============================] - 0s 103us/step - loss: 0.5593 - accuracy: 0.7318\n",
      "Epoch 30/150\n",
      "768/768 [==============================] - 0s 101us/step - loss: 0.5590 - accuracy: 0.7214\n",
      "Epoch 31/150\n",
      "768/768 [==============================] - 0s 93us/step - loss: 0.5488 - accuracy: 0.7227\n",
      "Epoch 32/150\n",
      "768/768 [==============================] - 0s 97us/step - loss: 0.5516 - accuracy: 0.7279\n",
      "Epoch 33/150\n",
      "768/768 [==============================] - 0s 96us/step - loss: 0.5457 - accuracy: 0.7253\n",
      "Epoch 34/150\n",
      "768/768 [==============================] - 0s 104us/step - loss: 0.5453 - accuracy: 0.7383\n",
      "Epoch 35/150\n",
      "768/768 [==============================] - 0s 99us/step - loss: 0.5415 - accuracy: 0.7318\n",
      "Epoch 36/150\n",
      "768/768 [==============================] - 0s 99us/step - loss: 0.5392 - accuracy: 0.7344\n",
      "Epoch 37/150\n",
      "768/768 [==============================] - 0s 83us/step - loss: 0.5370 - accuracy: 0.7422\n",
      "Epoch 38/150\n",
      "768/768 [==============================] - 0s 85us/step - loss: 0.5358 - accuracy: 0.7318\n",
      "Epoch 39/150\n",
      "768/768 [==============================] - 0s 91us/step - loss: 0.5358 - accuracy: 0.7305\n",
      "Epoch 40/150\n",
      "768/768 [==============================] - 0s 93us/step - loss: 0.5434 - accuracy: 0.7318\n",
      "Epoch 41/150\n",
      "768/768 [==============================] - 0s 96us/step - loss: 0.5350 - accuracy: 0.7422\n",
      "Epoch 42/150\n",
      "768/768 [==============================] - 0s 89us/step - loss: 0.5365 - accuracy: 0.7448\n",
      "Epoch 43/150\n",
      "768/768 [==============================] - 0s 92us/step - loss: 0.5280 - accuracy: 0.7344\n",
      "Epoch 44/150\n",
      "768/768 [==============================] - 0s 100us/step - loss: 0.5277 - accuracy: 0.7422\n",
      "Epoch 45/150\n",
      "768/768 [==============================] - 0s 99us/step - loss: 0.5315 - accuracy: 0.7565\n",
      "Epoch 46/150\n",
      "768/768 [==============================] - 0s 99us/step - loss: 0.5265 - accuracy: 0.7487\n",
      "Epoch 47/150\n",
      "768/768 [==============================] - 0s 100us/step - loss: 0.5256 - accuracy: 0.7448\n",
      "Epoch 48/150\n",
      "768/768 [==============================] - 0s 94us/step - loss: 0.5274 - accuracy: 0.7474\n",
      "Epoch 49/150\n",
      "768/768 [==============================] - 0s 104us/step - loss: 0.5183 - accuracy: 0.7513\n",
      "Epoch 50/150\n",
      "768/768 [==============================] - 0s 101us/step - loss: 0.5209 - accuracy: 0.7474\n",
      "Epoch 51/150\n",
      "768/768 [==============================] - 0s 97us/step - loss: 0.5169 - accuracy: 0.7500\n",
      "Epoch 52/150\n",
      "768/768 [==============================] - 0s 110us/step - loss: 0.5274 - accuracy: 0.7357\n",
      "Epoch 53/150\n",
      "768/768 [==============================] - 0s 81us/step - loss: 0.5206 - accuracy: 0.7539\n",
      "Epoch 54/150\n",
      "768/768 [==============================] - 0s 104us/step - loss: 0.5264 - accuracy: 0.7448\n",
      "Epoch 55/150\n",
      "768/768 [==============================] - 0s 95us/step - loss: 0.5188 - accuracy: 0.7448\n",
      "Epoch 56/150\n",
      "768/768 [==============================] - 0s 95us/step - loss: 0.5172 - accuracy: 0.7513\n",
      "Epoch 57/150\n",
      "768/768 [==============================] - 0s 91us/step - loss: 0.5146 - accuracy: 0.7578\n",
      "Epoch 58/150\n",
      "768/768 [==============================] - 0s 87us/step - loss: 0.5147 - accuracy: 0.7409\n",
      "Epoch 59/150\n",
      "768/768 [==============================] - 0s 85us/step - loss: 0.5074 - accuracy: 0.7617\n",
      "Epoch 60/150\n",
      "768/768 [==============================] - 0s 87us/step - loss: 0.5120 - accuracy: 0.7591\n",
      "Epoch 61/150\n",
      "768/768 [==============================] - 0s 90us/step - loss: 0.5058 - accuracy: 0.7474\n",
      "Epoch 62/150\n",
      "768/768 [==============================] - 0s 91us/step - loss: 0.5110 - accuracy: 0.7513\n",
      "Epoch 63/150\n",
      "768/768 [==============================] - 0s 92us/step - loss: 0.5324 - accuracy: 0.7578\n",
      "Epoch 64/150\n",
      "768/768 [==============================] - 0s 96us/step - loss: 0.5168 - accuracy: 0.7409\n",
      "Epoch 65/150\n",
      "768/768 [==============================] - 0s 90us/step - loss: 0.5027 - accuracy: 0.7604\n",
      "Epoch 66/150\n",
      "768/768 [==============================] - 0s 92us/step - loss: 0.5019 - accuracy: 0.7617\n",
      "Epoch 67/150\n",
      "768/768 [==============================] - 0s 94us/step - loss: 0.5069 - accuracy: 0.7448\n",
      "Epoch 68/150\n",
      "768/768 [==============================] - 0s 96us/step - loss: 0.5161 - accuracy: 0.7422\n",
      "Epoch 69/150\n",
      "768/768 [==============================] - 0s 97us/step - loss: 0.4987 - accuracy: 0.7565\n",
      "Epoch 70/150\n",
      "768/768 [==============================] - 0s 97us/step - loss: 0.5149 - accuracy: 0.7370\n",
      "Epoch 71/150\n",
      "768/768 [==============================] - 0s 90us/step - loss: 0.5023 - accuracy: 0.7643\n",
      "Epoch 72/150\n",
      "768/768 [==============================] - 0s 99us/step - loss: 0.5115 - accuracy: 0.7448\n",
      "Epoch 73/150\n",
      "768/768 [==============================] - 0s 91us/step - loss: 0.5030 - accuracy: 0.7513\n",
      "Epoch 74/150\n",
      "768/768 [==============================] - 0s 97us/step - loss: 0.5033 - accuracy: 0.7591\n",
      "Epoch 75/150\n",
      "768/768 [==============================] - 0s 80us/step - loss: 0.5043 - accuracy: 0.7578\n",
      "Epoch 76/150\n",
      "768/768 [==============================] - 0s 107us/step - loss: 0.4965 - accuracy: 0.7656\n",
      "Epoch 77/150\n",
      "768/768 [==============================] - 0s 104us/step - loss: 0.4975 - accuracy: 0.7526\n",
      "Epoch 78/150\n",
      "768/768 [==============================] - 0s 93us/step - loss: 0.5008 - accuracy: 0.7552\n",
      "Epoch 79/150\n",
      "768/768 [==============================] - 0s 94us/step - loss: 0.5048 - accuracy: 0.7643\n",
      "Epoch 80/150\n"
     ]
    },
    {
     "name": "stdout",
     "output_type": "stream",
     "text": [
      "768/768 [==============================] - 0s 95us/step - loss: 0.4934 - accuracy: 0.7643\n",
      "Epoch 81/150\n",
      "768/768 [==============================] - 0s 93us/step - loss: 0.4915 - accuracy: 0.7643\n",
      "Epoch 82/150\n",
      "768/768 [==============================] - 0s 90us/step - loss: 0.4939 - accuracy: 0.7773\n",
      "Epoch 83/150\n",
      "768/768 [==============================] - 0s 99us/step - loss: 0.4917 - accuracy: 0.7656\n",
      "Epoch 84/150\n",
      "768/768 [==============================] - 0s 97us/step - loss: 0.4873 - accuracy: 0.7630\n",
      "Epoch 85/150\n",
      "768/768 [==============================] - 0s 95us/step - loss: 0.4973 - accuracy: 0.7643\n",
      "Epoch 86/150\n",
      "768/768 [==============================] - 0s 83us/step - loss: 0.5017 - accuracy: 0.7383\n",
      "Epoch 87/150\n",
      "768/768 [==============================] - 0s 89us/step - loss: 0.4908 - accuracy: 0.7669\n",
      "Epoch 88/150\n",
      "768/768 [==============================] - 0s 96us/step - loss: 0.4871 - accuracy: 0.7617\n",
      "Epoch 89/150\n",
      "768/768 [==============================] - 0s 93us/step - loss: 0.4925 - accuracy: 0.7747\n",
      "Epoch 90/150\n",
      "768/768 [==============================] - 0s 91us/step - loss: 0.4911 - accuracy: 0.7591\n",
      "Epoch 91/150\n",
      "768/768 [==============================] - 0s 92us/step - loss: 0.4882 - accuracy: 0.7591\n",
      "Epoch 92/150\n",
      "768/768 [==============================] - 0s 82us/step - loss: 0.4883 - accuracy: 0.7539\n",
      "Epoch 93/150\n",
      "768/768 [==============================] - 0s 97us/step - loss: 0.4892 - accuracy: 0.7630\n",
      "Epoch 94/150\n",
      "768/768 [==============================] - 0s 99us/step - loss: 0.4915 - accuracy: 0.7513\n",
      "Epoch 95/150\n",
      "768/768 [==============================] - 0s 91us/step - loss: 0.4817 - accuracy: 0.7643\n",
      "Epoch 96/150\n",
      "768/768 [==============================] - 0s 91us/step - loss: 0.4815 - accuracy: 0.7643\n",
      "Epoch 97/150\n",
      "768/768 [==============================] - 0s 97us/step - loss: 0.4864 - accuracy: 0.7799\n",
      "Epoch 98/150\n",
      "768/768 [==============================] - 0s 91us/step - loss: 0.4821 - accuracy: 0.7826\n",
      "Epoch 99/150\n",
      "768/768 [==============================] - 0s 93us/step - loss: 0.4826 - accuracy: 0.7604\n",
      "Epoch 100/150\n",
      "768/768 [==============================] - 0s 91us/step - loss: 0.4783 - accuracy: 0.7773\n",
      "Epoch 101/150\n",
      "768/768 [==============================] - 0s 93us/step - loss: 0.4864 - accuracy: 0.7708\n",
      "Epoch 102/150\n",
      "768/768 [==============================] - 0s 93us/step - loss: 0.4876 - accuracy: 0.7617\n",
      "Epoch 103/150\n",
      "768/768 [==============================] - 0s 96us/step - loss: 0.4942 - accuracy: 0.7474\n",
      "Epoch 104/150\n",
      "768/768 [==============================] - 0s 95us/step - loss: 0.4863 - accuracy: 0.7760\n",
      "Epoch 105/150\n",
      "768/768 [==============================] - 0s 97us/step - loss: 0.5027 - accuracy: 0.7539\n",
      "Epoch 106/150\n",
      "768/768 [==============================] - 0s 96us/step - loss: 0.4856 - accuracy: 0.7760\n",
      "Epoch 107/150\n",
      "768/768 [==============================] - 0s 96us/step - loss: 0.4791 - accuracy: 0.7708\n",
      "Epoch 108/150\n",
      "768/768 [==============================] - 0s 99us/step - loss: 0.4809 - accuracy: 0.7799\n",
      "Epoch 109/150\n",
      "768/768 [==============================] - 0s 92us/step - loss: 0.4780 - accuracy: 0.7643\n",
      "Epoch 110/150\n",
      "768/768 [==============================] - 0s 93us/step - loss: 0.4787 - accuracy: 0.7604\n",
      "Epoch 111/150\n",
      "768/768 [==============================] - 0s 99us/step - loss: 0.4785 - accuracy: 0.7682\n",
      "Epoch 112/150\n",
      "768/768 [==============================] - 0s 97us/step - loss: 0.4826 - accuracy: 0.7617\n",
      "Epoch 113/150\n",
      "768/768 [==============================] - 0s 94us/step - loss: 0.4865 - accuracy: 0.7695\n",
      "Epoch 114/150\n",
      "768/768 [==============================] - 0s 93us/step - loss: 0.4885 - accuracy: 0.7422\n",
      "Epoch 115/150\n",
      "768/768 [==============================] - 0s 99us/step - loss: 0.4797 - accuracy: 0.7708\n",
      "Epoch 116/150\n",
      "768/768 [==============================] - 0s 97us/step - loss: 0.4906 - accuracy: 0.7617\n",
      "Epoch 117/150\n",
      "768/768 [==============================] - 0s 93us/step - loss: 0.4763 - accuracy: 0.7591\n",
      "Epoch 118/150\n",
      "768/768 [==============================] - 0s 104us/step - loss: 0.4847 - accuracy: 0.7643\n",
      "Epoch 119/150\n",
      "768/768 [==============================] - 0s 99us/step - loss: 0.4745 - accuracy: 0.7617\n",
      "Epoch 120/150\n",
      "768/768 [==============================] - 0s 92us/step - loss: 0.4824 - accuracy: 0.7695\n",
      "Epoch 121/150\n",
      "768/768 [==============================] - 0s 94us/step - loss: 0.4773 - accuracy: 0.7812\n",
      "Epoch 122/150\n",
      "768/768 [==============================] - 0s 95us/step - loss: 0.4800 - accuracy: 0.7591\n",
      "Epoch 123/150\n",
      "768/768 [==============================] - 0s 93us/step - loss: 0.4726 - accuracy: 0.7591\n",
      "Epoch 124/150\n",
      "768/768 [==============================] - 0s 97us/step - loss: 0.4704 - accuracy: 0.7799\n",
      "Epoch 125/150\n",
      "768/768 [==============================] - 0s 100us/step - loss: 0.4777 - accuracy: 0.7799\n",
      "Epoch 126/150\n",
      "768/768 [==============================] - 0s 99us/step - loss: 0.4708 - accuracy: 0.7786\n",
      "Epoch 127/150\n",
      "768/768 [==============================] - 0s 96us/step - loss: 0.4772 - accuracy: 0.7669\n",
      "Epoch 128/150\n",
      "768/768 [==============================] - 0s 90us/step - loss: 0.4718 - accuracy: 0.7630\n",
      "Epoch 129/150\n",
      "768/768 [==============================] - 0s 93us/step - loss: 0.4763 - accuracy: 0.7812\n",
      "Epoch 130/150\n",
      "768/768 [==============================] - 0s 93us/step - loss: 0.4642 - accuracy: 0.7721\n",
      "Epoch 131/150\n",
      "768/768 [==============================] - 0s 99us/step - loss: 0.4764 - accuracy: 0.7747\n",
      "Epoch 132/150\n",
      "768/768 [==============================] - 0s 92us/step - loss: 0.4711 - accuracy: 0.7708\n",
      "Epoch 133/150\n",
      "768/768 [==============================] - 0s 95us/step - loss: 0.4726 - accuracy: 0.7747\n",
      "Epoch 134/150\n",
      "768/768 [==============================] - 0s 99us/step - loss: 0.4740 - accuracy: 0.7643\n",
      "Epoch 135/150\n",
      "768/768 [==============================] - 0s 97us/step - loss: 0.4690 - accuracy: 0.7747\n",
      "Epoch 136/150\n",
      "768/768 [==============================] - 0s 90us/step - loss: 0.4657 - accuracy: 0.7773\n",
      "Epoch 137/150\n",
      "768/768 [==============================] - 0s 88us/step - loss: 0.4711 - accuracy: 0.7852\n",
      "Epoch 138/150\n",
      "768/768 [==============================] - 0s 92us/step - loss: 0.4753 - accuracy: 0.7721\n",
      "Epoch 139/150\n",
      "768/768 [==============================] - 0s 92us/step - loss: 0.4613 - accuracy: 0.7760\n",
      "Epoch 140/150\n",
      "768/768 [==============================] - 0s 87us/step - loss: 0.4695 - accuracy: 0.7760\n",
      "Epoch 141/150\n",
      "768/768 [==============================] - 0s 100us/step - loss: 0.4636 - accuracy: 0.7656\n",
      "Epoch 142/150\n",
      "768/768 [==============================] - 0s 95us/step - loss: 0.4787 - accuracy: 0.7747\n",
      "Epoch 143/150\n",
      "768/768 [==============================] - 0s 97us/step - loss: 0.4727 - accuracy: 0.7617\n",
      "Epoch 144/150\n",
      "768/768 [==============================] - 0s 84us/step - loss: 0.4692 - accuracy: 0.7773\n",
      "Epoch 145/150\n",
      "768/768 [==============================] - 0s 88us/step - loss: 0.4736 - accuracy: 0.7591\n",
      "Epoch 146/150\n",
      "768/768 [==============================] - 0s 92us/step - loss: 0.4692 - accuracy: 0.7643\n",
      "Epoch 147/150\n",
      "768/768 [==============================] - 0s 88us/step - loss: 0.4721 - accuracy: 0.7734\n",
      "Epoch 148/150\n",
      "768/768 [==============================] - 0s 88us/step - loss: 0.4689 - accuracy: 0.7799\n",
      "Epoch 149/150\n",
      "768/768 [==============================] - 0s 95us/step - loss: 0.4666 - accuracy: 0.7773\n",
      "Epoch 150/150\n",
      "768/768 [==============================] - 0s 99us/step - loss: 0.4639 - accuracy: 0.7591\n",
      "Train on 514 samples, validate on 254 samples\n",
      "Epoch 1/150\n",
      "514/514 [==============================] - 0s 252us/step - loss: 0.4916 - accuracy: 0.7704 - val_loss: 0.4366 - val_accuracy: 0.8150\n",
      "Epoch 2/150\n",
      "514/514 [==============================] - 0s 147us/step - loss: 0.4852 - accuracy: 0.7432 - val_loss: 0.4312 - val_accuracy: 0.8189\n",
      "Epoch 3/150\n",
      "514/514 [==============================] - 0s 138us/step - loss: 0.4721 - accuracy: 0.7646 - val_loss: 0.4326 - val_accuracy: 0.7874\n",
      "Epoch 4/150\n",
      "514/514 [==============================] - 0s 126us/step - loss: 0.4737 - accuracy: 0.7763 - val_loss: 0.4397 - val_accuracy: 0.7913\n",
      "Epoch 5/150\n",
      "514/514 [==============================] - 0s 124us/step - loss: 0.4876 - accuracy: 0.7510 - val_loss: 0.4499 - val_accuracy: 0.8189\n",
      "Epoch 6/150\n"
     ]
    },
    {
     "name": "stdout",
     "output_type": "stream",
     "text": [
      "514/514 [==============================] - 0s 112us/step - loss: 0.4791 - accuracy: 0.7626 - val_loss: 0.4501 - val_accuracy: 0.8031\n",
      "Epoch 7/150\n",
      "514/514 [==============================] - 0s 124us/step - loss: 0.4813 - accuracy: 0.7549 - val_loss: 0.4413 - val_accuracy: 0.8071\n",
      "Epoch 8/150\n",
      "514/514 [==============================] - 0s 125us/step - loss: 0.4957 - accuracy: 0.7568 - val_loss: 0.4332 - val_accuracy: 0.8071\n",
      "Epoch 9/150\n",
      "514/514 [==============================] - 0s 136us/step - loss: 0.4729 - accuracy: 0.7646 - val_loss: 0.4405 - val_accuracy: 0.7992\n",
      "Epoch 10/150\n",
      "514/514 [==============================] - 0s 122us/step - loss: 0.4726 - accuracy: 0.7685 - val_loss: 0.4632 - val_accuracy: 0.8189\n",
      "Epoch 11/150\n",
      "514/514 [==============================] - 0s 120us/step - loss: 0.4770 - accuracy: 0.7646 - val_loss: 0.4598 - val_accuracy: 0.8110\n",
      "Epoch 12/150\n",
      "514/514 [==============================] - 0s 130us/step - loss: 0.4747 - accuracy: 0.7665 - val_loss: 0.4501 - val_accuracy: 0.8268\n",
      "Epoch 13/150\n",
      "514/514 [==============================] - 0s 120us/step - loss: 0.4776 - accuracy: 0.7510 - val_loss: 0.4366 - val_accuracy: 0.8031\n",
      "Epoch 14/150\n",
      "514/514 [==============================] - 0s 120us/step - loss: 0.4710 - accuracy: 0.7588 - val_loss: 0.4483 - val_accuracy: 0.7913\n",
      "Epoch 15/150\n",
      "514/514 [==============================] - 0s 120us/step - loss: 0.4697 - accuracy: 0.7802 - val_loss: 0.4356 - val_accuracy: 0.8031\n",
      "Epoch 16/150\n",
      "514/514 [==============================] - 0s 122us/step - loss: 0.4768 - accuracy: 0.7665 - val_loss: 0.4411 - val_accuracy: 0.8071\n",
      "Epoch 17/150\n",
      "514/514 [==============================] - 0s 149us/step - loss: 0.4683 - accuracy: 0.7763 - val_loss: 0.4395 - val_accuracy: 0.8031\n",
      "Epoch 18/150\n",
      "514/514 [==============================] - 0s 122us/step - loss: 0.4817 - accuracy: 0.7607 - val_loss: 0.4479 - val_accuracy: 0.7874\n",
      "Epoch 19/150\n",
      "514/514 [==============================] - 0s 128us/step - loss: 0.4774 - accuracy: 0.7568 - val_loss: 0.4464 - val_accuracy: 0.8110\n",
      "Epoch 20/150\n",
      "514/514 [==============================] - 0s 126us/step - loss: 0.4619 - accuracy: 0.7685 - val_loss: 0.4411 - val_accuracy: 0.8189\n",
      "Epoch 21/150\n",
      "514/514 [==============================] - 0s 126us/step - loss: 0.4701 - accuracy: 0.7743 - val_loss: 0.4548 - val_accuracy: 0.8071\n",
      "Epoch 22/150\n",
      "514/514 [==============================] - 0s 122us/step - loss: 0.4711 - accuracy: 0.7821 - val_loss: 0.4492 - val_accuracy: 0.7913\n",
      "Epoch 23/150\n",
      "514/514 [==============================] - 0s 122us/step - loss: 0.4675 - accuracy: 0.7743 - val_loss: 0.4422 - val_accuracy: 0.8071\n",
      "Epoch 24/150\n",
      "514/514 [==============================] - 0s 128us/step - loss: 0.4687 - accuracy: 0.7782 - val_loss: 0.4547 - val_accuracy: 0.7795\n",
      "Epoch 25/150\n",
      "514/514 [==============================] - 0s 120us/step - loss: 0.4738 - accuracy: 0.7763 - val_loss: 0.4463 - val_accuracy: 0.7992\n",
      "Epoch 26/150\n",
      "514/514 [==============================] - 0s 120us/step - loss: 0.4712 - accuracy: 0.7665 - val_loss: 0.4503 - val_accuracy: 0.8110\n",
      "Epoch 27/150\n",
      "514/514 [==============================] - 0s 109us/step - loss: 0.4692 - accuracy: 0.7607 - val_loss: 0.4498 - val_accuracy: 0.7992\n",
      "Epoch 28/150\n",
      "514/514 [==============================] - 0s 118us/step - loss: 0.5030 - accuracy: 0.7549 - val_loss: 0.4574 - val_accuracy: 0.7992\n",
      "Epoch 29/150\n",
      "514/514 [==============================] - 0s 128us/step - loss: 0.4710 - accuracy: 0.7685 - val_loss: 0.4548 - val_accuracy: 0.7913\n",
      "Epoch 30/150\n",
      "514/514 [==============================] - 0s 126us/step - loss: 0.4704 - accuracy: 0.7743 - val_loss: 0.4648 - val_accuracy: 0.7874\n",
      "Epoch 31/150\n",
      "514/514 [==============================] - 0s 113us/step - loss: 0.4712 - accuracy: 0.7626 - val_loss: 0.4909 - val_accuracy: 0.7756\n",
      "Epoch 32/150\n",
      "514/514 [==============================] - 0s 122us/step - loss: 0.4768 - accuracy: 0.7743 - val_loss: 0.4485 - val_accuracy: 0.7992\n",
      "Epoch 33/150\n",
      "514/514 [==============================] - 0s 124us/step - loss: 0.4746 - accuracy: 0.7782 - val_loss: 0.4527 - val_accuracy: 0.7835\n",
      "Epoch 34/150\n",
      "514/514 [==============================] - 0s 122us/step - loss: 0.4666 - accuracy: 0.7626 - val_loss: 0.4516 - val_accuracy: 0.7835\n",
      "Epoch 35/150\n",
      "514/514 [==============================] - 0s 116us/step - loss: 0.4615 - accuracy: 0.8016 - val_loss: 0.4771 - val_accuracy: 0.7756\n",
      "Epoch 36/150\n",
      "514/514 [==============================] - 0s 120us/step - loss: 0.4696 - accuracy: 0.7802 - val_loss: 0.4641 - val_accuracy: 0.7953\n",
      "Epoch 37/150\n",
      "514/514 [==============================] - 0s 118us/step - loss: 0.4623 - accuracy: 0.7860 - val_loss: 0.4578 - val_accuracy: 0.7874\n",
      "Epoch 38/150\n",
      "514/514 [==============================] - 0s 122us/step - loss: 0.4686 - accuracy: 0.7646 - val_loss: 0.4456 - val_accuracy: 0.8071\n",
      "Epoch 39/150\n",
      "514/514 [==============================] - 0s 130us/step - loss: 0.4680 - accuracy: 0.7782 - val_loss: 0.4583 - val_accuracy: 0.7874\n",
      "Epoch 40/150\n",
      "514/514 [==============================] - 0s 124us/step - loss: 0.4720 - accuracy: 0.7685 - val_loss: 0.5888 - val_accuracy: 0.7205\n",
      "Epoch 41/150\n",
      "514/514 [==============================] - 0s 122us/step - loss: 0.5062 - accuracy: 0.7374 - val_loss: 0.4550 - val_accuracy: 0.7992\n",
      "Epoch 42/150\n",
      "514/514 [==============================] - 0s 116us/step - loss: 0.4733 - accuracy: 0.7704 - val_loss: 0.4539 - val_accuracy: 0.8031\n",
      "Epoch 43/150\n",
      "514/514 [==============================] - 0s 129us/step - loss: 0.4624 - accuracy: 0.7665 - val_loss: 0.4481 - val_accuracy: 0.7913\n",
      "Epoch 44/150\n",
      "514/514 [==============================] - 0s 122us/step - loss: 0.4793 - accuracy: 0.7704 - val_loss: 0.4584 - val_accuracy: 0.7953\n",
      "Epoch 45/150\n",
      "514/514 [==============================] - 0s 120us/step - loss: 0.4754 - accuracy: 0.7724 - val_loss: 0.4526 - val_accuracy: 0.8071\n",
      "Epoch 46/150\n",
      "514/514 [==============================] - 0s 132us/step - loss: 0.4648 - accuracy: 0.7685 - val_loss: 0.4564 - val_accuracy: 0.7913\n",
      "Epoch 47/150\n",
      "514/514 [==============================] - 0s 122us/step - loss: 0.4752 - accuracy: 0.7471 - val_loss: 0.4618 - val_accuracy: 0.7874\n",
      "Epoch 48/150\n",
      "514/514 [==============================] - 0s 122us/step - loss: 0.4607 - accuracy: 0.7802 - val_loss: 0.4492 - val_accuracy: 0.7992\n",
      "Epoch 49/150\n",
      "514/514 [==============================] - 0s 116us/step - loss: 0.4690 - accuracy: 0.7685 - val_loss: 0.4489 - val_accuracy: 0.7953\n",
      "Epoch 50/150\n",
      "514/514 [==============================] - 0s 114us/step - loss: 0.4589 - accuracy: 0.7782 - val_loss: 0.4618 - val_accuracy: 0.8110\n",
      "Epoch 51/150\n",
      "514/514 [==============================] - 0s 114us/step - loss: 0.4648 - accuracy: 0.7568 - val_loss: 0.4787 - val_accuracy: 0.7913\n",
      "Epoch 52/150\n",
      "514/514 [==============================] - 0s 116us/step - loss: 0.4747 - accuracy: 0.7763 - val_loss: 0.4501 - val_accuracy: 0.8031\n",
      "Epoch 53/150\n",
      "514/514 [==============================] - 0s 122us/step - loss: 0.4664 - accuracy: 0.7685 - val_loss: 0.4626 - val_accuracy: 0.7874\n",
      "Epoch 54/150\n",
      "514/514 [==============================] - 0s 122us/step - loss: 0.4666 - accuracy: 0.7646 - val_loss: 0.5003 - val_accuracy: 0.7795\n",
      "Epoch 55/150\n",
      "514/514 [==============================] - 0s 132us/step - loss: 0.4922 - accuracy: 0.7646 - val_loss: 0.4734 - val_accuracy: 0.7992\n",
      "Epoch 56/150\n",
      "514/514 [==============================] - 0s 116us/step - loss: 0.4645 - accuracy: 0.7802 - val_loss: 0.4828 - val_accuracy: 0.7874\n",
      "Epoch 57/150\n",
      "514/514 [==============================] - 0s 140us/step - loss: 0.4812 - accuracy: 0.7529 - val_loss: 0.4618 - val_accuracy: 0.7913\n",
      "Epoch 58/150\n",
      "514/514 [==============================] - 0s 126us/step - loss: 0.4746 - accuracy: 0.7724 - val_loss: 0.4523 - val_accuracy: 0.7992\n",
      "Epoch 59/150\n",
      "514/514 [==============================] - 0s 124us/step - loss: 0.4575 - accuracy: 0.7743 - val_loss: 0.4525 - val_accuracy: 0.7835\n",
      "Epoch 60/150\n",
      "514/514 [==============================] - 0s 118us/step - loss: 0.4630 - accuracy: 0.7685 - val_loss: 0.4493 - val_accuracy: 0.8071\n",
      "Epoch 61/150\n",
      "514/514 [==============================] - 0s 126us/step - loss: 0.4597 - accuracy: 0.7821 - val_loss: 0.4662 - val_accuracy: 0.7756\n",
      "Epoch 62/150\n"
     ]
    },
    {
     "name": "stdout",
     "output_type": "stream",
     "text": [
      "514/514 [==============================] - 0s 120us/step - loss: 0.4634 - accuracy: 0.7549 - val_loss: 0.4877 - val_accuracy: 0.7795\n",
      "Epoch 63/150\n",
      "514/514 [==============================] - 0s 118us/step - loss: 0.4929 - accuracy: 0.7451 - val_loss: 0.4630 - val_accuracy: 0.7874\n",
      "Epoch 64/150\n",
      "514/514 [==============================] - 0s 116us/step - loss: 0.4747 - accuracy: 0.7821 - val_loss: 0.4770 - val_accuracy: 0.8031\n",
      "Epoch 65/150\n",
      "514/514 [==============================] - 0s 124us/step - loss: 0.4777 - accuracy: 0.7685 - val_loss: 0.4898 - val_accuracy: 0.7598\n",
      "Epoch 66/150\n",
      "514/514 [==============================] - 0s 118us/step - loss: 0.4804 - accuracy: 0.7471 - val_loss: 0.4652 - val_accuracy: 0.7835\n",
      "Epoch 67/150\n",
      "514/514 [==============================] - 0s 122us/step - loss: 0.4689 - accuracy: 0.7665 - val_loss: 0.4710 - val_accuracy: 0.7795\n",
      "Epoch 68/150\n",
      "514/514 [==============================] - 0s 116us/step - loss: 0.4724 - accuracy: 0.7724 - val_loss: 0.4636 - val_accuracy: 0.7795\n",
      "Epoch 69/150\n",
      "514/514 [==============================] - 0s 130us/step - loss: 0.4621 - accuracy: 0.7685 - val_loss: 0.4701 - val_accuracy: 0.7992\n",
      "Epoch 70/150\n",
      "514/514 [==============================] - 0s 124us/step - loss: 0.4615 - accuracy: 0.7821 - val_loss: 0.4765 - val_accuracy: 0.7756\n",
      "Epoch 71/150\n",
      "514/514 [==============================] - 0s 116us/step - loss: 0.4658 - accuracy: 0.7840 - val_loss: 0.4721 - val_accuracy: 0.7756\n",
      "Epoch 72/150\n",
      "514/514 [==============================] - 0s 116us/step - loss: 0.4601 - accuracy: 0.7782 - val_loss: 0.4632 - val_accuracy: 0.7913\n",
      "Epoch 73/150\n",
      "514/514 [==============================] - 0s 115us/step - loss: 0.4646 - accuracy: 0.7782 - val_loss: 0.4585 - val_accuracy: 0.7953\n",
      "Epoch 74/150\n",
      "514/514 [==============================] - 0s 120us/step - loss: 0.4609 - accuracy: 0.7743 - val_loss: 0.4605 - val_accuracy: 0.7992\n",
      "Epoch 75/150\n",
      "514/514 [==============================] - 0s 116us/step - loss: 0.4566 - accuracy: 0.7743 - val_loss: 0.4756 - val_accuracy: 0.7638\n",
      "Epoch 76/150\n",
      "514/514 [==============================] - 0s 118us/step - loss: 0.4619 - accuracy: 0.7821 - val_loss: 0.4762 - val_accuracy: 0.7835\n",
      "Epoch 77/150\n",
      "514/514 [==============================] - 0s 120us/step - loss: 0.4647 - accuracy: 0.7588 - val_loss: 0.4597 - val_accuracy: 0.8031\n",
      "Epoch 78/150\n",
      "514/514 [==============================] - 0s 122us/step - loss: 0.4641 - accuracy: 0.7665 - val_loss: 0.4565 - val_accuracy: 0.7913\n",
      "Epoch 79/150\n",
      "514/514 [==============================] - 0s 122us/step - loss: 0.4668 - accuracy: 0.7724 - val_loss: 0.4708 - val_accuracy: 0.7913\n",
      "Epoch 80/150\n",
      "514/514 [==============================] - 0s 114us/step - loss: 0.4726 - accuracy: 0.7607 - val_loss: 0.4653 - val_accuracy: 0.7835\n",
      "Epoch 81/150\n",
      "514/514 [==============================] - 0s 119us/step - loss: 0.4684 - accuracy: 0.7588 - val_loss: 0.4834 - val_accuracy: 0.7795\n",
      "Epoch 82/150\n",
      "514/514 [==============================] - 0s 118us/step - loss: 0.4712 - accuracy: 0.7743 - val_loss: 0.4912 - val_accuracy: 0.7756\n",
      "Epoch 83/150\n",
      "514/514 [==============================] - 0s 124us/step - loss: 0.4638 - accuracy: 0.7724 - val_loss: 0.4599 - val_accuracy: 0.7992\n",
      "Epoch 84/150\n",
      "514/514 [==============================] - 0s 118us/step - loss: 0.4601 - accuracy: 0.7685 - val_loss: 0.4659 - val_accuracy: 0.7835\n",
      "Epoch 85/150\n",
      "514/514 [==============================] - 0s 138us/step - loss: 0.4651 - accuracy: 0.7724 - val_loss: 0.4971 - val_accuracy: 0.7992\n",
      "Epoch 86/150\n",
      "514/514 [==============================] - 0s 118us/step - loss: 0.4618 - accuracy: 0.7763 - val_loss: 0.4582 - val_accuracy: 0.8031\n",
      "Epoch 87/150\n",
      "514/514 [==============================] - 0s 128us/step - loss: 0.4625 - accuracy: 0.7665 - val_loss: 0.4740 - val_accuracy: 0.7913\n",
      "Epoch 88/150\n",
      "514/514 [==============================] - 0s 120us/step - loss: 0.4584 - accuracy: 0.7840 - val_loss: 0.4651 - val_accuracy: 0.7953\n",
      "Epoch 89/150\n",
      "514/514 [==============================] - 0s 122us/step - loss: 0.4493 - accuracy: 0.7782 - val_loss: 0.4754 - val_accuracy: 0.8071\n",
      "Epoch 90/150\n",
      "514/514 [==============================] - 0s 126us/step - loss: 0.4582 - accuracy: 0.7665 - val_loss: 0.4549 - val_accuracy: 0.8031\n",
      "Epoch 91/150\n",
      "514/514 [==============================] - 0s 126us/step - loss: 0.4517 - accuracy: 0.7977 - val_loss: 0.4923 - val_accuracy: 0.7717\n",
      "Epoch 92/150\n",
      "514/514 [==============================] - 0s 118us/step - loss: 0.4621 - accuracy: 0.7802 - val_loss: 0.4558 - val_accuracy: 0.7874\n",
      "Epoch 93/150\n",
      "514/514 [==============================] - 0s 116us/step - loss: 0.4533 - accuracy: 0.7685 - val_loss: 0.4766 - val_accuracy: 0.7953\n",
      "Epoch 94/150\n",
      "514/514 [==============================] - 0s 118us/step - loss: 0.4623 - accuracy: 0.7704 - val_loss: 0.4878 - val_accuracy: 0.7835\n",
      "Epoch 95/150\n",
      "514/514 [==============================] - 0s 124us/step - loss: 0.4729 - accuracy: 0.7763 - val_loss: 0.4720 - val_accuracy: 0.7874\n",
      "Epoch 96/150\n",
      "514/514 [==============================] - 0s 122us/step - loss: 0.4622 - accuracy: 0.7763 - val_loss: 0.4651 - val_accuracy: 0.7992\n",
      "Epoch 97/150\n",
      "514/514 [==============================] - 0s 120us/step - loss: 0.4587 - accuracy: 0.7802 - val_loss: 0.4732 - val_accuracy: 0.7874\n",
      "Epoch 98/150\n",
      "514/514 [==============================] - 0s 118us/step - loss: 0.4624 - accuracy: 0.7549 - val_loss: 0.4799 - val_accuracy: 0.7913\n",
      "Epoch 99/150\n",
      "514/514 [==============================] - 0s 118us/step - loss: 0.4562 - accuracy: 0.7782 - val_loss: 0.4662 - val_accuracy: 0.7874\n",
      "Epoch 100/150\n",
      "514/514 [==============================] - 0s 115us/step - loss: 0.4725 - accuracy: 0.7743 - val_loss: 0.4660 - val_accuracy: 0.7953\n",
      "Epoch 101/150\n",
      "514/514 [==============================] - 0s 140us/step - loss: 0.4501 - accuracy: 0.7899 - val_loss: 0.5021 - val_accuracy: 0.7480\n",
      "Epoch 102/150\n",
      "514/514 [==============================] - 0s 115us/step - loss: 0.4588 - accuracy: 0.7685 - val_loss: 0.4586 - val_accuracy: 0.7874\n",
      "Epoch 103/150\n",
      "514/514 [==============================] - 0s 122us/step - loss: 0.4600 - accuracy: 0.7665 - val_loss: 0.4702 - val_accuracy: 0.7992\n",
      "Epoch 104/150\n",
      "514/514 [==============================] - 0s 122us/step - loss: 0.4616 - accuracy: 0.7724 - val_loss: 0.4755 - val_accuracy: 0.7992\n",
      "Epoch 105/150\n",
      "514/514 [==============================] - 0s 109us/step - loss: 0.4663 - accuracy: 0.7938 - val_loss: 0.4836 - val_accuracy: 0.7677\n",
      "Epoch 106/150\n",
      "514/514 [==============================] - 0s 135us/step - loss: 0.4644 - accuracy: 0.7626 - val_loss: 0.4706 - val_accuracy: 0.7953\n",
      "Epoch 107/150\n",
      "514/514 [==============================] - 0s 124us/step - loss: 0.4553 - accuracy: 0.7782 - val_loss: 0.4547 - val_accuracy: 0.8071\n",
      "Epoch 108/150\n",
      "514/514 [==============================] - 0s 123us/step - loss: 0.4576 - accuracy: 0.7724 - val_loss: 0.4737 - val_accuracy: 0.7795\n",
      "Epoch 109/150\n",
      "514/514 [==============================] - 0s 138us/step - loss: 0.4626 - accuracy: 0.7743 - val_loss: 0.5119 - val_accuracy: 0.7559\n",
      "Epoch 110/150\n",
      "514/514 [==============================] - 0s 124us/step - loss: 0.4621 - accuracy: 0.7840 - val_loss: 0.4725 - val_accuracy: 0.7913\n",
      "Epoch 111/150\n",
      "514/514 [==============================] - 0s 118us/step - loss: 0.4587 - accuracy: 0.7802 - val_loss: 0.4624 - val_accuracy: 0.7992\n",
      "Epoch 112/150\n",
      "514/514 [==============================] - 0s 124us/step - loss: 0.4529 - accuracy: 0.7763 - val_loss: 0.4615 - val_accuracy: 0.7953\n",
      "Epoch 113/150\n",
      "514/514 [==============================] - 0s 116us/step - loss: 0.4467 - accuracy: 0.7879 - val_loss: 0.4802 - val_accuracy: 0.7717\n",
      "Epoch 114/150\n",
      "514/514 [==============================] - 0s 120us/step - loss: 0.4625 - accuracy: 0.7685 - val_loss: 0.4713 - val_accuracy: 0.7835\n",
      "Epoch 115/150\n",
      "514/514 [==============================] - 0s 126us/step - loss: 0.4549 - accuracy: 0.7782 - val_loss: 0.4703 - val_accuracy: 0.7992\n",
      "Epoch 116/150\n",
      "514/514 [==============================] - 0s 126us/step - loss: 0.4694 - accuracy: 0.7665 - val_loss: 0.4677 - val_accuracy: 0.8071\n",
      "Epoch 117/150\n",
      "514/514 [==============================] - 0s 120us/step - loss: 0.4541 - accuracy: 0.7743 - val_loss: 0.4859 - val_accuracy: 0.7638\n",
      "Epoch 118/150\n"
     ]
    },
    {
     "name": "stdout",
     "output_type": "stream",
     "text": [
      "514/514 [==============================] - 0s 120us/step - loss: 0.4576 - accuracy: 0.7665 - val_loss: 0.4720 - val_accuracy: 0.7835\n",
      "Epoch 119/150\n",
      "514/514 [==============================] - 0s 145us/step - loss: 0.4625 - accuracy: 0.7646 - val_loss: 0.4713 - val_accuracy: 0.7874\n",
      "Epoch 120/150\n",
      "514/514 [==============================] - 0s 120us/step - loss: 0.4513 - accuracy: 0.7646 - val_loss: 0.4683 - val_accuracy: 0.7874\n",
      "Epoch 121/150\n",
      "514/514 [==============================] - 0s 126us/step - loss: 0.4525 - accuracy: 0.7821 - val_loss: 0.4865 - val_accuracy: 0.7717\n",
      "Epoch 122/150\n",
      "514/514 [==============================] - 0s 118us/step - loss: 0.4607 - accuracy: 0.7646 - val_loss: 0.4609 - val_accuracy: 0.7874\n",
      "Epoch 123/150\n",
      "514/514 [==============================] - 0s 123us/step - loss: 0.4490 - accuracy: 0.7743 - val_loss: 0.4775 - val_accuracy: 0.7717\n",
      "Epoch 124/150\n",
      "514/514 [==============================] - 0s 124us/step - loss: 0.4509 - accuracy: 0.7743 - val_loss: 0.4851 - val_accuracy: 0.7874\n",
      "Epoch 125/150\n",
      "514/514 [==============================] - 0s 126us/step - loss: 0.4620 - accuracy: 0.7646 - val_loss: 0.4707 - val_accuracy: 0.7874\n",
      "Epoch 126/150\n",
      "514/514 [==============================] - 0s 126us/step - loss: 0.4768 - accuracy: 0.7510 - val_loss: 0.4940 - val_accuracy: 0.7795\n",
      "Epoch 127/150\n",
      "514/514 [==============================] - 0s 120us/step - loss: 0.4492 - accuracy: 0.7763 - val_loss: 0.4624 - val_accuracy: 0.7992\n",
      "Epoch 128/150\n",
      "514/514 [==============================] - 0s 128us/step - loss: 0.4669 - accuracy: 0.7412 - val_loss: 0.4732 - val_accuracy: 0.7953\n",
      "Epoch 129/150\n",
      "514/514 [==============================] - 0s 161us/step - loss: 0.4788 - accuracy: 0.7549 - val_loss: 0.4707 - val_accuracy: 0.7874\n",
      "Epoch 130/150\n",
      "514/514 [==============================] - 0s 118us/step - loss: 0.4596 - accuracy: 0.7743 - val_loss: 0.4643 - val_accuracy: 0.8071\n",
      "Epoch 131/150\n",
      "514/514 [==============================] - 0s 124us/step - loss: 0.4531 - accuracy: 0.7860 - val_loss: 0.5174 - val_accuracy: 0.7520\n",
      "Epoch 132/150\n",
      "514/514 [==============================] - 0s 127us/step - loss: 0.4621 - accuracy: 0.7782 - val_loss: 0.4743 - val_accuracy: 0.7953\n",
      "Epoch 133/150\n",
      "514/514 [==============================] - 0s 126us/step - loss: 0.4487 - accuracy: 0.7918 - val_loss: 0.4726 - val_accuracy: 0.7953\n",
      "Epoch 134/150\n",
      "514/514 [==============================] - 0s 116us/step - loss: 0.4604 - accuracy: 0.7588 - val_loss: 0.4729 - val_accuracy: 0.7795\n",
      "Epoch 135/150\n",
      "514/514 [==============================] - 0s 130us/step - loss: 0.4593 - accuracy: 0.7724 - val_loss: 0.4756 - val_accuracy: 0.7992\n",
      "Epoch 136/150\n",
      "514/514 [==============================] - 0s 118us/step - loss: 0.4630 - accuracy: 0.7607 - val_loss: 0.4780 - val_accuracy: 0.7953\n",
      "Epoch 137/150\n",
      "514/514 [==============================] - 0s 118us/step - loss: 0.4639 - accuracy: 0.7685 - val_loss: 0.4750 - val_accuracy: 0.7717\n",
      "Epoch 138/150\n",
      "514/514 [==============================] - 0s 116us/step - loss: 0.4442 - accuracy: 0.7821 - val_loss: 0.5237 - val_accuracy: 0.7441\n",
      "Epoch 139/150\n",
      "514/514 [==============================] - 0s 127us/step - loss: 0.4655 - accuracy: 0.7665 - val_loss: 0.4833 - val_accuracy: 0.7795\n",
      "Epoch 140/150\n",
      "514/514 [==============================] - 0s 118us/step - loss: 0.4530 - accuracy: 0.7821 - val_loss: 0.4877 - val_accuracy: 0.7874\n",
      "Epoch 141/150\n",
      "514/514 [==============================] - 0s 118us/step - loss: 0.4691 - accuracy: 0.7588 - val_loss: 0.4690 - val_accuracy: 0.7874\n",
      "Epoch 142/150\n",
      "514/514 [==============================] - 0s 130us/step - loss: 0.4569 - accuracy: 0.7782 - val_loss: 0.4613 - val_accuracy: 0.7992\n",
      "Epoch 143/150\n",
      "514/514 [==============================] - 0s 124us/step - loss: 0.4494 - accuracy: 0.7840 - val_loss: 0.4799 - val_accuracy: 0.7638\n",
      "Epoch 144/150\n",
      "514/514 [==============================] - 0s 116us/step - loss: 0.4610 - accuracy: 0.7743 - val_loss: 0.4709 - val_accuracy: 0.7913\n",
      "Epoch 145/150\n",
      "514/514 [==============================] - 0s 118us/step - loss: 0.4480 - accuracy: 0.7646 - val_loss: 0.4679 - val_accuracy: 0.7874\n",
      "Epoch 146/150\n",
      "514/514 [==============================] - 0s 118us/step - loss: 0.4622 - accuracy: 0.7626 - val_loss: 0.4804 - val_accuracy: 0.7835\n",
      "Epoch 147/150\n",
      "514/514 [==============================] - 0s 122us/step - loss: 0.4455 - accuracy: 0.7802 - val_loss: 0.4609 - val_accuracy: 0.8031\n",
      "Epoch 148/150\n",
      "514/514 [==============================] - 0s 120us/step - loss: 0.4504 - accuracy: 0.7782 - val_loss: 0.4630 - val_accuracy: 0.8031\n",
      "Epoch 149/150\n",
      "514/514 [==============================] - 0s 122us/step - loss: 0.4515 - accuracy: 0.7840 - val_loss: 0.5235 - val_accuracy: 0.7756\n",
      "Epoch 150/150\n",
      "514/514 [==============================] - 0s 122us/step - loss: 0.4638 - accuracy: 0.7529 - val_loss: 0.4602 - val_accuracy: 0.8071\n",
      "768/768 [==============================] - 0s 16us/step\n",
      "\n",
      "accuracy: 79.17%\n"
     ]
    }
   ],
   "source": [
    "from keras.models import Sequential\n",
    "from keras.layers import Dense\n",
    "import numpy\n",
    "numpy.random.seed(7)\n",
    "dataset = numpy.loadtxt(\"pima.data\", delimiter=\",\")\n",
    "X = dataset[:, 0:8]\n",
    "Y = dataset[:, 8]\n",
    "model = Sequential()\n",
    "model.add(Dense(12, input_dim=8, kernel_initializer='uniform',\n",
    "                activation='relu'))\n",
    "model.add(Dense(8, activation='relu'))\n",
    "model.add(Dense(1, activation='sigmoid'))\n",
    "model.compile(loss='binary_crossentropy', optimizer='adam',\n",
    "             metrics=['accuracy'])\n",
    "model.fit(X, Y, epochs=150, batch_size=10)\n",
    "history = model.fit(X, Y, validation_split=0.33, epochs=150, batch_size=10)\n",
    "scores = model.evaluate(X, Y)\n",
    "print(\"\\n%s: %.2f%%\" % (model.metrics_names[1], scores[1]*100))"
   ]
  },
  {
   "cell_type": "code",
   "execution_count": 16,
   "metadata": {},
   "outputs": [
    {
     "name": "stdout",
     "output_type": "stream",
     "text": [
      "dict_keys(['val_loss', 'val_accuracy', 'loss', 'accuracy'])\n"
     ]
    }
   ],
   "source": [
    "print(history.history.keys())"
   ]
  },
  {
   "cell_type": "code",
   "execution_count": 18,
   "metadata": {
    "scrolled": true
   },
   "outputs": [
    {
     "data": {
      "image/png": "[encoded data removed]",
      "text/plain": [
       "<Figure size 432x288 with 1 Axes>"
      ]
     },
     "metadata": {
      "needs_background": "light"
     },
     "output_type": "display_data"
    }
   ],
   "source": [
    "import matplotlib.pyplot as plt\n",
    "plt.plot(history.history['accuracy'])\n",
    "plt.plot(history.history['val_accuracy'])\n",
    "plt.title('accuracy')\n",
    "plt.ylabel('accuracy')\n",
    "plt.xlabel('epoch')\n",
    "plt.legend(['train', 'test'], loc='upper left')\n",
    "plt.show()\n",
    "plt.show()"
   ]
  },
  {
   "cell_type": "code",
   "execution_count": 19,
   "metadata": {},
   "outputs": [
    {
     "data": {
      "image/png": "[encoded data removed]",
      "text/plain": [
       "<Figure size 432x288 with 1 Axes>"
      ]
     },
     "metadata": {
      "needs_background": "light"
     },
     "output_type": "display_data"
    }
   ],
   "source": [
    "import matplotlib.pyplot as plt\n",
    "plt.plot(history.history['loss'])\n",
    "plt.plot(history.history['val_loss'])\n",
    "plt.title('loss')\n",
    "plt.ylabel('loss')\n",
    "plt.xlabel('epoch')\n",
    "plt.legend(['train', 'test'], loc='upper left')\n",
    "plt.show()\n",
    "plt.show()"
   ]
  },
  {
   "cell_type": "code",
   "execution_count": 22,
   "metadata": {},
   "outputs": [
    {
     "data": {
      "text/plain": [
       "[Text(0, 0.5, 'Y'), Text(0.5, 0, 'X'), Text(0.5, 1.0, 'binary classification')]"
      ]
     },
     "execution_count": 22,
     "metadata": {},
     "output_type": "execute_result"
    },
    {
     "data": {
      "image/png": "[encoded data removed]",
      "text/plain": [
       "<Figure size 432x288 with 1 Axes>"
      ]
     },
     "metadata": {
      "needs_background": "light"
     },
     "output_type": "display_data"
    }
   ],
   "source": [
    "from sklearn.preprocessing import scale\n",
    "from sklearn.datasets import make_moons\n",
    "from sklearn.model_selection import train_test_split\n",
    "X, Y = make_moons(noise=0.2, random_state=0, n_samples=1000)\n",
    "X = scale(X)\n",
    "X_train, X_test, Y_train, Y_test = train_test_split(X, Y, test_size=.5)\n",
    "\n",
    "fig, ax = plt.subplots()\n",
    "ax.scatter(X[Y==0, 0], X[Y==0, 1], label='Class 0')\n",
    "ax.scatter(X[Y==1, 0], X[Y==1, 1], color='r', label='Class 1')\n",
    "ax.legend()\n",
    "ax.set(xlabel='X', ylabel='Y', title='binary classification')"
   ]
  },
  {
   "cell_type": "code",
   "execution_count": 27,
   "metadata": {},
   "outputs": [
    {
     "name": "stdout",
     "output_type": "stream",
     "text": [
      "WARNING:tensorflow:From C:\\Users\\ICT01_05\\Anaconda3\\envs\\tf_test\\lib\\site-packages\\keras\\callbacks\\tensorboard_v1.py:146: The name tf.summary.histogram is deprecated. Please use tf.compat.v1.summary.histogram instead.\n",
      "\n",
      "WARNING:tensorflow:From C:\\Users\\ICT01_05\\Anaconda3\\envs\\tf_test\\lib\\site-packages\\keras\\callbacks\\tensorboard_v1.py:200: The name tf.summary.merge_all is deprecated. Please use tf.compat.v1.summary.merge_all instead.\n",
      "\n",
      "WARNING:tensorflow:From C:\\Users\\ICT01_05\\Anaconda3\\envs\\tf_test\\lib\\site-packages\\keras\\callbacks\\tensorboard_v1.py:203: The name tf.summary.FileWriter is deprecated. Please use tf.compat.v1.summary.FileWriter instead.\n",
      "\n"
     ]
    }
   ],
   "source": [
    "# 비선형 문제 해결 : 신경망\n",
    "import keras\n",
    "model = Sequential()\n",
    "# 1000X2 => 32로 차원 확대 (2X32) => 1000X32\n",
    "model.add(Dense(32, input_dim=2, activation='relu'))\n",
    "model.add(Dense(1, activation='sigmoid'))\n",
    "model.compile(optimizer='AdaDelta', loss='binary_crossentropy',\n",
    "             metrics=['accuracy'])\n",
    "# 콜백함수 : 자동으로 호출되는 함수\n",
    "tb_callback = keras.callbacks.TensorBoard(log_dir='./Graph/model_1/',\n",
    "                                         histogram_freq=100, write_graph=True,\n",
    "                                         write_images=False)\n",
    "tb_callback.set_model(model) # 콜백을 모델에 등록"
   ]
  },
  {
   "cell_type": "code",
   "execution_count": 29,
   "metadata": {},
   "outputs": [
    {
     "name": "stdout",
     "output_type": "stream",
     "text": [
      "WARNING:tensorflow:From C:\\Users\\ICT01_05\\Anaconda3\\envs\\tf_test\\lib\\site-packages\\keras\\callbacks\\tensorboard_v1.py:343: The name tf.Summary is deprecated. Please use tf.compat.v1.Summary instead.\n",
      "\n"
     ]
    }
   ],
   "source": [
    "hist = model.fit(X_train, Y_train, batch_size=32, epochs=200,\n",
    "                 verbose=0, validation_data=(X_test, Y_test),\n",
    "                 callbacks=[tb_callback])"
   ]
  },
  {
   "cell_type": "code",
   "execution_count": 31,
   "metadata": {},
   "outputs": [
    {
     "name": "stdout",
     "output_type": "stream",
     "text": [
      "Test loss:  0.12662312227487565\n",
      "Test accuracy:  0.9480000138282776\n"
     ]
    }
   ],
   "source": [
    "score = model.evaluate(X_test, Y_test, verbose=0)\n",
    "print('Test loss: ', score[0])\n",
    "print('Test accuracy: ', score[1])"
   ]
  },
  {
   "cell_type": "code",
   "execution_count": 62,
   "metadata": {},
   "outputs": [
    {
     "name": "stdout",
     "output_type": "stream",
     "text": [
      "Model: \"sequential_15\"\n",
      "_________________________________________________________________\n",
      "Layer (type)                 Output Shape              Param #   \n",
      "=================================================================\n",
      "dense_38 (Dense)             (None, 15)                11775     \n",
      "_________________________________________________________________\n",
      "dense_39 (Dense)             (None, 10)                160       \n",
      "=================================================================\n",
      "Total params: 11,935\n",
      "Trainable params: 11,935\n",
      "Non-trainable params: 0\n",
      "_________________________________________________________________\n"
     ]
    },
    {
     "ename": "ImportError",
     "evalue": "Failed to import `pydot`. Please install `pydot`. For example with `pip install pydot`.",
     "output_type": "error",
     "traceback": [
      "\u001b[1;31m---------------------------------------------------------------------------\u001b[0m",
      "\u001b[1;31mImportError\u001b[0m                               Traceback (most recent call last)",
      "\u001b[1;32m<ipython-input-62-1f9f123c8c78>\u001b[0m in \u001b[0;36m<module>\u001b[1;34m\u001b[0m\n\u001b[0;32m      1\u001b[0m \u001b[0mkeras\u001b[0m\u001b[1;33m.\u001b[0m\u001b[0mutils\u001b[0m\u001b[1;33m.\u001b[0m\u001b[0mprint_summary\u001b[0m\u001b[1;33m(\u001b[0m\u001b[0mmodel\u001b[0m\u001b[1;33m)\u001b[0m\u001b[1;33m\u001b[0m\u001b[1;33m\u001b[0m\u001b[0m\n\u001b[1;32m----> 2\u001b[1;33m \u001b[0mkeras\u001b[0m\u001b[1;33m.\u001b[0m\u001b[0mutils\u001b[0m\u001b[1;33m.\u001b[0m\u001b[0mplot_model\u001b[0m\u001b[1;33m(\u001b[0m\u001b[0mmodel\u001b[0m\u001b[1;33m)\u001b[0m\u001b[1;33m\u001b[0m\u001b[1;33m\u001b[0m\u001b[0m\n\u001b[0m",
      "\u001b[1;32m~\\Anaconda3\\envs\\tf_test\\lib\\site-packages\\keras\\utils\\vis_utils.py\u001b[0m in \u001b[0;36mplot_model\u001b[1;34m(model, to_file, show_shapes, show_layer_names, rankdir, expand_nested, dpi)\u001b[0m\n\u001b[0;32m    238\u001b[0m     \"\"\"\n\u001b[0;32m    239\u001b[0m     dot = model_to_dot(model, show_shapes, show_layer_names, rankdir,\n\u001b[1;32m--> 240\u001b[1;33m                        expand_nested, dpi)\n\u001b[0m\u001b[0;32m    241\u001b[0m     \u001b[0m_\u001b[0m\u001b[1;33m,\u001b[0m \u001b[0mextension\u001b[0m \u001b[1;33m=\u001b[0m \u001b[0mos\u001b[0m\u001b[1;33m.\u001b[0m\u001b[0mpath\u001b[0m\u001b[1;33m.\u001b[0m\u001b[0msplitext\u001b[0m\u001b[1;33m(\u001b[0m\u001b[0mto_file\u001b[0m\u001b[1;33m)\u001b[0m\u001b[1;33m\u001b[0m\u001b[1;33m\u001b[0m\u001b[0m\n\u001b[0;32m    242\u001b[0m     \u001b[1;32mif\u001b[0m \u001b[1;32mnot\u001b[0m \u001b[0mextension\u001b[0m\u001b[1;33m:\u001b[0m\u001b[1;33m\u001b[0m\u001b[1;33m\u001b[0m\u001b[0m\n",
      "\u001b[1;32m~\\Anaconda3\\envs\\tf_test\\lib\\site-packages\\keras\\utils\\vis_utils.py\u001b[0m in \u001b[0;36mmodel_to_dot\u001b[1;34m(model, show_shapes, show_layer_names, rankdir, expand_nested, dpi, subgraph)\u001b[0m\n\u001b[0;32m     77\u001b[0m     \u001b[1;32mfrom\u001b[0m \u001b[1;33m.\u001b[0m\u001b[1;33m.\u001b[0m\u001b[0mmodels\u001b[0m \u001b[1;32mimport\u001b[0m \u001b[0mSequential\u001b[0m\u001b[1;33m\u001b[0m\u001b[1;33m\u001b[0m\u001b[0m\n\u001b[0;32m     78\u001b[0m \u001b[1;33m\u001b[0m\u001b[0m\n\u001b[1;32m---> 79\u001b[1;33m     \u001b[0m_check_pydot\u001b[0m\u001b[1;33m(\u001b[0m\u001b[1;33m)\u001b[0m\u001b[1;33m\u001b[0m\u001b[1;33m\u001b[0m\u001b[0m\n\u001b[0m\u001b[0;32m     80\u001b[0m     \u001b[1;32mif\u001b[0m \u001b[0msubgraph\u001b[0m\u001b[1;33m:\u001b[0m\u001b[1;33m\u001b[0m\u001b[1;33m\u001b[0m\u001b[0m\n\u001b[0;32m     81\u001b[0m         \u001b[0mdot\u001b[0m \u001b[1;33m=\u001b[0m \u001b[0mpydot\u001b[0m\u001b[1;33m.\u001b[0m\u001b[0mCluster\u001b[0m\u001b[1;33m(\u001b[0m\u001b[0mstyle\u001b[0m\u001b[1;33m=\u001b[0m\u001b[1;34m'dashed'\u001b[0m\u001b[1;33m,\u001b[0m \u001b[0mgraph_name\u001b[0m\u001b[1;33m=\u001b[0m\u001b[0mmodel\u001b[0m\u001b[1;33m.\u001b[0m\u001b[0mname\u001b[0m\u001b[1;33m)\u001b[0m\u001b[1;33m\u001b[0m\u001b[1;33m\u001b[0m\u001b[0m\n",
      "\u001b[1;32m~\\Anaconda3\\envs\\tf_test\\lib\\site-packages\\keras\\utils\\vis_utils.py\u001b[0m in \u001b[0;36m_check_pydot\u001b[1;34m()\u001b[0m\n\u001b[0;32m     20\u001b[0m     \u001b[1;32mif\u001b[0m \u001b[0mpydot\u001b[0m \u001b[1;32mis\u001b[0m \u001b[1;32mNone\u001b[0m\u001b[1;33m:\u001b[0m\u001b[1;33m\u001b[0m\u001b[1;33m\u001b[0m\u001b[0m\n\u001b[0;32m     21\u001b[0m         raise ImportError(\n\u001b[1;32m---> 22\u001b[1;33m             \u001b[1;34m'Failed to import `pydot`. '\u001b[0m\u001b[1;33m\u001b[0m\u001b[1;33m\u001b[0m\u001b[0m\n\u001b[0m\u001b[0;32m     23\u001b[0m             \u001b[1;34m'Please install `pydot`. '\u001b[0m\u001b[1;33m\u001b[0m\u001b[1;33m\u001b[0m\u001b[0m\n\u001b[0;32m     24\u001b[0m             'For example with `pip install pydot`.')\n",
      "\u001b[1;31mImportError\u001b[0m: Failed to import `pydot`. Please install `pydot`. For example with `pip install pydot`."
     ]
    }
   ],
   "source": [
    "keras.utils.print_summary(model)\n",
    "keras.utils.plot_model(model)"
   ]
  },
  {
   "cell_type": "code",
   "execution_count": 34,
   "metadata": {},
   "outputs": [
    {
     "ename": "ImportError",
     "evalue": "Failed to import `pydot`. Please install `pydot`. For example with `pip install pydot`.",
     "output_type": "error",
     "traceback": [
      "\u001b[1;31m---------------------------------------------------------------------------\u001b[0m",
      "\u001b[1;31mImportError\u001b[0m                               Traceback (most recent call last)",
      "\u001b[1;32m<ipython-input-34-31a1d6f0f304>\u001b[0m in \u001b[0;36m<module>\u001b[1;34m\u001b[0m\n\u001b[0;32m      1\u001b[0m \u001b[0mget_ipython\u001b[0m\u001b[1;33m(\u001b[0m\u001b[1;33m)\u001b[0m\u001b[1;33m.\u001b[0m\u001b[0mrun_line_magic\u001b[0m\u001b[1;33m(\u001b[0m\u001b[1;34m'matplotlib'\u001b[0m\u001b[1;33m,\u001b[0m \u001b[1;34m'inline'\u001b[0m\u001b[1;33m)\u001b[0m\u001b[1;33m\u001b[0m\u001b[1;33m\u001b[0m\u001b[0m\n\u001b[0;32m      2\u001b[0m \u001b[1;32mfrom\u001b[0m \u001b[0mkeras\u001b[0m\u001b[1;33m.\u001b[0m\u001b[0mutils\u001b[0m\u001b[1;33m.\u001b[0m\u001b[0mvis_utils\u001b[0m \u001b[1;32mimport\u001b[0m \u001b[0mmodel_to_dot\u001b[0m\u001b[1;33m\u001b[0m\u001b[1;33m\u001b[0m\u001b[0m\n\u001b[1;32m----> 3\u001b[1;33m \u001b[0mmodel_to_dot\u001b[0m\u001b[1;33m(\u001b[0m\u001b[0mmodel\u001b[0m\u001b[1;33m)\u001b[0m\u001b[1;33m\u001b[0m\u001b[1;33m\u001b[0m\u001b[0m\n\u001b[0m",
      "\u001b[1;32m~\\Anaconda3\\envs\\tf_test\\lib\\site-packages\\keras\\utils\\vis_utils.py\u001b[0m in \u001b[0;36mmodel_to_dot\u001b[1;34m(model, show_shapes, show_layer_names, rankdir, expand_nested, dpi, subgraph)\u001b[0m\n\u001b[0;32m     77\u001b[0m     \u001b[1;32mfrom\u001b[0m \u001b[1;33m.\u001b[0m\u001b[1;33m.\u001b[0m\u001b[0mmodels\u001b[0m \u001b[1;32mimport\u001b[0m \u001b[0mSequential\u001b[0m\u001b[1;33m\u001b[0m\u001b[1;33m\u001b[0m\u001b[0m\n\u001b[0;32m     78\u001b[0m \u001b[1;33m\u001b[0m\u001b[0m\n\u001b[1;32m---> 79\u001b[1;33m     \u001b[0m_check_pydot\u001b[0m\u001b[1;33m(\u001b[0m\u001b[1;33m)\u001b[0m\u001b[1;33m\u001b[0m\u001b[1;33m\u001b[0m\u001b[0m\n\u001b[0m\u001b[0;32m     80\u001b[0m     \u001b[1;32mif\u001b[0m \u001b[0msubgraph\u001b[0m\u001b[1;33m:\u001b[0m\u001b[1;33m\u001b[0m\u001b[1;33m\u001b[0m\u001b[0m\n\u001b[0;32m     81\u001b[0m         \u001b[0mdot\u001b[0m \u001b[1;33m=\u001b[0m \u001b[0mpydot\u001b[0m\u001b[1;33m.\u001b[0m\u001b[0mCluster\u001b[0m\u001b[1;33m(\u001b[0m\u001b[0mstyle\u001b[0m\u001b[1;33m=\u001b[0m\u001b[1;34m'dashed'\u001b[0m\u001b[1;33m,\u001b[0m \u001b[0mgraph_name\u001b[0m\u001b[1;33m=\u001b[0m\u001b[0mmodel\u001b[0m\u001b[1;33m.\u001b[0m\u001b[0mname\u001b[0m\u001b[1;33m)\u001b[0m\u001b[1;33m\u001b[0m\u001b[1;33m\u001b[0m\u001b[0m\n",
      "\u001b[1;32m~\\Anaconda3\\envs\\tf_test\\lib\\site-packages\\keras\\utils\\vis_utils.py\u001b[0m in \u001b[0;36m_check_pydot\u001b[1;34m()\u001b[0m\n\u001b[0;32m     20\u001b[0m     \u001b[1;32mif\u001b[0m \u001b[0mpydot\u001b[0m \u001b[1;32mis\u001b[0m \u001b[1;32mNone\u001b[0m\u001b[1;33m:\u001b[0m\u001b[1;33m\u001b[0m\u001b[1;33m\u001b[0m\u001b[0m\n\u001b[0;32m     21\u001b[0m         raise ImportError(\n\u001b[1;32m---> 22\u001b[1;33m             \u001b[1;34m'Failed to import `pydot`. '\u001b[0m\u001b[1;33m\u001b[0m\u001b[1;33m\u001b[0m\u001b[0m\n\u001b[0m\u001b[0;32m     23\u001b[0m             \u001b[1;34m'Please install `pydot`. '\u001b[0m\u001b[1;33m\u001b[0m\u001b[1;33m\u001b[0m\u001b[0m\n\u001b[0;32m     24\u001b[0m             'For example with `pip install pydot`.')\n",
      "\u001b[1;31mImportError\u001b[0m: Failed to import `pydot`. Please install `pydot`. For example with `pip install pydot`."
     ]
    }
   ],
   "source": [
    "%matplotlib inline\n",
    "from keras.utils.vis_utils import model_to_dot\n",
    "model_to_dot(model)"
   ]
  },
  {
   "cell_type": "code",
   "execution_count": 35,
   "metadata": {},
   "outputs": [
    {
     "ename": "ImportError",
     "evalue": "Failed to import `pydot`. Please install `pydot`. For example with `pip install pydot`.",
     "output_type": "error",
     "traceback": [
      "\u001b[1;31m---------------------------------------------------------------------------\u001b[0m",
      "\u001b[1;31mImportError\u001b[0m                               Traceback (most recent call last)",
      "\u001b[1;32m<ipython-input-35-8dffb9e96d6b>\u001b[0m in \u001b[0;36m<module>\u001b[1;34m\u001b[0m\n\u001b[0;32m      1\u001b[0m \u001b[1;32mfrom\u001b[0m \u001b[0mIPython\u001b[0m\u001b[1;33m.\u001b[0m\u001b[0mdisplay\u001b[0m \u001b[1;32mimport\u001b[0m \u001b[0mImage\u001b[0m\u001b[1;33m,\u001b[0m \u001b[0mSVG\u001b[0m\u001b[1;33m\u001b[0m\u001b[1;33m\u001b[0m\u001b[0m\n\u001b[1;32m----> 2\u001b[1;33m \u001b[0mSVG\u001b[0m\u001b[1;33m(\u001b[0m\u001b[0mmodel_to_dot\u001b[0m\u001b[1;33m(\u001b[0m\u001b[0mmodel\u001b[0m\u001b[1;33m)\u001b[0m\u001b[1;33m.\u001b[0m\u001b[0mcreate\u001b[0m\u001b[1;33m(\u001b[0m\u001b[0mprog\u001b[0m\u001b[1;33m=\u001b[0m\u001b[1;34m'dot'\u001b[0m\u001b[1;33m,\u001b[0m \u001b[0mformat\u001b[0m\u001b[1;33m=\u001b[0m\u001b[1;34m'svg'\u001b[0m\u001b[1;33m)\u001b[0m\u001b[1;33m)\u001b[0m\u001b[1;33m\u001b[0m\u001b[1;33m\u001b[0m\u001b[0m\n\u001b[0m",
      "\u001b[1;32m~\\Anaconda3\\envs\\tf_test\\lib\\site-packages\\keras\\utils\\vis_utils.py\u001b[0m in \u001b[0;36mmodel_to_dot\u001b[1;34m(model, show_shapes, show_layer_names, rankdir, expand_nested, dpi, subgraph)\u001b[0m\n\u001b[0;32m     77\u001b[0m     \u001b[1;32mfrom\u001b[0m \u001b[1;33m.\u001b[0m\u001b[1;33m.\u001b[0m\u001b[0mmodels\u001b[0m \u001b[1;32mimport\u001b[0m \u001b[0mSequential\u001b[0m\u001b[1;33m\u001b[0m\u001b[1;33m\u001b[0m\u001b[0m\n\u001b[0;32m     78\u001b[0m \u001b[1;33m\u001b[0m\u001b[0m\n\u001b[1;32m---> 79\u001b[1;33m     \u001b[0m_check_pydot\u001b[0m\u001b[1;33m(\u001b[0m\u001b[1;33m)\u001b[0m\u001b[1;33m\u001b[0m\u001b[1;33m\u001b[0m\u001b[0m\n\u001b[0m\u001b[0;32m     80\u001b[0m     \u001b[1;32mif\u001b[0m \u001b[0msubgraph\u001b[0m\u001b[1;33m:\u001b[0m\u001b[1;33m\u001b[0m\u001b[1;33m\u001b[0m\u001b[0m\n\u001b[0;32m     81\u001b[0m         \u001b[0mdot\u001b[0m \u001b[1;33m=\u001b[0m \u001b[0mpydot\u001b[0m\u001b[1;33m.\u001b[0m\u001b[0mCluster\u001b[0m\u001b[1;33m(\u001b[0m\u001b[0mstyle\u001b[0m\u001b[1;33m=\u001b[0m\u001b[1;34m'dashed'\u001b[0m\u001b[1;33m,\u001b[0m \u001b[0mgraph_name\u001b[0m\u001b[1;33m=\u001b[0m\u001b[0mmodel\u001b[0m\u001b[1;33m.\u001b[0m\u001b[0mname\u001b[0m\u001b[1;33m)\u001b[0m\u001b[1;33m\u001b[0m\u001b[1;33m\u001b[0m\u001b[0m\n",
      "\u001b[1;32m~\\Anaconda3\\envs\\tf_test\\lib\\site-packages\\keras\\utils\\vis_utils.py\u001b[0m in \u001b[0;36m_check_pydot\u001b[1;34m()\u001b[0m\n\u001b[0;32m     20\u001b[0m     \u001b[1;32mif\u001b[0m \u001b[0mpydot\u001b[0m \u001b[1;32mis\u001b[0m \u001b[1;32mNone\u001b[0m\u001b[1;33m:\u001b[0m\u001b[1;33m\u001b[0m\u001b[1;33m\u001b[0m\u001b[0m\n\u001b[0;32m     21\u001b[0m         raise ImportError(\n\u001b[1;32m---> 22\u001b[1;33m             \u001b[1;34m'Failed to import `pydot`. '\u001b[0m\u001b[1;33m\u001b[0m\u001b[1;33m\u001b[0m\u001b[0m\n\u001b[0m\u001b[0;32m     23\u001b[0m             \u001b[1;34m'Please install `pydot`. '\u001b[0m\u001b[1;33m\u001b[0m\u001b[1;33m\u001b[0m\u001b[0m\n\u001b[0;32m     24\u001b[0m             'For example with `pip install pydot`.')\n",
      "\u001b[1;31mImportError\u001b[0m: Failed to import `pydot`. Please install `pydot`. For example with `pip install pydot`."
     ]
    }
   ],
   "source": [
    "from IPython.display import Image, SVG\n",
    "SVG(model_to_dot(model).create(prog='dot', format='svg'))"
   ]
  },
  {
   "cell_type": "code",
   "execution_count": 66,
   "metadata": {},
   "outputs": [],
   "source": [
    "# Callback class\n",
    "# custom callback 함수의 제작\n",
    "# 함수에 의해서 호출되는 객체\n",
    "class CustomHistory(keras.callbacks.Callback):\n",
    "    def init(self):\n",
    "        self.train_loss = []\n",
    "        self.val_loss = []\n",
    "        self.train_acc = []\n",
    "        self.val_acc = []\n",
    "        \n",
    "    def on_epoch_end(self, batch, logs={}): # 오버라이딩\n",
    "        self.train_loss.append(logs.get('loss'))\n",
    "        self.val_loss.append(logs.get('val_loss'))\n",
    "        self.train_acc.append(logs.get('acc'))\n",
    "        self.val_acc.append(logs.get('val_acc'))"
   ]
  },
  {
   "cell_type": "code",
   "execution_count": 67,
   "metadata": {},
   "outputs": [
    {
     "name": "stdout",
     "output_type": "stream",
     "text": [
      "(60000, 28, 28) uint8\n",
      "(60000,) uint8\n",
      "(10000, 28, 28) uint8\n",
      "(10000,) uint8\n"
     ]
    }
   ],
   "source": [
    "from keras.datasets import mnist\n",
    "import matplotlib.pylab as plt\n",
    "(X_train0, y_train0), (X_test0, y_test0) = mnist.load_data()\n",
    "print(X_train0.shape, X_train0.dtype)\n",
    "print(y_train0.shape, y_train0.dtype)\n",
    "print(X_test0.shape, X_test0.dtype)\n",
    "print(y_test0.shape, y_test0.dtype)"
   ]
  },
  {
   "cell_type": "code",
   "execution_count": 68,
   "metadata": {},
   "outputs": [
    {
     "data": {
      "image/png": "[encoded data removed]",
      "text/plain": [
       "<Figure size 432x288 with 1 Axes>"
      ]
     },
     "metadata": {
      "needs_background": "light"
     },
     "output_type": "display_data"
    }
   ],
   "source": [
    "plt.imshow(X_train0[0])\n",
    "plt.grid(False)\n",
    "plt.show()"
   ]
  },
  {
   "cell_type": "code",
   "execution_count": 69,
   "metadata": {},
   "outputs": [
    {
     "name": "stdout",
     "output_type": "stream",
     "text": [
      "(60000, 784) (10000, 784)\n"
     ]
    }
   ],
   "source": [
    "# 이미지 정규화 : 0~255 컬러값 => 0~1\n",
    "X_train = X_train0.reshape(60000, 784).astype('float32') / 255.0\n",
    "X_test = X_test0.reshape(10000, 784).astype('float32') / 255.0\n",
    "print(X_train.shape, X_test.shape)"
   ]
  },
  {
   "cell_type": "code",
   "execution_count": 70,
   "metadata": {},
   "outputs": [
    {
     "data": {
      "text/plain": [
       "array([5, 0, 4, 1, 9], dtype=uint8)"
      ]
     },
     "execution_count": 70,
     "metadata": {},
     "output_type": "execute_result"
    }
   ],
   "source": [
    "y_train0[:5] # one-hot-encoding 여부\n",
    "# multi label -> 분류 softmax : 경우의 수에 대한 확률값"
   ]
  },
  {
   "cell_type": "code",
   "execution_count": 71,
   "metadata": {},
   "outputs": [
    {
     "data": {
      "text/plain": [
       "array([[0., 0., 0., 0., 0., 1., 0., 0., 0., 0.],\n",
       "       [1., 0., 0., 0., 0., 0., 0., 0., 0., 0.],\n",
       "       [0., 0., 0., 0., 1., 0., 0., 0., 0., 0.],\n",
       "       [0., 1., 0., 0., 0., 0., 0., 0., 0., 0.],\n",
       "       [0., 0., 0., 0., 0., 0., 0., 0., 0., 1.]], dtype=float32)"
      ]
     },
     "execution_count": 71,
     "metadata": {},
     "output_type": "execute_result"
    }
   ],
   "source": [
    "from keras.utils import np_utils\n",
    "Y_train = np_utils.to_categorical(y_train0, 10)\n",
    "Y_test = np_utils.to_categorical(y_test0, 10)\n",
    "Y_train[:5]"
   ]
  },
  {
   "cell_type": "code",
   "execution_count": 72,
   "metadata": {},
   "outputs": [],
   "source": [
    "import numpy as np\n",
    "from keras.optimizers import SGD\n",
    "np.random.seed(0)\n",
    "model = Sequential()\n",
    "model.add(Dense(512, input_dim=784, activation=\"sigmoid\"))\n",
    "model.add(Dense(15, activation=\"sigmoid\"))\n",
    "model.add(Dense(10, activation=\"sigmoid\"))\n",
    "model.compile(optimizer=SGD(lr=0.2), loss='mean_squared_error',\n",
    "             metrics=['accuracy'])"
   ]
  },
  {
   "cell_type": "code",
   "execution_count": 54,
   "metadata": {},
   "outputs": [
    {
     "data": {
      "text/plain": [
       "[<keras.layers.core.Dense at 0x23949d694c8>,\n",
       " <keras.layers.core.Dense at 0x23949d69bc8>]"
      ]
     },
     "execution_count": 54,
     "metadata": {},
     "output_type": "execute_result"
    }
   ],
   "source": [
    "model.layers"
   ]
  },
  {
   "cell_type": "code",
   "execution_count": 73,
   "metadata": {},
   "outputs": [
    {
     "data": {
      "text/plain": [
       "<function keras.activations.sigmoid(x)>"
      ]
     },
     "execution_count": 73,
     "metadata": {},
     "output_type": "execute_result"
    }
   ],
   "source": [
    "l1 = model.layers[0]\n",
    "l2 = model.layers[1]\n",
    "\n",
    "l1.name\n",
    "l1.input_shape\n",
    "l1.output_shape\n",
    "l1.activation"
   ]
  },
  {
   "cell_type": "code",
   "execution_count": 74,
   "metadata": {},
   "outputs": [
    {
     "name": "stderr",
     "output_type": "stream",
     "text": [
      "C:\\Users\\ICT01_05\\Anaconda3\\envs\\tf_test\\lib\\site-packages\\ipykernel_launcher.py:5: UserWarning: The `nb_epoch` argument in `fit` has been renamed `epochs`.\n",
      "  \"\"\"\n"
     ]
    },
    {
     "name": "stdout",
     "output_type": "stream",
     "text": [
      "Train on 60000 samples, validate on 10000 samples\n",
      "Epoch 1/30\n",
      " - 1s - loss: 0.1019 - accuracy: 0.2440 - val_loss: 0.0864 - val_accuracy: 0.3212\n",
      "Epoch 2/30\n",
      " - 1s - loss: 0.0845 - accuracy: 0.3921 - val_loss: 0.0821 - val_accuracy: 0.4409\n",
      "Epoch 3/30\n",
      " - 1s - loss: 0.0796 - accuracy: 0.4997 - val_loss: 0.0765 - val_accuracy: 0.5340\n",
      "Epoch 4/30\n",
      " - 1s - loss: 0.0740 - accuracy: 0.5620 - val_loss: 0.0707 - val_accuracy: 0.5852\n",
      "Epoch 5/30\n",
      " - 1s - loss: 0.0682 - accuracy: 0.6149 - val_loss: 0.0649 - val_accuracy: 0.6522\n",
      "Epoch 6/30\n",
      " - 1s - loss: 0.0625 - accuracy: 0.6759 - val_loss: 0.0594 - val_accuracy: 0.6998\n",
      "Epoch 7/30\n",
      " - 1s - loss: 0.0576 - accuracy: 0.7101 - val_loss: 0.0551 - val_accuracy: 0.7316\n",
      "Epoch 8/30\n",
      " - 1s - loss: 0.0537 - accuracy: 0.7325 - val_loss: 0.0516 - val_accuracy: 0.7485\n",
      "Epoch 9/30\n",
      " - 1s - loss: 0.0505 - accuracy: 0.7474 - val_loss: 0.0486 - val_accuracy: 0.7639\n",
      "Epoch 10/30\n",
      " - 1s - loss: 0.0478 - accuracy: 0.7609 - val_loss: 0.0461 - val_accuracy: 0.7759\n",
      "Epoch 11/30\n",
      " - 1s - loss: 0.0455 - accuracy: 0.7739 - val_loss: 0.0439 - val_accuracy: 0.7893\n",
      "Epoch 12/30\n",
      " - 1s - loss: 0.0435 - accuracy: 0.7859 - val_loss: 0.0420 - val_accuracy: 0.8023\n",
      "Epoch 13/30\n",
      " - 1s - loss: 0.0417 - accuracy: 0.7977 - val_loss: 0.0402 - val_accuracy: 0.8132\n",
      "Epoch 14/30\n",
      " - 1s - loss: 0.0400 - accuracy: 0.8083 - val_loss: 0.0386 - val_accuracy: 0.8255\n",
      "Epoch 15/30\n",
      " - 1s - loss: 0.0385 - accuracy: 0.8192 - val_loss: 0.0371 - val_accuracy: 0.8359\n",
      "Epoch 16/30\n",
      " - 1s - loss: 0.0371 - accuracy: 0.8288 - val_loss: 0.0358 - val_accuracy: 0.8432\n",
      "Epoch 17/30\n",
      " - 1s - loss: 0.0359 - accuracy: 0.8371 - val_loss: 0.0345 - val_accuracy: 0.8503\n",
      "Epoch 18/30\n",
      " - 1s - loss: 0.0347 - accuracy: 0.8440 - val_loss: 0.0334 - val_accuracy: 0.8557\n",
      "Epoch 19/30\n",
      " - 1s - loss: 0.0336 - accuracy: 0.8506 - val_loss: 0.0323 - val_accuracy: 0.8618\n",
      "Epoch 20/30\n",
      " - 1s - loss: 0.0326 - accuracy: 0.8565 - val_loss: 0.0313 - val_accuracy: 0.8651\n",
      "Epoch 21/30\n",
      " - 1s - loss: 0.0316 - accuracy: 0.8610 - val_loss: 0.0304 - val_accuracy: 0.8706\n",
      "Epoch 22/30\n",
      " - 1s - loss: 0.0308 - accuracy: 0.8646 - val_loss: 0.0295 - val_accuracy: 0.8742\n",
      "Epoch 23/30\n",
      " - 1s - loss: 0.0299 - accuracy: 0.8680 - val_loss: 0.0287 - val_accuracy: 0.8777\n",
      "Epoch 24/30\n",
      " - 1s - loss: 0.0292 - accuracy: 0.8709 - val_loss: 0.0280 - val_accuracy: 0.8790\n",
      "Epoch 25/30\n",
      " - 1s - loss: 0.0285 - accuracy: 0.8738 - val_loss: 0.0273 - val_accuracy: 0.8814\n",
      "Epoch 26/30\n",
      " - 1s - loss: 0.0278 - accuracy: 0.8765 - val_loss: 0.0267 - val_accuracy: 0.8845\n",
      "Epoch 27/30\n",
      " - 1s - loss: 0.0272 - accuracy: 0.8787 - val_loss: 0.0261 - val_accuracy: 0.8863\n",
      "Epoch 28/30\n",
      " - 1s - loss: 0.0266 - accuracy: 0.8814 - val_loss: 0.0255 - val_accuracy: 0.8878\n",
      "Epoch 29/30\n",
      " - 1s - loss: 0.0261 - accuracy: 0.8829 - val_loss: 0.0250 - val_accuracy: 0.8894\n",
      "Epoch 30/30\n",
      " - 1s - loss: 0.0256 - accuracy: 0.8844 - val_loss: 0.0245 - val_accuracy: 0.8904\n"
     ]
    }
   ],
   "source": [
    "custom_hist = CustomHistory()\n",
    "custom_hist.init()\n",
    "hist = model.fit(X_train, Y_train, nb_epoch=30, batch_size=100,\n",
    "                validation_data=(X_test, Y_test), callbacks=[custom_hist],\n",
    "                 verbose=2)"
   ]
  },
  {
   "cell_type": "code",
   "execution_count": 77,
   "metadata": {},
   "outputs": [
    {
     "data": {
      "image/png": "[encoded data removed]",
      "text/plain": [
       "<Figure size 432x288 with 1 Axes>"
      ]
     },
     "metadata": {
      "needs_background": "light"
     },
     "output_type": "display_data"
    },
    {
     "name": "stdout",
     "output_type": "stream",
     "text": [
      "{'batch_size': 100, 'epochs': 30, 'steps': None, 'samples': 60000, 'verbose': 2, 'do_validation': True, 'metrics': ['loss', 'accuracy', 'val_loss', 'val_accuracy']}\n",
      "[0.24401666, 0.39213333, 0.49971667, 0.56201667, 0.6149167, 0.6759167, 0.7101333, 0.7325, 0.7474167, 0.76085, 0.77395, 0.7858833, 0.79766667, 0.8082833, 0.81918335, 0.82878333, 0.83713335, 0.84403336, 0.8506333, 0.85646665, 0.8609667, 0.8646167, 0.86795, 0.87091666, 0.87381667, 0.87651664, 0.8786833, 0.88136667, 0.8829, 0.8844]\n",
      "0.8903999924659729\n"
     ]
    },
    {
     "data": {
      "image/png": "[encoded data removed]",
      "text/plain": [
       "<Figure size 432x288 with 1 Axes>"
      ]
     },
     "metadata": {
      "needs_background": "light"
     },
     "output_type": "display_data"
    }
   ],
   "source": [
    "plt.plot(hist.history['accuracy'], 'b-', label=\"training\")\n",
    "plt.plot(hist.history['val_accuracy'], 'r:', label=\"test\")\n",
    "plt.legend()\n",
    "plt.show()\n",
    "print(hist.params)\n",
    "print(hist.history['accuracy'])\n",
    "print(hist.history['val_accuracy'][29])\n",
    "plt.show()\n",
    "plt.plot(custom_hist.train_loss, 'y', label=\"train loss\")\n",
    "plt.show()"
   ]
  },
  {
   "cell_type": "code",
   "execution_count": 78,
   "metadata": {},
   "outputs": [
    {
     "data": {
      "text/plain": [
       "array([7], dtype=int64)"
      ]
     },
     "execution_count": 78,
     "metadata": {},
     "output_type": "execute_result"
    }
   ],
   "source": [
    "# 문제 X_test의 미지 한 장의 label을 예측해보세요\n",
    "model.predict(X_test[:1, :])\n",
    "model.predict_classes(X_test[:1, :], verbose=0) # 원핫인코딩을 바꿔줌"
   ]
  },
  {
   "cell_type": "code",
   "execution_count": 79,
   "metadata": {},
   "outputs": [
    {
     "name": "stdout",
     "output_type": "stream",
     "text": [
      "Downloading data from https://s3.amazonaws.com/keras-datasets/boston_housing.npz\n",
      "57344/57026 [==============================] - 0s 4us/step\n"
     ]
    }
   ],
   "source": [
    "from keras.datasets import boston_housing\n",
    "(x_train, y_train), (x_test, y_test) = boston_housing.load_data()"
   ]
  },
  {
   "cell_type": "code",
   "execution_count": 83,
   "metadata": {},
   "outputs": [
    {
     "name": "stdout",
     "output_type": "stream",
     "text": [
      "shape of x_train (404, 13)\n",
      "shape of y_train (404,)\n",
      "(102, 13)\n",
      "(102,)\n"
     ]
    }
   ],
   "source": [
    "print(\"shape of x_train\", x_train.shape)\n",
    "print(\"shape of y_train\", y_train.shape)\n",
    "print(x_test.shape)\n",
    "print(y_test.shape)"
   ]
  },
  {
   "cell_type": "code",
   "execution_count": 85,
   "metadata": {},
   "outputs": [
    {
     "name": "stdout",
     "output_type": "stream",
     "text": [
      "Model: \"sequential_17\"\n",
      "_________________________________________________________________\n",
      "Layer (type)                 Output Shape              Param #   \n",
      "=================================================================\n",
      "dense_42 (Dense)             (None, 1)                 14        \n",
      "=================================================================\n",
      "Total params: 14\n",
      "Trainable params: 14\n",
      "Non-trainable params: 0\n",
      "_________________________________________________________________\n",
      "Epoch 1/10\n",
      "404/404 [==============================] - 0s 979us/step - loss: 28031.2535 - mae: 127.1642\n",
      "Epoch 2/10\n",
      "404/404 [==============================] - 0s 585us/step - loss: 3554.3965 - mae: 46.6836\n",
      "Epoch 3/10\n",
      "404/404 [==============================] - 0s 677us/step - loss: 1257.6941 - mae: 27.5113\n",
      "Epoch 4/10\n",
      "404/404 [==============================] - 0s 661us/step - loss: 298.5174 - mae: 12.8495\n",
      "Epoch 5/10\n",
      "404/404 [==============================] - 0s 664us/step - loss: 140.4095 - mae: 8.7667\n",
      "Epoch 6/10\n",
      "404/404 [==============================] - 0s 624us/step - loss: 126.6947 - mae: 8.0275\n",
      "Epoch 7/10\n",
      "404/404 [==============================] - 0s 591us/step - loss: 113.5021 - mae: 7.5869\n",
      "Epoch 8/10\n",
      "404/404 [==============================] - 0s 751us/step - loss: 104.8122 - mae: 7.3391\n",
      "Epoch 9/10\n",
      "404/404 [==============================] - 0s 580us/step - loss: 98.4709 - mae: 7.0894\n",
      "Epoch 10/10\n",
      "404/404 [==============================] - 0s 605us/step - loss: 91.2522 - mae: 6.6835\n"
     ]
    },
    {
     "data": {
      "text/plain": [
       "<keras.callbacks.callbacks.History at 0x23945adce48>"
      ]
     },
     "execution_count": 85,
     "metadata": {},
     "output_type": "execute_result"
    }
   ],
   "source": [
    "num_features = 13\n",
    "model = Sequential()\n",
    "model.add(Dense(1, input_dim=num_features, activation='linear'))\n",
    "model.summary()\n",
    "model.compile(optimizer='rmsprop', loss='mse', metrics=[\"mae\"])\n",
    "model.fit(x_train, y_train, batch_size=1, epochs=10, verbose=1)"
   ]
  },
  {
   "cell_type": "code",
   "execution_count": 86,
   "metadata": {},
   "outputs": [
    {
     "data": {
      "text/plain": [
       "(80.5265775194355, 6.593564033508301, 8.973660207486994)"
      ]
     },
     "execution_count": 86,
     "metadata": {},
     "output_type": "execute_result"
    }
   ],
   "source": [
    "mse, mae = model.evaluate(x_test, y_test, verbose=False)\n",
    "rmse = np.sqrt(mse)\n",
    "mse, mae, rmse"
   ]
  },
  {
   "cell_type": "code",
   "execution_count": 116,
   "metadata": {},
   "outputs": [
    {
     "data": {
      "text/plain": [
       "(3,)"
      ]
     },
     "execution_count": 116,
     "metadata": {},
     "output_type": "execute_result"
    }
   ],
   "source": [
    "# 문제 : x_test 앞의 3집을 예측하시오\n",
    "pred = model.predict(x_test[:3,:])\n",
    "pred = pred.flatten()"
   ]
  },
  {
   "cell_type": "code",
   "execution_count": 117,
   "metadata": {},
   "outputs": [],
   "source": [
    "real = y_test[:3]\n",
    "real = real.flatten()"
   ]
  },
  {
   "cell_type": "code",
   "execution_count": 118,
   "metadata": {
    "scrolled": true
   },
   "outputs": [
    {
     "data": {
      "text/plain": [
       "array([[1.        , 0.91582434],\n",
       "       [0.91582434, 1.        ]])"
      ]
     },
     "execution_count": 118,
     "metadata": {},
     "output_type": "execute_result"
    }
   ],
   "source": [
    "import numpy as np\n",
    "np.corrcoef(pred, real)"
   ]
  },
  {
   "cell_type": "code",
   "execution_count": 132,
   "metadata": {},
   "outputs": [],
   "source": [
    "# scikits -- keras를 연결 : KerasClassifier, KerasRegressor\n",
    "import numpy\n",
    "from sklearn.model_selection import GridSearchCV\n",
    "from keras.models import Sequential\n",
    "from keras.layers import Dense, Dropout\n",
    "from keras.wrappers.scikit_learn import KerasClassifier"
   ]
  },
  {
   "cell_type": "code",
   "execution_count": 122,
   "metadata": {},
   "outputs": [],
   "source": [
    "def create_model():\n",
    "    model = Sequential()\n",
    "    model.add(Dense(12, input_dim=8, activation='relu'))\n",
    "    model.add(Dense(1, activation='sigmoid'))\n",
    "    model.compile(loss='binary_crossentropy', optimizer='adam',\n",
    "                 metrics=['accuracy'])\n",
    "    return model\n",
    "\n",
    "seed = 7\n",
    "numpy.random.seed(seed)\n",
    "dataset = numpy.loadtxt(\"pima.data\", delimiter=\",\") #원랜 csv인데 없당\n",
    "X = dataset[:, 0:8]\n",
    "Y = dataset[:, 8]\n",
    "model = KerasClassifier(build_fn=create_model, verbose=0)"
   ]
  },
  {
   "cell_type": "code",
   "execution_count": 126,
   "metadata": {},
   "outputs": [
    {
     "name": "stderr",
     "output_type": "stream",
     "text": [
      "C:\\Users\\ICT01_05\\Anaconda3\\envs\\tf_test\\lib\\site-packages\\joblib\\externals\\loky\\process_executor.py:706: UserWarning: A worker stopped while some jobs were given to the executor. This can be caused by a too short worker timeout or by a memory leak.\n",
      "  \"timeout or by a memory leak.\", UserWarning\n"
     ]
    },
    {
     "name": "stdout",
     "output_type": "stream",
     "text": [
      "최적스코어: 0.703183   사용한 파라미터조합 : {'batch_size': 40, 'epochs': 100}\n",
      "0.605619 (0.075790) with: {'batch_size': 10, 'epochs': 10}\n",
      "0.681037 (0.023756) with: {'batch_size': 10, 'epochs': 50}\n",
      "0.667830 (0.057949) with: {'batch_size': 10, 'epochs': 100}\n",
      "0.615856 (0.021851) with: {'batch_size': 20, 'epochs': 10}\n",
      "0.677082 (0.021192) with: {'batch_size': 20, 'epochs': 50}\n",
      "0.683669 (0.038598) with: {'batch_size': 20, 'epochs': 100}\n",
      "0.506706 (0.084049) with: {'batch_size': 40, 'epochs': 10}\n",
      "0.665376 (0.016546) with: {'batch_size': 40, 'epochs': 50}\n",
      "0.703183 (0.030178) with: {'batch_size': 40, 'epochs': 100}\n",
      "0.572948 (0.041006) with: {'batch_size': 60, 'epochs': 10}\n",
      "0.664018 (0.032747) with: {'batch_size': 60, 'epochs': 50}\n",
      "0.673220 (0.024621) with: {'batch_size': 60, 'epochs': 100}\n",
      "0.525974 (0.030535) with: {'batch_size': 80, 'epochs': 10}\n",
      "0.631542 (0.058396) with: {'batch_size': 80, 'epochs': 50}\n",
      "0.665393 (0.028952) with: {'batch_size': 80, 'epochs': 100}\n",
      "0.475299 (0.057665) with: {'batch_size': 100, 'epochs': 10}\n",
      "0.579475 (0.056424) with: {'batch_size': 100, 'epochs': 50}\n",
      "0.660216 (0.043714) with: {'batch_size': 100, 'epochs': 100}\n"
     ]
    }
   ],
   "source": [
    "batch_size = [10, 20, 40, 60, 80, 100]\n",
    "epochs = [10, 50, 100]\n",
    "param_grid = dict(batch_size=batch_size, epochs=epochs)\n",
    "grid = GridSearchCV(estimator=model, param_grid=param_grid,\n",
    "                   n_jobs=-1)\n",
    "grid_result = grid.fit(X, Y)\n",
    "print(\"최적스코어: %f   사용한 파라미터조합 : %s\" % (grid_result.best_score_,\n",
    "                                      grid_result.best_params_))\n",
    "means = grid_result.cv_results_['mean_test_score']\n",
    "stds = grid_result.cv_results_['std_test_score']\n",
    "params = grid_result.cv_results_['params']\n",
    "for mean, stdev, param in zip(means, stds, params):\n",
    "    print(\"%f (%f) with: %r\" % (mean, stdev, param))"
   ]
  },
  {
   "cell_type": "code",
   "execution_count": null,
   "metadata": {},
   "outputs": [],
   "source": [
    " 가중치 초기화 (kernel_initializer) 매개변수를 넣고\n",
    " ['uniform', 'lecun_uniform', 'normal', 'zero', 'glorot_normal',\n",
    " 'glorot_uniform', 'he_normal', 'he_uniform']\n",
    " 로 테스트해서 가장 최적의 가중치 초기화 파라미터를 결정하시오\n",
    " dense1 : activation 함수를 달아주고\n",
    " ['softmax', 'softplus', 'softsign', 'relu', 'tanh', 'sigmoid',\n",
    " 'hardsigmoid', 'linear']\n",
    " 의 조합 중 가장 좋은 함수를 결정하시오"
   ]
  },
  {
   "cell_type": "markdown",
   "metadata": {},
   "source": [
    "# 하이퍼 파라미터 튜닝\n",
    "## keras classifier"
   ]
  },
  {
   "cell_type": "code",
   "execution_count": null,
   "metadata": {},
   "outputs": [],
   "source": [
    "https://machinelearningmastery.com/grid-search-hyperparameters-deep-learning-models-python-keras/"
   ]
  },
  {
   "cell_type": "code",
   "execution_count": 133,
   "metadata": {},
   "outputs": [
    {
     "name": "stderr",
     "output_type": "stream",
     "text": [
      "C:\\Users\\ICT01_05\\Anaconda3\\envs\\tf_test\\lib\\site-packages\\keras\\callbacks\\callbacks.py:846: RuntimeWarning: Early stopping conditioned on metric `val_acc` which is not available. Available metrics are: loss,accuracy\n",
      "  (self.monitor, ','.join(list(logs.keys()))), RuntimeWarning\n"
     ]
    },
    {
     "name": "stdout",
     "output_type": "stream",
     "text": [
      "최적스코어: 0.735761   사용한 파라미터조합 : {'activation': 'softplus', 'dropout_rate': 0.0, 'init_mode': 'zero'}\n",
      "0.348841 (0.052445) with: {'activation': 'softmax', 'dropout_rate': 0.0, 'init_mode': 'uniform'}\n",
      "0.348841 (0.052445) with: {'activation': 'softmax', 'dropout_rate': 0.0, 'init_mode': 'lecun_uniform'}\n",
      "0.348841 (0.052445) with: {'activation': 'softmax', 'dropout_rate': 0.0, 'init_mode': 'normal'}\n",
      "0.348841 (0.052445) with: {'activation': 'softmax', 'dropout_rate': 0.0, 'init_mode': 'zero'}\n",
      "0.348841 (0.052445) with: {'activation': 'softmax', 'dropout_rate': 0.0, 'init_mode': 'glorot_normal'}\n",
      "0.348841 (0.052445) with: {'activation': 'softmax', 'dropout_rate': 0.0, 'init_mode': 'glorot_uniform'}\n",
      "0.348841 (0.052445) with: {'activation': 'softmax', 'dropout_rate': 0.0, 'init_mode': 'he_normal'}\n",
      "0.348841 (0.052445) with: {'activation': 'softmax', 'dropout_rate': 0.0, 'init_mode': 'he_uniform'}\n",
      "0.348841 (0.052445) with: {'activation': 'softmax', 'dropout_rate': 0.1, 'init_mode': 'uniform'}\n",
      "0.348841 (0.052445) with: {'activation': 'softmax', 'dropout_rate': 0.1, 'init_mode': 'lecun_uniform'}\n",
      "0.348841 (0.052445) with: {'activation': 'softmax', 'dropout_rate': 0.1, 'init_mode': 'normal'}\n",
      "0.348841 (0.052445) with: {'activation': 'softmax', 'dropout_rate': 0.1, 'init_mode': 'zero'}\n",
      "0.348841 (0.052445) with: {'activation': 'softmax', 'dropout_rate': 0.1, 'init_mode': 'glorot_normal'}\n",
      "0.348841 (0.052445) with: {'activation': 'softmax', 'dropout_rate': 0.1, 'init_mode': 'glorot_uniform'}\n",
      "0.348841 (0.052445) with: {'activation': 'softmax', 'dropout_rate': 0.1, 'init_mode': 'he_normal'}\n",
      "0.348841 (0.052445) with: {'activation': 'softmax', 'dropout_rate': 0.1, 'init_mode': 'he_uniform'}\n",
      "0.348841 (0.052445) with: {'activation': 'softmax', 'dropout_rate': 0.2, 'init_mode': 'uniform'}\n",
      "0.348841 (0.052445) with: {'activation': 'softmax', 'dropout_rate': 0.2, 'init_mode': 'lecun_uniform'}\n",
      "0.348841 (0.052445) with: {'activation': 'softmax', 'dropout_rate': 0.2, 'init_mode': 'normal'}\n",
      "0.348841 (0.052445) with: {'activation': 'softmax', 'dropout_rate': 0.2, 'init_mode': 'zero'}\n",
      "0.348841 (0.052445) with: {'activation': 'softmax', 'dropout_rate': 0.2, 'init_mode': 'glorot_normal'}\n",
      "0.348841 (0.052445) with: {'activation': 'softmax', 'dropout_rate': 0.2, 'init_mode': 'glorot_uniform'}\n",
      "0.348841 (0.052445) with: {'activation': 'softmax', 'dropout_rate': 0.2, 'init_mode': 'he_normal'}\n",
      "0.348841 (0.052445) with: {'activation': 'softmax', 'dropout_rate': 0.2, 'init_mode': 'he_uniform'}\n",
      "0.348841 (0.052445) with: {'activation': 'softmax', 'dropout_rate': 0.3, 'init_mode': 'uniform'}\n",
      "0.348841 (0.052445) with: {'activation': 'softmax', 'dropout_rate': 0.3, 'init_mode': 'lecun_uniform'}\n",
      "0.348841 (0.052445) with: {'activation': 'softmax', 'dropout_rate': 0.3, 'init_mode': 'normal'}\n",
      "0.348841 (0.052445) with: {'activation': 'softmax', 'dropout_rate': 0.3, 'init_mode': 'zero'}\n",
      "0.348841 (0.052445) with: {'activation': 'softmax', 'dropout_rate': 0.3, 'init_mode': 'glorot_normal'}\n",
      "0.348841 (0.052445) with: {'activation': 'softmax', 'dropout_rate': 0.3, 'init_mode': 'glorot_uniform'}\n",
      "0.348841 (0.052445) with: {'activation': 'softmax', 'dropout_rate': 0.3, 'init_mode': 'he_normal'}\n",
      "0.348841 (0.052445) with: {'activation': 'softmax', 'dropout_rate': 0.3, 'init_mode': 'he_uniform'}\n",
      "0.348841 (0.052445) with: {'activation': 'softmax', 'dropout_rate': 0.4, 'init_mode': 'uniform'}\n",
      "0.348841 (0.052445) with: {'activation': 'softmax', 'dropout_rate': 0.4, 'init_mode': 'lecun_uniform'}\n",
      "0.348841 (0.052445) with: {'activation': 'softmax', 'dropout_rate': 0.4, 'init_mode': 'normal'}\n",
      "0.348841 (0.052445) with: {'activation': 'softmax', 'dropout_rate': 0.4, 'init_mode': 'zero'}\n",
      "0.348841 (0.052445) with: {'activation': 'softmax', 'dropout_rate': 0.4, 'init_mode': 'glorot_normal'}\n",
      "0.348841 (0.052445) with: {'activation': 'softmax', 'dropout_rate': 0.4, 'init_mode': 'glorot_uniform'}\n",
      "0.348841 (0.052445) with: {'activation': 'softmax', 'dropout_rate': 0.4, 'init_mode': 'he_normal'}\n",
      "0.348841 (0.052445) with: {'activation': 'softmax', 'dropout_rate': 0.4, 'init_mode': 'he_uniform'}\n",
      "0.348841 (0.052445) with: {'activation': 'softmax', 'dropout_rate': 0.5, 'init_mode': 'uniform'}\n",
      "0.348841 (0.052445) with: {'activation': 'softmax', 'dropout_rate': 0.5, 'init_mode': 'lecun_uniform'}\n",
      "0.348841 (0.052445) with: {'activation': 'softmax', 'dropout_rate': 0.5, 'init_mode': 'normal'}\n",
      "0.348841 (0.052445) with: {'activation': 'softmax', 'dropout_rate': 0.5, 'init_mode': 'zero'}\n",
      "0.348841 (0.052445) with: {'activation': 'softmax', 'dropout_rate': 0.5, 'init_mode': 'glorot_normal'}\n",
      "0.348841 (0.052445) with: {'activation': 'softmax', 'dropout_rate': 0.5, 'init_mode': 'glorot_uniform'}\n",
      "0.348841 (0.052445) with: {'activation': 'softmax', 'dropout_rate': 0.5, 'init_mode': 'he_normal'}\n",
      "0.348841 (0.052445) with: {'activation': 'softmax', 'dropout_rate': 0.5, 'init_mode': 'he_uniform'}\n",
      "0.348841 (0.052445) with: {'activation': 'softmax', 'dropout_rate': 0.6, 'init_mode': 'uniform'}\n",
      "0.348841 (0.052445) with: {'activation': 'softmax', 'dropout_rate': 0.6, 'init_mode': 'lecun_uniform'}\n",
      "0.348841 (0.052445) with: {'activation': 'softmax', 'dropout_rate': 0.6, 'init_mode': 'normal'}\n",
      "0.348841 (0.052445) with: {'activation': 'softmax', 'dropout_rate': 0.6, 'init_mode': 'zero'}\n",
      "0.348841 (0.052445) with: {'activation': 'softmax', 'dropout_rate': 0.6, 'init_mode': 'glorot_normal'}\n",
      "0.348841 (0.052445) with: {'activation': 'softmax', 'dropout_rate': 0.6, 'init_mode': 'glorot_uniform'}\n",
      "0.348841 (0.052445) with: {'activation': 'softmax', 'dropout_rate': 0.6, 'init_mode': 'he_normal'}\n",
      "0.348841 (0.052445) with: {'activation': 'softmax', 'dropout_rate': 0.6, 'init_mode': 'he_uniform'}\n",
      "0.348841 (0.052445) with: {'activation': 'softmax', 'dropout_rate': 0.7, 'init_mode': 'uniform'}\n",
      "0.348841 (0.052445) with: {'activation': 'softmax', 'dropout_rate': 0.7, 'init_mode': 'lecun_uniform'}\n",
      "0.348841 (0.052445) with: {'activation': 'softmax', 'dropout_rate': 0.7, 'init_mode': 'normal'}\n",
      "0.348841 (0.052445) with: {'activation': 'softmax', 'dropout_rate': 0.7, 'init_mode': 'zero'}\n",
      "0.348841 (0.052445) with: {'activation': 'softmax', 'dropout_rate': 0.7, 'init_mode': 'glorot_normal'}\n",
      "0.348841 (0.052445) with: {'activation': 'softmax', 'dropout_rate': 0.7, 'init_mode': 'glorot_uniform'}\n",
      "0.348841 (0.052445) with: {'activation': 'softmax', 'dropout_rate': 0.7, 'init_mode': 'he_normal'}\n",
      "0.348841 (0.052445) with: {'activation': 'softmax', 'dropout_rate': 0.7, 'init_mode': 'he_uniform'}\n",
      "0.348841 (0.052445) with: {'activation': 'softmax', 'dropout_rate': 0.8, 'init_mode': 'uniform'}\n",
      "0.348841 (0.052445) with: {'activation': 'softmax', 'dropout_rate': 0.8, 'init_mode': 'lecun_uniform'}\n",
      "0.348841 (0.052445) with: {'activation': 'softmax', 'dropout_rate': 0.8, 'init_mode': 'normal'}\n",
      "0.348841 (0.052445) with: {'activation': 'softmax', 'dropout_rate': 0.8, 'init_mode': 'zero'}\n",
      "0.348841 (0.052445) with: {'activation': 'softmax', 'dropout_rate': 0.8, 'init_mode': 'glorot_normal'}\n",
      "0.348841 (0.052445) with: {'activation': 'softmax', 'dropout_rate': 0.8, 'init_mode': 'glorot_uniform'}\n",
      "0.348841 (0.052445) with: {'activation': 'softmax', 'dropout_rate': 0.8, 'init_mode': 'he_normal'}\n",
      "0.348841 (0.052445) with: {'activation': 'softmax', 'dropout_rate': 0.8, 'init_mode': 'he_uniform'}\n",
      "0.348841 (0.052445) with: {'activation': 'softmax', 'dropout_rate': 0.9, 'init_mode': 'uniform'}\n",
      "0.348841 (0.052445) with: {'activation': 'softmax', 'dropout_rate': 0.9, 'init_mode': 'lecun_uniform'}\n",
      "0.348841 (0.052445) with: {'activation': 'softmax', 'dropout_rate': 0.9, 'init_mode': 'normal'}\n",
      "0.348841 (0.052445) with: {'activation': 'softmax', 'dropout_rate': 0.9, 'init_mode': 'zero'}\n",
      "0.348841 (0.052445) with: {'activation': 'softmax', 'dropout_rate': 0.9, 'init_mode': 'glorot_normal'}\n",
      "0.348841 (0.052445) with: {'activation': 'softmax', 'dropout_rate': 0.9, 'init_mode': 'glorot_uniform'}\n",
      "0.348841 (0.052445) with: {'activation': 'softmax', 'dropout_rate': 0.9, 'init_mode': 'he_normal'}\n",
      "0.348841 (0.052445) with: {'activation': 'softmax', 'dropout_rate': 0.9, 'init_mode': 'he_uniform'}\n",
      "0.699312 (0.033479) with: {'activation': 'softplus', 'dropout_rate': 0.0, 'init_mode': 'uniform'}\n",
      "0.584135 (0.293815) with: {'activation': 'softplus', 'dropout_rate': 0.0, 'init_mode': 'lecun_uniform'}\n",
      "0.725270 (0.030028) with: {'activation': 'softplus', 'dropout_rate': 0.0, 'init_mode': 'normal'}\n",
      "0.735761 (0.037788) with: {'activation': 'softplus', 'dropout_rate': 0.0, 'init_mode': 'zero'}\n",
      "0.691461 (0.026535) with: {'activation': 'softplus', 'dropout_rate': 0.0, 'init_mode': 'glorot_normal'}\n",
      "0.690205 (0.061885) with: {'activation': 'softplus', 'dropout_rate': 0.0, 'init_mode': 'glorot_uniform'}\n",
      "0.421806 (0.350940) with: {'activation': 'softplus', 'dropout_rate': 0.0, 'init_mode': 'he_normal'}\n",
      "0.419082 (0.342217) with: {'activation': 'softplus', 'dropout_rate': 0.0, 'init_mode': 'he_uniform'}\n",
      "0.720041 (0.027820) with: {'activation': 'softplus', 'dropout_rate': 0.1, 'init_mode': 'uniform'}\n",
      "0.730515 (0.048308) with: {'activation': 'softplus', 'dropout_rate': 0.1, 'init_mode': 'lecun_uniform'}\n",
      "0.723979 (0.026046) with: {'activation': 'softplus', 'dropout_rate': 0.1, 'init_mode': 'normal'}\n",
      "0.730524 (0.026025) with: {'activation': 'softplus', 'dropout_rate': 0.1, 'init_mode': 'zero'}\n",
      "0.731805 (0.038560) with: {'activation': 'softplus', 'dropout_rate': 0.1, 'init_mode': 'glorot_normal'}\n",
      "0.704473 (0.056425) with: {'activation': 'softplus', 'dropout_rate': 0.1, 'init_mode': 'glorot_uniform'}\n",
      "0.731805 (0.050404) with: {'activation': 'softplus', 'dropout_rate': 0.1, 'init_mode': 'he_normal'}\n",
      "0.703243 (0.055290) with: {'activation': 'softplus', 'dropout_rate': 0.1, 'init_mode': 'he_uniform'}\n",
      "0.730481 (0.023746) with: {'activation': 'softplus', 'dropout_rate': 0.2, 'init_mode': 'uniform'}\n",
      "0.716187 (0.032827) with: {'activation': 'softplus', 'dropout_rate': 0.2, 'init_mode': 'lecun_uniform'}\n",
      "0.704499 (0.041299) with: {'activation': 'softplus', 'dropout_rate': 0.2, 'init_mode': 'normal'}\n",
      "0.726585 (0.021501) with: {'activation': 'softplus', 'dropout_rate': 0.2, 'init_mode': 'zero'}\n",
      "0.730592 (0.048907) with: {'activation': 'softplus', 'dropout_rate': 0.2, 'init_mode': 'glorot_normal'}\n",
      "0.723988 (0.037499) with: {'activation': 'softplus', 'dropout_rate': 0.2, 'init_mode': 'glorot_uniform'}\n",
      "0.699279 (0.047066) with: {'activation': 'softplus', 'dropout_rate': 0.2, 'init_mode': 'he_normal'}\n",
      "0.731805 (0.030675) with: {'activation': 'softplus', 'dropout_rate': 0.2, 'init_mode': 'he_uniform'}\n",
      "0.713573 (0.031390) with: {'activation': 'softplus', 'dropout_rate': 0.3, 'init_mode': 'uniform'}\n",
      "0.725320 (0.047986) with: {'activation': 'softplus', 'dropout_rate': 0.3, 'init_mode': 'lecun_uniform'}\n",
      "0.720117 (0.066610) with: {'activation': 'softplus', 'dropout_rate': 0.3, 'init_mode': 'normal'}\n",
      "0.721416 (0.038818) with: {'activation': 'softplus', 'dropout_rate': 0.3, 'init_mode': 'zero'}\n",
      "0.682412 (0.057852) with: {'activation': 'softplus', 'dropout_rate': 0.3, 'init_mode': 'glorot_normal'}\n",
      "0.690171 (0.045557) with: {'activation': 'softplus', 'dropout_rate': 0.3, 'init_mode': 'glorot_uniform'}\n",
      "0.717486 (0.039434) with: {'activation': 'softplus', 'dropout_rate': 0.3, 'init_mode': 'he_normal'}\n",
      "0.695365 (0.053521) with: {'activation': 'softplus', 'dropout_rate': 0.3, 'init_mode': 'he_uniform'}\n",
      "0.711001 (0.031270) with: {'activation': 'softplus', 'dropout_rate': 0.4, 'init_mode': 'uniform'}\n",
      "0.726636 (0.048421) with: {'activation': 'softplus', 'dropout_rate': 0.4, 'init_mode': 'lecun_uniform'}\n",
      "0.705764 (0.032478) with: {'activation': 'softplus', 'dropout_rate': 0.4, 'init_mode': 'normal'}\n",
      "0.704422 (0.036063) with: {'activation': 'softplus', 'dropout_rate': 0.4, 'init_mode': 'zero'}\n",
      "0.684942 (0.015883) with: {'activation': 'softplus', 'dropout_rate': 0.4, 'init_mode': 'glorot_normal'}\n",
      "0.692793 (0.053732) with: {'activation': 'softplus', 'dropout_rate': 0.4, 'init_mode': 'glorot_uniform'}\n",
      "0.708412 (0.064445) with: {'activation': 'softplus', 'dropout_rate': 0.4, 'init_mode': 'he_normal'}\n",
      "0.724030 (0.057940) with: {'activation': 'softplus', 'dropout_rate': 0.4, 'init_mode': 'he_uniform'}\n",
      "0.709643 (0.025242) with: {'activation': 'softplus', 'dropout_rate': 0.5, 'init_mode': 'uniform'}\n",
      "0.688846 (0.043902) with: {'activation': 'softplus', 'dropout_rate': 0.5, 'init_mode': 'lecun_uniform'}\n",
      "0.690171 (0.041734) with: {'activation': 'softplus', 'dropout_rate': 0.5, 'init_mode': 'normal'}\n",
      "0.699245 (0.022012) with: {'activation': 'softplus', 'dropout_rate': 0.5, 'init_mode': 'zero'}\n",
      "0.708361 (0.045899) with: {'activation': 'softplus', 'dropout_rate': 0.5, 'init_mode': 'glorot_normal'}\n",
      "0.584186 (0.296732) with: {'activation': 'softplus', 'dropout_rate': 0.5, 'init_mode': 'glorot_uniform'}\n",
      "0.694084 (0.044516) with: {'activation': 'softplus', 'dropout_rate': 0.5, 'init_mode': 'he_normal'}\n",
      "0.696664 (0.041769) with: {'activation': 'softplus', 'dropout_rate': 0.5, 'init_mode': 'he_uniform'}\n",
      "0.690247 (0.071790) with: {'activation': 'softplus', 'dropout_rate': 0.6, 'init_mode': 'uniform'}\n",
      "0.711043 (0.061923) with: {'activation': 'softplus', 'dropout_rate': 0.6, 'init_mode': 'lecun_uniform'}\n",
      "0.675893 (0.058255) with: {'activation': 'softplus', 'dropout_rate': 0.6, 'init_mode': 'normal'}\n",
      "0.677124 (0.036855) with: {'activation': 'softplus', 'dropout_rate': 0.6, 'init_mode': 'zero'}\n",
      "0.694033 (0.034823) with: {'activation': 'softplus', 'dropout_rate': 0.6, 'init_mode': 'glorot_normal'}\n",
      "0.661591 (0.063325) with: {'activation': 'softplus', 'dropout_rate': 0.6, 'init_mode': 'glorot_uniform'}\n",
      "0.694084 (0.052592) with: {'activation': 'softplus', 'dropout_rate': 0.6, 'init_mode': 'he_normal'}\n",
      "0.703226 (0.047403) with: {'activation': 'softplus', 'dropout_rate': 0.6, 'init_mode': 'he_uniform'}\n",
      "0.662881 (0.060099) with: {'activation': 'softplus', 'dropout_rate': 0.7, 'init_mode': 'uniform'}\n",
      "0.678465 (0.050962) with: {'activation': 'softplus', 'dropout_rate': 0.7, 'init_mode': 'lecun_uniform'}\n",
      "0.662881 (0.062606) with: {'activation': 'softplus', 'dropout_rate': 0.7, 'init_mode': 'normal'}\n",
      "0.665461 (0.056324) with: {'activation': 'softplus', 'dropout_rate': 0.7, 'init_mode': 'zero'}\n",
      "0.655072 (0.054224) with: {'activation': 'softplus', 'dropout_rate': 0.7, 'init_mode': 'glorot_normal'}\n",
      "0.433062 (0.345308) with: {'activation': 'softplus', 'dropout_rate': 0.7, 'init_mode': 'glorot_uniform'}\n",
      "0.414863 (0.341467) with: {'activation': 'softplus', 'dropout_rate': 0.7, 'init_mode': 'he_normal'}\n",
      "0.578491 (0.276764) with: {'activation': 'softplus', 'dropout_rate': 0.7, 'init_mode': 'he_uniform'}\n",
      "0.655080 (0.052724) with: {'activation': 'softplus', 'dropout_rate': 0.8, 'init_mode': 'uniform'}\n",
      "0.417409 (0.330069) with: {'activation': 'softplus', 'dropout_rate': 0.8, 'init_mode': 'lecun_uniform'}\n",
      "0.649851 (0.052612) with: {'activation': 'softplus', 'dropout_rate': 0.8, 'init_mode': 'normal'}\n",
      "0.652466 (0.054799) with: {'activation': 'softplus', 'dropout_rate': 0.8, 'init_mode': 'zero'}\n",
      "0.677218 (0.048358) with: {'activation': 'softplus', 'dropout_rate': 0.8, 'init_mode': 'glorot_normal'}\n",
      "0.405764 (0.333188) with: {'activation': 'softplus', 'dropout_rate': 0.8, 'init_mode': 'glorot_uniform'}\n",
      "0.398370 (0.329214) with: {'activation': 'softplus', 'dropout_rate': 0.8, 'init_mode': 'he_normal'}\n",
      "0.429132 (0.335400) with: {'activation': 'softplus', 'dropout_rate': 0.8, 'init_mode': 'he_uniform'}\n",
      "0.662847 (0.041674) with: {'activation': 'softplus', 'dropout_rate': 0.9, 'init_mode': 'uniform'}\n",
      "0.409600 (0.333674) with: {'activation': 'softplus', 'dropout_rate': 0.9, 'init_mode': 'lecun_uniform'}\n",
      "0.651159 (0.052445) with: {'activation': 'softplus', 'dropout_rate': 0.9, 'init_mode': 'normal'}\n",
      "0.651159 (0.052445) with: {'activation': 'softplus', 'dropout_rate': 0.9, 'init_mode': 'zero'}\n",
      "0.491418 (0.231916) with: {'activation': 'softplus', 'dropout_rate': 0.9, 'init_mode': 'glorot_normal'}\n",
      "0.525185 (0.267567) with: {'activation': 'softplus', 'dropout_rate': 0.9, 'init_mode': 'glorot_uniform'}\n",
      "0.246753 (0.302907) with: {'activation': 'softplus', 'dropout_rate': 0.9, 'init_mode': 'he_normal'}\n",
      "0.163874 (0.243309) with: {'activation': 'softplus', 'dropout_rate': 0.9, 'init_mode': 'he_uniform'}\n"
     ]
    }
   ],
   "source": [
    "def create_model(init_mode='uniform', activation='relu', dropout_rate=0.1):\n",
    "    model = Sequential()\n",
    "    model.add(Dense(12, kernel_initializer='uniform', input_dim=8,  activation=activation))\n",
    "    model.add(Dropout(dropout_rate))\n",
    "    model.add(Dense(1, kernel_initializer=init_mode, activation=activation))\n",
    "    model.compile(loss='binary_crossentropy', optimizer='adam',\n",
    "                 metrics=['accuracy'])\n",
    "    return model\n",
    "from keras.callbacks import EarlyStopping\n",
    "stopper = EarlyStopping(monitor='val_acc', patience=3, verbose=1)\n",
    "\n",
    "seed = 7\n",
    "numpy.random.seed(seed)\n",
    "dataset = numpy.loadtxt(\"pima.data\", delimiter=\",\")\n",
    "X = dataset[:, 0:8]\n",
    "Y = dataset[:, 8]\n",
    "model = KerasClassifier(build_fn=create_model, epochs=100, batch_size=40, verbose=0)\n",
    "dropout_rate = [0.0, 0.1, 0.2, 0.3, 0.4, 0.5, 0.6, 0.7, 0.8, 0.9]\n",
    "init_mode =   ['uniform', 'lecun_uniform', 'normal', 'zero', 'glorot_normal',\n",
    " 'glorot_uniform', 'he_normal', 'he_uniform']\n",
    "activation = ['softmax', 'softplus']\n",
    "param_grid =  dict(activation=activation, init_mode=init_mode, dropout_rate=dropout_rate)\n",
    "grid = GridSearchCV(estimator=model, param_grid=param_grid, n_jobs=-1)\n",
    "fit_params = dict(callbacks=[stopper])\n",
    "grid_result = grid.fit(X, Y, **fit_params)\n",
    "\n",
    "print(\"최적스코어: %f   사용한 파라미터조합 : %s\" % (grid_result.best_score_,\n",
    "                                      grid_result.best_params_))\n",
    "means = grid_result.cv_results_['mean_test_score']\n",
    "stds = grid_result.cv_results_['std_test_score']\n",
    "params = grid_result.cv_results_['params']\n",
    "for mean, stdev, param in zip(means, stds, params):\n",
    "    print(\"%f (%f) with: %r\" % (mean, stdev, param))"
   ]
  },
  {
   "cell_type": "code",
   "execution_count": 135,
   "metadata": {},
   "outputs": [],
   "source": [
    "from keras.wrappers.scikit_learn import KerasRegressor\n",
    "from sklearn.model_selection import cross_val_score\n",
    "from sklearn.model_selection import KFold\n",
    "from sklearn.preprocessing import StandardScaler\n",
    "from sklearn.pipeline import Pipeline\n",
    "import pandas\n",
    "\n",
    "dataframe = pandas.read_csv(\"housing.csv\", delim_whitespace=True, header=None)\n",
    "dataset = dataframe.values\n",
    "X = dataset[:, 0:13]\n",
    "Y = dataset[:, 13]"
   ]
  },
  {
   "cell_type": "code",
   "execution_count": 136,
   "metadata": {},
   "outputs": [],
   "source": [
    "def baseline_model():\n",
    "    model = Sequential()\n",
    "    model.add(Dense(13, input_dim=13, kernel_initializer='normal', activation='relu'))\n",
    "    model.add(Dense(1, kernel_initializer='normal'))\n",
    "    model.compile(loss='mean_squared_error', optimizer='adam')\n",
    "    return model"
   ]
  },
  {
   "cell_type": "code",
   "execution_count": 137,
   "metadata": {},
   "outputs": [],
   "source": [
    "seed = 7\n",
    "numpy.random.seed(seed)\n",
    "estimator = KerasRegressor(build_fn=baseline_model, nb_epoch=100, batch_size=5, verbose=0)"
   ]
  },
  {
   "cell_type": "code",
   "execution_count": 139,
   "metadata": {},
   "outputs": [
    {
     "name": "stdout",
     "output_type": "stream",
     "text": [
      "Results: -138.61 (129.48) MSE\n"
     ]
    }
   ],
   "source": [
    "kfold = KFold(n_splits=10, random_state=seed)\n",
    "results = cross_val_score(estimator, X, Y, cv=kfold)\n",
    "print(\"Results: %.2f (%.2f) MSE\" % (results.mean(), results.std()))"
   ]
  },
  {
   "cell_type": "code",
   "execution_count": 141,
   "metadata": {},
   "outputs": [
    {
     "name": "stderr",
     "output_type": "stream",
     "text": [
      "C:\\Users\\ICT01_05\\Anaconda3\\envs\\tf_test\\lib\\site-packages\\sklearn\\model_selection\\_split.py:296: FutureWarning: Setting a random_state has no effect since shuffle is False. This will raise an error in 0.24. You should leave random_state to its default (None), or set shuffle=True.\n",
      "  FutureWarning\n"
     ]
    },
    {
     "name": "stdout",
     "output_type": "stream",
     "text": [
      "Standardized : -567.34 (277.55) MSE\n"
     ]
    },
    {
     "data": {
      "text/plain": [
       "Pipeline(memory=None,\n",
       "         steps=[('standardize',\n",
       "                 StandardScaler(copy=True, with_mean=True, with_std=True)),\n",
       "                ('mpl',\n",
       "                 <keras.wrappers.scikit_learn.KerasRegressor object at 0x000002394A705588>)],\n",
       "         verbose=False)"
      ]
     },
     "execution_count": 141,
     "metadata": {},
     "output_type": "execute_result"
    }
   ],
   "source": [
    "numpy.random.seed(seed)\n",
    "estimators = []\n",
    "estimators.append(('standardize', StandardScaler()))\n",
    "estimators.append(('mpl', estimator))\n",
    "pipeline = Pipeline(estimators) # 파이프의 매개변수가 리스트를 요구함\n",
    "kfold = KFold(n_splits=10, random_state=seed)\n",
    "results = cross_val_score(pipeline, X, Y, cv=kfold)\n",
    "print(\"Standardized : %.2f (%.2f) MSE\" % (results.mean(), results.std()))\n",
    "pipeline.fit(X, Y)"
   ]
  },
  {
   "cell_type": "code",
   "execution_count": 149,
   "metadata": {},
   "outputs": [
    {
     "data": {
      "text/plain": [
       "array([[1.        , 0.57093233],\n",
       "       [0.57093233, 1.        ]])"
      ]
     },
     "execution_count": 149,
     "metadata": {},
     "output_type": "execute_result"
    }
   ],
   "source": [
    "res = pipeline.predict(X)\n",
    "\n",
    "import numpy as np\n",
    "np.corrcoef(res, Y)"
   ]
  },
  {
   "cell_type": "code",
   "execution_count": 152,
   "metadata": {},
   "outputs": [],
   "source": [
    "# deep해진 모델\n",
    "def larger_model():\n",
    "    model = Sequential()\n",
    "    model.add(Dense(13, input_dim=13, kernel_initializer='normal',activation='relu'))\n",
    "    model.add(Dense(6, kernel_initializer='normal', activation='relu'))\n",
    "    model.add(Dense(1, kernel_initializer='normal'))\n",
    "    model.compile(loss='mean_squared_error', optimizer='adam')\n",
    "    return model"
   ]
  },
  {
   "cell_type": "code",
   "execution_count": 153,
   "metadata": {},
   "outputs": [],
   "source": [
    "def wider_model():\n",
    "    model = Sequential()\n",
    "    model.add(Dense(20, input_dim=13, kernel_initializer='normal', activation='relu'))\n",
    "    model.add(Dense(1, kernel_initializer='normal'))\n",
    "    model.compile(loss='mean_squared_error', optimizer='adam')\n",
    "    return model"
   ]
  },
  {
   "cell_type": "code",
   "execution_count": 155,
   "metadata": {},
   "outputs": [],
   "source": [
    "seed = 7\n",
    "numpy.random.seed(seed)\n",
    "estimator1 = KerasRegressor(build_fn=baseline_model, nb_epoch=100, batch_size=5, verbose=0)\n",
    "estimator2 = KerasRegressor(build_fn=larger_model, nb_epoch=100, batch_size=5, verbose=0)\n",
    "estimator3 = KerasRegressor(build_fn=wider_model, nb_epoch=100, batch_size=5, verbose=0)\n"
   ]
  },
  {
   "cell_type": "code",
   "execution_count": 159,
   "metadata": {},
   "outputs": [],
   "source": [
    "# 스케일링 안하면\n",
    "estimator1.fit(X, Y)\n",
    "res11 = estimator1.predict(X)"
   ]
  },
  {
   "cell_type": "code",
   "execution_count": 160,
   "metadata": {},
   "outputs": [
    {
     "data": {
      "text/plain": [
       "array([[1.        , 0.15574696],\n",
       "       [0.15574696, 1.        ]])"
      ]
     },
     "execution_count": 160,
     "metadata": {},
     "output_type": "execute_result"
    }
   ],
   "source": [
    "np.corrcoef(res11, Y)"
   ]
  },
  {
   "cell_type": "code",
   "execution_count": 156,
   "metadata": {},
   "outputs": [
    {
     "name": "stderr",
     "output_type": "stream",
     "text": [
      "C:\\Users\\ICT01_05\\Anaconda3\\envs\\tf_test\\lib\\site-packages\\sklearn\\model_selection\\_split.py:296: FutureWarning: Setting a random_state has no effect since shuffle is False. This will raise an error in 0.24. You should leave random_state to its default (None), or set shuffle=True.\n",
      "  FutureWarning\n"
     ]
    },
    {
     "data": {
      "text/plain": [
       "Pipeline(memory=None,\n",
       "         steps=[('standardize',\n",
       "                 StandardScaler(copy=True, with_mean=True, with_std=True)),\n",
       "                ('mpl',\n",
       "                 <keras.wrappers.scikit_learn.KerasRegressor object at 0x000002397E386A88>)],\n",
       "         verbose=False)"
      ]
     },
     "execution_count": 156,
     "metadata": {},
     "output_type": "execute_result"
    }
   ],
   "source": [
    "estimators1 = []\n",
    "estimators1.append(('standardize', StandardScaler()))\n",
    "estimators1.append(('mpl', estimator1))\n",
    "\n",
    "estimators2 = []\n",
    "estimators2.append(('standardize', StandardScaler()))\n",
    "estimators2.append(('mpl', estimator2))\n",
    "\n",
    "estimators3 = []\n",
    "estimators3.append(('standardize', StandardScaler()))\n",
    "estimators3.append(('mpl', estimator3))\n",
    "\n",
    "pipeline1 = Pipeline(estimators1) # 파이프의 매개변수가 리스트를 요구함\n",
    "pipeline2 = Pipeline(estimators2)\n",
    "pipeline3 = Pipeline(estimators3)\n",
    "kfold = KFold(n_splits=10, random_state=seed)\n",
    "results1 = cross_val_score(pipeline1, X, Y, cv=kfold)\n",
    "results2 = cross_val_score(pipeline2, X, Y, cv=kfold)\n",
    "results3 = cross_val_score(pipeline3, X, Y, cv=kfold)\n",
    "\n",
    "pipeline1.fit(X, Y)\n",
    "pipeline2.fit(X, Y)\n",
    "pipeline3.fit(X, Y)"
   ]
  },
  {
   "cell_type": "code",
   "execution_count": 157,
   "metadata": {},
   "outputs": [
    {
     "name": "stdout",
     "output_type": "stream",
     "text": [
      "[[1.         0.24646695]\n",
      " [0.24646695 1.        ]]\n",
      "[[1.         0.23262601]\n",
      " [0.23262601 1.        ]]\n",
      "[[ 1.         -0.36325244]\n",
      " [-0.36325244  1.        ]]\n"
     ]
    }
   ],
   "source": [
    "res1 = pipeline1.predict(X)\n",
    "res2 = pipeline2.predict(X)\n",
    "res3 = pipeline3.predict(X)\n",
    "\n",
    "print(np.corrcoef(res1, Y))\n",
    "print(np.corrcoef(res2, Y))\n",
    "print(np.corrcoef(res3, Y))"
   ]
  },
  {
   "cell_type": "markdown",
   "metadata": {},
   "source": [
    "# 숙제\n",
    "- iris.csv 데이터를 로딩한 다음\n",
    "- 분류망을 구성하시오\n",
    "- parameter tuning을 구현하시오 (pipeline 사용도 함께)"
   ]
  },
  {
   "cell_type": "code",
   "execution_count": null,
   "metadata": {},
   "outputs": [],
   "source": []
  },
  {
   "cell_type": "code",
   "execution_count": null,
   "metadata": {},
   "outputs": [],
   "source": []
  },
  {
   "cell_type": "code",
   "execution_count": null,
   "metadata": {},
   "outputs": [],
   "source": []
  },
  {
   "cell_type": "code",
   "execution_count": null,
   "metadata": {},
   "outputs": [],
   "source": []
  },
  {
   "cell_type": "code",
   "execution_count": null,
   "metadata": {},
   "outputs": [],
   "source": []
  },
  {
   "cell_type": "code",
   "execution_count": null,
   "metadata": {},
   "outputs": [],
   "source": []
  }
 ],
 "metadata": {
  "kernelspec": {
   "display_name": "Python 3",
   "language": "python",
   "name": "python3"
  },
  "language_info": {
   "codemirror_mode": {
    "name": "ipython",
    "version": 3
   },
   "file_extension": ".py",
   "mimetype": "text/x-python",
   "name": "python",
   "nbconvert_exporter": "python",
   "pygments_lexer": "ipython3",
   "version": "3.7.6"
  }
 },
 "nbformat": 4,
 "nbformat_minor": 2
}
