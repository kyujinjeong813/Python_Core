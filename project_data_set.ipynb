{
 "cells": [
  {
   "cell_type": "markdown",
   "metadata": {},
   "source": [
    "# tf.data.Dataset 이용\n",
    "###  tf.data로 이미지 데이터를 학습 데이터로 만듭시다\n",
    "### mid level API 임 (iris dataset에서도 사용한다고 함)\n",
    "### https://mc.ai/input_data-tf-data-%EC%9C%BC%EB%A1%9C-batch-%EB%A7%8C%EB%93%A4%EA%B8%B0/\n",
    "### https://hiseon.me/data-analytics/tensorflow/tensorflow-dataset/"
   ]
  },
  {
   "cell_type": "code",
   "execution_count": null,
   "metadata": {},
   "outputs": [],
   "source": [
    "import tensorflow as tf\n",
    "\n",
    "\n",
    "DOG_DIR = './dog/'\n",
    "dog_folder_list = array(os.listdir(DOG_DIR))\n",
    "\n",
    "path 에 라벨을 하나씩 돌아가면서 붙이면 해당 디렉토리 -> 여기서 파일명을 리스트로 ㅇ_ㅇ.. 구지?\n",
    "\n",
    "def _read_py_function(path, label):\n",
    "    image = read_image(path)\n",
    "    label = np.array(label, dtype=np.uint8)\n",
    "    return image.astype(np.int32), label\n",
    "\n",
    "def _resize_function(image_decoded, label):\n",
    "    image_decoded.set_shape([None, None, None])\n",
    "    image_resized = tf.image.resize_images(image_decoded, [64,64])\n",
    "    return image_resized, label\n",
    "\n",
    "\n",
    "dataset = dataset.map(lambda data_list, label_list: tuple(tf.py_func(_read_py_function,\n",
    "                                                                    [data_list, label_list],\n",
    "                                                                    [tf.int32, tf.uint8])))\n",
    "dataset = dataset.map(_resize_function)"
   ]
  },
  {
   "cell_type": "code",
   "execution_count": null,
   "metadata": {},
   "outputs": [],
   "source": [
    "from PIL import Image\n",
    "\n",
    "image = Image.open(path)"
   ]
  },
  {
   "cell_type": "markdown",
   "metadata": {},
   "source": [
    "# 일단 배운거부터 잘하자 = _ =ㅋ"
   ]
  },
  {
   "cell_type": "code",
   "execution_count": null,
   "metadata": {},
   "outputs": [],
   "source": [
    "https://iamksu.tistory.com/86\n",
    "    \n",
    "https://pythonprogramming.net/convolutional-neural-network-kats-vs-dogs-machine-learning-tutorial/\n",
    "    \n",
    "좀 더 스마트하게 안되낭...? 흠냥\n"
   ]
  },
  {
   "cell_type": "code",
   "execution_count": 3,
   "metadata": {},
   "outputs": [
    {
     "name": "stdout",
     "output_type": "stream",
     "text": [
      "./beagle/train/스크린샷 2020-02-04 오후 7.19.14.png => ./beagle/train/beagle1.png\n",
      "./beagle/train/스크린샷 2020-02-04 오후 7.17.39.png => ./beagle/train/beagle2.png\n",
      "./beagle/train/스크린샷 2020-02-04 오후 7.25.48.png => ./beagle/train/beagle3.png\n",
      "./beagle/train/스크린샷 2020-02-04 오후 7.28.08.png => ./beagle/train/beagle4.png\n",
      "./beagle/train/스크린샷 2020-02-04 오후 7.18.54.png => ./beagle/train/beagle5.png\n",
      "./beagle/train/스크린샷 2020-02-04 오후 7.23.01.png => ./beagle/train/beagle6.png\n",
      "./beagle/train/스크린샷 2020-02-04 오후 7.24.21.png => ./beagle/train/beagle7.png\n",
      "./beagle/train/스크린샷 2020-02-04 오후 7.26.18.png => ./beagle/train/beagle8.png\n",
      "./beagle/train/스크린샷 2020-02-04 오후 7.26.32.png => ./beagle/train/beagle9.png\n",
      "./beagle/train/스크린샷 2020-02-04 오후 7.28.37.png => ./beagle/train/beagle10.png\n",
      "./beagle/train/스크린샷 2020-02-04 오후 7.18.43.png => ./beagle/train/beagle11.png\n",
      "./beagle/train/스크린샷 2020-02-04 오후 7.12.36.png => ./beagle/train/beagle12.png\n",
      "./beagle/train/스크린샷 2020-02-04 오후 7.20.52.png => ./beagle/train/beagle13.png\n",
      "./beagle/train/스크린샷 2020-02-04 오후 7.20.46.png => ./beagle/train/beagle14.png\n",
      "./beagle/train/스크린샷 2020-02-04 오후 7.24.36.png => ./beagle/train/beagle15.png\n",
      "./beagle/train/스크린샷 2020-02-04 오후 7.16.47.png => ./beagle/train/beagle16.png\n",
      "./beagle/train/스크린샷 2020-02-04 오후 7.28.22.png => ./beagle/train/beagle17.png\n",
      "./beagle/train/스크린샷 2020-02-04 오후 7.16.43.png => ./beagle/train/beagle18.png\n",
      "./beagle/train/스크린샷 2020-02-04 오후 7.23.07.png => ./beagle/train/beagle19.png\n",
      "./beagle/train/.DS_Store => ./beagle/train/beagle20.png\n",
      "./beagle/train/스크린샷 2020-02-04 오후 7.20.42.png => ./beagle/train/beagle21.png\n",
      "./beagle/train/스크린샷 2020-02-04 오후 7.12.32.png => ./beagle/train/beagle22.png\n",
      "./beagle/train/스크린샷 2020-02-04 오후 7.26.36.png => ./beagle/train/beagle23.png\n",
      "./beagle/train/스크린샷 2020-02-04 오후 7.26.22.png => ./beagle/train/beagle24.png\n",
      "./beagle/train/스크린샷 2020-02-04 오후 7.28.27.png => ./beagle/train/beagle25.png\n",
      "./beagle/train/스크린샷 2020-02-04 오후 7.21.03.png => ./beagle/train/beagle26.png\n",
      "./beagle/train/스크린샷 2020-02-04 오후 7.26.08.png => ./beagle/train/beagle27.png\n",
      "./beagle/train/스크린샷 2020-02-04 오후 7.24.31.png => ./beagle/train/beagle28.png\n",
      "./beagle/train/스크린샷 2020-02-04 오후 7.12.19.png => ./beagle/train/beagle29.png\n",
      "./beagle/train/스크린샷 2020-02-04 오후 7.28.18.png => ./beagle/train/beagle30.png\n",
      "./beagle/train/스크린샷 2020-02-04 오후 7.12.56.png => ./beagle/train/beagle31.png\n",
      "./beagle/train/스크린샷 2020-02-04 오후 7.27.06.png => ./beagle/train/beagle32.png\n",
      "./beagle/train/스크린샷 2020-02-04 오후 7.12.43.png => ./beagle/train/beagle33.png\n",
      "./beagle/train/스크린샷 2020-02-04 오후 7.24.56.png => ./beagle/train/beagle34.png\n",
      "./beagle/train/스크린샷 2020-02-04 오후 7.18.36.png => ./beagle/train/beagle35.png\n",
      "./beagle/train/스크린샷 2020-02-04 오후 7.28.42.png => ./beagle/train/beagle36.png\n",
      "./beagle/train/스크린샷 2020-02-04 오후 7.26.53.png => ./beagle/train/beagle37.png\n",
      "./beagle/train/스크린샷 2020-02-04 오후 7.13.01.png => ./beagle/train/beagle38.png\n",
      "./beagle/train/스크린샷 2020-02-04 오후 7.13.15.png => ./beagle/train/beagle39.png\n",
      "./beagle/train/스크린샷 2020-02-04 오후 7.11.38.png => ./beagle/train/beagle40.png\n",
      "./beagle/train/스크린샷 2020-02-04 오후 7.24.40.png => ./beagle/train/beagle41.png\n",
      "./beagle/train/스크린샷 2020-02-04 오후 7.15.48.png => ./beagle/train/beagle42.png\n",
      "./beagle/train/스크린샷 2020-02-04 오후 7.27.11.png => ./beagle/train/beagle43.png\n",
      "./beagle/train/스크린샷 2020-02-04 오후 7.29.29.png => ./beagle/train/beagle44.png\n",
      "./beagle/train/스크린샷 2020-02-04 오후 7.18.21.png => ./beagle/train/beagle45.png\n",
      "./beagle/train/스크린샷 2020-02-04 오후 7.16.30.png => ./beagle/train/beagle46.png\n",
      "./beagle/train/스크린샷 2020-02-04 오후 7.13.28.png => ./beagle/train/beagle47.png\n",
      "./beagle/train/스크린샷 2020-02-04 오후 7.14.21.png => ./beagle/train/beagle48.png\n",
      "./beagle/train/스크린샷 2020-02-04 오후 7.25.01.png => ./beagle/train/beagle49.png\n",
      "./beagle/train/스크린샷 2020-02-04 오후 7.19.59.png => ./beagle/train/beagle50.png\n",
      "./beagle/train/스크린샷 2020-02-04 오후 7.25.11.png => ./beagle/train/beagle51.png\n",
      "./beagle/train/스크린샷 2020-02-04 오후 7.13.10.png => ./beagle/train/beagle52.png\n",
      "./beagle/train/스크린샷 2020-02-04 오후 7.27.28.png => ./beagle/train/beagle53.png\n",
      "./beagle/train/스크린샷 2020-02-04 오후 7.20.08.png => ./beagle/train/beagle54.png\n",
      "./beagle/train/스크린샷 2020-02-04 오후 7.24.44.png => ./beagle/train/beagle55.png\n",
      "./beagle/train/스크린샷 2020-02-04 오후 7.26.41.png => ./beagle/train/beagle56.png\n",
      "./beagle/train/스크린샷 2020-02-04 오후 7.14.30.png => ./beagle/train/beagle57.png\n",
      "./beagle/train/스크린샷 2020-02-04 오후 7.13.05.png => ./beagle/train/beagle58.png\n",
      "./beagle/train/스크린샷 2020-02-04 오후 7.18.26.png => ./beagle/train/beagle59.png\n",
      "./beagle/train/스크린샷 2020-02-04 오후 7.12.52.png => ./beagle/train/beagle60.png\n",
      "./beagle/train/스크린샷 2020-02-04 오후 7.16.22.png => ./beagle/train/beagle61.png\n",
      "./beagle/train/스크린샷 2020-02-04 오후 7.14.02.png => ./beagle/train/beagle62.png\n",
      "./beagle/train/스크린샷 2020-02-04 오후 7.14.16.png => ./beagle/train/beagle63.png\n",
      "./beagle/train/스크린샷 2020-02-04 오후 7.16.07.png => ./beagle/train/beagle64.png\n",
      "./beagle/train/스크린샷 2020-02-04 오후 7.27.32.png => ./beagle/train/beagle65.png\n",
      "./beagle/train/스크린샷 2020-02-04 오후 7.18.17.png => ./beagle/train/beagle66.png\n",
      "./beagle/train/스크린샷 2020-02-04 오후 7.13.36.png => ./beagle/train/beagle67.png\n",
      "./beagle/train/스크린샷 2020-02-04 오후 7.25.37.png => ./beagle/train/beagle68.png\n",
      "./beagle/train/스크린샷 2020-02-04 오후 7.19.41.png => ./beagle/train/beagle69.png\n",
      "./beagle/train/스크린샷 2020-02-04 오후 7.17.50.png => ./beagle/train/beagle70.png\n",
      "./beagle/train/스크린샷 2020-02-04 오후 7.13.20.png => ./beagle/train/beagle71.png\n",
      "./beagle/train/스크린샷 2020-02-04 오후 7.28.49.png => ./beagle/train/beagle72.png\n",
      "./beagle/train/스크린샷 2020-02-04 오후 7.24.49.png => ./beagle/train/beagle73.png\n",
      "./beagle/train/스크린샷 2020-02-04 오후 7.12.48.png => ./beagle/train/beagle74.png\n",
      "./beagle/train/스크린샷 2020-02-04 오후 7.29.35.png => ./beagle/train/beagle75.png\n",
      "./beagle/train/스크린샷 2020-02-04 오후 7.27.25.png => ./beagle/train/beagle76.png\n",
      "./beagle/train/스크린샷 2020-02-04 오후 7.15.54.png => ./beagle/train/beagle77.png\n",
      "./beagle/train/스크린샷 2020-02-04 오후 7.15.40.png => ./beagle/train/beagle78.png\n",
      "./beagle/train/스크린샷 2020-02-04 오후 7.23.41.png => ./beagle/train/beagle79.png\n",
      "./beagle/train/스크린샷 2020-02-04 오후 7.30.01.png => ./beagle/train/beagle80.png\n",
      "./beagle/train/스크린샷 2020-02-04 오후 7.26.59.png => ./beagle/train/beagle81.png\n",
      "./beagle/train/스크린샷 2020-02-04 오후 7.25.30.png => ./beagle/train/beagle82.png\n",
      "./beagle/train/스크린샷 2020-02-04 오후 7.25.18.png => ./beagle/train/beagle83.png\n",
      "./beagle/train/스크린샷 2020-02-04 오후 7.13.31.png => ./beagle/train/beagle84.png\n",
      "./beagle/train/스크린샷 2020-02-04 오후 7.14.10.png => ./beagle/train/beagle85.png\n",
      "./beagle/train/스크린샷 2020-02-04 오후 7.18.04.png => ./beagle/train/beagle86.png\n",
      "./beagle/train/스크린샷 2020-02-04 오후 7.15.44.png => ./beagle/train/beagle87.png\n",
      "./beagle/train/스크린샷 2020-02-04 오후 7.29.24.png => ./beagle/train/beagle88.png\n",
      "./beagle/train/스크린샷 2020-02-04 오후 7.20.15.png => ./beagle/train/beagle89.png\n",
      "./beagle/train/스크린샷 2020-02-04 오후 7.28.59.png => ./beagle/train/beagle90.png\n",
      "./beagle/train/스크린샷 2020-02-04 오후 7.26.48.png => ./beagle/train/beagle91.png\n",
      "./beagle/train/스크린샷 2020-02-04 오후 7.14.39.png => ./beagle/train/beagle92.png\n",
      "./beagle/train/스크린샷 2020-02-04 오후 7.13.24.png => ./beagle/train/beagle93.png\n",
      "./beagle/train/스크린샷 2020-02-04 오후 7.25.25.png => ./beagle/train/beagle94.png\n",
      "./beagle/train/스크린샷 2020-02-04 오후 7.17.54.png => ./beagle/train/beagle95.png\n",
      "./beagle/train/스크린샷 2020-02-04 오후 7.19.47.png => ./beagle/train/beagle96.png\n",
      "./beagle/train/스크린샷 2020-02-04 오후 7.19.53.png => ./beagle/train/beagle97.png\n",
      "./beagle/train/스크린샷 2020-02-04 오후 7.14.13.png => ./beagle/train/beagle98.png\n",
      "./beagle/train/스크린샷 2020-02-04 오후 7.16.02.png => ./beagle/train/beagle99.png\n",
      "./beagle/train/스크린샷 2020-02-04 오후 7.30.06.png => ./beagle/train/beagle100.png\n",
      "./beagle/train/스크린샷 2020-02-04 오후 7.27.36.png => ./beagle/train/beagle101.png\n",
      "./beagle/train/스크린샷 2020-02-04 오후 7.23.53.png => ./beagle/train/beagle102.png\n",
      "./beagle/train/스크린샷 2020-02-04 오후 7.16.17.png => ./beagle/train/beagle103.png\n",
      "./beagle/train/스크린샷 2020-02-04 오후 7.18.12.png => ./beagle/train/beagle104.png\n",
      "./beagle/train/스크린샷 2020-02-04 오후 7.17.43.png => ./beagle/train/beagle105.png\n",
      "./beagle/train/스크린샷 2020-02-04 오후 7.12.00.png => ./beagle/train/beagle106.png\n",
      "./beagle/train/스크린샷 2020-02-04 오후 7.12.28.png => ./beagle/train/beagle107.png\n",
      "./beagle/train/스크린샷 2020-02-04 오후 7.27.51.png => ./beagle/train/beagle108.png\n",
      "./beagle/train/스크린샷 2020-02-04 오후 7.29.40.png => ./beagle/train/beagle109.png\n",
      "./beagle/train/스크린샷 2020-02-04 오후 7.12.15.png => ./beagle/train/beagle110.png\n",
      "./beagle/train/스크린샷 2020-02-04 오후 7.11.44.png => ./beagle/train/beagle111.png\n",
      "./beagle/train/스크린샷 2020-02-04 오후 7.28.00.png => ./beagle/train/beagle112.png\n",
      "./beagle/train/스크린샷 2020-02-04 오후 7.13.41.png => ./beagle/train/beagle113.png\n",
      "./beagle/train/스크린샷 2020-02-04 오후 7.13.55.png => ./beagle/train/beagle114.png\n",
      "./beagle/train/스크린샷 2020-02-04 오후 7.19.08.png => ./beagle/train/beagle115.png\n",
      "./beagle/train/스크린샷 2020-02-04 오후 7.19.36.png => ./beagle/train/beagle116.png\n",
      "./beagle/train/스크린샷 2020-02-04 오후 7.25.56.png => ./beagle/train/beagle117.png\n",
      "./beagle/train/스크린샷 2020-02-04 오후 7.11.52.png => ./beagle/train/beagle118.png\n",
      "./beagle/train/스크린샷 2020-02-04 오후 7.23.23.png => ./beagle/train/beagle119.png\n",
      "./beagle/train/스크린샷 2020-02-04 오후 7.27.46.png => ./beagle/train/beagle120.png\n",
      "./beagle/train/스크린샷 2020-02-04 오후 7.24.03.png => ./beagle/train/beagle121.png\n",
      "./beagle/train/스크린샷 2020-02-04 오후 7.29.53.png => ./beagle/train/beagle122.png\n",
      "./beagle/train/스크린샷 2020-02-04 오후 7.27.43.png => ./beagle/train/beagle123.png\n",
      "./beagle/train/스크린샷 2020-02-04 오후 7.24.06.png => ./beagle/train/beagle124.png\n",
      "./beagle/train/스크린샷 2020-02-04 오후 7.23.27.png => ./beagle/train/beagle125.png\n",
      "./beagle/train/스크린샷 2020-02-04 오후 7.11.56.png => ./beagle/train/beagle126.png\n",
      "./beagle/train/스크린샷 2020-02-04 오후 7.28.12.png => ./beagle/train/beagle127.png\n",
      "./beagle/train/스크린샷 2020-02-04 오후 7.19.30.png => ./beagle/train/beagle128.png\n",
      "./beagle/train/스크린샷 2020-02-04 오후 7.25.44.png => ./beagle/train/beagle129.png\n",
      "./beagle/train/스크린샷 2020-02-04 오후 7.13.51.png => ./beagle/train/beagle130.png\n",
      "./beagle/train/스크린샷 2020-02-04 오후 7.13.45.png => ./beagle/train/beagle131.png\n",
      "./beagle/train/스크린샷 2020-02-04 오후 7.26.01.png => ./beagle/train/beagle132.png\n",
      "./beagle/train/스크린샷 2020-02-04 오후 7.23.31.png => ./beagle/train/beagle133.png\n",
      "./beagle/train/스크린샷 2020-02-04 오후 7.27.55.png => ./beagle/train/beagle134.png\n",
      "./beagle/train/스크린샷 2020-02-04 오후 7.29.45.png => ./beagle/train/beagle135.png\n",
      "./beagle/train/스크린샷 2020-02-04 오후 7.12.10.png => ./beagle/train/beagle136.png\n",
      "./beagle/train/스크린샷 2020-02-04 오후 7.23.18.png => ./beagle/train/beagle137.png\n",
      "./beagle/train/스크린샷 2020-02-04 오후 7.26.28.png => ./beagle/train/beagle138.png\n",
      "./beagle/train/스크린샷 2020-02-04 오후 7.19.25.png => ./beagle/train/beagle139.png\n",
      "./beagle/train/스크린샷 2020-02-04 오후 7.17.34.png => ./beagle/train/beagle140.png\n",
      "./beagle/train/스크린샷 2020-02-04 오후 7.19.19.png => ./beagle/train/beagle141.png\n",
      "./beagle/test/스크린샷 2020-02-04 오후 7.15.29.png => ./beagle/test/beagle1.png\n",
      "./beagle/test/스크린샷 2020-02-04 오후 7.14.43.png => ./beagle/test/beagle2.png\n",
      "./beagle/test/스크린샷 2020-02-04 오후 7.14.52.png => ./beagle/test/beagle3.png\n",
      "./beagle/test/스크린샷 2020-02-04 오후 7.14.46.png => ./beagle/test/beagle4.png\n",
      "./beagle/test/스크린샷 2020-02-04 오후 7.15.06.png => ./beagle/test/beagle5.png\n",
      "./beagle/test/.DS_Store => ./beagle/test/beagle6.png\n",
      "./beagle/test/스크린샷 2020-02-04 오후 7.15.11.png => ./beagle/test/beagle7.png\n",
      "./beagle/test/스크린샷 2020-02-04 오후 7.11.07.png => ./beagle/test/beagle8.png\n",
      "./beagle/test/스크린샷 2020-02-04 오후 7.10.50.png => ./beagle/test/beagle9.png\n",
      "./beagle/test/스크린샷 2020-02-04 오후 7.11.04.png => ./beagle/test/beagle10.png\n",
      "./beagle/test/스크린샷 2020-02-04 오후 7.11.11.png => ./beagle/test/beagle11.png\n",
      "./beagle/test/스크린샷 2020-02-04 오후 7.10.56.png => ./beagle/test/beagle12.png\n",
      "./beagle/test/스크린샷 2020-02-04 오후 7.11.16.png => ./beagle/test/beagle13.png\n",
      "./beagle/test/스크린샷 2020-02-04 오후 7.11.26.png => ./beagle/test/beagle14.png\n",
      "./beagle/test/스크린샷 2020-02-04 오후 7.30.17.png => ./beagle/test/beagle15.png\n",
      "./beagle/test/스크린샷 2020-02-04 오후 7.11.33.png => ./beagle/test/beagle16.png\n",
      "./beagle/test/스크린샷 2020-02-04 오후 7.11.19.png => ./beagle/test/beagle17.png\n",
      "./beagle/test/스크린샷 2020-02-04 오후 7.11.23.png => ./beagle/test/beagle18.png\n",
      "./beagle/test/스크린샷 2020-02-04 오후 7.15.35.png => ./beagle/test/beagle19.png\n",
      "./beagle/test/스크린샷 2020-02-04 오후 7.15.24.png => ./beagle/test/beagle20.png\n",
      "./beagle/test/스크린샷 2020-02-04 오후 7.15.19.png => ./beagle/test/beagle21.png\n",
      "./beagle/test/스크린샷 2020-02-04 오후 7.14.59.png => ./beagle/test/beagle22.png\n"
     ]
    }
   ],
   "source": [
    "import sys\n",
    "from os import rename, listdir\n",
    "from PIL import Image\n",
    "\n",
    "def changeName(path, cName):\n",
    "    i = 1\n",
    "    for filename in listdir(path):\n",
    "        print(path+filename, '=>', path+str(cName)+str(i)+'.png')\n",
    "        rename(path+filename, path+str(cName)+str(i)+'.png')\n",
    "        i += 1\n",
    "        \n",
    "path1 = './beagle/train/'\n",
    "path2 = './beagle/test/'\n",
    "changeName(path1, 'beagle')\n",
    "changeName(path2, 'beagle')"
   ]
  },
  {
   "cell_type": "code",
   "execution_count": 10,
   "metadata": {},
   "outputs": [
    {
     "ename": "SyntaxError",
     "evalue": "invalid syntax (<ipython-input-10-ce00d5c9d109>, line 3)",
     "output_type": "error",
     "traceback": [
      "\u001b[0;36m  File \u001b[0;32m\"<ipython-input-10-ce00d5c9d109>\"\u001b[0;36m, line \u001b[0;32m3\u001b[0m\n\u001b[0;31m    https://yujuwon.tistory.com/entry/Python-pillow%EB%A1%9C-%EC%9D%B4%EB%AF%B8%EC%A7%80-%EC%B2%98%EB%A6%AC%ED%95%98%EA%B8%B0\u001b[0m\n\u001b[0m           ^\u001b[0m\n\u001b[0;31mSyntaxError\u001b[0m\u001b[0;31m:\u001b[0m invalid syntax\n"
     ]
    }
   ],
   "source": [
    "# 이미지 리사이징부터!\n",
    "# Pillow 로 비율 맞춰서 줄이고 가운데로 이동, 여백은 하얗게\n",
    "https://yujuwon.tistory.com/entry/Python-pillow%EB%A1%9C-%EC%9D%B4%EB%AF%B8%EC%A7%80-%EC%B2%98%EB%A6%AC%ED%95%98%EA%B8%B0\n",
    "\n",
    "    \n",
    "import os, sys\n",
    "import Image\n",
    "\n",
    "size = 128, 128\n",
    "\n",
    "for infile in sys.argv[1:]:\n",
    "    outfile = os.path.splitext(infile)[0] + \".thumbnail\"\n",
    "    if infile != outfile:\n",
    "        try:\n",
    "            im = Image.open(infile)\n",
    "            im.thumbnail(size, Image.ANTIALIAS)\n",
    "            im.save(outfile, \"JPEG\")\n",
    "        except IOError:\n",
    "            print \"cannot create thumbnail for '%s'\" % infile"
   ]
  },
  {
   "cell_type": "code",
   "execution_count": 57,
   "metadata": {},
   "outputs": [
    {
     "name": "stderr",
     "output_type": "stream",
     "text": [
      "/opt/anaconda3/lib/python3.7/site-packages/sklearn/preprocessing/_encoders.py:415: FutureWarning: The handling of integer data will change in version 0.22. Currently, the categories are determined based on the range [0, max(values)], while in the future they will be determined based on the unique values.\n",
      "If you want the future behaviour and silence this warning, you can specify \"categories='auto'\".\n",
      "In case you used a LabelEncoder before this OneHotEncoder to convert the categories to integers, then you can now use the OneHotEncoder directly.\n",
      "  warnings.warn(msg, FutureWarning)\n"
     ]
    }
   ],
   "source": [
    "# http://www.birc.co.kr/2018/02/26/%EC%8B%A4%EC%A0%9C-%EC%9D%B4%EB%AF%B8%EC%A7%80-%EB%8D%B0%EC%9D%B4%ED%84%B0%EB%A5%BC-%ED%99%9C%EC%9A%A9%ED%95%9C-cnn-%EB%AA%A8%EB%8D%B8-%EA%B5%AC%ED%98%84%ED%95%98%EA%B8%B0/\n",
    "# 이걸 일단 공부해보려고 함 그다음 응용합시다~\n",
    "\n",
    "from PIL import Image\n",
    "\n",
    "TRAIN_DIR = './beagle/train/'\n",
    "train_folder_list = array(os.listdir(TRAIN_DIR))\n",
    "\n",
    "train_input = []\n",
    "train_label = []\n",
    "\n",
    "label_encoder = LabelEncoder()\n",
    "integer_encoded = label_encoder.fit_transform(train_folder_list)\n",
    "onehot_encoder = OneHotEncoder(sparse=False)\n",
    "integer_encoded = integer_encoded.reshape(len(integer_encoded), 1)\n",
    "onehot_encoded = onehot_encoder.fit_transform(integer_encoded)\n",
    "\n",
    "for index in range(len(train_folder_list)):\n",
    "    path = os.path.join(TRAIN_DIR, train_folder_list[index])\n",
    "    size = 64, 64\n",
    "    img_list = os.listdir(path)\n",
    "    for img in img_list:\n",
    "        img_path = os.path.join(path, img)\n",
    "        img = cv2.imread(img_path, cv2.IMREAD_GRAYSCALE)\n",
    "        if img.shape[1] > img.shape[0]:\n",
    "            ratio = img.shape[0] / img.shape[1]\n",
    "            dim = (64, int(img.shape[1]*ratio))\n",
    "            img = cv2.resize(img, dim, interpolation=cv2.INTER_AREA)\n",
    "        else:\n",
    "            ratio = img.shape[1] / img.shape[0]\n",
    "            dim = (int(img.shape[0]*ratio), 64)\n",
    "            img = cv2.resize(img, dim, interpolation=cv2.INTER_AREA)\n",
    "\n",
    "        train_input.append([np.array(img)])\n",
    "        train_label.append([np.array(onehot_encoded[index])])"
   ]
  },
  {
   "cell_type": "code",
   "execution_count": 60,
   "metadata": {},
   "outputs": [
    {
     "data": {
      "text/plain": [
       "(1, 310, 64)"
      ]
     },
     "execution_count": 60,
     "metadata": {},
     "output_type": "execute_result"
    }
   ],
   "source": [
    "np.shape(train_input[0])"
   ]
  },
  {
   "cell_type": "code",
   "execution_count": 62,
   "metadata": {},
   "outputs": [
    {
     "data": {
      "text/plain": [
       "(338, 406)"
      ]
     },
     "execution_count": 62,
     "metadata": {},
     "output_type": "execute_result"
    }
   ],
   "source": [
    "test = img_list[0]\n",
    "img_path = os.path.join(path, test)\n",
    "img = cv2.imread(img_path, cv2.IMREAD_GRAYSCALE)\n",
    "img.shape"
   ]
  },
  {
   "cell_type": "code",
   "execution_count": 66,
   "metadata": {},
   "outputs": [
    {
     "data": {
      "text/plain": [
       "338.0"
      ]
     },
     "execution_count": 66,
     "metadata": {},
     "output_type": "execute_result"
    }
   ],
   "source": [
    "ratio = img.shape[0] / img.shape[1]\n",
    "ratio\n",
    "img.shape[1] * ratio\n"
   ]
  },
  {
   "cell_type": "code",
   "execution_count": 44,
   "metadata": {},
   "outputs": [
    {
     "ename": "ValueError",
     "evalue": "cannot reshape array of size 140 into shape (4096)",
     "output_type": "error",
     "traceback": [
      "\u001b[0;31m---------------------------------------------------------------------------\u001b[0m",
      "\u001b[0;31mValueError\u001b[0m                                Traceback (most recent call last)",
      "\u001b[0;32m<ipython-input-44-123c026c8d22>\u001b[0m in \u001b[0;36m<module>\u001b[0;34m\u001b[0m\n\u001b[0;32m----> 1\u001b[0;31m \u001b[0mtrain_input\u001b[0m \u001b[0;34m=\u001b[0m \u001b[0mnp\u001b[0m\u001b[0;34m.\u001b[0m\u001b[0mreshape\u001b[0m\u001b[0;34m(\u001b[0m\u001b[0mtrain_input\u001b[0m\u001b[0;34m,\u001b[0m \u001b[0;34m(\u001b[0m\u001b[0;34m-\u001b[0m\u001b[0;36m1\u001b[0m\u001b[0;34m,\u001b[0m \u001b[0;36m4096\u001b[0m\u001b[0;34m)\u001b[0m\u001b[0;34m)\u001b[0m\u001b[0;34m\u001b[0m\u001b[0;34m\u001b[0m\u001b[0m\n\u001b[0m\u001b[1;32m      2\u001b[0m \u001b[0mtrain_label\u001b[0m \u001b[0;34m=\u001b[0m \u001b[0mnp\u001b[0m\u001b[0;34m.\u001b[0m\u001b[0mreshape\u001b[0m\u001b[0;34m(\u001b[0m\u001b[0mtrain_label\u001b[0m\u001b[0;34m,\u001b[0m \u001b[0;34m(\u001b[0m\u001b[0;34m-\u001b[0m\u001b[0;36m1\u001b[0m\u001b[0;34m,\u001b[0m \u001b[0;36m5\u001b[0m\u001b[0;34m)\u001b[0m\u001b[0;34m)\u001b[0m\u001b[0;34m\u001b[0m\u001b[0;34m\u001b[0m\u001b[0m\n\u001b[1;32m      3\u001b[0m \u001b[0mtrain_input\u001b[0m \u001b[0;34m=\u001b[0m \u001b[0mnp\u001b[0m\u001b[0;34m.\u001b[0m\u001b[0marray\u001b[0m\u001b[0;34m(\u001b[0m\u001b[0mtrain_input\u001b[0m\u001b[0;34m)\u001b[0m\u001b[0;34m.\u001b[0m\u001b[0mastype\u001b[0m\u001b[0;34m(\u001b[0m\u001b[0mnp\u001b[0m\u001b[0;34m.\u001b[0m\u001b[0mfloat32\u001b[0m\u001b[0;34m)\u001b[0m\u001b[0;34m\u001b[0m\u001b[0;34m\u001b[0m\u001b[0m\n\u001b[1;32m      4\u001b[0m \u001b[0mtrain_label\u001b[0m \u001b[0;34m=\u001b[0m \u001b[0mnp\u001b[0m\u001b[0;34m.\u001b[0m\u001b[0marray\u001b[0m\u001b[0;34m(\u001b[0m\u001b[0mtrain_label\u001b[0m\u001b[0;34m)\u001b[0m\u001b[0;34m.\u001b[0m\u001b[0mastype\u001b[0m\u001b[0;34m(\u001b[0m\u001b[0mnp\u001b[0m\u001b[0;34m.\u001b[0m\u001b[0mfloat32\u001b[0m\u001b[0;34m)\u001b[0m\u001b[0;34m\u001b[0m\u001b[0;34m\u001b[0m\u001b[0m\n\u001b[1;32m      5\u001b[0m \u001b[0;34m\u001b[0m\u001b[0m\n",
      "\u001b[0;32m<__array_function__ internals>\u001b[0m in \u001b[0;36mreshape\u001b[0;34m(*args, **kwargs)\u001b[0m\n",
      "\u001b[0;32m/opt/anaconda3/lib/python3.7/site-packages/numpy/core/fromnumeric.py\u001b[0m in \u001b[0;36mreshape\u001b[0;34m(a, newshape, order)\u001b[0m\n\u001b[1;32m    299\u001b[0m            [5, 6]])\n\u001b[1;32m    300\u001b[0m     \"\"\"\n\u001b[0;32m--> 301\u001b[0;31m     \u001b[0;32mreturn\u001b[0m \u001b[0m_wrapfunc\u001b[0m\u001b[0;34m(\u001b[0m\u001b[0ma\u001b[0m\u001b[0;34m,\u001b[0m \u001b[0;34m'reshape'\u001b[0m\u001b[0;34m,\u001b[0m \u001b[0mnewshape\u001b[0m\u001b[0;34m,\u001b[0m \u001b[0morder\u001b[0m\u001b[0;34m=\u001b[0m\u001b[0morder\u001b[0m\u001b[0;34m)\u001b[0m\u001b[0;34m\u001b[0m\u001b[0;34m\u001b[0m\u001b[0m\n\u001b[0m\u001b[1;32m    302\u001b[0m \u001b[0;34m\u001b[0m\u001b[0m\n\u001b[1;32m    303\u001b[0m \u001b[0;34m\u001b[0m\u001b[0m\n",
      "\u001b[0;32m/opt/anaconda3/lib/python3.7/site-packages/numpy/core/fromnumeric.py\u001b[0m in \u001b[0;36m_wrapfunc\u001b[0;34m(obj, method, *args, **kwds)\u001b[0m\n\u001b[1;32m     56\u001b[0m     \u001b[0mbound\u001b[0m \u001b[0;34m=\u001b[0m \u001b[0mgetattr\u001b[0m\u001b[0;34m(\u001b[0m\u001b[0mobj\u001b[0m\u001b[0;34m,\u001b[0m \u001b[0mmethod\u001b[0m\u001b[0;34m,\u001b[0m \u001b[0;32mNone\u001b[0m\u001b[0;34m)\u001b[0m\u001b[0;34m\u001b[0m\u001b[0;34m\u001b[0m\u001b[0m\n\u001b[1;32m     57\u001b[0m     \u001b[0;32mif\u001b[0m \u001b[0mbound\u001b[0m \u001b[0;32mis\u001b[0m \u001b[0;32mNone\u001b[0m\u001b[0;34m:\u001b[0m\u001b[0;34m\u001b[0m\u001b[0;34m\u001b[0m\u001b[0m\n\u001b[0;32m---> 58\u001b[0;31m         \u001b[0;32mreturn\u001b[0m \u001b[0m_wrapit\u001b[0m\u001b[0;34m(\u001b[0m\u001b[0mobj\u001b[0m\u001b[0;34m,\u001b[0m \u001b[0mmethod\u001b[0m\u001b[0;34m,\u001b[0m \u001b[0;34m*\u001b[0m\u001b[0margs\u001b[0m\u001b[0;34m,\u001b[0m \u001b[0;34m**\u001b[0m\u001b[0mkwds\u001b[0m\u001b[0;34m)\u001b[0m\u001b[0;34m\u001b[0m\u001b[0;34m\u001b[0m\u001b[0m\n\u001b[0m\u001b[1;32m     59\u001b[0m \u001b[0;34m\u001b[0m\u001b[0m\n\u001b[1;32m     60\u001b[0m     \u001b[0;32mtry\u001b[0m\u001b[0;34m:\u001b[0m\u001b[0;34m\u001b[0m\u001b[0;34m\u001b[0m\u001b[0m\n",
      "\u001b[0;32m/opt/anaconda3/lib/python3.7/site-packages/numpy/core/fromnumeric.py\u001b[0m in \u001b[0;36m_wrapit\u001b[0;34m(obj, method, *args, **kwds)\u001b[0m\n\u001b[1;32m     45\u001b[0m     \u001b[0;32mexcept\u001b[0m \u001b[0mAttributeError\u001b[0m\u001b[0;34m:\u001b[0m\u001b[0;34m\u001b[0m\u001b[0;34m\u001b[0m\u001b[0m\n\u001b[1;32m     46\u001b[0m         \u001b[0mwrap\u001b[0m \u001b[0;34m=\u001b[0m \u001b[0;32mNone\u001b[0m\u001b[0;34m\u001b[0m\u001b[0;34m\u001b[0m\u001b[0m\n\u001b[0;32m---> 47\u001b[0;31m     \u001b[0mresult\u001b[0m \u001b[0;34m=\u001b[0m \u001b[0mgetattr\u001b[0m\u001b[0;34m(\u001b[0m\u001b[0masarray\u001b[0m\u001b[0;34m(\u001b[0m\u001b[0mobj\u001b[0m\u001b[0;34m)\u001b[0m\u001b[0;34m,\u001b[0m \u001b[0mmethod\u001b[0m\u001b[0;34m)\u001b[0m\u001b[0;34m(\u001b[0m\u001b[0;34m*\u001b[0m\u001b[0margs\u001b[0m\u001b[0;34m,\u001b[0m \u001b[0;34m**\u001b[0m\u001b[0mkwds\u001b[0m\u001b[0;34m)\u001b[0m\u001b[0;34m\u001b[0m\u001b[0;34m\u001b[0m\u001b[0m\n\u001b[0m\u001b[1;32m     48\u001b[0m     \u001b[0;32mif\u001b[0m \u001b[0mwrap\u001b[0m\u001b[0;34m:\u001b[0m\u001b[0;34m\u001b[0m\u001b[0;34m\u001b[0m\u001b[0m\n\u001b[1;32m     49\u001b[0m         \u001b[0;32mif\u001b[0m \u001b[0;32mnot\u001b[0m \u001b[0misinstance\u001b[0m\u001b[0;34m(\u001b[0m\u001b[0mresult\u001b[0m\u001b[0;34m,\u001b[0m \u001b[0mmu\u001b[0m\u001b[0;34m.\u001b[0m\u001b[0mndarray\u001b[0m\u001b[0;34m)\u001b[0m\u001b[0;34m:\u001b[0m\u001b[0;34m\u001b[0m\u001b[0;34m\u001b[0m\u001b[0m\n",
      "\u001b[0;31mValueError\u001b[0m: cannot reshape array of size 140 into shape (4096)"
     ]
    }
   ],
   "source": [
    "train_input = np.reshape(train_input, (-1, 4096))\n",
    "train_label = np.reshape(train_label, (-1, 5))\n",
    "train_input = np.array(train_input).astype(np.float32)\n",
    "train_label = np.array(train_label).astype(np.float32)\n",
    "\n",
    "# https://rfriend.tistory.com/358 (numpy배열을 외부파일로 저장 : npy)\n",
    "np.save(\"train_data.npy\", train_input)\n",
    "np.save(\"train_label.npy\", train_label)"
   ]
  },
  {
   "cell_type": "code",
   "execution_count": 7,
   "metadata": {},
   "outputs": [
    {
     "name": "stderr",
     "output_type": "stream",
     "text": [
      "/opt/anaconda3/lib/python3.7/site-packages/sklearn/preprocessing/_encoders.py:415: FutureWarning: The handling of integer data will change in version 0.22. Currently, the categories are determined based on the range [0, max(values)], while in the future they will be determined based on the unique values.\n",
      "If you want the future behaviour and silence this warning, you can specify \"categories='auto'\".\n",
      "In case you used a LabelEncoder before this OneHotEncoder to convert the categories to integers, then you can now use the OneHotEncoder directly.\n",
      "  warnings.warn(msg, FutureWarning)\n"
     ]
    },
    {
     "ename": "NotADirectoryError",
     "evalue": "[Errno 20] Not a directory: './beagle/train/beagle57.png'",
     "output_type": "error",
     "traceback": [
      "\u001b[0;31m---------------------------------------------------------------------------\u001b[0m",
      "\u001b[0;31mNotADirectoryError\u001b[0m                        Traceback (most recent call last)",
      "\u001b[0;32m<ipython-input-7-47837acc5c62>\u001b[0m in \u001b[0;36m<module>\u001b[0;34m\u001b[0m\n\u001b[1;32m     25\u001b[0m     \u001b[0mpath\u001b[0m \u001b[0;34m=\u001b[0m \u001b[0mos\u001b[0m\u001b[0;34m.\u001b[0m\u001b[0mpath\u001b[0m\u001b[0;34m.\u001b[0m\u001b[0mjoin\u001b[0m\u001b[0;34m(\u001b[0m\u001b[0mTRAIN_DIR\u001b[0m\u001b[0;34m,\u001b[0m \u001b[0mtrain_folder_list\u001b[0m\u001b[0;34m[\u001b[0m\u001b[0mindex\u001b[0m\u001b[0;34m]\u001b[0m\u001b[0;34m)\u001b[0m\u001b[0;34m\u001b[0m\u001b[0;34m\u001b[0m\u001b[0m\n\u001b[1;32m     26\u001b[0m     \u001b[0msize\u001b[0m \u001b[0;34m=\u001b[0m \u001b[0;36m64\u001b[0m\u001b[0;34m,\u001b[0m \u001b[0;36m64\u001b[0m\u001b[0;34m\u001b[0m\u001b[0;34m\u001b[0m\u001b[0m\n\u001b[0;32m---> 27\u001b[0;31m     \u001b[0mimg_list\u001b[0m \u001b[0;34m=\u001b[0m \u001b[0mos\u001b[0m\u001b[0;34m.\u001b[0m\u001b[0mlistdir\u001b[0m\u001b[0;34m(\u001b[0m\u001b[0mpath\u001b[0m\u001b[0;34m)\u001b[0m\u001b[0;34m\u001b[0m\u001b[0;34m\u001b[0m\u001b[0m\n\u001b[0m\u001b[1;32m     28\u001b[0m     \u001b[0;32mfor\u001b[0m \u001b[0mimg\u001b[0m \u001b[0;32min\u001b[0m \u001b[0mimg_list\u001b[0m\u001b[0;34m:\u001b[0m\u001b[0;34m\u001b[0m\u001b[0;34m\u001b[0m\u001b[0m\n\u001b[1;32m     29\u001b[0m         \u001b[0mimg_path\u001b[0m \u001b[0;34m=\u001b[0m \u001b[0mos\u001b[0m\u001b[0;34m.\u001b[0m\u001b[0mpath\u001b[0m\u001b[0;34m.\u001b[0m\u001b[0mjoin\u001b[0m\u001b[0;34m(\u001b[0m\u001b[0mpath\u001b[0m\u001b[0;34m,\u001b[0m \u001b[0mimg\u001b[0m\u001b[0;34m)\u001b[0m\u001b[0;34m\u001b[0m\u001b[0;34m\u001b[0m\u001b[0m\n",
      "\u001b[0;31mNotADirectoryError\u001b[0m: [Errno 20] Not a directory: './beagle/train/beagle57.png'"
     ]
    }
   ],
   "source": [
    "\n",
    "\n",
    "TEST_DIR = './beagle/test/'\n",
    "test_folder_list = array(os.listdir(TEST_DIR))\n",
    "\n",
    "test_input = []\n",
    "test_label = []\n",
    "\n",
    "label_encoder = LabelEncoder()\n",
    "integer_encoded = label_encoder.fit_transform(test_folder_list)\n",
    "\n",
    "onehot_encoder = OneHotEncoder(sparse=False)\n",
    "integer_encoded = integer_encoded.reshape(len(integer_encoded), 1)\n",
    "onehot_encoded = onehot_encoder.fit_transform(integer_encoded)\n",
    "\n",
    "for index in range(len(test_folder_list)):\n",
    "    path = os.path.join(TEST_DIR, test_folder_list[index])\n",
    "#    path = path + '/'\n",
    "    img_list = os.listdir(path)\n",
    "    for img in img_list:\n",
    "        img_path = os.path.join(path, img)\n",
    "        img = cv2.imread(img_path, cv2.IMREAD_GRAYSCALE)\n",
    "        img = img.thumbnail(size, Image.ANTIALIAS)\n",
    "        test_input.append([np.array(img)])\n",
    "        test_label.append([np.array(onehot_encoded[index])])\n",
    "        \n",
    "test_input = np.resape(test_input, (-1, 4096))\n",
    "test_label = np.reshape(test_label, (-1, 5))\n",
    "test_input = np.array(test_input).astype(np.float32)\n",
    "test_label = np.array(test_label).astype(np.float32)\n",
    "np.save(\"test_input.npy\", test_input)\n",
    "np.save(\"test_label.npy\", test_label)\n",
    "\n",
    "# 여기서는 트레인 / 테스트 따로 나눠서 변환하는데\n",
    "# 한번에 바꾸고, 학습하기 전에 따로 빼놓고 하는 코드가 어디 없낭\n",
    "# 랜덤 셔플도 해보구..."
   ]
  },
  {
   "cell_type": "code",
   "execution_count": null,
   "metadata": {},
   "outputs": [],
   "source": [
    "learning_rate = 0.001\n",
    "\n",
    "X = tf.placeholder(tf.float32, [None, 784])\n",
    "X_img = tf.reshape(X, [-1, 28, 28, 1])\n",
    "Y = tf.placeholder(tf.float32, [None, 10])\n",
    "\n",
    "W1 = tf.Variable(tf.random_normal([3,3,1,32], stddev=0.01))\n",
    "L1 = tf.nn.conv2d(X_img, W1, strides=[1,1,1,1], padding='SAME')\n",
    "L1 = tf.nn.relu(L1)\n",
    "L1 = tf.nn.max_pool(L1, ksize=[1,2,2,1], strides=[1,2,2,1], padding='SAME')\n",
    "\n",
    "W2 = tf.Variable(tf.random_normal([3,3,32,64], stddev=0.01))\n",
    "L2 = tf.nn.conv2d(L1, W2, strides=[1,1,1,1], padding='SAME')\n",
    "L2 = tf.nn.relu(L2)\n",
    "L2 = tf.nn.max_pool(L2, ksize=[1,2,2,1], strides=[1,2,2,1], padding='SAME')\n",
    "\n",
    "L2_flat = tf.reshape(L2, [-1, 7*7*64])\n",
    "W3 = tf.get_variable(\"W3\", shape=[7*7*64, 10],\n",
    "                     initializer=tf.contrib.layers.xavier_initializer())\n",
    "b = tf.Variable(tf.random_normal([10]))\n",
    "logits = tf.matmul(L2_flat, W3) + b\n",
    "\n",
    "cost = tf.reduce_mean(tf.nn.sotfmax_cross_entropy_with_logits(logits=\n",
    "                                                             logits, labels=Y))\n",
    "optimizer = tf.train.AdamOptimizer(learning_rate = learning_rate).minimize(cost)\n"
   ]
  },
  {
   "cell_type": "code",
   "execution_count": null,
   "metadata": {},
   "outputs": [],
   "source": [
    "training_epochs = 15\n",
    "batch_size = 100\n",
    "\n",
    "sess = tf.Session()\n",
    "sess.run(tf.global_variables_initializer())\n",
    "\n",
    "print('Learning started. It takes some time')\n",
    "for epoch in range(training_epochs):\n",
    "    avg_cost = 0\n",
    "    total_batch = int(len(train_input) / batch_size)\n",
    "    \n",
    "    for i in range(total_batch):\n",
    "        start = ((i+1) * batch_size) - batch_size\n",
    "        end = ((i+1) * batch_size)\n",
    "        batch_xs = train_input[start:end]\n",
    "        batch_ys = train_label[start:end]\n",
    "        feed_dict = {X: batch_xs, Y: batch_ys}\n",
    "        c, _ = sess.run([cost, optimizer], feed_dict=feed_dict)\n",
    "        avg_cost += c / total_batch\n",
    "        \n",
    "    print('Epoch:', '%04d' % (epoch + 1), 'cost=', \n",
    "         '{:.9f}'.format(avg_cost))\n",
    "print('Learning Finished!')"
   ]
  },
  {
   "cell_type": "code",
   "execution_count": null,
   "metadata": {},
   "outputs": [],
   "source": []
  }
 ],
 "metadata": {
  "kernelspec": {
   "display_name": "Python 3",
   "language": "python",
   "name": "python3"
  },
  "language_info": {
   "codemirror_mode": {
    "name": "ipython",
    "version": 3
   },
   "file_extension": ".py",
   "mimetype": "text/x-python",
   "name": "python",
   "nbconvert_exporter": "python",
   "pygments_lexer": "ipython3",
   "version": "3.7.4"
  }
 },
 "nbformat": 4,
 "nbformat_minor": 2
}
