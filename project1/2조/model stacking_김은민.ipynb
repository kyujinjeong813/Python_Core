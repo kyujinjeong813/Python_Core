{
 "cells": [
  {
   "cell_type": "code",
   "execution_count": null,
   "metadata": {},
   "outputs": [],
   "source": [
    "# model_stacking(  과대적합의 문제가 있어서 잘 활용하지 않는다 ) \n",
    "#-->> cv 기반의 model stacking 을 많이 한다 "
   ]
  },
  {
   "cell_type": "code",
   "execution_count": 1,
   "metadata": {},
   "outputs": [],
   "source": [
    "import pandas as pd\n",
    "import numpy as np"
   ]
  },
  {
   "cell_type": "code",
   "execution_count": 2,
   "metadata": {},
   "outputs": [],
   "source": [
    "rdf= pd.read_csv(\"team2.csv\",encoding='utf-8',index_col=0)"
   ]
  },
  {
   "cell_type": "code",
   "execution_count": 3,
   "metadata": {},
   "outputs": [],
   "source": [
    "Y=rdf.iloc[:,:1]\n",
    "X=rdf.iloc[:,1:]"
   ]
  },
  {
   "cell_type": "code",
   "execution_count": 4,
   "metadata": {},
   "outputs": [],
   "source": [
    "from sklearn.preprocessing import minmax_scale\n",
    "minmax_X = minmax_scale(X)"
   ]
  },
  {
   "cell_type": "code",
   "execution_count": 5,
   "metadata": {},
   "outputs": [],
   "source": [
    "minmax_Y = minmax_scale(Y)"
   ]
  },
  {
   "cell_type": "code",
   "execution_count": 6,
   "metadata": {},
   "outputs": [],
   "source": [
    "rdf.iloc[:,1:]=minmax_X\n",
    "rdf.iloc[:,:1]=minmax_Y"
   ]
  },
  {
   "cell_type": "code",
   "execution_count": 7,
   "metadata": {},
   "outputs": [
    {
     "data": {
      "text/plain": [
       "출생아수            1.000000\n",
       "졸업자수           -0.546187\n",
       "사교육비            0.351348\n",
       "인구             -0.806956\n",
       "직장가입자          -0.589719\n",
       "지역가입자          -0.530373\n",
       "사회단체참여율        -0.307462\n",
       "수출             -0.709129\n",
       "수입             -0.653313\n",
       "실질국내총생산(GDP)   -0.805866\n",
       "1인당주거면적        -0.566131\n",
       "고등교육이수율        -0.816703\n",
       "원자료            -0.279709\n",
       "e러닝시장규모        -0.766230\n",
       "문화여가지출률        -0.694933\n",
       "지니계수            0.567716\n",
       "다문화출생아수        -0.416526\n",
       "전국 이혼건수         0.428730\n",
       "TV (%)          0.668100\n",
       "라디오 (%)         0.617048\n",
       "신문 (%)          0.682999\n",
       "유소년부양비          0.776362\n",
       "노년부양비          -0.839444\n",
       "노령화지수          -0.807482\n",
       "사망자수           -0.711671\n",
       "실업률             0.314853\n",
       "1인가구 비율        -0.776234\n",
       "혼인건수(건)         0.727594\n",
       "주택매매가격동향        0.133825\n",
       "\\t맞벌이가구비율      -0.716599\n",
       "유치원수           -0.687933\n",
       "어린이집수          -0.594952\n",
       "Name: 출생아수, dtype: float64"
      ]
     },
     "execution_count": 7,
     "metadata": {},
     "output_type": "execute_result"
    }
   ],
   "source": [
    "rdf.corr().iloc[:,0] "
   ]
  },
  {
   "cell_type": "code",
   "execution_count": 8,
   "metadata": {},
   "outputs": [],
   "source": [
    "del rdf['사교육비']\n",
    "del rdf['사회단체참여율']\n",
    "del rdf['원자료']\n",
    "del rdf['다문화출생아수']\n",
    "del rdf['전국 이혼건수 ']\n",
    "del rdf['실업률']\n",
    "del rdf['주택매매가격동향']\n"
   ]
  },
  {
   "cell_type": "code",
   "execution_count": 9,
   "metadata": {},
   "outputs": [],
   "source": [
    "%matplotlib inline \n",
    "import matplotlib.pyplot as plt\n",
    "import seaborn as sns\n",
    "\n",
    "from matplotlib import font_manager,rc\n",
    "\n",
    "font_name = font_manager.FontProperties(fname='C:/Windows/Fonts/malgun.ttf').get_name()\n",
    "rc('font', family=font_name)"
   ]
  },
  {
   "cell_type": "code",
   "execution_count": 10,
   "metadata": {},
   "outputs": [],
   "source": [
    "import numpy as np\n",
    "import pandas as pd\n",
    "import matplotlib.pyplot as plt\n",
    "import seaborn as sns\n",
    "\n",
    "from sklearn.model_selection import train_test_split\n",
    "from sklearn.model_selection import KFold, cross_val_score, cross_val_predict\n",
    "from sklearn import metrics\n",
    "\n",
    "from sklearn import svm\n",
    "from sklearn.linear_model import LogisticRegression\n",
    "from sklearn.ensemble import RandomForestClassifier, RandomForestRegressor\n",
    "from sklearn.neighbors import KNeighborsClassifier\n",
    "from sklearn.tree import DecisionTreeClassifier, DecisionTreeRegressor\n",
    "from sklearn.datasets import make_regression\n",
    "import statsmodels.api as sm\n",
    "import xgboost as xgb"
   ]
  },
  {
   "cell_type": "code",
   "execution_count": null,
   "metadata": {},
   "outputs": [],
   "source": []
  },
  {
   "cell_type": "code",
   "execution_count": null,
   "metadata": {},
   "outputs": [],
   "source": []
  },
  {
   "cell_type": "code",
   "execution_count": null,
   "metadata": {},
   "outputs": [],
   "source": []
  },
  {
   "cell_type": "code",
   "execution_count": null,
   "metadata": {},
   "outputs": [],
   "source": []
  },
  {
   "cell_type": "code",
   "execution_count": 13,
   "metadata": {},
   "outputs": [],
   "source": [
    "X_train, X_test, y_train, y_test = train_test_split(rdf.iloc[:,1:],rdf.iloc[:,:1], random_state=0)"
   ]
  },
  {
   "cell_type": "code",
   "execution_count": null,
   "metadata": {},
   "outputs": [],
   "source": [
    "#svr"
   ]
  },
  {
   "cell_type": "code",
   "execution_count": null,
   "metadata": {},
   "outputs": [],
   "source": [
    "model = svm.SVR(gamma='scale')\n",
    "model.fit(X_train, y_train)\n",
    "\n",
    "y_pred = model.predict(X_test)"
   ]
  },
  {
   "cell_type": "code",
   "execution_count": null,
   "metadata": {},
   "outputs": [],
   "source": [
    "# 개별모델들"
   ]
  },
  {
   "cell_type": "code",
   "execution_count": 15,
   "metadata": {},
   "outputs": [],
   "source": [
    "xg = xgb.XGBRegressor()\n",
    "RF = RandomForestRegressor(n_estimators=100)\n",
    "DT = DecisionTreeRegressor()"
   ]
  },
  {
   "cell_type": "code",
   "execution_count": 16,
   "metadata": {},
   "outputs": [],
   "source": [
    "# 최종모델\n",
    "svr = svm.SVR(gamma='scale')"
   ]
  },
  {
   "cell_type": "code",
   "execution_count": 18,
   "metadata": {},
   "outputs": [
    {
     "name": "stdout",
     "output_type": "stream",
     "text": [
      "[10:11:31] WARNING: src/objective/regression_obj.cu:152: reg:linear is now deprecated in favor of reg:squarederror.\n"
     ]
    },
    {
     "name": "stderr",
     "output_type": "stream",
     "text": [
      "C:\\Users\\ICT01_17\\Anaconda3\\lib\\site-packages\\ipykernel_launcher.py:2: DataConversionWarning: A column-vector y was passed when a 1d array was expected. Please change the shape of y to (n_samples,), for example using ravel().\n",
      "  \n"
     ]
    },
    {
     "data": {
      "text/plain": [
       "DecisionTreeRegressor(criterion='mse', max_depth=None, max_features=None,\n",
       "                      max_leaf_nodes=None, min_impurity_decrease=0.0,\n",
       "                      min_impurity_split=None, min_samples_leaf=1,\n",
       "                      min_samples_split=2, min_weight_fraction_leaf=0.0,\n",
       "                      presort=False, random_state=None, splitter='best')"
      ]
     },
     "execution_count": 18,
     "metadata": {},
     "output_type": "execute_result"
    }
   ],
   "source": [
    "xg.fit(X_train,y_train)\n",
    "RF.fit(X_train,y_train)\n",
    "DT.fit(X_train,y_train) "
   ]
  },
  {
   "cell_type": "code",
   "execution_count": 19,
   "metadata": {},
   "outputs": [],
   "source": [
    "xg_pred=xg.predict(X_test)\n",
    "RF_pred=RF.predict(X_test)\n",
    "DT_pred=DT.predict(X_test)\n",
    "\n"
   ]
  },
  {
   "cell_type": "code",
   "execution_count": 21,
   "metadata": {},
   "outputs": [],
   "source": [
    "new_data =np.array([xg_pred, RF_pred, DT_pred])"
   ]
  },
  {
   "cell_type": "code",
   "execution_count": 24,
   "metadata": {},
   "outputs": [],
   "source": [
    "new_data=np.transpose(new_data)"
   ]
  },
  {
   "cell_type": "code",
   "execution_count": 27,
   "metadata": {},
   "outputs": [
    {
     "data": {
      "text/plain": [
       "(5, 3)"
      ]
     },
     "execution_count": 27,
     "metadata": {},
     "output_type": "execute_result"
    }
   ],
   "source": [
    "new_data.shape"
   ]
  },
  {
   "cell_type": "code",
   "execution_count": null,
   "metadata": {},
   "outputs": [],
   "source": []
  },
  {
   "cell_type": "code",
   "execution_count": 29,
   "metadata": {},
   "outputs": [
    {
     "name": "stderr",
     "output_type": "stream",
     "text": [
      "C:\\Users\\ICT01_17\\Anaconda3\\lib\\site-packages\\sklearn\\utils\\validation.py:724: DataConversionWarning: A column-vector y was passed when a 1d array was expected. Please change the shape of y to (n_samples, ), for example using ravel().\n",
      "  y = column_or_1d(y, warn=True)\n"
     ]
    }
   ],
   "source": [
    "svr.fit(new_data,y_test)\n",
    "svr_pred=svr.predict(new_data)"
   ]
  },
  {
   "cell_type": "code",
   "execution_count": 30,
   "metadata": {},
   "outputs": [
    {
     "data": {
      "text/plain": [
       "array([0.36247785, 0.644132  , 0.37055156, 0.1       , 0.26952383])"
      ]
     },
     "execution_count": 30,
     "metadata": {},
     "output_type": "execute_result"
    }
   ],
   "source": []
  },
  {
   "cell_type": "code",
   "execution_count": null,
   "metadata": {},
   "outputs": [],
   "source": [
    "# 최종모델 평가"
   ]
  },
  {
   "cell_type": "code",
   "execution_count": 31,
   "metadata": {},
   "outputs": [],
   "source": [
    "from sklearn.metrics import mean_squared_error, mean_absolute_error, r2_score"
   ]
  },
  {
   "cell_type": "code",
   "execution_count": 32,
   "metadata": {},
   "outputs": [
    {
     "name": "stdout",
     "output_type": "stream",
     "text": [
      "MSE 0.008077973340570609\n",
      "RMSE 0.08987754636487696\n",
      "0.8590242427256821\n"
     ]
    }
   ],
   "source": [
    "print(\"MSE\",mean_squared_error(y_test, svr_pred))\n",
    "print(\"RMSE\",np.sqrt(mean_squared_error(y_test,svr_pred)))\n",
    "print(r2_score(y_test,svr_pred))\n"
   ]
  },
  {
   "cell_type": "code",
   "execution_count": 34,
   "metadata": {},
   "outputs": [
    {
     "data": {
      "text/html": [
       "<div>\n",
       "<style scoped>\n",
       "    .dataframe tbody tr th:only-of-type {\n",
       "        vertical-align: middle;\n",
       "    }\n",
       "\n",
       "    .dataframe tbody tr th {\n",
       "        vertical-align: top;\n",
       "    }\n",
       "\n",
       "    .dataframe thead th {\n",
       "        text-align: right;\n",
       "    }\n",
       "</style>\n",
       "<table border=\"1\" class=\"dataframe\">\n",
       "  <thead>\n",
       "    <tr style=\"text-align: right;\">\n",
       "      <th></th>\n",
       "      <th>y_data</th>\n",
       "      <th>preds</th>\n",
       "    </tr>\n",
       "  </thead>\n",
       "  <tbody>\n",
       "    <tr>\n",
       "      <td>y_data</td>\n",
       "      <td>1.000000</td>\n",
       "      <td>0.979524</td>\n",
       "    </tr>\n",
       "    <tr>\n",
       "      <td>preds</td>\n",
       "      <td>0.979524</td>\n",
       "      <td>1.000000</td>\n",
       "    </tr>\n",
       "  </tbody>\n",
       "</table>\n",
       "</div>"
      ],
      "text/plain": [
       "          y_data     preds\n",
       "y_data  1.000000  0.979524\n",
       "preds   0.979524  1.000000"
      ]
     },
     "execution_count": 34,
     "metadata": {},
     "output_type": "execute_result"
    }
   ],
   "source": [
    "\n",
    "df1=pd.DataFrame({'y_data':y_test['출생아수'],'preds':svr_pred})\n",
    "df1.corr()"
   ]
  },
  {
   "cell_type": "code",
   "execution_count": 38,
   "metadata": {},
   "outputs": [
    {
     "name": "stdout",
     "output_type": "stream",
     "text": [
      "SVR(C=1.0, cache_size=200, coef0=0.0, degree=3, epsilon=0.1, gamma='scale',\n",
      "    kernel='rbf', max_iter=-1, shrinking=True, tol=0.001, verbose=False)\n"
     ]
    }
   ],
   "source": [
    "print(svr)"
   ]
  },
  {
   "cell_type": "code",
   "execution_count": null,
   "metadata": {},
   "outputs": [],
   "source": []
  },
  {
   "cell_type": "code",
   "execution_count": null,
   "metadata": {},
   "outputs": [],
   "source": []
  },
  {
   "cell_type": "code",
   "execution_count": 45,
   "metadata": {},
   "outputs": [
    {
     "data": {
      "text/plain": [
       "array([5.58932000e+05, 2.00400000e+05, 4.70081110e+07, 7.53912640e+07,\n",
       "       2.75250250e+07, 4.48000000e+01, 1.72267511e+08, 1.60481015e+08,\n",
       "       9.47394800e+05, 2.62000000e+01, 2.39000000e+01, 2.68000000e+01,\n",
       "       1.07704100e+06, 4.16000000e+00, 4.18000000e-01, 1.34430000e+04,\n",
       "       1.19455000e+05, 8.39000000e+01, 2.02000000e+01, 2.22000000e+01,\n",
       "       2.94000000e+01, 1.01000000e+01, 3.43000000e+01, 2.48740000e+05,\n",
       "       4.40000000e+00, 1.55000000e+01, 3.26104000e+05, 1.90000000e+00,\n",
       "       4.23000000e+01, 1.92760000e+04, 8.49400000e+03, 3.12404981e+11,\n",
       "       1.12009973e+11, 2.62743375e+13, 4.21385900e+13, 1.53846173e+13,\n",
       "       2.50401536e+07, 9.62858245e+13, 8.96979747e+13, 5.29529270e+11,\n",
       "       1.46440184e+07, 1.33584748e+07, 1.49793776e+07, 6.01992680e+11,\n",
       "       2.32515712e+06, 2.33633576e+05, 7.51372288e+09, 6.67672221e+10,\n",
       "       4.68943948e+07, 1.12904264e+07, 1.24082904e+07, 1.64326008e+07,\n",
       "       5.64521320e+06, 1.91713676e+07, 1.39028746e+11, 2.45930080e+06,\n",
       "       8.66344600e+06, 1.82269961e+11, 1.06197080e+06, 2.36428236e+07,\n",
       "       1.07739732e+10, 4.74756841e+09, 4.01601600e+10, 9.42042544e+12,\n",
       "       1.51084093e+13, 5.51601501e+12, 8.97792000e+06, 3.45224092e+13,\n",
       "       3.21603954e+13, 1.89857918e+11, 5.25048000e+06, 4.78956000e+06,\n",
       "       5.37072000e+06, 2.15839016e+11, 8.33664000e+05, 8.37672000e+04,\n",
       "       2.69397720e+09, 2.39387820e+10, 1.68135600e+07, 4.04808000e+06,\n",
       "       4.44888000e+06, 5.89176000e+06, 2.02404000e+06, 6.87372000e+06,\n",
       "       4.98474960e+10, 8.81760000e+05, 3.10620000e+06, 6.53512416e+10,\n",
       "       3.80760000e+05, 8.47692000e+06, 3.86291040e+09, 1.70219760e+09,\n",
       "       2.20976250e+15, 3.54400091e+15, 1.29389943e+15, 2.10596337e+09,\n",
       "       8.09797028e+15, 7.54390937e+15, 4.45352399e+13, 1.23161251e+09,\n",
       "       1.12349385e+09, 1.25981737e+09, 5.06296629e+13, 1.95553742e+08,\n",
       "       1.96493904e+07, 6.31930036e+11, 5.61535390e+12, 3.94398051e+09,\n",
       "       9.49563842e+08, 1.04358006e+09, 1.38203846e+09, 4.74781921e+08,\n",
       "       1.61237821e+09, 1.16927975e+13, 2.06835688e+08, 7.28625720e+08,\n",
       "       1.53295330e+13, 8.93154109e+07, 1.98844310e+09, 9.06128348e+11,\n",
       "       3.99286895e+11, 5.68384269e+15, 2.07514643e+15, 3.37752863e+09,\n",
       "       1.29874654e+16, 1.20988666e+16, 7.14252915e+13, 1.97525112e+09,\n",
       "       1.80185121e+09, 2.02048588e+09, 8.11994824e+13, 3.13627658e+08,\n",
       "       3.15135484e+07, 1.01348476e+12, 9.00586344e+12, 6.32532705e+09,\n",
       "       1.52290353e+09, 1.67368606e+09, 2.21650316e+09, 7.61451766e+08,\n",
       "       2.58592036e+09, 1.87528230e+13, 3.31721562e+08, 1.16856459e+09,\n",
       "       2.45853928e+13, 1.43243402e+08, 3.18905047e+09, 1.45324200e+12,\n",
       "       6.40373396e+11, 7.57627001e+14, 1.23312112e+09, 4.74166755e+15,\n",
       "       4.41724395e+15, 2.60770656e+13, 7.21155655e+08, 6.57848098e+08,\n",
       "       7.37670670e+08, 2.96455805e+13, 1.14504104e+08, 1.15054604e+07,\n",
       "       3.70018911e+11, 3.28800186e+12, 2.30934960e+09, 5.56005505e+08,\n",
       "       6.11055555e+08, 8.09235735e+08, 2.78002752e+08, 9.44108357e+08,\n",
       "       6.84657472e+12, 1.21110110e+08, 4.26637888e+08, 8.97602075e+12,\n",
       "       5.22975475e+07, 1.16430856e+09, 5.30572382e+11, 2.33797562e+11,\n",
       "       2.00704000e+03, 7.71758449e+09, 7.18954947e+09, 4.24432870e+07,\n",
       "       1.17376000e+03, 1.07072000e+03, 1.20064000e+03, 4.82514368e+07,\n",
       "       1.86368000e+02, 1.87264000e+01, 6.02246400e+05, 5.35158400e+06,\n",
       "       3.75872000e+03, 9.04960000e+02, 9.94560000e+02, 1.31712000e+03,\n",
       "       4.52480000e+02, 1.53664000e+03, 1.11435520e+07, 1.97120000e+02,\n",
       "       6.94400000e+02, 1.46094592e+07, 8.51200000e+01, 1.89504000e+03,\n",
       "       8.63564800e+05, 3.80531200e+05, 2.96760953e+16, 2.76456650e+16,\n",
       "       1.63205344e+14, 4.51340879e+09, 4.11719351e+09, 4.61676929e+09,\n",
       "       1.85539172e+14, 7.16632846e+08, 7.20078196e+07, 2.31579215e+12,\n",
       "       2.05782155e+13, 1.44532442e+10, 3.47980372e+09, 3.82433874e+09,\n",
       "       5.06466482e+09, 1.73990186e+09, 5.90877563e+09, 4.28498207e+13,\n",
       "       7.57977048e+08, 2.67014642e+09, 5.61771244e+13, 3.27308271e+08,\n",
       "       7.28691572e+09, 3.32062854e+12, 1.46324024e+12, 2.57541562e+16,\n",
       "       1.52038879e+14, 4.20460259e+09, 3.83549626e+09, 4.30089120e+09,\n",
       "       1.72844633e+14, 6.67601022e+08, 6.70810643e+07, 2.15734628e+12,\n",
       "       1.91702596e+13, 1.34643572e+10, 3.24171650e+09, 3.56267853e+09,\n",
       "       4.71814184e+09, 1.62085825e+09, 5.50449881e+09, 3.99180477e+13,\n",
       "       7.06116466e+08, 2.48745573e+09, 5.23335009e+13, 3.04913928e+08,\n",
       "       6.78834693e+09, 3.09343205e+12, 1.36312574e+12, 8.97556907e+11,\n",
       "       2.48217438e+07, 2.26427357e+07, 2.53901806e+07, 1.02038304e+12,\n",
       "       3.94116237e+06, 3.96011026e+05, 1.27358283e+10, 1.13171046e+11,\n",
       "       7.94864237e+07, 1.91373750e+07, 2.10321646e+07, 2.78534071e+07,\n",
       "       9.56868748e+06, 3.24956416e+07, 2.35654983e+11, 4.16853712e+06,\n",
       "       1.46846194e+07, 3.08949234e+11, 1.80005012e+06, 4.00748000e+07,\n",
       "       1.82619822e+10, 8.04717143e+09, 6.86440000e+02, 6.26180000e+02,\n",
       "       7.02160000e+02, 2.82184742e+07, 1.08992000e+02, 1.09516000e+01,\n",
       "       3.52206600e+05, 3.12972100e+06, 2.19818000e+03, 5.29240000e+02,\n",
       "       5.81640000e+02, 7.70280000e+02, 2.64620000e+02, 8.98660000e+02,\n",
       "       6.51698800e+06, 1.15280000e+02, 4.06100000e+02, 8.54392480e+06,\n",
       "       4.97800000e+01, 1.10826000e+03, 5.05031200e+05, 2.22542800e+05,\n",
       "       5.71210000e+02, 6.40520000e+02, 2.57412799e+07, 9.94240000e+01,\n",
       "       9.99020000e+00, 3.21287700e+05, 2.85497450e+06, 2.00521000e+03,\n",
       "       4.82780000e+02, 5.30580000e+02, 7.02660000e+02, 2.41390000e+02,\n",
       "       8.19770000e+02, 5.94488600e+06, 1.05160000e+02, 3.70450000e+02,\n",
       "       7.79388560e+06, 4.54100000e+01, 1.01097000e+03, 4.60696400e+05,\n",
       "       2.03006600e+05, 7.18240000e+02, 2.88646988e+07, 1.11488000e+02,\n",
       "       1.12024000e+01, 3.60272400e+05, 3.20139400e+06, 2.24852000e+03,\n",
       "       5.41360000e+02, 5.94960000e+02, 7.87920000e+02, 2.70680000e+02,\n",
       "       9.19240000e+02, 6.66623200e+06, 1.17920000e+02, 4.15400000e+02,\n",
       "       8.73958720e+06, 5.09200000e+01, 1.13364000e+03, 5.16596800e+05,\n",
       "       2.27639200e+05, 1.16001732e+12, 4.48049056e+06, 4.50203138e+05,\n",
       "       1.44786622e+10, 1.28657933e+11, 9.03637399e+07, 2.17562282e+07,\n",
       "       2.39103102e+07, 3.16650054e+07, 1.08781141e+07, 3.69425063e+07,\n",
       "       2.67903178e+11, 4.73898040e+06, 1.66941355e+07, 3.51227378e+11,\n",
       "       2.04637790e+06, 4.55588343e+07, 2.07610423e+10, 9.14838625e+09,\n",
       "       1.73056000e+01, 1.73888000e+00, 5.59228800e+04, 4.96932800e+05,\n",
       "       3.49024000e+02, 8.40320000e+01, 9.23520000e+01, 1.22304000e+02,\n",
       "       4.20160000e+01, 1.42688000e+02, 1.03475840e+06, 1.83040000e+01,\n",
       "       6.44800000e+01, 1.35659264e+06, 7.90400000e+00, 1.75968000e+02,\n",
       "       8.01881600e+04, 3.53350400e+04, 1.74724000e-01, 5.61917400e+03,\n",
       "       4.99321900e+04, 3.50702000e+01, 8.44360000e+00, 9.27960000e+00,\n",
       "       1.22892000e+01, 4.22180000e+00, 1.43374000e+01, 1.03973320e+05,\n",
       "       1.83920000e+00, 6.47900000e+00, 1.36311472e+05, 7.94200000e-01,\n",
       "       1.76814000e+01, 8.05736800e+03, 3.55049200e+03, 1.80714249e+08,\n",
       "       1.60583356e+09, 1.12786770e+06, 2.71548600e+05, 2.98434600e+05,\n",
       "       3.95224200e+05, 1.35774300e+05, 4.61094900e+05, 3.34381182e+09,\n",
       "       5.91492000e+04, 2.08366500e+05, 4.38381607e+09, 2.55417000e+04,\n",
       "       5.68638900e+05, 2.59127268e+08, 1.14184842e+08, 1.42694970e+10,\n",
       "       1.00222745e+07, 2.41299100e+06, 2.65190100e+06, 3.51197700e+06,\n",
       "       1.20649550e+06, 4.09730650e+06, 2.97132367e+10, 5.25602000e+05,\n",
       "       1.85155250e+06, 3.89547533e+10, 2.26964500e+05, 5.05294650e+06,\n",
       "       2.30261458e+09, 1.01465077e+09, 7.03921000e+03, 1.69478000e+03,\n",
       "       1.86258000e+03, 2.46666000e+03, 8.47390000e+02, 2.87777000e+03,\n",
       "       2.08692860e+07, 3.69160000e+02, 1.30045000e+03, 2.73601256e+07,\n",
       "       1.59410000e+02, 3.54897000e+03, 1.61725640e+06, 7.12646600e+05,\n",
       "       4.08040000e+02, 4.48440000e+02, 5.93880000e+02, 2.04020000e+02,\n",
       "       6.92860000e+02, 5.02454800e+06, 8.88800000e+01, 3.13100000e+02,\n",
       "       6.58730080e+06, 3.83800000e+01, 8.54460000e+02, 3.89375200e+05,\n",
       "       1.71578800e+05, 4.92840000e+02, 6.52680000e+02, 2.24220000e+02,\n",
       "       7.61460000e+02, 5.52202800e+06, 9.76800000e+01, 3.44100000e+02,\n",
       "       7.23950880e+06, 4.21800000e+01, 9.39060000e+02, 4.27927200e+05,\n",
       "       1.88566800e+05, 8.64360000e+02, 2.96940000e+02, 1.00842000e+03,\n",
       "       7.31295600e+06, 1.29360000e+02, 4.55700000e+02, 9.58745760e+06,\n",
       "       5.58600000e+01, 1.24362000e+03, 5.66714400e+05, 2.49723600e+05,\n",
       "       1.02010000e+02, 3.46430000e+02, 2.51227400e+06, 4.44400000e+01,\n",
       "       1.56550000e+02, 3.29365040e+06, 1.91900000e+01, 4.27230000e+02,\n",
       "       1.94687600e+05, 8.57894000e+04, 1.17649000e+03, 8.53178200e+06,\n",
       "       1.50920000e+02, 5.31650000e+02, 1.11853672e+07, 6.51700000e+01,\n",
       "       1.45089000e+03, 6.61166800e+05, 2.91344200e+05, 6.18715876e+10,\n",
       "       1.09445600e+06, 3.85547000e+06, 8.11151090e+10, 4.72606000e+05,\n",
       "       1.05217020e+07, 4.79471224e+09, 2.11279756e+09, 1.93600000e+01,\n",
       "       6.82000000e+01, 1.43485760e+06, 8.36000000e+00, 1.86120000e+02,\n",
       "       8.48144000e+04, 3.73736000e+04, 2.40250000e+02, 5.05461200e+06,\n",
       "       2.94500000e+01, 6.55650000e+02, 2.98778000e+05, 1.31657000e+05,\n",
       "       1.06343819e+11, 6.19597600e+05, 1.37941992e+07, 6.28598070e+09,\n",
       "       2.76992738e+09, 3.61000000e+00, 8.03700000e+01, 3.66244000e+04,\n",
       "       1.61386000e+04, 1.78929000e+03, 8.15374800e+05, 3.59296200e+05,\n",
       "       3.71564176e+08, 1.63730344e+08, 7.21480360e+07])"
      ]
     },
     "execution_count": 45,
     "metadata": {},
     "output_type": "execute_result"
    }
   ],
   "source": [
    "from sklearn.preprocessing import PolynomialFeatures\n",
    "\n",
    "poly_features = PolynomialFeatures(degree=2, include_bias=False) #입력값 X를 다항식으로 변환합니다. \n",
    "X_poly = poly_features.fit_transform(X)\n",
    "X_poly[0]"
   ]
  },
  {
   "cell_type": "code",
   "execution_count": 57,
   "metadata": {},
   "outputs": [
    {
     "name": "stderr",
     "output_type": "stream",
     "text": [
      "C:\\Users\\ICT01_17\\Anaconda3\\lib\\site-packages\\sklearn\\svm\\base.py:193: FutureWarning: The default value of gamma will change from 'auto' to 'scale' in version 0.22 to account better for unscaled features. Set gamma explicitly to 'auto' or 'scale' to avoid this warning.\n",
      "  \"avoid this warning.\", FutureWarning)\n",
      "C:\\Users\\ICT01_17\\Anaconda3\\lib\\site-packages\\sklearn\\svm\\base.py:193: FutureWarning: The default value of gamma will change from 'auto' to 'scale' in version 0.22 to account better for unscaled features. Set gamma explicitly to 'auto' or 'scale' to avoid this warning.\n",
      "  \"avoid this warning.\", FutureWarning)\n",
      "C:\\Users\\ICT01_17\\Anaconda3\\lib\\site-packages\\sklearn\\svm\\base.py:193: FutureWarning: The default value of gamma will change from 'auto' to 'scale' in version 0.22 to account better for unscaled features. Set gamma explicitly to 'auto' or 'scale' to avoid this warning.\n",
      "  \"avoid this warning.\", FutureWarning)\n"
     ]
    },
    {
     "data": {
      "image/png": "[encoded data removed]",
      "text/plain": [
       "<Figure size 432x288 with 1 Axes>"
      ]
     },
     "metadata": {
      "needs_background": "light"
     },
     "output_type": "display_data"
    }
   ],
   "source": [
    "from sklearn.metrics import mean_squared_error\n",
    "from sklearn.model_selection import train_test_split\n",
    "\n",
    "def plot_learning_curves(model, X, Y):\n",
    "    X_train, X_val, Y_train, Y_val = train_test_split(X, Y, test_size=0.2)\n",
    "    train_errors, val_errors = [], []\n",
    "    for m in range(1, len(X_train)):\n",
    "        model.fit(X_train[:m], Y_train[:m])\n",
    "        Y_train_predict = model.predict(X_train[:m])\n",
    "        Y_val_predict = model.predict(X_val)\n",
    "        train_errors.append(mean_squared_error(Y_train[:m], Y_train_predict))\n",
    "        val_errors.append(mean_squared_error(Y_val, Y_val_predict))#이 함수는 말그대로 평균 제곱 오차 회귀 손실이다.\n",
    "    plt.plot(np.sqrt(train_errors), \"r+-\", linewidth=2, label=\"train\")\n",
    "    plt.plot(np.sqrt(val_errors), \"b-\", linewidth=3, label=\"test\")\n",
    "    plt.legend(loc='upper right')\n",
    "    plt.xlabel('practice set size ')\n",
    "    plt.ylabel('RMSE')\n",
    "    plt.show()\n",
    "\n",
    "svr_reg = svm.SVR()\n",
    "plot_learning_curves(svr_reg, new_data, svr_pred)"
   ]
  }
 ],
 "metadata": {
  "kernelspec": {
   "display_name": "Python 3",
   "language": "python",
   "name": "python3"
  },
  "language_info": {
   "codemirror_mode": {
    "name": "ipython",
    "version": 3
   },
   "file_extension": ".py",
   "mimetype": "text/x-python",
   "name": "python",
   "nbconvert_exporter": "python",
   "pygments_lexer": "ipython3",
   "version": "3.7.4"
  },
  "toc": {
   "base_numbering": 1,
   "nav_menu": {},
   "number_sections": true,
   "sideBar": true,
   "skip_h1_title": false,
   "title_cell": "Table of Contents",
   "title_sidebar": "Contents",
   "toc_cell": false,
   "toc_position": {},
   "toc_section_display": true,
   "toc_window_display": false
  }
 },
 "nbformat": 4,
 "nbformat_minor": 2
}
