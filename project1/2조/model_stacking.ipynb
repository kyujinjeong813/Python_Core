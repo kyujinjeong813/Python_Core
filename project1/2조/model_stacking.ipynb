{
 "cells": [
  {
   "cell_type": "code",
   "execution_count": 72,
   "metadata": {
    "scrolled": false
   },
   "outputs": [
    {
     "name": "stdout",
     "output_type": "stream",
     "text": [
      "[7.78888087e-01 9.54425090e-02 4.98503284e-02 2.04777732e-02\n",
      " 1.49285483e-02 9.85727890e-03 8.98040319e-03 6.95825205e-03\n",
      " 5.10089810e-03 2.68913637e-03 2.28994350e-03 1.87191942e-03\n",
      " 1.17618265e-03 7.27488675e-04 3.90277226e-04 2.61085787e-04]\n"
     ]
    },
    {
     "data": {
      "image/png": "[encoded data removed]",
      "text/plain": [
       "<Figure size 432x288 with 1 Axes>"
      ]
     },
     "metadata": {
      "needs_background": "light"
     },
     "output_type": "display_data"
    },
    {
     "data": {
      "image/png": "[encoded data removed]",
      "text/plain": [
       "<Figure size 432x288 with 1 Axes>"
      ]
     },
     "metadata": {
      "needs_background": "light"
     },
     "output_type": "display_data"
    },
    {
     "name": "stdout",
     "output_type": "stream",
     "text": [
      "task:         [regression]\n",
      "metric:       [mean_squared_error]\n",
      "mode:         [oof_pred_bag]\n",
      "n_models:     [3]\n",
      "\n",
      "model  0:     [SVR]\n",
      "    fold  0:  [0.01558034]\n",
      "    fold  1:  [0.01812071]\n",
      "    fold  2:  [0.11041626]\n",
      "    fold  3:  [0.08263992]\n",
      "    ----\n",
      "    MEAN:     [0.05668931] + [0.04104115]\n",
      "    FULL:     [0.05433016]\n",
      "\n",
      "model  1:     [RandomForestRegressor]\n"
     ]
    },
    {
     "name": "stderr",
     "output_type": "stream",
     "text": [
      "C:\\Users\\ICT01_18\\Anaconda3\\lib\\site-packages\\vecstack\\core.py:461: UserWarning: This is regression task hence classification-specific parameters set to <True> were ignored: <stratified>\n",
      "  warnings.warn(warn_str, UserWarning)\n"
     ]
    },
    {
     "name": "stdout",
     "output_type": "stream",
     "text": [
      "    fold  0:  [0.01298431]\n",
      "    fold  1:  [0.01857474]\n",
      "    fold  2:  [0.13505971]\n",
      "    fold  3:  [0.05733169]\n",
      "    ----\n",
      "    MEAN:     [0.05598761] + [0.04874220]\n",
      "    FULL:     [0.05586542]\n",
      "\n",
      "model  2:     [XGBRegressor]\n",
      "    fold  0:  [0.01772556]\n",
      "    fold  1:  [0.02254307]\n",
      "    fold  2:  [0.07897356]\n",
      "    fold  3:  [0.12703457]\n",
      "    ----\n",
      "    MEAN:     [0.06156919] + [0.04481610]\n",
      "    FULL:     [0.05561779]\n",
      "\n",
      "X_train MSE :  0.04191245777650536\n",
      "X_test MSE :  0.0382798313825054\n"
     ]
    },
    {
     "data": {
      "text/html": [
       "<div>\n",
       "<style scoped>\n",
       "    .dataframe tbody tr th:only-of-type {\n",
       "        vertical-align: middle;\n",
       "    }\n",
       "\n",
       "    .dataframe tbody tr th {\n",
       "        vertical-align: top;\n",
       "    }\n",
       "\n",
       "    .dataframe thead th {\n",
       "        text-align: right;\n",
       "    }\n",
       "</style>\n",
       "<table border=\"1\" class=\"dataframe\">\n",
       "  <thead>\n",
       "    <tr style=\"text-align: right;\">\n",
       "      <th></th>\n",
       "      <th>y_test</th>\n",
       "      <th>y_preds</th>\n",
       "    </tr>\n",
       "  </thead>\n",
       "  <tbody>\n",
       "    <tr>\n",
       "      <td>y_test</td>\n",
       "      <td>1.000000</td>\n",
       "      <td>0.868405</td>\n",
       "    </tr>\n",
       "    <tr>\n",
       "      <td>y_preds</td>\n",
       "      <td>0.868405</td>\n",
       "      <td>1.000000</td>\n",
       "    </tr>\n",
       "  </tbody>\n",
       "</table>\n",
       "</div>"
      ],
      "text/plain": [
       "           y_test   y_preds\n",
       "y_test   1.000000  0.868405\n",
       "y_preds  0.868405  1.000000"
      ]
     },
     "execution_count": 72,
     "metadata": {},
     "output_type": "execute_result"
    }
   ],
   "source": [
    "%matplotlib inline\n",
    "import pandas as pd\n",
    "import numpy as np\n",
    "from sklearn.datasets import load_iris \n",
    "from sklearn.model_selection import train_test_split \n",
    "from sklearn.metrics import accuracy_score \n",
    "from sklearn.ensemble import ExtraTreesClassifier \n",
    "from sklearn.ensemble import RandomForestRegressor\n",
    "from xgboost import XGBRegressor\n",
    "from vecstack import stacking \n",
    "from sklearn.svm import SVR\n",
    "from sklearn.preprocessing import minmax_scale\n",
    "from sklearn.metrics import mean_squared_error\n",
    "from sklearn.decomposition import PCA\n",
    "import matplotlib.pyplot as plt\n",
    "\n",
    "# Load demo data \n",
    "data = pd.read_csv('team2.csv', index_col=0)\n",
    "X, y = data.iloc[:,1:],  data.iloc[:,0]\n",
    "\n",
    "minmax_X = minmax_scale(X)\n",
    "minmax_Y = minmax_scale(y)\n",
    "\n",
    "pca = PCA(n_components=16)\n",
    "model = pca.fit_transform(minmax_X)\n",
    "print(pca.explained_variance_ratio_) # 설명력\n",
    "plt.plot(np.cumsum(pca.explained_variance_ratio_)) # elbow를 시각적으로 확인\n",
    "plt.show()\n",
    "plt.plot(pca.explained_variance_ratio_, 'bo-')\n",
    "plt.show()\n",
    "pca.explained_variance_ratio_\n",
    "\n",
    "princ = pd.DataFrame(data=model[:,:3], columns=range(0,3))\n",
    "princ\n",
    "\n",
    "X_train, X_test, y_train, y_test = train_test_split(princ,minmax_Y,test_size = 0.4, random_state=0)\n",
    "\n",
    "# Make train/test split \n",
    "# As usual in machine learning task we have X_train, y_train, and X_test \n",
    "# X_train, X_test, y_train, y_test = train_test_split(minmax_X, minmax_Y, test_size = 0.4, random_state = 0) \n",
    "\n",
    "# Caution! All models and parameter values are just \n",
    "# demonstrational and shouldn't be considered as recommended. \n",
    "# Initialize 1-st level models. \n",
    "models = [ SVR(gamma='scale'), \n",
    "          RandomForestRegressor(random_state = 0, n_jobs = -1, n_estimators = 100, max_depth = 3), \n",
    "          XGBRegressor(seed = 0, n_jobs = -1, learning_rate = 0.1, n_estimators = 100, max_depth = 3,silent=True)] \n",
    "\n",
    "# Compute stacking features \n",
    "S_train, S_test = stacking(models, X_train, y_train, X_test, regression = True, \n",
    "                           metric = mean_squared_error, n_folds = 4, stratified = True, shuffle = True, random_state = 0, verbose = 2) \n",
    "\n",
    "# Initialize 2-nd level model \n",
    "model = SVR(gamma ='auto')\n",
    "\n",
    "# Fit 2-nd level model \n",
    "model = model.fit(S_train, y_train) \n",
    " \n",
    "\n",
    "X_pred=model.predict(S_train)\n",
    "print('X_train MSE : ', mean_squared_error(y_train, X_pred))\n",
    "y_pred = model.predict(S_test)\n",
    "print(\"X_test MSE : \",mean_squared_error(y_test, y_pred))\n",
    "\n",
    "\n",
    "df1 = pd.DataFrame({'y_test':y_test, 'y_preds':y_pred})\n",
    "df1.corr()"
   ]
  },
  {
   "cell_type": "code",
   "execution_count": 73,
   "metadata": {},
   "outputs": [
    {
     "data": {
      "text/plain": [
       "{'C': 1.0,\n",
       " 'cache_size': 200,\n",
       " 'coef0': 0.0,\n",
       " 'degree': 3,\n",
       " 'epsilon': 0.1,\n",
       " 'gamma': 'auto',\n",
       " 'kernel': 'rbf',\n",
       " 'max_iter': -1,\n",
       " 'shrinking': True,\n",
       " 'tol': 0.001,\n",
       " 'verbose': False}"
      ]
     },
     "execution_count": 73,
     "metadata": {},
     "output_type": "execute_result"
    }
   ],
   "source": [
    "model.get_params()"
   ]
  },
  {
   "cell_type": "code",
   "execution_count": 74,
   "metadata": {},
   "outputs": [
    {
     "name": "stdout",
     "output_type": "stream",
     "text": [
      "SVR(C=1, cache_size=200, coef0=0.0, degree=3, epsilon=0.1, gamma=0.001,\n",
      "    kernel='rbf', max_iter=-1, shrinking=True, tol=0.001, verbose=False)\n",
      "{'C': 1, 'gamma': 0.001}\n"
     ]
    },
    {
     "name": "stderr",
     "output_type": "stream",
     "text": [
      "C:\\Users\\ICT01_18\\Anaconda3\\lib\\site-packages\\sklearn\\model_selection\\_search.py:814: DeprecationWarning: The default of the `iid` parameter will change from True to False in version 0.22 and will be removed in 0.24. This will change numeric results when test-set sizes are unequal.\n",
      "  DeprecationWarning)\n"
     ]
    }
   ],
   "source": [
    "from sklearn.model_selection import GridSearchCV\n",
    "param_grid={'C':[0.001,0.01,0.1,1,10,100], \n",
    "           'gamma':[0.001,0.01,0.1,1,10,100]}\n",
    "\n",
    "clf = GridSearchCV(model, param_grid, cv = 5)\n",
    "clf.fit(X_train, y_train)\n",
    "print(clf.best_estimator_)\n",
    "print(clf.best_params_)"
   ]
  },
  {
   "cell_type": "code",
   "execution_count": 75,
   "metadata": {},
   "outputs": [
    {
     "name": "stdout",
     "output_type": "stream",
     "text": [
      "X_train MSE :  0.044875154280001966\n",
      "X_test MSE :  0.041774635823563555\n"
     ]
    },
    {
     "data": {
      "text/html": [
       "<div>\n",
       "<style scoped>\n",
       "    .dataframe tbody tr th:only-of-type {\n",
       "        vertical-align: middle;\n",
       "    }\n",
       "\n",
       "    .dataframe tbody tr th {\n",
       "        vertical-align: top;\n",
       "    }\n",
       "\n",
       "    .dataframe thead th {\n",
       "        text-align: right;\n",
       "    }\n",
       "</style>\n",
       "<table border=\"1\" class=\"dataframe\">\n",
       "  <thead>\n",
       "    <tr style=\"text-align: right;\">\n",
       "      <th></th>\n",
       "      <th>y_test</th>\n",
       "      <th>y_preds</th>\n",
       "    </tr>\n",
       "  </thead>\n",
       "  <tbody>\n",
       "    <tr>\n",
       "      <td>y_test</td>\n",
       "      <td>1.000000</td>\n",
       "      <td>-0.926344</td>\n",
       "    </tr>\n",
       "    <tr>\n",
       "      <td>y_preds</td>\n",
       "      <td>-0.926344</td>\n",
       "      <td>1.000000</td>\n",
       "    </tr>\n",
       "  </tbody>\n",
       "</table>\n",
       "</div>"
      ],
      "text/plain": [
       "           y_test   y_preds\n",
       "y_test   1.000000 -0.926344\n",
       "y_preds -0.926344  1.000000"
      ]
     },
     "execution_count": 75,
     "metadata": {},
     "output_type": "execute_result"
    }
   ],
   "source": [
    "X_pred2 = clf.predict(S_train)\n",
    "print('X_train MSE : ', mean_squared_error(y_train, X_pred2))\n",
    "y_pred2 = clf.predict(S_test)\n",
    "print(\"X_test MSE : \",mean_squared_error(y_test, y_pred2))\n",
    "\n",
    "df2 = pd.DataFrame({'y_test':y_test, 'y_preds':y_pred2})\n",
    "df2.corr()"
   ]
  },
  {
   "cell_type": "code",
   "execution_count": null,
   "metadata": {},
   "outputs": [],
   "source": []
  }
 ],
 "metadata": {
  "kernelspec": {
   "display_name": "Python 3",
   "language": "python",
   "name": "python3"
  },
  "language_info": {
   "codemirror_mode": {
    "name": "ipython",
    "version": 3
   },
   "file_extension": ".py",
   "mimetype": "text/x-python",
   "name": "python",
   "nbconvert_exporter": "python",
   "pygments_lexer": "ipython3",
   "version": "3.7.4"
  }
 },
 "nbformat": 4,
 "nbformat_minor": 2
}
