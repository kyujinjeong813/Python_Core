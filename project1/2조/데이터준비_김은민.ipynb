{
 "cells": [
  {
   "cell_type": "code",
   "execution_count": 131,
   "metadata": {},
   "outputs": [],
   "source": [
    "]import pandas as pd"
   ]
  },
  {
   "cell_type": "code",
   "execution_count": null,
   "metadata": {},
   "outputs": [],
   "source": [
    "# 파일1 ( 다문화출생아수)"
   ]
  },
  {
   "cell_type": "code",
   "execution_count": 147,
   "metadata": {},
   "outputs": [],
   "source": [
    "multi_cul=pd.read_csv(\"전국_다문화_출생_KOSIS.csv\",encoding='utf-8',index_col = 0)\n",
    "multi_cul=multi_cul.T"
   ]
  },
  {
   "cell_type": "code",
   "execution_count": 148,
   "metadata": {},
   "outputs": [],
   "source": [
    "del multi_cul[\"시군구별\"]\n",
    "del multi_cul.columns.name"
   ]
  },
  {
   "cell_type": "code",
   "execution_count": 150,
   "metadata": {},
   "outputs": [],
   "source": [
    "multi_cul.rename(columns={'전국':'다문화출생아수'},inplace=True)"
   ]
  },
  {
   "cell_type": "code",
   "execution_count": 153,
   "metadata": {},
   "outputs": [],
   "source": [
    "multi_cul.to_csv('다문화출생인구.csv',index=True,header=True,encoding='utf-8')"
   ]
  },
  {
   "cell_type": "code",
   "execution_count": null,
   "metadata": {},
   "outputs": [],
   "source": []
  },
  {
   "cell_type": "code",
   "execution_count": 165,
   "metadata": {},
   "outputs": [],
   "source": [
    "# 파일2 ( 지니계수 ) "
   ]
  },
  {
   "cell_type": "code",
   "execution_count": 303,
   "metadata": {},
   "outputs": [],
   "source": [
    "GINI=pd.read_csv(\"지니계수_ITSTAT.csv\",encoding='utf-8',index_col=0)"
   ]
  },
  {
   "cell_type": "code",
   "execution_count": 304,
   "metadata": {},
   "outputs": [],
   "source": [
    "GINI=GINI[\"시장소득\":'처분가능소득']\n",
    "del GINI['Unnamed: 9']\n",
    "GINI=GINI.T\n",
    "del GINI['처분가능소득']"
   ]
  },
  {
   "cell_type": "code",
   "execution_count": 305,
   "metadata": {},
   "outputs": [],
   "source": [
    "GINI.index=range(2011,2019)\n",
    "GINI.sort_index(ascending=False, inplace=True)"
   ]
  },
  {
   "cell_type": "code",
   "execution_count": 306,
   "metadata": {},
   "outputs": [],
   "source": [
    "GINI.rename(columns={'시장소득':'지니계수'},inplace=True)"
   ]
  },
  {
   "cell_type": "code",
   "execution_count": 307,
   "metadata": {},
   "outputs": [],
   "source": [
    "GINI.to_csv(\"지니계수.csv\",index=True, header=True, encoding='utf-8')"
   ]
  },
  {
   "cell_type": "code",
   "execution_count": null,
   "metadata": {},
   "outputs": [],
   "source": []
  },
  {
   "cell_type": "code",
   "execution_count": null,
   "metadata": {},
   "outputs": [],
   "source": [
    "# 파일3 ( 문화여가지출률 ) "
   ]
  },
  {
   "cell_type": "code",
   "execution_count": 357,
   "metadata": {},
   "outputs": [],
   "source": [
    "lei=pd.read_csv(\"문화여가지출률_국가지표체계.csv\",encoding='utf-8',index_col=0)"
   ]
  },
  {
   "cell_type": "code",
   "execution_count": 358,
   "metadata": {},
   "outputs": [],
   "source": [
    "lei=lei.T\n",
    "lei.sort_index(ascending=False,inplace=True)"
   ]
  },
  {
   "cell_type": "code",
   "execution_count": 359,
   "metadata": {},
   "outputs": [],
   "source": [
    "value=lei['문화여가지출률(%)']  # 뽑아와서 딕셔너리로 만들어서 데이터프레임에 집어넣는다 ( 시리즈로 바껴서 번거로운절차)\n",
    "value={'문화여가지출률':value}\n",
    "leisure=pd.DataFrame(value)"
   ]
  },
  {
   "cell_type": "code",
   "execution_count": 360,
   "metadata": {},
   "outputs": [],
   "source": [
    "leisure.to_csv(\"문화여가지출률.csv\",index=True, header=True, encoding='utf-8')"
   ]
  },
  {
   "cell_type": "code",
   "execution_count": null,
   "metadata": {},
   "outputs": [],
   "source": []
  },
  {
   "cell_type": "code",
   "execution_count": null,
   "metadata": {},
   "outputs": [],
   "source": []
  },
  {
   "cell_type": "code",
   "execution_count": null,
   "metadata": {},
   "outputs": [],
   "source": [
    "# 파일4 ( e러닝 시장규모)"
   ]
  },
  {
   "cell_type": "code",
   "execution_count": 416,
   "metadata": {},
   "outputs": [],
   "source": [
    "e_learning=pd.read_csv(\"e러닝시장규모_ITSTAT.csv\", index_col=0,encoding='utf-8')"
   ]
  },
  {
   "cell_type": "code",
   "execution_count": 417,
   "metadata": {},
   "outputs": [],
   "source": [
    "del e_learning['Unnamed: 17']"
   ]
  },
  {
   "cell_type": "code",
   "execution_count": 418,
   "metadata": {},
   "outputs": [],
   "source": [
    "e_learning=e_learning.T"
   ]
  },
  {
   "cell_type": "code",
   "execution_count": 419,
   "metadata": {},
   "outputs": [],
   "source": [
    "data=e_learning['e-러닝 시장규모']\n",
    "data={'e러닝시장규모':data}\n",
    "e_learn=pd.DataFrame(data)\n",
    "e_learn.index=range(2003,2019)"
   ]
  },
  {
   "cell_type": "code",
   "execution_count": 420,
   "metadata": {},
   "outputs": [],
   "source": [
    "e_learn.sort_index(ascending=False,inplace=True)"
   ]
  },
  {
   "cell_type": "code",
   "execution_count": 422,
   "metadata": {},
   "outputs": [],
   "source": [
    "e_learn.to_csv(\"e러닝시장규모.csv\",index=True, header=True, encoding='utf-8')"
   ]
  },
  {
   "cell_type": "code",
   "execution_count": null,
   "metadata": {},
   "outputs": [],
   "source": []
  },
  {
   "cell_type": "code",
   "execution_count": null,
   "metadata": {},
   "outputs": [],
   "source": [
    "# 파일 5 (국제유가)"
   ]
  },
  {
   "cell_type": "code",
   "execution_count": 481,
   "metadata": {},
   "outputs": [],
   "source": [
    "global_oil = pd.read_csv(\"국제유가(WTI)_ITSTAT.csv\",encoding='utf-8',index_col=0)\n",
    "del global_oil['Unnamed: 24']"
   ]
  },
  {
   "cell_type": "code",
   "execution_count": 482,
   "metadata": {},
   "outputs": [],
   "source": [
    "global_oil.drop(['1996년','1997년','1998년','1999년'],axis=1,inplace=True)"
   ]
  },
  {
   "cell_type": "code",
   "execution_count": 483,
   "metadata": {},
   "outputs": [],
   "source": [
    "global_oil.columns=range(2000,2019)\n",
    "global_oil=global_oil.T"
   ]
  },
  {
   "cell_type": "code",
   "execution_count": 485,
   "metadata": {},
   "outputs": [
    {
     "data": {
      "text/html": [
       "<div>\n",
       "<style scoped>\n",
       "    .dataframe tbody tr th:only-of-type {\n",
       "        vertical-align: middle;\n",
       "    }\n",
       "\n",
       "    .dataframe tbody tr th {\n",
       "        vertical-align: top;\n",
       "    }\n",
       "\n",
       "    .dataframe thead th {\n",
       "        text-align: right;\n",
       "    }\n",
       "</style>\n",
       "<table border=\"1\" class=\"dataframe\">\n",
       "  <thead>\n",
       "    <tr style=\"text-align: right;\">\n",
       "      <th></th>\n",
       "      <th>원자료</th>\n",
       "    </tr>\n",
       "  </thead>\n",
       "  <tbody>\n",
       "    <tr>\n",
       "      <td>2018</td>\n",
       "      <td>64.90</td>\n",
       "    </tr>\n",
       "    <tr>\n",
       "      <td>2017</td>\n",
       "      <td>50.85</td>\n",
       "    </tr>\n",
       "    <tr>\n",
       "      <td>2016</td>\n",
       "      <td>43.47</td>\n",
       "    </tr>\n",
       "    <tr>\n",
       "      <td>2015</td>\n",
       "      <td>37.04</td>\n",
       "    </tr>\n",
       "    <tr>\n",
       "      <td>2014</td>\n",
       "      <td>53.22</td>\n",
       "    </tr>\n",
       "    <tr>\n",
       "      <td>2013</td>\n",
       "      <td>98.55</td>\n",
       "    </tr>\n",
       "    <tr>\n",
       "      <td>2012</td>\n",
       "      <td>92.38</td>\n",
       "    </tr>\n",
       "    <tr>\n",
       "      <td>2011</td>\n",
       "      <td>98.83</td>\n",
       "    </tr>\n",
       "    <tr>\n",
       "      <td>2010</td>\n",
       "      <td>91.38</td>\n",
       "    </tr>\n",
       "    <tr>\n",
       "      <td>2009</td>\n",
       "      <td>79.36</td>\n",
       "    </tr>\n",
       "    <tr>\n",
       "      <td>2008</td>\n",
       "      <td>44.60</td>\n",
       "    </tr>\n",
       "    <tr>\n",
       "      <td>2007</td>\n",
       "      <td>96.00</td>\n",
       "    </tr>\n",
       "    <tr>\n",
       "      <td>2006</td>\n",
       "      <td>61.05</td>\n",
       "    </tr>\n",
       "    <tr>\n",
       "      <td>2005</td>\n",
       "      <td>61.13</td>\n",
       "    </tr>\n",
       "    <tr>\n",
       "      <td>2004</td>\n",
       "      <td>43.45</td>\n",
       "    </tr>\n",
       "    <tr>\n",
       "      <td>2003</td>\n",
       "      <td>32.52</td>\n",
       "    </tr>\n",
       "    <tr>\n",
       "      <td>2002</td>\n",
       "      <td>31.20</td>\n",
       "    </tr>\n",
       "    <tr>\n",
       "      <td>2001</td>\n",
       "      <td>19.84</td>\n",
       "    </tr>\n",
       "    <tr>\n",
       "      <td>2000</td>\n",
       "      <td>26.80</td>\n",
       "    </tr>\n",
       "  </tbody>\n",
       "</table>\n",
       "</div>"
      ],
      "text/plain": [
       "        원자료\n",
       "2018  64.90\n",
       "2017  50.85\n",
       "2016  43.47\n",
       "2015  37.04\n",
       "2014  53.22\n",
       "2013  98.55\n",
       "2012  92.38\n",
       "2011  98.83\n",
       "2010  91.38\n",
       "2009  79.36\n",
       "2008  44.60\n",
       "2007  96.00\n",
       "2006  61.05\n",
       "2005  61.13\n",
       "2004  43.45\n",
       "2003  32.52\n",
       "2002  31.20\n",
       "2001  19.84\n",
       "2000  26.80"
      ]
     },
     "execution_count": 485,
     "metadata": {},
     "output_type": "execute_result"
    }
   ],
   "source": [
    "oil_data=global_oil['원자료']\n",
    "oil_value={\"원자료\":oil_data}\n",
    "oil=pd.DataFrame(oil_value)\n",
    "oil.sort_index(ascending=False,inplace=True)"
   ]
  },
  {
   "cell_type": "code",
   "execution_count": 486,
   "metadata": {},
   "outputs": [],
   "source": [
    "oil.to_csv(\"국제유가.csv\",index=True, header=True, encoding='utf-8')"
   ]
  },
  {
   "cell_type": "code",
   "execution_count": null,
   "metadata": {},
   "outputs": [],
   "source": []
  },
  {
   "cell_type": "code",
   "execution_count": null,
   "metadata": {},
   "outputs": [],
   "source": [
    "#  파일 6 (고등교육이수율)"
   ]
  },
  {
   "cell_type": "code",
   "execution_count": 525,
   "metadata": {},
   "outputs": [],
   "source": [
    "high=pd.read_csv(\"고등교육이수율_국가지표체계.csv\",encoding='utf-8')\n",
    "del high['Unnamed: 0']"
   ]
  },
  {
   "cell_type": "code",
   "execution_count": 526,
   "metadata": {},
   "outputs": [],
   "source": [
    "high_edu=high.T"
   ]
  },
  {
   "cell_type": "code",
   "execution_count": 527,
   "metadata": {},
   "outputs": [],
   "source": [
    "high_edu.columns=['고등교육이수율']"
   ]
  },
  {
   "cell_type": "code",
   "execution_count": 528,
   "metadata": {},
   "outputs": [],
   "source": [
    "high_edu.sort_index(ascending=False,inplace=True)"
   ]
  },
  {
   "cell_type": "code",
   "execution_count": 529,
   "metadata": {},
   "outputs": [],
   "source": [
    "high_edu.to_csv(\"고등교육이수율.csv\",index=True, header=True, encoding='utf-8')"
   ]
  },
  {
   "cell_type": "code",
   "execution_count": null,
   "metadata": {},
   "outputs": [],
   "source": []
  },
  {
   "cell_type": "code",
   "execution_count": null,
   "metadata": {},
   "outputs": [],
   "source": []
  },
  {
   "cell_type": "code",
   "execution_count": null,
   "metadata": {},
   "outputs": [],
   "source": [
    "# 파일 7(1인당 주거면적 )"
   ]
  },
  {
   "cell_type": "code",
   "execution_count": 542,
   "metadata": {},
   "outputs": [],
   "source": [
    "area=pd.read_csv(\"1인당주거면적_국가지표체계.csv\",encoding='utf-8',index_col=0)"
   ]
  },
  {
   "cell_type": "code",
   "execution_count": 543,
   "metadata": {},
   "outputs": [],
   "source": [
    "del area['Unnamed: 1']"
   ]
  },
  {
   "cell_type": "code",
   "execution_count": 544,
   "metadata": {},
   "outputs": [],
   "source": [
    "area=area.T\n",
    "area.sort_index(ascending=False,inplace=True)"
   ]
  },
  {
   "cell_type": "code",
   "execution_count": 546,
   "metadata": {},
   "outputs": [
    {
     "data": {
      "text/html": [
       "<div>\n",
       "<style scoped>\n",
       "    .dataframe tbody tr th:only-of-type {\n",
       "        vertical-align: middle;\n",
       "    }\n",
       "\n",
       "    .dataframe tbody tr th {\n",
       "        vertical-align: top;\n",
       "    }\n",
       "\n",
       "    .dataframe thead th {\n",
       "        text-align: right;\n",
       "    }\n",
       "</style>\n",
       "<table border=\"1\" class=\"dataframe\">\n",
       "  <thead>\n",
       "    <tr style=\"text-align: right;\">\n",
       "      <th></th>\n",
       "      <th>1인당주거면적</th>\n",
       "    </tr>\n",
       "  </thead>\n",
       "  <tbody>\n",
       "    <tr>\n",
       "      <td>2018</td>\n",
       "      <td>31.7</td>\n",
       "    </tr>\n",
       "    <tr>\n",
       "      <td>2017</td>\n",
       "      <td>31.2</td>\n",
       "    </tr>\n",
       "    <tr>\n",
       "      <td>2016</td>\n",
       "      <td>33.2</td>\n",
       "    </tr>\n",
       "    <tr>\n",
       "      <td>2014</td>\n",
       "      <td>33.5</td>\n",
       "    </tr>\n",
       "    <tr>\n",
       "      <td>2012</td>\n",
       "      <td>31.7</td>\n",
       "    </tr>\n",
       "    <tr>\n",
       "      <td>2010</td>\n",
       "      <td>28.5</td>\n",
       "    </tr>\n",
       "    <tr>\n",
       "      <td>2008</td>\n",
       "      <td>27.8</td>\n",
       "    </tr>\n",
       "    <tr>\n",
       "      <td>2006</td>\n",
       "      <td>26.2</td>\n",
       "    </tr>\n",
       "  </tbody>\n",
       "</table>\n",
       "</div>"
      ],
      "text/plain": [
       "      1인당주거면적\n",
       "2018     31.7\n",
       "2017     31.2\n",
       "2016     33.2\n",
       "2014     33.5\n",
       "2012     31.7\n",
       "2010     28.5\n",
       "2008     27.8\n",
       "2006     26.2"
      ]
     },
     "execution_count": 546,
     "metadata": {},
     "output_type": "execute_result"
    }
   ],
   "source": [
    "area_data=area[\"전국\"]\n",
    "area_value={\"1인당주거면적\":area_data}\n",
    "live_area=pd.DataFrame(area_value)\n",
    "live_area"
   ]
  },
  {
   "cell_type": "code",
   "execution_count": 548,
   "metadata": {},
   "outputs": [],
   "source": [
    "live_area.to_csv(\"1인당주거면적.csv\",index=True, header=True, encoding='utf-8')"
   ]
  },
  {
   "cell_type": "code",
   "execution_count": null,
   "metadata": {},
   "outputs": [],
   "source": []
  },
  {
   "cell_type": "code",
   "execution_count": null,
   "metadata": {},
   "outputs": [],
   "source": [
    "# 파일 8(사회단체참여율 )"
   ]
  },
  {
   "cell_type": "code",
   "execution_count": 756,
   "metadata": {},
   "outputs": [],
   "source": [
    "association=pd.read_csv(\"사회단체참여율_국가지표체계.csv\",encoding='utf-8',index_col=0)\n",
    "del association['1999']\n",
    "del association['2019']\n",
    "association=association.T"
   ]
  },
  {
   "cell_type": "code",
   "execution_count": 757,
   "metadata": {},
   "outputs": [
    {
     "data": {
      "text/html": [
       "<div>\n",
       "<style scoped>\n",
       "    .dataframe tbody tr th:only-of-type {\n",
       "        vertical-align: middle;\n",
       "    }\n",
       "\n",
       "    .dataframe tbody tr th {\n",
       "        vertical-align: top;\n",
       "    }\n",
       "\n",
       "    .dataframe thead th {\n",
       "        text-align: right;\n",
       "    }\n",
       "</style>\n",
       "<table border=\"1\" class=\"dataframe\">\n",
       "  <thead>\n",
       "    <tr style=\"text-align: right;\">\n",
       "      <th></th>\n",
       "      <th>사회단체참여율</th>\n",
       "    </tr>\n",
       "  </thead>\n",
       "  <tbody>\n",
       "    <tr>\n",
       "      <td>2003</td>\n",
       "      <td>44.8</td>\n",
       "    </tr>\n",
       "    <tr>\n",
       "      <td>2006</td>\n",
       "      <td>38.8</td>\n",
       "    </tr>\n",
       "    <tr>\n",
       "      <td>2009</td>\n",
       "      <td>39.8</td>\n",
       "    </tr>\n",
       "    <tr>\n",
       "      <td>2011</td>\n",
       "      <td>46.6</td>\n",
       "    </tr>\n",
       "    <tr>\n",
       "      <td>2013</td>\n",
       "      <td>50.1</td>\n",
       "    </tr>\n",
       "    <tr>\n",
       "      <td>2015</td>\n",
       "      <td>48.9</td>\n",
       "    </tr>\n",
       "    <tr>\n",
       "      <td>2017</td>\n",
       "      <td>49.7</td>\n",
       "    </tr>\n",
       "  </tbody>\n",
       "</table>\n",
       "</div>"
      ],
      "text/plain": [
       "     사회단체참여율\n",
       "2003    44.8\n",
       "2006    38.8\n",
       "2009    39.8\n",
       "2011    46.6\n",
       "2013    50.1\n",
       "2015    48.9\n",
       "2017    49.7"
      ]
     },
     "execution_count": 757,
     "metadata": {},
     "output_type": "execute_result"
    }
   ],
   "source": [
    "data_ass=association['참여율(%)']\n",
    "value_ass={'사회단체참여율': data_ass}\n",
    "associ=pd.DataFrame(value_ass)\n",
    "associ"
   ]
  },
  {
   "cell_type": "code",
   "execution_count": 758,
   "metadata": {},
   "outputs": [],
   "source": [
    "associ.sort_index(ascending=False,inplace=True)"
   ]
  },
  {
   "cell_type": "code",
   "execution_count": 759,
   "metadata": {},
   "outputs": [],
   "source": [
    "associ.to_csv(\"사회단체참여율.csv\",index=True, header=True, encoding='utf-8')"
   ]
  },
  {
   "cell_type": "code",
   "execution_count": null,
   "metadata": {},
   "outputs": [],
   "source": []
  },
  {
   "cell_type": "code",
   "execution_count": null,
   "metadata": {},
   "outputs": [],
   "source": []
  },
  {
   "cell_type": "code",
   "execution_count": null,
   "metadata": {},
   "outputs": [],
   "source": [
    "# 파일 9( 대외교역:수입수출)"
   ]
  },
  {
   "cell_type": "code",
   "execution_count": 629,
   "metadata": {},
   "outputs": [],
   "source": [
    "export=pd.read_csv(\"대외교역(수출입)_ITSTAT.csv\",encoding='utf-8',index_col=0)"
   ]
  },
  {
   "cell_type": "code",
   "execution_count": 630,
   "metadata": {},
   "outputs": [],
   "source": [
    "export.drop(['1996년','1997년','1998년','1999년'],axis=1,inplace=True)\n",
    "del export['Unnamed: 24']"
   ]
  },
  {
   "cell_type": "code",
   "execution_count": 631,
   "metadata": {},
   "outputs": [],
   "source": [
    "export.columns=range(2000,2019)"
   ]
  },
  {
   "cell_type": "code",
   "execution_count": 632,
   "metadata": {},
   "outputs": [],
   "source": [
    "export=export.T"
   ]
  },
  {
   "cell_type": "code",
   "execution_count": 633,
   "metadata": {},
   "outputs": [],
   "source": [
    "export.drop(['증감률','증감률','수지'],axis=1,inplace=True)"
   ]
  },
  {
   "cell_type": "code",
   "execution_count": 634,
   "metadata": {},
   "outputs": [],
   "source": [
    "export.columns=['수출','수입','없다']\n",
    "del export['없다']"
   ]
  },
  {
   "cell_type": "code",
   "execution_count": 635,
   "metadata": {},
   "outputs": [],
   "source": [
    "export.sort_index(ascending=False,inplace=True)"
   ]
  },
  {
   "cell_type": "code",
   "execution_count": 636,
   "metadata": {},
   "outputs": [],
   "source": [
    "export.to_csv(\"수입수출.csv\",index=True, header=True, encoding='utf-8')"
   ]
  },
  {
   "cell_type": "code",
   "execution_count": 676,
   "metadata": {},
   "outputs": [
    {
     "data": {
      "text/html": [
       "<div>\n",
       "<style scoped>\n",
       "    .dataframe tbody tr th:only-of-type {\n",
       "        vertical-align: middle;\n",
       "    }\n",
       "\n",
       "    .dataframe tbody tr th {\n",
       "        vertical-align: top;\n",
       "    }\n",
       "\n",
       "    .dataframe thead th {\n",
       "        text-align: right;\n",
       "    }\n",
       "</style>\n",
       "<table border=\"1\" class=\"dataframe\">\n",
       "  <thead>\n",
       "    <tr style=\"text-align: right;\">\n",
       "      <th></th>\n",
       "      <th>수출</th>\n",
       "      <th>수입</th>\n",
       "    </tr>\n",
       "  </thead>\n",
       "  <tbody>\n",
       "    <tr>\n",
       "      <td>2018</td>\n",
       "      <td>604859657.0</td>\n",
       "      <td>535202428.0</td>\n",
       "    </tr>\n",
       "    <tr>\n",
       "      <td>2017</td>\n",
       "      <td>573694421.0</td>\n",
       "      <td>478478296.0</td>\n",
       "    </tr>\n",
       "    <tr>\n",
       "      <td>2016</td>\n",
       "      <td>495425940.0</td>\n",
       "      <td>406192887.0</td>\n",
       "    </tr>\n",
       "    <tr>\n",
       "      <td>2015</td>\n",
       "      <td>526756503.0</td>\n",
       "      <td>436498973.0</td>\n",
       "    </tr>\n",
       "    <tr>\n",
       "      <td>2014</td>\n",
       "      <td>572664607.0</td>\n",
       "      <td>525514506.0</td>\n",
       "    </tr>\n",
       "    <tr>\n",
       "      <td>2013</td>\n",
       "      <td>559632434.0</td>\n",
       "      <td>515585515.0</td>\n",
       "    </tr>\n",
       "    <tr>\n",
       "      <td>2012</td>\n",
       "      <td>547869792.0</td>\n",
       "      <td>519584473.0</td>\n",
       "    </tr>\n",
       "    <tr>\n",
       "      <td>2011</td>\n",
       "      <td>555213656.0</td>\n",
       "      <td>524413090.0</td>\n",
       "    </tr>\n",
       "    <tr>\n",
       "      <td>2010</td>\n",
       "      <td>466383762.0</td>\n",
       "      <td>425212160.0</td>\n",
       "    </tr>\n",
       "    <tr>\n",
       "      <td>2009</td>\n",
       "      <td>363533561.0</td>\n",
       "      <td>323084521.0</td>\n",
       "    </tr>\n",
       "    <tr>\n",
       "      <td>2008</td>\n",
       "      <td>422007328.0</td>\n",
       "      <td>435274737.0</td>\n",
       "    </tr>\n",
       "    <tr>\n",
       "      <td>2007</td>\n",
       "      <td>371489086.0</td>\n",
       "      <td>356845733.0</td>\n",
       "    </tr>\n",
       "    <tr>\n",
       "      <td>2006</td>\n",
       "      <td>325464848.0</td>\n",
       "      <td>309382632.0</td>\n",
       "    </tr>\n",
       "    <tr>\n",
       "      <td>2005</td>\n",
       "      <td>284418743.0</td>\n",
       "      <td>261238264.0</td>\n",
       "    </tr>\n",
       "    <tr>\n",
       "      <td>2004</td>\n",
       "      <td>253844672.0</td>\n",
       "      <td>224462687.0</td>\n",
       "    </tr>\n",
       "    <tr>\n",
       "      <td>2003</td>\n",
       "      <td>193817443.0</td>\n",
       "      <td>178826657.0</td>\n",
       "    </tr>\n",
       "    <tr>\n",
       "      <td>2002</td>\n",
       "      <td>162470528.0</td>\n",
       "      <td>152126153.0</td>\n",
       "    </tr>\n",
       "    <tr>\n",
       "      <td>2001</td>\n",
       "      <td>150439144.0</td>\n",
       "      <td>141097821.0</td>\n",
       "    </tr>\n",
       "    <tr>\n",
       "      <td>2000</td>\n",
       "      <td>172267511.0</td>\n",
       "      <td>160481015.0</td>\n",
       "    </tr>\n",
       "  </tbody>\n",
       "</table>\n",
       "</div>"
      ],
      "text/plain": [
       "               수출           수입\n",
       "2018  604859657.0  535202428.0\n",
       "2017  573694421.0  478478296.0\n",
       "2016  495425940.0  406192887.0\n",
       "2015  526756503.0  436498973.0\n",
       "2014  572664607.0  525514506.0\n",
       "2013  559632434.0  515585515.0\n",
       "2012  547869792.0  519584473.0\n",
       "2011  555213656.0  524413090.0\n",
       "2010  466383762.0  425212160.0\n",
       "2009  363533561.0  323084521.0\n",
       "2008  422007328.0  435274737.0\n",
       "2007  371489086.0  356845733.0\n",
       "2006  325464848.0  309382632.0\n",
       "2005  284418743.0  261238264.0\n",
       "2004  253844672.0  224462687.0\n",
       "2003  193817443.0  178826657.0\n",
       "2002  162470528.0  152126153.0\n",
       "2001  150439144.0  141097821.0\n",
       "2000  172267511.0  160481015.0"
      ]
     },
     "execution_count": 676,
     "metadata": {},
     "output_type": "execute_result"
    }
   ],
   "source": [
    "export "
   ]
  },
  {
   "cell_type": "code",
   "execution_count": null,
   "metadata": {},
   "outputs": [],
   "source": [
    "#파일10 (GDP)"
   ]
  },
  {
   "cell_type": "code",
   "execution_count": 666,
   "metadata": {},
   "outputs": [],
   "source": [
    "GDP=pd.read_csv(\"GDP여러가지_ITSTAT.csv\",encoding='utf-8',index_col=0)"
   ]
  },
  {
   "cell_type": "code",
   "execution_count": 667,
   "metadata": {},
   "outputs": [],
   "source": [
    "del GDP['Unnamed: 20']\n",
    "gdp=GDP.T"
   ]
  },
  {
   "cell_type": "code",
   "execution_count": 668,
   "metadata": {},
   "outputs": [],
   "source": [
    "gdp.columns=['실질국내총생산(GDP)','A','B','C']"
   ]
  },
  {
   "cell_type": "code",
   "execution_count": 669,
   "metadata": {},
   "outputs": [],
   "source": [
    "gdp.drop(['A',\"B\",\"C\"],axis=1,inplace=True)\n",
    "gdp.index=range(2000,2019)"
   ]
  },
  {
   "cell_type": "code",
   "execution_count": 671,
   "metadata": {},
   "outputs": [],
   "source": [
    "gdp.sort_index(ascending=False,inplace=True)"
   ]
  },
  {
   "cell_type": "code",
   "execution_count": 673,
   "metadata": {},
   "outputs": [],
   "source": [
    "gdp.to_csv(\"GDP.csv\",index=True, header=True, encoding='utf-8')  "
   ]
  },
  {
   "cell_type": "code",
   "execution_count": null,
   "metadata": {},
   "outputs": [],
   "source": [
    "#associ, export,gdp , live_area, high_edu,   \n",
    "# oil, e_learn, leisure,GINI, multi_cul "
   ]
  },
  {
   "cell_type": "code",
   "execution_count": null,
   "metadata": {},
   "outputs": [],
   "source": [
    "#데이터 합치기 "
   ]
  },
  {
   "cell_type": "code",
   "execution_count": 760,
   "metadata": {},
   "outputs": [],
   "source": [
    "associ.index=associ.index.astype('int64')"
   ]
  },
  {
   "cell_type": "code",
   "execution_count": 797,
   "metadata": {},
   "outputs": [],
   "source": [
    "data1=pd.merge(associ, export, how='outer',left_index=True, right_index=True)"
   ]
  },
  {
   "cell_type": "code",
   "execution_count": 800,
   "metadata": {},
   "outputs": [],
   "source": [
    "data2=pd.merge(data1, gdp,how='outer',left_index=True, right_index=True)"
   ]
  },
  {
   "cell_type": "code",
   "execution_count": 806,
   "metadata": {},
   "outputs": [],
   "source": [
    "live_area.index=live_area.index.astype('int64')"
   ]
  },
  {
   "cell_type": "code",
   "execution_count": 807,
   "metadata": {},
   "outputs": [],
   "source": [
    "data3=pd.merge(data2, live_area, how='outer',left_index=True, right_index=True)"
   ]
  },
  {
   "cell_type": "code",
   "execution_count": 810,
   "metadata": {},
   "outputs": [],
   "source": [
    "high_edu.index=high_edu.index.astype('int64')"
   ]
  },
  {
   "cell_type": "code",
   "execution_count": 811,
   "metadata": {},
   "outputs": [],
   "source": [
    "data4=pd.merge(data3, high_edu, how='outer',left_index=True, right_index=True)"
   ]
  },
  {
   "cell_type": "code",
   "execution_count": 815,
   "metadata": {},
   "outputs": [],
   "source": [
    "data5= pd.merge(data4, oil, how='outer',left_index=True, right_index=True)"
   ]
  },
  {
   "cell_type": "code",
   "execution_count": 817,
   "metadata": {},
   "outputs": [],
   "source": [
    "data6= pd.merge(data5, e_learn, how='outer',left_index=True, right_index=True)"
   ]
  },
  {
   "cell_type": "code",
   "execution_count": 819,
   "metadata": {},
   "outputs": [],
   "source": [
    "leisure.index=leisure.index.astype('int64')"
   ]
  },
  {
   "cell_type": "code",
   "execution_count": 820,
   "metadata": {},
   "outputs": [],
   "source": [
    "data7=pd.merge(data6, leisure,how='outer',left_index=True, right_index=True)"
   ]
  },
  {
   "cell_type": "code",
   "execution_count": 823,
   "metadata": {},
   "outputs": [],
   "source": [
    "data8=pd.merge(data7,GINI,how='outer',left_index=True, right_index=True)"
   ]
  },
  {
   "cell_type": "code",
   "execution_count": 825,
   "metadata": {},
   "outputs": [],
   "source": [
    "multi_cul.index=multi_cul.index.astype('int64')"
   ]
  },
  {
   "cell_type": "code",
   "execution_count": 826,
   "metadata": {},
   "outputs": [],
   "source": [
    "eunmin=pd.merge(data8, multi_cul , how='outer',left_index=True, right_index=True)"
   ]
  },
  {
   "cell_type": "code",
   "execution_count": 831,
   "metadata": {},
   "outputs": [],
   "source": [
    "eunmin.to_csv(\"eunmin.csv\",index=True, header=True, encoding='utf-8')  "
   ]
  },
  {
   "cell_type": "code",
   "execution_count": 830,
   "metadata": {},
   "outputs": [
    {
     "data": {
      "text/html": [
       "<div>\n",
       "<style scoped>\n",
       "    .dataframe tbody tr th:only-of-type {\n",
       "        vertical-align: middle;\n",
       "    }\n",
       "\n",
       "    .dataframe tbody tr th {\n",
       "        vertical-align: top;\n",
       "    }\n",
       "\n",
       "    .dataframe thead th {\n",
       "        text-align: right;\n",
       "    }\n",
       "</style>\n",
       "<table border=\"1\" class=\"dataframe\">\n",
       "  <thead>\n",
       "    <tr style=\"text-align: right;\">\n",
       "      <th></th>\n",
       "      <th>Unnamed: 0</th>\n",
       "      <th>사회단체참여율</th>\n",
       "      <th>수출</th>\n",
       "      <th>수입</th>\n",
       "      <th>실질국내총생산(GDP)</th>\n",
       "      <th>1인당주거면적</th>\n",
       "      <th>고등교육이수율</th>\n",
       "      <th>원자료</th>\n",
       "      <th>e러닝시장규모</th>\n",
       "      <th>문화여가지출률</th>\n",
       "      <th>지니계수</th>\n",
       "      <th>다문화출생아수</th>\n",
       "    </tr>\n",
       "  </thead>\n",
       "  <tbody>\n",
       "    <tr>\n",
       "      <td>0</td>\n",
       "      <td>2000</td>\n",
       "      <td>NaN</td>\n",
       "      <td>172267511.0</td>\n",
       "      <td>160481015.0</td>\n",
       "      <td>NaN</td>\n",
       "      <td>NaN</td>\n",
       "      <td>23.9</td>\n",
       "      <td>26.80</td>\n",
       "      <td>NaN</td>\n",
       "      <td>NaN</td>\n",
       "      <td>NaN</td>\n",
       "      <td>NaN</td>\n",
       "    </tr>\n",
       "    <tr>\n",
       "      <td>1</td>\n",
       "      <td>2001</td>\n",
       "      <td>NaN</td>\n",
       "      <td>150439144.0</td>\n",
       "      <td>141097821.0</td>\n",
       "      <td>947394.8</td>\n",
       "      <td>NaN</td>\n",
       "      <td>24.2</td>\n",
       "      <td>19.84</td>\n",
       "      <td>NaN</td>\n",
       "      <td>NaN</td>\n",
       "      <td>NaN</td>\n",
       "      <td>NaN</td>\n",
       "    </tr>\n",
       "    <tr>\n",
       "      <td>2</td>\n",
       "      <td>2002</td>\n",
       "      <td>NaN</td>\n",
       "      <td>162470528.0</td>\n",
       "      <td>152126153.0</td>\n",
       "      <td>1020582.4</td>\n",
       "      <td>NaN</td>\n",
       "      <td>26.0</td>\n",
       "      <td>31.20</td>\n",
       "      <td>NaN</td>\n",
       "      <td>NaN</td>\n",
       "      <td>NaN</td>\n",
       "      <td>NaN</td>\n",
       "    </tr>\n",
       "    <tr>\n",
       "      <td>3</td>\n",
       "      <td>2003</td>\n",
       "      <td>44.8</td>\n",
       "      <td>193817443.0</td>\n",
       "      <td>178826657.0</td>\n",
       "      <td>1052703.1</td>\n",
       "      <td>NaN</td>\n",
       "      <td>29.5</td>\n",
       "      <td>32.52</td>\n",
       "      <td>1077041.0</td>\n",
       "      <td>NaN</td>\n",
       "      <td>NaN</td>\n",
       "      <td>NaN</td>\n",
       "    </tr>\n",
       "    <tr>\n",
       "      <td>4</td>\n",
       "      <td>2004</td>\n",
       "      <td>NaN</td>\n",
       "      <td>253844672.0</td>\n",
       "      <td>224462687.0</td>\n",
       "      <td>1107416.2</td>\n",
       "      <td>NaN</td>\n",
       "      <td>30.5</td>\n",
       "      <td>43.45</td>\n",
       "      <td>1298484.0</td>\n",
       "      <td>NaN</td>\n",
       "      <td>NaN</td>\n",
       "      <td>NaN</td>\n",
       "    </tr>\n",
       "    <tr>\n",
       "      <td>5</td>\n",
       "      <td>2005</td>\n",
       "      <td>NaN</td>\n",
       "      <td>284418743.0</td>\n",
       "      <td>261238264.0</td>\n",
       "      <td>1155129.7</td>\n",
       "      <td>NaN</td>\n",
       "      <td>31.6</td>\n",
       "      <td>61.13</td>\n",
       "      <td>1470817.0</td>\n",
       "      <td>NaN</td>\n",
       "      <td>NaN</td>\n",
       "      <td>NaN</td>\n",
       "    </tr>\n",
       "    <tr>\n",
       "      <td>6</td>\n",
       "      <td>2006</td>\n",
       "      <td>38.8</td>\n",
       "      <td>325464848.0</td>\n",
       "      <td>309382632.0</td>\n",
       "      <td>1215939.5</td>\n",
       "      <td>26.2</td>\n",
       "      <td>32.9</td>\n",
       "      <td>61.05</td>\n",
       "      <td>1617797.0</td>\n",
       "      <td>4.16</td>\n",
       "      <td>NaN</td>\n",
       "      <td>NaN</td>\n",
       "    </tr>\n",
       "    <tr>\n",
       "      <td>7</td>\n",
       "      <td>2007</td>\n",
       "      <td>NaN</td>\n",
       "      <td>371489086.0</td>\n",
       "      <td>356845733.0</td>\n",
       "      <td>1286458.5</td>\n",
       "      <td>NaN</td>\n",
       "      <td>34.6</td>\n",
       "      <td>96.00</td>\n",
       "      <td>1727057.0</td>\n",
       "      <td>4.13</td>\n",
       "      <td>NaN</td>\n",
       "      <td>NaN</td>\n",
       "    </tr>\n",
       "    <tr>\n",
       "      <td>8</td>\n",
       "      <td>2008</td>\n",
       "      <td>NaN</td>\n",
       "      <td>422007328.0</td>\n",
       "      <td>435274737.0</td>\n",
       "      <td>1325219.3</td>\n",
       "      <td>27.8</td>\n",
       "      <td>36.6</td>\n",
       "      <td>44.60</td>\n",
       "      <td>1870475.0</td>\n",
       "      <td>4.00</td>\n",
       "      <td>NaN</td>\n",
       "      <td>13443.0</td>\n",
       "    </tr>\n",
       "    <tr>\n",
       "      <td>9</td>\n",
       "      <td>2009</td>\n",
       "      <td>39.8</td>\n",
       "      <td>363533561.0</td>\n",
       "      <td>323084521.0</td>\n",
       "      <td>1335724.3</td>\n",
       "      <td>NaN</td>\n",
       "      <td>38.7</td>\n",
       "      <td>79.36</td>\n",
       "      <td>2091033.0</td>\n",
       "      <td>4.04</td>\n",
       "      <td>NaN</td>\n",
       "      <td>19024.0</td>\n",
       "    </tr>\n",
       "    <tr>\n",
       "      <td>10</td>\n",
       "      <td>2010</td>\n",
       "      <td>NaN</td>\n",
       "      <td>466383762.0</td>\n",
       "      <td>425212160.0</td>\n",
       "      <td>1426618.0</td>\n",
       "      <td>28.5</td>\n",
       "      <td>39.7</td>\n",
       "      <td>91.38</td>\n",
       "      <td>2245833.0</td>\n",
       "      <td>4.25</td>\n",
       "      <td>NaN</td>\n",
       "      <td>20312.0</td>\n",
       "    </tr>\n",
       "    <tr>\n",
       "      <td>11</td>\n",
       "      <td>2011</td>\n",
       "      <td>46.6</td>\n",
       "      <td>555213656.0</td>\n",
       "      <td>524413090.0</td>\n",
       "      <td>1479198.4</td>\n",
       "      <td>NaN</td>\n",
       "      <td>40.4</td>\n",
       "      <td>98.83</td>\n",
       "      <td>2451364.0</td>\n",
       "      <td>4.13</td>\n",
       "      <td>0.418</td>\n",
       "      <td>22014.0</td>\n",
       "    </tr>\n",
       "    <tr>\n",
       "      <td>12</td>\n",
       "      <td>2012</td>\n",
       "      <td>NaN</td>\n",
       "      <td>547869792.0</td>\n",
       "      <td>519584473.0</td>\n",
       "      <td>1514736.6</td>\n",
       "      <td>31.7</td>\n",
       "      <td>41.7</td>\n",
       "      <td>92.38</td>\n",
       "      <td>2747766.0</td>\n",
       "      <td>4.20</td>\n",
       "      <td>0.411</td>\n",
       "      <td>22908.0</td>\n",
       "    </tr>\n",
       "    <tr>\n",
       "      <td>13</td>\n",
       "      <td>2013</td>\n",
       "      <td>50.1</td>\n",
       "      <td>559632434.0</td>\n",
       "      <td>515585515.0</td>\n",
       "      <td>1562673.6</td>\n",
       "      <td>NaN</td>\n",
       "      <td>43.1</td>\n",
       "      <td>98.55</td>\n",
       "      <td>2947083.0</td>\n",
       "      <td>4.28</td>\n",
       "      <td>0.401</td>\n",
       "      <td>21290.0</td>\n",
       "    </tr>\n",
       "    <tr>\n",
       "      <td>14</td>\n",
       "      <td>2014</td>\n",
       "      <td>NaN</td>\n",
       "      <td>572664607.0</td>\n",
       "      <td>525514506.0</td>\n",
       "      <td>1612717.5</td>\n",
       "      <td>33.5</td>\n",
       "      <td>44.6</td>\n",
       "      <td>53.22</td>\n",
       "      <td>3214167.0</td>\n",
       "      <td>4.35</td>\n",
       "      <td>0.397</td>\n",
       "      <td>21174.0</td>\n",
       "    </tr>\n",
       "    <tr>\n",
       "      <td>15</td>\n",
       "      <td>2015</td>\n",
       "      <td>48.9</td>\n",
       "      <td>526756503.0</td>\n",
       "      <td>436498973.0</td>\n",
       "      <td>1658020.4</td>\n",
       "      <td>NaN</td>\n",
       "      <td>45.5</td>\n",
       "      <td>37.04</td>\n",
       "      <td>3485119.0</td>\n",
       "      <td>4.44</td>\n",
       "      <td>0.396</td>\n",
       "      <td>19729.0</td>\n",
       "    </tr>\n",
       "    <tr>\n",
       "      <td>16</td>\n",
       "      <td>2016</td>\n",
       "      <td>NaN</td>\n",
       "      <td>495425940.0</td>\n",
       "      <td>406192887.0</td>\n",
       "      <td>1706880.3</td>\n",
       "      <td>33.2</td>\n",
       "      <td>46.9</td>\n",
       "      <td>43.47</td>\n",
       "      <td>3487574.0</td>\n",
       "      <td>4.53</td>\n",
       "      <td>0.402</td>\n",
       "      <td>19431.0</td>\n",
       "    </tr>\n",
       "    <tr>\n",
       "      <td>17</td>\n",
       "      <td>2017</td>\n",
       "      <td>49.7</td>\n",
       "      <td>573694421.0</td>\n",
       "      <td>478478296.0</td>\n",
       "      <td>1760811.5</td>\n",
       "      <td>31.2</td>\n",
       "      <td>47.7</td>\n",
       "      <td>50.85</td>\n",
       "      <td>3699183.0</td>\n",
       "      <td>5.27</td>\n",
       "      <td>0.406</td>\n",
       "      <td>18440.0</td>\n",
       "    </tr>\n",
       "    <tr>\n",
       "      <td>18</td>\n",
       "      <td>2018</td>\n",
       "      <td>NaN</td>\n",
       "      <td>604859657.0</td>\n",
       "      <td>535202428.0</td>\n",
       "      <td>1807735.9</td>\n",
       "      <td>31.7</td>\n",
       "      <td>49.0</td>\n",
       "      <td>64.90</td>\n",
       "      <td>3845009.0</td>\n",
       "      <td>5.76</td>\n",
       "      <td>0.402</td>\n",
       "      <td>18079.0</td>\n",
       "    </tr>\n",
       "  </tbody>\n",
       "</table>\n",
       "</div>"
      ],
      "text/plain": [
       "    Unnamed: 0  사회단체참여율           수출           수입  실질국내총생산(GDP)  1인당주거면적  \\\n",
       "0         2000      NaN  172267511.0  160481015.0           NaN      NaN   \n",
       "1         2001      NaN  150439144.0  141097821.0      947394.8      NaN   \n",
       "2         2002      NaN  162470528.0  152126153.0     1020582.4      NaN   \n",
       "3         2003     44.8  193817443.0  178826657.0     1052703.1      NaN   \n",
       "4         2004      NaN  253844672.0  224462687.0     1107416.2      NaN   \n",
       "5         2005      NaN  284418743.0  261238264.0     1155129.7      NaN   \n",
       "6         2006     38.8  325464848.0  309382632.0     1215939.5     26.2   \n",
       "7         2007      NaN  371489086.0  356845733.0     1286458.5      NaN   \n",
       "8         2008      NaN  422007328.0  435274737.0     1325219.3     27.8   \n",
       "9         2009     39.8  363533561.0  323084521.0     1335724.3      NaN   \n",
       "10        2010      NaN  466383762.0  425212160.0     1426618.0     28.5   \n",
       "11        2011     46.6  555213656.0  524413090.0     1479198.4      NaN   \n",
       "12        2012      NaN  547869792.0  519584473.0     1514736.6     31.7   \n",
       "13        2013     50.1  559632434.0  515585515.0     1562673.6      NaN   \n",
       "14        2014      NaN  572664607.0  525514506.0     1612717.5     33.5   \n",
       "15        2015     48.9  526756503.0  436498973.0     1658020.4      NaN   \n",
       "16        2016      NaN  495425940.0  406192887.0     1706880.3     33.2   \n",
       "17        2017     49.7  573694421.0  478478296.0     1760811.5     31.2   \n",
       "18        2018      NaN  604859657.0  535202428.0     1807735.9     31.7   \n",
       "\n",
       "    고등교육이수율    원자료    e러닝시장규모  문화여가지출률   지니계수  다문화출생아수  \n",
       "0      23.9  26.80        NaN      NaN    NaN      NaN  \n",
       "1      24.2  19.84        NaN      NaN    NaN      NaN  \n",
       "2      26.0  31.20        NaN      NaN    NaN      NaN  \n",
       "3      29.5  32.52  1077041.0      NaN    NaN      NaN  \n",
       "4      30.5  43.45  1298484.0      NaN    NaN      NaN  \n",
       "5      31.6  61.13  1470817.0      NaN    NaN      NaN  \n",
       "6      32.9  61.05  1617797.0     4.16    NaN      NaN  \n",
       "7      34.6  96.00  1727057.0     4.13    NaN      NaN  \n",
       "8      36.6  44.60  1870475.0     4.00    NaN  13443.0  \n",
       "9      38.7  79.36  2091033.0     4.04    NaN  19024.0  \n",
       "10     39.7  91.38  2245833.0     4.25    NaN  20312.0  \n",
       "11     40.4  98.83  2451364.0     4.13  0.418  22014.0  \n",
       "12     41.7  92.38  2747766.0     4.20  0.411  22908.0  \n",
       "13     43.1  98.55  2947083.0     4.28  0.401  21290.0  \n",
       "14     44.6  53.22  3214167.0     4.35  0.397  21174.0  \n",
       "15     45.5  37.04  3485119.0     4.44  0.396  19729.0  \n",
       "16     46.9  43.47  3487574.0     4.53  0.402  19431.0  \n",
       "17     47.7  50.85  3699183.0     5.27  0.406  18440.0  \n",
       "18     49.0  64.90  3845009.0     5.76  0.402  18079.0  "
      ]
     },
     "execution_count": 830,
     "metadata": {},
     "output_type": "execute_result"
    }
   ],
   "source": []
  }
 ],
 "metadata": {
  "kernelspec": {
   "display_name": "Python 3",
   "language": "python",
   "name": "python3"
  },
  "language_info": {
   "codemirror_mode": {
    "name": "ipython",
    "version": 3
   },
   "file_extension": ".py",
   "mimetype": "text/x-python",
   "name": "python",
   "nbconvert_exporter": "python",
   "pygments_lexer": "ipython3",
   "version": "3.7.4"
  }
 },
 "nbformat": 4,
 "nbformat_minor": 2
}
