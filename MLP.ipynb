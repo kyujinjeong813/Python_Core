{
 "cells": [
  {
   "cell_type": "code",
   "execution_count": null,
   "metadata": {},
   "outputs": [],
   "source": [
    "#model select -> crossvalidation 을 통해 모델 검증해주자\n",
    "#feature select ->  변수, 특성 선택 -> 변수제거하는 방법으로 RFE  를 했다!! \n",
    "#feature extraction -> 이미지 특징 추출, 텍스트 특징 추출   (manifold 의 대표적인 것 : MDS )"
   ]
  },
  {
   "cell_type": "code",
   "execution_count": null,
   "metadata": {},
   "outputs": [],
   "source": [
    "# preprocessing -> learning- > model -> predict service   ( learning 하면서도 predict 는 계속 이루어진다 ) \n",
    "\n",
    "###learning  : ex ) boston 집값은 500x30 으로 데이터가 들어왔다. \n",
    "#           여기에 30x1 가중치(=변환기=transform=특징추출)를 곱하면 결과가 500x1 이 된다 \n",
    "#          500x300 일때 500x1 로 줄이면 손실되는 정보가 많다--> multi rayer 로 보안한다!! (= 500x300 에 300x100 을 하고 그다음 100x1 을 곱한다 ) \n",
    "\n",
    "# 차원확대를 할때도 있다 -> SVC 는 차원확대를 좋아한다 (차원확대할때 중요한 것 : kunnel ) \n",
    "\n",
    "\n",
    "### 활성화함수 ( 매핑시키는 역할 , identity와 sigmoid, softmax 를 이용해서 매핑시킨다 , sigmoid 는 0~1사이로 매핑시킨다 즉 확률값으로 매핑하는것이므로 분류가 된다 identity 는 가중치를 곱해서 나온값 그대로 내보내므로  회귀가 된다 , softmax 는 클래스가 여러개일때 쓴다 )  를 통과한다 \n",
    "### activation function=활성화함수=분류나 회귀(예측) 인지 결정한다 -> scikits 에서는MLP Regression , MLP classifier 함수가 존재한다. (이미무엇인지 결정되어있다) -> tensorflow 에서는 직접 정해야함 \n",
    "\n",
    "# learning rate : 학습률 (우리가 직접하는 것이 아니다 . solver 가 해준다 ) \n",
    "####learning rate 와 가중치를 계산하는 방법에 따라 solver 여러가지있다 ->  sgd (stock cast gradian descent ,배치학습아니고 일부분씩 잘라서 조금씩 조절하게 되면 지역해로 넘어갈수도 있고 속도가 빨라진다 ) , adam ( learningrate 와 가중치를 조절할 수 있다 , 지역해를 넘어서기 위해서 가던방향으로 계속 가보자. momentum 의 개념?? )\n",
    "####---> 우리는 어떤 solver 를 선택할것인지, learning rate 를 얼마로 줄지만 결정하면 된다\n",
    "\n",
    "\n",
    "#과정이름  순전파(yhat 을 만드는것, 순서대로 진행된다고 보기 ) / 역전파(가중치를 조절하는것) 개념"
   ]
  },
  {
   "cell_type": "code",
   "execution_count": null,
   "metadata": {},
   "outputs": [],
   "source": [
    "# 4차 산업혁명 : IOT , BigData, AI, AR/VR/MR , (금융으로 넘어간것)fintech -> (보안으로 넘어가서) blockchain , \n",
    "#               AI + IOT = AIOT ( 신경망 )  "
   ]
  },
  {
   "cell_type": "code",
   "execution_count": null,
   "metadata": {},
   "outputs": [],
   "source": [
    "# 신경망을 잘 만들수 있는 것 : tensorflow  (망과 망을 연결해서 우리 마음대로 모델을 만들 수 있다 ) "
   ]
  },
  {
   "cell_type": "code",
   "execution_count": null,
   "metadata": {},
   "outputs": [],
   "source": [
    "# 오늘 배우는 것 : ANN ( FFNN : feed forward neural network 라고도 한다 )  -> scikits 에서 모델을 만든 것이 MLD ( multi-layer perceptron )  "
   ]
  },
  {
   "cell_type": "code",
   "execution_count": null,
   "metadata": {},
   "outputs": [],
   "source": [
    "# multi layer 을 달다보니까 기울기가 소멸된다   ---> LSTM  : 소멸되는 기울기를 기억해서 방지해준다 \n",
    "\n",
    "# MLD 도 지도학습, 비지도학습있다 . \n",
    "\n",
    "# 신경망 : 전처리 특히 정규화를 해주지 않으면 잘 작동하지 않고 발산하게 된다 ( 신경망의 경우 전처리에서 정규화는 필수!! ) \n"
   ]
  },
  {
   "cell_type": "code",
   "execution_count": 6,
   "metadata": {},
   "outputs": [],
   "source": [
    "%matplotlib inline\n",
    "import matplotlib.pyplot as plt  # 시각화할때 \n",
    "import mglearn   # 학습도움용\n",
    "# 랜덤 사이즈를 채운후 행렬 제곱을 하면 ==> 정방행렬이면서, 대칭행렬이 만들어진다. \n",
    "# 고유값 분해 = 고유치, 고유벡터(정직교)\n",
    "# MDS 행렬곱(직교하는 2, 3차원): 2차원이나 3차원 특징추출\n",
    "# MLP : Multi layer perceptron :FFNN(Feed Forward neural network)\n",
    "# forward propagation 순전파  --> 예측분류과정  --> 가중치가 random하게 초기치가 정해지므로 학습을 통해서 \n",
    "# backward propagation 역전파 --> 가중치 학습과정   --> cost function(기울기), running mate\n",
    "# solver = estimator , transformer, solver = 미분, learning , 가중치 조절\n",
    "from sklearn.neural_network import MLPClassifier #MLPRegressor\n",
    "from sklearn.datasets import make_moons\n",
    "from sklearn.model_selection import train_test_split\n",
    "X,y = make_moons(n_samples = 100, noise = 0.25, random_state = 3)"
   ]
  },
  {
   "cell_type": "code",
   "execution_count": 7,
   "metadata": {},
   "outputs": [
    {
     "name": "stderr",
     "output_type": "stream",
     "text": [
      "C:\\Users\\ICT01_12\\Anaconda3\\lib\\site-packages\\sklearn\\neural_network\\multilayer_perceptron.py:566: ConvergenceWarning: Stochastic Optimizer: Maximum iterations (200) reached and the optimization hasn't converged yet.\n",
      "  % self.max_iter, ConvergenceWarning)\n"
     ]
    },
    {
     "data": {
      "text/plain": [
       "Text(0.5, 0, '특성 1')"
      ]
     },
     "execution_count": 7,
     "metadata": {},
     "output_type": "execute_result"
    },
    {
     "name": "stderr",
     "output_type": "stream",
     "text": [
      "C:\\Users\\ICT01_12\\Anaconda3\\lib\\site-packages\\matplotlib\\backends\\backend_agg.py:211: RuntimeWarning: Glyph 53945 missing from current font.\n",
      "  font.set_text(s, 0.0, flags=flags)\n",
      "C:\\Users\\ICT01_12\\Anaconda3\\lib\\site-packages\\matplotlib\\backends\\backend_agg.py:211: RuntimeWarning: Glyph 49457 missing from current font.\n",
      "  font.set_text(s, 0.0, flags=flags)\n",
      "C:\\Users\\ICT01_12\\Anaconda3\\lib\\site-packages\\matplotlib\\backends\\backend_agg.py:180: RuntimeWarning: Glyph 53945 missing from current font.\n",
      "  font.set_text(s, 0, flags=flags)\n",
      "C:\\Users\\ICT01_12\\Anaconda3\\lib\\site-packages\\matplotlib\\backends\\backend_agg.py:180: RuntimeWarning: Glyph 49457 missing from current font.\n",
      "  font.set_text(s, 0, flags=flags)\n"
     ]
    },
    {
     "data": {
      "image/png": "[encoded data removed]",
      "text/plain": [
       "<Figure size 432x288 with 1 Axes>"
      ]
     },
     "metadata": {},
     "output_type": "display_data"
    }
   ],
   "source": [
    "# stratify 층화 변수 선택법\n",
    "\n",
    "X_train, X_test, y_train, y_test = train_test_split(X,y,stratify = y, random_state = 42)\n",
    "mlp = MLPClassifier(random_state = 0).fit(X_train, y_train)\n",
    "# Multi layer => XOR  문제를 해결 , 레이어가 많으면 정밀도 자동으로 \n",
    "# 가중치가 완성\n",
    "mglearn.plots.plot_2d_separator(mlp, X_train, fill = True, alpha = .3)\n",
    "mglearn.discrete_scatter(X_train[:,0],X_train[:,1], y_train)\n",
    "plt.xlabel('특성 0')\n",
    "plt.xlabel('특성 1')"
   ]
  },
  {
   "cell_type": "code",
   "execution_count": 8,
   "metadata": {},
   "outputs": [
    {
     "data": {
      "text/plain": [
       "{'activation': 'relu',\n",
       " 'alpha': 0.0001,\n",
       " 'batch_size': 'auto',\n",
       " 'beta_1': 0.9,\n",
       " 'beta_2': 0.999,\n",
       " 'early_stopping': False,\n",
       " 'epsilon': 1e-08,\n",
       " 'hidden_layer_sizes': (100,),\n",
       " 'learning_rate': 'constant',\n",
       " 'learning_rate_init': 0.001,\n",
       " 'max_iter': 200,\n",
       " 'momentum': 0.9,\n",
       " 'n_iter_no_change': 10,\n",
       " 'nesterovs_momentum': True,\n",
       " 'power_t': 0.5,\n",
       " 'random_state': 0,\n",
       " 'shuffle': True,\n",
       " 'solver': 'adam',\n",
       " 'tol': 0.0001,\n",
       " 'validation_fraction': 0.1,\n",
       " 'verbose': False,\n",
       " 'warm_start': False}"
      ]
     },
     "execution_count": 8,
     "metadata": {},
     "output_type": "execute_result"
    }
   ],
   "source": [
    "mlp.get_params()  # 디폴트 매개변수로 확인\n",
    "# relu --> 액티베이션 함수에서 0이하를 제거한 활성화 함수 --> 이걸 이용하니까 속도가 빨라지더라 \n",
    "# epoch --> 1회 학습 반복\n",
    "# solver --> adam (learning -rate를 조절, Momentum 을 사용하는 --> optimization)"
   ]
  },
  {
   "cell_type": "code",
   "execution_count": 12,
   "metadata": {},
   "outputs": [
    {
     "data": {
      "text/plain": [
       "3"
      ]
     },
     "execution_count": 12,
     "metadata": {},
     "output_type": "execute_result"
    }
   ],
   "source": [
    "mlp.n_layers_"
   ]
  },
  {
   "cell_type": "code",
   "execution_count": 13,
   "metadata": {},
   "outputs": [
    {
     "data": {
      "text/plain": [
       "[array([[ 1.96423650e-01,  1.86414048e-01,  2.73074871e-02,\n",
       "          1.32154297e-01, -9.48047217e-05,  2.82807555e-03,\n",
       "         -7.29479240e-02,  1.45878653e-01,  2.97837159e-01,\n",
       "         -1.12611776e-01,  2.34714552e-01,  1.30702586e-01,\n",
       "         -2.85623212e-02,  1.12399918e-01, -1.71442282e-01,\n",
       "         -3.24829063e-01, -3.85153290e-01,  2.38832765e-01,\n",
       "          2.13193712e-01,  2.63746115e-01,  1.70653255e-01,\n",
       "          7.41106685e-02,  1.04573476e-01,  6.73150355e-02,\n",
       "         -3.77696555e-01,  1.10071889e-01,  4.88102808e-03,\n",
       "          3.03409150e-01, -6.64267214e-02, -1.08723630e-01,\n",
       "         -2.67443736e-01,  2.19702964e-01, -9.77933350e-02,\n",
       "          3.95350833e-05, -1.67873856e-01,  1.32818304e-01,\n",
       "          2.23922646e-02, -1.13671191e-02,  2.94106612e-01,\n",
       "          3.48486041e-02, -1.28573692e-01, -1.62111791e-05,\n",
       "          1.34093216e-01, -3.48957410e-01,  1.73951614e-01,\n",
       "          2.50280090e-02, -3.77490782e-01, -3.22208104e-01,\n",
       "         -8.09493846e-02, -4.14861544e-02,  1.76672050e-01,\n",
       "         -9.21001914e-02,  2.21774574e-01, -1.48112358e-01,\n",
       "          5.77944904e-03, -1.30543710e-01,  1.44098820e-02,\n",
       "         -2.49587499e-01, -7.93067419e-02, -6.79805570e-02,\n",
       "         -3.06594354e-01, -1.65532265e-01,  3.73325038e-03,\n",
       "         -1.57036829e-01, -1.06700038e-01, -1.21604912e-01,\n",
       "          2.64529903e-01, -3.64314761e-01,  2.61796638e-01,\n",
       "         -1.32786078e-01,  3.19718175e-01, -7.28975836e-02,\n",
       "          3.12328622e-01,  1.47669323e-01,  8.71731889e-02,\n",
       "         -3.41836388e-01,  6.73800845e-04, -1.60403151e-01,\n",
       "         -6.93240437e-02, -2.07438408e-02, -5.32717961e-02,\n",
       "         -1.03671704e-01, -1.00347616e-01,  8.04972189e-03,\n",
       "          7.16681013e-02, -1.53493682e-02,  1.05625531e-01,\n",
       "         -3.39522477e-01,  9.38858858e-02,  1.67392956e-01,\n",
       "         -2.51517884e-01,  6.74628420e-02, -2.98746672e-01,\n",
       "          2.10531162e-01, -4.01824728e-02, -1.23725711e-01,\n",
       "          2.15077228e-04, -3.64948438e-01,  8.37942720e-02,\n",
       "         -2.07215780e-01],\n",
       "        [-7.60539476e-02, -2.94113409e-01,  2.95912661e-01,\n",
       "          3.81733181e-01, -1.88516163e-02,  9.31453472e-05,\n",
       "          1.90915690e-01,  1.64374879e-01, -3.21044672e-01,\n",
       "          3.59057766e-01, -1.75883158e-01,  3.36985074e-01,\n",
       "          2.38562896e-01, -7.41039697e-02,  1.21119451e-01,\n",
       "          4.48507925e-02,  3.27708543e-01, -1.72943309e-01,\n",
       "          3.92953787e-02, -5.83962499e-02,  2.34262388e-01,\n",
       "          1.18204938e-01,  3.66152864e-01,  1.96128084e-01,\n",
       "          9.11923320e-02, -9.44989334e-02, -4.19878499e-01,\n",
       "         -3.04406806e-01,  2.38341421e-01, -3.52504596e-02,\n",
       "          1.88539119e-01, -2.18020378e-01, -1.20597429e-01,\n",
       "         -9.44812099e-03, -4.38742952e-03, -1.40422272e-01,\n",
       "          4.70957982e-02,  2.67191856e-01, -1.22919932e-01,\n",
       "          9.79228414e-02,  3.59360073e-01, -1.87784860e-03,\n",
       "         -2.36103204e-01,  3.01733991e-01, -4.60232845e-03,\n",
       "          2.69774043e-01, -2.80988596e-02,  3.31646014e-01,\n",
       "          9.70500593e-02,  1.46960722e-01, -3.98052539e-01,\n",
       "          3.16938676e-01, -2.93138299e-01,  2.66617882e-01,\n",
       "         -4.06271226e-01,  1.35316544e-01,  3.10334096e-01,\n",
       "          1.50706351e-01,  9.78145556e-02, -1.49034964e-01,\n",
       "          2.14822173e-01, -2.52503624e-02,  1.29310519e-02,\n",
       "          3.64123844e-01,  1.40525858e-01,  3.67848240e-01,\n",
       "         -4.68457522e-01,  5.36433351e-02, -5.62770750e-02,\n",
       "         -2.03098399e-01, -1.44080018e-01, -1.49548247e-01,\n",
       "         -3.45496464e-01, -4.15441633e-01,  3.31472567e-01,\n",
       "         -5.77972896e-02, -2.35968440e-01,  1.06031806e-01,\n",
       "          2.92250921e-01, -4.48263171e-01, -1.27481305e-01,\n",
       "          2.50881503e-01, -4.43559616e-02, -2.13114804e-02,\n",
       "          1.24201092e-01,  9.43739998e-04, -1.35507487e-01,\n",
       "          1.43875434e-01,  3.72651794e-02, -1.07007386e-01,\n",
       "          9.51395014e-02, -1.27514829e-01, -5.78077511e-02,\n",
       "          1.03959368e-01,  2.67122378e-01, -2.31526542e-02,\n",
       "         -2.38078100e-02, -2.37528836e-02, -7.90028156e-02,\n",
       "          1.23066570e-01]]), array([[ 4.41575952e-01],\n",
       "        [ 2.66608399e-01],\n",
       "        [-2.76700384e-01],\n",
       "        [-4.05660754e-01],\n",
       "        [-3.32450597e-04],\n",
       "        [-2.29615593e-02],\n",
       "        [-3.26467959e-01],\n",
       "        [-2.29331081e-01],\n",
       "        [ 2.31425537e-01],\n",
       "        [-3.69746219e-01],\n",
       "        [ 2.53856284e-01],\n",
       "        [-3.92523291e-01],\n",
       "        [-3.79664677e-01],\n",
       "        [-1.39381376e-01],\n",
       "        [ 5.62828712e-02],\n",
       "        [-2.47033750e-01],\n",
       "        [-1.71740481e-01],\n",
       "        [ 1.57089463e-01],\n",
       "        [ 2.74675250e-01],\n",
       "        [ 2.22545222e-01],\n",
       "        [-1.29959120e-01],\n",
       "        [-1.39412677e-01],\n",
       "        [-3.95189254e-01],\n",
       "        [-1.20065288e-01],\n",
       "        [-3.43362933e-01],\n",
       "        [ 9.10878252e-02],\n",
       "        [ 3.15286222e-01],\n",
       "        [ 2.24732992e-01],\n",
       "        [-2.62541719e-01],\n",
       "        [-5.60671656e-02],\n",
       "        [-3.51639334e-01],\n",
       "        [ 2.93838917e-01],\n",
       "        [-2.42306707e-01],\n",
       "        [ 8.86709456e-03],\n",
       "        [ 8.76170170e-02],\n",
       "        [ 3.19110689e-01],\n",
       "        [-9.05925150e-02],\n",
       "        [-2.53440881e-01],\n",
       "        [ 1.40733958e-01],\n",
       "        [-9.72914750e-02],\n",
       "        [-1.94457378e-01],\n",
       "        [-3.20809942e-02],\n",
       "        [ 1.35759858e-01],\n",
       "        [-3.73912440e-01],\n",
       "        [ 3.09381023e-01],\n",
       "        [-3.98889384e-01],\n",
       "        [-2.41205448e-01],\n",
       "        [-2.43275657e-01],\n",
       "        [ 2.51438990e-02],\n",
       "        [ 1.55003367e-01],\n",
       "        [ 2.88381464e-01],\n",
       "        [-3.68229530e-01],\n",
       "        [ 7.10936743e-02],\n",
       "        [-1.21347044e-01],\n",
       "        [ 2.28784997e-01],\n",
       "        [ 6.05716984e-02],\n",
       "        [-2.94266659e-01],\n",
       "        [-2.99448969e-01],\n",
       "        [-8.14959761e-02],\n",
       "        [ 1.79729484e-01],\n",
       "        [-3.21411274e-01],\n",
       "        [ 1.77387667e-01],\n",
       "        [-7.78041328e-06],\n",
       "        [-1.41014825e-01],\n",
       "        [ 1.01592630e-01],\n",
       "        [-1.55086605e-01],\n",
       "        [ 2.65392807e-01],\n",
       "        [-1.87093754e-01],\n",
       "        [ 3.55609539e-01],\n",
       "        [-6.08484859e-03],\n",
       "        [ 2.08029492e-01],\n",
       "        [ 1.78467676e-02],\n",
       "        [ 2.49438320e-01],\n",
       "        [ 2.04514362e-01],\n",
       "        [-3.25745924e-01],\n",
       "        [-3.07162242e-01],\n",
       "        [ 3.59134895e-01],\n",
       "        [ 1.44709429e-01],\n",
       "        [-1.60470805e-01],\n",
       "        [ 2.75007372e-01],\n",
       "        [ 1.47135667e-01],\n",
       "        [-1.72259603e-01],\n",
       "        [ 1.37875288e-01],\n",
       "        [ 9.28637396e-05],\n",
       "        [ 1.03707204e-01],\n",
       "        [ 6.55948635e-02],\n",
       "        [ 3.19398224e-01],\n",
       "        [-2.94485057e-01],\n",
       "        [ 6.88057971e-02],\n",
       "        [ 2.83915088e-02],\n",
       "        [-4.16221834e-01],\n",
       "        [-2.47831958e-02],\n",
       "        [-2.79461085e-01],\n",
       "        [ 2.97709709e-01],\n",
       "        [-3.70726216e-01],\n",
       "        [ 2.00252889e-01],\n",
       "        [-2.78460984e-03],\n",
       "        [-2.01823875e-01],\n",
       "        [-1.45803911e-01],\n",
       "        [-2.40875639e-01]])]"
      ]
     },
     "execution_count": 13,
     "metadata": {},
     "output_type": "execute_result"
    }
   ],
   "source": [
    "mlp.coefs_  #coefficient\n",
    "# 밑에 있는 하나의 array가 bias: 계수들이 0으로 가는 것을 방지해서 처음에 1로 세팅"
   ]
  },
  {
   "cell_type": "code",
   "execution_count": 21,
   "metadata": {},
   "outputs": [
    {
     "ename": "AttributeError",
     "evalue": "'MLPClassifier' object has no attribute 'classes_'",
     "output_type": "error",
     "traceback": [
      "\u001b[1;31m---------------------------------------------------------------------------\u001b[0m",
      "\u001b[1;31mAttributeError\u001b[0m                            Traceback (most recent call last)",
      "\u001b[1;32m<ipython-input-21-047e42aa7b87>\u001b[0m in \u001b[0;36m<module>\u001b[1;34m\u001b[0m\n\u001b[1;32m----> 1\u001b[1;33m \u001b[0mmlp\u001b[0m\u001b[1;33m.\u001b[0m\u001b[0mclasses_\u001b[0m\u001b[1;33m\u001b[0m\u001b[1;33m\u001b[0m\u001b[0m\n\u001b[0m",
      "\u001b[1;31mAttributeError\u001b[0m: 'MLPClassifier' object has no attribute 'classes_'"
     ]
    }
   ],
   "source": [
    "mlp.classes_"
   ]
  },
  {
   "cell_type": "code",
   "execution_count": 22,
   "metadata": {},
   "outputs": [
    {
     "ename": "AttributeError",
     "evalue": "'MLPClassifier' object has no attribute 'n_outputs_'",
     "output_type": "error",
     "traceback": [
      "\u001b[1;31m---------------------------------------------------------------------------\u001b[0m",
      "\u001b[1;31mAttributeError\u001b[0m                            Traceback (most recent call last)",
      "\u001b[1;32m<ipython-input-22-ead137b8876d>\u001b[0m in \u001b[0;36m<module>\u001b[1;34m\u001b[0m\n\u001b[1;32m----> 1\u001b[1;33m \u001b[0mmlp\u001b[0m\u001b[1;33m.\u001b[0m\u001b[0mn_outputs_\u001b[0m\u001b[1;33m\u001b[0m\u001b[1;33m\u001b[0m\u001b[0m\n\u001b[0m",
      "\u001b[1;31mAttributeError\u001b[0m: 'MLPClassifier' object has no attribute 'n_outputs_'"
     ]
    }
   ],
   "source": [
    "mlp.n_outputs_"
   ]
  },
  {
   "cell_type": "code",
   "execution_count": 37,
   "metadata": {},
   "outputs": [
    {
     "data": {
      "text/plain": [
       "Text(0.5, 0, '특성 1')"
      ]
     },
     "execution_count": 37,
     "metadata": {},
     "output_type": "execute_result"
    },
    {
     "name": "stderr",
     "output_type": "stream",
     "text": [
      "C:\\Users\\ICT01_12\\Anaconda3\\lib\\site-packages\\matplotlib\\backends\\backend_agg.py:211: RuntimeWarning: Glyph 53945 missing from current font.\n",
      "  font.set_text(s, 0.0, flags=flags)\n",
      "C:\\Users\\ICT01_12\\Anaconda3\\lib\\site-packages\\matplotlib\\backends\\backend_agg.py:211: RuntimeWarning: Glyph 49457 missing from current font.\n",
      "  font.set_text(s, 0.0, flags=flags)\n",
      "C:\\Users\\ICT01_12\\Anaconda3\\lib\\site-packages\\matplotlib\\backends\\backend_agg.py:180: RuntimeWarning: Glyph 53945 missing from current font.\n",
      "  font.set_text(s, 0, flags=flags)\n",
      "C:\\Users\\ICT01_12\\Anaconda3\\lib\\site-packages\\matplotlib\\backends\\backend_agg.py:180: RuntimeWarning: Glyph 49457 missing from current font.\n",
      "  font.set_text(s, 0, flags=flags)\n"
     ]
    },
    {
     "data": {
      "image/png": "[encoded data removed]",
      "text/plain": [
       "<Figure size 432x288 with 1 Axes>"
      ]
     },
     "metadata": {},
     "output_type": "display_data"
    }
   ],
   "source": [
    "# SVM의 논리 : 고차원 데이터 확대 (고차원을 선호하는 모델)\n",
    "        #- 정확도가 높아\n",
    "        #- 과적합을 방지 ( 중앙을 찾아가기 때문에 )\n",
    "        #- SVC(Classifier), SVR(Regressor)\n",
    "mlp = MLPClassifier(solver = 'lbfgs', random_state = 0, hidden_layer_sizes = [10,5,10]) # 레이어를 3개 넣음\n",
    "# 10,10 으로 바꾸었더니 과적함 , 10일때와 10,10일때 비교 \n",
    "# 히든레이어 사이즈에서 10,10 은 무엇을 지정하는가? ==> 출력차수를 지정해주면된다. [10,10] 앞의 출력 차수 10만을 지정\n",
    "# 앞에 데이터에서 아래의 2와 10을 지정해놓는다. 즉 우리는 출력차수 추출할 특징수만 지정해놓으면 된다. \n",
    "# 입력차수는 지정하지 않는다. ---> 처음에 입력 데이터에서 결정이된다. \n",
    "# 히든레이어에 레이어를 10개 이상을 주면 기울기의 소실 문제가 발생한다. \n",
    "mlp.fit(X_train, y_train)\n",
    "# Multi layer => XOR  문제를 해결 , 레이어가 많으면 정밀도 자동으로 높아지는것을 발견했다. \n",
    "# 가중치가 완성\n",
    "mglearn.plots.plot_2d_separator(mlp, X_train, fill = True, alpha = .3)\n",
    "mglearn.discrete_scatter(X_train[:,0],X_train[:,1], y_train)\n",
    "plt.xlabel('특성 0')\n",
    "plt.xlabel('특성 1')"
   ]
  },
  {
   "cell_type": "code",
   "execution_count": 38,
   "metadata": {},
   "outputs": [
    {
     "data": {
      "text/plain": [
       "[array([[-1.11997758,  0.77870762,  0.10608173, -0.11192047, -0.10795773,\n",
       "          0.58572127, -0.08825628,  1.18180235,  0.2316036 ,  0.0186587 ],\n",
       "        [ 0.53029127,  0.29828643,  0.10994826,  0.62429293, -0.60658658,\n",
       "         -1.17566978, -0.67844649,  0.26155985,  0.4245725 ,  0.90807333]]),\n",
       " array([[-0.2177162 ,  0.44969659, -0.0968116 ,  0.08801976, -0.52708719,\n",
       "          0.21791137, -0.60181465,  0.29272469,  0.80474194,  0.40248417],\n",
       "        [-0.09087558, -0.05972668,  0.24904654, -0.16609283,  0.1826657 ,\n",
       "          0.2216314 , -0.72279586, -0.43148883, -0.86844636,  0.00945404],\n",
       "        [ 0.09362313, -0.06767749,  0.54453226, -0.38297982, -0.31887797,\n",
       "         -0.36184544,  0.14077892, -0.27101308, -0.15645894, -0.2733035 ],\n",
       "        [-0.30499631, -0.40444603,  0.32847897, -0.45109323, -0.33234447,\n",
       "         -0.09391939, -0.17274468, -0.40968932,  0.5566844 , -0.2580962 ],\n",
       "        [ 0.52188353, -0.03433749,  0.52221391,  0.11484114,  0.26207418,\n",
       "         -0.50474452, -0.2378995 , -0.41601264, -0.22329512, -0.41762152],\n",
       "        [-0.21692478, -0.07269008, -0.77167524,  0.48561193,  0.07295102,\n",
       "         -0.3186115 , -0.14526249, -0.41770293, -0.47806251,  0.72281068],\n",
       "        [-0.19872808,  0.18337073, -0.40330531,  0.23695112, -0.23067123,\n",
       "         -0.34701212,  0.09476079, -0.52564381,  0.36030008, -0.54252522],\n",
       "        [ 0.30641199, -0.26661007,  0.42033447,  0.97472879, -0.2751999 ,\n",
       "          0.15362051, -0.6239218 , -0.00159698, -0.9513202 ,  0.75607268],\n",
       "        [-0.03256418,  0.37920924,  0.25124534, -0.06660049,  0.34371426,\n",
       "         -0.04114297,  0.16013993,  0.08882989,  0.03762063,  0.28632906],\n",
       "        [ 0.33733942,  0.0188767 ,  0.64250618,  0.0895676 , -0.08340436,\n",
       "          0.16477223, -0.68726224, -0.20838476,  0.17520158, -0.21217542]]),\n",
       " array([[ 0.43485608, -0.14506434, -0.05459451,  0.42926412,  0.34351655,\n",
       "          0.29434739, -0.43241795,  0.45755395,  0.23466636,  0.54640543],\n",
       "        [-0.38259741,  0.40259391, -0.36947174,  0.12657663, -0.41322654,\n",
       "          0.46101314,  0.33070539,  0.07568857, -0.10166529, -0.4719072 ],\n",
       "        [ 0.12884212, -0.07688618,  0.01234592,  0.22826978, -0.09297067,\n",
       "          1.39102342, -0.54115094, -0.15648238,  0.07840043, -0.43516252],\n",
       "        [ 0.02304217, -0.48814995, -0.1680454 , -0.52738074,  0.52188246,\n",
       "         -0.57591337, -0.14074201,  0.47761928,  0.22390259, -0.512794  ],\n",
       "        [-0.36727279,  0.13305975,  0.08459131, -0.28709561,  0.47561052,\n",
       "          0.12483109,  0.03902992,  0.0984817 ,  0.2520611 , -0.20598355],\n",
       "        [-0.13175058, -0.33542181, -0.34444001,  0.37024515,  0.16606882,\n",
       "          0.55914093, -0.26195301, -0.26904077, -0.5964463 , -0.14171498],\n",
       "        [-0.62058758,  0.21506223, -0.13161292, -0.43114015, -0.51715239,\n",
       "         -0.08850885,  0.30428041, -0.05071754, -0.10714043, -0.1621189 ],\n",
       "        [ 0.54071287, -0.31014237,  0.18136191, -0.25924168, -0.52241393,\n",
       "          0.36734061, -0.2059829 , -0.12704412,  0.09673697,  0.3653681 ],\n",
       "        [ 0.01214357,  0.29473406, -0.23395725, -0.00520167, -0.73166677,\n",
       "          1.71880115,  0.18236433, -0.31161488,  0.11018783,  0.00195917],\n",
       "        [-1.06338094, -0.32443556,  0.38940832, -0.57318909,  0.3319026 ,\n",
       "         -0.76219713,  0.20253344, -0.016139  , -0.21486834, -1.07560169]]),\n",
       " array([[-0.26894298],\n",
       "        [ 0.6377588 ],\n",
       "        [ 0.22240165],\n",
       "        [ 0.28371512],\n",
       "        [ 0.43016571],\n",
       "        [-2.06342712],\n",
       "        [ 0.12253234],\n",
       "        [ 0.12405955],\n",
       "        [ 0.61892093],\n",
       "        [ 0.95296934]])]"
      ]
     },
     "execution_count": 38,
     "metadata": {},
     "output_type": "execute_result"
    }
   ],
   "source": [
    "# BLACK 박스 => 원인 규명\n",
    "mlp.coefs_\n",
    "# 2X10, bias 가 10\n",
    "# 히든레이어가 10,10일때\n",
    "# 변수는 2X10, 10X10 일때  10으로 나간다. "
   ]
  },
  {
   "cell_type": "code",
   "execution_count": 28,
   "metadata": {},
   "outputs": [
    {
     "data": {
      "text/plain": [
       "array([0, 1], dtype=int64)"
      ]
     },
     "execution_count": 28,
     "metadata": {},
     "output_type": "execute_result"
    }
   ],
   "source": [
    "mlp.classes_"
   ]
  },
  {
   "cell_type": "code",
   "execution_count": 44,
   "metadata": {},
   "outputs": [
    {
     "data": {
      "image/png": "[encoded data removed]",
      "text/plain": [
       "<Figure size 1440x576 with 8 Axes>"
      ]
     },
     "metadata": {},
     "output_type": "display_data"
    }
   ],
   "source": [
    "fig, axes = plt.subplots(2,4,figsize = (20,8))\n",
    "for axx, n_hidden_nodes in zip(axes, [10, 100]):\n",
    "    for ax, alpha in zip(axx, [0.1, 0.001, 0.0001, 0.00001]):\n",
    "        mlp = MLPClassifier(solver = 'lbfgs', random_state = 0, \n",
    "                           activation ='tanh',\n",
    "                           hidden_layer_sizes = [n_hidden_nodes,n_hidden_nodes], alpha = alpha)\n",
    "        mlp.fit(X_train, y_train)\n",
    "        mglearn.plots.plot_2d_separator(mlp, X_train, fill = True,\n",
    "                                       alpha = .3, ax=ax)\n",
    "        mglearn.discrete_scatter(X_train[:,0], X_train[:,1],\n",
    "                                y_train, ax= ax)\n",
    "        ax.set_title('n_hidden=[{}, {}]\\nalpha = {:.4f}'.format(n_hidden_nodes, n_hidden_nodes, alpha))\n",
    "        \n",
    "# alpha 값 == 규제 즉 알파값이 높아질수록 값이 선의 형태로 되어진다. "
   ]
  },
  {
   "cell_type": "code",
   "execution_count": 66,
   "metadata": {},
   "outputs": [
    {
     "name": "stdout",
     "output_type": "stream",
     "text": [
      " 유방암 데이터의 특성별 최대값:\n",
      "[2.811e+01 3.928e+01 1.885e+02 2.501e+03 1.634e-01 3.454e-01 4.268e-01\n",
      " 2.012e-01 3.040e-01 9.744e-02 2.873e+00 4.885e+00 2.198e+01 5.422e+02\n",
      " 3.113e-02 1.354e-01 3.960e-01 5.279e-02 7.895e-02 2.984e-02 3.604e+01\n",
      " 4.954e+01 2.512e+02 4.254e+03 2.226e-01 1.058e+00 1.252e+00 2.910e-01\n",
      " 6.638e-01 2.075e-01] \n",
      "{'data': array([[1.799e+01, 1.038e+01, 1.228e+02, ..., 2.654e-01, 4.601e-01,\n",
      "        1.189e-01],\n",
      "       [2.057e+01, 1.777e+01, 1.329e+02, ..., 1.860e-01, 2.750e-01,\n",
      "        8.902e-02],\n",
      "       [1.969e+01, 2.125e+01, 1.300e+02, ..., 2.430e-01, 3.613e-01,\n",
      "        8.758e-02],\n",
      "       ...,\n",
      "       [1.660e+01, 2.808e+01, 1.083e+02, ..., 1.418e-01, 2.218e-01,\n",
      "        7.820e-02],\n",
      "       [2.060e+01, 2.933e+01, 1.401e+02, ..., 2.650e-01, 4.087e-01,\n",
      "        1.240e-01],\n",
      "       [7.760e+00, 2.454e+01, 4.792e+01, ..., 0.000e+00, 2.871e-01,\n",
      "        7.039e-02]]), 'target': array([0, 0, 0, 0, 0, 0, 0, 0, 0, 0, 0, 0, 0, 0, 0, 0, 0, 0, 0, 1, 1, 1,\n",
      "       0, 0, 0, 0, 0, 0, 0, 0, 0, 0, 0, 0, 0, 0, 0, 1, 0, 0, 0, 0, 0, 0,\n",
      "       0, 0, 1, 0, 1, 1, 1, 1, 1, 0, 0, 1, 0, 0, 1, 1, 1, 1, 0, 1, 0, 0,\n",
      "       1, 1, 1, 1, 0, 1, 0, 0, 1, 0, 1, 0, 0, 1, 1, 1, 0, 0, 1, 0, 0, 0,\n",
      "       1, 1, 1, 0, 1, 1, 0, 0, 1, 1, 1, 0, 0, 1, 1, 1, 1, 0, 1, 1, 0, 1,\n",
      "       1, 1, 1, 1, 1, 1, 1, 0, 0, 0, 1, 0, 0, 1, 1, 1, 0, 0, 1, 0, 1, 0,\n",
      "       0, 1, 0, 0, 1, 1, 0, 1, 1, 0, 1, 1, 1, 1, 0, 1, 1, 1, 1, 1, 1, 1,\n",
      "       1, 1, 0, 1, 1, 1, 1, 0, 0, 1, 0, 1, 1, 0, 0, 1, 1, 0, 0, 1, 1, 1,\n",
      "       1, 0, 1, 1, 0, 0, 0, 1, 0, 1, 0, 1, 1, 1, 0, 1, 1, 0, 0, 1, 0, 0,\n",
      "       0, 0, 1, 0, 0, 0, 1, 0, 1, 0, 1, 1, 0, 1, 0, 0, 0, 0, 1, 1, 0, 0,\n",
      "       1, 1, 1, 0, 1, 1, 1, 1, 1, 0, 0, 1, 1, 0, 1, 1, 0, 0, 1, 0, 1, 1,\n",
      "       1, 1, 0, 1, 1, 1, 1, 1, 0, 1, 0, 0, 0, 0, 0, 0, 0, 0, 0, 0, 0, 0,\n",
      "       0, 0, 1, 1, 1, 1, 1, 1, 0, 1, 0, 1, 1, 0, 1, 1, 0, 1, 0, 0, 1, 1,\n",
      "       1, 1, 1, 1, 1, 1, 1, 1, 1, 1, 1, 0, 1, 1, 0, 1, 0, 1, 1, 1, 1, 1,\n",
      "       1, 1, 1, 1, 1, 1, 1, 1, 1, 0, 1, 1, 1, 0, 1, 0, 1, 1, 1, 1, 0, 0,\n",
      "       0, 1, 1, 1, 1, 0, 1, 0, 1, 0, 1, 1, 1, 0, 1, 1, 1, 1, 1, 1, 1, 0,\n",
      "       0, 0, 1, 1, 1, 1, 1, 1, 1, 1, 1, 1, 1, 0, 0, 1, 0, 0, 0, 1, 0, 0,\n",
      "       1, 1, 1, 1, 1, 0, 1, 1, 1, 1, 1, 0, 1, 1, 1, 0, 1, 1, 0, 0, 1, 1,\n",
      "       1, 1, 1, 1, 0, 1, 1, 1, 1, 1, 1, 1, 0, 1, 1, 1, 1, 1, 0, 1, 1, 0,\n",
      "       1, 1, 1, 1, 1, 1, 1, 1, 1, 1, 1, 1, 0, 1, 0, 0, 1, 0, 1, 1, 1, 1,\n",
      "       1, 0, 1, 1, 0, 1, 0, 1, 1, 0, 1, 0, 1, 1, 1, 1, 1, 1, 1, 1, 0, 0,\n",
      "       1, 1, 1, 1, 1, 1, 0, 1, 1, 1, 1, 1, 1, 1, 1, 1, 1, 0, 1, 1, 1, 1,\n",
      "       1, 1, 1, 0, 1, 0, 1, 1, 0, 1, 1, 1, 1, 1, 0, 0, 1, 0, 1, 0, 1, 1,\n",
      "       1, 1, 1, 0, 1, 1, 0, 1, 0, 1, 0, 0, 1, 1, 1, 0, 1, 1, 1, 1, 1, 1,\n",
      "       1, 1, 1, 1, 1, 0, 1, 0, 0, 1, 1, 1, 1, 1, 1, 1, 1, 1, 1, 1, 1, 1,\n",
      "       1, 1, 1, 1, 1, 1, 1, 1, 1, 1, 1, 1, 0, 0, 0, 0, 0, 0, 1]), 'target_names': array(['malignant', 'benign'], dtype='<U9'), 'DESCR': '.. _breast_cancer_dataset:\\n\\nBreast cancer wisconsin (diagnostic) dataset\\n--------------------------------------------\\n\\n**Data Set Characteristics:**\\n\\n    :Number of Instances: 569\\n\\n    :Number of Attributes: 30 numeric, predictive attributes and the class\\n\\n    :Attribute Information:\\n        - radius (mean of distances from center to points on the perimeter)\\n        - texture (standard deviation of gray-scale values)\\n        - perimeter\\n        - area\\n        - smoothness (local variation in radius lengths)\\n        - compactness (perimeter^2 / area - 1.0)\\n        - concavity (severity of concave portions of the contour)\\n        - concave points (number of concave portions of the contour)\\n        - symmetry \\n        - fractal dimension (\"coastline approximation\" - 1)\\n\\n        The mean, standard error, and \"worst\" or largest (mean of the three\\n        largest values) of these features were computed for each image,\\n        resulting in 30 features.  For instance, field 3 is Mean Radius, field\\n        13 is Radius SE, field 23 is Worst Radius.\\n\\n        - class:\\n                - WDBC-Malignant\\n                - WDBC-Benign\\n\\n    :Summary Statistics:\\n\\n    ===================================== ====== ======\\n                                           Min    Max\\n    ===================================== ====== ======\\n    radius (mean):                        6.981  28.11\\n    texture (mean):                       9.71   39.28\\n    perimeter (mean):                     43.79  188.5\\n    area (mean):                          143.5  2501.0\\n    smoothness (mean):                    0.053  0.163\\n    compactness (mean):                   0.019  0.345\\n    concavity (mean):                     0.0    0.427\\n    concave points (mean):                0.0    0.201\\n    symmetry (mean):                      0.106  0.304\\n    fractal dimension (mean):             0.05   0.097\\n    radius (standard error):              0.112  2.873\\n    texture (standard error):             0.36   4.885\\n    perimeter (standard error):           0.757  21.98\\n    area (standard error):                6.802  542.2\\n    smoothness (standard error):          0.002  0.031\\n    compactness (standard error):         0.002  0.135\\n    concavity (standard error):           0.0    0.396\\n    concave points (standard error):      0.0    0.053\\n    symmetry (standard error):            0.008  0.079\\n    fractal dimension (standard error):   0.001  0.03\\n    radius (worst):                       7.93   36.04\\n    texture (worst):                      12.02  49.54\\n    perimeter (worst):                    50.41  251.2\\n    area (worst):                         185.2  4254.0\\n    smoothness (worst):                   0.071  0.223\\n    compactness (worst):                  0.027  1.058\\n    concavity (worst):                    0.0    1.252\\n    concave points (worst):               0.0    0.291\\n    symmetry (worst):                     0.156  0.664\\n    fractal dimension (worst):            0.055  0.208\\n    ===================================== ====== ======\\n\\n    :Missing Attribute Values: None\\n\\n    :Class Distribution: 212 - Malignant, 357 - Benign\\n\\n    :Creator:  Dr. William H. Wolberg, W. Nick Street, Olvi L. Mangasarian\\n\\n    :Donor: Nick Street\\n\\n    :Date: November, 1995\\n\\nThis is a copy of UCI ML Breast Cancer Wisconsin (Diagnostic) datasets.\\nhttps://goo.gl/U2Uwz2\\n\\nFeatures are computed from a digitized image of a fine needle\\naspirate (FNA) of a breast mass.  They describe\\ncharacteristics of the cell nuclei present in the image.\\n\\nSeparating plane described above was obtained using\\nMultisurface Method-Tree (MSM-T) [K. P. Bennett, \"Decision Tree\\nConstruction Via Linear Programming.\" Proceedings of the 4th\\nMidwest Artificial Intelligence and Cognitive Science Society,\\npp. 97-101, 1992], a classification method which uses linear\\nprogramming to construct a decision tree.  Relevant features\\nwere selected using an exhaustive search in the space of 1-4\\nfeatures and 1-3 separating planes.\\n\\nThe actual linear program used to obtain the separating plane\\nin the 3-dimensional space is that described in:\\n[K. P. Bennett and O. L. Mangasarian: \"Robust Linear\\nProgramming Discrimination of Two Linearly Inseparable Sets\",\\nOptimization Methods and Software 1, 1992, 23-34].\\n\\nThis database is also available through the UW CS ftp server:\\n\\nftp ftp.cs.wisc.edu\\ncd math-prog/cpo-dataset/machine-learn/WDBC/\\n\\n.. topic:: References\\n\\n   - W.N. Street, W.H. Wolberg and O.L. Mangasarian. Nuclear feature extraction \\n     for breast tumor diagnosis. IS&T/SPIE 1993 International Symposium on \\n     Electronic Imaging: Science and Technology, volume 1905, pages 861-870,\\n     San Jose, CA, 1993.\\n   - O.L. Mangasarian, W.N. Street and W.H. Wolberg. Breast cancer diagnosis and \\n     prognosis via linear programming. Operations Research, 43(4), pages 570-577, \\n     July-August 1995.\\n   - W.H. Wolberg, W.N. Street, and O.L. Mangasarian. Machine learning techniques\\n     to diagnose breast cancer from fine-needle aspirates. Cancer Letters 77 (1994) \\n     163-171.', 'feature_names': array(['mean radius', 'mean texture', 'mean perimeter', 'mean area',\n",
      "       'mean smoothness', 'mean compactness', 'mean concavity',\n",
      "       'mean concave points', 'mean symmetry', 'mean fractal dimension',\n",
      "       'radius error', 'texture error', 'perimeter error', 'area error',\n",
      "       'smoothness error', 'compactness error', 'concavity error',\n",
      "       'concave points error', 'symmetry error',\n",
      "       'fractal dimension error', 'worst radius', 'worst texture',\n",
      "       'worst perimeter', 'worst area', 'worst smoothness',\n",
      "       'worst compactness', 'worst concavity', 'worst concave points',\n",
      "       'worst symmetry', 'worst fractal dimension'], dtype='<U23'), 'filename': 'C:\\\\Users\\\\ICT01_12\\\\Anaconda3\\\\lib\\\\site-packages\\\\sklearn\\\\datasets\\\\data\\\\breast_cancer.csv'}\n"
     ]
    }
   ],
   "source": [
    "from sklearn.datasets import load_breast_cancer\n",
    "cancer = load_breast_cancer()\n",
    "print(' 유방암 데이터의 특성별 최대값:\\n{} '.format(cancer.data.max(axis=0)))\n"
   ]
  },
  {
   "cell_type": "code",
   "execution_count": 48,
   "metadata": {},
   "outputs": [
    {
     "name": "stdout",
     "output_type": "stream",
     "text": [
      "훈련 세트 정확도:0.94\n",
      "테스트 세트 정확도:0.92\n"
     ]
    },
    {
     "data": {
      "text/plain": [
       "MLPClassifier(activation='relu', alpha=0.0001, batch_size='auto', beta_1=0.9,\n",
       "              beta_2=0.999, early_stopping=False, epsilon=1e-08,\n",
       "              hidden_layer_sizes=(100,), learning_rate='constant',\n",
       "              learning_rate_init=0.001, max_iter=200, momentum=0.9,\n",
       "              n_iter_no_change=10, nesterovs_momentum=True, power_t=0.5,\n",
       "              random_state=42, shuffle=True, solver='adam', tol=0.0001,\n",
       "              validation_fraction=0.1, verbose=False, warm_start=False)"
      ]
     },
     "execution_count": 48,
     "metadata": {},
     "output_type": "execute_result"
    }
   ],
   "source": [
    "X_train, X_test, y_train, y_test = train_test_split(\n",
    "cancer.data, cancer.target, random_state = 0)\n",
    "mlp = MLPClassifier(random_state = 42)   # 디폴트 값\n",
    "mlp.fit(X_train, y_train)    # 피팅한다==> 가중치 결정. \n",
    "print('훈련 세트 정확도:{:.2f}'.format(mlp.score(X_train, y_train)))          \n",
    "\n",
    "print('테스트 세트 정확도:{:.2f}'.format(mlp.score(X_test, y_test)))\n",
    "mlp\n",
    "\n",
    "# parameter tuning"
   ]
  },
  {
   "cell_type": "code",
   "execution_count": 50,
   "metadata": {},
   "outputs": [
    {
     "name": "stdout",
     "output_type": "stream",
     "text": [
      "훈련 세트 정확도:0.991\n",
      "테스트 세트 정확도:0.965\n"
     ]
    },
    {
     "name": "stderr",
     "output_type": "stream",
     "text": [
      "C:\\Users\\ICT01_12\\Anaconda3\\lib\\site-packages\\sklearn\\neural_network\\multilayer_perceptron.py:566: ConvergenceWarning: Stochastic Optimizer: Maximum iterations (200) reached and the optimization hasn't converged yet.\n",
      "  % self.max_iter, ConvergenceWarning)\n"
     ]
    }
   ],
   "source": [
    "# 전처리 스케일링에 민감하다. \n",
    "\n",
    "mean_on_train = X_train.mean(axis = 0)   # 평균\n",
    "std_on_train = X_train.std(axis = 0)    # 표준편차\n",
    "\n",
    "# Z점수 표준화 \n",
    "X_train_scaled = (X_train - mean_on_train)/ std_on_train\n",
    "X_test_scaled = (X_test - mean_on_train)/std_on_train\n",
    "\n",
    "mlp = MLPClassifier(random_state = 0)\n",
    "mlp.fit(X_train_scaled, y_train)\n",
    "\n",
    "print('훈련 세트 정확도:{:.3f}'.format(mlp.score(X_train_scaled, y_train)))\n",
    "print('테스트 세트 정확도:{:.3f}'.format(mlp.score(X_test_scaled, y_test)))\n"
   ]
  },
  {
   "cell_type": "code",
   "execution_count": 51,
   "metadata": {},
   "outputs": [
    {
     "name": "stdout",
     "output_type": "stream",
     "text": [
      "훈련 세트 정확도:1.000\n",
      "테스트 세트 정확도:0.972\n"
     ]
    }
   ],
   "source": [
    "mlp = MLPClassifier(max_iter = 1000, random_state = 0)\n",
    "mlp.fit(X_train_scaled, y_train)\n",
    "\n",
    "print('훈련 세트 정확도:{:.3f}'.format(mlp.score(X_train_scaled, y_train)))\n",
    "print('테스트 세트 정확도:{:.3f}'.format(mlp.score(X_test_scaled, y_test)))"
   ]
  },
  {
   "cell_type": "code",
   "execution_count": 53,
   "metadata": {},
   "outputs": [
    {
     "name": "stdout",
     "output_type": "stream",
     "text": [
      "훈련 세트 정확도:0.988\n",
      "테스트 세트 정확도:0.972\n"
     ]
    }
   ],
   "source": [
    "# 규제를 줘보자\n",
    "\n",
    "mlp = MLPClassifier(max_iter = 1000, alpha = 1, random_state = 0)\n",
    "mlp.fit(X_train_scaled , y_train)\n",
    "print('훈련 세트 정확도:{:.3f}'.format(mlp.score(X_train_scaled, y_train)))\n",
    "print('테스트 세트 정확도:{:.3f}'.format(mlp.score(X_test_scaled, y_test)))"
   ]
  },
  {
   "cell_type": "code",
   "execution_count": 56,
   "metadata": {},
   "outputs": [
    {
     "data": {
      "text/plain": [
       "[array([[ 1.38710846e-02, -2.50121951e-02,  3.66222579e-02, ...,\n",
       "         -3.47572622e-02, -2.24282383e-03, -1.97638723e-02],\n",
       "        [ 1.26462143e-02, -6.82790623e-02,  3.70303247e-02, ...,\n",
       "         -3.34389785e-02, -1.21200193e-02, -6.54680585e-02],\n",
       "        [ 8.50428302e-03, -2.63297307e-02,  2.95094391e-02, ...,\n",
       "         -1.72355685e-02,  1.05053722e-03, -1.30428184e-02],\n",
       "        ...,\n",
       "        [ 3.01969223e-03, -5.25847578e-02,  6.51799188e-02, ...,\n",
       "         -4.07129917e-02, -3.25647552e-03, -3.30615217e-02],\n",
       "        [-1.19219311e-03, -2.78480036e-02,  2.08436140e-02, ...,\n",
       "         -2.74572097e-02,  5.09456645e-05, -2.03324679e-02],\n",
       "        [-2.15747657e-02, -2.94202234e-02,  3.25639515e-02, ...,\n",
       "         -2.14904553e-02, -4.01600447e-03, -2.92891532e-02]]),\n",
       " array([[-0.09540798],\n",
       "        [ 0.23756701],\n",
       "        [-0.19771946],\n",
       "        [ 0.30384496],\n",
       "        [ 0.16202467],\n",
       "        [-0.00111623],\n",
       "        [ 0.18081763],\n",
       "        [ 0.08990004],\n",
       "        [ 0.2707616 ],\n",
       "        [-0.26194311],\n",
       "        [-0.05209011],\n",
       "        [ 0.20382729],\n",
       "        [-0.18331047],\n",
       "        [ 0.27394575],\n",
       "        [-0.01652826],\n",
       "        [-0.09044238],\n",
       "        [-0.14065305],\n",
       "        [ 0.18250251],\n",
       "        [ 0.19683819],\n",
       "        [-0.18195574],\n",
       "        [ 0.23720224],\n",
       "        [ 0.15746087],\n",
       "        [-0.20103266],\n",
       "        [-0.01751928],\n",
       "        [ 0.01634142],\n",
       "        [-0.23900311],\n",
       "        [-0.03765027],\n",
       "        [-0.11241846],\n",
       "        [-0.35535746],\n",
       "        [-0.20010286],\n",
       "        [-0.13776849],\n",
       "        [-0.00860848],\n",
       "        [ 0.13419139],\n",
       "        [ 0.18900764],\n",
       "        [-0.21106494],\n",
       "        [ 0.14613838],\n",
       "        [ 0.03933234],\n",
       "        [ 0.24927712],\n",
       "        [ 0.35829181],\n",
       "        [-0.15230509],\n",
       "        [-0.16605026],\n",
       "        [ 0.20874943],\n",
       "        [-0.3036428 ],\n",
       "        [-0.07467641],\n",
       "        [ 0.23188861],\n",
       "        [ 0.23620018],\n",
       "        [-0.17854493],\n",
       "        [ 0.22343896],\n",
       "        [ 0.0454169 ],\n",
       "        [ 0.14008441],\n",
       "        [ 0.00172307],\n",
       "        [ 0.13886504],\n",
       "        [-0.22051553],\n",
       "        [ 0.14909446],\n",
       "        [-0.23292065],\n",
       "        [-0.08241512],\n",
       "        [-0.08422326],\n",
       "        [ 0.18277938],\n",
       "        [ 0.03457711],\n",
       "        [ 0.30085067],\n",
       "        [ 0.11130794],\n",
       "        [-0.2654791 ],\n",
       "        [-0.12111639],\n",
       "        [-0.15866821],\n",
       "        [-0.31118166],\n",
       "        [-0.00937106],\n",
       "        [ 0.21855607],\n",
       "        [ 0.27409064],\n",
       "        [-0.14964196],\n",
       "        [ 0.14128948],\n",
       "        [ 0.17804569],\n",
       "        [-0.18619982],\n",
       "        [ 0.15170124],\n",
       "        [-0.07942989],\n",
       "        [ 0.08225573],\n",
       "        [-0.11482814],\n",
       "        [-0.09635392],\n",
       "        [-0.15785392],\n",
       "        [-0.15279882],\n",
       "        [-0.22801415],\n",
       "        [-0.11766693],\n",
       "        [-0.0267861 ],\n",
       "        [-0.27060303],\n",
       "        [ 0.19140944],\n",
       "        [ 0.20069192],\n",
       "        [ 0.00156441],\n",
       "        [-0.24046826],\n",
       "        [ 0.13195541],\n",
       "        [-0.31435476],\n",
       "        [-0.15406926],\n",
       "        [-0.18134032],\n",
       "        [-0.0764512 ],\n",
       "        [-0.0205179 ],\n",
       "        [ 0.17301128],\n",
       "        [ 0.19272225],\n",
       "        [ 0.08030601],\n",
       "        [ 0.31360355],\n",
       "        [ 0.17414058],\n",
       "        [ 0.02295324],\n",
       "        [ 0.17066523]])]"
      ]
     },
     "execution_count": 56,
     "metadata": {},
     "output_type": "execute_result"
    }
   ],
   "source": [
    "mlp.coefs_"
   ]
  },
  {
   "cell_type": "code",
   "execution_count": 57,
   "metadata": {},
   "outputs": [
    {
     "data": {
      "text/plain": [
       "<matplotlib.colorbar.Colorbar at 0x24699258b48>"
      ]
     },
     "execution_count": 57,
     "metadata": {},
     "output_type": "execute_result"
    },
    {
     "name": "stderr",
     "output_type": "stream",
     "text": [
      "C:\\Users\\ICT01_12\\Anaconda3\\lib\\site-packages\\matplotlib\\backends\\backend_agg.py:211: RuntimeWarning: Glyph 51008 missing from current font.\n",
      "  font.set_text(s, 0.0, flags=flags)\n",
      "C:\\Users\\ICT01_12\\Anaconda3\\lib\\site-packages\\matplotlib\\backends\\backend_agg.py:211: RuntimeWarning: Glyph 45769 missing from current font.\n",
      "  font.set_text(s, 0.0, flags=flags)\n",
      "C:\\Users\\ICT01_12\\Anaconda3\\lib\\site-packages\\matplotlib\\backends\\backend_agg.py:211: RuntimeWarning: Glyph 50976 missing from current font.\n",
      "  font.set_text(s, 0.0, flags=flags)\n",
      "C:\\Users\\ICT01_12\\Anaconda3\\lib\\site-packages\\matplotlib\\backends\\backend_agg.py:211: RuntimeWarning: Glyph 45787 missing from current font.\n",
      "  font.set_text(s, 0.0, flags=flags)\n",
      "C:\\Users\\ICT01_12\\Anaconda3\\lib\\site-packages\\matplotlib\\backends\\backend_agg.py:180: RuntimeWarning: Glyph 51008 missing from current font.\n",
      "  font.set_text(s, 0, flags=flags)\n",
      "C:\\Users\\ICT01_12\\Anaconda3\\lib\\site-packages\\matplotlib\\backends\\backend_agg.py:180: RuntimeWarning: Glyph 45769 missing from current font.\n",
      "  font.set_text(s, 0, flags=flags)\n",
      "C:\\Users\\ICT01_12\\Anaconda3\\lib\\site-packages\\matplotlib\\backends\\backend_agg.py:180: RuntimeWarning: Glyph 50976 missing from current font.\n",
      "  font.set_text(s, 0, flags=flags)\n",
      "C:\\Users\\ICT01_12\\Anaconda3\\lib\\site-packages\\matplotlib\\backends\\backend_agg.py:180: RuntimeWarning: Glyph 45787 missing from current font.\n",
      "  font.set_text(s, 0, flags=flags)\n",
      "C:\\Users\\ICT01_12\\Anaconda3\\lib\\site-packages\\matplotlib\\backends\\backend_agg.py:211: RuntimeWarning: Glyph 51077 missing from current font.\n",
      "  font.set_text(s, 0.0, flags=flags)\n",
      "C:\\Users\\ICT01_12\\Anaconda3\\lib\\site-packages\\matplotlib\\backends\\backend_agg.py:211: RuntimeWarning: Glyph 47141 missing from current font.\n",
      "  font.set_text(s, 0.0, flags=flags)\n",
      "C:\\Users\\ICT01_12\\Anaconda3\\lib\\site-packages\\matplotlib\\backends\\backend_agg.py:211: RuntimeWarning: Glyph 53945 missing from current font.\n",
      "  font.set_text(s, 0.0, flags=flags)\n",
      "C:\\Users\\ICT01_12\\Anaconda3\\lib\\site-packages\\matplotlib\\backends\\backend_agg.py:211: RuntimeWarning: Glyph 49457 missing from current font.\n",
      "  font.set_text(s, 0.0, flags=flags)\n",
      "C:\\Users\\ICT01_12\\Anaconda3\\lib\\site-packages\\matplotlib\\backends\\backend_agg.py:180: RuntimeWarning: Glyph 51077 missing from current font.\n",
      "  font.set_text(s, 0, flags=flags)\n",
      "C:\\Users\\ICT01_12\\Anaconda3\\lib\\site-packages\\matplotlib\\backends\\backend_agg.py:180: RuntimeWarning: Glyph 47141 missing from current font.\n",
      "  font.set_text(s, 0, flags=flags)\n",
      "C:\\Users\\ICT01_12\\Anaconda3\\lib\\site-packages\\matplotlib\\backends\\backend_agg.py:180: RuntimeWarning: Glyph 53945 missing from current font.\n",
      "  font.set_text(s, 0, flags=flags)\n",
      "C:\\Users\\ICT01_12\\Anaconda3\\lib\\site-packages\\matplotlib\\backends\\backend_agg.py:180: RuntimeWarning: Glyph 49457 missing from current font.\n",
      "  font.set_text(s, 0, flags=flags)\n"
     ]
    },
    {
     "data": {
      "image/png": "[encoded data removed]",
      "text/plain": [
       "<Figure size 1440x360 with 2 Axes>"
      ]
     },
     "metadata": {
      "needs_background": "light"
     },
     "output_type": "display_data"
    }
   ],
   "source": [
    "plt.figure(figsize = (20,5))\n",
    "plt.imshow(mlp.coefs_[0], interpolation = 'none', cmap ='viridis')\n",
    "plt.yticks(range(30), cancer.feature_names)\n",
    "plt.xlabel('은닉 유닛')\n",
    "plt.ylabel('입력 특성')\n",
    "plt.colorbar()"
   ]
  },
  {
   "cell_type": "code",
   "execution_count": 59,
   "metadata": {
    "scrolled": true
   },
   "outputs": [
    {
     "data": {
      "text/html": [
       "<div>\n",
       "<style scoped>\n",
       "    .dataframe tbody tr th:only-of-type {\n",
       "        vertical-align: middle;\n",
       "    }\n",
       "\n",
       "    .dataframe tbody tr th {\n",
       "        vertical-align: top;\n",
       "    }\n",
       "\n",
       "    .dataframe thead th {\n",
       "        text-align: right;\n",
       "    }\n",
       "</style>\n",
       "<table border=\"1\" class=\"dataframe\">\n",
       "  <thead>\n",
       "    <tr style=\"text-align: right;\">\n",
       "      <th></th>\n",
       "      <th>1</th>\n",
       "      <th>14.23</th>\n",
       "      <th>1.71</th>\n",
       "      <th>2.43</th>\n",
       "      <th>15.6</th>\n",
       "      <th>127</th>\n",
       "      <th>2.8</th>\n",
       "      <th>3.06</th>\n",
       "      <th>.28</th>\n",
       "      <th>2.29</th>\n",
       "      <th>5.64</th>\n",
       "      <th>1.04</th>\n",
       "      <th>3.92</th>\n",
       "      <th>1065</th>\n",
       "    </tr>\n",
       "  </thead>\n",
       "  <tbody>\n",
       "    <tr>\n",
       "      <td>0</td>\n",
       "      <td>1</td>\n",
       "      <td>13.20</td>\n",
       "      <td>1.78</td>\n",
       "      <td>2.14</td>\n",
       "      <td>11.2</td>\n",
       "      <td>100</td>\n",
       "      <td>2.65</td>\n",
       "      <td>2.76</td>\n",
       "      <td>0.26</td>\n",
       "      <td>1.28</td>\n",
       "      <td>4.38</td>\n",
       "      <td>1.05</td>\n",
       "      <td>3.40</td>\n",
       "      <td>1050</td>\n",
       "    </tr>\n",
       "    <tr>\n",
       "      <td>1</td>\n",
       "      <td>1</td>\n",
       "      <td>13.16</td>\n",
       "      <td>2.36</td>\n",
       "      <td>2.67</td>\n",
       "      <td>18.6</td>\n",
       "      <td>101</td>\n",
       "      <td>2.80</td>\n",
       "      <td>3.24</td>\n",
       "      <td>0.30</td>\n",
       "      <td>2.81</td>\n",
       "      <td>5.68</td>\n",
       "      <td>1.03</td>\n",
       "      <td>3.17</td>\n",
       "      <td>1185</td>\n",
       "    </tr>\n",
       "    <tr>\n",
       "      <td>2</td>\n",
       "      <td>1</td>\n",
       "      <td>14.37</td>\n",
       "      <td>1.95</td>\n",
       "      <td>2.50</td>\n",
       "      <td>16.8</td>\n",
       "      <td>113</td>\n",
       "      <td>3.85</td>\n",
       "      <td>3.49</td>\n",
       "      <td>0.24</td>\n",
       "      <td>2.18</td>\n",
       "      <td>7.80</td>\n",
       "      <td>0.86</td>\n",
       "      <td>3.45</td>\n",
       "      <td>1480</td>\n",
       "    </tr>\n",
       "    <tr>\n",
       "      <td>3</td>\n",
       "      <td>1</td>\n",
       "      <td>13.24</td>\n",
       "      <td>2.59</td>\n",
       "      <td>2.87</td>\n",
       "      <td>21.0</td>\n",
       "      <td>118</td>\n",
       "      <td>2.80</td>\n",
       "      <td>2.69</td>\n",
       "      <td>0.39</td>\n",
       "      <td>1.82</td>\n",
       "      <td>4.32</td>\n",
       "      <td>1.04</td>\n",
       "      <td>2.93</td>\n",
       "      <td>735</td>\n",
       "    </tr>\n",
       "    <tr>\n",
       "      <td>4</td>\n",
       "      <td>1</td>\n",
       "      <td>14.20</td>\n",
       "      <td>1.76</td>\n",
       "      <td>2.45</td>\n",
       "      <td>15.2</td>\n",
       "      <td>112</td>\n",
       "      <td>3.27</td>\n",
       "      <td>3.39</td>\n",
       "      <td>0.34</td>\n",
       "      <td>1.97</td>\n",
       "      <td>6.75</td>\n",
       "      <td>1.05</td>\n",
       "      <td>2.85</td>\n",
       "      <td>1450</td>\n",
       "    </tr>\n",
       "    <tr>\n",
       "      <td>...</td>\n",
       "      <td>...</td>\n",
       "      <td>...</td>\n",
       "      <td>...</td>\n",
       "      <td>...</td>\n",
       "      <td>...</td>\n",
       "      <td>...</td>\n",
       "      <td>...</td>\n",
       "      <td>...</td>\n",
       "      <td>...</td>\n",
       "      <td>...</td>\n",
       "      <td>...</td>\n",
       "      <td>...</td>\n",
       "      <td>...</td>\n",
       "      <td>...</td>\n",
       "    </tr>\n",
       "    <tr>\n",
       "      <td>172</td>\n",
       "      <td>3</td>\n",
       "      <td>13.71</td>\n",
       "      <td>5.65</td>\n",
       "      <td>2.45</td>\n",
       "      <td>20.5</td>\n",
       "      <td>95</td>\n",
       "      <td>1.68</td>\n",
       "      <td>0.61</td>\n",
       "      <td>0.52</td>\n",
       "      <td>1.06</td>\n",
       "      <td>7.70</td>\n",
       "      <td>0.64</td>\n",
       "      <td>1.74</td>\n",
       "      <td>740</td>\n",
       "    </tr>\n",
       "    <tr>\n",
       "      <td>173</td>\n",
       "      <td>3</td>\n",
       "      <td>13.40</td>\n",
       "      <td>3.91</td>\n",
       "      <td>2.48</td>\n",
       "      <td>23.0</td>\n",
       "      <td>102</td>\n",
       "      <td>1.80</td>\n",
       "      <td>0.75</td>\n",
       "      <td>0.43</td>\n",
       "      <td>1.41</td>\n",
       "      <td>7.30</td>\n",
       "      <td>0.70</td>\n",
       "      <td>1.56</td>\n",
       "      <td>750</td>\n",
       "    </tr>\n",
       "    <tr>\n",
       "      <td>174</td>\n",
       "      <td>3</td>\n",
       "      <td>13.27</td>\n",
       "      <td>4.28</td>\n",
       "      <td>2.26</td>\n",
       "      <td>20.0</td>\n",
       "      <td>120</td>\n",
       "      <td>1.59</td>\n",
       "      <td>0.69</td>\n",
       "      <td>0.43</td>\n",
       "      <td>1.35</td>\n",
       "      <td>10.20</td>\n",
       "      <td>0.59</td>\n",
       "      <td>1.56</td>\n",
       "      <td>835</td>\n",
       "    </tr>\n",
       "    <tr>\n",
       "      <td>175</td>\n",
       "      <td>3</td>\n",
       "      <td>13.17</td>\n",
       "      <td>2.59</td>\n",
       "      <td>2.37</td>\n",
       "      <td>20.0</td>\n",
       "      <td>120</td>\n",
       "      <td>1.65</td>\n",
       "      <td>0.68</td>\n",
       "      <td>0.53</td>\n",
       "      <td>1.46</td>\n",
       "      <td>9.30</td>\n",
       "      <td>0.60</td>\n",
       "      <td>1.62</td>\n",
       "      <td>840</td>\n",
       "    </tr>\n",
       "    <tr>\n",
       "      <td>176</td>\n",
       "      <td>3</td>\n",
       "      <td>14.13</td>\n",
       "      <td>4.10</td>\n",
       "      <td>2.74</td>\n",
       "      <td>24.5</td>\n",
       "      <td>96</td>\n",
       "      <td>2.05</td>\n",
       "      <td>0.76</td>\n",
       "      <td>0.56</td>\n",
       "      <td>1.35</td>\n",
       "      <td>9.20</td>\n",
       "      <td>0.61</td>\n",
       "      <td>1.60</td>\n",
       "      <td>560</td>\n",
       "    </tr>\n",
       "  </tbody>\n",
       "</table>\n",
       "<p>177 rows × 14 columns</p>\n",
       "</div>"
      ],
      "text/plain": [
       "     1  14.23  1.71  2.43  15.6  127   2.8  3.06   .28  2.29   5.64  1.04  \\\n",
       "0    1  13.20  1.78  2.14  11.2  100  2.65  2.76  0.26  1.28   4.38  1.05   \n",
       "1    1  13.16  2.36  2.67  18.6  101  2.80  3.24  0.30  2.81   5.68  1.03   \n",
       "2    1  14.37  1.95  2.50  16.8  113  3.85  3.49  0.24  2.18   7.80  0.86   \n",
       "3    1  13.24  2.59  2.87  21.0  118  2.80  2.69  0.39  1.82   4.32  1.04   \n",
       "4    1  14.20  1.76  2.45  15.2  112  3.27  3.39  0.34  1.97   6.75  1.05   \n",
       "..  ..    ...   ...   ...   ...  ...   ...   ...   ...   ...    ...   ...   \n",
       "172  3  13.71  5.65  2.45  20.5   95  1.68  0.61  0.52  1.06   7.70  0.64   \n",
       "173  3  13.40  3.91  2.48  23.0  102  1.80  0.75  0.43  1.41   7.30  0.70   \n",
       "174  3  13.27  4.28  2.26  20.0  120  1.59  0.69  0.43  1.35  10.20  0.59   \n",
       "175  3  13.17  2.59  2.37  20.0  120  1.65  0.68  0.53  1.46   9.30  0.60   \n",
       "176  3  14.13  4.10  2.74  24.5   96  2.05  0.76  0.56  1.35   9.20  0.61   \n",
       "\n",
       "     3.92  1065  \n",
       "0    3.40  1050  \n",
       "1    3.17  1185  \n",
       "2    3.45  1480  \n",
       "3    2.93   735  \n",
       "4    2.85  1450  \n",
       "..    ...   ...  \n",
       "172  1.74   740  \n",
       "173  1.56   750  \n",
       "174  1.56   835  \n",
       "175  1.62   840  \n",
       "176  1.60   560  \n",
       "\n",
       "[177 rows x 14 columns]"
      ]
     },
     "execution_count": 59,
     "metadata": {},
     "output_type": "execute_result"
    }
   ],
   "source": [
    "import pandas as pd\n",
    "wine = pd.read_csv('wine_data.csv')\n",
    "wine"
   ]
  },
  {
   "cell_type": "code",
   "execution_count": 131,
   "metadata": {},
   "outputs": [],
   "source": [
    "import pandas as pd\n",
    "\n",
    "wine = pd.read_csv('./wine_data.csv', names = [\"Cultivator\", \"Alchol\", \"Malic_Acid\", \"Ash\",\n",
    "                                             \"Alcalinity_of_Ash\", \"Magnesium\", \"Total_phenols\",\n",
    "                                             \"Falvanoids\", \"Nonflavanoid_phenols\",\n",
    "                                             \"Proanthocyanins\", \"Color_intensity\", \"Hue\",\n",
    "                                             \"OD280\", \"Proline\"], encoding=\"utf-8\") "
   ]
  },
  {
   "cell_type": "code",
   "execution_count": 109,
   "metadata": {},
   "outputs": [
    {
     "data": {
      "text/html": [
       "<div>\n",
       "<style scoped>\n",
       "    .dataframe tbody tr th:only-of-type {\n",
       "        vertical-align: middle;\n",
       "    }\n",
       "\n",
       "    .dataframe tbody tr th {\n",
       "        vertical-align: top;\n",
       "    }\n",
       "\n",
       "    .dataframe thead th {\n",
       "        text-align: right;\n",
       "    }\n",
       "</style>\n",
       "<table border=\"1\" class=\"dataframe\">\n",
       "  <thead>\n",
       "    <tr style=\"text-align: right;\">\n",
       "      <th></th>\n",
       "      <th>Cultivator</th>\n",
       "      <th>Alchol</th>\n",
       "      <th>Malic_Acid</th>\n",
       "      <th>Ash</th>\n",
       "      <th>Alcalinity_of_Ash</th>\n",
       "      <th>Magnesium</th>\n",
       "      <th>Total_phenols</th>\n",
       "      <th>Falvanoids</th>\n",
       "      <th>Nonflavanoid_phenols</th>\n",
       "      <th>Proanthocyanins</th>\n",
       "      <th>Color_intensity</th>\n",
       "      <th>Hue</th>\n",
       "      <th>OD280</th>\n",
       "      <th>Proline</th>\n",
       "    </tr>\n",
       "  </thead>\n",
       "  <tbody>\n",
       "    <tr>\n",
       "      <td>0</td>\n",
       "      <td>1</td>\n",
       "      <td>14.23</td>\n",
       "      <td>1.71</td>\n",
       "      <td>2.43</td>\n",
       "      <td>15.6</td>\n",
       "      <td>127</td>\n",
       "      <td>2.80</td>\n",
       "      <td>3.06</td>\n",
       "      <td>0.28</td>\n",
       "      <td>2.29</td>\n",
       "      <td>5.64</td>\n",
       "      <td>1.04</td>\n",
       "      <td>3.92</td>\n",
       "      <td>1065</td>\n",
       "    </tr>\n",
       "    <tr>\n",
       "      <td>1</td>\n",
       "      <td>1</td>\n",
       "      <td>13.20</td>\n",
       "      <td>1.78</td>\n",
       "      <td>2.14</td>\n",
       "      <td>11.2</td>\n",
       "      <td>100</td>\n",
       "      <td>2.65</td>\n",
       "      <td>2.76</td>\n",
       "      <td>0.26</td>\n",
       "      <td>1.28</td>\n",
       "      <td>4.38</td>\n",
       "      <td>1.05</td>\n",
       "      <td>3.40</td>\n",
       "      <td>1050</td>\n",
       "    </tr>\n",
       "    <tr>\n",
       "      <td>2</td>\n",
       "      <td>1</td>\n",
       "      <td>13.16</td>\n",
       "      <td>2.36</td>\n",
       "      <td>2.67</td>\n",
       "      <td>18.6</td>\n",
       "      <td>101</td>\n",
       "      <td>2.80</td>\n",
       "      <td>3.24</td>\n",
       "      <td>0.30</td>\n",
       "      <td>2.81</td>\n",
       "      <td>5.68</td>\n",
       "      <td>1.03</td>\n",
       "      <td>3.17</td>\n",
       "      <td>1185</td>\n",
       "    </tr>\n",
       "    <tr>\n",
       "      <td>3</td>\n",
       "      <td>1</td>\n",
       "      <td>14.37</td>\n",
       "      <td>1.95</td>\n",
       "      <td>2.50</td>\n",
       "      <td>16.8</td>\n",
       "      <td>113</td>\n",
       "      <td>3.85</td>\n",
       "      <td>3.49</td>\n",
       "      <td>0.24</td>\n",
       "      <td>2.18</td>\n",
       "      <td>7.80</td>\n",
       "      <td>0.86</td>\n",
       "      <td>3.45</td>\n",
       "      <td>1480</td>\n",
       "    </tr>\n",
       "    <tr>\n",
       "      <td>4</td>\n",
       "      <td>1</td>\n",
       "      <td>13.24</td>\n",
       "      <td>2.59</td>\n",
       "      <td>2.87</td>\n",
       "      <td>21.0</td>\n",
       "      <td>118</td>\n",
       "      <td>2.80</td>\n",
       "      <td>2.69</td>\n",
       "      <td>0.39</td>\n",
       "      <td>1.82</td>\n",
       "      <td>4.32</td>\n",
       "      <td>1.04</td>\n",
       "      <td>2.93</td>\n",
       "      <td>735</td>\n",
       "    </tr>\n",
       "    <tr>\n",
       "      <td>...</td>\n",
       "      <td>...</td>\n",
       "      <td>...</td>\n",
       "      <td>...</td>\n",
       "      <td>...</td>\n",
       "      <td>...</td>\n",
       "      <td>...</td>\n",
       "      <td>...</td>\n",
       "      <td>...</td>\n",
       "      <td>...</td>\n",
       "      <td>...</td>\n",
       "      <td>...</td>\n",
       "      <td>...</td>\n",
       "      <td>...</td>\n",
       "      <td>...</td>\n",
       "    </tr>\n",
       "    <tr>\n",
       "      <td>173</td>\n",
       "      <td>3</td>\n",
       "      <td>13.71</td>\n",
       "      <td>5.65</td>\n",
       "      <td>2.45</td>\n",
       "      <td>20.5</td>\n",
       "      <td>95</td>\n",
       "      <td>1.68</td>\n",
       "      <td>0.61</td>\n",
       "      <td>0.52</td>\n",
       "      <td>1.06</td>\n",
       "      <td>7.70</td>\n",
       "      <td>0.64</td>\n",
       "      <td>1.74</td>\n",
       "      <td>740</td>\n",
       "    </tr>\n",
       "    <tr>\n",
       "      <td>174</td>\n",
       "      <td>3</td>\n",
       "      <td>13.40</td>\n",
       "      <td>3.91</td>\n",
       "      <td>2.48</td>\n",
       "      <td>23.0</td>\n",
       "      <td>102</td>\n",
       "      <td>1.80</td>\n",
       "      <td>0.75</td>\n",
       "      <td>0.43</td>\n",
       "      <td>1.41</td>\n",
       "      <td>7.30</td>\n",
       "      <td>0.70</td>\n",
       "      <td>1.56</td>\n",
       "      <td>750</td>\n",
       "    </tr>\n",
       "    <tr>\n",
       "      <td>175</td>\n",
       "      <td>3</td>\n",
       "      <td>13.27</td>\n",
       "      <td>4.28</td>\n",
       "      <td>2.26</td>\n",
       "      <td>20.0</td>\n",
       "      <td>120</td>\n",
       "      <td>1.59</td>\n",
       "      <td>0.69</td>\n",
       "      <td>0.43</td>\n",
       "      <td>1.35</td>\n",
       "      <td>10.20</td>\n",
       "      <td>0.59</td>\n",
       "      <td>1.56</td>\n",
       "      <td>835</td>\n",
       "    </tr>\n",
       "    <tr>\n",
       "      <td>176</td>\n",
       "      <td>3</td>\n",
       "      <td>13.17</td>\n",
       "      <td>2.59</td>\n",
       "      <td>2.37</td>\n",
       "      <td>20.0</td>\n",
       "      <td>120</td>\n",
       "      <td>1.65</td>\n",
       "      <td>0.68</td>\n",
       "      <td>0.53</td>\n",
       "      <td>1.46</td>\n",
       "      <td>9.30</td>\n",
       "      <td>0.60</td>\n",
       "      <td>1.62</td>\n",
       "      <td>840</td>\n",
       "    </tr>\n",
       "    <tr>\n",
       "      <td>177</td>\n",
       "      <td>3</td>\n",
       "      <td>14.13</td>\n",
       "      <td>4.10</td>\n",
       "      <td>2.74</td>\n",
       "      <td>24.5</td>\n",
       "      <td>96</td>\n",
       "      <td>2.05</td>\n",
       "      <td>0.76</td>\n",
       "      <td>0.56</td>\n",
       "      <td>1.35</td>\n",
       "      <td>9.20</td>\n",
       "      <td>0.61</td>\n",
       "      <td>1.60</td>\n",
       "      <td>560</td>\n",
       "    </tr>\n",
       "  </tbody>\n",
       "</table>\n",
       "<p>178 rows × 14 columns</p>\n",
       "</div>"
      ],
      "text/plain": [
       "     Cultivator  Alchol  Malic_Acid   Ash  Alcalinity_of_Ash  Magnesium  \\\n",
       "0             1   14.23        1.71  2.43               15.6        127   \n",
       "1             1   13.20        1.78  2.14               11.2        100   \n",
       "2             1   13.16        2.36  2.67               18.6        101   \n",
       "3             1   14.37        1.95  2.50               16.8        113   \n",
       "4             1   13.24        2.59  2.87               21.0        118   \n",
       "..          ...     ...         ...   ...                ...        ...   \n",
       "173           3   13.71        5.65  2.45               20.5         95   \n",
       "174           3   13.40        3.91  2.48               23.0        102   \n",
       "175           3   13.27        4.28  2.26               20.0        120   \n",
       "176           3   13.17        2.59  2.37               20.0        120   \n",
       "177           3   14.13        4.10  2.74               24.5         96   \n",
       "\n",
       "     Total_phenols  Falvanoids  Nonflavanoid_phenols  Proanthocyanins  \\\n",
       "0             2.80        3.06                  0.28             2.29   \n",
       "1             2.65        2.76                  0.26             1.28   \n",
       "2             2.80        3.24                  0.30             2.81   \n",
       "3             3.85        3.49                  0.24             2.18   \n",
       "4             2.80        2.69                  0.39             1.82   \n",
       "..             ...         ...                   ...              ...   \n",
       "173           1.68        0.61                  0.52             1.06   \n",
       "174           1.80        0.75                  0.43             1.41   \n",
       "175           1.59        0.69                  0.43             1.35   \n",
       "176           1.65        0.68                  0.53             1.46   \n",
       "177           2.05        0.76                  0.56             1.35   \n",
       "\n",
       "     Color_intensity   Hue  OD280  Proline  \n",
       "0               5.64  1.04   3.92     1065  \n",
       "1               4.38  1.05   3.40     1050  \n",
       "2               5.68  1.03   3.17     1185  \n",
       "3               7.80  0.86   3.45     1480  \n",
       "4               4.32  1.04   2.93      735  \n",
       "..               ...   ...    ...      ...  \n",
       "173             7.70  0.64   1.74      740  \n",
       "174             7.30  0.70   1.56      750  \n",
       "175            10.20  0.59   1.56      835  \n",
       "176             9.30  0.60   1.62      840  \n",
       "177             9.20  0.61   1.60      560  \n",
       "\n",
       "[178 rows x 14 columns]"
      ]
     },
     "execution_count": 109,
     "metadata": {},
     "output_type": "execute_result"
    }
   ],
   "source": [
    "wine"
   ]
  },
  {
   "cell_type": "code",
   "execution_count": 81,
   "metadata": {},
   "outputs": [
    {
     "name": "stdout",
     "output_type": "stream",
     "text": [
      "훈련 세트 정확도:0.90\n",
      "테스트 세트 정확도:0.93\n"
     ]
    },
    {
     "name": "stderr",
     "output_type": "stream",
     "text": [
      "C:\\Users\\ICT01_12\\Anaconda3\\lib\\site-packages\\sklearn\\neural_network\\multilayer_perceptron.py:566: ConvergenceWarning: Stochastic Optimizer: Maximum iterations (200) reached and the optimization hasn't converged yet.\n",
      "  % self.max_iter, ConvergenceWarning)\n"
     ]
    },
    {
     "data": {
      "text/plain": [
       "MLPClassifier(activation='relu', alpha=0.0001, batch_size='auto', beta_1=0.9,\n",
       "              beta_2=0.999, early_stopping=False, epsilon=1e-08,\n",
       "              hidden_layer_sizes=(100,), learning_rate='constant',\n",
       "              learning_rate_init=0.001, max_iter=200, momentum=0.9,\n",
       "              n_iter_no_change=10, nesterovs_momentum=True, power_t=0.5,\n",
       "              random_state=42, shuffle=True, solver='adam', tol=0.0001,\n",
       "              validation_fraction=0.1, verbose=False, warm_start=False)"
      ]
     },
     "execution_count": 81,
     "metadata": {},
     "output_type": "execute_result"
    }
   ],
   "source": [
    "X_train, X_test, y_train, y_test = train_test_split(\n",
    "wine.iloc[:,1:], wine.Cultivator, random_state = 0)\n",
    "mlp = MLPClassifier(random_state = 42)   # 디폴트 값\n",
    "mlp.fit(X_train, y_train)    # 피팅한다==> 가중치 결정. \n",
    "print('훈련 세트 정확도:{:.2f}'.format(mlp.score(X_train, y_train)))          \n",
    "\n",
    "print('테스트 세트 정확도:{:.2f}'.format(mlp.score(X_test, y_test)))\n",
    "mlp\n"
   ]
  },
  {
   "cell_type": "code",
   "execution_count": 87,
   "metadata": {},
   "outputs": [
    {
     "name": "stdout",
     "output_type": "stream",
     "text": [
      "훈련 세트 정확도:1.000\n",
      "테스트 세트 정확도:1.000\n"
     ]
    },
    {
     "name": "stderr",
     "output_type": "stream",
     "text": [
      "C:\\Users\\ICT01_12\\Anaconda3\\lib\\site-packages\\sklearn\\neural_network\\multilayer_perceptron.py:566: ConvergenceWarning: Stochastic Optimizer: Maximum iterations (200) reached and the optimization hasn't converged yet.\n",
      "  % self.max_iter, ConvergenceWarning)\n"
     ]
    }
   ],
   "source": [
    "\n",
    "mean_on_train = X_train.mean(axis = 0)   # 평균\n",
    "std_on_train = X_train.std(axis = 0)    # 표준편차\n",
    "\n",
    "# Z점수 표준화 \n",
    "X_train_scaled = (X_train - mean_on_train)/ std_on_train\n",
    "X_test_scaled = (X_test - mean_on_train)/std_on_train\n",
    "\n",
    "mlp = MLPClassifier(random_state = 42, alpha = .3)\n",
    "mlp.fit(X_train_scaled, y_train)\n",
    "\n",
    "print('훈련 세트 정확도:{:.3f}'.format(mlp.score(X_train_scaled, y_train)))\n",
    "print('테스트 세트 정확도:{:.3f}'.format(mlp.score(X_test_scaled, y_test)))\n"
   ]
  },
  {
   "cell_type": "code",
   "execution_count": 83,
   "metadata": {},
   "outputs": [
    {
     "name": "stdout",
     "output_type": "stream",
     "text": [
      "훈련 세트 정확도:1.000\n",
      "테스트 세트 정확도:1.000\n"
     ]
    }
   ],
   "source": [
    "mlp = MLPClassifier(max_iter = 1000, alpha = 1, random_state = 0)\n",
    "mlp.fit(X_train_scaled , y_train)\n",
    "print('훈련 세트 정확도:{:.3f}'.format(mlp.score(X_train_scaled, y_train)))\n",
    "print('테스트 세트 정확도:{:.3f}'.format(mlp.score(X_test_scaled, y_test)))"
   ]
  },
  {
   "cell_type": "code",
   "execution_count": 88,
   "metadata": {},
   "outputs": [],
   "source": [
    "##########선생님 정답"
   ]
  },
  {
   "cell_type": "code",
   "execution_count": 91,
   "metadata": {},
   "outputs": [
    {
     "data": {
      "text/plain": [
       "(178, 14)"
      ]
     },
     "execution_count": 91,
     "metadata": {},
     "output_type": "execute_result"
    }
   ],
   "source": [
    "wine.shape # 178 관측치 , 14 변수 \n",
    "\n",
    "# 분류라면: 독립변수와 종속변수 \n",
    "# cuirtivatior로 분류한다.\n",
    "\n",
    "# 이러한 순서로 전처리 그러나 이전에 전처리 몇가지를 더 해야한다. "
   ]
  },
  {
   "cell_type": "code",
   "execution_count": 132,
   "metadata": {},
   "outputs": [],
   "source": [
    "X = wine.drop('Cultivator', axis = 1)\n",
    "y = wine['Cultivator']"
   ]
  },
  {
   "cell_type": "code",
   "execution_count": 139,
   "metadata": {},
   "outputs": [],
   "source": [
    "from sklearn.model_selection import  train_test_split\n",
    "X_train, X_test, y_train, y_test = train_test_split(X,y)"
   ]
  },
  {
   "cell_type": "code",
   "execution_count": 140,
   "metadata": {},
   "outputs": [
    {
     "name": "stdout",
     "output_type": "stream",
     "text": [
      "[1 2 3]\n"
     ]
    }
   ],
   "source": [
    "print(y.unique())"
   ]
  },
  {
   "cell_type": "code",
   "execution_count": 141,
   "metadata": {},
   "outputs": [
    {
     "data": {
      "text/plain": [
       "StandardScaler(copy=True, with_mean=True, with_std=True)"
      ]
     },
     "execution_count": 141,
     "metadata": {},
     "output_type": "execute_result"
    }
   ],
   "source": [
    "from sklearn.preprocessing import StandardScaler\n",
    "scaler = StandardScaler()\n",
    "scaler.fit(X_train)"
   ]
  },
  {
   "cell_type": "code",
   "execution_count": 142,
   "metadata": {},
   "outputs": [],
   "source": [
    "from sklearn.preprocessing import StandardScaler\n",
    "scaler = StandardScaler()\n",
    "# StandaerScaler (copy = True, with_mean = True, with_std = True)\n",
    "# 원본은 그대로 해라 만약에  False라면 \n",
    "scaler.fit(X_train)\n",
    "X_train = scaler.transform(X_train)\n",
    "X_test = scaler.transform(X_test)"
   ]
  },
  {
   "cell_type": "code",
   "execution_count": 143,
   "metadata": {},
   "outputs": [
    {
     "data": {
      "text/plain": [
       "MLPClassifier(activation='relu', alpha=0.0001, batch_size='auto', beta_1=0.9,\n",
       "              beta_2=0.999, early_stopping=False, epsilon=1e-08,\n",
       "              hidden_layer_sizes=(30, 30, 30), learning_rate='constant',\n",
       "              learning_rate_init=0.001, max_iter=200, momentum=0.9,\n",
       "              n_iter_no_change=10, nesterovs_momentum=True, power_t=0.5,\n",
       "              random_state=None, shuffle=True, solver='adam', tol=0.0001,\n",
       "              validation_fraction=0.1, verbose=False, warm_start=False)"
      ]
     },
     "execution_count": 143,
     "metadata": {},
     "output_type": "execute_result"
    }
   ],
   "source": [
    "from sklearn.neural_network import MLPClassifier\n",
    "\n",
    "mlp = MLPClassifier(hidden_layer_sizes = (30,30,30))\n",
    "mlp.fit(X_train, y_train)"
   ]
  },
  {
   "cell_type": "code",
   "execution_count": 144,
   "metadata": {},
   "outputs": [
    {
     "name": "stdout",
     "output_type": "stream",
     "text": [
      "[[13  0  0]\n",
      " [ 0 18  0]\n",
      " [ 0  1 13]]\n",
      "              precision    recall  f1-score   support\n",
      "\n",
      "           1       1.00      1.00      1.00        13\n",
      "           2       0.95      1.00      0.97        18\n",
      "           3       1.00      0.93      0.96        14\n",
      "\n",
      "    accuracy                           0.98        45\n",
      "   macro avg       0.98      0.98      0.98        45\n",
      "weighted avg       0.98      0.98      0.98        45\n",
      "\n"
     ]
    }
   ],
   "source": [
    "from sklearn.metrics import classification_report\n",
    "# pricision  :정밀도  = TP/(TP+FP): 예측을 중심으로 생각 \n",
    "# recall :재현율  = TP/(TP+TN): 실제 값을 중심으로 생각\n",
    "# f1_score = 2*(pricision * recall)/(precision + recall)\n",
    "from sklearn.metrics import confusion_matrix\n",
    "predictions = mlp.predict(X_test)\n",
    "\n",
    "print(confusion_matrix(y_test, predictions))\n",
    "print(classification_report(y_test, predictions))"
   ]
  },
  {
   "cell_type": "code",
   "execution_count": 146,
   "metadata": {},
   "outputs": [
    {
     "name": "stdout",
     "output_type": "stream",
     "text": [
      "(13, 30)\n",
      "(30, 30)\n",
      "(30, 30)\n"
     ]
    },
    {
     "data": {
      "text/plain": [
       "Text(0, 0.5, '입력 특성')"
      ]
     },
     "execution_count": 146,
     "metadata": {},
     "output_type": "execute_result"
    },
    {
     "name": "stderr",
     "output_type": "stream",
     "text": [
      "C:\\Users\\ICT01_12\\Anaconda3\\lib\\site-packages\\matplotlib\\backends\\backend_agg.py:211: RuntimeWarning: Glyph 51008 missing from current font.\n",
      "  font.set_text(s, 0.0, flags=flags)\n",
      "C:\\Users\\ICT01_12\\Anaconda3\\lib\\site-packages\\matplotlib\\backends\\backend_agg.py:211: RuntimeWarning: Glyph 45787 missing from current font.\n",
      "  font.set_text(s, 0.0, flags=flags)\n",
      "C:\\Users\\ICT01_12\\Anaconda3\\lib\\site-packages\\matplotlib\\backends\\backend_agg.py:211: RuntimeWarning: Glyph 50976 missing from current font.\n",
      "  font.set_text(s, 0.0, flags=flags)\n",
      "C:\\Users\\ICT01_12\\Anaconda3\\lib\\site-packages\\matplotlib\\backends\\backend_agg.py:180: RuntimeWarning: Glyph 51008 missing from current font.\n",
      "  font.set_text(s, 0, flags=flags)\n",
      "C:\\Users\\ICT01_12\\Anaconda3\\lib\\site-packages\\matplotlib\\backends\\backend_agg.py:180: RuntimeWarning: Glyph 45787 missing from current font.\n",
      "  font.set_text(s, 0, flags=flags)\n",
      "C:\\Users\\ICT01_12\\Anaconda3\\lib\\site-packages\\matplotlib\\backends\\backend_agg.py:180: RuntimeWarning: Glyph 50976 missing from current font.\n",
      "  font.set_text(s, 0, flags=flags)\n",
      "C:\\Users\\ICT01_12\\Anaconda3\\lib\\site-packages\\matplotlib\\backends\\backend_agg.py:211: RuntimeWarning: Glyph 51077 missing from current font.\n",
      "  font.set_text(s, 0.0, flags=flags)\n",
      "C:\\Users\\ICT01_12\\Anaconda3\\lib\\site-packages\\matplotlib\\backends\\backend_agg.py:211: RuntimeWarning: Glyph 47141 missing from current font.\n",
      "  font.set_text(s, 0.0, flags=flags)\n",
      "C:\\Users\\ICT01_12\\Anaconda3\\lib\\site-packages\\matplotlib\\backends\\backend_agg.py:211: RuntimeWarning: Glyph 53945 missing from current font.\n",
      "  font.set_text(s, 0.0, flags=flags)\n",
      "C:\\Users\\ICT01_12\\Anaconda3\\lib\\site-packages\\matplotlib\\backends\\backend_agg.py:211: RuntimeWarning: Glyph 49457 missing from current font.\n",
      "  font.set_text(s, 0.0, flags=flags)\n",
      "C:\\Users\\ICT01_12\\Anaconda3\\lib\\site-packages\\matplotlib\\backends\\backend_agg.py:180: RuntimeWarning: Glyph 51077 missing from current font.\n",
      "  font.set_text(s, 0, flags=flags)\n",
      "C:\\Users\\ICT01_12\\Anaconda3\\lib\\site-packages\\matplotlib\\backends\\backend_agg.py:180: RuntimeWarning: Glyph 47141 missing from current font.\n",
      "  font.set_text(s, 0, flags=flags)\n",
      "C:\\Users\\ICT01_12\\Anaconda3\\lib\\site-packages\\matplotlib\\backends\\backend_agg.py:180: RuntimeWarning: Glyph 53945 missing from current font.\n",
      "  font.set_text(s, 0, flags=flags)\n",
      "C:\\Users\\ICT01_12\\Anaconda3\\lib\\site-packages\\matplotlib\\backends\\backend_agg.py:180: RuntimeWarning: Glyph 49457 missing from current font.\n",
      "  font.set_text(s, 0, flags=flags)\n"
     ]
    },
    {
     "data": {
      "image/png": "[encoded data removed]",
      "text/plain": [
       "<Figure size 1440x360 with 1 Axes>"
      ]
     },
     "metadata": {
      "needs_background": "light"
     },
     "output_type": "display_data"
    }
   ],
   "source": [
    "print(mlp.coefs_[0].shape)\n",
    "print(mlp.coefs_[1].shape)\n",
    "print(mlp.coefs_[2].shape)\n",
    "plt.figure(figsize = (20,5))\n",
    "plt.imshow(mlp.coefs_[0], interpolation = 'none', cmap = 'viridis')\n",
    "plt.xlabel('은닛 유닛')\n",
    "plt.ylabel('입력 특성')\n",
    "#plt.colorbar()"
   ]
  },
  {
   "cell_type": "markdown",
   "metadata": {},
   "source": [
    "# NMF (Non-negative matrix factorization) : 비응수 행렬 분해 \n",
    "\n",
    "- PCA는 음수와 양수의 차이를 상계해서 처리한다?\n",
    "- MNF는 양수인 데이터에 적용하여 분해를 해준다. --> 음성데이터, signal 데이터 "
   ]
  },
  {
   "cell_type": "code",
   "execution_count": 150,
   "metadata": {},
   "outputs": [
    {
     "data": {
      "image/png": "[encoded data removed]",
      "text/plain": [
       "<Figure size 432x72 with 1 Axes>"
      ]
     },
     "metadata": {
      "needs_background": "light"
     },
     "output_type": "display_data"
    }
   ],
   "source": [
    "# 원본데이터\n",
    "\n",
    "S = mglearn.datasets.make_signals()\n",
    "plt.figure(figsize = (6,1))\n",
    "plt.plot(S, '-')\n",
    "plt.xlabel('시간')\n",
    "plt.ylabel('신호')\n",
    "plt.margins(0)"
   ]
  },
  {
   "cell_type": "code",
   "execution_count": 154,
   "metadata": {},
   "outputs": [],
   "source": [
    "# 노이즈 + 원본: 전송데이터 \n",
    "import numpy as np\n",
    "A = np.random.RandomState(0).uniform(size =(100,3))\n",
    "X = np.dot(S,A.T)"
   ]
  },
  {
   "cell_type": "code",
   "execution_count": 158,
   "metadata": {},
   "outputs": [
    {
     "name": "stdout",
     "output_type": "stream",
     "text": [
      "복잡한 신호 데이터 형태:(2000, 3)\n"
     ]
    }
   ],
   "source": [
    "# 노이즈가 낀 원본 데이터에 피팅한것\n",
    "\n",
    "from sklearn.decomposition import NMF, PCA\n",
    "nmf = NMF(n_components = 3, random_state = 42)\n",
    "S_ = nmf.fit_transform(X)\n",
    "print('복잡한 신호 데이터 형태:{}'.format(S.shape))"
   ]
  },
  {
   "cell_type": "code",
   "execution_count": 159,
   "metadata": {},
   "outputs": [],
   "source": [
    "# \n",
    "\n",
    "pca = PCA(n_components = 3)\n",
    "H = pca.fit_transform(X)"
   ]
  },
  {
   "cell_type": "code",
   "execution_count": 163,
   "metadata": {},
   "outputs": [],
   "source": [
    "# 한글 실행\n",
    "\n",
    "from matplotlib import font_manager, rc\n",
    "font_name = font_manager.FontProperties(fname = 'c:/Windows/Fonts/malgun.ttf').get_name()\n",
    "rc('font', family = font_name)"
   ]
  },
  {
   "cell_type": "code",
   "execution_count": 164,
   "metadata": {},
   "outputs": [
    {
     "data": {
      "image/png": "[encoded data removed]",
      "text/plain": [
       "<Figure size 576x288 with 4 Axes>"
      ]
     },
     "metadata": {},
     "output_type": "display_data"
    }
   ],
   "source": [
    "# 원본, 노이즈, NMF, PCA\n",
    "\n",
    "models = [S, X, S_, H] # 노이즈: 양수 데이터는 노이즈를 제고못함. \n",
    "names = ['측정 신호(처음3개)',\n",
    "        '원본신호',\n",
    "        'NMF로 복원한 신호',\n",
    "        'PCA로 복원한 신호']\n",
    "fig, axes = plt.subplots(4, figsize = (8,4), gridspec_kw = { 'hspace': .5}, subplot_kw ={'xticks': (), 'yticks':()})\n",
    "for model, name, ax in zip(models, names, axes):\n",
    "    ax.set_title(name)\n",
    "    ax.plot(model[:,:3],'-')\n",
    "    ax.margins(0)"
   ]
  },
  {
   "cell_type": "code",
   "execution_count": null,
   "metadata": {},
   "outputs": [],
   "source": [
    "# 군집분석 시각화 \n",
    "\n"
   ]
  }
 ],
 "metadata": {
  "kernelspec": {
   "display_name": "Python 3",
   "language": "python",
   "name": "python3"
  },
  "language_info": {
   "codemirror_mode": {
    "name": "ipython",
    "version": 3
   },
   "file_extension": ".py",
   "mimetype": "text/x-python",
   "name": "python",
   "nbconvert_exporter": "python",
   "pygments_lexer": "ipython3",
   "version": "3.7.4"
  }
 },
 "nbformat": 4,
 "nbformat_minor": 2
}
