{
 "cells": [
  {
   "cell_type": "code",
   "execution_count": null,
   "metadata": {},
   "outputs": [],
   "source": [
    "# 편집모드와 명령행 모드 (주석)"
   ]
  },
  {
   "cell_type": "code",
   "execution_count": 2,
   "metadata": {},
   "outputs": [
    {
     "name": "stdout",
     "output_type": "stream",
     "text": [
      "10\n",
      "10\n"
     ]
    }
   ],
   "source": [
    "a = 10 # 주소 => 값저장 (맵핑)\n",
    "b = a  # 10이 대입되는 것이 아니고 a가 가리키는 주소가 대입\n",
    "print(a)\n",
    "print(b)"
   ]
  },
  {
   "cell_type": "code",
   "execution_count": 5,
   "metadata": {},
   "outputs": [
    {
     "name": "stdout",
     "output_type": "stream",
     "text": [
      "주소값 대입 140707159974576\n",
      "140707159974576\n"
     ]
    },
    {
     "data": {
      "text/plain": [
       "(None, None)"
      ]
     },
     "execution_count": 5,
     "metadata": {},
     "output_type": "execute_result"
    }
   ],
   "source": [
    "# 주소값 일치\n",
    "print(\"주소값 대입\", id(a)), print(id(b))"
   ]
  },
  {
   "cell_type": "code",
   "execution_count": 7,
   "metadata": {},
   "outputs": [
    {
     "name": "stdout",
     "output_type": "stream",
     "text": [
      "20\n",
      "10\n",
      "주소값 대입 140707159974896\n",
      "140707159974576\n"
     ]
    },
    {
     "data": {
      "text/plain": [
       "(None, None)"
      ]
     },
     "execution_count": 7,
     "metadata": {},
     "output_type": "execute_result"
    }
   ],
   "source": [
    "a = 20\n",
    "print(a)\n",
    "print(b)\n",
    "print(\"주소값 대입\", id(a)), print(id(b))"
   ]
  },
  {
   "cell_type": "code",
   "execution_count": null,
   "metadata": {},
   "outputs": [],
   "source": [
    "# 파이썬은 대소문자를 구분한다."
   ]
  },
  {
   "cell_type": "code",
   "execution_count": 10,
   "metadata": {},
   "outputs": [
    {
     "data": {
      "text/plain": [
       "int"
      ]
     },
     "execution_count": 10,
     "metadata": {},
     "output_type": "execute_result"
    }
   ],
   "source": [
    "type(a)\n",
    "# 데이터 타입 확인은 프로그래머의 의무"
   ]
  },
  {
   "cell_type": "code",
   "execution_count": 11,
   "metadata": {},
   "outputs": [
    {
     "name": "stdout",
     "output_type": "stream",
     "text": [
      "10\n"
     ]
    }
   ],
   "source": [
    "a = 10\n",
    "A = 20\n",
    "print(a)"
   ]
  },
  {
   "cell_type": "code",
   "execution_count": 3,
   "metadata": {},
   "outputs": [
    {
     "name": "stdout",
     "output_type": "stream",
     "text": [
      "수식을 입력하시오10\n",
      "10\n",
      "10\n",
      "10\n"
     ]
    }
   ],
   "source": [
    "# 데이터 입력 : 프롬프트 텍스트\n",
    "problem = input(\"수식을 입력하시오\") # 데이터 입출력은 문자열로 입출력됨\n",
    "print(problem)\n",
    "print(int(problem)) # 데이터 casting : 데이터 형변환\n",
    "print(eval(problem)) # 평가"
   ]
  },
  {
   "cell_type": "code",
   "execution_count": 5,
   "metadata": {},
   "outputs": [
    {
     "name": "stdout",
     "output_type": "stream",
     "text": [
      "0.00424\n",
      "127\n"
     ]
    }
   ],
   "source": [
    "a3 = 4.24e-3 # exponent 지수형\n",
    "a4 = 0o177 # oxtal 8진수로 표현\n",
    "print(a3)\n",
    "print(a4)"
   ]
  },
  {
   "cell_type": "code",
   "execution_count": 5,
   "metadata": {},
   "outputs": [
    {
     "name": "stdout",
     "output_type": "stream",
     "text": [
      "이름을입력하세요:김 종호\n",
      "김\n",
      " \n",
      "종\n",
      "1\n",
      "이름: 종호\n",
      "성(s): 김\n"
     ]
    }
   ],
   "source": [
    "# fullName 문자열 : 기본이 1차원 배열\n",
    "# 숫자 int : 4 bite, float : 4 bite\n",
    "fullName = input(\"이름을입력하세요:\")\n",
    "n = fullName.rfind(\" \") # reverse find (뒤에서부터 찾아서 위치를 찾아)\n",
    "\n",
    "print(fullName[0]) # 배열과 리스트의 인덱싱은 동일하다\n",
    "print(fullName[1])\n",
    "print(fullName[2])\n",
    "print(n)\n",
    "print(\"이름:\", fullName[n+1:]) # 인덱싱 방법\n",
    "print(\"성(s):\", fullName[:n]) # 마지막은 포함 안됨! "
   ]
  },
  {
   "cell_type": "code",
   "execution_count": 7,
   "metadata": {},
   "outputs": [
    {
     "name": "stdout",
     "output_type": "stream",
     "text": [
      "koreakorea\n",
      "koreakoreakorea\n",
      "korea\n",
      "a\n",
      "a\n",
      "or\n",
      "ea\n",
      "ea\n",
      "e\n",
      "5\n"
     ]
    },
    {
     "data": {
      "text/plain": [
       "['ko', 'ea']"
      ]
     },
     "execution_count": 7,
     "metadata": {},
     "output_type": "execute_result"
    }
   ],
   "source": [
    "# 문자열은 'single quotation', \"korea\" : double quotation\n",
    "# \"\"\" \"\"\" : 3개인 경우는 입력하는 대로 저장함\n",
    "s = 'korea'\n",
    "print(s+s)\n",
    "print(s*3)\n",
    "print(s[0:])\n",
    "print(s[4])\n",
    "print(s[-1])\n",
    "print(s[1:3])\n",
    "print(s[-2:])\n",
    "print(s[-2:5])\n",
    "print(s[3:-1])\n",
    "print(len(s))\n",
    "s.split('r')"
   ]
  },
  {
   "cell_type": "code",
   "execution_count": 10,
   "metadata": {},
   "outputs": [
    {
     "name": "stdout",
     "output_type": "stream",
     "text": [
      "['Seoul', ' Incheon', ' won']\n"
     ]
    }
   ],
   "source": [
    "# csv데이터 \n",
    "t = 'Seoul, Incheon, won'.split(',') # 객체.함수\n",
    "print(t) # 리스트로 분할"
   ]
  },
  {
   "cell_type": "code",
   "execution_count": 18,
   "metadata": {},
   "outputs": [
    {
     "name": "stdout",
     "output_type": "stream",
     "text": [
      "Korea\n",
      "2\n",
      "1\n",
      "True\n",
      "False\n",
      "True\n",
      "koRea\n",
      "False\n",
      "True\n",
      "Korea\n",
      "1\n"
     ]
    }
   ],
   "source": [
    "\n",
    "\n",
    "\n",
    "\n",
    "\n",
    "\n",
    "''# 파이썬은 객체 지향 프로그래밍으로 설계된 언어임 : 모든 것이 객체임, 심지어 힘수도 객체임\n",
    "# c, java는 객체지향을 별도로 학습\n",
    "# python은 자체가 객체지향언어임\n",
    "s = 'korea'\n",
    "print(s.capitalize())\n",
    "print(s.find('r'))\n",
    "print(s.count('re'))\n",
    "print(s.isalpha())\n",
    "print(s.isdigit())\n",
    "print('0123'.isdigit())\n",
    "print(s.replace('r','R')) # 많이 씀!\n",
    "print(s.startswith('K'))\n",
    "print(s.endswith('a'))"
   ]
  },
  {
   "cell_type": "code",
   "execution_count": 25,
   "metadata": {},
   "outputs": [
    {
     "name": "stdout",
     "output_type": "stream",
     "text": [
      "7 -1 12 0.75\n",
      "0.75\n",
      "3\n",
      "1\n",
      "0\n",
      "1\n",
      "0\n",
      "1.75\n",
      "1\n"
     ]
    }
   ],
   "source": [
    "# 산술연산\n",
    "a = 3\n",
    "b = 4\n",
    "\n",
    "print(a + b, a - b, a*b, a/b)\n",
    "print(a / b)\n",
    "print(a % b) # 나머지 연산자 : 경우의 수를 생성할 때 : 변수가 가질 수 있는 경우수를 확인\n",
    "print(1 % 2)\n",
    "print(2 % 2)\n",
    "print(3 % 2)\n",
    "print(4 % 2)\n",
    "\n",
    "print(7/4)\n",
    "print(7//4)"
   ]
  },
  {
   "cell_type": "code",
   "execution_count": 31,
   "metadata": {},
   "outputs": [
    {
     "name": "stdout",
     "output_type": "stream",
     "text": [
      "sum([1,2,3]) :  6\n",
      "min([1,2,3]) :  1\n",
      "abs(-11) :  11\n",
      "pow(2,10) :  1024\n",
      "round(3.141595) :  3\n",
      "round(3.141595) :  3.14\n"
     ]
    }
   ],
   "source": [
    "# 내장함수 :\n",
    "# 괄호 : [] : list, {} : dict, set, () : tuple, 함수에서 사용\n",
    "print(\"sum([1,2,3]) : \", sum([1,2,3]))\n",
    "print(\"min([1,2,3]) : \", min([1,2,3]))\n",
    "print(\"abs(-11) : \", abs(-11)) # absolute\n",
    "print(\"pow(2,10) : \", pow(2,10)) # power\n",
    "print(\"round(3.141595) : \", round(3.141592)) # 반올림\n",
    "print(\"round(3.141595) : \", round(3.141592, 2)) # 2 째 자리까지 표현\n",
    "# 함수의 형태가 다르면 : 오버로딩\n",
    "# 파이썬에서는 오버로딩이 없음 => 디폴트 매개변수"
   ]
  },
  {
   "cell_type": "code",
   "execution_count": 33,
   "metadata": {},
   "outputs": [
    {
     "name": "stdout",
     "output_type": "stream",
     "text": [
      "19\n"
     ]
    }
   ],
   "source": [
    "# 문제 : 숫자 4,7,8 을 리스트로 초기화하고 합계를 출력하시오.\n",
    "a = [ 4, 7, 8 ]\n",
    "print(sum(a))"
   ]
  },
  {
   "cell_type": "code",
   "execution_count": 41,
   "metadata": {},
   "outputs": [
    {
     "name": "stdout",
     "output_type": "stream",
     "text": [
      "첫번째 숫자를 입력하세요 : 85\n",
      "두번째 숫자를 입력하세요 : 97\n",
      "입력된 수를 2로 나눈 결과 몫 =  91 나머지 =  0\n",
      "짝수입니다.\n"
     ]
    }
   ],
   "source": [
    "# 문제 : 두 수를 입력받아 몫과 나머지를 출력하시오.\n",
    "# 나으 답\n",
    "a = float(input(\"1st number : \"))\n",
    "b = float(input(\"2nd number : \"))\n",
    "print(\"몫: \", a//b, \"나머지: \", a%b )\n",
    "\n",
    "# 쌤 강의\n",
    "num1 = input(\"첫번째 숫자를 입력하세요 : \")\n",
    "num2 = input(\"두번째 숫자를 입력하세요 : \")\n",
    "hab = int(num1) + int(num2)\n",
    "quotient = hab // 2\n",
    "remainder = hab % 2\n",
    "print(\"입력된 수를 2로 나눈 결과 몫 = \", quotient, \"나머지 = \", remainder)\n",
    "\n",
    "# 파이썬의 블록은 들여쓰기임 : 블록 : 여러 일을 묶는 역할\n",
    "# : 조건문, 반복문, 함수\n",
    "if remainder == 0:\n",
    "    print(\"짝수입니다.\")\n",
    "else:\n",
    "    print(\"홀수입니다.\") "
   ]
  },
  {
   "cell_type": "markdown",
   "metadata": {},
   "source": [
    "# scope"
   ]
  },
  {
   "cell_type": "code",
   "execution_count": 42,
   "metadata": {},
   "outputs": [
    {
     "name": "stdout",
     "output_type": "stream",
     "text": [
      "200\n",
      "300\n"
     ]
    }
   ],
   "source": [
    "x = 300 # 전역변수\n",
    "def myfunc(): #함수도 리턴타입을 지정하지 않음\n",
    "    x = 200 # 지역번수 : 함수와 생사를 같이함 (리턴하는 순간 사라짐)\n",
    "    print(x)\n",
    "myfunc()\n",
    "print(x)"
   ]
  },
  {
   "cell_type": "code",
   "execution_count": 47,
   "metadata": {},
   "outputs": [
    {
     "name": "stdout",
     "output_type": "stream",
     "text": [
      "정수를 입력해주세요.89\n",
      "보\n"
     ]
    }
   ],
   "source": [
    "# 어떤 수가 들어 오더라도 나머지가 0:가위, 1:바위, 2:보 로 출력하시오.\n",
    "num = input(\"정수를 입력해주세요.\")\n",
    "remainder = int(num) % 3 \n",
    "if remainder == 0:\n",
    "    print(\"가위\")\n",
    "elif remainder == 1 :\n",
    "    print(\"바위\")\n",
    "else :\n",
    "    print(\"보\")\n",
    "    \n",
    "# 쌤의 풀이\n",
    "select = int(input(\"정수를 입력하시오 : \"))%3\n",
    "if select == 0:\n",
    "    print(\"가위\")\n",
    "elif select == 1:\n",
    "    print(\"바위\")\n",
    "else select == 2:\n",
    "    print(\"보\")"
   ]
  },
  {
   "cell_type": "code",
   "execution_count": 51,
   "metadata": {},
   "outputs": [
    {
     "name": "stdout",
     "output_type": "stream",
     "text": [
      "4\n",
      "earths\n",
      "['fire', 'air']\n",
      "['air', 1, 'water', 'fire', 'earths']\n"
     ]
    }
   ],
   "source": [
    "# random : 프로그램에서 난수는 의사난수임 (가짜 난수임, 순서가 있음, 그래서 시작점이 같으면 나오는 값이 같음)\n",
    "import random\n",
    "random.seed(1000)\n",
    "print(random.randint(1,5))\n",
    "elements = ['earth', 1, 'air', 'fire', 'water']\n",
    "elements[0] = 'earths'\n",
    "print(random.choice(elements))\n",
    "print(random.sample(elements, 2))\n",
    "random.shuffle(elements)\n",
    "print(elements)"
   ]
  },
  {
   "cell_type": "code",
   "execution_count": 52,
   "metadata": {},
   "outputs": [
    {
     "name": "stdout",
     "output_type": "stream",
     "text": [
      "True\n",
      "True\n"
     ]
    }
   ],
   "source": [
    "# 비교연산자( >=, <=, ==, <, > ) 논리 연산자( and, or, not )\n",
    "a = 20\n",
    "b = 10\n",
    "c = a > 10 and b < 50\n",
    "print(c)\n",
    "c = 10 < a < 50 # 파이썬에서는 이런 표현이 가능! 인간친화적,,\n",
    "print(c)"
   ]
  },
  {
   "cell_type": "code",
   "execution_count": 54,
   "metadata": {},
   "outputs": [
    {
     "name": "stdout",
     "output_type": "stream",
     "text": [
      "6 5\n"
     ]
    }
   ],
   "source": [
    "# swap\n",
    "x = 5\n",
    "y = 6\n",
    "x, y = y, x # 다른 언어에서는 리턴값이 하나뿐, 파이썬은 리턴값이 2개 이상도 가능\n",
    "print(x, y)"
   ]
  },
  {
   "cell_type": "code",
   "execution_count": 60,
   "metadata": {},
   "outputs": [
    {
     "name": "stdout",
     "output_type": "stream",
     "text": [
      "[3, ['a', 'b', 'c'], 4]\n",
      "['a', 'b']\n"
     ]
    }
   ],
   "source": [
    "# list 안의 list\n",
    "# a에 저장된 것 : list 주소, list는 주소를 담아놓은 항아리\n",
    "a = [1, 2, 3, ['a','b','c'], 4, 5]\n",
    "print(a[2:5])\n",
    "print(a[3][:2])\n",
    "\n",
    "# 2차원 리스트\n",
    "# a = [['a', 100, 50],['a1', 90, 88], ['a2', 100, 100]]\n",
    "\n",
    "# 3차 리스트\n",
    "a = [1, 2, ['a', 'b', ['Life', 'is']]]\n",
    "print(a[0])\n",
    "print(a[2][2][0])"
   ]
  },
  {
   "cell_type": "code",
   "execution_count": 63,
   "metadata": {},
   "outputs": [
    {
     "name": "stdout",
     "output_type": "stream",
     "text": [
      "[10, 20, 30, 40, 50, 60]\n",
      "60\n",
      "[10, 20, 30, 40, 50]\n",
      "60\n",
      "[10, 20, 30, 40, 50, 70]\n",
      "[10, 20, 30, 40, 50, 70, 80]\n",
      "80\n"
     ]
    }
   ],
   "source": [
    "# 리스트(list)를 이용한 스택 (stack)\n",
    "a = [10, 20, 30, 40, 50]\n",
    "a.append(60) # 데이터 추가 시 append 함수 사용\n",
    "print(a)\n",
    "print(a.pop()) # 뒤에서 데이터를 가지고 오면서 삭제\n",
    "print(a)\n",
    "a.append(60)\n",
    "print(a.pop()) # first in, last out : stack (LIFO, 복귀주소 저장(함수의 운용))\n",
    "a.append(70)\n",
    "print(a)\n",
    "a.append(80)\n",
    "print(a)\n",
    "print(a.pop()) # 0 을 넣으면 앞에서 빠짐"
   ]
  },
  {
   "cell_type": "code",
   "execution_count": 66,
   "metadata": {},
   "outputs": [
    {
     "name": "stdout",
     "output_type": "stream",
     "text": [
      "7 12\n",
      "7\n"
     ]
    },
    {
     "data": {
      "text/plain": [
       "(9, 20)"
      ]
     },
     "execution_count": 66,
     "metadata": {},
     "output_type": "execute_result"
    }
   ],
   "source": [
    "# 파이썬 함수 - 리턴값의 지정은 없음, 매개변수만 있으면 됨!\n",
    "def calc(a,b): # 함수의 역할 : 작업, 매개변수 : 작업을 할 때 필요한 데이터\n",
    "    return a+b, a*b\n",
    "x, y = calc(3,4)\n",
    "print(x, y)\n",
    "print(x)\n",
    "x, y\n",
    "args = (4,5) # tuple\n",
    "calc(*args) # 포인터"
   ]
  },
  {
   "cell_type": "code",
   "execution_count": 68,
   "metadata": {},
   "outputs": [
    {
     "data": {
      "text/plain": [
       "dict_items([('one', 1), ('two', 2)])"
      ]
     },
     "execution_count": 68,
     "metadata": {},
     "output_type": "execute_result"
    }
   ],
   "source": [
    "# dictionary (검색에서 가장 속도가 빠름)\n",
    "d = {'one':1, 'two':2} # key : 저장될 주소값으로 계산됨\n",
    "d.items() # 묶어서 리스트형식으로 출력해라\n",
    "# mongodb => NOSQL"
   ]
  },
  {
   "cell_type": "code",
   "execution_count": 75,
   "metadata": {},
   "outputs": [
    {
     "name": "stdout",
     "output_type": "stream",
     "text": [
      "2\n",
      "True\n",
      "1\n"
     ]
    },
    {
     "data": {
      "text/plain": [
       "['suwon', 'seoul', 'incheon']"
      ]
     },
     "execution_count": 75,
     "metadata": {},
     "output_type": "execute_result"
    }
   ],
   "source": [
    "cities = ('seoul', 'incheon', 'suwon')\n",
    "print(cities.index('suwon'))\n",
    "print('incheon' in cities) # 포함연산자\n",
    "print(cities.count('seoul'))\n",
    "sorted(cities) # 출력값만 정렬된 거 / 기존 데이터를 바꾼 것은 아님!\n",
    "sorted(cities, reverse = True) # 디폴트는 오름차순, reverse = T 하면 내림차순"
   ]
  },
  {
   "cell_type": "code",
   "execution_count": 124,
   "metadata": {},
   "outputs": [
    {
     "name": "stdout",
     "output_type": "stream",
     "text": [
      "['seoul', 'incheon', 'suwon']\n",
      "['seoul', 'incheon', 'suwon', 'busan']\n",
      "['daegu', 'seoul', 'incheon', 'suwon', 'busan']\n",
      "결합 ['daegu', 'seoul', 'incheon', 'suwon', 'busan', 'jeju', 'kwangju']\n",
      "['daegu', 'seoul', 'incheon', 'suwon', 'busan', ['daejun', 'ulsan']]\n",
      "['daegu', 'seoul', 'incheon', 'suwon', 'busan', ['daejun', 'ulsan'], 'jeju', 'kwangju']\n"
     ]
    }
   ],
   "source": [
    "cities = ['seoul', 'incheon', 'suwon']\n",
    "print(cities)\n",
    "cities.append('busan')\n",
    "print(cities)\n",
    "cities.insert(0, 'daegu')\n",
    "print(cities)\n",
    "other_cities = ['jeju', 'kwangju']\n",
    "print('결합', cities + other_cities) # 리스트 + 연산자\n",
    "cities.append(['daejun', 'ulsan']) # 모양이 유지가 됨\n",
    "print(cities)\n",
    "cities.extend(['jeju', 'kwangju'])\n",
    "print(cities)"
   ]
  },
  {
   "cell_type": "code",
   "execution_count": 125,
   "metadata": {},
   "outputs": [
    {
     "name": "stdout",
     "output_type": "stream",
     "text": [
      "['daejun', 'ulsan']\n",
      "daejun\n",
      "['daegu', 'seoul', 'incheon', 'suwon', 'busan', ['daejun'], 'jeju', 'kwangju']\n"
     ]
    }
   ],
   "source": [
    "print(cities[5])\n",
    "#print(cities[5][1])\n",
    "cities[5][1] = 'jeju'\n",
    "print(cities[5][0])\n",
    "cities[5].remove(cities[5][1])\n",
    "del(cities[5][1])\n",
    "#cities.remove(cities[5][1])\n",
    "print(cities)"
   ]
  },
  {
   "cell_type": "code",
   "execution_count": 130,
   "metadata": {},
   "outputs": [
    {
     "name": "stdout",
     "output_type": "stream",
     "text": [
      "점수입력 :  97\n",
      "A\n"
     ]
    }
   ],
   "source": [
    "print(\"점수입력 : \", end = ' ')\n",
    "jumsu = int(input())\n",
    "if jumsu >= 90 : print('A')\n",
    "elif jumsu >= 80 : print('B')\n",
    "elif jumsu >= 70 : print('C')\n",
    "elif jumsu >= 60 : print('D')\n",
    "else : print('F')"
   ]
  },
  {
   "cell_type": "code",
   "execution_count": null,
   "metadata": {},
   "outputs": [],
   "source": [
    "# 자료구조를 데이터 타입화 ( python core 에서 사용하는 자료구조 )\n",
    "# list : 데이터의 앞뒤에 다음/이전 데이터의 주소가 저장\n",
    "        : 메모리를 효율적으로 사용하고 삽입 삭제를 용이하게 하기 위해서 사용하는 자료구조\n",
    "# dict : 키값이 데이터가 저장되는 주소값으로 계산되는 hash 함수를 이용해 데이터를 저장\n",
    "        : 데이터 저장, 검색 속도가 빠름 / 데이터 주소값으로 변환되는 키 : 데이터 형식으로 저장됨\n",
    "# set : 키만 저장 (중복 불허) : 범주형 데이터의 종류를 확인할 때 사용\n",
    "# tuple : 리스트와 동일한데 변경이 불가능함 (함수가 적음)\n",
    "        : 함수의 매개변수로 값을 전달하거나, 여러개의 값을 리턴하고 싶을 때 사용\n",
    "        : 주로 시스템에서 사용 (속도가 리스트보다 빠름)"
   ]
  },
  {
   "cell_type": "code",
   "execution_count": 2,
   "metadata": {},
   "outputs": [
    {
     "name": "stdout",
     "output_type": "stream",
     "text": [
      "color를 입력하세요 (BLUE or RED)BLUE\n",
      "mode를 입력하세요 (STEADY or FLASHING)STEADY\n",
      "예측된 날씨는 화창한 날\n"
     ]
    }
   ],
   "source": [
    "# 다음 표 (color 와 mode 에 따른 날씨)를 if문을 이용하여 출력하시오\n",
    "# ( 반응에 따른 날씨 예측 프로그램 )\n",
    "#               BLUE          RED\n",
    "# STEADY        화창          비오는날\n",
    "# FLASHING      구름          눈오는날\n",
    "\n",
    "color = input(\"color를 입력하세요 (BLUE or RED)\")\n",
    "mode = input(\"mode를 입력하세요 (STEADY or FLASHING)\")\n",
    "color = color.upper()\n",
    "mode = mode.upper()\n",
    "result = \"\" # result를 쓰면 매번 print를 하지 않아도 되니까!\n",
    "\n",
    "if color == 'BLUE':\n",
    "    if mode == \"STEADY\":\n",
    "        result = \"화창한 날\"\n",
    "    else:\n",
    "        result = \"구름낀 날\"\n",
    "else:\n",
    "    if mode == \"STEADY\":\n",
    "        result = \"비오는날\"\n",
    "    else:\n",
    "        result = \"눈오는날\"\n",
    "        \n",
    "print(\"예측된 날씨는\", result)"
   ]
  },
  {
   "cell_type": "code",
   "execution_count": 1,
   "metadata": {},
   "outputs": [
    {
     "name": "stdout",
     "output_type": "stream",
     "text": [
      "수입을 입력해주세요.48.57\n",
      "지출을 입력해주세요.92.35748\n",
      "순손실 :  43.79\n"
     ]
    }
   ],
   "source": [
    "# 수입(revenue)과 지출을 입력받아 순수입을 출력하는 프로그램을 작성하시오.\n",
    "# - 제약조건 : 소수점 이하 2자리까지 출력\n",
    "#            : 수입과 지출이 동일한 경우를 고려하시오 (손익분기점)\n",
    "#            : 결과 출력시 경우에 따라 순수익, 순손실도 같이 출력하도록 하시오\n",
    "\n",
    "revenue = float(input(\"수입을 입력해주세요.\"))\n",
    "cost = float(input(\"지출을 입력해주세요.\"))\n",
    "result = round(abs(revenue - cost),2)\n",
    "\n",
    "if revenue == cost:\n",
    "    print(\"손익분기점입니다.\")\n",
    "elif revenue > cost:\n",
    "    print(\"순수익 : \", result)\n",
    "else:\n",
    "    print(\"순손실 : \", result)\n",
    "    \n",
    "#쌤의 풀이\n",
    "costs = eval(input(\"총 비용을 입력하시오\"))\n",
    "revenue = eval(input(\"총수익을 입력하시오\"))\n",
    "if costs == revenue:\n",
    "    result = \"손익분기점입니다.\"\n",
    "else:\n",
    "    if costs < revenue:\n",
    "        profit = revenue - costs\n",
    "        result = \"순수익 = {0:,.2f}\".format(round(profit,2)) # 포맷문자열\n",
    "    else:\n",
    "        loss = costs - revenue\n",
    "        result = \"순손실 = {0:,.2f}\".format(round(loss,2))\n",
    "print(result)"
   ]
  },
  {
   "cell_type": "code",
   "execution_count": null,
   "metadata": {},
   "outputs": [],
   "source": [
    "# 평균, 분산, 표준편차, 표준오차 : 데이터 개수의  root 값으로 나누어서\n",
    "# 분산 : 관측치 - 평균 제곱의 합\n",
    "\n",
    "# for 문:\n"
   ]
  },
  {
   "cell_type": "code",
   "execution_count": null,
   "metadata": {},
   "outputs": [],
   "source": []
  }
 ],
 "metadata": {
  "kernelspec": {
   "display_name": "Python 3",
   "language": "python",
   "name": "python3"
  },
  "language_info": {
   "codemirror_mode": {
    "name": "ipython",
    "version": 3
   },
   "file_extension": ".py",
   "mimetype": "text/x-python",
   "name": "python",
   "nbconvert_exporter": "python",
   "pygments_lexer": "ipython3",
   "version": "3.7.4"
  }
 },
 "nbformat": 4,
 "nbformat_minor": 2
}
