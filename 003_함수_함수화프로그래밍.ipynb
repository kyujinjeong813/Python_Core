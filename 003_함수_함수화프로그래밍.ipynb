{
 "cells": [
  {
   "cell_type": "markdown",
   "metadata": {},
   "source": [
    "# 2019. 12. 27"
   ]
  },
  {
   "cell_type": "code",
   "execution_count": null,
   "metadata": {},
   "outputs": [],
   "source": [
    "# 함수 (function)\n",
    "- 함수 이름은 중복이 되면 안됨 (오버로딩은 default 매개변수로 해결)\n",
    "- required auguments (매개변수를 순서적으로 입력)\n",
    "- keyword auguments (키로 지정된 매개변수의 순서 변경이 가능)\n",
    "- default auguments (오버로딩 해결)\n",
    "- variable-length auguments (변동매개변수 : * -> list, ** -> dict)"
   ]
  },
  {
   "cell_type": "code",
   "execution_count": 2,
   "metadata": {},
   "outputs": [
    {
     "name": "stdout",
     "output_type": "stream",
     "text": [
      "30\n",
      "70\n",
      "30\n",
      "70\n"
     ]
    }
   ],
   "source": [
    "a = 10\n",
    "b = 20\n",
    "result = a + b\n",
    "print(result)\n",
    "\n",
    "c = 30\n",
    "d = 40\n",
    "result = c + d\n",
    "print(result)\n",
    "\n",
    "# 사용자 정의 함수\n",
    "def addvalue(a,b): # 주소값만 전달 call by reference\n",
    "    return a+b\n",
    "print(addvalue(10,20)) # 호출시 데이터는 heap에 저장 => 주소값만 전달\n",
    "print(addvalue(30,40))"
   ]
  },
  {
   "cell_type": "code",
   "execution_count": 1,
   "metadata": {},
   "outputs": [
    {
     "name": "stdout",
     "output_type": "stream",
     "text": [
      "30\n",
      "70\n"
     ]
    }
   ],
   "source": [
    "# 회귀분석\n",
    "- y = ax + b # a: 기울기 계수, b : bias 절편"
   ]
  },
  {
   "cell_type": "code",
   "execution_count": 8,
   "metadata": {},
   "outputs": [
    {
     "name": "stdout",
     "output_type": "stream",
     "text": [
      "1030\n",
      "1030\n"
     ]
    },
    {
     "ename": "TypeError",
     "evalue": "reg() takes 1 positional argument but 3 were given",
     "output_type": "error",
     "traceback": [
      "\u001b[1;31m---------------------------------------------------------------------------\u001b[0m",
      "\u001b[1;31mTypeError\u001b[0m                                 Traceback (most recent call last)",
      "\u001b[1;32m<ipython-input-8-f7eb88edb273>\u001b[0m in \u001b[0;36m<module>\u001b[1;34m\u001b[0m\n\u001b[0;32m      8\u001b[0m     \u001b[1;32mreturn\u001b[0m \u001b[0ma\u001b[0m\u001b[1;33m*\u001b[0m\u001b[0mx\u001b[0m \u001b[1;33m+\u001b[0m \u001b[0mb\u001b[0m\u001b[1;33m\u001b[0m\u001b[1;33m\u001b[0m\u001b[0m\n\u001b[0;32m      9\u001b[0m \u001b[0mprint\u001b[0m\u001b[1;33m(\u001b[0m\u001b[0mreg\u001b[0m\u001b[1;33m(\u001b[0m\u001b[1;36m100\u001b[0m\u001b[1;33m)\u001b[0m\u001b[1;33m)\u001b[0m\u001b[1;33m\u001b[0m\u001b[1;33m\u001b[0m\u001b[0m\n\u001b[1;32m---> 10\u001b[1;33m \u001b[0mprint\u001b[0m\u001b[1;33m(\u001b[0m\u001b[0mreg\u001b[0m\u001b[1;33m(\u001b[0m\u001b[1;36m10\u001b[0m\u001b[1;33m,\u001b[0m\u001b[1;36m30\u001b[0m\u001b[1;33m,\u001b[0m\u001b[1;36m100\u001b[0m\u001b[1;33m)\u001b[0m\u001b[1;33m)\u001b[0m\u001b[1;33m\u001b[0m\u001b[1;33m\u001b[0m\u001b[0m\n\u001b[0m",
      "\u001b[1;31mTypeError\u001b[0m: reg() takes 1 positional argument but 3 were given"
     ]
    }
   ],
   "source": [
    "def reg(a,b,x):\n",
    "    return a*x + b\n",
    "print(reg(10,30,100))\n",
    "\n",
    "def reg(x):\n",
    "    a = 10\n",
    "    b = 30\n",
    "    return a*x + b\n",
    "print(reg(100))\n",
    "#print(reg(10,30,100)) # 원칙 : 파이썬에서는 함수 이름이 같으면 안된당"
   ]
  },
  {
   "cell_type": "code",
   "execution_count": 9,
   "metadata": {},
   "outputs": [
    {
     "name": "stdout",
     "output_type": "stream",
     "text": [
      "10보다 크다\n"
     ]
    }
   ],
   "source": [
    "# 두 수를 더한 값이 10보다 큰지 확인하시오\n",
    "\n",
    "a = 10\n",
    "b = 20\n",
    "result = a + b\n",
    "if result > 10:\n",
    "    result = \"10보다 크다\"\n",
    "else:\n",
    "    result = \"10보다 작거나 같다\"\n",
    "print(result)"
   ]
  },
  {
   "cell_type": "code",
   "execution_count": 12,
   "metadata": {},
   "outputs": [
    {
     "data": {
      "text/plain": [
       "'10보다 크다'"
      ]
     },
     "execution_count": 12,
     "metadata": {},
     "output_type": "execute_result"
    }
   ],
   "source": [
    "def sum_1(a,b):\n",
    "    result = a+b\n",
    "    if result > 10:\n",
    "        result = \"10보다 크다\"\n",
    "    else:\n",
    "        result = \"10보다 작거나 같다\"\n",
    "    return result\n",
    "sum_1(10,20)"
   ]
  },
  {
   "cell_type": "code",
   "execution_count": 20,
   "metadata": {},
   "outputs": [
    {
     "name": "stdout",
     "output_type": "stream",
     "text": [
      "(10, 20)\n"
     ]
    },
    {
     "data": {
      "text/plain": [
       "tuple"
      ]
     },
     "execution_count": 20,
     "metadata": {},
     "output_type": "execute_result"
    }
   ],
   "source": [
    "# 함수를 이용해서 a, b의 값을 바꾸라\n",
    "a = 10\n",
    "b = 20\n",
    "\n",
    "# 나는 바보얌\n",
    "def switch(a,b):\n",
    "    a, b = b, a\n",
    "    return a, b\n",
    "switch(10,20)\n",
    "\n",
    "# 쌤으 풀이\n",
    "def swap(x,y): # 함수는 여러개의 값을 리턴할 수 있음\n",
    "    return y, x\n",
    "a,b = swap(a,b)\n",
    "x = swap(a,b) # 함수가 리턴하는 값은 튜플\n",
    "print(x)\n",
    "type(x)"
   ]
  },
  {
   "cell_type": "code",
   "execution_count": 24,
   "metadata": {},
   "outputs": [
    {
     "name": "stdout",
     "output_type": "stream",
     "text": [
      "결과 :  30\n",
      "결과 :  -10\n",
      "결과 :  200\n"
     ]
    }
   ],
   "source": [
    "# 두 수를 입력받아 +, -, * 하는 함수 3개를 작성하시오\n",
    "\n",
    "def add(x,y):\n",
    "    return x + y\n",
    "\n",
    "def substract(x,y):\n",
    "    return x - y\n",
    "\n",
    "def multiply(x,y):\n",
    "    return x * y\n",
    "\n",
    "# 함수는 일급함수 : 함수가 매개변수로 전달가능, 리턴값으로도 가능 (javascript)\n",
    "def changefun(g, a, b):\n",
    "    return g(a,b)\n",
    "print(\"결과 : \", changefun(add, 10, 20)) # sort (key함수 전달) 같은 방식\n",
    "print(\"결과 : \", changefun(substract, 10, 20))\n",
    "print(\"결과 : \", changefun(multiply, 10, 20))"
   ]
  },
  {
   "cell_type": "code",
   "execution_count": 29,
   "metadata": {},
   "outputs": [
    {
     "name": "stdout",
     "output_type": "stream",
     "text": [
      "함수 내부에서 출력 :  [10, 20, 30, [1, 2, 3, 4]]\n",
      "함수 외부에서 출력 :  [10, 20, 30, [1, 2, 3, 4]]\n"
     ]
    }
   ],
   "source": [
    "def changeme(mylist): # mylist = mylist 주소\n",
    "    mylist.append([1,2,3,4])\n",
    "    print(\"함수 내부에서 출력 : \", mylist)\n",
    "    return\n",
    "\n",
    "mylist = [10,20,30] # heap에 저장, 함수 외부 있는데 변경 이유 : 주소값이 넘어갔기 때문 call by reference\n",
    "changeme(mylist) \n",
    "print(\"함수 외부에서 출력 : \", mylist)"
   ]
  },
  {
   "cell_type": "code",
   "execution_count": 33,
   "metadata": {},
   "outputs": [
    {
     "name": "stdout",
     "output_type": "stream",
     "text": [
      "함수 내부에서 출력 :  [1, 2, 3, 4]\n",
      "함수 외부에서 출력 :  [10, 20, 30]\n"
     ]
    }
   ],
   "source": [
    "def changeme1(mylist):\n",
    "    mylist = [1,2,3,4] # 대입이 벌어지면 call by value\n",
    "    print(\"함수 내부에서 출력 : \", mylist)\n",
    "    return\n",
    "\n",
    "mylist = [10,20,30]\n",
    "changeme1(mylist)\n",
    "print(\"함수 외부에서 출력 : \", mylist)"
   ]
  },
  {
   "cell_type": "code",
   "execution_count": 35,
   "metadata": {},
   "outputs": [
    {
     "ename": "AttributeError",
     "evalue": "'set' object has no attribute 'append'",
     "output_type": "error",
     "traceback": [
      "\u001b[1;31m---------------------------------------------------------------------------\u001b[0m",
      "\u001b[1;31mAttributeError\u001b[0m                            Traceback (most recent call last)",
      "\u001b[1;32m<ipython-input-35-d80463e3d3db>\u001b[0m in \u001b[0;36m<module>\u001b[1;34m\u001b[0m\n\u001b[0;32m      1\u001b[0m \u001b[1;31m# 실행이 안되는 이유 :\u001b[0m\u001b[1;33m\u001b[0m\u001b[1;33m\u001b[0m\u001b[1;33m\u001b[0m\u001b[0m\n\u001b[0;32m      2\u001b[0m \u001b[0mmylist\u001b[0m \u001b[1;33m=\u001b[0m \u001b[1;33m{\u001b[0m\u001b[1;36m10\u001b[0m\u001b[1;33m,\u001b[0m\u001b[1;36m20\u001b[0m\u001b[1;33m,\u001b[0m\u001b[1;36m30\u001b[0m\u001b[1;33m}\u001b[0m\u001b[1;33m\u001b[0m\u001b[1;33m\u001b[0m\u001b[0m\n\u001b[1;32m----> 3\u001b[1;33m \u001b[0mchangeme\u001b[0m\u001b[1;33m(\u001b[0m\u001b[0mmylist\u001b[0m\u001b[1;33m)\u001b[0m\u001b[1;33m\u001b[0m\u001b[1;33m\u001b[0m\u001b[0m\n\u001b[0m\u001b[0;32m      4\u001b[0m \u001b[0mprint\u001b[0m\u001b[1;33m(\u001b[0m\u001b[1;34m\"함수 외부에서 출력 : \"\u001b[0m\u001b[1;33m,\u001b[0m \u001b[0mmylist\u001b[0m\u001b[1;33m)\u001b[0m\u001b[1;33m\u001b[0m\u001b[1;33m\u001b[0m\u001b[0m\n",
      "\u001b[1;32m<ipython-input-29-7a9ed9fc5b92>\u001b[0m in \u001b[0;36mchangeme\u001b[1;34m(mylist)\u001b[0m\n\u001b[0;32m      1\u001b[0m \u001b[1;32mdef\u001b[0m \u001b[0mchangeme\u001b[0m\u001b[1;33m(\u001b[0m\u001b[0mmylist\u001b[0m\u001b[1;33m)\u001b[0m\u001b[1;33m:\u001b[0m \u001b[1;31m# mylist = mylist 주소\u001b[0m\u001b[1;33m\u001b[0m\u001b[1;33m\u001b[0m\u001b[0m\n\u001b[1;32m----> 2\u001b[1;33m     \u001b[0mmylist\u001b[0m\u001b[1;33m.\u001b[0m\u001b[0mappend\u001b[0m\u001b[1;33m(\u001b[0m\u001b[1;33m[\u001b[0m\u001b[1;36m1\u001b[0m\u001b[1;33m,\u001b[0m\u001b[1;36m2\u001b[0m\u001b[1;33m,\u001b[0m\u001b[1;36m3\u001b[0m\u001b[1;33m,\u001b[0m\u001b[1;36m4\u001b[0m\u001b[1;33m]\u001b[0m\u001b[1;33m)\u001b[0m\u001b[1;33m\u001b[0m\u001b[1;33m\u001b[0m\u001b[0m\n\u001b[0m\u001b[0;32m      3\u001b[0m     \u001b[0mprint\u001b[0m\u001b[1;33m(\u001b[0m\u001b[1;34m\"함수 내부에서 출력 : \"\u001b[0m\u001b[1;33m,\u001b[0m \u001b[0mmylist\u001b[0m\u001b[1;33m)\u001b[0m\u001b[1;33m\u001b[0m\u001b[1;33m\u001b[0m\u001b[0m\n\u001b[0;32m      4\u001b[0m     \u001b[1;32mreturn\u001b[0m\u001b[1;33m\u001b[0m\u001b[1;33m\u001b[0m\u001b[0m\n\u001b[0;32m      5\u001b[0m \u001b[1;33m\u001b[0m\u001b[0m\n",
      "\u001b[1;31mAttributeError\u001b[0m: 'set' object has no attribute 'append'"
     ]
    }
   ],
   "source": [
    "# 실행이 안되는 이유 : 데이터타입을 구분해야 하는 것은 프로그래머의 책임\n",
    "mylist = {10,20,30}\n",
    "changeme(mylist)\n",
    "print(\"함수 외부에서 출력 : \", mylist)"
   ]
  },
  {
   "cell_type": "code",
   "execution_count": 36,
   "metadata": {},
   "outputs": [
    {
     "name": "stdout",
     "output_type": "stream",
     "text": [
      "시작\n",
      "1,2,3,\n",
      "1,2,3,4,5,\n"
     ]
    }
   ],
   "source": [
    "# 변동 매개변수 : \n",
    "def func1(*args): # list\n",
    "    for i in args:\n",
    "        print(i, end=',')\n",
    "    print()\n",
    "print('시작')\n",
    "func1(1,2,3)\n",
    "func1(1,2,3,4,5)"
   ]
  },
  {
   "cell_type": "code",
   "execution_count": 38,
   "metadata": {},
   "outputs": [
    {
     "name": "stdout",
     "output_type": "stream",
     "text": [
      "args is (1, 2)\n",
      "kwargs is {'z': 5.0}\n",
      "Hello Now I'm going th call <function g at 0x0000022484CE0A68>\n",
      "1\n",
      "2\n",
      "5.0\n"
     ]
    },
    {
     "data": {
      "text/plain": [
       "0.6"
      ]
     },
     "execution_count": 38,
     "metadata": {},
     "output_type": "execute_result"
    }
   ],
   "source": [
    "# 이해만 할 수 있으믄 됨!! \n",
    "def say_hello_then_call(f, *args, **kwargs):\n",
    "    print('args is', args)\n",
    "    print('kwargs is', kwargs)\n",
    "    print(\"Hello Now I'm going th call %s\" % f) # 함수가 위치한 주소\n",
    "    return f(*args, **kwargs)\n",
    "\n",
    "def g(x, y, z=1): # default 매개변수\n",
    "    print(x)\n",
    "    print(y)\n",
    "    print(z)\n",
    "    return (x+y)/z\n",
    "\n",
    "say_hello_then_call(g, 1,2, z = 5.)"
   ]
  },
  {
   "cell_type": "code",
   "execution_count": 39,
   "metadata": {},
   "outputs": [
    {
     "name": "stdout",
     "output_type": "stream",
     "text": [
      "1 0\n",
      "1 2\n",
      "1 2\n"
     ]
    }
   ],
   "source": [
    "def func_test2(a, b=0):\n",
    "    print(a,b)\n",
    "func_test2(1)\n",
    "func_test2(1,2)\n",
    "func_test2(b=2, a=1)"
   ]
  },
  {
   "cell_type": "code",
   "execution_count": 43,
   "metadata": {},
   "outputs": [
    {
     "name": "stdout",
     "output_type": "stream",
     "text": [
      "1 0\n",
      "1 2\n",
      "1 2\n"
     ]
    }
   ],
   "source": [
    "def func_test2(a, b=0): # 디폴트 매개변수가 아닌 c를 b 뒤에 적으면 정의에서부터 에러남\n",
    "    print(a,b)\n",
    "func_test2(1)\n",
    "func_test2(1,2)\n",
    "func_test2(b=2, a=1)"
   ]
  },
  {
   "cell_type": "code",
   "execution_count": 44,
   "metadata": {},
   "outputs": [],
   "source": [
    "def func_test4(): # None 객체를 리턴함\n",
    "    pass # 몸통을 미지정"
   ]
  },
  {
   "cell_type": "code",
   "execution_count": 46,
   "metadata": {},
   "outputs": [
    {
     "data": {
      "text/plain": [
       "True"
      ]
     },
     "execution_count": 46,
     "metadata": {},
     "output_type": "execute_result"
    }
   ],
   "source": [
    "# == 숫자나 문자, 객체를 비교할 때는 is 연산자 사용\n",
    "result = func_test4()\n",
    "result is None"
   ]
  },
  {
   "cell_type": "code",
   "execution_count": 48,
   "metadata": {},
   "outputs": [
    {
     "data": {
      "text/plain": [
       "NoneType"
      ]
     },
     "execution_count": 48,
     "metadata": {},
     "output_type": "execute_result"
    }
   ],
   "source": [
    "result.__class__ # 멤버변수, 시스템에서 생성한 변수"
   ]
  },
  {
   "cell_type": "code",
   "execution_count": 49,
   "metadata": {},
   "outputs": [
    {
     "data": {
      "text/plain": [
       "function"
      ]
     },
     "execution_count": 49,
     "metadata": {},
     "output_type": "execute_result"
    }
   ],
   "source": [
    "func_test4.__class__ # 파이썬은 모든 게 객체~"
   ]
  },
  {
   "cell_type": "code",
   "execution_count": 54,
   "metadata": {},
   "outputs": [
    {
     "name": "stdout",
     "output_type": "stream",
     "text": [
      "15 5 50\n",
      "<class 'function'>\n"
     ]
    }
   ],
   "source": [
    "def func_test3(a, b):\n",
    "    return a+b, a-b, a*b\n",
    "\n",
    "a,b,c = func_test3(10,5)\n",
    "print(a,b,c)\n",
    "print(type(func_test3)) # 함수도 객체다"
   ]
  },
  {
   "cell_type": "code",
   "execution_count": 55,
   "metadata": {},
   "outputs": [
    {
     "name": "stdout",
     "output_type": "stream",
     "text": [
      "15\n"
     ]
    }
   ],
   "source": [
    "# 커링\n",
    "def all_number(x,y):\n",
    "    return x+y\n",
    "add_five = lambda y: all_number(5,y) # 무명함수 => 유명함수\n",
    "print(add_five(10))"
   ]
  },
  {
   "cell_type": "code",
   "execution_count": 56,
   "metadata": {},
   "outputs": [
    {
     "data": {
      "text/plain": [
       "5.385164807134504"
      ]
     },
     "execution_count": 56,
     "metadata": {},
     "output_type": "execute_result"
    }
   ],
   "source": [
    "# 문제 : 두 점 사이의 거리값을 구하는 함수를 작성하시오.\n",
    "import math\n",
    "\n",
    "def distance(x1, y1, x2, y2):\n",
    "    return math.sqrt((x2-x1)**2 + (y2-y1)**2)\n",
    "\n",
    "distance(1,3,-1,8)"
   ]
  },
  {
   "cell_type": "code",
   "execution_count": 62,
   "metadata": {},
   "outputs": [
    {
     "name": "stdout",
     "output_type": "stream",
     "text": [
      "1.4142135623730951\n"
     ]
    }
   ],
   "source": [
    "# 쌤의 풀이\n",
    "def distance_between_points(x1, y1, x2, y2):\n",
    "    \"\"\"두 점 사이의 거리를 구하는 함수\"\"\"\n",
    "    dx = x1 - x2\n",
    "    dy = y1 - y2\n",
    "    dist = math.sqrt(dx**2 + dy**2) # 피타고라스 정리\n",
    "    return dist\n",
    "print(distance_between_points(1,1,2,2)) # 자기가 알고 있는 수로 테스트해야 함!!\n",
    "?distance_between_points"
   ]
  },
  {
   "cell_type": "code",
   "execution_count": 64,
   "metadata": {},
   "outputs": [
    {
     "ename": "SyntaxError",
     "evalue": "invalid syntax (<ipython-input-64-1cb6c7ca615f>, line 4)",
     "output_type": "error",
     "traceback": [
      "\u001b[1;36m  File \u001b[1;32m\"<ipython-input-64-1cb6c7ca615f>\"\u001b[1;36m, line \u001b[1;32m4\u001b[0m\n\u001b[1;33m    def distance(f, *a, *b):\u001b[0m\n\u001b[1;37m                        ^\u001b[0m\n\u001b[1;31mSyntaxError\u001b[0m\u001b[1;31m:\u001b[0m invalid syntax\n"
     ]
    }
   ],
   "source": [
    "#x,y 좌표를 튜플타입으로 던져주고 그걸 받아서 처리하는 함수 ㅇ_ㅇ\n",
    "#(1,3),(2,4)"
   ]
  },
  {
   "cell_type": "code",
   "execution_count": 65,
   "metadata": {},
   "outputs": [
    {
     "data": {
      "text/plain": [
       "120"
      ]
     },
     "execution_count": 65,
     "metadata": {},
     "output_type": "execute_result"
    }
   ],
   "source": [
    "# 수학에서 factorial 5! = 5*4*3*2*1\n",
    "def factorial(n):\n",
    "    sum = 1 # 항등원 (덧셈의 항등원은 0, 곱셈의 항등원은 1, 행렬의 항등원 단위행렬)\n",
    "    for i in range(n, 1, -1):\n",
    "        sum *= i\n",
    "    return sum\n",
    "factorial(5)"
   ]
  },
  {
   "cell_type": "code",
   "execution_count": 67,
   "metadata": {},
   "outputs": [
    {
     "data": {
      "text/plain": [
       "120"
      ]
     },
     "execution_count": 67,
     "metadata": {},
     "output_type": "execute_result"
    }
   ],
   "source": [
    "# 재귀함수 : 함수가 자기 자신 함수를 호출 (stack overflow 날 수 있음 -> 반드시 종료조건을 앞에 적어줄 것)\n",
    "def factorial(n, stop=1):\n",
    "    if n <= stop or n <= 0: # 종료조건, 입력제한\n",
    "        return 1\n",
    "    return n*factorial(n-1, stop)\n",
    "factorial(5)\n",
    "# binary tree 분류도 함수 3개만 만들면 할 수 있음"
   ]
  },
  {
   "cell_type": "code",
   "execution_count": 68,
   "metadata": {},
   "outputs": [
    {
     "name": "stdout",
     "output_type": "stream",
     "text": [
      "8\n"
     ]
    }
   ],
   "source": [
    "# power 함수를 구현하시오 (2^10)\n",
    "# 아래 함수를 재귀함수로 변경하시오\n",
    "def power(r, n):\n",
    "    value = 1\n",
    "    for i in range(1, n+1):\n",
    "        value = r * value\n",
    "    return value\n",
    "print(power(2,3))"
   ]
  },
  {
   "cell_type": "code",
   "execution_count": 74,
   "metadata": {},
   "outputs": [
    {
     "data": {
      "text/plain": [
       "4"
      ]
     },
     "execution_count": 74,
     "metadata": {},
     "output_type": "execute_result"
    }
   ],
   "source": [
    "# 나의 풀이\n",
    "def power_fun(r, n, stop=1):\n",
    "    if n < stop or n <= 0:\n",
    "        return 1\n",
    "    return r*power_fun(r, n-1, stop)\n",
    "power_fun(2,2)"
   ]
  },
  {
   "cell_type": "code",
   "execution_count": 76,
   "metadata": {},
   "outputs": [
    {
     "data": {
      "text/plain": [
       "8"
      ]
     },
     "execution_count": 76,
     "metadata": {},
     "output_type": "execute_result"
    }
   ],
   "source": [
    "# 쌤의 풀이\n",
    "def power(r, n):\n",
    "    if n == 1:\n",
    "        return r\n",
    "    else:\n",
    "        return r*power(r, n-1)\n",
    "power(2,3)"
   ]
  },
  {
   "cell_type": "code",
   "execution_count": 77,
   "metadata": {},
   "outputs": [
    {
     "name": "stdout",
     "output_type": "stream",
     "text": [
      "inner\n"
     ]
    }
   ],
   "source": [
    "# 내부함수\n",
    "def outer():\n",
    "    def inner():\n",
    "        print('inner')\n",
    "    inner()\n",
    "def inner():\n",
    "    print('global inner')\n",
    "    \n",
    "outer()"
   ]
  },
  {
   "cell_type": "code",
   "execution_count": 79,
   "metadata": {},
   "outputs": [
    {
     "name": "stdout",
     "output_type": "stream",
     "text": [
      "0.007646191769152155\n",
      "0.16444132021516822\n",
      "0.6842080978294498\n",
      "0.6433656497798765\n",
      "0.0554210714187674\n"
     ]
    }
   ],
   "source": [
    "# generator\n",
    "# for in : collections(list, tuple, dict, set) / iterator(ranges) / generator / enumerate\n",
    "import random\n",
    "def gaus_dist(n):\n",
    "    while n > 0:\n",
    "        yield random.random() # 비동기 호출함수\n",
    "        n-=1\n",
    "gd = gaus_dist(5)\n",
    "for i in gd: # 얘가 호출해서 올 때만 동작 (메모리 낭비를 방지)\n",
    "    print(i)"
   ]
  },
  {
   "cell_type": "code",
   "execution_count": 81,
   "metadata": {},
   "outputs": [
    {
     "name": "stdout",
     "output_type": "stream",
     "text": [
      "python's recipe no.1\n",
      "perl's recipe no.2\n"
     ]
    },
    {
     "data": {
      "text/plain": [
       "(2355870442408, 2355870443560)"
      ]
     },
     "execution_count": 81,
     "metadata": {},
     "output_type": "execute_result"
    }
   ],
   "source": [
    "# 함수가 값을 저장할 수 있는가?\n",
    "# clouser (자바스크립트에서 사용하던 방식) : 값을 저장하는 방법\n",
    "\n",
    "def cookbook(name):\n",
    "    def recipe(no):\n",
    "        print(\"%s's recipe no.%d\" % (name, no))\n",
    "    return recipe\n",
    "\n",
    "python_recipe = cookbook('python')\n",
    "perl_recipe = cookbook('perl')\n",
    "python_recipe(1)\n",
    "perl_recipe(2)\n",
    "id(python_recipe), id(perl_recipe)"
   ]
  },
  {
   "cell_type": "code",
   "execution_count": 83,
   "metadata": {},
   "outputs": [
    {
     "name": "stdout",
     "output_type": "stream",
     "text": [
      "         1.7560\n",
      "              1\n"
     ]
    }
   ],
   "source": [
    "# clouser 클로저의 응용 (장식자 : decorator)\n",
    "def format_and_pad(template, space):\n",
    "    def formatter(x):\n",
    "        return (template % x).rjust(space)\n",
    "    return formatter\n",
    "\n",
    "fmt = format_and_pad('%.4f', 15)\n",
    "print(fmt(1.756)) \n",
    "\n",
    "fmt2 = format_and_pad('%d', 15)\n",
    "print(fmt2(1.756))"
   ]
  },
  {
   "cell_type": "code",
   "execution_count": 2,
   "metadata": {},
   "outputs": [
    {
     "data": {
      "text/plain": [
       "3.141592653589793"
      ]
     },
     "execution_count": 2,
     "metadata": {},
     "output_type": "execute_result"
    }
   ],
   "source": [
    "# 데이터를 입력받아\n",
    "# 삼각형의 넓이 (밑변 X 높이)\n",
    "# 사각형의 넓이 (밑변 X 높이)\n",
    "# 원의 넓이를 계산하는 함수를 작성해보시오 (반지름)\n",
    "\n",
    "# 나으 풀이\n",
    "import math\n",
    "\n",
    "def triangle(length, height):\n",
    "    return length * height / 2\n",
    "                 \n",
    "def rectangle(length, height):\n",
    "    return length * height\n",
    "\n",
    "def circle(r):\n",
    "    return math.pi*(r**2)\n",
    "\n",
    "triangle(2,3)\n",
    "rectangle(2,4)\n",
    "circle(1)\n",
    "\n",
    "length = int(input(\"삼각형의 밑변을 입력해주세요.\"))\n",
    "height = int(input(\"삼각형의 높이를 입력해주세요.\"))\n",
    "triangle(length, height)\n",
    "\n",
    "length = int(input(\"사각형의 밑변을 입력해주세요.\"))\n",
    "height = int(input(\"사각형의 높이를 입력해주세요.\"))\n",
    "rectangle(length, height)\n",
    "\n",
    "r = int(input(\"원의 반지름을 입력해주세요.\"))\n",
    "circle(r)"
   ]
  },
  {
   "cell_type": "code",
   "execution_count": 6,
   "metadata": {},
   "outputs": [
    {
     "name": "stdout",
     "output_type": "stream",
     "text": [
      "밑변이나 반지름으로 사용할 값을 입력하시오4\n",
      "삼각형이나 사각형의 높이를 입력하시오2\n",
      "삼각형의 넓이는  4.0\n",
      "사각형의 넓이는  8\n",
      "원의 넓이는  50.26548245743669\n"
     ]
    }
   ],
   "source": [
    "# 쌤의 풀이\n",
    "import math\n",
    "def calculate_triangle(mylist):\n",
    "    return mylist[0]*mylist[1]/2\n",
    "def calculate_rectangle(mylist):\n",
    "    return mylist[0]*mylist[1]\n",
    "def calculate_circle(mylist):\n",
    "    return math.pi*(mylist[0]**2)\n",
    "\n",
    "mylist =[]\n",
    "width = eval(input(\"밑변이나 반지름으로 사용할 값을 입력하시오\"))\n",
    "height = eval(input(\"삼각형이나 사각형의 높이를 입력하시오\"))\n",
    "mylist.append(width)\n",
    "mylist.append(height)\n",
    "print(\"삼각형의 넓이는 \", calculate_triangle(mylist))\n",
    "print(\"사각형의 넓이는 \", calculate_rectangle(mylist))\n",
    "print(\"원의 넓이는 \", calculate_circle(mylist))"
   ]
  },
  {
   "cell_type": "code",
   "execution_count": 8,
   "metadata": {},
   "outputs": [
    {
     "data": {
      "text/plain": [
       "475000.0"
      ]
     },
     "execution_count": 8,
     "metadata": {},
     "output_type": "execute_result"
    }
   ],
   "source": [
    "# 시간과 시간당 급여를 입력받아 주급을 계산하는 프로그램을 작성하시오\n",
    "#- 조건 : 40시간이 넘으면 1.5배하여 지급합니다.\n",
    "#- 매개변수(시간, 시간 당 급여)\n",
    "\n",
    "def weekpay(hour, salary_per_hour):\n",
    "    if hour >= 40 :\n",
    "        return (hour-40)*salary_per_hour*1.5 + 40*salary_per_hour\n",
    "    else:\n",
    "        return hour * salary_per_hour\n",
    "weekpay(45, 10000)\n"
   ]
  },
  {
   "cell_type": "code",
   "execution_count": 9,
   "metadata": {},
   "outputs": [
    {
     "data": {
      "text/plain": [
       "60000"
      ]
     },
     "execution_count": 9,
     "metadata": {},
     "output_type": "execute_result"
    }
   ],
   "source": [
    "def weekpay2(hour, pay_per_hour):\n",
    "    pay = 0\n",
    "    if hour >= 40:\n",
    "        pay = 40*pay_per_hour + (hour-40)*pay_per_hour*1.5\n",
    "    else:\n",
    "        pay = pay_per_hour * hour\n",
    "    return pay\n",
    "\n",
    "weekpay2(30, 2000)"
   ]
  },
  {
   "cell_type": "code",
   "execution_count": 10,
   "metadata": {},
   "outputs": [
    {
     "name": "stdout",
     "output_type": "stream",
     "text": [
      "주당 근무 시간을 입력해주세요.55\n",
      "시간당 급여를 입력해주세요.10000\n",
      "주급은  625000.0 원 입니다.\n"
     ]
    }
   ],
   "source": [
    "def weekpay(mylist):\n",
    "    hour = mylist[0]\n",
    "    pay_per_hour = mylist[1]\n",
    "    if hour > 40 :\n",
    "        return (hour-40)*pay_per_hour*1.5 + 40*pay_per_hour\n",
    "    else:\n",
    "        return hour * pay_per_hou\n",
    "    \n",
    "mylist = []\n",
    "hour = eval(input(\"주당 근무 시간을 입력해주세요.\"))\n",
    "pay_per_hour = eval(input(\"시간당 급여를 입력해주세요.\"))\n",
    "mylist.append(hour)\n",
    "mylist.append(pay_per_hour)\n",
    "print(\"주급은 \", weekpay(mylist), \"원 입니다.\")\n",
    "\n",
    "# 다 짜고 다시한 번 더 생각함! 어디를 최적화시킬지 고민!"
   ]
  },
  {
   "cell_type": "code",
   "execution_count": 12,
   "metadata": {},
   "outputs": [
    {
     "name": "stdout",
     "output_type": "stream",
     "text": [
      "시간당급여는 : \n"
     ]
    },
    {
     "ename": "SyntaxError",
     "evalue": "unexpected EOF while parsing (<string>, line 0)",
     "output_type": "error",
     "traceback": [
      "Traceback \u001b[1;36m(most recent call last)\u001b[0m:\n",
      "  File \u001b[0;32m\"C:\\Users\\ICT01_05\\Anaconda3\\lib\\site-packages\\IPython\\core\\interactiveshell.py\"\u001b[0m, line \u001b[0;32m3326\u001b[0m, in \u001b[0;35mrun_code\u001b[0m\n    exec(code_obj, self.user_global_ns, self.user_ns)\n",
      "\u001b[1;36m  File \u001b[1;32m\"<ipython-input-12-1a991f262f8f>\"\u001b[1;36m, line \u001b[1;32m8\u001b[1;36m, in \u001b[1;35m<module>\u001b[1;36m\u001b[0m\n\u001b[1;33m    hourlyWage = eval(input(\"시간당급여는 : \"))\u001b[0m\n",
      "\u001b[1;36m  File \u001b[1;32m\"<string>\"\u001b[1;36m, line \u001b[1;32munknown\u001b[0m\n\u001b[1;33m    \u001b[0m\n\u001b[1;37m    ^\u001b[0m\n\u001b[1;31mSyntaxError\u001b[0m\u001b[1;31m:\u001b[0m unexpected EOF while parsing\n"
     ]
    }
   ],
   "source": [
    "basictime = 40 # 상수는 변수화!!!\n",
    "def pay(wage, hours):\n",
    "    if hours <= basictime:\n",
    "        amount = wage * hours\n",
    "    else:\n",
    "        amount = (wage * basictime) + ((1.5) * wage * (hours - basictime))\n",
    "    return amount\n",
    "hourlyWage = eval(input(\"시간당급여는 : \"))\n",
    "hoursWorked = eval(input(\"주간 총 근무시간 : \"))\n",
    "earnings = pay(hourlyWage, hoursWorked)\n",
    "print(\"주간 수입은 : {0:,.2f} 원\".format(earnings))"
   ]
  },
  {
   "cell_type": "code",
   "execution_count": 1,
   "metadata": {},
   "outputs": [
    {
     "name": "stdout",
     "output_type": "stream",
     "text": [
      "원금을 입력해주세요.1000\n",
      "거치기간을 입력해주세요. (단위 : 년)3\n",
      "총액은 1,124.86원, 이자수익은 124.86원입니다.\n"
     ]
    }
   ],
   "source": [
    "# 이자율이 주어졌을 때 기간거치후의 총액과 이자수익을 출력하시오\n",
    "# 복리계산 = (원가1 + 이율 0.04 ) ** 거치년수\n",
    "# 매개변수 : 원금, 거치기간\n",
    "# 단서조건 : 입력함수, 계산함수, 출력함수로 분리해서 작성하시오\n",
    "\n",
    "\n",
    "INTEREST_RATE = 0.04\n",
    "\n",
    "def input_data():\n",
    "    principal = eval(input(\"원금을 입력해주세요. \"))\n",
    "    years = eval(input(\"거치기간을 입력해주세요. (단위 : 년)\"))\n",
    "    return principal, years\n",
    "\n",
    "def compound_calculator(principal, years):\n",
    "    total = principal * (1 + INTEREST_RATE) ** years\n",
    "    interest = total - principal\n",
    "    return total, interest\n",
    "\n",
    "def output_data(total, interest):\n",
    "    return print(\"총액은 {0:,.2f}원, 이자수익은 {1:,.2f}원입니다.\".format(total, interest))\n",
    "\n",
    "data = input_data()\n",
    "(total, interest) = compound_calculator(*data)\n",
    "output_data(total, interest)"
   ]
  },
  {
   "cell_type": "code",
   "execution_count": 6,
   "metadata": {},
   "outputs": [
    {
     "name": "stdout",
     "output_type": "stream",
     "text": [
      "예금액 : 10000\n",
      "기간 : 3\n",
      "예금 총액 : $11,248.64   이자 총액 : $1,248.64\n"
     ]
    }
   ],
   "source": [
    "# 쌤의 풀이\n",
    "def getInput(): # 입력\n",
    "    principal = eval(input(\"예금액 : \"))\n",
    "    numberOfYears = eval(input(\"기간 : \"))\n",
    "    return (principal, numberOfYears)\n",
    "\n",
    "def balanceAndInterest(prin, numYears):\n",
    "    balance = prin * ((1+INTEREST_RATE) ** numYears) # 원금포함 이자 계산액\n",
    "    interestEarned = balance - prin # 순수이자액\n",
    "    return (balance, interestEarned)\n",
    "    \n",
    "def displayOutput(bal, intEarned):\n",
    "    print(\"예금 총액 : ${0:,.2f}   이자 총액 : ${1:,.2f}\".format(bal, intEarned))\n",
    "    \n",
    "def main():\n",
    "    principal, numberOfYears = getInput()\n",
    "    bal, intEarned = balanceAndInterest(principal, numberOfYears)\n",
    "    displayOutput(bal, intEarned)\n",
    "    # 한줄로 쓰면 displayOutput(*(balanceandInterset(*getInput())))\n",
    "    \n",
    "main()"
   ]
  },
  {
   "cell_type": "code",
   "execution_count": 7,
   "metadata": {},
   "outputs": [
    {
     "ename": "SyntaxError",
     "evalue": "invalid syntax (<ipython-input-7-9d3f2e55854a>, line 2)",
     "output_type": "error",
     "traceback": [
      "\u001b[1;36m  File \u001b[1;32m\"<ipython-input-7-9d3f2e55854a>\"\u001b[1;36m, line \u001b[1;32m2\u001b[0m\n\u001b[1;33m    lambda 함수를 이용한 처리가 많음\u001b[0m\n\u001b[1;37m                 ^\u001b[0m\n\u001b[1;31mSyntaxError\u001b[0m\u001b[1;31m:\u001b[0m invalid syntax\n"
     ]
    }
   ],
   "source": [
    "# 함수화 프로그래밍 for + 함수를 적용\n",
    "lambda 함수를 이용한 처리가 많음"
   ]
  },
  {
   "cell_type": "code",
   "execution_count": 8,
   "metadata": {},
   "outputs": [
    {
     "data": {
      "text/plain": [
       "100"
      ]
     },
     "execution_count": 8,
     "metadata": {},
     "output_type": "execute_result"
    }
   ],
   "source": [
    "(lambda x: x*x)(10)"
   ]
  },
  {
   "cell_type": "code",
   "execution_count": 10,
   "metadata": {},
   "outputs": [
    {
     "name": "stdout",
     "output_type": "stream",
     "text": [
      "11\n"
     ]
    },
    {
     "data": {
      "text/plain": [
       "15"
      ]
     },
     "execution_count": 10,
     "metadata": {},
     "output_type": "execute_result"
    }
   ],
   "source": [
    "incr = lambda x, incr = 1 : x + incr # 무명함수 -> 유명함수\n",
    "print(incr(10))\n",
    "incr(10,5)"
   ]
  },
  {
   "cell_type": "code",
   "execution_count": 11,
   "metadata": {},
   "outputs": [
    {
     "name": "stdout",
     "output_type": "stream",
     "text": [
      "['aaaa', 'foo', 'abab', 'bar', 'card']\n"
     ]
    }
   ],
   "source": [
    "# 개수에 따른 정렬\n",
    "strings = ['foo', 'card', 'bar','aaaa','abab']\n",
    "strings.sort(key=lambda x: len(set(list(x)))) # 중복되지 않는 데이터 개수에 따라\n",
    "print(strings)"
   ]
  },
  {
   "cell_type": "code",
   "execution_count": 15,
   "metadata": {},
   "outputs": [],
   "source": [
    "strings = ['foo', 'card', 'bar', 'aaa', 'abab']\n",
    "strings.sort(key = lambda x:len(set(list(x))))"
   ]
  },
  {
   "cell_type": "code",
   "execution_count": 19,
   "metadata": {},
   "outputs": [
    {
     "name": "stdout",
     "output_type": "stream",
     "text": [
      "<map object at 0x0000014F93411F48>\n",
      "[9, 16]\n"
     ]
    }
   ],
   "source": [
    "# 디폴트가 없기 때문\n",
    "m = map(lambda x : x*x, [3,4]) # 첫번째 매개변수 : 함수, 두번째 이후 : 데이터 (collections)\n",
    "print(m) # 고유한 포맷으로 출력\n",
    "print(list(m)) # 리스트로 캐스팅해야 내용이 출력됨"
   ]
  },
  {
   "cell_type": "code",
   "execution_count": 24,
   "metadata": {},
   "outputs": [
    {
     "data": {
      "text/plain": [
       "[0, 1, 4, 9, 16]"
      ]
     },
     "execution_count": 24,
     "metadata": {},
     "output_type": "execute_result"
    }
   ],
   "source": [
    "list(map(lambda x: x*x, range(5)))"
   ]
  },
  {
   "cell_type": "code",
   "execution_count": 26,
   "metadata": {},
   "outputs": [
    {
     "data": {
      "text/plain": [
       "[0, 1, 4, 9, 16]"
      ]
     },
     "execution_count": 26,
     "metadata": {},
     "output_type": "execute_result"
    }
   ],
   "source": [
    "# 간단1\n",
    "list(map(lambda x: x*x, range(5)))\n",
    "# 간단2\n",
    "sqr = lambda x: x*x\n",
    "list(map(sqr, range(5)))\n",
    "# 정식함수\n",
    "def sqr2(x):\n",
    "    return x*x\n",
    "list(map(sqr2, range(5)))"
   ]
  },
  {
   "cell_type": "code",
   "execution_count": 28,
   "metadata": {},
   "outputs": [
    {
     "data": {
      "text/plain": [
       "[1210000, 1135000, 910000, 1360000, 2260000, 3010000]"
      ]
     },
     "execution_count": 28,
     "metadata": {},
     "output_type": "execute_result"
    }
   ],
   "source": [
    "# 문제 : 다음 출근시간 데이터에 대하여 기본금 10000원 시간당 7500원의 급여를 계산하고\n",
    "# lambda 함수와 map 함수를 이용하여 구하시오.\n",
    "\n",
    "total_time = [160, 150, 120, 180, 300, 400]\n",
    "pay = list(map(lambda x: 10000+x*7500, total_time))\n",
    "print(pay)"
   ]
  },
  {
   "cell_type": "code",
   "execution_count": 29,
   "metadata": {},
   "outputs": [
    {
     "name": "stdout",
     "output_type": "stream",
     "text": [
      "[1210000, 1135000, 910000, 1360000, 2260000, 3010000]\n"
     ]
    }
   ],
   "source": [
    "calc = lambda x: 10000 + 7500 * x\n",
    "pay = list(map(calc, total_time))\n",
    "print(pay)"
   ]
  },
  {
   "cell_type": "code",
   "execution_count": 30,
   "metadata": {},
   "outputs": [
    {
     "data": {
      "text/plain": [
       "[1, 3, 5, 7, 9]"
      ]
     },
     "execution_count": 30,
     "metadata": {},
     "output_type": "execute_result"
    }
   ],
   "source": [
    "def odd(p):\n",
    "    return [i for i in p if i%2] # 홀수 (2로 나눠서 참 = 1)\n",
    "odd(range(10))"
   ]
  },
  {
   "cell_type": "code",
   "execution_count": null,
   "metadata": {},
   "outputs": [],
   "source": [
    "# 필터의 함수는 True/False를 리턴하는 함수여야 함 \n",
    "def odd(k):\n",
    "    return k%2\n",
    "list(filter(odd, range(100)))"
   ]
  },
  {
   "cell_type": "code",
   "execution_count": 37,
   "metadata": {},
   "outputs": [
    {
     "data": {
      "text/plain": [
       "[0,\n",
       " 3,\n",
       " 6,\n",
       " 9,\n",
       " 12,\n",
       " 15,\n",
       " 18,\n",
       " 21,\n",
       " 24,\n",
       " 27,\n",
       " 30,\n",
       " 33,\n",
       " 36,\n",
       " 39,\n",
       " 42,\n",
       " 45,\n",
       " 48,\n",
       " 51,\n",
       " 54,\n",
       " 57,\n",
       " 60,\n",
       " 63,\n",
       " 66,\n",
       " 69,\n",
       " 72,\n",
       " 75,\n",
       " 78,\n",
       " 81,\n",
       " 84,\n",
       " 87,\n",
       " 90,\n",
       " 93,\n",
       " 96,\n",
       " 99]"
      ]
     },
     "execution_count": 37,
     "metadata": {},
     "output_type": "execute_result"
    }
   ],
   "source": [
    "# 1부터 99사이에 3으로 나누어 떨어지는 데이터를 filter를 이용해서 구하시오.\n",
    "def triMultNum(k):\n",
    "    return k%3 == 0\n",
    "list(filter(triMultNum, range(100)))"
   ]
  },
  {
   "cell_type": "code",
   "execution_count": 39,
   "metadata": {},
   "outputs": [
    {
     "data": {
      "text/plain": [
       "55"
      ]
     },
     "execution_count": 39,
     "metadata": {},
     "output_type": "execute_result"
    }
   ],
   "source": [
    "# reduce (분산처리시 값을 계산할 때 사용)\n",
    "from functools import reduce\n",
    "reduce(lambda x, y: x+y, range(11)) # 이전에 계산된 값이 x로"
   ]
  },
  {
   "cell_type": "code",
   "execution_count": 43,
   "metadata": {},
   "outputs": [
    {
     "data": {
      "text/plain": [
       "362880"
      ]
     },
     "execution_count": 43,
     "metadata": {},
     "output_type": "execute_result"
    }
   ],
   "source": [
    "reduce(lambda x,y : x*y, range(1,10))"
   ]
  },
  {
   "cell_type": "code",
   "execution_count": 44,
   "metadata": {},
   "outputs": [
    {
     "data": {
      "text/plain": [
       "'edcba'"
      ]
     },
     "execution_count": 44,
     "metadata": {},
     "output_type": "execute_result"
    }
   ],
   "source": [
    "reduce(lambda x,y : y+x, 'abcde')"
   ]
  },
  {
   "cell_type": "code",
   "execution_count": 47,
   "metadata": {},
   "outputs": [
    {
     "data": {
      "text/plain": [
       "100"
      ]
     },
     "execution_count": 47,
     "metadata": {},
     "output_type": "execute_result"
    }
   ],
   "source": [
    "# 함수 배열\n",
    "func_choice = [lambda x, y : x**y, lambda x, y : x/y]\n",
    "func_choice[0](10,2)\n",
    "func_choice[1](10,2)"
   ]
  },
  {
   "cell_type": "code",
   "execution_count": 49,
   "metadata": {},
   "outputs": [
    {
     "name": "stdout",
     "output_type": "stream",
     "text": [
      "[5, 6, 7, 8]\n"
     ]
    }
   ],
   "source": [
    "# 문제 1) 다음 데이터에서 4보다 큰 수만 출력하도록 filtering 해보시오.\n",
    "data = [1,2,3,4,5,6,7,8,3,4,2,1]\n",
    "\n",
    "fil = list(filter(lambda x:x>4, data))\n",
    "print(fil)"
   ]
  },
  {
   "cell_type": "code",
   "execution_count": null,
   "metadata": {},
   "outputs": [],
   "source": [
    "# 문제 2) 숫자를 입력받아서 홀수인 경우는 \"나는 행복합니다\"라고 출력하고\n",
    "# 짝수인 경우는 \"나는 귀중한 사람이다\"라고 출력하는 함수 선택을 구현해보시오.\n",
    "\n",
    "func_choice = [lambda : print(\"나는 행복합니다\"), lambda:print(\"나는 귀중한 사람이다\")]\n",
    "condition = eval(input(\"숫자를 입력하시오\"))\n",
    "condition %= 2\n",
    "func_choice[condition]()"
   ]
  },
  {
   "cell_type": "code",
   "execution_count": 22,
   "metadata": {},
   "outputs": [
    {
     "name": "stdout",
     "output_type": "stream",
     "text": [
      "이름 : 가\n",
      "국어성적 : 10\n",
      "영어성적 : 20\n",
      "수학성적 : 30\n",
      "이름 : 나\n",
      "국어성적 : 40\n",
      "영어성적 : 30\n",
      "수학성적 : 60\n",
      "이름 : 다\n",
      "국어성적 : 90\n",
      "영어성적 : 40\n",
      "수학성적 : 60\n",
      "이름, 국어, 영어, 수학, 합계, 평균\n",
      "['가', 10, 20, 30, 60, 20.0]\n",
      "\n",
      "['나', 40, 30, 60, 130, 43.333333333333336]\n",
      "\n",
      "['다', 90, 40, 60, 190, 63.333333333333336]\n",
      "\n"
     ]
    }
   ],
   "source": [
    "# 성적프로그램을 입력, 처리, 출력 함수를 이용해서 구현하시오\n",
    "# 이름, 국어, 영어, 수학, 총점, 평균\n",
    "\n",
    "sungjuk = [] # 전역적으로 선언하고 구현\n",
    "\n",
    "def inputInfo():\n",
    "    n = 0\n",
    "    while n < 3:\n",
    "        mylist = []\n",
    "        name = input(\"이름 : \")\n",
    "        kor = eval(input(\"국어성적 : \"))\n",
    "        eng = eval(input(\"영어성적 : \"))\n",
    "        math = eval(input(\"수학성적 : \"))\n",
    "        mylist.append(name)\n",
    "        mylist.append(kor)\n",
    "        mylist.append(eng)\n",
    "        mylist.append(math)\n",
    "        sungjuk.append(mylist)\n",
    "        n += 1\n",
    "    return sungjuk\n",
    "    \n",
    "def calculator(sungjuklist):\n",
    "    for i in range(len(sungjuklist)):\n",
    "        tot = sum(sungjuklist[i][1:])\n",
    "        avg = round(tot/3,2)\n",
    "        sungjuklist[i].append(tot)\n",
    "        sungjuklist[i].append(avg)\n",
    "    return sungjuklist\n",
    "    \n",
    "# 이게 최선이냥 ;ㅁ; \n",
    "# 함수를 세 번 반복하면 되지 구지 세 번 정해서 입력받을 필요는 없음\n",
    "# 그리고 상수는 변수로 설정해줘야하공\n",
    "\n",
    "def displayOutput(sungjuklist):\n",
    "    print(\"이름, 국어, 영어, 수학, 합계, 평균\")\n",
    "    for i in range(len(sungjuklist)):\n",
    "        print(sungjuklist[i])\n",
    "        print()\n",
    "# 프린트하는 걸 좀 이쁘게...\n",
    "#    print(\"이름: {}, 국어: {}, 영어: {}, 수학: {}, 총점: {}, 평균: {}\".format(sungjuklist))\n",
    "\n",
    "displayOutput(calculator(inputInfo()))"
   ]
  },
  {
   "cell_type": "code",
   "execution_count": 1,
   "metadata": {},
   "outputs": [
    {
     "name": "stdout",
     "output_type": "stream",
     "text": [
      "이름 : 한\n",
      "국어 : 10\n",
      "영어 : 20\n",
      "수학 : 30\n",
      "이름 : 김\n",
      "국어 : 30\n",
      "영어 : 40\n",
      "수학 : 50\n",
      "이름 : 박\n",
      "국어 : 60\n",
      "영어 : 70\n",
      "수학 : 50\n",
      "이름: 한, 국어: 10, 영어: 20, 수학: 30, 총점: 60, 평균: 20.0\n",
      "['한', 10, 20, 30, 60, 20.0]\n",
      "이름: 김, 국어: 30, 영어: 40, 수학: 50, 총점: 120, 평균: 40.0\n",
      "['김', 30, 40, 50, 120, 40.0]\n",
      "이름: 박, 국어: 60, 영어: 70, 수학: 50, 총점: 180, 평균: 60.0\n",
      "['박', 60, 70, 50, 180, 60.0]\n"
     ]
    }
   ],
   "source": [
    "# 다음 스텝 : 선언 안하고 구현하는 것\n",
    "# 성적프로그램을 입력, 처리, 출력 함수를 이용해서 구현하시오\n",
    "# 이름, 국어, 영어, 수학, 총점, 평균\n",
    "\n",
    "\n",
    "def inputInfo2():\n",
    "    sungjuk = []\n",
    "    iterNum = 3\n",
    "    while iterNum > 0:\n",
    "        mylist = []\n",
    "        name = input(\"이름 : \")\n",
    "        kor = eval(input(\"국어 : \"))\n",
    "        eng = eval(input(\"영어 : \"))\n",
    "        math = eval(input(\"수학 : \"))\n",
    "        mylist.append(name)\n",
    "        mylist.append(kor)\n",
    "        mylist.append(eng)\n",
    "        mylist.append(math)\n",
    "        sungjuk.append(mylist)\n",
    "        iterNum -= 1\n",
    "    return sungjuk\n",
    "\n",
    "def calculator(sungjuklist):\n",
    "    for i in range(len(sungjuklist)):\n",
    "        tot = sum(sungjuklist[i][1:])\n",
    "        avg = tot/3\n",
    "        sungjuklist[i].append(tot)\n",
    "        sungjuklist[i].append(avg)\n",
    "    return sungjuklist\n",
    "\n",
    "def displayOutput(sungjuk):\n",
    "    for i in range(len(sungjuk)):\n",
    "        print(\"이름: {}, 국어: {}, 영어: {}, 수학: {}, 총점: {}, 평균: {}\".format(sungjuk[i][0],sungjuk[i][1],\n",
    "                                                                      sungjuk[i][2],sungjuk[i][3],sungjuk[i][4],sungjuk[i][5]) )\n",
    "        \n",
    "def main():\n",
    "    displayOutput(calculator(inputInfo2()))\n",
    "    \n",
    "main()"
   ]
  },
  {
   "cell_type": "code",
   "execution_count": null,
   "metadata": {},
   "outputs": [],
   "source": []
  },
  {
   "cell_type": "code",
   "execution_count": null,
   "metadata": {},
   "outputs": [],
   "source": []
  },
  {
   "cell_type": "code",
   "execution_count": null,
   "metadata": {},
   "outputs": [],
   "source": []
  }
 ],
 "metadata": {
  "kernelspec": {
   "display_name": "Python 3",
   "language": "python",
   "name": "python3"
  },
  "language_info": {
   "codemirror_mode": {
    "name": "ipython",
    "version": 3
   },
   "file_extension": ".py",
   "mimetype": "text/x-python",
   "name": "python",
   "nbconvert_exporter": "python",
   "pygments_lexer": "ipython3",
   "version": "3.7.4"
  }
 },
 "nbformat": 4,
 "nbformat_minor": 2
}
