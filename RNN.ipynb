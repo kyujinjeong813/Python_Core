{
 "cells": [
  {
   "cell_type": "code",
   "execution_count": 7,
   "metadata": {},
   "outputs": [
    {
     "name": "stdout",
     "output_type": "stream",
     "text": [
      "WARNING:tensorflow:Entity <bound method BasicRNNCell.call of <tensorflow.python.ops.rnn_cell_impl.BasicRNNCell object at 0x0000016CF4FB1888>> could not be transformed and will be executed as-is. Please report this to the AutgoGraph team. When filing the bug, set the verbosity to 10 (on Linux, `export AUTOGRAPH_VERBOSITY=10`) and attach the full output. Cause: converting <bound method BasicRNNCell.call of <tensorflow.python.ops.rnn_cell_impl.BasicRNNCell object at 0x0000016CF4FB1888>>: AssertionError: Bad argument number for Name: 3, expecting 4\n",
      "WARNING: Entity <bound method BasicRNNCell.call of <tensorflow.python.ops.rnn_cell_impl.BasicRNNCell object at 0x0000016CF4FB1888>> could not be transformed and will be executed as-is. Please report this to the AutgoGraph team. When filing the bug, set the verbosity to 10 (on Linux, `export AUTOGRAPH_VERBOSITY=10`) and attach the full output. Cause: converting <bound method BasicRNNCell.call of <tensorflow.python.ops.rnn_cell_impl.BasicRNNCell object at 0x0000016CF4FB1888>>: AssertionError: Bad argument number for Name: 3, expecting 4\n",
      "WARNING:tensorflow:Entity <bound method BasicRNNCell.call of <tensorflow.python.ops.rnn_cell_impl.BasicRNNCell object at 0x0000016CF4FB1888>> could not be transformed and will be executed as-is. Please report this to the AutgoGraph team. When filing the bug, set the verbosity to 10 (on Linux, `export AUTOGRAPH_VERBOSITY=10`) and attach the full output. Cause: converting <bound method BasicRNNCell.call of <tensorflow.python.ops.rnn_cell_impl.BasicRNNCell object at 0x0000016CF4FB1888>>: AssertionError: Bad argument number for Name: 3, expecting 4\n",
      "WARNING: Entity <bound method BasicRNNCell.call of <tensorflow.python.ops.rnn_cell_impl.BasicRNNCell object at 0x0000016CF4FB1888>> could not be transformed and will be executed as-is. Please report this to the AutgoGraph team. When filing the bug, set the verbosity to 10 (on Linux, `export AUTOGRAPH_VERBOSITY=10`) and attach the full output. Cause: converting <bound method BasicRNNCell.call of <tensorflow.python.ops.rnn_cell_impl.BasicRNNCell object at 0x0000016CF4FB1888>>: AssertionError: Bad argument number for Name: 3, expecting 4\n"
     ]
    }
   ],
   "source": [
    "import numpy as np\n",
    "import os\n",
    "import tensorflow as tf\n",
    "\n",
    "tf.reset_default_graph() # 그래프 초기화 (안하면 이미 생성된 변수와 충돌할 수 있음)\n",
    "n_inputs = 3 # 입력 데이터\n",
    "n_neurons = 5 # 셀의 가중치 사이즈\n",
    "X0 = tf.placeholder(tf.float32, [None, n_inputs])\n",
    "X1 = tf.placeholder(tf.float32, [None, n_inputs])\n",
    "basic_cell = tf.contrib.rnn.BasicRNNCell(num_units=n_neurons)\n",
    "# static rnn : rnn network (4개의 셀이 연결되면서 메모리 확보)\n",
    "output_seqs, states = tf.contrib.rnn.static_rnn(basic_cell, [X0, X1], dtype=tf.float32) # 2X4X3\n",
    "Y0, Y1 = output_seqs\n",
    "# 출력, 다음셀로 전달되는 값 : 마지막 state값\n",
    "init = tf.global_variables_initializer()\n",
    "X0_batch = np.array([[0,1,2], [3,4,5], [6,7,8], [9,0,1]])\n",
    "X1_batch = np.array([[9,8,7], [0,0,0], [6,5,4], [3,2,1]])"
   ]
  },
  {
   "cell_type": "code",
   "execution_count": 9,
   "metadata": {},
   "outputs": [
    {
     "name": "stdout",
     "output_type": "stream",
     "text": [
      "처음 데이터 특성:  [[-0.1828445   0.5780428  -0.859459   -0.475783   -0.32242355]\n",
      " [-0.9245981   0.99770206 -0.9894209  -0.99872154 -0.7341757 ]\n",
      " [-0.99556625  0.9999901  -0.99925196 -0.9999978  -0.9123054 ]\n",
      " [-0.99994767  0.9958396   0.99495083 -0.99998003 -0.5827151 ]] 차수:  (4, 5)\n",
      "다음 데이터 특성:  [[-0.9997636   0.99999815 -0.9936446  -1.         -0.8668509 ]\n",
      " [-0.622509   -0.86553913  0.0141169   0.8029879   0.5342773 ]\n",
      " [-0.99837846  0.99749434 -0.86618453 -0.99978346 -0.17602766]\n",
      " [-0.6327073   0.9256123   0.55491364 -0.7847594   0.43279576]] 차수:  (4, 5)\n"
     ]
    }
   ],
   "source": [
    "with tf.Session() as sess:\n",
    "    init.run()\n",
    "    Y0_val, Y1_val = sess.run([Y0, Y1], feed_dict={X0: X0_batch, X1: X1_batch})\n",
    "print(\"처음 데이터 특성: \", Y0_val, \"차수: \", Y0_val.shape)\n",
    "print(\"다음 데이터 특성: \", Y1_val, \"차수: \", Y1_val.shape)"
   ]
  },
  {
   "cell_type": "markdown",
   "metadata": {},
   "source": [
    "셀이 가지고 있는 가중치 사이즈는?\n",
    "3*5"
   ]
  },
  {
   "cell_type": "markdown",
   "metadata": {},
   "source": [
    "## Many to One"
   ]
  },
  {
   "cell_type": "markdown",
   "metadata": {},
   "source": [
    "설명이 잘 되어 있당 (거의 동일한 예제)\n",
    "https://github.com/golbin/TensorFlow-Tutorials/blob/master/10%20-%20RNN/01%20-%20MNIST.py"
   ]
  },
  {
   "cell_type": "code",
   "execution_count": 15,
   "metadata": {},
   "outputs": [
    {
     "name": "stdout",
     "output_type": "stream",
     "text": [
      "Extracting /tmp/data/train-images-idx3-ubyte.gz\n",
      "Extracting /tmp/data/train-labels-idx1-ubyte.gz\n",
      "Extracting /tmp/data/t10k-images-idx3-ubyte.gz\n",
      "Extracting /tmp/data/t10k-labels-idx1-ubyte.gz\n",
      "0 training accuracy:  0.91333336 test accuracy:  0.9333\n",
      "1 training accuracy:  0.94666666 test accuracy:  0.94\n",
      "2 training accuracy:  0.94666666 test accuracy:  0.9479\n",
      "3 training accuracy:  0.99333334 test accuracy:  0.9622\n",
      "4 training accuracy:  0.96666664 test accuracy:  0.9652\n",
      "5 training accuracy:  0.96666664 test accuracy:  0.9709\n",
      "6 training accuracy:  0.97333336 test accuracy:  0.9683\n",
      "7 training accuracy:  0.96666664 test accuracy:  0.9721\n",
      "8 training accuracy:  0.9866667 test accuracy:  0.9697\n",
      "9 training accuracy:  0.9533333 test accuracy:  0.9727\n",
      "10 training accuracy:  0.98 test accuracy:  0.9745\n",
      "11 training accuracy:  0.99333334 test accuracy:  0.9762\n",
      "12 training accuracy:  0.98 test accuracy:  0.9759\n",
      "13 training accuracy:  0.98 test accuracy:  0.9755\n",
      "14 training accuracy:  0.9866667 test accuracy:  0.9736\n",
      "15 training accuracy:  0.99333334 test accuracy:  0.9741\n",
      "16 training accuracy:  0.9866667 test accuracy:  0.9682\n",
      "17 training accuracy:  0.97333336 test accuracy:  0.9747\n",
      "18 training accuracy:  0.98 test accuracy:  0.9742\n",
      "19 training accuracy:  0.9866667 test accuracy:  0.977\n",
      "20 training accuracy:  0.9866667 test accuracy:  0.9753\n",
      "21 training accuracy:  0.99333334 test accuracy:  0.9775\n",
      "22 training accuracy:  0.97333336 test accuracy:  0.9779\n",
      "23 training accuracy:  0.99333334 test accuracy:  0.9756\n",
      "24 training accuracy:  1.0 test accuracy:  0.9745\n",
      "25 training accuracy:  0.98 test accuracy:  0.9735\n",
      "26 training accuracy:  1.0 test accuracy:  0.975\n",
      "27 training accuracy:  0.9866667 test accuracy:  0.9794\n",
      "28 training accuracy:  0.9866667 test accuracy:  0.9774\n",
      "29 training accuracy:  1.0 test accuracy:  0.976\n",
      "30 training accuracy:  1.0 test accuracy:  0.9751\n",
      "31 training accuracy:  0.9866667 test accuracy:  0.9765\n",
      "32 training accuracy:  0.98 test accuracy:  0.9731\n",
      "33 training accuracy:  1.0 test accuracy:  0.9742\n",
      "34 training accuracy:  0.9866667 test accuracy:  0.9793\n",
      "35 training accuracy:  0.99333334 test accuracy:  0.9789\n",
      "36 training accuracy:  0.98 test accuracy:  0.9744\n",
      "37 training accuracy:  0.98 test accuracy:  0.9781\n",
      "38 training accuracy:  0.9866667 test accuracy:  0.9785\n",
      "39 training accuracy:  0.99333334 test accuracy:  0.977\n",
      "40 training accuracy:  0.99333334 test accuracy:  0.9769\n",
      "41 training accuracy:  0.98 test accuracy:  0.973\n",
      "42 training accuracy:  0.98 test accuracy:  0.9755\n",
      "43 training accuracy:  1.0 test accuracy:  0.9793\n",
      "44 training accuracy:  0.99333334 test accuracy:  0.9745\n",
      "45 training accuracy:  1.0 test accuracy:  0.9779\n",
      "46 training accuracy:  1.0 test accuracy:  0.9753\n",
      "47 training accuracy:  0.98 test accuracy:  0.9799\n",
      "48 training accuracy:  0.99333334 test accuracy:  0.9758\n",
      "49 training accuracy:  0.99333334 test accuracy:  0.9766\n",
      "50 training accuracy:  0.99333334 test accuracy:  0.9789\n",
      "51 training accuracy:  0.9866667 test accuracy:  0.9783\n",
      "52 training accuracy:  0.9866667 test accuracy:  0.9743\n",
      "53 training accuracy:  0.9866667 test accuracy:  0.974\n",
      "54 training accuracy:  0.99333334 test accuracy:  0.9782\n",
      "55 training accuracy:  0.9866667 test accuracy:  0.971\n",
      "56 training accuracy:  0.98 test accuracy:  0.976\n",
      "57 training accuracy:  1.0 test accuracy:  0.9784\n",
      "58 training accuracy:  0.99333334 test accuracy:  0.9757\n",
      "59 training accuracy:  0.99333334 test accuracy:  0.9765\n",
      "60 training accuracy:  0.9866667 test accuracy:  0.9697\n",
      "61 training accuracy:  1.0 test accuracy:  0.9771\n",
      "62 training accuracy:  0.99333334 test accuracy:  0.9797\n",
      "63 training accuracy:  0.9866667 test accuracy:  0.9752\n",
      "64 training accuracy:  0.99333334 test accuracy:  0.9773\n",
      "65 training accuracy:  1.0 test accuracy:  0.9766\n",
      "66 training accuracy:  1.0 test accuracy:  0.9659\n",
      "67 training accuracy:  0.97333336 test accuracy:  0.9708\n",
      "68 training accuracy:  1.0 test accuracy:  0.9784\n",
      "69 training accuracy:  0.9866667 test accuracy:  0.9729\n",
      "70 training accuracy:  1.0 test accuracy:  0.9785\n",
      "71 training accuracy:  1.0 test accuracy:  0.9801\n",
      "72 training accuracy:  0.99333334 test accuracy:  0.9774\n",
      "73 training accuracy:  0.99333334 test accuracy:  0.98\n",
      "74 training accuracy:  0.9866667 test accuracy:  0.9776\n",
      "75 training accuracy:  1.0 test accuracy:  0.9773\n",
      "76 training accuracy:  0.99333334 test accuracy:  0.9789\n",
      "77 training accuracy:  1.0 test accuracy:  0.9763\n",
      "78 training accuracy:  1.0 test accuracy:  0.9777\n",
      "79 training accuracy:  1.0 test accuracy:  0.9785\n",
      "80 training accuracy:  0.97333336 test accuracy:  0.9669\n",
      "81 training accuracy:  0.99333334 test accuracy:  0.9779\n",
      "82 training accuracy:  1.0 test accuracy:  0.9774\n",
      "83 training accuracy:  0.98 test accuracy:  0.9729\n",
      "84 training accuracy:  1.0 test accuracy:  0.9758\n",
      "85 training accuracy:  0.99333334 test accuracy:  0.9725\n",
      "86 training accuracy:  0.98 test accuracy:  0.9716\n",
      "87 training accuracy:  1.0 test accuracy:  0.9807\n",
      "88 training accuracy:  0.9866667 test accuracy:  0.9761\n",
      "89 training accuracy:  0.99333334 test accuracy:  0.9735\n",
      "90 training accuracy:  1.0 test accuracy:  0.9781\n",
      "91 training accuracy:  0.9866667 test accuracy:  0.9695\n",
      "92 training accuracy:  0.9866667 test accuracy:  0.9768\n",
      "93 training accuracy:  0.99333334 test accuracy:  0.9742\n",
      "94 training accuracy:  1.0 test accuracy:  0.9776\n",
      "95 training accuracy:  0.97333336 test accuracy:  0.9716\n",
      "96 training accuracy:  1.0 test accuracy:  0.9716\n",
      "97 training accuracy:  1.0 test accuracy:  0.9782\n",
      "98 training accuracy:  0.9866667 test accuracy:  0.9787\n",
      "99 training accuracy:  1.0 test accuracy:  0.9747\n"
     ]
    }
   ],
   "source": [
    "tf.reset_default_graph()\n",
    "n_steps = 28 # 셀수\n",
    "n_inputs = 28 # 셀 당 인풋 사이즈\n",
    "n_neurons = 150 # 뉴론출력\n",
    "n_outputs = 10 # 클래스 수\n",
    "learning_rate = 0.001\n",
    "X = tf.placeholder(tf.float32, [None, n_steps, n_inputs])\n",
    "y = tf.placeholder(tf.int32, [None])\n",
    "basic_cell = tf.contrib.rnn.BasicRNNCell(num_units=n_neurons)\n",
    "# 셀 28개\n",
    "# state 마지막 셀의 수평으로 전달되는 값 = 마지막 cell의 output과 동일\n",
    "# 28개의 셀 -> 1개의 output : many to one (감정분류같은 분류기)\n",
    "# state의 차수 150X150\n",
    "# output의 차수 : latent time 지연시간을 통해 계산된 셀의 모든 값을 결합 출력 150X28X150\n",
    "outputs, states = tf.nn.dynamic_rnn(basic_cell, X, dtype=tf.float32)\n",
    "# 150개 특징 중에 10개만 추출\n",
    "# 입력차수와 출력차수만 지정하면 자동으로 바이어스를 생성\n",
    "# 가중치 공간을 확보해서 계산\n",
    "logits = tf.layers.dense(states, n_outputs)\n",
    "xentropy = tf.nn.sparse_softmax_cross_entropy_with_logits(labels=y, logits=logits)\n",
    "# 분류를 위한 미분 가능한 식으로 바뀜\n",
    "loss = tf.reduce_mean(xentropy)\n",
    "optimizer = tf.train.AdamOptimizer(learning_rate=learning_rate)\n",
    "training_op = optimizer.minimize(loss)\n",
    "correct = tf.nn.in_top_k(logits, y, 1) # 가장 큰 값을 취해서 비교\n",
    "accuracy = tf.reduce_mean(tf.cast(correct, tf.float32))\n",
    "\n",
    "init = tf.global_variables_initializer()\n",
    "\n",
    "from tensorflow.examples.tutorials.mnist import input_data\n",
    "mnist = input_data.read_data_sets(\"/tmp/data/\")\n",
    "# 원래 이미지 모양으로 학습\n",
    "X_test = mnist.test.images.reshape((-1, n_steps, n_inputs))\n",
    "y_test = mnist.test.labels\n",
    "\n",
    "n_epochs = 100\n",
    "batch_size = 150\n",
    "with tf.Session() as sess:\n",
    "    init.run()\n",
    "    for epoch in range(n_epochs):\n",
    "        for iteration in range(mnist.train.num_examples // batch_size):\n",
    "            X_batch, y_batch = mnist.train.next_batch(batch_size)\n",
    "            X_batch = X_batch.reshape((-1, n_steps, n_inputs))\n",
    "            sess.run(training_op, feed_dict={X: X_batch, y: y_batch})\n",
    "        acc_train = accuracy.eval(feed_dict={X: X_batch, y: y_batch})\n",
    "        acc_test = accuracy.eval(feed_dict={X: X_test, y: y_test})\n",
    "        print(epoch, \"training accuracy: \", acc_train,\n",
    "             \"test accuracy: \", acc_test)"
   ]
  },
  {
   "cell_type": "markdown",
   "metadata": {},
   "source": [
    "예제 소스코드\n",
    "https://www.programcreek.com/python/example/102775/tensorflow.contrib.rnn.BasicRNNCell\n",
    "RNN basic\n",
    "https://yj-yu.github.io/rnntf/#30"
   ]
  },
  {
   "cell_type": "code",
   "execution_count": null,
   "metadata": {},
   "outputs": [],
   "source": [
    "CNN도 텍스트마이닝을 하고, RNN도 이미지학습을 하는 등 최근에는 컨버젼스가 일어나고 있음!"
   ]
  },
  {
   "cell_type": "markdown",
   "metadata": {},
   "source": [
    "# multi rnn cell"
   ]
  },
  {
   "cell_type": "code",
   "execution_count": 26,
   "metadata": {},
   "outputs": [
    {
     "name": "stdout",
     "output_type": "stream",
     "text": [
      "WARNING:tensorflow:Entity <bound method MultiRNNCell.call of <tensorflow.python.ops.rnn_cell_impl.MultiRNNCell object at 0x0000016CBDAF2988>> could not be transformed and will be executed as-is. Please report this to the AutgoGraph team. When filing the bug, set the verbosity to 10 (on Linux, `export AUTOGRAPH_VERBOSITY=10`) and attach the full output. Cause: converting <bound method MultiRNNCell.call of <tensorflow.python.ops.rnn_cell_impl.MultiRNNCell object at 0x0000016CBDAF2988>>: AttributeError: module 'gast' has no attribute 'Num'\n",
      "WARNING: Entity <bound method MultiRNNCell.call of <tensorflow.python.ops.rnn_cell_impl.MultiRNNCell object at 0x0000016CBDAF2988>> could not be transformed and will be executed as-is. Please report this to the AutgoGraph team. When filing the bug, set the verbosity to 10 (on Linux, `export AUTOGRAPH_VERBOSITY=10`) and attach the full output. Cause: converting <bound method MultiRNNCell.call of <tensorflow.python.ops.rnn_cell_impl.MultiRNNCell object at 0x0000016CBDAF2988>>: AttributeError: module 'gast' has no attribute 'Num'\n",
      "WARNING:tensorflow:Entity <bound method BasicRNNCell.call of <tensorflow.python.ops.rnn_cell_impl.BasicRNNCell object at 0x0000016CBDAA2E88>> could not be transformed and will be executed as-is. Please report this to the AutgoGraph team. When filing the bug, set the verbosity to 10 (on Linux, `export AUTOGRAPH_VERBOSITY=10`) and attach the full output. Cause: converting <bound method BasicRNNCell.call of <tensorflow.python.ops.rnn_cell_impl.BasicRNNCell object at 0x0000016CBDAA2E88>>: AssertionError: Bad argument number for Name: 3, expecting 4\n",
      "WARNING: Entity <bound method BasicRNNCell.call of <tensorflow.python.ops.rnn_cell_impl.BasicRNNCell object at 0x0000016CBDAA2E88>> could not be transformed and will be executed as-is. Please report this to the AutgoGraph team. When filing the bug, set the verbosity to 10 (on Linux, `export AUTOGRAPH_VERBOSITY=10`) and attach the full output. Cause: converting <bound method BasicRNNCell.call of <tensorflow.python.ops.rnn_cell_impl.BasicRNNCell object at 0x0000016CBDAA2E88>>: AssertionError: Bad argument number for Name: 3, expecting 4\n",
      "WARNING:tensorflow:Entity <bound method BasicRNNCell.call of <tensorflow.python.ops.rnn_cell_impl.BasicRNNCell object at 0x0000016CBDAFD2C8>> could not be transformed and will be executed as-is. Please report this to the AutgoGraph team. When filing the bug, set the verbosity to 10 (on Linux, `export AUTOGRAPH_VERBOSITY=10`) and attach the full output. Cause: converting <bound method BasicRNNCell.call of <tensorflow.python.ops.rnn_cell_impl.BasicRNNCell object at 0x0000016CBDAFD2C8>>: AssertionError: Bad argument number for Name: 3, expecting 4\n",
      "WARNING: Entity <bound method BasicRNNCell.call of <tensorflow.python.ops.rnn_cell_impl.BasicRNNCell object at 0x0000016CBDAFD2C8>> could not be transformed and will be executed as-is. Please report this to the AutgoGraph team. When filing the bug, set the verbosity to 10 (on Linux, `export AUTOGRAPH_VERBOSITY=10`) and attach the full output. Cause: converting <bound method BasicRNNCell.call of <tensorflow.python.ops.rnn_cell_impl.BasicRNNCell object at 0x0000016CBDAFD2C8>>: AssertionError: Bad argument number for Name: 3, expecting 4\n",
      "WARNING:tensorflow:Entity <bound method BasicRNNCell.call of <tensorflow.python.ops.rnn_cell_impl.BasicRNNCell object at 0x0000016CBDAFD508>> could not be transformed and will be executed as-is. Please report this to the AutgoGraph team. When filing the bug, set the verbosity to 10 (on Linux, `export AUTOGRAPH_VERBOSITY=10`) and attach the full output. Cause: converting <bound method BasicRNNCell.call of <tensorflow.python.ops.rnn_cell_impl.BasicRNNCell object at 0x0000016CBDAFD508>>: AssertionError: Bad argument number for Name: 3, expecting 4\n",
      "WARNING: Entity <bound method BasicRNNCell.call of <tensorflow.python.ops.rnn_cell_impl.BasicRNNCell object at 0x0000016CBDAFD508>> could not be transformed and will be executed as-is. Please report this to the AutgoGraph team. When filing the bug, set the verbosity to 10 (on Linux, `export AUTOGRAPH_VERBOSITY=10`) and attach the full output. Cause: converting <bound method BasicRNNCell.call of <tensorflow.python.ops.rnn_cell_impl.BasicRNNCell object at 0x0000016CBDAFD508>>: AssertionError: Bad argument number for Name: 3, expecting 4\n",
      "WARNING:tensorflow:Entity <bound method Dense.call of <tensorflow.python.layers.core.Dense object at 0x0000016CBDAFD5C8>> could not be transformed and will be executed as-is. Please report this to the AutgoGraph team. When filing the bug, set the verbosity to 10 (on Linux, `export AUTOGRAPH_VERBOSITY=10`) and attach the full output. Cause: converting <bound method Dense.call of <tensorflow.python.layers.core.Dense object at 0x0000016CBDAFD5C8>>: AssertionError: Bad argument number for Name: 3, expecting 4\n",
      "WARNING: Entity <bound method Dense.call of <tensorflow.python.layers.core.Dense object at 0x0000016CBDAFD5C8>> could not be transformed and will be executed as-is. Please report this to the AutgoGraph team. When filing the bug, set the verbosity to 10 (on Linux, `export AUTOGRAPH_VERBOSITY=10`) and attach the full output. Cause: converting <bound method Dense.call of <tensorflow.python.layers.core.Dense object at 0x0000016CBDAFD5C8>>: AssertionError: Bad argument number for Name: 3, expecting 4\n"
     ]
    }
   ],
   "source": [
    "# BasicRNNCell\n",
    "# MultiRNNCell : 수직으로 레이어 구성\n",
    "# dynamic_rnn : 모델\n",
    "tf.reset_default_graph()\n",
    "n_steps = 28\n",
    "n_inputs = 28\n",
    "n_outputs = 10\n",
    "learning_rate = 0.001\n",
    "X = tf.placeholder(tf.float32, [None, n_steps, n_inputs])\n",
    "y = tf.placeholder(tf.int32, [None])\n",
    "n_neurons = 100\n",
    "n_layers = 3 #3개의 멀티레이어 (3개의 셀 생성, 3개를 조합해서 MultiRNNCell 만들기)\n",
    "layers = [tf.contrib.rnn.BasicRNNCell(num_units=n_neurons, activation=tf.nn.relu) for layer in range(n_layers)]\n",
    "multi_layer_cell = tf.contrib.rnn.MultiRNNCell(layers)\n",
    "# dynamic rnn : 셀로 입력되는 데이터의 개수에 맞춰 셀을 구성\n",
    "# 입력 사이즈 변동 = 가중치 조절 => 나가는 특징은 일차 (neural 수가 같음)\n",
    "# static rnn 동일한 사이즈 (큰 것 기준, 작은 것은 padding)\n",
    "# 3층 셀이 28개 조성 : 고정 사이즈\n",
    "outputs, states = tf.nn.dynamic_rnn(multi_layer_cell, X, dtype=tf.float32)\n",
    "# states 사이즈 3X150X100\n",
    "states_concat = tf.concat(axis=1, values=states) # 150X300\n",
    "logits = tf.layers.dense(states_concat, n_outputs) # 가중치 300X10 / logit 150X10\n",
    "xentropy = tf.nn.sparse_softmax_cross_entropy_with_logits(labels=y, logits=logits)\n",
    "loss = tf.reduce_mean(xentropy)\n",
    "optimizer = tf.train.AdamOptimizer(learning_rate=learning_rate)\n",
    "training_op = optimizer.minimize(loss)\n",
    "correct = tf.nn.in_top_k(logits, y, 1)\n",
    "accuracy = tf.reduce_mean(tf.cast(correct, tf.float32))\n",
    "init = tf.global_variables_initializer()"
   ]
  },
  {
   "cell_type": "code",
   "execution_count": 28,
   "metadata": {},
   "outputs": [
    {
     "name": "stdout",
     "output_type": "stream",
     "text": [
      "0 training accuracy:  0.93333334 test accuracy:  0.9462\n",
      "1 training accuracy:  0.97333336 test accuracy:  0.9604\n",
      "2 training accuracy:  0.99333334 test accuracy:  0.972\n",
      "3 training accuracy:  0.94666666 test accuracy:  0.9725\n",
      "4 training accuracy:  0.98 test accuracy:  0.9739\n",
      "5 training accuracy:  0.96666664 test accuracy:  0.9736\n",
      "6 training accuracy:  0.99333334 test accuracy:  0.9788\n",
      "7 training accuracy:  1.0 test accuracy:  0.9806\n",
      "8 training accuracy:  0.98 test accuracy:  0.9765\n",
      "9 training accuracy:  0.99333334 test accuracy:  0.9748\n"
     ]
    }
   ],
   "source": [
    "n_epochs = 10\n",
    "batch_size = 150\n",
    "X_test = mnist.test.images.reshape((-1, n_steps, n_inputs))\n",
    "y_test = mnist.test.labels\n",
    "\n",
    "with tf.Session() as sess:\n",
    "    init.run()\n",
    "    for epoch in range(n_epochs):\n",
    "        for iteration in range(mnist.train.num_examples // batch_size):\n",
    "            X_batch, y_batch = mnist.train.next_batch(batch_size)\n",
    "            X_batch = X_batch.reshape((-1, n_steps, n_inputs))\n",
    "            sess.run(training_op, feed_dict={X: X_batch, y: y_batch})\n",
    "        acc_train = accuracy.eval(feed_dict={X: X_batch, y: y_batch})\n",
    "        acc_test = accuracy.eval(feed_dict={X: X_test, y: y_test})\n",
    "        print(epoch, \"training accuracy: \", acc_train,\n",
    "             \"test accuracy: \", acc_test)"
   ]
  },
  {
   "cell_type": "code",
   "execution_count": 51,
   "metadata": {},
   "outputs": [
    {
     "name": "stdout",
     "output_type": "stream",
     "text": [
      "Extracting ./mnist/data/train-images-idx3-ubyte.gz\n",
      "Extracting ./mnist/data/train-labels-idx1-ubyte.gz\n",
      "Extracting ./mnist/data/t10k-images-idx3-ubyte.gz\n",
      "Extracting ./mnist/data/t10k-labels-idx1-ubyte.gz\n",
      "WARNING:tensorflow:Entity <bound method BasicRNNCell.call of <tensorflow.python.ops.rnn_cell_impl.BasicRNNCell object at 0x0000016CCA09B288>> could not be transformed and will be executed as-is. Please report this to the AutgoGraph team. When filing the bug, set the verbosity to 10 (on Linux, `export AUTOGRAPH_VERBOSITY=10`) and attach the full output. Cause: converting <bound method BasicRNNCell.call of <tensorflow.python.ops.rnn_cell_impl.BasicRNNCell object at 0x0000016CCA09B288>>: AssertionError: Bad argument number for Name: 3, expecting 4\n",
      "WARNING: Entity <bound method BasicRNNCell.call of <tensorflow.python.ops.rnn_cell_impl.BasicRNNCell object at 0x0000016CCA09B288>> could not be transformed and will be executed as-is. Please report this to the AutgoGraph team. When filing the bug, set the verbosity to 10 (on Linux, `export AUTOGRAPH_VERBOSITY=10`) and attach the full output. Cause: converting <bound method BasicRNNCell.call of <tensorflow.python.ops.rnn_cell_impl.BasicRNNCell object at 0x0000016CCA09B288>>: AssertionError: Bad argument number for Name: 3, expecting 4\n"
     ]
    }
   ],
   "source": [
    "#http://blog.naver.com/PostView.nhn?blogId=magnking&logNo=221323257045&redirect=Dlog&widgetTypeCall=true&directAccess=false\n",
    "\n",
    "import tensorflow as tf\n",
    "from tensorflow.python.framework import ops\n",
    "ops.reset_default_graph()\n",
    "from tensorflow.examples.tutorials.mnist import input_data\n",
    "mnist = input_data.read_data_sets(\"./mnist/data/\", one_hot=True)\n",
    "learning_rate = 0.001\n",
    "total_epoch = 10\n",
    "batch_size = 128\n",
    "n_input = 28\n",
    "n_step = 28\n",
    "n_hidden = 128\n",
    "n_class = 10\n",
    "X = tf.placeholder(tf.float32, [None, n_step, n_input]) # 128X28X28\n",
    "Y = tf.placeholder(tf.float32, [None, n_class]) # 128X10\n",
    "W = tf.Variable(tf.random_normal([n_hidden, n_class])) #128X10\n",
    "b = tf.Variable(tf.random_normal([n_class])) # 10\n",
    "cell = tf.nn.rnn_cell.BasicRNNCell(n_hidden) # neurons : 128 (가중치 28X128)\n",
    "outputs, states = tf.nn.dynamic_rnn(cell, X, dtype=tf.float32)\n",
    "outputs = tf.transpose(outputs, [1,0,2])\n",
    "outputs = outputs[-1]\n",
    "model = tf.matmul(outputs, W) + b\n",
    "cost = tf.reduce_mean(tf.nn.softmax_cross_entropy_with_logits(logits=model, labels=Y))\n",
    "optimizer = tf.train.AdamOptimizer(learning_rate).minimize(cost)"
   ]
  },
  {
   "cell_type": "code",
   "execution_count": 52,
   "metadata": {},
   "outputs": [
    {
     "name": "stdout",
     "output_type": "stream",
     "text": [
      "Epoch:  0001 Avg cost = 0.556최적화 완료!\n",
      "Epoch:  0002 Avg cost = 0.261최적화 완료!\n",
      "Epoch:  0003 Avg cost = 0.200최적화 완료!\n",
      "Epoch:  0004 Avg cost = 0.171최적화 완료!\n",
      "Epoch:  0005 Avg cost = 0.146최적화 완료!\n",
      "Epoch:  0006 Avg cost = 0.140최적화 완료!\n",
      "Epoch:  0007 Avg cost = 0.128최적화 완료!\n",
      "Epoch:  0008 Avg cost = 0.121최적화 완료!\n",
      "Epoch:  0009 Avg cost = 0.113최적화 완료!\n",
      "Epoch:  0010 Avg cost = 0.105최적화 완료!\n"
     ]
    }
   ],
   "source": [
    "sess = tf.Session()\n",
    "sess.run(tf.global_variables_initializer())\n",
    "total_batch = int(mnist.train.num_examples/batch_size)\n",
    "for epoch in range(total_epoch):\n",
    "    total_cost = 0\n",
    "    for i in range(total_batch):\n",
    "        batch_xs, batch_ys = mnist.train.next_batch(batch_size)\n",
    "        batch_xs = batch_xs.reshape((batch_size, n_step, n_input))\n",
    "        _, cost_val = sess.run([optimizer, cost], feed_dict={X: batch_xs, Y: batch_ys})\n",
    "        total_cost += cost_val\n",
    "    print('Epoch: ', '%04d' % (epoch + 1),\n",
    "         'Avg cost =', '{:.3f}'.format(total_cost/total_batch) + '최적화 완료!')"
   ]
  },
  {
   "cell_type": "code",
   "execution_count": null,
   "metadata": {},
   "outputs": [],
   "source": [
    "Embedding\n",
    "one-hot-encoding\n",
    "tfidfcounter\n",
    "CBOW\n",
    "NGRAM"
   ]
  },
  {
   "cell_type": "code",
   "execution_count": null,
   "metadata": {},
   "outputs": [],
   "source": [
    "# 문제\n",
    "1. 테스트 데이터를 이용하여 테스트하는 회로를 구성하시오\n",
    "2. 3개의 셀을 갖는 multilayer cell로 수정하시오"
   ]
  },
  {
   "cell_type": "code",
   "execution_count": 53,
   "metadata": {},
   "outputs": [
    {
     "name": "stdout",
     "output_type": "stream",
     "text": [
      "WARNING:tensorflow:Entity <bound method MultiRNNCell.call of <tensorflow.python.ops.rnn_cell_impl.MultiRNNCell object at 0x0000016C895CAF88>> could not be transformed and will be executed as-is. Please report this to the AutgoGraph team. When filing the bug, set the verbosity to 10 (on Linux, `export AUTOGRAPH_VERBOSITY=10`) and attach the full output. Cause: converting <bound method MultiRNNCell.call of <tensorflow.python.ops.rnn_cell_impl.MultiRNNCell object at 0x0000016C895CAF88>>: AttributeError: module 'gast' has no attribute 'Num'\n",
      "WARNING: Entity <bound method MultiRNNCell.call of <tensorflow.python.ops.rnn_cell_impl.MultiRNNCell object at 0x0000016C895CAF88>> could not be transformed and will be executed as-is. Please report this to the AutgoGraph team. When filing the bug, set the verbosity to 10 (on Linux, `export AUTOGRAPH_VERBOSITY=10`) and attach the full output. Cause: converting <bound method MultiRNNCell.call of <tensorflow.python.ops.rnn_cell_impl.MultiRNNCell object at 0x0000016C895CAF88>>: AttributeError: module 'gast' has no attribute 'Num'\n",
      "WARNING:tensorflow:Entity <bound method BasicRNNCell.call of <tensorflow.python.ops.rnn_cell_impl.BasicRNNCell object at 0x0000016C895CAFC8>> could not be transformed and will be executed as-is. Please report this to the AutgoGraph team. When filing the bug, set the verbosity to 10 (on Linux, `export AUTOGRAPH_VERBOSITY=10`) and attach the full output. Cause: converting <bound method BasicRNNCell.call of <tensorflow.python.ops.rnn_cell_impl.BasicRNNCell object at 0x0000016C895CAFC8>>: AssertionError: Bad argument number for Name: 3, expecting 4\n",
      "WARNING: Entity <bound method BasicRNNCell.call of <tensorflow.python.ops.rnn_cell_impl.BasicRNNCell object at 0x0000016C895CAFC8>> could not be transformed and will be executed as-is. Please report this to the AutgoGraph team. When filing the bug, set the verbosity to 10 (on Linux, `export AUTOGRAPH_VERBOSITY=10`) and attach the full output. Cause: converting <bound method BasicRNNCell.call of <tensorflow.python.ops.rnn_cell_impl.BasicRNNCell object at 0x0000016C895CAFC8>>: AssertionError: Bad argument number for Name: 3, expecting 4\n",
      "WARNING:tensorflow:Entity <bound method BasicRNNCell.call of <tensorflow.python.ops.rnn_cell_impl.BasicRNNCell object at 0x0000016C895CAF08>> could not be transformed and will be executed as-is. Please report this to the AutgoGraph team. When filing the bug, set the verbosity to 10 (on Linux, `export AUTOGRAPH_VERBOSITY=10`) and attach the full output. Cause: converting <bound method BasicRNNCell.call of <tensorflow.python.ops.rnn_cell_impl.BasicRNNCell object at 0x0000016C895CAF08>>: AssertionError: Bad argument number for Name: 3, expecting 4\n",
      "WARNING: Entity <bound method BasicRNNCell.call of <tensorflow.python.ops.rnn_cell_impl.BasicRNNCell object at 0x0000016C895CAF08>> could not be transformed and will be executed as-is. Please report this to the AutgoGraph team. When filing the bug, set the verbosity to 10 (on Linux, `export AUTOGRAPH_VERBOSITY=10`) and attach the full output. Cause: converting <bound method BasicRNNCell.call of <tensorflow.python.ops.rnn_cell_impl.BasicRNNCell object at 0x0000016C895CAF08>>: AssertionError: Bad argument number for Name: 3, expecting 4\n",
      "WARNING:tensorflow:Entity <bound method BasicRNNCell.call of <tensorflow.python.ops.rnn_cell_impl.BasicRNNCell object at 0x0000016C895CAB88>> could not be transformed and will be executed as-is. Please report this to the AutgoGraph team. When filing the bug, set the verbosity to 10 (on Linux, `export AUTOGRAPH_VERBOSITY=10`) and attach the full output. Cause: converting <bound method BasicRNNCell.call of <tensorflow.python.ops.rnn_cell_impl.BasicRNNCell object at 0x0000016C895CAB88>>: AssertionError: Bad argument number for Name: 3, expecting 4\n",
      "WARNING: Entity <bound method BasicRNNCell.call of <tensorflow.python.ops.rnn_cell_impl.BasicRNNCell object at 0x0000016C895CAB88>> could not be transformed and will be executed as-is. Please report this to the AutgoGraph team. When filing the bug, set the verbosity to 10 (on Linux, `export AUTOGRAPH_VERBOSITY=10`) and attach the full output. Cause: converting <bound method BasicRNNCell.call of <tensorflow.python.ops.rnn_cell_impl.BasicRNNCell object at 0x0000016C895CAB88>>: AssertionError: Bad argument number for Name: 3, expecting 4\n"
     ]
    }
   ],
   "source": [
    "n_layers = 3\n",
    "layers = [tf.contrib.rnn.BasicRNNCell(num_units=n_hidden, activation=tf.nn.relu) for layer in range(n_layers)]\n",
    "multi_layer_cell = tf.contrib.rnn.MultiRNNCell(layers)\n",
    "# 3개의 셀로 멀티레이어 생성해도 output은 하나의 셀일 경우와 동일\n",
    "# state에서는 3개의 레이어마다 생성\n",
    "model = tf.matmul(outputs, W) + b\n",
    "cost = tf.reduce_mean(tf.nn.softmax_cross_entropy_with_logits(logits=model, labels=Y))\n",
    "optimizer = tf.train.AdamOptimizer(learning_rate).minimize(cost)\n",
    "outputs, states = tf.nn.dynamic_rnn(multi_layer_cell, X, dtype=tf.float32)\n",
    "outputs = tf.transpose(outputs, [1,0,2])\n",
    "outputs = outputs[-1]"
   ]
  },
  {
   "cell_type": "code",
   "execution_count": 54,
   "metadata": {},
   "outputs": [
    {
     "name": "stdout",
     "output_type": "stream",
     "text": [
      "정확도:  0.9558\n"
     ]
    }
   ],
   "source": [
    "is_correct = tf.equal(tf.argmax(model, 1), tf.argmax(Y, 1))\n",
    "accuracy = tf.reduce_mean(tf.cast(is_correct, tf.float32))\n",
    "test_batch_size = len(mnist.test.images)\n",
    "test_xs = mnist.test.images.reshape(test_batch_size, n_step, n_input)\n",
    "test_ys = mnist.test.labels\n",
    "print('정확도: ', sess.run(accuracy, feed_dict={X: test_xs, Y: test_ys}))"
   ]
  },
  {
   "cell_type": "code",
   "execution_count": 50,
   "metadata": {},
   "outputs": [
    {
     "name": "stdout",
     "output_type": "stream",
     "text": [
      "입력데이터의 shape (2, 3, 1)\n",
      "WARNING:tensorflow:Entity <bound method LSTMCell.call of <tensorflow.python.ops.rnn_cell_impl.LSTMCell object at 0x0000016CC9FB2F08>> could not be transformed and will be executed as-is. Please report this to the AutgoGraph team. When filing the bug, set the verbosity to 10 (on Linux, `export AUTOGRAPH_VERBOSITY=10`) and attach the full output. Cause: converting <bound method LSTMCell.call of <tensorflow.python.ops.rnn_cell_impl.LSTMCell object at 0x0000016CC9FB2F08>>: AttributeError: module 'gast' has no attribute 'Num'\n",
      "WARNING: Entity <bound method LSTMCell.call of <tensorflow.python.ops.rnn_cell_impl.LSTMCell object at 0x0000016CC9FB2F08>> could not be transformed and will be executed as-is. Please report this to the AutgoGraph team. When filing the bug, set the verbosity to 10 (on Linux, `export AUTOGRAPH_VERBOSITY=10`) and attach the full output. Cause: converting <bound method LSTMCell.call of <tensorflow.python.ops.rnn_cell_impl.LSTMCell object at 0x0000016CC9FB2F08>>: AttributeError: module 'gast' has no attribute 'Num'\n",
      "rnn이 출력하는 outputs의 의미 (2, 3, 100)\n"
     ]
    }
   ],
   "source": [
    "import numpy as np\n",
    "values231 = np.array([[[1],[2],[3]], [[2],[3],[4]]])\n",
    "print(\"입력데이터의 shape\", values231.shape)\n",
    "import tensorflow as tf\n",
    "tf.reset_default_graph()\n",
    "tf_values231 = tf.constant(values231, dtype=tf.float32)\n",
    "lstm_cell = tf.contrib.rnn.LSTMCell(num_units=100)\n",
    "# rnn 모델은 동일 : 망과 망을 연결할 때 (번역망 : 한글, 영어)\n",
    "outputs, state = tf.nn.dynamic_rnn(cell=lstm_cell, dtype=tf.float32, inputs=tf_values231)\n",
    "print(\"rnn이 출력하는 outputs의 의미\", outputs.shape)\n",
    "with tf.Session() as sess:\n",
    "    sess.run(tf.global_variables_initializer())\n",
    "    output_run, state_run = sess.run([outputs, state])"
   ]
  },
  {
   "cell_type": "code",
   "execution_count": 55,
   "metadata": {},
   "outputs": [
    {
     "name": "stdout",
     "output_type": "stream",
     "text": [
      "(2, 100)\n",
      "(2, 100)\n"
     ]
    }
   ],
   "source": [
    "print(state.c.shape) # control state\n",
    "print(state.h.shape) # hidden state"
   ]
  },
  {
   "cell_type": "code",
   "execution_count": 58,
   "metadata": {},
   "outputs": [
    {
     "name": "stdout",
     "output_type": "stream",
     "text": [
      "WARNING:tensorflow:From <ipython-input-58-00ad35270e75>:7: bidirectional_dynamic_rnn (from tensorflow.python.ops.rnn) is deprecated and will be removed in a future version.\n",
      "Instructions for updating:\n",
      "Please use `keras.layers.Bidirectional(keras.layers.RNN(cell))`, which is equivalent to this API\n",
      "WARNING:tensorflow:Entity <bound method LSTMCell.call of <tensorflow.python.ops.rnn_cell_impl.LSTMCell object at 0x0000016CBD6FD988>> could not be transformed and will be executed as-is. Please report this to the AutgoGraph team. When filing the bug, set the verbosity to 10 (on Linux, `export AUTOGRAPH_VERBOSITY=10`) and attach the full output. Cause: converting <bound method LSTMCell.call of <tensorflow.python.ops.rnn_cell_impl.LSTMCell object at 0x0000016CBD6FD988>>: AttributeError: module 'gast' has no attribute 'Num'\n",
      "WARNING: Entity <bound method LSTMCell.call of <tensorflow.python.ops.rnn_cell_impl.LSTMCell object at 0x0000016CBD6FD988>> could not be transformed and will be executed as-is. Please report this to the AutgoGraph team. When filing the bug, set the verbosity to 10 (on Linux, `export AUTOGRAPH_VERBOSITY=10`) and attach the full output. Cause: converting <bound method LSTMCell.call of <tensorflow.python.ops.rnn_cell_impl.LSTMCell object at 0x0000016CBD6FD988>>: AttributeError: module 'gast' has no attribute 'Num'\n",
      "WARNING:tensorflow:Entity <bound method LSTMCell.call of <tensorflow.python.ops.rnn_cell_impl.LSTMCell object at 0x0000016CBD840E88>> could not be transformed and will be executed as-is. Please report this to the AutgoGraph team. When filing the bug, set the verbosity to 10 (on Linux, `export AUTOGRAPH_VERBOSITY=10`) and attach the full output. Cause: converting <bound method LSTMCell.call of <tensorflow.python.ops.rnn_cell_impl.LSTMCell object at 0x0000016CBD840E88>>: AttributeError: module 'gast' has no attribute 'Num'\n",
      "WARNING: Entity <bound method LSTMCell.call of <tensorflow.python.ops.rnn_cell_impl.LSTMCell object at 0x0000016CBD840E88>> could not be transformed and will be executed as-is. Please report this to the AutgoGraph team. When filing the bug, set the verbosity to 10 (on Linux, `export AUTOGRAPH_VERBOSITY=10`) and attach the full output. Cause: converting <bound method LSTMCell.call of <tensorflow.python.ops.rnn_cell_impl.LSTMCell object at 0x0000016CBD840E88>>: AttributeError: module 'gast' has no attribute 'Num'\n",
      "(2, 3, 100)\n",
      "(2, 3, 100)\n"
     ]
    }
   ],
   "source": [
    "tf.reset_default_graph()\n",
    "values = tf.constant(np.array([[[1],[2],[3]],[[2],[3],[4]]]), dtype=tf.float32)\n",
    "lstm_cell_fw = tf.contrib.rnn.LSTMCell(100)\n",
    "lstm_cell_bw = tf.contrib.rnn.LSTMCell(100)\n",
    "# 양방향 LSTM\n",
    "(output_fw, output_bw), (output_state_fw, output_state_bw) = tf.nn.bidirectional_dynamic_rnn(\n",
    "    cell_fw=lstm_cell_fw, cell_bw=lstm_cell_bw, inputs=values, dtype=tf.float32)\n",
    "print(output_fw.shape)\n",
    "print(output_bw.shape)"
   ]
  },
  {
   "cell_type": "code",
   "execution_count": 84,
   "metadata": {},
   "outputs": [
    {
     "name": "stdout",
     "output_type": "stream",
     "text": [
      "(1, 5, 4)\n",
      "array([[[1., 0., 0., 0.],\n",
      "        [0., 1., 0., 0.],\n",
      "        [0., 0., 1., 0.],\n",
      "        [0., 0., 1., 0.],\n",
      "        [0., 0., 0., 1.]]], dtype=float32)\n",
      "WARNING:tensorflow:Entity <bound method BasicRNNCell.call of <tensorflow.python.ops.rnn_cell_impl.BasicRNNCell object at 0x0000016CCCCF5C48>> could not be transformed and will be executed as-is. Please report this to the AutgoGraph team. When filing the bug, set the verbosity to 10 (on Linux, `export AUTOGRAPH_VERBOSITY=10`) and attach the full output. Cause: converting <bound method BasicRNNCell.call of <tensorflow.python.ops.rnn_cell_impl.BasicRNNCell object at 0x0000016CCCCF5C48>>: AssertionError: Bad argument number for Name: 3, expecting 4\n",
      "WARNING: Entity <bound method BasicRNNCell.call of <tensorflow.python.ops.rnn_cell_impl.BasicRNNCell object at 0x0000016CCCCF5C48>> could not be transformed and will be executed as-is. Please report this to the AutgoGraph team. When filing the bug, set the verbosity to 10 (on Linux, `export AUTOGRAPH_VERBOSITY=10`) and attach the full output. Cause: converting <bound method BasicRNNCell.call of <tensorflow.python.ops.rnn_cell_impl.BasicRNNCell object at 0x0000016CCCCF5C48>>: AssertionError: Bad argument number for Name: 3, expecting 4\n",
      "array([[[ 0.31433782, -0.5659839 ],\n",
      "        [ 0.71922415, -0.10147509],\n",
      "        [-0.08392946, -0.89036334],\n",
      "        [ 0.4355108 , -0.8367529 ],\n",
      "        [-0.06158284, -0.59681195]]], dtype=float32)\n",
      "(1, 5, 2)\n",
      "(1, 2)\n",
      "array([[-0.06158284, -0.59681195]], dtype=float32)\n"
     ]
    }
   ],
   "source": [
    "from tensorflow.contrib import rnn\n",
    "import pprint\n",
    "from tensorflow.python.framework import ops\n",
    "ops.reset_default_graph()\n",
    "pp = pprint.PrettyPrinter(indent=4)\n",
    "sess = tf.InteractiveSession()\n",
    "h = [1,0,0,0]\n",
    "e = [0,1,0,0]\n",
    "l = [0,0,1,0]\n",
    "o = [0,0,0,1]\n",
    "# 변수 공유를 위해 지정\n",
    "with tf.variable_scope('five_sequences') as scope:\n",
    "    hidden_size = 2\n",
    "    # 4 -> 2개 특징으로 vector화\n",
    "    cell = tf.contrib.rnn.BasicRNNCell(num_units=hidden_size)\n",
    "    x_data = np.array([[h, e, l, l, o]], dtype=np.float32)\n",
    "    print(x_data.shape) # (1,5,4) 3차원 데이터\n",
    "    pp.pprint(x_data)\n",
    "    outputs, states = tf.nn.dynamic_rnn(cell, x_data, dtype=tf.float32)\n",
    "    sess.run(tf.global_variables_initializer())\n",
    "    pp.pprint(outputs.eval())\n",
    "    print(outputs.shape) # 1X5X2\n",
    "    print(states.shape) # 1X2\n",
    "    pp.pprint(states.eval())"
   ]
  },
  {
   "cell_type": "code",
   "execution_count": 85,
   "metadata": {},
   "outputs": [],
   "source": [
    "char_arr = ['a','b','c','d','e','f','g','h','i','j','k','l','m','n','o','p',\n",
    "           'q','r','s','t','u','v','w','x','y','z']\n",
    "num_dic = {n: i for i, n in enumerate(char_arr)}\n",
    "dic_len = len(num_dic)\n",
    "seq_data = ['word', 'wood', 'deep', 'dive', 'cold', 'cool', 'load',\n",
    "           'love', 'kiss','kind']\n",
    "\n",
    "def make_batch(seq_data):\n",
    "    input_batch = []\n",
    "    target_batch = []\n",
    "    for seq in seq_data:\n",
    "        input = [num_dic[n] for n in seq[:-1]] # w=22, o=14, r=17\n",
    "        target = num_dic[seq[-1]] # d = 3\n",
    "        input_batch.append(np.eye(dic_len)[input]) # 문자를 자동으로 one-hot-encoding\n",
    "        target_batch.append(target)\n",
    "    return input_batch, target_batch"
   ]
  },
  {
   "cell_type": "code",
   "execution_count": 86,
   "metadata": {},
   "outputs": [
    {
     "name": "stdout",
     "output_type": "stream",
     "text": [
      "WARNING:tensorflow:Entity <bound method MultiRNNCell.call of <tensorflow.python.ops.rnn_cell_impl.MultiRNNCell object at 0x0000016CD02FFC48>> could not be transformed and will be executed as-is. Please report this to the AutgoGraph team. When filing the bug, set the verbosity to 10 (on Linux, `export AUTOGRAPH_VERBOSITY=10`) and attach the full output. Cause: converting <bound method MultiRNNCell.call of <tensorflow.python.ops.rnn_cell_impl.MultiRNNCell object at 0x0000016CD02FFC48>>: AttributeError: module 'gast' has no attribute 'Num'\n",
      "WARNING: Entity <bound method MultiRNNCell.call of <tensorflow.python.ops.rnn_cell_impl.MultiRNNCell object at 0x0000016CD02FFC48>> could not be transformed and will be executed as-is. Please report this to the AutgoGraph team. When filing the bug, set the verbosity to 10 (on Linux, `export AUTOGRAPH_VERBOSITY=10`) and attach the full output. Cause: converting <bound method MultiRNNCell.call of <tensorflow.python.ops.rnn_cell_impl.MultiRNNCell object at 0x0000016CD02FFC48>>: AttributeError: module 'gast' has no attribute 'Num'\n",
      "WARNING:tensorflow:Entity <bound method BasicLSTMCell.call of <tensorflow.python.ops.rnn_cell_impl.BasicLSTMCell object at 0x0000016CD02EEC88>> could not be transformed and will be executed as-is. Please report this to the AutgoGraph team. When filing the bug, set the verbosity to 10 (on Linux, `export AUTOGRAPH_VERBOSITY=10`) and attach the full output. Cause: converting <bound method BasicLSTMCell.call of <tensorflow.python.ops.rnn_cell_impl.BasicLSTMCell object at 0x0000016CD02EEC88>>: AssertionError: Bad argument number for Name: 3, expecting 4\n",
      "WARNING: Entity <bound method BasicLSTMCell.call of <tensorflow.python.ops.rnn_cell_impl.BasicLSTMCell object at 0x0000016CD02EEC88>> could not be transformed and will be executed as-is. Please report this to the AutgoGraph team. When filing the bug, set the verbosity to 10 (on Linux, `export AUTOGRAPH_VERBOSITY=10`) and attach the full output. Cause: converting <bound method BasicLSTMCell.call of <tensorflow.python.ops.rnn_cell_impl.BasicLSTMCell object at 0x0000016CD02EEC88>>: AssertionError: Bad argument number for Name: 3, expecting 4\n",
      "WARNING:tensorflow:Entity <bound method BasicLSTMCell.call of <tensorflow.python.ops.rnn_cell_impl.BasicLSTMCell object at 0x0000016CD038A8C8>> could not be transformed and will be executed as-is. Please report this to the AutgoGraph team. When filing the bug, set the verbosity to 10 (on Linux, `export AUTOGRAPH_VERBOSITY=10`) and attach the full output. Cause: converting <bound method BasicLSTMCell.call of <tensorflow.python.ops.rnn_cell_impl.BasicLSTMCell object at 0x0000016CD038A8C8>>: AssertionError: Bad argument number for Name: 3, expecting 4\n",
      "WARNING: Entity <bound method BasicLSTMCell.call of <tensorflow.python.ops.rnn_cell_impl.BasicLSTMCell object at 0x0000016CD038A8C8>> could not be transformed and will be executed as-is. Please report this to the AutgoGraph team. When filing the bug, set the verbosity to 10 (on Linux, `export AUTOGRAPH_VERBOSITY=10`) and attach the full output. Cause: converting <bound method BasicLSTMCell.call of <tensorflow.python.ops.rnn_cell_impl.BasicLSTMCell object at 0x0000016CD038A8C8>>: AssertionError: Bad argument number for Name: 3, expecting 4\n"
     ]
    }
   ],
   "source": [
    "learning_rate = 0.01\n",
    "n_hidden = 128\n",
    "total_epoch = 30\n",
    "n_step = 3\n",
    "n_input = n_class = dic_len\n",
    "\n",
    "X = tf.placeholder(tf.float32, [None, n_step, n_input])\n",
    "Y = tf.placeholder(tf.int32, [None])\n",
    "W = tf.Variable(tf.random_normal([n_hidden, n_class]))\n",
    "b = tf.Variable(tf.random_normal([n_class]))\n",
    "\n",
    "cell1 = tf.nn.rnn_cell.BasicLSTMCell(n_hidden)\n",
    "# 과적합을 방지하기 위해 dropout\n",
    "cell1 = tf.nn.rnn_cell.DropoutWrapper(cell1, output_keep_prob=0.5, seed=10)\n",
    "cell2 = tf.nn.rnn_cell.BasicLSTMCell(n_hidden)\n",
    "# 2레이어로 구성된 멀티셀\n",
    "multi_cell = tf.nn.rnn_cell.MultiRNNCell([cell1, cell2])\n",
    "outputs, states = tf.nn.dynamic_rnn(multi_cell, X, dtype=tf.float32)\n",
    "# outputs : 10X3X128, states: 10X128\n",
    "outputs = tf.transpose(outputs, [1,0,2])\n",
    "outputs = outputs[-1]\n",
    "model = tf.matmul(outputs, W) + b # 비선형 회귀방식\n",
    "# softmax 분류\n",
    "cost = tf.reduce_mean(tf.nn.sparse_softmax_cross_entropy_with_logits(logits=model, labels=Y))\n",
    "optimizer = tf.train.AdamOptimizer(learning_rate).minimize(cost)"
   ]
  },
  {
   "cell_type": "code",
   "execution_count": 87,
   "metadata": {},
   "outputs": [
    {
     "name": "stdout",
     "output_type": "stream",
     "text": [
      "Epoch:  0001 cost:  3.066628\n",
      "Epoch:  0002 cost:  2.243902\n",
      "Epoch:  0003 cost:  1.563498\n",
      "Epoch:  0004 cost:  1.191787\n",
      "Epoch:  0005 cost:  0.618416\n",
      "Epoch:  0006 cost:  0.699477\n",
      "Epoch:  0007 cost:  0.384764\n",
      "Epoch:  0008 cost:  0.441177\n",
      "Epoch:  0009 cost:  0.260465\n",
      "Epoch:  0010 cost:  0.303213\n",
      "Epoch:  0011 cost:  0.195946\n",
      "Epoch:  0012 cost:  0.131632\n",
      "Epoch:  0013 cost:  0.202879\n",
      "Epoch:  0014 cost:  0.446408\n",
      "Epoch:  0015 cost:  0.053746\n",
      "Epoch:  0016 cost:  0.080517\n",
      "Epoch:  0017 cost:  0.156255\n",
      "Epoch:  0018 cost:  0.135849\n",
      "Epoch:  0019 cost:  0.126281\n",
      "Epoch:  0020 cost:  0.055881\n",
      "Epoch:  0021 cost:  0.152326\n",
      "Epoch:  0022 cost:  0.237486\n",
      "Epoch:  0023 cost:  0.061365\n",
      "Epoch:  0024 cost:  0.015723\n",
      "Epoch:  0025 cost:  0.007983\n",
      "Epoch:  0026 cost:  0.017087\n",
      "Epoch:  0027 cost:  0.024913\n",
      "Epoch:  0028 cost:  0.049374\n",
      "Epoch:  0029 cost:  0.004393\n",
      "Epoch:  0030 cost:  0.019658\n"
     ]
    }
   ],
   "source": [
    "sess = tf.Session()\n",
    "sess.run(tf.global_variables_initializer())\n",
    "input_batch, target_batch = make_batch(seq_data) # 단어데이터\n",
    "\n",
    "for epoch in range(total_epoch):\n",
    "    _, loss = sess.run([optimizer, cost],\n",
    "                      feed_dict={X: input_batch, Y: target_batch})\n",
    "    print('Epoch: ', '%04d' % (epoch+1),\n",
    "         'cost: ', '{:.6f}'.format(loss))"
   ]
  },
  {
   "cell_type": "code",
   "execution_count": 88,
   "metadata": {},
   "outputs": [],
   "source": [
    "prediction = tf.cast(tf.argmax(model, 1), tf.int32)\n",
    "prediction_check = tf.equal(prediction, Y)\n",
    "accuracy = tf.reduce_mean(tf.cast(prediction_check, tf.float32))\n",
    "\n",
    "input_batch, target_batch = make_batch(seq_data)\n",
    "predict, accuracy_val = sess.run([prediction, accuracy],\n",
    "                                feed_dict={X: input_batch, Y: target_batch})"
   ]
  },
  {
   "cell_type": "markdown",
   "metadata": {},
   "source": [
    "# 문제\n",
    "## predict 한 결과를 출력하고 accuracy를 출력하시오\n",
    "## 입력단어와 예측결과를 나란히 출력해보시오"
   ]
  },
  {
   "cell_type": "code",
   "execution_count": 91,
   "metadata": {},
   "outputs": [
    {
     "name": "stdout",
     "output_type": "stream",
     "text": [
      "예측한 결과: [ 3  3 15  4  3 11  3  4 18  3] \t정확도:  1.0\n"
     ]
    }
   ],
   "source": [
    "# 츄라이...\n",
    "print('예측한 결과:', predict, '\\t정확도: ', accuracy_val)\n",
    "\n",
    "for i in range(len(input_batch)): #10개 단어\n",
    "    for j in range(len(input_batch[0])): #3개 알파벳\n",
    "        list = []\n",
    "        x = np.argmax(input_batch[i][j])\n",
    "        list.append[x]"
   ]
  },
  {
   "cell_type": "code",
   "execution_count": 113,
   "metadata": {},
   "outputs": [
    {
     "name": "stdout",
     "output_type": "stream",
     "text": [
      "입력값: ['wor ', 'woo ', 'dee ', 'div ', 'col ', 'coo ', 'loa ', 'lov ', 'kis ', 'kin ']\n",
      "예측값: ['word', 'wood', 'deep', 'dive', 'cold', 'cool', 'load', 'love', 'kiss', 'kind']\n",
      "정확도: 1.0\n"
     ]
    }
   ],
   "source": [
    "# 답안\n",
    "predict_words = []\n",
    "for idx, val in enumerate(seq_data):\n",
    "    last_char = char_arr[predict[idx]]\n",
    "    predict_words.append(val[:3]+last_char)\n",
    "print('입력값:', [w[:3]+' ' for w in seq_data])\n",
    "print('예측값:', predict_words)\n",
    "print('정확도:', accuracy_val)\n",
    "\n",
    "# 으아닛 이리 간단했나......하하"
   ]
  },
  {
   "cell_type": "code",
   "execution_count": 119,
   "metadata": {},
   "outputs": [
    {
     "data": {
      "text/plain": [
       "'wor'"
      ]
     },
     "execution_count": 119,
     "metadata": {},
     "output_type": "execute_result"
    }
   ],
   "source": []
  },
  {
   "cell_type": "code",
   "execution_count": null,
   "metadata": {},
   "outputs": [],
   "source": []
  }
 ],
 "metadata": {
  "kernelspec": {
   "display_name": "Python 3",
   "language": "python",
   "name": "python3"
  },
  "language_info": {
   "codemirror_mode": {
    "name": "ipython",
    "version": 3
   },
   "file_extension": ".py",
   "mimetype": "text/x-python",
   "name": "python",
   "nbconvert_exporter": "python",
   "pygments_lexer": "ipython3",
   "version": "3.7.4"
  }
 },
 "nbformat": 4,
 "nbformat_minor": 2
}
