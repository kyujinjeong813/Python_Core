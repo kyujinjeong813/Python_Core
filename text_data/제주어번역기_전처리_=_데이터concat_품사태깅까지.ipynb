{
  "nbformat": 4,
  "nbformat_minor": 0,
  "metadata": {
    "kernelspec": {
      "display_name": "Python 3",
      "language": "python",
      "name": "python3"
    },
    "language_info": {
      "codemirror_mode": {
        "name": "ipython",
        "version": 3
      },
      "file_extension": ".py",
      "mimetype": "text/x-python",
      "name": "python",
      "nbconvert_exporter": "python",
      "pygments_lexer": "ipython3",
      "version": "3.7.6"
    },
    "colab": {
      "name": "제주어번역기 전처리 = 데이터concat. 품사태깅까지.ipynb",
      "provenance": []
    }
  },
  "cells": [
    {
      "cell_type": "code",
      "metadata": {
        "id": "A_GZodR-xvHd",
        "colab_type": "code",
        "outputId": "3d1b691b-0b91-43af-9503-64202d5c8a96",
        "colab": {
          "base_uri": "https://localhost:8080/",
          "height": 35
        }
      },
      "source": [
        "import pandas as pd\n",
        "lines= pd.read_csv('/content/dataset.txt', sep='\\t',encoding='utf-8',names=['jeju','real']) # ,names=['제주어','표준어']\n",
        "len(lines)"
      ],
      "execution_count": 0,
      "outputs": [
        {
          "output_type": "execute_result",
          "data": {
            "text/plain": [
              "1203"
            ]
          },
          "metadata": {
            "tags": []
          },
          "execution_count": 1
        }
      ]
    },
    {
      "cell_type": "code",
      "metadata": {
        "id": "CjHOi_rFx0Ed",
        "colab_type": "code",
        "outputId": "4d927c0c-6921-45b6-b35a-9255ac4d026b",
        "colab": {
          "base_uri": "https://localhost:8080/",
          "height": 504
        }
      },
      "source": [
        "lines"
      ],
      "execution_count": 0,
      "outputs": [
        {
          "output_type": "execute_result",
          "data": {
            "text/html": [
              "<div>\n",
              "<style scoped>\n",
              "    .dataframe tbody tr th:only-of-type {\n",
              "        vertical-align: middle;\n",
              "    }\n",
              "\n",
              "    .dataframe tbody tr th {\n",
              "        vertical-align: top;\n",
              "    }\n",
              "\n",
              "    .dataframe thead th {\n",
              "        text-align: right;\n",
              "    }\n",
              "</style>\n",
              "<table border=\"1\" class=\"dataframe\">\n",
              "  <thead>\n",
              "    <tr style=\"text-align: right;\">\n",
              "      <th></th>\n",
              "      <th>jeju</th>\n",
              "      <th>real</th>\n",
              "    </tr>\n",
              "  </thead>\n",
              "  <tbody>\n",
              "    <tr>\n",
              "      <th>0</th>\n",
              "      <td>버래기</td>\n",
              "      <td>넘치도록</td>\n",
              "    </tr>\n",
              "    <tr>\n",
              "      <th>1</th>\n",
              "      <td>강생이</td>\n",
              "      <td>강아지</td>\n",
              "    </tr>\n",
              "    <tr>\n",
              "      <th>2</th>\n",
              "      <td>부각허다</td>\n",
              "      <td>부글부글하다</td>\n",
              "    </tr>\n",
              "    <tr>\n",
              "      <th>3</th>\n",
              "      <td>강알</td>\n",
              "      <td>가랭이</td>\n",
              "    </tr>\n",
              "    <tr>\n",
              "      <th>4</th>\n",
              "      <td>부끄다</td>\n",
              "      <td>부풀어 오르다</td>\n",
              "    </tr>\n",
              "    <tr>\n",
              "      <th>...</th>\n",
              "      <td>...</td>\n",
              "      <td>...</td>\n",
              "    </tr>\n",
              "    <tr>\n",
              "      <th>1198</th>\n",
              "      <td>어떵 호민 조코 마씀? 멍는거나 고트민 맨도롱 혼 때 호로록 들여싸 불기나 혼다. ...</td>\n",
              "      <td>어떻게 하면 좋겠습니까요? 먹을 수 있는 것이라면 따뜻할 때 후루룩 마셔 버리기나 ...</td>\n",
              "    </tr>\n",
              "    <tr>\n",
              "      <th>1199</th>\n",
              "      <td>영도 못하곡, 정도 못하곡, 비바리야, 촘말로 죽어 지키여! 소나이 타는 모심을 호...</td>\n",
              "      <td>이렇게도 못하고, 저렇게도 못하고, 처녀야! 참말로 죽겠다. 총각이 타는 마음을 조...</td>\n",
              "    </tr>\n",
              "    <tr>\n",
              "      <th>1200</th>\n",
              "      <td>우리 제주도 하르방들이 호는 말이 있수다. 밭을 살 땐 에염을 보라. 집을 살 땐 ...</td>\n",
              "      <td>우리 제주도 할아버지들이 하시는 말씀이 있습니다. 밭을 살 때는 밭 옆을 보고 사라...</td>\n",
              "    </tr>\n",
              "    <tr>\n",
              "      <th>1201</th>\n",
              "      <td>그리고 우리 어멍들이 고르친 말이 있수다. 홈생이 말라. 촐람생이질 말라. 간세 말...</td>\n",
              "      <td>그리고 우리 어머니들이 가르친 말씀이 있습니다. 어리광 부리지 말라. 경솔하게 나서...</td>\n",
              "    </tr>\n",
              "    <tr>\n",
              "      <th>1202</th>\n",
              "      <td>경해사 호는 일들이 펜안해 진다. 살당 보민 잊어 불 때도 있수다만 우리 하르방, ...</td>\n",
              "      <td>그래야 하는 일들이 편안히 잘된다. 살다 보면 잊어버릴 대가 있습니다만 우리 할아버...</td>\n",
              "    </tr>\n",
              "  </tbody>\n",
              "</table>\n",
              "<p>1203 rows × 2 columns</p>\n",
              "</div>"
            ],
            "text/plain": [
              "                                                   jeju                                               real\n",
              "0                                                   버래기                                               넘치도록\n",
              "1                                                   강생이                                                강아지\n",
              "2                                                  부각허다                                             부글부글하다\n",
              "3                                                    강알                                                가랭이\n",
              "4                                                   부끄다                                            부풀어 오르다\n",
              "...                                                 ...                                                ...\n",
              "1198  어떵 호민 조코 마씀? 멍는거나 고트민 맨도롱 혼 때 호로록 들여싸 불기나 혼다. ...  어떻게 하면 좋겠습니까요? 먹을 수 있는 것이라면 따뜻할 때 후루룩 마셔 버리기나 ...\n",
              "1199  영도 못하곡, 정도 못하곡, 비바리야, 촘말로 죽어 지키여! 소나이 타는 모심을 호...  이렇게도 못하고, 저렇게도 못하고, 처녀야! 참말로 죽겠다. 총각이 타는 마음을 조...\n",
              "1200  우리 제주도 하르방들이 호는 말이 있수다. 밭을 살 땐 에염을 보라. 집을 살 땐 ...  우리 제주도 할아버지들이 하시는 말씀이 있습니다. 밭을 살 때는 밭 옆을 보고 사라...\n",
              "1201  그리고 우리 어멍들이 고르친 말이 있수다. 홈생이 말라. 촐람생이질 말라. 간세 말...  그리고 우리 어머니들이 가르친 말씀이 있습니다. 어리광 부리지 말라. 경솔하게 나서...\n",
              "1202  경해사 호는 일들이 펜안해 진다. 살당 보민 잊어 불 때도 있수다만 우리 하르방, ...  그래야 하는 일들이 편안히 잘된다. 살다 보면 잊어버릴 대가 있습니다만 우리 할아버...\n",
              "\n",
              "[1203 rows x 2 columns]"
            ]
          },
          "metadata": {
            "tags": []
          },
          "execution_count": 2
        }
      ]
    },
    {
      "cell_type": "code",
      "metadata": {
        "id": "Oamty4FXMDd4",
        "colab_type": "code",
        "outputId": "d39fbf70-f309-40c6-b01b-5c13ec72a2f3",
        "colab": {
          "base_uri": "https://localhost:8080/",
          "height": 35
        }
      },
      "source": [
        "import pandas as pd\n",
        "lines= pd.read_csv('/content/jeju_final.txt', sep='\\t',encoding='utf-8',names=['jeju','real']) # ,names=['제주어','표준어']\n",
        "len(lines)"
      ],
      "execution_count": 0,
      "outputs": [
        {
          "output_type": "execute_result",
          "data": {
            "text/plain": [
              "466"
            ]
          },
          "metadata": {
            "tags": []
          },
          "execution_count": 29
        }
      ]
    },
    {
      "cell_type": "code",
      "metadata": {
        "id": "fueFhFwNSsQo",
        "colab_type": "code",
        "outputId": "dfc62fef-57e5-4a3b-9e3e-30b546a4e5b4",
        "colab": {
          "base_uri": "https://localhost:8080/",
          "height": 419
        }
      },
      "source": [
        "lines"
      ],
      "execution_count": 0,
      "outputs": [
        {
          "output_type": "execute_result",
          "data": {
            "text/html": [
              "<div>\n",
              "<style scoped>\n",
              "    .dataframe tbody tr th:only-of-type {\n",
              "        vertical-align: middle;\n",
              "    }\n",
              "\n",
              "    .dataframe tbody tr th {\n",
              "        vertical-align: top;\n",
              "    }\n",
              "\n",
              "    .dataframe thead th {\n",
              "        text-align: right;\n",
              "    }\n",
              "</style>\n",
              "<table border=\"1\" class=\"dataframe\">\n",
              "  <thead>\n",
              "    <tr style=\"text-align: right;\">\n",
              "      <th></th>\n",
              "      <th>jeju</th>\n",
              "      <th>real</th>\n",
              "    </tr>\n",
              "  </thead>\n",
              "  <tbody>\n",
              "    <tr>\n",
              "      <th>0</th>\n",
              "      <td>하르방</td>\n",
              "      <td>할아버지</td>\n",
              "    </tr>\n",
              "    <tr>\n",
              "      <th>1</th>\n",
              "      <td>할망</td>\n",
              "      <td>할머니</td>\n",
              "    </tr>\n",
              "    <tr>\n",
              "      <th>2</th>\n",
              "      <td>아방</td>\n",
              "      <td>아버지</td>\n",
              "    </tr>\n",
              "    <tr>\n",
              "      <th>3</th>\n",
              "      <td>어멍</td>\n",
              "      <td>어머니</td>\n",
              "    </tr>\n",
              "    <tr>\n",
              "      <th>4</th>\n",
              "      <td>비바리</td>\n",
              "      <td>처녀</td>\n",
              "    </tr>\n",
              "    <tr>\n",
              "      <th>...</th>\n",
              "      <td>...</td>\n",
              "      <td>...</td>\n",
              "    </tr>\n",
              "    <tr>\n",
              "      <th>461</th>\n",
              "      <td>성게도 지깍 구젱기영 전복이영</td>\n",
              "      <td>성게도 가득 전복이랑 소라랑</td>\n",
              "    </tr>\n",
              "    <tr>\n",
              "      <th>462</th>\n",
              "      <td>아고 이건 뭐라 물꾸럭도 잡앙 와신게</td>\n",
              "      <td>아고 이건 뭐지 문어도 잡아 왔네요</td>\n",
              "    </tr>\n",
              "    <tr>\n",
              "      <th>463</th>\n",
              "      <td>아고 삼촌 물꾸럭 나 얼마마씸?</td>\n",
              "      <td>아고 삼촌 문어 한마리 얼마죠?</td>\n",
              "    </tr>\n",
              "    <tr>\n",
              "      <th>464</th>\n",
              "      <td>아고 조케야 느랑 기냥 거정가불라</td>\n",
              "      <td>아고 조카야 너는 그냥 가져가라</td>\n",
              "    </tr>\n",
              "    <tr>\n",
              "      <th>465</th>\n",
              "      <td>에고 무신 소리꽈 게민 조냑에랑 당근파당 거정안내주마씀</td>\n",
              "      <td>에고 무슨 말씀을 그럼 저녁에 당근파다 드릴게요</td>\n",
              "    </tr>\n",
              "  </tbody>\n",
              "</table>\n",
              "<p>466 rows × 2 columns</p>\n",
              "</div>"
            ],
            "text/plain": [
              "                               jeju                        real\n",
              "0                              하르방                         할아버지\n",
              "1                               할망                          할머니\n",
              "2                               아방                          아버지\n",
              "3                               어멍                          어머니\n",
              "4                              비바리                           처녀\n",
              "..                              ...                         ...\n",
              "461                성게도 지깍 구젱기영 전복이영             성게도 가득 전복이랑 소라랑\n",
              "462            아고 이건 뭐라 물꾸럭도 잡앙 와신게         아고 이건 뭐지 문어도 잡아 왔네요\n",
              "463               아고 삼촌 물꾸럭 나 얼마마씸?           아고 삼촌 문어 한마리 얼마죠?\n",
              "464              아고 조케야 느랑 기냥 거정가불라           아고 조카야 너는 그냥 가져가라\n",
              "465  에고 무신 소리꽈 게민 조냑에랑 당근파당 거정안내주마씀  에고 무슨 말씀을 그럼 저녁에 당근파다 드릴게요\n",
              "\n",
              "[466 rows x 2 columns]"
            ]
          },
          "metadata": {
            "tags": []
          },
          "execution_count": 30
        }
      ]
    },
    {
      "cell_type": "code",
      "metadata": {
        "id": "6T_QViILPEMl",
        "colab_type": "code",
        "colab": {}
      },
      "source": [
        "line_1 =lines.jeju\n",
        "line_2 =lines.real"
      ],
      "execution_count": 0,
      "outputs": []
    },
    {
      "cell_type": "code",
      "metadata": {
        "id": "KUk67XukPYcP",
        "colab_type": "code",
        "outputId": "f3174f85-467a-47be-bdf3-160ec54f0831",
        "colab": {
          "base_uri": "https://localhost:8080/",
          "height": 233
        }
      },
      "source": [
        "line_1"
      ],
      "execution_count": 0,
      "outputs": [
        {
          "output_type": "execute_result",
          "data": {
            "text/plain": [
              "0                                하르방 \n",
              "1                                 할망 \n",
              "2                                 아방 \n",
              "3                                 어멍 \n",
              "4                                비바리 \n",
              "                    ...              \n",
              "461                  성게도 지깍 구젱기영 전복이영\n",
              "462              아고 이건 뭐라 물꾸럭도 잡앙 와신게\n",
              "463                 아고 삼촌 물꾸럭 나 얼마마씸?\n",
              "464                아고 조케야 느랑 기냥 거정가불라\n",
              "465    에고 무신 소리꽈 게민 조냑에랑 당근파당 거정안내주마씀\n",
              "Name: jeju, Length: 466, dtype: object"
            ]
          },
          "metadata": {
            "tags": []
          },
          "execution_count": 32
        }
      ]
    },
    {
      "cell_type": "markdown",
      "metadata": {
        "id": "fPO5lZ21S7s-",
        "colab_type": "text"
      },
      "source": [
        "# 하나의 파일로 이루어진 mapping 제주사투리 / 표준어\n",
        "\n",
        "# pd.DataFrame 형태로 불러와서 column 지정해주고\n",
        "\n",
        "# 각각의 파일로 찢는다."
      ]
    },
    {
      "cell_type": "code",
      "metadata": {
        "id": "1H17sI3DT7vh",
        "colab_type": "code",
        "outputId": "6e4df4fc-875a-413b-cb9d-b0af027adb0c",
        "colab": {
          "base_uri": "https://localhost:8080/",
          "height": 91
        }
      },
      "source": [
        "import pandas as pd\n",
        "lines2= pd.read_csv('/content/제주어속담_표준어맵핑.txt', sep='\\:',encoding='utf-8',names=['jeju','real']) # ,names=['제주어','표준어']\n",
        "len(lines2)"
      ],
      "execution_count": 0,
      "outputs": [
        {
          "output_type": "stream",
          "text": [
            "/usr/local/lib/python3.6/dist-packages/ipykernel_launcher.py:2: ParserWarning: Falling back to the 'python' engine because the 'c' engine does not support regex separators (separators > 1 char and different from '\\s+' are interpreted as regex); you can avoid this warning by specifying engine='python'.\n",
            "  \n"
          ],
          "name": "stderr"
        },
        {
          "output_type": "execute_result",
          "data": {
            "text/plain": [
              "94"
            ]
          },
          "metadata": {
            "tags": []
          },
          "execution_count": 33
        }
      ]
    },
    {
      "cell_type": "code",
      "metadata": {
        "id": "5VkFR-EAUBcv",
        "colab_type": "code",
        "outputId": "f741db5b-09b9-4525-ff78-11b73d84d058",
        "colab": {
          "base_uri": "https://localhost:8080/",
          "height": 419
        }
      },
      "source": [
        "lines2"
      ],
      "execution_count": 0,
      "outputs": [
        {
          "output_type": "execute_result",
          "data": {
            "text/html": [
              "<div>\n",
              "<style scoped>\n",
              "    .dataframe tbody tr th:only-of-type {\n",
              "        vertical-align: middle;\n",
              "    }\n",
              "\n",
              "    .dataframe tbody tr th {\n",
              "        vertical-align: top;\n",
              "    }\n",
              "\n",
              "    .dataframe thead th {\n",
              "        text-align: right;\n",
              "    }\n",
              "</style>\n",
              "<table border=\"1\" class=\"dataframe\">\n",
              "  <thead>\n",
              "    <tr style=\"text-align: right;\">\n",
              "      <th></th>\n",
              "      <th>jeju</th>\n",
              "      <th>real</th>\n",
              "    </tr>\n",
              "  </thead>\n",
              "  <tbody>\n",
              "    <tr>\n",
              "      <th>0</th>\n",
              "      <td>물빡으로 물먹으민 시염 안돋나.</td>\n",
              "      <td>물바가지로 물 마시면 수염 안난다.</td>\n",
              "    </tr>\n",
              "    <tr>\n",
              "      <th>1</th>\n",
              "      <td>물애기 옷을 막개로 뽈민 애기놀랜다.</td>\n",
              "      <td>갓난아이 옷을 방망이로 빨면 아기가 놀랜다.</td>\n",
              "    </tr>\n",
              "    <tr>\n",
              "      <th>2</th>\n",
              "      <td>밤에 얼래기질 호민 모솜탄다.</td>\n",
              "      <td>밤에 머리 빗으면 무서움 탄다.</td>\n",
              "    </tr>\n",
              "    <tr>\n",
              "      <th>3</th>\n",
              "      <td>비는 놈안틴 지여사 혼다.</td>\n",
              "      <td>비는 자에게는 용서해 주어야 한다.</td>\n",
              "    </tr>\n",
              "    <tr>\n",
              "      <th>4</th>\n",
              "      <td>비 온날 쇠총지 이레 착 저레 착 혼다.</td>\n",
              "      <td>비오는 날 쇠꼬리 이리 착 저리 착 흔든다.</td>\n",
              "    </tr>\n",
              "    <tr>\n",
              "      <th>...</th>\n",
              "      <td>...</td>\n",
              "      <td>...</td>\n",
              "    </tr>\n",
              "    <tr>\n",
              "      <th>89</th>\n",
              "      <td>대천 바당도 건너 봐사 안다.</td>\n",
              "      <td>넓은 바다도 건너 봐야 안다.</td>\n",
              "    </tr>\n",
              "    <tr>\n",
              "      <th>90</th>\n",
              "      <td>대정 몽생이 요망진다.</td>\n",
              "      <td>대정 망아지 야무지고 알차다 = 대정은 서귀포시 대정읍 지명임.</td>\n",
              "    </tr>\n",
              "    <tr>\n",
              "      <th>91</th>\n",
              "      <td>덴디 꺼럭 아니 돗나</td>\n",
              "      <td>덴 곳에 털 안난다.</td>\n",
              "    </tr>\n",
              "    <tr>\n",
              "      <th>92</th>\n",
              "      <td>도 터질 밭디 모쉬 들듯.</td>\n",
              "      <td>들목 터진 밭에 마소 들듯</td>\n",
              "    </tr>\n",
              "    <tr>\n",
              "      <th>93</th>\n",
              "      <td>도둑놈광 샛뭇은 묶엉 세와노민 똑 닮나.</td>\n",
              "      <td>도둑놈과 띠 다발은 묶어서 세워 놓으면 꼭 닮다.</td>\n",
              "    </tr>\n",
              "  </tbody>\n",
              "</table>\n",
              "<p>94 rows × 2 columns</p>\n",
              "</div>"
            ],
            "text/plain": [
              "                       jeju                                 real\n",
              "0        물빡으로 물먹으민 시염 안돋나.                   물바가지로 물 마시면 수염 안난다.\n",
              "1     물애기 옷을 막개로 뽈민 애기놀랜다.              갓난아이 옷을 방망이로 빨면 아기가 놀랜다.\n",
              "2         밤에 얼래기질 호민 모솜탄다.                     밤에 머리 빗으면 무서움 탄다.\n",
              "3           비는 놈안틴 지여사 혼다.                   비는 자에게는 용서해 주어야 한다.\n",
              "4   비 온날 쇠총지 이레 착 저레 착 혼다.              비오는 날 쇠꼬리 이리 착 저리 착 흔든다.\n",
              "..                      ...                                  ...\n",
              "89         대천 바당도 건너 봐사 안다.                     넓은 바다도 건너 봐야 안다.\n",
              "90             대정 몽생이 요망진다.  대정 망아지 야무지고 알차다 = 대정은 서귀포시 대정읍 지명임.\n",
              "91              덴디 꺼럭 아니 돗나                          덴 곳에 털 안난다.\n",
              "92           도 터질 밭디 모쉬 들듯.                       들목 터진 밭에 마소 들듯\n",
              "93   도둑놈광 샛뭇은 묶엉 세와노민 똑 닮나.          도둑놈과 띠 다발은 묶어서 세워 놓으면 꼭 닮다.\n",
              "\n",
              "[94 rows x 2 columns]"
            ]
          },
          "metadata": {
            "tags": []
          },
          "execution_count": 34
        }
      ]
    },
    {
      "cell_type": "code",
      "metadata": {
        "id": "LAKH4SIkUWVF",
        "colab_type": "code",
        "colab": {}
      },
      "source": [
        "line_3=lines2.jeju\n",
        "line_4=lines2.real"
      ],
      "execution_count": 0,
      "outputs": []
    },
    {
      "cell_type": "code",
      "metadata": {
        "id": "JmadCEOgUWXl",
        "colab_type": "code",
        "outputId": "d02abd02-f914-4325-e864-bf09ab0270f8",
        "colab": {
          "base_uri": "https://localhost:8080/",
          "height": 233
        }
      },
      "source": [
        "line_3"
      ],
      "execution_count": 0,
      "outputs": [
        {
          "output_type": "execute_result",
          "data": {
            "text/plain": [
              "0          물빡으로 물먹으민 시염 안돋나. \n",
              "1       물애기 옷을 막개로 뽈민 애기놀랜다. \n",
              "2           밤에 얼래기질 호민 모솜탄다. \n",
              "3             비는 놈안틴 지여사 혼다. \n",
              "4     비 온날 쇠총지 이레 착 저레 착 혼다. \n",
              "               ...           \n",
              "89           대천 바당도 건너 봐사 안다.\n",
              "90               대정 몽생이 요망진다.\n",
              "91                덴디 꺼럭 아니 돗나\n",
              "92             도 터질 밭디 모쉬 들듯.\n",
              "93     도둑놈광 샛뭇은 묶엉 세와노민 똑 닮나.\n",
              "Name: jeju, Length: 94, dtype: object"
            ]
          },
          "metadata": {
            "tags": []
          },
          "execution_count": 36
        }
      ]
    },
    {
      "cell_type": "code",
      "metadata": {
        "id": "MNdgoe1uUWaI",
        "colab_type": "code",
        "colab": {}
      },
      "source": [
        "dataset= pd.concat([line_1, line_3], ignore_index=True)"
      ],
      "execution_count": 0,
      "outputs": []
    },
    {
      "cell_type": "code",
      "metadata": {
        "id": "ipGpp2DZUWct",
        "colab_type": "code",
        "outputId": "896e5511-1d9b-4d76-f85c-81209c904cb0",
        "colab": {
          "base_uri": "https://localhost:8080/",
          "height": 233
        }
      },
      "source": [
        "dataset"
      ],
      "execution_count": 0,
      "outputs": [
        {
          "output_type": "execute_result",
          "data": {
            "text/plain": [
              "0                        하르방 \n",
              "1                         할망 \n",
              "2                         아방 \n",
              "3                         어멍 \n",
              "4                        비바리 \n",
              "                ...          \n",
              "555          대천 바당도 건너 봐사 안다.\n",
              "556              대정 몽생이 요망진다.\n",
              "557               덴디 꺼럭 아니 돗나\n",
              "558            도 터질 밭디 모쉬 들듯.\n",
              "559    도둑놈광 샛뭇은 묶엉 세와노민 똑 닮나.\n",
              "Name: jeju, Length: 560, dtype: object"
            ]
          },
          "metadata": {
            "tags": []
          },
          "execution_count": 11
        }
      ]
    },
    {
      "cell_type": "code",
      "metadata": {
        "id": "472I-HYhUWfX",
        "colab_type": "code",
        "outputId": "38b3d8d1-29bf-4dab-f561-4f0db5806db5",
        "colab": {
          "base_uri": "https://localhost:8080/",
          "height": 91
        }
      },
      "source": [
        "import pandas as pd\n",
        "lines3= pd.read_csv('/content/표준어_제주어.txt',sep='\\:',encoding='utf-8',names=['jeju','real']) # ,names=['제주어','표준어']\n",
        "len(lines3)"
      ],
      "execution_count": 0,
      "outputs": [
        {
          "output_type": "stream",
          "text": [
            "/usr/local/lib/python3.6/dist-packages/ipykernel_launcher.py:2: ParserWarning: Falling back to the 'python' engine because the 'c' engine does not support regex separators (separators > 1 char and different from '\\s+' are interpreted as regex); you can avoid this warning by specifying engine='python'.\n",
            "  \n"
          ],
          "name": "stderr"
        },
        {
          "output_type": "execute_result",
          "data": {
            "text/plain": [
              "100"
            ]
          },
          "metadata": {
            "tags": []
          },
          "execution_count": 38
        }
      ]
    },
    {
      "cell_type": "code",
      "metadata": {
        "id": "3CPBTK1_b0F_",
        "colab_type": "code",
        "outputId": "295cc365-7de4-4919-8afc-7cf987bd18e0",
        "colab": {
          "base_uri": "https://localhost:8080/",
          "height": 419
        }
      },
      "source": [
        "lines3"
      ],
      "execution_count": 0,
      "outputs": [
        {
          "output_type": "execute_result",
          "data": {
            "text/html": [
              "<div>\n",
              "<style scoped>\n",
              "    .dataframe tbody tr th:only-of-type {\n",
              "        vertical-align: middle;\n",
              "    }\n",
              "\n",
              "    .dataframe tbody tr th {\n",
              "        vertical-align: top;\n",
              "    }\n",
              "\n",
              "    .dataframe thead th {\n",
              "        text-align: right;\n",
              "    }\n",
              "</style>\n",
              "<table border=\"1\" class=\"dataframe\">\n",
              "  <thead>\n",
              "    <tr style=\"text-align: right;\">\n",
              "      <th></th>\n",
              "      <th>jeju</th>\n",
              "      <th>real</th>\n",
              "    </tr>\n",
              "  </thead>\n",
              "  <tbody>\n",
              "    <tr>\n",
              "      <th>0</th>\n",
              "      <td>고맙습니다</td>\n",
              "      <td>고맙쑤다</td>\n",
              "    </tr>\n",
              "    <tr>\n",
              "      <th>1</th>\n",
              "      <td>가십시오</td>\n",
              "      <td>갑써양</td>\n",
              "    </tr>\n",
              "    <tr>\n",
              "      <th>2</th>\n",
              "      <td>제가 당신을 무척 사랑합니다</td>\n",
              "      <td>나 이녁 소못 소랑헴수다</td>\n",
              "    </tr>\n",
              "    <tr>\n",
              "      <th>3</th>\n",
              "      <td>남편 옆에 같이 앉으세요</td>\n",
              "      <td>서방 조끝에 고치 앉즙써</td>\n",
              "    </tr>\n",
              "    <tr>\n",
              "      <th>4</th>\n",
              "      <td>사람 있습니까</td>\n",
              "      <td>사름 잇수과</td>\n",
              "    </tr>\n",
              "    <tr>\n",
              "      <th>...</th>\n",
              "      <td>...</td>\n",
              "      <td>...</td>\n",
              "    </tr>\n",
              "    <tr>\n",
              "      <th>95</th>\n",
              "      <td>몽캐지 말앙 혼저 오라게</td>\n",
              "      <td>꾸물대지 말고 어서 오너라</td>\n",
              "    </tr>\n",
              "    <tr>\n",
              "      <th>96</th>\n",
              "      <td>호꼼만 이십서게</td>\n",
              "      <td>조금만 계십시오</td>\n",
              "    </tr>\n",
              "    <tr>\n",
              "      <th>97</th>\n",
              "      <td>혼저 왕 먹읍서</td>\n",
              "      <td>어서 와서 먹으십시오</td>\n",
              "    </tr>\n",
              "    <tr>\n",
              "      <th>98</th>\n",
              "      <td>맨드롱 했수꽈?</td>\n",
              "      <td>따뜻합니까?</td>\n",
              "    </tr>\n",
              "    <tr>\n",
              "      <th>99</th>\n",
              "      <td>맨도롱 홀 때 호로록 들여 싸붑서</td>\n",
              "      <td>따뜻한 때 후루룩 마셔 버리십시오</td>\n",
              "    </tr>\n",
              "  </tbody>\n",
              "</table>\n",
              "<p>100 rows × 2 columns</p>\n",
              "</div>"
            ],
            "text/plain": [
              "                  jeju                real\n",
              "0                고맙습니다                고맙쑤다\n",
              "1                 가십시오                 갑써양\n",
              "2      제가 당신을 무척 사랑합니다       나 이녁 소못 소랑헴수다\n",
              "3        남편 옆에 같이 앉으세요       서방 조끝에 고치 앉즙써\n",
              "4              사람 있습니까              사름 잇수과\n",
              "..                 ...                 ...\n",
              "95       몽캐지 말앙 혼저 오라게      꾸물대지 말고 어서 오너라\n",
              "96            호꼼만 이십서게            조금만 계십시오\n",
              "97            혼저 왕 먹읍서         어서 와서 먹으십시오\n",
              "98            맨드롱 했수꽈?              따뜻합니까?\n",
              "99  맨도롱 홀 때 호로록 들여 싸붑서  따뜻한 때 후루룩 마셔 버리십시오\n",
              "\n",
              "[100 rows x 2 columns]"
            ]
          },
          "metadata": {
            "tags": []
          },
          "execution_count": 39
        }
      ]
    },
    {
      "cell_type": "code",
      "metadata": {
        "id": "n_aRdqjHXfmo",
        "colab_type": "code",
        "colab": {}
      },
      "source": [
        "line_5=lines3.jeju\n",
        "line_6=lines3.real"
      ],
      "execution_count": 0,
      "outputs": []
    },
    {
      "cell_type": "code",
      "metadata": {
        "id": "s7D1zVuaXmLO",
        "colab_type": "code",
        "outputId": "65a1a7f4-f62f-45dd-a8c3-99871bec6c0f",
        "colab": {
          "base_uri": "https://localhost:8080/",
          "height": 233
        }
      },
      "source": [
        "dataset= pd.concat([line_1, line_3, line_5], ignore_index=True)\n",
        "dataset"
      ],
      "execution_count": 0,
      "outputs": [
        {
          "output_type": "execute_result",
          "data": {
            "text/plain": [
              "0                    하르방 \n",
              "1                     할망 \n",
              "2                     아방 \n",
              "3                     어멍 \n",
              "4                    비바리 \n",
              "              ...        \n",
              "655         몽캐지 말앙 혼저 오라게\n",
              "656              호꼼만 이십서게\n",
              "657              혼저 왕 먹읍서\n",
              "658              맨드롱 했수꽈?\n",
              "659    맨도롱 홀 때 호로록 들여 싸붑서\n",
              "Name: jeju, Length: 660, dtype: object"
            ]
          },
          "metadata": {
            "tags": []
          },
          "execution_count": 41
        }
      ]
    },
    {
      "cell_type": "code",
      "metadata": {
        "id": "9_4TTCdfbj9d",
        "colab_type": "code",
        "outputId": "9e71f179-17d6-4ef2-81b7-7c1c67437bc2",
        "colab": {
          "base_uri": "https://localhost:8080/",
          "height": 35
        }
      },
      "source": [
        "import pandas as pd\n",
        "lines4= pd.read_csv('/content/생활방언_제주어_표준어_문장.txt', sep='\\t',encoding='utf-8',names=['jeju','real']) # ,names=['제주어','표준어']\n",
        "len(lines4)"
      ],
      "execution_count": 0,
      "outputs": [
        {
          "output_type": "execute_result",
          "data": {
            "text/plain": [
              "456"
            ]
          },
          "metadata": {
            "tags": []
          },
          "execution_count": 46
        }
      ]
    },
    {
      "cell_type": "code",
      "metadata": {
        "id": "CxlaBBFdcEuH",
        "colab_type": "code",
        "outputId": "c7451bb1-049c-4e15-f017-02965d7e2e6a",
        "colab": {
          "base_uri": "https://localhost:8080/",
          "height": 419
        }
      },
      "source": [
        "lines4"
      ],
      "execution_count": 0,
      "outputs": [
        {
          "output_type": "execute_result",
          "data": {
            "text/html": [
              "<div>\n",
              "<style scoped>\n",
              "    .dataframe tbody tr th:only-of-type {\n",
              "        vertical-align: middle;\n",
              "    }\n",
              "\n",
              "    .dataframe tbody tr th {\n",
              "        vertical-align: top;\n",
              "    }\n",
              "\n",
              "    .dataframe thead th {\n",
              "        text-align: right;\n",
              "    }\n",
              "</style>\n",
              "<table border=\"1\" class=\"dataframe\">\n",
              "  <thead>\n",
              "    <tr style=\"text-align: right;\">\n",
              "      <th></th>\n",
              "      <th>jeju</th>\n",
              "      <th>real</th>\n",
              "    </tr>\n",
              "  </thead>\n",
              "  <tbody>\n",
              "    <tr>\n",
              "      <th>0</th>\n",
              "      <td>혼저 옵서.</td>\n",
              "      <td>어서 오십시오.</td>\n",
              "    </tr>\n",
              "    <tr>\n",
              "      <th>1</th>\n",
              "      <td>제주도 사투리로 말 호난, 무신 거옌 고람 신디 몰르쿠게?</td>\n",
              "      <td>제주도 사투리로 말 하니까, 뭐라고 말하는 지 모르겠지요?</td>\n",
              "    </tr>\n",
              "    <tr>\n",
              "      <th>2</th>\n",
              "      <td>게메 마씀.</td>\n",
              "      <td>글쎄 말입니다.</td>\n",
              "    </tr>\n",
              "    <tr>\n",
              "      <th>3</th>\n",
              "      <td>귀 눈이 왁왁하우다.</td>\n",
              "      <td>귀와 눈이 캄캄합니다.</td>\n",
              "    </tr>\n",
              "    <tr>\n",
              "      <th>4</th>\n",
              "      <td>경해도 고만히 생각호멍 들으민 조금씩 알아집니다.</td>\n",
              "      <td>그래도 가만히 생각하며 들으면 조금씩 알게됩니다.</td>\n",
              "    </tr>\n",
              "    <tr>\n",
              "      <th>...</th>\n",
              "      <td>...</td>\n",
              "      <td>...</td>\n",
              "    </tr>\n",
              "    <tr>\n",
              "      <th>451</th>\n",
              "      <td>어떵 호민 조코 마씀? 멍는거나 고트민 맨도롱 혼 때 호로록 들여싸 불기나 혼다. ...</td>\n",
              "      <td>어떻게 하면 좋겠습니까요? 먹을 수 있는 것이라면 따뜻할 때 후루룩 마셔 버리기나 ...</td>\n",
              "    </tr>\n",
              "    <tr>\n",
              "      <th>452</th>\n",
              "      <td>영도 못하곡, 정도 못하곡, 비바리야, 촘말로 죽어 지키여! 소나이 타는 모심을 호...</td>\n",
              "      <td>이렇게도 못하고, 저렇게도 못하고, 처녀야! 참말로 죽겠다. 총각이 타는 마음을 조...</td>\n",
              "    </tr>\n",
              "    <tr>\n",
              "      <th>453</th>\n",
              "      <td>우리 제주도 하르방들이 호는 말이 있수다. 밭을 살 땐 에염을 보라. 집을 살 땐 ...</td>\n",
              "      <td>우리 제주도 할아버지들이 하시는 말씀이 있습니다. 밭을 살 때는 밭 옆을 보고 사라...</td>\n",
              "    </tr>\n",
              "    <tr>\n",
              "      <th>454</th>\n",
              "      <td>그리고 우리 어멍들이 고르친 말이 있수다. 홈생이 말라. 촐람생이질 말라. 간세 말...</td>\n",
              "      <td>그리고 우리 어머니들이 가르친 말씀이 있습니다. 어리광 부리지 말라. 경솔하게 나서...</td>\n",
              "    </tr>\n",
              "    <tr>\n",
              "      <th>455</th>\n",
              "      <td>경해사 호는 일들이 펜안해 진다. 살당 보민 잊어 불 때도 있수다만 우리 하르방, ...</td>\n",
              "      <td>그래야 하는 일들이 편안히 잘된다. 살다 보면 잊어버릴 대가 있습니다만 우리 할아버...</td>\n",
              "    </tr>\n",
              "  </tbody>\n",
              "</table>\n",
              "<p>456 rows × 2 columns</p>\n",
              "</div>"
            ],
            "text/plain": [
              "                                                  jeju                                               real\n",
              "0                                               혼저 옵서.                                           어서 오십시오.\n",
              "1                     제주도 사투리로 말 호난, 무신 거옌 고람 신디 몰르쿠게?                   제주도 사투리로 말 하니까, 뭐라고 말하는 지 모르겠지요?\n",
              "2                                               게메 마씀.                                           글쎄 말입니다.\n",
              "3                                          귀 눈이 왁왁하우다.                                       귀와 눈이 캄캄합니다.\n",
              "4                          경해도 고만히 생각호멍 들으민 조금씩 알아집니다.                        그래도 가만히 생각하며 들으면 조금씩 알게됩니다.\n",
              "..                                                 ...                                                ...\n",
              "451  어떵 호민 조코 마씀? 멍는거나 고트민 맨도롱 혼 때 호로록 들여싸 불기나 혼다. ...  어떻게 하면 좋겠습니까요? 먹을 수 있는 것이라면 따뜻할 때 후루룩 마셔 버리기나 ...\n",
              "452  영도 못하곡, 정도 못하곡, 비바리야, 촘말로 죽어 지키여! 소나이 타는 모심을 호...  이렇게도 못하고, 저렇게도 못하고, 처녀야! 참말로 죽겠다. 총각이 타는 마음을 조...\n",
              "453  우리 제주도 하르방들이 호는 말이 있수다. 밭을 살 땐 에염을 보라. 집을 살 땐 ...  우리 제주도 할아버지들이 하시는 말씀이 있습니다. 밭을 살 때는 밭 옆을 보고 사라...\n",
              "454  그리고 우리 어멍들이 고르친 말이 있수다. 홈생이 말라. 촐람생이질 말라. 간세 말...  그리고 우리 어머니들이 가르친 말씀이 있습니다. 어리광 부리지 말라. 경솔하게 나서...\n",
              "455  경해사 호는 일들이 펜안해 진다. 살당 보민 잊어 불 때도 있수다만 우리 하르방, ...  그래야 하는 일들이 편안히 잘된다. 살다 보면 잊어버릴 대가 있습니다만 우리 할아버...\n",
              "\n",
              "[456 rows x 2 columns]"
            ]
          },
          "metadata": {
            "tags": []
          },
          "execution_count": 47
        }
      ]
    },
    {
      "cell_type": "code",
      "metadata": {
        "id": "4Vu1tCN9bNr4",
        "colab_type": "code",
        "outputId": "a96a9b6b-d108-4889-9a2e-f1fa50d3e366",
        "colab": {
          "base_uri": "https://localhost:8080/",
          "height": 419
        }
      },
      "source": [
        "dataset= pd.concat([lines, lines2, lines3, lines4], ignore_index=True)\n",
        "dataset"
      ],
      "execution_count": 0,
      "outputs": [
        {
          "output_type": "execute_result",
          "data": {
            "text/html": [
              "<div>\n",
              "<style scoped>\n",
              "    .dataframe tbody tr th:only-of-type {\n",
              "        vertical-align: middle;\n",
              "    }\n",
              "\n",
              "    .dataframe tbody tr th {\n",
              "        vertical-align: top;\n",
              "    }\n",
              "\n",
              "    .dataframe thead th {\n",
              "        text-align: right;\n",
              "    }\n",
              "</style>\n",
              "<table border=\"1\" class=\"dataframe\">\n",
              "  <thead>\n",
              "    <tr style=\"text-align: right;\">\n",
              "      <th></th>\n",
              "      <th>jeju</th>\n",
              "      <th>real</th>\n",
              "    </tr>\n",
              "  </thead>\n",
              "  <tbody>\n",
              "    <tr>\n",
              "      <th>0</th>\n",
              "      <td>하르방</td>\n",
              "      <td>할아버지</td>\n",
              "    </tr>\n",
              "    <tr>\n",
              "      <th>1</th>\n",
              "      <td>할망</td>\n",
              "      <td>할머니</td>\n",
              "    </tr>\n",
              "    <tr>\n",
              "      <th>2</th>\n",
              "      <td>아방</td>\n",
              "      <td>아버지</td>\n",
              "    </tr>\n",
              "    <tr>\n",
              "      <th>3</th>\n",
              "      <td>어멍</td>\n",
              "      <td>어머니</td>\n",
              "    </tr>\n",
              "    <tr>\n",
              "      <th>4</th>\n",
              "      <td>비바리</td>\n",
              "      <td>처녀</td>\n",
              "    </tr>\n",
              "    <tr>\n",
              "      <th>...</th>\n",
              "      <td>...</td>\n",
              "      <td>...</td>\n",
              "    </tr>\n",
              "    <tr>\n",
              "      <th>1111</th>\n",
              "      <td>어떵 호민 조코 마씀? 멍는거나 고트민 맨도롱 혼 때 호로록 들여싸 불기나 혼다. ...</td>\n",
              "      <td>어떻게 하면 좋겠습니까요? 먹을 수 있는 것이라면 따뜻할 때 후루룩 마셔 버리기나 ...</td>\n",
              "    </tr>\n",
              "    <tr>\n",
              "      <th>1112</th>\n",
              "      <td>영도 못하곡, 정도 못하곡, 비바리야, 촘말로 죽어 지키여! 소나이 타는 모심을 호...</td>\n",
              "      <td>이렇게도 못하고, 저렇게도 못하고, 처녀야! 참말로 죽겠다. 총각이 타는 마음을 조...</td>\n",
              "    </tr>\n",
              "    <tr>\n",
              "      <th>1113</th>\n",
              "      <td>우리 제주도 하르방들이 호는 말이 있수다. 밭을 살 땐 에염을 보라. 집을 살 땐 ...</td>\n",
              "      <td>우리 제주도 할아버지들이 하시는 말씀이 있습니다. 밭을 살 때는 밭 옆을 보고 사라...</td>\n",
              "    </tr>\n",
              "    <tr>\n",
              "      <th>1114</th>\n",
              "      <td>그리고 우리 어멍들이 고르친 말이 있수다. 홈생이 말라. 촐람생이질 말라. 간세 말...</td>\n",
              "      <td>그리고 우리 어머니들이 가르친 말씀이 있습니다. 어리광 부리지 말라. 경솔하게 나서...</td>\n",
              "    </tr>\n",
              "    <tr>\n",
              "      <th>1115</th>\n",
              "      <td>경해사 호는 일들이 펜안해 진다. 살당 보민 잊어 불 때도 있수다만 우리 하르방, ...</td>\n",
              "      <td>그래야 하는 일들이 편안히 잘된다. 살다 보면 잊어버릴 대가 있습니다만 우리 할아버...</td>\n",
              "    </tr>\n",
              "  </tbody>\n",
              "</table>\n",
              "<p>1116 rows × 2 columns</p>\n",
              "</div>"
            ],
            "text/plain": [
              "                                                   jeju                                               real\n",
              "0                                                  하르방                                                할아버지\n",
              "1                                                   할망                                                 할머니\n",
              "2                                                   아방                                                 아버지\n",
              "3                                                   어멍                                                 어머니\n",
              "4                                                  비바리                                                  처녀\n",
              "...                                                 ...                                                ...\n",
              "1111  어떵 호민 조코 마씀? 멍는거나 고트민 맨도롱 혼 때 호로록 들여싸 불기나 혼다. ...  어떻게 하면 좋겠습니까요? 먹을 수 있는 것이라면 따뜻할 때 후루룩 마셔 버리기나 ...\n",
              "1112  영도 못하곡, 정도 못하곡, 비바리야, 촘말로 죽어 지키여! 소나이 타는 모심을 호...  이렇게도 못하고, 저렇게도 못하고, 처녀야! 참말로 죽겠다. 총각이 타는 마음을 조...\n",
              "1113  우리 제주도 하르방들이 호는 말이 있수다. 밭을 살 땐 에염을 보라. 집을 살 땐 ...  우리 제주도 할아버지들이 하시는 말씀이 있습니다. 밭을 살 때는 밭 옆을 보고 사라...\n",
              "1114  그리고 우리 어멍들이 고르친 말이 있수다. 홈생이 말라. 촐람생이질 말라. 간세 말...  그리고 우리 어머니들이 가르친 말씀이 있습니다. 어리광 부리지 말라. 경솔하게 나서...\n",
              "1115  경해사 호는 일들이 펜안해 진다. 살당 보민 잊어 불 때도 있수다만 우리 하르방, ...  그래야 하는 일들이 편안히 잘된다. 살다 보면 잊어버릴 대가 있습니다만 우리 할아버...\n",
              "\n",
              "[1116 rows x 2 columns]"
            ]
          },
          "metadata": {
            "tags": []
          },
          "execution_count": 48
        }
      ]
    },
    {
      "cell_type": "code",
      "metadata": {
        "id": "VYCDfFYcawYV",
        "colab_type": "code",
        "colab": {}
      },
      "source": [
        "dataset.to_csv('dataset.txt', sep='\\t',encoding='utf-8',header=False,index=False)"
      ],
      "execution_count": 0,
      "outputs": []
    },
    {
      "cell_type": "code",
      "metadata": {
        "id": "Vf5NZF28QUbR",
        "colab_type": "code",
        "outputId": "33905ecb-0498-4b62-dff0-6139b1a5e1e9",
        "colab": {
          "base_uri": "https://localhost:8080/",
          "height": 35
        }
      },
      "source": [
        "import pandas as pd\n",
        "lines1= pd.read_csv('생활방언 표준어.txt', sep='\\t',encoding='utf-8',names=['표준어']) # ,names=['제주어','표준어']\n",
        "len(lines1)"
      ],
      "execution_count": 0,
      "outputs": [
        {
          "output_type": "execute_result",
          "data": {
            "text/plain": [
              "100"
            ]
          },
          "metadata": {
            "tags": []
          },
          "execution_count": 17
        }
      ]
    },
    {
      "cell_type": "code",
      "metadata": {
        "id": "ZJVzox08MDd-",
        "colab_type": "code",
        "outputId": "afac2dfc-afd9-4e3c-d4fb-021f71e6c49b",
        "colab": {
          "base_uri": "https://localhost:8080/",
          "height": 419
        }
      },
      "source": [
        "lines1"
      ],
      "execution_count": 0,
      "outputs": [
        {
          "output_type": "execute_result",
          "data": {
            "text/html": [
              "<div>\n",
              "<style scoped>\n",
              "    .dataframe tbody tr th:only-of-type {\n",
              "        vertical-align: middle;\n",
              "    }\n",
              "\n",
              "    .dataframe tbody tr th {\n",
              "        vertical-align: top;\n",
              "    }\n",
              "\n",
              "    .dataframe thead th {\n",
              "        text-align: right;\n",
              "    }\n",
              "</style>\n",
              "<table border=\"1\" class=\"dataframe\">\n",
              "  <thead>\n",
              "    <tr style=\"text-align: right;\">\n",
              "      <th></th>\n",
              "      <th>표준어</th>\n",
              "    </tr>\n",
              "  </thead>\n",
              "  <tbody>\n",
              "    <tr>\n",
              "      <th>0</th>\n",
              "      <td>어서 오십시오. 제주도 사투리로 말 하니까, 뭐라고 말하는 지 모르겠지요? 글쎄 말...</td>\n",
              "    </tr>\n",
              "    <tr>\n",
              "      <th>1</th>\n",
              "      <td>편안(안녕)하십니까? 제주도에 오니 어떠하십니까? 정말로 좋습니다. 공기도 맑고, ...</td>\n",
              "    </tr>\n",
              "    <tr>\n",
              "      <th>2</th>\n",
              "      <td>저기, 물허벅(바구니) 지고 가는 거, 처녀들 아닙니까? 맞습니다. 처녀도 있고, ...</td>\n",
              "    </tr>\n",
              "    <tr>\n",
              "      <th>3</th>\n",
              "      <td>말로 해서는 모릅니다. 제주도에 와서 보아야 알 수 있습니다. 돌도 많고, 바람도 ...</td>\n",
              "    </tr>\n",
              "    <tr>\n",
              "      <th>4</th>\n",
              "      <td>제주도에는 바람이 많이 있습니다. 동쪽에서 부는 바람, 샛바람. 서쪽에서 부는 바람...</td>\n",
              "    </tr>\n",
              "    <tr>\n",
              "      <th>...</th>\n",
              "      <td>...</td>\n",
              "    </tr>\n",
              "    <tr>\n",
              "      <th>95</th>\n",
              "      <td>어서 오십시오 어서 오너라 잠깐 있으십시오 잠깐 있어라 무엇을 하십니까? 무엇을 하...</td>\n",
              "    </tr>\n",
              "    <tr>\n",
              "      <th>96</th>\n",
              "      <td>색시 구할 때는 마음을 봐라. 얼굴 고운 것은 한 달이여! 날씬하고 멋진 것은 일 ...</td>\n",
              "    </tr>\n",
              "    <tr>\n",
              "      <th>97</th>\n",
              "      <td>어느 마을에 갑돌이라고 하는 사나이(총각) 와 갑순이라고 하는 처녀가 살았습니다. ...</td>\n",
              "    </tr>\n",
              "    <tr>\n",
              "      <th>98</th>\n",
              "      <td>물동이 지고 가는 저 처녀야! 물만 지고 가지 말고 이 총각의 마음도 지고 가다오 ...</td>\n",
              "    </tr>\n",
              "    <tr>\n",
              "      <th>99</th>\n",
              "      <td>우리 제주도 할아버지들이 하시는 말씀이 있습니다. 밭을 살 때는 밭 옆을 보고 사라...</td>\n",
              "    </tr>\n",
              "  </tbody>\n",
              "</table>\n",
              "<p>100 rows × 1 columns</p>\n",
              "</div>"
            ],
            "text/plain": [
              "                                                  표준어\n",
              "0   어서 오십시오. 제주도 사투리로 말 하니까, 뭐라고 말하는 지 모르겠지요? 글쎄 말...\n",
              "1   편안(안녕)하십니까? 제주도에 오니 어떠하십니까? 정말로 좋습니다. 공기도 맑고, ...\n",
              "2   저기, 물허벅(바구니) 지고 가는 거, 처녀들 아닙니까? 맞습니다. 처녀도 있고, ...\n",
              "3   말로 해서는 모릅니다. 제주도에 와서 보아야 알 수 있습니다. 돌도 많고, 바람도 ...\n",
              "4   제주도에는 바람이 많이 있습니다. 동쪽에서 부는 바람, 샛바람. 서쪽에서 부는 바람...\n",
              "..                                                ...\n",
              "95  어서 오십시오 어서 오너라 잠깐 있으십시오 잠깐 있어라 무엇을 하십니까? 무엇을 하...\n",
              "96  색시 구할 때는 마음을 봐라. 얼굴 고운 것은 한 달이여! 날씬하고 멋진 것은 일 ...\n",
              "97  어느 마을에 갑돌이라고 하는 사나이(총각) 와 갑순이라고 하는 처녀가 살았습니다. ...\n",
              "98  물동이 지고 가는 저 처녀야! 물만 지고 가지 말고 이 총각의 마음도 지고 가다오 ...\n",
              "99  우리 제주도 할아버지들이 하시는 말씀이 있습니다. 밭을 살 때는 밭 옆을 보고 사라...\n",
              "\n",
              "[100 rows x 1 columns]"
            ]
          },
          "metadata": {
            "tags": []
          },
          "execution_count": 18
        }
      ]
    },
    {
      "cell_type": "code",
      "metadata": {
        "id": "hNX0Ou4fMDeC",
        "colab_type": "code",
        "outputId": "aef9f034-708d-4859-d4e7-cfd7814b582f",
        "colab": {
          "base_uri": "https://localhost:8080/",
          "height": 35
        }
      },
      "source": [
        "import pandas as pd\n",
        "lines2= pd.read_csv('생활방언 제주어.txt', sep='\\t',encoding='utf-8',names=['표준어']) # ,names=['제주어','표준어']\n",
        "len(lines2)"
      ],
      "execution_count": 0,
      "outputs": [
        {
          "output_type": "execute_result",
          "data": {
            "text/plain": [
              "88"
            ]
          },
          "metadata": {
            "tags": []
          },
          "execution_count": 19
        }
      ]
    },
    {
      "cell_type": "code",
      "metadata": {
        "id": "muck1mhNMDeG",
        "colab_type": "code",
        "outputId": "a009b795-6bc1-429e-c491-3c2fc851895a",
        "colab": {
          "base_uri": "https://localhost:8080/",
          "height": 419
        }
      },
      "source": [
        "lines2"
      ],
      "execution_count": 0,
      "outputs": [
        {
          "output_type": "execute_result",
          "data": {
            "text/html": [
              "<div>\n",
              "<style scoped>\n",
              "    .dataframe tbody tr th:only-of-type {\n",
              "        vertical-align: middle;\n",
              "    }\n",
              "\n",
              "    .dataframe tbody tr th {\n",
              "        vertical-align: top;\n",
              "    }\n",
              "\n",
              "    .dataframe thead th {\n",
              "        text-align: right;\n",
              "    }\n",
              "</style>\n",
              "<table border=\"1\" class=\"dataframe\">\n",
              "  <thead>\n",
              "    <tr style=\"text-align: right;\">\n",
              "      <th></th>\n",
              "      <th>표준어</th>\n",
              "    </tr>\n",
              "  </thead>\n",
              "  <tbody>\n",
              "    <tr>\n",
              "      <th>0</th>\n",
              "      <td>혼저 옵서. 제주도 사투리로 말 호난, 무신 거옌 고람 신디 몰르쿠게? 게메 마씀,...</td>\n",
              "    </tr>\n",
              "    <tr>\n",
              "      <th>1</th>\n",
              "      <td>펜안 하우꽈? 제주도에 오난 어떵 하우꽈? 촘말로 좋수다. 공기도 맑고, 산이영 바...</td>\n",
              "    </tr>\n",
              "    <tr>\n",
              "      <th>2</th>\n",
              "      <td>저기, 물허벅 정 가는 거, 비바리덜 아니꽈? 맞수다. 비바리도 있고, 넹바리도 있...</td>\n",
              "    </tr>\n",
              "    <tr>\n",
              "      <th>3</th>\n",
              "      <td>고랑은 몰라 마씀. 제주도에 왕 봐사 알아짐니다. 돌도 많고, 보롬도 많고, 비바리...</td>\n",
              "    </tr>\n",
              "    <tr>\n",
              "      <th>4</th>\n",
              "      <td>제주도엔 보름이 많이 있수다. 동쪽에서 부는 보름, 샛보름. 서쪽에서 부는 보름, ...</td>\n",
              "    </tr>\n",
              "    <tr>\n",
              "      <th>...</th>\n",
              "      <td>...</td>\n",
              "    </tr>\n",
              "    <tr>\n",
              "      <th>83</th>\n",
              "      <td>혼저 옵서게 혼저 오라게 고만 십서게 고만 시라게 무신 거 햄쑤과? 무신 거 햄시니...</td>\n",
              "    </tr>\n",
              "    <tr>\n",
              "      <th>84</th>\n",
              "      <td>새각씨 구홀 때랑 모심을 보라. 얼굴 곱들락 혼 것은 혼 덜이여! 놀씬호곡 멋진 것...</td>\n",
              "    </tr>\n",
              "    <tr>\n",
              "      <th>85</th>\n",
              "      <td>어느 모실에 갑돌이옌 호는 소나이와, 갑순이옌 호는 비바리가 살았수게. 둘이는 좋아...</td>\n",
              "    </tr>\n",
              "    <tr>\n",
              "      <th>86</th>\n",
              "      <td>물 허벅 정 가는 저 비바리야! 물만 지지 말앙, 이 소나이 모심도 정 가도라. 소...</td>\n",
              "    </tr>\n",
              "    <tr>\n",
              "      <th>87</th>\n",
              "      <td>우리 제주도 하르방들이 호는 말이 있수다. 밭을 살 땐 에염을 보라. 집을 살 땐 ...</td>\n",
              "    </tr>\n",
              "  </tbody>\n",
              "</table>\n",
              "<p>88 rows × 1 columns</p>\n",
              "</div>"
            ],
            "text/plain": [
              "                                                  표준어\n",
              "0   혼저 옵서. 제주도 사투리로 말 호난, 무신 거옌 고람 신디 몰르쿠게? 게메 마씀,...\n",
              "1   펜안 하우꽈? 제주도에 오난 어떵 하우꽈? 촘말로 좋수다. 공기도 맑고, 산이영 바...\n",
              "2   저기, 물허벅 정 가는 거, 비바리덜 아니꽈? 맞수다. 비바리도 있고, 넹바리도 있...\n",
              "3   고랑은 몰라 마씀. 제주도에 왕 봐사 알아짐니다. 돌도 많고, 보롬도 많고, 비바리...\n",
              "4   제주도엔 보름이 많이 있수다. 동쪽에서 부는 보름, 샛보름. 서쪽에서 부는 보름, ...\n",
              "..                                                ...\n",
              "83  혼저 옵서게 혼저 오라게 고만 십서게 고만 시라게 무신 거 햄쑤과? 무신 거 햄시니...\n",
              "84  새각씨 구홀 때랑 모심을 보라. 얼굴 곱들락 혼 것은 혼 덜이여! 놀씬호곡 멋진 것...\n",
              "85  어느 모실에 갑돌이옌 호는 소나이와, 갑순이옌 호는 비바리가 살았수게. 둘이는 좋아...\n",
              "86  물 허벅 정 가는 저 비바리야! 물만 지지 말앙, 이 소나이 모심도 정 가도라. 소...\n",
              "87  우리 제주도 하르방들이 호는 말이 있수다. 밭을 살 땐 에염을 보라. 집을 살 땐 ...\n",
              "\n",
              "[88 rows x 1 columns]"
            ]
          },
          "metadata": {
            "tags": []
          },
          "execution_count": 20
        }
      ]
    },
    {
      "cell_type": "code",
      "metadata": {
        "id": "n_pRl12oMDeI",
        "colab_type": "code",
        "outputId": "9ee684d0-b62b-4d57-8616-10992fdfd66c",
        "colab": {
          "base_uri": "https://localhost:8080/",
          "height": 419
        }
      },
      "source": [
        "hap = pd.concat([lines,lines2],axis=1)\n",
        "hap"
      ],
      "execution_count": 0,
      "outputs": [
        {
          "output_type": "execute_result",
          "data": {
            "text/html": [
              "<div>\n",
              "<style scoped>\n",
              "    .dataframe tbody tr th:only-of-type {\n",
              "        vertical-align: middle;\n",
              "    }\n",
              "\n",
              "    .dataframe tbody tr th {\n",
              "        vertical-align: top;\n",
              "    }\n",
              "\n",
              "    .dataframe thead th {\n",
              "        text-align: right;\n",
              "    }\n",
              "</style>\n",
              "<table border=\"1\" class=\"dataframe\">\n",
              "  <thead>\n",
              "    <tr style=\"text-align: right;\">\n",
              "      <th></th>\n",
              "      <th>제주어</th>\n",
              "      <th>표준어</th>\n",
              "    </tr>\n",
              "  </thead>\n",
              "  <tbody>\n",
              "    <tr>\n",
              "      <th>0</th>\n",
              "      <td>고찌 글라 고찌 가게</td>\n",
              "      <td>같이 가요 함께 해요</td>\n",
              "    </tr>\n",
              "    <tr>\n",
              "      <th>1</th>\n",
              "      <td>느영 고찌 글민 지꺼짐이 열배여</td>\n",
              "      <td>너와 함께 하면 즐거움이 열배야</td>\n",
              "    </tr>\n",
              "    <tr>\n",
              "      <th>2</th>\n",
              "      <td>고찌 글라 고찌 가게</td>\n",
              "      <td>같이 가요 함께 해요</td>\n",
              "    </tr>\n",
              "    <tr>\n",
              "      <th>3</th>\n",
              "      <td>느영 고찌 글민 지꺼짐이 백배여</td>\n",
              "      <td>너와 함께 하면 즐거움이 백배야</td>\n",
              "    </tr>\n",
              "    <tr>\n",
              "      <th>4</th>\n",
              "      <td>영도 곱닥헌 날 공기 좋고 사람 좋고</td>\n",
              "      <td>이렇게 예쁜 날 공기 좋고 사람 좋고</td>\n",
              "    </tr>\n",
              "    <tr>\n",
              "      <th>...</th>\n",
              "      <td>...</td>\n",
              "      <td>...</td>\n",
              "    </tr>\n",
              "    <tr>\n",
              "      <th>149</th>\n",
              "      <td>성게도 지깍 구젱기영 전복이영</td>\n",
              "      <td>아고 이건 뭐지 문어도 잡아 왔네요</td>\n",
              "    </tr>\n",
              "    <tr>\n",
              "      <th>150</th>\n",
              "      <td>아고 이건 뭐라 물꾸럭도 잡앙 와신게</td>\n",
              "      <td>아고 삼촌 문어 한마리 얼마죠?</td>\n",
              "    </tr>\n",
              "    <tr>\n",
              "      <th>151</th>\n",
              "      <td>아고 삼촌 물꾸럭 나 얼마마씸?</td>\n",
              "      <td>아고 조카야 너는 그냥 가져가라</td>\n",
              "    </tr>\n",
              "    <tr>\n",
              "      <th>152</th>\n",
              "      <td>아고 조케야 느랑 기냥 거정가불라</td>\n",
              "      <td>에고 무슨 말씀을 그럼 저녁에 당근파다 드릴게요</td>\n",
              "    </tr>\n",
              "    <tr>\n",
              "      <th>153</th>\n",
              "      <td>에고 무신 소리꽈 게민 조냑에랑 당근파당 거정안내주마씀</td>\n",
              "      <td>NaN</td>\n",
              "    </tr>\n",
              "  </tbody>\n",
              "</table>\n",
              "<p>154 rows × 2 columns</p>\n",
              "</div>"
            ],
            "text/plain": [
              "                                제주어                         표준어\n",
              "0                      고찌 글라 고찌 가게                  같이 가요 함께 해요\n",
              "1                 느영 고찌 글민 지꺼짐이 열배여           너와 함께 하면 즐거움이 열배야\n",
              "2                      고찌 글라 고찌 가게                  같이 가요 함께 해요\n",
              "3                 느영 고찌 글민 지꺼짐이 백배여           너와 함께 하면 즐거움이 백배야\n",
              "4              영도 곱닥헌 날 공기 좋고 사람 좋고        이렇게 예쁜 날 공기 좋고 사람 좋고\n",
              "..                              ...                         ...\n",
              "149                성게도 지깍 구젱기영 전복이영         아고 이건 뭐지 문어도 잡아 왔네요\n",
              "150            아고 이건 뭐라 물꾸럭도 잡앙 와신게           아고 삼촌 문어 한마리 얼마죠?\n",
              "151               아고 삼촌 물꾸럭 나 얼마마씸?           아고 조카야 너는 그냥 가져가라\n",
              "152              아고 조케야 느랑 기냥 거정가불라  에고 무슨 말씀을 그럼 저녁에 당근파다 드릴게요\n",
              "153  에고 무신 소리꽈 게민 조냑에랑 당근파당 거정안내주마씀                         NaN\n",
              "\n",
              "[154 rows x 2 columns]"
            ]
          },
          "metadata": {
            "tags": []
          },
          "execution_count": 9
        }
      ]
    },
    {
      "cell_type": "code",
      "metadata": {
        "id": "zkV5Bd_6MDeM",
        "colab_type": "code",
        "colab": {}
      },
      "source": [
        "hap.to_csv('jeju1.txt',sep='\\t',encoding='utf-8',header=False,index=False)"
      ],
      "execution_count": 0,
      "outputs": []
    },
    {
      "cell_type": "code",
      "metadata": {
        "id": "Wgkh6u5fpgDf",
        "colab_type": "code",
        "colab": {}
      },
      "source": [
        ""
      ],
      "execution_count": 0,
      "outputs": []
    },
    {
      "cell_type": "code",
      "metadata": {
        "id": "nIxR08ZipgGB",
        "colab_type": "code",
        "colab": {}
      },
      "source": [
        "# KoNLPy 한국어 처리 패키지"
      ],
      "execution_count": 0,
      "outputs": []
    },
    {
      "cell_type": "code",
      "metadata": {
        "id": "2hCvvbpvpgIs",
        "colab_type": "code",
        "colab": {
          "base_uri": "https://localhost:8080/",
          "height": 613
        },
        "outputId": "68d47595-d4ac-4afc-800e-34a2e2cc8920"
      },
      "source": [
        "pip install konlpy"
      ],
      "execution_count": 3,
      "outputs": [
        {
          "output_type": "stream",
          "text": [
            "Collecting konlpy\n",
            "\u001b[?25l  Downloading https://files.pythonhosted.org/packages/85/0e/f385566fec837c0b83f216b2da65db9997b35dd675e107752005b7d392b1/konlpy-0.5.2-py2.py3-none-any.whl (19.4MB)\n",
            "\u001b[K     |████████████████████████████████| 19.4MB 226kB/s \n",
            "\u001b[?25hCollecting tweepy>=3.7.0\n",
            "  Downloading https://files.pythonhosted.org/packages/36/1b/2bd38043d22ade352fc3d3902cf30ce0e2f4bf285be3b304a2782a767aec/tweepy-3.8.0-py2.py3-none-any.whl\n",
            "Requirement already satisfied: lxml>=4.1.0 in /usr/local/lib/python3.6/dist-packages (from konlpy) (4.2.6)\n",
            "Requirement already satisfied: numpy>=1.6 in /usr/local/lib/python3.6/dist-packages (from konlpy) (1.17.5)\n",
            "Collecting beautifulsoup4==4.6.0\n",
            "\u001b[?25l  Downloading https://files.pythonhosted.org/packages/9e/d4/10f46e5cfac773e22707237bfcd51bbffeaf0a576b0a847ec7ab15bd7ace/beautifulsoup4-4.6.0-py3-none-any.whl (86kB)\n",
            "\u001b[K     |████████████████████████████████| 92kB 10.7MB/s \n",
            "\u001b[?25hCollecting JPype1>=0.7.0\n",
            "\u001b[?25l  Downloading https://files.pythonhosted.org/packages/04/90/a94a55a58edfd67360fef85894bfb136a2c28b2cc7227d3a44dc508d5900/JPype1-0.7.1-cp36-cp36m-manylinux1_x86_64.whl (2.3MB)\n",
            "\u001b[K     |████████████████████████████████| 2.3MB 37.4MB/s \n",
            "\u001b[?25hCollecting colorama\n",
            "  Downloading https://files.pythonhosted.org/packages/c9/dc/45cdef1b4d119eb96316b3117e6d5708a08029992b2fee2c143c7a0a5cc5/colorama-0.4.3-py2.py3-none-any.whl\n",
            "Requirement already satisfied: PySocks>=1.5.7 in /usr/local/lib/python3.6/dist-packages (from tweepy>=3.7.0->konlpy) (1.7.1)\n",
            "Requirement already satisfied: requests>=2.11.1 in /usr/local/lib/python3.6/dist-packages (from tweepy>=3.7.0->konlpy) (2.21.0)\n",
            "Requirement already satisfied: requests-oauthlib>=0.7.0 in /usr/local/lib/python3.6/dist-packages (from tweepy>=3.7.0->konlpy) (1.3.0)\n",
            "Requirement already satisfied: six>=1.10.0 in /usr/local/lib/python3.6/dist-packages (from tweepy>=3.7.0->konlpy) (1.12.0)\n",
            "Requirement already satisfied: certifi>=2017.4.17 in /usr/local/lib/python3.6/dist-packages (from requests>=2.11.1->tweepy>=3.7.0->konlpy) (2019.11.28)\n",
            "Requirement already satisfied: idna<2.9,>=2.5 in /usr/local/lib/python3.6/dist-packages (from requests>=2.11.1->tweepy>=3.7.0->konlpy) (2.8)\n",
            "Requirement already satisfied: urllib3<1.25,>=1.21.1 in /usr/local/lib/python3.6/dist-packages (from requests>=2.11.1->tweepy>=3.7.0->konlpy) (1.24.3)\n",
            "Requirement already satisfied: chardet<3.1.0,>=3.0.2 in /usr/local/lib/python3.6/dist-packages (from requests>=2.11.1->tweepy>=3.7.0->konlpy) (3.0.4)\n",
            "Requirement already satisfied: oauthlib>=3.0.0 in /usr/local/lib/python3.6/dist-packages (from requests-oauthlib>=0.7.0->tweepy>=3.7.0->konlpy) (3.1.0)\n",
            "Installing collected packages: tweepy, beautifulsoup4, JPype1, colorama, konlpy\n",
            "  Found existing installation: tweepy 3.6.0\n",
            "    Uninstalling tweepy-3.6.0:\n",
            "      Successfully uninstalled tweepy-3.6.0\n",
            "  Found existing installation: beautifulsoup4 4.6.3\n",
            "    Uninstalling beautifulsoup4-4.6.3:\n",
            "      Successfully uninstalled beautifulsoup4-4.6.3\n",
            "Successfully installed JPype1-0.7.1 beautifulsoup4-4.6.0 colorama-0.4.3 konlpy-0.5.2 tweepy-3.8.0\n"
          ],
          "name": "stdout"
        }
      ]
    },
    {
      "cell_type": "code",
      "metadata": {
        "id": "tskw0OU3pgLo",
        "colab_type": "code",
        "colab": {
          "base_uri": "https://localhost:8080/",
          "height": 35
        },
        "outputId": "b1d2ac08-aff0-48e7-f108-7aaa8f0bf95c"
      },
      "source": [
        "import warnings\n",
        "warnings.simplefilter(\"ignore\")\n",
        "\n",
        "import konlpy\n",
        "konlpy.__version__ # 코엔엘파이 설치 완료"
      ],
      "execution_count": 4,
      "outputs": [
        {
          "output_type": "execute_result",
          "data": {
            "text/plain": [
              "'0.5.2'"
            ]
          },
          "metadata": {
            "tags": []
          },
          "execution_count": 4
        }
      ]
    },
    {
      "cell_type": "markdown",
      "metadata": {
        "id": "uOwnx0k1pgbt",
        "colab_type": "text"
      },
      "source": [
        "# 제주사투리 태깅하기\n",
        "\n",
        "konlpy.utils.concordance(찾을 단어, 전체문장, show=False) \n",
        "\n",
        "concordance 단어색인(해당 단어가 쓰인 부분(index) 찾음)\n",
        "\n",
        "show = True 인 경우 단어 색인과 함께 포함된 문장 반환\n",
        " \n",
        "konlpy.utils.pprint(obj) #유니코드 문자 출력\n",
        " \n",
        "konlpy.utils.read_json(filename, encoding=u'utf-8') # json 파일 읽음\n",
        "\n",
        "konlpy.utils.read_txt(filename, encoding=u'utf-8')  # txt 파일 읽음\n",
        "\n",
        "konlpy.utils.csvread(f, encoding=u'utf-8')          # csv 파일 읽음\n",
        "\n",
        "konlpy.utils.csvwrite(data, f)                      # csv파일로 쓰기 가능\n",
        "\n",
        "konlpy.utils.hex2char( h )                 #16진수 문자를 유니코드 문자로 변환\n",
        "\n"
      ]
    },
    {
      "cell_type": "code",
      "metadata": {
        "id": "YVEmIWylqGV2",
        "colab_type": "code",
        "colab": {
          "base_uri": "https://localhost:8080/",
          "height": 55
        },
        "outputId": "dfdb5579-3dd7-46e9-a3f3-853809ade47f"
      },
      "source": [
        "from konlpy import utils\n",
        "dataset = konlpy.utils.read_txt('/content/dataset.txt', encoding=u'utf-8')\n",
        "dataset # 사투리랑 표준어가 한셋트라 못씀"
      ],
      "execution_count": 6,
      "outputs": [
        {
          "output_type": "execute_result",
          "data": {
            "text/plain": [
              "\"버래기\\t넘치도록\\n강생이\\t강아지\\n부각허다\\t부글부글하다\\n강알\\t가랭이\\n부끄다\\t부풀어 오르다\\n개끔\\t거품\\n분시몰랑\\t정황도 모르고\\n개작개작\\t밥을 추하게 먹는 모습\\n삐암데기\\t뺨\\n검질\\t잡초\\n속슴허라\\t말하지말라\\n게미융허다\\t희미하다\\n솜쫄르멍\\t숨말힐듯한 상황 참으면서\\n게작헌\\t입이 큰 모양\\n쉰달이\\t쉰 밥으로만든 유산식품\\n고라불켜\\t고자질한다\\n심토맥이\\t마음 씀씀이\\n곡기다\\t숨막히다\\n영\\t이렇게\\n골다\\t잘게부수다\\n골다\\t말하다\\n왁왁허다\\t캄캄하다\\n곱지다\\t숨기다\\n요망지다\\t똑똑하다\\n과랑과랑\\t햇살이 눈부시게 비추는모습\\n우영밭\\t텃밭\\n괸당\\t친족\\n웃뜨리\\t산간마을\\n굽\\t밑바닥\\n재짝재짝\\t걷는 모습\\n기시리다\\t초벌로 불에 태우다\\n제라헌\\t제대로 된\\n꽝\\t뼈\\n조그물다\\t어떤 결심을 하기위한 다짐\\n눈물촐래\\t눈물의 반찬\\n주레사니\\t보리피리\\n니치름\\t침\\n촘아가라\\t어이없다\\n데껴불켜\\t던져버린다\\n칭원허다\\t원통하다\\n두렁청허다\\t얼떨떨하다\\n콥데사니\\t마늘\\n들러켬쩌\\t날뛰다\\n코시롱허다\\t향기가 좋다\\n듬삭하다\\t기름기가 넉넉하다\\n탈\\t딸기\\n멜라지켜\\t찌그러지다\\n통시\\t돼지우리가 있는 변소\\n메기독딱\\t아무것도 없음\\n트멍\\t틈새\\n모소완\\t무서워\\n하근디\\t이곳저곳\\n몬뜨글락\\t홀랑벗은모습\\n하다\\t많다\\n몬직당\\t만지다가\\n행글랑이\\t힘없이 쓰러진 모양\\n몬짝\\t전부\\n허당말타\\t하다가 안 할 것이냐\\n몰명허다\\t멍청하다\\n헌저글라\\t빨리가자\\n몽케다\\t늦장부리다\\n호썰\\t조금\\n무리다\\t맛이가다\\n호야\\t등\\n무사\\t왜?\\n흐랑허다\\t축 늘어지다\\n배롱허다\\t어둠속에 빛이 희미하다\\n허운데기\\t얼굴\\n배지금허다\\t고소하다\\n쪼광\\t모습\\n물옷\\t잠수복\\n센 바당\\t거칠고 노한 바다\\n앞바르\\t가까운 바다\\n난바르\\t먼 바다\\n산목 졸르면 비온다\\t한라산의 중턱에 띠같은 구름이 끼면 비가 온다\\n돌 갓쓰민 우친다\\t달무리지면 비가 온다\\n곰새기 들럭 켬져\\t돌고래가 날뛴다\\n토끼썼다\\t황사현상\\n큰눈\\t물안경\\n소살\\t작살\\n머정좋다\\t해산물을 많이 잡았다\\n제수가 좋다\\t해산물을 많이 잡았다\\n궐 면했다\\t겨우 한두개 잡았다\\n마당 바랏져\\t바다가 잔잔하다\\n큰누\\t산더미 같은 파도\\n작은누\\t작은 파도\\n절 치대긴다\\t물결이 친다\\n하르방 \\t 할아버지\\n할망 \\t 할머니\\n아방 \\t아버지\\n어멍 \\t 어머니\\n비바리 \\t 처녀\\n괸당 \\t 친척\\n걸바시 \\t 거지\\n넹바리 \\t 시집간색시\\n다슴아돌 \\t 의붓아들\\n말젯놈 \\t 세번째자식\\n소나이 \\t 사나이\\n성님 \\t 형님\\n작산 거 \\t 어른이된 사람\\n좀녀 \\t 해녀\\n촐람생이 \\t 경솔한사람\\n홀아방 \\t 홀아비 \\n가달 \\t 다리\\n꼴랑지 \\t 꼬리\\n구뚱배기 \\t 귀쪽뺨\\n꽝 \\t 뼈\\n굴레 \\t 입\\n대망생이 \\t 머리\\n등땡이 \\t 등어리\\n또꼬망 \\t 똥구멍\\n모감지 \\t 멱살\\n베 봉탱이 \\t 배 불뚝이\\n베아지 볼라불라\\t 배 밟아버린다\\n상판이 \\t 얼굴\\n야게기 \\t 목\\n야굴탁 \\t 턱\\n임댕이 \\t 이마\\n정겡이 \\t 종아리\\n저껭이 \\t 겨드랑이\\n조금태기 \\t간지롭게\\n좀짐팽이 \\t 종아리\\n허운데기 \\t머리카락\\n허벅다리 \\t 넓적다리\\n놋 \\t 얼굴\\n간수메 \\t 통조림\\n개역 \\t 미숫가루\\n것 \\t 동물먹이\\n괴기 \\t 고기\\n바당괴기 \\t 바닷고기\\n돗괴기 \\t 돼지고기\\n쇠괴기 \\t 쇠고기\\n도괴기 \\t 돼지고기\\n곤떡 \\t 쌀로만든하얀떡\\n곤밥 \\t 흰쌀밥\\n놈삐 \\t 무우\\n대사니김치 \\t 마늘장아찌\\n마농 \\t 마늘\\n마농 \\t 파 \\n조배기 \\t 메밀수제비\\n촐래 \\t 반찬\\n촘지금 \\t 참기름\\n짐치 \\t 김치\\n촙쏠 \\t 찹쌀\\n조팝 \\t 조밥\\n갈옷 \\t 감물들인옷\\n갈 적삼 \\t 감물들인 적삼\\n갈 중이 \\t 감물들인 고의\\n강알터진 바지 \\t 개구멍 바지\\n게와 \\t 호주머니\\n단취 \\t 단추\\n밀랑 페랭이 \\t 밀짚 모자\\n보선 \\t 버선\\n소중이 \\t 속옷\\n신착 \\t 신짝\\n찍신 \\t 짚신\\n좀뱅이 \\t 잠방이\\n등지게 \\t 감물들인베옷\\n고장중이 \\t 고쟁이\\n도폭 \\t 우두머니\\n두루막 \\t 두루마기\\n베불레기 \\t 아기옷\\n우장 \\t 비온날\\n저구리 \\t 저고리 \\n지성귀 \\t 기저귀\\n지서귀 \\t 기저귀\\n쪼께 \\t 조끼\\n치메 \\t 치마\\n건대 \\t 건대\\n사모관대 \\t 사모관대\\n시미옷 \\t 손자용상복\\n제복 \\t 상제옷\\n망근 \\t 망건\\n방립 \\t 상갓닮은거\\n벙것 \\t 벙거지\\n상갓 \\t 삿갓\\n탕근 \\t 탕건\\n풍뎅이 \\t 남자모자\\n휘양 \\t 여자모자\\n낭저 \\t 빈네꽂은머리\\n달리 \\t 땋은놈의머리\\n빈네 \\t 비녀\\n상퉁이 \\t 상투\\n얼레기 \\t 머리빗\\n얼레빗 \\t 머리빗\\n쪽도리 \\t 족두리\\n쳉빗 \\t 참빗\\n과지 \\t 무당입는옷\\n남신 \\t 나막신\\n송락 \\t 무당들 쓰는 모자\\n요령 \\t 방울\\n복치메 \\t 상복치마\\n구덕 \\t 바구니\\n고량착 \\t 대로만든채롱\\n낭푼이 \\t 양푼\\n그릇대배기 \\t 물긷는그릇\\n물구루마 \\t 마차\\n바농 \\t 바늘\\n박새기 \\t 바가지\\n숟구락 \\t 수저\\n제끄락 \\t 젓갈\\n주멩기 \\t 주머니\\n허벅 \\t 물을길어나르는통\\n남죽 \\t 큰밥주걱\\n대접 \\t 국사발\\n도고리 \\t 함지박\\n소리바굼지 \\t 도시락통\\n솔박 \\t 바가지\\n수박귀 \\t 밥사발\\n우금 \\t 작은밥자\\n작박 \\t 작은바가지\\n장탱이 \\t 설거지통\\n항 \\t 항아리\\n함박 \\t 나무로만든도고리\\n가레죽 \\t 삽\\n곡괭이 \\t 곡괭이\\n골갱이 \\t 호미\\n골각지 \\t 호미\\n군데 \\t 고무래\\n날레군데\\t 날레 젓는 거\\n가레 \\t 맷돌\\n갈체 \\t 상태기\\n돌끌 \\t 돌 발르는 끌\\n다께 \\t 도리깨\\n멕 \\t 멱서리\\n말방에 \\t 연자마\\n벤줄레 \\t 쐐괘\\n부게 \\t 씨앗그릇\\n쉐스렁 \\t 쉐거름낼때\\n씻부게 \\t 씨앗\\n잠데 \\t 쟁기\\n호미 \\t 낫\\n고냥 독생이 \\t 굴뚝새\\n놀개기 \\t 날개\\n박생이 \\t 동박새\\n독 \\t 닭\\n독새기 \\t 닭\\n고냉이 \\t 고양이\\n송애기 \\t 송아지\\n몽생이 \\t 망아지\\n돗 \\t 돼지\\n도새기 \\t 돼지\\n밭갈쇠 \\t 밭을 가는 소\\n부랭이 \\t 숫소\\n염송애기 \\t 염소\\n강생이 \\t 강아지\\n중이 \\t 쥐\\n갓돔 \\t 도미\\n겡이 \\t 게\\n구젱기 \\t 소라\\n물꾸럭 \\t 문어\\n게염지 \\t 개미\\n멩마구리 \\t 맹꽁이\\n베랭이 \\t 버러지\\n베염 \\t 뱀\\n빙애기 \\t 병아리\\n생이 \\t 새\\n나람쥐 \\t 다람쥐\\n죙이 \\t 쥐\\n여호 \\t 여우\\n노리 \\t 노루\\n빙아리 \\t 병아리\\n쉐 \\t 소\\n쉐막 \\t 외양간\\n도세기 \\t 돼지\\n두테비 \\t 두꺼비\\n골개비 \\t 개구리\\n젱비리 \\t 올챙이\\n송키 \\t 채소\\n지실 \\t 감자\\n감저 \\t 고구마\\n어욱 \\t 억새\\n태역 \\t 잔디\\n모물 \\t 메밀\\n굴묵낭 \\t 느티나무\\n가라지 \\t 강아지풀\\n꿩마농 \\t 달래\\n도채비고장 \\t 산수국\\n숙대낭 \\t 삼나무\\n퐁낭 \\t 팽나무\\n가베또롱호다 \\t 가뿐하다\\n간드랑호다 \\t 시원하다\\n간세호다 \\t 게으르다\\n거령청호다 \\t 분수가없다\\n곧작호다 \\t 곧다\\n과랑과랑호다 \\t 쨍쨍하다\\n금착호다 \\t 조마조마하다\\n고렵다 \\t 가렵다\\n돌코롬호다 \\t 달콤하다\\n메뜩호다 \\t 통쾌하다\\n멘도롱호다 \\t 따뜻하다\\n모드락호다 \\t 한곳에모여있다\\n몰치락호다 \\t 포동포동하다\\n벤조롱호다 \\t 젊게보이다\\n부치럽다 \\t 부끄럽다\\n돌글랑호다 \\t 동그랗다\\n봉끄랑호다 \\t 퉁퉁하다\\n보랑지다 \\t 부지런하다\\n펀드렁호다 \\t 시치미를뗀모양하다\\n해또록호다 \\t 희끔하다\\n산도록호다 \\t 시원하다\\n썸찌근호다 \\t 지긋지긋하다\\n실렵다 \\t 차겁다\\n심드랑호다 \\t 관심이없다\\n슴두렁펀펀호다 \\t 아무런가치없다\\n솔치다 \\t 살찌다\\n앙살호다 \\t 사납게소리치다\\n앨록호다 \\t 더럽다\\n어중구랑호다 \\t 흐리멍텅하다\\n얼랍지다 \\t 당황하다\\n얼랍지다 \\t 궁금하다\\n엄부랑호다 \\t 엄청나다\\n오들랑호다 \\t 작아서위로치켜뜬모양하다\\n옴탕호다 \\t 오목하다\\n왁왁호다 \\t 캄캄하다\\n왕왕작작호다 \\t 떠들썩하다\\n요망지다 \\t 똑똑하다\\n조짝호다 \\t 불쑥나타나있다\\n좀질다 \\t 가늘다\\n좀좀호다 \\t 잠잠하다\\n패랍다 \\t 까다롭다\\n그저끼 \\t 그저께\\n아척 \\t 아침\\n그지게초냑 \\t 그저께저녁\\n언처냑 \\t 엊저녁\\n요뉠모리 \\t 내일모레\\n소시 \\t 요사이\\n숭년 \\t 흉년\\n저슬들언 \\t 겨울 된\\n갈라지다 \\t 헤어지다\\n데싸지다 \\t 자빠지다\\n감장돌다 \\t 맴돌다\\n거느리왕상호다 \\t 남의일을비평하다\\n거들락거리다 \\t 꺼떡거리다\\n거찌다 \\t 건드리다\\n걸러지다 \\t 거꾸러지다\\n고른배기 \\t 호다박자\\n고쩌사다 \\t 비켜서다\\n곤작싸다 \\t 재주넘다\\n꼴성그리다 \\t 얼굴을찡그리다\\n곱지다 \\t 숨기다\\n구숭호다 \\t 불평을말하다\\n꾸러박아지다 \\t 거꾸로박히다\\n귀태우다 \\t 은밀히알려주다\\n고끼다 \\t 숨막히다\\n골메드리다 \\t 차례로바꾸다\\n늘짝거리다 \\t 늑장부리다\\n끼리다 \\t 미끄러지다\\n다울리다 \\t 재촉하다\\n댕기다 \\t 다니다\\n데껴불다 \\t 던져버리다\\n되싸지다 \\t 갈라지다\\n들럭퀴다 \\t 날 뛰다\\n몽캐다 \\t 느리다\\n몽캐다 \\t 꾸물거리다\\n베르싸다 \\t 속이보이게열다\\n부수닥질호다 \\t부수어버리다\\n부에나다 \\t 화나다\\n쎄울르다 \\t 고함지르다\\n소곤닥호다 \\t 소근거리다\\n소도리호다 \\t 소문내다\\n속솜호다 \\t 잠잠하다\\n심벡호다 \\t 겨루다\\n악살호다 \\t 욕설하다\\n용심내다 \\t 성내다\\n조글리다 \\t 간지럽히다\\n저들다 \\t 걱정하다\\n다솟 \\t 다섯\\n예늘곱 \\t 예닐곱\\n요든 \\t 여든\\n일고  \\t 일곱 \\n여답 \\t여덟\\n요나문 \\t 여나믄\\n요섯 \\t 여섯\\n호나 \\t 하나\\n혼잠녀 \\t 해녀\\n상군 \\t 물질잘하는사람\\n요년난거 \\t 어린처녀욕\\n볼망텡이 \\t 밤따귀\\n미리내 \\t 은하수\\n비주제 \\t 소나기\\n상고지 \\t 무지개\\n우네 \\t 안개\\n노릇 \\t 공기\\n낭강알 \\t 나무그늘\\n돌 \\t 달\\n밸 \\t 별\\n돌생기 \\t 돌맹이\\n작지왓 \\t 자갈밭\\n구들 \\t 방\\n통시 \\t 화장실\\n벤소 \\t 화장실\\n석 \\t 줄\\n밭돌랭이 \\t 작은밭\\n돌 \\t 한 달\\n데맹이\\t머리\\n우뚝지\\t어깨\\n동무릅\\t무릎\\n발꼽데기\\t발\\n고찌 글라 고찌 가게 \\t같이 가요 함께 해요\\n느영 고찌 글민 지꺼짐이 열배여\\t너와 함께 하면 즐거움이 열배야\\n고찌 글라 고찌 가게 \\t같이 가요 함께 해요\\n느영 고찌 글민 지꺼짐이 백배여\\t너와 함께 하면 즐거움이 백배야\\n영도 곱닥헌 날 공기 좋고 사람 좋고\\t이렇게 예쁜 날 공기 좋고 사람 좋고\\n느영 나영 고찌 글민 무신 걱정시냐 \\t너와 함께 하니 무슨 걱정 있으랴\\n하영 골민 존다니\\t많이 말하면 잔소리야\\n먹당 보난 살아 지곡 살당 보난 먹어 져라\\t먹다 보니 살게 되고 살다 보니 먹게 되지\\n굶엉 보난 알아 져라 배고픔도 인생인 걸\\t굶어 보면 알게 되지 배고픔도 인생인 걸\\n어시민 어신양 그저 겅 살곡\\t없으면 없는대로 그저 그렇게 살고\\n이시민 이신양 나누멍 살주\\t있으면 있는대로 나누면서 살지\\n먹엄직이 살암직이 시상\\t먹어볼만한 살아볼만한 세상\\n우시멍 사는 시상이 사름 사는 시상이주\\t웃으며 사는 세상이 사람 사는 세상이지\\n울당 보난 살아 져라 \\t울다 보니 살게 되었지\\n웃당 보난 살아 져라\\t웃다 보니 살게 되었지\\n우는 삶도 웃는 삶도 고마운 인생이주\\t우는 삶도 웃는 삶도 고마운 인생이지\\n어시민 어신양 그저 겅 살곡\\t없으면 없는대로 그저 그렇게 살고\\n이시민 이신양 나누멍 살주\\t있으면 있는대로 나누면서 살지\\n먹엄직이 살암직이 시상\\t먹어 볼만한 살아 볼만한 세상\\n우시멍 사는 시상이 사름 사는 시상이주\\t웃으며 사는 세상이 사람 사는 세상이지\\n무명천 할머니 어디 감수과\\t무명천 할머니 어디 가십니까\\n무명천 할머니 펜안 허우꽈\\t무명천 할머니 편안 하십니까\\n4. 3 소건때 총 맞앙 턱을 잃엉 경 살았주\\t4. 3 사건때 총 맞아서 턱을 잃었네 그렇게 살았네\\n55년 간 말도 못허곡 음식도 못 먹으멍\\t55년 간 말도 못하고 음식도 못 먹으면서 \\n상처 난 얼굴 보일 수 어성 무명천을 둘렁\\t상처 난 얼굴 보일 수 없어 무명천을 둘렀네\\n목심은 건졌주만 살아도 산게 아니랐주\\t목숨은 건졌지만 살아도 산게 아니었네 \\n무명천 할망 이랜 날 불렀주만 \\t무명천 할머니 라고 날 불렀지만\\n나신디도 이름이 이서났주 \\t내게도 이름이 있었네\\n진아영 이우다\\t진아영 입니다\\n놈삐 좀질게 썰엉 솖앙\\t무채 썰어 끓는물에 데쳐\\n패마농이영 꿰고루 놩 섞엉\\t파와 깨가루 넣어 섞어서\\n모멀고루 풀엉 얄룹게 지졍\\t메밀가루 반죽하여 얇게 지져\\n그 우터레 놩 몰민\\t그 위에 놓고 말면\\n빙떡 이주게\\t빙떡 이지\\n두렁청이 어드레 가젠 햄시냐 \\t앞뒤분간못하고 어디로 가려고 하니\\n곱들락호게 촐려입어그네 이드레 와그네\\t예쁘게 차려입고 이쪽으로 와서는\\n느영나영 모다들어그네 터졍 도르게\\t너와내가 한데모여서 힘껏 달리자\\n빙삭허게 몬딱 베리난 보뎌감시녜\\t수줍게웃으며 모두 쳐다보니 정다워지네\\n도르라 조들지 마랑 도르라 몬딱 도르라\\t달려라 걱정하지 말고 달려라 모두 달려라\\n도드라 조들지 마랑 도르라 몬딱 도르라\\t달려라 걱정하지 말고 달려라 모두 달려라\\n용심 내멍 도톼 보난 알아졈시냐\\t화를 내며 다퉈 보니까 알겠니?\\n느영나영 심벡 해봐사 페들락 햄시녜\\t너와내가 경쟁해 봐야 감정상하기만할 뿐이네\\n돈 한 추룩 뺄라진 추룩 오시록 헌 추룩\\t돈이 많은 척 잘난 척 점 잖은 척\\n경 해 봐사 핏짝 허난 얼렁 뎅기게\\t그렇게 해 봐야 삐칠 뿐이니 달어 돌아다니자\\n도르라 조들지 마랑 도르라 몬딱 도르라\\t달려라 걱정하지 말고 달려라 모두 달려라\\n도드라 조들지 마랑 도르라 몬딱 도르라\\t달려라 걱정하지 말고 달려라 모두  달려라\\n아야 머리여 아야 머리여\\t아야 머리야 아야 머리야\\n입담허멍 두드렴시민\\t입담하며 두들기노라면\\n수꾸락 조루 거수루 심엉\\t숟가락 자루 거꾸로 잡고\\n차반이 바위 두드렴시민\\t채롱 옆을 두들기노라면\\n훌구룽 몰케염지덜\\t굵다란 말개미들이\\n고루삭삭 삐어지국\\t사방으로 흩어지고\\n어떵허코 어떵허코\\t어떻게하지 어떻게하지\\n핵교 가당 오줌 싸비언\\t학교 가는길에 오줌을 쌌어\\n어떵허코 어떵허코\\t어떻게하지 어떻게하지\\n핵교 가당 오줌 싸비언\\t학교 가는길에 오줌을 쌌어\\n어떵허코\\t어떻게하지\\n핵교 가당 오줌 싸비언\\t학교 가는길에 오줌을 쌌어\\n어떵 허코 어떵 허코\\t어떻게 하지 어떻게 하지\\n촘당 촘당 촘지 못행 나와부런게\\t참다가 참다가 참지 못해 나와버렸어\\n어떵 허코 어떵 허코\\t어떻게 하지 어떻게 하지\\n비가 왐시난 비 맞았덴 골라게\\t비가 내리니 비 맞았다고 말하렴.\\n나오는 걸 어떵 헐 수 이시냐\\t나오는 걸 어떻게 할 수 있겠니\\n어떵 허코 어떵 허코\\t어떻게 하지 어떻게 하지\\n겡이 잡당 맨질락허연\\t게를 잡다가 미끄러졌어\\n어떵 허코 어떵 허코\\t어떻게 하지 어떻게 하지\\n겡이 잡당 맨질락허연\\t게를 잡다가 미끄러졌어\\n어떵 허코\\t어떻게 하지\\n겡이 잡당 멘질락허연\\t게를 잡다가 미끄러졌어\\n어떵허당 어떵허당\\t어쩌다가 어쩌다가\\n곱은 겡이 지달리당 와락 덮쳤주\\t숨어있는 게를 기다리다가 갑자기 덮쳤지\\n경해그네 어떵 되연\\t그래서 어떻게 되었어\\n완존 뽈라라\\t정말 빨랐어\\n눈 감았당 터 보난\\t눈 감았다 떠 보니\\n물 쏘곱이 나만 빠졍 이서라\\t물 속에 나만 빠져 있었어\\n어떵허코 어떵허코 어떵허코 어떵허코\\t어떡하지 어떡하지 어떡하지 어떡하지\\n바당 바당 바당 바당 보름 보름 보름 보름\\t바다 바다 바다 바다 바람 바람 바람 바람\\n바당 바당 바당 바당 보름 보름 보름\\t바다 바다 바다 바다 바람 바람 바람 \\n날 막 좋앙 바당드레 강 모살밧듸 맨발로 걸엄쩌\\t날이 정말 좋아 바다에 가서 모래밭을 맨발로 걸었네\\n겡이 호나 나를 뵈련게 절지치는 디로 도람쩌\\t게 한 마리가 나를 보더니 파도치는 쪽으로 도망가네\\n어떵허코 잡아 보카 잡당 실수허민 아야 물릴건디\\t어쩌지 잡아 볼까 잡다 실수하면 아야 물릴 텐데.\\n바당 바당 바당 바당 보름 보름 보름 보름\\t바다 바다 바다 바다 바람 바람 바람 바람\\n바당 바당 제주 바당 보름 보름 보름\\t바다 바다 바다 바다 바람 바람 바람 \\n생이 생이 생이 생이 오름 오름 오름 오름\\t새 새 새 새 오름 오름 오름 오름\\n생이 생이 생이 생이 오름 오름 오름\\t새 새 새 새 오름 오름 오름\\n어멍이영 손 꼭 심엉 용눈이 오름 올람쩌\\t엄마랑 손 꼭 잡고 용눈이 오름을 오르네\\n생이 호나 나를 뵈련게 짹짹짹짹 소릴 호염쩌\\t새 한 마리 나를 보더니 짹짹짹짹 노래를 하네\\n어떵허코 잡아 보카 아맹 잡젠 해도 택도 어실건디\\t어쩌지 잡아 볼까 아무리 잡으려 해도 어림없을 텐데\\n이녁 가슴 쏘곱엔\\t당신의 마음 속엔\\n고은 꽃덜이 만발혼 생이라\\t고운 꽃들이 만발한 모양이야\\n영 골아도 빙세기 웃곡\\t이렇게 말해도 빙그레 웃고\\n정 골아도 빙세기 웃곡\\t저렇게 말해도 빙그레 웃고\\n이녁 가슴  쏘곱엔\\t당신의 마음 속엔\\n황소 혼마리 들어앉은 생이라\\t황소 한 마리 들어앉은 모양이야\\n영 골아도 속솜\\t이렇게 말해도 잠잠\\n정 골아도 속솜\\t저렇게 말해도 잠잠\\n이녁 가슴  쏘곱에 들어가 보젠\\t당신의 마음 속에 들어가 보려고\\n욕심이영 미움이영 \\t욕심과 미움이 \\n손  불끈 잡아둠서\\t손  불끈 잡아두고\\n기웃 기웃 거렴신디\\t기웃 기웃 거려보는데\\n꿀벌이영 일벌이영 \\t꿀벌과 일벌이\\n날아 댕기는걸 보난\\t날아다니는 걸 보니\\n이녁 가슴 쏘곱엔 \\t당신의 마음 속엔\\n송이꿀보다도 더 단\\t송이꿀보다도 더 달디단\\n무언가로 솜 빡혼  생이라\\t무언가로 꽉 들어찬  모양이야\\n휘이이\\t휘이이\\n보름 분다\\t바람 분다\\n보름 불어\\t바람 불어\\n저 바당이\\t저 바다가\\n저 보름이\\t저 바람이\\n손짓햄쩌\\t손짓하네\\n말 골암쩌\\t말을 하네\\n테왁 메영 골갱이 들렁\\t테왁 메고 호미를 들어\\n바당이영 춤을 추엄쩌\\t바다와 춤을 추네\\n우리 어멍 우리 바당\\t우리 엄마 우리 바다\\n혼몸 되엉 춤을 추엄쩌\\t한 몸 되어 춤을 추네\\n바당아 보름아\\t바다야 바람아\\n눈물 남쩌 눈물 남서\\t눈물 나네 눈물이 나\\n우리 어멍 지켜도라\\t우리 엄마 지켜다오\\n이어도 이어도 사나\\t이어도 이어도 사나\\n이어도 이어도 사나\\t이어도 이어도 사나\\n이어도 이어도 사나\\t이어도 이어도 사나\\n이어도 이어도 사나\\t이어도 이어도 사나\\n보름은 팡팡 불곡\\t바람은 세차게 불고\\n덜 요문 조코 고리\\t덜 익은 조 열매가\\n이레 배령 인사허곡\\t이쪽을 보면서 인사하고\\n저레 배령 인사허곡\\t저쪽을 보면서 인사하고\\n낭가쟁이덜은 서로 심벡허멍 좁아댕기곡\\t나뭇가지들은 서로 다투며 잡아당기고\\n절지치는 요메기 바당엔 빈 구젱기 껍데기 둥글어 댕기곡\\t파도치는 요메기 바다엔 빈 소라가 뒹굴어 다니고\\n담우이 걸쳐진 감저줄에\\t담위를 걸쳐친 고구마줄기에\\n동글동글 도라진 감저동가리 \\t동글동글 매달려있는 작은고구마\\n이래 도라앉작 저래 도라앉작\\t이리 흔들리고 저리 흔들리고\\n워어허허 보름 보름 보름 부는 제주의 하늘아\\t워어허허 바람 바람 바람 부는 제주의 하늘아\\n먹쿨낭 꼭대기에 앚인 먹쿨 생이 안 털어져보잰 낭가쟁이 꽉심엉 있곡\\t먹구슬나무 꼭대기에 앉은 먹구슬 새 안 떨어지려고 나뭇가지를 꽉잡고 있고\\n조밭 볼리는 몽생이 조름에 일어나는 흙구듬은 노미 밧더레 넘어가곡\\t조밭 밟는 망아지 뒤로 일어나는 흙먼지는 남의 밭으로 넘어가고\\n동네 큰 폭낭 아래 검불령 가젠허민\\t동네 큰 팽나무 아래 땀좀식히고 가려고하면\\n불어오는 저 보름은 무사 영 건드러운지\\t불어오는 저 바람은 왜 그리 간질이는지\\n기여 혼저 가라\\t그래 어서 가렴\\n기여 혼저 가라\\t그래 어서 가렴\\n보름아\\t바람아\\n해녀 삼춘 또시 또시 물에 감쩌\\t해녀 삼촌 다시 다시 바다 가네\\n테왁 메영 골갱이 들렁 좀수복 입엉 뒤뚱뒤뚱\\t테왁 메고 호미 들고 잠수복 입고 뒤뚱뒤뚱\\n절이치는 바당더레 강 보난\\t파도치는 바다로 가 보니\\n테왁덜이 동동동동 춤을 췀쩌\\t테왁들이 동동동동 춤을 추네\\n해녀 삼춘덜 또시 물에들었쩌\\t해녀 삼촌들 다시 물속으로\\n숨비소리 쏟아가멍 또시들멘\\t숨비소리 쏟아가며 물속으로\\n궤기추룩 홀랑홀랑 꼬릴 췀쩌\\t고기처럼 홀랑홀랑 꼬릴 치네\\n나도 확 벗엉 물쏘곱이 들어가보카\\t나도 확 벗고 물속으로 뛰어들까\\n테왁 들렁 이짝드레 온거 보난\\t 테왁 들고 이쪽으로 온거 보니\\n성게도 지깍 구젱기영 전복이영\\t성게도 가득 전복이랑 소라랑\\n아고 이건 뭐라 물꾸럭도 잡앙 와신게\\t아고 이건 뭐지 문어도 잡아 왔네요\\n아고 삼촌 물꾸럭 나 얼마마씸?\\t아고 삼촌 문어 한마리 얼마죠?\\n아고 조케야 느랑 기냥 거정가불라\\t아고 조카야 너는 그냥 가져가라\\n에고 무신 소리꽈 게민 조냑에랑 당근파당 거정안내주마씀\\t에고 무슨 말씀을 그럼 저녁에 당근파다 드릴게요\\n물빡으로 물먹으민 시염 안돋나. \\t 물바가지로 물 마시면 수염 안난다.\\n물애기 옷을 막개로 뽈민 애기놀랜다. \\t 갓난아이 옷을 방망이로 빨면 아기가 놀랜다.\\n밤에 얼래기질 호민 모솜탄다. \\t 밤에 머리 빗으면 무서움 탄다.\\n비는 놈안틴 지여사 혼다. \\t비는 자에게는 용서해 주어야 한다.\\n비 온날 쇠총지 이레 착 저레 착 혼다. \\t 비오는 날 쇠꼬리 이리 착 저리 착 흔든다.\\n빈 고래질 호민 숭년 든다. \\t 빈 맷돌질 하면 흉년 든다.\\n가난한 사람 못할 일 읏나\\t 가난한 사람 못할 일 없다.\\n까메기 까옥 호민 촘새도 조조조 혼다\\t 까마귀가 까옥하면 참새도 조조 한다. 즉, 자기 자신을 알고 처신하라.\\n까메기 똥 케우리듯\\t 까마귀 똥 헤집듯\\n까메기 모른 식게\\t 까마귀 모른 제사\\n까메기 알라구리 털어질 소리\\t 까마귀 아래턱 떨어질 소리\\n가시어멍 눈 멜를 사위\\t 장모 눈 망가뜨릴 사위\\n가시어멍 장 읏인 깐에, 사위 국 실픈 깐에\\t 장모 된장 없는 터에, 사위 국 먹기 싫은 터에\\n각시 아꼬우민 처갯 칩 몰팡 돌에 절혼다.\\t 아내 아까우면 처가 집에 절한다.\\n각시 읏인 건 안 섭섭해도 남통머리 잃른 건 섭섭호다.\\t 아내가 없는 것은 안 섭섭해도 담배통 잃는 건 더 섭섭하다.\\n각시 읏인 처갯칩 가나 마나 \\t 아내 없는 처가집 가나 마나\\n갈치가 갈치 꼴랭이 그차 먹나\\t 갈치가 갈치 꼬리 끓어 먹는다.\\n갭인년 숭년에도 먹당 남은 게 물이여\\t 갑이년 흉년에도 먹다 남은 게 물이다.\\n갓쟁이 헌 갓 씨곡, 심방 놈 빌엉 굿 허곡\\t 갓장사 헌갓 쓰고, 무당 남 빌어 굿하고\\n강생이 똥은 똥 아니가\\t 강아지 똥은 똥이 아닌가\\n개가 똥을 촘주\\t 개가 똥을 참지\\n개도 비치락으로 안 또린다.\\t 개도 빗자루로 안 때린다.\\n개똥을 모소왕 피 호느냐, 더러웡 피호주\\t 개똥을 무서워서 피하느냐, 더러워서 피하지\\n개똥도 약에 쓰젠 허민 귀혼다\\t 하찮은 개 똥도 약으로 쓸려면 귀하다.\\n건지 먹은 놈이나, 국물 먹은 놈이나 \\t 건더기 먹은 놈이나, 국물 먹은 놈이나 매 한가지\\n검은 독도 흰 독새기 난다\\t 검은 닭도 흰 달걀 낳는 수 있다.\\n것 구숭 호로 조식, 글 구숭 양반 조식\\t음식 타박 쌍놈, 글 구숭 양반자식\\n것 멋을 땐 개도 안 또린다\\t 음 식을 먹을 때는 개도 안 때린다.\\n것 박접허면 죄 짓나\\t 음식을 박대하면 죄 짓는다.\\n게드레기도 집이 싯나\\t 소라, 게도 집이 있다.\\n곤 사름은 맥을 씌어도 곱나\\t 고운 사람은 멱서리 써도 곱다.\\n곤 년 잡아 들이렌 허난 솔친년 잡아 들인다\\t 고운 여자 잡아 들이라고 하니 살찐 여자 잡아 들인다.\\n곧은 낭은 가운디 산다\\t 곧은 나무는 한가운데 선다.\\n골체 부지런은 하늘도 못막나\\t 삼태기 부지런으로 부자가 되는걸 하늘도 못막는다.\\n공께엥 허민 눈도 뻘겅, 코도 벌겅\\t 공짜하면 눈도 벌겋고, 코도 벌겋고\\n공껀 씨여도 돈다.\\t 공짜는 맛이 써도 달다\\n공부허렌 허난 개잡는걸 뱁나\\t 공부하라고 하니 개잡는걸 배운다.\\n고튼 품이민 홀어멍 칩 머슴산다.\\t 같은 값이면 과부집 머슴을 산다.\\n구젱기 똥누레 가불민 게드레기가 기어 든다.\\t 소라가 똥누러 가버리면 소라게가 차지 한다.\\n국 하영 먹으민 가시어멍 눈 멜라진다.\\t 국 많이 먹으면 장모 눈 망가진다.\\n굼벵이도 꿈불 재주 있나\\t 하찮은 굼벵이라도 구부리는 재주가 있다.\\n귀막앙 삼년, 눈 어둑엉 삼년, 말몰랑 삼년 살암서사 가렝 오렝 말 읏나\\t 시집가서 귀머거리 삼년, 장님 삼년, 벙어리 삼년을 살아야 가라 오라는 말이 없다.\\n귀신 대접 잘 호영 그른디 읏나\\t 귀신 대접 잘 해두면 잘못 될 일 없다\\n귀소문 말앙 눈소문 호라\\t 귀소문 하지 말고 눈소문 하라, 실제로 보고 확인한 것 아니면 말하지 말라.\\n귀신도 빌민 듣나\\t 귀신도 사정하면 들어 준다.\\n괸당은 옷 우이 보름\\t 일가는 옷위의 바람\\n그 날 액은 망데기 안에 아자도 깬다\\t 그 날 액은 독안에 앉아도 깬다.\\n그짓말도 외삼춘 보다 낫나\\t 거짓말도 외삼촌 보다도 낫다.\\n글 못허는 놈 붓 골린다.\\t 글 잘 못하는 놈 붓 고른다. = 붓타령 한다.\\n글 배우렌 호난 홀어멍칩 강생일 또린다. \\t글 배우라고 했더니 엉뚱하게 과부집 강아지 때린다.\\n기도 못호는게 놀젱 혼다\\t기어 다니지도 못하는게 나려고 한다.\\n깅이광 보말도 지집 싯나\\t게와 고둥도 자기 집은 있다.\\n기시린 도새기 도라멘 도새기 타령혼다.\\t 그을린 돼지가 달아멘 돼지를 나무란다.\\n골체 부지런은 하늘도 못막나\\t삼태기 부지런으로 부자 되는 것은 하늘도 못 막는다.\\n고튼 품이민 홀 어멍칩 머슴산다.\\t기왕에 같은 품삯이면 과부집 머슴을 산다.\\n고늘이 먹곡 고늘이 쓰라\\t가늘게 먹고 가늘게 쓰라\\n관덕정이 설렁탕도 먹어난 놈이 먹나\\t관덕정 설렁탕도 먹어본 놈이 먹는다.\\n끅 걷으레 간 놈이 정당 벌립 망 돌른다.\\t칡 걷으러 간 놈이 정당벌레 테 엮는다.\\n나간 놈 찍신 셔도 자는 놈 찍신 읏나\\t나간 놈 몫은 있어도 잠자는 놈 몫은 없다.\\n나댕기는 개가 꽝 물어 온다. \\t나  다니는 개가 뼈 물어 온다.\\n나 땅 까메긴 검어도 아깝나\\t나의 땅에 있는 까마귀는 검어도 아깝다.\\n나서 화목은 남조가 허곡 들어 화목은 여조가 혼다.\\t나가서 화목은 남자가 하고, 들어서 화목은 여자가 한다.\\n나 한 아재비 지라.\\t나이  많은 사람이 양보하라.\\n남조가 디딘 풀은 유울곡, 여조가 디딘 풀은 안 유운다.\\t남자가 밟은 풀은 이울고, 여자가 밟은 풀은 안 이운다.\\n낭도 늙엉 고목되민 놀단 생이도 아니 온다.\\t나무도 늙어 고목되면 새들도 아니 온다.\\n낭이 좀 먹주 세월 좀 안먹나\\t나무가 좀먹지 세월은 좀 안먹는다. =  느긋한 시간 관념을 부추길 때\\n나 똘이 고와사 사윌 골른다.\\t내 딸이 고와야 잘난 사위를 고른다.\\n너미 골리당 눈 까진 사윌 골린다.\\t너무 고르다가 눈이 멜라진 사위를 고른다.\\n노름쟁이 뒤랑 대곡, 먹는 놈 뒤랑 대지말라.\\t노름꾼 뒤는 대어도 , 먹는 놈 뒤는 대지 말라\\n노름은 신 신을 때 봐사 안다.\\t노름은 끝나서 신발 신을 때 보아야 승부를 안다.\\n노름쟁인 망호여도 흥호진 못혼다.\\t노름 쟁이는 망하여도 흥하지는 못한다.\\n노리 또린 막땡이 3년 우려 먹나\\t노루 때린 막대기 3년을 울겨 먹는다.\\n노리궤기 혼점 먹젠 호당 지 궤기 열 점 일른다.노루고기 한 점 얻어 먹으려다가 자기의 고기 열점을 잃은다.\\t\\n놈 곱진 것 쉐도 못 찾나\\t남이 숨긴건 소도 못 찾는다.\\n놈광 심백은 호곡, 게심이랑 허지 말라.\\t 남과 경쟁은 하되 시기는 하지 마라.\\n놈 싼 훼에 깅이잡기.\\t남이 켠 횃불에 게 잡는다.\\n놈이 눈에 피 내우젠 허민 이녁 눈엔 고름 나사 혼다.\\t남의 눈에 피 흘리게 하면, 자기 눈에는 고름이 나와야 한다.\\n놈이 쉐 들럭키는 건 보기 좋나.\\t남의 소 날뛰는 건 보기 좋다.\\n놈이 숭 털민 이녁 숭 된다.\\t남의 흉내 내면 자기 흉 된다.\\n놈이 집광 관장살인 궤던 밥도 내부러동 돋나.\\t남의 집과 벼슬 살이는 끓는 밥도 두고 간다.\\n놋 시칠 때에 물 하영 쓰민 죽엉 가민 다 먹어사 혼다.\\t세수 할 때에 물을 많이 사용하면 죽어서 가면 다 마셔야 한다.\\n눈 까진 똘 고졍 사윌 고른다.\\t애꾸눈 딸 가지고 사위를 고른다.\\n눈 낭에 요름 요는냐?\\t누운 나무에 열매 열리는가?\\n눈 썹에 불 붙어도 끌 조를이 읏나.\\t눈썹에 불이 붙어도 끌 겨를이 없다.\\n늘근 쉐 콩 주엉 말덴 호느냐?\\t늙은 소 콩을 주면 안 받겠다고 하느냐?\\n늑신네가 젊은 첩 호민 불 본 나비 놉뜨듯 혼다.\\t늙은 놈이 젊은 첩 하면 불 본 나비 날뛰듯 한다.\\n니 아픈 부릅씨랑 허곡, 눈 아픈 부릅씨랑 말라.\\t이 아픈 심부름은 하고, 눈 아픈 심부름은 하지 마라.\\n다심 아덜은 콩 죽 멕이곡, 원 아덜은 폿 죽 멕인다.\\t의붓 아들은 콩죽 먹이고, 친 아들은 팥죽 먹인다.\\n다심아방 궤기 써는 디랑 가고, 원아방 낭깨는 디랑 얼씬을 말라.\\t의붓아버지 고기 써는데는 가고, 친아버지 장작 패는데는 가지를 말라.\\n대천 바당도 건너 봐사 안다.\\t넓은 바다도 건너 봐야 안다.\\n대정 몽생이 요망진다.\\t대정 망아지 야무지고 알차다 = 대정은 서귀포시 대정읍 지명임.\\n덴디 꺼럭 아니 돗나\\t 덴 곳에 털 안난다.\\n도 터질 밭디 모쉬 들듯.\\t들목 터진 밭에 마소 들듯\\n도둑놈광 샛뭇은 묶엉 세와노민 똑 닮나.\\t도둑놈과 띠 다발은 묶어서 세워 놓으면 꼭 닮다.\\n고맙습니다\\t고맙쑤다\\n가십시오\\t갑써양\\n제가 당신을 무척 사랑합니다\\t나 이녁 소못 소랑헴수다\\n남편 옆에 같이 앉으세요\\t서방 조끝에 고치 앉즙써\\n사람 있습니까\\t사름 잇수과\\n잘 있었습니까\\t잘 이십디강?\\n아버지 어머니 모두 편안하셨습니까\\t아방 어멍 다 펜안햇수과\\n머리 조심하세요\\t데멩이 맹심헙써\\n어디갔다가 오십니까\\t어디 갓당 왐쑤과\\n자기 것은 작게 보인다\\t지 것은 족아 벤다\\n누구십니까\\t누게꽈\\n제 얼굴이 예쁘지요\\t나 상우댕이 고우꽝\\n별로 이쁘지 않네요\\t고우멍 말멍 허우다\\n오천원입니다\\t오천원마씀\\n큰일 났습니다\\t큰일 낫수다\\n어떻게 생겼던가\\t어떵 생겨서\\n어디로 모실까요\\t어디가코 마시\\n똑똑하고 영리하게 생겼습니다\\t요망지게 생겨십디다\\n제주특별자치도에서 삽시다\\t제주특별자치도에서 살게 마씀\\n따스합니까\\t맨드롱햇수과\\n왜 그러십니까\\t무사 마씀\\n오시느라 고생 많으셨습니다\\t오젠허난 폭삭 속아수다\\n빨리빨리 더빨리 오세요\\t재기재기 보질보질 혼저옵서\\n참말로 이쁘고 둥실둥실합니다\\t촘말로 곱고 몬트락허우다\\n이곳은 바람도 많이 불고있네\\t이딘 보름도 하영 불엄져\\n소문나면 저는 모른다\\t소민나민 난 몰라\\n이곳에 있으니 엄마 보고싶다\\t이디 와부난 어멍 보지그립다\\n지쳐서 잠이 온다\\t지천 자지 그립다\\n햇볕은 쨍쨍 모래알은 반짝반짝\\t뱃은 과랑과랑 모살은 삔찍삔찍\\n아무리 이야기하여도 귀 눈이 캄캄\\t아무거앤 고라도 귀 눈이 왁왁\\n그러기에 말입니다\\t게메 마씀\\n나를 보십시오\\t날 봅서\\n잘되어 버렸다\\t제나콰니여\\n어마어떻게 하지\\t으마떵호리\\n제주도 사투리로 말 호난\\t제주도 사투리로 말 하니까.\\n무신거랜 고람 신지 몰르쿠게\\t뭐라고 말하는지 모르겠지요\\n게메 마씀\\t글세 말입니다\\n귀 눈이 왁왁하우다\\t귀와 눈이 캄캄합니다\\n경해도 고만히 생각호멍 들으민 호끔씩 알아집니다.\\t그래도 가만히 생각하며 들으면 조금씩 알 게 됩니다\\n오랜만이우다\\t오랜만이예요\\n몸은 펜안 하우꽈\\t편안하십니까\\n얼굴이 펜안해 보염수다\\t얼굴이 좋아보이네요\\n혼저옵서예\\t어서오세요\\n제주도 오잰하난 폭삭 속아수다\\t제주도 오느라 수고하셨어요\\n제주도 오난 촘말로 좋수다\\t제주도에 오니까 정말로 좋습니다\\n산이영 바당이영 몬딱 좋은게 마씀\\t산이랑 바다랑 모두가 좋습니다\\n많이많이봥으네 서울에 갈 때랑 하영 담앙 갑서\\t많이 보고, 서울에 갈 때는 많이 담아서 가십시오\\n게메 양\\t그러게 말입니다\\n경 해시민 얼마나 좋코 마씀\\t그렇게 했으면 얼마나 좋겠습니까\\n안트레 들어 왕, 밥 먹엉 갑서\\t안으로 들어 오셔서, 식사 하고 가십시오\\n제주도 와시난 전복죽드셔봥 가살꺼 아니꽝\\t제주도 오셨으니, 전복죽드셔보고 가셔야죠\\n혼저 왕 드셩갑서\\t어서 와서 드세요\\n맨도롱 했수과\\t따뜻합니까\\n뜻뜻혼 게 먹기 똑 좋았수다\\t따끈따끈한 것이 먹기에 꼭 좋았습니다\\n맛있수다\\t맛 좋네요\\n여기예\\t여기요\\n이거 키로에 얼마마씨?\\t이거 1kg에 얼마예요?\\n사천원마씨\\t사천원입니다\\n기꽝?\\t그래요?\\n사천원치 줍서\\t사천원어치주세요\\n하영줍서예\\t많이주세요\\n많이 담암수다양\\t많이 드립니다\\n맛있게 드십써 양\\t맛있게 드세요\\n삼성혈가잰하는디예\\t삼성혈에 가려는데요\\n어디로 가면 되마씨?\\t어디로 가면 되지요?\\n여기서 10분만 밑트레강 칼호텔조끄티서 바로 왼펜돌아가민 되우다\\t여기서 10분 밑으로가서 칼호텔 근처에서 돌아서 왼쪽으로 가면 됩니다.\\n알아지쿠가?\\t알겠어요?\\n거기강 봥으네, 아무사람이나 잡앙 물어보민 잘 말해 줄꺼우다\\t거기가서 아무사람이나 물어보면 잘 말해 줄꺼예요\\n관광 잘행 갑써예\\t관광 잘하고 가세요\\n혼저옵서예\\t어서오십시요\\n고만이십서게\\t잠깐 있으십시오\\n고만 이시라게\\t잠깐있어라\\n무신거 햄쑤꽈?\\t무엇을 하십니까?\\n무신거 햄시니?\\t무엇을 하느냐?\\n무사 경 급호꽈?\\t왜 그렇게 급하십니까?\\n무사 경 급호냐?\\t왜 그렇게 급하냐?\\n확 옵서게\\t빨리 오십시오\\n어떵 살아 점수꽈?\\t어떻게 살고 있습니까?\\n무싱거엔 고람쑤꽈?\\t무엇이라고 말하십니까?\\n귀 눈이 왁왁하우다.\\t귀와 눈이 캄캄합니다\\n맨도롱 혼때 호로록 들여 싸 붑써\\t따뜻할 때 후루룩 잡수십시오\\n무싱 걸 몽캐미꽈?\\t뭘 그리 늦장 부리십니까?\\n왕 봅서, 고랑은 몰라 마씀\\t와서 보십시오,말로 해서는 모릅니다\\n곱들락 호게 몬뜰락 벗엉 옵서\\t아름답게 모조리 벗어서 오십시오\\n어디 갔당 왐수꽈?\\t어디 갔다가 오십니까?\\n어드레 감수꽈?\\t어디로 가십니까?\\n둥그리멍 키웁서, 경 해사 혼저 큽니다.\\t고생시키면서 키웁십시오.그래야 빨리 자랍니다\\n어떵 살코, 저들지 맙서, 촘앙 살민 살아집니다\\t어떻게 살까,걱정 마십시오.참고 살면 살수 있습니다\\n느영 나영 두리둥실 소랑호게 마씸\\t너하고 나하고 둘이 둥실 사랑합시다\\n혼저 옵서\\t어서 오십시오\\n제주도에 오난 어떵 하우꽈?\\t제주도에 오니 어떠하십니까?\\n촘말로 좋수다\\t정말로 좋습니다\\n왕 봅서\\t와서 보십시오\\n고랑은 몰라마씀\\t말로해서는 모릅니다\\n무상 경 고람수꽈?\\t왜 그렇게 말하십니까?\\n몽캐지 말앙 혼저 오라게\\t꾸물대지 말고 어서 오너라\\n호꼼만 이십서게\\t조금만 계십시오\\n혼저 왕 먹읍서\\t어서 와서 먹으십시오\\n맨드롱 했수꽈?\\t따뜻합니까?\\n맨도롱 홀 때 호로록 들여 싸붑서\\t따뜻한 때 후루룩 마셔 버리십시오\\n혼저 옵서.\\t어서 오십시오.\\n제주도 사투리로 말 호난, 무신 거옌 고람 신디 몰르쿠게?\\t제주도 사투리로 말 하니까, 뭐라고 말하는 지 모르겠지요?\\n게메 마씀.\\t글쎄 말입니다.\\n귀 눈이 왁왁하우다.\\t귀와 눈이 캄캄합니다.\\n경해도 고만히 생각호멍 들으민 조금씩 알아집니다.\\t그래도 가만히 생각하며 들으면 조금씩 알게됩니다.\\n제주도 사투리 촘말로 귀하고 아름다운 보물이우다.\\t제주도 사투리 정말로 귀하고 아름다운 보물입니다.\\n펜안 하우꽈?\\t안녕하십니까?\\n제주도에 오난 어떵 하우꽈?\\t제주도에 오니 어떠하십니까?\\n촘말로 좋수다.\\t정말로 좋습니다.\\n공기도 맑고, 산이영 바당이영 몬딱 좋은게 마씀.\\t공기도 맑고, 산이랑 바다랑 모두가 좋습니다.\\n서울에 갈 때랑 하영 담앙 갑서.\\t서울에 갈 때는 많이 담아서 가십시오.\\n게메, 양.\\t그러게 말입니다.\\n경 해시민 얼마나 좋코 마씀?\\t그렇게 했으면 얼마나 좋겠습니까?\\n저기, 물허벅 정 가는 거, 비바리덜 아니꽈?\\t저기, 바구니 지고 가는 거, 처녀들 아닙니까?\\n맞수다.\\t맞습니다.\\n비바리도 있고, 넹바리도 있수다.\\t처녀도 있고, 시집 간 여자도 있습니다.\\n비바리덜 곱들락 호고 놀씬하우다 양!\\t처녀들 곱고 날씬하군요!\\n경 합주게, 산 좋고 물 좋은 제주도에 사난 모심도 착하고 얼굴도 곱들락 홉니다.\\t그렇지요, 산 좋고 물 좋은 제주도에 사니 마음도 착하고 얼굴도 곱습니다. \\n고랑은 몰라 마씀.\\t말로 해서는 모릅니다.\\n제주도에 왕 봐사 알아짐니다.\\t제주도에 와서 보아야 알 수 있습니다.\\n돌도 많고, 보롬도 많고, 비바리도 많고, 유채꽃도 곱드락 호게 피었수다.\\t돌도 많고, 바람도 많고, 처녀도 많고, 유채꽃도 아름답게 피었습니다.\\n아명 고라도 몰라 마씀.\\t아무리 말해도 모릅니다.\\n혼저 왕 봅서.\\t어서 와서 보십시오.\\n제주도엔 보름이 많이 있수다.\\t제주도에는 바람이 많이 있습니다.\\n동쪽에서 부는 보름, 샛보름.\\t동쪽에서 부는 바람, 샛바람.\\n서쪽에서 부는 보름, 갈보름.\\t서쪽에서 부는 바람, 갈바람.\\n남쪽에서 부는 보름, 마포름.\\t남쪽에서 부는 바람, 마파람.\\n북쪽에서 부는 보름, 하늬보름 이우다.\\t북쪽에서 부는 바람, 하늬바람 입니다.\\n한락산에 올랑 봅서.\\t한라산에 올라서 보십시오.\\n발 아래 구름들이 왔닥갔닥 호곡 아득혼게 꿈속 고틉니다.\\t발 아래 구름들이 오락가락 하고 아듣하니 꿈속 같습니다.\\n옛날에 신선들이 힌 사슴 타멍 놀았댄 해연 백록담 아니꽈.\\t옛날에 신선들이 흰 사슴을 타며 놀았다고 해서 백록담 아닙니까.\\n제주 사롬들은 돌 하르방 보멍 살았수다.\\t제주 사람들은 돌 하르방 보면서 살았습니다.\\n경 호난, 거짓말 홀 줄 모르곡 서로 믿으멍 착하게만 살았수게.\\t그러니까, 거짓말 할 줄 모르고 서로 믿으면서 착하게만 살았습니다.\\n봅서, 어시민 도와 주곡, 이시민 나누엉 먹곡, 인정 많고, 소랑 많은 돌하르방 손지들 이우다.\\t보십시오, 없으면 도와 주고, 있으면 나누어서 먹으면서, 인정 많고, 사랑이 많은 돌하르방 손자들 입니다.\\n장게간 날 밤, 새 서방이 말했수게.\\t장가간 날 밤, 새 신랑이 말했습니다.\\n`새 각시야, 혼저 오라게.`\\t`색씨야, 어서 오너라.`\\n`무사 마씀?`\\t`왜 그러십니까?`\\n`호꼼만 이십서게.`\\t`조금만 계십시오.`\\n`뭉캐지 말앙 혼저 오라게.`\\t`꾸물대지 말고 어서 오너라.`\\n새 각시가 새 서방 품에서 솔째기 말해십주.\\t신부가 신랑 품에서 살그머니 말했답니다.\\n`날 얼마나 소랑햄쑤과?`\\t`나를 얼마나 사랑하십니까?`\\n`저기 한락산만큼, 또 바당만큼 소랑햄쩌.`\\t`저기 한라산만큼, 또 바다만큼 사랑한다.`\\n`경 마랑, 요 가슴패기 만큼만 소랑해 줍서.`\\t`그러지 말고 이 가슴팍 만큼만 사랑해 주십시오.`\\n`기여, 느영 나영 두리 둥실 소랑호게.`\\t`그래, 너하고 나하고 둘이 둥실 사랑하자.`\\n신랑이 신부에게 말했수게.\\t신랑이 신부에게 말했답니다.\\n`이 조끄뜨레 오라게.`\\t`여기 가까이 오너라.`\\n`무사 조끄뜨레만 오랜 햄수과?`\\t`왜 가까이만 오라고 하십니까?`\\n`호꼼이라도 고치만 있고 싶언.`\\t`조금이라도 같이만 있고 싶어서.`\\n`놈덜 웃읍니다.`\\t`남들이 웃습니다.`\\n`어떵 호느냐? 소랑에는 부치룸이 엇나.`\\t`어떡하느냐? 사랑에는 부끄러움이 없단다.`\\n무사 경 고람쑤과?\\t왜 그렇게 말하십니까?\\n혼저 왕 소랑하멍 살게 마씀.\\t어서 와서 사랑하면서 살아 봅시다.\\n성 내멍 살아도 혼 세상 저들멍 살아도 혼 세상 이우다.\\t화를 내면서 살아도 한 세상 걱정하면서 살아도 한 세상 입니다.\\n가난해서 웃으멍 살게 마씀.\\t가난해도 웃으면서 살아 봅시다.\\n삼다도옌 행게마는 촘말 돌이 많쑤다.\\t삼다도라고 하더니만 정말 돌이 많습니다.\\n양?\\t예?\\n옛날엔 한락산이 화산이란 돌이 많쑤게.\\t옛날에는 한라산이 화산이었기 때문에 돌이 많답니다.\\n아이고 게, 저기 돌고망에 핀 꽃 봅서 돌고망으로 보는 바당은 꼭 그림 답쑤다.\\t아이고, 저기 돌구멍에 핀 꽃 보십시오. 돌구멍으로 보는 바다는 꼭 그림 같군요.\\n바다에 강 봐사.\\t바다에 가서 보아야.\\n풍랑을 알아 지곡 조식을 나 봐사.\\t풍랑을 알게 되고 자식을 낳아 보아야.\\n부모 모심 알아 지곡 사롬은 만낭 살아 봐사.\\t부모 마음 알게 되고 사람은 만나서 살아 보아야.\\n진심을 알아 지곡 소랑을 해 봐사, 눈물도 알아 짐니다.\\t진짜 마음을 알게 되고 사랑을 해 보아야, 눈물도 알게 된답니다.\\n사롬은 서로 서로 도우멍 사는 거여!\\t사람은 서로 서로 도우며 사는 것이야!\\n욕은 고냉이 밤눈 어둡덴 혼다.\\t약은 고양이가 밤눈이 어둡다고 한다.\\n이녁만 욕은 체 호멍 살당 보민.\\t자기만 약은 체 하면서 살다 보면.\\n지 욕심에 걸령 지가 넘어진다.\\t자기 욕심에 걸려서 자기가 넘어진단다.\\n서귀포 바당에 가민 알아 짐니다.\\t서귀포 바다에 가면 알수 있습니다.\\n무신것이 소랑이고.\\t무엇이 사랑이고.\\n무신 것이 그리움인지.\\t무엇이 그리움인지.\\n안개 낀 부둣가에 뱃고동 울어 주민\\t안개 낀 부둣가에 뱃고동 울어 주면.\\n옛님이 그리웡 눈물이 잘도 납니다.\\t옛님이 그리워서 눈물이 많이도 납니다.\\n조냥 하멍 살아사 혼다.\\t아끼면서 살아야 한다.\\n오늘보다 내일 생각호곡.\\t오늘보다 내일을 생각하고.\\n내일보다 모레 생각호곡.\\t내일보다 모레를 생각하고.\\n경 해사 일생을 펜안호게 살아진다.\\t그렇게 해사 일생을 편히 살수 있단다. \\n요새 아이덜.\\t요사이 아이들.\\n너무 호강 햄쩌 경 호난\\t너무 편안히 산다 그러니까.\\n호꼼호민 아프곡.\\t조금하면 아프고.\\n울곡 햄시녜.\\t울고 하고 있다.\\n둥구리멍 질룬 독새시가 빙애기 된댕 혼다.\\t뒹글리면서 기른 달걀이 병아리가 된다고 한다.\\n어진 때 고생도 호곡 해사 큰 사롬 된다.\\t어릴 때 고생도 하고 해야 큰 사람 된다. \\n혼저 왕 먹읍서.\\t어서 와서 먹으십시오.\\n맨도롱 했수과?\\t따뜻합니까?\\n똣똣혼 게 먹기 똑 좋았수다.\\t따끈따끈한 것이 먹기에 꼭 좋았습니다.\\n맨도롱 홀 때 호로록 들여 싸붑서.\\t따뜻할 때 후루룩 마셔 버리십시오.\\n동 텃저, 어서 글라.\\t날이 밝았다, 어서 가자.\\n일 해사 먹엉 산다.\\t일 해야 먹고 산다.\\n부지런 혼 건 하늘도 못 막낸 해라.\\t부지런한 것은 하늘도 못 막는다고 하더라.\\n혼저 촐령 가사, 일 홀 거 아니가.\\t뻘리 준비해서 가야, 일 할 것 아니냐. \\n시집 가 보난 영 해라.\\t시집을 가 보니까 이렇드라.\\n돌탱이 고튼 시아방에.\\t돌덩이 같이 고집 센 시아버지에.\\n물폐기 고튼 시어멍에.\\t살모사 같이 독한 시어머니에.\\n물꾸럭 고튼 서방에.\\t문어 같이 물렁물렁한 남편에.\\n고냥독새 고튼 시누이에.\\t굴뚝새 같이 약아 빠진 시누이에.\\n가도 가도 고생이라라.\\t살아도 살아도 고생이더라.\\n어드레 감디?\\t어디로 가느냐?\\n바당에 어멍 안티 감쑤다.\\t바다에 어머니 한테 갑니다.\\n경 호건, 이거 가정 가라.\\t그러면, 이거 가지고 가라.\\n무싱 거꽈?\\t무엇입니까?\\n느네 어멍, 바당에서 물질 호멍 먹을거여.\\t너희 어머니, 바다에서 물질하면서 먹을거다.\\n이추룩 억울할 때가 있수과?\\t이렇게 억울할 때가 있습니까?\\n소정해도 시원호지 않을 놈이 큰 소리라 마씸.\\t사정을 해도 시원하지 않을 놈이 큰 소리 합니다.\\n초마 가라, 그거 도둑놈 심뽀구나.\\t아니 원, 그거 도둑놈 마음이구나.\\n게메 마씸, 그런 사롬이 어디 있수과?\\t그러게 말입니다, 그런 사람이 어디 있습니까?\\n시험에 떨어진 아들이 아방 안티 말했수다.\\t시험에 떨어진 아들이 아버지께 말했습니다.\\n`난, 아명 해도 안되쿠다.`\\t`난, 아무리 해도 안되겠습니다.`\\n`무사, 안된댄 생각 햄시냐?`\\t`왜, 안된다고 생각하느냐?`\\n`해도 해도 안되는디, 어떵홉니까?`\\t`해도 해도 안되는걸, 어떻게 합니까?`\\n`먹돌도 똘람 시민 고망이 난다. 햄시민 된다.`\\t`차돌도 뚫고 있으면 구멍이 난다. 하고 있으면 된다.`\\n똘년이 돌으멍 가단 푸더전 마씀.\\t딸이 뛰어 가다가 쓰러졌답니다.\\n으마떵 호리.\\t이런, 어떻게 하나.\\n경 호연 어떵 해서 ?\\t그래서 어떻게 했는가?\\n병원에 갔수게.\\t병원에 갔습니다.\\n간 보난, 꽝이 뿌서졌덴 마씀.\\t가서 보니까 뼈가 부러졌답니다.\\n혼, 열흘간 입원 해사 혼덴 햄쑤다.\\t한, 열흘간 입원 해야 한다고 합니다.\\n족댕 나무래지 말라.\\t작다고 놀리지 마라.\\n조근게 요망진다.\\t작은 것이 똑똑하고 영리하다.\\n큰 건 보롬만 불어도.\\t큰 것은 바람만 불어도.\\n홍글랑 홍글랑 호지만 호꼴락 혼 건.\\t흔들 흔들 거리지만 조그만 한 건.\\n똔똔호곡 펜주룽 혼다.\\t단단하고 태연하게 있는다.\\n어드레 감수과?\\t어느 곳으로 가십니까?\\n바당에 괴기 사레 마씀.\\t바다에 고기 사려고 말입니다.\\n무사, 누게 왔수과?\\t왜, 누가 왔습니까?\\n서울서 족은 아방네 완 마씀.\\t서울에서 작은 아버지네가 왔습니다.\\n게민, 멩심허영 갔당 옵서.\\t그럼, 조심해서 갔다 오십시오.\\n어멍이 해 준 밥 먹어 봅서.\\t어머니가 해 준 밥을 먹어 보십시오.\\n촘말로 맛이 좋수다.\\t정말로 맛이 좋습니다.\\n무상고 마씀?\\t무엇 때문인가요?\\n그건 어머님의 사랑호는 모심이 밥속에 고득 고득 들어 이시난 아니꽈.\\t그건 어머니의 사랑하는 마음이 밥속에 가득 가득히 들어 있기 때문 아닙니까.\\n소도리 행 댕기지 맙서.\\t소문 옮기면서 다니지 마십시오.\\n소도리는 놈덜 싸움만 맨듭니다.\\t소문은 남들 싸움만 만듭니다.\\n옛부터 싸움은 멀리곡.\\t예부터 싸움은 말리고.\\n흥정은 부치렌 했수다.\\t흥정은 붙이라고 했습니다.\\n게난, 좋은 소린 크게 호곡.\\t그러니, 좋은 소리는 크게 하고.\\n궂은 소린 속솜 해 붑서.\\t나쁜 소리는 조용히 해 버리십시오.\\n두 가시가 어드레 경 돌암서?\\t두 부부가 어디로 그렇게 달려 가는가?\\n큰 똘, 애기 낫댄 햄 감쑤다.\\t큰 딸이 아이를 낳았다고 해서 갑니다.\\n경 했구나.\\t그랬구나.\\n무슨 애기 나서?\\t무슨 애기를 낳았는가?\\n아덜 마씀!\\t아들 입니다!\\n아이고, 잘 됐구나게!\\t아이구, 잘 되었네!\\n혼저 강 봐 게.\\t어서 가 보게나.\\n강, 방 옵서.\\t가서 보고 오십시오.\\n왕, 방 삽서.\\t와서 보고 사십시오.\\n영 호곡, 정 호곡 홉서.\\t이렇게 하고, 저렇게 하고 하십시오.\\n경 고라 줍서.\\t그렇게 말해 주십시오.\\n가지 말앙, 영 호멍 삽서.\\t가지 말고서 이렇게 하면서 사십시오.\\n서방님, 제주도에서 살게 마씀.\\t여보, 제주도에서 삽시다.\\n좋주마.\\t좋지요.\\n널은 바당.\\t넓은 바다.\\n좋은 공기.\\t좋은 공기.\\n인심좋은 사롬들광 살민 살 맛 날거라.\\t인심좋은 사람들과 살면 살 맛 날거다.\\n살당 지치민.\\t살다가 지치면.\\n풍덩 바당에 들어 가곡 마씀.\\t풍덩 바다에 들어 가고 말입니다.\\n둘이 먹당, 호나 죽어도 몰르는 건 무신거꽈?\\t둘이 먹다가, 한 명이 죽어도 모르는 건 무엇입니까?\\n돌코롬 혼 제주도 전복죽이주!\\t달고 맛있는 제주도 전복죽이야!\\n둘이 보당, 호나 죽어도 몰르는 건 무신거꽈?\\t둘이 보다가, 한 사람이 죽어도 모르는 건 무엇입니까?\\n곱들락 혼 제주도 비바리주!\\t곱고 예쁘장한 제주도 처녀야!\\n게민 옵서.\\t그러면 오십시오.\\n전복죽 먹곡 비바리 보래 가게 마씀.\\t전복죽 먹고서 처녀 보러 갑시다.\\n과랑 과랑혼 벳디 일 호젠 호난 속았수다.\\t쨍쨍한 햇볕속에 일 하려고 하니 수고 했습니다.\\n속을 거 있수과?\\t수고 할 거 있습니까?\\n호꼼, 똠은 났수다만.\\t조금, 땀은 났습니다만.\\n안트레 들어 왕.\\t안으로 들어 오셔서.\\n조녁 먹엉 갑서.\\t저녁식사 하고 가십시오.\\n경 호카 마씀.\\t그렇게 할까요.\\n제주 바당에 가민 바당이 말을 홉니다.\\t제주 바다에 가면 바다가 말을 합니다.\\n사롬보다.\\t사람보다.\\n더 조잘조잘 말을 하곡.\\t더 재잘재잘 말을 하고.\\n사롬보다.\\t사람보다.\\n더 소랑도 하영 홉니다.\\t더 사랑도 많이 합니다.\\n경 호멍.\\t그렇게 하면서.\\n낮이나 밤이나 꽃을 피웠당.\\t낮이나 밤이나 꽃을 피웠다가.\\n지웠당 홉니다.\\t지웠다가 합니다.\\n제주 바당에 강 봅서.\\t제주 바다에 가서 보십시오.\\n미운 것도 엇어지곡.\\t미운 것도 없어지고.\\n슬픈것도 엇어지곡.\\t슬픈것도 없어지고.\\n가슴으로 바당물만 들곡 나곡 호멍.\\t가슴으로 바닷물만 들어오고 나가고 하면서.\\n두리 둥실.\\t둘이 둥실.\\n둥그대 당실.\\t둥그대 당실.\\n소랑만 고득하게.\\t사랑만 가득하게.\\n담앙 옵니다.\\t담아서 옵니다.\\n서울서 새각씨 왔수다.\\t서울에서 색씨가 왔습니다.\\n어떵 생겨서?\\t어떻게 생겼던가?\\n요망지게 생겨십디다.\\t똑똑하고 영리하게 생겼습니다.\\n솔째기 웃으멍 말 호는 거 보난.\\t살그머니 웃으면서 말 하는 걸 보니.\\n착햄직 홉디다.\\t착할 것 같습니다.\\n그 나쁜 놈!\\t그 나쁜 놈!\\n볼망텡이를.\\t뺨따귀를\\n박아 불거 아니꽈?\\t때려 버릴거 아닙니까?\\n경 했주!\\t그렇게 했어!\\n모가지 잡안 흥글단.\\t목을 잡아서 흔들다가\\n대맹이로 뱃대기를.\\t머리로 배를\\n박아 부난.\\t받아 버렸더니\\n둥글멍 자빠정게!\\t뒹글며 쓰러져 버리더군!\\n잘 콰니여!\\t잘 됐어!\\n그런 놈은.\\t그런 놈은\\n혼내 줘사 홉니다.\\t혼을 내 줘야 합니다.\\n쌍둥이 어멍!\\t쌍둥이 어머니!\\n고생햄쭈, 이?\\t고생하고 있네요, 그렇지요?\\n둘이가 고름배기 해연.\\t둘이가 서로 이기려고 하니.\\n죽어지쿠다.\\t죽겠습니다.\\n경 홀거라.\\t그렇게 할 거에요.\\n게도, 놈 호고 싸울 땐.\\t그래도, 남하고 싸울 때는.\\n지네 펜백들멍 싸워 마씀.\\t자기네 편을 들면서 싸웁니다.\\n요 년 난거 보라.\\t요 계집애 봐라.\\n놈이 소나이영 말 호곡.\\t남의 남자와 얘기 하고.\\n벌써부터.\\t벌써부터.\\n서방질 햄시냐?\\t남자를 밝히느냐?\\n아니우다 게.\\t아닙니다.\\n바당드레 가단.\\t바다에 가다가.\\n질 모른 사롬 이시난.\\t길 모르는 사람이 있어서.\\n질 고르쳐 줬수게.\\t길 가르켜 줬습니다.\\n아이구 게.\\t아이구.\\n큰일 났수다.\\t큰일 났습니다.\\n무사, 경 들락켬시니?\\t왜, 그렇게 들락키느냐?\\n와리지 말앙.\\t너무 서두르지 말고.\\n촌촌이 고라 보게.\\t천천히 말해 보아라.\\n경호난 양.\\t그러니까요.\\n영 호곡.\\t이렇게 하고.\\n정 호곡 했수게.\\t저렇게 하고 했습니다.\\n게난.\\t그러니까.\\n욕심 내멍 살민.\\t욕심 내면서 살면.\\n경 혼다.\\t그렇게 된다.\\n새각씨야.\\t색씨.\\n그거 앗아 도라.\\t그거 가져다 줘라.\\n무사.\\t왜.\\n당신은 손 엇수과?\\t당신은 손이 없어요?\\n발 엇수과?\\t발이 없어요?\\n경 호지 말앙.\\t그러지 말고.\\n좀 앗아 주민.\\t좀 가져다 주면.\\n어떵 호느냐.\\t안돼냐?\\n버릇나 마씀!\\t버릇 됩니다!\\n밸 놈의 요망진 소리.\\t별나고 약아 빠진 소리.\\n그만 호라.\\t그만 해라.\\n이제 가게, 짐 촐리라.\\t이제 가자, 짐 꾸려라.\\n알았수다.\\t알았습니다.\\n아이덜도 도랑 가카 마씀?\\t아이들도 데리고 갈까요?\\n기여, 모딱 고치 가게.\\t그래, 모두 같이 가자.\\n하르방, 할망이 좋아할거여.\\t할아버지, 할머니가 좋아하실거야.\\n야게기에 때 밀라.\\t목아지에 때를 밀라.\\n저깽이영, 정겡이도 밀곡.\\t겨드랑이랑, 종아리도 밀고.\\n옷 벗엉, 강알 트멍도 밀라.\\t옷 벗어서, 사타구니 사이도 밀어라.\\n사롬 몸은 곱닥해사 혼다.\\t사람 몸은 깨끗해야 한다.\\n무신 걸 먹으코?\\t무엇을 먹을까?\\n게메 양, 제주도에만 이신 거 먹게 마씀.\\t글쎄요, 제주도에만 있는 것을 먹읍시다.\\n그젱기에, 보말에, 옥돔생성, 또 있수다.\\t소라에, 보말에, 옥돔생선, 또 있어요.\\n모멀 범벅에 자리젯!\\t메밀 범벅에 자리젓갈!\\n먹을 것도 촘 하영 있저.\\t먹을 것도 참 많이 있네.\\n무사, 난 호꼼만 줨쑤과?\\t왜, 나는 조그만 줍니까?\\n이놈아!\\t이놈아!\\n욕심 먹은 눈에는.\\t욕심을 가진 눈에는.\\n지 껏이 족아 베곡.\\t자기 것은 작게 보이고.\\n놈의 껏은 커 베는 거여!\\t남의 것은 크게 보이는 것이야!\\n똑고치 나눈 것을 어찌 크다 족다 햄시니?\\t똑같이 나눈 것을 어찌 크다 작다 하느냐?\\n어멍이 용심 난.\\t어머니가 화가 나서.\\n옴찍 안햄쑤다.\\t꼼짝 안합니다.\\n경 호곡 말곡!\\t그렇고 말고!\\n믿던 낭에 곰팽이 핀댕 게마는.\\t믿던 나무에 곰팡이가 핀다고 하더니만.\\n하도 억울호게 당해부런 아니가.\\t하도 억울하게 당해서 아니냐.\\n어멍 모심 달래 드리라!\\t어머니 마음 위로해 드려라!\\n독이사 울엉 날이 새주마는.\\t닭이야 울면 날이 밝아 오지만.\\n내사 울엉 어느 날 새리.\\t내가 울면 어느 날 밝을 수 있으랴.\\n독의 목에 통쇠나 종강.\\t닭의 목에 자물쇠나 잠궈서.\\n내가 대신 울어나 보카.\\t내가 대신 울어나 볼까.\\n요 바당에.\\t여기 바다에.\\n요 물에 들언 좀복.\\t여기 물에 들어가서 전복.\\n구젱기.\\t소라.\\n고득하게 잡아당.\\t가득하게 잡아다가.\\n혼 푼.\\t한 푼.\\n두 푼.\\t두 푼.\\n모이단 보난.\\t모이다 보니까.\\n서방님 술깝에.\\t남편의 술값에.\\n몬딱 들어 감쩌.\\t모조리 들어 가더라.\\n두렁청 호게.\\t정신없이 급하게.\\n다울리멍.\\t재촉해서.\\n일호지 말라.\\t일하지 마라.\\n바농 존둥이.\\t바늘 허리를.\\n졸라 메영.\\t졸라 매어서.\\n바농질 되는 거.\\t바느질 되는 거.\\n봔디야?\\t봤느냐?\\n촌촌히 생각호멍.\\t천천히 생각하면서.\\n호나씩 해사.\\t하나씩 해야.\\n일이 된다.\\t일이 된다.\\n살당 보민 고생홀 때도 있곡.\\t살다 보면 고생할 때도 있고.\\n어려웡 쓸어질 때도 있저.\\t어려워서 쓰러질 때도 있단다.\\n경해도, 허천 베레지 말라.\\t그래도, 한눈 팔아서 가지 말아라.\\n곳작 호게 걸어 감시민.\\t곧게 걸어 가노라면.\\n나종엔 꼭 성공혼다.\\t나중엔 꼭 성공한다.\\n한림공원에 강 봅디가?\\t한림공원에 가서 보았습니까?\\n밸의 밸, 낭이랑 꽃이랑 잘도 곱디다.\\t별의 별, 나무랑 꽃이랑 잘도 아름답습니다.\\n소랑호는 사롬은 꼭 강 봐사 혼댄 마씀.\\t사랑하는 사람은 꼭 가서 봐야 한다고 합니다.\\n경 해사, 소랑호멍 잘 산댄 고릅디다.\\t그래야, 사랑하면서 잘 산다고 합니다.\\n서울서 온 소나이 제주 비바리에 미쳐 부런.\\t서울에서 온 사나이 제주 처녀에 미쳐 버리니까.\\n오늘 가카, 넬 가카, 호단 보난 옴짝 못핸 살암서라.\\t오늘 갈까, 내일 갈까, 하다가 보니 꼼짝 못해서 살고 있더라.\\n새 각씨, 무사 안 왐쑤과?\\t색씨, 왜 안 옵니까?\\n어떵 된 거 아니우꽈?\\t어떻게 된 거 아닙니까?\\n강, 돌앙 옵서. 무신걸 경 몽캠신고?\\t가서, 데리고 오십시오. 무었을 그렇게 늑장부리고 있는 건가?\\n오늘랑 우리 밭디 마농 심거 줍서.\\t오늘은 우리 밭에 마늘 심어 주십시오.\\n경 홉주마! 겐디, 비 옴직 해염쑤다.\\t그렇게 합시다! 그런데, 비가 올 것 같습니다.\\n동그레 구름이 시커멍 햄신게 마씀.\\t동쪽으로 구름이 시커멓게 되고 있습니다.\\n게민, 호꼼 있당 와 줍서\\t그럼, 조금 있다가 와 주십시오.\\n아척부터 조녁까지.\\t아침부터 저녁까지.\\n두리 둥실 사랑 호곡.\\t두 사람이 둥실 사랑도 하고.\\n구경 호곡.\\t구경도 하고.\\n경 호단 보난.\\t그렇게 하다 보니.\\n꽝이 복삭하우다.\\t뼈가 폭삭 주저앉는다. \\n소랑 홀 땐 솔째기 골라.\\t사랑 할 때는 살그머니 말해라.\\n누게 들엉 웃나.\\t누가 들으면 웃는다.\\n아무도 몰르게.\\t아무도 모르게.\\n느영 나영만 솔째기 호게.\\t너하고 나하고만 살그머니 하자.\\n어멍이영 고치 옵세.\\t어머니랑 같이 오십시오.\\n오당그네.\\t오다가.\\n영 호곡, 정 호곡 홉서.\\t이렇게 하고, 저렇게 하고 하십시오.\\n무사, 경 숨 고끼멍 고람서?\\t왜, 그렇게 숨차게 말하는가?\\n짐 진놈이 팡을 촛주게.\\t짐을 진 사람이 짐 부릴 곳을 찾는 법이네.\\n게난, 걱정 말앙 고만이 이서.\\t그러니, 걱정 말고서 가만히 있게.\\n저기, 요새 애들 옷 입언 댕기는 거 봅서.\\t저기, 요새 애들 옷 입고서 다니는 것 보십시오.\\n허벅지도 내 놓곡.\\t허벅다리도 내 놓고.\\n베또롱도 내 놓곡.\\t배꼽도 내 놓고.\\n그거, 무슨 요망들이라!\\t그게, 무슨 별짓들이야!\\n경 말앙, 몬뜰락 벗엉 댕기주 게.\\t그러지 말고, 모조리 벗고서 다니지.\\n호꼼 미안하우다.\\t좀 실례합니다.\\n이게 얼마꽈?\\t이 것이 얼마입니까?\\n오천원 마씀.\\t오천원 입니다.\\n호꼼만 싸게 안되카 마씀?\\t조금만 싸게 안될까요?\\n경 해사, 다시 올 거 아니꽈?\\t그렇게 해야, 다시 올 거 아닙니까?\\n한락산드레 가젱 호민 어떵 갑니까?\\t한라산으로 가려 하면 어떻게 갑니까?\\n바당드렌 어떵 갑니까?\\t바다에는 어떻게 갑니까?\\n차 타젱 호민, 하영 가사 홉니까?\\t차를 타려고 하면, 많이 가야 합니까?\\n제주도엔 가당 봐도 바당이우다, 양!\\t제주도엔 가다가 봐도 바다입니다, 예!\\n들어 왕, 놀당 갑서.\\t들어 와서, 놀다가 가십시오.\\n경 호카 마씀.\\t그렇게 할까요.\\n여기, 불 조끄띠 안즙서.\\t여기, 불 옆으로 앉으십시오.\\n똣똣하우다.\\t따뜻합니다.\\n촘말, 맨도롱혼 게 좋수다.\\t정말, 따뜻한 것이 좋습니다.\\n무싱거옌 소곤닥 햄시니?\\t무엇이라고 귓속말을 하고 있느냐?\\n비바리, 씨집 보내키옌 마씀.\\t처녀, 시집 보내겠다고 말합니다.\\n경 해사주게, 잘 생각했저.\\t그렇게 해야지, 잘 생각했구나.\\n똘년은 나이 차민 혼저 보내 산다.\\t딸은 나이가 들면 빨리 시집보내야 한다.\\n경 들럭퀴지 말라.\\t그렇게 안절부절 날뛰지 말아라.\\n초든초든 말 들엉 생각호라.\\t차근차근 말을 듣고서 생각해라.\\n어떵 혼 일인지 알아사 홀 꺼 아닌가?\\t어떻게 된 일인지 알아야 할 것이 아니냐?\\n경 하당 숨 넘어 가키여!\\t그렇게 하다가 숨 넘어 가겠다!\\n돌코롬 혼 거 엇수과?\\t달콤한 거 없습니까?\\n게메, 어떵 것이 돌코롬 호코?\\t글쎄, 어떤 것이 달콤할까?\\n사탕을 주카 마씀?\\t사탕을 주면 어떻습니까?\\n아니우다.\\t아닙니다.\\n게민 솔문 독새기나 호나 줍서.\\t그럼 삶은 달걀이나 하나 주십시오.\\n어드레 감쑤과? 이래 옵서.\\t어디로 가십니까? 이리로 오십시오.\\n저들멍 살지 맙서.\\t걱정하면서 살지 마십시오.\\n영 살아도 혼 세상, 정 살아도 혼 세상.\\t이렇게 살아도 한 세상, 저렇게 살아도 한 세상.\\n두리 둥실 느영 나영 소랑이나 호게마씀.\\t둘이 둥실 너하고 나하고 사랑이나 합시다. \\n앞 낭에 아진 새야, 무사 경 울엄시냐?\\t앞 나무에 앉은 새야, 왜 그리 울고 있느냐?\\n서울간 우리 서방, 재게 오랜 울엄시냐?\\t서울 간 우리 남편, 빨리 오라고 울고 있느냐?\\n저승 간 우리 어멍, 그리원 울엄시냐?\\t저승 간 우리 어머니, 그리워서 울고 있느냐?\\n내 모심, 아는 건 저 생이 뿐이구나.\\t내 마음, 아는 건 저 새 뿐이로구나.\\n저기 보라, 느네 아방, 어멍 혼디 감쩌.\\t저기 봐라, 너희 아버지, 어머니 함께 가네.\\n게메, 어디 감신고?\\t글쎄, 어디 가고 있는가?\\n하르방, 할망은 어신게!\\t할아버지, 할머니는 없네!\\n괸당집이 상 난에 감실거우다.\\t친족집에 상을 당해서 가고 있을겁니다.\\n무싱거 하미꽈?\\t무엇을 하십니까?\\n도르멍 옵서. 무사 경 다울렴디?\\t빨리 오십시오. 왜 그렇게 바쁘게 보채느냐?\\n해 저물민 어떵 홉니까?\\t해 저물면 어떻게 합니까?\\n왁왁호민 질 잃어부렁 큰 일 납니다.\\t캄캄하면 길 잃어버려 큰 일 납니다.\\n강 보라. 니네 새서방 왔저.\\t가서 보라. 너희 새신랑이 왔다.\\n아이구, 부치루완 어떵 호코 마씀.\\t아이구, 부끄러워서 어떻게 합니까.\\n앗다. 양양게 피우지 말라.\\t어허. 호강에 넘친 소리 하지 마라.\\n혼저 가그네 '옵디가' 인사 호라.\\t어서 가서 '오셨습니까'하고 인사 해라.\\n어디 갔단 왐수과?\\t어디 갔다 오십니까?\\n밭디 갔다 왐쩌. 어드레 감디?\\t밭에 갔다 온다. 어디에 가느냐?\\n바당에 괴기 낚으레 감쑤다.\\t바다에 고기 잡으로 갑니다.\\n절 쎄어서라. 조심호곡 혼저 오래.\\t파도가 거세더라. 조심하고 일찍 오너라.\\n이젠, 니 인생은 니가 알앙 가야 혼다.\\t이제는, 너의 인생은 네가 알아서 가야 한다.\\n알았수다. 잘 살크메 걱정 맙서.\\t알았습니다. 잘 살겠으니 걱정 마십시오.\\n기여. 아는 질도 들으멍 가라.\\t그래. 아는 길도 물으면서 가라.\\n조심하멍 가는 질은 펜안혼다.\\t조심하면서 가는 길은 편안하다.\\n무싱거 하미꽈? 혼저 옵서게.\\t무엇을 하십니까? 어서 오십시오.\\n기여 알았저. 혼저 글라.\\t그래 알았다. 어서 가자.\\n푸더지질랑 말앙 옵서.\\t쓰러지지는 말고 오십시오.\\n돌, 조심호곡 고짝 옵세.\\t돌, 조심하고 곧장 오십시오.\\n제주도 비바리가 경도 좋으냐?\\t제주도 처녀가 그렇게도 좋으냐?\\n고랑은 몰라 마씀. 왕 봐사 알아집니다.\\t말로 해서는 모릅니다. 와서 보아야 알 수 있습니다.\\n모심도 좋고, 얼굴도 좋고, 집안도 좋아 마씀.\\t마음도 좋고, 얼굴도 좋고, 집안도 좋습니다.\\n여보, 나 등땡이 고렵다.\\t여보 나 등허리가 가렵다.\\n어디, 영 홉서, 보게.\\t어디, 이렇게 하세요, 보게.\\n아이구, 베렝이 물어싱게 마씸.\\t아이구, 벌레가 물었네요.\\n약 볼라사 하쿠다.\\t약 발라야 하겠습니다. \\n돌아 맨 도새기야!\\t달아 맨 돼지야!\\n니 신세가 불쌍호다.\\t너의 신세가 불쌍하구나.\\n아이구, 기시린 도새기야!\\t아이구, 불에 구워지는 돼지야!\\n나 걱정 말앙 니 죽어 가능 거나 걱정호라.\\t내 걱정은 말고 너 죽어 가는 거나 걱정하거라.\\n죽어 가능 게 벨것 다 걱정햄시니?\\t죽어 가는 것이 별 것을 다 걱정하고 있니?\\n돌 고냥으로 보라.\\t돌 구멍으로 보아라.\\n꽃들이 모들락 호게 피어 있저.\\t꽃들이 모두 모여서 피어 있구나.\\n우리 님의 얼굴도, 꽃치 되언 피엄쩌.\\t우리 님의 얼굴도, 꽃이 되어 피고 있구나.\\n소랑 소랑 소랑꽃도 고득호게 피엄쩌.\\t사랑 사랑 사랑꽃도 가득하게 피고 있구나.\\n괴기, 멍텅혼 건 잡아나 먹곡 낭, 멍텅혼 건 불이나 솜곡 돌, 멍텅혼 건 담이나 닷나.\\t고기, 멍청한 것은 잡아나 먹고 나무, 멍청한 것은 불이나 때고 돌, 멍청한 것은 담이나 쌓는다.\\n사롬, 멍텅혼 건 아무 것에도 못 쓰키여!\\t사람, 멍청한 것은 아무 것에도 못 쓰겠구나!\\n느영, 나영, 둘이 둥실 낮에 낮이나, 밤에 밤이나 쌍소랑 이로구나.\\t너하고 나하고 두 사람이 둥실 낮에 낮이나, 밤에 밤이나, 서로 사랑 이로구나.\\n아척에 우는 생인, 배가 고팡 울고요.\\t아침에 우는 새는, 배가 고파 울고요.\\n조녁에 우는 생인, 님 그리웡 운다.\\t저녁에 우는 새는, 님 그리워서 운다.\\n널븐 바당 앞을 재여, 혼질 두질 나아가곡 짚은 바당 짚일 재여, 혼질 두질 들어가민 저승길이 왔닥 갔닥.\\t넓은 바다 앞을 재면서, 한 길 두 길 앞으로 가고 깊은 바다 깊이를 재며, 한 길 두 길 들어가면 저승길이 오락 가락.\\n이어도 사나, 이어도 사나, 이어도가 저승질이 반이옌 혼다.\\t이어도 사나, 이어도 사나, 이어도가 저승길의 반이라 한다.\\n새서방 들어 왐쩌.\\t새신랑 들어 온다.\\n저리 고쩌 사불라 영 홉서.\\t저리로 비켜 서라 이렇게 하십시오.\\n호꼼만 보게마씀!\\t조금만 봅시다!\\n몰치락 혼게, 잘도 생겼저.\\t알맞게 살찐 모습이, 잘 생겼구나.\\n말도 안 득곡, 일도 안 호곡, 촘말로, 경 호민 뚜러메당 데껴 불키여.\\t말도 안 듣고, 일도 안 하고, 정말, 그렇게 하면 들러메어 던져 버리겠어.\\n사롬은 일해사 살아 지는거여!\\t사람은 일을 해야 살 수 있는 거야!\\n호꼼씩 먹으라. 숨 넘어가키여. 배 고판 마씀.\\t조금씩 먹어라. 숨 넘어간다. 배 고파서 말입니다.\\n경 먹당은 숨 고끼키여! 누게 도둑질 안하메 촌촌히 먹으라.\\t그렇게 먹다간 숨이 막히겠다! 누가 훔쳐 가지 않으니 천천히 먹어라.\\n사롬 있수과? 누게꽈? 웃 동네 갑돌이 어멍 이우다. \\t사람 있습니까? 누구십니까? 윗 동네 갑돌이 어머니 입니다. \\n아이구, 어떵 호난 와 집디가 게?\\t아이구, 어떻게 해서 왔습니까?\\n우리 똘은 아무것도 몰라 마씸. 분시 몰른 애기, 설운 애기 우다.\\t우리 딸은 아무것도 모릅니다. 세상 물정 잘 모르는 아이, 어린 아이입니다.\\n잘 돌앙 살아 줍서 고르치멍 살아사 할 꺼우다.\\t잘 데리고 살아 주십시오. 가르치면서 살아야 할 겁니다.\\n무신 걸 잘 하구랜 큰 소리꽈?\\t무엇을 잘 했다고 큰 소리입니까?\\n똥 뀐 놈이 성 냄쩌.\\t방귀 뀐 놈이 화 내고 있네.\\n누겐 입 어선 말 못 햄시카 부댄?\\t누가 입이 없어서 말을 못 하는줄 아는가?\\n지랭이도 볼부민 꿈틀락홉니다, 양!\\t지렁이도 밟으면 꿈틀거립니다, 예!\\n나 모심 몰르쿠과? 당신만 보민 가슴이 금착 금착 영도 못하곡, 정도 못하곡, 나 모심, 나도 몰르쿠다.\\t제 마음 모르겠습니까? 당신만 보면 가슴이 두근 두근 이러지도 못하고, 저러지도 못하고, 제 마음, 저도 모르겠습니다.\\n어느제 옵디가? 혼 사나흘 됐수다. 다들 펜안 했수과? 어떵 살아 점쑤과?\\t언제 오셨습니까? 한 사나흘 되었습니다. 모두 편안 했습니까? 어떻게 살고 있습니까?\\n씨집가난 어떵 홉디가? 아이고, 말도 말라.\\t시집가니까 어땠습니까? 아이고, 말도 마라.\\n무신 거시 무신 건지, 귀 눈이 왁왁해라.\\t뭐가 뭔지, 눈앞이 캄캄하니 정신이 없더라. \\n서울엔 언제 가쿠과? 갈 때랑 날 도랑 가 줍서.\\t서울에는 언제 가겠습니까? 갈 때는 나를 데리고 가 주십시오.\\n서울 강 무싱 거 호젠? 구경도 호곡, 서울 소랑도 해 보젠 마씀.\\t서울 가서 무엇을 하려고? 구경도 하고, 서울 사랑도 해 보려고요.\\n무사, 무싱 거옌 고릅디가? 솔째기 왕 말홉서, 보저.\\t왜, 뭐라고 말하던가요? 살짝 와서 말하십시오. 들어 봅시다.\\n게메, 말호카, 말카? 속 태우지 말앙 확 홉서게.\\t글쎄, 말할까, 말까? 속 태우지 말고 빨리 하십시오.\\n게민, 놈 혼테랑 아무 말도 호지 맙서, 양?\\t그럼, 남 한테는 아무 말도 하지 마십시오, 네?\\n누게 있수과? 안녕 하우꽈? 아방, 어멍 다 펜안 했수과? 어디 갔당 왐쑤과? 요새 어떵 살미꽈? 좋수과?\\t누구 있습니까? 안녕 하십니까? 아버지, 어머니 모두 편안 하셨습니까? 어디 갔다가 오십니까? 요새 어떻게 사십니까? 좋습니까?\\n어드레 감쑤과? 이래 옵서게.\\t어디로 가십니까? 이리로 오십시오.\\n혼저 혼저 옵서게. 솔짝 솔짝 옵서게.\\t어서 어서 오십시오. 살짝 살짝 오십시오.\\n느영 나영, 두리 둥실 소랑이나 호게 마씀.\\t너랑 나랑, 둘이 둥실 사랑이나 합시다요.\\n촘말로 가쿠과?\\t정말로 가시겠습니까?\\n게메, 홀수가 엇다게.\\t글세, 어쩔수가 없단다.\\n게민, 나 혼자만 어떵 살랜 마씀?\\t그럼, 나 혼자만 어떻게 살라고 하십니까?\\n어떵 호느니, 호꼼만 촘앙 살암시라. 떠나는 내 모심도 울어 지키여.\\t어쩔 수 없지 않느냐, 조금만 참고 살고 있어다오. 떠나는 내 마음도 울고 싶단다.\\n우이 어멍 사는 바당, 우리 목숨 키운 바당 동에 가민.\\t우리 어머니 사는 바다, 우리 목숨을 키운 바다 동쪽으로 가면\\n동의 바당, 서에 가민 서의 바당 보름 불민 파도 치곡, 비가 오민 날 저물곡.\\t동의 바다, 서쪽으로 가면 서의 바다 바람이 불면 파도가 치고, 비가 오면 날이 저물고\\n하늘 고튼 요왕님아, 명주 바당 맨들어서 우리 어멍 설은 가슴, 펭안호게 호여 줍서.\\t하늘같은 용왕님이여, 명주실같이 잔잔한 바다 만들어서 우리 어머니 서러운 가슴, 편안하게 하여 주소서.\\n어떵 살코 마씸? 무사 경 저들멍 살암쑤과? 촘앙 삽서. 경 햄시민 살아짐니다.\\t어떻게 살면 되겠습니까? 왜 그렇게 걱정하면서 사십니까? 참으면서 사십시오. 그러다 보면 살아 갈 수 있습니다.\\n혼저 옵서게 혼저 오라게 고만 십서게.\\t어서 오십시오 어서 오너라 잠깐 있으십시오.\\n고만 시라게 무신 거 햄쑤과?\\t잠깐 있어라 무엇을 하십니까?\\n무신 거 햄시니? 무사 경 급호꽈?\\t무엇을 하느냐? 왜 그렇게 급하십니까?\\n무사 경 급호냐? 게메 마씸, 확 옵서게.\\t왜 그렇게 급하냐? 그래요, 빨리 오십시오.\\n기여 게, 확 오라게.\\t그래, 빨리 오너라\\n새각씨 구홀 때랑 모심을 보라. 얼굴 곱들락 혼 것은 혼 덜이여!\\t색시 구할 때는 마음을 봐라. 얼굴 고운 것은 한 달이여!\\n놀씬호곡 멋진 것은 혼 해여! 모심 착한 건, 십 년이 되곡 백 년이 되도 저 소낭 추룩 청청혼다.\\t날씬하고 멋진 것은 일 년이야! 마음 착한 건, 십 년이 되고 백 년이 되도 저 소나무 처럼 청청하다.\\n어느 모실에 갑돌이옌 호는 소나이와, 갑순이옌 호는 비바리가 살았수게. 둘이는 좋아 하멍도 말은 못하곡, 속은 타멍도 그 까짓거 해여십주. 경 호단, 갑순이가 씨집가게 되난, 그제사 갑돌이가 `아이구! 어멍아!` 하멍 울었수게.\\t어느 마을에 갑돌이라고 하는 사나이와 갑순이라고 하는 처녀가 살았습니다. 두 사람은 좋아 하면서도 말은 못하고 속으로는 타면서도 그 까짓거 하였답니다. 그렇게 하다가 갑순이가 시집을 가게 되니까 그때야 갑돌이가 `아이구! 어머니!` 하면서 울었습니다.\\n경 해도 어떵 해여 마씀, 홀수가 어서십주. 갑돌이도 부에가 난, 장게를 가 부렀수게. 장게 가는 날은 갑순이도 정지에서 울었수게. 갑순이 모심도 갑돌이 뿐이주만 어떵 홉니까? 사롬 팔재 촘, 몰르능거라 마씀. 게난, 어떵 살코? 저들멍 살지 맙서. 살당 보민, 타고난 팔재대로 다 살아 짐니다.\\t그렇게 하더라도 어떻게 합니까? 할 수가 없었습니다. 갑돌이도 화가 나서 장가를 가 버렸습니다. 장가가는 날은 갑순이도 부엌에서 울었습니다. 갑순이 마음도 갑돌이 뿐이었습니다만 어찌 합니까? 사람 팔자는 참으로 모르는 것입니다. 그러니 어떻게 살까? 걱정하면서 살지 마십시오. 살다 보면 타고난 운명대로 다 살기 마련입니다.\\n물 허벅 정 가는 저 비바리야! 물만 지지 말앙, 이 소나이 모심도 정 가도라. 소랑 혼댄 말은 못하곡, 돌고망에 고분 생이고치, 가슴만 톨랑 톨랑!\\t물동이 지고 가는 저 처녀야! 물만 지고 가지 말고 이 총각의 마음도 지고 가다오. 사랑한다고 말은 못하고 돌틈에 숨은 새 같이 가슴만 철렁 철렁!\\n어떵 호민 조코 마씀? 멍는거나 고트민 맨도롱 혼 때 호로록 들여싸 불기나 혼다. 물이나 되시민 허벅 속으로 퐁당 들어가기나 혼다.\\t어떻게 하면 좋겠습니까요? 먹을 수 있는 것이라면 따뜻할 때 후루룩 마셔 버리기나 한다 물이나 된다면 물동이 속으로 풍덩 들어 가기나 한다.\\n영도 못하곡, 정도 못하곡, 비바리야, 촘말로 죽어 지키여! 소나이 타는 모심을 호꼼 만이라도 알아도라.\\t이렇게도 못하고, 저렇게도 못하고, 처녀야! 참말로 죽겠다. 총각이 타는 마음을 조금 만이라도 알아다오.\\n우리 제주도 하르방들이 호는 말이 있수다. 밭을 살 땐 에염을 보라. 집을 살 땐 이웃을 보라. 산을 사컨 빌레를 보라. 사돈을 홀 땐 근본을 보라.\\t우리 제주도 할아버지들이 하시는 말씀이 있습니다. 밭을 살 때는 밭 옆을 보고 사라. 집을 살 때는 이웃들을 보고 사라. 산을 사려면 암반을 보고 사라. 사돈을 맺을 때는 집안의 뿌리를 보고하라.\\n그리고 우리 어멍들이 고르친 말이 있수다. 홈생이 말라. 촐람생이질 말라. 간세 말라. 느링테질 말라. 요망진 체 말라. 거들락 거리지 말라. 노미 모심 아프게 호지 말라.\\t그리고 우리 어머니들이 가르친 말씀이 있습니다. 어리광 부리지 말라. 경솔하게 나서지 말라. 게으르지 말라. 느림보가 되지 말라. 꾀부리며 잘난 척 말라. 거만하지 말라. 남의 마음 아프게 하지 말라.\\n경해사 호는 일들이 펜안해 진다. 살당 보민 잊어 불 때도 있수다만 우리 하르방, 할망, 아방, 어멍들이 혼 말씀들은 촘말로 소중한 교훈들이우다.\\t그래야 하는 일들이 편안히 잘된다. 살다 보면 잊어버릴 대가 있습니다만 우리 할아버지, 할머니, 아버지, 어머니들이 하신 말씀들은 정말로 소중한 교훈들입니다.\\n\""
            ]
          },
          "metadata": {
            "tags": []
          },
          "execution_count": 6
        }
      ]
    },
    {
      "cell_type": "code",
      "metadata": {
        "id": "9G9AfxkZqGq6",
        "colab_type": "code",
        "colab": {
          "base_uri": "https://localhost:8080/",
          "height": 737
        },
        "outputId": "e522b474-8a65-4a13-c3db-b3d5258309cd"
      },
      "source": [
        "\n",
        "f = open('/content/dataset.txt', 'r').read().split('\\n')\n",
        "f[:40]"
      ],
      "execution_count": 7,
      "outputs": [
        {
          "output_type": "execute_result",
          "data": {
            "text/plain": [
              "['버래기\\t넘치도록',\n",
              " '강생이\\t강아지',\n",
              " '부각허다\\t부글부글하다',\n",
              " '강알\\t가랭이',\n",
              " '부끄다\\t부풀어 오르다',\n",
              " '개끔\\t거품',\n",
              " '분시몰랑\\t정황도 모르고',\n",
              " '개작개작\\t밥을 추하게 먹는 모습',\n",
              " '삐암데기\\t뺨',\n",
              " '검질\\t잡초',\n",
              " '속슴허라\\t말하지말라',\n",
              " '게미융허다\\t희미하다',\n",
              " '솜쫄르멍\\t숨말힐듯한 상황 참으면서',\n",
              " '게작헌\\t입이 큰 모양',\n",
              " '쉰달이\\t쉰 밥으로만든 유산식품',\n",
              " '고라불켜\\t고자질한다',\n",
              " '심토맥이\\t마음 씀씀이',\n",
              " '곡기다\\t숨막히다',\n",
              " '영\\t이렇게',\n",
              " '골다\\t잘게부수다',\n",
              " '골다\\t말하다',\n",
              " '왁왁허다\\t캄캄하다',\n",
              " '곱지다\\t숨기다',\n",
              " '요망지다\\t똑똑하다',\n",
              " '과랑과랑\\t햇살이 눈부시게 비추는모습',\n",
              " '우영밭\\t텃밭',\n",
              " '괸당\\t친족',\n",
              " '웃뜨리\\t산간마을',\n",
              " '굽\\t밑바닥',\n",
              " '재짝재짝\\t걷는 모습',\n",
              " '기시리다\\t초벌로 불에 태우다',\n",
              " '제라헌\\t제대로 된',\n",
              " '꽝\\t뼈',\n",
              " '조그물다\\t어떤 결심을 하기위한 다짐',\n",
              " '눈물촐래\\t눈물의 반찬',\n",
              " '주레사니\\t보리피리',\n",
              " '니치름\\t침',\n",
              " '촘아가라\\t어이없다',\n",
              " '데껴불켜\\t던져버린다',\n",
              " '칭원허다\\t원통하다']"
            ]
          },
          "metadata": {
            "tags": []
          },
          "execution_count": 7
        }
      ]
    },
    {
      "cell_type": "code",
      "metadata": {
        "id": "XcCZpRR_qSNq",
        "colab_type": "code",
        "colab": {
          "base_uri": "https://localhost:8080/",
          "height": 208
        },
        "outputId": "cd841584-6b8d-477a-868d-a3e4e504fabe"
      },
      "source": [
        "with open('/content/dataset.txt', 'r', encoding='utf-8') as f:\n",
        "    lines = f.read().split('\\n') # 각 문장. 일단 줄바꿈으로 한줄씩 불러옴\n",
        "    \n",
        "\n",
        "input_data, output_data = lines.split('\\t') # 리스르 형태로 이미 포함되있는 탭으로 나누기 어렵..."
      ],
      "execution_count": 8,
      "outputs": [
        {
          "output_type": "error",
          "ename": "AttributeError",
          "evalue": "ignored",
          "traceback": [
            "\u001b[0;31m---------------------------------------------------------------------------\u001b[0m",
            "\u001b[0;31mAttributeError\u001b[0m                            Traceback (most recent call last)",
            "\u001b[0;32m<ipython-input-8-ca26e57960cf>\u001b[0m in \u001b[0;36m<module>\u001b[0;34m()\u001b[0m\n\u001b[1;32m      3\u001b[0m \u001b[0;34m\u001b[0m\u001b[0m\n\u001b[1;32m      4\u001b[0m \u001b[0;34m\u001b[0m\u001b[0m\n\u001b[0;32m----> 5\u001b[0;31m \u001b[0minput_data\u001b[0m\u001b[0;34m,\u001b[0m \u001b[0moutput_data\u001b[0m \u001b[0;34m=\u001b[0m \u001b[0mlines\u001b[0m\u001b[0;34m.\u001b[0m\u001b[0msplit\u001b[0m\u001b[0;34m(\u001b[0m\u001b[0;34m'\\t'\u001b[0m\u001b[0;34m)\u001b[0m \u001b[0;31m# 리스르 형태로 이미 포함되있는 탭으로 나누기 어렵...\u001b[0m\u001b[0;34m\u001b[0m\u001b[0;34m\u001b[0m\u001b[0m\n\u001b[0m",
            "\u001b[0;31mAttributeError\u001b[0m: 'list' object has no attribute 'split'"
          ]
        }
      ]
    },
    {
      "cell_type": "code",
      "metadata": {
        "id": "C2lAC_OWqUfj",
        "colab_type": "code",
        "colab": {
          "base_uri": "https://localhost:8080/",
          "height": 35
        },
        "outputId": "c2e0948e-cfc5-44df-853f-981ec6ef1b47"
      },
      "source": [
        "# 데이터프레임 형태로 불러와서, 각각의 열 인스턴스하고 리스트 만들기\n",
        "import pandas as pd\n",
        "data= pd.read_csv('/content/dataset.txt', sep='\\t',encoding='utf-8',names=['jeju','real']) # ,names=['제주어','표준어']\n",
        "len(data)"
      ],
      "execution_count": 9,
      "outputs": [
        {
          "output_type": "execute_result",
          "data": {
            "text/plain": [
              "1203"
            ]
          },
          "metadata": {
            "tags": []
          },
          "execution_count": 9
        }
      ]
    },
    {
      "cell_type": "code",
      "metadata": {
        "id": "s1sxI5ieqV0C",
        "colab_type": "code",
        "colab": {
          "base_uri": "https://localhost:8080/",
          "height": 504
        },
        "outputId": "084b658e-ae35-4479-f393-c225affc7a75"
      },
      "source": [
        "data"
      ],
      "execution_count": 10,
      "outputs": [
        {
          "output_type": "execute_result",
          "data": {
            "text/html": [
              "<div>\n",
              "<style scoped>\n",
              "    .dataframe tbody tr th:only-of-type {\n",
              "        vertical-align: middle;\n",
              "    }\n",
              "\n",
              "    .dataframe tbody tr th {\n",
              "        vertical-align: top;\n",
              "    }\n",
              "\n",
              "    .dataframe thead th {\n",
              "        text-align: right;\n",
              "    }\n",
              "</style>\n",
              "<table border=\"1\" class=\"dataframe\">\n",
              "  <thead>\n",
              "    <tr style=\"text-align: right;\">\n",
              "      <th></th>\n",
              "      <th>jeju</th>\n",
              "      <th>real</th>\n",
              "    </tr>\n",
              "  </thead>\n",
              "  <tbody>\n",
              "    <tr>\n",
              "      <th>0</th>\n",
              "      <td>버래기</td>\n",
              "      <td>넘치도록</td>\n",
              "    </tr>\n",
              "    <tr>\n",
              "      <th>1</th>\n",
              "      <td>강생이</td>\n",
              "      <td>강아지</td>\n",
              "    </tr>\n",
              "    <tr>\n",
              "      <th>2</th>\n",
              "      <td>부각허다</td>\n",
              "      <td>부글부글하다</td>\n",
              "    </tr>\n",
              "    <tr>\n",
              "      <th>3</th>\n",
              "      <td>강알</td>\n",
              "      <td>가랭이</td>\n",
              "    </tr>\n",
              "    <tr>\n",
              "      <th>4</th>\n",
              "      <td>부끄다</td>\n",
              "      <td>부풀어 오르다</td>\n",
              "    </tr>\n",
              "    <tr>\n",
              "      <th>...</th>\n",
              "      <td>...</td>\n",
              "      <td>...</td>\n",
              "    </tr>\n",
              "    <tr>\n",
              "      <th>1198</th>\n",
              "      <td>어떵 호민 조코 마씀? 멍는거나 고트민 맨도롱 혼 때 호로록 들여싸 불기나 혼다. ...</td>\n",
              "      <td>어떻게 하면 좋겠습니까요? 먹을 수 있는 것이라면 따뜻할 때 후루룩 마셔 버리기나 ...</td>\n",
              "    </tr>\n",
              "    <tr>\n",
              "      <th>1199</th>\n",
              "      <td>영도 못하곡, 정도 못하곡, 비바리야, 촘말로 죽어 지키여! 소나이 타는 모심을 호...</td>\n",
              "      <td>이렇게도 못하고, 저렇게도 못하고, 처녀야! 참말로 죽겠다. 총각이 타는 마음을 조...</td>\n",
              "    </tr>\n",
              "    <tr>\n",
              "      <th>1200</th>\n",
              "      <td>우리 제주도 하르방들이 호는 말이 있수다. 밭을 살 땐 에염을 보라. 집을 살 땐 ...</td>\n",
              "      <td>우리 제주도 할아버지들이 하시는 말씀이 있습니다. 밭을 살 때는 밭 옆을 보고 사라...</td>\n",
              "    </tr>\n",
              "    <tr>\n",
              "      <th>1201</th>\n",
              "      <td>그리고 우리 어멍들이 고르친 말이 있수다. 홈생이 말라. 촐람생이질 말라. 간세 말...</td>\n",
              "      <td>그리고 우리 어머니들이 가르친 말씀이 있습니다. 어리광 부리지 말라. 경솔하게 나서...</td>\n",
              "    </tr>\n",
              "    <tr>\n",
              "      <th>1202</th>\n",
              "      <td>경해사 호는 일들이 펜안해 진다. 살당 보민 잊어 불 때도 있수다만 우리 하르방, ...</td>\n",
              "      <td>그래야 하는 일들이 편안히 잘된다. 살다 보면 잊어버릴 대가 있습니다만 우리 할아버...</td>\n",
              "    </tr>\n",
              "  </tbody>\n",
              "</table>\n",
              "<p>1203 rows × 2 columns</p>\n",
              "</div>"
            ],
            "text/plain": [
              "                                                   jeju                                               real\n",
              "0                                                   버래기                                               넘치도록\n",
              "1                                                   강생이                                                강아지\n",
              "2                                                  부각허다                                             부글부글하다\n",
              "3                                                    강알                                                가랭이\n",
              "4                                                   부끄다                                            부풀어 오르다\n",
              "...                                                 ...                                                ...\n",
              "1198  어떵 호민 조코 마씀? 멍는거나 고트민 맨도롱 혼 때 호로록 들여싸 불기나 혼다. ...  어떻게 하면 좋겠습니까요? 먹을 수 있는 것이라면 따뜻할 때 후루룩 마셔 버리기나 ...\n",
              "1199  영도 못하곡, 정도 못하곡, 비바리야, 촘말로 죽어 지키여! 소나이 타는 모심을 호...  이렇게도 못하고, 저렇게도 못하고, 처녀야! 참말로 죽겠다. 총각이 타는 마음을 조...\n",
              "1200  우리 제주도 하르방들이 호는 말이 있수다. 밭을 살 땐 에염을 보라. 집을 살 땐 ...  우리 제주도 할아버지들이 하시는 말씀이 있습니다. 밭을 살 때는 밭 옆을 보고 사라...\n",
              "1201  그리고 우리 어멍들이 고르친 말이 있수다. 홈생이 말라. 촐람생이질 말라. 간세 말...  그리고 우리 어머니들이 가르친 말씀이 있습니다. 어리광 부리지 말라. 경솔하게 나서...\n",
              "1202  경해사 호는 일들이 펜안해 진다. 살당 보민 잊어 불 때도 있수다만 우리 하르방, ...  그래야 하는 일들이 편안히 잘된다. 살다 보면 잊어버릴 대가 있습니다만 우리 할아버...\n",
              "\n",
              "[1203 rows x 2 columns]"
            ]
          },
          "metadata": {
            "tags": []
          },
          "execution_count": 10
        }
      ]
    },
    {
      "cell_type": "code",
      "metadata": {
        "id": "3aTR9fo5qW-a",
        "colab_type": "code",
        "colab": {
          "base_uri": "https://localhost:8080/",
          "height": 233
        },
        "outputId": "89194c3a-d6ee-4e9c-96c5-477f0f080ce0"
      },
      "source": [
        "input_data , output_data = data.jeju, data.real\n",
        "print(input_data[:10])\n",
        "\n",
        "input_data = list(input_data)\n",
        "input_data[:10]"
      ],
      "execution_count": 11,
      "outputs": [
        {
          "output_type": "stream",
          "text": [
            "0     버래기\n",
            "1     강생이\n",
            "2    부각허다\n",
            "3      강알\n",
            "4     부끄다\n",
            "5      개끔\n",
            "6    분시몰랑\n",
            "7    개작개작\n",
            "8    삐암데기\n",
            "9      검질\n",
            "Name: jeju, dtype: object\n"
          ],
          "name": "stdout"
        },
        {
          "output_type": "execute_result",
          "data": {
            "text/plain": [
              "['버래기', '강생이', '부각허다', '강알', '부끄다', '개끔', '분시몰랑', '개작개작', '삐암데기', '검질']"
            ]
          },
          "metadata": {
            "tags": []
          },
          "execution_count": 11
        }
      ]
    },
    {
      "cell_type": "code",
      "metadata": {
        "id": "n6sJ4JwQqYcS",
        "colab_type": "code",
        "colab": {
          "base_uri": "https://localhost:8080/",
          "height": 235
        },
        "outputId": "7444da76-44c8-4c80-d246-52a450cb485b"
      },
      "source": [
        "print(output_data[:10])\n",
        "\n",
        "output_data = list(output_data)\n",
        "output_data[:10]"
      ],
      "execution_count": 13,
      "outputs": [
        {
          "output_type": "stream",
          "text": [
            "['넘치도록', '강아지', '부글부글하다', '가랭이', '부풀어 오르다', '거품', '정황도 모르고', '밥을 추하게 먹는 모습', '뺨', '잡초']\n"
          ],
          "name": "stdout"
        },
        {
          "output_type": "execute_result",
          "data": {
            "text/plain": [
              "['넘치도록',\n",
              " '강아지',\n",
              " '부글부글하다',\n",
              " '가랭이',\n",
              " '부풀어 오르다',\n",
              " '거품',\n",
              " '정황도 모르고',\n",
              " '밥을 추하게 먹는 모습',\n",
              " '뺨',\n",
              " '잡초']"
            ]
          },
          "metadata": {
            "tags": []
          },
          "execution_count": 13
        }
      ]
    },
    {
      "cell_type": "code",
      "metadata": {
        "id": "nOZ3SAcjqZqL",
        "colab_type": "code",
        "colab": {}
      },
      "source": [
        "input_data = pd.DataFrame(input_data)\n",
        "input_data.to_csv('input.txt',encoding='utf-8',header=False,index=False)\n",
        "\n",
        "output_data = pd.DataFrame(output_data)\n",
        "output_data.to_csv('output.txt',encoding='utf-8',header=False,index=False)"
      ],
      "execution_count": 0,
      "outputs": []
    },
    {
      "cell_type": "markdown",
      "metadata": {
        "id": "cIJp3AD3qic2",
        "colab_type": "text"
      },
      "source": [
        "# 형태소 분석\n",
        "KoNLPy는 다음과 같은 다양한 형태소 분석, 태깅 라이브러리를 파이썬에서 쉽게 사용할 수 있도록 모아놓았다.\n",
        "\n",
        "\n",
        "*  Hannanum: 한나눔. KAIST Semantic Web Research Center 개발.\n",
        "http://semanticweb.kaist.ac.kr/hannanum/\n",
        "\n",
        "*  Kkma: 꼬꼬마. 서울대학교 IDS(Intelligent Data Systems) 연구실 개발.\n",
        "http://kkma.snu.ac.kr/\n",
        "*  Komoran: 코모란. Shineware에서 개발.\n",
        "https://github.com/shin285/KOMORAN\n",
        "\n",
        "*  Mecab: 메카브. 일본어용 형태소 분석기를 한국어를 사용할 수 있도록 수정.\n",
        "https://bitbucket.org/eunjeon/mecab-ko\n",
        "\n",
        "*  Open Korean Text: 오픈 소스 한국어 분석기. 과거 트위터 형태소 분석기.\n",
        "https://github.com/open-korean-text/open-korean-text\n",
        "\n",
        "\n",
        "여기에서는 한나눔, 꼬꼬마, 오픈코리안텍스트 형태소만 예제로 포함하였다.\n",
        "\n",
        "이 클래스들은 다음과 같은 메서드를 공통적으로 제공한다.\n",
        "\n",
        "*  nouns : 명사 추출\n",
        "*  morphs : 형태소 추출\n",
        "*  pos : 품사 부착\n",
        "\n",
        "\n",
        "\n",
        "https://datascienceschool.net/view-notebook/70ce46db4ced4a999c6ec349df0f4eb0/\n",
        "예제 참고"
      ]
    },
    {
      "cell_type": "code",
      "metadata": {
        "id": "c5JuUcpFpgOc",
        "colab_type": "code",
        "colab": {
          "base_uri": "https://localhost:8080/",
          "height": 181
        },
        "outputId": "c8076394-0859-4bc6-8569-95d8d406b537"
      },
      "source": [
        "pip install --upgrade pip"
      ],
      "execution_count": 5,
      "outputs": [
        {
          "output_type": "stream",
          "text": [
            "Collecting pip\n",
            "\u001b[?25l  Downloading https://files.pythonhosted.org/packages/54/0c/d01aa759fdc501a58f431eb594a17495f15b88da142ce14b5845662c13f3/pip-20.0.2-py2.py3-none-any.whl (1.4MB)\n",
            "\u001b[K     |████████████████████████████████| 1.4MB 2.5MB/s \n",
            "\u001b[?25hInstalling collected packages: pip\n",
            "  Found existing installation: pip 19.3.1\n",
            "    Uninstalling pip-19.3.1:\n",
            "      Successfully uninstalled pip-19.3.1\n",
            "Successfully installed pip-20.0.2\n"
          ],
          "name": "stdout"
        }
      ]
    },
    {
      "cell_type": "code",
      "metadata": {
        "id": "iyXfuILdqch6",
        "colab_type": "code",
        "colab": {}
      },
      "source": [
        "from konlpy.tag import *\n",
        "\n",
        "hannanum = Hannanum()\n",
        "kkma = Kkma()\n",
        "komoran = Komoran()\n",
        "#mecab = Mecab()\n",
        "okt = Okt()\n",
        "\n",
        "# KoNLPy’s Mecab() class is not supported on Windows machines."
      ],
      "execution_count": 0,
      "outputs": []
    },
    {
      "cell_type": "code",
      "metadata": {
        "id": "fhKTQQCNqnmT",
        "colab_type": "code",
        "colab": {
          "base_uri": "https://localhost:8080/",
          "height": 55
        },
        "outputId": "b0d31ad9-1da7-4455-8382-ce8b6a184f74"
      },
      "source": [
        "# 줄바꿈 처리되어 있는 원본파일\n",
        "# 위에서 저장한 사투리 =>  input 불러옴\n",
        "jeju_f = open('/content/input.txt', 'r').read()\n",
        "jeju_f"
      ],
      "execution_count": 16,
      "outputs": [
        {
          "output_type": "execute_result",
          "data": {
            "text/plain": [
              "'버래기\\n강생이\\n부각허다\\n강알\\n부끄다\\n개끔\\n분시몰랑\\n개작개작\\n삐암데기\\n검질\\n속슴허라\\n게미융허다\\n솜쫄르멍\\n게작헌\\n쉰달이\\n고라불켜\\n심토맥이\\n곡기다\\n영\\n골다\\n골다\\n왁왁허다\\n곱지다\\n요망지다\\n과랑과랑\\n우영밭\\n괸당\\n웃뜨리\\n굽\\n재짝재짝\\n기시리다\\n제라헌\\n꽝\\n조그물다\\n눈물촐래\\n주레사니\\n니치름\\n촘아가라\\n데껴불켜\\n칭원허다\\n두렁청허다\\n콥데사니\\n들러켬쩌\\n코시롱허다\\n듬삭하다\\n탈\\n멜라지켜\\n통시\\n메기독딱\\n트멍\\n모소완\\n하근디\\n몬뜨글락\\n하다\\n몬직당\\n행글랑이\\n몬짝\\n허당말타\\n몰명허다\\n헌저글라\\n몽케다\\n호썰\\n무리다\\n호야\\n무사\\n흐랑허다\\n배롱허다\\n허운데기\\n배지금허다\\n쪼광\\n물옷\\n센 바당\\n앞바르\\n난바르\\n산목 졸르면 비온다\\n돌 갓쓰민 우친다\\n곰새기 들럭 켬져\\n토끼썼다\\n큰눈\\n소살\\n머정좋다\\n제수가 좋다\\n궐 면했다\\n마당 바랏져\\n큰누\\n작은누\\n절 치대긴다\\n하르방 \\n할망 \\n아방 \\n어멍 \\n비바리 \\n괸당 \\n걸바시 \\n넹바리 \\n다슴아돌 \\n말젯놈 \\n소나이 \\n성님 \\n작산 거 \\n좀녀 \\n촐람생이 \\n홀아방 \\n가달 \\n꼴랑지 \\n구뚱배기 \\n꽝 \\n굴레 \\n대망생이 \\n등땡이 \\n또꼬망 \\n모감지 \\n베 봉탱이 \\n베아지 볼라불라\\n상판이 \\n야게기 \\n야굴탁 \\n임댕이 \\n정겡이 \\n저껭이 \\n조금태기 \\n좀짐팽이 \\n허운데기 \\n허벅다리 \\n놋 \\n간수메 \\n개역 \\n것 \\n괴기 \\n바당괴기 \\n돗괴기 \\n쇠괴기 \\n도괴기 \\n곤떡 \\n곤밥 \\n놈삐 \\n대사니김치 \\n마농 \\n마농 \\n조배기 \\n촐래 \\n촘지금 \\n짐치 \\n촙쏠 \\n조팝 \\n갈옷 \\n갈 적삼 \\n갈 중이 \\n강알터진 바지 \\n게와 \\n단취 \\n밀랑 페랭이 \\n보선 \\n소중이 \\n신착 \\n찍신 \\n좀뱅이 \\n등지게 \\n고장중이 \\n도폭 \\n두루막 \\n베불레기 \\n우장 \\n저구리 \\n지성귀 \\n지서귀 \\n쪼께 \\n치메 \\n건대 \\n사모관대 \\n시미옷 \\n제복 \\n망근 \\n방립 \\n벙것 \\n상갓 \\n탕근 \\n풍뎅이 \\n휘양 \\n낭저 \\n달리 \\n빈네 \\n상퉁이 \\n얼레기 \\n얼레빗 \\n쪽도리 \\n쳉빗 \\n과지 \\n남신 \\n송락 \\n요령 \\n복치메 \\n구덕 \\n고량착 \\n낭푼이 \\n그릇대배기 \\n물구루마 \\n바농 \\n박새기 \\n숟구락 \\n제끄락 \\n주멩기 \\n허벅 \\n남죽 \\n대접 \\n도고리 \\n소리바굼지 \\n솔박 \\n수박귀 \\n우금 \\n작박 \\n장탱이 \\n항 \\n함박 \\n가레죽 \\n곡괭이 \\n골갱이 \\n골각지 \\n군데 \\n날레군데\\n가레 \\n갈체 \\n돌끌 \\n다께 \\n멕 \\n말방에 \\n벤줄레 \\n부게 \\n쉐스렁 \\n씻부게 \\n잠데 \\n호미 \\n고냥 독생이 \\n놀개기 \\n박생이 \\n독 \\n독새기 \\n고냉이 \\n송애기 \\n몽생이 \\n돗 \\n도새기 \\n밭갈쇠 \\n부랭이 \\n염송애기 \\n강생이 \\n중이 \\n갓돔 \\n겡이 \\n구젱기 \\n물꾸럭 \\n게염지 \\n멩마구리 \\n베랭이 \\n베염 \\n빙애기 \\n생이 \\n나람쥐 \\n죙이 \\n여호 \\n노리 \\n빙아리 \\n쉐 \\n쉐막 \\n도세기 \\n두테비 \\n골개비 \\n젱비리 \\n송키 \\n지실 \\n감저 \\n어욱 \\n태역 \\n모물 \\n굴묵낭 \\n가라지 \\n꿩마농 \\n도채비고장 \\n숙대낭 \\n퐁낭 \\n가베또롱호다 \\n간드랑호다 \\n간세호다 \\n거령청호다 \\n곧작호다 \\n과랑과랑호다 \\n금착호다 \\n고렵다 \\n돌코롬호다 \\n메뜩호다 \\n멘도롱호다 \\n모드락호다 \\n몰치락호다 \\n벤조롱호다 \\n부치럽다 \\n돌글랑호다 \\n봉끄랑호다 \\n보랑지다 \\n펀드렁호다 \\n해또록호다 \\n산도록호다 \\n썸찌근호다 \\n실렵다 \\n심드랑호다 \\n슴두렁펀펀호다 \\n솔치다 \\n앙살호다 \\n앨록호다 \\n어중구랑호다 \\n얼랍지다 \\n얼랍지다 \\n엄부랑호다 \\n오들랑호다 \\n옴탕호다 \\n왁왁호다 \\n왕왕작작호다 \\n요망지다 \\n조짝호다 \\n좀질다 \\n좀좀호다 \\n패랍다 \\n그저끼 \\n아척 \\n그지게초냑 \\n언처냑 \\n요뉠모리 \\n소시 \\n숭년 \\n저슬들언 \\n갈라지다 \\n데싸지다 \\n감장돌다 \\n거느리왕상호다 \\n거들락거리다 \\n거찌다 \\n걸러지다 \\n고른배기 \\n고쩌사다 \\n곤작싸다 \\n꼴성그리다 \\n곱지다 \\n구숭호다 \\n꾸러박아지다 \\n귀태우다 \\n고끼다 \\n골메드리다 \\n늘짝거리다 \\n끼리다 \\n다울리다 \\n댕기다 \\n데껴불다 \\n되싸지다 \\n들럭퀴다 \\n몽캐다 \\n몽캐다 \\n베르싸다 \\n부수닥질호다 \\n부에나다 \\n쎄울르다 \\n소곤닥호다 \\n소도리호다 \\n속솜호다 \\n심벡호다 \\n악살호다 \\n용심내다 \\n조글리다 \\n저들다 \\n다솟 \\n예늘곱 \\n요든 \\n일고  \\n여답 \\n요나문 \\n요섯 \\n호나 \\n혼잠녀 \\n상군 \\n요년난거 \\n볼망텡이 \\n미리내 \\n비주제 \\n상고지 \\n우네 \\n노릇 \\n낭강알 \\n돌 \\n밸 \\n돌생기 \\n작지왓 \\n구들 \\n통시 \\n벤소 \\n석 \\n밭돌랭이 \\n돌 \\n데맹이\\n우뚝지\\n동무릅\\n발꼽데기\\n고찌 글라 고찌 가게 \\n느영 고찌 글민 지꺼짐이 열배여\\n고찌 글라 고찌 가게 \\n느영 고찌 글민 지꺼짐이 백배여\\n영도 곱닥헌 날 공기 좋고 사람 좋고\\n느영 나영 고찌 글민 무신 걱정시냐 \\n하영 골민 존다니\\n먹당 보난 살아 지곡 살당 보난 먹어 져라\\n굶엉 보난 알아 져라 배고픔도 인생인 걸\\n어시민 어신양 그저 겅 살곡\\n이시민 이신양 나누멍 살주\\n먹엄직이 살암직이 시상\\n우시멍 사는 시상이 사름 사는 시상이주\\n울당 보난 살아 져라 \\n웃당 보난 살아 져라\\n우는 삶도 웃는 삶도 고마운 인생이주\\n어시민 어신양 그저 겅 살곡\\n이시민 이신양 나누멍 살주\\n먹엄직이 살암직이 시상\\n우시멍 사는 시상이 사름 사는 시상이주\\n무명천 할머니 어디 감수과\\n무명천 할머니 펜안 허우꽈\\n4. 3 소건때 총 맞앙 턱을 잃엉 경 살았주\\n55년 간 말도 못허곡 음식도 못 먹으멍\\n상처 난 얼굴 보일 수 어성 무명천을 둘렁\\n목심은 건졌주만 살아도 산게 아니랐주\\n무명천 할망 이랜 날 불렀주만 \\n나신디도 이름이 이서났주 \\n진아영 이우다\\n놈삐 좀질게 썰엉 솖앙\\n패마농이영 꿰고루 놩 섞엉\\n모멀고루 풀엉 얄룹게 지졍\\n그 우터레 놩 몰민\\n빙떡 이주게\\n두렁청이 어드레 가젠 햄시냐 \\n곱들락호게 촐려입어그네 이드레 와그네\\n느영나영 모다들어그네 터졍 도르게\\n빙삭허게 몬딱 베리난 보뎌감시녜\\n도르라 조들지 마랑 도르라 몬딱 도르라\\n도드라 조들지 마랑 도르라 몬딱 도르라\\n용심 내멍 도톼 보난 알아졈시냐\\n느영나영 심벡 해봐사 페들락 햄시녜\\n돈 한 추룩 뺄라진 추룩 오시록 헌 추룩\\n경 해 봐사 핏짝 허난 얼렁 뎅기게\\n도르라 조들지 마랑 도르라 몬딱 도르라\\n도드라 조들지 마랑 도르라 몬딱 도르라\\n아야 머리여 아야 머리여\\n입담허멍 두드렴시민\\n수꾸락 조루 거수루 심엉\\n차반이 바위 두드렴시민\\n훌구룽 몰케염지덜\\n고루삭삭 삐어지국\\n어떵허코 어떵허코\\n핵교 가당 오줌 싸비언\\n어떵허코 어떵허코\\n핵교 가당 오줌 싸비언\\n어떵허코\\n핵교 가당 오줌 싸비언\\n어떵 허코 어떵 허코\\n촘당 촘당 촘지 못행 나와부런게\\n어떵 허코 어떵 허코\\n비가 왐시난 비 맞았덴 골라게\\n나오는 걸 어떵 헐 수 이시냐\\n어떵 허코 어떵 허코\\n겡이 잡당 맨질락허연\\n어떵 허코 어떵 허코\\n겡이 잡당 맨질락허연\\n어떵 허코\\n겡이 잡당 멘질락허연\\n어떵허당 어떵허당\\n곱은 겡이 지달리당 와락 덮쳤주\\n경해그네 어떵 되연\\n완존 뽈라라\\n눈 감았당 터 보난\\n물 쏘곱이 나만 빠졍 이서라\\n어떵허코 어떵허코 어떵허코 어떵허코\\n바당 바당 바당 바당 보름 보름 보름 보름\\n바당 바당 바당 바당 보름 보름 보름\\n날 막 좋앙 바당드레 강 모살밧듸 맨발로 걸엄쩌\\n겡이 호나 나를 뵈련게 절지치는 디로 도람쩌\\n어떵허코 잡아 보카 잡당 실수허민 아야 물릴건디\\n바당 바당 바당 바당 보름 보름 보름 보름\\n바당 바당 제주 바당 보름 보름 보름\\n생이 생이 생이 생이 오름 오름 오름 오름\\n생이 생이 생이 생이 오름 오름 오름\\n어멍이영 손 꼭 심엉 용눈이 오름 올람쩌\\n생이 호나 나를 뵈련게 짹짹짹짹 소릴 호염쩌\\n어떵허코 잡아 보카 아맹 잡젠 해도 택도 어실건디\\n이녁 가슴 쏘곱엔\\n고은 꽃덜이 만발혼 생이라\\n영 골아도 빙세기 웃곡\\n정 골아도 빙세기 웃곡\\n이녁 가슴  쏘곱엔\\n황소 혼마리 들어앉은 생이라\\n영 골아도 속솜\\n정 골아도 속솜\\n이녁 가슴  쏘곱에 들어가 보젠\\n욕심이영 미움이영 \\n손  불끈 잡아둠서\\n기웃 기웃 거렴신디\\n꿀벌이영 일벌이영 \\n날아 댕기는걸 보난\\n이녁 가슴 쏘곱엔 \\n송이꿀보다도 더 단\\n무언가로 솜 빡혼  생이라\\n휘이이\\n보름 분다\\n보름 불어\\n저 바당이\\n저 보름이\\n손짓햄쩌\\n말 골암쩌\\n테왁 메영 골갱이 들렁\\n바당이영 춤을 추엄쩌\\n우리 어멍 우리 바당\\n혼몸 되엉 춤을 추엄쩌\\n바당아 보름아\\n눈물 남쩌 눈물 남서\\n우리 어멍 지켜도라\\n이어도 이어도 사나\\n이어도 이어도 사나\\n이어도 이어도 사나\\n이어도 이어도 사나\\n보름은 팡팡 불곡\\n덜 요문 조코 고리\\n이레 배령 인사허곡\\n저레 배령 인사허곡\\n낭가쟁이덜은 서로 심벡허멍 좁아댕기곡\\n절지치는 요메기 바당엔 빈 구젱기 껍데기 둥글어 댕기곡\\n담우이 걸쳐진 감저줄에\\n동글동글 도라진 감저동가리 \\n이래 도라앉작 저래 도라앉작\\n워어허허 보름 보름 보름 부는 제주의 하늘아\\n먹쿨낭 꼭대기에 앚인 먹쿨 생이 안 털어져보잰 낭가쟁이 꽉심엉 있곡\\n조밭 볼리는 몽생이 조름에 일어나는 흙구듬은 노미 밧더레 넘어가곡\\n동네 큰 폭낭 아래 검불령 가젠허민\\n불어오는 저 보름은 무사 영 건드러운지\\n기여 혼저 가라\\n기여 혼저 가라\\n보름아\\n해녀 삼춘 또시 또시 물에 감쩌\\n테왁 메영 골갱이 들렁 좀수복 입엉 뒤뚱뒤뚱\\n절이치는 바당더레 강 보난\\n테왁덜이 동동동동 춤을 췀쩌\\n해녀 삼춘덜 또시 물에들었쩌\\n숨비소리 쏟아가멍 또시들멘\\n궤기추룩 홀랑홀랑 꼬릴 췀쩌\\n나도 확 벗엉 물쏘곱이 들어가보카\\n테왁 들렁 이짝드레 온거 보난\\n성게도 지깍 구젱기영 전복이영\\n아고 이건 뭐라 물꾸럭도 잡앙 와신게\\n아고 삼촌 물꾸럭 나 얼마마씸?\\n아고 조케야 느랑 기냥 거정가불라\\n에고 무신 소리꽈 게민 조냑에랑 당근파당 거정안내주마씀\\n물빡으로 물먹으민 시염 안돋나. \\n물애기 옷을 막개로 뽈민 애기놀랜다. \\n밤에 얼래기질 호민 모솜탄다. \\n비는 놈안틴 지여사 혼다. \\n비 온날 쇠총지 이레 착 저레 착 혼다. \\n빈 고래질 호민 숭년 든다. \\n가난한 사람 못할 일 읏나\\n까메기 까옥 호민 촘새도 조조조 혼다\\n까메기 똥 케우리듯\\n까메기 모른 식게\\n까메기 알라구리 털어질 소리\\n가시어멍 눈 멜를 사위\\n\"가시어멍 장 읏인 깐에, 사위 국 실픈 깐에\"\\n각시 아꼬우민 처갯 칩 몰팡 돌에 절혼다.\\n각시 읏인 건 안 섭섭해도 남통머리 잃른 건 섭섭호다.\\n각시 읏인 처갯칩 가나 마나 \\n갈치가 갈치 꼴랭이 그차 먹나\\n갭인년 숭년에도 먹당 남은 게 물이여\\n\"갓쟁이 헌 갓 씨곡, 심방 놈 빌엉 굿 허곡\"\\n강생이 똥은 똥 아니가\\n개가 똥을 촘주\\n개도 비치락으로 안 또린다.\\n\"개똥을 모소왕 피 호느냐, 더러웡 피호주\"\\n개똥도 약에 쓰젠 허민 귀혼다\\n\"건지 먹은 놈이나, 국물 먹은 놈이나 \"\\n검은 독도 흰 독새기 난다\\n\"것 구숭 호로 조식, 글 구숭 양반 조식\"\\n것 멋을 땐 개도 안 또린다\\n것 박접허면 죄 짓나\\n게드레기도 집이 싯나\\n곤 사름은 맥을 씌어도 곱나\\n곤 년 잡아 들이렌 허난 솔친년 잡아 들인다\\n곧은 낭은 가운디 산다\\n골체 부지런은 하늘도 못막나\\n\"공께엥 허민 눈도 뻘겅, 코도 벌겅\"\\n공껀 씨여도 돈다.\\n공부허렌 허난 개잡는걸 뱁나\\n고튼 품이민 홀어멍 칩 머슴산다.\\n구젱기 똥누레 가불민 게드레기가 기어 든다.\\n국 하영 먹으민 가시어멍 눈 멜라진다.\\n굼벵이도 꿈불 재주 있나\\n\"귀막앙 삼년, 눈 어둑엉 삼년, 말몰랑 삼년 살암서사 가렝 오렝 말 읏나\"\\n귀신 대접 잘 호영 그른디 읏나\\n귀소문 말앙 눈소문 호라\\n귀신도 빌민 듣나\\n괸당은 옷 우이 보름\\n그 날 액은 망데기 안에 아자도 깬다\\n그짓말도 외삼춘 보다 낫나\\n글 못허는 놈 붓 골린다.\\n글 배우렌 호난 홀어멍칩 강생일 또린다. \\n기도 못호는게 놀젱 혼다\\n깅이광 보말도 지집 싯나\\n기시린 도새기 도라멘 도새기 타령혼다.\\n골체 부지런은 하늘도 못막나\\n고튼 품이민 홀 어멍칩 머슴산다.\\n고늘이 먹곡 고늘이 쓰라\\n관덕정이 설렁탕도 먹어난 놈이 먹나\\n끅 걷으레 간 놈이 정당 벌립 망 돌른다.\\n나간 놈 찍신 셔도 자는 놈 찍신 읏나\\n나댕기는 개가 꽝 물어 온다. \\n나 땅 까메긴 검어도 아깝나\\n나서 화목은 남조가 허곡 들어 화목은 여조가 혼다.\\n나 한 아재비 지라.\\n\"남조가 디딘 풀은 유울곡, 여조가 디딘 풀은 안 유운다.\"\\n낭도 늙엉 고목되민 놀단 생이도 아니 온다.\\n낭이 좀 먹주 세월 좀 안먹나\\n나 똘이 고와사 사윌 골른다.\\n너미 골리당 눈 까진 사윌 골린다.\\n\"노름쟁이 뒤랑 대곡, 먹는 놈 뒤랑 대지말라.\"\\n노름은 신 신을 때 봐사 안다.\\n노름쟁인 망호여도 흥호진 못혼다.\\n노리 또린 막땡이 3년 우려 먹나\\n노리궤기 혼점 먹젠 호당 지 궤기 열 점 일른다.노루고기 한 점 얻어 먹으려다가 자기의 고기 열점을 잃은다.\\n놈 곱진 것 쉐도 못 찾나\\n\"놈광 심백은 호곡, 게심이랑 허지 말라.\"\\n놈 싼 훼에 깅이잡기.\\n놈이 눈에 피 내우젠 허민 이녁 눈엔 고름 나사 혼다.\\n놈이 쉐 들럭키는 건 보기 좋나.\\n놈이 숭 털민 이녁 숭 된다.\\n놈이 집광 관장살인 궤던 밥도 내부러동 돋나.\\n놋 시칠 때에 물 하영 쓰민 죽엉 가민 다 먹어사 혼다.\\n눈 까진 똘 고졍 사윌 고른다.\\n눈 낭에 요름 요는냐?\\n눈 썹에 불 붙어도 끌 조를이 읏나.\\n늘근 쉐 콩 주엉 말덴 호느냐?\\n늑신네가 젊은 첩 호민 불 본 나비 놉뜨듯 혼다.\\n\"니 아픈 부릅씨랑 허곡, 눈 아픈 부릅씨랑 말라.\"\\n\"다심 아덜은 콩 죽 멕이곡, 원 아덜은 폿 죽 멕인다.\"\\n\"다심아방 궤기 써는 디랑 가고, 원아방 낭깨는 디랑 얼씬을 말라.\"\\n대천 바당도 건너 봐사 안다.\\n대정 몽생이 요망진다.\\n덴디 꺼럭 아니 돗나\\n도 터질 밭디 모쉬 들듯.\\n도둑놈광 샛뭇은 묶엉 세와노민 똑 닮나.\\n고맙습니다\\n가십시오\\n제가 당신을 무척 사랑합니다\\n남편 옆에 같이 앉으세요\\n사람 있습니까\\n잘 있었습니까\\n아버지 어머니 모두 편안하셨습니까\\n머리 조심하세요\\n어디갔다가 오십니까\\n자기 것은 작게 보인다\\n누구십니까\\n제 얼굴이 예쁘지요\\n별로 이쁘지 않네요\\n오천원입니다\\n큰일 났습니다\\n어떻게 생겼던가\\n어디로 모실까요\\n똑똑하고 영리하게 생겼습니다\\n제주특별자치도에서 삽시다\\n따스합니까\\n왜 그러십니까\\n오시느라 고생 많으셨습니다\\n빨리빨리 더빨리 오세요\\n참말로 이쁘고 둥실둥실합니다\\n이곳은 바람도 많이 불고있네\\n소문나면 저는 모른다\\n이곳에 있으니 엄마 보고싶다\\n지쳐서 잠이 온다\\n햇볕은 쨍쨍 모래알은 반짝반짝\\n아무리 이야기하여도 귀 눈이 캄캄\\n그러기에 말입니다\\n나를 보십시오\\n잘되어 버렸다\\n어마어떻게 하지\\n제주도 사투리로 말 호난\\n무신거랜 고람 신지 몰르쿠게\\n게메 마씀\\n귀 눈이 왁왁하우다\\n경해도 고만히 생각호멍 들으민 호끔씩 알아집니다.\\n오랜만이우다\\n몸은 펜안 하우꽈\\n얼굴이 펜안해 보염수다\\n혼저옵서예\\n제주도 오잰하난 폭삭 속아수다\\n제주도 오난 촘말로 좋수다\\n산이영 바당이영 몬딱 좋은게 마씀\\n많이많이봥으네 서울에 갈 때랑 하영 담앙 갑서\\n게메 양\\n경 해시민 얼마나 좋코 마씀\\n\"안트레 들어 왕, 밥 먹엉 갑서\"\\n제주도 와시난 전복죽드셔봥 가살꺼 아니꽝\\n혼저 왕 드셩갑서\\n맨도롱 했수과\\n뜻뜻혼 게 먹기 똑 좋았수다\\n맛있수다\\n여기예\\n이거 키로에 얼마마씨?\\n사천원마씨\\n기꽝?\\n사천원치 줍서\\n하영줍서예\\n많이 담암수다양\\n맛있게 드십써 양\\n삼성혈가잰하는디예\\n어디로 가면 되마씨?\\n여기서 10분만 밑트레강 칼호텔조끄티서 바로 왼펜돌아가민 되우다\\n알아지쿠가?\\n\"거기강 봥으네, 아무사람이나 잡앙 물어보민 잘 말해 줄꺼우다\"\\n관광 잘행 갑써예\\n혼저옵서예\\n고만이십서게\\n고만 이시라게\\n무신거 햄쑤꽈?\\n무신거 햄시니?\\n무사 경 급호꽈?\\n무사 경 급호냐?\\n확 옵서게\\n어떵 살아 점수꽈?\\n무싱거엔 고람쑤꽈?\\n귀 눈이 왁왁하우다.\\n맨도롱 혼때 호로록 들여 싸 붑써\\n무싱 걸 몽캐미꽈?\\n\"왕 봅서, 고랑은 몰라 마씀\"\\n곱들락 호게 몬뜰락 벗엉 옵서\\n어디 갔당 왐수꽈?\\n어드레 감수꽈?\\n\"둥그리멍 키웁서, 경 해사 혼저 큽니다.\"\\n\"어떵 살코, 저들지 맙서, 촘앙 살민 살아집니다\"\\n느영 나영 두리둥실 소랑호게 마씸\\n혼저 옵서\\n제주도에 오난 어떵 하우꽈?\\n촘말로 좋수다\\n왕 봅서\\n고랑은 몰라마씀\\n무상 경 고람수꽈?\\n몽캐지 말앙 혼저 오라게\\n호꼼만 이십서게\\n혼저 왕 먹읍서\\n맨드롱 했수꽈?\\n맨도롱 홀 때 호로록 들여 싸붑서\\n혼저 옵서.\\n\"제주도 사투리로 말 호난, 무신 거옌 고람 신디 몰르쿠게?\"\\n게메 마씀.\\n귀 눈이 왁왁하우다.\\n경해도 고만히 생각호멍 들으민 조금씩 알아집니다.\\n제주도 사투리 촘말로 귀하고 아름다운 보물이우다.\\n펜안 하우꽈?\\n제주도에 오난 어떵 하우꽈?\\n촘말로 좋수다.\\n\"공기도 맑고, 산이영 바당이영 몬딱 좋은게 마씀.\"\\n서울에 갈 때랑 하영 담앙 갑서.\\n\"게메, 양.\"\\n경 해시민 얼마나 좋코 마씀?\\n\"저기, 물허벅 정 가는 거, 비바리덜 아니꽈?\"\\n맞수다.\\n\"비바리도 있고, 넹바리도 있수다.\"\\n비바리덜 곱들락 호고 놀씬하우다 양!\\n\"경 합주게, 산 좋고 물 좋은 제주도에 사난 모심도 착하고 얼굴도 곱들락 홉니다.\"\\n고랑은 몰라 마씀.\\n제주도에 왕 봐사 알아짐니다.\\n\"돌도 많고, 보롬도 많고, 비바리도 많고, 유채꽃도 곱드락 호게 피었수다.\"\\n아명 고라도 몰라 마씀.\\n혼저 왕 봅서.\\n제주도엔 보름이 많이 있수다.\\n\"동쪽에서 부는 보름, 샛보름.\"\\n\"서쪽에서 부는 보름, 갈보름.\"\\n\"남쪽에서 부는 보름, 마포름.\"\\n\"북쪽에서 부는 보름, 하늬보름 이우다.\"\\n한락산에 올랑 봅서.\\n발 아래 구름들이 왔닥갔닥 호곡 아득혼게 꿈속 고틉니다.\\n옛날에 신선들이 힌 사슴 타멍 놀았댄 해연 백록담 아니꽈.\\n제주 사롬들은 돌 하르방 보멍 살았수다.\\n\"경 호난, 거짓말 홀 줄 모르곡 서로 믿으멍 착하게만 살았수게.\"\\n\"봅서, 어시민 도와 주곡, 이시민 나누엉 먹곡, 인정 많고, 소랑 많은 돌하르방 손지들 이우다.\"\\n\"장게간 날 밤, 새 서방이 말했수게.\"\\n\"`새 각시야, 혼저 오라게.`\"\\n`무사 마씀?`\\n`호꼼만 이십서게.`\\n`뭉캐지 말앙 혼저 오라게.`\\n새 각시가 새 서방 품에서 솔째기 말해십주.\\n`날 얼마나 소랑햄쑤과?`\\n\"`저기 한락산만큼, 또 바당만큼 소랑햄쩌.`\"\\n\"`경 마랑, 요 가슴패기 만큼만 소랑해 줍서.`\"\\n\"`기여, 느영 나영 두리 둥실 소랑호게.`\"\\n신랑이 신부에게 말했수게.\\n`이 조끄뜨레 오라게.`\\n`무사 조끄뜨레만 오랜 햄수과?`\\n`호꼼이라도 고치만 있고 싶언.`\\n`놈덜 웃읍니다.`\\n`어떵 호느냐? 소랑에는 부치룸이 엇나.`\\n무사 경 고람쑤과?\\n혼저 왕 소랑하멍 살게 마씀.\\n성 내멍 살아도 혼 세상 저들멍 살아도 혼 세상 이우다.\\n가난해서 웃으멍 살게 마씀.\\n삼다도옌 행게마는 촘말 돌이 많쑤다.\\n양?\\n옛날엔 한락산이 화산이란 돌이 많쑤게.\\n\"아이고 게, 저기 돌고망에 핀 꽃 봅서 돌고망으로 보는 바당은 꼭 그림 답쑤다.\"\\n바다에 강 봐사.\\n풍랑을 알아 지곡 조식을 나 봐사.\\n부모 모심 알아 지곡 사롬은 만낭 살아 봐사.\\n\"진심을 알아 지곡 소랑을 해 봐사, 눈물도 알아 짐니다.\"\\n사롬은 서로 서로 도우멍 사는 거여!\\n욕은 고냉이 밤눈 어둡덴 혼다.\\n이녁만 욕은 체 호멍 살당 보민.\\n지 욕심에 걸령 지가 넘어진다.\\n서귀포 바당에 가민 알아 짐니다.\\n무신것이 소랑이고.\\n무신 것이 그리움인지.\\n안개 낀 부둣가에 뱃고동 울어 주민\\n옛님이 그리웡 눈물이 잘도 납니다.\\n조냥 하멍 살아사 혼다.\\n오늘보다 내일 생각호곡.\\n내일보다 모레 생각호곡.\\n경 해사 일생을 펜안호게 살아진다.\\n요새 아이덜.\\n너무 호강 햄쩌 경 호난\\n호꼼호민 아프곡.\\n울곡 햄시녜.\\n둥구리멍 질룬 독새시가 빙애기 된댕 혼다.\\n어진 때 고생도 호곡 해사 큰 사롬 된다.\\n혼저 왕 먹읍서.\\n맨도롱 했수과?\\n똣똣혼 게 먹기 똑 좋았수다.\\n맨도롱 홀 때 호로록 들여 싸붑서.\\n\"동 텃저, 어서 글라.\"\\n일 해사 먹엉 산다.\\n부지런 혼 건 하늘도 못 막낸 해라.\\n\"혼저 촐령 가사, 일 홀 거 아니가.\"\\n시집 가 보난 영 해라.\\n돌탱이 고튼 시아방에.\\n물폐기 고튼 시어멍에.\\n물꾸럭 고튼 서방에.\\n고냥독새 고튼 시누이에.\\n가도 가도 고생이라라.\\n어드레 감디?\\n바당에 어멍 안티 감쑤다.\\n\"경 호건, 이거 가정 가라.\"\\n무싱 거꽈?\\n\"느네 어멍, 바당에서 물질 호멍 먹을거여.\"\\n이추룩 억울할 때가 있수과?\\n소정해도 시원호지 않을 놈이 큰 소리라 마씸.\\n\"초마 가라, 그거 도둑놈 심뽀구나.\"\\n\"게메 마씸, 그런 사롬이 어디 있수과?\"\\n시험에 떨어진 아들이 아방 안티 말했수다.\\n\"`난, 아명 해도 안되쿠다.`\"\\n\"`무사, 안된댄 생각 햄시냐?`\"\\n\"`해도 해도 안되는디, 어떵홉니까?`\"\\n`먹돌도 똘람 시민 고망이 난다. 햄시민 된다.`\\n똘년이 돌으멍 가단 푸더전 마씀.\\n으마떵 호리.\\n경 호연 어떵 해서 ?\\n병원에 갔수게.\\n\"간 보난, 꽝이 뿌서졌덴 마씀.\"\\n\"혼, 열흘간 입원 해사 혼덴 햄쑤다.\"\\n족댕 나무래지 말라.\\n조근게 요망진다.\\n큰 건 보롬만 불어도.\\n홍글랑 홍글랑 호지만 호꼴락 혼 건.\\n똔똔호곡 펜주룽 혼다.\\n어드레 감수과?\\n바당에 괴기 사레 마씀.\\n\"무사, 누게 왔수과?\"\\n서울서 족은 아방네 완 마씀.\\n\"게민, 멩심허영 갔당 옵서.\"\\n어멍이 해 준 밥 먹어 봅서.\\n촘말로 맛이 좋수다.\\n무상고 마씀?\\n그건 어머님의 사랑호는 모심이 밥속에 고득 고득 들어 이시난 아니꽈.\\n소도리 행 댕기지 맙서.\\n소도리는 놈덜 싸움만 맨듭니다.\\n옛부터 싸움은 멀리곡.\\n흥정은 부치렌 했수다.\\n\"게난, 좋은 소린 크게 호곡.\"\\n궂은 소린 속솜 해 붑서.\\n두 가시가 어드레 경 돌암서?\\n\"큰 똘, 애기 낫댄 햄 감쑤다.\"\\n경 했구나.\\n무슨 애기 나서?\\n아덜 마씀!\\n\"아이고, 잘 됐구나게!\"\\n혼저 강 봐 게.\\n\"강, 방 옵서.\"\\n\"왕, 방 삽서.\"\\n\"영 호곡, 정 호곡 홉서.\"\\n경 고라 줍서.\\n\"가지 말앙, 영 호멍 삽서.\"\\n\"서방님, 제주도에서 살게 마씀.\"\\n좋주마.\\n널은 바당.\\n좋은 공기.\\n인심좋은 사롬들광 살민 살 맛 날거라.\\n살당 지치민.\\n풍덩 바당에 들어 가곡 마씀.\\n\"둘이 먹당, 호나 죽어도 몰르는 건 무신거꽈?\"\\n돌코롬 혼 제주도 전복죽이주!\\n\"둘이 보당, 호나 죽어도 몰르는 건 무신거꽈?\"\\n곱들락 혼 제주도 비바리주!\\n게민 옵서.\\n전복죽 먹곡 비바리 보래 가게 마씀.\\n과랑 과랑혼 벳디 일 호젠 호난 속았수다.\\n속을 거 있수과?\\n\"호꼼, 똠은 났수다만.\"\\n안트레 들어 왕.\\n조녁 먹엉 갑서.\\n경 호카 마씀.\\n제주 바당에 가민 바당이 말을 홉니다.\\n사롬보다.\\n더 조잘조잘 말을 하곡.\\n사롬보다.\\n더 소랑도 하영 홉니다.\\n경 호멍.\\n낮이나 밤이나 꽃을 피웠당.\\n지웠당 홉니다.\\n제주 바당에 강 봅서.\\n미운 것도 엇어지곡.\\n슬픈것도 엇어지곡.\\n가슴으로 바당물만 들곡 나곡 호멍.\\n두리 둥실.\\n둥그대 당실.\\n소랑만 고득하게.\\n담앙 옵니다.\\n서울서 새각씨 왔수다.\\n어떵 생겨서?\\n요망지게 생겨십디다.\\n솔째기 웃으멍 말 호는 거 보난.\\n착햄직 홉디다.\\n그 나쁜 놈!\\n볼망텡이를.\\n박아 불거 아니꽈?\\n경 했주!\\n모가지 잡안 흥글단.\\n대맹이로 뱃대기를.\\n박아 부난.\\n둥글멍 자빠정게!\\n잘 콰니여!\\n그런 놈은.\\n혼내 줘사 홉니다.\\n쌍둥이 어멍!\\n\"고생햄쭈, 이?\"\\n둘이가 고름배기 해연.\\n죽어지쿠다.\\n경 홀거라.\\n\"게도, 놈 호고 싸울 땐.\"\\n지네 펜백들멍 싸워 마씀.\\n요 년 난거 보라.\\n놈이 소나이영 말 호곡.\\n벌써부터.\\n서방질 햄시냐?\\n아니우다 게.\\n바당드레 가단.\\n질 모른 사롬 이시난.\\n질 고르쳐 줬수게.\\n아이구 게.\\n큰일 났수다.\\n\"무사, 경 들락켬시니?\"\\n와리지 말앙.\\n촌촌이 고라 보게.\\n경호난 양.\\n영 호곡.\\n정 호곡 했수게.\\n게난.\\n욕심 내멍 살민.\\n경 혼다.\\n새각씨야.\\n그거 앗아 도라.\\n무사.\\n당신은 손 엇수과?\\n발 엇수과?\\n경 호지 말앙.\\n좀 앗아 주민.\\n어떵 호느냐.\\n버릇나 마씀!\\n밸 놈의 요망진 소리.\\n그만 호라.\\n\"이제 가게, 짐 촐리라.\"\\n알았수다.\\n아이덜도 도랑 가카 마씀?\\n\"기여, 모딱 고치 가게.\"\\n\"하르방, 할망이 좋아할거여.\"\\n야게기에 때 밀라.\\n\"저깽이영, 정겡이도 밀곡.\"\\n\"옷 벗엉, 강알 트멍도 밀라.\"\\n사롬 몸은 곱닥해사 혼다.\\n무신 걸 먹으코?\\n\"게메 양, 제주도에만 이신 거 먹게 마씀.\"\\n\"그젱기에, 보말에, 옥돔생성, 또 있수다.\"\\n모멀 범벅에 자리젯!\\n먹을 것도 촘 하영 있저.\\n\"무사, 난 호꼼만 줨쑤과?\"\\n이놈아!\\n욕심 먹은 눈에는.\\n지 껏이 족아 베곡.\\n놈의 껏은 커 베는 거여!\\n똑고치 나눈 것을 어찌 크다 족다 햄시니?\\n어멍이 용심 난.\\n옴찍 안햄쑤다.\\n경 호곡 말곡!\\n믿던 낭에 곰팽이 핀댕 게마는.\\n하도 억울호게 당해부런 아니가.\\n어멍 모심 달래 드리라!\\n독이사 울엉 날이 새주마는.\\n내사 울엉 어느 날 새리.\\n독의 목에 통쇠나 종강.\\n내가 대신 울어나 보카.\\n요 바당에.\\n요 물에 들언 좀복.\\n구젱기.\\n고득하게 잡아당.\\n혼 푼.\\n두 푼.\\n모이단 보난.\\n서방님 술깝에.\\n몬딱 들어 감쩌.\\n두렁청 호게.\\n다울리멍.\\n일호지 말라.\\n바농 존둥이.\\n졸라 메영.\\n바농질 되는 거.\\n봔디야?\\n촌촌히 생각호멍.\\n호나씩 해사.\\n일이 된다.\\n살당 보민 고생홀 때도 있곡.\\n어려웡 쓸어질 때도 있저.\\n\"경해도, 허천 베레지 말라.\"\\n곳작 호게 걸어 감시민.\\n나종엔 꼭 성공혼다.\\n한림공원에 강 봅디가?\\n\"밸의 밸, 낭이랑 꽃이랑 잘도 곱디다.\"\\n소랑호는 사롬은 꼭 강 봐사 혼댄 마씀.\\n\"경 해사, 소랑호멍 잘 산댄 고릅디다.\"\\n서울서 온 소나이 제주 비바리에 미쳐 부런.\\n\"오늘 가카, 넬 가카, 호단 보난 옴짝 못핸 살암서라.\"\\n\"새 각씨, 무사 안 왐쑤과?\"\\n어떵 된 거 아니우꽈?\\n\"강, 돌앙 옵서. 무신걸 경 몽캠신고?\"\\n오늘랑 우리 밭디 마농 심거 줍서.\\n\"경 홉주마! 겐디, 비 옴직 해염쑤다.\"\\n동그레 구름이 시커멍 햄신게 마씀.\\n\"게민, 호꼼 있당 와 줍서\"\\n아척부터 조녁까지.\\n두리 둥실 사랑 호곡.\\n구경 호곡.\\n경 호단 보난.\\n꽝이 복삭하우다.\\n소랑 홀 땐 솔째기 골라.\\n누게 들엉 웃나.\\n아무도 몰르게.\\n느영 나영만 솔째기 호게.\\n어멍이영 고치 옵세.\\n오당그네.\\n\"영 호곡, 정 호곡 홉서.\"\\n\"무사, 경 숨 고끼멍 고람서?\"\\n짐 진놈이 팡을 촛주게.\\n\"게난, 걱정 말앙 고만이 이서.\"\\n\"저기, 요새 애들 옷 입언 댕기는 거 봅서.\"\\n허벅지도 내 놓곡.\\n베또롱도 내 놓곡.\\n\"그거, 무슨 요망들이라!\"\\n\"경 말앙, 몬뜰락 벗엉 댕기주 게.\"\\n호꼼 미안하우다.\\n이게 얼마꽈?\\n오천원 마씀.\\n호꼼만 싸게 안되카 마씀?\\n\"경 해사, 다시 올 거 아니꽈?\"\\n한락산드레 가젱 호민 어떵 갑니까?\\n바당드렌 어떵 갑니까?\\n\"차 타젱 호민, 하영 가사 홉니까?\"\\n\"제주도엔 가당 봐도 바당이우다, 양!\"\\n\"들어 왕, 놀당 갑서.\"\\n경 호카 마씀.\\n\"여기, 불 조끄띠 안즙서.\"\\n똣똣하우다.\\n\"촘말, 맨도롱혼 게 좋수다.\"\\n무싱거옌 소곤닥 햄시니?\\n\"비바리, 씨집 보내키옌 마씀.\"\\n\"경 해사주게, 잘 생각했저.\"\\n똘년은 나이 차민 혼저 보내 산다.\\n경 들럭퀴지 말라.\\n초든초든 말 들엉 생각호라.\\n어떵 혼 일인지 알아사 홀 꺼 아닌가?\\n경 하당 숨 넘어 가키여!\\n돌코롬 혼 거 엇수과?\\n\"게메, 어떵 것이 돌코롬 호코?\"\\n사탕을 주카 마씀?\\n아니우다.\\n게민 솔문 독새기나 호나 줍서.\\n어드레 감쑤과? 이래 옵서.\\n저들멍 살지 맙서.\\n\"영 살아도 혼 세상, 정 살아도 혼 세상.\"\\n두리 둥실 느영 나영 소랑이나 호게마씀.\\n\"앞 낭에 아진 새야, 무사 경 울엄시냐?\"\\n\"서울간 우리 서방, 재게 오랜 울엄시냐?\"\\n\"저승 간 우리 어멍, 그리원 울엄시냐?\"\\n\"내 모심, 아는 건 저 생이 뿐이구나.\"\\n\"저기 보라, 느네 아방, 어멍 혼디 감쩌.\"\\n\"게메, 어디 감신고?\"\\n\"하르방, 할망은 어신게!\"\\n괸당집이 상 난에 감실거우다.\\n무싱거 하미꽈?\\n도르멍 옵서. 무사 경 다울렴디?\\n해 저물민 어떵 홉니까?\\n왁왁호민 질 잃어부렁 큰 일 납니다.\\n강 보라. 니네 새서방 왔저.\\n\"아이구, 부치루완 어떵 호코 마씀.\"\\n앗다. 양양게 피우지 말라.\\n혼저 가그네 \\'옵디가\\' 인사 호라.\\n어디 갔단 왐수과?\\n밭디 갔다 왐쩌. 어드레 감디?\\n바당에 괴기 낚으레 감쑤다.\\n절 쎄어서라. 조심호곡 혼저 오래.\\n\"이젠, 니 인생은 니가 알앙 가야 혼다.\"\\n알았수다. 잘 살크메 걱정 맙서.\\n기여. 아는 질도 들으멍 가라.\\n조심하멍 가는 질은 펜안혼다.\\n무싱거 하미꽈? 혼저 옵서게.\\n기여 알았저. 혼저 글라.\\n푸더지질랑 말앙 옵서.\\n\"돌, 조심호곡 고짝 옵세.\"\\n제주도 비바리가 경도 좋으냐?\\n고랑은 몰라 마씀. 왕 봐사 알아집니다.\\n\"모심도 좋고, 얼굴도 좋고, 집안도 좋아 마씀.\"\\n\"여보, 나 등땡이 고렵다.\"\\n\"어디, 영 홉서, 보게.\"\\n\"아이구, 베렝이 물어싱게 마씸.\"\\n약 볼라사 하쿠다.\\n돌아 맨 도새기야!\\n니 신세가 불쌍호다.\\n\"아이구, 기시린 도새기야!\"\\n나 걱정 말앙 니 죽어 가능 거나 걱정호라.\\n죽어 가능 게 벨것 다 걱정햄시니?\\n돌 고냥으로 보라.\\n꽃들이 모들락 호게 피어 있저.\\n\"우리 님의 얼굴도, 꽃치 되언 피엄쩌.\"\\n소랑 소랑 소랑꽃도 고득호게 피엄쩌.\\n\"괴기, 멍텅혼 건 잡아나 먹곡 낭, 멍텅혼 건 불이나 솜곡 돌, 멍텅혼 건 담이나 닷나.\"\\n\"사롬, 멍텅혼 건 아무 것에도 못 쓰키여!\"\\n\"느영, 나영, 둘이 둥실 낮에 낮이나, 밤에 밤이나 쌍소랑 이로구나.\"\\n\"아척에 우는 생인, 배가 고팡 울고요.\"\\n\"조녁에 우는 생인, 님 그리웡 운다.\"\\n\"널븐 바당 앞을 재여, 혼질 두질 나아가곡 짚은 바당 짚일 재여, 혼질 두질 들어가민 저승길이 왔닥 갔닥.\"\\n\"이어도 사나, 이어도 사나, 이어도가 저승질이 반이옌 혼다.\"\\n새서방 들어 왐쩌.\\n저리 고쩌 사불라 영 홉서.\\n호꼼만 보게마씀!\\n\"몰치락 혼게, 잘도 생겼저.\"\\n\"말도 안 득곡, 일도 안 호곡, 촘말로, 경 호민 뚜러메당 데껴 불키여.\"\\n사롬은 일해사 살아 지는거여!\\n호꼼씩 먹으라. 숨 넘어가키여. 배 고판 마씀.\\n경 먹당은 숨 고끼키여! 누게 도둑질 안하메 촌촌히 먹으라.\\n사롬 있수과? 누게꽈? 웃 동네 갑돌이 어멍 이우다. \\n\"아이구, 어떵 호난 와 집디가 게?\"\\n\"우리 똘은 아무것도 몰라 마씸. 분시 몰른 애기, 설운 애기 우다.\"\\n잘 돌앙 살아 줍서 고르치멍 살아사 할 꺼우다.\\n무신 걸 잘 하구랜 큰 소리꽈?\\n똥 뀐 놈이 성 냄쩌.\\n누겐 입 어선 말 못 햄시카 부댄?\\n\"지랭이도 볼부민 꿈틀락홉니다, 양!\"\\n\"나 모심 몰르쿠과? 당신만 보민 가슴이 금착 금착 영도 못하곡, 정도 못하곡, 나 모심, 나도 몰르쿠다.\"\\n어느제 옵디가? 혼 사나흘 됐수다. 다들 펜안 했수과? 어떵 살아 점쑤과?\\n\"씨집가난 어떵 홉디가? 아이고, 말도 말라.\"\\n\"무신 거시 무신 건지, 귀 눈이 왁왁해라.\"\\n서울엔 언제 가쿠과? 갈 때랑 날 도랑 가 줍서.\\n\"서울 강 무싱 거 호젠? 구경도 호곡, 서울 소랑도 해 보젠 마씀.\"\\n\"무사, 무싱 거옌 고릅디가? 솔째기 왕 말홉서, 보저.\"\\n\"게메, 말호카, 말카? 속 태우지 말앙 확 홉서게.\"\\n\"게민, 놈 혼테랑 아무 말도 호지 맙서, 양?\"\\n\"누게 있수과? 안녕 하우꽈? 아방, 어멍 다 펜안 했수과? 어디 갔당 왐쑤과? 요새 어떵 살미꽈? 좋수과?\"\\n어드레 감쑤과? 이래 옵서게.\\n혼저 혼저 옵서게. 솔짝 솔짝 옵서게.\\n\"느영 나영, 두리 둥실 소랑이나 호게 마씀.\"\\n촘말로 가쿠과?\\n\"게메, 홀수가 엇다게.\"\\n\"게민, 나 혼자만 어떵 살랜 마씀?\"\\n\"어떵 호느니, 호꼼만 촘앙 살암시라. 떠나는 내 모심도 울어 지키여.\"\\n\"우이 어멍 사는 바당, 우리 목숨 키운 바당 동에 가민.\"\\n\"동의 바당, 서에 가민 서의 바당 보름 불민 파도 치곡, 비가 오민 날 저물곡.\"\\n\"하늘 고튼 요왕님아, 명주 바당 맨들어서 우리 어멍 설은 가슴, 펭안호게 호여 줍서.\"\\n어떵 살코 마씸? 무사 경 저들멍 살암쑤과? 촘앙 삽서. 경 햄시민 살아짐니다.\\n혼저 옵서게 혼저 오라게 고만 십서게.\\n고만 시라게 무신 거 햄쑤과?\\n무신 거 햄시니? 무사 경 급호꽈?\\n\"무사 경 급호냐? 게메 마씸, 확 옵서게.\"\\n\"기여 게, 확 오라게.\"\\n새각씨 구홀 때랑 모심을 보라. 얼굴 곱들락 혼 것은 혼 덜이여!\\n\"놀씬호곡 멋진 것은 혼 해여! 모심 착한 건, 십 년이 되곡 백 년이 되도 저 소낭 추룩 청청혼다.\"\\n\"어느 모실에 갑돌이옌 호는 소나이와, 갑순이옌 호는 비바리가 살았수게. 둘이는 좋아 하멍도 말은 못하곡, 속은 타멍도 그 까짓거 해여십주. 경 호단, 갑순이가 씨집가게 되난, 그제사 갑돌이가 `아이구! 어멍아!` 하멍 울었수게.\"\\n\"경 해도 어떵 해여 마씀, 홀수가 어서십주. 갑돌이도 부에가 난, 장게를 가 부렀수게. 장게 가는 날은 갑순이도 정지에서 울었수게. 갑순이 모심도 갑돌이 뿐이주만 어떵 홉니까? 사롬 팔재 촘, 몰르능거라 마씀. 게난, 어떵 살코? 저들멍 살지 맙서. 살당 보민, 타고난 팔재대로 다 살아 짐니다.\"\\n\"물 허벅 정 가는 저 비바리야! 물만 지지 말앙, 이 소나이 모심도 정 가도라. 소랑 혼댄 말은 못하곡, 돌고망에 고분 생이고치, 가슴만 톨랑 톨랑!\"\\n어떵 호민 조코 마씀? 멍는거나 고트민 맨도롱 혼 때 호로록 들여싸 불기나 혼다. 물이나 되시민 허벅 속으로 퐁당 들어가기나 혼다.\\n\"영도 못하곡, 정도 못하곡, 비바리야, 촘말로 죽어 지키여! 소나이 타는 모심을 호꼼 만이라도 알아도라.\"\\n우리 제주도 하르방들이 호는 말이 있수다. 밭을 살 땐 에염을 보라. 집을 살 땐 이웃을 보라. 산을 사컨 빌레를 보라. 사돈을 홀 땐 근본을 보라.\\n그리고 우리 어멍들이 고르친 말이 있수다. 홈생이 말라. 촐람생이질 말라. 간세 말라. 느링테질 말라. 요망진 체 말라. 거들락 거리지 말라. 노미 모심 아프게 호지 말라.\\n\"경해사 호는 일들이 펜안해 진다. 살당 보민 잊어 불 때도 있수다만 우리 하르방, 할망, 아방, 어멍들이 혼 말씀들은 촘말로 소중한 교훈들이우다.\"\\n'"
            ]
          },
          "metadata": {
            "tags": []
          },
          "execution_count": 16
        }
      ]
    },
    {
      "cell_type": "code",
      "metadata": {
        "id": "9jKcLRckqtgS",
        "colab_type": "code",
        "colab": {
          "base_uri": "https://localhost:8080/",
          "height": 73
        },
        "outputId": "3c4b13b7-b094-4e5f-f85f-71b58666c596"
      },
      "source": [
        "# 문장기호 \\n 공백이므로 오른쪽 끝 공백 제거하면서 병합하기.\n",
        "import re\n",
        "\n",
        "with open('/content/input.txt') as f:\n",
        "    lines = f.readlines() # 문장을 불러온다음\n",
        "    input_txt = ''.join([line.rstrip() for line in lines]) #restrip()\n",
        "    # 여러라인을 하나로 합칠때는 라인끝마다 공백이 있는데,  .rstrip()이라는 함수로 제거해주어야 합니다. \n",
        "    #.split()을 했을경우는 rstrip()을 따로 해주지 않아도 자동으로 제거됩니다.\n",
        "print(input_txt)\n",
        "\n",
        " \n",
        "input_txt = re.sub(r'[\\'\\\"\\!\\,\\=\\:\\.\\?]' , repl='', string=input_txt)\n",
        "\n",
        "#[] 딕셔너리로 안묶어주면 각각 음절단위로 데이터 하나하나 세버림. 한통으로 묶어주기\n",
        "input_txt=list([input_txt])\n",
        "input_txt"
      ],
      "execution_count": 17,
      "outputs": [
        {
          "output_type": "stream",
          "text": [
            "버래기강생이부각허다강알부끄다개끔분시몰랑개작개작삐암데기검질속슴허라게미융허다솜쫄르멍게작헌쉰달이고라불켜심토맥이곡기다영골다골다왁왁허다곱지다요망지다과랑과랑우영밭괸당웃뜨리굽재짝재짝기시리다제라헌꽝조그물다눈물촐래주레사니니치름촘아가라데껴불켜칭원허다두렁청허다콥데사니들러켬쩌코시롱허다듬삭하다탈멜라지켜통시메기독딱트멍모소완하근디몬뜨글락하다몬직당행글랑이몬짝허당말타몰명허다헌저글라몽케다호썰무리다호야무사흐랑허다배롱허다허운데기배지금허다쪼광물옷센 바당앞바르난바르산목 졸르면 비온다돌 갓쓰민 우친다곰새기 들럭 켬져토끼썼다큰눈소살머정좋다제수가 좋다궐 면했다마당 바랏져큰누작은누절 치대긴다하르방할망아방어멍비바리괸당걸바시넹바리다슴아돌말젯놈소나이성님작산 거좀녀촐람생이홀아방가달꼴랑지구뚱배기꽝굴레대망생이등땡이또꼬망모감지베 봉탱이베아지 볼라불라상판이야게기야굴탁임댕이정겡이저껭이조금태기좀짐팽이허운데기허벅다리놋간수메개역것괴기바당괴기돗괴기쇠괴기도괴기곤떡곤밥놈삐대사니김치마농마농조배기촐래촘지금짐치촙쏠조팝갈옷갈 적삼갈 중이강알터진 바지게와단취밀랑 페랭이보선소중이신착찍신좀뱅이등지게고장중이도폭두루막베불레기우장저구리지성귀지서귀쪼께치메건대사모관대시미옷제복망근방립벙것상갓탕근풍뎅이휘양낭저달리빈네상퉁이얼레기얼레빗쪽도리쳉빗과지남신송락요령복치메구덕고량착낭푼이그릇대배기물구루마바농박새기숟구락제끄락주멩기허벅남죽대접도고리소리바굼지솔박수박귀우금작박장탱이항함박가레죽곡괭이골갱이골각지군데날레군데가레갈체돌끌다께멕말방에벤줄레부게쉐스렁씻부게잠데호미고냥 독생이놀개기박생이독독새기고냉이송애기몽생이돗도새기밭갈쇠부랭이염송애기강생이중이갓돔겡이구젱기물꾸럭게염지멩마구리베랭이베염빙애기생이나람쥐죙이여호노리빙아리쉐쉐막도세기두테비골개비젱비리송키지실감저어욱태역모물굴묵낭가라지꿩마농도채비고장숙대낭퐁낭가베또롱호다간드랑호다간세호다거령청호다곧작호다과랑과랑호다금착호다고렵다돌코롬호다메뜩호다멘도롱호다모드락호다몰치락호다벤조롱호다부치럽다돌글랑호다봉끄랑호다보랑지다펀드렁호다해또록호다산도록호다썸찌근호다실렵다심드랑호다슴두렁펀펀호다솔치다앙살호다앨록호다어중구랑호다얼랍지다얼랍지다엄부랑호다오들랑호다옴탕호다왁왁호다왕왕작작호다요망지다조짝호다좀질다좀좀호다패랍다그저끼아척그지게초냑언처냑요뉠모리소시숭년저슬들언갈라지다데싸지다감장돌다거느리왕상호다거들락거리다거찌다걸러지다고른배기고쩌사다곤작싸다꼴성그리다곱지다구숭호다꾸러박아지다귀태우다고끼다골메드리다늘짝거리다끼리다다울리다댕기다데껴불다되싸지다들럭퀴다몽캐다몽캐다베르싸다부수닥질호다부에나다쎄울르다소곤닥호다소도리호다속솜호다심벡호다악살호다용심내다조글리다저들다다솟예늘곱요든일고여답요나문요섯호나혼잠녀상군요년난거볼망텡이미리내비주제상고지우네노릇낭강알돌밸돌생기작지왓구들통시벤소석밭돌랭이돌데맹이우뚝지동무릅발꼽데기고찌 글라 고찌 가게느영 고찌 글민 지꺼짐이 열배여고찌 글라 고찌 가게느영 고찌 글민 지꺼짐이 백배여영도 곱닥헌 날 공기 좋고 사람 좋고느영 나영 고찌 글민 무신 걱정시냐하영 골민 존다니먹당 보난 살아 지곡 살당 보난 먹어 져라굶엉 보난 알아 져라 배고픔도 인생인 걸어시민 어신양 그저 겅 살곡이시민 이신양 나누멍 살주먹엄직이 살암직이 시상우시멍 사는 시상이 사름 사는 시상이주울당 보난 살아 져라웃당 보난 살아 져라우는 삶도 웃는 삶도 고마운 인생이주어시민 어신양 그저 겅 살곡이시민 이신양 나누멍 살주먹엄직이 살암직이 시상우시멍 사는 시상이 사름 사는 시상이주무명천 할머니 어디 감수과무명천 할머니 펜안 허우꽈4. 3 소건때 총 맞앙 턱을 잃엉 경 살았주55년 간 말도 못허곡 음식도 못 먹으멍상처 난 얼굴 보일 수 어성 무명천을 둘렁목심은 건졌주만 살아도 산게 아니랐주무명천 할망 이랜 날 불렀주만나신디도 이름이 이서났주진아영 이우다놈삐 좀질게 썰엉 솖앙패마농이영 꿰고루 놩 섞엉모멀고루 풀엉 얄룹게 지졍그 우터레 놩 몰민빙떡 이주게두렁청이 어드레 가젠 햄시냐곱들락호게 촐려입어그네 이드레 와그네느영나영 모다들어그네 터졍 도르게빙삭허게 몬딱 베리난 보뎌감시녜도르라 조들지 마랑 도르라 몬딱 도르라도드라 조들지 마랑 도르라 몬딱 도르라용심 내멍 도톼 보난 알아졈시냐느영나영 심벡 해봐사 페들락 햄시녜돈 한 추룩 뺄라진 추룩 오시록 헌 추룩경 해 봐사 핏짝 허난 얼렁 뎅기게도르라 조들지 마랑 도르라 몬딱 도르라도드라 조들지 마랑 도르라 몬딱 도르라아야 머리여 아야 머리여입담허멍 두드렴시민수꾸락 조루 거수루 심엉차반이 바위 두드렴시민훌구룽 몰케염지덜고루삭삭 삐어지국어떵허코 어떵허코핵교 가당 오줌 싸비언어떵허코 어떵허코핵교 가당 오줌 싸비언어떵허코핵교 가당 오줌 싸비언어떵 허코 어떵 허코촘당 촘당 촘지 못행 나와부런게어떵 허코 어떵 허코비가 왐시난 비 맞았덴 골라게나오는 걸 어떵 헐 수 이시냐어떵 허코 어떵 허코겡이 잡당 맨질락허연어떵 허코 어떵 허코겡이 잡당 맨질락허연어떵 허코겡이 잡당 멘질락허연어떵허당 어떵허당곱은 겡이 지달리당 와락 덮쳤주경해그네 어떵 되연완존 뽈라라눈 감았당 터 보난물 쏘곱이 나만 빠졍 이서라어떵허코 어떵허코 어떵허코 어떵허코바당 바당 바당 바당 보름 보름 보름 보름바당 바당 바당 바당 보름 보름 보름날 막 좋앙 바당드레 강 모살밧듸 맨발로 걸엄쩌겡이 호나 나를 뵈련게 절지치는 디로 도람쩌어떵허코 잡아 보카 잡당 실수허민 아야 물릴건디바당 바당 바당 바당 보름 보름 보름 보름바당 바당 제주 바당 보름 보름 보름생이 생이 생이 생이 오름 오름 오름 오름생이 생이 생이 생이 오름 오름 오름어멍이영 손 꼭 심엉 용눈이 오름 올람쩌생이 호나 나를 뵈련게 짹짹짹짹 소릴 호염쩌어떵허코 잡아 보카 아맹 잡젠 해도 택도 어실건디이녁 가슴 쏘곱엔고은 꽃덜이 만발혼 생이라영 골아도 빙세기 웃곡정 골아도 빙세기 웃곡이녁 가슴  쏘곱엔황소 혼마리 들어앉은 생이라영 골아도 속솜정 골아도 속솜이녁 가슴  쏘곱에 들어가 보젠욕심이영 미움이영손  불끈 잡아둠서기웃 기웃 거렴신디꿀벌이영 일벌이영날아 댕기는걸 보난이녁 가슴 쏘곱엔송이꿀보다도 더 단무언가로 솜 빡혼  생이라휘이이보름 분다보름 불어저 바당이저 보름이손짓햄쩌말 골암쩌테왁 메영 골갱이 들렁바당이영 춤을 추엄쩌우리 어멍 우리 바당혼몸 되엉 춤을 추엄쩌바당아 보름아눈물 남쩌 눈물 남서우리 어멍 지켜도라이어도 이어도 사나이어도 이어도 사나이어도 이어도 사나이어도 이어도 사나보름은 팡팡 불곡덜 요문 조코 고리이레 배령 인사허곡저레 배령 인사허곡낭가쟁이덜은 서로 심벡허멍 좁아댕기곡절지치는 요메기 바당엔 빈 구젱기 껍데기 둥글어 댕기곡담우이 걸쳐진 감저줄에동글동글 도라진 감저동가리이래 도라앉작 저래 도라앉작워어허허 보름 보름 보름 부는 제주의 하늘아먹쿨낭 꼭대기에 앚인 먹쿨 생이 안 털어져보잰 낭가쟁이 꽉심엉 있곡조밭 볼리는 몽생이 조름에 일어나는 흙구듬은 노미 밧더레 넘어가곡동네 큰 폭낭 아래 검불령 가젠허민불어오는 저 보름은 무사 영 건드러운지기여 혼저 가라기여 혼저 가라보름아해녀 삼춘 또시 또시 물에 감쩌테왁 메영 골갱이 들렁 좀수복 입엉 뒤뚱뒤뚱절이치는 바당더레 강 보난테왁덜이 동동동동 춤을 췀쩌해녀 삼춘덜 또시 물에들었쩌숨비소리 쏟아가멍 또시들멘궤기추룩 홀랑홀랑 꼬릴 췀쩌나도 확 벗엉 물쏘곱이 들어가보카테왁 들렁 이짝드레 온거 보난성게도 지깍 구젱기영 전복이영아고 이건 뭐라 물꾸럭도 잡앙 와신게아고 삼촌 물꾸럭 나 얼마마씸?아고 조케야 느랑 기냥 거정가불라에고 무신 소리꽈 게민 조냑에랑 당근파당 거정안내주마씀물빡으로 물먹으민 시염 안돋나.물애기 옷을 막개로 뽈민 애기놀랜다.밤에 얼래기질 호민 모솜탄다.비는 놈안틴 지여사 혼다.비 온날 쇠총지 이레 착 저레 착 혼다.빈 고래질 호민 숭년 든다.가난한 사람 못할 일 읏나까메기 까옥 호민 촘새도 조조조 혼다까메기 똥 케우리듯까메기 모른 식게까메기 알라구리 털어질 소리가시어멍 눈 멜를 사위\"가시어멍 장 읏인 깐에, 사위 국 실픈 깐에\"각시 아꼬우민 처갯 칩 몰팡 돌에 절혼다.각시 읏인 건 안 섭섭해도 남통머리 잃른 건 섭섭호다.각시 읏인 처갯칩 가나 마나갈치가 갈치 꼴랭이 그차 먹나갭인년 숭년에도 먹당 남은 게 물이여\"갓쟁이 헌 갓 씨곡, 심방 놈 빌엉 굿 허곡\"강생이 똥은 똥 아니가개가 똥을 촘주개도 비치락으로 안 또린다.\"개똥을 모소왕 피 호느냐, 더러웡 피호주\"개똥도 약에 쓰젠 허민 귀혼다\"건지 먹은 놈이나, 국물 먹은 놈이나 \"검은 독도 흰 독새기 난다\"것 구숭 호로 조식, 글 구숭 양반 조식\"것 멋을 땐 개도 안 또린다것 박접허면 죄 짓나게드레기도 집이 싯나곤 사름은 맥을 씌어도 곱나곤 년 잡아 들이렌 허난 솔친년 잡아 들인다곧은 낭은 가운디 산다골체 부지런은 하늘도 못막나\"공께엥 허민 눈도 뻘겅, 코도 벌겅\"공껀 씨여도 돈다.공부허렌 허난 개잡는걸 뱁나고튼 품이민 홀어멍 칩 머슴산다.구젱기 똥누레 가불민 게드레기가 기어 든다.국 하영 먹으민 가시어멍 눈 멜라진다.굼벵이도 꿈불 재주 있나\"귀막앙 삼년, 눈 어둑엉 삼년, 말몰랑 삼년 살암서사 가렝 오렝 말 읏나\"귀신 대접 잘 호영 그른디 읏나귀소문 말앙 눈소문 호라귀신도 빌민 듣나괸당은 옷 우이 보름그 날 액은 망데기 안에 아자도 깬다그짓말도 외삼춘 보다 낫나글 못허는 놈 붓 골린다.글 배우렌 호난 홀어멍칩 강생일 또린다.기도 못호는게 놀젱 혼다깅이광 보말도 지집 싯나기시린 도새기 도라멘 도새기 타령혼다.골체 부지런은 하늘도 못막나고튼 품이민 홀 어멍칩 머슴산다.고늘이 먹곡 고늘이 쓰라관덕정이 설렁탕도 먹어난 놈이 먹나끅 걷으레 간 놈이 정당 벌립 망 돌른다.나간 놈 찍신 셔도 자는 놈 찍신 읏나나댕기는 개가 꽝 물어 온다.나 땅 까메긴 검어도 아깝나나서 화목은 남조가 허곡 들어 화목은 여조가 혼다.나 한 아재비 지라.\"남조가 디딘 풀은 유울곡, 여조가 디딘 풀은 안 유운다.\"낭도 늙엉 고목되민 놀단 생이도 아니 온다.낭이 좀 먹주 세월 좀 안먹나나 똘이 고와사 사윌 골른다.너미 골리당 눈 까진 사윌 골린다.\"노름쟁이 뒤랑 대곡, 먹는 놈 뒤랑 대지말라.\"노름은 신 신을 때 봐사 안다.노름쟁인 망호여도 흥호진 못혼다.노리 또린 막땡이 3년 우려 먹나노리궤기 혼점 먹젠 호당 지 궤기 열 점 일른다.노루고기 한 점 얻어 먹으려다가 자기의 고기 열점을 잃은다.놈 곱진 것 쉐도 못 찾나\"놈광 심백은 호곡, 게심이랑 허지 말라.\"놈 싼 훼에 깅이잡기.놈이 눈에 피 내우젠 허민 이녁 눈엔 고름 나사 혼다.놈이 쉐 들럭키는 건 보기 좋나.놈이 숭 털민 이녁 숭 된다.놈이 집광 관장살인 궤던 밥도 내부러동 돋나.놋 시칠 때에 물 하영 쓰민 죽엉 가민 다 먹어사 혼다.눈 까진 똘 고졍 사윌 고른다.눈 낭에 요름 요는냐?눈 썹에 불 붙어도 끌 조를이 읏나.늘근 쉐 콩 주엉 말덴 호느냐?늑신네가 젊은 첩 호민 불 본 나비 놉뜨듯 혼다.\"니 아픈 부릅씨랑 허곡, 눈 아픈 부릅씨랑 말라.\"\"다심 아덜은 콩 죽 멕이곡, 원 아덜은 폿 죽 멕인다.\"\"다심아방 궤기 써는 디랑 가고, 원아방 낭깨는 디랑 얼씬을 말라.\"대천 바당도 건너 봐사 안다.대정 몽생이 요망진다.덴디 꺼럭 아니 돗나도 터질 밭디 모쉬 들듯.도둑놈광 샛뭇은 묶엉 세와노민 똑 닮나.고맙습니다가십시오제가 당신을 무척 사랑합니다남편 옆에 같이 앉으세요사람 있습니까잘 있었습니까아버지 어머니 모두 편안하셨습니까머리 조심하세요어디갔다가 오십니까자기 것은 작게 보인다누구십니까제 얼굴이 예쁘지요별로 이쁘지 않네요오천원입니다큰일 났습니다어떻게 생겼던가어디로 모실까요똑똑하고 영리하게 생겼습니다제주특별자치도에서 삽시다따스합니까왜 그러십니까오시느라 고생 많으셨습니다빨리빨리 더빨리 오세요참말로 이쁘고 둥실둥실합니다이곳은 바람도 많이 불고있네소문나면 저는 모른다이곳에 있으니 엄마 보고싶다지쳐서 잠이 온다햇볕은 쨍쨍 모래알은 반짝반짝아무리 이야기하여도 귀 눈이 캄캄그러기에 말입니다나를 보십시오잘되어 버렸다어마어떻게 하지제주도 사투리로 말 호난무신거랜 고람 신지 몰르쿠게게메 마씀귀 눈이 왁왁하우다경해도 고만히 생각호멍 들으민 호끔씩 알아집니다.오랜만이우다몸은 펜안 하우꽈얼굴이 펜안해 보염수다혼저옵서예제주도 오잰하난 폭삭 속아수다제주도 오난 촘말로 좋수다산이영 바당이영 몬딱 좋은게 마씀많이많이봥으네 서울에 갈 때랑 하영 담앙 갑서게메 양경 해시민 얼마나 좋코 마씀\"안트레 들어 왕, 밥 먹엉 갑서\"제주도 와시난 전복죽드셔봥 가살꺼 아니꽝혼저 왕 드셩갑서맨도롱 했수과뜻뜻혼 게 먹기 똑 좋았수다맛있수다여기예이거 키로에 얼마마씨?사천원마씨기꽝?사천원치 줍서하영줍서예많이 담암수다양맛있게 드십써 양삼성혈가잰하는디예어디로 가면 되마씨?여기서 10분만 밑트레강 칼호텔조끄티서 바로 왼펜돌아가민 되우다알아지쿠가?\"거기강 봥으네, 아무사람이나 잡앙 물어보민 잘 말해 줄꺼우다\"관광 잘행 갑써예혼저옵서예고만이십서게고만 이시라게무신거 햄쑤꽈?무신거 햄시니?무사 경 급호꽈?무사 경 급호냐?확 옵서게어떵 살아 점수꽈?무싱거엔 고람쑤꽈?귀 눈이 왁왁하우다.맨도롱 혼때 호로록 들여 싸 붑써무싱 걸 몽캐미꽈?\"왕 봅서, 고랑은 몰라 마씀\"곱들락 호게 몬뜰락 벗엉 옵서어디 갔당 왐수꽈?어드레 감수꽈?\"둥그리멍 키웁서, 경 해사 혼저 큽니다.\"\"어떵 살코, 저들지 맙서, 촘앙 살민 살아집니다\"느영 나영 두리둥실 소랑호게 마씸혼저 옵서제주도에 오난 어떵 하우꽈?촘말로 좋수다왕 봅서고랑은 몰라마씀무상 경 고람수꽈?몽캐지 말앙 혼저 오라게호꼼만 이십서게혼저 왕 먹읍서맨드롱 했수꽈?맨도롱 홀 때 호로록 들여 싸붑서혼저 옵서.\"제주도 사투리로 말 호난, 무신 거옌 고람 신디 몰르쿠게?\"게메 마씀.귀 눈이 왁왁하우다.경해도 고만히 생각호멍 들으민 조금씩 알아집니다.제주도 사투리 촘말로 귀하고 아름다운 보물이우다.펜안 하우꽈?제주도에 오난 어떵 하우꽈?촘말로 좋수다.\"공기도 맑고, 산이영 바당이영 몬딱 좋은게 마씀.\"서울에 갈 때랑 하영 담앙 갑서.\"게메, 양.\"경 해시민 얼마나 좋코 마씀?\"저기, 물허벅 정 가는 거, 비바리덜 아니꽈?\"맞수다.\"비바리도 있고, 넹바리도 있수다.\"비바리덜 곱들락 호고 놀씬하우다 양!\"경 합주게, 산 좋고 물 좋은 제주도에 사난 모심도 착하고 얼굴도 곱들락 홉니다.\"고랑은 몰라 마씀.제주도에 왕 봐사 알아짐니다.\"돌도 많고, 보롬도 많고, 비바리도 많고, 유채꽃도 곱드락 호게 피었수다.\"아명 고라도 몰라 마씀.혼저 왕 봅서.제주도엔 보름이 많이 있수다.\"동쪽에서 부는 보름, 샛보름.\"\"서쪽에서 부는 보름, 갈보름.\"\"남쪽에서 부는 보름, 마포름.\"\"북쪽에서 부는 보름, 하늬보름 이우다.\"한락산에 올랑 봅서.발 아래 구름들이 왔닥갔닥 호곡 아득혼게 꿈속 고틉니다.옛날에 신선들이 힌 사슴 타멍 놀았댄 해연 백록담 아니꽈.제주 사롬들은 돌 하르방 보멍 살았수다.\"경 호난, 거짓말 홀 줄 모르곡 서로 믿으멍 착하게만 살았수게.\"\"봅서, 어시민 도와 주곡, 이시민 나누엉 먹곡, 인정 많고, 소랑 많은 돌하르방 손지들 이우다.\"\"장게간 날 밤, 새 서방이 말했수게.\"\"`새 각시야, 혼저 오라게.`\"`무사 마씀?``호꼼만 이십서게.``뭉캐지 말앙 혼저 오라게.`새 각시가 새 서방 품에서 솔째기 말해십주.`날 얼마나 소랑햄쑤과?`\"`저기 한락산만큼, 또 바당만큼 소랑햄쩌.`\"\"`경 마랑, 요 가슴패기 만큼만 소랑해 줍서.`\"\"`기여, 느영 나영 두리 둥실 소랑호게.`\"신랑이 신부에게 말했수게.`이 조끄뜨레 오라게.``무사 조끄뜨레만 오랜 햄수과?``호꼼이라도 고치만 있고 싶언.``놈덜 웃읍니다.``어떵 호느냐? 소랑에는 부치룸이 엇나.`무사 경 고람쑤과?혼저 왕 소랑하멍 살게 마씀.성 내멍 살아도 혼 세상 저들멍 살아도 혼 세상 이우다.가난해서 웃으멍 살게 마씀.삼다도옌 행게마는 촘말 돌이 많쑤다.양?옛날엔 한락산이 화산이란 돌이 많쑤게.\"아이고 게, 저기 돌고망에 핀 꽃 봅서 돌고망으로 보는 바당은 꼭 그림 답쑤다.\"바다에 강 봐사.풍랑을 알아 지곡 조식을 나 봐사.부모 모심 알아 지곡 사롬은 만낭 살아 봐사.\"진심을 알아 지곡 소랑을 해 봐사, 눈물도 알아 짐니다.\"사롬은 서로 서로 도우멍 사는 거여!욕은 고냉이 밤눈 어둡덴 혼다.이녁만 욕은 체 호멍 살당 보민.지 욕심에 걸령 지가 넘어진다.서귀포 바당에 가민 알아 짐니다.무신것이 소랑이고.무신 것이 그리움인지.안개 낀 부둣가에 뱃고동 울어 주민옛님이 그리웡 눈물이 잘도 납니다.조냥 하멍 살아사 혼다.오늘보다 내일 생각호곡.내일보다 모레 생각호곡.경 해사 일생을 펜안호게 살아진다.요새 아이덜.너무 호강 햄쩌 경 호난호꼼호민 아프곡.울곡 햄시녜.둥구리멍 질룬 독새시가 빙애기 된댕 혼다.어진 때 고생도 호곡 해사 큰 사롬 된다.혼저 왕 먹읍서.맨도롱 했수과?똣똣혼 게 먹기 똑 좋았수다.맨도롱 홀 때 호로록 들여 싸붑서.\"동 텃저, 어서 글라.\"일 해사 먹엉 산다.부지런 혼 건 하늘도 못 막낸 해라.\"혼저 촐령 가사, 일 홀 거 아니가.\"시집 가 보난 영 해라.돌탱이 고튼 시아방에.물폐기 고튼 시어멍에.물꾸럭 고튼 서방에.고냥독새 고튼 시누이에.가도 가도 고생이라라.어드레 감디?바당에 어멍 안티 감쑤다.\"경 호건, 이거 가정 가라.\"무싱 거꽈?\"느네 어멍, 바당에서 물질 호멍 먹을거여.\"이추룩 억울할 때가 있수과?소정해도 시원호지 않을 놈이 큰 소리라 마씸.\"초마 가라, 그거 도둑놈 심뽀구나.\"\"게메 마씸, 그런 사롬이 어디 있수과?\"시험에 떨어진 아들이 아방 안티 말했수다.\"`난, 아명 해도 안되쿠다.`\"\"`무사, 안된댄 생각 햄시냐?`\"\"`해도 해도 안되는디, 어떵홉니까?`\"`먹돌도 똘람 시민 고망이 난다. 햄시민 된다.`똘년이 돌으멍 가단 푸더전 마씀.으마떵 호리.경 호연 어떵 해서 ?병원에 갔수게.\"간 보난, 꽝이 뿌서졌덴 마씀.\"\"혼, 열흘간 입원 해사 혼덴 햄쑤다.\"족댕 나무래지 말라.조근게 요망진다.큰 건 보롬만 불어도.홍글랑 홍글랑 호지만 호꼴락 혼 건.똔똔호곡 펜주룽 혼다.어드레 감수과?바당에 괴기 사레 마씀.\"무사, 누게 왔수과?\"서울서 족은 아방네 완 마씀.\"게민, 멩심허영 갔당 옵서.\"어멍이 해 준 밥 먹어 봅서.촘말로 맛이 좋수다.무상고 마씀?그건 어머님의 사랑호는 모심이 밥속에 고득 고득 들어 이시난 아니꽈.소도리 행 댕기지 맙서.소도리는 놈덜 싸움만 맨듭니다.옛부터 싸움은 멀리곡.흥정은 부치렌 했수다.\"게난, 좋은 소린 크게 호곡.\"궂은 소린 속솜 해 붑서.두 가시가 어드레 경 돌암서?\"큰 똘, 애기 낫댄 햄 감쑤다.\"경 했구나.무슨 애기 나서?아덜 마씀!\"아이고, 잘 됐구나게!\"혼저 강 봐 게.\"강, 방 옵서.\"\"왕, 방 삽서.\"\"영 호곡, 정 호곡 홉서.\"경 고라 줍서.\"가지 말앙, 영 호멍 삽서.\"\"서방님, 제주도에서 살게 마씀.\"좋주마.널은 바당.좋은 공기.인심좋은 사롬들광 살민 살 맛 날거라.살당 지치민.풍덩 바당에 들어 가곡 마씀.\"둘이 먹당, 호나 죽어도 몰르는 건 무신거꽈?\"돌코롬 혼 제주도 전복죽이주!\"둘이 보당, 호나 죽어도 몰르는 건 무신거꽈?\"곱들락 혼 제주도 비바리주!게민 옵서.전복죽 먹곡 비바리 보래 가게 마씀.과랑 과랑혼 벳디 일 호젠 호난 속았수다.속을 거 있수과?\"호꼼, 똠은 났수다만.\"안트레 들어 왕.조녁 먹엉 갑서.경 호카 마씀.제주 바당에 가민 바당이 말을 홉니다.사롬보다.더 조잘조잘 말을 하곡.사롬보다.더 소랑도 하영 홉니다.경 호멍.낮이나 밤이나 꽃을 피웠당.지웠당 홉니다.제주 바당에 강 봅서.미운 것도 엇어지곡.슬픈것도 엇어지곡.가슴으로 바당물만 들곡 나곡 호멍.두리 둥실.둥그대 당실.소랑만 고득하게.담앙 옵니다.서울서 새각씨 왔수다.어떵 생겨서?요망지게 생겨십디다.솔째기 웃으멍 말 호는 거 보난.착햄직 홉디다.그 나쁜 놈!볼망텡이를.박아 불거 아니꽈?경 했주!모가지 잡안 흥글단.대맹이로 뱃대기를.박아 부난.둥글멍 자빠정게!잘 콰니여!그런 놈은.혼내 줘사 홉니다.쌍둥이 어멍!\"고생햄쭈, 이?\"둘이가 고름배기 해연.죽어지쿠다.경 홀거라.\"게도, 놈 호고 싸울 땐.\"지네 펜백들멍 싸워 마씀.요 년 난거 보라.놈이 소나이영 말 호곡.벌써부터.서방질 햄시냐?아니우다 게.바당드레 가단.질 모른 사롬 이시난.질 고르쳐 줬수게.아이구 게.큰일 났수다.\"무사, 경 들락켬시니?\"와리지 말앙.촌촌이 고라 보게.경호난 양.영 호곡.정 호곡 했수게.게난.욕심 내멍 살민.경 혼다.새각씨야.그거 앗아 도라.무사.당신은 손 엇수과?발 엇수과?경 호지 말앙.좀 앗아 주민.어떵 호느냐.버릇나 마씀!밸 놈의 요망진 소리.그만 호라.\"이제 가게, 짐 촐리라.\"알았수다.아이덜도 도랑 가카 마씀?\"기여, 모딱 고치 가게.\"\"하르방, 할망이 좋아할거여.\"야게기에 때 밀라.\"저깽이영, 정겡이도 밀곡.\"\"옷 벗엉, 강알 트멍도 밀라.\"사롬 몸은 곱닥해사 혼다.무신 걸 먹으코?\"게메 양, 제주도에만 이신 거 먹게 마씀.\"\"그젱기에, 보말에, 옥돔생성, 또 있수다.\"모멀 범벅에 자리젯!먹을 것도 촘 하영 있저.\"무사, 난 호꼼만 줨쑤과?\"이놈아!욕심 먹은 눈에는.지 껏이 족아 베곡.놈의 껏은 커 베는 거여!똑고치 나눈 것을 어찌 크다 족다 햄시니?어멍이 용심 난.옴찍 안햄쑤다.경 호곡 말곡!믿던 낭에 곰팽이 핀댕 게마는.하도 억울호게 당해부런 아니가.어멍 모심 달래 드리라!독이사 울엉 날이 새주마는.내사 울엉 어느 날 새리.독의 목에 통쇠나 종강.내가 대신 울어나 보카.요 바당에.요 물에 들언 좀복.구젱기.고득하게 잡아당.혼 푼.두 푼.모이단 보난.서방님 술깝에.몬딱 들어 감쩌.두렁청 호게.다울리멍.일호지 말라.바농 존둥이.졸라 메영.바농질 되는 거.봔디야?촌촌히 생각호멍.호나씩 해사.일이 된다.살당 보민 고생홀 때도 있곡.어려웡 쓸어질 때도 있저.\"경해도, 허천 베레지 말라.\"곳작 호게 걸어 감시민.나종엔 꼭 성공혼다.한림공원에 강 봅디가?\"밸의 밸, 낭이랑 꽃이랑 잘도 곱디다.\"소랑호는 사롬은 꼭 강 봐사 혼댄 마씀.\"경 해사, 소랑호멍 잘 산댄 고릅디다.\"서울서 온 소나이 제주 비바리에 미쳐 부런.\"오늘 가카, 넬 가카, 호단 보난 옴짝 못핸 살암서라.\"\"새 각씨, 무사 안 왐쑤과?\"어떵 된 거 아니우꽈?\"강, 돌앙 옵서. 무신걸 경 몽캠신고?\"오늘랑 우리 밭디 마농 심거 줍서.\"경 홉주마! 겐디, 비 옴직 해염쑤다.\"동그레 구름이 시커멍 햄신게 마씀.\"게민, 호꼼 있당 와 줍서\"아척부터 조녁까지.두리 둥실 사랑 호곡.구경 호곡.경 호단 보난.꽝이 복삭하우다.소랑 홀 땐 솔째기 골라.누게 들엉 웃나.아무도 몰르게.느영 나영만 솔째기 호게.어멍이영 고치 옵세.오당그네.\"영 호곡, 정 호곡 홉서.\"\"무사, 경 숨 고끼멍 고람서?\"짐 진놈이 팡을 촛주게.\"게난, 걱정 말앙 고만이 이서.\"\"저기, 요새 애들 옷 입언 댕기는 거 봅서.\"허벅지도 내 놓곡.베또롱도 내 놓곡.\"그거, 무슨 요망들이라!\"\"경 말앙, 몬뜰락 벗엉 댕기주 게.\"호꼼 미안하우다.이게 얼마꽈?오천원 마씀.호꼼만 싸게 안되카 마씀?\"경 해사, 다시 올 거 아니꽈?\"한락산드레 가젱 호민 어떵 갑니까?바당드렌 어떵 갑니까?\"차 타젱 호민, 하영 가사 홉니까?\"\"제주도엔 가당 봐도 바당이우다, 양!\"\"들어 왕, 놀당 갑서.\"경 호카 마씀.\"여기, 불 조끄띠 안즙서.\"똣똣하우다.\"촘말, 맨도롱혼 게 좋수다.\"무싱거옌 소곤닥 햄시니?\"비바리, 씨집 보내키옌 마씀.\"\"경 해사주게, 잘 생각했저.\"똘년은 나이 차민 혼저 보내 산다.경 들럭퀴지 말라.초든초든 말 들엉 생각호라.어떵 혼 일인지 알아사 홀 꺼 아닌가?경 하당 숨 넘어 가키여!돌코롬 혼 거 엇수과?\"게메, 어떵 것이 돌코롬 호코?\"사탕을 주카 마씀?아니우다.게민 솔문 독새기나 호나 줍서.어드레 감쑤과? 이래 옵서.저들멍 살지 맙서.\"영 살아도 혼 세상, 정 살아도 혼 세상.\"두리 둥실 느영 나영 소랑이나 호게마씀.\"앞 낭에 아진 새야, 무사 경 울엄시냐?\"\"서울간 우리 서방, 재게 오랜 울엄시냐?\"\"저승 간 우리 어멍, 그리원 울엄시냐?\"\"내 모심, 아는 건 저 생이 뿐이구나.\"\"저기 보라, 느네 아방, 어멍 혼디 감쩌.\"\"게메, 어디 감신고?\"\"하르방, 할망은 어신게!\"괸당집이 상 난에 감실거우다.무싱거 하미꽈?도르멍 옵서. 무사 경 다울렴디?해 저물민 어떵 홉니까?왁왁호민 질 잃어부렁 큰 일 납니다.강 보라. 니네 새서방 왔저.\"아이구, 부치루완 어떵 호코 마씀.\"앗다. 양양게 피우지 말라.혼저 가그네 '옵디가' 인사 호라.어디 갔단 왐수과?밭디 갔다 왐쩌. 어드레 감디?바당에 괴기 낚으레 감쑤다.절 쎄어서라. 조심호곡 혼저 오래.\"이젠, 니 인생은 니가 알앙 가야 혼다.\"알았수다. 잘 살크메 걱정 맙서.기여. 아는 질도 들으멍 가라.조심하멍 가는 질은 펜안혼다.무싱거 하미꽈? 혼저 옵서게.기여 알았저. 혼저 글라.푸더지질랑 말앙 옵서.\"돌, 조심호곡 고짝 옵세.\"제주도 비바리가 경도 좋으냐?고랑은 몰라 마씀. 왕 봐사 알아집니다.\"모심도 좋고, 얼굴도 좋고, 집안도 좋아 마씀.\"\"여보, 나 등땡이 고렵다.\"\"어디, 영 홉서, 보게.\"\"아이구, 베렝이 물어싱게 마씸.\"약 볼라사 하쿠다.돌아 맨 도새기야!니 신세가 불쌍호다.\"아이구, 기시린 도새기야!\"나 걱정 말앙 니 죽어 가능 거나 걱정호라.죽어 가능 게 벨것 다 걱정햄시니?돌 고냥으로 보라.꽃들이 모들락 호게 피어 있저.\"우리 님의 얼굴도, 꽃치 되언 피엄쩌.\"소랑 소랑 소랑꽃도 고득호게 피엄쩌.\"괴기, 멍텅혼 건 잡아나 먹곡 낭, 멍텅혼 건 불이나 솜곡 돌, 멍텅혼 건 담이나 닷나.\"\"사롬, 멍텅혼 건 아무 것에도 못 쓰키여!\"\"느영, 나영, 둘이 둥실 낮에 낮이나, 밤에 밤이나 쌍소랑 이로구나.\"\"아척에 우는 생인, 배가 고팡 울고요.\"\"조녁에 우는 생인, 님 그리웡 운다.\"\"널븐 바당 앞을 재여, 혼질 두질 나아가곡 짚은 바당 짚일 재여, 혼질 두질 들어가민 저승길이 왔닥 갔닥.\"\"이어도 사나, 이어도 사나, 이어도가 저승질이 반이옌 혼다.\"새서방 들어 왐쩌.저리 고쩌 사불라 영 홉서.호꼼만 보게마씀!\"몰치락 혼게, 잘도 생겼저.\"\"말도 안 득곡, 일도 안 호곡, 촘말로, 경 호민 뚜러메당 데껴 불키여.\"사롬은 일해사 살아 지는거여!호꼼씩 먹으라. 숨 넘어가키여. 배 고판 마씀.경 먹당은 숨 고끼키여! 누게 도둑질 안하메 촌촌히 먹으라.사롬 있수과? 누게꽈? 웃 동네 갑돌이 어멍 이우다.\"아이구, 어떵 호난 와 집디가 게?\"\"우리 똘은 아무것도 몰라 마씸. 분시 몰른 애기, 설운 애기 우다.\"잘 돌앙 살아 줍서 고르치멍 살아사 할 꺼우다.무신 걸 잘 하구랜 큰 소리꽈?똥 뀐 놈이 성 냄쩌.누겐 입 어선 말 못 햄시카 부댄?\"지랭이도 볼부민 꿈틀락홉니다, 양!\"\"나 모심 몰르쿠과? 당신만 보민 가슴이 금착 금착 영도 못하곡, 정도 못하곡, 나 모심, 나도 몰르쿠다.\"어느제 옵디가? 혼 사나흘 됐수다. 다들 펜안 했수과? 어떵 살아 점쑤과?\"씨집가난 어떵 홉디가? 아이고, 말도 말라.\"\"무신 거시 무신 건지, 귀 눈이 왁왁해라.\"서울엔 언제 가쿠과? 갈 때랑 날 도랑 가 줍서.\"서울 강 무싱 거 호젠? 구경도 호곡, 서울 소랑도 해 보젠 마씀.\"\"무사, 무싱 거옌 고릅디가? 솔째기 왕 말홉서, 보저.\"\"게메, 말호카, 말카? 속 태우지 말앙 확 홉서게.\"\"게민, 놈 혼테랑 아무 말도 호지 맙서, 양?\"\"누게 있수과? 안녕 하우꽈? 아방, 어멍 다 펜안 했수과? 어디 갔당 왐쑤과? 요새 어떵 살미꽈? 좋수과?\"어드레 감쑤과? 이래 옵서게.혼저 혼저 옵서게. 솔짝 솔짝 옵서게.\"느영 나영, 두리 둥실 소랑이나 호게 마씀.\"촘말로 가쿠과?\"게메, 홀수가 엇다게.\"\"게민, 나 혼자만 어떵 살랜 마씀?\"\"어떵 호느니, 호꼼만 촘앙 살암시라. 떠나는 내 모심도 울어 지키여.\"\"우이 어멍 사는 바당, 우리 목숨 키운 바당 동에 가민.\"\"동의 바당, 서에 가민 서의 바당 보름 불민 파도 치곡, 비가 오민 날 저물곡.\"\"하늘 고튼 요왕님아, 명주 바당 맨들어서 우리 어멍 설은 가슴, 펭안호게 호여 줍서.\"어떵 살코 마씸? 무사 경 저들멍 살암쑤과? 촘앙 삽서. 경 햄시민 살아짐니다.혼저 옵서게 혼저 오라게 고만 십서게.고만 시라게 무신 거 햄쑤과?무신 거 햄시니? 무사 경 급호꽈?\"무사 경 급호냐? 게메 마씸, 확 옵서게.\"\"기여 게, 확 오라게.\"새각씨 구홀 때랑 모심을 보라. 얼굴 곱들락 혼 것은 혼 덜이여!\"놀씬호곡 멋진 것은 혼 해여! 모심 착한 건, 십 년이 되곡 백 년이 되도 저 소낭 추룩 청청혼다.\"\"어느 모실에 갑돌이옌 호는 소나이와, 갑순이옌 호는 비바리가 살았수게. 둘이는 좋아 하멍도 말은 못하곡, 속은 타멍도 그 까짓거 해여십주. 경 호단, 갑순이가 씨집가게 되난, 그제사 갑돌이가 `아이구! 어멍아!` 하멍 울었수게.\"\"경 해도 어떵 해여 마씀, 홀수가 어서십주. 갑돌이도 부에가 난, 장게를 가 부렀수게. 장게 가는 날은 갑순이도 정지에서 울었수게. 갑순이 모심도 갑돌이 뿐이주만 어떵 홉니까? 사롬 팔재 촘, 몰르능거라 마씀. 게난, 어떵 살코? 저들멍 살지 맙서. 살당 보민, 타고난 팔재대로 다 살아 짐니다.\"\"물 허벅 정 가는 저 비바리야! 물만 지지 말앙, 이 소나이 모심도 정 가도라. 소랑 혼댄 말은 못하곡, 돌고망에 고분 생이고치, 가슴만 톨랑 톨랑!\"어떵 호민 조코 마씀? 멍는거나 고트민 맨도롱 혼 때 호로록 들여싸 불기나 혼다. 물이나 되시민 허벅 속으로 퐁당 들어가기나 혼다.\"영도 못하곡, 정도 못하곡, 비바리야, 촘말로 죽어 지키여! 소나이 타는 모심을 호꼼 만이라도 알아도라.\"우리 제주도 하르방들이 호는 말이 있수다. 밭을 살 땐 에염을 보라. 집을 살 땐 이웃을 보라. 산을 사컨 빌레를 보라. 사돈을 홀 땐 근본을 보라.그리고 우리 어멍들이 고르친 말이 있수다. 홈생이 말라. 촐람생이질 말라. 간세 말라. 느링테질 말라. 요망진 체 말라. 거들락 거리지 말라. 노미 모심 아프게 호지 말라.\"경해사 호는 일들이 펜안해 진다. 살당 보민 잊어 불 때도 있수다만 우리 하르방, 할망, 아방, 어멍들이 혼 말씀들은 촘말로 소중한 교훈들이우다.\"\n"
          ],
          "name": "stdout"
        },
        {
          "output_type": "execute_result",
          "data": {
            "text/plain": [
              "['버래기강생이부각허다강알부끄다개끔분시몰랑개작개작삐암데기검질속슴허라게미융허다솜쫄르멍게작헌쉰달이고라불켜심토맥이곡기다영골다골다왁왁허다곱지다요망지다과랑과랑우영밭괸당웃뜨리굽재짝재짝기시리다제라헌꽝조그물다눈물촐래주레사니니치름촘아가라데껴불켜칭원허다두렁청허다콥데사니들러켬쩌코시롱허다듬삭하다탈멜라지켜통시메기독딱트멍모소완하근디몬뜨글락하다몬직당행글랑이몬짝허당말타몰명허다헌저글라몽케다호썰무리다호야무사흐랑허다배롱허다허운데기배지금허다쪼광물옷센 바당앞바르난바르산목 졸르면 비온다돌 갓쓰민 우친다곰새기 들럭 켬져토끼썼다큰눈소살머정좋다제수가 좋다궐 면했다마당 바랏져큰누작은누절 치대긴다하르방할망아방어멍비바리괸당걸바시넹바리다슴아돌말젯놈소나이성님작산 거좀녀촐람생이홀아방가달꼴랑지구뚱배기꽝굴레대망생이등땡이또꼬망모감지베 봉탱이베아지 볼라불라상판이야게기야굴탁임댕이정겡이저껭이조금태기좀짐팽이허운데기허벅다리놋간수메개역것괴기바당괴기돗괴기쇠괴기도괴기곤떡곤밥놈삐대사니김치마농마농조배기촐래촘지금짐치촙쏠조팝갈옷갈 적삼갈 중이강알터진 바지게와단취밀랑 페랭이보선소중이신착찍신좀뱅이등지게고장중이도폭두루막베불레기우장저구리지성귀지서귀쪼께치메건대사모관대시미옷제복망근방립벙것상갓탕근풍뎅이휘양낭저달리빈네상퉁이얼레기얼레빗쪽도리쳉빗과지남신송락요령복치메구덕고량착낭푼이그릇대배기물구루마바농박새기숟구락제끄락주멩기허벅남죽대접도고리소리바굼지솔박수박귀우금작박장탱이항함박가레죽곡괭이골갱이골각지군데날레군데가레갈체돌끌다께멕말방에벤줄레부게쉐스렁씻부게잠데호미고냥 독생이놀개기박생이독독새기고냉이송애기몽생이돗도새기밭갈쇠부랭이염송애기강생이중이갓돔겡이구젱기물꾸럭게염지멩마구리베랭이베염빙애기생이나람쥐죙이여호노리빙아리쉐쉐막도세기두테비골개비젱비리송키지실감저어욱태역모물굴묵낭가라지꿩마농도채비고장숙대낭퐁낭가베또롱호다간드랑호다간세호다거령청호다곧작호다과랑과랑호다금착호다고렵다돌코롬호다메뜩호다멘도롱호다모드락호다몰치락호다벤조롱호다부치럽다돌글랑호다봉끄랑호다보랑지다펀드렁호다해또록호다산도록호다썸찌근호다실렵다심드랑호다슴두렁펀펀호다솔치다앙살호다앨록호다어중구랑호다얼랍지다얼랍지다엄부랑호다오들랑호다옴탕호다왁왁호다왕왕작작호다요망지다조짝호다좀질다좀좀호다패랍다그저끼아척그지게초냑언처냑요뉠모리소시숭년저슬들언갈라지다데싸지다감장돌다거느리왕상호다거들락거리다거찌다걸러지다고른배기고쩌사다곤작싸다꼴성그리다곱지다구숭호다꾸러박아지다귀태우다고끼다골메드리다늘짝거리다끼리다다울리다댕기다데껴불다되싸지다들럭퀴다몽캐다몽캐다베르싸다부수닥질호다부에나다쎄울르다소곤닥호다소도리호다속솜호다심벡호다악살호다용심내다조글리다저들다다솟예늘곱요든일고여답요나문요섯호나혼잠녀상군요년난거볼망텡이미리내비주제상고지우네노릇낭강알돌밸돌생기작지왓구들통시벤소석밭돌랭이돌데맹이우뚝지동무릅발꼽데기고찌 글라 고찌 가게느영 고찌 글민 지꺼짐이 열배여고찌 글라 고찌 가게느영 고찌 글민 지꺼짐이 백배여영도 곱닥헌 날 공기 좋고 사람 좋고느영 나영 고찌 글민 무신 걱정시냐하영 골민 존다니먹당 보난 살아 지곡 살당 보난 먹어 져라굶엉 보난 알아 져라 배고픔도 인생인 걸어시민 어신양 그저 겅 살곡이시민 이신양 나누멍 살주먹엄직이 살암직이 시상우시멍 사는 시상이 사름 사는 시상이주울당 보난 살아 져라웃당 보난 살아 져라우는 삶도 웃는 삶도 고마운 인생이주어시민 어신양 그저 겅 살곡이시민 이신양 나누멍 살주먹엄직이 살암직이 시상우시멍 사는 시상이 사름 사는 시상이주무명천 할머니 어디 감수과무명천 할머니 펜안 허우꽈4 3 소건때 총 맞앙 턱을 잃엉 경 살았주55년 간 말도 못허곡 음식도 못 먹으멍상처 난 얼굴 보일 수 어성 무명천을 둘렁목심은 건졌주만 살아도 산게 아니랐주무명천 할망 이랜 날 불렀주만나신디도 이름이 이서났주진아영 이우다놈삐 좀질게 썰엉 솖앙패마농이영 꿰고루 놩 섞엉모멀고루 풀엉 얄룹게 지졍그 우터레 놩 몰민빙떡 이주게두렁청이 어드레 가젠 햄시냐곱들락호게 촐려입어그네 이드레 와그네느영나영 모다들어그네 터졍 도르게빙삭허게 몬딱 베리난 보뎌감시녜도르라 조들지 마랑 도르라 몬딱 도르라도드라 조들지 마랑 도르라 몬딱 도르라용심 내멍 도톼 보난 알아졈시냐느영나영 심벡 해봐사 페들락 햄시녜돈 한 추룩 뺄라진 추룩 오시록 헌 추룩경 해 봐사 핏짝 허난 얼렁 뎅기게도르라 조들지 마랑 도르라 몬딱 도르라도드라 조들지 마랑 도르라 몬딱 도르라아야 머리여 아야 머리여입담허멍 두드렴시민수꾸락 조루 거수루 심엉차반이 바위 두드렴시민훌구룽 몰케염지덜고루삭삭 삐어지국어떵허코 어떵허코핵교 가당 오줌 싸비언어떵허코 어떵허코핵교 가당 오줌 싸비언어떵허코핵교 가당 오줌 싸비언어떵 허코 어떵 허코촘당 촘당 촘지 못행 나와부런게어떵 허코 어떵 허코비가 왐시난 비 맞았덴 골라게나오는 걸 어떵 헐 수 이시냐어떵 허코 어떵 허코겡이 잡당 맨질락허연어떵 허코 어떵 허코겡이 잡당 맨질락허연어떵 허코겡이 잡당 멘질락허연어떵허당 어떵허당곱은 겡이 지달리당 와락 덮쳤주경해그네 어떵 되연완존 뽈라라눈 감았당 터 보난물 쏘곱이 나만 빠졍 이서라어떵허코 어떵허코 어떵허코 어떵허코바당 바당 바당 바당 보름 보름 보름 보름바당 바당 바당 바당 보름 보름 보름날 막 좋앙 바당드레 강 모살밧듸 맨발로 걸엄쩌겡이 호나 나를 뵈련게 절지치는 디로 도람쩌어떵허코 잡아 보카 잡당 실수허민 아야 물릴건디바당 바당 바당 바당 보름 보름 보름 보름바당 바당 제주 바당 보름 보름 보름생이 생이 생이 생이 오름 오름 오름 오름생이 생이 생이 생이 오름 오름 오름어멍이영 손 꼭 심엉 용눈이 오름 올람쩌생이 호나 나를 뵈련게 짹짹짹짹 소릴 호염쩌어떵허코 잡아 보카 아맹 잡젠 해도 택도 어실건디이녁 가슴 쏘곱엔고은 꽃덜이 만발혼 생이라영 골아도 빙세기 웃곡정 골아도 빙세기 웃곡이녁 가슴  쏘곱엔황소 혼마리 들어앉은 생이라영 골아도 속솜정 골아도 속솜이녁 가슴  쏘곱에 들어가 보젠욕심이영 미움이영손  불끈 잡아둠서기웃 기웃 거렴신디꿀벌이영 일벌이영날아 댕기는걸 보난이녁 가슴 쏘곱엔송이꿀보다도 더 단무언가로 솜 빡혼  생이라휘이이보름 분다보름 불어저 바당이저 보름이손짓햄쩌말 골암쩌테왁 메영 골갱이 들렁바당이영 춤을 추엄쩌우리 어멍 우리 바당혼몸 되엉 춤을 추엄쩌바당아 보름아눈물 남쩌 눈물 남서우리 어멍 지켜도라이어도 이어도 사나이어도 이어도 사나이어도 이어도 사나이어도 이어도 사나보름은 팡팡 불곡덜 요문 조코 고리이레 배령 인사허곡저레 배령 인사허곡낭가쟁이덜은 서로 심벡허멍 좁아댕기곡절지치는 요메기 바당엔 빈 구젱기 껍데기 둥글어 댕기곡담우이 걸쳐진 감저줄에동글동글 도라진 감저동가리이래 도라앉작 저래 도라앉작워어허허 보름 보름 보름 부는 제주의 하늘아먹쿨낭 꼭대기에 앚인 먹쿨 생이 안 털어져보잰 낭가쟁이 꽉심엉 있곡조밭 볼리는 몽생이 조름에 일어나는 흙구듬은 노미 밧더레 넘어가곡동네 큰 폭낭 아래 검불령 가젠허민불어오는 저 보름은 무사 영 건드러운지기여 혼저 가라기여 혼저 가라보름아해녀 삼춘 또시 또시 물에 감쩌테왁 메영 골갱이 들렁 좀수복 입엉 뒤뚱뒤뚱절이치는 바당더레 강 보난테왁덜이 동동동동 춤을 췀쩌해녀 삼춘덜 또시 물에들었쩌숨비소리 쏟아가멍 또시들멘궤기추룩 홀랑홀랑 꼬릴 췀쩌나도 확 벗엉 물쏘곱이 들어가보카테왁 들렁 이짝드레 온거 보난성게도 지깍 구젱기영 전복이영아고 이건 뭐라 물꾸럭도 잡앙 와신게아고 삼촌 물꾸럭 나 얼마마씸아고 조케야 느랑 기냥 거정가불라에고 무신 소리꽈 게민 조냑에랑 당근파당 거정안내주마씀물빡으로 물먹으민 시염 안돋나물애기 옷을 막개로 뽈민 애기놀랜다밤에 얼래기질 호민 모솜탄다비는 놈안틴 지여사 혼다비 온날 쇠총지 이레 착 저레 착 혼다빈 고래질 호민 숭년 든다가난한 사람 못할 일 읏나까메기 까옥 호민 촘새도 조조조 혼다까메기 똥 케우리듯까메기 모른 식게까메기 알라구리 털어질 소리가시어멍 눈 멜를 사위가시어멍 장 읏인 깐에 사위 국 실픈 깐에각시 아꼬우민 처갯 칩 몰팡 돌에 절혼다각시 읏인 건 안 섭섭해도 남통머리 잃른 건 섭섭호다각시 읏인 처갯칩 가나 마나갈치가 갈치 꼴랭이 그차 먹나갭인년 숭년에도 먹당 남은 게 물이여갓쟁이 헌 갓 씨곡 심방 놈 빌엉 굿 허곡강생이 똥은 똥 아니가개가 똥을 촘주개도 비치락으로 안 또린다개똥을 모소왕 피 호느냐 더러웡 피호주개똥도 약에 쓰젠 허민 귀혼다건지 먹은 놈이나 국물 먹은 놈이나 검은 독도 흰 독새기 난다것 구숭 호로 조식 글 구숭 양반 조식것 멋을 땐 개도 안 또린다것 박접허면 죄 짓나게드레기도 집이 싯나곤 사름은 맥을 씌어도 곱나곤 년 잡아 들이렌 허난 솔친년 잡아 들인다곧은 낭은 가운디 산다골체 부지런은 하늘도 못막나공께엥 허민 눈도 뻘겅 코도 벌겅공껀 씨여도 돈다공부허렌 허난 개잡는걸 뱁나고튼 품이민 홀어멍 칩 머슴산다구젱기 똥누레 가불민 게드레기가 기어 든다국 하영 먹으민 가시어멍 눈 멜라진다굼벵이도 꿈불 재주 있나귀막앙 삼년 눈 어둑엉 삼년 말몰랑 삼년 살암서사 가렝 오렝 말 읏나귀신 대접 잘 호영 그른디 읏나귀소문 말앙 눈소문 호라귀신도 빌민 듣나괸당은 옷 우이 보름그 날 액은 망데기 안에 아자도 깬다그짓말도 외삼춘 보다 낫나글 못허는 놈 붓 골린다글 배우렌 호난 홀어멍칩 강생일 또린다기도 못호는게 놀젱 혼다깅이광 보말도 지집 싯나기시린 도새기 도라멘 도새기 타령혼다골체 부지런은 하늘도 못막나고튼 품이민 홀 어멍칩 머슴산다고늘이 먹곡 고늘이 쓰라관덕정이 설렁탕도 먹어난 놈이 먹나끅 걷으레 간 놈이 정당 벌립 망 돌른다나간 놈 찍신 셔도 자는 놈 찍신 읏나나댕기는 개가 꽝 물어 온다나 땅 까메긴 검어도 아깝나나서 화목은 남조가 허곡 들어 화목은 여조가 혼다나 한 아재비 지라남조가 디딘 풀은 유울곡 여조가 디딘 풀은 안 유운다낭도 늙엉 고목되민 놀단 생이도 아니 온다낭이 좀 먹주 세월 좀 안먹나나 똘이 고와사 사윌 골른다너미 골리당 눈 까진 사윌 골린다노름쟁이 뒤랑 대곡 먹는 놈 뒤랑 대지말라노름은 신 신을 때 봐사 안다노름쟁인 망호여도 흥호진 못혼다노리 또린 막땡이 3년 우려 먹나노리궤기 혼점 먹젠 호당 지 궤기 열 점 일른다노루고기 한 점 얻어 먹으려다가 자기의 고기 열점을 잃은다놈 곱진 것 쉐도 못 찾나놈광 심백은 호곡 게심이랑 허지 말라놈 싼 훼에 깅이잡기놈이 눈에 피 내우젠 허민 이녁 눈엔 고름 나사 혼다놈이 쉐 들럭키는 건 보기 좋나놈이 숭 털민 이녁 숭 된다놈이 집광 관장살인 궤던 밥도 내부러동 돋나놋 시칠 때에 물 하영 쓰민 죽엉 가민 다 먹어사 혼다눈 까진 똘 고졍 사윌 고른다눈 낭에 요름 요는냐눈 썹에 불 붙어도 끌 조를이 읏나늘근 쉐 콩 주엉 말덴 호느냐늑신네가 젊은 첩 호민 불 본 나비 놉뜨듯 혼다니 아픈 부릅씨랑 허곡 눈 아픈 부릅씨랑 말라다심 아덜은 콩 죽 멕이곡 원 아덜은 폿 죽 멕인다다심아방 궤기 써는 디랑 가고 원아방 낭깨는 디랑 얼씬을 말라대천 바당도 건너 봐사 안다대정 몽생이 요망진다덴디 꺼럭 아니 돗나도 터질 밭디 모쉬 들듯도둑놈광 샛뭇은 묶엉 세와노민 똑 닮나고맙습니다가십시오제가 당신을 무척 사랑합니다남편 옆에 같이 앉으세요사람 있습니까잘 있었습니까아버지 어머니 모두 편안하셨습니까머리 조심하세요어디갔다가 오십니까자기 것은 작게 보인다누구십니까제 얼굴이 예쁘지요별로 이쁘지 않네요오천원입니다큰일 났습니다어떻게 생겼던가어디로 모실까요똑똑하고 영리하게 생겼습니다제주특별자치도에서 삽시다따스합니까왜 그러십니까오시느라 고생 많으셨습니다빨리빨리 더빨리 오세요참말로 이쁘고 둥실둥실합니다이곳은 바람도 많이 불고있네소문나면 저는 모른다이곳에 있으니 엄마 보고싶다지쳐서 잠이 온다햇볕은 쨍쨍 모래알은 반짝반짝아무리 이야기하여도 귀 눈이 캄캄그러기에 말입니다나를 보십시오잘되어 버렸다어마어떻게 하지제주도 사투리로 말 호난무신거랜 고람 신지 몰르쿠게게메 마씀귀 눈이 왁왁하우다경해도 고만히 생각호멍 들으민 호끔씩 알아집니다오랜만이우다몸은 펜안 하우꽈얼굴이 펜안해 보염수다혼저옵서예제주도 오잰하난 폭삭 속아수다제주도 오난 촘말로 좋수다산이영 바당이영 몬딱 좋은게 마씀많이많이봥으네 서울에 갈 때랑 하영 담앙 갑서게메 양경 해시민 얼마나 좋코 마씀안트레 들어 왕 밥 먹엉 갑서제주도 와시난 전복죽드셔봥 가살꺼 아니꽝혼저 왕 드셩갑서맨도롱 했수과뜻뜻혼 게 먹기 똑 좋았수다맛있수다여기예이거 키로에 얼마마씨사천원마씨기꽝사천원치 줍서하영줍서예많이 담암수다양맛있게 드십써 양삼성혈가잰하는디예어디로 가면 되마씨여기서 10분만 밑트레강 칼호텔조끄티서 바로 왼펜돌아가민 되우다알아지쿠가거기강 봥으네 아무사람이나 잡앙 물어보민 잘 말해 줄꺼우다관광 잘행 갑써예혼저옵서예고만이십서게고만 이시라게무신거 햄쑤꽈무신거 햄시니무사 경 급호꽈무사 경 급호냐확 옵서게어떵 살아 점수꽈무싱거엔 고람쑤꽈귀 눈이 왁왁하우다맨도롱 혼때 호로록 들여 싸 붑써무싱 걸 몽캐미꽈왕 봅서 고랑은 몰라 마씀곱들락 호게 몬뜰락 벗엉 옵서어디 갔당 왐수꽈어드레 감수꽈둥그리멍 키웁서 경 해사 혼저 큽니다어떵 살코 저들지 맙서 촘앙 살민 살아집니다느영 나영 두리둥실 소랑호게 마씸혼저 옵서제주도에 오난 어떵 하우꽈촘말로 좋수다왕 봅서고랑은 몰라마씀무상 경 고람수꽈몽캐지 말앙 혼저 오라게호꼼만 이십서게혼저 왕 먹읍서맨드롱 했수꽈맨도롱 홀 때 호로록 들여 싸붑서혼저 옵서제주도 사투리로 말 호난 무신 거옌 고람 신디 몰르쿠게게메 마씀귀 눈이 왁왁하우다경해도 고만히 생각호멍 들으민 조금씩 알아집니다제주도 사투리 촘말로 귀하고 아름다운 보물이우다펜안 하우꽈제주도에 오난 어떵 하우꽈촘말로 좋수다공기도 맑고 산이영 바당이영 몬딱 좋은게 마씀서울에 갈 때랑 하영 담앙 갑서게메 양경 해시민 얼마나 좋코 마씀저기 물허벅 정 가는 거 비바리덜 아니꽈맞수다비바리도 있고 넹바리도 있수다비바리덜 곱들락 호고 놀씬하우다 양경 합주게 산 좋고 물 좋은 제주도에 사난 모심도 착하고 얼굴도 곱들락 홉니다고랑은 몰라 마씀제주도에 왕 봐사 알아짐니다돌도 많고 보롬도 많고 비바리도 많고 유채꽃도 곱드락 호게 피었수다아명 고라도 몰라 마씀혼저 왕 봅서제주도엔 보름이 많이 있수다동쪽에서 부는 보름 샛보름서쪽에서 부는 보름 갈보름남쪽에서 부는 보름 마포름북쪽에서 부는 보름 하늬보름 이우다한락산에 올랑 봅서발 아래 구름들이 왔닥갔닥 호곡 아득혼게 꿈속 고틉니다옛날에 신선들이 힌 사슴 타멍 놀았댄 해연 백록담 아니꽈제주 사롬들은 돌 하르방 보멍 살았수다경 호난 거짓말 홀 줄 모르곡 서로 믿으멍 착하게만 살았수게봅서 어시민 도와 주곡 이시민 나누엉 먹곡 인정 많고 소랑 많은 돌하르방 손지들 이우다장게간 날 밤 새 서방이 말했수게`새 각시야 혼저 오라게``무사 마씀``호꼼만 이십서게``뭉캐지 말앙 혼저 오라게`새 각시가 새 서방 품에서 솔째기 말해십주`날 얼마나 소랑햄쑤과``저기 한락산만큼 또 바당만큼 소랑햄쩌``경 마랑 요 가슴패기 만큼만 소랑해 줍서``기여 느영 나영 두리 둥실 소랑호게`신랑이 신부에게 말했수게`이 조끄뜨레 오라게``무사 조끄뜨레만 오랜 햄수과``호꼼이라도 고치만 있고 싶언``놈덜 웃읍니다``어떵 호느냐 소랑에는 부치룸이 엇나`무사 경 고람쑤과혼저 왕 소랑하멍 살게 마씀성 내멍 살아도 혼 세상 저들멍 살아도 혼 세상 이우다가난해서 웃으멍 살게 마씀삼다도옌 행게마는 촘말 돌이 많쑤다양옛날엔 한락산이 화산이란 돌이 많쑤게아이고 게 저기 돌고망에 핀 꽃 봅서 돌고망으로 보는 바당은 꼭 그림 답쑤다바다에 강 봐사풍랑을 알아 지곡 조식을 나 봐사부모 모심 알아 지곡 사롬은 만낭 살아 봐사진심을 알아 지곡 소랑을 해 봐사 눈물도 알아 짐니다사롬은 서로 서로 도우멍 사는 거여욕은 고냉이 밤눈 어둡덴 혼다이녁만 욕은 체 호멍 살당 보민지 욕심에 걸령 지가 넘어진다서귀포 바당에 가민 알아 짐니다무신것이 소랑이고무신 것이 그리움인지안개 낀 부둣가에 뱃고동 울어 주민옛님이 그리웡 눈물이 잘도 납니다조냥 하멍 살아사 혼다오늘보다 내일 생각호곡내일보다 모레 생각호곡경 해사 일생을 펜안호게 살아진다요새 아이덜너무 호강 햄쩌 경 호난호꼼호민 아프곡울곡 햄시녜둥구리멍 질룬 독새시가 빙애기 된댕 혼다어진 때 고생도 호곡 해사 큰 사롬 된다혼저 왕 먹읍서맨도롱 했수과똣똣혼 게 먹기 똑 좋았수다맨도롱 홀 때 호로록 들여 싸붑서동 텃저 어서 글라일 해사 먹엉 산다부지런 혼 건 하늘도 못 막낸 해라혼저 촐령 가사 일 홀 거 아니가시집 가 보난 영 해라돌탱이 고튼 시아방에물폐기 고튼 시어멍에물꾸럭 고튼 서방에고냥독새 고튼 시누이에가도 가도 고생이라라어드레 감디바당에 어멍 안티 감쑤다경 호건 이거 가정 가라무싱 거꽈느네 어멍 바당에서 물질 호멍 먹을거여이추룩 억울할 때가 있수과소정해도 시원호지 않을 놈이 큰 소리라 마씸초마 가라 그거 도둑놈 심뽀구나게메 마씸 그런 사롬이 어디 있수과시험에 떨어진 아들이 아방 안티 말했수다`난 아명 해도 안되쿠다``무사 안된댄 생각 햄시냐``해도 해도 안되는디 어떵홉니까``먹돌도 똘람 시민 고망이 난다 햄시민 된다`똘년이 돌으멍 가단 푸더전 마씀으마떵 호리경 호연 어떵 해서 병원에 갔수게간 보난 꽝이 뿌서졌덴 마씀혼 열흘간 입원 해사 혼덴 햄쑤다족댕 나무래지 말라조근게 요망진다큰 건 보롬만 불어도홍글랑 홍글랑 호지만 호꼴락 혼 건똔똔호곡 펜주룽 혼다어드레 감수과바당에 괴기 사레 마씀무사 누게 왔수과서울서 족은 아방네 완 마씀게민 멩심허영 갔당 옵서어멍이 해 준 밥 먹어 봅서촘말로 맛이 좋수다무상고 마씀그건 어머님의 사랑호는 모심이 밥속에 고득 고득 들어 이시난 아니꽈소도리 행 댕기지 맙서소도리는 놈덜 싸움만 맨듭니다옛부터 싸움은 멀리곡흥정은 부치렌 했수다게난 좋은 소린 크게 호곡궂은 소린 속솜 해 붑서두 가시가 어드레 경 돌암서큰 똘 애기 낫댄 햄 감쑤다경 했구나무슨 애기 나서아덜 마씀아이고 잘 됐구나게혼저 강 봐 게강 방 옵서왕 방 삽서영 호곡 정 호곡 홉서경 고라 줍서가지 말앙 영 호멍 삽서서방님 제주도에서 살게 마씀좋주마널은 바당좋은 공기인심좋은 사롬들광 살민 살 맛 날거라살당 지치민풍덩 바당에 들어 가곡 마씀둘이 먹당 호나 죽어도 몰르는 건 무신거꽈돌코롬 혼 제주도 전복죽이주둘이 보당 호나 죽어도 몰르는 건 무신거꽈곱들락 혼 제주도 비바리주게민 옵서전복죽 먹곡 비바리 보래 가게 마씀과랑 과랑혼 벳디 일 호젠 호난 속았수다속을 거 있수과호꼼 똠은 났수다만안트레 들어 왕조녁 먹엉 갑서경 호카 마씀제주 바당에 가민 바당이 말을 홉니다사롬보다더 조잘조잘 말을 하곡사롬보다더 소랑도 하영 홉니다경 호멍낮이나 밤이나 꽃을 피웠당지웠당 홉니다제주 바당에 강 봅서미운 것도 엇어지곡슬픈것도 엇어지곡가슴으로 바당물만 들곡 나곡 호멍두리 둥실둥그대 당실소랑만 고득하게담앙 옵니다서울서 새각씨 왔수다어떵 생겨서요망지게 생겨십디다솔째기 웃으멍 말 호는 거 보난착햄직 홉디다그 나쁜 놈볼망텡이를박아 불거 아니꽈경 했주모가지 잡안 흥글단대맹이로 뱃대기를박아 부난둥글멍 자빠정게잘 콰니여그런 놈은혼내 줘사 홉니다쌍둥이 어멍고생햄쭈 이둘이가 고름배기 해연죽어지쿠다경 홀거라게도 놈 호고 싸울 땐지네 펜백들멍 싸워 마씀요 년 난거 보라놈이 소나이영 말 호곡벌써부터서방질 햄시냐아니우다 게바당드레 가단질 모른 사롬 이시난질 고르쳐 줬수게아이구 게큰일 났수다무사 경 들락켬시니와리지 말앙촌촌이 고라 보게경호난 양영 호곡정 호곡 했수게게난욕심 내멍 살민경 혼다새각씨야그거 앗아 도라무사당신은 손 엇수과발 엇수과경 호지 말앙좀 앗아 주민어떵 호느냐버릇나 마씀밸 놈의 요망진 소리그만 호라이제 가게 짐 촐리라알았수다아이덜도 도랑 가카 마씀기여 모딱 고치 가게하르방 할망이 좋아할거여야게기에 때 밀라저깽이영 정겡이도 밀곡옷 벗엉 강알 트멍도 밀라사롬 몸은 곱닥해사 혼다무신 걸 먹으코게메 양 제주도에만 이신 거 먹게 마씀그젱기에 보말에 옥돔생성 또 있수다모멀 범벅에 자리젯먹을 것도 촘 하영 있저무사 난 호꼼만 줨쑤과이놈아욕심 먹은 눈에는지 껏이 족아 베곡놈의 껏은 커 베는 거여똑고치 나눈 것을 어찌 크다 족다 햄시니어멍이 용심 난옴찍 안햄쑤다경 호곡 말곡믿던 낭에 곰팽이 핀댕 게마는하도 억울호게 당해부런 아니가어멍 모심 달래 드리라독이사 울엉 날이 새주마는내사 울엉 어느 날 새리독의 목에 통쇠나 종강내가 대신 울어나 보카요 바당에요 물에 들언 좀복구젱기고득하게 잡아당혼 푼두 푼모이단 보난서방님 술깝에몬딱 들어 감쩌두렁청 호게다울리멍일호지 말라바농 존둥이졸라 메영바농질 되는 거봔디야촌촌히 생각호멍호나씩 해사일이 된다살당 보민 고생홀 때도 있곡어려웡 쓸어질 때도 있저경해도 허천 베레지 말라곳작 호게 걸어 감시민나종엔 꼭 성공혼다한림공원에 강 봅디가밸의 밸 낭이랑 꽃이랑 잘도 곱디다소랑호는 사롬은 꼭 강 봐사 혼댄 마씀경 해사 소랑호멍 잘 산댄 고릅디다서울서 온 소나이 제주 비바리에 미쳐 부런오늘 가카 넬 가카 호단 보난 옴짝 못핸 살암서라새 각씨 무사 안 왐쑤과어떵 된 거 아니우꽈강 돌앙 옵서 무신걸 경 몽캠신고오늘랑 우리 밭디 마농 심거 줍서경 홉주마 겐디 비 옴직 해염쑤다동그레 구름이 시커멍 햄신게 마씀게민 호꼼 있당 와 줍서아척부터 조녁까지두리 둥실 사랑 호곡구경 호곡경 호단 보난꽝이 복삭하우다소랑 홀 땐 솔째기 골라누게 들엉 웃나아무도 몰르게느영 나영만 솔째기 호게어멍이영 고치 옵세오당그네영 호곡 정 호곡 홉서무사 경 숨 고끼멍 고람서짐 진놈이 팡을 촛주게게난 걱정 말앙 고만이 이서저기 요새 애들 옷 입언 댕기는 거 봅서허벅지도 내 놓곡베또롱도 내 놓곡그거 무슨 요망들이라경 말앙 몬뜰락 벗엉 댕기주 게호꼼 미안하우다이게 얼마꽈오천원 마씀호꼼만 싸게 안되카 마씀경 해사 다시 올 거 아니꽈한락산드레 가젱 호민 어떵 갑니까바당드렌 어떵 갑니까차 타젱 호민 하영 가사 홉니까제주도엔 가당 봐도 바당이우다 양들어 왕 놀당 갑서경 호카 마씀여기 불 조끄띠 안즙서똣똣하우다촘말 맨도롱혼 게 좋수다무싱거옌 소곤닥 햄시니비바리 씨집 보내키옌 마씀경 해사주게 잘 생각했저똘년은 나이 차민 혼저 보내 산다경 들럭퀴지 말라초든초든 말 들엉 생각호라어떵 혼 일인지 알아사 홀 꺼 아닌가경 하당 숨 넘어 가키여돌코롬 혼 거 엇수과게메 어떵 것이 돌코롬 호코사탕을 주카 마씀아니우다게민 솔문 독새기나 호나 줍서어드레 감쑤과 이래 옵서저들멍 살지 맙서영 살아도 혼 세상 정 살아도 혼 세상두리 둥실 느영 나영 소랑이나 호게마씀앞 낭에 아진 새야 무사 경 울엄시냐서울간 우리 서방 재게 오랜 울엄시냐저승 간 우리 어멍 그리원 울엄시냐내 모심 아는 건 저 생이 뿐이구나저기 보라 느네 아방 어멍 혼디 감쩌게메 어디 감신고하르방 할망은 어신게괸당집이 상 난에 감실거우다무싱거 하미꽈도르멍 옵서 무사 경 다울렴디해 저물민 어떵 홉니까왁왁호민 질 잃어부렁 큰 일 납니다강 보라 니네 새서방 왔저아이구 부치루완 어떵 호코 마씀앗다 양양게 피우지 말라혼저 가그네 옵디가 인사 호라어디 갔단 왐수과밭디 갔다 왐쩌 어드레 감디바당에 괴기 낚으레 감쑤다절 쎄어서라 조심호곡 혼저 오래이젠 니 인생은 니가 알앙 가야 혼다알았수다 잘 살크메 걱정 맙서기여 아는 질도 들으멍 가라조심하멍 가는 질은 펜안혼다무싱거 하미꽈 혼저 옵서게기여 알았저 혼저 글라푸더지질랑 말앙 옵서돌 조심호곡 고짝 옵세제주도 비바리가 경도 좋으냐고랑은 몰라 마씀 왕 봐사 알아집니다모심도 좋고 얼굴도 좋고 집안도 좋아 마씀여보 나 등땡이 고렵다어디 영 홉서 보게아이구 베렝이 물어싱게 마씸약 볼라사 하쿠다돌아 맨 도새기야니 신세가 불쌍호다아이구 기시린 도새기야나 걱정 말앙 니 죽어 가능 거나 걱정호라죽어 가능 게 벨것 다 걱정햄시니돌 고냥으로 보라꽃들이 모들락 호게 피어 있저우리 님의 얼굴도 꽃치 되언 피엄쩌소랑 소랑 소랑꽃도 고득호게 피엄쩌괴기 멍텅혼 건 잡아나 먹곡 낭 멍텅혼 건 불이나 솜곡 돌 멍텅혼 건 담이나 닷나사롬 멍텅혼 건 아무 것에도 못 쓰키여느영 나영 둘이 둥실 낮에 낮이나 밤에 밤이나 쌍소랑 이로구나아척에 우는 생인 배가 고팡 울고요조녁에 우는 생인 님 그리웡 운다널븐 바당 앞을 재여 혼질 두질 나아가곡 짚은 바당 짚일 재여 혼질 두질 들어가민 저승길이 왔닥 갔닥이어도 사나 이어도 사나 이어도가 저승질이 반이옌 혼다새서방 들어 왐쩌저리 고쩌 사불라 영 홉서호꼼만 보게마씀몰치락 혼게 잘도 생겼저말도 안 득곡 일도 안 호곡 촘말로 경 호민 뚜러메당 데껴 불키여사롬은 일해사 살아 지는거여호꼼씩 먹으라 숨 넘어가키여 배 고판 마씀경 먹당은 숨 고끼키여 누게 도둑질 안하메 촌촌히 먹으라사롬 있수과 누게꽈 웃 동네 갑돌이 어멍 이우다아이구 어떵 호난 와 집디가 게우리 똘은 아무것도 몰라 마씸 분시 몰른 애기 설운 애기 우다잘 돌앙 살아 줍서 고르치멍 살아사 할 꺼우다무신 걸 잘 하구랜 큰 소리꽈똥 뀐 놈이 성 냄쩌누겐 입 어선 말 못 햄시카 부댄지랭이도 볼부민 꿈틀락홉니다 양나 모심 몰르쿠과 당신만 보민 가슴이 금착 금착 영도 못하곡 정도 못하곡 나 모심 나도 몰르쿠다어느제 옵디가 혼 사나흘 됐수다 다들 펜안 했수과 어떵 살아 점쑤과씨집가난 어떵 홉디가 아이고 말도 말라무신 거시 무신 건지 귀 눈이 왁왁해라서울엔 언제 가쿠과 갈 때랑 날 도랑 가 줍서서울 강 무싱 거 호젠 구경도 호곡 서울 소랑도 해 보젠 마씀무사 무싱 거옌 고릅디가 솔째기 왕 말홉서 보저게메 말호카 말카 속 태우지 말앙 확 홉서게게민 놈 혼테랑 아무 말도 호지 맙서 양누게 있수과 안녕 하우꽈 아방 어멍 다 펜안 했수과 어디 갔당 왐쑤과 요새 어떵 살미꽈 좋수과어드레 감쑤과 이래 옵서게혼저 혼저 옵서게 솔짝 솔짝 옵서게느영 나영 두리 둥실 소랑이나 호게 마씀촘말로 가쿠과게메 홀수가 엇다게게민 나 혼자만 어떵 살랜 마씀어떵 호느니 호꼼만 촘앙 살암시라 떠나는 내 모심도 울어 지키여우이 어멍 사는 바당 우리 목숨 키운 바당 동에 가민동의 바당 서에 가민 서의 바당 보름 불민 파도 치곡 비가 오민 날 저물곡하늘 고튼 요왕님아 명주 바당 맨들어서 우리 어멍 설은 가슴 펭안호게 호여 줍서어떵 살코 마씸 무사 경 저들멍 살암쑤과 촘앙 삽서 경 햄시민 살아짐니다혼저 옵서게 혼저 오라게 고만 십서게고만 시라게 무신 거 햄쑤과무신 거 햄시니 무사 경 급호꽈무사 경 급호냐 게메 마씸 확 옵서게기여 게 확 오라게새각씨 구홀 때랑 모심을 보라 얼굴 곱들락 혼 것은 혼 덜이여놀씬호곡 멋진 것은 혼 해여 모심 착한 건 십 년이 되곡 백 년이 되도 저 소낭 추룩 청청혼다어느 모실에 갑돌이옌 호는 소나이와 갑순이옌 호는 비바리가 살았수게 둘이는 좋아 하멍도 말은 못하곡 속은 타멍도 그 까짓거 해여십주 경 호단 갑순이가 씨집가게 되난 그제사 갑돌이가 `아이구 어멍아` 하멍 울었수게경 해도 어떵 해여 마씀 홀수가 어서십주 갑돌이도 부에가 난 장게를 가 부렀수게 장게 가는 날은 갑순이도 정지에서 울었수게 갑순이 모심도 갑돌이 뿐이주만 어떵 홉니까 사롬 팔재 촘 몰르능거라 마씀 게난 어떵 살코 저들멍 살지 맙서 살당 보민 타고난 팔재대로 다 살아 짐니다물 허벅 정 가는 저 비바리야 물만 지지 말앙 이 소나이 모심도 정 가도라 소랑 혼댄 말은 못하곡 돌고망에 고분 생이고치 가슴만 톨랑 톨랑어떵 호민 조코 마씀 멍는거나 고트민 맨도롱 혼 때 호로록 들여싸 불기나 혼다 물이나 되시민 허벅 속으로 퐁당 들어가기나 혼다영도 못하곡 정도 못하곡 비바리야 촘말로 죽어 지키여 소나이 타는 모심을 호꼼 만이라도 알아도라우리 제주도 하르방들이 호는 말이 있수다 밭을 살 땐 에염을 보라 집을 살 땐 이웃을 보라 산을 사컨 빌레를 보라 사돈을 홀 땐 근본을 보라그리고 우리 어멍들이 고르친 말이 있수다 홈생이 말라 촐람생이질 말라 간세 말라 느링테질 말라 요망진 체 말라 거들락 거리지 말라 노미 모심 아프게 호지 말라경해사 호는 일들이 펜안해 진다 살당 보민 잊어 불 때도 있수다만 우리 하르방 할망 아방 어멍들이 혼 말씀들은 촘말로 소중한 교훈들이우다']"
            ]
          },
          "metadata": {
            "tags": []
          },
          "execution_count": 17
        }
      ]
    },
    {
      "cell_type": "code",
      "metadata": {
        "id": "yoSJC69lqydq",
        "colab_type": "code",
        "colab": {
          "base_uri": "https://localhost:8080/",
          "height": 73
        },
        "outputId": "b90551c9-f968-4548-a3cf-53bd35a4ea02"
      },
      "source": [
        "with open(\"/content/output.txt\") as f:\n",
        "    lines = f.readlines()\n",
        "    output_txt = ''.join([line.rstrip() for line in lines])\n",
        "print(output_txt)\n",
        "\n",
        "\n",
        "pattern = '[\\'\\\"\\!\\,\\.\\=\\:\\?]'\n",
        "output_txt = re.sub(pattern=pattern, repl='', string=output_txt)\n",
        "\n",
        "output_txt=list([output_txt])\n",
        "output_txt\n"
      ],
      "execution_count": 18,
      "outputs": [
        {
          "output_type": "stream",
          "text": [
            "넘치도록강아지부글부글하다가랭이부풀어 오르다거품정황도 모르고밥을 추하게 먹는 모습뺨잡초말하지말라희미하다숨말힐듯한 상황 참으면서입이 큰 모양쉰 밥으로만든 유산식품고자질한다마음 씀씀이숨막히다이렇게잘게부수다말하다캄캄하다숨기다똑똑하다햇살이 눈부시게 비추는모습텃밭친족산간마을밑바닥걷는 모습초벌로 불에 태우다제대로 된뼈어떤 결심을 하기위한 다짐눈물의 반찬보리피리침어이없다던져버린다원통하다얼떨떨하다마늘날뛰다향기가 좋다기름기가 넉넉하다딸기찌그러지다돼지우리가 있는 변소아무것도 없음틈새무서워이곳저곳홀랑벗은모습많다만지다가힘없이 쓰러진 모양전부하다가 안 할 것이냐멍청하다빨리가자늦장부리다조금맛이가다등왜?축 늘어지다어둠속에 빛이 희미하다얼굴고소하다모습잠수복거칠고 노한 바다가까운 바다먼 바다한라산의 중턱에 띠같은 구름이 끼면 비가 온다달무리지면 비가 온다돌고래가 날뛴다황사현상물안경작살해산물을 많이 잡았다해산물을 많이 잡았다겨우 한두개 잡았다바다가 잔잔하다산더미 같은 파도작은 파도물결이 친다 할아버지 할머니아버지 어머니 처녀 친척 거지 시집간색시 의붓아들 세번째자식 사나이 형님 어른이된 사람 해녀 경솔한사람 홀아비 다리 꼬리 귀쪽뺨 뼈 입 머리 등어리 똥구멍 멱살 배 불뚝이 배 밟아버린다 얼굴 목 턱 이마 종아리 겨드랑이간지롭게 종아리머리카락 넓적다리 얼굴 통조림 미숫가루 동물먹이 고기 바닷고기 돼지고기 쇠고기 돼지고기 쌀로만든하얀떡 흰쌀밥 무우 마늘장아찌 마늘 파 메밀수제비 반찬 참기름 김치 찹쌀 조밥 감물들인옷 감물들인 적삼 감물들인 고의 개구멍 바지 호주머니 단추 밀짚 모자 버선 속옷 신짝 짚신 잠방이 감물들인베옷 고쟁이 우두머니 두루마기 아기옷 비온날 저고리 기저귀 기저귀 조끼 치마 건대 사모관대 손자용상복 상제옷 망건 상갓닮은거 벙거지 삿갓 탕건 남자모자 여자모자 빈네꽂은머리 땋은놈의머리 비녀 상투 머리빗 머리빗 족두리 참빗 무당입는옷 나막신 무당들 쓰는 모자 방울 상복치마 바구니 대로만든채롱 양푼 물긷는그릇 마차 바늘 바가지 수저 젓갈 주머니 물을길어나르는통 큰밥주걱 국사발 함지박 도시락통 바가지 밥사발 작은밥자 작은바가지 설거지통 항아리 나무로만든도고리 삽 곡괭이 호미 호미 고무래 날레 젓는 거 맷돌 상태기 돌 발르는 끌 도리깨 멱서리 연자마 쐐괘 씨앗그릇 쉐거름낼때 씨앗 쟁기 낫 굴뚝새 날개 동박새 닭 닭 고양이 송아지 망아지 돼지 돼지 밭을 가는 소 숫소 염소 강아지 쥐 도미 게 소라 문어 개미 맹꽁이 버러지 뱀 병아리 새 다람쥐 쥐 여우 노루 병아리 소 외양간 돼지 두꺼비 개구리 올챙이 채소 감자 고구마 억새 잔디 메밀 느티나무 강아지풀 달래 산수국 삼나무 팽나무 가뿐하다 시원하다 게으르다 분수가없다 곧다 쨍쨍하다 조마조마하다 가렵다 달콤하다 통쾌하다 따뜻하다 한곳에모여있다 포동포동하다 젊게보이다 부끄럽다 동그랗다 퉁퉁하다 부지런하다 시치미를뗀모양하다 희끔하다 시원하다 지긋지긋하다 차겁다 관심이없다 아무런가치없다 살찌다 사납게소리치다 더럽다 흐리멍텅하다 당황하다 궁금하다 엄청나다 작아서위로치켜뜬모양하다 오목하다 캄캄하다 떠들썩하다 똑똑하다 불쑥나타나있다 가늘다 잠잠하다 까다롭다 그저께 아침 그저께저녁 엊저녁 내일모레 요사이 흉년 겨울 된 헤어지다 자빠지다 맴돌다 남의일을비평하다 꺼떡거리다 건드리다 거꾸러지다 호다박자 비켜서다 재주넘다 얼굴을찡그리다 숨기다 불평을말하다 거꾸로박히다 은밀히알려주다 숨막히다 차례로바꾸다 늑장부리다 미끄러지다 재촉하다 다니다 던져버리다 갈라지다 날 뛰다 느리다 꾸물거리다 속이보이게열다부수어버리다 화나다 고함지르다 소근거리다 소문내다 잠잠하다 겨루다 욕설하다 성내다 간지럽히다 걱정하다 다섯 예닐곱 여든 일곱여덟 여나믄 여섯 하나 해녀 물질잘하는사람 어린처녀욕 밤따귀 은하수 소나기 무지개 안개 공기 나무그늘 달 별 돌맹이 자갈밭 방 화장실 화장실 줄 작은밭 한 달머리어깨무릎발같이 가요 함께 해요너와 함께 하면 즐거움이 열배야같이 가요 함께 해요너와 함께 하면 즐거움이 백배야이렇게 예쁜 날 공기 좋고 사람 좋고너와 함께 하니 무슨 걱정 있으랴많이 말하면 잔소리야먹다 보니 살게 되고 살다 보니 먹게 되지굶어 보면 알게 되지 배고픔도 인생인 걸없으면 없는대로 그저 그렇게 살고있으면 있는대로 나누면서 살지먹어볼만한 살아볼만한 세상웃으며 사는 세상이 사람 사는 세상이지울다 보니 살게 되었지웃다 보니 살게 되었지우는 삶도 웃는 삶도 고마운 인생이지없으면 없는대로 그저 그렇게 살고있으면 있는대로 나누면서 살지먹어 볼만한 살아 볼만한 세상웃으며 사는 세상이 사람 사는 세상이지무명천 할머니 어디 가십니까무명천 할머니 편안 하십니까4. 3 사건때 총 맞아서 턱을 잃었네 그렇게 살았네55년 간 말도 못하고 음식도 못 먹으면서상처 난 얼굴 보일 수 없어 무명천을 둘렀네목숨은 건졌지만 살아도 산게 아니었네무명천 할머니 라고 날 불렀지만내게도 이름이 있었네진아영 입니다무채 썰어 끓는물에 데쳐파와 깨가루 넣어 섞어서메밀가루 반죽하여 얇게 지져그 위에 놓고 말면빙떡 이지앞뒤분간못하고 어디로 가려고 하니예쁘게 차려입고 이쪽으로 와서는너와내가 한데모여서 힘껏 달리자수줍게웃으며 모두 쳐다보니 정다워지네달려라 걱정하지 말고 달려라 모두 달려라달려라 걱정하지 말고 달려라 모두 달려라화를 내며 다퉈 보니까 알겠니?너와내가 경쟁해 봐야 감정상하기만할 뿐이네돈이 많은 척 잘난 척 점 잖은 척그렇게 해 봐야 삐칠 뿐이니 달어 돌아다니자달려라 걱정하지 말고 달려라 모두 달려라달려라 걱정하지 말고 달려라 모두  달려라아야 머리야 아야 머리야입담하며 두들기노라면숟가락 자루 거꾸로 잡고채롱 옆을 두들기노라면굵다란 말개미들이사방으로 흩어지고어떻게하지 어떻게하지학교 가는길에 오줌을 쌌어어떻게하지 어떻게하지학교 가는길에 오줌을 쌌어어떻게하지학교 가는길에 오줌을 쌌어어떻게 하지 어떻게 하지참다가 참다가 참지 못해 나와버렸어어떻게 하지 어떻게 하지비가 내리니 비 맞았다고 말하렴.나오는 걸 어떻게 할 수 있겠니어떻게 하지 어떻게 하지게를 잡다가 미끄러졌어어떻게 하지 어떻게 하지게를 잡다가 미끄러졌어어떻게 하지게를 잡다가 미끄러졌어어쩌다가 어쩌다가숨어있는 게를 기다리다가 갑자기 덮쳤지그래서 어떻게 되었어정말 빨랐어눈 감았다 떠 보니물 속에 나만 빠져 있었어어떡하지 어떡하지 어떡하지 어떡하지바다 바다 바다 바다 바람 바람 바람 바람바다 바다 바다 바다 바람 바람 바람날이 정말 좋아 바다에 가서 모래밭을 맨발로 걸었네게 한 마리가 나를 보더니 파도치는 쪽으로 도망가네어쩌지 잡아 볼까 잡다 실수하면 아야 물릴 텐데.바다 바다 바다 바다 바람 바람 바람 바람바다 바다 바다 바다 바람 바람 바람새 새 새 새 오름 오름 오름 오름새 새 새 새 오름 오름 오름엄마랑 손 꼭 잡고 용눈이 오름을 오르네새 한 마리 나를 보더니 짹짹짹짹 노래를 하네어쩌지 잡아 볼까 아무리 잡으려 해도 어림없을 텐데당신의 마음 속엔고운 꽃들이 만발한 모양이야이렇게 말해도 빙그레 웃고저렇게 말해도 빙그레 웃고당신의 마음 속엔황소 한 마리 들어앉은 모양이야이렇게 말해도 잠잠저렇게 말해도 잠잠당신의 마음 속에 들어가 보려고욕심과 미움이손  불끈 잡아두고기웃 기웃 거려보는데꿀벌과 일벌이날아다니는 걸 보니당신의 마음 속엔송이꿀보다도 더 달디단무언가로 꽉 들어찬  모양이야휘이이바람 분다바람 불어저 바다가저 바람이손짓하네말을 하네테왁 메고 호미를 들어바다와 춤을 추네우리 엄마 우리 바다한 몸 되어 춤을 추네바다야 바람아눈물 나네 눈물이 나우리 엄마 지켜다오이어도 이어도 사나이어도 이어도 사나이어도 이어도 사나이어도 이어도 사나바람은 세차게 불고덜 익은 조 열매가이쪽을 보면서 인사하고저쪽을 보면서 인사하고나뭇가지들은 서로 다투며 잡아당기고파도치는 요메기 바다엔 빈 소라가 뒹굴어 다니고담위를 걸쳐친 고구마줄기에동글동글 매달려있는 작은고구마이리 흔들리고 저리 흔들리고워어허허 바람 바람 바람 부는 제주의 하늘아먹구슬나무 꼭대기에 앉은 먹구슬 새 안 떨어지려고 나뭇가지를 꽉잡고 있고조밭 밟는 망아지 뒤로 일어나는 흙먼지는 남의 밭으로 넘어가고동네 큰 팽나무 아래 땀좀식히고 가려고하면불어오는 저 바람은 왜 그리 간질이는지그래 어서 가렴그래 어서 가렴바람아해녀 삼촌 다시 다시 바다 가네테왁 메고 호미 들고 잠수복 입고 뒤뚱뒤뚱파도치는 바다로 가 보니테왁들이 동동동동 춤을 추네해녀 삼촌들 다시 물속으로숨비소리 쏟아가며 물속으로고기처럼 홀랑홀랑 꼬릴 치네나도 확 벗고 물속으로 뛰어들까 테왁 들고 이쪽으로 온거 보니성게도 가득 전복이랑 소라랑아고 이건 뭐지 문어도 잡아 왔네요아고 삼촌 문어 한마리 얼마죠?아고 조카야 너는 그냥 가져가라에고 무슨 말씀을 그럼 저녁에 당근파다 드릴게요 물바가지로 물 마시면 수염 안난다. 갓난아이 옷을 방망이로 빨면 아기가 놀랜다. 밤에 머리 빗으면 무서움 탄다.비는 자에게는 용서해 주어야 한다. 비오는 날 쇠꼬리 이리 착 저리 착 흔든다. 빈 맷돌질 하면 흉년 든다. 가난한 사람 못할 일 없다.\" 까마귀가 까옥하면 참새도 조조 한다. 즉, 자기 자신을 알고 처신하라.\" 까마귀 똥 헤집듯 까마귀 모른 제사 까마귀 아래턱 떨어질 소리 장모 눈 망가뜨릴 사위\" 장모 된장 없는 터에, 사위 국 먹기 싫은 터에\" 아내 아까우면 처가 집에 절한다. 아내가 없는 것은 안 섭섭해도 담배통 잃는 건 더 섭섭하다. 아내 없는 처가집 가나 마나 갈치가 갈치 꼬리 끓어 먹는다. 갑이년 흉년에도 먹다 남은 게 물이다.\" 갓장사 헌갓 쓰고, 무당 남 빌어 굿하고\" 강아지 똥은 똥이 아닌가 개가 똥을 참지 개도 빗자루로 안 때린다.\" 개똥을 무서워서 피하느냐, 더러워서 피하지\" 하찮은 개 똥도 약으로 쓸려면 귀하다.\" 건더기 먹은 놈이나, 국물 먹은 놈이나 매 한가지\" 검은 닭도 흰 달걀 낳는 수 있다.\"음식 타박 쌍놈, 글 구숭 양반자식\" 음 식을 먹을 때는 개도 안 때린다. 음식을 박대하면 죄 짓는다.\" 소라, 게도 집이 있다.\" 고운 사람은 멱서리 써도 곱다. 고운 여자 잡아 들이라고 하니 살찐 여자 잡아 들인다. 곧은 나무는 한가운데 선다. 삼태기 부지런으로 부자가 되는걸 하늘도 못막는다.\" 공짜하면 눈도 벌겋고, 코도 벌겋고\" 공짜는 맛이 써도 달다 공부하라고 하니 개잡는걸 배운다. 같은 값이면 과부집 머슴을 산다. 소라가 똥누러 가버리면 소라게가 차지 한다. 국 많이 먹으면 장모 눈 망가진다. 하찮은 굼벵이라도 구부리는 재주가 있다.\" 시집가서 귀머거리 삼년, 장님 삼년, 벙어리 삼년을 살아야 가라 오라는 말이 없다.\" 귀신 대접 잘 해두면 잘못 될 일 없다\" 귀소문 하지 말고 눈소문 하라, 실제로 보고 확인한 것 아니면 말하지 말라.\" 귀신도 사정하면 들어 준다. 일가는 옷위의 바람 그 날 액은 독안에 앉아도 깬다. 거짓말도 외삼촌 보다도 낫다. 글 잘 못하는 놈 붓 고른다. = 붓타령 한다.글 배우라고 했더니 엉뚱하게 과부집 강아지 때린다.기어 다니지도 못하는게 나려고 한다.게와 고둥도 자기 집은 있다. 그을린 돼지가 달아멘 돼지를 나무란다.삼태기 부지런으로 부자 되는 것은 하늘도 못 막는다.기왕에 같은 품삯이면 과부집 머슴을 산다.가늘게 먹고 가늘게 쓰라관덕정 설렁탕도 먹어본 놈이 먹는다.칡 걷으러 간 놈이 정당벌레 테 엮는다.나간 놈 몫은 있어도 잠자는 놈 몫은 없다.나  다니는 개가 뼈 물어 온다.나의 땅에 있는 까마귀는 검어도 아깝다.\"나가서 화목은 남자가 하고, 들어서 화목은 여자가 한다.\"나이  많은 사람이 양보하라.\"남자가 밟은 풀은 이울고, 여자가 밟은 풀은 안 이운다.\"나무도 늙어 고목되면 새들도 아니 온다.나무가 좀먹지 세월은 좀 안먹는다. =  느긋한 시간 관념을 부추길 때내 딸이 고와야 잘난 사위를 고른다.너무 고르다가 눈이 멜라진 사위를 고른다.\"노름꾼 뒤는 대어도 , 먹는 놈 뒤는 대지 말라\"노름은 끝나서 신발 신을 때 보아야 승부를 안다.노름 쟁이는 망하여도 흥하지는 못한다.노루 때린 막대기 3년을 울겨 먹는다.\"\"남이 숨긴건 소도 못 찾는다. 남과 경쟁은 하되 시기는 하지 마라.남이 켠 횃불에 게 잡는다.\"남의 눈에 피 흘리게 하면, 자기 눈에는 고름이 나와야 한다.\"남의 소 날뛰는 건 보기 좋다.남의 흉내 내면 자기 흉 된다.남의 집과 벼슬 살이는 끓는 밥도 두고 간다.세수 할 때에 물을 많이 사용하면 죽어서 가면 다 마셔야 한다.애꾸눈 딸 가지고 사위를 고른다.누운 나무에 열매 열리는가?눈썹에 불이 붙어도 끌 겨를이 없다.늙은 소 콩을 주면 안 받겠다고 하느냐?늙은 놈이 젊은 첩 하면 불 본 나비 날뛰듯 한다.\"이 아픈 심부름은 하고, 눈 아픈 심부름은 하지 마라.\"\"의붓 아들은 콩죽 먹이고, 친 아들은 팥죽 먹인다.\"\"의붓아버지 고기 써는데는 가고, 친아버지 장작 패는데는 가지를 말라.\"넓은 바다도 건너 봐야 안다.대정 망아지 야무지고 알차다 = 대정은 서귀포시 대정읍 지명임. 덴 곳에 털 안난다.들목 터진 밭에 마소 들듯도둑놈과 띠 다발은 묶어서 세워 놓으면 꼭 닮다.고맙쑤다갑써양나 이녁 소못 소랑헴수다서방 조끝에 고치 앉즙써사름 잇수과잘 이십디강?아방 어멍 다 펜안햇수과데멩이 맹심헙써어디 갓당 왐쑤과지 것은 족아 벤다누게꽈나 상우댕이 고우꽝고우멍 말멍 허우다오천원마씀큰일 낫수다어떵 생겨서어디가코 마시요망지게 생겨십디다제주특별자치도에서 살게 마씀맨드롱햇수과무사 마씀오젠허난 폭삭 속아수다재기재기 보질보질 혼저옵서촘말로 곱고 몬트락허우다이딘 보름도 하영 불엄져소민나민 난 몰라이디 와부난 어멍 보지그립다지천 자지 그립다뱃은 과랑과랑 모살은 삔찍삔찍아무거앤 고라도 귀 눈이 왁왁게메 마씀날 봅서제나콰니여으마떵호리제주도 사투리로 말 하니까.뭐라고 말하는지 모르겠지요글세 말입니다귀와 눈이 캄캄합니다그래도 가만히 생각하며 들으면 조금씩 알 게 됩니다오랜만이예요편안하십니까얼굴이 좋아보이네요어서오세요제주도 오느라 수고하셨어요제주도에 오니까 정말로 좋습니다산이랑 바다랑 모두가 좋습니다\"많이 보고, 서울에 갈 때는 많이 담아서 가십시오\"그러게 말입니다그렇게 했으면 얼마나 좋겠습니까\"안으로 들어 오셔서, 식사 하고 가십시오\"\"제주도 오셨으니, 전복죽드셔보고 가셔야죠\"어서 와서 드세요따뜻합니까따끈따끈한 것이 먹기에 꼭 좋았습니다맛 좋네요여기요이거 1kg에 얼마예요?사천원입니다그래요?사천원어치주세요많이주세요많이 드립니다맛있게 드세요삼성혈에 가려는데요어디로 가면 되지요?여기서 10분 밑으로가서 칼호텔 근처에서 돌아서 왼쪽으로 가면 됩니다.알겠어요?거기가서 아무사람이나 물어보면 잘 말해 줄꺼예요관광 잘하고 가세요어서오십시요잠깐 있으십시오잠깐있어라무엇을 하십니까?무엇을 하느냐?왜 그렇게 급하십니까?왜 그렇게 급하냐?빨리 오십시오어떻게 살고 있습니까?무엇이라고 말하십니까?귀와 눈이 캄캄합니다따뜻할 때 후루룩 잡수십시오뭘 그리 늦장 부리십니까?\"와서 보십시오,말로 해서는 모릅니다\"아름답게 모조리 벗어서 오십시오어디 갔다가 오십니까?어디로 가십니까?고생시키면서 키웁십시오.그래야 빨리 자랍니다\"어떻게 살까,걱정 마십시오.참고 살면 살수 있습니다\"너하고 나하고 둘이 둥실 사랑합시다어서 오십시오제주도에 오니 어떠하십니까?정말로 좋습니다와서 보십시오말로해서는 모릅니다왜 그렇게 말하십니까?꾸물대지 말고 어서 오너라조금만 계십시오어서 와서 먹으십시오따뜻합니까?따뜻한 때 후루룩 마셔 버리십시오어서 오십시오.\"제주도 사투리로 말 하니까, 뭐라고 말하는 지 모르겠지요?\"글쎄 말입니다.귀와 눈이 캄캄합니다.그래도 가만히 생각하며 들으면 조금씩 알게됩니다.제주도 사투리 정말로 귀하고 아름다운 보물입니다.안녕하십니까?제주도에 오니 어떠하십니까?정말로 좋습니다.\"공기도 맑고, 산이랑 바다랑 모두가 좋습니다.\"서울에 갈 때는 많이 담아서 가십시오.그러게 말입니다.그렇게 했으면 얼마나 좋겠습니까?\"저기, 바구니 지고 가는 거, 처녀들 아닙니까?\"맞습니다.\"처녀도 있고, 시집 간 여자도 있습니다.\"처녀들 곱고 날씬하군요!\"그렇지요, 산 좋고 물 좋은 제주도에 사니 마음도 착하고 얼굴도 곱습니다. \"말로 해서는 모릅니다.제주도에 와서 보아야 알 수 있습니다.\"돌도 많고, 바람도 많고, 처녀도 많고, 유채꽃도 아름답게 피었습니다.\"아무리 말해도 모릅니다.어서 와서 보십시오.제주도에는 바람이 많이 있습니다.\"동쪽에서 부는 바람, 샛바람.\"\"서쪽에서 부는 바람, 갈바람.\"\"남쪽에서 부는 바람, 마파람.\"\"북쪽에서 부는 바람, 하늬바람 입니다.\"한라산에 올라서 보십시오.발 아래 구름들이 오락가락 하고 아듣하니 꿈속 같습니다.옛날에 신선들이 흰 사슴을 타며 놀았다고 해서 백록담 아닙니까.제주 사람들은 돌 하르방 보면서 살았습니다.\"그러니까, 거짓말 할 줄 모르고 서로 믿으면서 착하게만 살았습니다.\"\"보십시오, 없으면 도와 주고, 있으면 나누어서 먹으면서, 인정 많고, 사랑이 많은 돌하르방 손자들 입니다.\"\"장가간 날 밤, 새 신랑이 말했습니다.\"\"`색씨야, 어서 오너라.`\"`왜 그러십니까?``조금만 계십시오.``꾸물대지 말고 어서 오너라.`신부가 신랑 품에서 살그머니 말했답니다.`나를 얼마나 사랑하십니까?`\"`저기 한라산만큼, 또 바다만큼 사랑한다.`\"`그러지 말고 이 가슴팍 만큼만 사랑해 주십시오.`\"`그래, 너하고 나하고 둘이 둥실 사랑하자.`\"신랑이 신부에게 말했답니다.`여기 가까이 오너라.``왜 가까이만 오라고 하십니까?``조금이라도 같이만 있고 싶어서.``남들이 웃습니다.``어떡하느냐? 사랑에는 부끄러움이 없단다.`왜 그렇게 말하십니까?어서 와서 사랑하면서 살아 봅시다.화를 내면서 살아도 한 세상 걱정하면서 살아도 한 세상 입니다.가난해도 웃으면서 살아 봅시다.삼다도라고 하더니만 정말 돌이 많습니다.예?옛날에는 한라산이 화산이었기 때문에 돌이 많답니다.\"아이고, 저기 돌구멍에 핀 꽃 보십시오. 돌구멍으로 보는 바다는 꼭 그림 같군요.\"바다에 가서 보아야.풍랑을 알게 되고 자식을 낳아 보아야.부모 마음 알게 되고 사람은 만나서 살아 보아야.\"진짜 마음을 알게 되고 사랑을 해 보아야, 눈물도 알게 된답니다.\"사람은 서로 서로 도우며 사는 것이야!약은 고양이가 밤눈이 어둡다고 한다.자기만 약은 체 하면서 살다 보면.자기 욕심에 걸려서 자기가 넘어진단다.서귀포 바다에 가면 알수 있습니다.무엇이 사랑이고.무엇이 그리움인지.안개 낀 부둣가에 뱃고동 울어 주면.옛님이 그리워서 눈물이 많이도 납니다.아끼면서 살아야 한다.오늘보다 내일을 생각하고.내일보다 모레를 생각하고.그렇게 해사 일생을 편히 살수 있단다.요사이 아이들.너무 편안히 산다 그러니까.조금하면 아프고.울고 하고 있다.뒹글리면서 기른 달걀이 병아리가 된다고 한다.어릴 때 고생도 하고 해야 큰 사람 된다.어서 와서 먹으십시오.따뜻합니까?따끈따끈한 것이 먹기에 꼭 좋았습니다.따뜻할 때 후루룩 마셔 버리십시오.\"날이 밝았다, 어서 가자.\"일 해야 먹고 산다.부지런한 것은 하늘도 못 막는다고 하더라.\"뻘리 준비해서 가야, 일 할 것 아니냐. \"시집을 가 보니까 이렇드라.돌덩이 같이 고집 센 시아버지에.살모사 같이 독한 시어머니에.문어 같이 물렁물렁한 남편에.굴뚝새 같이 약아 빠진 시누이에.살아도 살아도 고생이더라.어디로 가느냐?바다에 어머니 한테 갑니다.\"그러면, 이거 가지고 가라.\"무엇입니까?\"너희 어머니, 바다에서 물질하면서 먹을거다.\"이렇게 억울할 때가 있습니까?사정을 해도 시원하지 않을 놈이 큰 소리 합니다.\"아니 원, 그거 도둑놈 마음이구나.\"\"그러게 말입니다, 그런 사람이 어디 있습니까?\"시험에 떨어진 아들이 아버지께 말했습니다.\"`난, 아무리 해도 안되겠습니다.`\"\"`왜, 안된다고 생각하느냐?`\"\"`해도 해도 안되는걸, 어떻게 합니까?`\"`차돌도 뚫고 있으면 구멍이 난다. 하고 있으면 된다.`딸이 뛰어 가다가 쓰러졌답니다.\"이런, 어떻게 하나.\"그래서 어떻게 했는가?병원에 갔습니다.가서 보니까 뼈가 부러졌답니다.\"한, 열흘간 입원 해야 한다고 합니다.\"작다고 놀리지 마라.작은 것이 똑똑하고 영리하다.큰 것은 바람만 불어도.흔들 흔들 거리지만 조그만 한 건.단단하고 태연하게 있는다.어느 곳으로 가십니까?바다에 고기 사려고 말입니다.\"왜, 누가 왔습니까?\"서울에서 작은 아버지네가 왔습니다.\"그럼, 조심해서 갔다 오십시오.\"어머니가 해 준 밥을 먹어 보십시오.정말로 맛이 좋습니다.무엇 때문인가요?그건 어머니의 사랑하는 마음이 밥속에 가득 가득히 들어 있기 때문 아닙니까.소문 옮기면서 다니지 마십시오.소문은 남들 싸움만 만듭니다.예부터 싸움은 말리고.흥정은 붙이라고 했습니다.\"그러니, 좋은 소리는 크게 하고.\"나쁜 소리는 조용히 해 버리십시오.두 부부가 어디로 그렇게 달려 가는가?큰 딸이 아이를 낳았다고 해서 갑니다.그랬구나.무슨 애기를 낳았는가?아들 입니다!\"아이구, 잘 되었네!\"어서 가 보게나.가서 보고 오십시오.와서 보고 사십시오.\"이렇게 하고, 저렇게 하고 하십시오.\"그렇게 말해 주십시오.가지 말고서 이렇게 하면서 사십시오.\"여보, 제주도에서 삽시다.\"좋지요.넓은 바다.좋은 공기.인심좋은 사람들과 살면 살 맛 날거다.살다가 지치면.풍덩 바다에 들어 가고 말입니다.\"둘이 먹다가, 한 명이 죽어도 모르는 건 무엇입니까?\"달고 맛있는 제주도 전복죽이야!\"둘이 보다가, 한 사람이 죽어도 모르는 건 무엇입니까?\"곱고 예쁘장한 제주도 처녀야!그러면 오십시오.전복죽 먹고서 처녀 보러 갑시다.쨍쨍한 햇볕속에 일 하려고 하니 수고 했습니다.수고 할 거 있습니까?\"조금, 땀은 났습니다만.\"안으로 들어 오셔서.저녁식사 하고 가십시오.그렇게 할까요.제주 바다에 가면 바다가 말을 합니다.사람보다.더 재잘재잘 말을 하고.사람보다.더 사랑도 많이 합니다.그렇게 하면서.낮이나 밤이나 꽃을 피웠다가.지웠다가 합니다.제주 바다에 가서 보십시오.미운 것도 없어지고.슬픈것도 없어지고.가슴으로 바닷물만 들어오고 나가고 하면서.둘이 둥실.둥그대 당실.사랑만 가득하게.담아서 옵니다.서울에서 색씨가 왔습니다.어떻게 생겼던가?똑똑하고 영리하게 생겼습니다.살그머니 웃으면서 말 하는 걸 보니.착할 것 같습니다.그 나쁜 놈!뺨따귀를때려 버릴거 아닙니까?그렇게 했어!목을 잡아서 흔들다가머리로 배를받아 버렸더니뒹글며 쓰러져 버리더군!잘 됐어!그런 놈은혼을 내 줘야 합니다.쌍둥이 어머니!\"고생하고 있네요, 그렇지요?\"둘이가 서로 이기려고 하니.죽겠습니다.그렇게 할 거에요.\"그래도, 남하고 싸울 때는.\"자기네 편을 들면서 싸웁니다.요 계집애 봐라.남의 남자와 얘기 하고.벌써부터.남자를 밝히느냐?아닙니다.바다에 가다가.길 모르는 사람이 있어서.길 가르켜 줬습니다.아이구.큰일 났습니다.\"왜, 그렇게 들락키느냐?\"너무 서두르지 말고.천천히 말해 보아라.그러니까요.이렇게 하고.저렇게 하고 했습니다.그러니까.욕심 내면서 살면.그렇게 된다.색씨.그거 가져다 줘라.왜.당신은 손이 없어요?발이 없어요?그러지 말고.좀 가져다 주면.안돼냐?버릇 됩니다!별나고 약아 빠진 소리.그만 해라.\"이제 가자, 짐 꾸려라.\"알았습니다.아이들도 데리고 갈까요?\"그래, 모두 같이 가자.\"\"할아버지, 할머니가 좋아하실거야.\"목아지에 때를 밀라.\"겨드랑이랑, 종아리도 밀고.\"\"옷 벗어서, 사타구니 사이도 밀어라.\"사람 몸은 깨끗해야 한다.무엇을 먹을까?\"글쎄요, 제주도에만 있는 것을 먹읍시다.\"\"소라에, 보말에, 옥돔생선, 또 있어요.\"메밀 범벅에 자리젓갈!먹을 것도 참 많이 있네.\"왜, 나는 조그만 줍니까?\"이놈아!욕심을 가진 눈에는.자기 것은 작게 보이고.남의 것은 크게 보이는 것이야!똑같이 나눈 것을 어찌 크다 작다 하느냐?어머니가 화가 나서.꼼짝 안합니다.그렇고 말고!믿던 나무에 곰팡이가 핀다고 하더니만.하도 억울하게 당해서 아니냐.어머니 마음 위로해 드려라!닭이야 울면 날이 밝아 오지만.내가 울면 어느 날 밝을 수 있으랴.닭의 목에 자물쇠나 잠궈서.내가 대신 울어나 볼까.여기 바다에.여기 물에 들어가서 전복.소라.가득하게 잡아다가.한 푼.두 푼.모이다 보니까.남편의 술값에.모조리 들어 가더라.정신없이 급하게.재촉해서.일하지 마라.바늘 허리를.졸라 매어서.바느질 되는 거.봤느냐?천천히 생각하면서.하나씩 해야.일이 된다.살다 보면 고생할 때도 있고.어려워서 쓰러질 때도 있단다.\"그래도, 한눈 팔아서 가지 말아라.\"곧게 걸어 가노라면.나중엔 꼭 성공한다.한림공원에 가서 보았습니까?\"별의 별, 나무랑 꽃이랑 잘도 아름답습니다.\"사랑하는 사람은 꼭 가서 봐야 한다고 합니다.\"그래야, 사랑하면서 잘 산다고 합니다.\"서울에서 온 사나이 제주 처녀에 미쳐 버리니까.\"오늘 갈까, 내일 갈까, 하다가 보니 꼼짝 못해서 살고 있더라.\"\"색씨, 왜 안 옵니까?\"어떻게 된 거 아닙니까?\"가서, 데리고 오십시오. 무었을 그렇게 늑장부리고 있는 건가?\"오늘은 우리 밭에 마늘 심어 주십시오.\"그렇게 합시다! 그런데, 비가 올 것 같습니다.\"동쪽으로 구름이 시커멓게 되고 있습니다.\"그럼, 조금 있다가 와 주십시오.\"아침부터 저녁까지.두 사람이 둥실 사랑도 하고.구경도 하고.그렇게 하다 보니.뼈가 폭삭 주저앉는다.사랑 할 때는 살그머니 말해라.누가 들으면 웃는다.아무도 모르게.너하고 나하고만 살그머니 하자.어머니랑 같이 오십시오.오다가.\"이렇게 하고, 저렇게 하고 하십시오.\"\"왜, 그렇게 숨차게 말하는가?\"짐을 진 사람이 짐 부릴 곳을 찾는 법이네.\"그러니, 걱정 말고서 가만히 있게.\"\"저기, 요새 애들 옷 입고서 다니는 것 보십시오.\"허벅다리도 내 놓고.배꼽도 내 놓고.\"그게, 무슨 별짓들이야!\"\"그러지 말고, 모조리 벗고서 다니지.\"좀 실례합니다.이 것이 얼마입니까?오천원 입니다.조금만 싸게 안될까요?\"그렇게 해야, 다시 올 거 아닙니까?\"한라산으로 가려 하면 어떻게 갑니까?바다에는 어떻게 갑니까?\"차를 타려고 하면, 많이 가야 합니까?\"\"제주도엔 가다가 봐도 바다입니다, 예!\"\"들어 와서, 놀다가 가십시오.\"그렇게 할까요.\"여기, 불 옆으로 앉으십시오.\"따뜻합니다.\"정말, 따뜻한 것이 좋습니다.\"무엇이라고 귓속말을 하고 있느냐?\"처녀, 시집 보내겠다고 말합니다.\"\"그렇게 해야지, 잘 생각했구나.\"딸은 나이가 들면 빨리 시집보내야 한다.그렇게 안절부절 날뛰지 말아라.차근차근 말을 듣고서 생각해라.어떻게 된 일인지 알아야 할 것이 아니냐?그렇게 하다가 숨 넘어 가겠다!달콤한 거 없습니까?\"글쎄, 어떤 것이 달콤할까?\"사탕을 주면 어떻습니까?아닙니다.그럼 삶은 달걀이나 하나 주십시오.어디로 가십니까? 이리로 오십시오.걱정하면서 살지 마십시오.\"이렇게 살아도 한 세상, 저렇게 살아도 한 세상.\"둘이 둥실 너하고 나하고 사랑이나 합시다.\"앞 나무에 앉은 새야, 왜 그리 울고 있느냐?\"\"서울 간 우리 남편, 빨리 오라고 울고 있느냐?\"\"저승 간 우리 어머니, 그리워서 울고 있느냐?\"\"내 마음, 아는 건 저 새 뿐이로구나.\"\"저기 봐라, 너희 아버지, 어머니 함께 가네.\"\"글쎄, 어디 가고 있는가?\"\"할아버지, 할머니는 없네!\"친족집에 상을 당해서 가고 있을겁니다.무엇을 하십니까?빨리 오십시오. 왜 그렇게 바쁘게 보채느냐?해 저물면 어떻게 합니까?캄캄하면 길 잃어버려 큰 일 납니다.가서 보라. 너희 새신랑이 왔다.\"아이구, 부끄러워서 어떻게 합니까.\"어허. 호강에 넘친 소리 하지 마라.어서 가서 '오셨습니까'하고 인사 해라.어디 갔다 오십니까?밭에 갔다 온다. 어디에 가느냐?바다에 고기 잡으로 갑니다.파도가 거세더라. 조심하고 일찍 오너라.\"이제는, 너의 인생은 네가 알아서 가야 한다.\"알았습니다. 잘 살겠으니 걱정 마십시오.그래. 아는 길도 물으면서 가라.조심하면서 가는 길은 편안하다.무엇을 하십니까? 어서 오십시오.그래 알았다. 어서 가자.쓰러지지는 말고 오십시오.\"돌, 조심하고 곧장 오십시오.\"제주도 처녀가 그렇게도 좋으냐?말로 해서는 모릅니다. 와서 보아야 알 수 있습니다.\"마음도 좋고, 얼굴도 좋고, 집안도 좋습니다.\"여보 나 등허리가 가렵다.\"어디, 이렇게 하세요, 보게.\"\"아이구, 벌레가 물었네요.\"약 발라야 하겠습니다.달아 맨 돼지야!너의 신세가 불쌍하구나.\"아이구, 불에 구워지는 돼지야!\"내 걱정은 말고 너 죽어 가는 거나 걱정하거라.죽어 가는 것이 별 것을 다 걱정하고 있니?돌 구멍으로 보아라.꽃들이 모두 모여서 피어 있구나.\"우리 님의 얼굴도, 꽃이 되어 피고 있구나.\"사랑 사랑 사랑꽃도 가득하게 피고 있구나.\"고기, 멍청한 것은 잡아나 먹고 나무, 멍청한 것은 불이나 때고 돌, 멍청한 것은 담이나 쌓는다.\"\"사람, 멍청한 것은 아무 것에도 못 쓰겠구나!\"\"너하고 나하고 두 사람이 둥실 낮에 낮이나, 밤에 밤이나, 서로 사랑 이로구나.\"\"아침에 우는 새는, 배가 고파 울고요.\"\"저녁에 우는 새는, 님 그리워서 운다.\"\"넓은 바다 앞을 재면서, 한 길 두 길 앞으로 가고 깊은 바다 깊이를 재며, 한 길 두 길 들어가면 저승길이 오락 가락.\"\"이어도 사나, 이어도 사나, 이어도가 저승길의 반이라 한다.\"새신랑 들어 온다.저리로 비켜 서라 이렇게 하십시오.조금만 봅시다!\"알맞게 살찐 모습이, 잘 생겼구나.\"\"말도 안 듣고, 일도 안 하고, 정말, 그렇게 하면 들러메어 던져 버리겠어.\"사람은 일을 해야 살 수 있는 거야!조금씩 먹어라. 숨 넘어간다. 배 고파서 말입니다.그렇게 먹다간 숨이 막히겠다! 누가 훔쳐 가지 않으니 천천히 먹어라.사람 있습니까? 누구십니까? 윗 동네 갑돌이 어머니 입니다.\"아이구, 어떻게 해서 왔습니까?\"\"우리 딸은 아무것도 모릅니다. 세상 물정 잘 모르는 아이, 어린 아이입니다.\"잘 데리고 살아 주십시오. 가르치면서 살아야 할 겁니다.무엇을 잘 했다고 큰 소리입니까?방귀 뀐 놈이 화 내고 있네.누가 입이 없어서 말을 못 하는줄 아는가?\"지렁이도 밟으면 꿈틀거립니다, 예!\"\"제 마음 모르겠습니까? 당신만 보면 가슴이 두근 두근 이러지도 못하고, 저러지도 못하고, 제 마음, 저도 모르겠습니다.\"언제 오셨습니까? 한 사나흘 되었습니다. 모두 편안 했습니까? 어떻게 살고 있습니까?\"시집가니까 어땠습니까? 아이고, 말도 마라.\"\"뭐가 뭔지, 눈앞이 캄캄하니 정신이 없더라. \"서울에는 언제 가겠습니까? 갈 때는 나를 데리고 가 주십시오.\"서울 가서 무엇을 하려고? 구경도 하고, 서울 사랑도 해 보려고요.\"\"왜, 뭐라고 말하던가요? 살짝 와서 말하십시오. 들어 봅시다.\"\"글쎄, 말할까, 말까? 속 태우지 말고 빨리 하십시오.\"\"그럼, 남 한테는 아무 말도 하지 마십시오, 네?\"\"누구 있습니까? 안녕 하십니까? 아버지, 어머니 모두 편안 하셨습니까? 어디 갔다가 오십니까? 요새 어떻게 사십니까? 좋습니까?\"어디로 가십니까? 이리로 오십시오.어서 어서 오십시오. 살짝 살짝 오십시오.\"너랑 나랑, 둘이 둥실 사랑이나 합시다요.\"정말로 가시겠습니까?\"글세, 어쩔수가 없단다.\"\"그럼, 나 혼자만 어떻게 살라고 하십니까?\"\"어쩔 수 없지 않느냐, 조금만 참고 살고 있어다오. 떠나는 내 마음도 울고 싶단다.\"\"우리 어머니 사는 바다, 우리 목숨을 키운 바다 동쪽으로 가면\"\"동의 바다, 서쪽으로 가면 서의 바다 바람이 불면 파도가 치고, 비가 오면 날이 저물고\"\"하늘같은 용왕님이여, 명주실같이 잔잔한 바다 만들어서 우리 어머니 서러운 가슴, 편안하게 하여 주소서.\"어떻게 살면 되겠습니까? 왜 그렇게 걱정하면서 사십니까? 참으면서 사십시오. 그러다 보면 살아 갈 수 있습니다.어서 오십시오 어서 오너라 잠깐 있으십시오.잠깐 있어라 무엇을 하십니까?무엇을 하느냐? 왜 그렇게 급하십니까?\"왜 그렇게 급하냐? 그래요, 빨리 오십시오.\"\"그래, 빨리 오너라\"색시 구할 때는 마음을 봐라. 얼굴 고운 것은 한 달이여!\"날씬하고 멋진 것은 일 년이야! 마음 착한 건, 십 년이 되고 백 년이 되도 저 소나무 처럼 청청하다.\"어느 마을에 갑돌이라고 하는 사나이와 갑순이라고 하는 처녀가 살았습니다. 두 사람은 좋아 하면서도 말은 못하고 속으로는 타면서도 그 까짓거 하였답니다. 그렇게 하다가 갑순이가 시집을 가게 되니까 그때야 갑돌이가 `아이구! 어머니!` 하면서 울었습니다.그렇게 하더라도 어떻게 합니까? 할 수가 없었습니다. 갑돌이도 화가 나서 장가를 가 버렸습니다. 장가가는 날은 갑순이도 부엌에서 울었습니다. 갑순이 마음도 갑돌이 뿐이었습니다만 어찌 합니까? 사람 팔자는 참으로 모르는 것입니다. 그러니 어떻게 살까? 걱정하면서 살지 마십시오. 살다 보면 타고난 운명대로 다 살기 마련입니다.물동이 지고 가는 저 처녀야! 물만 지고 가지 말고 이 총각의 마음도 지고 가다오. 사랑한다고 말은 못하고 돌틈에 숨은 새 같이 가슴만 철렁 철렁!어떻게 하면 좋겠습니까요? 먹을 수 있는 것이라면 따뜻할 때 후루룩 마셔 버리기나 한다 물이나 된다면 물동이 속으로 풍덩 들어 가기나 한다.\"이렇게도 못하고, 저렇게도 못하고, 처녀야! 참말로 죽겠다. 총각이 타는 마음을 조금 만이라도 알아다오.\"우리 제주도 할아버지들이 하시는 말씀이 있습니다. 밭을 살 때는 밭 옆을 보고 사라. 집을 살 때는 이웃들을 보고 사라. 산을 사려면 암반을 보고 사라. 사돈을 맺을 때는 집안의 뿌리를 보고하라.그리고 우리 어머니들이 가르친 말씀이 있습니다. 어리광 부리지 말라. 경솔하게 나서지 말라. 게으르지 말라. 느림보가 되지 말라. 꾀부리며 잘난 척 말라. 거만하지 말라. 남의 마음 아프게 하지 말라.\"그래야 하는 일들이 편안히 잘된다. 살다 보면 잊어버릴 대가 있습니다만 우리 할아버지, 할머니, 아버지, 어머니들이 하신 말씀들은 정말로 소중한 교훈들입니다.\"\n"
          ],
          "name": "stdout"
        },
        {
          "output_type": "execute_result",
          "data": {
            "text/plain": [
              "['넘치도록강아지부글부글하다가랭이부풀어 오르다거품정황도 모르고밥을 추하게 먹는 모습뺨잡초말하지말라희미하다숨말힐듯한 상황 참으면서입이 큰 모양쉰 밥으로만든 유산식품고자질한다마음 씀씀이숨막히다이렇게잘게부수다말하다캄캄하다숨기다똑똑하다햇살이 눈부시게 비추는모습텃밭친족산간마을밑바닥걷는 모습초벌로 불에 태우다제대로 된뼈어떤 결심을 하기위한 다짐눈물의 반찬보리피리침어이없다던져버린다원통하다얼떨떨하다마늘날뛰다향기가 좋다기름기가 넉넉하다딸기찌그러지다돼지우리가 있는 변소아무것도 없음틈새무서워이곳저곳홀랑벗은모습많다만지다가힘없이 쓰러진 모양전부하다가 안 할 것이냐멍청하다빨리가자늦장부리다조금맛이가다등왜축 늘어지다어둠속에 빛이 희미하다얼굴고소하다모습잠수복거칠고 노한 바다가까운 바다먼 바다한라산의 중턱에 띠같은 구름이 끼면 비가 온다달무리지면 비가 온다돌고래가 날뛴다황사현상물안경작살해산물을 많이 잡았다해산물을 많이 잡았다겨우 한두개 잡았다바다가 잔잔하다산더미 같은 파도작은 파도물결이 친다 할아버지 할머니아버지 어머니 처녀 친척 거지 시집간색시 의붓아들 세번째자식 사나이 형님 어른이된 사람 해녀 경솔한사람 홀아비 다리 꼬리 귀쪽뺨 뼈 입 머리 등어리 똥구멍 멱살 배 불뚝이 배 밟아버린다 얼굴 목 턱 이마 종아리 겨드랑이간지롭게 종아리머리카락 넓적다리 얼굴 통조림 미숫가루 동물먹이 고기 바닷고기 돼지고기 쇠고기 돼지고기 쌀로만든하얀떡 흰쌀밥 무우 마늘장아찌 마늘 파 메밀수제비 반찬 참기름 김치 찹쌀 조밥 감물들인옷 감물들인 적삼 감물들인 고의 개구멍 바지 호주머니 단추 밀짚 모자 버선 속옷 신짝 짚신 잠방이 감물들인베옷 고쟁이 우두머니 두루마기 아기옷 비온날 저고리 기저귀 기저귀 조끼 치마 건대 사모관대 손자용상복 상제옷 망건 상갓닮은거 벙거지 삿갓 탕건 남자모자 여자모자 빈네꽂은머리 땋은놈의머리 비녀 상투 머리빗 머리빗 족두리 참빗 무당입는옷 나막신 무당들 쓰는 모자 방울 상복치마 바구니 대로만든채롱 양푼 물긷는그릇 마차 바늘 바가지 수저 젓갈 주머니 물을길어나르는통 큰밥주걱 국사발 함지박 도시락통 바가지 밥사발 작은밥자 작은바가지 설거지통 항아리 나무로만든도고리 삽 곡괭이 호미 호미 고무래 날레 젓는 거 맷돌 상태기 돌 발르는 끌 도리깨 멱서리 연자마 쐐괘 씨앗그릇 쉐거름낼때 씨앗 쟁기 낫 굴뚝새 날개 동박새 닭 닭 고양이 송아지 망아지 돼지 돼지 밭을 가는 소 숫소 염소 강아지 쥐 도미 게 소라 문어 개미 맹꽁이 버러지 뱀 병아리 새 다람쥐 쥐 여우 노루 병아리 소 외양간 돼지 두꺼비 개구리 올챙이 채소 감자 고구마 억새 잔디 메밀 느티나무 강아지풀 달래 산수국 삼나무 팽나무 가뿐하다 시원하다 게으르다 분수가없다 곧다 쨍쨍하다 조마조마하다 가렵다 달콤하다 통쾌하다 따뜻하다 한곳에모여있다 포동포동하다 젊게보이다 부끄럽다 동그랗다 퉁퉁하다 부지런하다 시치미를뗀모양하다 희끔하다 시원하다 지긋지긋하다 차겁다 관심이없다 아무런가치없다 살찌다 사납게소리치다 더럽다 흐리멍텅하다 당황하다 궁금하다 엄청나다 작아서위로치켜뜬모양하다 오목하다 캄캄하다 떠들썩하다 똑똑하다 불쑥나타나있다 가늘다 잠잠하다 까다롭다 그저께 아침 그저께저녁 엊저녁 내일모레 요사이 흉년 겨울 된 헤어지다 자빠지다 맴돌다 남의일을비평하다 꺼떡거리다 건드리다 거꾸러지다 호다박자 비켜서다 재주넘다 얼굴을찡그리다 숨기다 불평을말하다 거꾸로박히다 은밀히알려주다 숨막히다 차례로바꾸다 늑장부리다 미끄러지다 재촉하다 다니다 던져버리다 갈라지다 날 뛰다 느리다 꾸물거리다 속이보이게열다부수어버리다 화나다 고함지르다 소근거리다 소문내다 잠잠하다 겨루다 욕설하다 성내다 간지럽히다 걱정하다 다섯 예닐곱 여든 일곱여덟 여나믄 여섯 하나 해녀 물질잘하는사람 어린처녀욕 밤따귀 은하수 소나기 무지개 안개 공기 나무그늘 달 별 돌맹이 자갈밭 방 화장실 화장실 줄 작은밭 한 달머리어깨무릎발같이 가요 함께 해요너와 함께 하면 즐거움이 열배야같이 가요 함께 해요너와 함께 하면 즐거움이 백배야이렇게 예쁜 날 공기 좋고 사람 좋고너와 함께 하니 무슨 걱정 있으랴많이 말하면 잔소리야먹다 보니 살게 되고 살다 보니 먹게 되지굶어 보면 알게 되지 배고픔도 인생인 걸없으면 없는대로 그저 그렇게 살고있으면 있는대로 나누면서 살지먹어볼만한 살아볼만한 세상웃으며 사는 세상이 사람 사는 세상이지울다 보니 살게 되었지웃다 보니 살게 되었지우는 삶도 웃는 삶도 고마운 인생이지없으면 없는대로 그저 그렇게 살고있으면 있는대로 나누면서 살지먹어 볼만한 살아 볼만한 세상웃으며 사는 세상이 사람 사는 세상이지무명천 할머니 어디 가십니까무명천 할머니 편안 하십니까4 3 사건때 총 맞아서 턱을 잃었네 그렇게 살았네55년 간 말도 못하고 음식도 못 먹으면서상처 난 얼굴 보일 수 없어 무명천을 둘렀네목숨은 건졌지만 살아도 산게 아니었네무명천 할머니 라고 날 불렀지만내게도 이름이 있었네진아영 입니다무채 썰어 끓는물에 데쳐파와 깨가루 넣어 섞어서메밀가루 반죽하여 얇게 지져그 위에 놓고 말면빙떡 이지앞뒤분간못하고 어디로 가려고 하니예쁘게 차려입고 이쪽으로 와서는너와내가 한데모여서 힘껏 달리자수줍게웃으며 모두 쳐다보니 정다워지네달려라 걱정하지 말고 달려라 모두 달려라달려라 걱정하지 말고 달려라 모두 달려라화를 내며 다퉈 보니까 알겠니너와내가 경쟁해 봐야 감정상하기만할 뿐이네돈이 많은 척 잘난 척 점 잖은 척그렇게 해 봐야 삐칠 뿐이니 달어 돌아다니자달려라 걱정하지 말고 달려라 모두 달려라달려라 걱정하지 말고 달려라 모두  달려라아야 머리야 아야 머리야입담하며 두들기노라면숟가락 자루 거꾸로 잡고채롱 옆을 두들기노라면굵다란 말개미들이사방으로 흩어지고어떻게하지 어떻게하지학교 가는길에 오줌을 쌌어어떻게하지 어떻게하지학교 가는길에 오줌을 쌌어어떻게하지학교 가는길에 오줌을 쌌어어떻게 하지 어떻게 하지참다가 참다가 참지 못해 나와버렸어어떻게 하지 어떻게 하지비가 내리니 비 맞았다고 말하렴나오는 걸 어떻게 할 수 있겠니어떻게 하지 어떻게 하지게를 잡다가 미끄러졌어어떻게 하지 어떻게 하지게를 잡다가 미끄러졌어어떻게 하지게를 잡다가 미끄러졌어어쩌다가 어쩌다가숨어있는 게를 기다리다가 갑자기 덮쳤지그래서 어떻게 되었어정말 빨랐어눈 감았다 떠 보니물 속에 나만 빠져 있었어어떡하지 어떡하지 어떡하지 어떡하지바다 바다 바다 바다 바람 바람 바람 바람바다 바다 바다 바다 바람 바람 바람날이 정말 좋아 바다에 가서 모래밭을 맨발로 걸었네게 한 마리가 나를 보더니 파도치는 쪽으로 도망가네어쩌지 잡아 볼까 잡다 실수하면 아야 물릴 텐데바다 바다 바다 바다 바람 바람 바람 바람바다 바다 바다 바다 바람 바람 바람새 새 새 새 오름 오름 오름 오름새 새 새 새 오름 오름 오름엄마랑 손 꼭 잡고 용눈이 오름을 오르네새 한 마리 나를 보더니 짹짹짹짹 노래를 하네어쩌지 잡아 볼까 아무리 잡으려 해도 어림없을 텐데당신의 마음 속엔고운 꽃들이 만발한 모양이야이렇게 말해도 빙그레 웃고저렇게 말해도 빙그레 웃고당신의 마음 속엔황소 한 마리 들어앉은 모양이야이렇게 말해도 잠잠저렇게 말해도 잠잠당신의 마음 속에 들어가 보려고욕심과 미움이손  불끈 잡아두고기웃 기웃 거려보는데꿀벌과 일벌이날아다니는 걸 보니당신의 마음 속엔송이꿀보다도 더 달디단무언가로 꽉 들어찬  모양이야휘이이바람 분다바람 불어저 바다가저 바람이손짓하네말을 하네테왁 메고 호미를 들어바다와 춤을 추네우리 엄마 우리 바다한 몸 되어 춤을 추네바다야 바람아눈물 나네 눈물이 나우리 엄마 지켜다오이어도 이어도 사나이어도 이어도 사나이어도 이어도 사나이어도 이어도 사나바람은 세차게 불고덜 익은 조 열매가이쪽을 보면서 인사하고저쪽을 보면서 인사하고나뭇가지들은 서로 다투며 잡아당기고파도치는 요메기 바다엔 빈 소라가 뒹굴어 다니고담위를 걸쳐친 고구마줄기에동글동글 매달려있는 작은고구마이리 흔들리고 저리 흔들리고워어허허 바람 바람 바람 부는 제주의 하늘아먹구슬나무 꼭대기에 앉은 먹구슬 새 안 떨어지려고 나뭇가지를 꽉잡고 있고조밭 밟는 망아지 뒤로 일어나는 흙먼지는 남의 밭으로 넘어가고동네 큰 팽나무 아래 땀좀식히고 가려고하면불어오는 저 바람은 왜 그리 간질이는지그래 어서 가렴그래 어서 가렴바람아해녀 삼촌 다시 다시 바다 가네테왁 메고 호미 들고 잠수복 입고 뒤뚱뒤뚱파도치는 바다로 가 보니테왁들이 동동동동 춤을 추네해녀 삼촌들 다시 물속으로숨비소리 쏟아가며 물속으로고기처럼 홀랑홀랑 꼬릴 치네나도 확 벗고 물속으로 뛰어들까 테왁 들고 이쪽으로 온거 보니성게도 가득 전복이랑 소라랑아고 이건 뭐지 문어도 잡아 왔네요아고 삼촌 문어 한마리 얼마죠아고 조카야 너는 그냥 가져가라에고 무슨 말씀을 그럼 저녁에 당근파다 드릴게요 물바가지로 물 마시면 수염 안난다 갓난아이 옷을 방망이로 빨면 아기가 놀랜다 밤에 머리 빗으면 무서움 탄다비는 자에게는 용서해 주어야 한다 비오는 날 쇠꼬리 이리 착 저리 착 흔든다 빈 맷돌질 하면 흉년 든다 가난한 사람 못할 일 없다 까마귀가 까옥하면 참새도 조조 한다 즉 자기 자신을 알고 처신하라 까마귀 똥 헤집듯 까마귀 모른 제사 까마귀 아래턱 떨어질 소리 장모 눈 망가뜨릴 사위 장모 된장 없는 터에 사위 국 먹기 싫은 터에 아내 아까우면 처가 집에 절한다 아내가 없는 것은 안 섭섭해도 담배통 잃는 건 더 섭섭하다 아내 없는 처가집 가나 마나 갈치가 갈치 꼬리 끓어 먹는다 갑이년 흉년에도 먹다 남은 게 물이다 갓장사 헌갓 쓰고 무당 남 빌어 굿하고 강아지 똥은 똥이 아닌가 개가 똥을 참지 개도 빗자루로 안 때린다 개똥을 무서워서 피하느냐 더러워서 피하지 하찮은 개 똥도 약으로 쓸려면 귀하다 건더기 먹은 놈이나 국물 먹은 놈이나 매 한가지 검은 닭도 흰 달걀 낳는 수 있다음식 타박 쌍놈 글 구숭 양반자식 음 식을 먹을 때는 개도 안 때린다 음식을 박대하면 죄 짓는다 소라 게도 집이 있다 고운 사람은 멱서리 써도 곱다 고운 여자 잡아 들이라고 하니 살찐 여자 잡아 들인다 곧은 나무는 한가운데 선다 삼태기 부지런으로 부자가 되는걸 하늘도 못막는다 공짜하면 눈도 벌겋고 코도 벌겋고 공짜는 맛이 써도 달다 공부하라고 하니 개잡는걸 배운다 같은 값이면 과부집 머슴을 산다 소라가 똥누러 가버리면 소라게가 차지 한다 국 많이 먹으면 장모 눈 망가진다 하찮은 굼벵이라도 구부리는 재주가 있다 시집가서 귀머거리 삼년 장님 삼년 벙어리 삼년을 살아야 가라 오라는 말이 없다 귀신 대접 잘 해두면 잘못 될 일 없다 귀소문 하지 말고 눈소문 하라 실제로 보고 확인한 것 아니면 말하지 말라 귀신도 사정하면 들어 준다 일가는 옷위의 바람 그 날 액은 독안에 앉아도 깬다 거짓말도 외삼촌 보다도 낫다 글 잘 못하는 놈 붓 고른다  붓타령 한다글 배우라고 했더니 엉뚱하게 과부집 강아지 때린다기어 다니지도 못하는게 나려고 한다게와 고둥도 자기 집은 있다 그을린 돼지가 달아멘 돼지를 나무란다삼태기 부지런으로 부자 되는 것은 하늘도 못 막는다기왕에 같은 품삯이면 과부집 머슴을 산다가늘게 먹고 가늘게 쓰라관덕정 설렁탕도 먹어본 놈이 먹는다칡 걷으러 간 놈이 정당벌레 테 엮는다나간 놈 몫은 있어도 잠자는 놈 몫은 없다나  다니는 개가 뼈 물어 온다나의 땅에 있는 까마귀는 검어도 아깝다나가서 화목은 남자가 하고 들어서 화목은 여자가 한다나이  많은 사람이 양보하라남자가 밟은 풀은 이울고 여자가 밟은 풀은 안 이운다나무도 늙어 고목되면 새들도 아니 온다나무가 좀먹지 세월은 좀 안먹는다   느긋한 시간 관념을 부추길 때내 딸이 고와야 잘난 사위를 고른다너무 고르다가 눈이 멜라진 사위를 고른다노름꾼 뒤는 대어도  먹는 놈 뒤는 대지 말라노름은 끝나서 신발 신을 때 보아야 승부를 안다노름 쟁이는 망하여도 흥하지는 못한다노루 때린 막대기 3년을 울겨 먹는다남이 숨긴건 소도 못 찾는다 남과 경쟁은 하되 시기는 하지 마라남이 켠 횃불에 게 잡는다남의 눈에 피 흘리게 하면 자기 눈에는 고름이 나와야 한다남의 소 날뛰는 건 보기 좋다남의 흉내 내면 자기 흉 된다남의 집과 벼슬 살이는 끓는 밥도 두고 간다세수 할 때에 물을 많이 사용하면 죽어서 가면 다 마셔야 한다애꾸눈 딸 가지고 사위를 고른다누운 나무에 열매 열리는가눈썹에 불이 붙어도 끌 겨를이 없다늙은 소 콩을 주면 안 받겠다고 하느냐늙은 놈이 젊은 첩 하면 불 본 나비 날뛰듯 한다이 아픈 심부름은 하고 눈 아픈 심부름은 하지 마라의붓 아들은 콩죽 먹이고 친 아들은 팥죽 먹인다의붓아버지 고기 써는데는 가고 친아버지 장작 패는데는 가지를 말라넓은 바다도 건너 봐야 안다대정 망아지 야무지고 알차다  대정은 서귀포시 대정읍 지명임 덴 곳에 털 안난다들목 터진 밭에 마소 들듯도둑놈과 띠 다발은 묶어서 세워 놓으면 꼭 닮다고맙쑤다갑써양나 이녁 소못 소랑헴수다서방 조끝에 고치 앉즙써사름 잇수과잘 이십디강아방 어멍 다 펜안햇수과데멩이 맹심헙써어디 갓당 왐쑤과지 것은 족아 벤다누게꽈나 상우댕이 고우꽝고우멍 말멍 허우다오천원마씀큰일 낫수다어떵 생겨서어디가코 마시요망지게 생겨십디다제주특별자치도에서 살게 마씀맨드롱햇수과무사 마씀오젠허난 폭삭 속아수다재기재기 보질보질 혼저옵서촘말로 곱고 몬트락허우다이딘 보름도 하영 불엄져소민나민 난 몰라이디 와부난 어멍 보지그립다지천 자지 그립다뱃은 과랑과랑 모살은 삔찍삔찍아무거앤 고라도 귀 눈이 왁왁게메 마씀날 봅서제나콰니여으마떵호리제주도 사투리로 말 하니까뭐라고 말하는지 모르겠지요글세 말입니다귀와 눈이 캄캄합니다그래도 가만히 생각하며 들으면 조금씩 알 게 됩니다오랜만이예요편안하십니까얼굴이 좋아보이네요어서오세요제주도 오느라 수고하셨어요제주도에 오니까 정말로 좋습니다산이랑 바다랑 모두가 좋습니다많이 보고 서울에 갈 때는 많이 담아서 가십시오그러게 말입니다그렇게 했으면 얼마나 좋겠습니까안으로 들어 오셔서 식사 하고 가십시오제주도 오셨으니 전복죽드셔보고 가셔야죠어서 와서 드세요따뜻합니까따끈따끈한 것이 먹기에 꼭 좋았습니다맛 좋네요여기요이거 1kg에 얼마예요사천원입니다그래요사천원어치주세요많이주세요많이 드립니다맛있게 드세요삼성혈에 가려는데요어디로 가면 되지요여기서 10분 밑으로가서 칼호텔 근처에서 돌아서 왼쪽으로 가면 됩니다알겠어요거기가서 아무사람이나 물어보면 잘 말해 줄꺼예요관광 잘하고 가세요어서오십시요잠깐 있으십시오잠깐있어라무엇을 하십니까무엇을 하느냐왜 그렇게 급하십니까왜 그렇게 급하냐빨리 오십시오어떻게 살고 있습니까무엇이라고 말하십니까귀와 눈이 캄캄합니다따뜻할 때 후루룩 잡수십시오뭘 그리 늦장 부리십니까와서 보십시오말로 해서는 모릅니다아름답게 모조리 벗어서 오십시오어디 갔다가 오십니까어디로 가십니까고생시키면서 키웁십시오그래야 빨리 자랍니다어떻게 살까걱정 마십시오참고 살면 살수 있습니다너하고 나하고 둘이 둥실 사랑합시다어서 오십시오제주도에 오니 어떠하십니까정말로 좋습니다와서 보십시오말로해서는 모릅니다왜 그렇게 말하십니까꾸물대지 말고 어서 오너라조금만 계십시오어서 와서 먹으십시오따뜻합니까따뜻한 때 후루룩 마셔 버리십시오어서 오십시오제주도 사투리로 말 하니까 뭐라고 말하는 지 모르겠지요글쎄 말입니다귀와 눈이 캄캄합니다그래도 가만히 생각하며 들으면 조금씩 알게됩니다제주도 사투리 정말로 귀하고 아름다운 보물입니다안녕하십니까제주도에 오니 어떠하십니까정말로 좋습니다공기도 맑고 산이랑 바다랑 모두가 좋습니다서울에 갈 때는 많이 담아서 가십시오그러게 말입니다그렇게 했으면 얼마나 좋겠습니까저기 바구니 지고 가는 거 처녀들 아닙니까맞습니다처녀도 있고 시집 간 여자도 있습니다처녀들 곱고 날씬하군요그렇지요 산 좋고 물 좋은 제주도에 사니 마음도 착하고 얼굴도 곱습니다 말로 해서는 모릅니다제주도에 와서 보아야 알 수 있습니다돌도 많고 바람도 많고 처녀도 많고 유채꽃도 아름답게 피었습니다아무리 말해도 모릅니다어서 와서 보십시오제주도에는 바람이 많이 있습니다동쪽에서 부는 바람 샛바람서쪽에서 부는 바람 갈바람남쪽에서 부는 바람 마파람북쪽에서 부는 바람 하늬바람 입니다한라산에 올라서 보십시오발 아래 구름들이 오락가락 하고 아듣하니 꿈속 같습니다옛날에 신선들이 흰 사슴을 타며 놀았다고 해서 백록담 아닙니까제주 사람들은 돌 하르방 보면서 살았습니다그러니까 거짓말 할 줄 모르고 서로 믿으면서 착하게만 살았습니다보십시오 없으면 도와 주고 있으면 나누어서 먹으면서 인정 많고 사랑이 많은 돌하르방 손자들 입니다장가간 날 밤 새 신랑이 말했습니다`색씨야 어서 오너라``왜 그러십니까``조금만 계십시오``꾸물대지 말고 어서 오너라`신부가 신랑 품에서 살그머니 말했답니다`나를 얼마나 사랑하십니까``저기 한라산만큼 또 바다만큼 사랑한다``그러지 말고 이 가슴팍 만큼만 사랑해 주십시오``그래 너하고 나하고 둘이 둥실 사랑하자`신랑이 신부에게 말했답니다`여기 가까이 오너라``왜 가까이만 오라고 하십니까``조금이라도 같이만 있고 싶어서``남들이 웃습니다``어떡하느냐 사랑에는 부끄러움이 없단다`왜 그렇게 말하십니까어서 와서 사랑하면서 살아 봅시다화를 내면서 살아도 한 세상 걱정하면서 살아도 한 세상 입니다가난해도 웃으면서 살아 봅시다삼다도라고 하더니만 정말 돌이 많습니다예옛날에는 한라산이 화산이었기 때문에 돌이 많답니다아이고 저기 돌구멍에 핀 꽃 보십시오 돌구멍으로 보는 바다는 꼭 그림 같군요바다에 가서 보아야풍랑을 알게 되고 자식을 낳아 보아야부모 마음 알게 되고 사람은 만나서 살아 보아야진짜 마음을 알게 되고 사랑을 해 보아야 눈물도 알게 된답니다사람은 서로 서로 도우며 사는 것이야약은 고양이가 밤눈이 어둡다고 한다자기만 약은 체 하면서 살다 보면자기 욕심에 걸려서 자기가 넘어진단다서귀포 바다에 가면 알수 있습니다무엇이 사랑이고무엇이 그리움인지안개 낀 부둣가에 뱃고동 울어 주면옛님이 그리워서 눈물이 많이도 납니다아끼면서 살아야 한다오늘보다 내일을 생각하고내일보다 모레를 생각하고그렇게 해사 일생을 편히 살수 있단다요사이 아이들너무 편안히 산다 그러니까조금하면 아프고울고 하고 있다뒹글리면서 기른 달걀이 병아리가 된다고 한다어릴 때 고생도 하고 해야 큰 사람 된다어서 와서 먹으십시오따뜻합니까따끈따끈한 것이 먹기에 꼭 좋았습니다따뜻할 때 후루룩 마셔 버리십시오날이 밝았다 어서 가자일 해야 먹고 산다부지런한 것은 하늘도 못 막는다고 하더라뻘리 준비해서 가야 일 할 것 아니냐 시집을 가 보니까 이렇드라돌덩이 같이 고집 센 시아버지에살모사 같이 독한 시어머니에문어 같이 물렁물렁한 남편에굴뚝새 같이 약아 빠진 시누이에살아도 살아도 고생이더라어디로 가느냐바다에 어머니 한테 갑니다그러면 이거 가지고 가라무엇입니까너희 어머니 바다에서 물질하면서 먹을거다이렇게 억울할 때가 있습니까사정을 해도 시원하지 않을 놈이 큰 소리 합니다아니 원 그거 도둑놈 마음이구나그러게 말입니다 그런 사람이 어디 있습니까시험에 떨어진 아들이 아버지께 말했습니다`난 아무리 해도 안되겠습니다``왜 안된다고 생각하느냐``해도 해도 안되는걸 어떻게 합니까``차돌도 뚫고 있으면 구멍이 난다 하고 있으면 된다`딸이 뛰어 가다가 쓰러졌답니다이런 어떻게 하나그래서 어떻게 했는가병원에 갔습니다가서 보니까 뼈가 부러졌답니다한 열흘간 입원 해야 한다고 합니다작다고 놀리지 마라작은 것이 똑똑하고 영리하다큰 것은 바람만 불어도흔들 흔들 거리지만 조그만 한 건단단하고 태연하게 있는다어느 곳으로 가십니까바다에 고기 사려고 말입니다왜 누가 왔습니까서울에서 작은 아버지네가 왔습니다그럼 조심해서 갔다 오십시오어머니가 해 준 밥을 먹어 보십시오정말로 맛이 좋습니다무엇 때문인가요그건 어머니의 사랑하는 마음이 밥속에 가득 가득히 들어 있기 때문 아닙니까소문 옮기면서 다니지 마십시오소문은 남들 싸움만 만듭니다예부터 싸움은 말리고흥정은 붙이라고 했습니다그러니 좋은 소리는 크게 하고나쁜 소리는 조용히 해 버리십시오두 부부가 어디로 그렇게 달려 가는가큰 딸이 아이를 낳았다고 해서 갑니다그랬구나무슨 애기를 낳았는가아들 입니다아이구 잘 되었네어서 가 보게나가서 보고 오십시오와서 보고 사십시오이렇게 하고 저렇게 하고 하십시오그렇게 말해 주십시오가지 말고서 이렇게 하면서 사십시오여보 제주도에서 삽시다좋지요넓은 바다좋은 공기인심좋은 사람들과 살면 살 맛 날거다살다가 지치면풍덩 바다에 들어 가고 말입니다둘이 먹다가 한 명이 죽어도 모르는 건 무엇입니까달고 맛있는 제주도 전복죽이야둘이 보다가 한 사람이 죽어도 모르는 건 무엇입니까곱고 예쁘장한 제주도 처녀야그러면 오십시오전복죽 먹고서 처녀 보러 갑시다쨍쨍한 햇볕속에 일 하려고 하니 수고 했습니다수고 할 거 있습니까조금 땀은 났습니다만안으로 들어 오셔서저녁식사 하고 가십시오그렇게 할까요제주 바다에 가면 바다가 말을 합니다사람보다더 재잘재잘 말을 하고사람보다더 사랑도 많이 합니다그렇게 하면서낮이나 밤이나 꽃을 피웠다가지웠다가 합니다제주 바다에 가서 보십시오미운 것도 없어지고슬픈것도 없어지고가슴으로 바닷물만 들어오고 나가고 하면서둘이 둥실둥그대 당실사랑만 가득하게담아서 옵니다서울에서 색씨가 왔습니다어떻게 생겼던가똑똑하고 영리하게 생겼습니다살그머니 웃으면서 말 하는 걸 보니착할 것 같습니다그 나쁜 놈뺨따귀를때려 버릴거 아닙니까그렇게 했어목을 잡아서 흔들다가머리로 배를받아 버렸더니뒹글며 쓰러져 버리더군잘 됐어그런 놈은혼을 내 줘야 합니다쌍둥이 어머니고생하고 있네요 그렇지요둘이가 서로 이기려고 하니죽겠습니다그렇게 할 거에요그래도 남하고 싸울 때는자기네 편을 들면서 싸웁니다요 계집애 봐라남의 남자와 얘기 하고벌써부터남자를 밝히느냐아닙니다바다에 가다가길 모르는 사람이 있어서길 가르켜 줬습니다아이구큰일 났습니다왜 그렇게 들락키느냐너무 서두르지 말고천천히 말해 보아라그러니까요이렇게 하고저렇게 하고 했습니다그러니까욕심 내면서 살면그렇게 된다색씨그거 가져다 줘라왜당신은 손이 없어요발이 없어요그러지 말고좀 가져다 주면안돼냐버릇 됩니다별나고 약아 빠진 소리그만 해라이제 가자 짐 꾸려라알았습니다아이들도 데리고 갈까요그래 모두 같이 가자할아버지 할머니가 좋아하실거야목아지에 때를 밀라겨드랑이랑 종아리도 밀고옷 벗어서 사타구니 사이도 밀어라사람 몸은 깨끗해야 한다무엇을 먹을까글쎄요 제주도에만 있는 것을 먹읍시다소라에 보말에 옥돔생선 또 있어요메밀 범벅에 자리젓갈먹을 것도 참 많이 있네왜 나는 조그만 줍니까이놈아욕심을 가진 눈에는자기 것은 작게 보이고남의 것은 크게 보이는 것이야똑같이 나눈 것을 어찌 크다 작다 하느냐어머니가 화가 나서꼼짝 안합니다그렇고 말고믿던 나무에 곰팡이가 핀다고 하더니만하도 억울하게 당해서 아니냐어머니 마음 위로해 드려라닭이야 울면 날이 밝아 오지만내가 울면 어느 날 밝을 수 있으랴닭의 목에 자물쇠나 잠궈서내가 대신 울어나 볼까여기 바다에여기 물에 들어가서 전복소라가득하게 잡아다가한 푼두 푼모이다 보니까남편의 술값에모조리 들어 가더라정신없이 급하게재촉해서일하지 마라바늘 허리를졸라 매어서바느질 되는 거봤느냐천천히 생각하면서하나씩 해야일이 된다살다 보면 고생할 때도 있고어려워서 쓰러질 때도 있단다그래도 한눈 팔아서 가지 말아라곧게 걸어 가노라면나중엔 꼭 성공한다한림공원에 가서 보았습니까별의 별 나무랑 꽃이랑 잘도 아름답습니다사랑하는 사람은 꼭 가서 봐야 한다고 합니다그래야 사랑하면서 잘 산다고 합니다서울에서 온 사나이 제주 처녀에 미쳐 버리니까오늘 갈까 내일 갈까 하다가 보니 꼼짝 못해서 살고 있더라색씨 왜 안 옵니까어떻게 된 거 아닙니까가서 데리고 오십시오 무었을 그렇게 늑장부리고 있는 건가오늘은 우리 밭에 마늘 심어 주십시오그렇게 합시다 그런데 비가 올 것 같습니다동쪽으로 구름이 시커멓게 되고 있습니다그럼 조금 있다가 와 주십시오아침부터 저녁까지두 사람이 둥실 사랑도 하고구경도 하고그렇게 하다 보니뼈가 폭삭 주저앉는다사랑 할 때는 살그머니 말해라누가 들으면 웃는다아무도 모르게너하고 나하고만 살그머니 하자어머니랑 같이 오십시오오다가이렇게 하고 저렇게 하고 하십시오왜 그렇게 숨차게 말하는가짐을 진 사람이 짐 부릴 곳을 찾는 법이네그러니 걱정 말고서 가만히 있게저기 요새 애들 옷 입고서 다니는 것 보십시오허벅다리도 내 놓고배꼽도 내 놓고그게 무슨 별짓들이야그러지 말고 모조리 벗고서 다니지좀 실례합니다이 것이 얼마입니까오천원 입니다조금만 싸게 안될까요그렇게 해야 다시 올 거 아닙니까한라산으로 가려 하면 어떻게 갑니까바다에는 어떻게 갑니까차를 타려고 하면 많이 가야 합니까제주도엔 가다가 봐도 바다입니다 예들어 와서 놀다가 가십시오그렇게 할까요여기 불 옆으로 앉으십시오따뜻합니다정말 따뜻한 것이 좋습니다무엇이라고 귓속말을 하고 있느냐처녀 시집 보내겠다고 말합니다그렇게 해야지 잘 생각했구나딸은 나이가 들면 빨리 시집보내야 한다그렇게 안절부절 날뛰지 말아라차근차근 말을 듣고서 생각해라어떻게 된 일인지 알아야 할 것이 아니냐그렇게 하다가 숨 넘어 가겠다달콤한 거 없습니까글쎄 어떤 것이 달콤할까사탕을 주면 어떻습니까아닙니다그럼 삶은 달걀이나 하나 주십시오어디로 가십니까 이리로 오십시오걱정하면서 살지 마십시오이렇게 살아도 한 세상 저렇게 살아도 한 세상둘이 둥실 너하고 나하고 사랑이나 합시다앞 나무에 앉은 새야 왜 그리 울고 있느냐서울 간 우리 남편 빨리 오라고 울고 있느냐저승 간 우리 어머니 그리워서 울고 있느냐내 마음 아는 건 저 새 뿐이로구나저기 봐라 너희 아버지 어머니 함께 가네글쎄 어디 가고 있는가할아버지 할머니는 없네친족집에 상을 당해서 가고 있을겁니다무엇을 하십니까빨리 오십시오 왜 그렇게 바쁘게 보채느냐해 저물면 어떻게 합니까캄캄하면 길 잃어버려 큰 일 납니다가서 보라 너희 새신랑이 왔다아이구 부끄러워서 어떻게 합니까어허 호강에 넘친 소리 하지 마라어서 가서 오셨습니까하고 인사 해라어디 갔다 오십니까밭에 갔다 온다 어디에 가느냐바다에 고기 잡으로 갑니다파도가 거세더라 조심하고 일찍 오너라이제는 너의 인생은 네가 알아서 가야 한다알았습니다 잘 살겠으니 걱정 마십시오그래 아는 길도 물으면서 가라조심하면서 가는 길은 편안하다무엇을 하십니까 어서 오십시오그래 알았다 어서 가자쓰러지지는 말고 오십시오돌 조심하고 곧장 오십시오제주도 처녀가 그렇게도 좋으냐말로 해서는 모릅니다 와서 보아야 알 수 있습니다마음도 좋고 얼굴도 좋고 집안도 좋습니다여보 나 등허리가 가렵다어디 이렇게 하세요 보게아이구 벌레가 물었네요약 발라야 하겠습니다달아 맨 돼지야너의 신세가 불쌍하구나아이구 불에 구워지는 돼지야내 걱정은 말고 너 죽어 가는 거나 걱정하거라죽어 가는 것이 별 것을 다 걱정하고 있니돌 구멍으로 보아라꽃들이 모두 모여서 피어 있구나우리 님의 얼굴도 꽃이 되어 피고 있구나사랑 사랑 사랑꽃도 가득하게 피고 있구나고기 멍청한 것은 잡아나 먹고 나무 멍청한 것은 불이나 때고 돌 멍청한 것은 담이나 쌓는다사람 멍청한 것은 아무 것에도 못 쓰겠구나너하고 나하고 두 사람이 둥실 낮에 낮이나 밤에 밤이나 서로 사랑 이로구나아침에 우는 새는 배가 고파 울고요저녁에 우는 새는 님 그리워서 운다넓은 바다 앞을 재면서 한 길 두 길 앞으로 가고 깊은 바다 깊이를 재며 한 길 두 길 들어가면 저승길이 오락 가락이어도 사나 이어도 사나 이어도가 저승길의 반이라 한다새신랑 들어 온다저리로 비켜 서라 이렇게 하십시오조금만 봅시다알맞게 살찐 모습이 잘 생겼구나말도 안 듣고 일도 안 하고 정말 그렇게 하면 들러메어 던져 버리겠어사람은 일을 해야 살 수 있는 거야조금씩 먹어라 숨 넘어간다 배 고파서 말입니다그렇게 먹다간 숨이 막히겠다 누가 훔쳐 가지 않으니 천천히 먹어라사람 있습니까 누구십니까 윗 동네 갑돌이 어머니 입니다아이구 어떻게 해서 왔습니까우리 딸은 아무것도 모릅니다 세상 물정 잘 모르는 아이 어린 아이입니다잘 데리고 살아 주십시오 가르치면서 살아야 할 겁니다무엇을 잘 했다고 큰 소리입니까방귀 뀐 놈이 화 내고 있네누가 입이 없어서 말을 못 하는줄 아는가지렁이도 밟으면 꿈틀거립니다 예제 마음 모르겠습니까 당신만 보면 가슴이 두근 두근 이러지도 못하고 저러지도 못하고 제 마음 저도 모르겠습니다언제 오셨습니까 한 사나흘 되었습니다 모두 편안 했습니까 어떻게 살고 있습니까시집가니까 어땠습니까 아이고 말도 마라뭐가 뭔지 눈앞이 캄캄하니 정신이 없더라 서울에는 언제 가겠습니까 갈 때는 나를 데리고 가 주십시오서울 가서 무엇을 하려고 구경도 하고 서울 사랑도 해 보려고요왜 뭐라고 말하던가요 살짝 와서 말하십시오 들어 봅시다글쎄 말할까 말까 속 태우지 말고 빨리 하십시오그럼 남 한테는 아무 말도 하지 마십시오 네누구 있습니까 안녕 하십니까 아버지 어머니 모두 편안 하셨습니까 어디 갔다가 오십니까 요새 어떻게 사십니까 좋습니까어디로 가십니까 이리로 오십시오어서 어서 오십시오 살짝 살짝 오십시오너랑 나랑 둘이 둥실 사랑이나 합시다요정말로 가시겠습니까글세 어쩔수가 없단다그럼 나 혼자만 어떻게 살라고 하십니까어쩔 수 없지 않느냐 조금만 참고 살고 있어다오 떠나는 내 마음도 울고 싶단다우리 어머니 사는 바다 우리 목숨을 키운 바다 동쪽으로 가면동의 바다 서쪽으로 가면 서의 바다 바람이 불면 파도가 치고 비가 오면 날이 저물고하늘같은 용왕님이여 명주실같이 잔잔한 바다 만들어서 우리 어머니 서러운 가슴 편안하게 하여 주소서어떻게 살면 되겠습니까 왜 그렇게 걱정하면서 사십니까 참으면서 사십시오 그러다 보면 살아 갈 수 있습니다어서 오십시오 어서 오너라 잠깐 있으십시오잠깐 있어라 무엇을 하십니까무엇을 하느냐 왜 그렇게 급하십니까왜 그렇게 급하냐 그래요 빨리 오십시오그래 빨리 오너라색시 구할 때는 마음을 봐라 얼굴 고운 것은 한 달이여날씬하고 멋진 것은 일 년이야 마음 착한 건 십 년이 되고 백 년이 되도 저 소나무 처럼 청청하다어느 마을에 갑돌이라고 하는 사나이와 갑순이라고 하는 처녀가 살았습니다 두 사람은 좋아 하면서도 말은 못하고 속으로는 타면서도 그 까짓거 하였답니다 그렇게 하다가 갑순이가 시집을 가게 되니까 그때야 갑돌이가 `아이구 어머니` 하면서 울었습니다그렇게 하더라도 어떻게 합니까 할 수가 없었습니다 갑돌이도 화가 나서 장가를 가 버렸습니다 장가가는 날은 갑순이도 부엌에서 울었습니다 갑순이 마음도 갑돌이 뿐이었습니다만 어찌 합니까 사람 팔자는 참으로 모르는 것입니다 그러니 어떻게 살까 걱정하면서 살지 마십시오 살다 보면 타고난 운명대로 다 살기 마련입니다물동이 지고 가는 저 처녀야 물만 지고 가지 말고 이 총각의 마음도 지고 가다오 사랑한다고 말은 못하고 돌틈에 숨은 새 같이 가슴만 철렁 철렁어떻게 하면 좋겠습니까요 먹을 수 있는 것이라면 따뜻할 때 후루룩 마셔 버리기나 한다 물이나 된다면 물동이 속으로 풍덩 들어 가기나 한다이렇게도 못하고 저렇게도 못하고 처녀야 참말로 죽겠다 총각이 타는 마음을 조금 만이라도 알아다오우리 제주도 할아버지들이 하시는 말씀이 있습니다 밭을 살 때는 밭 옆을 보고 사라 집을 살 때는 이웃들을 보고 사라 산을 사려면 암반을 보고 사라 사돈을 맺을 때는 집안의 뿌리를 보고하라그리고 우리 어머니들이 가르친 말씀이 있습니다 어리광 부리지 말라 경솔하게 나서지 말라 게으르지 말라 느림보가 되지 말라 꾀부리며 잘난 척 말라 거만하지 말라 남의 마음 아프게 하지 말라그래야 하는 일들이 편안히 잘된다 살다 보면 잊어버릴 대가 있습니다만 우리 할아버지 할머니 아버지 어머니들이 하신 말씀들은 정말로 소중한 교훈들입니다']"
            ]
          },
          "metadata": {
            "tags": []
          },
          "execution_count": 18
        }
      ]
    },
    {
      "cell_type": "code",
      "metadata": {
        "id": "JjkoDl56q0SK",
        "colab_type": "code",
        "colab": {
          "base_uri": "https://localhost:8080/",
          "height": 504
        },
        "outputId": "75667da1-1384-4e36-920a-71c5c78df3e9"
      },
      "source": [
        "print(hannanum.morphs(output_txt))\n",
        "print(kkma.morphs(output_txt))\n",
        "print(komoran.morphs(output_txt))\n",
        "print(okt.morphs(output_txt))"
      ],
      "execution_count": 19,
      "outputs": [
        {
          "output_type": "error",
          "ename": "TypeError",
          "evalue": "ignored",
          "traceback": [
            "\u001b[0;31m---------------------------------------------------------------------------\u001b[0m",
            "\u001b[0;31mTypeError\u001b[0m                                 Traceback (most recent call last)",
            "\u001b[0;32m<ipython-input-19-358e7d946de5>\u001b[0m in \u001b[0;36m<module>\u001b[0;34m()\u001b[0m\n\u001b[0;32m----> 1\u001b[0;31m \u001b[0mprint\u001b[0m\u001b[0;34m(\u001b[0m\u001b[0mhannanum\u001b[0m\u001b[0;34m.\u001b[0m\u001b[0mmorphs\u001b[0m\u001b[0;34m(\u001b[0m\u001b[0moutput_txt\u001b[0m\u001b[0;34m)\u001b[0m\u001b[0;34m)\u001b[0m\u001b[0;34m\u001b[0m\u001b[0;34m\u001b[0m\u001b[0m\n\u001b[0m\u001b[1;32m      2\u001b[0m \u001b[0mprint\u001b[0m\u001b[0;34m(\u001b[0m\u001b[0mkkma\u001b[0m\u001b[0;34m.\u001b[0m\u001b[0mmorphs\u001b[0m\u001b[0;34m(\u001b[0m\u001b[0moutput_txt\u001b[0m\u001b[0;34m)\u001b[0m\u001b[0;34m)\u001b[0m\u001b[0;34m\u001b[0m\u001b[0;34m\u001b[0m\u001b[0m\n\u001b[1;32m      3\u001b[0m \u001b[0mprint\u001b[0m\u001b[0;34m(\u001b[0m\u001b[0mkomoran\u001b[0m\u001b[0;34m.\u001b[0m\u001b[0mmorphs\u001b[0m\u001b[0;34m(\u001b[0m\u001b[0moutput_txt\u001b[0m\u001b[0;34m)\u001b[0m\u001b[0;34m)\u001b[0m\u001b[0;34m\u001b[0m\u001b[0;34m\u001b[0m\u001b[0m\n\u001b[1;32m      4\u001b[0m \u001b[0mprint\u001b[0m\u001b[0;34m(\u001b[0m\u001b[0mokt\u001b[0m\u001b[0;34m.\u001b[0m\u001b[0mmorphs\u001b[0m\u001b[0;34m(\u001b[0m\u001b[0moutput_txt\u001b[0m\u001b[0;34m)\u001b[0m\u001b[0;34m)\u001b[0m\u001b[0;34m\u001b[0m\u001b[0;34m\u001b[0m\u001b[0m\n",
            "\u001b[0;32m/usr/local/lib/python3.6/dist-packages/konlpy/tag/_hannanum.py\u001b[0m in \u001b[0;36mmorphs\u001b[0;34m(self, phrase)\u001b[0m\n\u001b[1;32m    102\u001b[0m         \u001b[0;34m\"\"\"Parse phrase to morphemes.\"\"\"\u001b[0m\u001b[0;34m\u001b[0m\u001b[0;34m\u001b[0m\u001b[0m\n\u001b[1;32m    103\u001b[0m \u001b[0;34m\u001b[0m\u001b[0m\n\u001b[0;32m--> 104\u001b[0;31m         \u001b[0;32mreturn\u001b[0m \u001b[0;34m[\u001b[0m\u001b[0ms\u001b[0m \u001b[0;32mfor\u001b[0m \u001b[0ms\u001b[0m\u001b[0;34m,\u001b[0m \u001b[0mt\u001b[0m \u001b[0;32min\u001b[0m \u001b[0mself\u001b[0m\u001b[0;34m.\u001b[0m\u001b[0mpos\u001b[0m\u001b[0;34m(\u001b[0m\u001b[0mphrase\u001b[0m\u001b[0;34m)\u001b[0m\u001b[0;34m]\u001b[0m\u001b[0;34m\u001b[0m\u001b[0;34m\u001b[0m\u001b[0m\n\u001b[0m\u001b[1;32m    105\u001b[0m \u001b[0;34m\u001b[0m\u001b[0m\n\u001b[1;32m    106\u001b[0m     \u001b[0;32mdef\u001b[0m \u001b[0m__init__\u001b[0m\u001b[0;34m(\u001b[0m\u001b[0mself\u001b[0m\u001b[0;34m,\u001b[0m \u001b[0mjvmpath\u001b[0m\u001b[0;34m=\u001b[0m\u001b[0;32mNone\u001b[0m\u001b[0;34m,\u001b[0m \u001b[0mmax_heap_size\u001b[0m\u001b[0;34m=\u001b[0m\u001b[0;36m1024\u001b[0m\u001b[0;34m)\u001b[0m\u001b[0;34m:\u001b[0m\u001b[0;34m\u001b[0m\u001b[0;34m\u001b[0m\u001b[0m\n",
            "\u001b[0;32m/usr/local/lib/python3.6/dist-packages/konlpy/tag/_hannanum.py\u001b[0m in \u001b[0;36mpos\u001b[0;34m(self, phrase, ntags, flatten, join)\u001b[0m\n\u001b[1;32m     86\u001b[0m \u001b[0;34m\u001b[0m\u001b[0m\n\u001b[1;32m     87\u001b[0m         \u001b[0;32mif\u001b[0m \u001b[0mntags\u001b[0m \u001b[0;34m==\u001b[0m \u001b[0;36m9\u001b[0m\u001b[0;34m:\u001b[0m\u001b[0;34m\u001b[0m\u001b[0;34m\u001b[0m\u001b[0m\n\u001b[0;32m---> 88\u001b[0;31m             \u001b[0mresult\u001b[0m \u001b[0;34m=\u001b[0m \u001b[0mself\u001b[0m\u001b[0;34m.\u001b[0m\u001b[0mjhi\u001b[0m\u001b[0;34m.\u001b[0m\u001b[0msimplePos09\u001b[0m\u001b[0;34m(\u001b[0m\u001b[0mphrase\u001b[0m\u001b[0;34m)\u001b[0m\u001b[0;34m\u001b[0m\u001b[0;34m\u001b[0m\u001b[0m\n\u001b[0m\u001b[1;32m     89\u001b[0m         \u001b[0;32melif\u001b[0m \u001b[0mntags\u001b[0m \u001b[0;34m==\u001b[0m \u001b[0;36m22\u001b[0m\u001b[0;34m:\u001b[0m\u001b[0;34m\u001b[0m\u001b[0;34m\u001b[0m\u001b[0m\n\u001b[1;32m     90\u001b[0m             \u001b[0mresult\u001b[0m \u001b[0;34m=\u001b[0m \u001b[0mself\u001b[0m\u001b[0;34m.\u001b[0m\u001b[0mjhi\u001b[0m\u001b[0;34m.\u001b[0m\u001b[0msimplePos22\u001b[0m\u001b[0;34m(\u001b[0m\u001b[0mphrase\u001b[0m\u001b[0;34m)\u001b[0m\u001b[0;34m\u001b[0m\u001b[0;34m\u001b[0m\u001b[0m\n",
            "\u001b[0;31mTypeError\u001b[0m: No matching overloads found for kr.lucypark.jhannanum.comm.HannanumInterface.simplePos09(list), options are:\n\tpublic java.lang.String kr.lucypark.jhannanum.comm.HannanumInterface.simplePos09(java.lang.String)\n\n\tat findOverload(native/common/jp_method.cpp:242)\n\tat findOverload(native/common/jp_method.cpp:245)\n\tat invoke(native/common/jp_method.cpp:253)\n\tat __call__(native/python/pyjp_method.cpp:167)\n"
          ]
        }
      ]
    },
    {
      "cell_type": "markdown",
      "metadata": {
        "id": "6YQuSFQnq0tN",
        "colab_type": "text"
      },
      "source": [
        "특수기호 안지워지는것들이 있음.......... 눈으로 텍스트파일 노가다 제거........\n",
        "\n",
        "위에 에러나는 이유가 데이터잡음때문.....\n",
        "\n",
        "\n",
        "\n",
        "input1 / output1 중간에 사투리랑 표준어 뒤섞인게 있어서 노가다 작업으로 고쳐주고 => final 이름으로 재명명함 "
      ]
    },
    {
      "cell_type": "code",
      "metadata": {
        "id": "lR-2-HiYrSt3",
        "colab_type": "code",
        "colab": {
          "base_uri": "https://localhost:8080/",
          "height": 55
        },
        "outputId": "a96081d0-2750-4bb3-bb3f-06c21c724858"
      },
      "source": [
        "input_last = open(\"/content/input_final.txt\", 'r').read()\n",
        "input_last"
      ],
      "execution_count": 21,
      "outputs": [
        {
          "output_type": "execute_result",
          "data": {
            "text/plain": [
              "'버래기강생이부각허다강알부끄다개끔분시몰랑개작개작삐암데기검질속슴허라게미융허다솜쫄르멍게작헌쉰달이고라불켜심토맥이곡기다영골다골다왁왁허다곱지다요망지다과랑과랑우영밭괸당웃뜨리굽재짝재짝기시리다제라헌꽝조그물다눈물촐래주레사니니치름촘아가라데껴불켜칭원허다두렁청허다콥데사니들러켬쩌코시롱허다듬삭하다탈멜라지켜통시메기독딱트멍모소완하근디몬뜨글락하다몬직당행글랑이몬짝허당말타몰명허다헌저글라몽케다호썰무리다호야무사흐랑허다배롱허다허운데기배지금허다쪼광물옷센 바당앞바르난바르산목 졸르면 비온다돌 갓쓰민 우친다곰새기 들럭 켬져토끼썼다큰눈소살머정좋다제수가 좋다궐 면했다마당 바랏져큰누작은누절 치대긴다하르방할망아방어멍비바리괸당걸바시넹바리다슴아돌말젯놈소나이성님작산 거좀녀촐람생이홀아방가달꼴랑지구뚱배기꽝굴레대망생이등땡이또꼬망모감지베 봉탱이베아지 볼라불라상판이야게기야굴탁임댕이정겡이저껭이조금태기좀짐팽이허운데기허벅다리놋간수메개역것괴기바당괴기돗괴기쇠괴기도괴기곤떡곤밥놈삐대사니김치마농마농조배기촐래촘지금짐치촙쏠조팝갈옷갈 적삼갈 중이강알터진 바지게와단취밀랑 페랭이보선소중이신착찍신좀뱅이등지게고장중이도폭두루막베불레기우장저구리지성귀지서귀쪼께치메건대사모관대시미옷제복망근방립벙것상갓탕근풍뎅이휘양낭저달리빈네상퉁이얼레기얼레빗쪽도리쳉빗과지남신송락요령복치메구덕고량착낭푼이그릇대배기물구루마바농박새기숟구락제끄락주멩기허벅남죽대접도고리소리바굼지솔박수박귀우금작박장탱이항함박가레죽곡괭이골갱이골각지군데날레군데가레갈체돌끌다께멕말방에벤줄레부게쉐스렁씻부게잠데호미고냥 독생이놀개기박생이독독새기고냉이송애기몽생이돗도새기밭갈쇠부랭이염송애기강생이중이갓돔겡이구젱기물꾸럭게염지멩마구리베랭이베염빙애기생이나람쥐죙이여호노리빙아리쉐쉐막도세기두테비골개비젱비리송키지실감저어욱태역모물굴묵낭가라지꿩마농도채비고장숙대낭퐁낭가베또롱호다간드랑호다간세호다거령청호다곧작호다과랑과랑호다금착호다고렵다돌코롬호다메뜩호다멘도롱호다모드락호다몰치락호다벤조롱호다부치럽다돌글랑호다봉끄랑호다보랑지다펀드렁호다해또록호다산도록호다썸찌근호다실렵다심드랑호다슴두렁펀펀호다솔치다앙살호다앨록호다어중구랑호다얼랍지다얼랍지다엄부랑호다오들랑호다옴탕호다왁왁호다왕왕작작호다요망지다조짝호다좀질다좀좀호다패랍다그저끼아척그지게초냑언처냑요뉠모리소시숭년저슬들언갈라지다데싸지다감장돌다거느리왕상호다거들락거리다거찌다걸러지다고른배기고쩌사다곤작싸다꼴성그리다곱지다구숭호다꾸러박아지다귀태우다고끼다골메드리다늘짝거리다끼리다다울리다댕기다데껴불다되싸지다들럭퀴다몽캐다몽캐다베르싸다부수닥질호다부에나다쎄울르다소곤닥호다소도리호다속솜호다심벡호다악살호다용심내다조글리다저들다다솟예늘곱요든일고여답요나문요섯호나혼잠녀상군요년난거볼망텡이미리내비주제상고지우네노릇낭강알돌밸돌생기작지왓구들통시벤소석밭돌랭이돌데맹이우뚝지동무릅발꼽데기고찌 글라 고찌 가게느영 고찌 글민 지꺼짐이 열배여고찌 글라 고찌 가게느영 고찌 글민 지꺼짐이 백배여영도 곱닥헌 날 공기 좋고 사람 좋고느영 나영 고찌 글민 무신 걱정시냐하영 골민 존다니먹당 보난 살아 지곡 살당 보난 먹어 져라굶엉 보난 알아 져라 배고픔도 인생인 걸어시민 어신양 그저 겅 살곡이시민 이신양 나누멍 살주먹엄직이 살암직이 시상우시멍 사는 시상이 사름 사는 시상이주울당 보난 살아 져라웃당 보난 살아 져라우는 삶도 웃는 삶도 고마운 인생이주어시민 어신양 그저 겅 살곡이시민 이신양 나누멍 살주먹엄직이 살암직이 시상우시멍 사는 시상이 사름 사는 시상이주무명천 할머니 어디 감수과무명천 할머니 펜안 허우꽈4 3 소건때 총 맞앙 턱을 잃엉 경 살았주55년 간 말도 못허곡 음식도 못 먹으멍상처 난 얼굴 보일 수 어성 무명천을 둘렁목심은 건졌주만 살아도 산게 아니랐주무명천 할망 이랜 날 불렀주만나신디도 이름이 이서났주진아영 이우다놈삐 좀질게 썰엉 솖앙패마농이영 꿰고루 놩 섞엉모멀고루 풀엉 얄룹게 지졍그 우터레 놩 몰민빙떡 이주게두렁청이 어드레 가젠 햄시냐곱들락호게 촐려입어그네 이드레 와그네느영나영 모다들어그네 터졍 도르게빙삭허게 몬딱 베리난 보뎌감시녜도르라 조들지 마랑 도르라 몬딱 도르라도드라 조들지 마랑 도르라 몬딱 도르라용심 내멍 도톼 보난 알아졈시냐느영나영 심벡 해봐사 페들락 햄시녜돈 한 추룩 뺄라진 추룩 오시록 헌 추룩경 해 봐사 핏짝 허난 얼렁 뎅기게도르라 조들지 마랑 도르라 몬딱 도르라도드라 조들지 마랑 도르라 몬딱 도르라아야 머리여 아야 머리여입담허멍 두드렴시민수꾸락 조루 거수루 심엉차반이 바위 두드렴시민훌구룽 몰케염지덜고루삭삭 삐어지국어떵허코 어떵허코핵교 가당 오줌 싸비언어떵허코 어떵허코핵교 가당 오줌 싸비언어떵허코핵교 가당 오줌 싸비언어떵 허코 어떵 허코촘당 촘당 촘지 못행 나와부런게어떵 허코 어떵 허코비가 왐시난 비 맞았덴 골라게나오는 걸 어떵 헐 수 이시냐어떵 허코 어떵 허코겡이 잡당 맨질락허연어떵 허코 어떵 허코겡이 잡당 맨질락허연어떵 허코겡이 잡당 멘질락허연어떵허당 어떵허당곱은 겡이 지달리당 와락 덮쳤주경해그네 어떵 되연완존 뽈라라눈 감았당 터 보난물 쏘곱이 나만 빠졍 이서라어떵허코 어떵허코 어떵허코 어떵허코바당 바당 바당 바당 보름 보름 보름 보름바당 바당 바당 바당 보름 보름 보름날 막 좋앙 바당드레 강 모살밧듸 맨발로 걸엄쩌겡이 호나 나를 뵈련게 절지치는 디로 도람쩌어떵허코 잡아 보카 잡당 실수허민 아야 물릴건디바당 바당 바당 바당 보름 보름 보름 보름바당 바당 제주 바당 보름 보름 보름생이 생이 생이 생이 오름 오름 오름 오름생이 생이 생이 생이 오름 오름 오름어멍이영 손 꼭 심엉 용눈이 오름 올람쩌생이 호나 나를 뵈련게 짹짹짹짹 소릴 호염쩌어떵허코 잡아 보카 아맹 잡젠 해도 택도 어실건디이녁 가슴 쏘곱엔고은 꽃덜이 만발혼 생이라영 골아도 빙세기 웃곡정 골아도 빙세기 웃곡이녁 가슴  쏘곱엔황소 혼마리 들어앉은 생이라영 골아도 속솜정 골아도 속솜이녁 가슴  쏘곱에 들어가 보젠욕심이영 미움이영손  불끈 잡아둠서기웃 기웃 거렴신디꿀벌이영 일벌이영날아 댕기는걸 보난이녁 가슴 쏘곱엔송이꿀보다도 더 단무언가로 솜 빡혼  생이라휘이이보름 분다보름 불어저 바당이저 보름이손짓햄쩌말 골암쩌테왁 메영 골갱이 들렁바당이영 춤을 추엄쩌우리 어멍 우리 바당혼몸 되엉 춤을 추엄쩌바당아 보름아눈물 남쩌 눈물 남서우리 어멍 지켜도라이어도 이어도 사나이어도 이어도 사나이어도 이어도 사나이어도 이어도 사나보름은 팡팡 불곡덜 요문 조코 고리이레 배령 인사허곡저레 배령 인사허곡낭가쟁이덜은 서로 심벡허멍 좁아댕기곡절지치는 요메기 바당엔 빈 구젱기 껍데기 둥글어 댕기곡담우이 걸쳐진 감저줄에동글동글 도라진 감저동가리이래 도라앉작 저래 도라앉작워어허허 보름 보름 보름 부는 제주의 하늘아먹쿨낭 꼭대기에 앚인 먹쿨 생이 안 털어져보잰 낭가쟁이 꽉심엉 있곡조밭 볼리는 몽생이 조름에 일어나는 흙구듬은 노미 밧더레 넘어가곡동네 큰 폭낭 아래 검불령 가젠허민불어오는 저 보름은 무사 영 건드러운지기여 혼저 가라기여 혼저 가라보름아해녀 삼춘 또시 또시 물에 감쩌테왁 메영 골갱이 들렁 좀수복 입엉 뒤뚱뒤뚱절이치는 바당더레 강 보난테왁덜이 동동동동 춤을 췀쩌해녀 삼춘덜 또시 물에들었쩌숨비소리 쏟아가멍 또시들멘궤기추룩 홀랑홀랑 꼬릴 췀쩌나도 확 벗엉 물쏘곱이 들어가보카테왁 들렁 이짝드레 온거 보난성게도 지깍 구젱기영 전복이영아고 이건 뭐라 물꾸럭도 잡앙 와신게아고 삼촌 물꾸럭 나 얼마마씸아고 조케야 느랑 기냥 거정가불라에고 무신 소리꽈 게민 조냑에랑 당근파당 거정안내주마씀물빡으로 물먹으민 시염 안돋나물애기 옷을 막개로 뽈민 애기놀랜다밤에 얼래기질 호민 모솜탄다비는 놈안틴 지여사 혼다비 온날 쇠총지 이레 착 저레 착 혼다빈 고래질 호민 숭년 든다가난한 사람 못할 일 읏나까메기 까옥 호민 촘새도 조조조 혼다까메기 똥 케우리듯까메기 모른 식게까메기 알라구리 털어질 소리가시어멍 눈 멜를 사위가시어멍 장 읏인 깐에 사위 국 실픈 깐에각시 아꼬우민 처갯 칩 몰팡 돌에 절혼다각시 읏인 건 안 섭섭해도 남통머리 잃른 건 섭섭호다각시 읏인 처갯칩 가나 마나갈치가 갈치 꼴랭이 그차 먹나갭인년 숭년에도 먹당 남은 게 물이여갓쟁이 헌 갓 씨곡 심방 놈 빌엉 굿 허곡강생이 똥은 똥 아니가개가 똥을 촘주개도 비치락으로 안 또린다개똥을 모소왕 피 호느냐 더러웡 피호주개똥도 약에 쓰젠 허민 귀혼다건지 먹은 놈이나 국물 먹은 놈이나 검은 독도 흰 독새기 난다것 구숭 호로 조식 글 구숭 양반 조식것 멋을 땐 개도 안 또린다것 박접허면 죄 짓나게드레기도 집이 싯나곤 사름은 맥을 씌어도 곱나곤 년 잡아 들이렌 허난 솔친년 잡아 들인다곧은 낭은 가운디 산다골체 부지런은 하늘도 못막나공께엥 허민 눈도 뻘겅 코도 벌겅공껀 씨여도 돈다공부허렌 허난 개잡는걸 뱁나고튼 품이민 홀어멍 칩 머슴산다구젱기 똥누레 가불민 게드레기가 기어 든다국 하영 먹으민 가시어멍 눈 멜라진다굼벵이도 꿈불 재주 있나귀막앙 삼년 눈 어둑엉 삼년 말몰랑 삼년 살암서사 가렝 오렝 말 읏나귀신 대접 잘 호영 그른디 읏나귀소문 말앙 눈소문 호라귀신도 빌민 듣나괸당은 옷 우이 보름그 날 액은 망데기 안에 아자도 깬다그짓말도 외삼춘 보다 낫나글 못허는 놈 붓 골린다글 배우렌 호난 홀어멍칩 강생일 또린다기도 못호는게 놀젱 혼다깅이광 보말도 지집 싯나기시린 도새기 도라멘 도새기 타령혼다골체 부지런은 하늘도 못막나고튼 품이민 홀 어멍칩 머슴산다고늘이 먹곡 고늘이 쓰라관덕정이 설렁탕도 먹어난 놈이 먹나끅 걷으레 간 놈이 정당 벌립 망 돌른다나간 놈 찍신 셔도 자는 놈 찍신 읏나나댕기는 개가 꽝 물어 온다나 땅 까메긴 검어도 아깝나나서 화목은 남조가 허곡 들어 화목은 여조가 혼다나 한 아재비 지라남조가 디딘 풀은 유울곡 여조가 디딘 풀은 안 유운다낭도 늙엉 고목되민 놀단 생이도 아니 온다낭이 좀 먹주 세월 좀 안먹나나 똘이 고와사 사윌 골른다너미 골리당 눈 까진 사윌 골린다노름쟁이 뒤랑 대곡 먹는 놈 뒤랑 대지말라노름은 신 신을 때 봐사 안다노름쟁인 망호여도 흥호진 못혼다노리 또린 막땡이 3년 우려 먹나노리궤기 혼점 먹젠 호당 지 궤기 열 점 일른다노루고기 한 점 얻어 먹으려다가 자기의 고기 열점을 잃은다놈 곱진 것 쉐도 못 찾나놈광 심백은 호곡 게심이랑 허지 말라놈 싼 훼에 깅이잡기놈이 눈에 피 내우젠 허민 이녁 눈엔 고름 나사 혼다놈이 쉐 들럭키는 건 보기 좋나놈이 숭 털민 이녁 숭 된다놈이 집광 관장살인 궤던 밥도 내부러동 돋나놋 시칠 때에 물 하영 쓰민 죽엉 가민 다 먹어사 혼다눈 까진 똘 고졍 사윌 고른다눈 낭에 요름 요는냐눈 썹에 불 붙어도 끌 조를이 읏나늘근 쉐 콩 주엉 말덴 호느냐늑신네가 젊은 첩 호민 불 본 나비 놉뜨듯 혼다니 아픈 부릅씨랑 허곡 눈 아픈 부릅씨랑 말라다심 아덜은 콩 죽 멕이곡 원 아덜은 폿 죽 멕인다다심아방 궤기 써는 디랑 가고 원아방 낭깨는 디랑 얼씬을 말라대천 바당도 건너 봐사 안다대정 몽생이 요망진다덴디 꺼럭 아니 돗나도 터질 밭디 모쉬 들듯도둑놈광 샛뭇은 묶엉 세와노민 똑 닮나제주도 사투리로 말 호난무신거랜 고람 신지 몰르쿠게게메 마씀귀 눈이 왁왁하우다경해도 고만히 생각호멍 들으민 호끔씩 알아집니다오랜만이우다몸은 펜안 하우꽈얼굴이 펜안해 보염수다혼저옵서예제주도 오잰하난 폭삭 속아수다제주도 오난 촘말로 좋수다산이영 바당이영 몬딱 좋은게 마씀많이많이봥으네 서울에 갈 때랑 하영 담앙 갑서게메 양경 해시민 얼마나 좋코 마씀안트레 들어 왕 밥 먹엉 갑서제주도 와시난 전복죽드셔봥 가살꺼 아니꽝혼저 왕 드셩갑서맨도롱 했수과뜻뜻혼 게 먹기 똑 좋았수다맛있수다여기예이거 키로에 얼마마씨사천원마씨기꽝사천원치 줍서하영줍서예많이 담암수다양맛있게 드십써 양삼성혈가잰하는디예어디로 가면 되마씨여기서 10분만 밑트레강 칼호텔조끄티서 바로 왼펜돌아가민 되우다알아지쿠가거기강 봥으네 아무사람이나 잡앙 물어보민 잘 말해 줄꺼우다관광 잘행 갑써예혼저옵서예고만이십서게고만 이시라게무신거 햄쑤꽈무신거 햄시니무사 경 급호꽈무사 경 급호냐확 옵서게어떵 살아 점수꽈무싱거엔 고람쑤꽈귀 눈이 왁왁하우다맨도롱 혼때 호로록 들여 싸 붑써무싱 걸 몽캐미꽈왕 봅서 고랑은 몰라 마씀곱들락 호게 몬뜰락 벗엉 옵서어디 갔당 왐수꽈어드레 감수꽈둥그리멍 키웁서 경 해사 혼저 큽니다어떵 살코 저들지 맙서 촘앙 살민 살아집니다느영 나영 두리둥실 소랑호게 마씸혼저 옵서제주도에 오난 어떵 하우꽈촘말로 좋수다왕 봅서고랑은 몰라마씀무상 경 고람수꽈몽캐지 말앙 혼저 오라게호꼼만 이십서게혼저 왕 먹읍서맨드롱 했수꽈맨도롱 홀 때 호로록 들여 싸붑서혼저 옵서제주도 사투리로 말 호난 무신 거옌 고람 신디 몰르쿠게게메 마씀귀 눈이 왁왁하우다경해도 고만히 생각호멍 들으민 조금씩 알아집니다제주도 사투리 촘말로 귀하고 아름다운 보물이우다펜안 하우꽈제주도에 오난 어떵 하우꽈촘말로 좋수다공기도 맑고 산이영 바당이영 몬딱 좋은게 마씀서울에 갈 때랑 하영 담앙 갑서게메 양경 해시민 얼마나 좋코 마씀저기 물허벅 정 가는 거 비바리덜 아니꽈맞수다비바리도 있고 넹바리도 있수다비바리덜 곱들락 호고 놀씬하우다 양경 합주게 산 좋고 물 좋은 제주도에 사난 모심도 착하고 얼굴도 곱들락 홉니다고랑은 몰라 마씀제주도에 왕 봐사 알아짐니다돌도 많고 보롬도 많고 비바리도 많고 유채꽃도 곱드락 호게 피었수다아명 고라도 몰라 마씀혼저 왕 봅서제주도엔 보름이 많이 있수다동쪽에서 부는 보름 샛보름서쪽에서 부는 보름 갈보름남쪽에서 부는 보름 마포름북쪽에서 부는 보름 하늬보름 이우다한락산에 올랑 봅서발 아래 구름들이 왔닥갔닥 호곡 아득혼게 꿈속 고틉니다옛날에 신선들이 힌 사슴 타멍 놀았댄 해연 백록담 아니꽈제주 사롬들은 돌 하르방 보멍 살았수다경 호난 거짓말 홀 줄 모르곡 서로 믿으멍 착하게만 살았수게봅서 어시민 도와 주곡 이시민 나누엉 먹곡 인정 많고 소랑 많은 돌하르방 손지들 이우다장게간 날 밤 새 서방이 말했수게새 각시야 혼저 오라게무사 마씀호꼼만 이십서게뭉캐지 말앙 혼저 오라게새 각시가 새 서방 품에서 솔째기 말해십주날 얼마나 소랑햄쑤과저기 한락산만큼 또 바당만큼 소랑햄쩌경 마랑 요 가슴패기 만큼만 소랑해 줍서기여 느영 나영 두리 둥실 소랑호게신랑이 신부에게 말했수게이 조끄뜨레 오라게무사 조끄뜨레만 오랜 햄수과호꼼이라도 고치만 있고 싶언놈덜 웃읍니다어떵 호느냐 소랑에는 부치룸이 엇나무사 경 고람쑤과혼저 왕 소랑하멍 살게 마씀성 내멍 살아도 혼 세상 저들멍 살아도 혼 세상 이우다가난해서 웃으멍 살게 마씀삼다도옌 행게마는 촘말 돌이 많쑤다양옛날엔 한락산이 화산이란 돌이 많쑤게아이고 게 저기 돌고망에 핀 꽃 봅서 돌고망으로 보는 바당은 꼭 그림 답쑤다바다에 강 봐사풍랑을 알아 지곡 조식을 나 봐사부모 모심 알아 지곡 사롬은 만낭 살아 봐사진심을 알아 지곡 소랑을 해 봐사 눈물도 알아 짐니다사롬은 서로 서로 도우멍 사는 거여욕은 고냉이 밤눈 어둡덴 혼다이녁만 욕은 체 호멍 살당 보민지 욕심에 걸령 지가 넘어진다서귀포 바당에 가민 알아 짐니다무신것이 소랑이고무신 것이 그리움인지안개 낀 부둣가에 뱃고동 울어 주민옛님이 그리웡 눈물이 잘도 납니다조냥 하멍 살아사 혼다오늘보다 내일 생각호곡내일보다 모레 생각호곡경 해사 일생을 펜안호게 살아진다요새 아이덜너무 호강 햄쩌 경 호난호꼼호민 아프곡울곡 햄시녜둥구리멍 질룬 독새시가 빙애기 된댕 혼다어진 때 고생도 호곡 해사 큰 사롬 된다혼저 왕 먹읍서맨도롱 했수과똣똣혼 게 먹기 똑 좋았수다맨도롱 홀 때 호로록 들여 싸붑서동 텃저 어서 글라일 해사 먹엉 산다부지런 혼 건 하늘도 못 막낸 해라혼저 촐령 가사 일 홀 거 아니가시집 가 보난 영 해라돌탱이 고튼 시아방에물폐기 고튼 시어멍에물꾸럭 고튼 서방에고냥독새 고튼 시누이에가도 가도 고생이라라어드레 감디바당에 어멍 안티 감쑤다경 호건 이거 가정 가라무싱 거꽈느네 어멍 바당에서 물질 호멍 먹을거여이추룩 억울할 때가 있수과소정해도 시원호지 않을 놈이 큰 소리라 마씸초마 가라 그거 도둑놈 심뽀구나게메 마씸 그런 사롬이 어디 있수과시험에 떨어진 아들이 아방 안티 말했수다난 아명 해도 안되쿠다무사 안된댄 생각 햄시냐해도 해도 안되는디 어떵홉니까먹돌도 똘람 시민 고망이 난다 햄시민 된다`똘년이 돌으멍 가단 푸더전 마씀으마떵 호리경 호연 어떵 해서 병원에 갔수게간 보난 꽝이 뿌서졌덴 마씀혼 열흘간 입원 해사 혼덴 햄쑤다족댕 나무래지 말라조근게 요망진다큰 건 보롬만 불어도홍글랑 홍글랑 호지만 호꼴락 혼 건똔똔호곡 펜주룽 혼다어드레 감수과바당에 괴기 사레 마씀무사 누게 왔수과서울서 족은 아방네 완 마씀게민 멩심허영 갔당 옵서어멍이 해 준 밥 먹어 봅서촘말로 맛이 좋수다무상고 마씀그건 어머님의 사랑호는 모심이 밥속에 고득 고득 들어 이시난 아니꽈소도리 행 댕기지 맙서소도리는 놈덜 싸움만 맨듭니다옛부터 싸움은 멀리곡흥정은 부치렌 했수다게난 좋은 소린 크게 호곡궂은 소린 속솜 해 붑서두 가시가 어드레 경 돌암서큰 똘 애기 낫댄 햄 감쑤다경 했구나무슨 애기 나서아덜 마씀아이고 잘 됐구나게혼저 강 봐 게강 방 옵서왕 방 삽서영 호곡 정 호곡 홉서경 고라 줍서가지 말앙 영 호멍 삽서서방님 제주도에서 살게 마씀좋주마널은 바당좋은 공기인심좋은 사롬들광 살민 살 맛 날거라살당 지치민풍덩 바당에 들어 가곡 마씀둘이 먹당 호나 죽어도 몰르는 건 무신거꽈돌코롬 혼 제주도 전복죽이주둘이 보당 호나 죽어도 몰르는 건 무신거꽈곱들락 혼 제주도 비바리주게민 옵서전복죽 먹곡 비바리 보래 가게 마씀과랑 과랑혼 벳디 일 호젠 호난 속았수다속을 거 있수과호꼼 똠은 났수다만안트레 들어 왕조녁 먹엉 갑서경 호카 마씀제주 바당에 가민 바당이 말을 홉니다사롬보다더 조잘조잘 말을 하곡사롬보다더 소랑도 하영 홉니다경 호멍낮이나 밤이나 꽃을 피웠당지웠당 홉니다제주 바당에 강 봅서미운 것도 엇어지곡슬픈것도 엇어지곡가슴으로 바당물만 들곡 나곡 호멍두리 둥실둥그대 당실소랑만 고득하게담앙 옵니다서울서 새각씨 왔수다어떵 생겨서요망지게 생겨십디다솔째기 웃으멍 말 호는 거 보난착햄직 홉디다그 나쁜 놈볼망텡이를박아 불거 아니꽈경 했주모가지 잡안 흥글단대맹이로 뱃대기를박아 부난둥글멍 자빠정게잘 콰니여그런 놈은혼내 줘사 홉니다쌍둥이 어멍고생햄쭈 이둘이가 고름배기 해연죽어지쿠다경 홀거라게도 놈 호고 싸울 땐지네 펜백들멍 싸워 마씀요 년 난거 보라놈이 소나이영 말 호곡벌써부터서방질 햄시냐아니우다 게바당드레 가단질 모른 사롬 이시난질 고르쳐 줬수게아이구 게큰일 났수다무사 경 들락켬시니와리지 말앙촌촌이 고라 보게경호난 양영 호곡정 호곡 했수게게난욕심 내멍 살민경 혼다새각씨야그거 앗아 도라무사당신은 손 엇수과발 엇수과경 호지 말앙좀 앗아 주민어떵 호느냐버릇나 마씀밸 놈의 요망진 소리그만 호라이제 가게 짐 촐리라알았수다아이덜도 도랑 가카 마씀기여 모딱 고치 가게하르방 할망이 좋아할거여야게기에 때 밀라저깽이영 정겡이도 밀곡옷 벗엉 강알 트멍도 밀라사롬 몸은 곱닥해사 혼다무신 걸 먹으코게메 양 제주도에만 이신 거 먹게 마씀그젱기에 보말에 옥돔생성 또 있수다모멀 범벅에 자리젯먹을 것도 촘 하영 있저무사 난 호꼼만 줨쑤과이놈아욕심 먹은 눈에는지 껏이 족아 베곡놈의 껏은 커 베는 거여똑고치 나눈 것을 어찌 크다 족다 햄시니어멍이 용심 난옴찍 안햄쑤다경 호곡 말곡믿던 낭에 곰팽이 핀댕 게마는하도 억울호게 당해부런 아니가어멍 모심 달래 드리라독이사 울엉 날이 새주마는내사 울엉 어느 날 새리독의 목에 통쇠나 종강내가 대신 울어나 보카요 바당에요 물에 들언 좀복구젱기고득하게 잡아당혼 푼두 푼모이단 보난서방님 술깝에몬딱 들어 감쩌두렁청 호게다울리멍일호지 말라바농 존둥이졸라 메영바농질 되는 거봔디야촌촌히 생각호멍호나씩 해사일이 된다살당 보민 고생홀 때도 있곡어려웡 쓸어질 때도 있저경해도 허천 베레지 말라곳작 호게 걸어 감시민나종엔 꼭 성공혼다한림공원에 강 봅디가밸의 밸 낭이랑 꽃이랑 잘도 곱디다소랑호는 사롬은 꼭 강 봐사 혼댄 마씀경 해사 소랑호멍 잘 산댄 고릅디다서울서 온 소나이 제주 비바리에 미쳐 부런오늘 가카 넬 가카 호단 보난 옴짝 못핸 살암서라새 각씨 무사 안 왐쑤과어떵 된 거 아니우꽈강 돌앙 옵서 무신걸 경 몽캠신고오늘랑 우리 밭디 마농 심거 줍서경 홉주마 겐디 비 옴직 해염쑤다동그레 구름이 시커멍 햄신게 마씀게민 호꼼 있당 와 줍서아척부터 조녁까지두리 둥실 사랑 호곡구경 호곡경 호단 보난꽝이 복삭하우다소랑 홀 땐 솔째기 골라누게 들엉 웃나아무도 몰르게느영 나영만 솔째기 호게어멍이영 고치 옵세오당그네영 호곡 정 호곡 홉서무사 경 숨 고끼멍 고람서짐 진놈이 팡을 촛주게게난 걱정 말앙 고만이 이서저기 요새 애들 옷 입언 댕기는 거 봅서허벅지도 내 놓곡베또롱도 내 놓곡그거 무슨 요망들이라경 말앙 몬뜰락 벗엉 댕기주 게호꼼 미안하우다이게 얼마꽈오천원 마씀호꼼만 싸게 안되카 마씀경 해사 다시 올 거 아니꽈한락산드레 가젱 호민 어떵 갑니까바당드렌 어떵 갑니까차 타젱 호민 하영 가사 홉니까제주도엔 가당 봐도 바당이우다 양들어 왕 놀당 갑서경 호카 마씀여기 불 조끄띠 안즙서똣똣하우다촘말 맨도롱혼 게 좋수다무싱거옌 소곤닥 햄시니비바리 씨집 보내키옌 마씀경 해사주게 잘 생각했저똘년은 나이 차민 혼저 보내 산다경 들럭퀴지 말라초든초든 말 들엉 생각호라어떵 혼 일인지 알아사 홀 꺼 아닌가경 하당 숨 넘어 가키여돌코롬 혼 거 엇수과게메 어떵 것이 돌코롬 호코사탕을 주카 마씀아니우다게민 솔문 독새기나 호나 줍서어드레 감쑤과 이래 옵서저들멍 살지 맙서영 살아도 혼 세상 정 살아도 혼 세상두리 둥실 느영 나영 소랑이나 호게마씀앞 낭에 아진 새야 무사 경 울엄시냐서울간 우리 서방 재게 오랜 울엄시냐저승 간 우리 어멍 그리원 울엄시냐내 모심 아는 건 저 생이 뿐이구나저기 보라 느네 아방 어멍 혼디 감쩌게메 어디 감신고하르방 할망은 어신게괸당집이 상 난에 감실거우다무싱거 하미꽈도르멍 옵서 무사 경 다울렴디해 저물민 어떵 홉니까왁왁호민 질 잃어부렁 큰 일 납니다강 보라 니네 새서방 왔저아이구 부치루완 어떵 호코 마씀앗다 양양게 피우지 말라혼저 가그네 옵디가 인사 호라어디 갔단 왐수과밭디 갔다 왐쩌 어드레 감디바당에 괴기 낚으레 감쑤다절 쎄어서라 조심호곡 혼저 오래이젠 니 인생은 니가 알앙 가야 혼다알았수다 잘 살크메 걱정 맙서기여 아는 질도 들으멍 가라조심하멍 가는 질은 펜안혼다무싱거 하미꽈 혼저 옵서게기여 알았저 혼저 글라푸더지질랑 말앙 옵서돌 조심호곡 고짝 옵세제주도 비바리가 경도 좋으냐고랑은 몰라 마씀 왕 봐사 알아집니다모심도 좋고 얼굴도 좋고 집안도 좋아 마씀여보 나 등땡이 고렵다어디 영 홉서 보게아이구 베렝이 물어싱게 마씸약 볼라사 하쿠다돌아 맨 도새기야니 신세가 불쌍호다아이구 기시린 도새기야나 걱정 말앙 니 죽어 가능 거나 걱정호라죽어 가능 게 벨것 다 걱정햄시니돌 고냥으로 보라꽃들이 모들락 호게 피어 있저우리 님의 얼굴도 꽃치 되언 피엄쩌소랑 소랑 소랑꽃도 고득호게 피엄쩌괴기 멍텅혼 건 잡아나 먹곡 낭 멍텅혼 건 불이나 솜곡 돌 멍텅혼 건 담이나 닷나사롬 멍텅혼 건 아무 것에도 못 쓰키여느영 나영 둘이 둥실 낮에 낮이나 밤에 밤이나 쌍소랑 이로구나아척에 우는 생인 배가 고팡 울고요조녁에 우는 생인 님 그리웡 운다널븐 바당 앞을 재여 혼질 두질 나아가곡 짚은 바당 짚일 재여 혼질 두질 들어가민 저승길이 왔닥 갔닥이어도 사나 이어도 사나 이어도가 저승질이 반이옌 혼다새서방 들어 왐쩌저리 고쩌 사불라 영 홉서호꼼만 보게마씀몰치락 혼게 잘도 생겼저말도 안 득곡 일도 안 호곡 촘말로 경 호민 뚜러메당 데껴 불키여사롬은 일해사 살아 지는거여호꼼씩 먹으라 숨 넘어가키여 배 고판 마씀경 먹당은 숨 고끼키여 누게 도둑질 안하메 촌촌히 먹으라사롬 있수과 누게꽈 웃 동네 갑돌이 어멍 이우다아이구 어떵 호난 와 집디가 게우리 똘은 아무것도 몰라 마씸 분시 몰른 애기 설운 애기 우다잘 돌앙 살아 줍서 고르치멍 살아사 할 꺼우다무신 걸 잘 하구랜 큰 소리꽈똥 뀐 놈이 성 냄쩌누겐 입 어선 말 못 햄시카 부댄지랭이도 볼부민 꿈틀락홉니다 양나 모심 몰르쿠과 당신만 보민 가슴이 금착 금착 영도 못하곡 정도 못하곡 나 모심 나도 몰르쿠다어느제 옵디가 혼 사나흘 됐수다 다들 펜안 했수과 어떵 살아 점쑤과씨집가난 어떵 홉디가 아이고 말도 말라무신 거시 무신 건지 귀 눈이 왁왁해라서울엔 언제 가쿠과 갈 때랑 날 도랑 가 줍서서울 강 무싱 거 호젠 구경도 호곡 서울 소랑도 해 보젠 마씀무사 무싱 거옌 고릅디가 솔째기 왕 말홉서 보저게메 말호카 말카 속 태우지 말앙 확 홉서게게민 놈 혼테랑 아무 말도 호지 맙서 양누게 있수과 안녕 하우꽈 아방 어멍 다 펜안 했수과 어디 갔당 왐쑤과 요새 어떵 살미꽈 좋수과어드레 감쑤과 이래 옵서게혼저 혼저 옵서게 솔짝 솔짝 옵서게느영 나영 두리 둥실 소랑이나 호게 마씀촘말로 가쿠과게메 홀수가 엇다게게민 나 혼자만 어떵 살랜 마씀어떵 호느니 호꼼만 촘앙 살암시라 떠나는 내 모심도 울어 지키여우이 어멍 사는 바당 우리 목숨 키운 바당 동에 가민동의 바당 서에 가민 서의 바당 보름 불민 파도 치곡 비가 오민 날 저물곡하늘 고튼 요왕님아 명주 바당 맨들어서 우리 어멍 설은 가슴 펭안호게 호여 줍서어떵 살코 마씸 무사 경 저들멍 살암쑤과 촘앙 삽서 경 햄시민 살아짐니다혼저 옵서게 혼저 오라게 고만 십서게고만 시라게 무신 거 햄쑤과무신 거 햄시니 무사 경 급호꽈무사 경 급호냐 게메 마씸 확 옵서게기여 게 확 오라게새각씨 구홀 때랑 모심을 보라 얼굴 곱들락 혼 것은 혼 덜이여놀씬호곡 멋진 것은 혼 해여 모심 착한 건 십 년이 되곡 백 년이 되도 저 소낭 추룩 청청혼다어느 모실에 갑돌이옌 호는 소나이와 갑순이옌 호는 비바리가 살았수게 둘이는 좋아 하멍도 말은 못하곡 속은 타멍도 그 까짓거 해여십주 경 호단 갑순이가 씨집가게 되난 그제사 갑돌이가 `아이구 어멍아` 하멍 울었수게경 해도 어떵 해여 마씀 홀수가 어서십주 갑돌이도 부에가 난 장게를 가 부렀수게 장게 가는 날은 갑순이도 정지에서 울었수게 갑순이 모심도 갑돌이 뿐이주만 어떵 홉니까 사롬 팔재 촘 몰르능거라 마씀 게난 어떵 살코 저들멍 살지 맙서 살당 보민 타고난 팔재대로 다 살아 짐니다물 허벅 정 가는 저 비바리야 물만 지지 말앙 이 소나이 모심도 정 가도라 소랑 혼댄 말은 못하곡 돌고망에 고분 생이고치 가슴만 톨랑 톨랑어떵 호민 조코 마씀 멍는거나 고트민 맨도롱 혼 때 호로록 들여싸 불기나 혼다 물이나 되시민 허벅 속으로 퐁당 들어가기나 혼다영도 못하곡 정도 못하곡 비바리야 촘말로 죽어 지키여 소나이 타는 모심을 호꼼 만이라도 알아도라우리 제주도 하르방들이 호는 말이 있수다 밭을 살 땐 에염을 보라 집을 살 땐 이웃을 보라 산을 사컨 빌레를 보라 사돈을 홀 땐 근본을 보라그리고 우리 어멍들이 고르친 말이 있수다 홈생이 말라 촐람생이질 말라 간세 말라 느링테질 말라 요망진 체 말라 거들락 거리지 말라 노미 모심 아프게 호지 말라경해사 호는 일들이 펜안해 진다 살당 보민 잊어 불 때도 있수다만 우리 하르방 할망 아방 어멍들이 혼 말씀들은 촘말로 소중한 교훈들이우다 고맙쑤다갑써양나 이녁 소못 소랑헴수다 서방 조끝에 고치 앉즙써사름 잇수과잘 이십디강아방 어멍 다 펜안햇수과 데멩이 맹심헙써어디 갓당 왐쑤과지 것은 족아 벤다누게꽈나  상우댕이 고우꽝고우멍 말멍 허우다오천원마씀큰일 낫수다어떵   생겨서어디가코 마시요망지게 생겨십디다 제주특별자치도에서 살게 마씀맨드롱햇수과무사 마씀오젠허난 폭삭 속아수다재기재기 보질보질 혼저옵서촘말로 곱고 몬트락허우다이딘 보름 도 하영 불엄져소민나민 난 몰라이디 와부난 어멍 보지그립다지천 자지 그립다뱃은 과랑과랑 모살은 삔찍삔찍아무거앤  고라도 귀 눈이 왁왁게메 마씀날 봅서제나콰니여으마 어떵호리  \\n'"
            ]
          },
          "metadata": {
            "tags": []
          },
          "execution_count": 21
        }
      ]
    },
    {
      "cell_type": "code",
      "metadata": {
        "id": "c0jyqKstrTRT",
        "colab_type": "code",
        "colab": {
          "base_uri": "https://localhost:8080/",
          "height": 55
        },
        "outputId": "42ccd16d-16e5-4a9f-a5ae-b0535aa7948a"
      },
      "source": [
        "print(okt.pos(input_last))"
      ],
      "execution_count": 22,
      "outputs": [
        {
          "output_type": "stream",
          "text": [
            "[('버', 'Noun'), ('래', 'Josa'), ('기', 'Modifier'), ('강생이', 'Noun'), ('부각', 'Noun'), ('허다', 'Verb'), ('강알부', 'Noun'), ('끄다', 'Verb'), ('개', 'Noun'), ('끔', 'Verb'), ('분시', 'Verb'), ('몰랑', 'Verb'), ('개작', 'Noun'), ('개', 'Suffix'), ('작삐암데기', 'Noun'), ('검질', 'Adjective'), ('속슴', 'Noun'), ('허라', 'Verb'), ('게', 'Noun'), ('미', 'Adjective'), ('융', 'Noun'), ('허', 'Verb'), ('다솜', 'Noun'), ('쫄르', 'Noun'), ('멍게', 'Noun'), ('작헌쉰', 'Noun'), ('달이', 'Noun'), ('고라', 'Noun'), ('불켜', 'Noun'), ('심토', 'Noun'), ('맥', 'Noun'), ('이', 'Josa'), ('곡기', 'Noun'), ('다', 'Josa'), ('영', 'Noun'), ('골다', 'Verb'), ('골다', 'Verb'), ('왁왁', 'Adverb'), ('허다', 'Verb'), ('곱', 'Noun'), ('지다', 'Noun'), ('요망', 'Noun'), ('지다', 'Noun'), ('과랑과랑', 'Adverb'), ('우영', 'Noun'), ('밭괸', 'Noun'), ('당', 'Suffix'), ('웃', 'Noun'), ('뜨리', 'Verb'), ('굽재짝재짝', 'Noun'), ('기시리다', 'Verb'), ('제라', 'Noun'), ('헌', 'Modifier'), ('꽝', 'Noun'), ('조', 'Suffix'), ('그물', 'Noun'), ('다', 'Adverb'), ('눈물', 'Noun'), ('촐래', 'Noun'), ('주', 'Modifier'), ('레', 'Noun'), ('사', 'Modifier'), ('니니', 'Noun'), ('치름', 'Verb'), ('촘', 'Noun'), ('아', 'Josa'), ('가라데', 'Noun'), ('껴', 'Verb'), ('불켜칭', 'Noun'), ('원', 'Suffix'), ('허다', 'Verb'), ('두렁', 'Noun'), ('청', 'Noun'), ('허다', 'Verb'), ('콥데', 'Noun'), ('사니', 'Verb'), ('들러', 'Verb'), ('켬', 'Verb'), ('쩌', 'Noun'), ('코시', 'Noun'), ('롱', 'Noun'), ('허', 'Verb'), ('다듬', 'Verb'), ('삭', 'Noun'), ('하', 'Suffix'), ('다', 'Josa'), ('탈', 'Noun'), ('멜라지', 'Verb'), ('켜통', 'Noun'), ('시메', 'Noun'), ('기독', 'Noun'), ('딱', 'Adverb'), ('트멍모소완', 'Noun'), ('하', 'Suffix'), ('근', 'Modifier'), ('디몬', 'Noun'), ('뜨', 'Verb'), ('글', 'Noun'), ('락하다몬', 'Noun'), ('직', 'Noun'), ('당', 'Suffix'), ('행글', 'Noun'), ('랑', 'Josa'), ('이', 'Determiner'), ('몬짝', 'Noun'), ('허당', 'Noun'), ('말타', 'Noun'), ('몰', 'Verb'), ('명', 'Noun'), ('허다', 'Verb'), ('헌', 'Noun'), ('저', 'Determiner'), ('글', 'Noun'), ('라', 'Josa'), ('몽케', 'Noun'), ('다', 'Josa'), ('호', 'Noun'), ('썰', 'Verb'), ('무리', 'Noun'), ('다', 'Josa'), ('호야', 'Noun'), ('무사', 'Noun'), ('흐', 'Noun'), ('랑', 'Josa'), ('허다', 'Verb'), ('배롱', 'Noun'), ('허다', 'Verb'), ('허운', 'Noun'), ('데기', 'Noun'), ('배지', 'Noun'), ('금', 'Noun'), ('허다', 'Verb'), ('쪼', 'Noun'), ('광물', 'Noun'), ('옷', 'Noun'), ('센', 'Verb'), ('바', 'Noun'), ('당', 'Modifier'), ('앞', 'Noun'), ('바르난', 'Verb'), ('바르', 'Verb'), ('산목', 'Noun'), ('졸르면', 'Verb'), ('비', 'Noun'), ('온다', 'Verb'), ('돌', 'Noun'), ('갓', 'Noun'), ('쓰', 'Verb'), ('민', 'Noun'), ('우', 'Adverb'), ('친다', 'Verb'), ('곰', 'Noun'), ('새기', 'Verb'), ('들럭', 'Noun'), ('켬져', 'Verb'), ('토끼', 'Noun'), ('썼다', 'Verb'), ('큰', 'Verb'), ('눈소살머정', 'Noun'), ('좋다', 'Adjective'), ('제수', 'Noun'), ('가', 'Josa'), ('좋다', 'Adjective'), ('궐', 'Noun'), ('면', 'Noun'), ('했다', 'Verb'), ('마당', 'Noun'), ('바랏', 'Noun'), ('져', 'Verb'), ('큰', 'Verb'), ('누', 'Noun'), ('작은', 'Adjective'), ('누절', 'Noun'), ('치대긴다', 'Verb'), ('하르방', 'Noun'), ('할', 'Verb'), ('망아', 'Noun'), ('방어', 'Noun'), ('멍', 'Noun'), ('비바리', 'Noun'), ('괸당걸바시넹', 'Noun'), ('바리', 'Noun'), ('다', 'Josa'), ('슴아돌말젯', 'Noun'), ('놈', 'Noun'), ('소나', 'Noun'), ('이성', 'Noun'), ('님', 'Suffix'), ('작산', 'Noun'), ('거좀녀촐람생', 'Noun'), ('이', 'Josa'), ('홀', 'Noun'), ('아', 'Josa'), ('방가', 'Noun'), ('달꼴', 'Noun'), ('랑', 'Josa'), ('지구', 'Noun'), ('뚱', 'Noun'), ('배기', 'Noun'), ('꽝', 'Noun'), ('굴레', 'Noun'), ('대망', 'Noun'), ('생', 'Noun'), ('이', 'Josa'), ('등땡', 'Noun'), ('이또', 'Noun'), ('꼬망', 'Noun'), ('모', 'Noun'), ('감지', 'Noun'), ('베', 'Noun'), ('봉', 'Noun'), ('탱', 'Adverb'), ('이', 'Determiner'), ('베', 'Noun'), ('아지', 'Noun'), ('볼라', 'Noun'), ('불라', 'Verb'), ('상', 'Noun'), ('판이', 'Noun'), ('야', 'Josa'), ('게기', 'Noun'), ('야', 'Josa'), ('굴탁임댕', 'Noun'), ('이정', 'Noun'), ('겡이저껭', 'Noun'), ('이', 'Josa'), ('조금', 'Noun'), ('태기', 'Noun'), ('좀짐', 'Noun'), ('팽이', 'Noun'), ('허운', 'Noun'), ('데기', 'Noun'), ('허벅다리', 'Noun'), ('놋', 'Noun'), ('간수', 'Noun'), ('메', 'Noun'), ('개역', 'Noun'), ('것', 'Noun'), ('괴기', 'Noun'), ('바', 'Noun'), ('당', 'Suffix'), ('괴기', 'Noun'), ('돗괴기', 'Noun'), ('쇠', 'Noun'), ('괴기', 'Noun'), ('도', 'Josa'), ('괴기', 'Noun'), ('곤떡곤밥', 'Noun'), ('놈삐', 'Noun'), ('대사', 'Noun'), ('니', 'Josa'), ('김치', 'Noun'), ('마농', 'Noun'), ('마농', 'Noun'), ('조', 'Suffix'), ('배기', 'Noun'), ('촐래', 'Noun'), ('촘', 'Noun'), ('지금', 'Noun'), ('짐치', 'Verb'), ('촙쏠', 'Noun'), ('조', 'Suffix'), ('팝', 'Noun'), ('갈옷', 'Noun'), ('갈', 'Verb'), ('적삼', 'Noun'), ('갈', 'Verb'), ('중이', 'Noun'), ('강알', 'Noun'), ('터진', 'Verb'), ('바지', 'Noun'), ('게', 'Noun'), ('와', 'Josa'), ('단취', 'Noun'), ('밀', 'Noun'), ('랑', 'Josa'), ('페랭', 'Noun'), ('이보', 'Noun'), ('선소', 'Verb'), ('중', 'Noun'), ('이신', 'Josa'), ('착', 'Noun'), ('찍신', 'Verb'), ('좀', 'Noun'), ('뱅이', 'Noun'), ('등지', 'Noun'), ('게', 'Josa'), ('고장', 'Noun'), ('중', 'Suffix'), ('이도', 'Noun'), ('폭', 'Noun'), ('두루', 'Noun'), ('막베불레', 'Noun'), ('기우', 'Noun'), ('장저', 'Noun'), ('구리지', 'Noun'), ('성', 'Suffix'), ('귀지', 'Noun'), ('서', 'Josa'), ('귀쪼', 'Noun'), ('께', 'Josa'), ('치', 'Noun'), ('메건대', 'Verb'), ('사모관대', 'Noun'), ('시미', 'Noun'), ('옷', 'Noun'), ('제', 'Modifier'), ('복망', 'Noun'), ('근', 'Modifier'), ('방립', 'Noun'), ('벙것', 'Noun'), ('상', 'Suffix'), ('갓', 'Modifier'), ('탕', 'Noun'), ('근', 'Modifier'), ('풍뎅이', 'Noun'), ('휘', 'Noun'), ('양', 'Suffix'), ('낭', 'Noun'), ('저', 'Determiner'), ('달리', 'Noun'), ('빈', 'Noun'), ('네', 'Josa'), ('상퉁', 'Noun'), ('이', 'Josa'), ('얼레', 'Noun'), ('기', 'Noun'), ('얼레빗', 'Noun'), ('쪽', 'Noun'), ('도리', 'Noun'), ('쳉빗', 'Noun'), ('과지', 'Noun'), ('남신', 'Noun'), ('송락', 'Noun'), ('요령', 'Noun'), ('복치메', 'Noun'), ('구덕', 'Noun'), ('고량', 'Noun'), ('착낭푼', 'Noun'), ('이', 'Josa'), ('그릇', 'Noun'), ('대', 'Suffix'), ('배', 'Noun'), ('기물', 'Noun'), ('구루', 'Noun'), ('마바농', 'Noun'), ('박새', 'Noun'), ('기', 'Noun'), ('숟구락제끄락주멩', 'Noun'), ('기', 'Noun'), ('허', 'Verb'), ('벅남', 'Noun'), ('죽대', 'Noun'), ('접도고리', 'Verb'), ('소리', 'Noun'), ('바굼', 'Noun'), ('지', 'Josa'), ('솔', 'Noun'), ('박수', 'Noun'), ('박', 'Noun'), ('귀', 'Modifier'), ('우금', 'Noun'), ('작박', 'Noun'), ('장', 'Suffix'), ('탱', 'Adverb'), ('이항', 'Noun'), ('함박', 'Noun'), ('가', 'Josa'), ('레죽', 'Noun'), ('곡괭이', 'Noun'), ('골갱', 'Noun'), ('이골', 'Noun'), ('각지', 'Noun'), ('군데', 'Noun'), ('날레', 'Noun'), ('군데', 'Noun'), ('가', 'Josa'), ('레갈체돌끌다께멕', 'Noun'), ('말방', 'Noun'), ('에', 'Josa'), ('벤줄', 'Verb'), ('레부게쉐스렁', 'Noun'), ('씻', 'Verb'), ('부게', 'Adjective'), ('잠데', 'Verb'), ('호미', 'Noun'), ('고', 'Josa'), ('냥', 'Noun'), ('독생', 'Noun'), ('이', 'Determiner'), ('놀', 'Noun'), ('개', 'Suffix'), ('기박', 'Noun'), ('생', 'Noun'), ('이', 'Josa'), ('독', 'Noun'), ('독새', 'Noun'), ('기고', 'Noun'), ('냉', 'Noun'), ('이송', 'Noun'), ('애기', 'Noun'), ('몽생', 'Noun'), ('이', 'Josa'), ('돗', 'Noun'), ('도', 'Josa'), ('새기', 'Verb'), ('밭', 'Noun'), ('갈', 'Verb'), ('쇠부', 'Noun'), ('랭이염송', 'Noun'), ('애기', 'Noun'), ('강생이', 'Noun'), ('중', 'Suffix'), ('이', 'Josa'), ('갓돔', 'Noun'), ('겡이구젱기물꾸럭', 'Noun'), ('게', 'Josa'), ('염', 'Noun'), ('지', 'Josa'), ('멩', 'Noun'), ('마구', 'Noun'), ('리베', 'Noun'), ('랭', 'Noun'), ('이', 'Josa'), ('베염', 'Noun'), ('빙애', 'Noun'), ('기생', 'Noun'), ('이나', 'Josa'), ('람쥐', 'Noun'), ('죙', 'Noun'), ('이여', 'Josa'), ('호', 'Noun'), ('노리', 'Noun'), ('빙', 'Noun'), ('아리', 'Noun'), ('쉐쉐', 'Noun'), ('막도', 'Noun'), ('세기', 'Noun'), ('두', 'Josa'), ('테', 'Noun'), ('비골', 'Noun'), ('개비', 'Noun'), ('젱비리송', 'Noun'), ('키', 'Noun'), ('지', 'Josa'), ('실감', 'Noun'), ('저', 'Determiner'), ('어욱', 'Noun'), ('태', 'Noun'), ('역모', 'Noun'), ('물굴묵낭', 'Noun'), ('가라지', 'Noun'), ('꿩', 'Noun'), ('마농', 'Noun'), ('도', 'Josa'), ('채비', 'Noun'), ('고', 'Josa'), ('장숙', 'Noun'), ('대', 'Suffix'), ('낭퐁낭', 'Noun'), ('가', 'Josa'), ('베또롱호', 'Noun'), ('다', 'Josa'), ('간드', 'Noun'), ('랑', 'Josa'), ('호', 'Noun'), ('다', 'Josa'), ('간세', 'Noun'), ('호', 'Noun'), ('다', 'Josa'), ('거령', 'Noun'), ('청호', 'Noun'), ('다', 'Josa'), ('곧작호', 'Noun'), ('다', 'Josa'), ('과랑과랑', 'Adverb'), ('호', 'Noun'), ('다', 'Josa'), ('금착호', 'Noun'), ('다', 'Josa'), ('고', 'Noun'), ('렵다돌코롬', 'Noun'), ('호', 'Noun'), ('다', 'Josa'), ('메뜩호', 'Noun'), ('다', 'Josa'), ('멘', 'Verb'), ('도롱', 'Noun'), ('호', 'Noun'), ('다', 'Josa'), ('모드', 'Noun'), ('락호다몰치락', 'Noun'), ('호', 'Noun'), ('다', 'Josa'), ('벤', 'Verb'), ('조롱', 'Noun'), ('호', 'Noun'), ('다', 'Josa'), ('부치', 'Verb'), ('럽', 'Noun'), ('다', 'Adverb'), ('돌글', 'Noun'), ('랑', 'Josa'), ('호', 'Noun'), ('다', 'Josa'), ('봉', 'Noun'), ('끄랑', 'Verb'), ('호', 'Noun'), ('다', 'Josa'), ('보랑', 'Noun'), ('지다', 'Noun'), ('펀드', 'Noun'), ('렁호', 'Noun'), ('다해', 'Noun'), ('또록호', 'Noun'), ('다산', 'Noun'), ('도록', 'Noun'), ('호', 'Noun'), ('다', 'Josa'), ('썸찌', 'Noun'), ('근호', 'Noun'), ('다실', 'Noun'), ('렵다심드', 'Noun'), ('랑', 'Josa'), ('호', 'Noun'), ('다', 'Josa'), ('슴두렁펀펀', 'Noun'), ('호', 'Noun'), ('다', 'Josa'), ('솔치', 'Noun'), ('다', 'Josa'), ('앙', 'Adverb'), ('살호', 'Noun'), ('다', 'Josa'), ('앨록호다어', 'Noun'), ('중구', 'Noun'), ('랑', 'Josa'), ('호', 'Noun'), ('다', 'Josa'), ('얼', 'Noun'), ('랍지다얼랍지다엄', 'Noun'), ('부랑', 'Noun'), ('호', 'Noun'), ('다오', 'Noun'), ('들', 'Suffix'), ('랑', 'Josa'), ('호', 'Noun'), ('다', 'Josa'), ('옴탕호', 'Noun'), ('다', 'Josa'), ('왁왁', 'Adverb'), ('호', 'Noun'), ('다', 'Josa'), ('왕왕', 'Noun'), ('작작', 'Noun'), ('호', 'Noun'), ('다', 'Josa'), ('요망', 'Noun'), ('지다', 'Noun'), ('조', 'Suffix'), ('짝호', 'Noun'), ('다', 'Josa'), ('좀', 'Noun'), ('질다', 'Noun'), ('좀좀호', 'Noun'), ('다', 'Josa'), ('패랍', 'Noun'), ('다그', 'Noun'), ('저', 'Determiner'), ('끼', 'Noun'), ('아', 'Josa'), ('척', 'Noun'), ('그', 'Determiner'), ('지게', 'Noun'), ('초', 'Noun'), ('냑언처냑요뉠', 'Noun'), ('모리', 'Noun'), ('소시', 'Noun'), ('숭년저슬', 'Noun'), ('들', 'Suffix'), ('언', 'Modifier'), ('갈라', 'Noun'), ('지', 'Josa'), ('다데', 'Noun'), ('싸지', 'Verb'), ('다감', 'Noun'), ('장', 'Suffix'), ('돌다거', 'Verb'), ('느리', 'Adjective'), ('왕', 'Noun'), ('상호', 'Noun'), ('다', 'Josa'), ('거들', 'Verb'), ('락', 'Noun'), ('거리', 'Noun'), ('다', 'Josa'), ('거찌', 'Noun'), ('다', 'Josa'), ('걸러', 'Verb'), ('지다', 'Noun'), ('고른', 'Verb'), ('배기', 'Noun'), ('고', 'Josa'), ('쩌', 'Noun'), ('사다곤', 'Verb'), ('작', 'Noun'), ('싸다', 'Verb'), ('꼴', 'Noun'), ('성', 'Suffix'), ('그', 'Determiner'), ('리다', 'Noun'), ('곱', 'Noun'), ('지다', 'Noun'), ('구숭호', 'Noun'), ('다', 'Josa'), ('꾸러', 'Verb'), ('박아지', 'Noun'), ('다', 'Josa'), ('귀', 'Noun'), ('태우다고', 'Verb'), ('끼', 'Noun'), ('다', 'Josa'), ('골메', 'Noun'), ('드리다', 'Verb'), ('늘짝', 'Noun'), ('거리', 'Noun'), ('다', 'Josa'), ('끼리', 'Noun'), ('다다', 'Noun'), ('울리다', 'Verb'), ('댕기', 'Noun'), ('다데', 'Noun'), ('껴', 'Verb'), ('불다되', 'Verb'), ('싸지다', 'Verb'), ('들', 'Verb'), ('럭퀴다몽캐다몽', 'Noun'), ('캐다', 'Verb'), ('베르', 'Noun'), ('싸다', 'Verb'), ('부수', 'Noun'), ('닥질호', 'Noun'), ('다', 'Josa'), ('부', 'Noun'), ('에', 'Josa'), ('나다', 'Verb'), ('쎄', 'Adjective'), ('울르', 'Noun'), ('다소', 'Noun'), ('곤닥호', 'Noun'), ('다소', 'Noun'), ('도리', 'Noun'), ('호', 'Noun'), ('다', 'Josa'), ('속솜호', 'Noun'), ('다심', 'Verb'), ('벡호', 'Noun'), ('다', 'Josa'), ('악살호', 'Noun'), ('다용', 'Noun'), ('심내다', 'Verb'), ('조', 'Modifier'), ('글리', 'Noun'), ('다', 'Josa'), ('저', 'Noun'), ('들', 'Suffix'), ('다다', 'Noun'), ('솟', 'Verb'), ('예', 'Modifier'), ('늘곱', 'Noun'), ('요', 'Josa'), ('든', 'Verb'), ('일고여', 'Verb'), ('답', 'Noun'), ('요나', 'Noun'), ('문', 'Modifier'), ('요', 'Modifier'), ('섯호', 'Noun'), ('나', 'Josa'), ('혼', 'Noun'), ('잠녀', 'Noun'), ('상', 'Suffix'), ('군', 'Noun'), ('요', 'Josa'), ('년', 'Noun'), ('난', 'Josa'), ('거볼망텡', 'Noun'), ('이', 'Josa'), ('미리내', 'Noun'), ('비주', 'Noun'), ('제상', 'Noun'), ('고지우', 'Noun'), ('네', 'Josa'), ('노릇', 'Noun'), ('낭강알돌밸돌', 'Noun'), ('생기', 'Noun'), ('작지', 'Adjective'), ('왓', 'Noun'), ('구들', 'Noun'), ('통시', 'Noun'), ('벤', 'Verb'), ('소석', 'Noun'), ('밭돌', 'Noun'), ('랭이돌데맹', 'Noun'), ('이', 'Josa'), ('우뚝', 'Noun'), ('지', 'Josa'), ('동무', 'Noun'), ('릅발꼽', 'Noun'), ('데', 'Noun'), ('기고', 'Noun'), ('찌', 'Noun'), ('글', 'Noun'), ('라', 'Josa'), ('고', 'Modifier'), ('찌', 'Noun'), ('가게', 'Noun'), ('느영', 'Noun'), ('고', 'Modifier'), ('찌', 'Noun'), ('글민', 'Noun'), ('지', 'Verb'), ('꺼짐이', 'Verb'), ('열', 'Modifier'), ('배', 'Noun'), ('여', 'Josa'), ('고', 'Modifier'), ('찌', 'Noun'), ('글', 'Noun'), ('라', 'Josa'), ('고', 'Modifier'), ('찌', 'Noun'), ('가게', 'Noun'), ('느영', 'Noun'), ('고', 'Modifier'), ('찌', 'Noun'), ('글민', 'Noun'), ('지', 'Verb'), ('꺼짐이', 'Verb'), ('백배', 'Noun'), ('여', 'Josa'), ('영도', 'Noun'), ('곱닥헌', 'Noun'), ('날', 'Noun'), ('공기', 'Noun'), ('좋고', 'Adjective'), ('사람', 'Noun'), ('좋고느영', 'Noun'), ('나영', 'Noun'), ('고', 'Modifier'), ('찌', 'Noun'), ('글민', 'Noun'), ('무신', 'Noun'), ('걱정', 'Noun'), ('시냐', 'Noun'), ('하영', 'Adverb'), ('골민', 'Noun'), ('존다니', 'Adjective'), ('먹당', 'Verb'), ('보', 'Noun'), ('난', 'Josa'), ('살', 'Noun'), ('아', 'Josa'), ('지곡', 'Noun'), ('살당', 'Verb'), ('보', 'Noun'), ('난', 'Josa'), ('먹어', 'Verb'), ('져라', 'Verb'), ('굶', 'Verb'), ('엉', 'Exclamation'), ('보', 'Noun'), ('난', 'Josa'), ('알', 'Noun'), ('아', 'Josa'), ('져라', 'Verb'), ('배고픔도', 'Adjective'), ('인생', 'Noun'), ('인', 'Josa'), ('걸어', 'Verb'), ('시민', 'Noun'), ('어', 'Noun'), ('신양', 'Noun'), ('그저', 'Adverb'), ('겅', 'Noun'), ('살곡', 'Noun'), ('이', 'Josa'), ('시민', 'Noun'), ('이', 'Determiner'), ('신양', 'Noun'), ('나누', 'Verb'), ('멍', 'Noun'), ('살주먹엄직', 'Noun'), ('이', 'Josa'), ('살', 'Noun'), ('암', 'Modifier'), ('직', 'Noun'), ('이', 'Josa'), ('시', 'Modifier'), ('상우', 'Noun'), ('시', 'Modifier'), ('멍', 'Noun'), ('사는', 'Verb'), ('시상', 'Noun'), ('이', 'Josa'), ('사름', 'Verb'), ('사는', 'Verb'), ('시', 'Modifier'), ('상이', 'Noun'), ('주울당', 'Verb'), ('보', 'Noun'), ('난', 'Josa'), ('살', 'Noun'), ('아', 'Josa'), ('져라', 'Verb'), ('웃당', 'Verb'), ('보', 'Noun'), ('난', 'Josa'), ('살', 'Noun'), ('아', 'Josa'), ('져', 'Verb'), ('라우', 'Noun'), ('는', 'Josa'), ('삶도', 'Verb'), ('웃는', 'Verb'), ('삶도', 'Verb'), ('고마운', 'Adjective'), ('인생', 'Noun'), ('이', 'Determiner'), ('주어', 'Noun'), ('시민', 'Noun'), ('어', 'Noun'), ('신양', 'Noun'), ('그저', 'Adverb'), ('겅', 'Noun'), ('살곡', 'Noun'), ('이', 'Josa'), ('시민', 'Noun'), ('이', 'Determiner'), ('신양', 'Noun'), ('나누', 'Verb'), ('멍', 'Noun'), ('살주먹엄직', 'Noun'), ('이', 'Josa'), ('살', 'Noun'), ('암', 'Modifier'), ('직', 'Noun'), ('이', 'Josa'), ('시', 'Modifier'), ('상우', 'Noun'), ('시', 'Modifier'), ('멍', 'Noun'), ('사는', 'Verb'), ('시상', 'Noun'), ('이', 'Josa'), ('사름', 'Verb'), ('사는', 'Verb'), ('시', 'Modifier'), ('상이', 'Noun'), ('주', 'Modifier'), ('무명', 'Noun'), ('천', 'Suffix'), ('할머니', 'Noun'), ('어디', 'Noun'), ('감수', 'Noun'), ('과', 'Josa'), ('무명', 'Noun'), ('천', 'Suffix'), ('할머니', 'Noun'), ('펜안', 'Noun'), ('허우꽈', 'Noun'), ('4', 'Number'), ('3', 'Number'), ('소', 'Modifier'), ('건때', 'Noun'), ('총', 'Noun'), ('맞', 'Verb'), ('앙', 'Adverb'), ('턱', 'Noun'), ('을', 'Josa'), ('잃', 'Verb'), ('엉', 'Exclamation'), ('경', 'Noun'), ('살았주', 'Verb'), ('55년', 'Number'), ('간', 'Noun'), ('말', 'Noun'), ('도', 'Josa'), ('못', 'VerbPrefix'), ('허', 'Verb'), ('곡', 'Noun'), ('음식', 'Noun'), ('도', 'Josa'), ('못', 'Noun'), ('먹으', 'Verb'), ('멍', 'Noun'), ('상처', 'Noun'), ('난', 'Noun'), ('얼굴', 'Noun'), ('보일', 'Verb'), ('수', 'Noun'), ('어성', 'Noun'), ('무명', 'Noun'), ('천', 'Suffix'), ('을', 'Josa'), ('둘렁목심', 'Noun'), ('은', 'Josa'), ('건졌주만', 'Verb'), ('살아도', 'Verb'), ('산', 'Noun'), ('게', 'Josa'), ('아니', 'Adjective'), ('랐', 'Noun'), ('주무', 'Noun'), ('명천', 'Noun'), ('할', 'Verb'), ('망', 'Noun'), ('이랜', 'Noun'), ('날', 'Noun'), ('불렀주', 'Verb'), ('만나신', 'Verb'), ('디도', 'Noun'), ('이름', 'Noun'), ('이', 'Josa'), ('이서', 'Noun'), ('났주진', 'Verb'), ('아영', 'Noun'), ('이우', 'Noun'), ('다', 'Josa'), ('놈삐', 'Noun'), ('좀질', 'Noun'), ('게', 'Josa'), ('썰', 'Verb'), ('엉', 'Exclamation'), ('솖앙', 'Noun'), ('패마', 'Noun'), ('농', 'Noun'), ('이영', 'Noun'), ('꿰', 'Noun'), ('고루', 'Noun'), ('놩', 'Noun'), ('섞', 'Verb'), ('엉', 'Exclamation'), ('모', 'Noun'), ('멀', 'Adjective'), ('고루', 'Noun'), ('풀', 'Noun'), ('엉', 'Exclamation'), ('얄룹', 'Noun'), ('게', 'Josa'), ('지졍그', 'Noun'), ('우터레', 'Noun'), ('놩', 'Noun'), ('몰', 'Verb'), ('민', 'Noun'), ('빙떡', 'Noun'), ('이주', 'Noun'), ('게', 'Josa'), ('두렁', 'Noun'), ('청', 'Noun'), ('이', 'Josa'), ('어드레', 'Noun'), ('가', 'Verb'), ('젠', 'Noun'), ('햄', 'Noun'), ('시냐', 'Noun'), ('곱', 'Noun'), ('들', 'Suffix'), ('락호', 'Noun'), ('게', 'Josa'), ('촐려', 'Noun'), ('입어', 'Verb'), ('그네', 'Noun'), ('이드', 'Noun'), ('레', 'Noun'), ('와', 'Verb'), ('그네', 'Noun'), ('느영', 'Noun'), ('나영', 'Noun'), ('모', 'Noun'), ('다', 'Josa'), ('들어', 'Verb'), ('그네', 'Noun'), ('터졍', 'Noun'), ('도르게', 'Verb'), ('빙삭', 'Noun'), ('허게', 'Verb'), ('몬딱', 'Noun'), ('베리', 'Noun'), ('난', 'Josa'), ('보', 'Noun'), ('뎌', 'Modifier'), ('감시', 'Noun'), ('녜', 'Noun'), ('도르라', 'Verb'), ('조', 'Noun'), ('들', 'Suffix'), ('지', 'Josa'), ('마랑', 'Noun'), ('도르라', 'Verb'), ('몬딱', 'Noun'), ('도르라도', 'Verb'), ('드', 'Noun'), ('라', 'Josa'), ('조', 'Noun'), ('들', 'Suffix'), ('지', 'Josa'), ('마랑', 'Noun'), ('도르라', 'Verb'), ('몬딱', 'Noun'), ('도르', 'Verb'), ('라용', 'Noun'), ('심', 'Noun'), ('내', 'Determiner'), ('멍', 'Noun'), ('도톼', 'Noun'), ('보', 'Noun'), ('난', 'Josa'), ('알', 'Noun'), ('아', 'Josa'), ('졈시냐느', 'Noun'), ('영', 'Noun'), ('나영', 'Noun'), ('심벡', 'Noun'), ('해봐사', 'Verb'), ('페들락', 'Noun'), ('햄', 'Noun'), ('시', 'Modifier'), ('녜돈', 'Noun'), ('한', 'Verb'), ('추', 'Noun'), ('룩', 'Suffix'), ('뺄', 'Verb'), ('라진', 'Noun'), ('추', 'Noun'), ('룩', 'Suffix'), ('오시록', 'Verb'), ('헌', 'Noun'), ('추', 'Noun'), ('룩', 'Suffix'), ('경', 'Noun'), ('해', 'Noun'), ('봐사', 'Verb'), ('핏짝', 'Noun'), ('허난', 'Noun'), ('얼렁', 'Noun'), ('뎅기', 'Noun'), ('게', 'Josa'), ('도르라', 'Verb'), ('조', 'Noun'), ('들', 'Suffix'), ('지', 'Josa'), ('마랑', 'Noun'), ('도르라', 'Verb'), ('몬딱', 'Noun'), ('도르라도', 'Verb'), ('드', 'Noun'), ('라', 'Josa'), ('조', 'Noun'), ('들', 'Suffix'), ('지', 'Josa'), ('마랑', 'Noun'), ('도르라', 'Verb'), ('몬딱', 'Noun'), ('도르라', 'Verb'), ('아야', 'Noun'), ('머리', 'Noun'), ('여', 'Josa'), ('아야', 'Noun'), ('머리', 'Noun'), ('여', 'Josa'), ('입담', 'Noun'), ('허', 'Verb'), ('멍', 'Noun'), ('두드', 'Noun'), ('렴시민수꾸락', 'Noun'), ('조루', 'Noun'), ('거', 'Noun'), ('수루', 'Noun'), ('심', 'Noun'), ('엉', 'Exclamation'), ('차반', 'Noun'), ('이', 'Josa'), ('바위', 'Noun'), ('두드', 'Noun'), ('렴시민훌', 'Noun'), ('구룽', 'Noun'), ('몰', 'Verb'), ('케염', 'Noun'), ('지', 'Josa'), ('덜', 'Noun'), ('고루', 'Noun'), ('삭삭', 'Noun'), ('삐', 'Noun'), ('어', 'Suffix'), ('지', 'Josa'), ('국어', 'Noun'), ('떵', 'Noun'), ('허', 'Verb'), ('코', 'Noun'), ('어떵허코핵교', 'Noun'), ('가당', 'Noun'), ('오줌', 'Noun'), ('싸', 'VerbPrefix'), ('비', 'Verb'), ('언어', 'Noun'), ('떵', 'Noun'), ('허', 'Verb'), ('코', 'Noun'), ('어떵허코핵교', 'Noun'), ('가당', 'Noun'), ('오줌', 'Noun'), ('싸', 'VerbPrefix'), ('비', 'Verb'), ('언어', 'Noun'), ('떵', 'Noun'), ('허', 'Verb'), ('코핵교', 'Noun'), ('가당', 'Noun'), ('오줌', 'Noun'), ('싸', 'VerbPrefix'), ('비', 'Verb'), ('언어', 'Noun'), ('떵', 'Noun'), ('허', 'Verb'), ('코', 'Noun'), ('어떵', 'Noun'), ('허코촘당', 'Noun'), ('촘당', 'Noun'), ('촘', 'Noun'), ('지', 'Josa'), ('못행', 'Noun'), ('나와', 'Verb'), ('부런', 'Adjective'), ('게', 'Noun'), ('어', 'Suffix'), ('떵', 'Noun'), ('허', 'Verb'), ('코', 'Noun'), ('어떵', 'Noun'), ('허', 'Verb'), ('코비', 'Noun'), ('가', 'Josa'), ('왐시', 'Noun'), ('난', 'Josa'), ('비', 'Noun'), ('맞았덴', 'Noun'), ('골라게나', 'Verb'), ('오는', 'Verb'), ('걸', 'Noun'), ('어떵', 'Noun'), ('헐', 'Verb'), ('수', 'Noun'), ('이', 'Determiner'), ('시냐', 'Noun'), ('어', 'Suffix'), ('떵', 'Noun'), ('허', 'Verb'), ('코', 'Noun'), ('어떵', 'Noun'), ('허코겡', 'Noun'), ('이', 'Josa'), ('잡당', 'Verb'), ('맨질락허연어떵', 'Noun'), ('허', 'Verb'), ('코', 'Noun'), ('어떵', 'Noun'), ('허코겡', 'Noun'), ('이', 'Josa'), ('잡당', 'Verb'), ('맨질락허연어떵', 'Noun'), ('허코겡', 'Noun'), ('이', 'Josa'), ('잡당', 'Verb'), ('멘질', 'Verb'), ('락허연어떵', 'Noun'), ('허당', 'Noun'), ('어떵허당곱', 'Noun'), ('은', 'Josa'), ('겡', 'Noun'), ('이', 'Josa'), ('지', 'Modifier'), ('달리', 'Noun'), ('당', 'Suffix'), ('와락', 'Noun'), ('덮', 'Verb'), ('쳤주', 'Verb'), ('경해', 'Noun'), ('그네', 'Noun'), ('어떵', 'Noun'), ('되연완존', 'Noun'), ('뽈', 'Noun'), ('라라', 'Noun'), ('눈', 'Noun'), ('감았당', 'Verb'), ('터', 'Noun'), ('보', 'Noun'), ('난물', 'Noun'), ('쏘', 'Verb'), ('곱', 'Noun'), ('이', 'Josa'), ('나', 'Noun'), ('만', 'Josa'), ('빠졍', 'Noun'), ('이서', 'Noun'), ('라', 'Josa'), ('어떵', 'Noun'), ('허', 'Verb'), ('코', 'Noun'), ('어떵허코', 'Noun'), ('어떵허코', 'Noun'), ('어떵', 'Noun'), ('허', 'Verb'), ('코바', 'Noun'), ('당', 'Suffix'), ('바', 'Noun'), ('당', 'Suffix'), ('바', 'Noun'), ('당', 'Suffix'), ('바', 'Noun'), ('당', 'Suffix'), ('보름', 'Noun'), ('보름', 'Noun'), ('보름', 'Noun'), ('보름', 'Noun'), ('바', 'Noun'), ('당', 'Suffix'), ('바', 'Noun'), ('당', 'Suffix'), ('바', 'Noun'), ('당', 'Suffix'), ('바', 'Noun'), ('당', 'Suffix'), ('보름', 'Noun'), ('보름', 'Noun'), ('보름날', 'Noun'), ('막', 'Noun'), ('좋', 'Adjective'), ('앙', 'Adverb'), ('바당드레', 'Noun'), ('강', 'Noun'), ('모살', 'Noun'), ('밧듸', 'Noun'), ('맨발', 'Noun'), ('로', 'Josa'), ('걸엄쩌겡', 'Noun'), ('이', 'Josa'), ('호', 'Noun'), ('나', 'Josa'), ('나를', 'Verb'), ('뵈련', 'Verb'), ('게', 'Noun'), ('절', 'Noun'), ('지치는', 'Verb'), ('디', 'Noun'), ('로', 'Josa'), ('도람쩌어떵허코', 'Noun'), ('잡아', 'Verb'), ('보카', 'Noun'), ('잡당', 'Verb'), ('실수', 'Noun'), ('허민', 'Noun'), ('아야', 'Noun'), ('물릴건', 'Verb'), ('디바', 'Noun'), ('당', 'Suffix'), ('바', 'Noun'), ('당', 'Suffix'), ('바', 'Noun'), ('당', 'Suffix'), ('바', 'Noun'), ('당', 'Suffix'), ('보름', 'Noun'), ('보름', 'Noun'), ('보름', 'Noun'), ('보름', 'Noun'), ('바', 'Noun'), ('당', 'Suffix'), ('바', 'Noun'), ('당', 'Suffix'), ('제주', 'Noun'), ('바', 'Noun'), ('당', 'Suffix'), ('보름', 'Noun'), ('보름', 'Noun'), ('보름', 'Noun'), ('생', 'Noun'), ('이', 'Josa'), ('생', 'Noun'), ('이', 'Josa'), ('생', 'Noun'), ('이', 'Josa'), ('생', 'Noun'), ('이', 'Josa'), ('오름', 'Noun'), ('오름', 'Noun'), ('오름', 'Noun'), ('오름', 'Noun'), ('생', 'Noun'), ('이', 'Josa'), ('생', 'Noun'), ('이', 'Josa'), ('생', 'Noun'), ('이', 'Josa'), ('생', 'Noun'), ('이', 'Josa'), ('오름', 'Noun'), ('오름', 'Noun'), ('오름', 'Noun'), ('어', 'Suffix'), ('멍', 'Noun'), ('이영', 'Noun'), ('손', 'Noun'), ('꼭', 'Noun'), ('심', 'Noun'), ('엉', 'Exclamation'), ('용눈', 'Noun'), ('이', 'Josa'), ('오름', 'Noun'), ('올람쩌생', 'Noun'), ('이', 'Josa'), ('호', 'Noun'), ('나', 'Josa'), ('나를', 'Verb'), ('뵈련', 'Verb'), ('게', 'Noun'), ('짹짹', 'Noun'), ('짹짹', 'Noun'), ('소릴', 'Noun'), ('호염쩌어떵허코', 'Noun'), ('잡아', 'Verb'), ('보카', 'Noun'), ('아맹', 'Noun'), ('잡젠', 'Noun'), ('해도', 'Noun'), ('택', 'Noun'), ('도', 'Josa'), ('어실건디이녁', 'Noun'), ('가슴', 'Noun'), ('쏘', 'Verb'), ('곱', 'Noun'), ('엔', 'Josa'), ('고은', 'Adjective'), ('꽃덜', 'Noun'), ('이', 'Josa'), ('만발', 'Noun'), ('혼', 'Noun'), ('생', 'Noun'), ('이', 'Determiner'), ('라영', 'Noun'), ('골아도', 'Verb'), ('빙', 'Noun'), ('세기', 'Noun'), ('웃', 'Noun'), ('곡정', 'Noun'), ('골아도', 'Verb'), ('빙', 'Noun'), ('세기', 'Noun'), ('웃곡이녁', 'Noun'), ('가슴', 'Noun'), ('쏘', 'Verb'), ('곱', 'Noun'), ('엔', 'Josa'), ('황소', 'Noun'), ('혼', 'Noun'), ('마리', 'Noun'), ('들어', 'Verb'), ('앉은', 'Verb'), ('생', 'Noun'), ('이', 'Determiner'), ('라영', 'Noun'), ('골아도', 'Verb'), ('속', 'Modifier'), ('솜정', 'Noun'), ('골아도', 'Verb'), ('속', 'Modifier'), ('솜', 'Noun'), ('이', 'Determiner'), ('녁', 'Noun'), ('가슴', 'Noun'), ('쏘', 'Verb'), ('곱', 'Noun'), ('에', 'Josa'), ('들어가', 'Verb'), ('보젠', 'Noun'), ('욕심', 'Noun'), ('이영', 'Noun'), ('미움', 'Noun'), ('이영', 'Noun'), ('손', 'Noun'), ('불끈', 'Noun'), ('잡아', 'Verb'), ('둠서', 'Verb'), ('기웃', 'Noun'), ('기웃', 'Noun'), ('거렴', 'Noun'), ('신디', 'Verb'), ('꿀벌', 'Noun'), ('이영', 'Noun'), ('일', 'Modifier'), ('벌이', 'Noun'), ('영', 'Modifier'), ('날', 'Noun'), ('아', 'Josa'), ('댕기', 'Noun'), ('는걸', 'Noun'), ('보', 'Noun'), ('난', 'Josa'), ('이', 'Determiner'), ('녁', 'Noun'), ('가슴', 'Noun'), ('쏘', 'Verb'), ('곱', 'Noun'), ('엔', 'Josa'), ('송이', 'Noun'), ('꿀', 'Noun'), ('보다도', 'Josa'), ('더', 'Noun'), ('단', 'Modifier'), ('무언가', 'Noun'), ('로', 'Josa'), ('솜', 'Noun'), ('빡혼', 'Noun'), ('생', 'Noun'), ('이라', 'Josa'), ('휘', 'Noun'), ('이', 'Suffix'), ('이', 'Josa'), ('보름', 'Noun'), ('분다', 'Noun'), ('보름', 'Noun'), ('불어', 'Noun'), ('저', 'Noun'), ('바', 'Noun'), ('당', 'Suffix'), ('이', 'Determiner'), ('저', 'Noun'), ('보름', 'Noun'), ('이', 'Determiner'), ('손짓', 'Noun'), ('햄쩌말', 'Noun'), ('골암쩌테왁', 'Noun'), ('메영', 'Noun'), ('골갱', 'Noun'), ('이', 'Josa'), ('들', 'Verb'), ('렁바', 'Noun'), ('당', 'Suffix'), ('이영', 'Noun'), ('춤', 'Noun'), ('을', 'Josa'), ('추', 'Noun'), ('엄쩌', 'Noun'), ('우리', 'Noun'), ('어멍', 'Noun'), ('우리', 'Noun'), ('바', 'Noun'), ('당혼', 'Noun'), ('몸', 'Noun'), ('되', 'Verb'), ('엉', 'Exclamation'), ('춤', 'Noun'), ('을', 'Josa'), ('추엄쩌바당', 'Noun'), ('아', 'Josa'), ('보름', 'Noun'), ('아', 'Josa'), ('눈물', 'Noun'), ('남쩌', 'Noun'), ('눈물', 'Noun'), ('남서', 'Noun'), ('우리', 'Noun'), ('어멍', 'Noun'), ('지켜도', 'Verb'), ('라이어', 'Noun'), ('도', 'Josa'), ('이어도', 'Noun'), ('사나이', 'Noun'), ('어도', 'Noun'), ('이어도', 'Noun'), ('사나이', 'Noun'), ('어도', 'Noun'), ('이어도', 'Noun'), ('사나이', 'Noun'), ('어도', 'Noun'), ('이어도', 'Noun'), ('사나', 'Noun'), ('보름', 'Noun'), ('은', 'Josa'), ('팡팡', 'Adverb'), ('불곡덜', 'Noun'), ('요', 'Modifier'), ('문', 'Noun'), ('조', 'Modifier'), ('코', 'Noun'), ('고리', 'Noun'), ('이레', 'Noun'), ('배령', 'Noun'), ('인사', 'Noun'), ('허', 'Verb'), ('곡', 'Noun'), ('저', 'Determiner'), ('레', 'Noun'), ('배령', 'Noun'), ('인사', 'Noun'), ('허', 'Verb'), ('곡낭', 'Noun'), ('가', 'Josa'), ('쟁', 'Noun'), ('이', 'Josa'), ('덜은', 'Verb'), ('서로', 'Noun'), ('심벡허멍', 'Noun'), ('좁아', 'Adjective'), ('댕기', 'Noun'), ('곡절', 'Noun'), ('지치는', 'Verb'), ('요', 'Modifier'), ('메기', 'Noun'), ('바', 'Noun'), ('당', 'Suffix'), ('엔', 'Josa'), ('빈', 'Noun'), ('구젱기', 'Noun'), ('껍데기', 'Noun'), ('둥글어', 'Adjective'), ('댕기', 'Noun'), ('곡', 'Noun'), ('담우이', 'Verb'), ('걸쳐진', 'Verb'), ('감', 'Noun'), ('저', 'Determiner'), ('줄', 'Noun'), ('에', 'Josa'), ('동글동글', 'Noun'), ('도라진', 'Verb'), ('감', 'Noun'), ('저동', 'Noun'), ('가리이래', 'Verb'), ('도라', 'Verb'), ('앉', 'Verb'), ('작', 'Noun'), ('저래', 'Adjective'), ('도라', 'Verb'), ('앉', 'Verb'), ('작워', 'Adjective'), ('어허허', 'Adverb'), ('보름', 'Noun'), ('보름', 'Noun'), ('보름', 'Noun'), ('부는', 'Verb'), ('제주', 'Noun'), ('의', 'Josa'), ('하늘아', 'Noun'), ('먹', 'Verb'), ('쿨낭', 'Noun'), ('꼭대기', 'Noun'), ('에', 'Josa'), ('앚', 'Noun'), ('인', 'Josa'), ('먹', 'Verb'), ('쿨', 'Noun'), ('생', 'Noun'), ('이', 'Josa'), ('안', 'Noun'), ('털어져', 'Verb'), ('보', 'Noun'), ('잰', 'Verb'), ('낭가쟁', 'Noun'), ('이', 'Josa'), ('꽉심', 'Noun'), ('엉', 'Exclamation'), ('있', 'Adjective'), ('곡조', 'Noun'), ('밭', 'Noun'), ('볼리', 'Noun'), ('는', 'Josa'), ('몽생', 'Noun'), ('이', 'Josa'), ('조름에', 'Verb'), ('일어나는', 'Verb'), ('흙구듬', 'Noun'), ('은', 'Josa'), ('노미', 'Noun'), ('밧더레', 'Noun'), ('넘어가', 'Verb'), ('곡동', 'Noun'), ('네', 'Josa'), ('큰', 'Verb'), ('폭낭', 'Noun'), ('아래', 'Noun'), ('검불', 'Noun'), ('령', 'Noun'), ('가', 'Verb'), ('젠', 'Noun'), ('허민', 'Noun'), ('불어오는', 'Verb'), ('저', 'Noun'), ('보름', 'Noun'), ('은', 'Josa'), ('무사', 'Noun'), ('영', 'Noun'), ('건', 'Noun'), ('드러운', 'Adjective'), ('지기', 'Noun'), ('여', 'Josa'), ('혼저', 'Noun'), ('가라', 'Noun'), ('기여', 'Noun'), ('혼저', 'Noun'), ('가라', 'Noun'), ('보름', 'Noun'), ('아', 'Josa'), ('해녀', 'Noun'), ('삼', 'Noun'), ('춘', 'Verb'), ('또시', 'Noun'), ('또시', 'Noun'), ('물', 'Noun'), ('에', 'Josa'), ('감쩌테왁', 'Noun'), ('메영', 'Noun'), ('골갱', 'Noun'), ('이', 'Josa'), ('들렁', 'Noun'), ('좀', 'Noun'), ('수복', 'Noun'), ('입', 'Noun'), ('엉', 'Exclamation'), ('뒤뚱뒤뚱절이치', 'Noun'), ('는', 'Josa'), ('바당더레', 'Noun'), ('강', 'Noun'), ('보', 'Noun'), ('난테', 'Noun'), ('왁', 'Adverb'), ('덜', 'Noun'), ('이', 'Josa'), ('동동', 'Noun'), ('동동', 'Noun'), ('춤', 'Noun'), ('을', 'Josa'), ('췀쩌', 'Noun'), ('해녀', 'Noun'), ('삼', 'Noun'), ('춘', 'Verb'), ('덜', 'Noun'), ('또시', 'Noun'), ('물', 'Noun'), ('에', 'Josa'), ('들었', 'Verb'), ('쩌숨비', 'Noun'), ('소리', 'Noun'), ('쏟아가', 'Verb'), ('멍', 'Noun'), ('또', 'Noun'), ('시들', 'Verb'), ('멘', 'Verb'), ('궤기추', 'Noun'), ('룩', 'Suffix'), ('홀랑', 'Noun'), ('홀랑', 'Noun'), ('꼬릴', 'Noun'), ('췀쩌나', 'Noun'), ('도', 'Josa'), ('확', 'Noun'), ('벗', 'Noun'), ('엉', 'Exclamation'), ('물', 'Noun'), ('쏘', 'Verb'), ('곱', 'Noun'), ('이', 'Josa'), ('들어', 'Verb'), ('가보', 'Noun'), ('카테', 'Verb'), ('왁', 'Adverb'), ('들렁', 'Noun'), ('이짝드레', 'Noun'), ('온거', 'Verb'), ('보', 'Noun'), ('난', 'Josa'), ('성게', 'Noun'), ('도', 'Josa'), ('지', 'Verb'), ('깍', 'Adverb'), ('구', 'Modifier'), ('젱', 'Noun'), ('기', 'Modifier'), ('영', 'Noun'), ('전복', 'Noun'), ('이영아', 'Noun'), ('고', 'Josa'), ('이건', 'Noun'), ('뭐라', 'Verb'), ('물꾸럭', 'Noun'), ('도', 'Josa'), ('잡', 'Noun'), ('앙', 'Adverb'), ('와', 'Verb'), ('신게아고', 'Verb'), ('삼촌', 'Noun'), ('물꾸럭', 'Noun'), ('나', 'Noun'), ('얼', 'Noun'), ('마마', 'Noun'), ('씸', 'Noun'), ('아', 'Josa'), ('고', 'Noun'), ('조케', 'Noun'), ('야', 'Josa'), ('느', 'Noun'), ('랑', 'Josa'), ('기', 'Noun'), ('냥', 'Josa'), ('거', 'Noun'), ('정가', 'Noun'), ('불라', 'Verb'), ('에고', 'Noun'), ('무신', 'Noun'), ('소리', 'Noun'), ('꽈', 'Noun'), ('게민', 'Adverb'), ('조냑에', 'Noun'), ('랑', 'Josa'), ('당근', 'Noun'), ('파당', 'Noun'), ('거', 'Noun'), ('정안', 'Noun'), ('내', 'Determiner'), ('주마', 'Noun'), ('씀', 'Verb'), ('물빡', 'Noun'), ('으로', 'Josa'), ('물', 'Noun'), ('먹으', 'Verb'), ('민', 'Noun'), ('시', 'Modifier'), ('염', 'Noun'), ('안', 'VerbPrefix'), ('돋', 'Verb'), ('나물', 'Noun'), ('애기', 'Noun'), ('옷', 'Noun'), ('을', 'Josa'), ('막', 'Noun'), ('개', 'Suffix'), ('로', 'Josa'), ('뽈민', 'Noun'), ('애기', 'Noun'), ('놀랜다', 'Adjective'), ('밤', 'Noun'), ('에', 'Josa'), ('얼', 'Noun'), ('래', 'Josa'), ('기질', 'Noun'), ('호민', 'Noun'), ('모', 'Modifier'), ('솜', 'Noun'), ('탄', 'Verb'), ('다비', 'Noun'), ('는', 'Josa'), ('놈안', 'Verb'), ('틴', 'Noun'), ('지', 'Modifier'), ('여사', 'Noun'), ('혼', 'Noun'), ('다비', 'Noun'), ('온', 'Modifier'), ('날', 'Noun'), ('쇠총', 'Noun'), ('지', 'Josa'), ('이레', 'Noun'), ('착', 'Noun'), ('저레', 'Noun'), ('착', 'Noun'), ('혼', 'Noun'), ('다빈', 'Noun'), ('고래', 'Noun'), ('질', 'Noun'), ('호민', 'Noun'), ('숭년', 'Noun'), ('든다가', 'Verb'), ('난한', 'Adjective'), ('사람', 'Noun'), ('못', 'VerbPrefix'), ('할', 'Verb'), ('일', 'Noun'), ('읏', 'Noun'), ('나', 'Josa'), ('까', 'Verb'), ('메기', 'Noun'), ('까옥', 'Noun'), ('호민', 'Noun'), ('촘새', 'Noun'), ('도', 'Josa'), ('조조조', 'Noun'), ('혼다', 'Noun'), ('까', 'Verb'), ('메기', 'Noun'), ('똥', 'Noun'), ('케', 'Noun'), ('우리', 'Noun'), ('듯', 'Noun'), ('까', 'Verb'), ('메기', 'Noun'), ('모른', 'Verb'), ('식게까', 'Verb'), ('메기', 'Noun'), ('알라', 'Noun'), ('구리', 'Noun'), ('털어질', 'Verb'), ('소리', 'Noun'), ('가시어', 'Verb'), ('멍', 'Noun'), ('눈', 'Noun'), ('멜를', 'Verb'), ('사위', 'Noun'), ('가시어', 'Verb'), ('멍', 'Noun'), ('장', 'Noun'), ('읏', 'Noun'), ('인', 'Josa'), ('깐에', 'Verb'), ('사위', 'Noun'), ('국', 'Noun'), ('실픈', 'Noun'), ('깐에', 'Verb'), ('각시', 'Noun'), ('아꼬', 'Noun'), ('우민', 'Noun'), ('처갯', 'Noun'), ('칩', 'Noun'), ('몰', 'Verb'), ('팡', 'Adverb'), ('돌', 'Noun'), ('에', 'Josa'), ('절', 'Noun'), ('혼다', 'Noun'), ('각시', 'Noun'), ('읏', 'Noun'), ('인', 'Josa'), ('건', 'Noun'), ('안', 'Noun'), ('섭섭해도', 'Adjective'), ('남통', 'Noun'), ('머리', 'Noun'), ('잃른', 'Noun'), ('건', 'Noun'), ('섭섭호', 'Noun'), ('다', 'Josa'), ('각시', 'Noun'), ('읏', 'Noun'), ('인', 'Josa'), ('처갯칩', 'Noun'), ('가나', 'Noun'), ('마나', 'Noun'), ('갈치', 'Noun'), ('가', 'Josa'), ('갈치', 'Noun'), ('꼴랭', 'Noun'), ('이', 'Josa'), ('그', 'Determiner'), ('차', 'Noun'), ('먹나', 'Verb'), ('갭인', 'Verb'), ('년', 'Noun'), ('숭년', 'Noun'), ('에도', 'Josa'), ('먹당', 'Verb'), ('남은', 'Verb'), ('게', 'Noun'), ('물이', 'Noun'), ('여', 'Josa'), ('갓', 'Noun'), ('쟁이', 'Suffix'), ('헌', 'Noun'), ('갓', 'Noun'), ('씨곡', 'Noun'), ('심방', 'Noun'), ('놈', 'Noun'), ('빌', 'Verb'), ('엉', 'Exclamation'), ('굿', 'Noun'), ('허', 'Verb'), ('곡', 'Noun'), ('강생이', 'Noun'), ('똥', 'Noun'), ('은', 'Josa'), ('똥', 'Noun'), ('아니가', 'Adjective'), ('개', 'Noun'), ('가', 'Josa'), ('똥', 'Noun'), ('을', 'Josa'), ('촘주개', 'Noun'), ('도', 'Josa'), ('비치락', 'Noun'), ('으로', 'Josa'), ('안', 'Noun'), ('또', 'Noun'), ('린다', 'Noun'), ('개', 'Suffix'), ('똥', 'Noun'), ('을', 'Josa'), ('모', 'Modifier'), ('소', 'Modifier'), ('왕', 'Noun'), ('피', 'Noun'), ('호', 'Noun'), ('느냐', 'Verb'), ('더러', 'Noun'), ('웡', 'Noun'), ('피', 'Noun'), ('호주', 'Noun'), ('개', 'Suffix'), ('똥', 'Noun'), ('도', 'Josa'), ('약', 'Noun'), ('에', 'Josa'), ('쓰', 'Verb'), ('젠', 'Noun'), ('허민', 'Noun'), ('귀', 'Modifier'), ('혼다', 'Noun'), ('건지', 'Verb'), ('먹은', 'Verb'), ('놈', 'Noun'), ('이나', 'Josa'), ('국물', 'Noun'), ('먹은', 'Verb'), ('놈', 'Noun'), ('이나', 'Josa'), ('검은', 'Adjective'), ('독도', 'Noun'), ('흰', 'Adjective'), ('독새', 'Noun'), ('기', 'Noun'), ('난다것', 'Verb'), ('구숭', 'Noun'), ('호로', 'Noun'), ('조식', 'Noun'), ('글', 'Noun'), ('구숭', 'Noun'), ('양반', 'Noun'), ('조식', 'Noun'), ('것', 'Noun'), ('멋', 'Noun'), ('을', 'Josa'), ('땐', 'Noun'), ('개도', 'Noun'), ('안', 'Noun'), ('또', 'Noun'), ('린다', 'Noun'), ('것', 'Noun'), ('박접', 'Noun'), ('허면', 'Verb'), ('죄', 'Noun'), ('짓', 'VerbPrefix'), ('나게', 'Verb'), ('드레', 'Noun'), ('기도', 'Noun'), ('집', 'Noun'), ('이', 'Josa'), ('싯나곤', 'Noun'), ('사름은', 'Verb'), ('맥', 'Noun'), ('을', 'Josa'), ('씌어', 'Noun'), ('도', 'Josa'), ('곱나곤', 'Adjective'), ('년', 'Noun'), ('잡아', 'Verb'), ('들이렌', 'Noun'), ('허난', 'Noun'), ('솔친년', 'Noun'), ('잡아', 'Verb'), ('들인다', 'Verb'), ('곧은', 'Adjective'), ('낭', 'Noun'), ('은', 'Josa'), ('가운', 'Noun'), ('디', 'Noun'), ('산다', 'Noun'), ('골체', 'Noun'), ('부지런', 'Noun'), ('은', 'Josa'), ('하늘', 'Noun'), ('도', 'Josa'), ('못', 'VerbPrefix'), ('막나', 'Verb'), ('공', 'Noun'), ('께', 'Josa'), ('엥', 'Exclamation'), ('허민', 'Noun'), ('눈', 'Noun'), ('도', 'Josa'), ('뻘겅', 'Noun'), ('코', 'Noun'), ('도', 'Josa'), ('벌겅공껀', 'Noun'), ('씨', 'Noun'), ('여', 'Josa'), ('도', 'Noun'), ('돈', 'Noun'), ('다공', 'Noun'), ('부', 'Noun'), ('허렌', 'Noun'), ('허난', 'Noun'), ('개', 'Noun'), ('잡는걸', 'Verb'), ('뱁나고', 'Verb'), ('튼', 'Verb'), ('품', 'Noun'), ('이민', 'Noun'), ('홀', 'Noun'), ('어', 'Suffix'), ('멍', 'Noun'), ('칩', 'Noun'), ('머슴', 'Noun'), ('산다', 'Noun'), ('구', 'Modifier'), ('젱기', 'Noun'), ('똥누레', 'Noun'), ('가불', 'Noun'), ('민', 'Noun'), ('게드레기', 'Noun'), ('가', 'Josa'), ('기어', 'Noun'), ('든다', 'Verb'), ('국', 'Noun'), ('하영', 'Adverb'), ('먹으', 'Verb'), ('민', 'Noun'), ('가시어', 'Verb'), ('멍', 'Noun'), ('눈', 'Noun'), ('멜라진다', 'Verb'), ('굼벵이', 'Noun'), ('도', 'Josa'), ('꿈불', 'Noun'), ('재주', 'Noun'), ('있나', 'Adjective'), ('귀', 'Modifier'), ('막', 'Noun'), ('앙', 'Adverb'), ('삼', 'Modifier'), ('년', 'Noun'), ('눈', 'Noun'), ('어둑엉', 'Noun'), ('삼', 'Modifier'), ('년', 'Noun'), ('말', 'Noun'), ('몰랑', 'Verb'), ('삼', 'Modifier'), ('년', 'Noun'), ('살', 'Noun'), ('암', 'Modifier'), ('서사', 'Noun'), ('가렝', 'Noun'), ('오렝', 'Noun'), ('말', 'Noun'), ('읏', 'Noun'), ('나', 'Josa'), ('귀신', 'Noun'), ('대접', 'Noun'), ('잘', 'Verb'), ('호영', 'Noun'), ('그른디', 'Noun'), ('읏', 'Noun'), ('나', 'Josa'), ('귀', 'Modifier'), ('소문', 'Noun'), ('말', 'Noun'), ('앙', 'Adverb'), ('눈', 'Noun'), ('소문', 'Noun'), ('호', 'Noun'), ('라', 'Josa'), ('귀신', 'Noun'), ('도', 'Josa'), ('빌', 'Verb'), ('민', 'Noun'), ('듣나', 'Verb'), ('괸', 'Noun'), ('당', 'Suffix'), ('은', 'Josa'), ('옷', 'Noun'), ('우이', 'Noun'), ('보름', 'Noun'), ('그', 'Noun'), ('날', 'Noun'), ('액', 'Noun'), ('은', 'Josa'), ('망데기', 'Noun'), ('안', 'Noun'), ('에', 'Josa'), ('아', 'Exclamation'), ('자도', 'Noun'), ('깬', 'Verb'), ('다그', 'Noun'), ('짓말도', 'Verb'), ('외삼', 'Noun'), ('춘', 'Verb'), ('보다', 'Verb'), ('낫', 'Noun'), ('나글', 'Noun'), ('못', 'VerbPrefix'), ('허는', 'Verb'), ('놈', 'Noun'), ('붓', 'Noun'), ('골', 'Noun'), ('린다', 'Noun'), ('글', 'Noun'), ('배우', 'Noun'), ('렌', 'Noun'), ('호', 'Noun'), ('난', 'Josa'), ('홀', 'Noun'), ('어', 'Suffix'), ('멍칩', 'Noun'), ('강', 'Noun'), ('생일', 'Noun'), ('또', 'Noun'), ('린다', 'Noun'), ('기도', 'Noun'), ('못호', 'Noun'), ('는', 'Josa'), ('게', 'Noun'), ('놀젱', 'Noun'), ('혼다', 'Noun'), ('깅', 'Noun'), ('이광', 'Noun'), ('보말도', 'Verb'), ('지집', 'Verb'), ('싯', 'Noun'), ('나기', 'Noun'), ('시린', 'Adjective'), ('도', 'Noun'), ('새기', 'Verb'), ('도', 'Noun'), ('라멘', 'Noun'), ('도', 'Noun'), ('새기', 'Verb'), ('타령', 'Noun'), ('혼다', 'Noun'), ('골체', 'Noun'), ('부지런', 'Noun'), ('은', 'Josa'), ('하늘', 'Noun'), ('도', 'Josa'), ('못', 'VerbPrefix'), ('막나고', 'Verb'), ('튼', 'Verb'), ('품', 'Noun'), ('이민', 'Noun'), ('홀', 'Noun'), ('어멍칩', 'Noun'), ('머슴', 'Noun'), ('산다', 'Noun'), ('고', 'Josa'), ('늘', 'Noun'), ('이', 'Josa'), ('먹', 'Verb'), ('곡', 'Noun'), ('고', 'Modifier'), ('늘', 'Noun'), ('이', 'Josa'), ('쓰라', 'Verb'), ('관덕정', 'Noun'), ('이', 'Josa'), ('설렁탕', 'Noun'), ('도', 'Josa'), ('먹어난', 'Verb'), ('놈', 'Noun'), ('이', 'Josa'), ('먹나끅', 'Noun'), ('걷', 'Verb'), ('으레', 'Noun'), ('간', 'Noun'), ('놈', 'Noun'), ('이', 'Josa'), ('정당', 'Noun'), ('벌립', 'Verb'), ('망', 'Noun'), ('돌른', 'Verb'), ('다나', 'Noun'), ('간', 'Suffix'), ('놈', 'Noun'), ('찍신', 'Verb'), ('셔', 'Noun'), ('도', 'Josa'), ('자는', 'Verb'), ('놈', 'Noun'), ('찍신', 'Verb'), ('읏', 'Noun'), ('나나', 'Noun'), ('댕기', 'Noun'), ('는', 'Josa'), ('개', 'Noun'), ('가', 'Josa'), ('꽝', 'Noun'), ('물어', 'Noun'), ('온', 'Modifier'), ('다나', 'Noun'), ('땅', 'Noun'), ('까', 'Verb'), ('메긴', 'Verb'), ('검어도', 'Adjective'), ('아깝나나서', 'Adjective'), ('화목', 'Noun'), ('은', 'Josa'), ('남조', 'Noun'), ('가', 'Josa'), ('허', 'Verb'), ('곡', 'Noun'), ('들어', 'Verb'), ('화목', 'Noun'), ('은', 'Josa'), ('여조', 'Noun'), ('가', 'Josa'), ('혼다', 'Noun'), ('나', 'Josa'), ('한', 'Verb'), ('아재비', 'Noun'), ('지', 'Modifier'), ('라남', 'Noun'), ('조', 'Suffix'), ('가', 'Josa'), ('디딘', 'Verb'), ('풀', 'Noun'), ('은', 'Josa'), ('유', 'Noun'), ('울', 'Modifier'), ('곡', 'Noun'), ('여조', 'Noun'), ('가', 'Josa'), ('디딘', 'Verb'), ('풀', 'Noun'), ('은', 'Josa'), ('안', 'Noun'), ('유운', 'Noun'), ('다낭', 'Noun'), ('도', 'Josa'), ('늙', 'Verb'), ('엉', 'Exclamation'), ('고목', 'Noun'), ('되', 'Verb'), ('민', 'Noun'), ('놀단', 'Verb'), ('생', 'Noun'), ('이', 'Suffix'), ('도', 'Josa'), ('아니', 'Adjective'), ('온', 'Modifier'), ('다낭', 'Noun'), ('이', 'Josa'), ('좀', 'Noun'), ('먹주', 'Verb'), ('세월', 'Noun'), ('좀', 'Noun'), ('안', 'VerbPrefix'), ('먹나나', 'Verb'), ('똘', 'Noun'), ('이', 'Josa'), ('고', 'Noun'), ('와', 'Josa'), ('사', 'Noun'), ('사윌', 'Verb'), ('골른다', 'Verb'), ('너', 'Noun'), ('미', 'Adjective'), ('골리', 'Verb'), ('당', 'Noun'), ('눈', 'Noun'), ('까진', 'Josa'), ('사윌', 'Verb'), ('골', 'Noun'), ('린다', 'Noun'), ('노름', 'Noun'), ('쟁이', 'Suffix'), ('뒤', 'Noun'), ('랑', 'Josa'), ('대곡', 'Noun'), ('먹는', 'Verb'), ('놈', 'Noun'), ('뒤', 'Noun'), ('랑', 'Josa'), ('대지말라', 'Verb'), ('노름', 'Noun'), ('은', 'Josa'), ('신', 'Noun'), ('신', 'Noun'), ('을', 'Josa'), ('때', 'Noun'), ('봐사', 'Verb'), ('안다', 'Verb'), ('노름', 'Noun'), ('쟁', 'Noun'), ('인', 'Josa'), ('망호', 'Noun'), ('여', 'Josa'), ('도', 'Noun'), ('흥', 'Noun'), ('호진', 'Noun'), ('못', 'Noun'), ('혼다', 'Noun'), ('노리', 'Noun'), ('또린', 'Noun'), ('막땡', 'Noun'), ('이', 'Josa'), ('3년', 'Number'), ('우려', 'Noun'), ('먹', 'Verb'), ('나노리', 'Noun'), ('궤기', 'Noun'), ('혼점', 'Noun'), ('먹', 'Verb'), ('젠', 'Noun'), ('호당', 'Noun'), ('지', 'Verb'), ('궤기', 'Noun'), ('열', 'Noun'), ('점', 'Noun'), ('일른다', 'Verb'), ('노루', 'Noun'), ('고기', 'Noun'), ('한', 'Verb'), ('점', 'Noun'), ('얻어', 'Verb'), ('먹으려다가', 'Verb'), ('자기', 'Noun'), ('의', 'Josa'), ('고기', 'Noun'), ('열점', 'Noun'), ('을', 'Josa'), ('잃은다', 'Verb'), ('놈', 'Noun'), ('곱진', 'Adjective'), ('것', 'Noun'), ('쉐도', 'Noun'), ('못', 'Noun'), ('찾나', 'Verb'), ('놈광', 'Noun'), ('심', 'Noun'), ('백', 'Suffix'), ('은', 'Josa'), ('호곡', 'Noun'), ('게심', 'Noun'), ('이랑', 'Josa'), ('허지', 'Verb'), ('말라', 'Adjective'), ('놈', 'Noun'), ('싼', 'Verb'), ('훼', 'Noun'), ('에', 'Josa'), ('깅', 'Noun'), ('이', 'Josa'), ('잡기', 'Noun'), ('놈', 'Noun'), ('이', 'Josa'), ('눈', 'Noun'), ('에', 'Josa'), ('피', 'Noun'), ('내우', 'Verb'), ('젠', 'Noun'), ('허민', 'Noun'), ('이녁', 'Noun'), ('눈', 'Noun'), ('엔', 'Josa'), ('고름', 'Noun'), ('나사', 'Noun'), ('혼다', 'Noun'), ('놈', 'Noun'), ('이', 'Josa'), ('쉐', 'Noun'), ('들', 'Verb'), ('럭키', 'Noun'), ('는', 'Josa'), ('건', 'Noun'), ('보기', 'Noun'), ('좋나', 'Adjective'), ('놈', 'Noun'), ('이', 'Josa'), ('숭', 'Noun'), ('털민', 'Noun'), ('이녁', 'Noun'), ('숭', 'Noun'), ('된다', 'Verb'), ('놈', 'Noun'), ('이', 'Josa'), ('집광', 'Noun'), ('관장', 'Noun'), ('살인', 'Noun'), ('궤던', 'Noun'), ('밥', 'Noun'), ('도', 'Josa'), ('내', 'Determiner'), ('부러', 'Noun'), ('동', 'Modifier'), ('돋나놋', 'Noun'), ('시', 'Modifier'), ('칠', 'Noun'), ('때', 'Noun'), ('에', 'Josa'), ('물', 'Noun'), ('하영', 'Adverb'), ('쓰', 'Verb'), ('민', 'Noun'), ('죽', 'Noun'), ('엉', 'Exclamation'), ('가', 'Verb'), ('민', 'Noun'), ('다', 'Adverb'), ('먹어사', 'Verb'), ('혼다', 'Noun'), ('눈', 'Noun'), ('까진', 'Josa'), ('똘', 'Noun'), ('고졍', 'Noun'), ('사윌', 'Verb'), ('고른다', 'Verb'), ('눈', 'Noun'), ('낭', 'Noun'), ('에', 'Josa'), ('요름', 'Noun'), ('요', 'Noun'), ('는냐', 'Verb'), ('눈', 'Noun'), ('썹에', 'Verb'), ('불', 'Noun'), ('붙어도', 'Verb'), ('끌', 'Noun'), ('조를이', 'Verb'), ('읏나늘근', 'Noun'), ('쉐', 'Noun'), ('콩', 'Noun'), ('주', 'Noun'), ('엉', 'Exclamation'), ('말덴', 'Noun'), ('호', 'Noun'), ('느냐', 'Verb'), ('늑', 'Noun'), ('신네가', 'Verb'), ('젊은', 'Adjective'), ('첩', 'Noun'), ('호민', 'Noun'), ('불', 'Noun'), ('본', 'Verb'), ('나비', 'Noun'), ('놉', 'Noun'), ('뜨듯', 'Verb'), ('혼다', 'Noun'), ('니', 'Josa'), ('아픈', 'Adjective'), ('부릅', 'Verb'), ('씨', 'Noun'), ('랑', 'Josa'), ('허', 'Verb'), ('곡', 'Noun'), ('눈', 'Noun'), ('아픈', 'Adjective'), ('부릅', 'Verb'), ('씨', 'Noun'), ('랑', 'Josa'), ('말라', 'Adjective'), ('다심', 'Verb'), ('아', 'Exclamation'), ('덜은', 'Verb'), ('콩', 'Noun'), ('죽', 'Noun'), ('멕', 'Noun'), ('이곡', 'Noun'), ('원', 'Noun'), ('아', 'Exclamation'), ('덜은', 'Verb'), ('폿', 'Noun'), ('죽', 'Noun'), ('멕', 'Noun'), ('인', 'Suffix'), ('다', 'Josa'), ('다심아', 'Verb'), ('방', 'Noun'), ('궤기', 'Noun'), ('써는', 'Verb'), ('디', 'Noun'), ('랑', 'Josa'), ('가고', 'Verb'), ('원아', 'Noun'), ('방', 'Noun'), ('낭', 'Noun'), ('깨는', 'Verb'), ('디', 'Noun'), ('랑', 'Josa'), ('얼씬', 'Noun'), ('을', 'Josa'), ('말라', 'Adjective'), ('대천', 'Noun'), ('바', 'Noun'), ('당', 'Suffix'), ('도', 'Josa'), ('건너', 'Noun'), ('봐사', 'Verb'), ('안다', 'Verb'), ('대정', 'Noun'), ('몽생', 'Noun'), ('이', 'Josa'), ('요망', 'Noun'), ('진다', 'Verb'), ('덴디', 'Noun'), ('꺼럭', 'Noun'), ('아니', 'Adjective'), ('돗', 'Noun'), ('나도', 'Verb'), ('터질', 'Verb'), ('밭디', 'Noun'), ('모', 'Modifier'), ('쉬', 'Noun'), ('들듯', 'Verb'), ('도둑', 'Noun'), ('놈광', 'Noun'), ('샛뭇', 'Noun'), ('은', 'Josa'), ('묶', 'Verb'), ('엉', 'Exclamation'), ('세', 'Noun'), ('와', 'Josa'), ('노민', 'Noun'), ('똑', 'Noun'), ('닮나', 'Verb'), ('제주도', 'Noun'), ('사투리', 'Noun'), ('로', 'Josa'), ('말', 'Noun'), ('호', 'Noun'), ('난', 'Josa'), ('무신거', 'Verb'), ('랜', 'Noun'), ('고람', 'Noun'), ('신지', 'Noun'), ('몰르', 'Verb'), ('쿠', 'Noun'), ('게게', 'Noun'), ('메', 'Noun'), ('마', 'Noun'), ('씀', 'Verb'), ('귀', 'Noun'), ('눈', 'Noun'), ('이', 'Josa'), ('왁왁', 'Adverb'), ('하우다', 'Noun'), ('경해', 'Noun'), ('도', 'Josa'), ('고만히', 'Adjective'), ('생각', 'Noun'), ('호멍', 'Noun'), ('들으', 'Verb'), ('민', 'Noun'), ('호', 'Noun'), ('끔', 'Verb'), ('씩', 'Adverb'), ('알', 'Noun'), ('아', 'Josa'), ('집니다', 'Verb'), ('오랜만', 'Adverb'), ('이우', 'Noun'), ('다', 'Josa'), ('몸', 'Noun'), ('은', 'Josa'), ('펜안', 'Noun'), ('하우', 'Adverb'), ('꽈', 'Noun'), ('얼굴', 'Noun'), ('이', 'Josa'), ('펜', 'Noun'), ('안해', 'Noun'), ('보', 'Noun'), ('염수', 'Noun'), ('다', 'Josa'), ('혼', 'Noun'), ('저', 'Determiner'), ('옵', 'Noun'), ('서예', 'Noun'), ('제주도', 'Noun'), ('오', 'Noun'), ('잰하난', 'Verb'), ('폭삭', 'Noun'), ('속', 'Noun'), ('아', 'Josa'), ('수다', 'Noun'), ('제주도', 'Noun'), ('오난', 'Noun'), ('촘말', 'Noun'), ('로', 'Josa'), ('좋수', 'Adjective'), ('다산', 'Noun'), ('이영', 'Noun'), ('바', 'Noun'), ('당', 'Modifier'), ('이영', 'Noun'), ('몬딱', 'Noun'), ('좋', 'Adjective'), ('은', 'Noun'), ('게', 'Josa'), ('마', 'Noun'), ('씀', 'Verb'), ('많이', 'Modifier'), ('많이', 'Modifier'), ('봥으', 'Noun'), ('네', 'Josa'), ('서울', 'Noun'), ('에', 'Josa'), ('갈', 'Verb'), ('때', 'Noun'), ('랑', 'Josa'), ('하영', 'Adverb'), ('담', 'Noun'), ('앙', 'Adverb'), ('갑', 'Noun'), ('서게', 'Verb'), ('메', 'Noun'), ('양경', 'Noun'), ('해', 'Noun'), ('시민', 'Noun'), ('얼마나', 'Noun'), ('좋', 'Adjective'), ('코', 'Noun'), ('마씀안트레', 'Noun'), ('들어', 'Verb'), ('왕', 'Noun'), ('밥', 'Noun'), ('먹', 'Verb'), ('엉', 'Exclamation'), ('갑', 'Noun'), ('서', 'Josa'), ('제주도', 'Noun'), ('와시난', 'Verb'), ('전복죽', 'Noun'), ('드셔', 'Verb'), ('봥', 'Noun'), ('가', 'Verb'), ('살꺼', 'Verb'), ('아니', 'Adjective'), ('꽝혼', 'Noun'), ('저', 'Determiner'), ('왕', 'Noun'), ('드셩', 'Noun'), ('갑', 'Noun'), ('서', 'Josa'), ('맨', 'Noun'), ('도롱', 'Noun'), ('했수과', 'Verb'), ('뜻뜻혼', 'Noun'), ('게', 'Noun'), ('먹기', 'Noun'), ('똑', 'Noun'), ('좋았수다', 'Adjective'), ('맛있수다여', 'Adjective'), ('기예', 'Noun'), ('이', 'Determiner'), ('거', 'Noun'), ('키로', 'Noun'), ('에', 'Josa'), ('얼마', 'Noun'), ('마씨', 'Noun'), ('사천원', 'Noun'), ('마씨', 'Noun'), ('기', 'Modifier'), ('꽝', 'Noun'), ('사천원', 'Noun'), ('치', 'Noun'), ('줍', 'Verb'), ('서하영', 'Noun'), ('줍서', 'Verb'), ('예', 'Modifier'), ('많이', 'Modifier'), ('담', 'Noun'), ('암', 'Modifier'), ('수', 'Modifier'), ('다양', 'Noun'), ('맛있게', 'Adjective'), ('드십', 'Verb'), ('써', 'Verb'), ('양', 'Modifier'), ('삼성혈', 'Noun'), ('가', 'Josa'), ('잰하는디', 'Verb'), ('예', 'Modifier'), ('어디', 'Noun'), ('로', 'Josa'), ('가면', 'Noun'), ('되', 'Verb'), ('마씨', 'Noun'), ('여기', 'Noun'), ('서', 'Josa'), ('10분', 'Number'), ('만', 'Foreign'), ('밑트레강', 'Noun'), ('칼', 'Noun'), ('호텔', 'Noun'), ('조', 'Suffix'), ('끄', 'Verb'), ('티', 'Noun'), ('서', 'Josa'), ('바로', 'Noun'), ('왼', 'Modifier'), ('펜', 'Noun'), ('돌아가', 'Verb'), ('민', 'Noun'), ('되우다', 'Verb'), ('알', 'Noun'), ('아', 'Josa'), ('지쿠', 'Noun'), ('가', 'Josa'), ('거', 'Noun'), ('기강', 'Noun'), ('봥으', 'Noun'), ('네', 'Josa'), ('아무', 'Modifier'), ('사람', 'Noun'), ('이나', 'Josa'), ('잡', 'Noun'), ('앙', 'Adverb'), ('물어보', 'Verb'), ('민', 'Noun'), ('잘', 'Verb'), ('말', 'Noun'), ('해', 'Verb'), ('줄꺼우다', 'Verb'), ('관광', 'Noun'), ('잘', 'Verb'), ('행', 'Noun'), ('갑', 'Noun'), ('써', 'Verb'), ('예', 'Modifier'), ('혼', 'Noun'), ('저', 'Determiner'), ('옵', 'Noun'), ('서', 'Josa'), ('예', 'Modifier'), ('고만', 'Modifier'), ('이십', 'Noun'), ('서게고만', 'Verb'), ('이', 'Determiner'), ('시라', 'Noun'), ('게', 'Josa'), ('무신거', 'Verb'), ('햄', 'Noun'), ('쑤', 'Verb'), ('꽈', 'Noun'), ('무신거', 'Verb'), ('햄', 'Noun'), ('시', 'Modifier'), ('니', 'Modifier'), ('무사', 'Noun'), ('경', 'Noun'), ('급호꽈', 'Noun'), ('무사', 'Noun'), ('경', 'Noun'), ('급호', 'Noun'), ('냐', 'Josa'), ('확', 'Noun'), ('옵', 'Noun'), ('서게어', 'Verb'), ('떵', 'Noun'), ('살', 'Noun'), ('아', 'Josa'), ('점수', 'Noun'), ('꽈무', 'Noun'), ('싱거엔', 'Adjective'), ('고람', 'Noun'), ('쑤꽈', 'Noun'), ('귀', 'Noun'), ('눈', 'Noun'), ('이', 'Josa'), ('왁왁', 'Adverb'), ('하우다', 'Noun'), ('맨', 'Modifier'), ('도롱', 'Noun'), ('혼때', 'Noun'), ('호로록', 'Adverb'), ('들여', 'Verb'), ('싸', 'Verb'), ('붑써무싱', 'Noun'), ('걸', 'Noun'), ('몽캐미꽈왕', 'Noun'), ('봅서', 'Verb'), ('고랑', 'Noun'), ('은', 'Josa'), ('몰라', 'Verb'), ('마씀곱들락', 'Noun'), ('호', 'Noun'), ('게', 'Josa'), ('몬뜰락', 'Noun'), ('벗', 'Noun'), ('엉', 'Exclamation'), ('옵', 'Noun'), ('서', 'Josa'), ('어디', 'Noun'), ('갔당', 'Verb'), ('왐수꽈어드레', 'Noun'), ('감수', 'Noun'), ('꽈둥', 'Noun'), ('그리', 'Verb'), ('멍', 'Noun'), ('키웁서', 'Verb'), ('경', 'Noun'), ('해사', 'Noun'), ('혼저', 'Noun'), ('큽니다어', 'Verb'), ('떵', 'Noun'), ('살코', 'Noun'), ('저', 'Noun'), ('들', 'Suffix'), ('지', 'Josa'), ('맙', 'Noun'), ('서', 'Josa'), ('촘앙', 'Noun'), ('살민', 'Noun'), ('살', 'Noun'), ('아집', 'Noun'), ('니', 'Josa'), ('다느', 'Verb'), ('영', 'Noun'), ('나영', 'Noun'), ('두리', 'Noun'), ('둥실', 'Noun'), ('소', 'Noun'), ('랑', 'Josa'), ('호', 'Noun'), ('게', 'Josa'), ('마씸혼저', 'Noun'), ('옵', 'Noun'), ('서', 'Josa'), ('제주도', 'Noun'), ('에', 'Josa'), ('오난', 'Noun'), ('어떵', 'Noun'), ('하우', 'Adverb'), ('꽈촘', 'Noun'), ('말로', 'Noun'), ('좋', 'Adjective'), ('수다', 'Noun'), ('왕', 'Suffix'), ('봅', 'Verb'), ('서고', 'Noun'), ('랑은', 'Josa'), ('몰라마', 'Verb'), ('씀', 'Verb'), ('무상', 'Noun'), ('경', 'Noun'), ('고람', 'Noun'), ('수', 'Modifier'), ('꽈몽', 'Noun'), ('캐지', 'Verb'), ('말', 'Noun'), ('앙', 'Adverb'), ('혼저', 'Noun'), ('오라', 'Noun'), ('게', 'Josa'), ('호꼼', 'Noun'), ('만', 'Josa'), ('이십', 'Modifier'), ('서', 'Modifier'), ('게혼', 'Noun'), ('저', 'Determiner'), ('왕', 'Noun'), ('먹', 'Verb'), ('읍', 'Noun'), ('서', 'Josa'), ('맨', 'Modifier'), ('드롱', 'Noun'), ('했수', 'Verb'), ('꽈맨', 'Noun'), ('도롱', 'Noun'), ('홀', 'Noun'), ('때', 'Noun'), ('호로록', 'Adverb'), ('들여', 'Verb'), ('싸', 'VerbPrefix'), ('붑서', 'Adjective'), ('혼', 'Noun'), ('저', 'Determiner'), ('옵', 'Noun'), ('서', 'Josa'), ('제주도', 'Noun'), ('사투리', 'Noun'), ('로', 'Josa'), ('말', 'Noun'), ('호', 'Noun'), ('난', 'Josa'), ('무신', 'Noun'), ('거옌', 'Noun'), ('고람', 'Noun'), ('신디', 'Verb'), ('몰르', 'Verb'), ('쿠', 'Noun'), ('게게', 'Noun'), ('메', 'Noun'), ('마', 'Noun'), ('씀', 'Verb'), ('귀', 'Noun'), ('눈', 'Noun'), ('이', 'Josa'), ('왁왁', 'Adverb'), ('하우다', 'Noun'), ('경해', 'Noun'), ('도', 'Josa'), ('고만히', 'Adjective'), ('생각', 'Noun'), ('호멍', 'Noun'), ('들으', 'Verb'), ('민', 'Noun'), ('조금씩', 'Adverb'), ('알', 'Noun'), ('아', 'Josa'), ('집니다', 'Verb'), ('제주도', 'Noun'), ('사투리', 'Noun'), ('촘말', 'Noun'), ('로', 'Josa'), ('귀하고', 'Adjective'), ('아름다운', 'Adjective'), ('보물', 'Noun'), ('이우', 'Noun'), ('다', 'Josa'), ('펜안', 'Noun'), ('하우', 'Adverb'), ('꽈', 'Noun'), ('제주도', 'Noun'), ('에', 'Josa'), ('오난', 'Noun'), ('어떵', 'Noun'), ('하우', 'Adverb'), ('꽈촘', 'Noun'), ('말로', 'Noun'), ('좋수다', 'Adjective'), ('공', 'Modifier'), ('기도', 'Noun'), ('맑고', 'Adjective'), ('산이', 'Noun'), ('영', 'Noun'), ('바', 'Noun'), ('당', 'Modifier'), ('이영', 'Noun'), ('몬딱', 'Noun'), ('좋', 'Adjective'), ('은', 'Noun'), ('게', 'Josa'), ('마', 'Noun'), ('씀', 'Verb'), ('서울', 'Noun'), ('에', 'Josa'), ('갈', 'Verb'), ('때', 'Noun'), ('랑', 'Josa'), ('하영', 'Adverb'), ('담', 'Noun'), ('앙', 'Adverb'), ('갑', 'Noun'), ('서게', 'Verb'), ('메', 'Noun'), ('양경', 'Noun'), ('해', 'Noun'), ('시민', 'Noun'), ('얼마나', 'Noun'), ('좋', 'Adjective'), ('코', 'Noun'), ('마', 'Noun'), ('씀', 'Verb'), ('저기', 'Noun'), ('물', 'Noun'), ('허', 'Verb'), ('벅', 'Noun'), ('정', 'Noun'), ('가는', 'Verb'), ('거', 'Noun'), ('비바리', 'Noun'), ('덜', 'Noun'), ('아니', 'Adjective'), ('꽈', 'Noun'), ('맞수다', 'Verb'), ('비바리', 'Noun'), ('도', 'Josa'), ('있고', 'Adjective'), ('넹바리', 'Noun'), ('도', 'Josa'), ('있수다', 'Adjective'), ('비바리', 'Noun'), ('덜', 'Noun'), ('곱들락', 'Noun'), ('호', 'Noun'), ('고', 'Josa'), ('놀씬', 'Noun'), ('하우다', 'Noun'), ('양경', 'Noun'), ('합주', 'Noun'), ('게', 'Josa'), ('산', 'Noun'), ('좋고', 'Adjective'), ('물', 'Noun'), ('좋은', 'Adjective'), ('제주도', 'Noun'), ('에', 'Josa'), ('사', 'Noun'), ('난', 'Josa'), ('모심도', 'Verb'), ('착하고', 'Adjective'), ('얼굴', 'Noun'), ('도', 'Josa'), ('곱들락', 'Noun'), ('홉니', 'Noun'), ('다', 'Josa'), ('고랑', 'Noun'), ('은', 'Josa'), ('몰라', 'Verb'), ('마', 'Noun'), ('씀', 'Verb'), ('제주도', 'Noun'), ('에', 'Josa'), ('왕', 'Noun'), ('봐사', 'Verb'), ('알', 'Noun'), ('아', 'Josa'), ('짐니다', 'Verb'), ('돌도', 'Verb'), ('많고', 'Adjective'), ('보롬', 'Noun'), ('도', 'Josa'), ('많고', 'Adjective'), ('비바리', 'Noun'), ('도', 'Josa'), ('많고', 'Adjective'), ('유채꽃', 'Noun'), ('도', 'Josa'), ('곱드락', 'Noun'), ('호', 'Noun'), ('게', 'Josa'), ('피었수다', 'Verb'), ('아명', 'Noun'), ('고라', 'Noun'), ('도', 'Josa'), ('몰라', 'Verb'), ('마', 'Noun'), ('씀', 'Verb'), ('혼', 'Noun'), ('저', 'Determiner'), ('왕', 'Noun'), ('봅서', 'Verb'), ('제주도', 'Noun'), ('엔', 'Josa'), ('보름', 'Noun'), ('이', 'Josa'), ('많이', 'Adverb'), ('있수다', 'Adjective'), ('동쪽', 'Noun'), ('에서', 'Josa'), ('부는', 'Verb'), ('보름', 'Noun'), ('샛', 'Noun'), ('보름', 'Noun'), ('서쪽', 'Noun'), ('에서', 'Josa'), ('부는', 'Verb'), ('보름', 'Noun'), ('갈', 'Verb'), ('보름', 'Noun'), ('남쪽', 'Noun'), ('에서', 'Josa'), ('부는', 'Verb'), ('보름', 'Noun'), ('마포', 'Noun'), ('름', 'Noun'), ('북쪽', 'Noun'), ('에서', 'Josa'), ('부는', 'Verb'), ('보름', 'Noun'), ('하늬', 'Noun'), ('보름', 'Noun'), ('이우', 'Noun'), ('다', 'Josa'), ('한', 'Determiner'), ('락산', 'Noun'), ('에', 'Josa'), ('올랑', 'Verb'), ('봅서', 'Verb'), ('발', 'Noun'), ('아래', 'Noun'), ('구름', 'Noun'), ('들', 'Suffix'), ('이', 'Josa'), ('왔닥갔닥', 'Noun'), ('호곡', 'Noun'), ('아', 'Exclamation'), ('득혼', 'Noun'), ('게', 'Josa'), ('꿈속', 'Noun'), ('고', 'Modifier'), ('틉', 'Noun'), ('니', 'Josa'), ('다', 'Adverb'), ('옛날', 'Noun'), ('에', 'Josa'), ('신선', 'Noun'), ('들', 'Suffix'), ('이', 'Josa'), ('힌', 'Noun'), ('사슴', 'Noun'), ('타', 'Modifier'), ('멍', 'Noun'), ('놀았', 'Verb'), ('댄', 'Verb'), ('해연', 'Noun'), ('백록담', 'Noun'), ('아니', 'Adjective'), ('꽈', 'Noun'), ('제주', 'Noun'), ('사', 'Modifier'), ('롬', 'Noun'), ('들', 'Suffix'), ('은', 'Josa'), ('돌', 'Noun'), ('하르방', 'Noun'), ('보멍', 'Noun'), ('살았수다', 'Verb'), ('경', 'Noun'), ('호', 'Noun'), ('난', 'Josa'), ('거짓말', 'Noun'), ('홀', 'Noun'), ('줄', 'Noun'), ('모르', 'Verb'), ('곡', 'Noun'), ('서로', 'Noun'), ('믿으', 'Verb'), ('멍', 'Noun'), ('착하게만', 'Adjective'), ('살았수게', 'Verb'), ('봅서', 'Verb'), ('어', 'Noun'), ('시민', 'Noun'), ('도', 'Noun'), ('와', 'Josa'), ('주', 'Modifier'), ('곡', 'Noun'), ('이', 'Determiner'), ('시민', 'Noun'), ('나누', 'Verb'), ('엉', 'Exclamation'), ('먹', 'Verb'), ('곡', 'Noun'), ('인정', 'Noun'), ('많고', 'Adjective'), ('소', 'Noun'), ('랑', 'Josa'), ('많은', 'Adjective'), ('돌하르방', 'Noun'), ('손', 'Noun'), ('지', 'Josa'), ('들', 'Verb'), ('이우', 'Noun'), ('다', 'Josa'), ('장', 'Noun'), ('게', 'Josa'), ('간', 'Noun'), ('날', 'Noun'), ('밤', 'Noun'), ('새', 'Noun'), ('서방', 'Noun'), ('이', 'Josa'), ('말', 'Noun'), ('했수게', 'Verb'), ('새', 'Noun'), ('각시', 'Noun'), ('야', 'Josa'), ('혼저', 'Noun'), ('오라', 'Noun'), ('게', 'Josa'), ('무사', 'Noun'), ('마씀호꼼', 'Noun'), ('만', 'Josa'), ('이십', 'Modifier'), ('서', 'Modifier'), ('게뭉', 'Noun'), ('캐지', 'Verb'), ('말', 'Noun'), ('앙', 'Adverb'), ('혼저', 'Noun'), ('오라', 'Noun'), ('게', 'Josa'), ('새', 'Noun'), ('각시', 'Noun'), ('가', 'Josa'), ('새', 'Noun'), ('서방', 'Noun'), ('품', 'Noun'), ('에서', 'Josa'), ('솔', 'Noun'), ('째기', 'Verb'), ('말', 'Noun'), ('해십주', 'Verb'), ('날', 'Noun'), ('얼마나', 'Noun'), ('소', 'Noun'), ('랑', 'Josa'), ('햄', 'Noun'), ('쑤과', 'Verb'), ('저기', 'Noun'), ('한락산', 'Noun'), ('만큼', 'Josa'), ('또', 'Noun'), ('바', 'Noun'), ('당', 'Suffix'), ('만큼', 'Josa'), ('소랑햄쩌경', 'Noun'), ('마랑', 'Noun'), ('요', 'Noun'), ('가슴패기', 'Noun'), ('만큼만', 'Josa'), ('소', 'Noun'), ('랑', 'Josa'), ('해', 'Noun'), ('줍서', 'Verb'), ('기여', 'Noun'), ('느영', 'Noun'), ('나영', 'Noun'), ('두리', 'Noun'), ('둥실', 'Noun'), ('소', 'Noun'), ('랑', 'Josa'), ('호', 'Noun'), ('게', 'Josa'), ('신랑', 'Noun'), ('이', 'Josa'), ('신부', 'Noun'), ('에게', 'Josa'), ('말', 'Noun'), ('했수', 'Verb'), ('게이', 'Noun'), ('조끄뜨레', 'Noun'), ('오라', 'Noun'), ('게', 'Josa'), ('무사', 'Noun'), ('조', 'Noun'), ('끄', 'Verb'), ('뜨', 'Verb'), ('레만', 'Noun'), ('오랜', 'Adverb'), ('햄수과호꼼', 'Noun'), ('이라도', 'Josa'), ('고치', 'Noun'), ('만', 'Josa'), ('있고', 'Adjective'), ('싶', 'Verb'), ('언', 'Modifier'), ('놈덜', 'Noun'), ('웃읍니다어떵', 'Noun'), ('호', 'Noun'), ('느냐', 'Verb'), ('소', 'Noun'), ('랑', 'Josa'), ('에는', 'Josa'), ('부치룸', 'Noun'), ('이', 'Josa'), ('엇', 'VerbPrefix'), ('나', 'Verb'), ('무사', 'Noun'), ('경', 'Noun'), ('고람', 'Noun'), ('쑤과', 'Verb'), ('혼', 'Noun'), ('저', 'Determiner'), ('왕', 'Noun'), ('소', 'Noun'), ('랑', 'Josa'), ('하', 'Exclamation'), ('멍', 'Noun'), ('살', 'Noun'), ('게', 'Josa'), ('마', 'Noun'), ('씀', 'Verb'), ('성', 'Noun'), ('내', 'Determiner'), ('멍', 'Noun'), ('살아도', 'Verb'), ('혼', 'Noun'), ('세상', 'Noun'), ('저', 'Noun'), ('들', 'Suffix'), ('멍', 'Noun'), ('살아도', 'Verb'), ('혼', 'Noun'), ('세상', 'Noun'), ('이우', 'Noun'), ('다', 'Josa'), ('가난해서', 'Adjective'), ('웃으', 'Verb'), ('멍', 'Noun'), ('살', 'Noun'), ('게', 'Josa'), ('마', 'Noun'), ('씀', 'Verb'), ('삼다도', 'Noun'), ('옌', 'Noun'), ('행', 'Noun'), ('게', 'Josa'), ('마는', 'Noun'), ('촘말', 'Noun'), ('돌이', 'Noun'), ('많', 'Adjective'), ('쑤다', 'Verb'), ('양', 'Modifier'), ('옛날', 'Noun'), ('엔', 'Josa'), ('한락산', 'Noun'), ('이', 'Josa'), ('화산', 'Noun'), ('이란', 'Josa'), ('돌이', 'Noun'), ('많', 'Adjective'), ('쑤게아이고', 'Verb'), ('게', 'Noun'), ('저기', 'Noun'), ('돌고', 'Verb'), ('망', 'Noun'), ('에', 'Josa'), ('핀', 'Noun'), ('꽃', 'Noun'), ('봅서', 'Verb'), ('돌고', 'Verb'), ('망', 'Noun'), ('으로', 'Josa'), ('보는', 'Verb'), ('바', 'Noun'), ('당', 'Suffix'), ('은', 'Josa'), ('꼭', 'Noun'), ('그림', 'Noun'), ('답', 'Noun'), ('쑤다', 'Verb'), ('바다', 'Noun'), ('에', 'Josa'), ('강', 'Noun'), ('봐사', 'Verb'), ('풍랑', 'Noun'), ('을', 'Josa'), ('알', 'Noun'), ('아', 'Josa'), ('지곡', 'Noun'), ('조식', 'Noun'), ('을', 'Josa'), ('나', 'Noun'), ('봐사', 'Verb'), ('부모', 'Noun'), ('모심', 'Verb'), ('알', 'Noun'), ('아', 'Josa'), ('지곡', 'Noun'), ('사롬', 'Noun'), ('은', 'Josa'), ('만', 'Modifier'), ('낭', 'Noun'), ('살', 'Noun'), ('아', 'Josa'), ('봐사', 'Verb'), ('진심', 'Noun'), ('을', 'Josa'), ('알', 'Noun'), ('아', 'Josa'), ('지곡', 'Noun'), ('소', 'Noun'), ('랑', 'Josa'), ('을', 'Josa'), ('해', 'Noun'), ('봐사', 'Verb'), ('눈물', 'Noun'), ('도', 'Josa'), ('알', 'Noun'), ('아', 'Josa'), ('짐니다사', 'Verb'), ('롬', 'Noun'), ('은', 'Josa'), ('서로', 'Noun'), ('서로', 'Noun'), ('도우', 'Noun'), ('멍', 'Noun'), ('사는', 'Verb'), ('거여', 'Noun'), ('욕', 'Noun'), ('은', 'Josa'), ('고', 'Modifier'), ('냉이', 'Noun'), ('밤눈', 'Noun'), ('어둡덴', 'Noun'), ('혼다', 'Noun'), ('이', 'Determiner'), ('녁', 'Noun'), ('만', 'Josa'), ('욕', 'Noun'), ('은', 'Josa'), ('체', 'Noun'), ('호멍', 'Noun'), ('살당', 'Verb'), ('보', 'Noun'), ('민지', 'Noun'), ('욕심', 'Noun'), ('에', 'Josa'), ('걸령', 'Noun'), ('지가', 'Verb'), ('넘어진다', 'Verb'), ('서귀포', 'Noun'), ('바', 'Noun'), ('당', 'Suffix'), ('에', 'Josa'), ('가', 'Verb'), ('민', 'Noun'), ('알', 'Noun'), ('아', 'Josa'), ('짐', 'Noun'), ('니', 'Josa'), ('다무신것이', 'Verb'), ('소', 'Noun'), ('랑', 'Josa'), ('이', 'Determiner'), ('고무신', 'Noun'), ('것', 'Noun'), ('이', 'Josa'), ('그리움', 'Noun'), ('인지', 'Josa'), ('안개', 'Noun'), ('낀', 'Verb'), ('부둣가', 'Noun'), ('에', 'Josa'), ('뱃고동', 'Noun'), ('울어', 'Verb'), ('주민', 'Noun'), ('옛', 'Modifier'), ('님', 'Noun'), ('이', 'Josa'), ('그리웡', 'Noun'), ('눈물', 'Noun'), ('이', 'Josa'), ('잘도', 'Verb'), ('납니다', 'Verb'), ('조냥', 'Adverb'), ('하', 'Exclamation'), ('멍', 'Noun'), ('살아사', 'Verb'), ('혼다', 'Noun'), ('오늘', 'Noun'), ('보다', 'Josa'), ('내일', 'Noun'), ('생각', 'Noun'), ('호곡', 'Noun'), ('내일', 'Noun'), ('보다', 'Josa'), ('모레', 'Noun'), ('생각', 'Noun'), ('호', 'Noun'), ('곡경', 'Noun'), ('해사', 'Noun'), ('일생', 'Noun'), ('을', 'Josa'), ('펜안호', 'Noun'), ('게', 'Josa'), ('살아진다', 'Verb'), ('요새', 'Noun'), ('아이', 'Noun'), ('덜', 'Noun'), ('너무', 'Adverb'), ('호강', 'Noun'), ('햄쩌', 'Noun'), ('경', 'Noun'), ('호난호꼼호민', 'Noun'), ('아프', 'Adjective'), ('곡', 'Noun'), ('울', 'Modifier'), ('곡', 'Noun'), ('햄', 'Noun'), ('시', 'Modifier'), ('녜', 'Noun'), ('둥구', 'Noun'), ('리멍', 'Noun'), ('질룬', 'Noun'), ('독새', 'Noun'), ('시가', 'Noun'), ('빙', 'Noun'), ('애기', 'Noun'), ('된', 'Verb'), ('댕', 'Noun'), ('혼다', 'Noun'), ('어진', 'Noun'), ('때', 'Noun'), ('고생', 'Noun'), ('도', 'Josa'), ('호곡', 'Noun'), ('해사', 'Noun'), ('큰', 'Verb'), ('사롬', 'Noun'), ('된다', 'Verb'), ('혼', 'Noun'), ('저', 'Determiner'), ('왕', 'Noun'), ('먹', 'Verb'), ('읍', 'Noun'), ('서', 'Josa'), ('맨', 'Modifier'), ('도롱', 'Noun'), ('했수과', 'Verb'), ('똣똣', 'Noun'), ('혼', 'Noun'), ('게', 'Noun'), ('먹기', 'Noun'), ('똑', 'Noun'), ('좋았수다', 'Adjective'), ('맨', 'Noun'), ('도롱', 'Noun'), ('홀', 'Noun'), ('때', 'Noun'), ('호로록', 'Adverb'), ('들여', 'Verb'), ('싸', 'VerbPrefix'), ('붑', 'Adjective'), ('서동', 'Noun'), ('텃저', 'Noun'), ('어서', 'Noun'), ('글', 'Noun'), ('라일', 'Noun'), ('해사', 'Noun'), ('먹', 'Verb'), ('엉', 'Exclamation'), ('산다', 'Noun'), ('부지런', 'Noun'), ('혼', 'Noun'), ('건', 'Noun'), ('하늘', 'Noun'), ('도', 'Josa'), ('못', 'Noun'), ('막', 'Noun'), ('낸', 'Verb'), ('해', 'Noun'), ('라', 'Josa'), ('혼', 'Noun'), ('저', 'Determiner'), ('촐령', 'Noun'), ('가사', 'Noun'), ('일', 'Noun'), ('홀', 'Noun'), ('거', 'Noun'), ('아니가', 'Adjective'), ('시집', 'Noun'), ('가', 'Verb'), ('보', 'Noun'), ('난', 'Josa'), ('영', 'Noun'), ('해', 'Noun'), ('라', 'Josa'), ('돌', 'Noun'), ('탱', 'Adverb'), ('이', 'Determiner'), ('고', 'Noun'), ('튼', 'Verb'), ('시아', 'Noun'), ('방', 'Noun'), ('에', 'Josa'), ('물', 'Noun'), ('폐기', 'Noun'), ('고', 'Noun'), ('튼', 'Verb'), ('시어', 'Noun'), ('멍에', 'Noun'), ('물', 'Noun'), ('꾸럭', 'Noun'), ('고', 'Noun'), ('튼', 'Verb'), ('서방', 'Noun'), ('에고', 'Noun'), ('냥', 'Josa'), ('독새', 'Noun'), ('고', 'Noun'), ('튼', 'Verb'), ('시누이', 'Noun'), ('에', 'Josa'), ('가도', 'Noun'), ('가도', 'Noun'), ('고생', 'Noun'), ('이', 'Josa'), ('라라', 'Noun'), ('어', 'Suffix'), ('드레', 'Noun'), ('감', 'Noun'), ('디바', 'Noun'), ('당', 'Suffix'), ('에', 'Josa'), ('어멍', 'Noun'), ('안티', 'Noun'), ('감', 'Noun'), ('쑤다', 'Verb'), ('경', 'Noun'), ('호건', 'Noun'), ('이', 'Determiner'), ('거', 'Noun'), ('가정', 'Noun'), ('가라', 'Noun'), ('무싱', 'Noun'), ('거꽈느', 'Noun'), ('네', 'Josa'), ('어멍', 'Noun'), ('바', 'Noun'), ('당', 'Suffix'), ('에서', 'Josa'), ('물질', 'Noun'), ('호멍', 'Noun'), ('먹을거여', 'Verb'), ('이', 'Determiner'), ('추', 'Noun'), ('룩', 'Suffix'), ('억울할', 'Adjective'), ('때', 'Noun'), ('가', 'Josa'), ('있수과', 'Adjective'), ('소', 'Modifier'), ('정해', 'Noun'), ('도', 'Josa'), ('시', 'Modifier'), ('원호', 'Noun'), ('지', 'Josa'), ('않을', 'Verb'), ('놈', 'Noun'), ('이', 'Josa'), ('큰', 'Verb'), ('소리', 'Noun'), ('라', 'Josa'), ('마씸초마', 'Noun'), ('가라', 'Noun'), ('그거', 'Noun'), ('도둑', 'Noun'), ('놈', 'Noun'), ('심뽀', 'Noun'), ('구나', 'Noun'), ('게', 'Josa'), ('메', 'Noun'), ('마씸', 'Noun'), ('그런', 'Adjective'), ('사롬', 'Noun'), ('이', 'Josa'), ('어디', 'Noun'), ('있수과', 'Adjective'), ('시험', 'Noun'), ('에', 'Josa'), ('떨어진', 'Verb'), ('아들', 'Noun'), ('이', 'Josa'), ('아', 'Exclamation'), ('방', 'Noun'), ('안티', 'Noun'), ('말', 'Noun'), ('했수다난', 'Verb'), ('아명', 'Noun'), ('해도', 'Noun'), ('안되', 'Adjective'), ('쿠다', 'Noun'), ('무사', 'Noun'), ('안된', 'Adjective'), ('댄', 'Verb'), ('생각', 'Noun'), ('햄', 'Noun'), ('시냐', 'Noun'), ('해도', 'Noun'), ('해도', 'Noun'), ('안되는디', 'Adjective'), ('어떵', 'Noun'), ('홉', 'Noun'), ('니까', 'Josa'), ('먹', 'Verb'), ('돌도', 'Verb'), ('똘람', 'Noun'), ('시민', 'Noun'), ('고', 'Modifier'), ('망', 'Noun'), ('이', 'Josa'), ('난다', 'Verb'), ('햄', 'Noun'), ('시민', 'Noun'), ('된다', 'Verb'), ('`', 'Punctuation'), ('똘년', 'Noun'), ('이', 'Josa'), ('돌으', 'Verb'), ('멍', 'Noun'), ('가단', 'Verb'), ('푸더전', 'Verb'), ('마', 'Noun'), ('씀으마', 'Verb'), ('떵', 'Noun'), ('호리', 'Noun'), ('경', 'Noun'), ('호연', 'Noun'), ('어떵', 'Noun'), ('해서', 'Verb'), ('병원', 'Noun'), ('에', 'Josa'), ('갔수게', 'Verb'), ('간', 'Noun'), ('보', 'Noun'), ('난', 'Josa'), ('꽝', 'Noun'), ('이', 'Josa'), ('뿌서졌덴', 'Noun'), ('마', 'Noun'), ('씀', 'Verb'), ('혼', 'Noun'), ('열흘', 'Noun'), ('간', 'Suffix'), ('입원', 'Noun'), ('해사', 'Noun'), ('혼덴', 'Noun'), ('햄', 'Noun'), ('쑤다', 'Verb'), ('족댕', 'Noun'), ('나무', 'Noun'), ('래지', 'Noun'), ('말라', 'Adjective'), ('조', 'Modifier'), ('근', 'Modifier'), ('게', 'Noun'), ('요망', 'Noun'), ('진다', 'Verb'), ('큰', 'Verb'), ('건', 'Noun'), ('보롬', 'Noun'), ('만', 'Josa'), ('불어', 'Noun'), ('도', 'Josa'), ('홍글', 'Noun'), ('랑', 'Josa'), ('홍글', 'Noun'), ('랑', 'Josa'), ('호', 'Noun'), ('지만', 'Josa'), ('호꼴락', 'Noun'), ('혼', 'Noun'), ('건똔똔호곡', 'Noun'), ('펜', 'Noun'), ('주룽', 'Noun'), ('혼다', 'Noun'), ('어', 'Suffix'), ('드레', 'Noun'), ('감수', 'Noun'), ('과바', 'Noun'), ('당', 'Suffix'), ('에', 'Josa'), ('괴기', 'Noun'), ('사레', 'Noun'), ('마', 'Noun'), ('씀', 'Verb'), ('무사', 'Noun'), ('누', 'Noun'), ('게', 'Josa'), ('왔수과', 'Verb'), ('서울', 'Noun'), ('서', 'Josa'), ('족', 'Noun'), ('은', 'Josa'), ('아', 'Exclamation'), ('방', 'Noun'), ('네', 'Josa'), ('완', 'Noun'), ('마', 'Noun'), ('씀', 'Verb'), ('게민', 'Adverb'), ('멩심', 'Noun'), ('허영', 'Noun'), ('갔당', 'Verb'), ('옵', 'Noun'), ('서어', 'Noun'), ('멍', 'Noun'), ('이', 'Josa'), ('해', 'Noun'), ('준', 'Noun'), ('밥', 'Noun'), ('먹어', 'Verb'), ('봅서촘말', 'Noun'), ('로', 'Josa'), ('맛', 'Noun'), ('이', 'Josa'), ('좋수다', 'Adjective'), ('무상', 'Noun'), ('고', 'Josa'), ('마', 'Noun'), ('씀', 'Verb'), ('그건', 'Adverb'), ('어머님', 'Noun'), ('의', 'Josa'), ('사랑', 'Noun'), ('호', 'Noun'), ('는', 'Josa'), ('모심이', 'Verb'), ('밥속', 'Noun'), ('에', 'Josa'), ('고', 'Modifier'), ('득', 'Noun'), ('고', 'Modifier'), ('득', 'Noun'), ('들어', 'Verb'), ('이', 'Determiner'), ('시난', 'Noun'), ('아니', 'Adjective'), ('꽈', 'Noun'), ('소', 'Modifier'), ('도리', 'Noun'), ('행', 'Noun'), ('댕기', 'Noun'), ('지', 'Josa'), ('맙', 'Noun'), ('서', 'Josa'), ('소', 'Modifier'), ('도리', 'Noun'), ('는', 'Josa'), ('놈덜', 'Noun'), ('싸움', 'Noun'), ('만', 'Josa'), ('맨', 'Modifier'), ('듭', 'Noun'), ('니', 'Josa'), ('다', 'Adverb'), ('옛', 'Modifier'), ('부터', 'Noun'), ('싸움', 'Noun'), ('은', 'Josa'), ('멀리', 'Noun'), ('곡', 'Noun'), ('흥정', 'Noun'), ('은', 'Josa'), ('부치렌', 'Noun'), ('했수다', 'Verb'), ('게', 'Noun'), ('난', 'Josa'), ('좋은', 'Adjective'), ('소린', 'Noun'), ('크게', 'Noun'), ('호곡궂', 'Noun'), ('은', 'Josa'), ('소린', 'Noun'), ('속', 'Modifier'), ('솜', 'Noun'), ('해', 'Noun'), ('붑', 'Adjective'), ('서두', 'Noun'), ('가시', 'Noun'), ('가', 'Josa'), ('어드레', 'Noun'), ('경', 'Noun'), ('돌암', 'Noun'), ('서', 'Josa'), ('큰', 'Verb'), ('똘', 'Noun'), ('애기', 'Noun'), ('낫', 'Noun'), ('댄', 'Verb'), ('햄', 'Noun'), ('감', 'Noun'), ('쑤다', 'Verb'), ('경', 'Noun'), ('했구나', 'Verb'), ('무슨', 'Noun'), ('애기', 'Noun'), ('나서아', 'Verb'), ('덜', 'Noun'), ('마', 'Noun'), ('씀아이고', 'Verb'), ('잘', 'Verb'), ('됐', 'Verb'), ('구나', 'Noun'), ('게', 'Josa'), ('혼', 'Noun'), ('저', 'Determiner'), ('강', 'Noun'), ('봐', 'Verb'), ('게강', 'Noun'), ('방', 'Noun'), ('옵', 'Noun'), ('서', 'Josa'), ('왕', 'Noun'), ('방', 'Noun'), ('삽', 'Noun'), ('서영', 'Noun'), ('호곡', 'Noun'), ('정', 'Noun'), ('호곡', 'Noun'), ('홉', 'Noun'), ('서경', 'Noun'), ('고라', 'Noun'), ('줍서', 'Verb'), ('가지', 'Noun'), ('말', 'Noun'), ('앙', 'Adverb'), ('영', 'Noun'), ('호멍', 'Noun'), ('삽', 'Noun'), ('서', 'Josa'), ('서방', 'Noun'), ('님', 'Suffix'), ('제주도', 'Noun'), ('에서', 'Josa'), ('살', 'Noun'), ('게', 'Josa'), ('마', 'Noun'), ('씀', 'Verb'), ('좋주마', 'Adjective'), ('널은', 'Verb'), ('바', 'Noun'), ('당', 'Suffix'), ('좋은', 'Adjective'), ('공', 'Modifier'), ('기', 'Modifier'), ('인심', 'Noun'), ('좋은', 'Adjective'), ('사', 'Modifier'), ('롬', 'Noun'), ('들', 'Suffix'), ('광', 'Noun'), ('살민', 'Noun'), ('살', 'Noun'), ('맛', 'Noun'), ('날거라', 'Verb'), ('살당', 'Verb'), ('지치', 'Verb'), ('민', 'Noun'), ('풍덩', 'Adverb'), ('바', 'Noun'), ('당', 'Suffix'), ('에', 'Josa'), ('들어', 'Verb'), ('가곡', 'Noun'), ('마', 'Noun'), ('씀', 'Verb'), ('둘', 'Noun'), ('이', 'Josa'), ('먹당', 'Verb'), ('호', 'Noun'), ('나', 'Josa'), ('죽어도', 'Verb'), ('몰르는', 'Verb'), ('건', 'Noun'), ('무신거', 'Verb'), ('꽈돌코롬', 'Noun'), ('혼', 'Noun'), ('제주도', 'Noun'), ('전복죽', 'Noun'), ('이주', 'Noun'), ('둘', 'Noun'), ('이', 'Josa'), ('보당', 'Verb'), ('호', 'Noun'), ('나', 'Josa'), ('죽어도', 'Verb'), ('몰르는', 'Verb'), ('건', 'Noun'), ('무신거', 'Verb'), ('꽈곱들락', 'Noun'), ('혼', 'Noun'), ('제주도', 'Noun'), ('비바리', 'Noun'), ('주게', 'Verb'), ('민', 'Noun'), ('옵', 'Noun'), ('서', 'Josa'), ('전복죽', 'Noun'), ('먹', 'Verb'), ('곡', 'Noun'), ('비바리', 'Noun'), ('보', 'Noun'), ('래', 'Josa'), ('가게', 'Noun'), ('마', 'Noun'), ('씀', 'Verb'), ('과', 'Noun'), ('랑', 'Josa'), ('과', 'Noun'), ('랑', 'Josa'), ('혼', 'Noun'), ('벳디', 'Noun'), ('일', 'Noun'), ('호젠', 'Noun'), ('호', 'Noun'), ('난', 'Josa'), ('속', 'Modifier'), ('았', 'Noun'), ('수다', 'Noun'), ('속', 'Noun'), ('을', 'Josa'), ('거', 'Noun'), ('있수과', 'Adjective'), ('호꼼', 'Noun'), ('똠', 'Noun'), ('은', 'Josa'), ('났수다만', 'Verb'), ('안', 'Noun'), ('트레', 'Noun'), ('들어', 'Verb'), ('왕조', 'Noun'), ('녁', 'Noun'), ('먹', 'Verb'), ('엉', 'Exclamation'), ('갑', 'Noun'), ('서경', 'Noun'), ('호카', 'Noun'), ('마', 'Noun'), ('씀', 'Verb'), ('제주', 'Noun'), ('바', 'Noun'), ('당', 'Suffix'), ('에', 'Josa'), ('가', 'Verb'), ('민', 'Noun'), ('바', 'Noun'), ('당', 'Suffix'), ('이', 'Josa'), ('말', 'Noun'), ('을', 'Josa'), ('홉', 'Noun'), ('니', 'Josa'), ('다사', 'Noun'), ('롬', 'Noun'), ('보다', 'Josa'), ('더', 'Noun'), ('조잘조잘', 'Noun'), ('말', 'Noun'), ('을', 'Josa'), ('하', 'Exclamation'), ('곡', 'Noun'), ('사', 'Modifier'), ('롬', 'Noun'), ('보다', 'Josa'), ('더', 'Noun'), ('소랑도', 'Noun'), ('하영', 'Adverb'), ('홉니', 'Noun'), ('다', 'Josa'), ('경', 'Noun'), ('호멍낮', 'Noun'), ('이나', 'Josa'), ('밤', 'Noun'), ('이나', 'Josa'), ('꽃', 'Noun'), ('을', 'Josa'), ('피웠당', 'Verb'), ('지웠당', 'Verb'), ('홉니', 'Noun'), ('다', 'Josa'), ('제주', 'Noun'), ('바', 'Noun'), ('당', 'Suffix'), ('에', 'Josa'), ('강', 'Noun'), ('봅서', 'Verb'), ('미운', 'Verb'), ('것', 'Noun'), ('도', 'Josa'), ('엇', 'Noun'), ('어', 'Suffix'), ('지곡', 'Noun'), ('슬픈것도', 'Adjective'), ('엇', 'Noun'), ('어', 'Suffix'), ('지곡', 'Noun'), ('가슴', 'Noun'), ('으로', 'Josa'), ('바', 'Noun'), ('당', 'Modifier'), ('물', 'Noun'), ('만', 'Josa'), ('들', 'Verb'), ('곡', 'Noun'), ('나곡', 'Noun'), ('호멍', 'Noun'), ('두리', 'Noun'), ('둥실', 'Noun'), ('둥', 'Noun'), ('그대', 'Noun'), ('당', 'Modifier'), ('실소', 'Noun'), ('랑', 'Josa'), ('만', 'Noun'), ('고', 'Modifier'), ('득', 'Noun'), ('하게담', 'Verb'), ('앙', 'Adverb'), ('옵니다', 'Verb'), ('서울', 'Noun'), ('서', 'Josa'), ('새', 'Modifier'), ('각', 'Modifier'), ('씨', 'Noun'), ('왔수다어', 'Verb'), ('떵', 'Noun'), ('생겨서', 'Verb'), ('요망', 'Noun'), ('지게', 'Noun'), ('생겨십디', 'Verb'), ('다솔', 'Noun'), ('째기', 'Verb'), ('웃으', 'Verb'), ('멍', 'Noun'), ('말', 'Noun'), ('호', 'Noun'), ('는', 'Josa'), ('거', 'Noun'), ('보', 'Noun'), ('난', 'Josa'), ('착햄직', 'Noun'), ('홉디', 'Noun'), ('다그', 'Noun'), ('나쁜', 'Adjective'), ('놈볼망텡', 'Noun'), ('이를', 'Josa'), ('박아', 'Noun'), ('불거', 'Verb'), ('아니꽈경', 'Noun'), ('했주', 'Verb'), ('모가지', 'Noun'), ('잡안', 'Verb'), ('흥', 'Noun'), ('글단', 'Noun'), ('대', 'Modifier'), ('맹', 'Noun'), ('이', 'Suffix'), ('로', 'Josa'), ('뱃', 'Noun'), ('대기', 'Noun'), ('를', 'Josa'), ('박아', 'Noun'), ('부', 'Noun'), ('난', 'Josa'), ('둥글', 'Adjective'), ('멍', 'Noun'), ('자빠정게잘', 'Noun'), ('콰', 'Noun'), ('니', 'Josa'), ('여', 'Noun'), ('그런', 'Adjective'), ('놈', 'Noun'), ('은', 'Josa'), ('혼내', 'Verb'), ('줘사', 'Verb'), ('홉니', 'Noun'), ('다', 'Josa'), ('쌍둥이', 'Noun'), ('어멍고생햄쭈', 'Noun'), ('이', 'Determiner'), ('둘', 'Noun'), ('이', 'Suffix'), ('가', 'Josa'), ('고름', 'Noun'), ('배기', 'Noun'), ('해연', 'Noun'), ('죽어', 'Verb'), ('지쿠', 'Noun'), ('다', 'Josa'), ('경', 'Noun'), ('홀거', 'Noun'), ('라', 'Josa'), ('게', 'Noun'), ('도', 'Josa'), ('놈', 'Noun'), ('호', 'Noun'), ('고', 'Josa'), ('싸울', 'Verb'), ('땐', 'Noun'), ('지네', 'Noun'), ('펜백', 'Noun'), ('들', 'Suffix'), ('멍', 'Noun'), ('싸워', 'Verb'), ('마', 'Noun'), ('씀요', 'Verb'), ('년', 'Noun'), ('난거', 'Verb'), ('보라', 'Noun'), ('놈', 'Noun'), ('이', 'Josa'), ('소나', 'Noun'), ('이영', 'Noun'), ('말', 'Noun'), ('호곡', 'Noun'), ('벌써', 'Noun'), ('부터', 'Josa'), ('서방질', 'Noun'), ('햄', 'Noun'), ('시냐', 'Noun'), ('아니우다', 'Adjective'), ('게바당드레', 'Noun'), ('가단', 'Verb'), ('질', 'Noun'), ('모른', 'Verb'), ('사롬', 'Noun'), ('이', 'Determiner'), ('시난', 'Noun'), ('질', 'Noun'), ('고르', 'Verb'), ('쳐', 'Verb'), ('줬수게', 'Verb'), ('아이구', 'Exclamation'), ('게', 'Noun'), ('큰일', 'Noun'), ('났수다', 'Verb'), ('무사', 'Noun'), ('경', 'Noun'), ('들', 'Verb'), ('락', 'Noun'), ('켬시니와', 'Verb'), ('리지', 'Noun'), ('말', 'Noun'), ('앙', 'Adverb'), ('촌촌', 'Noun'), ('이', 'Josa'), ('고라', 'Noun'), ('보게', 'Verb'), ('경호', 'Noun'), ('난', 'Josa'), ('양', 'Modifier'), ('영', 'Noun'), ('호', 'Noun'), ('곡정', 'Noun'), ('호곡', 'Noun'), ('했수', 'Verb'), ('게게', 'Noun'), ('난', 'Josa'), ('욕심', 'Noun'), ('내', 'Determiner'), ('멍', 'Noun'), ('살', 'Noun'), ('민경', 'Noun'), ('혼다', 'Noun'), ('새', 'Modifier'), ('각', 'Modifier'), ('씨야', 'Noun'), ('그거', 'Noun'), ('앗', 'Noun'), ('아', 'Josa'), ('도라', 'Verb'), ('무사', 'Noun'), ('당신', 'Noun'), ('은', 'Josa'), ('손', 'Noun'), ('엇수과발', 'Noun'), ('엇수과경', 'Noun'), ('호', 'Noun'), ('지', 'Josa'), ('말', 'Noun'), ('앙', 'Adverb'), ('좀', 'Noun'), ('앗', 'Noun'), ('아', 'Josa'), ('주민', 'Noun'), ('어', 'Suffix'), ('떵', 'Noun'), ('호', 'Noun'), ('느냐', 'Verb'), ('버릇', 'Noun'), ('나', 'Josa'), ('마', 'Noun'), ('씀', 'Verb'), ('밸', 'Noun'), ('놈', 'Noun'), ('의', 'Josa'), ('요망', 'Noun'), ('진', 'Noun'), ('소', 'Modifier'), ('리그', 'Noun'), ('만', 'Josa'), ('호', 'Noun'), ('라', 'Josa'), ('이제', 'Noun'), ('가게', 'Noun'), ('짐', 'Noun'), ('촐', 'Noun'), ('리라', 'Noun'), ('알았수다아이', 'Verb'), ('덜도', 'Verb'), ('도랑', 'Noun'), ('가카', 'Noun'), ('마', 'Noun'), ('씀', 'Verb'), ('기여', 'Noun'), ('모', 'Modifier'), ('딱', 'Modifier'), ('고치', 'Noun'), ('가게', 'Noun'), ('하르방', 'Noun'), ('할', 'Verb'), ('망', 'Noun'), ('이', 'Josa'), ('좋아할거', 'Adjective'), ('여야', 'Noun'), ('게', 'Josa'), ('기', 'Noun'), ('에', 'Josa'), ('때', 'Noun'), ('밀', 'Noun'), ('라', 'Josa'), ('저', 'Determiner'), ('깽', 'Noun'), ('이영', 'Noun'), ('정겡이', 'Noun'), ('도', 'Josa'), ('밀곡옷', 'Noun'), ('벗', 'Noun'), ('엉', 'Exclamation'), ('강알', 'Noun'), ('트멍', 'Noun'), ('도', 'Josa'), ('밀', 'Noun'), ('라사', 'Noun'), ('롬', 'Noun'), ('몸', 'Noun'), ('은', 'Josa'), ('곱닥', 'Noun'), ('해사', 'Noun'), ('혼다', 'Noun'), ('무신', 'Noun'), ('걸', 'Noun'), ('먹으', 'Verb'), ('코', 'Noun'), ('게', 'Josa'), ('메', 'Noun'), ('양', 'Noun'), ('제주도', 'Noun'), ('에만', 'Josa'), ('이신', 'Noun'), ('거', 'Noun'), ('먹게', 'Verb'), ('마씀그젱기', 'Noun'), ('에', 'Josa'), ('보말에', 'Verb'), ('옥돔', 'Noun'), ('생', 'Noun'), ('성', 'Suffix'), ('또', 'Noun'), ('있수', 'Adjective'), ('다모', 'Noun'), ('멀', 'Adjective'), ('범벅', 'Noun'), ('에', 'Josa'), ('자리젯먹', 'Noun'), ('을', 'Josa'), ('것', 'Noun'), ('도', 'Josa'), ('촘', 'Noun'), ('하영', 'Adverb'), ('있', 'Adjective'), ('저', 'Determiner'), ('무사', 'Noun'), ('난', 'Noun'), ('호꼼', 'Noun'), ('만', 'Josa'), ('줨', 'Noun'), ('쑤과', 'Verb'), ('이', 'Determiner'), ('놈', 'Noun'), ('아', 'Josa'), ('욕심', 'Noun'), ('먹은', 'Verb'), ('눈', 'Noun'), ('에는', 'Josa'), ('지', 'Verb'), ('껏', 'Noun'), ('이', 'Josa'), ('족', 'Noun'), ('아', 'Josa'), ('베곡놈', 'Noun'), ('의', 'Josa'), ('껏', 'Noun'), ('은', 'Josa'), ('커', 'Verb'), ('베는', 'Verb'), ('거여', 'Noun'), ('똑', 'Noun'), ('고치', 'Noun'), ('나눈', 'Verb'), ('것', 'Noun'), ('을', 'Josa'), ('어찌', 'Noun'), ('크다', 'Verb'), ('족', 'Noun'), ('다', 'Adverb'), ('햄', 'Noun'), ('시니어', 'Noun'), ('멍', 'Noun'), ('이', 'Josa'), ('용심', 'Noun'), ('난옴찍', 'Noun'), ('안햄', 'Noun'), ('쑤다', 'Verb'), ('경', 'Noun'), ('호곡', 'Noun'), ('말곡', 'Noun'), ('믿던', 'Verb'), ('낭', 'Noun'), ('에', 'Josa'), ('곰', 'Noun'), ('팽이', 'Noun'), ('핀댕', 'Noun'), ('게', 'Noun'), ('마는하도', 'Verb'), ('억', 'Modifier'), ('울', 'Modifier'), ('호', 'Noun'), ('게', 'Josa'), ('당해', 'Adjective'), ('부런', 'Adjective'), ('아니가어', 'Adjective'), ('멍', 'Noun'), ('모심', 'Verb'), ('달래', 'Noun'), ('드리라', 'Verb'), ('독', 'Noun'), ('이사', 'Noun'), ('울', 'Noun'), ('엉', 'Exclamation'), ('날', 'Noun'), ('이', 'Josa'), ('새', 'Modifier'), ('주마', 'Noun'), ('는', 'Josa'), ('내사', 'Noun'), ('울', 'Noun'), ('엉', 'Exclamation'), ('어느', 'Adverb'), ('날', 'Noun'), ('새리', 'Verb'), ('독', 'Noun'), ('의', 'Josa'), ('목', 'Noun'), ('에', 'Josa'), ('통쇠', 'Noun'), ('나', 'Josa'), ('종강', 'Noun'), ('내', 'Noun'), ('가', 'Josa'), ('대신', 'Noun'), ('울어나', 'Verb'), ('보', 'Noun'), ('카요', 'Noun'), ('바', 'Noun'), ('당', 'Suffix'), ('에요', 'Josa'), ('물', 'Noun'), ('에', 'Josa'), ('들', 'Verb'), ('언', 'Modifier'), ('좀', 'Noun'), ('복구', 'Noun'), ('젱', 'Noun'), ('기고', 'Noun'), ('득', 'Noun'), ('하', 'Suffix'), ('게', 'Josa'), ('잡아', 'Verb'), ('당혼', 'Noun'), ('푼', 'Noun'), ('두', 'Josa'), ('푼', 'Noun'), ('모', 'Modifier'), ('이단', 'Noun'), ('보', 'Noun'), ('난', 'Josa'), ('서방', 'Noun'), ('님', 'Suffix'), ('술깝에몬딱', 'Noun'), ('들어', 'Verb'), ('감쩌', 'Noun'), ('두렁', 'Noun'), ('청', 'Noun'), ('호', 'Noun'), ('게다', 'Noun'), ('울리', 'Verb'), ('멍', 'Noun'), ('일', 'Modifier'), ('호', 'Noun'), ('지', 'Josa'), ('말', 'Noun'), ('라바', 'Noun'), ('농', 'Noun'), ('존', 'Noun'), ('둥이', 'Noun'), ('졸라', 'Noun'), ('메', 'Noun'), ('영', 'Modifier'), ('바농질', 'Noun'), ('되는', 'Verb'), ('거봔디야촌촌히', 'Noun'), ('생각', 'Noun'), ('호멍호', 'Noun'), ('나', 'Josa'), ('씩', 'Adverb'), ('해사일이', 'Noun'), ('된다', 'Verb'), ('살당', 'Verb'), ('보민', 'Noun'), ('고생', 'Noun'), ('홀', 'Noun'), ('때', 'Noun'), ('도', 'Josa'), ('있곡어려웡', 'Noun'), ('쓸어질', 'Verb'), ('때', 'Noun'), ('도', 'Josa'), ('있', 'Adjective'), ('저', 'Determiner'), ('경해', 'Noun'), ('도', 'Josa'), ('허천', 'Noun'), ('베레', 'Noun'), ('지', 'Josa'), ('말라', 'Adjective'), ('곳작', 'Noun'), ('호', 'Noun'), ('게', 'Josa'), ('걸어', 'Verb'), ('감', 'Noun'), ('시민', 'Noun'), ('나', 'Josa'), ('종', 'Noun'), ('엔', 'Josa'), ('꼭', 'Noun'), ('성', 'Modifier'), ('공', 'Modifier'), ('혼다', 'Noun'), ('한림', 'Noun'), ('공원', 'Noun'), ('에', 'Josa'), ('강', 'Noun'), ('봅', 'Verb'), ('디', 'Noun'), ('가', 'Josa'), ('밸', 'Noun'), ('의', 'Josa'), ('밸', 'Noun'), ('낭', 'Noun'), ('이랑', 'Josa'), ('꽃', 'Noun'), ('이랑', 'Josa'), ('잘도', 'Verb'), ('곱디', 'Adjective'), ('다소', 'Noun'), ('랑', 'Josa'), ('호', 'Noun'), ('는', 'Josa'), ('사롬', 'Noun'), ('은', 'Josa'), ('꼭', 'Noun'), ('강', 'Noun'), ('봐사', 'Verb'), ('혼', 'Noun'), ('댄', 'Verb'), ('마', 'Noun'), ('씀', 'Verb'), ('경', 'Noun'), ('해사', 'Noun'), ('소', 'Noun'), ('랑', 'Josa'), ('호멍', 'Noun'), ('잘', 'Verb'), ('산', 'Noun'), ('댄', 'Verb'), ('고릅', 'Verb'), ('디다', 'Noun'), ('서울', 'Noun'), ('서', 'Josa'), ('온', 'Noun'), ('소', 'Modifier'), ('나이', 'Noun'), ('제주', 'Noun'), ('비바리', 'Noun'), ('에', 'Josa'), ('미쳐', 'Adjective'), ('부런', 'Adjective'), ('오늘', 'Noun'), ('가카', 'Noun'), ('넬', 'Noun'), ('가카', 'Noun'), ('호단', 'Noun'), ('보', 'Noun'), ('난', 'Josa'), ('옴짝', 'Noun'), ('못핸', 'Noun'), ('살암', 'Noun'), ('서', 'Josa'), ('라', 'Josa'), ('새', 'Noun'), ('각', 'Modifier'), ('씨', 'Noun'), ('무사', 'Noun'), ('안', 'Noun'), ('왐쑤과어떵', 'Noun'), ('된', 'Verb'), ('거', 'Noun'), ('아니우', 'Adjective'), ('꽈강', 'Noun'), ('돌', 'Noun'), ('앙', 'Adverb'), ('옵', 'Noun'), ('서', 'Josa'), ('무신', 'Modifier'), ('걸', 'Noun'), ('경', 'Noun'), ('몽캠', 'Noun'), ('신고', 'Noun'), ('오늘', 'Noun'), ('랑', 'Josa'), ('우리', 'Noun'), ('밭디', 'Noun'), ('마농', 'Noun'), ('심거', 'Verb'), ('줍', 'Verb'), ('서경', 'Noun'), ('홉', 'Noun'), ('주마', 'Noun'), ('겐디', 'Noun'), ('비', 'Noun'), ('옴직', 'Noun'), ('해염', 'Noun'), ('쑤다', 'Verb'), ('동', 'Modifier'), ('그', 'Modifier'), ('레', 'Noun'), ('구름', 'Noun'), ('이', 'Josa'), ('시', 'Noun'), ('커', 'Verb'), ('멍', 'Noun'), ('햄', 'Noun'), ('신게', 'Verb'), ('마', 'Noun'), ('씀', 'Verb'), ('게민', 'Adverb'), ('호꼼', 'Noun'), ('있당', 'Adjective'), ('와', 'Verb'), ('줍', 'Verb'), ('서아', 'Verb'), ('척', 'Noun'), ('부터', 'Josa'), ('조', 'Modifier'), ('녁', 'Noun'), ('까지', 'Josa'), ('두리', 'Noun'), ('둥실', 'Noun'), ('사랑', 'Noun'), ('호곡', 'Noun'), ('구경', 'Noun'), ('호', 'Noun'), ('곡경', 'Noun'), ('호단', 'Noun'), ('보', 'Noun'), ('난', 'Josa'), ('꽝', 'Noun'), ('이', 'Josa'), ('복삭', 'Noun'), ('하우', 'Adverb'), ('다소', 'Noun'), ('랑', 'Josa'), ('홀', 'Noun'), ('땐', 'Noun'), ('솔', 'Noun'), ('째기', 'Verb'), ('골라', 'Verb'), ('누', 'Noun'), ('게', 'Josa'), ('들', 'Verb'), ('엉', 'Exclamation'), ('웃나아', 'Verb'), ('무도', 'Noun'), ('몰르게', 'Verb'), ('느영', 'Noun'), ('나영', 'Noun'), ('만', 'Josa'), ('솔', 'Noun'), ('째기', 'Verb'), ('호게', 'Noun'), ('어', 'Suffix'), ('멍', 'Noun'), ('이영', 'Noun'), ('고치', 'Noun'), ('옵세오당', 'Verb'), ('그', 'Determiner'), ('네', 'Modifier'), ('영', 'Noun'), ('호곡', 'Noun'), ('정', 'Noun'), ('호곡', 'Noun'), ('홉', 'Noun'), ('서', 'Josa'), ('무사', 'Noun'), ('경', 'Noun'), ('숨', 'Noun'), ('고', 'Modifier'), ('끼멍', 'Noun'), ('고람', 'Noun'), ('서', 'Josa'), ('짐', 'Noun'), ('진놈', 'Noun'), ('이', 'Josa'), ('팡', 'Noun'), ('을', 'Josa'), ('촛', 'Noun'), ('주', 'Modifier'), ('게게', 'Noun'), ('난', 'Josa'), ('걱정', 'Noun'), ('말', 'Noun'), ('앙', 'Adverb'), ('고', 'Noun'), ('만이', 'Josa'), ('이서', 'Noun'), ('저기', 'Noun'), ('요새', 'Noun'), ('애', 'Noun'), ('들', 'Suffix'), ('옷', 'Noun'), ('입', 'Noun'), ('언', 'Modifier'), ('댕기', 'Noun'), ('는', 'Josa'), ('거', 'Noun'), ('봅서', 'Verb'), ('허벅지', 'Noun'), ('도', 'Josa'), ('내', 'Noun'), ('놓', 'Verb'), ('곡베또롱', 'Noun'), ('도', 'Josa'), ('내', 'Noun'), ('놓', 'Verb'), ('곡', 'Noun'), ('그거', 'Noun'), ('무슨', 'Noun'), ('요망', 'Noun'), ('들', 'Suffix'), ('이라', 'Josa'), ('경', 'Noun'), ('말', 'Noun'), ('앙', 'Adverb'), ('몬뜰락', 'Noun'), ('벗', 'Noun'), ('엉', 'Exclamation'), ('댕기', 'Noun'), ('주', 'Noun'), ('게호꼼', 'Noun'), ('미안하우다이게', 'Adjective'), ('얼마', 'Noun'), ('꽈', 'Noun'), ('오천원', 'Noun'), ('마씀호꼼', 'Noun'), ('만', 'Josa'), ('싸게', 'Verb'), ('안되', 'Adjective'), ('카', 'Noun'), ('마', 'Noun'), ('씀', 'Verb'), ('경', 'Noun'), ('해사', 'Noun'), ('다시', 'Noun'), ('올', 'Verb'), ('거', 'Noun'), ('아니꽈한락산드레', 'Noun'), ('가젱', 'Noun'), ('호민', 'Noun'), ('어떵', 'Noun'), ('갑', 'Noun'), ('니까', 'Josa'), ('바', 'Noun'), ('당', 'Suffix'), ('드렌', 'Noun'), ('어떵', 'Noun'), ('갑', 'Noun'), ('니까', 'Josa'), ('차', 'Noun'), ('타젱', 'Noun'), ('호민', 'Noun'), ('하영', 'Adverb'), ('가사', 'Noun'), ('홉', 'Noun'), ('니까', 'Josa'), ('제주도', 'Noun'), ('엔', 'Josa'), ('가당', 'Noun'), ('봐도', 'Verb'), ('바', 'Noun'), ('당', 'Modifier'), ('이우', 'Noun'), ('다', 'Josa'), ('양', 'Noun'), ('들어', 'Verb'), ('왕', 'Noun'), ('놀당', 'Verb'), ('갑', 'Noun'), ('서경', 'Noun'), ('호카', 'Noun'), ('마', 'Noun'), ('씀', 'Verb'), ('여기', 'Noun'), ('불', 'Noun'), ('조', 'Noun'), ('끄', 'Verb'), ('띠', 'Noun'), ('안즙', 'Noun'), ('서', 'Josa'), ('똣똣', 'Noun'), ('하우다', 'Noun'), ('촘말', 'Noun'), ('맨', 'Noun'), ('도', 'Josa'), ('롱혼', 'Noun'), ('게', 'Noun'), ('좋수다', 'Adjective'), ('무', 'Noun'), ('싱거', 'Adjective'), ('옌', 'Noun'), ('소곤닥', 'Noun'), ('햄', 'Noun'), ('시', 'Modifier'), ('니', 'Modifier'), ('비바리', 'Noun'), ('씨집', 'Noun'), ('보내키옌', 'Noun'), ('마', 'Noun'), ('씀', 'Verb'), ('경', 'Noun'), ('해사', 'Noun'), ('주게', 'Verb'), ('잘', 'Verb'), ('생각', 'Noun'), ('했', 'Verb'), ('저', 'Determiner'), ('똘년', 'Noun'), ('은', 'Josa'), ('나이', 'Noun'), ('차민', 'Noun'), ('혼저', 'Noun'), ('보내', 'Verb'), ('산다', 'Noun'), ('경', 'Noun'), ('들럭퀴', 'Noun'), ('지', 'Josa'), ('말라', 'Adjective'), ('초', 'Noun'), ('든', 'Josa'), ('초', 'Noun'), ('든', 'Josa'), ('말', 'Noun'), ('들', 'Verb'), ('엉', 'Exclamation'), ('생각', 'Noun'), ('호', 'Noun'), ('라', 'Josa'), ('어떵', 'Noun'), ('혼', 'Noun'), ('일인', 'Noun'), ('지', 'Josa'), ('알아사', 'Verb'), ('홀', 'Noun'), ('꺼', 'Verb'), ('아닌', 'Adjective'), ('가경', 'Noun'), ('하', 'Exclamation'), ('당', 'Noun'), ('숨', 'Noun'), ('넘어', 'Verb'), ('가키여돌코롬', 'Noun'), ('혼', 'Noun'), ('거', 'Noun'), ('엇', 'Noun'), ('수', 'Modifier'), ('과', 'Noun'), ('게', 'Josa'), ('메', 'Noun'), ('어떵', 'Noun'), ('것', 'Noun'), ('이', 'Josa'), ('돌코롬', 'Noun'), ('호코', 'Noun'), ('사탕', 'Noun'), ('을', 'Josa'), ('주', 'Modifier'), ('카', 'Noun'), ('마', 'Noun'), ('씀아니우다', 'Verb'), ('게민', 'Adverb'), ('솔문', 'Noun'), ('독새', 'Noun'), ('기', 'Noun'), ('나', 'Josa'), ('호', 'Noun'), ('나', 'Josa'), ('줍서어드레', 'Noun'), ('감', 'Noun'), ('쑤과', 'Verb'), ('이래', 'Adjective'), ('옵', 'Noun'), ('서', 'Josa'), ('저', 'Noun'), ('들', 'Suffix'), ('멍', 'Noun'), ('살', 'Noun'), ('지', 'Josa'), ('맙', 'Noun'), ('서영', 'Noun'), ('살아도', 'Verb'), ('혼', 'Noun'), ('세상', 'Noun'), ('정', 'Noun'), ('살아도', 'Verb'), ('혼', 'Noun'), ('세상', 'Noun'), ('두리', 'Noun'), ('둥실', 'Noun'), ('느영', 'Noun'), ('나영', 'Noun'), ('소', 'Noun'), ('랑', 'Josa'), ('이나', 'Noun'), ('호', 'Noun'), ('게', 'Josa'), ('마', 'Noun'), ('씀', 'Verb'), ('앞', 'Noun'), ('낭', 'Noun'), ('에', 'Josa'), ('아', 'Exclamation'), ('진', 'Noun'), ('새야', 'Verb'), ('무사', 'Noun'), ('경', 'Noun'), ('울', 'Modifier'), ('엄', 'Noun'), ('시냐', 'Noun'), ('서울', 'Noun'), ('간', 'Suffix'), ('우리', 'Noun'), ('서방', 'Noun'), ('재게', 'Verb'), ('오랜', 'Adverb'), ('울', 'Modifier'), ('엄', 'Noun'), ('시냐', 'Noun'), ('저승', 'Noun'), ('간', 'Noun'), ('우리', 'Noun'), ('어멍', 'Noun'), ('그', 'Determiner'), ('리', 'Noun'), ('원', 'Suffix'), ('울', 'Modifier'), ('엄', 'Noun'), ('시냐', 'Noun'), ('내', 'Determiner'), ('모심', 'Verb'), ('아는', 'Verb'), ('건', 'Noun'), ('저', 'Noun'), ('생', 'Noun'), ('이', 'Josa'), ('뿐', 'Noun'), ('이구나', 'Josa'), ('저기', 'Noun'), ('보라', 'Noun'), ('느', 'Noun'), ('네', 'Josa'), ('아', 'Exclamation'), ('방', 'Noun'), ('어멍', 'Noun'), ('혼디', 'Noun'), ('감쩌게메', 'Noun'), ('어디', 'Noun'), ('감신', 'Noun'), ('고', 'Josa'), ('하르방', 'Noun'), ('할', 'Verb'), ('망은', 'Noun'), ('어신게괸당집', 'Noun'), ('이', 'Josa'), ('상', 'Noun'), ('난', 'Noun'), ('에', 'Josa'), ('감실거우다', 'Verb'), ('무', 'Noun'), ('싱거', 'Adjective'), ('하미', 'Noun'), ('꽈', 'Noun'), ('도르', 'Verb'), ('멍', 'Noun'), ('옵', 'Noun'), ('서', 'Josa'), ('무사', 'Noun'), ('경', 'Noun'), ('다', 'Adverb'), ('울렴', 'Verb'), ('디해', 'Noun'), ('저물', 'Verb'), ('민', 'Noun'), ('어떵', 'Noun'), ('홉', 'Noun'), ('니까', 'Josa'), ('왁왁', 'Adverb'), ('호민', 'Noun'), ('질', 'Noun'), ('잃어부렁', 'Noun'), ('큰', 'Verb'), ('일', 'Noun'), ('납니다', 'Verb'), ('강', 'Noun'), ('보라', 'Noun'), ('니', 'Noun'), ('네', 'Josa'), ('새', 'Modifier'), ('서방', 'Noun'), ('왔', 'Verb'), ('저', 'Noun'), ('아이구', 'Exclamation'), ('부치루완', 'Noun'), ('어떵', 'Noun'), ('호코', 'Noun'), ('마', 'Noun'), ('씀앗다', 'Verb'), ('양양', 'Noun'), ('게', 'Josa'), ('피우지', 'Noun'), ('말라', 'Adjective'), ('혼', 'Noun'), ('저', 'Determiner'), ('가', 'Verb'), ('그네', 'Noun'), ('옵디', 'Noun'), ('가', 'Josa'), ('인사', 'Noun'), ('호', 'Noun'), ('라', 'Josa'), ('어디', 'Noun'), ('갔단', 'Verb'), ('왐수과밭디', 'Noun'), ('갔다', 'Verb'), ('왐쩌', 'Noun'), ('어드레', 'Noun'), ('감', 'Noun'), ('디바', 'Noun'), ('당', 'Suffix'), ('에', 'Josa'), ('괴기', 'Noun'), ('낚', 'Noun'), ('으레', 'Noun'), ('감', 'Noun'), ('쑤다', 'Verb'), ('절', 'Noun'), ('쎄', 'Adjective'), ('어서', 'Noun'), ('라', 'Josa'), ('조', 'Modifier'), ('심호', 'Noun'), ('곡', 'Noun'), ('혼저', 'Noun'), ('오래', 'Adverb'), ('이', 'Determiner'), ('젠', 'Noun'), ('니', 'Noun'), ('인생', 'Noun'), ('은', 'Josa'), ('니', 'Noun'), ('가', 'Josa'), ('알', 'Noun'), ('앙', 'Adverb'), ('가야', 'Noun'), ('혼다', 'Noun'), ('알았수다', 'Verb'), ('잘', 'Verb'), ('살', 'Noun'), ('크', 'Verb'), ('메', 'Noun'), ('걱정', 'Noun'), ('맙서기', 'Noun'), ('여', 'Josa'), ('아는', 'Verb'), ('질도', 'Noun'), ('들으', 'Verb'), ('멍', 'Noun'), ('가라', 'Noun'), ('조심', 'Noun'), ('하', 'Suffix'), ('멍', 'Noun'), ('가는', 'Verb'), ('질', 'Noun'), ('은', 'Josa'), ('펜안', 'Noun'), ('혼다', 'Noun'), ('무', 'Noun'), ('싱거', 'Adjective'), ('하미', 'Noun'), ('꽈', 'Noun'), ('혼저', 'Noun'), ('옵', 'Noun'), ('서게', 'Verb'), ('기여', 'Noun'), ('알았', 'Verb'), ('저', 'Determiner'), ('혼저', 'Noun'), ('글', 'Noun'), ('라', 'Josa'), ('푸더', 'Verb'), ('지질', 'Noun'), ('랑', 'Josa'), ('말', 'Noun'), ('앙', 'Adverb'), ('옵', 'Noun'), ('서', 'Josa'), ('돌', 'Noun'), ('조', 'Modifier'), ('심호', 'Noun'), ('곡', 'Noun'), ('고', 'Modifier'), ('짝', 'Noun'), ('옵세', 'Verb'), ('제주도', 'Noun'), ('비바리', 'Noun'), ('가', 'Josa'), ('경도', 'Noun'), ('좋으냐고', 'Adjective'), ('랑은', 'Josa'), ('몰라', 'Verb'), ('마', 'Noun'), ('씀', 'Verb'), ('왕', 'Noun'), ('봐사', 'Verb'), ('알', 'Noun'), ('아', 'Josa'), ('집니다', 'Verb'), ('모심도', 'Verb'), ('좋고', 'Adjective'), ('얼굴', 'Noun'), ('도', 'Josa'), ('좋고', 'Adjective'), ('집안', 'Noun'), ('도', 'Josa'), ('좋아', 'Adjective'), ('마', 'Noun'), ('씀', 'Verb'), ('여보', 'Noun'), ('나', 'Noun'), ('등땡', 'Noun'), ('이', 'Josa'), ('고', 'Modifier'), ('렵', 'Noun'), ('다', 'Adverb'), ('어디', 'Noun'), ('영', 'Noun'), ('홉', 'Noun'), ('서', 'Josa'), ('보게', 'Verb'), ('아이구', 'Exclamation'), ('베렝', 'Noun'), ('이', 'Josa'), ('물어싱', 'Noun'), ('게', 'Josa'), ('마씸약', 'Noun'), ('볼라', 'Noun'), ('사', 'Noun'), ('하', 'Exclamation'), ('쿠다', 'Noun'), ('돌아', 'Verb'), ('맨', 'Noun'), ('도', 'Noun'), ('새', 'Modifier'), ('기', 'Modifier'), ('야니', 'Noun'), ('신세', 'Noun'), ('가', 'Josa'), ('불쌍호', 'Noun'), ('다', 'Josa'), ('아이구', 'Exclamation'), ('기', 'Modifier'), ('시', 'Modifier'), ('린', 'Noun'), ('도', 'Noun'), ('새기야나', 'Verb'), ('걱정', 'Noun'), ('말', 'Noun'), ('앙', 'Adverb'), ('니', 'Noun'), ('죽어', 'Verb'), ('가능', 'Noun'), ('거나', 'Noun'), ('걱정', 'Noun'), ('호', 'Noun'), ('라', 'Josa'), ('죽어', 'Verb'), ('가능', 'Noun'), ('게', 'Noun'), ('벨것', 'Verb'), ('다', 'Adverb'), ('걱정', 'Noun'), ('햄', 'Noun'), ('시', 'Modifier'), ('니', 'Modifier'), ('돌', 'Noun'), ('고', 'Modifier'), ('냥', 'Noun'), ('으로', 'Josa'), ('보라', 'Noun'), ('꽃들이', 'Noun'), ('모들락', 'Noun'), ('호', 'Noun'), ('게', 'Josa'), ('피어', 'Noun'), ('있', 'Adjective'), ('저', 'Determiner'), ('우리', 'Noun'), ('님', 'Noun'), ('의', 'Josa'), ('얼굴', 'Noun'), ('도', 'Josa'), ('꽃치', 'Noun'), ('되언', 'Verb'), ('피엄쩌소', 'Noun'), ('랑', 'Josa'), ('소', 'Noun'), ('랑', 'Josa'), ('소', 'Noun'), ('랑', 'Josa'), ('꽃', 'Noun'), ('도', 'Josa'), ('고', 'Modifier'), ('득호', 'Noun'), ('게', 'Josa'), ('피', 'Noun'), ('엄쩌', 'Noun'), ('괴기', 'Noun'), ('멍텅혼', 'Noun'), ('건', 'Noun'), ('잡아나', 'Verb'), ('먹', 'Verb'), ('곡', 'Noun'), ('낭', 'Noun'), ('멍텅혼', 'Noun'), ('건', 'Noun'), ('불', 'Noun'), ('이나', 'Josa'), ('솜곡', 'Noun'), ('돌', 'Noun'), ('멍텅혼', 'Noun'), ('건', 'Noun'), ('담', 'Noun'), ('이나', 'Josa'), ('닷', 'Modifier'), ('나사', 'Noun'), ('롬', 'Noun'), ('멍텅혼', 'Noun'), ('건', 'Noun'), ('아무', 'Noun'), ('것', 'Noun'), ('에도', 'Josa'), ('못', 'Noun'), ('쓰', 'Verb'), ('키', 'Noun'), ('여느', 'Modifier'), ('영', 'Noun'), ('나영', 'Noun'), ('둘', 'Noun'), ('이', 'Josa'), ('둥실', 'Noun'), ('낮', 'Noun'), ('에', 'Josa'), ('낮', 'Noun'), ('이나', 'Josa'), ('밤', 'Noun'), ('에', 'Josa'), ('밤', 'Noun'), ('이나', 'Josa'), ('쌍소', 'Noun'), ('랑', 'Josa'), ('이', 'Determiner'), ('로구나', 'Noun'), ('아', 'Josa'), ('척', 'Noun'), ('에', 'Josa'), ('우는', 'Verb'), ('생인', 'Noun'), ('배', 'Noun'), ('가', 'Josa'), ('고', 'Noun'), ('팡', 'Adverb'), ('울', 'Modifier'), ('고요', 'Noun'), ('조', 'Modifier'), ('녁', 'Noun'), ('에', 'Josa'), ('우는', 'Verb'), ('생인', 'Noun'), ('님', 'Suffix'), ('그리웡', 'Noun'), ('운다널븐', 'Noun'), ('바', 'Noun'), ('당', 'Suffix'), ('앞', 'Noun'), ('을', 'Josa'), ('재', 'Noun'), ('여', 'Josa'), ('혼질', 'Noun'), ('두질', 'Verb'), ('나아', 'Adverb'), ('가곡', 'Noun'), ('짚은', 'Verb'), ('바', 'Noun'), ('당', 'Suffix'), ('짚일', 'Noun'), ('재', 'Noun'), ('여', 'Josa'), ('혼질', 'Noun'), ('두질', 'Verb'), ('들어가', 'Verb'), ('민', 'Noun'), ('저승', 'Noun'), ('길이', 'Noun'), ('왔닥', 'Noun'), ('갔닥', 'Noun'), ('이어도', 'Noun'), ('사나', 'Noun'), ('이어도', 'Noun'), ('사나', 'Noun'), ('이어도', 'Noun'), ('가', 'Josa'), ('저승', 'Noun'), ('질', 'Noun'), ('이', 'Josa'), ('반', 'Modifier'), ('이', 'Modifier'), ('옌', 'Noun'), ('혼다', 'Noun'), ('새', 'Modifier'), ('서방', 'Noun'), ('들어', 'Verb'), ('왐쩌', 'Noun'), ('저리', 'Noun'), ('고쩌', 'Noun'), ('사', 'Modifier'), ('불', 'Noun'), ('라', 'Josa'), ('영', 'Noun'), ('홉서호꼼', 'Noun'), ('만', 'Josa'), ('보게마', 'Verb'), ('씀', 'Verb'), ('몰치', 'Verb'), ('락', 'Noun'), ('혼', 'Noun'), ('게', 'Josa'), ('잘도', 'Verb'), ('생겼', 'Verb'), ('저', 'Determiner'), ('말', 'Noun'), ('도', 'Josa'), ('안', 'Noun'), ('득곡', 'Noun'), ('일도', 'Noun'), ('안', 'Noun'), ('호곡', 'Noun'), ('촘말', 'Noun'), ('로', 'Josa'), ('경', 'Noun'), ('호민', 'Noun'), ('뚜러메당', 'Noun'), ('데', 'Noun'), ('껴', 'Verb'), ('불키여사롬', 'Noun'), ('은', 'Josa'), ('일해사', 'Noun'), ('살', 'Noun'), ('아', 'Josa'), ('지는거여', 'Verb'), ('호꼼', 'Noun'), ('씩', 'Suffix'), ('먹으라', 'Verb'), ('숨', 'Noun'), ('넘어가', 'Verb'), ('키', 'Noun'), ('여', 'Josa'), ('배', 'Noun'), ('고', 'Modifier'), ('판', 'Noun'), ('마', 'Noun'), ('씀', 'Verb'), ('경', 'Noun'), ('먹', 'Verb'), ('당', 'Noun'), ('은', 'Josa'), ('숨', 'Noun'), ('고', 'Modifier'), ('끼키', 'Noun'), ('여', 'Josa'), ('누', 'Noun'), ('게', 'Josa'), ('도둑질', 'Noun'), ('안하', 'Verb'), ('메', 'Noun'), ('촌촌', 'Noun'), ('히', 'Adverb'), ('먹으', 'Verb'), ('라사', 'Noun'), ('롬', 'Noun'), ('있수과', 'Adjective'), ('누게꽈', 'Noun'), ('웃', 'Noun'), ('동네', 'Noun'), ('갑', 'Noun'), ('돌이', 'Noun'), ('어멍', 'Noun'), ('이우', 'Noun'), ('다', 'Josa'), ('아이구', 'Exclamation'), ('어떵', 'Noun'), ('호', 'Noun'), ('난', 'Josa'), ('와', 'Verb'), ('집디', 'Noun'), ('가', 'Josa'), ('게우리', 'Verb'), ('똘', 'Noun'), ('은', 'Josa'), ('아무', 'Modifier'), ('것', 'Noun'), ('도', 'Josa'), ('몰라', 'Verb'), ('마씸', 'Noun'), ('분시', 'Verb'), ('몰른', 'Verb'), ('애기', 'Noun'), ('설운', 'Verb'), ('애기', 'Noun'), ('우', 'Adverb'), ('다', 'Adverb'), ('잘', 'Verb'), ('돌', 'Noun'), ('앙', 'Adverb'), ('살', 'Noun'), ('아', 'Josa'), ('줍서', 'Verb'), ('고르치', 'Verb'), ('멍', 'Noun'), ('살아사', 'Verb'), ('할', 'Verb'), ('꺼우', 'Verb'), ('다무신', 'Verb'), ('걸', 'Noun'), ('잘', 'Verb'), ('하구랜', 'Noun'), ('큰', 'Verb'), ('소리', 'Noun'), ('꽈똥', 'Noun'), ('뀐', 'Noun'), ('놈', 'Noun'), ('이', 'Josa'), ('성', 'Noun'), ('냄쩌누겐', 'Noun'), ('입', 'Noun'), ('어선', 'Noun'), ('말', 'Noun'), ('못', 'Noun'), ('햄', 'Noun'), ('시', 'Modifier'), ('카', 'Noun'), ('부', 'Noun'), ('댄', 'Verb'), ('지랭', 'Noun'), ('이', 'Suffix'), ('도', 'Josa'), ('볼', 'Noun'), ('부민', 'Noun'), ('꿈틀', 'Noun'), ('락홉', 'Noun'), ('니', 'Josa'), ('다', 'Adverb'), ('양', 'Noun'), ('나', 'Josa'), ('모심', 'Verb'), ('몰르쿠', 'Noun'), ('과', 'Josa'), ('당신', 'Noun'), ('만', 'Josa'), ('보민', 'Noun'), ('가슴', 'Noun'), ('이', 'Josa'), ('금착', 'Noun'), ('금착', 'Noun'), ('영도', 'Noun'), ('못', 'Noun'), ('하', 'Suffix'), ('곡', 'Noun'), ('정도', 'Noun'), ('못', 'Noun'), ('하', 'Suffix'), ('곡', 'Noun'), ('나', 'Noun'), ('모심', 'Verb'), ('나도', 'Verb'), ('몰르', 'Verb'), ('쿠다', 'Noun'), ('어느', 'Modifier'), ('제', 'Noun'), ('옵디', 'Noun'), ('가', 'Josa'), ('혼', 'Noun'), ('사', 'Modifier'), ('나흘', 'Noun'), ('됐수다', 'Verb'), ('다', 'Adverb'), ('들', 'Verb'), ('펜안', 'Noun'), ('했수과', 'Verb'), ('어떵', 'Noun'), ('살', 'Noun'), ('아', 'Josa'), ('점', 'Noun'), ('쑤과', 'Verb'), ('씨', 'Noun'), ('집가난', 'Verb'), ('어떵', 'Noun'), ('홉디', 'Noun'), ('가', 'Josa'), ('아이고', 'Exclamation'), ('말', 'Noun'), ('도', 'Josa'), ('말라', 'Adjective'), ('무신', 'Noun'), ('거시', 'Noun'), ('무신', 'Noun'), ('건지', 'Verb'), ('귀', 'Noun'), ('눈', 'Noun'), ('이', 'Josa'), ('왁왁', 'Adverb'), ('해', 'Noun'), ('라', 'Josa'), ('서울', 'Noun'), ('엔', 'Josa'), ('언제', 'Noun'), ('가쿠', 'Noun'), ('과', 'Josa'), ('갈', 'Verb'), ('때', 'Noun'), ('랑', 'Josa'), ('날', 'Noun'), ('도랑', 'Noun'), ('가', 'Verb'), ('줍서', 'Verb'), ('서울', 'Noun'), ('강', 'Noun'), ('무싱', 'Noun'), ('거', 'Noun'), ('호젠', 'Noun'), ('구경', 'Noun'), ('도', 'Josa'), ('호곡', 'Noun'), ('서울', 'Noun'), ('소랑도', 'Noun'), ('해', 'Noun'), ('보젠', 'Noun'), ('마', 'Noun'), ('씀', 'Verb'), ('무사', 'Noun'), ('무싱', 'Noun'), ('거옌', 'Noun'), ('고릅', 'Verb'), ('디', 'Noun'), ('가', 'Josa'), ('솔', 'Noun'), ('째기', 'Verb'), ('왕', 'Noun'), ('말홉', 'Noun'), ('서', 'Josa'), ('보', 'Noun'), ('저', 'Determiner'), ('게메', 'Noun'), ('말호카', 'Noun'), ('말카', 'Noun'), ('속', 'Noun'), ('태우지', 'Verb'), ('말', 'Noun'), ('앙', 'Adverb'), ('확', 'Noun'), ('홉', 'Noun'), ('서게', 'Verb'), ('게민', 'Adverb'), ('놈', 'Noun'), ('혼테', 'Noun'), ('랑', 'Josa'), ('아무', 'Noun'), ('말', 'Noun'), ('도', 'Josa'), ('호', 'Noun'), ('지', 'Josa'), ('맙', 'Noun'), ('서', 'Josa'), ('양', 'Modifier'), ('누', 'Noun'), ('게', 'Josa'), ('있수과', 'Adjective'), ('안녕', 'Noun'), ('하우꽈', 'Noun'), ('아', 'Exclamation'), ('방', 'Noun'), ('어멍', 'Noun'), ('다', 'Adverb'), ('펜안', 'Noun'), ('했수과', 'Verb'), ('어디', 'Noun'), ('갔당', 'Verb'), ('왐쑤', 'Noun'), ('과', 'Josa'), ('요새', 'Noun'), ('어떵', 'Noun'), ('살미꽈', 'Noun'), ('좋수', 'Adjective'), ('과', 'Noun'), ('어', 'Suffix'), ('드레', 'Noun'), ('감', 'Noun'), ('쑤과', 'Verb'), ('이래', 'Adjective'), ('옵', 'Noun'), ('서게', 'Verb'), ('혼', 'Noun'), ('저', 'Determiner'), ('혼저', 'Noun'), ('옵', 'Noun'), ('서게', 'Verb'), ('솔짝', 'Noun'), ('솔짝', 'Noun'), ('옵서게느영', 'Noun'), ('나영', 'Noun'), ('두리', 'Noun'), ('둥실', 'Noun'), ('소', 'Noun'), ('랑', 'Josa'), ('이나', 'Noun'), ('호', 'Noun'), ('게', 'Josa'), ('마씀촘말', 'Noun'), ('로', 'Josa'), ('가쿠과게메', 'Noun'), ('홀수', 'Noun'), ('가', 'Josa'), ('엇다', 'Noun'), ('게', 'Josa'), ('게민', 'Adverb'), ('나', 'Noun'), ('혼자', 'Noun'), ('만', 'Josa'), ('어떵', 'Noun'), ('살랜', 'Noun'), ('마씀어떵', 'Noun'), ('호', 'Noun'), ('느니', 'Verb'), ('호꼼', 'Noun'), ('만', 'Josa'), ('촘앙', 'Noun'), ('살', 'Noun'), ('암시', 'Noun'), ('라', 'Josa'), ('떠나는', 'Verb'), ('내', 'Noun'), ('모심도', 'Verb'), ('울어', 'Verb'), ('지키', 'Verb'), ('여우', 'Noun'), ('이', 'Suffix'), ('어멍', 'Noun'), ('사는', 'Verb'), ('바', 'Noun'), ('당', 'Suffix'), ('우리', 'Noun'), ('목숨', 'Noun'), ('키운', 'Verb'), ('바', 'Noun'), ('당', 'Suffix'), ('동', 'Noun'), ('에', 'Josa'), ('가', 'Verb'), ('민', 'Noun'), ('동의', 'Noun'), ('바', 'Noun'), ('당', 'Suffix'), ('서에', 'Verb'), ('가', 'Verb'), ('민', 'Noun'), ('서의', 'Verb'), ('바', 'Noun'), ('당', 'Suffix'), ('보름', 'Noun'), ('불민', 'Noun'), ('파도', 'Noun'), ('치곡', 'Noun'), ('비', 'Noun'), ('가', 'Josa'), ('오', 'Modifier'), ('민', 'Noun'), ('날', 'Noun'), ('저물', 'Verb'), ('곡', 'Noun'), ('하늘', 'Noun'), ('고', 'Noun'), ('튼', 'Verb'), ('요왕', 'Noun'), ('님', 'Suffix'), ('아', 'Josa'), ('명주', 'Noun'), ('바', 'Noun'), ('당', 'Suffix'), ('맨', 'Noun'), ('들어서', 'Verb'), ('우리', 'Noun'), ('어멍', 'Noun'), ('설은', 'Verb'), ('가슴', 'Noun'), ('펭안호', 'Noun'), ('게', 'Josa'), ('호', 'Noun'), ('여', 'Josa'), ('줍서어떵', 'Noun'), ('살코', 'Noun'), ('마씸', 'Noun'), ('무사', 'Noun'), ('경', 'Noun'), ('저', 'Noun'), ('들', 'Suffix'), ('멍', 'Noun'), ('살암', 'Noun'), ('쑤과', 'Verb'), ('촘앙', 'Noun'), ('삽', 'Noun'), ('서', 'Josa'), ('경', 'Noun'), ('햄', 'Noun'), ('시민', 'Noun'), ('살', 'Noun'), ('아', 'Josa'), ('짐니다', 'Verb'), ('혼', 'Noun'), ('저', 'Determiner'), ('옵', 'Noun'), ('서게', 'Verb'), ('혼저', 'Noun'), ('오라', 'Noun'), ('게', 'Josa'), ('고만', 'Eomi'), ('십', 'Noun'), ('서게고만', 'Verb'), ('시라', 'Noun'), ('게', 'Josa'), ('무신', 'Noun'), ('거', 'Noun'), ('햄', 'Noun'), ('쑤과', 'Verb'), ('무신', 'Noun'), ('거', 'Noun'), ('햄시', 'Noun'), ('니', 'Josa'), ('무사', 'Noun'), ('경', 'Noun'), ('급호꽈', 'Noun'), ('무사', 'Noun'), ('경', 'Noun'), ('급호', 'Noun'), ('냐', 'Josa'), ('게메', 'Noun'), ('마씸', 'Noun'), ('확', 'Noun'), ('옵', 'Noun'), ('서게', 'Verb'), ('기여', 'Noun'), ('게', 'Noun'), ('확', 'Noun'), ('오라', 'Noun'), ('게', 'Josa'), ('새', 'Modifier'), ('각', 'Modifier'), ('씨', 'Noun'), ('구', 'Modifier'), ('홀', 'Noun'), ('때', 'Noun'), ('랑', 'Josa'), ('모심을', 'Verb'), ('보라', 'Noun'), ('얼굴', 'Noun'), ('곱들락', 'Noun'), ('혼', 'Noun'), ('것', 'Noun'), ('은', 'Josa'), ('혼', 'Noun'), ('덜', 'Noun'), ('이여', 'Josa'), ('놀씬호곡', 'Noun'), ('멋진', 'Adjective'), ('것', 'Noun'), ('은', 'Josa'), ('혼', 'Noun'), ('해', 'Noun'), ('여', 'Josa'), ('모심', 'Verb'), ('착한', 'Adjective'), ('건', 'Noun'), ('십', 'Noun'), ('년', 'Noun'), ('이', 'Josa'), ('되', 'Verb'), ('곡', 'Noun'), ('백', 'Noun'), ('년', 'Noun'), ('이', 'Josa'), ('되도', 'Verb'), ('저', 'Noun'), ('소', 'Modifier'), ('낭', 'Noun'), ('추', 'Noun'), ('룩', 'Suffix'), ('청', 'Noun'), ('청혼', 'Noun'), ('다', 'Adverb'), ('어느', 'Adverb'), ('모실에', 'Verb'), ('갑', 'Noun'), ('돌이', 'Noun'), ('옌', 'Noun'), ('호', 'Noun'), ('는', 'Josa'), ('소', 'Modifier'), ('나이', 'Noun'), ('와', 'Josa'), ('갑순이', 'Noun'), ('옌', 'Noun'), ('호', 'Noun'), ('는', 'Josa'), ('비바리', 'Noun'), ('가', 'Josa'), ('살았수게', 'Verb'), ('둘이는', 'Verb'), ('좋아', 'Adjective'), ('하', 'Exclamation'), ('멍', 'Noun'), ('도', 'Josa'), ('말', 'Noun'), ('은', 'Josa'), ('못', 'Noun'), ('하', 'Suffix'), ('곡', 'Noun'), ('속', 'Noun'), ('은', 'Josa'), ('타', 'Modifier'), ('멍', 'Noun'), ('도', 'Josa'), ('그', 'Noun'), ('까짓', 'Modifier'), ('거', 'Noun'), ('해', 'Noun'), ('여', 'Josa'), ('십주', 'Noun'), ('경', 'Noun'), ('호단', 'Noun'), ('갑순이', 'Noun'), ('가', 'Josa'), ('씨집', 'Noun'), ('가게', 'Noun'), ('되난', 'Verb'), ('그', 'Determiner'), ('제사', 'Noun'), ('갑', 'Noun'), ('돌이', 'Noun'), ('가', 'Josa'), ('`', 'Punctuation'), ('아이구', 'Exclamation'), ('어멍', 'Noun'), ('아', 'Josa'), ('`', 'Punctuation'), ('하', 'Exclamation'), ('멍', 'Noun'), ('울었수게', 'Verb'), ('경', 'Noun'), ('해도', 'Noun'), ('어떵', 'Noun'), ('해', 'Noun'), ('여', 'Josa'), ('마', 'Noun'), ('씀', 'Verb'), ('홀수', 'Noun'), ('가', 'Josa'), ('어서', 'Noun'), ('십주', 'Noun'), ('갑', 'Noun'), ('돌이', 'Noun'), ('도', 'Josa'), ('부', 'Noun'), ('에가', 'Josa'), ('난', 'Noun'), ('장', 'Noun'), ('게', 'Josa'), ('를', 'Noun'), ('가', 'Verb'), ('부렀수게', 'Verb'), ('장', 'Noun'), ('게', 'Josa'), ('가는', 'Verb'), ('날', 'Noun'), ('은', 'Josa'), ('갑순이', 'Noun'), ('도', 'Josa'), ('정지', 'Noun'), ('에서', 'Josa'), ('울었수게', 'Verb'), ('갑순이', 'Noun'), ('모심도', 'Verb'), ('갑', 'Noun'), ('돌이', 'Noun'), ('뿐이주만', 'Adjective'), ('어떵', 'Noun'), ('홉', 'Noun'), ('니까', 'Josa'), ('사롬', 'Noun'), ('팔', 'Modifier'), ('재', 'Noun'), ('촘', 'Noun'), ('몰르', 'Verb'), ('능거', 'Noun'), ('라', 'Josa'), ('마', 'Noun'), ('씀', 'Verb'), ('게', 'Noun'), ('난', 'Josa'), ('어떵', 'Noun'), ('살코', 'Noun'), ('저', 'Noun'), ('들', 'Suffix'), ('멍', 'Noun'), ('살', 'Noun'), ('지', 'Josa'), ('맙', 'Noun'), ('서', 'Josa'), ('살당', 'Verb'), ('보민', 'Noun'), ('타고난', 'Verb'), ('팔', 'Modifier'), ('재', 'Noun'), ('대로', 'Josa'), ('다', 'Adverb'), ('살', 'Noun'), ('아', 'Josa'), ('짐', 'Noun'), ('니', 'Josa'), ('다물', 'Verb'), ('허', 'Verb'), ('벅', 'Noun'), ('정', 'Noun'), ('가는', 'Verb'), ('저', 'Noun'), ('비바리', 'Noun'), ('야', 'Josa'), ('물', 'Noun'), ('만', 'Josa'), ('지지', 'Noun'), ('말', 'Noun'), ('앙', 'Adverb'), ('이', 'Noun'), ('소', 'Modifier'), ('나이', 'Noun'), ('모심도', 'Verb'), ('정', 'Noun'), ('가도', 'Noun'), ('라', 'Josa'), ('소', 'Noun'), ('랑', 'Josa'), ('혼', 'Noun'), ('댄', 'Verb'), ('말', 'Noun'), ('은', 'Josa'), ('못', 'Noun'), ('하', 'Suffix'), ('곡', 'Noun'), ('돌고', 'Verb'), ('망', 'Noun'), ('에', 'Josa'), ('고분', 'Noun'), ('생', 'Noun'), ('이', 'Determiner'), ('고치', 'Noun'), ('가슴', 'Noun'), ('만', 'Josa'), ('톨랑', 'Adverb'), ('톨', 'Noun'), ('랑어', 'Noun'), ('떵', 'Noun'), ('호민', 'Noun'), ('조', 'Modifier'), ('코', 'Noun'), ('마', 'Noun'), ('씀', 'Verb'), ('멍', 'Noun'), ('는거나', 'Verb'), ('고트', 'Noun'), ('민', 'Noun'), ('맨', 'Modifier'), ('도롱', 'Noun'), ('혼', 'Noun'), ('때', 'Noun'), ('호로록', 'Adverb'), ('들여', 'Verb'), ('싸', 'Verb'), ('불기', 'Noun'), ('나', 'Josa'), ('혼다', 'Noun'), ('물이', 'Noun'), ('나', 'Josa'), ('되', 'Verb'), ('시민', 'Noun'), ('허', 'Verb'), ('벅', 'Noun'), ('속', 'Noun'), ('으로', 'Josa'), ('퐁당', 'Noun'), ('들어가기나', 'Verb'), ('혼다', 'Noun'), ('영도', 'Noun'), ('못', 'Noun'), ('하', 'Suffix'), ('곡', 'Noun'), ('정도', 'Noun'), ('못', 'Noun'), ('하', 'Suffix'), ('곡', 'Noun'), ('비바리', 'Noun'), ('야', 'Josa'), ('촘말', 'Noun'), ('로', 'Josa'), ('죽어', 'Verb'), ('지키여', 'Verb'), ('소', 'Modifier'), ('나이', 'Noun'), ('타는', 'Verb'), ('모심을', 'Verb'), ('호꼼', 'Noun'), ('만이라도', 'Josa'), ('알', 'Noun'), ('아', 'Josa'), ('도라우리', 'Verb'), ('제주도', 'Noun'), ('하르방', 'Noun'), ('들', 'Suffix'), ('이', 'Josa'), ('호', 'Noun'), ('는', 'Josa'), ('말', 'Noun'), ('이', 'Josa'), ('있수다', 'Adjective'), ('밭', 'Noun'), ('을', 'Josa'), ('살', 'Noun'), ('땐', 'Noun'), ('에', 'Josa'), ('염', 'Noun'), ('을', 'Josa'), ('보라', 'Noun'), ('집', 'Noun'), ('을', 'Josa'), ('살', 'Noun'), ('땐', 'Noun'), ('이웃', 'Noun'), ('을', 'Josa'), ('보라', 'Noun'), ('산', 'Noun'), ('을', 'Josa'), ('사컨', 'Noun'), ('빌레', 'Noun'), ('를', 'Josa'), ('보라', 'Noun'), ('사돈', 'Noun'), ('을', 'Josa'), ('홀', 'Noun'), ('땐', 'Noun'), ('근본', 'Noun'), ('을', 'Josa'), ('보라', 'Noun'), ('그리고', 'Conjunction'), ('우리', 'Noun'), ('어멍들', 'Noun'), ('이', 'Josa'), ('고르', 'Verb'), ('친', 'Noun'), ('말', 'Noun'), ('이', 'Josa'), ('있수다', 'Adjective'), ('홈생', 'Noun'), ('이', 'Josa'), ('말라', 'Adjective'), ('촐람생', 'Noun'), ('이질', 'Noun'), ('말라', 'Adjective'), ('간세', 'Noun'), ('말라', 'Adjective'), ('느링테질', 'Noun'), ('말라', 'Adjective'), ('요망', 'Noun'), ('진', 'Noun'), ('체', 'Noun'), ('말라', 'Adjective'), ('거들락', 'Noun'), ('거리', 'Noun'), ('지', 'Josa'), ('말라', 'Adjective'), ('노미', 'Noun'), ('모심', 'Verb'), ('아프게', 'Adjective'), ('호', 'Noun'), ('지', 'Josa'), ('말라', 'Adjective'), ('경해사', 'Noun'), ('호', 'Noun'), ('는', 'Josa'), ('일', 'Noun'), ('들', 'Suffix'), ('이', 'Josa'), ('펜', 'Noun'), ('안해', 'Noun'), ('진다', 'Verb'), ('살당', 'Verb'), ('보민', 'Noun'), ('잊어', 'Verb'), ('불', 'Noun'), ('때', 'Noun'), ('도', 'Josa'), ('있수다만', 'Adjective'), ('우리', 'Noun'), ('하르방', 'Noun'), ('할', 'Verb'), ('망', 'Noun'), ('아', 'Exclamation'), ('방', 'Noun'), ('어멍들', 'Noun'), ('이', 'Josa'), ('혼', 'Noun'), ('말씀', 'Noun'), ('들', 'Suffix'), ('은', 'Josa'), ('촘말', 'Noun'), ('로', 'Josa'), ('소중한', 'Adjective'), ('교훈', 'Noun'), ('들이우다', 'Verb'), ('고맙', 'Adjective'), ('쑤다', 'Verb'), ('갑', 'Noun'), ('써', 'Verb'), ('양', 'Noun'), ('나', 'Josa'), ('이녁', 'Noun'), ('소', 'Modifier'), ('못', 'Noun'), ('소랑헴수', 'Noun'), ('다', 'Josa'), ('서방', 'Noun'), ('조', 'Modifier'), ('끝', 'Noun'), ('에', 'Josa'), ('고치', 'Noun'), ('앉', 'Verb'), ('즙', 'Noun'), ('써', 'Verb'), ('사름', 'Verb'), ('잇수과', 'Verb'), ('잘', 'Verb'), ('이십', 'Modifier'), ('디강', 'Noun'), ('아', 'Josa'), ('방', 'Noun'), ('어멍', 'Noun'), ('다', 'Adverb'), ('펜안', 'Noun'), ('햇수', 'Noun'), ('과', 'Josa'), ('데멩', 'Noun'), ('이', 'Josa'), ('맹심', 'Noun'), ('헙', 'Verb'), ('써어디', 'Verb'), ('갓', 'Modifier'), ('당', 'Noun'), ('왐쑤과', 'Noun'), ('지', 'Josa'), ('것', 'Noun'), ('은', 'Josa'), ('족', 'Noun'), ('아', 'Josa'), ('벤다', 'Noun'), ('누', 'Noun'), ('게', 'Josa'), ('꽈', 'Noun'), ('나', 'Josa'), ('상우', 'Noun'), ('댕', 'Noun'), ('이', 'Josa'), ('고우', 'Adjective'), ('꽝', 'Noun'), ('고', 'Josa'), ('우', 'Adverb'), ('멍', 'Noun'), ('말멍', 'Noun'), ('허우다오', 'Verb'), ('천원', 'Noun'), ('마', 'Noun'), ('씀', 'Verb'), ('큰일', 'Noun'), ('낫수다어', 'Verb'), ('떵', 'Noun'), ('생겨서', 'Verb'), ('어디가', 'Noun'), ('코', 'Noun'), ('마시', 'Verb'), ('요망', 'Noun'), ('지게', 'Noun'), ('생겨십', 'Verb'), ('디다', 'Noun'), ('제', 'Modifier'), ('주', 'Modifier'), ('특별자치도', 'Noun'), ('에서', 'Josa'), ('살', 'Noun'), ('게', 'Josa'), ('마', 'Noun'), ('씀', 'Verb'), ('맨드롱', 'Noun'), ('햇수', 'Noun'), ('과', 'Josa'), ('무사', 'Noun'), ('마', 'Noun'), ('씀오', 'Verb'), ('젠', 'Noun'), ('허난', 'Noun'), ('폭삭', 'Noun'), ('속', 'Noun'), ('아', 'Josa'), ('수다', 'Noun'), ('재기', 'Noun'), ('재기', 'Noun'), ('보질보질', 'Adverb'), ('혼', 'Noun'), ('저', 'Determiner'), ('옵', 'Noun'), ('서', 'Josa'), ('촘', 'Noun'), ('말로', 'Noun'), ('곱', 'Noun'), ('고', 'Josa'), ('몬트락허우다이딘', 'Noun'), ('보름', 'Noun'), ('도', 'Noun'), ('하영', 'Adverb'), ('불엄', 'Noun'), ('져소', 'Verb'), ('민', 'Noun'), ('나', 'Josa'), ('민', 'Noun'), ('난', 'Noun'), ('몰라이디', 'Verb'), ('와부', 'Noun'), ('난', 'Josa'), ('어멍', 'Noun'), ('보지', 'Noun'), ('그립다', 'Verb'), ('지천', 'Noun'), ('자지', 'Noun'), ('그립다', 'Verb'), ('뱃', 'Noun'), ('은', 'Josa'), ('과랑과랑', 'Adverb'), ('모살', 'Noun'), ('은', 'Josa'), ('삔찍삔', 'Noun'), ('찍아', 'Verb'), ('무거', 'Noun'), ('앤', 'Noun'), ('고라', 'Noun'), ('도', 'Josa'), ('귀', 'Noun'), ('눈', 'Noun'), ('이', 'Josa'), ('왁왁', 'Adverb'), ('게메', 'Noun'), ('마', 'Noun'), ('씀', 'Verb'), ('날', 'Noun'), ('봅서', 'Verb'), ('제나', 'Noun'), ('콰', 'Noun'), ('니', 'Josa'), ('여으마', 'Verb'), ('어떵', 'Noun'), ('호리', 'Noun')]\n"
          ],
          "name": "stdout"
        }
      ]
    },
    {
      "cell_type": "code",
      "metadata": {
        "id": "5UBw2kUArY8a",
        "colab_type": "code",
        "colab": {
          "base_uri": "https://localhost:8080/",
          "height": 419
        },
        "outputId": "b624c426-c184-408b-d8e1-ea651424d638"
      },
      "source": [
        "import pandas as pd\n",
        "\n",
        "tag_jeju = pd.DataFrame(okt.pos(input_last))\n",
        "tag_jeju"
      ],
      "execution_count": 23,
      "outputs": [
        {
          "output_type": "execute_result",
          "data": {
            "text/html": [
              "<div>\n",
              "<style scoped>\n",
              "    .dataframe tbody tr th:only-of-type {\n",
              "        vertical-align: middle;\n",
              "    }\n",
              "\n",
              "    .dataframe tbody tr th {\n",
              "        vertical-align: top;\n",
              "    }\n",
              "\n",
              "    .dataframe thead th {\n",
              "        text-align: right;\n",
              "    }\n",
              "</style>\n",
              "<table border=\"1\" class=\"dataframe\">\n",
              "  <thead>\n",
              "    <tr style=\"text-align: right;\">\n",
              "      <th></th>\n",
              "      <th>0</th>\n",
              "      <th>1</th>\n",
              "    </tr>\n",
              "  </thead>\n",
              "  <tbody>\n",
              "    <tr>\n",
              "      <th>0</th>\n",
              "      <td>버</td>\n",
              "      <td>Noun</td>\n",
              "    </tr>\n",
              "    <tr>\n",
              "      <th>1</th>\n",
              "      <td>래</td>\n",
              "      <td>Josa</td>\n",
              "    </tr>\n",
              "    <tr>\n",
              "      <th>2</th>\n",
              "      <td>기</td>\n",
              "      <td>Modifier</td>\n",
              "    </tr>\n",
              "    <tr>\n",
              "      <th>3</th>\n",
              "      <td>강생이</td>\n",
              "      <td>Noun</td>\n",
              "    </tr>\n",
              "    <tr>\n",
              "      <th>4</th>\n",
              "      <td>부각</td>\n",
              "      <td>Noun</td>\n",
              "    </tr>\n",
              "    <tr>\n",
              "      <th>...</th>\n",
              "      <td>...</td>\n",
              "      <td>...</td>\n",
              "    </tr>\n",
              "    <tr>\n",
              "      <th>6297</th>\n",
              "      <td>콰</td>\n",
              "      <td>Noun</td>\n",
              "    </tr>\n",
              "    <tr>\n",
              "      <th>6298</th>\n",
              "      <td>니</td>\n",
              "      <td>Josa</td>\n",
              "    </tr>\n",
              "    <tr>\n",
              "      <th>6299</th>\n",
              "      <td>여으마</td>\n",
              "      <td>Verb</td>\n",
              "    </tr>\n",
              "    <tr>\n",
              "      <th>6300</th>\n",
              "      <td>어떵</td>\n",
              "      <td>Noun</td>\n",
              "    </tr>\n",
              "    <tr>\n",
              "      <th>6301</th>\n",
              "      <td>호리</td>\n",
              "      <td>Noun</td>\n",
              "    </tr>\n",
              "  </tbody>\n",
              "</table>\n",
              "<p>6302 rows × 2 columns</p>\n",
              "</div>"
            ],
            "text/plain": [
              "        0         1\n",
              "0       버      Noun\n",
              "1       래      Josa\n",
              "2       기  Modifier\n",
              "3     강생이      Noun\n",
              "4      부각      Noun\n",
              "...   ...       ...\n",
              "6297    콰      Noun\n",
              "6298    니      Josa\n",
              "6299  여으마      Verb\n",
              "6300   어떵      Noun\n",
              "6301   호리      Noun\n",
              "\n",
              "[6302 rows x 2 columns]"
            ]
          },
          "metadata": {
            "tags": []
          },
          "execution_count": 23
        }
      ]
    },
    {
      "cell_type": "code",
      "metadata": {
        "id": "2dxls3syraA7",
        "colab_type": "code",
        "colab": {}
      },
      "source": [
        "tag_jeju.to_csv('tag_jeju.txt', sep='\\t',encoding='utf-8',header=False,index=False)"
      ],
      "execution_count": 0,
      "outputs": []
    },
    {
      "cell_type": "code",
      "metadata": {
        "id": "6RGtAzkYrbea",
        "colab_type": "code",
        "colab": {
          "base_uri": "https://localhost:8080/",
          "height": 55
        },
        "outputId": "ada9f631-53f4-4a67-cf53-502107cd9133"
      },
      "source": [
        "output_last = open(\"/content/output_final.txt\", 'r').read()\n",
        "output_last\n"
      ],
      "execution_count": 25,
      "outputs": [
        {
          "output_type": "execute_result",
          "data": {
            "text/plain": [
              "'넘치도록강아지부글부글하다가랭이부풀어 오르다거품정황도 모르고밥을 추하게 먹는 모습뺨잡초말하지말라희미하다숨말힐듯한 상황 참으면서입이 큰 모양쉰 밥으로만든 유산식품고자질한다마음 씀씀이숨막히다이렇게잘게부수다말하다캄캄하다숨기다똑똑하다햇살이 눈부시게 비추는모습텃밭친족산간마을밑바닥걷는 모습초벌로 불에 태우다제대로 된뼈어떤 결심을 하기위한 다짐눈물의 반찬보리피리침어이없다던져버린다원통하다얼떨떨하다마늘날뛰다향기가 좋다기름기가 넉넉하다딸기찌그러지다돼지우리가 있는 변소아무것도 없음틈새무서워이곳저곳홀랑벗은모습많다만지다가힘없이 쓰러진 모양전부하다가 안 할 것이냐멍청하다빨리가자늦장부리다조금맛이가다등왜축 늘어지다어둠속에 빛이 희미하다얼굴고소하다모습잠수복거칠고 노한 바다가까운 바다먼 바다한라산의 중턱에 띠같은 구름이 끼면 비가 온다달무리지면 비가 온다돌고래가 날뛴다황사현상물안경작살해산물을 많이 잡았다해산물을 많이 잡았다겨우 한두개 잡았다바다가 잔잔하다산더미 같은 파도작은 파도물결이 친다 할아버지 할머니아버지 어머니 처녀 친척 거지 시집간색시 의붓아들 세번째자식 사나이 형님 어른이된 사람 해녀 경솔한사람 홀아비 다리 꼬리 귀쪽뺨 뼈 입 머리 등어리 똥구멍 멱살 배 불뚝이 배 밟아버린다 얼굴 목 턱 이마 종아리 겨드랑이간지롭게 종아리머리카락 넓적다리 얼굴 통조림 미숫가루 동물먹이 고기 바닷고기 돼지고기 쇠고기 돼지고기 쌀로만든하얀떡 흰쌀밥 무우 마늘장아찌 마늘 파 메밀수제비 반찬 참기름 김치 찹쌀 조밥 감물들인옷 감물들인 적삼 감물들인 고의 개구멍 바지 호주머니 단추 밀짚 모자 버선 속옷 신짝 짚신 잠방이 감물들인베옷 고쟁이 우두머니 두루마기 아기옷 비온날 저고리 기저귀 기저귀 조끼 치마 건대 사모관대 손자용상복 상제옷 망건 상갓닮은거 벙거지 삿갓 탕건 남자모자 여자모자 빈네꽂은머리 땋은놈의머리 비녀 상투 머리빗 머리빗 족두리 참빗 무당입는옷 나막신 무당들 쓰는 모자 방울 상복치마 바구니 대로만든채롱 양푼 물긷는그릇 마차 바늘 바가지 수저 젓갈 주머니 물을길어나르는통 큰밥주걱 국사발 함지박 도시락통 바가지 밥사발 작은밥자 작은바가지 설거지통 항아리 나무로만든도고리 삽 곡괭이 호미 호미 고무래 날레 젓는 거 맷돌 상태기 돌 발르는 끌 도리깨 멱서리 연자마 쐐괘 씨앗그릇 쉐거름낼때 씨앗 쟁기 낫 굴뚝새 날개 동박새 닭 닭 고양이 송아지 망아지 돼지 돼지 밭을 가는 소 숫소 염소 강아지 쥐 도미 게 소라 문어 개미 맹꽁이 버러지 뱀 병아리 새 다람쥐 쥐 여우 노루 병아리 소 외양간 돼지 두꺼비 개구리 올챙이 채소 감자 고구마 억새 잔디 메밀 느티나무 강아지풀 달래 산수국 삼나무 팽나무 가뿐하다 시원하다 게으르다 분수가없다 곧다 쨍쨍하다 조마조마하다 가렵다 달콤하다 통쾌하다 따뜻하다 한곳에모여있다 포동포동하다 젊게보이다 부끄럽다 동그랗다 퉁퉁하다 부지런하다 시치미를뗀모양하다 희끔하다 시원하다 지긋지긋하다 차겁다 관심이없다 아무런가치없다 살찌다 사납게소리치다 더럽다 흐리멍텅하다 당황하다 궁금하다 엄청나다 작아서위로치켜뜬모양하다 오목하다 캄캄하다 떠들썩하다 똑똑하다 불쑥나타나있다 가늘다 잠잠하다 까다롭다 그저께 아침 그저께저녁 엊저녁 내일모레 요사이 흉년 겨울 된 헤어지다 자빠지다 맴돌다 남의일을비평하다 꺼떡거리다 건드리다 거꾸러지다 호다박자 비켜서다 재주넘다 얼굴을찡그리다 숨기다 불평을말하다 거꾸로박히다 은밀히알려주다 숨막히다 차례로바꾸다 늑장부리다 미끄러지다 재촉하다 다니다 던져버리다 갈라지다 날 뛰다 느리다 꾸물거리다 속이보이게열다부수어버리다 화나다 고함지르다 소근거리다 소문내다 잠잠하다 겨루다 욕설하다 성내다 간지럽히다 걱정하다 다섯 예닐곱 여든 일곱여덟 여나믄 여섯 하나 해녀 물질잘하는사람 어린처녀욕 밤따귀 은하수 소나기 무지개 안개 공기 나무그늘 달 별 돌맹이 자갈밭 방 화장실 화장실 줄 작은밭 한 달머리어깨무릎발같이 가요 함께 해요너와 함께 하면 즐거움이 열배야같이 가요 함께 해요너와 함께 하면 즐거움이 백배야이렇게 예쁜 날 공기 좋고 사람 좋고너와 함께 하니 무슨 걱정 있으랴많이 말하면 잔소리야먹다 보니 살게 되고 살다 보니 먹게 되지굶어 보면 알게 되지 배고픔도 인생인 걸없으면 없는대로 그저 그렇게 살고있으면 있는대로 나누면서 살지먹어볼만한 살아볼만한 세상웃으며 사는 세상이 사람 사는 세상이지울다 보니 살게 되었지웃다 보니 살게 되었지우는 삶도 웃는 삶도 고마운 인생이지없으면 없는대로 그저 그렇게 살고있으면 있는대로 나누면서 살지먹어 볼만한 살아 볼만한 세상웃으며 사는 세상이 사람 사는 세상이지무명천 할머니 어디 가십니까무명천 할머니 편안 하십니까4 3 사건때 총 맞아서 턱을 잃었네 그렇게 살았네55년 간 말도 못하고 음식도 못 먹으면서상처 난 얼굴 보일 수 없어 무명천을 둘렀네목숨은 건졌지만 살아도 산게 아니었네무명천 할머니 라고 날 불렀지만내게도 이름이 있었네진아영 입니다무채 썰어 끓는물에 데쳐파와 깨가루 넣어 섞어서메밀가루 반죽하여 얇게 지져그 위에 놓고 말면빙떡 이지앞뒤분간못하고 어디로 가려고 하니예쁘게 차려입고 이쪽으로 와서는너와내가 한데모여서 힘껏 달리자수줍게웃으며 모두 쳐다보니 정다워지네달려라 걱정하지 말고 달려라 모두 달려라달려라 걱정하지 말고 달려라 모두 달려라화를 내며 다퉈 보니까 알겠니너와내가 경쟁해 봐야 감정상하기만할 뿐이네돈이 많은 척 잘난 척 점 잖은 척그렇게 해 봐야 삐칠 뿐이니 달어 돌아다니자달려라 걱정하지 말고 달려라 모두 달려라달려라 걱정하지 말고 달려라 모두  달려라아야 머리야 아야 머리야입담하며 두들기노라면숟가락 자루 거꾸로 잡고채롱 옆을 두들기노라면굵다란 말개미들이사방으로 흩어지고어떻게하지 어떻게하지학교 가는길에 오줌을 쌌어어떻게하지 어떻게하지학교 가는길에 오줌을 쌌어어떻게하지학교 가는길에 오줌을 쌌어어떻게 하지 어떻게 하지참다가 참다가 참지 못해 나와버렸어어떻게 하지 어떻게 하지비가 내리니 비 맞았다고 말하렴나오는 걸 어떻게 할 수 있겠니어떻게 하지 어떻게 하지게를 잡다가 미끄러졌어어떻게 하지 어떻게 하지게를 잡다가 미끄러졌어어떻게 하지게를 잡다가 미끄러졌어어쩌다가 어쩌다가숨어있는 게를 기다리다가 갑자기 덮쳤지그래서 어떻게 되었어정말 빨랐어눈 감았다 떠 보니물 속에 나만 빠져 있었어어떡하지 어떡하지 어떡하지 어떡하지바다 바다 바다 바다 바람 바람 바람 바람바다 바다 바다 바다 바람 바람 바람날이 정말 좋아 바다에 가서 모래밭을 맨발로 걸었네게 한 마리가 나를 보더니 파도치는 쪽으로 도망가네어쩌지 잡아 볼까 잡다 실수하면 아야 물릴 텐데바다 바다 바다 바다 바람 바람 바람 바람바다 바다 바다 바다 바람 바람 바람새 새 새 새 오름 오름 오름 오름새 새 새 새 오름 오름 오름엄마랑 손 꼭 잡고 용눈이 오름을 오르네새 한 마리 나를 보더니 짹짹짹짹 노래를 하네어쩌지 잡아 볼까 아무리 잡으려 해도 어림없을 텐데당신의 마음 속엔고운 꽃들이 만발한 모양이야이렇게 말해도 빙그레 웃고저렇게 말해도 빙그레 웃고당신의 마음 속엔황소 한 마리 들어앉은 모양이야이렇게 말해도 잠잠저렇게 말해도 잠잠당신의 마음 속에 들어가 보려고욕심과 미움이손  불끈 잡아두고기웃 기웃 거려보는데꿀벌과 일벌이날아다니는 걸 보니당신의 마음 속엔송이꿀보다도 더 달디단무언가로 꽉 들어찬  모양이야휘이이바람 분다바람 불어저 바다가저 바람이손짓하네말을 하네테왁 메고 호미를 들어바다와 춤을 추네우리 엄마 우리 바다한 몸 되어 춤을 추네바다야 바람아눈물 나네 눈물이 나우리 엄마 지켜다오이어도 이어도 사나이어도 이어도 사나이어도 이어도 사나이어도 이어도 사나바람은 세차게 불고덜 익은 조 열매가이쪽을 보면서 인사하고저쪽을 보면서 인사하고나뭇가지들은 서로 다투며 잡아당기고파도치는 요메기 바다엔 빈 소라가 뒹굴어 다니고담위를 걸쳐친 고구마줄기에동글동글 매달려있는 작은고구마이리 흔들리고 저리 흔들리고워어허허 바람 바람 바람 부는 제주의 하늘아먹구슬나무 꼭대기에 앉은 먹구슬 새 안 떨어지려고 나뭇가지를 꽉잡고 있고조밭 밟는 망아지 뒤로 일어나는 흙먼지는 남의 밭으로 넘어가고동네 큰 팽나무 아래 땀좀식히고 가려고하면불어오는 저 바람은 왜 그리 간질이는지그래 어서 가렴그래 어서 가렴바람아해녀 삼촌 다시 다시 바다 가네테왁 메고 호미 들고 잠수복 입고 뒤뚱뒤뚱파도치는 바다로 가 보니테왁들이 동동동동 춤을 추네해녀 삼촌들 다시 물속으로숨비소리 쏟아가며 물속으로고기처럼 홀랑홀랑 꼬릴 치네나도 확 벗고 물속으로 뛰어들까 테왁 들고 이쪽으로 온거 보니성게도 가득 전복이랑 소라랑아고 이건 뭐지 문어도 잡아 왔네요아고 삼촌 문어 한마리 얼마죠아고 조카야 너는 그냥 가져가라에고 무슨 말씀을 그럼 저녁에 당근파다 드릴게요 물바가지로 물 마시면 수염 안난다 갓난아이 옷을 방망이로 빨면 아기가 놀랜다 밤에 머리 빗으면 무서움 탄다비는 자에게는 용서해 주어야 한다 비오는 날 쇠꼬리 이리 착 저리 착 흔든다 빈 맷돌질 하면 흉년 든다 가난한 사람 못할 일 없다 까마귀가 까옥하면 참새도 조조 한다 즉 자기 자신을 알고 처신하라 까마귀 똥 헤집듯 까마귀 모른 제사 까마귀 아래턱 떨어질 소리 장모 눈 망가뜨릴 사위 장모 된장 없는 터에 사위 국 먹기 싫은 터에 아내 아까우면 처가 집에 절한다 아내가 없는 것은 안 섭섭해도 담배통 잃는 건 더 섭섭하다 아내 없는 처가집 가나 마나 갈치가 갈치 꼬리 끓어 먹는다 갑이년 흉년에도 먹다 남은 게 물이다 갓장사 헌갓 쓰고 무당 남 빌어 굿하고 강아지 똥은 똥이 아닌가 개가 똥을 참지 개도 빗자루로 안 때린다 개똥을 무서워서 피하느냐 더러워서 피하지 하찮은 개 똥도 약으로 쓸려면 귀하다 건더기 먹은 놈이나 국물 먹은 놈이나 매 한가지 검은 닭도 흰 달걀 낳는 수 있다음식 타박 쌍놈 글 구숭 양반자식 음 식을 먹을 때는 개도 안 때린다 음식을 박대하면 죄 짓는다 소라 게도 집이 있다 고운 사람은 멱서리 써도 곱다 고운 여자 잡아 들이라고 하니 살찐 여자 잡아 들인다 곧은 나무는 한가운데 선다 삼태기 부지런으로 부자가 되는걸 하늘도 못막는다 공짜하면 눈도 벌겋고 코도 벌겋고 공짜는 맛이 써도 달다 공부하라고 하니 개잡는걸 배운다 같은 값이면 과부집 머슴을 산다 소라가 똥누러 가버리면 소라게가 차지 한다 국 많이 먹으면 장모 눈 망가진다 하찮은 굼벵이라도 구부리는 재주가 있다 시집가서 귀머거리 삼년 장님 삼년 벙어리 삼년을 살아야 가라 오라는 말이 없다 귀신 대접 잘 해두면 잘못 될 일 없다 귀소문 하지 말고 눈소문 하라 실제로 보고 확인한 것 아니면 말하지 말라 귀신도 사정하면 들어 준다 일가는 옷위의 바람 그 날 액은 독안에 앉아도 깬다 거짓말도 외삼촌 보다도 낫다 글 잘 못하는 놈 붓 고른다  붓타령 한다글 배우라고 했더니 엉뚱하게 과부집 강아지 때린다기어 다니지도 못하는게 나려고 한다게와 고둥도 자기 집은 있다 그을린 돼지가 달아멘 돼지를 나무란다삼태기 부지런으로 부자 되는 것은 하늘도 못 막는다기왕에 같은 품삯이면 과부집 머슴을 산다가늘게 먹고 가늘게 쓰라관덕정 설렁탕도 먹어본 놈이 먹는다칡 걷으러 간 놈이 정당벌레 테 엮는다나간 놈 몫은 있어도 잠자는 놈 몫은 없다나  다니는 개가 뼈 물어 온다나의 땅에 있는 까마귀는 검어도 아깝다나가서 화목은 남자가 하고 들어서 화목은 여자가 한다나이  많은 사람이 양보하라남자가 밟은 풀은 이울고 여자가 밟은 풀은 안 이운다나무도 늙어 고목되면 새들도 아니 온다나무가 좀먹지 세월은 좀 안먹는다   느긋한 시간 관념을 부추길 때내 딸이 고와야 잘난 사위를 고른다너무 고르다가 눈이 멜라진 사위를 고른다노름꾼 뒤는 대어도  먹는 놈 뒤는 대지 말라노름은 끝나서 신발 신을 때 보아야 승부를 안다노름 쟁이는 망하여도 흥하지는 못한다노루 때린 막대기 3년을 울겨 먹는다남이 숨긴건 소도 못 찾는다 남과 경쟁은 하되 시기는 하지 마라남이 켠 횃불에 게 잡는다남의 눈에 피 흘리게 하면 자기 눈에는 고름이 나와야 한다남의 소 날뛰는 건 보기 좋다남의 흉내 내면 자기 흉 된다남의 집과 벼슬 살이는 끓는 밥도 두고 간다세수 할 때에 물을 많이 사용하면 죽어서 가면 다 마셔야 한다애꾸눈 딸 가지고 사위를 고른다누운 나무에 열매 열리는가눈썹에 불이 붙어도 끌 겨를이 없다늙은 소 콩을 주면 안 받겠다고 하느냐늙은 놈이 젊은 첩 하면 불 본 나비 날뛰듯 한다이 아픈 심부름은 하고 눈 아픈 심부름은 하지 마라의붓 아들은 콩죽 먹이고 친 아들은 팥죽 먹인다의붓아버지 고기 써는데는 가고 친아버지 장작 패는데는 가지를 말라넓은 바다도 건너 봐야 안다대정 망아지 야무지고 알차다  덴 곳에 털 안난다들목 터진 밭에 마소 들듯도둑놈과 띠 다발은 묶어서 세워 놓으면 꼭 닮다 제주도 사투리로 말 하니까뭐라고 말하는지 모르겠지요글세 말입니다귀와 눈이 캄캄합니다그래도 가만히 생각하며 들으면 조금씩 알 게 됩니다오랜만이예요편안하십니까얼굴이 좋아보이네요어서오세요제주도 오느라 수고하셨어요제주도에 오니까 정말로 좋습니다산이랑 바다랑 모두가 좋습니다많이 보고 서울에 갈 때는 많이 담아서 가십시오그러게 말입니다그렇게 했으면 얼마나 좋겠습니까안으로 들어 오셔서 식사 하고 가십시오제주도 오셨으니 전복죽드셔보고 가셔야죠어서 와서 드세요따뜻합니까따끈따끈한 것이 먹기에 꼭 좋았습니다맛 좋네요여기요이거 1kg에 얼마예요사천원입니다그래요사천원어치주세요많이주세요많이 드립니다맛있게 드세요삼성혈에 가려는데요어디로 가면 되지요여기서 10분 밑으로가서 칼호텔 근처에서 돌아서 왼쪽으로 가면 됩니다알겠어요거기가서 아무사람이나 물어보면 잘 말해 줄꺼예요관광 잘하고 가세요어서오십시요잠깐 있으십시오잠깐있어라무엇을 하십니까무엇을 하느냐왜 그렇게 급하십니까왜 그렇게 급하냐빨리 오십시오어떻게 살고 있습니까무엇이라고 말하십니까귀와 눈이 캄캄합니다따뜻할 때 후루룩 잡수십시오뭘 그리 늦장 부리십니까와서 보십시오말로 해서는 모릅니다아름답게 모조리 벗어서 오십시오어디 갔다가 오십니까어디로 가십니까고생시키면서 키웁십시오그래야 빨리 자랍니다어떻게 살까걱정 마십시오참고 살면 살수 있습니다너하고 나하고 둘이 둥실 사랑합시다어서 오십시오제주도에 오니 어떠하십니까정말로 좋습니다와서 보십시오말로해서는 모릅니다왜 그렇게 말하십니까꾸물대지 말고 어서 오너라조금만 계십시오어서 와서 먹으십시오따뜻합니까따뜻한 때 후루룩 마셔 버리십시오어서 오십시오제주도 사투리로 말 하니까 뭐라고 말하는 지 모르겠지요글쎄 말입니다귀와 눈이 캄캄합니다그래도 가만히 생각하며 들으면 조금씩 알게됩니다제주도 사투리 정말로 귀하고 아름다운 보물입니다안녕하십니까제주도에 오니 어떠하십니까정말로 좋습니다공기도 맑고 산이랑 바다랑 모두가 좋습니다서울에 갈 때는 많이 담아서 가십시오그러게 말입니다그렇게 했으면 얼마나 좋겠습니까저기 바구니 지고 가는 거 처녀들 아닙니까맞습니다처녀도 있고 시집 간 여자도 있습니다처녀들 곱고 날씬하군요그렇지요 산 좋고 물 좋은 제주도에 사니 마음도 착하고 얼굴도 곱습니다 말로 해서는 모릅니다제주도에 와서 보아야 알 수 있습니다돌도 많고 바람도 많고 처녀도 많고 유채꽃도 아름답게 피었습니다아무리 말해도 모릅니다어서 와서 보십시오제주도에는 바람이 많이 있습니다동쪽에서 부는 바람 샛바람서쪽에서 부는 바람 갈바람남쪽에서 부는 바람 마파람북쪽에서 부는 바람 하늬바람 입니다한라산에 올라서 보십시오발 아래 구름들이 오락가락 하고 아듣하니 꿈속 같습니다옛날에 신선들이 흰 사슴을 타며 놀았다고 해서 백록담 아닙니까제주 사람들은 돌 하르방 보면서 살았습니다그러니까 거짓말 할 줄 모르고 서로 믿으면서 착하게만 살았습니다보십시오 없으면 도와 주고 있으면 나누어서 먹으면서 인정 많고 사랑이 많은 돌하르방 손자들 입니다장가간 날 밤 새 신랑이 말했습니다색씨야 어서 오너라왜 그러십니까조금만 계십시오꾸물대지 말고 어서 오너라신부가 신랑 품에서 살그머니 말했답니다나를 얼마나 사랑하십니까저기 한라산만큼 또 바다만큼 사랑한다그러지 말고 이 가슴팍 만큼만 사랑해 주십시오그래 너하고 나하고 둘이 둥실 사랑하자신랑이 신부에게 말했답니다여기 가까이 오너라왜 가까이만 오라고 하십니까조금이라도 같이만 있고 싶어서남들이 웃습니다어떡하느냐 사랑에는 부끄러움이 없단다`왜 그렇게 말하십니까어서 와서 사랑하면서 살아 봅시다화를 내면서 살아도 한 세상 걱정하면서 살아도 한 세상 입니다가난해도 웃으면서 살아 봅시다삼다도라고 하더니만 정말 돌이 많습니다예옛날에는 한라산이 화산이었기 때문에 돌이 많답니다아이고 저기 돌구멍에 핀 꽃 보십시오 돌구멍으로 보는 바다는 꼭 그림 같군요바다에 가서 보아야풍랑을 알게 되고 자식을 낳아 보아야부모 마음 알게 되고 사람은 만나서 살아 보아야진짜 마음을 알게 되고 사랑을 해 보아야 눈물도 알게 된답니다사람은 서로 서로 도우며 사는 것이야약은 고양이가 밤눈이 어둡다고 한다자기만 약은 체 하면서 살다 보면자기 욕심에 걸려서 자기가 넘어진단다서귀포 바다에 가면 알수 있습니다무엇이 사랑이고무엇이 그리움인지안개 낀 부둣가에 뱃고동 울어 주면옛님이 그리워서 눈물이 많이도 납니다아끼면서 살아야 한다오늘보다 내일을 생각하고내일보다 모레를 생각하고그렇게 해사 일생을 편히 살수 있단다요사이 아이들너무 편안히 산다 그러니까조금하면 아프고울고 하고 있다뒹글리면서 기른 달걀이 병아리가 된다고 한다어릴 때 고생도 하고 해야 큰 사람 된다어서 와서 먹으십시오따뜻합니까따끈따끈한 것이 먹기에 꼭 좋았습니다따뜻할 때 후루룩 마셔 버리십시오날이 밝았다 어서 가자일 해야 먹고 산다부지런한 것은 하늘도 못 막는다고 하더라뻘리 준비해서 가야 일 할 것 아니냐 시집을 가 보니까 이렇드라돌덩이 같이 고집 센 시아버지에살모사 같이 독한 시어머니에문어 같이 물렁물렁한 남편에굴뚝새 같이 약아 빠진 시누이에살아도 살아도 고생이더라어디로 가느냐바다에 어머니 한테 갑니다그러면 이거 가지고 가라무엇입니까너희 어머니 바다에서 물질하면서 먹을거다이렇게 억울할 때가 있습니까사정을 해도 시원하지 않을 놈이 큰 소리 합니다아니 원 그거 도둑놈 마음이구나그러게 말입니다 그런 사람이 어디 있습니까시험에 떨어진 아들이 아버지께 말했습니다난 아무리 해도 안되겠습니다왜 안된다고 생각하느냐해도 해도 안되는걸 어떻게 합니까차돌도 뚫고 있으면 구멍이 난다 하고 있으면 된다`딸이 뛰어 가다가 쓰러졌답니다이런 어떻게 하나그래서 어떻게 했는가병원에 갔습니다가서 보니까 뼈가 부러졌답니다한 열흘간 입원 해야 한다고 합니다작다고 놀리지 마라작은 것이 똑똑하고 영리하다큰 것은 바람만 불어도흔들 흔들 거리지만 조그만 한 건단단하고 태연하게 있는다어느 곳으로 가십니까바다에 고기 사려고 말입니다왜 누가 왔습니까서울에서 작은 아버지네가 왔습니다그럼 조심해서 갔다 오십시오어머니가 해 준 밥을 먹어 보십시오정말로 맛이 좋습니다무엇 때문인가요그건 어머니의 사랑하는 마음이 밥속에 가득 가득히 들어 있기 때문 아닙니까소문 옮기면서 다니지 마십시오소문은 남들 싸움만 만듭니다예부터 싸움은 말리고흥정은 붙이라고 했습니다그러니 좋은 소리는 크게 하고나쁜 소리는 조용히 해 버리십시오두 부부가 어디로 그렇게 달려 가는가큰 딸이 아이를 낳았다고 해서 갑니다그랬구나무슨 애기를 낳았는가아들 입니다아이구 잘 되었네어서 가 보게나가서 보고 오십시오와서 보고 사십시오이렇게 하고 저렇게 하고 하십시오그렇게 말해 주십시오가지 말고서 이렇게 하면서 사십시오여보 제주도에서 삽시다좋지요넓은 바다좋은 공기인심좋은 사람들과 살면 살 맛 날거다살다가 지치면풍덩 바다에 들어 가고 말입니다둘이 먹다가 한 명이 죽어도 모르는 건 무엇입니까달고 맛있는 제주도 전복죽이야둘이 보다가 한 사람이 죽어도 모르는 건 무엇입니까곱고 예쁘장한 제주도 처녀야그러면 오십시오전복죽 먹고서 처녀 보러 갑시다쨍쨍한 햇볕속에 일 하려고 하니 수고 했습니다수고 할 거 있습니까조금 땀은 났습니다만안으로 들어 오셔서저녁식사 하고 가십시오그렇게 할까요제주 바다에 가면 바다가 말을 합니다사람보다더 재잘재잘 말을 하고사람보다더 사랑도 많이 합니다그렇게 하면서낮이나 밤이나 꽃을 피웠다가지웠다가 합니다제주 바다에 가서 보십시오미운 것도 없어지고슬픈것도 없어지고가슴으로 바닷물만 들어오고 나가고 하면서둘이 둥실둥그대 당실사랑만 가득하게담아서 옵니다서울에서 색씨가 왔습니다어떻게 생겼던가똑똑하고 영리하게 생겼습니다살그머니 웃으면서 말 하는 걸 보니착할 것 같습니다그 나쁜 놈뺨따귀를때려 버릴거 아닙니까그렇게 했어목을 잡아서 흔들다가머리로 배를받아 버렸더니뒹글며 쓰러져 버리더군잘 됐어그런 놈은혼을 내 줘야 합니다쌍둥이 어머니고생하고 있네요 그렇지요둘이가 서로 이기려고 하니죽겠습니다그렇게 할 거에요그래도 남하고 싸울 때는자기네 편을 들면서 싸웁니다요 계집애 봐라남의 남자와 얘기 하고벌써부터남자를 밝히느냐아닙니다바다에 가다가길 모르는 사람이 있어서길 가르켜 줬습니다아이구큰일 났습니다왜 그렇게 들락키느냐너무 서두르지 말고천천히 말해 보아라그러니까요이렇게 하고저렇게 하고 했습니다그러니까욕심 내면서 살면그렇게 된다색씨그거 가져다 줘라왜당신은 손이 없어요발이 없어요그러지 말고좀 가져다 주면안돼냐버릇 됩니다별나고 약아 빠진 소리그만 해라이제 가자 짐 꾸려라알았습니다아이들도 데리고 갈까요그래 모두 같이 가자할아버지 할머니가 좋아하실거야목아지에 때를 밀라겨드랑이랑 종아리도 밀고옷 벗어서 사타구니 사이도 밀어라사람 몸은 깨끗해야 한다무엇을 먹을까글쎄요 제주도에만 있는 것을 먹읍시다소라에 보말에 옥돔생선 또 있어요메밀 범벅에 자리젓갈먹을 것도 참 많이 있네왜 나는 조그만 줍니까이놈아욕심을 가진 눈에는자기 것은 작게 보이고남의 것은 크게 보이는 것이야똑같이 나눈 것을 어찌 크다 작다 하느냐어머니가 화가 나서꼼짝 안합니다그렇고 말고믿던 나무에 곰팡이가 핀다고 하더니만하도 억울하게 당해서 아니냐어머니 마음 위로해 드려라닭이야 울면 날이 밝아 오지만내가 울면 어느 날 밝을 수 있으랴닭의 목에 자물쇠나 잠궈서내가 대신 울어나 볼까여기 바다에여기 물에 들어가서 전복소라가득하게 잡아다가한 푼두 푼모이다 보니까남편의 술값에모조리 들어 가더라정신없이 급하게재촉해서일하지 마라바늘 허리를졸라 매어서바느질 되는 거봤느냐천천히 생각하면서하나씩 해야일이 된다살다 보면 고생할 때도 있고어려워서 쓰러질 때도 있단다그래도 한눈 팔아서 가지 말아라곧게 걸어 가노라면나중엔 꼭 성공한다한림공원에 가서 보았습니까별의 별 나무랑 꽃이랑 잘도 아름답습니다사랑하는 사람은 꼭 가서 봐야 한다고 합니다그래야 사랑하면서 잘 산다고 합니다서울에서 온 사나이 제주 처녀에 미쳐 버리니까오늘 갈까 내일 갈까 하다가 보니 꼼짝 못해서 살고 있더라색씨 왜 안 옵니까어떻게 된 거 아닙니까가서 데리고 오십시오 무었을 그렇게 늑장부리고 있는 건가오늘은 우리 밭에 마늘 심어 주십시오그렇게 합시다 그런데 비가 올 것 같습니다동쪽으로 구름이 시커멓게 되고 있습니다그럼 조금 있다가 와 주십시오아침부터 저녁까지두 사람이 둥실 사랑도 하고구경도 하고그렇게 하다 보니뼈가 폭삭 주저앉는다사랑 할 때는 살그머니 말해라누가 들으면 웃는다아무도 모르게너하고 나하고만 살그머니 하자어머니랑 같이 오십시오오다가이렇게 하고 저렇게 하고 하십시오왜 그렇게 숨차게 말하는가짐을 진 사람이 짐 부릴 곳을 찾는 법이네그러니 걱정 말고서 가만히 있게저기 요새 애들 옷 입고서 다니는 것 보십시오허벅다리도 내 놓고배꼽도 내 놓고그게 무슨 별짓들이야그러지 말고 모조리 벗고서 다니지좀 실례합니다이 것이 얼마입니까오천원 입니다조금만 싸게 안될까요그렇게 해야 다시 올 거 아닙니까한라산으로 가려 하면 어떻게 갑니까바다에는 어떻게 갑니까차를 타려고 하면 많이 가야 합니까제주도엔 가다가 봐도 바다입니다 예들어 와서 놀다가 가십시오그렇게 할까요여기 불 옆으로 앉으십시오따뜻합니다정말 따뜻한 것이 좋습니다무엇이라고 귓속말을 하고 있느냐처녀 시집 보내겠다고 말합니다그렇게 해야지 잘 생각했구나딸은 나이가 들면 빨리 시집보내야 한다그렇게 안절부절 날뛰지 말아라차근차근 말을 듣고서 생각해라어떻게 된 일인지 알아야 할 것이 아니냐그렇게 하다가 숨 넘어 가겠다달콤한 거 없습니까글쎄 어떤 것이 달콤할까사탕을 주면 어떻습니까아닙니다그럼 삶은 달걀이나 하나 주십시오어디로 가십니까 이리로 오십시오걱정하면서 살지 마십시오이렇게 살아도 한 세상 저렇게 살아도 한 세상둘이 둥실 너하고 나하고 사랑이나 합시다앞 나무에 앉은 새야 왜 그리 울고 있느냐서울 간 우리 남편 빨리 오라고 울고 있느냐저승 간 우리 어머니 그리워서 울고 있느냐내 마음 아는 건 저 새 뿐이로구나저기 봐라 너희 아버지 어머니 함께 가네글쎄 어디 가고 있는가할아버지 할머니는 없네친족집에 상을 당해서 가고 있을겁니다무엇을 하십니까빨리 오십시오 왜 그렇게 바쁘게 보채느냐해 저물면 어떻게 합니까캄캄하면 길 잃어버려 큰 일 납니다가서 보라 너희 새신랑이 왔다아이구 부끄러워서 어떻게 합니까어허 호강에 넘친 소리 하지 마라어서 가서 오셨습니까하고 인사 해라어디 갔다 오십니까밭에 갔다 온다 어디에 가느냐바다에 고기 잡으로 갑니다파도가 거세더라 조심하고 일찍 오너라이제는 너의 인생은 네가 알아서 가야 한다알았습니다 잘 살겠으니 걱정 마십시오그래 아는 길도 물으면서 가라조심하면서 가는 길은 편안하다무엇을 하십니까 어서 오십시오그래 알았다 어서 가자쓰러지지는 말고 오십시오돌 조심하고 곧장 오십시오제주도 처녀가 그렇게도 좋으냐말로 해서는 모릅니다 와서 보아야 알 수 있습니다마음도 좋고 얼굴도 좋고 집안도 좋습니다여보 나 등허리가 가렵다어디 이렇게 하세요 보게아이구 벌레가 물었네요약 발라야 하겠습니다달아 맨 돼지야너의 신세가 불쌍하구나아이구 불에 구워지는 돼지야내 걱정은 말고 너 죽어 가는 거나 걱정하거라죽어 가는 것이 별 것을 다 걱정하고 있니돌 구멍으로 보아라꽃들이 모두 모여서 피어 있구나우리 님의 얼굴도 꽃이 되어 피고 있구나사랑 사랑 사랑꽃도 가득하게 피고 있구나고기 멍청한 것은 잡아나 먹고 나무 멍청한 것은 불이나 때고 돌 멍청한 것은 담이나 쌓는다사람 멍청한 것은 아무 것에도 못 쓰겠구나너하고 나하고 두 사람이 둥실 낮에 낮이나 밤에 밤이나 서로 사랑 이로구나아침에 우는 새는 배가 고파 울고요저녁에 우는 새는 님 그리워서 운다넓은 바다 앞을 재면서 한 길 두 길 앞으로 가고 깊은 바다 깊이를 재며 한 길 두 길 들어가면 저승길이 오락 가락이어도 사나 이어도 사나 이어도가 저승길의 반이라 한다새신랑 들어 온다저리로 비켜 서라 이렇게 하십시오조금만 봅시다알맞게 살찐 모습이 잘 생겼구나말도 안 듣고 일도 안 하고 정말 그렇게 하면 들러메어 던져 버리겠어사람은 일을 해야 살 수 있는 거야조금씩 먹어라 숨 넘어간다 배 고파서 말입니다그렇게 먹다간 숨이 막히겠다 누가 훔쳐 가지 않으니 천천히 먹어라사람 있습니까 누구십니까 윗 동네 갑돌이 어머니 입니다아이구 어떻게 해서 왔습니까우리 딸은 아무것도 모릅니다 세상 물정 잘 모르는 아이 어린 아이입니다잘 데리고 살아 주십시오 가르치면서 살아야 할 겁니다무엇을 잘 했다고 큰 소리입니까방귀 뀐 놈이 화 내고 있네누가 입이 없어서 말을 못 하는줄 아는가지렁이도 밟으면 꿈틀거립니다 예제 마음 모르겠습니까 당신만 보면 가슴이 두근 두근 이러지도 못하고 저러지도 못하고 제 마음 저도 모르겠습니다언제 오셨습니까 한 사나흘 되었습니다 모두 편안 했습니까 어떻게 살고 있습니까시집가니까 어땠습니까 아이고 말도 마라뭐가 뭔지 눈앞이 캄캄하니 정신이 없더라 서울에는 언제 가겠습니까 갈 때는 나를 데리고 가 주십시오서울 가서 무엇을 하려고 구경도 하고 서울 사랑도 해 보려고요왜 뭐라고 말하던가요 살짝 와서 말하십시오 들어 봅시다글쎄 말할까 말까 속 태우지 말고 빨리 하십시오그럼 남 한테는 아무 말도 하지 마십시오 네누구 있습니까 안녕 하십니까 아버지 어머니 모두 편안 하셨습니까 어디 갔다가 오십니까 요새 어떻게 사십니까 좋습니까어디로 가십니까 이리로 오십시오어서 어서 오십시오 살짝 살짝 오십시오너랑 나랑 둘이 둥실 사랑이나 합시다요정말로 가시겠습니까글세 어쩔수가 없단다그럼 나 혼자만 어떻게 살라고 하십니까어쩔 수 없지 않느냐 조금만 참고 살고 있어다오 떠나는 내 마음도 울고 싶단다우리 어머니 사는 바다 우리 목숨을 키운 바다 동쪽으로 가면동의 바다 서쪽으로 가면 서의 바다 바람이 불면 파도가 치고 비가 오면 날이 저물고하늘같은 용왕님이여 명주실같이 잔잔한 바다 만들어서 우리 어머니 서러운 가슴 편안하게 하여 주소서어떻게 살면 되겠습니까 왜 그렇게 걱정하면서 사십니까 참으면서 사십시오 그러다 보면 살아 갈 수 있습니다어서 오십시오 어서 오너라 잠깐 있으십시오잠깐 있어라 무엇을 하십니까무엇을 하느냐 왜 그렇게 급하십니까왜 그렇게 급하냐 그래요 빨리 오십시오그래 빨리 오너라색시 구할 때는 마음을 봐라 얼굴 고운 것은 한 달이여날씬하고 멋진 것은 일 년이야 마음 착한 건 십 년이 되고 백 년이 되도 저 소나무 처럼 청청하다어느 마을에 갑돌이라고 하는 사나이와 갑순이라고 하는 처녀가 살았습니다 두 사람은 좋아 하면서도 말은 못하고 속으로는 타면서도 그 까짓거 하였답니다 그렇게 하다가 갑순이가 시집을 가게 되니까 그때야 갑돌이가 아이구 어머니하면서 울었습니다그렇게 하더라도 어떻게 합니까 할 수가 없었습니다 갑돌이도 화가 나서 장가를 가 버렸습니다 장가가는 날은 갑순이도 부엌에서 울었습니다 갑순이 마음도 갑돌이 뿐이었습니다만 어찌 합니까 사람 팔자는 참으로 모르는 것입니다 그러니 어떻게 살까 걱정하면서 살지 마십시오 살다 보면 타고난 운명대로 다 살기 마련입니다물동이 지고 가는 저 처녀야 물만 지고 가지 말고 이 총각의 마음도 지고 가다오 사랑한다고 말은 못하고 돌틈에 숨은 새 같이 가슴만 철렁 철렁어떻게 하면 좋겠습니까요 먹을 수 있는 것이라면 따뜻할 때 후루룩 마셔 버리기나 한다 물이나 된다면 물동이 속으로 풍덩 들어 가기나 한다이렇게도 못하고 저렇게도 못하고 처녀야 참말로 죽겠다 총각이 타는 마음을 조금 만이라도 알아다오우리 제주도 할아버지들이 하시는 말씀이 있습니다 밭을 살 때는 밭 옆을 보고 사라 집을 살 때는 이웃들을 보고 사라 산을 사려면 암반을 보고 사라 사돈을 맺을 때는 집안의 뿌리를 보고하라그리고 우리 어머니들이 가르친 말씀이 있습니다 어리광 부리지 말라 경솔하게 나서지 말라 게으르지 말라 느림보가 되지 말라 꾀부리며 잘난 척 말라 거만하지 말라 남의 마음 아프게 하지 말라그래야 하는 일들이 편안히 잘된다 살다 보면 잊어버릴 대가 있습니다만 우리 할아버지 할머니 아버지 어머니들이 하신 말씀들은 정말로 소중한 교훈들입니다 고맙습니다가십시오제가 당신을 무척 사랑합니다  남편 옆에 같이 앉으세요사람 있습니까잘 있었습니까아버지 어머니 모두 편안하셨습니까 머리 조심하세요어디갔다가 오십니까자기 것은 작게 보인다누구십니까제 얼굴이 예쁘지요별로 이쁘지 않네요오천원입니다큰일 났습니다어떻게 생겼던가어디로 모실까요똑똑하고 영리하게 생겼습니다제주특별자치도에서 삽시다따스합니까왜 그러십니까오시느라 고생 많으셨습니다빨리빨리 더빨리 오세요참말로 이쁘고 둥실둥실합니다이곳은 바람도 많이 불고있네소문나면 저는 모른다이곳에 있으니 엄마 보고싶다지쳐서 잠이 온다햇볕은 쨍쨍 모래알은 반짝반짝아무리 이야기하여도 귀 눈이 캄캄그러기에 말입니다나를 보십시오잘되어 버렸다어마어떻게 하지\\n\\n'"
            ]
          },
          "metadata": {
            "tags": []
          },
          "execution_count": 25
        }
      ]
    },
    {
      "cell_type": "code",
      "metadata": {
        "id": "1z409Esjrci3",
        "colab_type": "code",
        "colab": {
          "base_uri": "https://localhost:8080/",
          "height": 55
        },
        "outputId": "c18c6918-dbc3-46ce-a1e9-0ec48ea5549c"
      },
      "source": [
        "print(okt.pos(output_last))"
      ],
      "execution_count": 26,
      "outputs": [
        {
          "output_type": "stream",
          "text": [
            "[('넘치도록', 'Adjective'), ('강아지', 'Noun'), ('부글부글', 'Adverb'), ('하다가', 'Verb'), ('랭', 'Noun'), ('이', 'Josa'), ('부풀어', 'Verb'), ('오르다', 'Noun'), ('거품', 'Noun'), ('정', 'Noun'), ('황도', 'Noun'), ('모르고', 'Verb'), ('밥', 'Noun'), ('을', 'Josa'), ('추하게', 'Adjective'), ('먹는', 'Verb'), ('모습', 'Noun'), ('뺨', 'Noun'), ('잡초', 'Noun'), ('말하지말라', 'Verb'), ('희미하다', 'Adjective'), ('숨말', 'Verb'), ('힐듯', 'Noun'), ('한', 'Josa'), ('상황', 'Noun'), ('참으면서', 'Verb'), ('입', 'Noun'), ('이', 'Josa'), ('큰', 'Verb'), ('모양', 'Noun'), ('쉰', 'Noun'), ('밥', 'Noun'), ('으로만', 'Josa'), ('든', 'Verb'), ('유산', 'Noun'), ('식품', 'Noun'), ('고자질', 'Noun'), ('한', 'Josa'), ('다', 'Adverb'), ('마음', 'Noun'), ('씀씀이', 'Noun'), ('숨막히다', 'Adjective'), ('이렇게', 'Adverb'), ('잘게', 'Verb'), ('부수', 'Noun'), ('다말', 'Noun'), ('하', 'Suffix'), ('다', 'Josa'), ('캄캄하다', 'Adjective'), ('숨기', 'Noun'), ('다', 'Josa'), ('똑똑하다', 'Adjective'), ('햇살', 'Noun'), ('이', 'Josa'), ('눈부시게', 'Adjective'), ('비추는', 'Verb'), ('모습', 'Noun'), ('텃밭', 'Noun'), ('친족', 'Noun'), ('산간', 'Noun'), ('마을', 'Noun'), ('밑바닥', 'Noun'), ('걷는', 'Verb'), ('모습', 'Noun'), ('초벌', 'Noun'), ('로', 'Josa'), ('불', 'Noun'), ('에', 'Josa'), ('태우다', 'Verb'), ('제대로', 'Noun'), ('된', 'Verb'), ('뼈', 'Noun'), ('어떤', 'Adjective'), ('결심', 'Noun'), ('을', 'Josa'), ('하기', 'Verb'), ('위', 'Noun'), ('한', 'Josa'), ('다짐', 'Noun'), ('눈물', 'Noun'), ('의', 'Josa'), ('반찬', 'Noun'), ('보리', 'Noun'), ('피리', 'Noun'), ('침', 'Noun'), ('어이없다던져', 'Adjective'), ('버린다', 'Verb'), ('원통', 'Noun'), ('하', 'Suffix'), ('다', 'Josa'), ('얼떨떨하다', 'Adjective'), ('마늘', 'Noun'), ('날뛰다', 'Verb'), ('향기', 'Noun'), ('가', 'Josa'), ('좋다', 'Adjective'), ('기름기', 'Noun'), ('가', 'Josa'), ('넉넉하다', 'Adjective'), ('딸기', 'Noun'), ('찌그러지다', 'Verb'), ('돼지', 'Noun'), ('우리', 'Noun'), ('가', 'Josa'), ('있는', 'Adjective'), ('변소', 'Noun'), ('아무', 'Modifier'), ('것', 'Noun'), ('도', 'Josa'), ('없음', 'Adjective'), ('틈새', 'Noun'), ('무서워', 'Adjective'), ('이', 'Determiner'), ('곳', 'Noun'), ('저', 'Determiner'), ('곳', 'Noun'), ('홀랑', 'Noun'), ('벗은', 'Verb'), ('모습', 'Noun'), ('많다', 'Adjective'), ('만지다가', 'Verb'), ('힘없이', 'Adjective'), ('쓰러진', 'Verb'), ('모양', 'Noun'), ('전부하다가', 'Adjective'), ('안', 'Noun'), ('할', 'Verb'), ('것', 'Noun'), ('이냐', 'Josa'), ('멍청하다', 'Adjective'), ('빨리', 'Adverb'), ('가자', 'Verb'), ('늦', 'Noun'), ('장', 'Suffix'), ('부리', 'Noun'), ('다', 'Josa'), ('조금', 'Noun'), ('맛', 'Noun'), ('이', 'Josa'), ('가다', 'Verb'), ('등왜축', 'Noun'), ('늘어지다', 'Verb'), ('어둠', 'Noun'), ('속', 'Noun'), ('에', 'Josa'), ('빛', 'Noun'), ('이', 'Josa'), ('희미하다', 'Adjective'), ('얼굴', 'Noun'), ('고소하다', 'Adjective'), ('모습', 'Noun'), ('잠수복', 'Noun'), ('거칠고', 'Verb'), ('노', 'Noun'), ('한', 'Josa'), ('바다', 'Noun'), ('가까운', 'Adjective'), ('바다', 'Noun'), ('먼', 'Adjective'), ('바다', 'Noun'), ('한라산', 'Noun'), ('의', 'Josa'), ('중턱', 'Noun'), ('에', 'Josa'), ('띠', 'Noun'), ('같은', 'Adjective'), ('구름', 'Noun'), ('이', 'Josa'), ('끼', 'Noun'), ('면', 'Josa'), ('비', 'Noun'), ('가', 'Josa'), ('온다', 'Verb'), ('달무리', 'Noun'), ('지면', 'Noun'), ('비', 'Noun'), ('가', 'Josa'), ('온다', 'Verb'), ('돌고래', 'Noun'), ('가', 'Josa'), ('날뛴다', 'Verb'), ('황사현상', 'Noun'), ('물안경', 'Noun'), ('작살', 'Noun'), ('해산물', 'Noun'), ('을', 'Josa'), ('많이', 'Adverb'), ('잡았다', 'Verb'), ('해산물', 'Noun'), ('을', 'Josa'), ('많이', 'Adverb'), ('잡았다', 'Verb'), ('겨우', 'Noun'), ('한두', 'Modifier'), ('개', 'Noun'), ('잡았다', 'Verb'), ('바다', 'Noun'), ('가', 'Josa'), ('잔잔하다', 'Adjective'), ('산더미', 'Noun'), ('같은', 'Adjective'), ('파도', 'Noun'), ('작은', 'Adjective'), ('파도', 'Noun'), ('물결', 'Noun'), ('이', 'Josa'), ('친다', 'Verb'), ('할아버지', 'Noun'), ('할머니', 'Noun'), ('아버지', 'Noun'), ('어머니', 'Noun'), ('처녀', 'Noun'), ('친척', 'Noun'), ('거지', 'Noun'), ('시집간', 'Verb'), ('색시', 'Noun'), ('의붓아들', 'Noun'), ('세번', 'Noun'), ('째', 'Suffix'), ('자식', 'Noun'), ('사나이', 'Noun'), ('형님', 'Noun'), ('어른', 'Noun'), ('이', 'Josa'), ('된', 'Verb'), ('사람', 'Noun'), ('해녀', 'Noun'), ('경솔한', 'Adjective'), ('사람', 'Noun'), ('홀아비', 'Noun'), ('다리', 'Noun'), ('꼬리', 'Noun'), ('귀', 'Modifier'), ('쪽뺨', 'Noun'), ('뼈', 'Noun'), ('입', 'Noun'), ('머리', 'Noun'), ('등', 'Noun'), ('어리', 'Verb'), ('똥구멍', 'Noun'), ('멱살', 'Noun'), ('배', 'Noun'), ('불뚝', 'Noun'), ('이', 'Josa'), ('배', 'Noun'), ('밟아', 'Verb'), ('버린다', 'Verb'), ('얼굴', 'Noun'), ('목', 'Noun'), ('턱', 'Noun'), ('이마', 'Noun'), ('종아리', 'Noun'), ('겨드랑이', 'Noun'), ('간', 'Suffix'), ('지', 'Josa'), ('롭', 'Noun'), ('게', 'Josa'), ('종아리', 'Noun'), ('머리카락', 'Noun'), ('넓적다리', 'Noun'), ('얼굴', 'Noun'), ('통조림', 'Noun'), ('미숫가루', 'Noun'), ('동물', 'Noun'), ('먹이', 'Noun'), ('고기', 'Noun'), ('바', 'Noun'), ('닷', 'Modifier'), ('고기', 'Noun'), ('돼지고기', 'Noun'), ('쇠고기', 'Noun'), ('돼지고기', 'Noun'), ('쌀', 'Noun'), ('로만', 'Noun'), ('든', 'Josa'), ('하얀', 'Adjective'), ('떡', 'Noun'), ('흰', 'Adjective'), ('쌀밥', 'Noun'), ('무우', 'Noun'), ('마늘장아찌', 'Noun'), ('마늘', 'Noun'), ('파', 'Noun'), ('메밀', 'Noun'), ('수제비', 'Noun'), ('반찬', 'Noun'), ('참기름', 'Noun'), ('김치', 'Noun'), ('찹쌀', 'Noun'), ('조', 'Modifier'), ('밥', 'Noun'), ('감', 'Noun'), ('물들인', 'Verb'), ('옷', 'Noun'), ('감', 'Noun'), ('물들인', 'Verb'), ('적삼', 'Noun'), ('감', 'Noun'), ('물들인', 'Verb'), ('고의', 'Noun'), ('개', 'Noun'), ('구멍', 'Noun'), ('바지', 'Noun'), ('호주머니', 'Noun'), ('단추', 'Noun'), ('밀짚', 'Noun'), ('모자', 'Noun'), ('버선', 'Noun'), ('속옷', 'Noun'), ('신', 'Modifier'), ('짝', 'Noun'), ('짚신', 'Noun'), ('잠방이', 'Noun'), ('감', 'Noun'), ('물들인', 'Verb'), ('베옷', 'Noun'), ('고쟁이', 'Noun'), ('우두', 'Noun'), ('머니', 'Adjective'), ('두루마기', 'Noun'), ('아기', 'Noun'), ('옷', 'Noun'), ('비', 'Noun'), ('온', 'Modifier'), ('날', 'Noun'), ('저고리', 'Noun'), ('기저귀', 'Noun'), ('기저귀', 'Noun'), ('조끼', 'Noun'), ('치마', 'Noun'), ('건대', 'Noun'), ('사모관대', 'Noun'), ('손자', 'Noun'), ('용', 'Noun'), ('상복', 'Noun'), ('상제', 'Noun'), ('옷', 'Noun'), ('망건', 'Noun'), ('상갓', 'Noun'), ('닮은거', 'Verb'), ('벙거지', 'Noun'), ('삿갓', 'Noun'), ('탕건', 'Noun'), ('남자', 'Noun'), ('모자', 'Noun'), ('여자', 'Noun'), ('모자', 'Noun'), ('빈', 'Noun'), ('네', 'Josa'), ('꽂은', 'Verb'), ('머리', 'Noun'), ('땋', 'Noun'), ('은', 'Josa'), ('놈', 'Noun'), ('의', 'Josa'), ('머리', 'Noun'), ('비녀', 'Noun'), ('상투', 'Noun'), ('머리', 'Noun'), ('빗', 'Noun'), ('머리', 'Noun'), ('빗', 'Noun'), ('족두리', 'Noun'), ('참빗', 'Noun'), ('무당', 'Noun'), ('입는', 'Verb'), ('옷', 'Noun'), ('나막신', 'Noun'), ('무당', 'Noun'), ('들', 'Suffix'), ('쓰는', 'Verb'), ('모자', 'Noun'), ('방울', 'Noun'), ('상복', 'Noun'), ('치마', 'Noun'), ('바구니', 'Noun'), ('대', 'Modifier'), ('로만', 'Noun'), ('든', 'Josa'), ('채롱', 'Noun'), ('양푼', 'Noun'), ('물', 'Noun'), ('긷는', 'Noun'), ('그릇', 'Noun'), ('마차', 'Noun'), ('바늘', 'Noun'), ('바가지', 'Noun'), ('수저', 'Noun'), ('젓갈', 'Noun'), ('주머니', 'Noun'), ('물', 'Noun'), ('을', 'Josa'), ('길어', 'Adjective'), ('나르는', 'Verb'), ('통', 'Noun'), ('큰', 'Verb'), ('밥주걱', 'Noun'), ('국', 'Noun'), ('사발', 'Noun'), ('함지박', 'Noun'), ('도시락', 'Noun'), ('통', 'Noun'), ('바가지', 'Noun'), ('밥', 'Noun'), ('사발', 'Noun'), ('작은', 'Adjective'), ('밥', 'Noun'), ('자', 'Suffix'), ('작은', 'Adjective'), ('바가지', 'Noun'), ('설거지', 'Noun'), ('통', 'Noun'), ('항아리', 'Noun'), ('나무', 'Noun'), ('로', 'Josa'), ('만든도', 'Verb'), ('고리', 'Noun'), ('삽', 'Noun'), ('곡괭이', 'Noun'), ('호미', 'Noun'), ('호미', 'Noun'), ('고무래', 'Noun'), ('날레', 'Noun'), ('젓는', 'Verb'), ('거', 'Noun'), ('맷돌', 'Noun'), ('상태', 'Noun'), ('기', 'Noun'), ('돌', 'Noun'), ('발르는', 'Verb'), ('끌', 'Noun'), ('도리깨', 'Noun'), ('멱', 'Noun'), ('서리', 'Noun'), ('연', 'Noun'), ('자마', 'Verb'), ('쐐괘', 'Noun'), ('씨앗', 'Noun'), ('그릇', 'Noun'), ('쉐', 'Noun'), ('거름', 'Noun'), ('낼때', 'Noun'), ('씨앗', 'Noun'), ('쟁기', 'Noun'), ('낫', 'Noun'), ('굴뚝', 'Noun'), ('새', 'Noun'), ('날개', 'Noun'), ('동박새', 'Noun'), ('닭', 'Noun'), ('닭', 'Noun'), ('고양이', 'Noun'), ('송아지', 'Noun'), ('망아지', 'Noun'), ('돼지', 'Noun'), ('돼지', 'Noun'), ('밭', 'Noun'), ('을', 'Josa'), ('가는', 'Verb'), ('소', 'Noun'), ('숫소', 'Noun'), ('염소', 'Noun'), ('강아지', 'Noun'), ('쥐', 'Noun'), ('도미', 'Noun'), ('게', 'Noun'), ('소라', 'Noun'), ('문어', 'Noun'), ('개미', 'Noun'), ('맹꽁이', 'Noun'), ('버러지', 'Noun'), ('뱀', 'Noun'), ('병아리', 'Noun'), ('새', 'Noun'), ('다람쥐', 'Noun'), ('쥐', 'Noun'), ('여우', 'Noun'), ('노루', 'Noun'), ('병아리', 'Noun'), ('소', 'Noun'), ('외양간', 'Noun'), ('돼지', 'Noun'), ('두꺼비', 'Noun'), ('개구리', 'Noun'), ('올챙이', 'Noun'), ('채소', 'Noun'), ('감자', 'Noun'), ('고구마', 'Noun'), ('억새', 'Noun'), ('잔디', 'Noun'), ('메밀', 'Noun'), ('느티나무', 'Noun'), ('강아지풀', 'Noun'), ('달래', 'Noun'), ('산', 'Noun'), ('수국', 'Noun'), ('삼나무', 'Noun'), ('팽나무', 'Noun'), ('가뿐하다', 'Adjective'), ('시원하다', 'Adjective'), ('게으르다', 'Adjective'), ('분수', 'Noun'), ('가', 'Josa'), ('없다', 'Adjective'), ('곧다', 'Adjective'), ('쨍쨍', 'Adverb'), ('하다', 'Verb'), ('조마조마하다', 'Adjective'), ('가렵다', 'Noun'), ('달콤하다', 'Adjective'), ('통쾌하다', 'Adjective'), ('따뜻하다', 'Adjective'), ('한', 'Determiner'), ('곳', 'Noun'), ('에', 'Josa'), ('모여있다', 'Verb'), ('포동포동하다', 'Adjective'), ('젊게', 'Adjective'), ('보이', 'Noun'), ('다', 'Josa'), ('부끄럽다', 'Adjective'), ('동그랗다', 'Adjective'), ('퉁퉁', 'Noun'), ('하다', 'Verb'), ('부지런하다', 'Adjective'), ('시치미', 'Noun'), ('를', 'Josa'), ('뗀', 'Verb'), ('모양', 'Noun'), ('하', 'Suffix'), ('다', 'Josa'), ('희', 'Adjective'), ('끔하다', 'Verb'), ('시원하다', 'Adjective'), ('지긋지긋하다', 'Adjective'), ('차겁', 'Noun'), ('다', 'Adverb'), ('관심', 'Noun'), ('이', 'Josa'), ('없다', 'Adjective'), ('아무런', 'Modifier'), ('가치', 'Noun'), ('없다', 'Adjective'), ('살찌다', 'Adjective'), ('사납게', 'Adjective'), ('소리치다', 'Verb'), ('더럽다', 'Adjective'), ('흐리', 'Verb'), ('멍텅', 'Noun'), ('하', 'Suffix'), ('다', 'Josa'), ('당황', 'Noun'), ('하다', 'Verb'), ('궁금하다', 'Adjective'), ('엄청나다', 'Adjective'), ('작아서', 'Adjective'), ('위로', 'Noun'), ('치켜뜬', 'Verb'), ('모양', 'Noun'), ('하', 'Suffix'), ('다', 'Josa'), ('오목하다', 'Adjective'), ('캄캄하다', 'Adjective'), ('떠들썩하다', 'Adjective'), ('똑똑하다', 'Adjective'), ('불쑥', 'Noun'), ('나타나있다', 'Verb'), ('가늘다', 'Adjective'), ('잠잠하다', 'Adjective'), ('까다롭다', 'Adjective'), ('그저께', 'Noun'), ('아침', 'Noun'), ('그저께', 'Noun'), ('저녁', 'Noun'), ('엊', 'Noun'), ('저녁', 'Noun'), ('내', 'Determiner'), ('일', 'Modifier'), ('모레', 'Noun'), ('요사이', 'Noun'), ('흉년', 'Noun'), ('겨울', 'Noun'), ('된', 'Verb'), ('헤어지다', 'Verb'), ('자빠지다', 'Verb'), ('맴돌다', 'Verb'), ('남', 'Noun'), ('의', 'Josa'), ('일', 'Noun'), ('을', 'Josa'), ('비평', 'Noun'), ('하', 'Suffix'), ('다', 'Josa'), ('꺼', 'Verb'), ('떡', 'Noun'), ('거리', 'Noun'), ('다', 'Josa'), ('건드리다', 'Verb'), ('거꾸러지다', 'Verb'), ('호', 'Noun'), ('다', 'Josa'), ('박자', 'Noun'), ('비켜', 'Verb'), ('서다', 'Verb'), ('재주', 'Noun'), ('넘다', 'Verb'), ('얼굴', 'Noun'), ('을', 'Josa'), ('찡그리다', 'Verb'), ('숨기', 'Noun'), ('다', 'Josa'), ('불평', 'Noun'), ('을', 'Josa'), ('말', 'Noun'), ('하', 'Suffix'), ('다', 'Josa'), ('거꾸로', 'Noun'), ('박히다', 'Verb'), ('은밀', 'Noun'), ('히', 'Adverb'), ('알려주다', 'Verb'), ('숨막히다', 'Adjective'), ('차례', 'Noun'), ('로', 'Josa'), ('바꾸다', 'Verb'), ('늑장', 'Noun'), ('부리', 'Noun'), ('다', 'Josa'), ('미끄러지다', 'Verb'), ('재촉', 'Noun'), ('하다', 'Verb'), ('다니다', 'Verb'), ('던져', 'Verb'), ('버리다', 'Verb'), ('갈라지다', 'Verb'), ('날', 'Noun'), ('뛰다', 'Verb'), ('느리다', 'Adjective'), ('꾸물거리다', 'Verb'), ('속', 'Modifier'), ('이보', 'Noun'), ('이', 'Suffix'), ('게', 'Josa'), ('열다', 'Verb'), ('부수', 'Noun'), ('어', 'Suffix'), ('버리다', 'Verb'), ('화나다', 'Verb'), ('고함', 'Noun'), ('지르다', 'Verb'), ('소', 'Modifier'), ('근거리', 'Noun'), ('다', 'Josa'), ('소문', 'Noun'), ('내다', 'Verb'), ('잠잠하다', 'Adjective'), ('겨루다', 'Verb'), ('욕설', 'Noun'), ('하다', 'Verb'), ('성내다', 'Verb'), ('간지럽히다', 'Adjective'), ('걱정', 'Noun'), ('하다', 'Verb'), ('다섯', 'Noun'), ('예닐곱', 'Noun'), ('여든', 'Noun'), ('일곱', 'Determiner'), ('여덟', 'Noun'), ('여', 'Noun'), ('나', 'Josa'), ('믄', 'Modifier'), ('여섯', 'Noun'), ('하나', 'Noun'), ('해녀', 'Noun'), ('물질', 'Noun'), ('잘', 'VerbPrefix'), ('하는', 'Verb'), ('사람', 'Noun'), ('어린', 'Verb'), ('처녀', 'Noun'), ('욕', 'Noun'), ('밤', 'Noun'), ('따귀', 'Noun'), ('은하수', 'Noun'), ('소나기', 'Noun'), ('무지개', 'Noun'), ('안개', 'Noun'), ('공기', 'Noun'), ('나무', 'Noun'), ('그늘', 'Noun'), ('달', 'Noun'), ('별', 'Noun'), ('돌맹', 'Noun'), ('이', 'Josa'), ('자갈밭', 'Noun'), ('방', 'Noun'), ('화장실', 'Noun'), ('화장실', 'Noun'), ('줄', 'Noun'), ('작은', 'Adjective'), ('밭', 'Noun'), ('한', 'Verb'), ('달', 'Noun'), ('머리', 'Noun'), ('어깨', 'Noun'), ('무릎', 'Noun'), ('발', 'Noun'), ('같이', 'Josa'), ('가요', 'Noun'), ('함께', 'Adverb'), ('해', 'Noun'), ('요', 'Josa'), ('너', 'Noun'), ('와', 'Josa'), ('함께', 'Adverb'), ('하면', 'Verb'), ('즐거움', 'Noun'), ('이', 'Josa'), ('열', 'Noun'), ('배야같이', 'Verb'), ('가요', 'Noun'), ('함께', 'Adverb'), ('해', 'Noun'), ('요', 'Josa'), ('너', 'Noun'), ('와', 'Josa'), ('함께', 'Adverb'), ('하면', 'Verb'), ('즐거움', 'Noun'), ('이', 'Josa'), ('백배', 'Noun'), ('야', 'Josa'), ('이렇게', 'Adverb'), ('예쁜', 'Adjective'), ('날', 'Noun'), ('공기', 'Noun'), ('좋고', 'Adjective'), ('사람', 'Noun'), ('좋고', 'Adjective'), ('너', 'Noun'), ('와', 'Josa'), ('함께', 'Adverb'), ('하니', 'Noun'), ('무슨', 'Noun'), ('걱정', 'Noun'), ('있으랴', 'Adjective'), ('많이', 'Adverb'), ('말', 'Noun'), ('하면', 'Verb'), ('잔소리', 'Noun'), ('야', 'Josa'), ('먹다', 'Verb'), ('보니', 'Verb'), ('살', 'Noun'), ('게', 'Josa'), ('되고', 'Verb'), ('살다', 'Verb'), ('보니', 'Verb'), ('먹게', 'Verb'), ('되지', 'Verb'), ('굶어', 'Verb'), ('보면', 'Verb'), ('알', 'Noun'), ('게', 'Josa'), ('되지', 'Verb'), ('배고픔도', 'Adjective'), ('인생', 'Noun'), ('인', 'Josa'), ('걸', 'Noun'), ('없으면', 'Adjective'), ('없는대로', 'Adjective'), ('그저', 'Adverb'), ('그렇게', 'Adverb'), ('살고있으면', 'Verb'), ('있는대로', 'Adjective'), ('나누면서', 'Verb'), ('살', 'Noun'), ('지', 'Josa'), ('먹어', 'Verb'), ('볼', 'Noun'), ('만', 'Josa'), ('한', 'Determiner'), ('살', 'Noun'), ('아', 'Josa'), ('볼', 'Noun'), ('만', 'Josa'), ('한', 'Determiner'), ('세상', 'Noun'), ('웃으며', 'Verb'), ('사는', 'Verb'), ('세상', 'Noun'), ('이', 'Josa'), ('사람', 'Noun'), ('사는', 'Verb'), ('세', 'Modifier'), ('상이', 'Noun'), ('지울다', 'Verb'), ('보니', 'Verb'), ('살', 'Noun'), ('게', 'Josa'), ('되었지', 'Verb'), ('웃다', 'Verb'), ('보니', 'Verb'), ('살', 'Noun'), ('게', 'Josa'), ('되었', 'Verb'), ('지우는', 'Verb'), ('삶도', 'Verb'), ('웃는', 'Verb'), ('삶도', 'Verb'), ('고마운', 'Adjective'), ('인생', 'Noun'), ('이지', 'Josa'), ('없으면', 'Adjective'), ('없는대로', 'Adjective'), ('그저', 'Adverb'), ('그렇게', 'Adverb'), ('살고있으면', 'Verb'), ('있는대로', 'Adjective'), ('나누면서', 'Verb'), ('살', 'Noun'), ('지', 'Josa'), ('먹어', 'Verb'), ('볼', 'Noun'), ('만', 'Suffix'), ('한', 'Josa'), ('살', 'Noun'), ('아', 'Josa'), ('볼', 'Noun'), ('만', 'Suffix'), ('한', 'Josa'), ('세상', 'Noun'), ('웃으며', 'Verb'), ('사는', 'Verb'), ('세상', 'Noun'), ('이', 'Josa'), ('사람', 'Noun'), ('사는', 'Verb'), ('세상', 'Noun'), ('이지', 'Josa'), ('무명', 'Noun'), ('천', 'Suffix'), ('할머니', 'Noun'), ('어디', 'Noun'), ('가십', 'Noun'), ('니까', 'Josa'), ('무명', 'Noun'), ('천', 'Suffix'), ('할머니', 'Noun'), ('편안', 'Noun'), ('하십니까', 'Verb'), ('4', 'Number'), ('3', 'Number'), ('사건', 'Noun'), ('때', 'Noun'), ('총', 'Noun'), ('맞아서', 'Verb'), ('턱', 'Noun'), ('을', 'Josa'), ('잃었네', 'Verb'), ('그렇게', 'Adverb'), ('살았네', 'Verb'), ('55년', 'Number'), ('간', 'Noun'), ('말', 'Noun'), ('도', 'Josa'), ('못', 'Noun'), ('하고', 'Josa'), ('음식', 'Noun'), ('도', 'Josa'), ('못', 'Noun'), ('먹으면서', 'Verb'), ('상처', 'Noun'), ('난', 'Noun'), ('얼굴', 'Noun'), ('보일', 'Verb'), ('수', 'Noun'), ('없어', 'Adjective'), ('무명', 'Noun'), ('천', 'Suffix'), ('을', 'Josa'), ('둘렀', 'Verb'), ('네', 'Determiner'), ('목숨', 'Noun'), ('은', 'Josa'), ('건졌지만', 'Verb'), ('살아도', 'Verb'), ('산', 'Noun'), ('게', 'Josa'), ('아니었', 'Adjective'), ('네', 'Determiner'), ('무명', 'Noun'), ('천', 'Suffix'), ('할머니', 'Noun'), ('라고', 'Josa'), ('날', 'Noun'), ('불렀지만', 'Verb'), ('내게도', 'Verb'), ('이름', 'Noun'), ('이', 'Josa'), ('있었', 'Adjective'), ('네', 'Determiner'), ('진', 'Noun'), ('아영', 'Noun'), ('입니다', 'Adjective'), ('무채', 'Noun'), ('썰어', 'Verb'), ('끓는', 'Verb'), ('물', 'Noun'), ('에', 'Josa'), ('데', 'Noun'), ('쳐', 'Verb'), ('파', 'Noun'), ('와', 'Josa'), ('깨', 'Noun'), ('가루', 'Noun'), ('넣어', 'Verb'), ('섞어서', 'Verb'), ('메밀가루', 'Noun'), ('반죽', 'Noun'), ('하여', 'Verb'), ('얇게', 'Adjective'), ('지져', 'Verb'), ('그', 'Determiner'), ('위', 'Noun'), ('에', 'Josa'), ('놓고', 'Verb'), ('말', 'Noun'), ('면', 'Josa'), ('빙떡', 'Noun'), ('이', 'Determiner'), ('지', 'Modifier'), ('앞뒤', 'Noun'), ('분', 'Suffix'), ('간못하고', 'Verb'), ('어디', 'Noun'), ('로', 'Josa'), ('가려고', 'Verb'), ('하니', 'Noun'), ('예쁘게', 'Adjective'), ('차려입고', 'Verb'), ('이', 'Determiner'), ('쪽', 'Noun'), ('으로', 'Josa'), ('와', 'Verb'), ('서는', 'Verb'), ('너', 'Noun'), ('와', 'Josa'), ('내', 'Noun'), ('가', 'Josa'), ('한', 'Determiner'), ('데모', 'Noun'), ('여서', 'Josa'), ('힘껏', 'Noun'), ('달리자', 'Verb'), ('수줍게', 'Adjective'), ('웃으며', 'Verb'), ('모두', 'Noun'), ('쳐다보니', 'Verb'), ('정', 'Noun'), ('다', 'Adverb'), ('워', 'Noun'), ('지네', 'Noun'), ('달려라', 'Verb'), ('걱정', 'Noun'), ('하지', 'Verb'), ('말고', 'Josa'), ('달려라', 'Verb'), ('모두', 'Noun'), ('달려라', 'Verb'), ('달려라', 'Verb'), ('걱정', 'Noun'), ('하지', 'Verb'), ('말고', 'Josa'), ('달려라', 'Verb'), ('모두', 'Noun'), ('달려라', 'Verb'), ('화', 'Noun'), ('를', 'Josa'), ('내며', 'Verb'), ('다퉈', 'Verb'), ('보', 'Noun'), ('니까', 'Josa'), ('알겠니', 'Verb'), ('너', 'Noun'), ('와', 'Josa'), ('내', 'Noun'), ('가', 'Josa'), ('경쟁', 'Noun'), ('해', 'Verb'), ('봐야', 'Verb'), ('감정', 'Noun'), ('상', 'Suffix'), ('하기만', 'Verb'), ('할', 'Verb'), ('뿐이', 'Adjective'), ('네', 'Determiner'), ('돈', 'Noun'), ('이', 'Josa'), ('많은', 'Adjective'), ('척', 'Noun'), ('잘난', 'Adjective'), ('척', 'Noun'), ('점', 'Noun'), ('잖은', 'Verb'), ('척', 'Noun'), ('그렇게', 'Adverb'), ('해', 'Noun'), ('봐야', 'Verb'), ('삐칠', 'Noun'), ('뿐이니', 'Adjective'), ('달어', 'Verb'), ('돌아다니자', 'Verb'), ('달려라', 'Verb'), ('걱정', 'Noun'), ('하지', 'Verb'), ('말고', 'Josa'), ('달려라', 'Verb'), ('모두', 'Noun'), ('달려라', 'Verb'), ('달려라', 'Verb'), ('걱정', 'Noun'), ('하지', 'Verb'), ('말고', 'Josa'), ('달려라', 'Verb'), ('모두', 'Noun'), ('달려라', 'Verb'), ('아야', 'Noun'), ('머리', 'Noun'), ('야', 'Josa'), ('아야', 'Noun'), ('머리', 'Noun'), ('야', 'Josa'), ('입담', 'Noun'), ('하', 'Suffix'), ('며', 'Josa'), ('두', 'Noun'), ('들', 'Suffix'), ('기노라면', 'Verb'), ('숟가락', 'Noun'), ('자루', 'Noun'), ('거꾸로', 'Noun'), ('잡고', 'Noun'), ('채롱', 'Noun'), ('옆', 'Noun'), ('을', 'Josa'), ('두', 'Noun'), ('들', 'Suffix'), ('기노라면', 'Verb'), ('굵다란', 'Adjective'), ('말', 'Noun'), ('개미', 'Noun'), ('들', 'Suffix'), ('이', 'Josa'), ('사방', 'Noun'), ('으로', 'Josa'), ('흩어지고', 'Verb'), ('어떻', 'Modifier'), ('게', 'Noun'), ('하', 'Suffix'), ('지', 'Josa'), ('어떻', 'Modifier'), ('게', 'Noun'), ('하', 'Suffix'), ('지', 'Josa'), ('학교', 'Noun'), ('가는', 'Verb'), ('길', 'Noun'), ('에', 'Josa'), ('오줌', 'Noun'), ('을', 'Josa'), ('쌌어', 'Verb'), ('어떻', 'Modifier'), ('게', 'Noun'), ('하', 'Suffix'), ('지', 'Josa'), ('어떻', 'Modifier'), ('게', 'Noun'), ('하', 'Suffix'), ('지', 'Josa'), ('학교', 'Noun'), ('가는', 'Verb'), ('길', 'Noun'), ('에', 'Josa'), ('오줌', 'Noun'), ('을', 'Josa'), ('쌌어', 'Verb'), ('어떻', 'Modifier'), ('게', 'Noun'), ('하', 'Suffix'), ('지', 'Josa'), ('학교', 'Noun'), ('가는', 'Verb'), ('길', 'Noun'), ('에', 'Josa'), ('오줌', 'Noun'), ('을', 'Josa'), ('쌌어', 'Verb'), ('어떻게', 'Adjective'), ('하지', 'Verb'), ('어떻게', 'Adjective'), ('하지', 'Verb'), ('참다가', 'Verb'), ('참다가', 'Verb'), ('참지', 'Verb'), ('못', 'VerbPrefix'), ('해', 'Verb'), ('나와', 'Verb'), ('버렸어', 'Verb'), ('어떻게', 'Adjective'), ('하지', 'Verb'), ('어떻게', 'Adjective'), ('하지', 'Verb'), ('비', 'Noun'), ('가', 'Josa'), ('내리니', 'Verb'), ('비', 'Noun'), ('맞았다고', 'Verb'), ('말하렴', 'Verb'), ('나오는', 'Verb'), ('걸', 'Noun'), ('어떻게', 'Adjective'), ('할', 'Verb'), ('수', 'Noun'), ('있겠니', 'Adjective'), ('어떻게', 'Adjective'), ('하지', 'Verb'), ('어떻게', 'Adjective'), ('하', 'Exclamation'), ('지게', 'Noun'), ('를', 'Josa'), ('잡다가', 'Verb'), ('미끄러졌어', 'Verb'), ('어떻게', 'Adjective'), ('하지', 'Verb'), ('어떻게', 'Adjective'), ('하', 'Exclamation'), ('지게', 'Noun'), ('를', 'Josa'), ('잡다가', 'Verb'), ('미끄러졌어', 'Verb'), ('어떻게', 'Adjective'), ('하', 'Exclamation'), ('지게', 'Noun'), ('를', 'Josa'), ('잡다가', 'Verb'), ('미끄러졌어', 'Verb'), ('어쩌다가', 'Noun'), ('어쩌다가', 'Noun'), ('숨어있는', 'Verb'), ('게', 'Noun'), ('를', 'Josa'), ('기다리다가', 'Verb'), ('갑자기', 'Noun'), ('덮', 'Verb'), ('쳤지', 'Verb'), ('그래서', 'Adverb'), ('어떻게', 'Adjective'), ('되었어', 'Verb'), ('정말', 'Noun'), ('빨랐어', 'Adjective'), ('눈', 'Noun'), ('감았다', 'Verb'), ('떠', 'Verb'), ('보니', 'Verb'), ('물', 'Noun'), ('속', 'Noun'), ('에', 'Josa'), ('나', 'Noun'), ('만', 'Josa'), ('빠져', 'Verb'), ('있었어', 'Adjective'), ('어떡하지', 'Adjective'), ('어떡하지', 'Adjective'), ('어떡하지', 'Adjective'), ('어떡하지', 'Adjective'), ('바다', 'Noun'), ('바다', 'Noun'), ('바다', 'Noun'), ('바다', 'Noun'), ('바람', 'Noun'), ('바람', 'Noun'), ('바람', 'Noun'), ('바람', 'Noun'), ('바다', 'Noun'), ('바다', 'Noun'), ('바다', 'Noun'), ('바다', 'Noun'), ('바람', 'Noun'), ('바람', 'Noun'), ('바람날이', 'Verb'), ('정말', 'Noun'), ('좋아', 'Adjective'), ('바다', 'Noun'), ('에', 'Josa'), ('가서', 'Verb'), ('모래밭', 'Noun'), ('을', 'Josa'), ('맨발', 'Noun'), ('로', 'Josa'), ('걸었', 'Verb'), ('네', 'Determiner'), ('게', 'Noun'), ('한', 'Verb'), ('마리', 'Noun'), ('가', 'Josa'), ('나를', 'Verb'), ('보더', 'Noun'), ('니', 'Josa'), ('파도치는', 'Verb'), ('쪽', 'Noun'), ('으로', 'Josa'), ('도망가네', 'Verb'), ('어쩌지', 'Adverb'), ('잡아', 'Verb'), ('볼까', 'Verb'), ('잡다', 'Verb'), ('실수', 'Noun'), ('하면', 'Verb'), ('아야', 'Noun'), ('물릴', 'Verb'), ('텐데바', 'Noun'), ('다', 'Josa'), ('바다', 'Noun'), ('바다', 'Noun'), ('바다', 'Noun'), ('바람', 'Noun'), ('바람', 'Noun'), ('바람', 'Noun'), ('바람', 'Noun'), ('바다', 'Noun'), ('바다', 'Noun'), ('바다', 'Noun'), ('바다', 'Noun'), ('바람', 'Noun'), ('바람', 'Noun'), ('바람', 'Noun'), ('새', 'Noun'), ('새', 'Noun'), ('새', 'Noun'), ('새', 'Noun'), ('오름', 'Noun'), ('오름', 'Noun'), ('오름', 'Noun'), ('오름', 'Noun'), ('새', 'Noun'), ('새', 'Noun'), ('새', 'Noun'), ('새', 'Noun'), ('오름', 'Noun'), ('오름', 'Noun'), ('오름', 'Noun'), ('엄마', 'Noun'), ('랑', 'Josa'), ('손', 'Noun'), ('꼭', 'Noun'), ('잡고', 'Noun'), ('용눈', 'Noun'), ('이', 'Josa'), ('오름', 'Noun'), ('을', 'Josa'), ('오르', 'Verb'), ('네', 'Determiner'), ('새', 'Noun'), ('한', 'Verb'), ('마리', 'Noun'), ('나를', 'Verb'), ('보더', 'Noun'), ('니', 'Josa'), ('짹짹', 'Noun'), ('짹짹', 'Noun'), ('노래', 'Noun'), ('를', 'Josa'), ('하네', 'Verb'), ('어쩌지', 'Adverb'), ('잡아', 'Verb'), ('볼까', 'Verb'), ('아무리', 'Adverb'), ('잡으려', 'Verb'), ('해도', 'Noun'), ('어림없을', 'Adjective'), ('텐데당신', 'Noun'), ('의', 'Josa'), ('마음', 'Noun'), ('속', 'Noun'), ('엔', 'Josa'), ('고운', 'Adjective'), ('꽃들이', 'Noun'), ('만발', 'Noun'), ('한', 'Josa'), ('모양', 'Noun'), ('이야', 'Josa'), ('이렇게', 'Adverb'), ('말', 'Noun'), ('해도', 'Verb'), ('빙그레', 'Noun'), ('웃고', 'Verb'), ('저렇게', 'Adverb'), ('말', 'Noun'), ('해도', 'Verb'), ('빙그레', 'Noun'), ('웃고', 'Verb'), ('당신', 'Noun'), ('의', 'Josa'), ('마음', 'Noun'), ('속', 'Noun'), ('엔', 'Josa'), ('황소', 'Noun'), ('한', 'Verb'), ('마리', 'Noun'), ('들어', 'Verb'), ('앉은', 'Verb'), ('모양', 'Noun'), ('이야', 'Josa'), ('이렇게', 'Adverb'), ('말', 'Noun'), ('해도', 'Verb'), ('잠잠', 'Verb'), ('저렇게', 'Adverb'), ('말', 'Noun'), ('해도', 'Verb'), ('잠잠', 'Verb'), ('당신', 'Noun'), ('의', 'Josa'), ('마음', 'Noun'), ('속', 'Noun'), ('에', 'Josa'), ('들어가', 'Verb'), ('보려고', 'Verb'), ('욕심', 'Noun'), ('과', 'Josa'), ('미움', 'Noun'), ('이', 'Josa'), ('손', 'Noun'), ('불끈', 'Noun'), ('잡아', 'Verb'), ('두', 'Determiner'), ('고', 'Modifier'), ('기웃', 'Noun'), ('기웃', 'Noun'), ('거려', 'Noun'), ('보는데', 'Verb'), ('꿀벌', 'Noun'), ('과', 'Josa'), ('일', 'Modifier'), ('벌이', 'Noun'), ('날아다니는', 'Verb'), ('걸', 'Noun'), ('보니', 'Verb'), ('당신', 'Noun'), ('의', 'Josa'), ('마음', 'Noun'), ('속', 'Noun'), ('엔', 'Josa'), ('송이', 'Noun'), ('꿀', 'Noun'), ('보다도', 'Josa'), ('더', 'Noun'), ('달디', 'Verb'), ('단', 'Noun'), ('무언가', 'Noun'), ('로', 'Josa'), ('꽉', 'Noun'), ('들어', 'Verb'), ('찬', 'Noun'), ('모양', 'Noun'), ('이야', 'Josa'), ('휘', 'Noun'), ('이', 'Determiner'), ('이바람', 'Noun'), ('분다', 'Noun'), ('바람', 'Noun'), ('불어', 'Noun'), ('저', 'Noun'), ('바다', 'Noun'), ('가', 'Josa'), ('저', 'Determiner'), ('바람', 'Noun'), ('이', 'Josa'), ('손짓', 'Noun'), ('하네말을', 'Verb'), ('하네테', 'Verb'), ('왁', 'Adverb'), ('메고', 'Verb'), ('호미', 'Noun'), ('를', 'Josa'), ('들어', 'Verb'), ('바다', 'Noun'), ('와', 'Josa'), ('춤', 'Noun'), ('을', 'Josa'), ('추네우리', 'Verb'), ('엄마', 'Noun'), ('우리', 'Noun'), ('바다', 'Noun'), ('한', 'Josa'), ('몸', 'Noun'), ('되어', 'Verb'), ('춤', 'Noun'), ('을', 'Josa'), ('추네', 'Verb'), ('바다', 'Noun'), ('야', 'Josa'), ('바람', 'Noun'), ('아', 'Josa'), ('눈물', 'Noun'), ('나네', 'Verb'), ('눈물', 'Noun'), ('이', 'Josa'), ('나우', 'Noun'), ('리', 'Noun'), ('엄마', 'Noun'), ('지켜다오', 'Verb'), ('이어도', 'Noun'), ('이어도', 'Noun'), ('사나이', 'Noun'), ('어도', 'Noun'), ('이어도', 'Noun'), ('사나이', 'Noun'), ('어도', 'Noun'), ('이어도', 'Noun'), ('사나이', 'Noun'), ('어도', 'Noun'), ('이어도', 'Noun'), ('사나', 'Noun'), ('바람', 'Noun'), ('은', 'Josa'), ('세차', 'Noun'), ('게', 'Josa'), ('불', 'Noun'), ('고', 'Josa'), ('덜', 'Noun'), ('익은', 'Verb'), ('조', 'Noun'), ('열매', 'Noun'), ('가', 'Josa'), ('이', 'Determiner'), ('쪽', 'Noun'), ('을', 'Josa'), ('보면서', 'Verb'), ('인사', 'Noun'), ('하고', 'Josa'), ('저쪽', 'Noun'), ('을', 'Josa'), ('보면서', 'Verb'), ('인사', 'Noun'), ('하고', 'Josa'), ('나뭇가지', 'Noun'), ('들', 'Suffix'), ('은', 'Josa'), ('서로', 'Noun'), ('다투며', 'Verb'), ('잡아당기고', 'Verb'), ('파도치는', 'Verb'), ('요', 'Modifier'), ('메기', 'Noun'), ('바다', 'Noun'), ('엔', 'Josa'), ('빈', 'Noun'), ('소라', 'Noun'), ('가', 'Josa'), ('뒹굴어', 'Noun'), ('다니고담', 'Verb'), ('위', 'Noun'), ('를', 'Josa'), ('걸쳐', 'Verb'), ('친', 'Noun'), ('고구마줄기', 'Noun'), ('에', 'Josa'), ('동글동글', 'Noun'), ('매달려있는', 'Verb'), ('작은', 'Adjective'), ('고구마', 'Noun'), ('이리', 'Adverb'), ('흔들리고', 'Verb'), ('저리', 'Noun'), ('흔들리고워', 'Verb'), ('어허허', 'Adverb'), ('바람', 'Noun'), ('바람', 'Noun'), ('바람', 'Noun'), ('부는', 'Verb'), ('제주', 'Noun'), ('의', 'Josa'), ('하늘아', 'Noun'), ('먹', 'Verb'), ('구슬', 'Noun'), ('나무', 'Noun'), ('꼭대기', 'Noun'), ('에', 'Josa'), ('앉은', 'Verb'), ('먹', 'Verb'), ('구슬', 'Noun'), ('새', 'Noun'), ('안', 'Noun'), ('떨어지려고', 'Verb'), ('나뭇가지', 'Noun'), ('를', 'Josa'), ('꽉', 'Noun'), ('잡고', 'Noun'), ('있고', 'Adjective'), ('조', 'Modifier'), ('밭', 'Noun'), ('밟는', 'Verb'), ('망아지', 'Noun'), ('뒤', 'Noun'), ('로', 'Josa'), ('일어나는', 'Verb'), ('흙', 'Noun'), ('먼지', 'Noun'), ('는', 'Josa'), ('남', 'Noun'), ('의', 'Josa'), ('밭', 'Noun'), ('으로', 'Josa'), ('넘어가고', 'Verb'), ('동네', 'Noun'), ('큰', 'Verb'), ('팽나무', 'Noun'), ('아래', 'Noun'), ('땀좀', 'Noun'), ('식히고', 'Verb'), ('가려고하면', 'Verb'), ('불어오는', 'Verb'), ('저', 'Noun'), ('바람', 'Noun'), ('은', 'Josa'), ('왜', 'Noun'), ('그리', 'Verb'), ('간질', 'Noun'), ('이', 'Suffix'), ('는', 'Josa'), ('지그', 'Noun'), ('래', 'Josa'), ('어서', 'Noun'), ('가렴', 'Noun'), ('그래', 'Adjective'), ('어서', 'Noun'), ('가렴', 'Noun'), ('바람', 'Noun'), ('아', 'Josa'), ('해녀', 'Noun'), ('삼촌', 'Noun'), ('다시', 'Noun'), ('다시', 'Noun'), ('바다', 'Noun'), ('가네테', 'Verb'), ('왁', 'Adverb'), ('메고', 'Verb'), ('호미', 'Noun'), ('들고', 'Verb'), ('잠수복', 'Noun'), ('입고', 'Verb'), ('뒤', 'Noun'), ('뚱뒤뚱', 'Noun'), ('파도치는', 'Verb'), ('바다로', 'Noun'), ('가', 'Verb'), ('보니테', 'Verb'), ('왁', 'Adverb'), ('들이', 'Verb'), ('동동', 'Noun'), ('동동', 'Noun'), ('춤', 'Noun'), ('을', 'Josa'), ('추네', 'Verb'), ('해녀', 'Noun'), ('삼촌', 'Noun'), ('들', 'Suffix'), ('다시', 'Noun'), ('물속', 'Noun'), ('으로', 'Josa'), ('숨비', 'Noun'), ('소리', 'Noun'), ('쏟아가며', 'Verb'), ('물속', 'Noun'), ('으로', 'Josa'), ('고기', 'Noun'), ('처럼', 'Josa'), ('홀랑', 'Noun'), ('홀랑', 'Noun'), ('꼬릴', 'Noun'), ('치네나도', 'Verb'), ('확', 'Noun'), ('벗고', 'Verb'), ('물속', 'Noun'), ('으로', 'Josa'), ('뛰어들까', 'Verb'), ('테', 'Noun'), ('왁', 'Adverb'), ('들고', 'Verb'), ('이', 'Determiner'), ('쪽', 'Noun'), ('으로', 'Josa'), ('온거', 'Verb'), ('보니', 'Verb'), ('성게', 'Noun'), ('도', 'Josa'), ('가득', 'Noun'), ('전복', 'Noun'), ('이랑', 'Josa'), ('소라', 'Noun'), ('랑', 'Josa'), ('아', 'Josa'), ('고', 'Noun'), ('이건', 'Noun'), ('뭐', 'Noun'), ('지', 'Josa'), ('문어', 'Noun'), ('도', 'Josa'), ('잡아', 'Verb'), ('왔네요', 'Verb'), ('아', 'Josa'), ('고', 'Noun'), ('삼촌', 'Noun'), ('문어', 'Noun'), ('한', 'Determiner'), ('마리', 'Noun'), ('얼마', 'Noun'), ('죠', 'Josa'), ('아', 'Josa'), ('고', 'Noun'), ('조카', 'Noun'), ('야', 'Josa'), ('너', 'Noun'), ('는', 'Josa'), ('그냥', 'Noun'), ('가져가라', 'Verb'), ('에고', 'Noun'), ('무슨', 'Noun'), ('말씀', 'Noun'), ('을', 'Josa'), ('그럼', 'Adjective'), ('저녁', 'Noun'), ('에', 'Josa'), ('당근', 'Noun'), ('파다', 'Noun'), ('드릴게요', 'Verb'), ('물', 'Noun'), ('바가지', 'Noun'), ('로', 'Josa'), ('물', 'Noun'), ('마시면', 'Verb'), ('수염', 'Noun'), ('안', 'VerbPrefix'), ('난다', 'Verb'), ('갓난아이', 'Noun'), ('옷', 'Noun'), ('을', 'Josa'), ('방망이', 'Noun'), ('로', 'Josa'), ('빨', 'Noun'), ('면', 'Josa'), ('아기', 'Noun'), ('가', 'Josa'), ('놀랜다', 'Adjective'), ('밤', 'Noun'), ('에', 'Josa'), ('머리', 'Noun'), ('빗으면', 'Verb'), ('무서움', 'Noun'), ('탄', 'Verb'), ('다비', 'Noun'), ('는', 'Josa'), ('자', 'Noun'), ('에게는', 'Josa'), ('용서', 'Noun'), ('해', 'Verb'), ('주어', 'Noun'), ('야', 'Josa'), ('한다', 'Verb'), ('비오는', 'Verb'), ('날', 'Noun'), ('쇠', 'Noun'), ('꼬리', 'Noun'), ('이리', 'Adverb'), ('착', 'Noun'), ('저리', 'Noun'), ('착', 'Noun'), ('흔든다', 'Verb'), ('빈', 'Noun'), ('맷돌', 'Noun'), ('질', 'Noun'), ('하면', 'Verb'), ('흉년', 'Noun'), ('든다', 'Verb'), ('가난한', 'Adjective'), ('사람', 'Noun'), ('못', 'VerbPrefix'), ('할', 'Verb'), ('일', 'Noun'), ('없다', 'Adjective'), ('까마귀', 'Noun'), ('가', 'Josa'), ('까옥', 'Noun'), ('하면', 'Verb'), ('참새', 'Noun'), ('도', 'Josa'), ('조조', 'Noun'), ('한다', 'Verb'), ('즉', 'Noun'), ('자기', 'Noun'), ('자신', 'Noun'), ('을', 'Josa'), ('알', 'Noun'), ('고', 'Josa'), ('처신', 'Noun'), ('하', 'Suffix'), ('라', 'Josa'), ('까마귀', 'Noun'), ('똥', 'Noun'), ('헤집듯', 'Verb'), ('까마귀', 'Noun'), ('모른', 'Verb'), ('제사', 'Noun'), ('까마귀', 'Noun'), ('아래턱', 'Noun'), ('떨어질', 'Verb'), ('소리', 'Noun'), ('장모', 'Noun'), ('눈', 'Noun'), ('망가뜨릴', 'Noun'), ('사위', 'Noun'), ('장모', 'Noun'), ('된장', 'Noun'), ('없는', 'Adjective'), ('터', 'Noun'), ('에', 'Josa'), ('사위', 'Noun'), ('국', 'Noun'), ('먹기', 'Noun'), ('싫은', 'Adjective'), ('터', 'Noun'), ('에', 'Josa'), ('아내', 'Noun'), ('아까우면', 'Adjective'), ('처가', 'Noun'), ('집', 'Noun'), ('에', 'Josa'), ('절', 'Noun'), ('한다', 'Verb'), ('아내', 'Noun'), ('가', 'Josa'), ('없는', 'Adjective'), ('것', 'Noun'), ('은', 'Josa'), ('안', 'Noun'), ('섭섭해도', 'Adjective'), ('담배', 'Noun'), ('통', 'Noun'), ('잃는', 'Verb'), ('건', 'Noun'), ('더', 'Noun'), ('섭섭하다', 'Adjective'), ('아내', 'Noun'), ('없는', 'Adjective'), ('처가', 'Noun'), ('집', 'Noun'), ('가나', 'Noun'), ('마나', 'Noun'), ('갈치', 'Noun'), ('가', 'Josa'), ('갈치', 'Noun'), ('꼬리', 'Noun'), ('끓어', 'Verb'), ('먹는다', 'Verb'), ('갑', 'Noun'), ('이', 'Josa'), ('년', 'Noun'), ('흉년', 'Noun'), ('에도', 'Josa'), ('먹다', 'Verb'), ('남은', 'Verb'), ('게', 'Noun'), ('물이', 'Noun'), ('다', 'Josa'), ('갓', 'Modifier'), ('장사', 'Noun'), ('헌', 'Modifier'), ('갓', 'Noun'), ('쓰고', 'Verb'), ('무당', 'Noun'), ('남', 'Noun'), ('빌어', 'Noun'), ('굿', 'Noun'), ('하고', 'Josa'), ('강아지', 'Noun'), ('똥', 'Noun'), ('은', 'Josa'), ('똥', 'Noun'), ('이', 'Josa'), ('아닌가', 'Adjective'), ('개', 'Noun'), ('가', 'Josa'), ('똥', 'Noun'), ('을', 'Josa'), ('참지', 'Verb'), ('개도', 'Noun'), ('빗자루', 'Noun'), ('로', 'Josa'), ('안', 'Noun'), ('때린다', 'Verb'), ('개똥', 'Noun'), ('을', 'Josa'), ('무서워서', 'Adjective'), ('피', 'Noun'), ('하느냐', 'Verb'), ('더러워서', 'Adjective'), ('피하', 'Noun'), ('지', 'Josa'), ('하찮은', 'Adjective'), ('개', 'Noun'), ('똥', 'Noun'), ('도', 'Josa'), ('약', 'Noun'), ('으로', 'Josa'), ('쓸려면', 'Verb'), ('귀하다', 'Adjective'), ('건더기', 'Noun'), ('먹은', 'Verb'), ('놈', 'Noun'), ('이나', 'Josa'), ('국물', 'Noun'), ('먹은', 'Verb'), ('놈', 'Noun'), ('이나', 'Josa'), ('매', 'Noun'), ('한가지', 'Noun'), ('검은', 'Adjective'), ('닭', 'Noun'), ('도', 'Josa'), ('흰', 'Adjective'), ('달걀', 'Noun'), ('낳는', 'Verb'), ('수', 'Noun'), ('있다', 'Adjective'), ('음식', 'Noun'), ('타박', 'Noun'), ('쌍놈', 'Noun'), ('글', 'Noun'), ('구숭', 'Noun'), ('양반', 'Noun'), ('자식', 'Noun'), ('음', 'Noun'), ('식', 'Noun'), ('을', 'Josa'), ('먹을', 'Verb'), ('때', 'Noun'), ('는', 'Josa'), ('개도', 'Noun'), ('안', 'Noun'), ('때린다', 'Verb'), ('음식', 'Noun'), ('을', 'Josa'), ('박대', 'Noun'), ('하면', 'Verb'), ('죄', 'Noun'), ('짓는다', 'Verb'), ('소라', 'Noun'), ('게도', 'Eomi'), ('집', 'Noun'), ('이', 'Josa'), ('있다', 'Adjective'), ('고운', 'Adjective'), ('사람', 'Noun'), ('은', 'Josa'), ('멱', 'Noun'), ('서리', 'Noun'), ('써도', 'Verb'), ('곱다', 'Adjective'), ('고운', 'Adjective'), ('여자', 'Noun'), ('잡아', 'Verb'), ('들이라고', 'Verb'), ('하니', 'Noun'), ('살찐', 'Noun'), ('여자', 'Noun'), ('잡아', 'Verb'), ('들인다', 'Verb'), ('곧은', 'Adjective'), ('나무', 'Noun'), ('는', 'Josa'), ('한가운데', 'Noun'), ('선다', 'Verb'), ('삼태기', 'Noun'), ('부지런', 'Noun'), ('으로', 'Josa'), ('부자', 'Noun'), ('가', 'Josa'), ('되는걸', 'Verb'), ('하늘', 'Noun'), ('도', 'Josa'), ('못', 'VerbPrefix'), ('막는다', 'Verb'), ('공짜', 'Noun'), ('하면', 'Verb'), ('눈', 'Noun'), ('도', 'Josa'), ('벌겋고', 'Adjective'), ('코', 'Noun'), ('도', 'Josa'), ('벌겋고', 'Adjective'), ('공짜', 'Noun'), ('는', 'Josa'), ('맛', 'Noun'), ('이', 'Josa'), ('써도', 'Verb'), ('달다', 'Verb'), ('공부', 'Noun'), ('하', 'Suffix'), ('라고', 'Josa'), ('하니', 'Noun'), ('개', 'Noun'), ('잡는걸', 'Verb'), ('배운다', 'Verb'), ('같은', 'Adjective'), ('값', 'Noun'), ('이', 'Suffix'), ('면', 'Josa'), ('과부', 'Noun'), ('집', 'Noun'), ('머슴', 'Noun'), ('을', 'Josa'), ('산다', 'Noun'), ('소라', 'Noun'), ('가', 'Josa'), ('똥', 'Noun'), ('누러', 'Verb'), ('가버리면', 'Verb'), ('소라게', 'Noun'), ('가', 'Josa'), ('차지', 'Noun'), ('한다', 'Verb'), ('국', 'Noun'), ('많이', 'Adverb'), ('먹으면', 'Verb'), ('장모', 'Noun'), ('눈', 'Noun'), ('망가진다', 'Verb'), ('하찮은', 'Adjective'), ('굼벵이', 'Noun'), ('라도', 'Josa'), ('구부리는', 'Verb'), ('재주', 'Noun'), ('가', 'Josa'), ('있다', 'Adjective'), ('시집가서', 'Verb'), ('귀머거리', 'Noun'), ('삼', 'Modifier'), ('년', 'Noun'), ('장님', 'Noun'), ('삼', 'Modifier'), ('년', 'Noun'), ('벙어리', 'Noun'), ('삼', 'Modifier'), ('년', 'Noun'), ('을', 'Josa'), ('살아야', 'Verb'), ('가라', 'Noun'), ('오라', 'Noun'), ('는', 'Josa'), ('말', 'Noun'), ('이', 'Josa'), ('없다', 'Adjective'), ('귀신', 'Noun'), ('대접', 'Noun'), ('잘', 'Verb'), ('해', 'Noun'), ('두면', 'Verb'), ('잘못', 'Noun'), ('될', 'Verb'), ('일', 'Noun'), ('없다', 'Adjective'), ('귀', 'Modifier'), ('소문', 'Noun'), ('하지', 'Verb'), ('말고', 'Josa'), ('눈', 'Noun'), ('소문', 'Noun'), ('하라', 'Noun'), ('실제', 'Noun'), ('로', 'Josa'), ('보고', 'Noun'), ('확인', 'Noun'), ('한', 'Josa'), ('것', 'Noun'), ('아니면', 'Adjective'), ('말', 'Noun'), ('하지', 'Verb'), ('말라', 'Adjective'), ('귀신', 'Noun'), ('도', 'Josa'), ('사정', 'Noun'), ('하면', 'Verb'), ('들어', 'Verb'), ('준다', 'Verb'), ('일가', 'Noun'), ('는', 'Josa'), ('옷위', 'Noun'), ('의', 'Josa'), ('바람', 'Noun'), ('그', 'Noun'), ('날', 'Noun'), ('액', 'Noun'), ('은', 'Josa'), ('독안', 'Noun'), ('에', 'Josa'), ('앉아도', 'Verb'), ('깬다', 'Verb'), ('거짓말', 'Noun'), ('도', 'Josa'), ('외삼촌', 'Noun'), ('보다도', 'Josa'), ('낫다', 'Noun'), ('글', 'Noun'), ('잘', 'Verb'), ('못', 'VerbPrefix'), ('하는', 'Verb'), ('놈', 'Noun'), ('붓', 'Noun'), ('고른다', 'Verb'), ('붓', 'Noun'), ('타령', 'Noun'), ('한다', 'Verb'), ('글', 'Noun'), ('배우', 'Noun'), ('라고', 'Josa'), ('했더니', 'Verb'), ('엉뚱하게', 'Adjective'), ('과부', 'Noun'), ('집', 'Noun'), ('강아지', 'Noun'), ('때린다', 'Verb'), ('기어', 'Noun'), ('다니지도', 'Verb'), ('못', 'VerbPrefix'), ('하는게', 'Verb'), ('나려고', 'Verb'), ('한다', 'Verb'), ('게', 'Noun'), ('와', 'Josa'), ('고둥', 'Noun'), ('도', 'Josa'), ('자기', 'Noun'), ('집은', 'Verb'), ('있다', 'Adjective'), ('그을린', 'Adjective'), ('돼지', 'Noun'), ('가', 'Josa'), ('달', 'Noun'), ('아멘', 'Noun'), ('돼지', 'Noun'), ('를', 'Josa'), ('나무란다', 'Verb'), ('삼태기', 'Noun'), ('부지런', 'Noun'), ('으로', 'Josa'), ('부자', 'Noun'), ('되는', 'Verb'), ('것', 'Noun'), ('은', 'Josa'), ('하늘', 'Noun'), ('도', 'Josa'), ('못', 'Noun'), ('막는다', 'Verb'), ('기왕', 'Noun'), ('에', 'Josa'), ('같은', 'Adjective'), ('품삯', 'Noun'), ('이', 'Suffix'), ('면', 'Josa'), ('과부', 'Noun'), ('집', 'Noun'), ('머슴', 'Noun'), ('을', 'Josa'), ('산다', 'Noun'), ('가늘게', 'Adjective'), ('먹고', 'Verb'), ('가늘게', 'Adjective'), ('쓰라', 'Verb'), ('관덕정', 'Noun'), ('설렁탕', 'Noun'), ('도', 'Josa'), ('먹어', 'Verb'), ('본', 'Verb'), ('놈', 'Noun'), ('이', 'Josa'), ('먹는다', 'Verb'), ('칡', 'Noun'), ('걷으러', 'Verb'), ('간', 'Noun'), ('놈', 'Noun'), ('이', 'Josa'), ('정당', 'Noun'), ('벌레', 'Noun'), ('테', 'Noun'), ('엮는', 'Noun'), ('다나', 'Noun'), ('간', 'Suffix'), ('놈', 'Noun'), ('몫', 'Noun'), ('은', 'Josa'), ('있어도', 'Adjective'), ('잠자는', 'Verb'), ('놈', 'Noun'), ('몫', 'Noun'), ('은', 'Josa'), ('없다나', 'Adjective'), ('다니는', 'Verb'), ('개', 'Noun'), ('가', 'Josa'), ('뼈', 'Noun'), ('물어', 'Noun'), ('온', 'Modifier'), ('다나', 'Noun'), ('의', 'Josa'), ('땅', 'Noun'), ('에', 'Josa'), ('있는', 'Adjective'), ('까마귀', 'Noun'), ('는', 'Josa'), ('검어도', 'Adjective'), ('아깝다', 'Adjective'), ('나가서', 'Verb'), ('화목', 'Noun'), ('은', 'Josa'), ('남자', 'Noun'), ('가', 'Josa'), ('하고', 'Verb'), ('들어서', 'Verb'), ('화목', 'Noun'), ('은', 'Josa'), ('여자', 'Noun'), ('가', 'Josa'), ('한', 'Determiner'), ('다나', 'Noun'), ('이', 'Suffix'), ('많은', 'Adjective'), ('사람', 'Noun'), ('이', 'Josa'), ('양보', 'Noun'), ('하', 'Suffix'), ('라', 'Josa'), ('남자', 'Noun'), ('가', 'Josa'), ('밟은', 'Verb'), ('풀', 'Noun'), ('은', 'Josa'), ('이', 'Determiner'), ('울', 'Noun'), ('고', 'Josa'), ('여자', 'Noun'), ('가', 'Josa'), ('밟은', 'Verb'), ('풀', 'Noun'), ('은', 'Josa'), ('안', 'Noun'), ('이운다', 'Verb'), ('나무', 'Noun'), ('도', 'Josa'), ('늙어', 'Verb'), ('고목', 'Noun'), ('되면', 'Verb'), ('새', 'Noun'), ('들', 'Suffix'), ('도', 'Josa'), ('아니', 'Adjective'), ('온', 'Modifier'), ('다나', 'Noun'), ('무가', 'Noun'), ('좀', 'Noun'), ('먹지', 'Verb'), ('세월', 'Noun'), ('은', 'Josa'), ('좀', 'Noun'), ('안', 'VerbPrefix'), ('먹는다', 'Verb'), ('느긋한', 'Adjective'), ('시간', 'Noun'), ('관념', 'Noun'), ('을', 'Josa'), ('부추길', 'Verb'), ('때내', 'Noun'), ('딸', 'Noun'), ('이', 'Josa'), ('고', 'Noun'), ('와야', 'Verb'), ('잘난', 'Adjective'), ('사위', 'Noun'), ('를', 'Josa'), ('고른다', 'Verb'), ('너무', 'Adverb'), ('고르다가', 'Verb'), ('눈', 'Noun'), ('이', 'Josa'), ('멜라진', 'Verb'), ('사위', 'Noun'), ('를', 'Josa'), ('고른다', 'Verb'), ('노름', 'Noun'), ('꾼', 'Suffix'), ('뒤', 'Noun'), ('는', 'Josa'), ('대', 'Modifier'), ('어도', 'Noun'), ('먹는', 'Verb'), ('놈', 'Noun'), ('뒤', 'Noun'), ('는', 'Josa'), ('대지', 'Noun'), ('말라', 'Adjective'), ('노름', 'Noun'), ('은', 'Josa'), ('끝나서', 'Verb'), ('신발', 'Noun'), ('신', 'Noun'), ('을', 'Josa'), ('때', 'Noun'), ('보아', 'Noun'), ('야', 'Josa'), ('승부', 'Noun'), ('를', 'Josa'), ('안다', 'Verb'), ('노름', 'Noun'), ('쟁이', 'Noun'), ('는', 'Josa'), ('망하여도', 'Adjective'), ('흥', 'Noun'), ('하지는', 'Verb'), ('못', 'VerbPrefix'), ('한다', 'Verb'), ('노루', 'Noun'), ('때린', 'Verb'), ('막대기', 'Noun'), ('3년', 'Number'), ('을', 'Foreign'), ('울', 'Modifier'), ('겨', 'Noun'), ('먹는다', 'Verb'), ('남', 'Noun'), ('이', 'Josa'), ('숨긴건', 'Verb'), ('소도', 'Noun'), ('못', 'Noun'), ('찾는다', 'Verb'), ('남', 'Noun'), ('과', 'Josa'), ('경쟁', 'Noun'), ('은', 'Josa'), ('하', 'Exclamation'), ('되', 'Verb'), ('시기', 'Noun'), ('는', 'Josa'), ('하지', 'Verb'), ('마', 'Noun'), ('라남', 'Noun'), ('이', 'Josa'), ('켠', 'Verb'), ('횃불', 'Noun'), ('에', 'Josa'), ('게', 'Noun'), ('잡는다', 'Verb'), ('남', 'Noun'), ('의', 'Josa'), ('눈', 'Noun'), ('에', 'Josa'), ('피', 'Noun'), ('흘리게', 'Verb'), ('하면', 'Verb'), ('자기', 'Noun'), ('눈', 'Noun'), ('에는', 'Josa'), ('고름', 'Noun'), ('이', 'Josa'), ('나와야', 'Verb'), ('한다', 'Verb'), ('남', 'Noun'), ('의', 'Josa'), ('소', 'Noun'), ('날뛰는', 'Verb'), ('건', 'Noun'), ('보기', 'Noun'), ('좋다', 'Adjective'), ('남', 'Noun'), ('의', 'Josa'), ('흉내', 'Noun'), ('내면', 'Noun'), ('자기', 'Noun'), ('흉', 'Noun'), ('된다', 'Verb'), ('남', 'Noun'), ('의', 'Josa'), ('집', 'Noun'), ('과', 'Josa'), ('벼슬', 'Noun'), ('살이', 'Noun'), ('는', 'Josa'), ('끓는', 'Verb'), ('밥', 'Noun'), ('도', 'Josa'), ('두고', 'Verb'), ('간다', 'Noun'), ('세수', 'Noun'), ('할', 'Verb'), ('때', 'Noun'), ('에', 'Josa'), ('물', 'Noun'), ('을', 'Josa'), ('많이', 'Adverb'), ('사용', 'Noun'), ('하면', 'Verb'), ('죽어서', 'Verb'), ('가면', 'Noun'), ('다', 'Adverb'), ('마셔야', 'Verb'), ('한다', 'Verb'), ('애꾸눈', 'Noun'), ('딸', 'Noun'), ('가지', 'Noun'), ('고', 'Josa'), ('사위', 'Noun'), ('를', 'Josa'), ('고른', 'Verb'), ('다누', 'Noun'), ('운', 'Noun'), ('나무', 'Noun'), ('에', 'Josa'), ('열매', 'Noun'), ('열리는가', 'Verb'), ('눈썹', 'Noun'), ('에', 'Josa'), ('불', 'Noun'), ('이', 'Josa'), ('붙어도', 'Verb'), ('끌', 'Noun'), ('겨를', 'Noun'), ('이', 'Josa'), ('없다', 'Adjective'), ('늙은', 'Verb'), ('소', 'Noun'), ('콩', 'Noun'), ('을', 'Josa'), ('주면', 'Verb'), ('안', 'Noun'), ('받겠다고', 'Verb'), ('하느냐', 'Verb'), ('늙은', 'Verb'), ('놈', 'Noun'), ('이', 'Josa'), ('젊은', 'Adjective'), ('첩', 'Noun'), ('하면', 'Verb'), ('불', 'Noun'), ('본', 'Verb'), ('나비', 'Noun'), ('날뛰듯', 'Verb'), ('한다이', 'Verb'), ('아픈', 'Adjective'), ('심부름', 'Noun'), ('은', 'Josa'), ('하고', 'Verb'), ('눈', 'Noun'), ('아픈', 'Adjective'), ('심부름', 'Noun'), ('은', 'Josa'), ('하지', 'Verb'), ('마라의', 'Adjective'), ('붓', 'Noun'), ('아들', 'Noun'), ('은', 'Josa'), ('콩죽', 'Noun'), ('먹이', 'Noun'), ('고', 'Josa'), ('친', 'Noun'), ('아들', 'Noun'), ('은', 'Josa'), ('팥죽', 'Noun'), ('먹인다', 'Verb'), ('의붓아버지', 'Noun'), ('고기', 'Noun'), ('써는데는', 'Verb'), ('가고', 'Verb'), ('친아버지', 'Noun'), ('장작', 'Noun'), ('패', 'Noun'), ('는', 'Josa'), ('데', 'Noun'), ('는', 'Josa'), ('가지', 'Noun'), ('를', 'Josa'), ('말라', 'Adjective'), ('넓은', 'Adjective'), ('바다', 'Noun'), ('도', 'Josa'), ('건너', 'Noun'), ('봐야', 'Verb'), ('안다', 'Verb'), ('대정', 'Noun'), ('망아지', 'Noun'), ('야무지고', 'Adjective'), ('알차다', 'Adjective'), ('덴', 'Noun'), ('곳', 'Noun'), ('에', 'Josa'), ('털', 'Noun'), ('안', 'VerbPrefix'), ('난다', 'Verb'), ('들', 'Verb'), ('목', 'Noun'), ('터진', 'Verb'), ('밭', 'Noun'), ('에', 'Josa'), ('마소', 'Noun'), ('들듯', 'Verb'), ('도둑', 'Noun'), ('놈', 'Noun'), ('과', 'Josa'), ('띠', 'Noun'), ('다발', 'Noun'), ('은', 'Josa'), ('묶어서', 'Verb'), ('세워', 'Verb'), ('놓으면', 'Verb'), ('꼭', 'Noun'), ('닮다', 'Verb'), ('제주도', 'Noun'), ('사투리', 'Noun'), ('로', 'Josa'), ('말', 'Noun'), ('하니까', 'Verb'), ('뭐라고', 'Verb'), ('말', 'Noun'), ('하는지', 'Verb'), ('모르겠지요', 'Verb'), ('글세', 'Noun'), ('말', 'Noun'), ('입니다', 'Adjective'), ('귀', 'Noun'), ('와', 'Josa'), ('눈', 'Noun'), ('이', 'Josa'), ('캄캄합니다', 'Adjective'), ('그래도', 'Adverb'), ('가만히', 'Adverb'), ('생각', 'Noun'), ('하며', 'Verb'), ('들으면', 'Verb'), ('조금씩', 'Adverb'), ('알', 'Noun'), ('게', 'Noun'), ('됩니다', 'Verb'), ('오랜', 'Modifier'), ('만이', 'Noun'), ('예요', 'Josa'), ('편안하십니까', 'Adjective'), ('얼굴', 'Noun'), ('이', 'Josa'), ('좋아', 'Adjective'), ('보이네요', 'Verb'), ('어서', 'Noun'), ('오세요', 'Verb'), ('제주도', 'Noun'), ('오느라', 'Verb'), ('수고', 'Noun'), ('하셨어요', 'Verb'), ('제주도', 'Noun'), ('에', 'Josa'), ('오', 'Noun'), ('니까', 'Josa'), ('정말로', 'Adverb'), ('좋습니다', 'Adjective'), ('산이', 'Noun'), ('랑', 'Josa'), ('바다', 'Noun'), ('랑', 'Josa'), ('모두', 'Noun'), ('가', 'Josa'), ('좋습니다', 'Adjective'), ('많이', 'Adverb'), ('보고', 'Noun'), ('서울', 'Noun'), ('에', 'Josa'), ('갈', 'Verb'), ('때', 'Noun'), ('는', 'Josa'), ('많이', 'Adverb'), ('담아서', 'Verb'), ('가십시오', 'Verb'), ('그러게', 'Adjective'), ('말', 'Noun'), ('입니다', 'Adjective'), ('그렇게', 'Adverb'), ('했으면', 'Verb'), ('얼마나', 'Noun'), ('좋겠습니까', 'Adjective'), ('안', 'Noun'), ('으로', 'Josa'), ('들어', 'Verb'), ('오셔서', 'Verb'), ('식사', 'Noun'), ('하고', 'Verb'), ('가십시오', 'Verb'), ('제주도', 'Noun'), ('오셨으니', 'Verb'), ('전복죽', 'Noun'), ('드셔', 'Verb'), ('보고', 'Noun'), ('가셔야죠', 'Verb'), ('어서', 'Noun'), ('와서', 'Verb'), ('드세요', 'Verb'), ('따뜻합니까', 'Adjective'), ('따끈따끈한', 'Adjective'), ('것', 'Noun'), ('이', 'Josa'), ('먹기', 'Noun'), ('에', 'Josa'), ('꼭', 'Noun'), ('좋았습니다', 'Adjective'), ('맛', 'Noun'), ('좋네요', 'Adjective'), ('여기', 'Noun'), ('요', 'Josa'), ('이', 'Determiner'), ('거', 'Noun'), ('1', 'Number'), ('kg', 'Alpha'), ('에', 'Josa'), ('얼마', 'Noun'), ('예요', 'Josa'), ('사천원', 'Noun'), ('입니', 'Adjective'), ('다그', 'Noun'), ('래', 'Josa'), ('요', 'Modifier'), ('사천원', 'Noun'), ('어치', 'Noun'), ('주세요', 'Verb'), ('많이', 'Modifier'), ('주', 'Modifier'), ('세', 'Modifier'), ('요', 'Modifier'), ('많이', 'Modifier'), ('드립니다', 'Verb'), ('맛있게', 'Adjective'), ('드세요', 'Verb'), ('삼성혈', 'Noun'), ('에', 'Josa'), ('가려는데요', 'Verb'), ('어디', 'Noun'), ('로', 'Josa'), ('가면', 'Noun'), ('되지요', 'Verb'), ('여기', 'Noun'), ('서', 'Josa'), ('10분', 'Number'), ('밑', 'Noun'), ('으로가', 'Josa'), ('서', 'Verb'), ('칼', 'Noun'), ('호텔', 'Noun'), ('근처', 'Noun'), ('에서', 'Josa'), ('돌아서', 'Verb'), ('왼쪽', 'Noun'), ('으로', 'Josa'), ('가면', 'Noun'), ('됩니다', 'Verb'), ('알겠어요', 'Verb'), ('거기', 'Noun'), ('가서', 'Verb'), ('아무', 'Modifier'), ('사람', 'Noun'), ('이나', 'Josa'), ('물어보면', 'Verb'), ('잘', 'Verb'), ('말', 'Noun'), ('해', 'Verb'), ('줄꺼예요', 'Verb'), ('관광', 'Noun'), ('잘', 'VerbPrefix'), ('하고', 'Verb'), ('가세', 'Noun'), ('요', 'Josa'), ('어서', 'Noun'), ('오십', 'Noun'), ('시', 'Modifier'), ('요', 'Modifier'), ('잠깐', 'Noun'), ('있으십시오', 'Adjective'), ('잠깐', 'Noun'), ('있어라', 'Adjective'), ('무엇', 'Noun'), ('을', 'Josa'), ('하십니까', 'Verb'), ('무엇', 'Noun'), ('을', 'Josa'), ('하느냐', 'Verb'), ('왜', 'Noun'), ('그렇게', 'Adverb'), ('급하십니까', 'Adjective'), ('왜', 'Noun'), ('그렇게', 'Adverb'), ('급하냐', 'Adjective'), ('빨리', 'Adverb'), ('오십', 'Modifier'), ('시오', 'Noun'), ('어떻게', 'Adjective'), ('살', 'Noun'), ('고', 'Josa'), ('있습니까', 'Adjective'), ('무엇', 'Noun'), ('이라고', 'Josa'), ('말', 'Noun'), ('하십니까', 'Verb'), ('귀', 'Noun'), ('와', 'Josa'), ('눈', 'Noun'), ('이', 'Josa'), ('캄캄합니다', 'Adjective'), ('따뜻할', 'Adjective'), ('때', 'Noun'), ('후루룩', 'Noun'), ('잡수십시오', 'Verb'), ('뭘', 'Noun'), ('그리', 'Verb'), ('늦', 'Noun'), ('장', 'Suffix'), ('부리십니까', 'Verb'), ('와서', 'Verb'), ('보십시오말로', 'Verb'), ('해서는', 'Verb'), ('모릅니다', 'Verb'), ('아름답게', 'Adjective'), ('모조리', 'Noun'), ('벗어서', 'Verb'), ('오십', 'Modifier'), ('시오', 'Noun'), ('어디', 'Noun'), ('갔다가', 'Verb'), ('오십', 'Noun'), ('니까', 'Josa'), ('어디', 'Noun'), ('로', 'Josa'), ('가십', 'Noun'), ('니까', 'Josa'), ('고생', 'Noun'), ('시키면서', 'Verb'), ('키웁십시오', 'Verb'), ('그', 'Determiner'), ('래야', 'Noun'), ('빨리', 'Adverb'), ('자랍니다', 'Verb'), ('어떻게', 'Adjective'), ('살까', 'Verb'), ('걱정', 'Noun'), ('마십시오', 'Verb'), ('참고', 'Noun'), ('살', 'Noun'), ('면', 'Josa'), ('살수', 'Noun'), ('있습니다', 'Adjective'), ('너', 'Noun'), ('하고', 'Josa'), ('나하', 'Noun'), ('고', 'Josa'), ('둘', 'Noun'), ('이', 'Josa'), ('둥실', 'Noun'), ('사랑', 'Noun'), ('합시다어서', 'Verb'), ('오십', 'Modifier'), ('시오', 'Noun'), ('제주도', 'Noun'), ('에', 'Josa'), ('오니', 'Noun'), ('어떠하십니까', 'Adjective'), ('정말로', 'Adverb'), ('좋습니다', 'Adjective'), ('와서', 'Verb'), ('보십시오말로', 'Verb'), ('해서는', 'Verb'), ('모릅니다', 'Verb'), ('왜', 'Noun'), ('그렇게', 'Adverb'), ('말', 'Noun'), ('하십니까', 'Verb'), ('꾸', 'Verb'), ('물', 'Noun'), ('대', 'Suffix'), ('지', 'Josa'), ('말고', 'Josa'), ('어서', 'Noun'), ('오', 'Modifier'), ('너', 'Noun'), ('라', 'Josa'), ('조금', 'Noun'), ('만', 'Josa'), ('계십시오어서', 'Adjective'), ('와서', 'Verb'), ('먹으십시오', 'Verb'), ('따뜻합니까', 'Adjective'), ('따뜻한', 'Adjective'), ('때', 'Noun'), ('후루룩', 'Noun'), ('마셔', 'Verb'), ('버리십시오어서', 'Verb'), ('오십', 'Modifier'), ('시오', 'Noun'), ('제주도', 'Noun'), ('사투리', 'Noun'), ('로', 'Josa'), ('말', 'Noun'), ('하니까', 'Verb'), ('뭐라고', 'Verb'), ('말', 'Noun'), ('하는', 'Verb'), ('지', 'Verb'), ('모르겠지요', 'Verb'), ('글쎄', 'Noun'), ('말', 'Noun'), ('입니다', 'Adjective'), ('귀', 'Noun'), ('와', 'Josa'), ('눈', 'Noun'), ('이', 'Josa'), ('캄캄합니다', 'Adjective'), ('그래도', 'Adverb'), ('가만히', 'Adverb'), ('생각', 'Noun'), ('하며', 'Verb'), ('들으면', 'Verb'), ('조금씩', 'Adverb'), ('알', 'Noun'), ('게', 'Josa'), ('됩니다', 'Verb'), ('제주도', 'Noun'), ('사투리', 'Noun'), ('정말로', 'Adverb'), ('귀하고', 'Adjective'), ('아름다운', 'Adjective'), ('보물', 'Noun'), ('입니다', 'Adjective'), ('안녕하십니까', 'Noun'), ('제주도', 'Noun'), ('에', 'Josa'), ('오니', 'Noun'), ('어떠하십니까', 'Adjective'), ('정말로', 'Adverb'), ('좋습니다', 'Adjective'), ('공', 'Modifier'), ('기도', 'Noun'), ('맑고', 'Adjective'), ('산이', 'Noun'), ('랑', 'Josa'), ('바다', 'Noun'), ('랑', 'Josa'), ('모두', 'Noun'), ('가', 'Josa'), ('좋습니다', 'Adjective'), ('서울', 'Noun'), ('에', 'Josa'), ('갈', 'Verb'), ('때', 'Noun'), ('는', 'Josa'), ('많이', 'Adverb'), ('담아서', 'Verb'), ('가십시오', 'Verb'), ('그러게', 'Adjective'), ('말', 'Noun'), ('입니다', 'Adjective'), ('그렇게', 'Adverb'), ('했으면', 'Verb'), ('얼마나', 'Noun'), ('좋겠습니까', 'Adjective'), ('저기', 'Noun'), ('바구니', 'Noun'), ('지고', 'Noun'), ('가는', 'Verb'), ('거', 'Noun'), ('처녀', 'Noun'), ('들', 'Suffix'), ('아닙니까', 'Adjective'), ('맞습니다', 'Verb'), ('처녀', 'Noun'), ('도', 'Josa'), ('있고', 'Adjective'), ('시집', 'Noun'), ('간', 'Noun'), ('여자도', 'Noun'), ('있습니다', 'Adjective'), ('처녀', 'Noun'), ('들', 'Suffix'), ('곱', 'Noun'), ('고', 'Josa'), ('날씬하군요', 'Adjective'), ('그렇지요', 'Adjective'), ('산', 'Noun'), ('좋고', 'Adjective'), ('물', 'Noun'), ('좋은', 'Adjective'), ('제주도', 'Noun'), ('에', 'Josa'), ('사니', 'Verb'), ('마음', 'Noun'), ('도', 'Josa'), ('착하고', 'Adjective'), ('얼굴', 'Noun'), ('도', 'Josa'), ('곱습니다', 'Adjective'), ('말로', 'Noun'), ('해서는', 'Verb'), ('모릅니다', 'Verb'), ('제주도', 'Noun'), ('에', 'Josa'), ('와서', 'Verb'), ('보아', 'Noun'), ('야', 'Josa'), ('알', 'Noun'), ('수', 'Noun'), ('있습니다', 'Adjective'), ('돌도', 'Verb'), ('많고', 'Adjective'), ('바람', 'Noun'), ('도', 'Josa'), ('많고', 'Adjective'), ('처녀', 'Noun'), ('도', 'Josa'), ('많고', 'Adjective'), ('유채꽃', 'Noun'), ('도', 'Josa'), ('아름답게', 'Adjective'), ('피었습니다', 'Verb'), ('아무리', 'Adverb'), ('말', 'Noun'), ('해도', 'Verb'), ('모릅니다어서', 'Verb'), ('와서', 'Verb'), ('보십시오', 'Verb'), ('제주도', 'Noun'), ('에는', 'Josa'), ('바람', 'Noun'), ('이', 'Josa'), ('많이', 'Adverb'), ('있습니다', 'Adjective'), ('동쪽', 'Noun'), ('에서', 'Josa'), ('부는', 'Verb'), ('바람', 'Noun'), ('샛', 'Noun'), ('바람', 'Noun'), ('서쪽', 'Noun'), ('에서', 'Josa'), ('부는', 'Verb'), ('바람', 'Noun'), ('갈바람', 'Noun'), ('남쪽', 'Noun'), ('에서', 'Josa'), ('부는', 'Verb'), ('바람', 'Noun'), ('마파람', 'Noun'), ('북쪽', 'Noun'), ('에서', 'Josa'), ('부는', 'Verb'), ('바람', 'Noun'), ('하늬바람', 'Noun'), ('입니다', 'Adjective'), ('한라산', 'Noun'), ('에', 'Josa'), ('올라서', 'Verb'), ('보십시', 'Verb'), ('오발', 'Noun'), ('아래', 'Noun'), ('구름', 'Noun'), ('들', 'Suffix'), ('이', 'Josa'), ('오락가락', 'Noun'), ('하고', 'Verb'), ('아', 'Exclamation'), ('듣하니', 'Verb'), ('꿈속', 'Noun'), ('같습니다', 'Adjective'), ('옛날', 'Noun'), ('에', 'Josa'), ('신선', 'Noun'), ('들', 'Suffix'), ('이', 'Josa'), ('흰', 'Adjective'), ('사슴', 'Noun'), ('을', 'Josa'), ('타며', 'Verb'), ('놀았다고', 'Verb'), ('해서', 'Verb'), ('백록담', 'Noun'), ('아닙니까', 'Adjective'), ('제주', 'Noun'), ('사람', 'Noun'), ('들', 'Suffix'), ('은', 'Josa'), ('돌', 'Noun'), ('하르방', 'Noun'), ('보면서', 'Verb'), ('살았습니다', 'Verb'), ('그러니까', 'Adverb'), ('거짓말', 'Noun'), ('할', 'Verb'), ('줄', 'Noun'), ('모르고', 'Verb'), ('서로', 'Noun'), ('믿으면서', 'Verb'), ('착하게만', 'Adjective'), ('살았습니다', 'Verb'), ('보십시오', 'Verb'), ('없으면', 'Adjective'), ('도', 'Noun'), ('와', 'Josa'), ('주고', 'Verb'), ('있으면', 'Adjective'), ('나누어서', 'Verb'), ('먹으면서', 'Verb'), ('인정', 'Noun'), ('많고', 'Adjective'), ('사랑', 'Noun'), ('이', 'Josa'), ('많은', 'Adjective'), ('돌하르방', 'Noun'), ('손자', 'Noun'), ('들', 'Suffix'), ('입니다', 'Adjective'), ('장가', 'Noun'), ('간', 'Suffix'), ('날', 'Noun'), ('밤', 'Noun'), ('새', 'Noun'), ('신랑', 'Noun'), ('이', 'Josa'), ('말', 'Noun'), ('했습니다', 'Verb'), ('색', 'Noun'), ('씨', 'Suffix'), ('야', 'Josa'), ('어서', 'Noun'), ('오', 'Modifier'), ('너', 'Noun'), ('라', 'Josa'), ('왜', 'Noun'), ('그러십니까', 'Adjective'), ('조금', 'Noun'), ('만', 'Josa'), ('계십시오', 'Adjective'), ('꾸', 'Verb'), ('물', 'Noun'), ('대', 'Suffix'), ('지', 'Josa'), ('말고', 'Josa'), ('어서', 'Noun'), ('오', 'Modifier'), ('너', 'Modifier'), ('라신', 'Noun'), ('부가', 'Noun'), ('신랑', 'Noun'), ('품', 'Noun'), ('에서', 'Josa'), ('살그머니', 'Noun'), ('말', 'Noun'), ('했답니다', 'Verb'), ('나를', 'Verb'), ('얼마나', 'Noun'), ('사랑', 'Noun'), ('하십니까', 'Verb'), ('저기', 'Noun'), ('한라산', 'Noun'), ('만큼', 'Josa'), ('또', 'Noun'), ('바다', 'Noun'), ('만큼', 'Josa'), ('사랑', 'Noun'), ('한다', 'Verb'), ('그러지', 'Adjective'), ('말고', 'Josa'), ('이', 'Noun'), ('가슴', 'Noun'), ('팍', 'Noun'), ('만큼만', 'Josa'), ('사랑', 'Noun'), ('해', 'Verb'), ('주', 'Modifier'), ('십', 'Modifier'), ('시', 'Modifier'), ('오그', 'Noun'), ('래', 'Josa'), ('너', 'Noun'), ('하고', 'Josa'), ('나하', 'Noun'), ('고', 'Josa'), ('둘', 'Noun'), ('이', 'Josa'), ('둥실', 'Noun'), ('사랑', 'Noun'), ('하자', 'Verb'), ('신랑', 'Noun'), ('이', 'Josa'), ('신부', 'Noun'), ('에게', 'Josa'), ('말', 'Noun'), ('했답니다', 'Verb'), ('여기', 'Noun'), ('가까이', 'Noun'), ('오', 'Modifier'), ('너', 'Noun'), ('라', 'Josa'), ('왜', 'Noun'), ('가까이', 'Noun'), ('만', 'Josa'), ('오라', 'Noun'), ('고', 'Josa'), ('하십니까', 'Verb'), ('조금', 'Noun'), ('이라도', 'Josa'), ('같이만', 'Josa'), ('있고', 'Adjective'), ('싶어', 'Verb'), ('서남', 'Noun'), ('들', 'Suffix'), ('이', 'Josa'), ('웃습니다', 'Verb'), ('어떡하느냐', 'Adjective'), ('사랑', 'Noun'), ('에는', 'Josa'), ('부끄러움', 'Noun'), ('이', 'Josa'), ('없단다', 'Adjective'), ('`', 'Punctuation'), ('왜', 'Noun'), ('그렇게', 'Adverb'), ('말', 'Noun'), ('하십니까', 'Verb'), ('어서', 'Noun'), ('와서', 'Verb'), ('사랑', 'Noun'), ('하면서', 'Verb'), ('살', 'Noun'), ('아', 'Josa'), ('봅시', 'Verb'), ('다화', 'Noun'), ('를', 'Josa'), ('내면', 'Noun'), ('서', 'Josa'), ('살아도', 'Verb'), ('한', 'Verb'), ('세상', 'Noun'), ('걱정', 'Noun'), ('하면서', 'Verb'), ('살아도', 'Verb'), ('한', 'Verb'), ('세상', 'Noun'), ('입니다가', 'Adjective'), ('난해도', 'Adjective'), ('웃으면서', 'Verb'), ('살', 'Noun'), ('아', 'Josa'), ('봅시다', 'Verb'), ('삼다도', 'Noun'), ('라고', 'Josa'), ('하더니만', 'Verb'), ('정말', 'Noun'), ('돌이', 'Noun'), ('많습니다', 'Adjective'), ('예', 'Modifier'), ('옛날', 'Noun'), ('에는', 'Josa'), ('한라산', 'Noun'), ('이', 'Josa'), ('화산', 'Noun'), ('이었기', 'Verb'), ('때문', 'Noun'), ('에', 'Josa'), ('돌이', 'Noun'), ('많답니다', 'Adjective'), ('아이고', 'Exclamation'), ('저기', 'Noun'), ('돌구', 'Verb'), ('멍에', 'Noun'), ('핀', 'Noun'), ('꽃', 'Noun'), ('보십시오', 'Verb'), ('돌', 'Noun'), ('구멍', 'Noun'), ('으로', 'Josa'), ('보는', 'Verb'), ('바다', 'Noun'), ('는', 'Josa'), ('꼭', 'Noun'), ('그림', 'Noun'), ('같군요', 'Adjective'), ('바다', 'Noun'), ('에', 'Josa'), ('가서', 'Verb'), ('보아', 'Noun'), ('야', 'Josa'), ('풍랑', 'Noun'), ('을', 'Josa'), ('알', 'Noun'), ('게', 'Josa'), ('되고', 'Verb'), ('자식', 'Noun'), ('을', 'Josa'), ('낳아', 'Verb'), ('보아', 'Noun'), ('야', 'Josa'), ('부모', 'Noun'), ('마음', 'Noun'), ('알', 'Noun'), ('게', 'Josa'), ('되고', 'Verb'), ('사람', 'Noun'), ('은', 'Josa'), ('만나서', 'Verb'), ('살', 'Noun'), ('아', 'Josa'), ('보아', 'Noun'), ('야', 'Josa'), ('진짜', 'Noun'), ('마음', 'Noun'), ('을', 'Josa'), ('알', 'Noun'), ('게', 'Josa'), ('되고', 'Verb'), ('사랑', 'Noun'), ('을', 'Josa'), ('해', 'Noun'), ('보아', 'Noun'), ('야', 'Josa'), ('눈물', 'Noun'), ('도', 'Josa'), ('알', 'Noun'), ('게', 'Josa'), ('된답니다', 'Verb'), ('사람', 'Noun'), ('은', 'Josa'), ('서로', 'Noun'), ('서로', 'Noun'), ('도우', 'Noun'), ('며', 'Josa'), ('사는', 'Verb'), ('것', 'Noun'), ('이야', 'Josa'), ('약', 'Noun'), ('은', 'Josa'), ('고양이', 'Noun'), ('가', 'Josa'), ('밤눈', 'Noun'), ('이', 'Josa'), ('어둡다고', 'Adjective'), ('한', 'Determiner'), ('다자', 'Noun'), ('기만', 'Noun'), ('약', 'Noun'), ('은', 'Josa'), ('체', 'Noun'), ('하면서', 'Verb'), ('살다', 'Verb'), ('보면', 'Verb'), ('자기', 'Noun'), ('욕심', 'Noun'), ('에', 'Josa'), ('걸려서', 'Verb'), ('자기', 'Noun'), ('가', 'Josa'), ('넘어진단다', 'Verb'), ('서귀포', 'Noun'), ('바다', 'Noun'), ('에', 'Josa'), ('가면', 'Noun'), ('알수', 'Verb'), ('있습니다', 'Adjective'), ('무엇', 'Noun'), ('이', 'Josa'), ('사랑', 'Noun'), ('이고', 'Josa'), ('무엇', 'Noun'), ('이', 'Josa'), ('그리움', 'Noun'), ('인지', 'Josa'), ('안개', 'Noun'), ('낀', 'Verb'), ('부둣가', 'Noun'), ('에', 'Josa'), ('뱃고동', 'Noun'), ('울어', 'Verb'), ('주면', 'Verb'), ('옛', 'Modifier'), ('님', 'Noun'), ('이', 'Josa'), ('그리워서', 'Adjective'), ('눈물', 'Noun'), ('이', 'Josa'), ('많이', 'Modifier'), ('도', 'Noun'), ('납니다', 'Verb'), ('아끼면서', 'Verb'), ('살아야', 'Verb'), ('한', 'Determiner'), ('다오', 'Noun'), ('늘', 'Noun'), ('보다', 'Josa'), ('내일', 'Noun'), ('을', 'Josa'), ('생각', 'Noun'), ('하고', 'Josa'), ('내일', 'Noun'), ('보다', 'Josa'), ('모레', 'Noun'), ('를', 'Josa'), ('생각', 'Noun'), ('하고', 'Verb'), ('그렇게', 'Adverb'), ('해사', 'Noun'), ('일생', 'Noun'), ('을', 'Josa'), ('편히', 'Adjective'), ('살수', 'Noun'), ('있단다', 'Adjective'), ('요사이', 'Noun'), ('아이', 'Noun'), ('들', 'Suffix'), ('너무', 'Adverb'), ('편안히', 'Adjective'), ('산다', 'Noun'), ('그러니까', 'Adverb'), ('조금', 'Noun'), ('하', 'Suffix'), ('면', 'Josa'), ('아프고울고', 'Adjective'), ('하고', 'Verb'), ('있다', 'Adjective'), ('뒹', 'Noun'), ('글리', 'Noun'), ('면서', 'Noun'), ('기른', 'Verb'), ('달걀', 'Noun'), ('이', 'Josa'), ('병아리', 'Noun'), ('가', 'Josa'), ('된다고', 'Verb'), ('한다', 'Verb'), ('어릴', 'Verb'), ('때', 'Noun'), ('고생', 'Noun'), ('도', 'Josa'), ('하고', 'Verb'), ('해야', 'Verb'), ('큰', 'Verb'), ('사람', 'Noun'), ('된다어서', 'Verb'), ('와서', 'Verb'), ('먹으십시오', 'Verb'), ('따뜻합니까', 'Adjective'), ('따끈따끈한', 'Adjective'), ('것', 'Noun'), ('이', 'Josa'), ('먹기', 'Noun'), ('에', 'Josa'), ('꼭', 'Noun'), ('좋았습니다', 'Adjective'), ('따뜻할', 'Adjective'), ('때', 'Noun'), ('후루룩', 'Noun'), ('마셔', 'Verb'), ('버리십시오', 'Verb'), ('날', 'Noun'), ('이', 'Josa'), ('밝았다', 'Verb'), ('어서', 'Noun'), ('가자', 'Verb'), ('일', 'Noun'), ('해야', 'Verb'), ('먹고', 'Verb'), ('산다', 'Noun'), ('부지런한', 'Adjective'), ('것', 'Noun'), ('은', 'Josa'), ('하늘', 'Noun'), ('도', 'Josa'), ('못', 'Noun'), ('막는다고', 'Verb'), ('하더라', 'Verb'), ('뻘리', 'Noun'), ('준비', 'Noun'), ('해서', 'Verb'), ('가야', 'Noun'), ('일', 'Noun'), ('할', 'Verb'), ('것', 'Noun'), ('아니냐', 'Adjective'), ('시집', 'Noun'), ('을', 'Josa'), ('가', 'Verb'), ('보', 'Noun'), ('니까', 'Josa'), ('이렇', 'Adjective'), ('드', 'Noun'), ('라', 'Josa'), ('돌', 'Noun'), ('덩이', 'Noun'), ('같이', 'Adverb'), ('고집', 'Noun'), ('센', 'Verb'), ('시아버지', 'Noun'), ('에', 'Josa'), ('살모사', 'Noun'), ('같이', 'Adverb'), ('독한', 'Adjective'), ('시어머니', 'Noun'), ('에', 'Josa'), ('문어', 'Noun'), ('같이', 'Adverb'), ('물렁물렁한', 'Adjective'), ('남편', 'Noun'), ('에', 'Josa'), ('굴뚝', 'Noun'), ('새', 'Noun'), ('같이', 'Adverb'), ('약', 'Noun'), ('아', 'Josa'), ('빠진', 'Verb'), ('시누이', 'Noun'), ('에', 'Josa'), ('살아도', 'Verb'), ('살아도', 'Verb'), ('고생', 'Noun'), ('이', 'Josa'), ('더', 'Noun'), ('라', 'Josa'), ('어디', 'Noun'), ('로', 'Josa'), ('가느냐', 'Adjective'), ('바다', 'Noun'), ('에', 'Josa'), ('어머니', 'Noun'), ('한테', 'Josa'), ('갑니다', 'Verb'), ('그러면', 'Adverb'), ('이', 'Determiner'), ('거', 'Noun'), ('가지', 'Noun'), ('고', 'Josa'), ('가라', 'Noun'), ('무엇', 'Noun'), ('입', 'Noun'), ('니까', 'Josa'), ('너희', 'Noun'), ('어머니', 'Noun'), ('바다', 'Noun'), ('에서', 'Josa'), ('물질', 'Noun'), ('하면서', 'Verb'), ('먹을거다', 'Verb'), ('이렇게', 'Adverb'), ('억울할', 'Adjective'), ('때', 'Noun'), ('가', 'Josa'), ('있습니까', 'Adjective'), ('사정', 'Noun'), ('을', 'Josa'), ('해도', 'Noun'), ('시원하지', 'Adjective'), ('않을', 'Verb'), ('놈', 'Noun'), ('이', 'Josa'), ('큰', 'Verb'), ('소리', 'Noun'), ('합니다', 'Verb'), ('아니', 'Adjective'), ('원', 'Noun'), ('그거', 'Noun'), ('도둑', 'Noun'), ('놈', 'Noun'), ('마음', 'Noun'), ('이구나', 'Josa'), ('그러게', 'Adjective'), ('말', 'Noun'), ('입니다', 'Adjective'), ('그런', 'Adjective'), ('사람', 'Noun'), ('이', 'Josa'), ('어디', 'Noun'), ('있습니까', 'Adjective'), ('시험', 'Noun'), ('에', 'Josa'), ('떨어진', 'Verb'), ('아들', 'Noun'), ('이', 'Josa'), ('아버지', 'Noun'), ('께', 'Josa'), ('말', 'Noun'), ('했습니다', 'Verb'), ('난', 'Noun'), ('아무리', 'Adverb'), ('해도', 'Noun'), ('안되겠습니다', 'Adjective'), ('왜', 'Noun'), ('안된다고', 'Adjective'), ('생각', 'Noun'), ('하느냐', 'Verb'), ('해도', 'Noun'), ('해도', 'Noun'), ('안되는걸', 'Adjective'), ('어떻게', 'Adjective'), ('합', 'Noun'), ('니까', 'Josa'), ('차돌', 'Noun'), ('도', 'Josa'), ('뚫고', 'Verb'), ('있으면', 'Adjective'), ('구멍', 'Noun'), ('이', 'Josa'), ('난다', 'Verb'), ('하고', 'Verb'), ('있으면', 'Adjective'), ('된다', 'Verb'), ('`', 'Punctuation'), ('딸', 'Noun'), ('이', 'Josa'), ('뛰어', 'Verb'), ('가다가', 'Noun'), ('쓰러졌답니다', 'Verb'), ('이런', 'Adjective'), ('어떻게', 'Adjective'), ('하나', 'Noun'), ('그래서', 'Adverb'), ('어떻게', 'Adjective'), ('했는가', 'Verb'), ('병원', 'Noun'), ('에', 'Josa'), ('갔습니다', 'Verb'), ('가서', 'Verb'), ('보', 'Noun'), ('니까', 'Josa'), ('뼈', 'Noun'), ('가', 'Josa'), ('부러졌답니다한', 'Verb'), ('열흘', 'Noun'), ('간', 'Suffix'), ('입원', 'Noun'), ('해야', 'Verb'), ('한다고', 'Verb'), ('합니다', 'Verb'), ('작다고', 'Adjective'), ('놀리지', 'Verb'), ('마라', 'Adjective'), ('작은', 'Adjective'), ('것', 'Noun'), ('이', 'Josa'), ('똑똑하고', 'Adjective'), ('영리하다', 'Adjective'), ('큰', 'Verb'), ('것', 'Noun'), ('은', 'Josa'), ('바람', 'Noun'), ('만', 'Josa'), ('불어', 'Noun'), ('도', 'Josa'), ('흔들', 'Verb'), ('흔들', 'Verb'), ('거리', 'Noun'), ('지만', 'Josa'), ('조그만', 'Noun'), ('한', 'Verb'), ('건', 'Noun'), ('단단하고', 'Adjective'), ('태연하게', 'Adjective'), ('있는다', 'Adjective'), ('어느', 'Adverb'), ('곳', 'Noun'), ('으로', 'Josa'), ('가십', 'Noun'), ('니까', 'Josa'), ('바다', 'Noun'), ('에', 'Josa'), ('고기', 'Noun'), ('사려', 'Noun'), ('고', 'Josa'), ('말', 'Noun'), ('입니다', 'Adjective'), ('왜', 'Noun'), ('누가', 'Noun'), ('왔습니까', 'Verb'), ('서울', 'Noun'), ('에서', 'Josa'), ('작은', 'Adjective'), ('아버지', 'Noun'), ('네', 'Suffix'), ('가', 'Josa'), ('왔습니다', 'Verb'), ('그럼', 'Adjective'), ('조심해서', 'Verb'), ('갔다', 'Verb'), ('오십', 'Modifier'), ('시오', 'Noun'), ('어머니', 'Noun'), ('가', 'Josa'), ('해', 'Noun'), ('준', 'Noun'), ('밥', 'Noun'), ('을', 'Josa'), ('먹어', 'Verb'), ('보십시오', 'Verb'), ('정말로', 'Adverb'), ('맛', 'Noun'), ('이', 'Josa'), ('좋습니다', 'Adjective'), ('무엇', 'Noun'), ('때문', 'Noun'), ('인가요', 'Josa'), ('그건', 'Adverb'), ('어머니', 'Noun'), ('의', 'Josa'), ('사랑', 'Noun'), ('하는', 'Verb'), ('마음', 'Noun'), ('이', 'Josa'), ('밥속', 'Noun'), ('에', 'Josa'), ('가득', 'Noun'), ('가득히', 'Adjective'), ('들어', 'Verb'), ('있기', 'Adjective'), ('때문', 'Noun'), ('아닙니까', 'Adjective'), ('소문', 'Noun'), ('옮기면서', 'Verb'), ('다니지', 'Verb'), ('마십시오', 'Verb'), ('소문', 'Noun'), ('은', 'Josa'), ('남', 'Noun'), ('들', 'Suffix'), ('싸움', 'Noun'), ('만', 'Josa'), ('만', 'Modifier'), ('듭', 'Noun'), ('니', 'Josa'), ('다예', 'Noun'), ('부터', 'Josa'), ('싸움', 'Noun'), ('은', 'Josa'), ('말리', 'Noun'), ('고흥', 'Noun'), ('정은', 'Noun'), ('붙이', 'Noun'), ('라고', 'Josa'), ('했습니다', 'Verb'), ('그러니', 'Adjective'), ('좋은', 'Adjective'), ('소리', 'Noun'), ('는', 'Josa'), ('크게', 'Noun'), ('하고', 'Verb'), ('나쁜', 'Adjective'), ('소리', 'Noun'), ('는', 'Josa'), ('조용히', 'Adjective'), ('해', 'Noun'), ('버리십시오두', 'Verb'), ('부부', 'Noun'), ('가', 'Josa'), ('어디', 'Noun'), ('로', 'Josa'), ('그렇게', 'Adverb'), ('달려', 'Verb'), ('가는가', 'Verb'), ('큰', 'Verb'), ('딸', 'Noun'), ('이', 'Josa'), ('아이', 'Noun'), ('를', 'Josa'), ('낳았다고', 'Verb'), ('해서', 'Verb'), ('갑니다', 'Verb'), ('그랬구나', 'Exclamation'), ('무슨', 'Noun'), ('애기', 'Noun'), ('를', 'Josa'), ('낳았는가', 'Verb'), ('아들', 'Noun'), ('입니다', 'Adjective'), ('아이구', 'Exclamation'), ('잘', 'Verb'), ('되었', 'Verb'), ('네', 'Determiner'), ('어서', 'Noun'), ('가', 'Verb'), ('보게', 'Verb'), ('나가서', 'Verb'), ('보고', 'Noun'), ('오십', 'Modifier'), ('시오', 'Noun'), ('와', 'Josa'), ('서', 'Verb'), ('보고', 'Noun'), ('사십', 'Modifier'), ('시오', 'Noun'), ('이렇게', 'Adverb'), ('하고', 'Verb'), ('저렇게', 'Adverb'), ('하고', 'Verb'), ('하십시오', 'Verb'), ('그렇게', 'Adverb'), ('말', 'Noun'), ('해', 'Verb'), ('주십시', 'Verb'), ('오가지', 'Verb'), ('말고서', 'Verb'), ('이렇게', 'Adverb'), ('하면서', 'Verb'), ('사십', 'Modifier'), ('시오', 'Noun'), ('여보', 'Noun'), ('제주도', 'Noun'), ('에서', 'Josa'), ('삽시다', 'Verb'), ('좋지요', 'Adjective'), ('넓은', 'Adjective'), ('바다', 'Noun'), ('좋은', 'Adjective'), ('공', 'Modifier'), ('기', 'Modifier'), ('인심', 'Noun'), ('좋은', 'Adjective'), ('사람', 'Noun'), ('들', 'Suffix'), ('과', 'Josa'), ('살', 'Noun'), ('면', 'Josa'), ('살', 'Noun'), ('맛', 'Noun'), ('날거다', 'Verb'), ('살다가', 'Verb'), ('지치면', 'Verb'), ('풍덩', 'Adverb'), ('바다', 'Noun'), ('에', 'Josa'), ('들어', 'Verb'), ('가고', 'Verb'), ('말', 'Noun'), ('입니다', 'Adjective'), ('둘', 'Noun'), ('이', 'Josa'), ('먹다가', 'Verb'), ('한', 'Verb'), ('명', 'Noun'), ('이', 'Josa'), ('죽어도', 'Verb'), ('모르는', 'Verb'), ('건', 'Noun'), ('무엇', 'Noun'), ('입', 'Noun'), ('니까', 'Josa'), ('달', 'Noun'), ('고', 'Josa'), ('맛있는', 'Adjective'), ('제주도', 'Noun'), ('전복죽', 'Noun'), ('이야', 'Josa'), ('둘', 'Noun'), ('이', 'Josa'), ('보다가', 'Verb'), ('한', 'Verb'), ('사람', 'Noun'), ('이', 'Josa'), ('죽어도', 'Verb'), ('모르는', 'Verb'), ('건', 'Noun'), ('무엇', 'Noun'), ('입', 'Noun'), ('니까', 'Josa'), ('곱', 'Noun'), ('고', 'Josa'), ('예쁘장한', 'Adjective'), ('제주도', 'Noun'), ('처녀', 'Noun'), ('야', 'Josa'), ('그러면', 'Adverb'), ('오십', 'Modifier'), ('시오', 'Noun'), ('전복죽', 'Noun'), ('먹고서', 'Verb'), ('처녀', 'Noun'), ('보러', 'Verb'), ('갑시다', 'Verb'), ('쨍쨍', 'Adverb'), ('한', 'Determiner'), ('햇볕', 'Noun'), ('속', 'Noun'), ('에', 'Josa'), ('일', 'Noun'), ('하려고', 'Verb'), ('하니', 'Noun'), ('수고', 'Noun'), ('했습니다', 'Verb'), ('수고', 'Noun'), ('할', 'Verb'), ('거', 'Noun'), ('있습니까', 'Adjective'), ('조금', 'Noun'), ('땀', 'Noun'), ('은', 'Josa'), ('났습니다만', 'Verb'), ('안', 'Noun'), ('으로', 'Josa'), ('들어', 'Verb'), ('오셔서', 'Verb'), ('저녁식사', 'Noun'), ('하고', 'Verb'), ('가십시오', 'Verb'), ('그렇게', 'Adverb'), ('할까', 'Verb'), ('요', 'Modifier'), ('제주', 'Noun'), ('바다', 'Noun'), ('에', 'Josa'), ('가면', 'Noun'), ('바다', 'Noun'), ('가', 'Josa'), ('말', 'Noun'), ('을', 'Josa'), ('합니다', 'Verb'), ('사람', 'Noun'), ('보다', 'Josa'), ('더', 'Noun'), ('재잘재잘', 'Adverb'), ('말', 'Noun'), ('을', 'Josa'), ('하고', 'Verb'), ('사람', 'Noun'), ('보다', 'Josa'), ('더', 'Noun'), ('사랑', 'Noun'), ('도', 'Josa'), ('많이', 'Adverb'), ('합니다', 'Verb'), ('그렇게', 'Adverb'), ('하면서', 'Verb'), ('낮', 'Noun'), ('이나', 'Josa'), ('밤', 'Noun'), ('이나', 'Josa'), ('꽃', 'Noun'), ('을', 'Josa'), ('피웠다가', 'Verb'), ('지웠다가', 'Verb'), ('합니다', 'Verb'), ('제주', 'Noun'), ('바다', 'Noun'), ('에', 'Josa'), ('가서', 'Verb'), ('보십시오', 'Verb'), ('미운', 'Verb'), ('것', 'Noun'), ('도', 'Josa'), ('없어지고', 'Verb'), ('슬픈것도', 'Adjective'), ('없어지고', 'Verb'), ('가슴', 'Noun'), ('으로', 'Josa'), ('바닷물', 'Noun'), ('만', 'Josa'), ('들어오고', 'Verb'), ('나가고', 'Verb'), ('하면', 'Verb'), ('서둘이', 'Verb'), ('둥실', 'Noun'), ('둥', 'Noun'), ('그대', 'Noun'), ('당실', 'Adverb'), ('사랑', 'Noun'), ('만', 'Josa'), ('가득하게', 'Adjective'), ('담아서', 'Verb'), ('옵니다', 'Verb'), ('서울', 'Noun'), ('에서', 'Josa'), ('색', 'Noun'), ('씨', 'Suffix'), ('가', 'Josa'), ('왔습니다', 'Verb'), ('어떻게', 'Adjective'), ('생겼던가', 'Verb'), ('똑똑하고', 'Adjective'), ('영리하게', 'Adjective'), ('생겼습니다', 'Verb'), ('살그머니', 'Noun'), ('웃으면서', 'Verb'), ('말', 'Noun'), ('하는', 'Verb'), ('걸', 'Noun'), ('보니', 'Verb'), ('착할', 'Adjective'), ('것', 'Noun'), ('같습니다', 'Adjective'), ('그', 'Determiner'), ('나쁜', 'Adjective'), ('놈', 'Noun'), ('뺨따귀', 'Noun'), ('를', 'Josa'), ('때려', 'Verb'), ('버릴거', 'Verb'), ('아닙니까', 'Adjective'), ('그렇게', 'Adverb'), ('했어', 'Verb'), ('목', 'Noun'), ('을', 'Josa'), ('잡아서', 'Verb'), ('흔들다가', 'Verb'), ('머리', 'Noun'), ('로', 'Josa'), ('배', 'Noun'), ('를', 'Josa'), ('받아', 'Verb'), ('버렸더니', 'Verb'), ('뒹글', 'Noun'), ('며', 'Josa'), ('쓰러져', 'Verb'), ('버리더군', 'Verb'), ('잘', 'Verb'), ('됐어', 'Verb'), ('그런', 'Adjective'), ('놈', 'Noun'), ('은혼', 'Noun'), ('을', 'Josa'), ('내', 'Noun'), ('줘야', 'Verb'), ('합니다', 'Verb'), ('쌍둥이', 'Noun'), ('어머니', 'Noun'), ('고생', 'Noun'), ('하고', 'Josa'), ('있네요', 'Adjective'), ('그렇지요', 'Adjective'), ('둘이가', 'Verb'), ('서로', 'Noun'), ('이기려고', 'Verb'), ('하니', 'Noun'), ('죽겠습니다', 'Verb'), ('그렇게', 'Adverb'), ('할', 'Verb'), ('거', 'Noun'), ('에요', 'Josa'), ('그래도', 'Adverb'), ('남하', 'Noun'), ('고', 'Josa'), ('싸울', 'Verb'), ('때', 'Noun'), ('는', 'Josa'), ('자기', 'Noun'), ('네', 'Josa'), ('편', 'Noun'), ('을', 'Josa'), ('들면서', 'Verb'), ('싸웁니다요', 'Verb'), ('계집애', 'Noun'), ('봐', 'Verb'), ('라남', 'Noun'), ('의', 'Josa'), ('남자', 'Noun'), ('와', 'Josa'), ('얘기', 'Noun'), ('하고', 'Verb'), ('벌써', 'Noun'), ('부터', 'Josa'), ('남자', 'Noun'), ('를', 'Josa'), ('밝히느냐', 'Verb'), ('아닙니다', 'Adjective'), ('바다', 'Noun'), ('에', 'Josa'), ('가다가길', 'Verb'), ('모르는', 'Verb'), ('사람', 'Noun'), ('이', 'Josa'), ('있어', 'Adjective'), ('서길', 'Verb'), ('가르', 'Verb'), ('켜', 'Noun'), ('줬습니다', 'Verb'), ('아이구', 'Exclamation'), ('큰일', 'Noun'), ('났습니다', 'Verb'), ('왜', 'Noun'), ('그렇게', 'Adverb'), ('들', 'Verb'), ('락키', 'Noun'), ('느냐', 'Verb'), ('너무', 'Adverb'), ('서두르지', 'Verb'), ('말', 'Noun'), ('고', 'Josa'), ('천천히', 'Adverb'), ('말', 'Noun'), ('해', 'Verb'), ('보아', 'Noun'), ('라', 'Josa'), ('그러니까', 'Adverb'), ('요', 'Noun'), ('이렇게', 'Adverb'), ('하고', 'Verb'), ('저렇게', 'Adverb'), ('하고', 'Verb'), ('했습니다', 'Verb'), ('그러니까', 'Adverb'), ('욕심', 'Noun'), ('내면', 'Noun'), ('서', 'Josa'), ('살', 'Noun'), ('면', 'Josa'), ('그렇게', 'Adverb'), ('된', 'Verb'), ('다색', 'Noun'), ('씨', 'Suffix'), ('그거', 'Noun'), ('가져다', 'Verb'), ('줘라', 'Verb'), ('왜', 'Noun'), ('당신', 'Noun'), ('은', 'Josa'), ('손', 'Noun'), ('이', 'Josa'), ('없어요', 'Adjective'), ('발', 'Noun'), ('이', 'Josa'), ('없어요', 'Adjective'), ('그러지', 'Adjective'), ('말', 'Noun'), ('고', 'Josa'), ('좀', 'Noun'), ('가져다', 'Verb'), ('주', 'Modifier'), ('면안', 'Noun'), ('돼냐', 'Verb'), ('버릇', 'Noun'), ('됩니다', 'Verb'), ('별', 'Modifier'), ('나', 'Noun'), ('고', 'Josa'), ('약', 'Noun'), ('아', 'Josa'), ('빠진', 'Verb'), ('소', 'Modifier'), ('리그', 'Noun'), ('만', 'Josa'), ('해', 'Noun'), ('라', 'Josa'), ('이제', 'Noun'), ('가자', 'Verb'), ('짐', 'Noun'), ('꾸려라', 'Verb'), ('알았습니다', 'Verb'), ('아이', 'Noun'), ('들', 'Suffix'), ('도', 'Josa'), ('데리', 'Noun'), ('고', 'Josa'), ('갈까', 'Verb'), ('요', 'Modifier'), ('그', 'Noun'), ('래', 'Josa'), ('모두', 'Noun'), ('같이', 'Adverb'), ('가자', 'Verb'), ('할아버지', 'Noun'), ('할머니', 'Noun'), ('가', 'Josa'), ('좋아하실거야', 'Adjective'), ('목', 'Noun'), ('아지', 'Noun'), ('에', 'Josa'), ('때', 'Noun'), ('를', 'Josa'), ('밀', 'Noun'), ('라', 'Josa'), ('겨드랑이', 'Noun'), ('랑', 'Josa'), ('종아리', 'Noun'), ('도', 'Josa'), ('밀고', 'Noun'), ('옷', 'Noun'), ('벗어서', 'Verb'), ('사타구니', 'Noun'), ('사이', 'Noun'), ('도', 'Josa'), ('밀어라', 'Verb'), ('사람', 'Noun'), ('몸', 'Noun'), ('은', 'Josa'), ('깨끗해야', 'Adjective'), ('한다', 'Verb'), ('무엇', 'Noun'), ('을', 'Josa'), ('먹을까', 'Verb'), ('글쎄요', 'Noun'), ('제주도', 'Noun'), ('에만', 'Josa'), ('있는', 'Adjective'), ('것', 'Noun'), ('을', 'Josa'), ('먹읍시다', 'Verb'), ('소라', 'Noun'), ('에', 'Josa'), ('보말에', 'Verb'), ('옥돔', 'Noun'), ('생선', 'Noun'), ('또', 'Noun'), ('있어요', 'Adjective'), ('메밀', 'Noun'), ('범벅', 'Noun'), ('에', 'Josa'), ('자리', 'Noun'), ('젓갈', 'Noun'), ('먹을', 'Verb'), ('것', 'Noun'), ('도', 'Josa'), ('참', 'Verb'), ('많이', 'Adverb'), ('있네', 'Adjective'), ('왜', 'Noun'), ('나', 'Noun'), ('는', 'Josa'), ('조그만', 'Noun'), ('줍니까', 'Verb'), ('이', 'Determiner'), ('놈', 'Noun'), ('아', 'Josa'), ('욕심', 'Noun'), ('을', 'Josa'), ('가진', 'Verb'), ('눈', 'Noun'), ('에는', 'Josa'), ('자기', 'Noun'), ('것', 'Noun'), ('은', 'Josa'), ('작게', 'Adjective'), ('보이', 'Noun'), ('고', 'Josa'), ('남', 'Noun'), ('의', 'Josa'), ('것', 'Noun'), ('은', 'Josa'), ('크게', 'Noun'), ('보이는', 'Verb'), ('것', 'Noun'), ('이야', 'Josa'), ('똑같이', 'Adverb'), ('나눈', 'Verb'), ('것', 'Noun'), ('을', 'Josa'), ('어찌', 'Noun'), ('크다', 'Verb'), ('작다', 'Adjective'), ('하느냐', 'Verb'), ('어머니', 'Noun'), ('가', 'Josa'), ('화가', 'Noun'), ('나서', 'Verb'), ('꼼짝', 'Noun'), ('안', 'VerbPrefix'), ('합니다', 'Verb'), ('그렇고', 'Adjective'), ('말', 'Noun'), ('고', 'Josa'), ('믿던', 'Verb'), ('나무', 'Noun'), ('에', 'Josa'), ('곰팡이', 'Noun'), ('가', 'Josa'), ('핀다고', 'Verb'), ('하더니', 'Verb'), ('만하', 'Noun'), ('도', 'Josa'), ('억울하게', 'Adjective'), ('당해서', 'Adjective'), ('아니냐', 'Adjective'), ('어머니', 'Noun'), ('마음', 'Noun'), ('위로', 'Noun'), ('해', 'Verb'), ('드려라', 'Verb'), ('닭', 'Noun'), ('이야', 'Josa'), ('울면', 'Noun'), ('날', 'Noun'), ('이', 'Josa'), ('밝아', 'Verb'), ('오지', 'Noun'), ('만', 'Josa'), ('내', 'Noun'), ('가', 'Josa'), ('울면', 'Noun'), ('어느', 'Adverb'), ('날', 'Noun'), ('밝을', 'Verb'), ('수', 'Noun'), ('있으랴', 'Adjective'), ('닭', 'Noun'), ('의', 'Josa'), ('목', 'Noun'), ('에', 'Josa'), ('자물쇠', 'Noun'), ('나', 'Josa'), ('잠궈서', 'Verb'), ('내', 'Noun'), ('가', 'Josa'), ('대신', 'Noun'), ('울어나', 'Verb'), ('볼까', 'Verb'), ('여기', 'Noun'), ('바다', 'Noun'), ('에여', 'Josa'), ('기', 'Noun'), ('물', 'Noun'), ('에', 'Josa'), ('들어가서', 'Verb'), ('전복', 'Noun'), ('소라', 'Noun'), ('가득하게', 'Adjective'), ('잡아다가한', 'Verb'), ('푼', 'Noun'), ('두', 'Josa'), ('푼', 'Noun'), ('모이', 'Noun'), ('다', 'Josa'), ('보', 'Noun'), ('니까', 'Josa'), ('남편', 'Noun'), ('의', 'Josa'), ('술값', 'Noun'), ('에', 'Josa'), ('모조리', 'Noun'), ('들어', 'Verb'), ('가더라', 'Verb'), ('정신없이', 'Adverb'), ('급하게', 'Adjective'), ('재촉', 'Noun'), ('해서', 'Verb'), ('일하지', 'Verb'), ('마라바', 'Noun'), ('늘', 'Noun'), ('허리', 'Noun'), ('를', 'Josa'), ('졸라', 'Noun'), ('매어서', 'Verb'), ('바느질', 'Noun'), ('되는', 'Verb'), ('거', 'Noun'), ('봤느냐', 'Verb'), ('천천히', 'Adverb'), ('생각', 'Noun'), ('하면서', 'Verb'), ('하나', 'Noun'), ('씩', 'Suffix'), ('해야', 'Verb'), ('일이', 'Noun'), ('된다', 'Verb'), ('살다', 'Verb'), ('보면', 'Verb'), ('고생', 'Noun'), ('할', 'Verb'), ('때', 'Noun'), ('도', 'Josa'), ('있고', 'Adjective'), ('어려워서', 'Adjective'), ('쓰러질', 'Verb'), ('때', 'Noun'), ('도', 'Josa'), ('있단다', 'Adjective'), ('그래도', 'Adverb'), ('한눈', 'Noun'), ('팔아서', 'Verb'), ('가지', 'Noun'), ('말아라', 'Verb'), ('곧게', 'Adjective'), ('걸어', 'Verb'), ('가노라면', 'Verb'), ('나중', 'Noun'), ('엔', 'Josa'), ('꼭', 'Noun'), ('성공한다', 'Adjective'), ('한림', 'Noun'), ('공원', 'Noun'), ('에', 'Josa'), ('가서', 'Verb'), ('보았습니까', 'Verb'), ('별', 'Noun'), ('의', 'Josa'), ('별', 'Noun'), ('나무', 'Noun'), ('랑', 'Josa'), ('꽃', 'Noun'), ('이랑', 'Josa'), ('잘도', 'Verb'), ('아름답습니다', 'Adjective'), ('사랑', 'Noun'), ('하', 'Suffix'), ('는', 'Josa'), ('사람', 'Noun'), ('은', 'Josa'), ('꼭', 'Noun'), ('가서', 'Verb'), ('봐야', 'Verb'), ('한다고', 'Verb'), ('합니다', 'Verb'), ('그', 'Determiner'), ('래야', 'Noun'), ('사랑', 'Noun'), ('하면서', 'Verb'), ('잘', 'Verb'), ('산다', 'Noun'), ('고', 'Josa'), ('합니다', 'Verb'), ('서울', 'Noun'), ('에서', 'Josa'), ('온', 'Noun'), ('사나이', 'Noun'), ('제주', 'Noun'), ('처녀', 'Noun'), ('에', 'Josa'), ('미쳐', 'Adjective'), ('버리니까', 'Verb'), ('오늘', 'Noun'), ('갈까', 'Verb'), ('내일', 'Noun'), ('갈까', 'Verb'), ('하다가', 'Verb'), ('보니', 'Verb'), ('꼼짝', 'Noun'), ('못', 'VerbPrefix'), ('해서', 'Verb'), ('살', 'Noun'), ('고', 'Josa'), ('있더라', 'Adjective'), ('색', 'Noun'), ('씨', 'Suffix'), ('왜', 'Noun'), ('안', 'Noun'), ('옵', 'Noun'), ('니까', 'Josa'), ('어떻게', 'Adjective'), ('된', 'Verb'), ('거', 'Noun'), ('아닙니까', 'Adjective'), ('가서', 'Verb'), ('데리', 'Noun'), ('고', 'Josa'), ('오십', 'Modifier'), ('시오', 'Noun'), ('무었', 'Noun'), ('을', 'Josa'), ('그렇게', 'Adverb'), ('늑장', 'Noun'), ('부리고', 'Noun'), ('있는', 'Adjective'), ('건가', 'Noun'), ('오늘', 'Noun'), ('은', 'Josa'), ('우리', 'Noun'), ('밭', 'Noun'), ('에', 'Josa'), ('마늘', 'Noun'), ('심어', 'Verb'), ('주', 'Modifier'), ('십', 'Modifier'), ('시오', 'Noun'), ('그렇게', 'Adverb'), ('합시다', 'Verb'), ('그런데', 'Conjunction'), ('비', 'Noun'), ('가', 'Josa'), ('올', 'Verb'), ('것', 'Noun'), ('같습니다', 'Adjective'), ('동쪽', 'Noun'), ('으로', 'Josa'), ('구름', 'Noun'), ('이', 'Josa'), ('시커멓게', 'Adjective'), ('되고', 'Verb'), ('있습니다', 'Adjective'), ('그럼', 'Adjective'), ('조금', 'Noun'), ('있다가', 'Adjective'), ('와', 'Verb'), ('주', 'Modifier'), ('십', 'Modifier'), ('시오', 'Noun'), ('아침', 'Noun'), ('부터', 'Josa'), ('저녁', 'Noun'), ('까지', 'Josa'), ('두', 'Determiner'), ('사람', 'Noun'), ('이', 'Josa'), ('둥실', 'Noun'), ('사랑', 'Noun'), ('도', 'Josa'), ('하고', 'Verb'), ('구경', 'Noun'), ('도', 'Josa'), ('하고', 'Verb'), ('그렇게', 'Adverb'), ('하다', 'Verb'), ('보니', 'Verb'), ('뼈', 'Noun'), ('가', 'Josa'), ('폭삭', 'Noun'), ('주저앉는다', 'Verb'), ('사랑', 'Noun'), ('할', 'Verb'), ('때', 'Noun'), ('는', 'Josa'), ('살그머니', 'Noun'), ('말', 'Noun'), ('해라', 'Verb'), ('누가', 'Noun'), ('들으면', 'Verb'), ('웃는다아', 'Verb'), ('무도', 'Noun'), ('모르게', 'Verb'), ('너', 'Noun'), ('하고', 'Josa'), ('나', 'Noun'), ('하고만', 'Josa'), ('살그머니', 'Noun'), ('하자', 'Noun'), ('어머니', 'Noun'), ('랑', 'Josa'), ('같이', 'Adverb'), ('오십시오오다가', 'Verb'), ('이렇게', 'Adverb'), ('하고', 'Verb'), ('저렇게', 'Adverb'), ('하고', 'Verb'), ('하십시오', 'Verb'), ('왜', 'Noun'), ('그렇게', 'Adverb'), ('숨', 'Noun'), ('차게', 'Verb'), ('말', 'Noun'), ('하는', 'Verb'), ('가짐', 'Noun'), ('을', 'Josa'), ('진', 'Noun'), ('사람', 'Noun'), ('이', 'Josa'), ('짐', 'Noun'), ('부릴', 'Verb'), ('곳', 'Noun'), ('을', 'Josa'), ('찾는', 'Verb'), ('법', 'Noun'), ('이네', 'Josa'), ('그러니', 'Adjective'), ('걱정', 'Noun'), ('말고서', 'Verb'), ('가만히', 'Adverb'), ('있게', 'Adjective'), ('저기', 'Noun'), ('요새', 'Noun'), ('애', 'Noun'), ('들', 'Suffix'), ('옷', 'Noun'), ('입고서', 'Verb'), ('다니는', 'Verb'), ('것', 'Noun'), ('보십시오', 'Verb'), ('허벅다리', 'Noun'), ('도', 'Josa'), ('내', 'Noun'), ('놓고', 'Verb'), ('배꼽', 'Noun'), ('도', 'Josa'), ('내', 'Noun'), ('놓고', 'Verb'), ('그게', 'Noun'), ('무슨', 'Noun'), ('별', 'Modifier'), ('짓', 'Noun'), ('들', 'Suffix'), ('이야', 'Josa'), ('그러지', 'Adjective'), ('말고', 'Josa'), ('모조리', 'Noun'), ('벗고서', 'Verb'), ('다니지', 'Verb'), ('좀', 'Noun'), ('실례', 'Noun'), ('합니다이', 'Verb'), ('것', 'Noun'), ('이', 'Josa'), ('얼마', 'Noun'), ('입', 'Noun'), ('니까', 'Josa'), ('오천원', 'Noun'), ('입니다', 'Adjective'), ('조금', 'Noun'), ('만', 'Josa'), ('싸게', 'Verb'), ('안될까', 'Adjective'), ('요', 'Noun'), ('그렇게', 'Adverb'), ('해야', 'Verb'), ('다시', 'Noun'), ('올', 'Verb'), ('거', 'Noun'), ('아닙니까', 'Adjective'), ('한라산', 'Noun'), ('으로', 'Josa'), ('가려', 'Verb'), ('하면', 'Verb'), ('어떻게', 'Adjective'), ('갑', 'Noun'), ('니까', 'Josa'), ('바다', 'Noun'), ('에는', 'Josa'), ('어떻게', 'Adjective'), ('갑', 'Noun'), ('니까', 'Josa'), ('차', 'Noun'), ('를', 'Josa'), ('타', 'Modifier'), ('려고', 'Noun'), ('하면', 'Verb'), ('많이', 'Adverb'), ('가야', 'Noun'), ('합', 'Noun'), ('니까', 'Josa'), ('제주도', 'Noun'), ('엔', 'Josa'), ('가다가', 'Noun'), ('봐도', 'Verb'), ('바다', 'Noun'), ('입니다', 'Adjective'), ('예', 'Noun'), ('들어', 'Verb'), ('와서', 'Verb'), ('놀다가', 'Verb'), ('가십시오', 'Verb'), ('그렇게', 'Adverb'), ('할까', 'Verb'), ('요', 'Modifier'), ('여기', 'Noun'), ('불', 'Noun'), ('옆', 'Noun'), ('으로', 'Josa'), ('앉으십시오', 'Verb'), ('따뜻합니다', 'Adjective'), ('정말', 'Noun'), ('따뜻한', 'Adjective'), ('것', 'Noun'), ('이', 'Josa'), ('좋습니다', 'Adjective'), ('무엇', 'Noun'), ('이라고', 'Josa'), ('귓속말', 'Noun'), ('을', 'Josa'), ('하고', 'Verb'), ('있느냐', 'Adjective'), ('처녀', 'Noun'), ('시집', 'Noun'), ('보내겠다고', 'Verb'), ('말', 'Noun'), ('합니다', 'Verb'), ('그렇게', 'Adverb'), ('해야지', 'Verb'), ('잘', 'Verb'), ('생각', 'Noun'), ('했구나', 'Verb'), ('딸', 'Noun'), ('은', 'Josa'), ('나이', 'Noun'), ('가', 'Josa'), ('들면', 'Verb'), ('빨리', 'Adverb'), ('시집', 'Noun'), ('보내야', 'Verb'), ('한다', 'Verb'), ('그렇게', 'Adverb'), ('안절부절', 'Adverb'), ('날뛰지', 'Verb'), ('말아라', 'Verb'), ('차근차근', 'Noun'), ('말', 'Noun'), ('을', 'Josa'), ('듣고서', 'Verb'), ('생각', 'Noun'), ('해라', 'Verb'), ('어떻게', 'Adjective'), ('된', 'Verb'), ('일인', 'Noun'), ('지', 'Josa'), ('알아야', 'Verb'), ('할', 'Verb'), ('것', 'Noun'), ('이', 'Josa'), ('아니냐', 'Adjective'), ('그렇게', 'Adverb'), ('하다가', 'Verb'), ('숨', 'Noun'), ('넘어', 'Verb'), ('가겠다', 'Verb'), ('달콤한', 'Adjective'), ('거', 'Noun'), ('없습니까', 'Adjective'), ('글쎄', 'Noun'), ('어떤', 'Adjective'), ('것', 'Noun'), ('이', 'Josa'), ('달콤할까', 'Adjective'), ('사탕', 'Noun'), ('을', 'Josa'), ('주면', 'Verb'), ('어떻습니까', 'Adjective'), ('아닙니다', 'Adjective'), ('그럼', 'Adjective'), ('삶은', 'Verb'), ('달걀', 'Noun'), ('이나', 'Josa'), ('하나', 'Noun'), ('주', 'Modifier'), ('십', 'Modifier'), ('시오', 'Noun'), ('어디', 'Noun'), ('로', 'Josa'), ('가십', 'Noun'), ('니까', 'Josa'), ('이', 'Determiner'), ('리', 'Noun'), ('로', 'Josa'), ('오십', 'Modifier'), ('시오', 'Noun'), ('걱정', 'Noun'), ('하면서', 'Verb'), ('살', 'Noun'), ('지', 'Josa'), ('마십시오', 'Verb'), ('이렇게', 'Adverb'), ('살아도', 'Verb'), ('한', 'Verb'), ('세상', 'Noun'), ('저렇게', 'Adverb'), ('살아도', 'Verb'), ('한', 'Verb'), ('세상', 'Noun'), ('둘', 'Noun'), ('이', 'Josa'), ('둥실', 'Noun'), ('너', 'Noun'), ('하고', 'Josa'), ('나하', 'Noun'), ('고', 'Josa'), ('사랑', 'Noun'), ('이나', 'Josa'), ('합시다', 'Verb'), ('앞', 'Noun'), ('나무', 'Noun'), ('에', 'Josa'), ('앉은', 'Verb'), ('새야', 'Verb'), ('왜', 'Noun'), ('그리', 'Verb'), ('울', 'Noun'), ('고', 'Josa'), ('있느냐', 'Adjective'), ('서울', 'Noun'), ('간', 'Noun'), ('우리', 'Noun'), ('남편', 'Noun'), ('빨리', 'Adverb'), ('오라', 'Noun'), ('고', 'Josa'), ('울', 'Noun'), ('고', 'Josa'), ('있느냐', 'Adjective'), ('저승', 'Noun'), ('간', 'Noun'), ('우리', 'Noun'), ('어머니', 'Noun'), ('그리워서', 'Adjective'), ('울', 'Noun'), ('고', 'Josa'), ('있느냐', 'Adjective'), ('내', 'Determiner'), ('마음', 'Noun'), ('아는', 'Verb'), ('건', 'Noun'), ('저', 'Noun'), ('새', 'Noun'), ('뿐이로구나', 'Adjective'), ('저기', 'Noun'), ('봐라', 'Verb'), ('너희', 'Noun'), ('아버지', 'Noun'), ('어머니', 'Noun'), ('함께', 'Adverb'), ('가네', 'Verb'), ('글쎄', 'Noun'), ('어디', 'Noun'), ('가고', 'Verb'), ('있는가', 'Adjective'), ('할아버지', 'Noun'), ('할머니', 'Noun'), ('는', 'Josa'), ('없네', 'Adjective'), ('친족', 'Noun'), ('집', 'Noun'), ('에', 'Josa'), ('상', 'Noun'), ('을', 'Josa'), ('당해서', 'Adjective'), ('가고', 'Verb'), ('있을', 'Adjective'), ('겁니다', 'Verb'), ('무엇', 'Noun'), ('을', 'Josa'), ('하십니까', 'Verb'), ('빨리', 'Adverb'), ('오십', 'Modifier'), ('시오', 'Noun'), ('왜', 'Noun'), ('그렇게', 'Adverb'), ('바쁘게', 'Adjective'), ('보채느냐', 'Verb'), ('해', 'Noun'), ('저물면', 'Verb'), ('어떻게', 'Adjective'), ('합', 'Noun'), ('니까', 'Josa'), ('캄캄하면', 'Adjective'), ('길', 'Noun'), ('잃어버려', 'Verb'), ('큰', 'Verb'), ('일', 'Noun'), ('납', 'Noun'), ('니', 'Josa'), ('다가서', 'Verb'), ('보라', 'Noun'), ('너희', 'Noun'), ('새신랑', 'Noun'), ('이', 'Josa'), ('왔다', 'Verb'), ('아이구', 'Exclamation'), ('부끄러워서', 'Adjective'), ('어떻게', 'Adjective'), ('합', 'Noun'), ('니까', 'Josa'), ('어허', 'Exclamation'), ('호강', 'Noun'), ('에', 'Josa'), ('넘친', 'Adjective'), ('소리', 'Noun'), ('하지', 'Verb'), ('마라어서', 'Adjective'), ('가서', 'Verb'), ('오셨습니까', 'Verb'), ('하고', 'Verb'), ('인사', 'Noun'), ('해', 'Noun'), ('라', 'Josa'), ('어디', 'Noun'), ('갔다', 'Verb'), ('오십', 'Noun'), ('니까', 'Josa'), ('밭', 'Noun'), ('에', 'Josa'), ('갔다', 'Verb'), ('온다', 'Verb'), ('어디', 'Noun'), ('에', 'Josa'), ('가느냐', 'Adjective'), ('바다', 'Noun'), ('에', 'Josa'), ('고기', 'Noun'), ('잡', 'Noun'), ('으로', 'Josa'), ('갑니다', 'Verb'), ('파도', 'Noun'), ('가', 'Josa'), ('거세', 'Noun'), ('더', 'Noun'), ('라', 'Josa'), ('조심하고', 'Verb'), ('일찍', 'Noun'), ('오', 'Modifier'), ('너', 'Modifier'), ('라이', 'Noun'), ('제', 'Noun'), ('는', 'Josa'), ('너', 'Noun'), ('의', 'Josa'), ('인생', 'Noun'), ('은', 'Josa'), ('네', 'Noun'), ('가', 'Josa'), ('알아서', 'Verb'), ('가야', 'Noun'), ('한다', 'Verb'), ('알았습니다', 'Verb'), ('잘', 'Verb'), ('살겠으니', 'Verb'), ('걱정', 'Noun'), ('마십시', 'Verb'), ('오그', 'Noun'), ('래', 'Josa'), ('아는', 'Verb'), ('길도', 'Adjective'), ('물으면서', 'Verb'), ('가라', 'Noun'), ('조심하면서', 'Verb'), ('가는', 'Verb'), ('길은', 'Adjective'), ('편안하다', 'Adjective'), ('무엇', 'Noun'), ('을', 'Josa'), ('하십니까', 'Verb'), ('어서', 'Noun'), ('오십', 'Modifier'), ('시', 'Modifier'), ('오그', 'Noun'), ('래', 'Josa'), ('알았다', 'Verb'), ('어서', 'Noun'), ('가자', 'Verb'), ('쓰러지지는', 'Verb'), ('말고', 'Josa'), ('오십', 'Modifier'), ('시오', 'Noun'), ('돌', 'Noun'), ('조심하고', 'Verb'), ('곧장', 'Noun'), ('오십', 'Modifier'), ('시오', 'Noun'), ('제주도', 'Noun'), ('처녀', 'Noun'), ('가', 'Josa'), ('그렇게도', 'Adjective'), ('좋으냐', 'Adjective'), ('말로', 'Noun'), ('해서는', 'Verb'), ('모릅니다', 'Verb'), ('와서', 'Verb'), ('보아', 'Noun'), ('야', 'Josa'), ('알', 'Noun'), ('수', 'Noun'), ('있습니다', 'Adjective'), ('마음', 'Noun'), ('도', 'Josa'), ('좋고', 'Adjective'), ('얼굴', 'Noun'), ('도', 'Josa'), ('좋고', 'Adjective'), ('집안', 'Noun'), ('도', 'Josa'), ('좋습니다', 'Adjective'), ('여보', 'Noun'), ('나', 'Noun'), ('등', 'Noun'), ('허리', 'Noun'), ('가', 'Josa'), ('가렵다', 'Noun'), ('어디', 'Noun'), ('이렇게', 'Adverb'), ('하세요', 'Verb'), ('보게', 'Verb'), ('아이구', 'Exclamation'), ('벌레', 'Noun'), ('가', 'Josa'), ('물었', 'Verb'), ('네', 'Determiner'), ('요약', 'Noun'), ('발라', 'Noun'), ('야', 'Josa'), ('하겠습니다', 'Verb'), ('달', 'Noun'), ('아', 'Josa'), ('맨', 'Noun'), ('돼지', 'Noun'), ('야', 'Josa'), ('너', 'Noun'), ('의', 'Josa'), ('신세', 'Noun'), ('가', 'Josa'), ('불쌍하구나', 'Adjective'), ('아이구', 'Exclamation'), ('불', 'Noun'), ('에', 'Josa'), ('구워지는', 'Verb'), ('돼지야내', 'Verb'), ('걱정', 'Noun'), ('은', 'Josa'), ('말고', 'Josa'), ('너', 'Noun'), ('죽어', 'Verb'), ('가는', 'Verb'), ('거나', 'Noun'), ('걱정', 'Noun'), ('하', 'Suffix'), ('거', 'Noun'), ('라', 'Josa'), ('죽어', 'Verb'), ('가는', 'Verb'), ('것', 'Noun'), ('이', 'Josa'), ('별', 'Noun'), ('것', 'Noun'), ('을', 'Josa'), ('다', 'Adverb'), ('걱정', 'Noun'), ('하고', 'Josa'), ('있니', 'Adjective'), ('돌', 'Noun'), ('구멍', 'Noun'), ('으로', 'Josa'), ('보아', 'Noun'), ('라', 'Josa'), ('꽃들이', 'Noun'), ('모두', 'Noun'), ('모', 'Noun'), ('여서', 'Josa'), ('피어', 'Noun'), ('있구나우리', 'Adjective'), ('님', 'Noun'), ('의', 'Josa'), ('얼굴', 'Noun'), ('도', 'Josa'), ('꽃', 'Noun'), ('이', 'Josa'), ('되어', 'Verb'), ('피고', 'Noun'), ('있구나', 'Adjective'), ('사랑', 'Noun'), ('사랑', 'Noun'), ('사랑', 'Noun'), ('꽃', 'Noun'), ('도', 'Josa'), ('가득하게', 'Adjective'), ('피고', 'Noun'), ('있구나고기', 'Adjective'), ('멍청한', 'Adjective'), ('것', 'Noun'), ('은', 'Josa'), ('잡아나', 'Verb'), ('먹고', 'Verb'), ('나무', 'Noun'), ('멍청한', 'Adjective'), ('것', 'Noun'), ('은', 'Josa'), ('불', 'Noun'), ('이나', 'Josa'), ('때', 'Noun'), ('고', 'Josa'), ('돌', 'Noun'), ('멍청한', 'Adjective'), ('것', 'Noun'), ('은', 'Josa'), ('담', 'Noun'), ('이나', 'Josa'), ('쌓는다', 'Verb'), ('사람', 'Noun'), ('멍청한', 'Adjective'), ('것', 'Noun'), ('은', 'Josa'), ('아무', 'Noun'), ('것', 'Noun'), ('에도', 'Josa'), ('못', 'Noun'), ('쓰겠구나', 'Verb'), ('너', 'Noun'), ('하고', 'Josa'), ('나하', 'Noun'), ('고', 'Josa'), ('두', 'Noun'), ('사람', 'Noun'), ('이', 'Josa'), ('둥실', 'Noun'), ('낮', 'Noun'), ('에', 'Josa'), ('낮', 'Noun'), ('이나', 'Josa'), ('밤', 'Noun'), ('에', 'Josa'), ('밤', 'Noun'), ('이나', 'Josa'), ('서로', 'Noun'), ('사랑', 'Noun'), ('이', 'Determiner'), ('로구나', 'Noun'), ('아침', 'Noun'), ('에', 'Josa'), ('우는', 'Verb'), ('새는', 'Verb'), ('배', 'Noun'), ('가', 'Josa'), ('고파', 'Adjective'), ('울', 'Modifier'), ('고요', 'Noun'), ('저녁', 'Noun'), ('에', 'Josa'), ('우는', 'Verb'), ('새는', 'Verb'), ('님', 'Suffix'), ('그리워서', 'Adjective'), ('운다', 'Verb'), ('넓은', 'Adjective'), ('바다', 'Noun'), ('앞', 'Noun'), ('을', 'Josa'), ('재면서', 'Verb'), ('한', 'Verb'), ('길', 'Noun'), ('두', 'Noun'), ('길', 'Noun'), ('앞', 'Noun'), ('으로', 'Josa'), ('가고', 'Verb'), ('깊은', 'Adjective'), ('바다', 'Noun'), ('깊이', 'Noun'), ('를', 'Josa'), ('재며', 'Verb'), ('한', 'Verb'), ('길', 'Noun'), ('두', 'Noun'), ('길', 'Noun'), ('들어가면', 'Verb'), ('저승', 'Noun'), ('길이', 'Noun'), ('오락', 'Noun'), ('가락', 'Noun'), ('이어도', 'Noun'), ('사나', 'Noun'), ('이어도', 'Noun'), ('사나', 'Noun'), ('이어도', 'Noun'), ('가', 'Josa'), ('저승', 'Noun'), ('길', 'Noun'), ('의', 'Josa'), ('반', 'Noun'), ('이라', 'Josa'), ('한다', 'Verb'), ('새신랑', 'Noun'), ('들어', 'Verb'), ('온다', 'Verb'), ('저리', 'Noun'), ('로', 'Josa'), ('비켜', 'Verb'), ('서라', 'Verb'), ('이렇게', 'Adverb'), ('하십시오', 'Verb'), ('조금', 'Noun'), ('만', 'Josa'), ('봅시다', 'Verb'), ('알맞게', 'Adjective'), ('살찐', 'Noun'), ('모습', 'Noun'), ('이', 'Josa'), ('잘', 'Verb'), ('생겼구나', 'Verb'), ('말', 'Noun'), ('도', 'Josa'), ('안', 'Noun'), ('듣고', 'Verb'), ('일도', 'Noun'), ('안', 'Noun'), ('하고', 'Verb'), ('정말', 'Noun'), ('그렇게', 'Adverb'), ('하면', 'Verb'), ('들러', 'Verb'), ('메어', 'Verb'), ('던져', 'Verb'), ('버리겠어', 'Verb'), ('사람', 'Noun'), ('은', 'Josa'), ('일', 'Noun'), ('을', 'Josa'), ('해야', 'Verb'), ('살', 'Noun'), ('수', 'Noun'), ('있는', 'Adjective'), ('거', 'Noun'), ('야', 'Josa'), ('조금씩', 'Adverb'), ('먹어라', 'Verb'), ('숨', 'Noun'), ('넘어간다', 'Verb'), ('배', 'Noun'), ('고파서', 'Adjective'), ('말', 'Noun'), ('입니다', 'Adjective'), ('그렇게', 'Adverb'), ('먹다간', 'Verb'), ('숨', 'Noun'), ('이', 'Josa'), ('막히겠다', 'Verb'), ('누가', 'Noun'), ('훔쳐', 'Verb'), ('가지', 'Noun'), ('않으니', 'Verb'), ('천천히', 'Adverb'), ('먹어라', 'Verb'), ('사람', 'Noun'), ('있습니까', 'Adjective'), ('누구', 'Noun'), ('십', 'Suffix'), ('니까', 'Josa'), ('윗', 'Noun'), ('동네', 'Noun'), ('갑', 'Noun'), ('돌이', 'Noun'), ('어머니', 'Noun'), ('입니다', 'Adjective'), ('아이구', 'Exclamation'), ('어떻게', 'Adjective'), ('해서', 'Verb'), ('왔습니까', 'Verb'), ('우리', 'Noun'), ('딸', 'Noun'), ('은', 'Josa'), ('아무', 'Modifier'), ('것', 'Noun'), ('도', 'Josa'), ('모릅니다', 'Verb'), ('세상', 'Noun'), ('물정', 'Noun'), ('잘', 'Verb'), ('모르는', 'Verb'), ('아이', 'Noun'), ('어린', 'Verb'), ('아이', 'Noun'), ('입니다잘', 'Adjective'), ('데리', 'Noun'), ('고', 'Josa'), ('살', 'Noun'), ('아', 'Josa'), ('주', 'Modifier'), ('십', 'Modifier'), ('시오', 'Noun'), ('가르치면서', 'Verb'), ('살아야', 'Verb'), ('할', 'Verb'), ('겁니다', 'Verb'), ('무엇', 'Noun'), ('을', 'Josa'), ('잘', 'Verb'), ('했다고', 'Verb'), ('큰', 'Verb'), ('소리', 'Noun'), ('입', 'Noun'), ('니까', 'Josa'), ('방귀', 'Noun'), ('뀐', 'Noun'), ('놈', 'Noun'), ('이', 'Josa'), ('화', 'Noun'), ('내고', 'Verb'), ('있네', 'Adjective'), ('누가', 'Noun'), ('입', 'Noun'), ('이', 'Josa'), ('없어서', 'Adjective'), ('말', 'Noun'), ('을', 'Josa'), ('못', 'Noun'), ('하는줄', 'Verb'), ('아는가', 'Verb'), ('지렁이', 'Noun'), ('도', 'Josa'), ('밟으면', 'Verb'), ('꿈틀', 'Noun'), ('거립니', 'Noun'), ('다', 'Josa'), ('예제', 'Noun'), ('마음', 'Noun'), ('모르겠습니까', 'Verb'), ('당신', 'Noun'), ('만', 'Josa'), ('보면', 'Verb'), ('가슴', 'Noun'), ('이', 'Josa'), ('두근', 'Adverb'), ('두근', 'Adverb'), ('이러지도', 'Verb'), ('못', 'Noun'), ('하고', 'Josa'), ('저러지도', 'Verb'), ('못', 'Noun'), ('하고', 'Josa'), ('제', 'Noun'), ('마음', 'Noun'), ('저', 'Noun'), ('도', 'Josa'), ('모르겠습니다', 'Verb'), ('언제', 'Noun'), ('오셨습니까', 'Verb'), ('한', 'Verb'), ('사', 'Modifier'), ('나흘', 'Noun'), ('되었습니다', 'Verb'), ('모두', 'Noun'), ('편안', 'Noun'), ('했습니까', 'Verb'), ('어떻게', 'Adjective'), ('살', 'Noun'), ('고', 'Josa'), ('있습니까', 'Adjective'), ('시집가니까', 'Verb'), ('어땠습니까', 'Adjective'), ('아이고', 'Exclamation'), ('말', 'Noun'), ('도', 'Josa'), ('마라', 'Adjective'), ('뭐', 'Noun'), ('가', 'Josa'), ('뭔', 'Modifier'), ('지', 'Modifier'), ('눈앞', 'Noun'), ('이', 'Josa'), ('캄캄하니', 'Adjective'), ('정신', 'Noun'), ('이', 'Josa'), ('없더라', 'Adjective'), ('서울', 'Noun'), ('에는', 'Josa'), ('언제', 'Noun'), ('가겠습니까', 'Verb'), ('갈', 'Verb'), ('때', 'Noun'), ('는', 'Josa'), ('나를', 'Verb'), ('데리', 'Noun'), ('고', 'Josa'), ('가', 'Verb'), ('주', 'Modifier'), ('십', 'Modifier'), ('시오', 'Noun'), ('서울', 'Noun'), ('가서', 'Verb'), ('무엇', 'Noun'), ('을', 'Josa'), ('하려고', 'Verb'), ('구경', 'Noun'), ('도', 'Josa'), ('하고', 'Verb'), ('서울', 'Noun'), ('사랑', 'Noun'), ('도', 'Josa'), ('해', 'Noun'), ('보려고요', 'Verb'), ('왜', 'Noun'), ('뭐라고', 'Verb'), ('말', 'Noun'), ('하던가요', 'Verb'), ('살짝', 'Noun'), ('와서', 'Verb'), ('말', 'Noun'), ('하십시오', 'Verb'), ('들어', 'Verb'), ('봅시다', 'Verb'), ('글쎄', 'Noun'), ('말', 'Noun'), ('할까', 'Verb'), ('말까', 'Verb'), ('속', 'Noun'), ('태우지', 'Verb'), ('말고', 'Josa'), ('빨리', 'Adverb'), ('하십시오', 'Verb'), ('그럼', 'Adjective'), ('남', 'Noun'), ('한', 'Determiner'), ('테', 'Noun'), ('는', 'Josa'), ('아무', 'Noun'), ('말', 'Noun'), ('도', 'Josa'), ('하지', 'Verb'), ('마십시오', 'Verb'), ('네', 'Determiner'), ('누구', 'Noun'), ('있습니까', 'Adjective'), ('안녕', 'Noun'), ('하십니까', 'Verb'), ('아버지', 'Noun'), ('어머니', 'Noun'), ('모두', 'Noun'), ('편안', 'Noun'), ('하셨습니까', 'Verb'), ('어디', 'Noun'), ('갔다가', 'Verb'), ('오십', 'Noun'), ('니까', 'Josa'), ('요새', 'Noun'), ('어떻게', 'Adjective'), ('사십', 'Noun'), ('니까', 'Josa'), ('좋습니까', 'Adjective'), ('어디', 'Noun'), ('로', 'Josa'), ('가십', 'Noun'), ('니까', 'Josa'), ('이', 'Determiner'), ('리', 'Noun'), ('로', 'Josa'), ('오십', 'Modifier'), ('시오', 'Noun'), ('어', 'Suffix'), ('서', 'Josa'), ('어서', 'Noun'), ('오십', 'Modifier'), ('시오', 'Noun'), ('살짝', 'Noun'), ('살짝', 'Noun'), ('오십', 'Modifier'), ('시오', 'Noun'), ('너', 'Noun'), ('랑', 'Josa'), ('나', 'Noun'), ('랑', 'Josa'), ('둘', 'Noun'), ('이', 'Josa'), ('둥실', 'Noun'), ('사랑', 'Noun'), ('이나', 'Josa'), ('합시다요', 'Verb'), ('정말로', 'Adverb'), ('가시겠습니까', 'Verb'), ('글세', 'Noun'), ('어쩔', 'Modifier'), ('수가', 'Noun'), ('없단다', 'Adjective'), ('그럼', 'Adjective'), ('나', 'Noun'), ('혼자', 'Noun'), ('만', 'Josa'), ('어떻게', 'Adjective'), ('살라', 'Noun'), ('고', 'Josa'), ('하십니까', 'Verb'), ('어쩔', 'Adverb'), ('수', 'Noun'), ('없지', 'Adjective'), ('않느냐', 'Verb'), ('조금', 'Noun'), ('만', 'Josa'), ('참고', 'Noun'), ('살', 'Noun'), ('고', 'Josa'), ('있어다오', 'Adjective'), ('떠나는', 'Verb'), ('내', 'Noun'), ('마음', 'Noun'), ('도', 'Josa'), ('울', 'Noun'), ('고', 'Josa'), ('싶단다', 'Verb'), ('우리', 'Noun'), ('어머니', 'Noun'), ('사는', 'Verb'), ('바다', 'Noun'), ('우리', 'Noun'), ('목숨', 'Noun'), ('을', 'Josa'), ('키운', 'Verb'), ('바다', 'Noun'), ('동쪽', 'Noun'), ('으로', 'Josa'), ('가면', 'Noun'), ('동의', 'Noun'), ('바다', 'Noun'), ('서쪽', 'Noun'), ('으로', 'Josa'), ('가면', 'Noun'), ('서의', 'Verb'), ('바다', 'Noun'), ('바람', 'Noun'), ('이', 'Josa'), ('불면', 'Noun'), ('파도', 'Noun'), ('가', 'Josa'), ('치고', 'Josa'), ('비', 'Noun'), ('가', 'Josa'), ('오면', 'Verb'), ('날', 'Noun'), ('이', 'Josa'), ('저물고', 'Verb'), ('하늘', 'Noun'), ('같은', 'Adjective'), ('용왕', 'Noun'), ('님', 'Suffix'), ('이여', 'Josa'), ('명주실', 'Noun'), ('같이', 'Josa'), ('잔잔한', 'Adjective'), ('바다', 'Noun'), ('만들어서', 'Verb'), ('우리', 'Noun'), ('어머니', 'Noun'), ('서러운', 'Adjective'), ('가슴', 'Noun'), ('편안하게', 'Adjective'), ('하여', 'Verb'), ('주소', 'Noun'), ('서', 'Josa'), ('어떻게', 'Adjective'), ('살', 'Noun'), ('면', 'Josa'), ('되겠습니까', 'Verb'), ('왜', 'Noun'), ('그렇게', 'Adverb'), ('걱정', 'Noun'), ('하면서', 'Verb'), ('사십', 'Noun'), ('니까', 'Josa'), ('참으면서', 'Verb'), ('사십', 'Modifier'), ('시오', 'Noun'), ('그러다', 'Adjective'), ('보면', 'Verb'), ('살', 'Noun'), ('아', 'Josa'), ('갈', 'Verb'), ('수', 'Noun'), ('있습니다', 'Adjective'), ('어서', 'Noun'), ('오십', 'Modifier'), ('시오', 'Noun'), ('어서', 'Noun'), ('오', 'Modifier'), ('너', 'Noun'), ('라', 'Josa'), ('잠깐', 'Noun'), ('있으십시오', 'Adjective'), ('잠깐', 'Noun'), ('있어라', 'Adjective'), ('무엇', 'Noun'), ('을', 'Josa'), ('하십니까', 'Verb'), ('무엇', 'Noun'), ('을', 'Josa'), ('하느냐', 'Verb'), ('왜', 'Noun'), ('그렇게', 'Adverb'), ('급하십니까', 'Adjective'), ('왜', 'Noun'), ('그렇게', 'Adverb'), ('급하냐', 'Adjective'), ('그래요', 'Adjective'), ('빨리', 'Adverb'), ('오십', 'Modifier'), ('시', 'Modifier'), ('오그', 'Noun'), ('래', 'Josa'), ('빨리', 'Adverb'), ('오', 'Modifier'), ('너', 'Noun'), ('라', 'Josa'), ('색시', 'Noun'), ('구', 'Noun'), ('할', 'Verb'), ('때', 'Noun'), ('는', 'Josa'), ('마음', 'Noun'), ('을', 'Josa'), ('봐라', 'Verb'), ('얼굴', 'Noun'), ('고운', 'Adjective'), ('것', 'Noun'), ('은', 'Josa'), ('한', 'Verb'), ('달이', 'Noun'), ('여', 'Josa'), ('날씬하고', 'Adjective'), ('멋진', 'Adjective'), ('것', 'Noun'), ('은', 'Josa'), ('일', 'Noun'), ('년', 'Noun'), ('이야', 'Josa'), ('마음', 'Noun'), ('착한', 'Adjective'), ('건', 'Noun'), ('십', 'Noun'), ('년', 'Noun'), ('이', 'Josa'), ('되고', 'Verb'), ('백', 'Noun'), ('년', 'Noun'), ('이', 'Josa'), ('되도', 'Verb'), ('저', 'Noun'), ('소나무', 'Noun'), ('처럼', 'Noun'), ('청청', 'Noun'), ('하', 'Suffix'), ('다', 'Josa'), ('어느', 'Adverb'), ('마을', 'Noun'), ('에', 'Josa'), ('갑', 'Noun'), ('돌이', 'Noun'), ('라고', 'Josa'), ('하는', 'Verb'), ('사나이', 'Noun'), ('와', 'Josa'), ('갑순이', 'Noun'), ('라고', 'Josa'), ('하는', 'Verb'), ('처녀', 'Noun'), ('가', 'Josa'), ('살았습니다', 'Verb'), ('두', 'Noun'), ('사람', 'Noun'), ('은', 'Josa'), ('좋아', 'Adjective'), ('하면서도', 'Verb'), ('말', 'Noun'), ('은', 'Josa'), ('못', 'Noun'), ('하고', 'Josa'), ('속', 'Noun'), ('으로는', 'Josa'), ('타면서도', 'Verb'), ('그', 'Noun'), ('까짓', 'Modifier'), ('거', 'Noun'), ('하였답니다', 'Verb'), ('그렇게', 'Adverb'), ('하다가', 'Verb'), ('갑순이', 'Noun'), ('가', 'Josa'), ('시집', 'Noun'), ('을', 'Josa'), ('가게', 'Noun'), ('되니까', 'Verb'), ('그때', 'Noun'), ('야', 'Josa'), ('갑', 'Noun'), ('돌이', 'Noun'), ('가', 'Josa'), ('아이구', 'Exclamation'), ('어머니', 'Noun'), ('하면서', 'Verb'), ('울었습니다', 'Verb'), ('그렇게', 'Adverb'), ('하더라도', 'Verb'), ('어떻게', 'Adjective'), ('합', 'Noun'), ('니까', 'Josa'), ('할', 'Verb'), ('수가', 'Noun'), ('없었습니다', 'Adjective'), ('갑', 'Noun'), ('돌이', 'Noun'), ('도', 'Josa'), ('화가', 'Noun'), ('나서', 'Verb'), ('장가', 'Noun'), ('를', 'Josa'), ('가', 'Verb'), ('버렸습니다', 'Verb'), ('장가', 'Noun'), ('가는', 'Verb'), ('날', 'Noun'), ('은', 'Josa'), ('갑순이', 'Noun'), ('도', 'Josa'), ('부엌', 'Noun'), ('에서', 'Josa'), ('울었습니다', 'Verb'), ('갑순이', 'Noun'), ('마음', 'Noun'), ('도', 'Josa'), ('갑', 'Noun'), ('돌이', 'Noun'), ('뿐이었습니다만', 'Adjective'), ('어찌', 'Noun'), ('합', 'Noun'), ('니까', 'Josa'), ('사람', 'Noun'), ('팔자', 'Noun'), ('는', 'Josa'), ('참으로', 'Noun'), ('모르는', 'Verb'), ('것', 'Noun'), ('입니다', 'Adjective'), ('그러니', 'Adjective'), ('어떻게', 'Adjective'), ('살까', 'Verb'), ('걱정', 'Noun'), ('하면서', 'Verb'), ('살', 'Noun'), ('지', 'Josa'), ('마십시오', 'Verb'), ('살다', 'Verb'), ('보면', 'Verb'), ('타고난', 'Verb'), ('운명', 'Noun'), ('대로', 'Josa'), ('다', 'Adverb'), ('살기', 'Noun'), ('마련', 'Noun'), ('입니다', 'Adjective'), ('물동이', 'Noun'), ('지고', 'Noun'), ('가는', 'Verb'), ('저', 'Noun'), ('처녀', 'Noun'), ('야', 'Josa'), ('물', 'Noun'), ('만', 'Josa'), ('지고', 'Noun'), ('가지', 'Noun'), ('말고', 'Josa'), ('이', 'Noun'), ('총각', 'Noun'), ('의', 'Josa'), ('마음', 'Noun'), ('도', 'Josa'), ('지고', 'Noun'), ('가다오', 'Verb'), ('사랑', 'Noun'), ('한다고', 'Verb'), ('말', 'Noun'), ('은', 'Josa'), ('못', 'Noun'), ('하고', 'Josa'), ('돌틈', 'Noun'), ('에', 'Josa'), ('숨은', 'Verb'), ('새', 'Noun'), ('같이', 'Adverb'), ('가슴', 'Noun'), ('만', 'Josa'), ('철렁', 'Noun'), ('철렁', 'Noun'), ('어떻게', 'Adjective'), ('하면', 'Verb'), ('좋겠습니까', 'Adjective'), ('요', 'Noun'), ('먹을', 'Verb'), ('수', 'Noun'), ('있는', 'Adjective'), ('것', 'Noun'), ('이', 'Determiner'), ('라면', 'Noun'), ('따뜻할', 'Adjective'), ('때', 'Noun'), ('후루룩', 'Noun'), ('마셔', 'Verb'), ('버리', 'Verb'), ('기', 'Noun'), ('나', 'Josa'), ('한다', 'Verb'), ('물이', 'Noun'), ('나', 'Josa'), ('된다면', 'Verb'), ('물동이', 'Noun'), ('속', 'Noun'), ('으로', 'Josa'), ('풍덩', 'Adverb'), ('들어', 'Verb'), ('가기', 'Noun'), ('나', 'Josa'), ('한다', 'Verb'), ('이렇게도', 'Adjective'), ('못', 'Noun'), ('하고', 'Josa'), ('저렇게도', 'Adjective'), ('못', 'Noun'), ('하고', 'Josa'), ('처녀', 'Noun'), ('야', 'Josa'), ('참말', 'Noun'), ('로', 'Josa'), ('죽겠다', 'Verb'), ('총각', 'Noun'), ('이', 'Josa'), ('타는', 'Verb'), ('마음', 'Noun'), ('을', 'Josa'), ('조금', 'Noun'), ('만이라도', 'Josa'), ('알아다오', 'Verb'), ('우리', 'Noun'), ('제주도', 'Noun'), ('할아버지', 'Noun'), ('들', 'Suffix'), ('이', 'Josa'), ('하시는', 'Verb'), ('말씀', 'Noun'), ('이', 'Josa'), ('있습니다', 'Adjective'), ('밭', 'Noun'), ('을', 'Josa'), ('살', 'Noun'), ('때', 'Noun'), ('는', 'Josa'), ('밭', 'Noun'), ('옆', 'Noun'), ('을', 'Josa'), ('보고', 'Noun'), ('사라', 'Noun'), ('집', 'Noun'), ('을', 'Josa'), ('살', 'Noun'), ('때', 'Noun'), ('는', 'Josa'), ('이웃', 'Noun'), ('들', 'Suffix'), ('을', 'Josa'), ('보고', 'Noun'), ('사라', 'Noun'), ('산', 'Noun'), ('을', 'Josa'), ('사려', 'Noun'), ('면', 'Josa'), ('암', 'Modifier'), ('반', 'Noun'), ('을', 'Josa'), ('보고', 'Noun'), ('사라', 'Noun'), ('사돈', 'Noun'), ('을', 'Josa'), ('맺을', 'Verb'), ('때', 'Noun'), ('는', 'Josa'), ('집안', 'Noun'), ('의', 'Josa'), ('뿌리', 'Noun'), ('를', 'Josa'), ('보고', 'Noun'), ('하', 'Suffix'), ('라', 'Josa'), ('그리고', 'Conjunction'), ('우리', 'Noun'), ('어머니', 'Noun'), ('들', 'Suffix'), ('이', 'Josa'), ('가르친', 'Verb'), ('말씀', 'Noun'), ('이', 'Josa'), ('있습니다', 'Adjective'), ('어리광', 'Noun'), ('부리', 'Noun'), ('지', 'Josa'), ('말라', 'Adjective'), ('경솔하게', 'Adjective'), ('나서지', 'Verb'), ('말라', 'Adjective'), ('게으르지', 'Adjective'), ('말라', 'Adjective'), ('느림', 'Adjective'), ('보가', 'Noun'), ('되지', 'Verb'), ('말라', 'Adjective'), ('꾀', 'Noun'), ('부리', 'Noun'), ('며', 'Josa'), ('잘난', 'Adjective'), ('척', 'Noun'), ('말라', 'Adjective'), ('거만하지', 'Adjective'), ('말라', 'Adjective'), ('남', 'Noun'), ('의', 'Josa'), ('마음', 'Noun'), ('아프게', 'Adjective'), ('하지', 'Verb'), ('말라', 'Adjective'), ('그', 'Determiner'), ('래야', 'Noun'), ('하는', 'Verb'), ('일', 'Noun'), ('들', 'Suffix'), ('이', 'Josa'), ('편안히', 'Adjective'), ('잘', 'VerbPrefix'), ('된다', 'Verb'), ('살다', 'Verb'), ('보면', 'Verb'), ('잊어버릴', 'Verb'), ('대가', 'Noun'), ('있습니다만', 'Adjective'), ('우리', 'Noun'), ('할아버지', 'Noun'), ('할머니', 'Noun'), ('아버지', 'Noun'), ('어머니', 'Noun'), ('들', 'Suffix'), ('이', 'Josa'), ('하신', 'Verb'), ('말씀', 'Noun'), ('들', 'Suffix'), ('은', 'Josa'), ('정말로', 'Adverb'), ('소중한', 'Adjective'), ('교훈', 'Noun'), ('들입니다', 'Verb'), ('고맙습니다', 'Adjective'), ('가십시', 'Verb'), ('오제', 'Noun'), ('가', 'Josa'), ('당신', 'Noun'), ('을', 'Josa'), ('무척', 'Noun'), ('사랑', 'Noun'), ('합니다', 'Verb'), ('남편', 'Noun'), ('옆', 'Noun'), ('에', 'Josa'), ('같이', 'Adverb'), ('앉으세요', 'Verb'), ('사람', 'Noun'), ('있습니까', 'Adjective'), ('잘', 'Verb'), ('있었습니까', 'Adjective'), ('아버지', 'Noun'), ('어머니', 'Noun'), ('모두', 'Noun'), ('편안하셨습니까', 'Adjective'), ('머리', 'Noun'), ('조심하세요', 'Verb'), ('어디', 'Noun'), ('갔다가', 'Verb'), ('오십', 'Noun'), ('니까', 'Josa'), ('자기', 'Noun'), ('것', 'Noun'), ('은', 'Josa'), ('작게', 'Adjective'), ('보인다', 'Verb'), ('누구', 'Noun'), ('십', 'Suffix'), ('니까', 'Josa'), ('제', 'Noun'), ('얼굴', 'Noun'), ('이', 'Josa'), ('예쁘지요', 'Adjective'), ('별로', 'Noun'), ('이쁘지', 'Adjective'), ('않네요', 'Verb'), ('오천원', 'Noun'), ('입니다', 'Adjective'), ('큰일', 'Noun'), ('났습니다', 'Verb'), ('어떻게', 'Adjective'), ('생겼던가', 'Verb'), ('어디', 'Noun'), ('로', 'Josa'), ('모실까', 'Verb'), ('요', 'Modifier'), ('똑똑', 'Noun'), ('하고', 'Josa'), ('영리하게', 'Adjective'), ('생겼습니다', 'Verb'), ('제', 'Modifier'), ('주', 'Modifier'), ('특별자치도', 'Noun'), ('에서', 'Josa'), ('삽시다', 'Verb'), ('따스합니까', 'Adjective'), ('왜', 'Noun'), ('그러십니까', 'Adjective'), ('오시느라', 'Verb'), ('고생', 'Noun'), ('많으셨습니다', 'Adjective'), ('빨리', 'Adverb'), ('빨리', 'Adverb'), ('더', 'Noun'), ('빨리', 'Adverb'), ('오세요', 'Verb'), ('참말', 'Noun'), ('로', 'Josa'), ('이쁘고', 'Adjective'), ('둥실둥실', 'Noun'), ('합니다', 'Verb'), ('이', 'Determiner'), ('곳', 'Noun'), ('은', 'Josa'), ('바람', 'Noun'), ('도', 'Josa'), ('많이', 'Adverb'), ('불고있네', 'Verb'), ('소문나면', 'Verb'), ('저', 'Noun'), ('는', 'Josa'), ('모른다', 'Verb'), ('이', 'Determiner'), ('곳', 'Noun'), ('에', 'Josa'), ('있으니', 'Adjective'), ('엄마', 'Noun'), ('보고싶다', 'Verb'), ('지쳐서', 'Verb'), ('잠', 'Noun'), ('이', 'Josa'), ('온다', 'Verb'), ('햇볕', 'Noun'), ('은', 'Josa'), ('쨍쨍', 'Adverb'), ('모래알', 'Noun'), ('은', 'Josa'), ('반짝반짝', 'Adverb'), ('아무리', 'Adverb'), ('이야기', 'Noun'), ('하여도', 'Verb'), ('귀', 'Noun'), ('눈', 'Noun'), ('이', 'Josa'), ('캄캄', 'Noun'), ('그러기에', 'Conjunction'), ('말', 'Noun'), ('입니다나를', 'Adjective'), ('보십시오잘', 'Verb'), ('되어', 'Verb'), ('버렸다어마', 'Verb'), ('어떻게', 'Adjective'), ('하지', 'Verb'), ('\\n\\n', 'Foreign')]\n"
          ],
          "name": "stdout"
        }
      ]
    },
    {
      "cell_type": "code",
      "metadata": {
        "id": "cb-rawJfrdXK",
        "colab_type": "code",
        "colab": {
          "base_uri": "https://localhost:8080/",
          "height": 419
        },
        "outputId": "56cf1901-b3be-4e5a-e2a0-45e9417d164d"
      },
      "source": [
        "tag_kor = pd.DataFrame(okt.pos(output_last))\n",
        "tag_kor"
      ],
      "execution_count": 27,
      "outputs": [
        {
          "output_type": "execute_result",
          "data": {
            "text/html": [
              "<div>\n",
              "<style scoped>\n",
              "    .dataframe tbody tr th:only-of-type {\n",
              "        vertical-align: middle;\n",
              "    }\n",
              "\n",
              "    .dataframe tbody tr th {\n",
              "        vertical-align: top;\n",
              "    }\n",
              "\n",
              "    .dataframe thead th {\n",
              "        text-align: right;\n",
              "    }\n",
              "</style>\n",
              "<table border=\"1\" class=\"dataframe\">\n",
              "  <thead>\n",
              "    <tr style=\"text-align: right;\">\n",
              "      <th></th>\n",
              "      <th>0</th>\n",
              "      <th>1</th>\n",
              "    </tr>\n",
              "  </thead>\n",
              "  <tbody>\n",
              "    <tr>\n",
              "      <th>0</th>\n",
              "      <td>넘치도록</td>\n",
              "      <td>Adjective</td>\n",
              "    </tr>\n",
              "    <tr>\n",
              "      <th>1</th>\n",
              "      <td>강아지</td>\n",
              "      <td>Noun</td>\n",
              "    </tr>\n",
              "    <tr>\n",
              "      <th>2</th>\n",
              "      <td>부글부글</td>\n",
              "      <td>Adverb</td>\n",
              "    </tr>\n",
              "    <tr>\n",
              "      <th>3</th>\n",
              "      <td>하다가</td>\n",
              "      <td>Verb</td>\n",
              "    </tr>\n",
              "    <tr>\n",
              "      <th>4</th>\n",
              "      <td>랭</td>\n",
              "      <td>Noun</td>\n",
              "    </tr>\n",
              "    <tr>\n",
              "      <th>...</th>\n",
              "      <td>...</td>\n",
              "      <td>...</td>\n",
              "    </tr>\n",
              "    <tr>\n",
              "      <th>5826</th>\n",
              "      <td>되어</td>\n",
              "      <td>Verb</td>\n",
              "    </tr>\n",
              "    <tr>\n",
              "      <th>5827</th>\n",
              "      <td>버렸다어마</td>\n",
              "      <td>Verb</td>\n",
              "    </tr>\n",
              "    <tr>\n",
              "      <th>5828</th>\n",
              "      <td>어떻게</td>\n",
              "      <td>Adjective</td>\n",
              "    </tr>\n",
              "    <tr>\n",
              "      <th>5829</th>\n",
              "      <td>하지</td>\n",
              "      <td>Verb</td>\n",
              "    </tr>\n",
              "    <tr>\n",
              "      <th>5830</th>\n",
              "      <td>\\n\\n</td>\n",
              "      <td>Foreign</td>\n",
              "    </tr>\n",
              "  </tbody>\n",
              "</table>\n",
              "<p>5831 rows × 2 columns</p>\n",
              "</div>"
            ],
            "text/plain": [
              "          0          1\n",
              "0      넘치도록  Adjective\n",
              "1       강아지       Noun\n",
              "2      부글부글     Adverb\n",
              "3       하다가       Verb\n",
              "4         랭       Noun\n",
              "...     ...        ...\n",
              "5826     되어       Verb\n",
              "5827  버렸다어마       Verb\n",
              "5828    어떻게  Adjective\n",
              "5829     하지       Verb\n",
              "5830   \\n\\n    Foreign\n",
              "\n",
              "[5831 rows x 2 columns]"
            ]
          },
          "metadata": {
            "tags": []
          },
          "execution_count": 27
        }
      ]
    },
    {
      "cell_type": "code",
      "metadata": {
        "id": "8BZdZZgtre1S",
        "colab_type": "code",
        "colab": {}
      },
      "source": [
        "tag_kor.to_csv('tag_kor.txt', sep='\\t',encoding='utf-8',header=False,index=False)"
      ],
      "execution_count": 0,
      "outputs": []
    },
    {
      "cell_type": "code",
      "metadata": {
        "id": "HaWvRZMXrgDC",
        "colab_type": "code",
        "colab": {}
      },
      "source": [
        "# 품사 태깅 완료!!!!!!!!!!!"
      ],
      "execution_count": 0,
      "outputs": []
    }
  ]
}