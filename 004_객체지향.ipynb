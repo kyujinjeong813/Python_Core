{
 "cells": [
  {
   "cell_type": "markdown",
   "metadata": {},
   "source": [
    "# 객체 지향 프로그래밍 (class(꼴) => (instance:메모리 확보) object (객체))\n",
    "- class : 멤버변수(속성) + 멤버함수 (공유됨)\n",
    "- 인스턴스할 때 멤버변수(속성)를 저장하는 공간만 확보"
   ]
  },
  {
   "cell_type": "code",
   "execution_count": 2,
   "metadata": {},
   "outputs": [
    {
     "name": "stdout",
     "output_type": "stream",
     "text": [
      "삼각형의 넓이는 100.0\n"
     ]
    }
   ],
   "source": [
    "width = 10\n",
    "height = 20\n",
    "area = 10 * 20 / 2\n",
    "print(\"삼각형의 넓이는\", area)"
   ]
  },
  {
   "cell_type": "code",
   "execution_count": 4,
   "metadata": {},
   "outputs": [
    {
     "name": "stdout",
     "output_type": "stream",
     "text": [
      "10 20 100.0\n"
     ]
    }
   ],
   "source": [
    "class Triangle:\n",
    "    def setData(self, width, height): # 함수를 이용한 초기화\n",
    "        self.width = width\n",
    "        self.height = height\n",
    "\n",
    "    def area(self): # 매개변수 취급은 안함\n",
    "        return self.width*self.height / 2\n",
    "    \n",
    "tri1 = Triangle() # 인스턴스한다\n",
    "tri1.setData(10,20)\n",
    "print(tri1.width, tri1.height, tri1.area())"
   ]
  },
  {
   "cell_type": "code",
   "execution_count": 8,
   "metadata": {},
   "outputs": [
    {
     "name": "stdout",
     "output_type": "stream",
     "text": [
      "10 20 100.0\n"
     ]
    }
   ],
   "source": [
    "# __init__ : object에 있는 함수 (상속 : 클래스를 생성하면 자동으로 상속)\n",
    "class Triangle:\n",
    "    def __init__(self, width, height): # 초기화함수. 생성자, 강제로 호출불가한 함수\n",
    "        self.width = width\n",
    "        self.height = height\n",
    "    def area(self):\n",
    "        return self.width*self.height/2\n",
    "    \n",
    "tri1.__init__(10,20) # 호출불가, 인스턴스화할때 자동으로 호출\n",
    "\n",
    "tri1 = Triangle(10,20)\n",
    "print(tri1.width, tri1.height, tri1.area())\n"
   ]
  },
  {
   "cell_type": "code",
   "execution_count": 11,
   "metadata": {},
   "outputs": [
    {
     "data": {
      "text/plain": [
       "'클래스의 예'"
      ]
     },
     "execution_count": 11,
     "metadata": {},
     "output_type": "execute_result"
    }
   ],
   "source": [
    "# 클래스변수, 멤버변수, 지역변수\n",
    "class MyClass(object): # 선언하는 순간에 메모리에 자리를 잡음 (공용변수)\n",
    "    \"\"\"클래스의 예\"\"\"\n",
    "    i = 12345 # 클래스 변수, 공용변수\n",
    "    def __init__(self):\n",
    "        self.i = 54321 # 멤버변수\n",
    "        num = 100 # 지역변수\n",
    "    def f(self):\n",
    "        return self.i\n",
    "\n",
    "MyClass.__doc__ # object의 속성"
   ]
  },
  {
   "cell_type": "code",
   "execution_count": 14,
   "metadata": {},
   "outputs": [
    {
     "name": "stdout",
     "output_type": "stream",
     "text": [
      "12345\n"
     ]
    }
   ],
   "source": [
    "print(MyClass.i) # 클래스변수는 인스턴스화하지 않고 바로 출력이 가능"
   ]
  },
  {
   "cell_type": "code",
   "execution_count": 16,
   "metadata": {},
   "outputs": [
    {
     "name": "stdout",
     "output_type": "stream",
     "text": [
      "54321\n"
     ]
    },
    {
     "data": {
      "text/plain": [
       "54321"
      ]
     },
     "execution_count": 16,
     "metadata": {},
     "output_type": "execute_result"
    }
   ],
   "source": [
    "myclass = MyClass() # self.i 에 대한 메모리 확보\n",
    "print(myclass.i) # 멤버변수 호출\n",
    "myclass.f()"
   ]
  },
  {
   "cell_type": "code",
   "execution_count": 17,
   "metadata": {},
   "outputs": [
    {
     "name": "stdout",
     "output_type": "stream",
     "text": [
      "12345\n",
      "54321\n"
     ]
    }
   ],
   "source": [
    "print(MyClass.i) # 이 둘은 의미가 다름! \n",
    "print(MyClass().i) # 참조가 없기 때문에 사용과 동시에 메모리에서 사라짐"
   ]
  },
  {
   "cell_type": "code",
   "execution_count": 20,
   "metadata": {},
   "outputs": [
    {
     "name": "stdout",
     "output_type": "stream",
     "text": [
      "생성 Mon Dec 30 11:07:18 2019\n",
      "사망 Mon Dec 30 11:07:18 2019\n",
      "Sleeping for 3 sec\n",
      "사망 Mon Dec 30 11:07:21 2019\n"
     ]
    }
   ],
   "source": [
    "from time import time, ctime, sleep # 시간은 초로 관리, ctime(= 문자열로 convert time)\n",
    "class Life:\n",
    "    def __init__(self): # 생성자\n",
    "        self.birth = ctime() # 현재의 시간을 문자열로 변환\n",
    "        print('생성', self.birth)\n",
    "    def __del__(self): # 소멸자 (메모리에서 사라질 때 자동으로 호출)\n",
    "        print('사망', ctime())\n",
    "    def test(self):\n",
    "        #mylife = Life()\n",
    "        print('Sleeping for 3 sec')\n",
    "        sleep(3) # 3초동안 쉬기\n",
    "li = Life() # 오른쪽은 heap에 저장, 왼쪽은 그 주소를 가리키는 stack에 생성\n",
    "li.test()\n",
    "del li # 자동으로 가비지 컬렉션됨"
   ]
  },
  {
   "cell_type": "code",
   "execution_count": 28,
   "metadata": {},
   "outputs": [],
   "source": [
    "# 사원관리\n",
    "class Employee:\n",
    "    empCount = 0 # 사원수를 저장 : 클래스 변수 생성\n",
    "    def __init__(self, name, salary):\n",
    "        self.name = name # 이름\n",
    "        self.salary = salary # 급여\n",
    "        Employee.empCount += 1\n",
    "    def displayCount(self):\n",
    "        print(\"직원 수= %d\" % Employee.empCount)\n",
    "    def displayEmployee(self):\n",
    "        print(\"이름: \", self.name, \", 급여: \", self.salary)\n",
    "    def __call__(self, *pargs, **kargs):\n",
    "        print(\"called: \", pargs, kargs)"
   ]
  },
  {
   "cell_type": "code",
   "execution_count": 44,
   "metadata": {},
   "outputs": [
    {
     "name": "stdout",
     "output_type": "stream",
     "text": [
      "직원 수= 3\n",
      "직원 수= 4\n",
      "직원 수= 4\n",
      "이름:  김종호 , 급여:  500\n",
      "이름:  빅데타 , 급여:  500\n",
      "called:  ('빅데타', 500, 100) {'c': 100}\n",
      "None\n"
     ]
    }
   ],
   "source": [
    "emp = Employee(\"김종호\", 500)\n",
    "emp.displayCount()\n",
    "emp1 = Employee(\"빅데타\", 500)\n",
    "emp1.displayCount()\n",
    "emp.displayCount() # 공유변수 때문이지롱\n",
    "emp.displayEmployee() # 데이터를 담고 있는 위치가 다르기 때문\n",
    "emp1.displayEmployee()\n",
    "print(emp(\"빅데타\", 500,100, c=100)) # 클래스를 함수처럼 사용하고 싶을 때 __call__을 오버라이딩"
   ]
  },
  {
   "cell_type": "code",
   "execution_count": 30,
   "metadata": {},
   "outputs": [],
   "source": [
    "# 실시간으로 변수를 추가 가능\n",
    "emp1.age = 7\n",
    "emp.age = 8"
   ]
  },
  {
   "cell_type": "code",
   "execution_count": 32,
   "metadata": {},
   "outputs": [
    {
     "name": "stdout",
     "output_type": "stream",
     "text": [
      "7\n"
     ]
    }
   ],
   "source": [
    "print(emp1.age)"
   ]
  },
  {
   "cell_type": "code",
   "execution_count": 33,
   "metadata": {},
   "outputs": [
    {
     "name": "stdout",
     "output_type": "stream",
     "text": [
      "{'name': '김종호', 'salary': 500, 'age': 8}\n"
     ]
    }
   ],
   "source": [
    "print(emp.__dict__) # object 를 상속"
   ]
  },
  {
   "cell_type": "code",
   "execution_count": 34,
   "metadata": {},
   "outputs": [
    {
     "name": "stdout",
     "output_type": "stream",
     "text": [
      "2\n"
     ]
    }
   ],
   "source": [
    "print(Employee.empCount)"
   ]
  },
  {
   "cell_type": "code",
   "execution_count": 35,
   "metadata": {},
   "outputs": [
    {
     "name": "stdout",
     "output_type": "stream",
     "text": [
      "['__call__', '__class__', '__delattr__', '__dict__', '__dir__', '__doc__', '__eq__', '__format__', '__ge__', '__getattribute__', '__gt__', '__hash__', '__init__', '__init_subclass__', '__le__', '__lt__', '__module__', '__ne__', '__new__', '__reduce__', '__reduce_ex__', '__repr__', '__setattr__', '__sizeof__', '__str__', '__subclasshook__', '__weakref__', 'age', 'displayCount', 'displayEmployee', 'empCount', 'name', 'salary']\n"
     ]
    }
   ],
   "source": [
    "print(dir(emp))"
   ]
  },
  {
   "cell_type": "code",
   "execution_count": 54,
   "metadata": {},
   "outputs": [],
   "source": [
    "# 문제 \n",
    "# 이름과 나이를 저장하는 Student class 를 생성하시오\n",
    "# 이름과 나이를 출력하는 print 함수를 클래스 내에 정의하시오\n",
    "\n",
    "class Student: # 사용자 정의 데이터 타입\n",
    "    \"\"\"학생관리\"\"\"\n",
    "    def __init__(self, name, age):\n",
    "        self.name = name\n",
    "        self.age = age\n",
    "    def print(self):\n",
    "        print(\"이름: \", self.name, \", 나이: \", self.age)\n"
   ]
  },
  {
   "cell_type": "code",
   "execution_count": 56,
   "metadata": {},
   "outputs": [
    {
     "name": "stdout",
     "output_type": "stream",
     "text": [
      "나의 이름은 다함께\n"
     ]
    }
   ],
   "source": [
    "f = Student(\"다함께\", 23)\n",
    "f.print()"
   ]
  },
  {
   "cell_type": "code",
   "execution_count": null,
   "metadata": {},
   "outputs": [],
   "source": [
    "class Student: # 사용자 정의 데이터 타입\n",
    "    \"\"\"학생관리\"\"\"\n",
    "    def __init__(self, name, age):\n",
    "        self.name = name\n",
    "        self.age = age\n",
    "    def __repr__(self): # __str__ 오버라이딩 해 놓은 경우\n",
    "        return \"나의 이름은 \" + self.name\n",
    "\n",
    "f = Student(\"다함께\", 23)\n",
    "print(f)"
   ]
  },
  {
   "cell_type": "code",
   "execution_count": 57,
   "metadata": {},
   "outputs": [
    {
     "name": "stdout",
     "output_type": "stream",
     "text": [
      "<class '__main__.Student'>\n"
     ]
    }
   ],
   "source": [
    "# object로부터 상속\n",
    "print(f.__class__) # 어떤 클래스에서 인스턴스되었는지 확인"
   ]
  },
  {
   "cell_type": "code",
   "execution_count": 58,
   "metadata": {},
   "outputs": [
    {
     "name": "stdout",
     "output_type": "stream",
     "text": [
      "나의 이름은 김종호\n"
     ]
    }
   ],
   "source": [
    "#g = Student(\"김종호\", 34)\n",
    "g = f.__class__(\"김종호\", 34) # 인스턴스된 변수로부터 클래스 생성\n",
    "print(g)"
   ]
  },
  {
   "cell_type": "code",
   "execution_count": 118,
   "metadata": {},
   "outputs": [],
   "source": [
    "import math\n",
    "# 1개를 다루는 클래스를 작성하고 있지만 거리값은 두개를 이용\n",
    "class Point:\n",
    "    def __init__(self, x, y): # 생성자 \n",
    "        self.x = x # (멤버변수를 초기화)\n",
    "        self.y = y\n",
    "    def __str__(self): # __repr__ 와 동일 (문자열을 요구하는 함수에 들어가면)\n",
    "        return \"좌표는 (%d, %d)\" % (self.x, self.y)\n",
    "    def dist(self, other):\n",
    "        distance = math.sqrt((self.x-other.x)**2 + (self.y-other.y)**2)\n",
    "        return distance\n",
    "    def collision(self, other):\n",
    "        return self.dist(other) < 3\n",
    "    \n"
   ]
  },
  {
   "cell_type": "code",
   "execution_count": 119,
   "metadata": {},
   "outputs": [
    {
     "name": "stdout",
     "output_type": "stream",
     "text": [
      "좌표는 (7, 3)\n",
      "좌표는 (4, 7)\n"
     ]
    }
   ],
   "source": [
    "first = Point(7,3)\n",
    "second = Point(4,7)\n",
    "print(first)\n",
    "print(second)"
   ]
  },
  {
   "cell_type": "code",
   "execution_count": 66,
   "metadata": {},
   "outputs": [
    {
     "name": "stdout",
     "output_type": "stream",
     "text": [
      "두 점 사이의 거리는 =  5.0\n",
      "충돌하지 않았습니다\n"
     ]
    }
   ],
   "source": [
    "print(\"두 점 사이의 거리는 = \", first.dist(second))\n",
    "if first.collision(second):\n",
    "    print(\"충동했습니다\")\n",
    "else:\n",
    "    print(\"충돌하지 않았습니다\")"
   ]
  },
  {
   "cell_type": "code",
   "execution_count": 85,
   "metadata": {},
   "outputs": [],
   "source": [
    "# 문제 : Point 클래스를 이용하여 Circle 클래스를 정의하시오\n",
    "# 원 : 중심점(=Point), 반지름\n",
    "# 원과 원의 충돌여부를 확인하는 함수를 작성하시오\n",
    "\n",
    "class Circle(Point):\n",
    "    def __init__(self, x, y, r):\n",
    "        self.x = x\n",
    "        self.y = y\n",
    "        self.r = r\n",
    "    def __str__(self):\n",
    "        return \"반지름은 {}, 중심점은 {},{}\".format(self.r, self.x, self.y)\n",
    "    def dist(self, other):\n",
    "        distance = math.sqrt((self.x-other.x)**2 + (self.y-other.y)**2) \n",
    "    def collision(self, other):\n",
    "        return  distance < self.r + other.r"
   ]
  },
  {
   "cell_type": "code",
   "execution_count": 86,
   "metadata": {},
   "outputs": [],
   "source": [
    "a = Circle(5,4,1)\n",
    "b = Circle(3,0,4)"
   ]
  },
  {
   "cell_type": "code",
   "execution_count": 93,
   "metadata": {},
   "outputs": [],
   "source": [
    "# center = Point() 로 생각을 하고\n",
    "# other = Circle()\n",
    "class Circle:\n",
    "    def __init__(self, center, radius):\n",
    "        self.center = center\n",
    "        self.radius = radius\n",
    "    def __str__(self):\n",
    "        return \"원의 중심은 \" + str(self.center) + \"반지름은 \" + str(self.radius)\n",
    "    def collision(self, other):\n",
    "        if self.center.dist(other.center) < self.radius + other.radius:\n",
    "            result = \"충돌한다\"\n",
    "        else:\n",
    "            result = \"충돌하지 않는다\"\n",
    "        return result"
   ]
  },
  {
   "cell_type": "code",
   "execution_count": 94,
   "metadata": {},
   "outputs": [],
   "source": [
    "cir = Circle(first, 1)\n",
    "cir2 = Circle(second, 5)"
   ]
  },
  {
   "cell_type": "code",
   "execution_count": 96,
   "metadata": {},
   "outputs": [
    {
     "name": "stdout",
     "output_type": "stream",
     "text": [
      "원의 중심은 좌표는 (7, 3)반지름은 1\n",
      "원의 중심은 좌표는 (4, 7)반지름은 5\n"
     ]
    }
   ],
   "source": [
    "print(cir)\n",
    "print(cir2)"
   ]
  },
  {
   "cell_type": "code",
   "execution_count": 99,
   "metadata": {},
   "outputs": [
    {
     "data": {
      "text/plain": [
       "'충돌한다'"
      ]
     },
     "execution_count": 99,
     "metadata": {},
     "output_type": "execute_result"
    }
   ],
   "source": [
    "cir.collision(cir2)\n",
    "Circle.collision(cir, cir2) # self가 있어서 이런 형태도 가능!"
   ]
  },
  {
   "cell_type": "code",
   "execution_count": 135,
   "metadata": {},
   "outputs": [],
   "source": [
    "# Point 를 이용해서 사각형 Rectangle 클래스를 작성하시오\n",
    "# 사각형의 면적을 구하는 함수를 작성하시오\n",
    "# 사각형의 둘레를 구하는 함수를 작성하시오\n",
    "# 대각선의 길이를 구하는 함수를 작성하시오\n",
    "# 직사각형 대각을 이루는 점 2개를 이용해서 작성 (멤버변수 2개)\n",
    "\n",
    "class Rectangle:\n",
    "    def __init__(self, point1, point2): # point1 = Point() 매핑\n",
    "        self.point1 = point1\n",
    "        self.point2 = point2\n",
    "    def area(self, point1, point2):\n",
    "        width = abs(self.point1.x - self.point2.x)\n",
    "        height = abs(self.point1.y - self.point2.y)\n",
    "        return \"사각형의 면적은 \" + str(width * height)\n",
    "    def recRound(self, point1, point2):\n",
    "        recround = 2*(abs(self.point1.x - self.point2.x) + abs(self.point1.y - self.point2.y))\n",
    "        return \"사각형의 둘레의 길이는 \" + str(recround)\n",
    "    def diag(self, point1, point2):\n",
    "        diag = self.point1.dist(point2)\n",
    "        return \"사각형의 대각선 길이는 \" + str(diag)"
   ]
  },
  {
   "cell_type": "code",
   "execution_count": 138,
   "metadata": {},
   "outputs": [],
   "source": [
    "# 쌤의 풀이\n",
    "class Rectangle:\n",
    "    def __init__(self, po1, po2):\n",
    "        self.po1 = po1\n",
    "        self.po2 = po2\n",
    "    def area(self):\n",
    "        result = abs((po1.x - po2.x) * (po1.y - po2.y))\n",
    "        return result\n",
    "    def perimeter(self):\n",
    "        result - abs(po1.x - po2.x)*2 + abs(po1.y - po2.y)*2\n",
    "        return result\n",
    "    def diagonal_dist(self):\n",
    "        result = math.sqrt((po1.x - po2.x)**2 + (po1.y-po2.y)**2)\n",
    "        return result"
   ]
  },
  {
   "cell_type": "code",
   "execution_count": 174,
   "metadata": {},
   "outputs": [],
   "source": [
    "# 문제 : Vector class를 작성하시오\n",
    "# x, y 의 2차원 벡터 구현\n",
    "# 벡터의 연산 (+, -, *, /) : 요소별로 계산\n",
    "# dot 함수를 구현하시오 : 벡터의 요소별로 곱하고 모두 더해주면 내적 유사도\n",
    "# cos 값으로 변환하는 함수를 구현하시오 cos theta = acos(A내적B / |A||B|)\n",
    "# |A| = math.sqrt(x^2 + y^2)\n",
    "\n",
    "# a = 10\n",
    "# b = 20\n",
    "# c = a+b\n",
    "# Vector(10,20) + Vector(30,40)\n",
    "class Vector:\n",
    "    def __init__(self, x, y):\n",
    "        self.x = x\n",
    "        self.y = y\n",
    "    def __repr__(self):\n",
    "        return \"(좌표는 %d, %d )\" % (self.x, self.y)    \n",
    "    def __add__(self, other): # 연산자 오버로딩을 오버라이딩으로 구현한 것\n",
    "        return Vector(self.x+other.x, self.y+other.y)\n",
    "    def __mul__(self, other):\n",
    "        return Vector(self.x*other.x, self.y*other.y)\n",
    "    def __sub__(self, other):\n",
    "        return Vector(self.x-other.x, self.y-other.y)\n",
    "    def __truediv__(self, other): # div는 2점 버전대에서 사용 / 3이상은 이걸로 바뀜\n",
    "        return Vector(self.x/other.x, self.y/other.y)"
   ]
  },
  {
   "cell_type": "code",
   "execution_count": 175,
   "metadata": {},
   "outputs": [
    {
     "name": "stdout",
     "output_type": "stream",
     "text": [
      "(좌표는 10, 23 )\n",
      "(좌표는 30, 50 )\n",
      "(좌표는 10, 4 )\n",
      "(좌표는 200, 621 )\n",
      "(좌표는 2, 1 )\n"
     ]
    }
   ],
   "source": [
    "f = Vector(10, 23)\n",
    "g = Vector(20, 27)\n",
    "print(f)\n",
    "print(f+g)\n",
    "print(g-f)\n",
    "print(f*g)\n",
    "print(g/f)"
   ]
  },
  {
   "cell_type": "code",
   "execution_count": 6,
   "metadata": {},
   "outputs": [],
   "source": [
    "# 3차원 벡터를 클래스로 구현하시오 (연산자 오버로딩 +, -, *, /)\n",
    "import math\n",
    "\n",
    "class Vector3d:\n",
    "    def __init__(self, x, y, z):\n",
    "        self.x = x\n",
    "        self.y = y\n",
    "        self.z = z\n",
    "    def __str__(self):\n",
    "        return \"좌표는 %d, %d, %d \" % (self.x, self.y, self.z)\n",
    "    def __add__(self, other):\n",
    "        return Vector3d(self.x+other.x, self.y+other.y, self.z+other.z)\n",
    "    def __sub__(self, other):\n",
    "        return Vector3d(self.x-other.x, self.y-other.y, self.z-other.z)\n",
    "    def __mul__(self, other):\n",
    "        return Vector3d(self.x*other.x, self.y*other.y, self.z*other.z)\n",
    "    def dist(self):\n",
    "        return math.sqrt(self.x*self.x + self.y*self.y + self.z*self.z)\n",
    "    # 방향만 바뀌어야지 크기까지 바뀌면 안됨\n",
    "    def norm(self): # 정규화 크키값이 1인 사이즈로 변경 (반지름이 1)\n",
    "        dist = self.dist()\n",
    "        return self.x/dist, self.y/dist, self.y/dist\n",
    "    def dot(self, other):\n",
    "        return (self.x*other.x + self.y*other.y + self.z*other.z)\n",
    "    def theta(self, other):\n",
    "        dot = self.dot(other)\n",
    "        dist1 = self.dist()\n",
    "        dist2 = other.dist() # radian => degree로 (컴퓨터는 라디안만 사용)\n",
    "        return math.acos(dot/(dist1*dist2))*(180/math.pi) # 라디안 -> 디그리로 변경\n",
    "    # 변환 과정이 필요 ) 사람이 사용하는 각도 입력 -> 라디안 변환(math.pi/180) -> 계산 후 사람이 사용하는 각도(degree)로 변환해서 출력"
   ]
  },
  {
   "cell_type": "code",
   "execution_count": 7,
   "metadata": {},
   "outputs": [
    {
     "name": "stdout",
     "output_type": "stream",
     "text": [
      "좌표는 10, 0, 0 \n",
      "좌표는 10, 27, 0 \n",
      "좌표는 10, -27, 0 \n",
      "좌표는 0, 0, 0 \n",
      "f 벡터의 크기 =  10.0\n",
      "g 벡터의 크기 =  27.0\n",
      "f의 normal vector =  (1.0, 0.0, 0.0)\n",
      "g의 normal vector =  (0.0, 1.0, 1.0)\n",
      "두 벡터의 내적 =  0\n",
      "f와 g의 사이각은 =  90.0\n"
     ]
    }
   ],
   "source": [
    "f = Vector3d(10, 0, 0)\n",
    "g = Vector3d(0, 27, 0)\n",
    "\n",
    "print(f)\n",
    "print(f+g)\n",
    "print(f-g)\n",
    "print(f*g)\n",
    "print(\"f 벡터의 크기 = \", f.dist())\n",
    "print(\"g 벡터의 크기 = \", g.dist())\n",
    "print(\"f의 normal vector = \", f.norm())\n",
    "print(\"g의 normal vector = \", g.norm())\n",
    "print(\"두 벡터의 내적 = \", f.dot(g))    # 내적이 0 이면 두 벡터는 직교한다.\n",
    "print(\"f와 g의 사이각은 = \", f.theta(g))"
   ]
  },
  {
   "cell_type": "code",
   "execution_count": 8,
   "metadata": {},
   "outputs": [],
   "source": [
    "# PCA(principal component analysis) 주성분분석 - 직교하는 데이터 재편성"
   ]
  },
  {
   "cell_type": "code",
   "execution_count": 9,
   "metadata": {},
   "outputs": [
    {
     "name": "stdout",
     "output_type": "stream",
     "text": [
      "a =  [1, 2, 3]\n",
      "[[1, 2, 3], [4, 5, [1, 2, 3]], 100]\n",
      "[[1, 2, 3], [4, 5, [1, 2, 3]], 100]\n",
      "[[1, 2, 3], [4, 5, [1, 2, 3]], 100]\n",
      "[[1, 2, 3], [4, 5, [1, 2, 3]], 100]\n"
     ]
    }
   ],
   "source": [
    "import copy\n",
    "a = [1,2,3]\n",
    "b = [4,5,a] # 주소\n",
    "x = [a,b,100]\n",
    "y = copy.copy(x) # 주소복사\n",
    "t = copy.deepcopy(x) # 원래의 요소를 별도의 공간에 복사한 다음 주소전달 (x와 t의 주소 다름!)\n",
    "e = copy.deepcopy(y)\n",
    "print(\"a = \", a)\n",
    "print(x)\n",
    "print(y)\n",
    "print(t)\n",
    "print(e)\n"
   ]
  },
  {
   "cell_type": "code",
   "execution_count": 10,
   "metadata": {},
   "outputs": [
    {
     "name": "stdout",
     "output_type": "stream",
     "text": [
      "[[1, 2, 3, 100], [4, 5, [1, 2, 3, 100]], 100]\n",
      "[[1, 2, 3, 100], [4, 5, [1, 2, 3, 100]], 100]\n",
      "[[1, 2, 3], [4, 5, [1, 2, 3]], 100]\n",
      "[[1, 2, 3], [4, 5, [1, 2, 3]], 100]\n"
     ]
    }
   ],
   "source": [
    "a.append(100)\n",
    "print(x)\n",
    "print(y)\n",
    "print(t)\n",
    "print(e)"
   ]
  },
  {
   "cell_type": "code",
   "execution_count": 1,
   "metadata": {},
   "outputs": [],
   "source": [
    "# 이름, 국어, 수학, 영어를 관리하는 student class를 작성하시오 (1인분 관리)\n",
    "# 총점과 평균도 계산해서 멤버 변수에 저장\n",
    "\n",
    "class Student:\n",
    "    studCount = 0 # 학생수 저장\n",
    "    def __init__(self, name, kor, math, eng):\n",
    "        self.name = name\n",
    "        self.kor = int(kor)\n",
    "        self.math = int(math)\n",
    "        self.eng = int(eng)\n",
    "        self.tot = self.kor + self.math + self.eng\n",
    "        self.avg = self.tot / 3\n",
    "        Student.studCount += 1\n"
   ]
  },
  {
   "cell_type": "code",
   "execution_count": null,
   "metadata": {},
   "outputs": [],
   "source": [
    "# 메뉴화\n",
    "# 3번 국어, 영어, 수학의 반평균을 출력하시오\n",
    "def start():\n",
    "    students = []\n",
    "    while True:\n",
    "        choice = input(\"1.입력 2.출력 3.계산 4.종료 =>\")\n",
    "        if choice == '1':\n",
    "            name = input(\"이름 : \")\n",
    "            kor = eval(input(\"국어점수 : \"))\n",
    "            eng = eval(input(\"영어점수 : \"))\n",
    "            math = eval(input(\"수학점수 : \"))\n",
    "            stud = Student(name, kor, eng, math)\n",
    "            students.append(stud)\n",
    "        elif choice == '2':\n",
    "            for s in students:\n",
    "                print(\"이름:%s 국어:%s 영어:%s 수학:%s 총점:%s 평균:%s\" % s.name, s.kor, s.eng, s.math, s.tot, s.avg)\n",
    "        elif choice == '3':\n",
    "            kor_tot = 0 ; eng_tot  = 0 ; math_tot = 0\n",
    "            for s in students:\n",
    "                kor_tot += s.kor\n",
    "                eng_tot += s.eng\n",
    "                math_tot += s.math\n",
    "            kor_avg = round(kor_tot / len(students),2)\n",
    "            eng_avg = round(eng_tot / len(students),2)\n",
    "            math_avg = round(math_tot / len(students),2)\n",
    "#            print(\"국어평균 : \" +str(kor_avg) + \"영어평균 : \"+str(eng_avg) + \"수학평균 : \" + str(math_avg))\n",
    "            print(\"총 학생수 : %s명\" % len(students))\n",
    "            print(\"국어평균 : %s\\t\\t 영어평균 : %s\\t\\t 수학평균 : %s\\t\\t\" % (kor_avg, eng_avg, math_avg))\n",
    "        elif choice == '4':\n",
    "            break\n",
    "\n",
    "start()"
   ]
  },
  {
   "cell_type": "code",
   "execution_count": null,
   "metadata": {},
   "outputs": [],
   "source": [
    "# 2개로 분리된 class\n",
    "- 기본적인 데이터를 저장하는 클래스\n",
    "- Management(입력, 출력, 검색, 수정 등)\n",
    "- 메뉴함수"
   ]
  },
  {
   "cell_type": "code",
   "execution_count": 1,
   "metadata": {},
   "outputs": [],
   "source": [
    "import sys\n",
    "class Student: # 1인분 데이터 처리\n",
    "    def __init__(self):\n",
    "        self.bunho=0; self.name=''; \n",
    "        self.kor=0; self.mat=0; self.eng=0\n",
    "        self.total=0; self.average=0; self.grade=''\n",
    "    def inputData(self):\n",
    "        self.name = input(\"이름을 입력하세요\")\n",
    "        self.kor = eval(input(\"국어 점수 : \"))\n",
    "        self.mat = eval(input(\"수학 점수 : \"))\n",
    "        self.eng = eval(input(\"영어 점수 : \"))\n",
    "    def calc_total_average(self):\n",
    "        self.total = self.kor + self.mat + self.eng\n",
    "        self.average = round(self.total / 3, 2)\n",
    "        self.grade = self.calcSemGrade()\n",
    "    def calcSemGrade(self):\n",
    "        if self.average >= 90:   return 'A'\n",
    "        elif self.average >= 80: return 'B'\n",
    "        elif self.average >= 70: return 'C'\n",
    "        elif self.average >= 60: return 'D'\n",
    "        else:                    return 'F'\n",
    "    def __str__(self):\n",
    "        return '%5s  %5s  %6.2f  %6.2f  %6.2f  %7.2f  %7.2f  %5s' % (self.bunho, self.name, self.kor, self.mat,\n",
    "                                                              self.eng, self.total, self.average, self.grade)\n",
    "    def __cmp__(self, other): # compare, true/false로 결과 리턴\n",
    "        return self.name == other.name\n",
    "            "
   ]
  },
  {
   "cell_type": "code",
   "execution_count": 2,
   "metadata": {},
   "outputs": [],
   "source": [
    "class Management: # 여러 사람분 처리\n",
    "    schoolname = \"제주 아카데미\"\n",
    "    bunho = 0\n",
    "    def __init__(self, count):\n",
    "        print(\"메뉴를 선택하시오\")\n",
    "        self.sungjuk = []\n",
    "        self.count = count\n",
    "    \n",
    "    def input(self):\n",
    "        for co_in in range(self.count):\n",
    "            stu = Student()\n",
    "            stu.inputData()\n",
    "            Management.bunho += 1 # 번호를 자동으로 입력하기 위해\n",
    "            stu.bunho = Management.bunho\n",
    "            self.sungjuk.append(stu)\n",
    "    def print_sungjuk(self):\n",
    "        for per in self.sungjuk:\n",
    "            print(per)\n",
    "            print()\n",
    "    def calc_sungjuk(self):\n",
    "        for per in self.sungjuk:\n",
    "            per.calc_total_average()\n",
    "    def search_name(self):\n",
    "        name = input(\"검색할 학생 이름을 추가하시오\")\n",
    "        for per in self.sungjuk:\n",
    "            if (per.name == name):\n",
    "                print(per)\n",
    "                return\n",
    "        print(\"검색하고자 하는 학생이 없습니다.\")\n",
    "        return\n",
    "    def re_name(self):\n",
    "        name_before = input(\"수정하기 전 학생 이름을 입력해주세요\")\n",
    "        name_after = input(\"수정한 후의 학생 이름을 입력해주세요\")\n",
    "        for per in self.sungjuk:\n",
    "            if (per.name == name_before):\n",
    "                per.name = name_after\n",
    "                return\n",
    "        print(\"수정하고자 하는 학생이 없습니다. 다시 확인해주세요\")\n",
    "        return        \n",
    "    def del_name(self):\n",
    "        name_del = input(\"삭제할 학생 이름을 입력해주세요\")\n",
    "        for per in self.sungjuk:\n",
    "            if (per.name == name_del):\n",
    "                self.sungjuk.remove(per)\n",
    "                return\n",
    "        print(\"삭제할 학생 이름이 없습니다. 다시 확인해주세요\")\n",
    "        return\n",
    "    def arrange_by_tot(self):\n",
    "        return self.sungjuk.sort(key = lambda x: x.total, reverse=True)"
   ]
  },
  {
   "cell_type": "code",
   "execution_count": null,
   "metadata": {},
   "outputs": [
    {
     "name": "stdout",
     "output_type": "stream",
     "text": [
      "메뉴를 선택하시오\n",
      "['입력(1), 출력(2), 계산(3), 검색(4), 이름수정(5), 이름삭제(6), 정렬(8) 종료(9)']1\n"
     ]
    }
   ],
   "source": [
    "sj = ['번호', '이름', '국어', '수학', '영어', '총점', '평균', '학점']\n",
    "menu = [\"입력(1), 출력(2), 계산(3), 검색(4), 이름수정(5), 이름삭제(6), 정렬(8) 종료(9)\"]\n",
    "man_sung = Management(3)\n",
    "\n",
    "while 1:\n",
    "    sel = input(menu)\n",
    "    if sel == '1':\n",
    "        man_sung.input()\n",
    "        continue\n",
    "    elif sel == '2':\n",
    "        print(Management.schoolname + \"성적 계산표\")\n",
    "        print(\"%5s %5s %6s %6s %6s %7s %7s %7s\" % ('번호', '이름', '국어', '수학', '영어', '총점', '평균', '학점'))\n",
    "        man_sung.print_sungjuk()\n",
    "        continue\n",
    "    elif sel == '3':\n",
    "        man_sung.calc_sungjuk()\n",
    "        print(\"계산이 완료되었습니다. -확인하려면 출력해보세요\")\n",
    "        continue\n",
    "    elif sel == '4':\n",
    "        man_sung.search_name()\n",
    "        continue\n",
    "    elif sel == '5':\n",
    "        man_sung.re_name()\n",
    "        continue\n",
    "    elif sel == '6':\n",
    "        man_sung.del_name()\n",
    "    elif sel == '8':\n",
    "        man_sung.arrange_by_tot()\n",
    "    elif sel == '9':\n",
    "        break\n",
    "    else:\n",
    "        print(\"잘못된 입력입니다. 다시 입력하시오.\")"
   ]
  },
  {
   "cell_type": "code",
   "execution_count": null,
   "metadata": {},
   "outputs": [],
   "source": [
    "\n",
    " 채"
   ]
  },
  {
   "cell_type": "code",
   "execution_count": null,
   "metadata": {},
   "outputs": [],
   "source": []
  }
 ],
 "metadata": {
  "kernelspec": {
   "display_name": "Python 3",
   "language": "python",
   "name": "python3"
  },
  "language_info": {
   "codemirror_mode": {
    "name": "ipython",
    "version": 3
   },
   "file_extension": ".py",
   "mimetype": "text/x-python",
   "name": "python",
   "nbconvert_exporter": "python",
   "pygments_lexer": "ipython3",
   "version": "3.7.4"
  }
 },
 "nbformat": 4,
 "nbformat_minor": 2
}
