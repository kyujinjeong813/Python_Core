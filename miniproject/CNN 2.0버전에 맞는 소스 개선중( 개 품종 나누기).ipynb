{
 "cells": [
  {
   "cell_type": "code",
   "execution_count": 1,
   "metadata": {},
   "outputs": [
    {
     "name": "stdout",
     "output_type": "stream",
     "text": [
      "corgi  파일 길이 :  970\n",
      "corgi  :  .//corgi\\corgi 10.jpg\n",
      "corgi  :  .//corgi\\corgi2909.jpg\n",
      "golden  파일 길이 :  799\n",
      "golden  :  .//golden\\gold (1).jpg\n",
      "golden  :  .//golden\\gold_dog665.jpg\n",
      "dach  파일 길이 :  945\n",
      "dach  :  .//dach\\dachs.jpg\n",
      "dach  :  .//dach\\docss (67).jpg\n",
      "husky  파일 길이 :  502\n",
      "husky  :  .//husky\\husky1.jpg\n",
      "beagle  파일 길이 :  803\n",
      "beagle  :  .//beagle\\beagle (1).jpg\n",
      "beagle  :  .//beagle\\beagle645.jpg\n",
      "ok 4019\n"
     ]
    }
   ],
   "source": [
    "from PIL import Image\n",
    "import os, glob, numpy as np\n",
    "from sklearn.model_selection import train_test_split\n",
    "\n",
    "caltech_dir = \"./\"\n",
    "categories = [\"corgi\", \"golden\" ,\"dach\" ,\"husky\" ,\"beagle\"] # 각 카테고리 폴더에서 불러오기\n",
    "nb_classes = len(categories)\n",
    "\n",
    "image_w = 100\n",
    "image_h = 100\n",
    "\n",
    "pixels = image_h * image_w * 3\n",
    "\n",
    "X = []\n",
    "y = []\n",
    "\n",
    "for idx, cat in enumerate(categories):\n",
    "    \n",
    "    #one-hot 돌리기.\n",
    "    label = [0 for i in range(nb_classes)]\n",
    "    label[idx] = 1\n",
    "\n",
    "    image_dir = caltech_dir + \"/\" + cat\n",
    "    files = glob.glob(image_dir+\"/*.jpg\")\n",
    "    print(cat, \" 파일 길이 : \", len(files))\n",
    "    for i, f in enumerate(files):\n",
    "        img = Image.open(f)\n",
    "        img = img.convert(\"RGB\")\n",
    "        img = img.resize((image_w, image_h))\n",
    "        data = np.asarray(img)\n",
    "\n",
    "        X.append(data)\n",
    "        y.append(label)\n",
    "\n",
    "        if i % 700 == 0:\n",
    "            print(cat, \" : \", f)\n",
    "\n",
    "X = np.array(X)\n",
    "y = np.array(y)\n",
    "#1 0 0 0 이면 airplanes\n",
    "#0 1 0 0 이면 buddha 이런식\n",
    "\n",
    "\n",
    "X_train, X_test, y_train, y_test = train_test_split(X, y)\n",
    "xy = (X_train, X_test, y_train, y_test)\n",
    "np.save(\"./multi_image_data.npy\", xy)\n",
    "\n",
    "print(\"ok\", len(y))"
   ]
  },
  {
   "cell_type": "code",
   "execution_count": 25,
   "metadata": {},
   "outputs": [
    {
     "data": {
      "text/plain": [
       "['.idea',\n",
       " '.ipynb_checkpoints',\n",
       " 'beagle',\n",
       " 'chromedriver.exe',\n",
       " 'corgi',\n",
       " 'dach',\n",
       " 'golden',\n",
       " 'google_crol.py',\n",
       " 'husky',\n",
       " 'multi_image_data.npy',\n",
       " 'multi_labels.py',\n",
       " 'name_jpg_change.py',\n",
       " 'naver_crol.py',\n",
       " 'shuffle_test_selection.py',\n",
       " 'Untitled.ipynb',\n",
       " 'venv']"
      ]
     },
     "execution_count": 25,
     "metadata": {},
     "output_type": "execute_result"
    }
   ],
   "source": [
    "os.listdir(caltech_dir)"
   ]
  },
  {
   "cell_type": "code",
   "execution_count": 26,
   "metadata": {},
   "outputs": [
    {
     "data": {
      "text/plain": [
       "['beagle (1).jpg',\n",
       " 'beagle (10).jpg',\n",
       " 'beagle (100).jpg',\n",
       " 'beagle (101).jpg',\n",
       " 'beagle (102).jpg',\n",
       " 'beagle (103).jpg',\n",
       " 'beagle (104).jpg',\n",
       " 'beagle (105).jpg',\n",
       " 'beagle (106).jpg',\n",
       " 'beagle (107).jpg']"
      ]
     },
     "execution_count": 26,
     "metadata": {},
     "output_type": "execute_result"
    }
   ],
   "source": [
    "beagle_dir=os.path.join(caltech_dir,'beagle')\n",
    "os.listdir(beagle_dir)[:10]\n"
   ]
  },
  {
   "cell_type": "code",
   "execution_count": 27,
   "metadata": {},
   "outputs": [
    {
     "data": {
      "text/plain": [
       "(1, 100, 100, 3)"
      ]
     },
     "execution_count": 27,
     "metadata": {},
     "output_type": "execute_result"
    }
   ],
   "source": [
    "img_name='beagle 199.jpg'\n",
    "img_path = os.path.join(beagle_dir, img_name)\n",
    "\n",
    "\n",
    "from keras.preprocessing import image\n",
    "img = image.load_img(img_path, target_size=(100, 100))\n",
    "img_tensor = image.img_to_array(img)\n",
    "\n",
    "img_tensor = np.expand_dims(img_tensor, axis=0)\n",
    "img_tensor.shape"
   ]
  },
  {
   "cell_type": "markdown",
   "metadata": {},
   "source": [
    "### 각각 디렉토리 지정해주고 파일 불러와서 이미지 3d 텐서 => 4d 텐서 확인\n",
    "\n",
    "# 사용자 정의함수를 통해 2801개를 불러오기"
   ]
  },
  {
   "cell_type": "code",
   "execution_count": 28,
   "metadata": {},
   "outputs": [],
   "source": [
    "def preprocess_img(img_path, target_size=100):\n",
    "    from keras.preprocessing import image\n",
    "    \n",
    "    img = image.load_img(img_path, target_size=(target_size, target_size))\n",
    "    img_tensor = image.img_to_array(img)\n",
    "    \n",
    "    # expand a dimension\n",
    "    img_tensor = np.expand_dims(img_tensor, axis=0)\n",
    "    \n",
    "    #scaling into [0,1]\n",
    "    img_tensor /=255.\n",
    "    \n",
    "    return img_tensor"
   ]
  },
  {
   "cell_type": "markdown",
   "metadata": {},
   "source": [
    "# 위에서 이미지 4000장 불러오면서 이미지벡터화 시킴."
   ]
  },
  {
   "cell_type": "code",
   "execution_count": 2,
   "metadata": {},
   "outputs": [
    {
     "name": "stdout",
     "output_type": "stream",
     "text": [
      "scipy 1.4.1\n",
      "numpy 1.18.1\n",
      "matplotlib 3.1.2\n",
      "pandas 1.0.0\n",
      "sklearn 0.22.1\n",
      "h5py 2.10.0\n",
      "tensorflow 2.0.0\n",
      "keras 2.2.4\n"
     ]
    },
    {
     "name": "stderr",
     "output_type": "stream",
     "text": [
      "Using TensorFlow backend.\n"
     ]
    }
   ],
   "source": [
    "import scipy\n",
    "import numpy\n",
    "import matplotlib\n",
    "import pandas\n",
    "import sklearn\n",
    "#import pydot\n",
    "import h5py\n",
    "\n",
    "import tensorflow\n",
    "import keras\n",
    "\n",
    "print('scipy ' + scipy.__version__)\n",
    "print('numpy ' + numpy.__version__)\n",
    "print('matplotlib ' + matplotlib.__version__)\n",
    "print('pandas ' + pandas.__version__)\n",
    "print('sklearn ' + sklearn.__version__)\n",
    "print('h5py ' + h5py.__version__)\n",
    "print('tensorflow ' + tensorflow.__version__)\n",
    "print('keras ' + keras.__version__)"
   ]
  },
  {
   "cell_type": "code",
   "execution_count": 21,
   "metadata": {},
   "outputs": [
    {
     "name": "stdout",
     "output_type": "stream",
     "text": [
      "[name: \"/device:CPU:0\"\n",
      "device_type: \"CPU\"\n",
      "memory_limit: 268435456\n",
      "locality {\n",
      "}\n",
      "incarnation: 2861096568976900000\n",
      "]\n"
     ]
    }
   ],
   "source": [
    "from tensorflow.python.client import device_lib\n",
    "print(device_lib.list_local_devices())"
   ]
  },
  {
   "cell_type": "code",
   "execution_count": 2,
   "metadata": {},
   "outputs": [
    {
     "name": "stderr",
     "output_type": "stream",
     "text": [
      "C:\\Users\\ICT01_02\\Anaconda3\\envs\\tf_test\\lib\\site-packages\\tensorflow\\python\\framework\\dtypes.py:516: FutureWarning: Passing (type, 1) or '1type' as a synonym of type is deprecated; in a future version of numpy, it will be understood as (type, (1,)) / '(1,)type'.\n",
      "  _np_qint8 = np.dtype([(\"qint8\", np.int8, 1)])\n",
      "C:\\Users\\ICT01_02\\Anaconda3\\envs\\tf_test\\lib\\site-packages\\tensorflow\\python\\framework\\dtypes.py:517: FutureWarning: Passing (type, 1) or '1type' as a synonym of type is deprecated; in a future version of numpy, it will be understood as (type, (1,)) / '(1,)type'.\n",
      "  _np_quint8 = np.dtype([(\"quint8\", np.uint8, 1)])\n",
      "C:\\Users\\ICT01_02\\Anaconda3\\envs\\tf_test\\lib\\site-packages\\tensorflow\\python\\framework\\dtypes.py:518: FutureWarning: Passing (type, 1) or '1type' as a synonym of type is deprecated; in a future version of numpy, it will be understood as (type, (1,)) / '(1,)type'.\n",
      "  _np_qint16 = np.dtype([(\"qint16\", np.int16, 1)])\n",
      "C:\\Users\\ICT01_02\\Anaconda3\\envs\\tf_test\\lib\\site-packages\\tensorflow\\python\\framework\\dtypes.py:519: FutureWarning: Passing (type, 1) or '1type' as a synonym of type is deprecated; in a future version of numpy, it will be understood as (type, (1,)) / '(1,)type'.\n",
      "  _np_quint16 = np.dtype([(\"quint16\", np.uint16, 1)])\n",
      "C:\\Users\\ICT01_02\\Anaconda3\\envs\\tf_test\\lib\\site-packages\\tensorflow\\python\\framework\\dtypes.py:520: FutureWarning: Passing (type, 1) or '1type' as a synonym of type is deprecated; in a future version of numpy, it will be understood as (type, (1,)) / '(1,)type'.\n",
      "  _np_qint32 = np.dtype([(\"qint32\", np.int32, 1)])\n",
      "C:\\Users\\ICT01_02\\Anaconda3\\envs\\tf_test\\lib\\site-packages\\tensorflow\\python\\framework\\dtypes.py:525: FutureWarning: Passing (type, 1) or '1type' as a synonym of type is deprecated; in a future version of numpy, it will be understood as (type, (1,)) / '(1,)type'.\n",
      "  np_resource = np.dtype([(\"resource\", np.ubyte, 1)])\n",
      "C:\\Users\\ICT01_02\\Anaconda3\\envs\\tf_test\\lib\\site-packages\\tensorboard\\compat\\tensorflow_stub\\dtypes.py:541: FutureWarning: Passing (type, 1) or '1type' as a synonym of type is deprecated; in a future version of numpy, it will be understood as (type, (1,)) / '(1,)type'.\n",
      "  _np_qint8 = np.dtype([(\"qint8\", np.int8, 1)])\n",
      "C:\\Users\\ICT01_02\\Anaconda3\\envs\\tf_test\\lib\\site-packages\\tensorboard\\compat\\tensorflow_stub\\dtypes.py:542: FutureWarning: Passing (type, 1) or '1type' as a synonym of type is deprecated; in a future version of numpy, it will be understood as (type, (1,)) / '(1,)type'.\n",
      "  _np_quint8 = np.dtype([(\"quint8\", np.uint8, 1)])\n",
      "C:\\Users\\ICT01_02\\Anaconda3\\envs\\tf_test\\lib\\site-packages\\tensorboard\\compat\\tensorflow_stub\\dtypes.py:543: FutureWarning: Passing (type, 1) or '1type' as a synonym of type is deprecated; in a future version of numpy, it will be understood as (type, (1,)) / '(1,)type'.\n",
      "  _np_qint16 = np.dtype([(\"qint16\", np.int16, 1)])\n",
      "C:\\Users\\ICT01_02\\Anaconda3\\envs\\tf_test\\lib\\site-packages\\tensorboard\\compat\\tensorflow_stub\\dtypes.py:544: FutureWarning: Passing (type, 1) or '1type' as a synonym of type is deprecated; in a future version of numpy, it will be understood as (type, (1,)) / '(1,)type'.\n",
      "  _np_quint16 = np.dtype([(\"quint16\", np.uint16, 1)])\n",
      "C:\\Users\\ICT01_02\\Anaconda3\\envs\\tf_test\\lib\\site-packages\\tensorboard\\compat\\tensorflow_stub\\dtypes.py:545: FutureWarning: Passing (type, 1) or '1type' as a synonym of type is deprecated; in a future version of numpy, it will be understood as (type, (1,)) / '(1,)type'.\n",
      "  _np_qint32 = np.dtype([(\"qint32\", np.int32, 1)])\n",
      "C:\\Users\\ICT01_02\\Anaconda3\\envs\\tf_test\\lib\\site-packages\\tensorboard\\compat\\tensorflow_stub\\dtypes.py:550: FutureWarning: Passing (type, 1) or '1type' as a synonym of type is deprecated; in a future version of numpy, it will be understood as (type, (1,)) / '(1,)type'.\n",
      "  np_resource = np.dtype([(\"resource\", np.ubyte, 1)])\n",
      "Using TensorFlow backend.\n"
     ]
    },
    {
     "name": "stdout",
     "output_type": "stream",
     "text": [
      "(3014, 100, 100, 3)\n",
      "3014\n"
     ]
    }
   ],
   "source": [
    "import os, glob, numpy as np\n",
    "import tensorflow.keras as keras\n",
    "# module 'tensorflow' has no attribute 'get_default_graph'\n",
    "\n",
    "from keras.models import Model, Input #고쳐야만 아래 소스 구동\n",
    "from tensorflow.keras.models import Sequential\n",
    "from tensorflow.keras.layers import Conv2D, MaxPooling2D, Dense, Flatten, Dropout\n",
    "from tensorflow.keras.callbacks import EarlyStopping, ModelCheckpoint\n",
    "import matplotlib.pyplot as plt\n",
    "from tensorflow.keras import backend as K\n",
    "from tensorflow.python.framework import ops\n",
    "ops.reset_default_graph()\n",
    "import tensorflow as tf\n",
    "'''\n",
    "config = tf.ConfigProto()  텐서플로우 2. 에서 구동안됨\n",
    "module 'tensorflow' has no attribute 'ConfigProto'\n",
    "'''\n",
    "config = tf.compat.v1.ConfigProto()\n",
    "config.gpu_options.allow_growth = True\n",
    "\n",
    "# session = tf.Session(config=config) 자동세션기능\n",
    "X_train, X_test, y_train, y_test = np.load('./multi_image_data.npy',allow_pickle=True)\n",
    "print(X_train.shape)\n",
    "print(X_train.shape[0])"
   ]
  },
  {
   "cell_type": "code",
   "execution_count": 3,
   "metadata": {},
   "outputs": [],
   "source": [
    "categories = [\"corgi\", \"golden\" ,\"dach\" ,\"husky\" ,\"beagle\"]\n",
    "nb_classes = len(categories)\n",
    "\n",
    "#일반화\n",
    "X_train = X_train.astype(float) / 255\n",
    "X_test = X_test.astype(float) / 255\n",
    "\n",
    "\n",
    "\n",
    "#세개의 모델에서 같은 형태의 데이터를 사용할 것, 모든 모델에서 사용할 단일 입력 레이어를 정의.\n",
    "input_shape =X_train[0,:,:,:].shape\n",
    "model_input = keras.Input(shape =input_shape)"
   ]
  },
  {
   "cell_type": "code",
   "execution_count": 5,
   "metadata": {},
   "outputs": [
    {
     "ename": "AttributeError",
     "evalue": "module 'tensorflow.python.keras.api._v1.keras.backend' has no attribute 'device'",
     "output_type": "error",
     "traceback": [
      "\u001b[1;31m---------------------------------------------------------------------------\u001b[0m",
      "\u001b[1;31mAttributeError\u001b[0m                            Traceback (most recent call last)",
      "\u001b[1;32m<ipython-input-5-6eac8ed18277>\u001b[0m in \u001b[0;36m<module>\u001b[1;34m\u001b[0m\n\u001b[1;32m----> 1\u001b[1;33m \u001b[1;32mwith\u001b[0m \u001b[0mK\u001b[0m\u001b[1;33m.\u001b[0m\u001b[0mdevice\u001b[0m\u001b[1;33m(\u001b[0m\u001b[1;34m'/device:GPU:0'\u001b[0m\u001b[1;33m)\u001b[0m\u001b[1;33m:\u001b[0m\u001b[1;33m\u001b[0m\u001b[1;33m\u001b[0m\u001b[0m\n\u001b[0m\u001b[0;32m      2\u001b[0m     \u001b[0mmodel\u001b[0m \u001b[1;33m=\u001b[0m \u001b[0mSequential\u001b[0m\u001b[1;33m(\u001b[0m\u001b[1;33m)\u001b[0m\u001b[1;33m\u001b[0m\u001b[1;33m\u001b[0m\u001b[0m\n\u001b[0;32m      3\u001b[0m     \u001b[0mmodel\u001b[0m\u001b[1;33m.\u001b[0m\u001b[0madd\u001b[0m\u001b[1;33m(\u001b[0m\u001b[0mConv2D\u001b[0m\u001b[1;33m(\u001b[0m\u001b[1;36m32\u001b[0m\u001b[1;33m,\u001b[0m \u001b[1;33m(\u001b[0m\u001b[1;36m3\u001b[0m\u001b[1;33m,\u001b[0m\u001b[1;36m3\u001b[0m\u001b[1;33m)\u001b[0m\u001b[1;33m,\u001b[0m \u001b[0mpadding\u001b[0m\u001b[1;33m=\u001b[0m\u001b[1;34m\"same\"\u001b[0m\u001b[1;33m,\u001b[0m \u001b[0minput_shape\u001b[0m\u001b[1;33m=\u001b[0m\u001b[0mX_train\u001b[0m\u001b[1;33m.\u001b[0m\u001b[0mshape\u001b[0m\u001b[1;33m[\u001b[0m\u001b[1;36m1\u001b[0m\u001b[1;33m:\u001b[0m\u001b[1;33m]\u001b[0m\u001b[1;33m,\u001b[0m \u001b[0mactivation\u001b[0m\u001b[1;33m=\u001b[0m\u001b[1;34m'relu'\u001b[0m\u001b[1;33m)\u001b[0m\u001b[1;33m)\u001b[0m\u001b[1;33m\u001b[0m\u001b[1;33m\u001b[0m\u001b[0m\n\u001b[0;32m      4\u001b[0m     \u001b[0mmodel\u001b[0m\u001b[1;33m.\u001b[0m\u001b[0madd\u001b[0m\u001b[1;33m(\u001b[0m\u001b[0mMaxPooling2D\u001b[0m\u001b[1;33m(\u001b[0m\u001b[0mpool_size\u001b[0m\u001b[1;33m=\u001b[0m\u001b[1;33m(\u001b[0m\u001b[1;36m2\u001b[0m\u001b[1;33m,\u001b[0m\u001b[1;36m2\u001b[0m\u001b[1;33m)\u001b[0m\u001b[1;33m)\u001b[0m\u001b[1;33m)\u001b[0m\u001b[1;33m\u001b[0m\u001b[1;33m\u001b[0m\u001b[0m\n\u001b[0;32m      5\u001b[0m     \u001b[0mmodel\u001b[0m\u001b[1;33m.\u001b[0m\u001b[0madd\u001b[0m\u001b[1;33m(\u001b[0m\u001b[0mDropout\u001b[0m\u001b[1;33m(\u001b[0m\u001b[1;36m0.25\u001b[0m\u001b[1;33m)\u001b[0m\u001b[1;33m)\u001b[0m\u001b[1;33m\u001b[0m\u001b[1;33m\u001b[0m\u001b[0m\n",
      "\u001b[1;32m~\\Anaconda3\\envs\\tf_test\\lib\\site-packages\\tensorflow\\python\\util\\deprecation_wrapper.py\u001b[0m in \u001b[0;36m__getattr__\u001b[1;34m(self, name)\u001b[0m\n\u001b[0;32m    104\u001b[0m     \u001b[1;32mif\u001b[0m \u001b[0mname\u001b[0m\u001b[1;33m.\u001b[0m\u001b[0mstartswith\u001b[0m\u001b[1;33m(\u001b[0m\u001b[1;34m'_dw_'\u001b[0m\u001b[1;33m)\u001b[0m\u001b[1;33m:\u001b[0m\u001b[1;33m\u001b[0m\u001b[1;33m\u001b[0m\u001b[0m\n\u001b[0;32m    105\u001b[0m       \u001b[1;32mraise\u001b[0m \u001b[0mAttributeError\u001b[0m\u001b[1;33m(\u001b[0m\u001b[1;34m'Accessing local variables before they are created.'\u001b[0m\u001b[1;33m)\u001b[0m\u001b[1;33m\u001b[0m\u001b[1;33m\u001b[0m\u001b[0m\n\u001b[1;32m--> 106\u001b[1;33m     \u001b[0mattr\u001b[0m \u001b[1;33m=\u001b[0m \u001b[0mgetattr\u001b[0m\u001b[1;33m(\u001b[0m\u001b[0mself\u001b[0m\u001b[1;33m.\u001b[0m\u001b[0m_dw_wrapped_module\u001b[0m\u001b[1;33m,\u001b[0m \u001b[0mname\u001b[0m\u001b[1;33m)\u001b[0m\u001b[1;33m\u001b[0m\u001b[1;33m\u001b[0m\u001b[0m\n\u001b[0m\u001b[0;32m    107\u001b[0m     if (self._dw_warning_count < _PER_MODULE_WARNING_LIMIT and\n\u001b[0;32m    108\u001b[0m         name not in self._dw_deprecated_printed):\n",
      "\u001b[1;31mAttributeError\u001b[0m: module 'tensorflow.python.keras.api._v1.keras.backend' has no attribute 'device'"
     ]
    }
   ],
   "source": [
    "with K.tf_ops.device('/device:GPU:0'):\n",
    "    model = Sequential()\n",
    "    model.add(Conv2D(32, (3,3), padding=\"same\", input_shape=X_train.shape[1:], activation='relu'))\n",
    "    model.add(MaxPooling2D(pool_size=(2,2)))\n",
    "    model.add(Dropout(0.25))\n",
    "    \n",
    "    model.add(Conv2D(64, (3,3), padding=\"same\", activation='relu'))\n",
    "    model.add(MaxPooling2D(pool_size=(2,2)))\n",
    "    model.add(Dropout(0.25))\n",
    "    \n",
    "    model.add(Flatten())\n",
    "    model.add(Dense(256, activation='relu'))\n",
    "    model.add(Dropout(0.5))\n",
    "    model.add(Dense(128, activation='relu'))\n",
    "    model.add(Dense(64, activation='relu'))\n",
    "    model.add(Dense(nb_classes, activation='softmax'))\n",
    "    model.compile(loss='categorical_crossentropy', optimizer='adam', metrics=['accuracy'])\n",
    "    model_dir = './model'\n",
    "    \n",
    "    if not os.path.exists(model_dir):\n",
    "        os.mkdir(model_dir)\n",
    "    \n",
    "    model_path = model_dir + '/multi_img_classification.model'\n",
    "    checkpoint = ModelCheckpoint(filepath=model_path , monitor='test_loss', verbose=1, save_best_only=True)\n",
    "    early_stopping = EarlyStopping(monitor='test_loss', patience=6)\n",
    "    \n",
    "model.summary()"
   ]
  },
  {
   "cell_type": "code",
   "execution_count": 15,
   "metadata": {
    "scrolled": true
   },
   "outputs": [
    {
     "name": "stdout",
     "output_type": "stream",
     "text": [
      "WARNING:tensorflow:From C:\\Users\\ICT01_02\\Anaconda3\\envs\\tf_test\\lib\\site-packages\\keras\\backend\\tensorflow_backend.py:422: The name tf.global_variables is deprecated. Please use tf.compat.v1.global_variables instead.\n",
      "\n",
      "Train on 3014 samples, validate on 1005 samples\n",
      "Epoch 1/20\n",
      "3014/3014 [==============================] - 51s 17ms/step - loss: 1.5641 - accuracy: 0.2880 - val_loss: 1.3516 - val_accuracy: 0.4070\n",
      "Epoch 2/20\n"
     ]
    },
    {
     "name": "stderr",
     "output_type": "stream",
     "text": [
      "C:\\Users\\ICT01_02\\Anaconda3\\envs\\tf_test\\lib\\site-packages\\keras\\callbacks\\callbacks.py:707: RuntimeWarning: Can save best model only with test_loss available, skipping.\n",
      "  'skipping.' % (self.monitor), RuntimeWarning)\n",
      "C:\\Users\\ICT01_02\\Anaconda3\\envs\\tf_test\\lib\\site-packages\\keras\\callbacks\\callbacks.py:846: RuntimeWarning: Early stopping conditioned on metric `test_loss` which is not available. Available metrics are: val_loss,val_accuracy,loss,accuracy\n",
      "  (self.monitor, ','.join(list(logs.keys()))), RuntimeWarning\n"
     ]
    },
    {
     "name": "stdout",
     "output_type": "stream",
     "text": [
      "3014/3014 [==============================] - 50s 17ms/step - loss: 1.3495 - accuracy: 0.3908 - val_loss: 1.2778 - val_accuracy: 0.4587\n",
      "Epoch 3/20\n",
      "3014/3014 [==============================] - 50s 16ms/step - loss: 1.2899 - accuracy: 0.4297 - val_loss: 1.2721 - val_accuracy: 0.4806\n",
      "Epoch 4/20\n",
      "3014/3014 [==============================] - 50s 16ms/step - loss: 1.2431 - accuracy: 0.4363 - val_loss: 1.2280 - val_accuracy: 0.4348\n",
      "Epoch 5/20\n",
      "3014/3014 [==============================] - 50s 17ms/step - loss: 1.2119 - accuracy: 0.4602 - val_loss: 1.1643 - val_accuracy: 0.4816\n",
      "Epoch 6/20\n",
      "3014/3014 [==============================] - 49s 16ms/step - loss: 1.1904 - accuracy: 0.4784 - val_loss: 1.1632 - val_accuracy: 0.4796\n",
      "Epoch 7/20\n",
      "3014/3014 [==============================] - 49s 16ms/step - loss: 1.1448 - accuracy: 0.4871 - val_loss: 1.0696 - val_accuracy: 0.5632\n",
      "Epoch 8/20\n",
      "3014/3014 [==============================] - 50s 17ms/step - loss: 1.1104 - accuracy: 0.5113 - val_loss: 1.0932 - val_accuracy: 0.5134\n",
      "Epoch 9/20\n",
      "3014/3014 [==============================] - 52s 17ms/step - loss: 1.0779 - accuracy: 0.5392 - val_loss: 1.0254 - val_accuracy: 0.5512\n",
      "Epoch 10/20\n",
      "3014/3014 [==============================] - 53s 18ms/step - loss: 1.0092 - accuracy: 0.5528 - val_loss: 0.9149 - val_accuracy: 0.6179\n",
      "Epoch 11/20\n",
      "3014/3014 [==============================] - 50s 17ms/step - loss: 0.9894 - accuracy: 0.5677 - val_loss: 0.9902 - val_accuracy: 0.5791\n",
      "Epoch 12/20\n",
      "3014/3014 [==============================] - 51s 17ms/step - loss: 0.9427 - accuracy: 0.5873 - val_loss: 0.9134 - val_accuracy: 0.5920\n",
      "Epoch 13/20\n",
      "3014/3014 [==============================] - 49s 16ms/step - loss: 0.8901 - accuracy: 0.6231 - val_loss: 0.9659 - val_accuracy: 0.5522\n",
      "Epoch 14/20\n",
      "3014/3014 [==============================] - 48s 16ms/step - loss: 0.8748 - accuracy: 0.6231 - val_loss: 0.8813 - val_accuracy: 0.6149\n",
      "Epoch 15/20\n",
      "3014/3014 [==============================] - 49s 16ms/step - loss: 0.8058 - accuracy: 0.6473 - val_loss: 0.9073 - val_accuracy: 0.6030\n",
      "Epoch 16/20\n",
      "3014/3014 [==============================] - 48s 16ms/step - loss: 0.7854 - accuracy: 0.6679 - val_loss: 0.9004 - val_accuracy: 0.6318\n",
      "Epoch 17/20\n",
      "3014/3014 [==============================] - 48s 16ms/step - loss: 0.7721 - accuracy: 0.6802 - val_loss: 0.8202 - val_accuracy: 0.6408\n",
      "Epoch 18/20\n",
      "3014/3014 [==============================] - 49s 16ms/step - loss: 0.7286 - accuracy: 0.6921 - val_loss: 0.8225 - val_accuracy: 0.6368\n",
      "Epoch 19/20\n",
      "3014/3014 [==============================] - 49s 16ms/step - loss: 0.7115 - accuracy: 0.6987 - val_loss: 0.8310 - val_accuracy: 0.6786\n",
      "Epoch 20/20\n",
      "3014/3014 [==============================] - 49s 16ms/step - loss: 0.6837 - accuracy: 0.7167 - val_loss: 0.8147 - val_accuracy: 0.6667\n"
     ]
    }
   ],
   "source": [
    "history = model.fit(X_train, y_train, batch_size=32, epochs=20, validation_data=(X_test, y_test), callbacks=[checkpoint, early_stopping])"
   ]
  },
  {
   "cell_type": "code",
   "execution_count": 16,
   "metadata": {},
   "outputs": [
    {
     "name": "stdout",
     "output_type": "stream",
     "text": [
      "1005/1005 [==============================] - 4s 4ms/step\n",
      "정확도 : 0.6667\n"
     ]
    }
   ],
   "source": [
    "print(\"정확도 : %.4f\" % (model.evaluate(X_test, y_test)[1]))"
   ]
  },
  {
   "cell_type": "code",
   "execution_count": 48,
   "metadata": {},
   "outputs": [
    {
     "data": {
      "text/plain": [
       "{'val_loss': [1.2196925341786438,\n",
       "  1.0214012981054201,\n",
       "  0.8823833470913901,\n",
       "  0.7827238837581368,\n",
       "  0.722322225155522,\n",
       "  0.6704809601034099,\n",
       "  0.6308294287368433,\n",
       "  0.7172469720318543,\n",
       "  0.5936917822752426,\n",
       "  0.6223241010708596,\n",
       "  0.6416264389877888,\n",
       "  0.6086906460980278,\n",
       "  0.6279891821875501,\n",
       "  0.6774123392294888,\n",
       "  0.698136173848489,\n",
       "  0.6865273862335812,\n",
       "  0.7689774176374596,\n",
       "  0.7221927361701852,\n",
       "  0.8579677719381911,\n",
       "  0.6964496313635983],\n",
       " 'val_accuracy': [0.482587069272995,\n",
       "  0.5950248837471008,\n",
       "  0.6517412662506104,\n",
       "  0.6955223679542542,\n",
       "  0.7064676880836487,\n",
       "  0.7572139501571655,\n",
       "  0.7751243710517883,\n",
       "  0.7731343507766724,\n",
       "  0.8009950518608093,\n",
       "  0.7970149517059326,\n",
       "  0.7830845713615417,\n",
       "  0.806965172290802,\n",
       "  0.8109452724456787,\n",
       "  0.8129353523254395,\n",
       "  0.8179104328155518,\n",
       "  0.8079602122306824,\n",
       "  0.8129353523254395,\n",
       "  0.8029850721359253,\n",
       "  0.800000011920929,\n",
       "  0.8149253726005554],\n",
       " 'loss': [1.3875916107806767,\n",
       "  1.091302579613656,\n",
       "  0.9504211111897732,\n",
       "  0.8600206973146111,\n",
       "  0.7226237537216966,\n",
       "  0.6396871254431465,\n",
       "  0.5313541361568934,\n",
       "  0.49904994111614426,\n",
       "  0.41546143596347945,\n",
       "  0.351723031920159,\n",
       "  0.2995922243112591,\n",
       "  0.3050206557717162,\n",
       "  0.250104954109021,\n",
       "  0.20711402332517748,\n",
       "  0.19450063640579293,\n",
       "  0.19618338791439688,\n",
       "  0.15388784479466036,\n",
       "  0.16887612415412126,\n",
       "  0.1502780248055651,\n",
       "  0.14003603415737978],\n",
       " 'accuracy': [0.3715992,\n",
       "  0.5149303,\n",
       "  0.57431984,\n",
       "  0.6386861,\n",
       "  0.69807565,\n",
       "  0.7305906,\n",
       "  0.78201723,\n",
       "  0.800929,\n",
       "  0.8341075,\n",
       "  0.8623092,\n",
       "  0.884207,\n",
       "  0.88387525,\n",
       "  0.90743196,\n",
       "  0.9210352,\n",
       "  0.9270073,\n",
       "  0.9316523,\n",
       "  0.9376244,\n",
       "  0.93961513,\n",
       "  0.9445919,\n",
       "  0.9472462]}"
      ]
     },
     "execution_count": 48,
     "metadata": {},
     "output_type": "execute_result"
    }
   ],
   "source": [
    "history.history"
   ]
  },
  {
   "cell_type": "code",
   "execution_count": 49,
   "metadata": {},
   "outputs": [
    {
     "data": {
      "image/png": "[encoded data removed]",
      "text/plain": [
       "<Figure size 432x288 with 1 Axes>"
      ]
     },
     "metadata": {
      "needs_background": "light"
     },
     "output_type": "display_data"
    }
   ],
   "source": [
    "y_vloss = history.history['val_accuracy']\n",
    "y_loss = history.history['accuracy']\n",
    "\n",
    "x_len = np.arange(len(y_loss))\n",
    "\n",
    "plt.plot(x_len, y_vloss, marker='.', c='red', label='val_accuracy')\n",
    "plt.plot(x_len, y_loss, marker='.', c='blue', label='accuracy')\n",
    "plt.legend()\n",
    "plt.xlabel('epochs')\n",
    "plt.ylabel('loss')\n",
    "plt.grid()\n",
    "plt.show()"
   ]
  },
  {
   "cell_type": "code",
   "execution_count": 47,
   "metadata": {},
   "outputs": [
    {
     "data": {
      "image/png": "[encoded data removed]",
      "text/plain": [
       "<Figure size 432x288 with 1 Axes>"
      ]
     },
     "metadata": {
      "needs_background": "light"
     },
     "output_type": "display_data"
    }
   ],
   "source": [
    "y_vloss = history.history['val_loss']\n",
    "y_loss = history.history['loss']\n",
    "\n",
    "x_len = np.arange(len(y_loss))\n",
    "\n",
    "plt.plot(x_len, y_vloss, marker='.', c='red', label='val_set_loss')\n",
    "plt.plot(x_len, y_loss, marker='.', c='blue', label='train_set_oss')\n",
    "plt.legend()\n",
    "plt.xlabel('epochs')\n",
    "plt.ylabel('loss')\n",
    "plt.grid()\n",
    "plt.show()"
   ]
  },
  {
   "cell_type": "markdown",
   "metadata": {},
   "source": [
    "# 모델 앙상블하기\n",
    "https://github.com/KerasKorea/KEKOxTutorial/blob/master/16_Ensembling%20ConvNets%20using%20Keras.md\n",
    "\n",
    "https://github.com/mmxmb/keras_ensemblng/blob/master/keras_ensembling.ipynb"
   ]
  },
  {
   "cell_type": "code",
   "execution_count": null,
   "metadata": {},
   "outputs": [],
   "source": [
    "# 새로운 모델에 적용하기"
   ]
  },
  {
   "cell_type": "code",
   "execution_count": 50,
   "metadata": {},
   "outputs": [
    {
     "name": "stdout",
     "output_type": "stream",
     "text": [
      "(3014, 100, 100, 3)\n",
      "3014\n"
     ]
    }
   ],
   "source": [
    "from keras.models import Model, Input\n",
    "from keras.layers import Conv2D, MaxPooling2D, GlobalAveragePooling2D, Dropout, Activation, Average\n",
    "from keras.utils import to_categorical\n",
    "from keras.losses import categorical_crossentropy\n",
    "from keras.callbacks import ModelCheckpoint, TensorBoard\n",
    "from keras.callbacks import History\n",
    "from keras.engine import training\n",
    "from keras.optimizers import Adam\n",
    "from typing import Tuple, List\n",
    "\n",
    "import glob\n",
    "import numpy as np\n",
    "from tensorflow.python.framework import ops\n",
    "ops.reset_default_graph()\n",
    "import tensorflow as tf\n",
    "'''\n",
    "config = tf.ConfigProto()  텐서플로우 2. 에서 구동안됨\n",
    "module 'tensorflow' has no attribute 'ConfigProto'\n",
    "'''\n",
    "config = tf.compat.v1.ConfigProto()\n",
    "config.gpu_options.allow_growth = True\n",
    "\n",
    "# session = tf.Session(config=config) 자동세션기능\n",
    "X_train, X_test, y_train, y_test = np.load('./multi_image_data.npy',allow_pickle=True)\n",
    "print(X_train.shape)\n",
    "print(X_train.shape[0])"
   ]
  },
  {
   "cell_type": "code",
   "execution_count": null,
   "metadata": {},
   "outputs": [],
   "source": [
    "# 현재 작업 폴더 얻기 os.getcwd()\n",
    "'''\n",
    "CONV_POOL_CNN_WEIGHT_FILE = os.path.join(os.getcwd(), 'weights', 'conv_pool_cnn_pretrained_weights.hdf5')\n",
    "ALL_CNN_WEIGHT_FILE = os.path.join(os.getcwd(), 'weights', 'all_cnn_pretrained_weights.hdf5')\n",
    "NIN_CNN_WEIGHT_FILE = os.path.join(os.getcwd(), 'weights', 'nin_cnn_pretrained_weights.hdf5')\n",
    "''' 에러나서 현재 못씀"
   ]
  },
  {
   "cell_type": "code",
   "execution_count": 51,
   "metadata": {},
   "outputs": [
    {
     "name": "stdout",
     "output_type": "stream",
     "text": [
      "X_train shape: (3014, 100, 100, 3) | y_train shape: (3014, 5)\n",
      "X_test shape : (1005, 100, 100, 3) | y_test shape : (1005, 5)\n"
     ]
    }
   ],
   "source": [
    "categories = [\"corgi\", \"golden\" ,\"dach\" ,\"husky\" ,\"beagle\"]\n",
    "nb_classes = len(categories)\n",
    "\n",
    "#일반화\n",
    "X_train = X_train.astype(float) / 255\n",
    "X_test = X_test.astype(float) / 255\n",
    "\n",
    "print('X_train shape: {} | y_train shape: {}\\nX_test shape : {} | y_test shape : {}'.format(\n",
    "    X_train.shape, y_train.shape, X_test.shape, y_test.shape))\n",
    "\n",
    "\n",
    "#세개의 모델에서 같은 형태의 데이터를 사용할 것, 모든 모델에서 사용할 단일 입력 레이어를 정의.\n",
    "input_shape =X_train[0,:,:,:].shape\n",
    "model_input = Input(shape =input_shape)"
   ]
  },
  {
   "cell_type": "code",
   "execution_count": null,
   "metadata": {},
   "outputs": [],
   "source": [
    "# 모델보다 작아서 훈련이 훨씬 빠름. 최종 Conv2D\n",
    "def nin_cnn(model_input):\n",
    "    \n",
    "    #mlpconv block 1\n",
    "    x = Conv2D(32, (5, 5), activation='relu',padding='valid')(model_input)\n",
    "    x = Conv2D(32, (1, 1), activation='relu')(x)\n",
    "    x = Conv2D(32, (1, 1), activation='relu')(x)\n",
    "    x = MaxPooling2D((2, 2))(x)\n",
    "    x = Dropout(0.5)(x)\n",
    "    \n",
    "    #mlpconv block2\n",
    "    x = Conv2D(64, (3, 3), activation='relu',padding='valid')(x)\n",
    "    x = Conv2D(64, (1, 1), activation='relu')(x)\n",
    "    x = Conv2D(64, (1, 1), activation='relu')(x)\n",
    "    x = MaxPooling2D((2, 2))(x)\n",
    "    x = Dropout(0.5)(x)\n",
    "    \n",
    "    #mlpconv block3\n",
    "    x = Conv2D(128, (3, 3), activation='relu',padding='valid')(x)\n",
    "    x = Conv2D(32, (1, 1), activation='relu')(x)\n",
    "    x = Conv2D(10, (1, 1))(x)\n",
    "    \n",
    "    x = GlobalAveragePooling2D()(x)\n",
    "    x = Activation(activation='softmax')(x)\n",
    "    \n",
    "    model = Model(model_input, x, name='nin_cnn')\n",
    "    \n",
    "    return model\n",
    "\n",
    "\n",
    "nin_cnn_model = nin_cnn(model_input)\n",
    "nin_cnn_model.summary()"
   ]
  },
  {
   "cell_type": "code",
   "execution_count": 53,
   "metadata": {},
   "outputs": [],
   "source": [
    "''' 단순화를 위해 각 모델은 동일한 매개변수를 사용하여 compile 되고 train\n",
    "32 배치사이즈로 1 epoch 당 1250번의 stpe??) 20 epoch로 사용하면 3가지 모델중 어떤모델이라도\n",
    "국소 최소치(local minimum)를 얻는데는 충분할 것으로 보임. \n",
    "훈련데이터 세트에서 무작위로 validation_split = 20% 데이터 검증으로 사용'''\n",
    "\n",
    "def compile_and_train(model, num_epochs):\n",
    "    model.compile(loss = categorical_crossentropy, optimizer=Adam(), metrics=['acc'])\n",
    "    '''filepath = 'weights/' + model.name + '.{epoch:02d}-{loss:.2f}.hdf5'\n",
    "    checkpoint = ModelCheckpoint(filepath, monitor='loss', verbose=0, \n",
    "                                 save_weights_only=True, save_best_only=True, mode='auto', period=1)\n",
    "    tensor_board = TensorBoard(log_dir='logs/', histogram_freq=0, batch_size=32)\n",
    "    '''\n",
    "    history= model.fit(x=X_train, y=y_train, batch_size=32, epochs=num_epochs, verbose=1,\n",
    "                       validation_split =0.2) #callbacks=[checkpoint, tensor_board]\n",
    "    \n",
    "    # 위에서 weight 에러나서 callback 실현못함.. 누가 알아내줭"
   ]
  },
  {
   "cell_type": "code",
   "execution_count": null,
   "metadata": {},
   "outputs": [],
   "source": [
    "_ = compile_and_train(nin_cnn_model, num_epochs=20)"
   ]
  },
  {
   "cell_type": "code",
   "execution_count": null,
   "metadata": {},
   "outputs": [
    {
     "name": "stdout",
     "output_type": "stream",
     "text": [
      "Train on 2411 samples, validate on 603 samples\n",
      "Epoch 1/20\n",
      "2411/2411 [==============================] - 414s 172ms/step - loss: 1.5662 - acc: 0.2298 - val_loss: 1.5298 - val_acc: 0.2338\n",
      "Epoch 2/20\n",
      " 224/2411 [=>............................] - ETA: 5:59 - loss: 1.5145 - acc: 0.2321"
     ]
    }
   ],
   "source": [
    "try:\n",
    "    nin_cnn_weight_file\n",
    "except NameError:\n",
    "    nin_cnn_model.load_weights(NIN_CNN_WEIGHT_FILE)\n",
    "evaluate_error(nin_cnn_model)"
   ]
  },
  {
   "cell_type": "code",
   "execution_count": null,
   "metadata": {},
   "outputs": [],
   "source": [
    "def evaluate_error(model):\n",
    "    pred = model.predict(X_test, batch_size=32)\n",
    "    pred = np.argmax(pred, axis=1)\n",
    "    pred = np.expand_dims(pred, axis=1) # make same shape as y_test\n",
    "    error = np.sum(np.not_equal(pred, y_test))/ y_test.shape[0]\n",
    "    return error\n",
    "\n",
    "# 모델 평가, 테스트세트의 에러율 계산하기\n",
    "'''\n",
    "try:\n",
    "    conv_pool_cnn_weight_file\n",
    "except NameError:\n",
    "    conv_pool_cnn_model.load_weights(CONV_POOL_CNN_WEIGHT_FILE)   \n",
    "evaluate_error(conv_pool_cnn_model)'''\n",
    "\n",
    "evaluate_error(all_cnn_model)"
   ]
  },
  {
   "cell_type": "markdown",
   "metadata": {},
   "source": [
    "# Three Model Ensemble"
   ]
  },
  {
   "cell_type": "code",
   "execution_count": null,
   "metadata": {},
   "outputs": [],
   "source": [
    "conv_pool_cnn_model = conv_pool_cnn(model_input)\n",
    "all_cnn_model = all_cnn(model_input)\n",
    "nin_cnn_model = nin_cnn(model_input)\n",
    "\n",
    "conv_pool_cnn_model.load_weights('weights/conv_pool_cnn.29-0.10.hdf5')\n",
    "all_cnn_model.load_weights('weights/all_cnn.30-0.08.hdf5')\n",
    "nin_cnn_model.load_weights('weights/nin_cnn.30-0.93.hdf5')\n",
    "\n",
    "models = [conv_pool_cnn_model, all_cnn_model, nin_cnn_model]\n",
    "\n",
    "\n",
    "'''conv_pool_cnn_model = conv_pool_cnn(model_input)\n",
    "all_cnn_model = all_cnn(model_input)\n",
    "nin_cnn_model = nin_cnn(model_input)\n",
    "\n",
    "\n",
    "try:\n",
    "    conv_pool_cnn_model.load_weights(conv_pool_cnn_weight_file)\n",
    "except NameError:\n",
    "    conv_pool_cnn_model.load_weights(CONV_POOL_CNN_WEIGHT_FILE)\n",
    "try:\n",
    "    all_cnn_model.load_weights(all_cnn_weight_file)\n",
    "except NameError:\n",
    "    all_cnn_model.load_weights(ALL_CNN_WEIGHT_FILE)\n",
    "try:\n",
    "    nin_cnn_model.load_weights(nin_cnn_weight_file)\n",
    "except NameError:\n",
    "    nin_cnn_model.load_weights(NIN_CNN_WEIGHT_FILE)\n",
    "\n",
    "\n",
    "models = [conv_pool_cnn_model, all_cnn_model, nin_cnn_model]'''"
   ]
  },
  {
   "cell_type": "code",
   "execution_count": null,
   "metadata": {},
   "outputs": [],
   "source": [
    "def ensemble(models, model_input):\n",
    "    \n",
    "    outputs = [model.outputs[0] for model in models]\n",
    "    y = Average()(outputs)\n",
    "    \n",
    "    model = Model(model_input, y, name='ensemble')\n",
    "    \n",
    "    return model\n",
    "\n",
    "ensemble_model = ensemble(models, model_input)\n",
    "\n",
    "evaluate_error(ensemble_model)"
   ]
  }
 ],
 "metadata": {
  "kernelspec": {
   "display_name": "Python 3",
   "language": "python",
   "name": "python3"
  },
  "language_info": {
   "codemirror_mode": {
    "name": "ipython",
    "version": 3
   },
   "file_extension": ".py",
   "mimetype": "text/x-python",
   "name": "python",
   "nbconvert_exporter": "python",
   "pygments_lexer": "ipython3",
   "version": "3.7.6"
  }
 },
 "nbformat": 4,
 "nbformat_minor": 4
}
