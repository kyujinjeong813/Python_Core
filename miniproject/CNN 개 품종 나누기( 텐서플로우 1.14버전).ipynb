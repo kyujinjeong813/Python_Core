{
 "cells": [
  {
   "cell_type": "code",
   "execution_count": 2,
   "metadata": {},
   "outputs": [
    {
     "name": "stdout",
     "output_type": "stream",
     "text": [
      "corgi  파일 길이 :  970\n",
      "corgi  :  .//corgi\\corgi 10.jpg\n",
      "corgi  :  .//corgi\\corgi2909.jpg\n",
      "golden  파일 길이 :  799\n",
      "golden  :  .//golden\\gold (1).jpg\n",
      "golden  :  .//golden\\gold_dog665.jpg\n",
      "dach  파일 길이 :  945\n",
      "dach  :  .//dach\\dachs.jpg\n",
      "dach  :  .//dach\\docss (67).jpg\n",
      "husky  파일 길이 :  502\n",
      "husky  :  .//husky\\husky1.jpg\n",
      "beagle  파일 길이 :  803\n",
      "beagle  :  .//beagle\\beagle (1).jpg\n",
      "beagle  :  .//beagle\\beagle645.jpg\n",
      "ok 4019\n"
     ]
    }
   ],
   "source": [
    "from PIL import Image\n",
    "import os, glob, numpy as np\n",
    "from sklearn.model_selection import train_test_split\n",
    "\n",
    "caltech_dir = \"./\"\n",
    "categories = [\"corgi\", \"golden\" ,\"dach\" ,\"husky\" ,\"beagle\"] # 각 카테고리 폴더에서 불러오기\n",
    "nb_classes = len(categories)\n",
    "\n",
    "image_w = 100\n",
    "image_h = 100\n",
    "\n",
    "pixels = image_h * image_w * 3\n",
    "\n",
    "X = []\n",
    "y = []\n",
    "\n",
    "for idx, cat in enumerate(categories):\n",
    "    \n",
    "    #one-hot 돌리기.\n",
    "    label = [0 for i in range(nb_classes)]\n",
    "    label[idx] = 1\n",
    "\n",
    "    image_dir = caltech_dir + \"/\" + cat\n",
    "    files = glob.glob(image_dir+\"/*.jpg\")\n",
    "    print(cat, \" 파일 길이 : \", len(files))\n",
    "    for i, f in enumerate(files):\n",
    "        img = Image.open(f)\n",
    "        img = img.convert(\"RGB\")\n",
    "        img = img.resize((image_w, image_h))\n",
    "        data = np.asarray(img)\n",
    "\n",
    "        X.append(data)\n",
    "        y.append(label)\n",
    "\n",
    "        if i % 700 == 0:\n",
    "            print(cat, \" : \", f)\n",
    "\n",
    "X = np.array(X)\n",
    "y = np.array(y)\n",
    "#1 0 0 0 이면 airplanes\n",
    "#0 1 0 0 이면 buddha 이런식\n",
    "\n",
    "\n",
    "X_train, X_test, y_train, y_test = train_test_split(X, y)\n",
    "xy = (X_train, X_test, y_train, y_test)\n",
    "np.save(\"./multi_image_data.npy\", xy)\n",
    "\n",
    "print(\"ok\", len(y))"
   ]
  },
  {
   "cell_type": "markdown",
   "metadata": {},
   "source": [
    "# 위에서 이미지 4000장 불러오면서 이미지벡터화 시킴."
   ]
  },
  {
   "cell_type": "code",
   "execution_count": 3,
   "metadata": {},
   "outputs": [
    {
     "name": "stderr",
     "output_type": "stream",
     "text": [
      "C:\\Users\\ICT01_02\\Anaconda3\\envs\\tf_test\\lib\\site-packages\\tensorflow\\python\\framework\\dtypes.py:516: FutureWarning: Passing (type, 1) or '1type' as a synonym of type is deprecated; in a future version of numpy, it will be understood as (type, (1,)) / '(1,)type'.\n",
      "  _np_qint8 = np.dtype([(\"qint8\", np.int8, 1)])\n",
      "C:\\Users\\ICT01_02\\Anaconda3\\envs\\tf_test\\lib\\site-packages\\tensorflow\\python\\framework\\dtypes.py:517: FutureWarning: Passing (type, 1) or '1type' as a synonym of type is deprecated; in a future version of numpy, it will be understood as (type, (1,)) / '(1,)type'.\n",
      "  _np_quint8 = np.dtype([(\"quint8\", np.uint8, 1)])\n",
      "C:\\Users\\ICT01_02\\Anaconda3\\envs\\tf_test\\lib\\site-packages\\tensorflow\\python\\framework\\dtypes.py:518: FutureWarning: Passing (type, 1) or '1type' as a synonym of type is deprecated; in a future version of numpy, it will be understood as (type, (1,)) / '(1,)type'.\n",
      "  _np_qint16 = np.dtype([(\"qint16\", np.int16, 1)])\n",
      "C:\\Users\\ICT01_02\\Anaconda3\\envs\\tf_test\\lib\\site-packages\\tensorflow\\python\\framework\\dtypes.py:519: FutureWarning: Passing (type, 1) or '1type' as a synonym of type is deprecated; in a future version of numpy, it will be understood as (type, (1,)) / '(1,)type'.\n",
      "  _np_quint16 = np.dtype([(\"quint16\", np.uint16, 1)])\n",
      "C:\\Users\\ICT01_02\\Anaconda3\\envs\\tf_test\\lib\\site-packages\\tensorflow\\python\\framework\\dtypes.py:520: FutureWarning: Passing (type, 1) or '1type' as a synonym of type is deprecated; in a future version of numpy, it will be understood as (type, (1,)) / '(1,)type'.\n",
      "  _np_qint32 = np.dtype([(\"qint32\", np.int32, 1)])\n",
      "C:\\Users\\ICT01_02\\Anaconda3\\envs\\tf_test\\lib\\site-packages\\tensorflow\\python\\framework\\dtypes.py:525: FutureWarning: Passing (type, 1) or '1type' as a synonym of type is deprecated; in a future version of numpy, it will be understood as (type, (1,)) / '(1,)type'.\n",
      "  np_resource = np.dtype([(\"resource\", np.ubyte, 1)])\n"
     ]
    },
    {
     "name": "stdout",
     "output_type": "stream",
     "text": [
      "scipy 1.3.2\n",
      "numpy 1.18.1\n",
      "matplotlib 3.1.1\n",
      "pandas 0.25.3\n",
      "sklearn 0.22.1\n",
      "h5py 2.9.0\n",
      "tensorflow 1.14.0\n",
      "keras 2.3.1\n"
     ]
    },
    {
     "name": "stderr",
     "output_type": "stream",
     "text": [
      "C:\\Users\\ICT01_02\\Anaconda3\\envs\\tf_test\\lib\\site-packages\\tensorboard\\compat\\tensorflow_stub\\dtypes.py:541: FutureWarning: Passing (type, 1) or '1type' as a synonym of type is deprecated; in a future version of numpy, it will be understood as (type, (1,)) / '(1,)type'.\n",
      "  _np_qint8 = np.dtype([(\"qint8\", np.int8, 1)])\n",
      "C:\\Users\\ICT01_02\\Anaconda3\\envs\\tf_test\\lib\\site-packages\\tensorboard\\compat\\tensorflow_stub\\dtypes.py:542: FutureWarning: Passing (type, 1) or '1type' as a synonym of type is deprecated; in a future version of numpy, it will be understood as (type, (1,)) / '(1,)type'.\n",
      "  _np_quint8 = np.dtype([(\"quint8\", np.uint8, 1)])\n",
      "C:\\Users\\ICT01_02\\Anaconda3\\envs\\tf_test\\lib\\site-packages\\tensorboard\\compat\\tensorflow_stub\\dtypes.py:543: FutureWarning: Passing (type, 1) or '1type' as a synonym of type is deprecated; in a future version of numpy, it will be understood as (type, (1,)) / '(1,)type'.\n",
      "  _np_qint16 = np.dtype([(\"qint16\", np.int16, 1)])\n",
      "C:\\Users\\ICT01_02\\Anaconda3\\envs\\tf_test\\lib\\site-packages\\tensorboard\\compat\\tensorflow_stub\\dtypes.py:544: FutureWarning: Passing (type, 1) or '1type' as a synonym of type is deprecated; in a future version of numpy, it will be understood as (type, (1,)) / '(1,)type'.\n",
      "  _np_quint16 = np.dtype([(\"quint16\", np.uint16, 1)])\n",
      "C:\\Users\\ICT01_02\\Anaconda3\\envs\\tf_test\\lib\\site-packages\\tensorboard\\compat\\tensorflow_stub\\dtypes.py:545: FutureWarning: Passing (type, 1) or '1type' as a synonym of type is deprecated; in a future version of numpy, it will be understood as (type, (1,)) / '(1,)type'.\n",
      "  _np_qint32 = np.dtype([(\"qint32\", np.int32, 1)])\n",
      "C:\\Users\\ICT01_02\\Anaconda3\\envs\\tf_test\\lib\\site-packages\\tensorboard\\compat\\tensorflow_stub\\dtypes.py:550: FutureWarning: Passing (type, 1) or '1type' as a synonym of type is deprecated; in a future version of numpy, it will be understood as (type, (1,)) / '(1,)type'.\n",
      "  np_resource = np.dtype([(\"resource\", np.ubyte, 1)])\n",
      "Using TensorFlow backend.\n"
     ]
    }
   ],
   "source": [
    "import scipy\n",
    "import numpy\n",
    "import matplotlib\n",
    "import pandas\n",
    "import sklearn\n",
    "#import pydot\n",
    "import h5py\n",
    "\n",
    "import tensorflow\n",
    "import keras\n",
    "\n",
    "print('scipy ' + scipy.__version__)\n",
    "print('numpy ' + numpy.__version__)\n",
    "print('matplotlib ' + matplotlib.__version__)\n",
    "print('pandas ' + pandas.__version__)\n",
    "print('sklearn ' + sklearn.__version__)\n",
    "print('h5py ' + h5py.__version__)\n",
    "print('tensorflow ' + tensorflow.__version__)\n",
    "print('keras ' + keras.__version__)"
   ]
  },
  {
   "cell_type": "code",
   "execution_count": null,
   "metadata": {},
   "outputs": [],
   "source": []
  },
  {
   "cell_type": "code",
   "execution_count": null,
   "metadata": {},
   "outputs": [],
   "source": [
    "# 텐서플로우 1.14. 버전에서 구동중"
   ]
  },
  {
   "cell_type": "code",
   "execution_count": 4,
   "metadata": {},
   "outputs": [
    {
     "name": "stdout",
     "output_type": "stream",
     "text": [
      "(3014, 100, 100, 3)\n",
      "3014\n",
      "[name: \"/device:CPU:0\"\n",
      "device_type: \"CPU\"\n",
      "memory_limit: 268435456\n",
      "locality {\n",
      "}\n",
      "incarnation: 12653652179965449476\n",
      "]\n"
     ]
    }
   ],
   "source": [
    "import os, glob, numpy as np\n",
    "import tensorflow.keras as keras\n",
    "# module 'tensorflow' has no attribute 'get_default_graph'\n",
    "\n",
    "from keras.models import Sequential\n",
    "from keras.layers import Conv2D, MaxPooling2D, Dense, Flatten, Dropout\n",
    "from keras.callbacks import EarlyStopping, ModelCheckpoint\n",
    "import matplotlib.pyplot as plt\n",
    "import keras.backend.tensorflow_backend as K\n",
    "from tensorflow.python.framework import ops\n",
    "ops.reset_default_graph()\n",
    "import tensorflow as tf\n",
    "'''\n",
    "config = tf.ConfigProto()  텐서플로우 2. 에서 구동안됨\n",
    "module 'tensorflow' has no attribute 'ConfigProto'\n",
    "'''\n",
    "config = tf.compat.v1.ConfigProto()\n",
    "config.gpu_options.allow_growth = True\n",
    "\n",
    "# session = tf.Session(config=config) 자동세션기능\n",
    "X_train, X_test, y_train, y_test = np.load('./multi_image_data.npy',allow_pickle=True)\n",
    "print(X_train.shape)\n",
    "print(X_train.shape[0])\n",
    "\n",
    "from tensorflow.python.client import device_lib\n",
    "print(device_lib.list_local_devices())\n"
   ]
  },
  {
   "cell_type": "code",
   "execution_count": 5,
   "metadata": {},
   "outputs": [],
   "source": [
    "categories = [\"corgi\", \"golden\" ,\"dach\" ,\"husky\" ,\"beagle\"]\n",
    "nb_classes = len(categories)\n",
    "\n",
    "#일반화\n",
    "X_train = X_train.astype(float) / 255\n",
    "X_test = X_test.astype(float) / 255\n"
   ]
  },
  {
   "cell_type": "code",
   "execution_count": 6,
   "metadata": {},
   "outputs": [
    {
     "name": "stdout",
     "output_type": "stream",
     "text": [
      "WARNING:tensorflow:From C:\\Users\\ICT01_02\\Anaconda3\\envs\\tf_test\\lib\\site-packages\\keras\\backend\\tensorflow_backend.py:4070: The name tf.nn.max_pool is deprecated. Please use tf.nn.max_pool2d instead.\n",
      "\n",
      "Model: \"sequential_1\"\n",
      "_________________________________________________________________\n",
      "Layer (type)                 Output Shape              Param #   \n",
      "=================================================================\n",
      "conv2d_1 (Conv2D)            (None, 100, 100, 32)      896       \n",
      "_________________________________________________________________\n",
      "max_pooling2d_1 (MaxPooling2 (None, 50, 50, 32)        0         \n",
      "_________________________________________________________________\n",
      "dropout_1 (Dropout)          (None, 50, 50, 32)        0         \n",
      "_________________________________________________________________\n",
      "conv2d_2 (Conv2D)            (None, 50, 50, 64)        18496     \n",
      "_________________________________________________________________\n",
      "max_pooling2d_2 (MaxPooling2 (None, 25, 25, 64)        0         \n",
      "_________________________________________________________________\n",
      "dropout_2 (Dropout)          (None, 25, 25, 64)        0         \n",
      "_________________________________________________________________\n",
      "flatten_1 (Flatten)          (None, 40000)             0         \n",
      "_________________________________________________________________\n",
      "dense_1 (Dense)              (None, 256)               10240256  \n",
      "_________________________________________________________________\n",
      "dropout_3 (Dropout)          (None, 256)               0         \n",
      "_________________________________________________________________\n",
      "dense_2 (Dense)              (None, 128)               32896     \n",
      "_________________________________________________________________\n",
      "dense_3 (Dense)              (None, 64)                8256      \n",
      "_________________________________________________________________\n",
      "dense_4 (Dense)              (None, 5)                 325       \n",
      "=================================================================\n",
      "Total params: 10,301,125\n",
      "Trainable params: 10,301,125\n",
      "Non-trainable params: 0\n",
      "_________________________________________________________________\n"
     ]
    }
   ],
   "source": [
    "with K.tf.device('/device:GPU:0'): # 디바이스 현재 GPU 없이 CPU로 구동중\n",
    "    model = Sequential()\n",
    "    model.add(Conv2D(32, (3,3), padding=\"same\", input_shape=X_train.shape[1:], activation='relu'))\n",
    "    model.add(MaxPooling2D(pool_size=(2,2)))\n",
    "    model.add(Dropout(0.25))\n",
    "    \n",
    "    model.add(Conv2D(64, (3,3), padding=\"same\", activation='relu'))\n",
    "    model.add(MaxPooling2D(pool_size=(2,2)))\n",
    "    model.add(Dropout(0.25))\n",
    "    \n",
    "    model.add(Flatten())\n",
    "    model.add(Dense(256, activation='relu'))\n",
    "    model.add(Dropout(0.5))\n",
    "    model.add(Dense(128, activation='relu'))\n",
    "    model.add(Dense(64, activation='relu'))\n",
    "    model.add(Dense(nb_classes, activation='softmax'))\n",
    "    model.compile(loss='categorical_crossentropy', optimizer='adam', metrics=['accuracy'])\n",
    "    model_dir = './model'\n",
    "    \n",
    "    if not os.path.exists(model_dir):\n",
    "        os.mkdir(model_dir)\n",
    "    \n",
    "    model_path = model_dir + '/multi_img_classification.model'\n",
    "    checkpoint = ModelCheckpoint(filepath=model_path , monitor='test_loss', verbose=1, save_best_only=True)\n",
    "    early_stopping = EarlyStopping(monitor='test_loss', patience=6)\n",
    "    \n",
    "model.summary()"
   ]
  },
  {
   "cell_type": "code",
   "execution_count": 7,
   "metadata": {
    "scrolled": true
   },
   "outputs": [
    {
     "name": "stdout",
     "output_type": "stream",
     "text": [
      "WARNING:tensorflow:From C:\\Users\\ICT01_02\\Anaconda3\\envs\\tf_test\\lib\\site-packages\\keras\\backend\\tensorflow_backend.py:422: The name tf.global_variables is deprecated. Please use tf.compat.v1.global_variables instead.\n",
      "\n",
      "Train on 3014 samples, validate on 1005 samples\n",
      "Epoch 1/20\n",
      "3014/3014 [==============================] - 23s 8ms/step - loss: 1.5019 - accuracy: 0.3470 - val_loss: 1.1770 - val_accuracy: 0.4746\n",
      "Epoch 2/20\n"
     ]
    },
    {
     "name": "stderr",
     "output_type": "stream",
     "text": [
      "C:\\Users\\ICT01_02\\Anaconda3\\envs\\tf_test\\lib\\site-packages\\keras\\callbacks\\callbacks.py:707: RuntimeWarning: Can save best model only with test_loss available, skipping.\n",
      "  'skipping.' % (self.monitor), RuntimeWarning)\n",
      "C:\\Users\\ICT01_02\\Anaconda3\\envs\\tf_test\\lib\\site-packages\\keras\\callbacks\\callbacks.py:846: RuntimeWarning: Early stopping conditioned on metric `test_loss` which is not available. Available metrics are: val_loss,val_accuracy,loss,accuracy\n",
      "  (self.monitor, ','.join(list(logs.keys()))), RuntimeWarning\n"
     ]
    },
    {
     "name": "stdout",
     "output_type": "stream",
     "text": [
      "3014/3014 [==============================] - 23s 8ms/step - loss: 1.0617 - accuracy: 0.5408 - val_loss: 0.9349 - val_accuracy: 0.5970\n",
      "Epoch 3/20\n",
      "3014/3014 [==============================] - 23s 8ms/step - loss: 0.8529 - accuracy: 0.6370 - val_loss: 0.8710 - val_accuracy: 0.6478\n",
      "Epoch 4/20\n",
      "3014/3014 [==============================] - 23s 8ms/step - loss: 0.7107 - accuracy: 0.7153 - val_loss: 0.8592 - val_accuracy: 0.6517\n",
      "Epoch 5/20\n",
      "3014/3014 [==============================] - 22s 7ms/step - loss: 0.6215 - accuracy: 0.7551 - val_loss: 0.7251 - val_accuracy: 0.7134\n",
      "Epoch 6/20\n",
      "3014/3014 [==============================] - 22s 7ms/step - loss: 0.4815 - accuracy: 0.8042 - val_loss: 0.7398 - val_accuracy: 0.7333\n",
      "Epoch 7/20\n",
      "3014/3014 [==============================] - 22s 7ms/step - loss: 0.3938 - accuracy: 0.8537 - val_loss: 0.7036 - val_accuracy: 0.7443\n",
      "Epoch 8/20\n",
      "3014/3014 [==============================] - 22s 7ms/step - loss: 0.3405 - accuracy: 0.8756 - val_loss: 0.7054 - val_accuracy: 0.7672\n",
      "Epoch 9/20\n",
      "3014/3014 [==============================] - 23s 8ms/step - loss: 0.2702 - accuracy: 0.8981 - val_loss: 0.6950 - val_accuracy: 0.7672\n",
      "Epoch 10/20\n",
      "3014/3014 [==============================] - 21s 7ms/step - loss: 0.2408 - accuracy: 0.9124 - val_loss: 0.6957 - val_accuracy: 0.7920\n",
      "Epoch 11/20\n",
      "3014/3014 [==============================] - 22s 7ms/step - loss: 0.1951 - accuracy: 0.9317 - val_loss: 0.7707 - val_accuracy: 0.7692\n",
      "Epoch 12/20\n",
      "3014/3014 [==============================] - 22s 7ms/step - loss: 0.1808 - accuracy: 0.9360 - val_loss: 0.7936 - val_accuracy: 0.7910\n",
      "Epoch 13/20\n",
      "3014/3014 [==============================] - 22s 7ms/step - loss: 0.1469 - accuracy: 0.9489 - val_loss: 0.7744 - val_accuracy: 0.7960\n",
      "Epoch 14/20\n",
      "3014/3014 [==============================] - 24s 8ms/step - loss: 0.1183 - accuracy: 0.9579 - val_loss: 0.8065 - val_accuracy: 0.7970\n",
      "Epoch 15/20\n",
      "3014/3014 [==============================] - 34s 11ms/step - loss: 0.1184 - accuracy: 0.9579 - val_loss: 0.8678 - val_accuracy: 0.7910\n",
      "Epoch 16/20\n",
      "3014/3014 [==============================] - 33s 11ms/step - loss: 0.1172 - accuracy: 0.9628 - val_loss: 0.7569 - val_accuracy: 0.8199\n",
      "Epoch 17/20\n",
      "3014/3014 [==============================] - 33s 11ms/step - loss: 0.0989 - accuracy: 0.9655 - val_loss: 0.8144 - val_accuracy: 0.7940\n",
      "Epoch 18/20\n",
      "3014/3014 [==============================] - 32s 11ms/step - loss: 0.0922 - accuracy: 0.9672 - val_loss: 0.9470 - val_accuracy: 0.7881\n",
      "Epoch 19/20\n",
      "3014/3014 [==============================] - 33s 11ms/step - loss: 0.1014 - accuracy: 0.9648 - val_loss: 0.9158 - val_accuracy: 0.8060\n",
      "Epoch 20/20\n",
      "3014/3014 [==============================] - 34s 11ms/step - loss: 0.0848 - accuracy: 0.9725 - val_loss: 0.8486 - val_accuracy: 0.8100\n"
     ]
    }
   ],
   "source": [
    "history = model.fit(X_train, y_train, batch_size=32, epochs=20, validation_data=(X_test, y_test), callbacks=[checkpoint, early_stopping])"
   ]
  },
  {
   "cell_type": "code",
   "execution_count": 12,
   "metadata": {},
   "outputs": [
    {
     "name": "stdout",
     "output_type": "stream",
     "text": [
      "1005/1005 [==============================] - 2s 2ms/step\n",
      "정확도 : 0.8100\n"
     ]
    }
   ],
   "source": [
    "print(\"정확도 : %.4f\" % (model.evaluate(X_test, y_test)[1]))"
   ]
  },
  {
   "cell_type": "code",
   "execution_count": 13,
   "metadata": {},
   "outputs": [
    {
     "data": {
      "text/plain": [
       "{'val_loss': [1.177043170834062,\n",
       "  0.9349470018154353,\n",
       "  0.871040527233437,\n",
       "  0.8592179501827677,\n",
       "  0.7250831366623219,\n",
       "  0.7397561420848714,\n",
       "  0.7035774809507588,\n",
       "  0.7054184172877032,\n",
       "  0.695009720355124,\n",
       "  0.6956880258646474,\n",
       "  0.7707107516218774,\n",
       "  0.7935830410736711,\n",
       "  0.774403502714278,\n",
       "  0.8065295225500467,\n",
       "  0.8677627898863892,\n",
       "  0.756917482495901,\n",
       "  0.8143971334197628,\n",
       "  0.9469866952492823,\n",
       "  0.9157968169569376,\n",
       "  0.8486067113888205],\n",
       " 'val_accuracy': [0.4746268689632416,\n",
       "  0.5970149040222168,\n",
       "  0.6477611660957336,\n",
       "  0.6517412662506104,\n",
       "  0.7134328484535217,\n",
       "  0.7333333492279053,\n",
       "  0.744278609752655,\n",
       "  0.7671641707420349,\n",
       "  0.7671641707420349,\n",
       "  0.7920398116111755,\n",
       "  0.7691542506217957,\n",
       "  0.7910447716712952,\n",
       "  0.7960199117660522,\n",
       "  0.7970149517059326,\n",
       "  0.7910447716712952,\n",
       "  0.8199005126953125,\n",
       "  0.7940298318862915,\n",
       "  0.7880597114562988,\n",
       "  0.8059701323509216,\n",
       "  0.8099502325057983],\n",
       " 'loss': [1.5018909812052677,\n",
       "  1.0616573643905878,\n",
       "  0.8529365067855365,\n",
       "  0.7107199080036267,\n",
       "  0.6215351207729357,\n",
       "  0.4815074594391049,\n",
       "  0.39375703879239626,\n",
       "  0.34054341887549683,\n",
       "  0.2702485091623361,\n",
       "  0.24081224917020716,\n",
       "  0.195122169099585,\n",
       "  0.18075760900257395,\n",
       "  0.14689307279409575,\n",
       "  0.11832127498565384,\n",
       "  0.11839827178287127,\n",
       "  0.11724057183900691,\n",
       "  0.09891981771184896,\n",
       "  0.09217740513729301,\n",
       "  0.10139972084976223,\n",
       "  0.08481594453075704],\n",
       " 'accuracy': [0.34704712,\n",
       "  0.5408096,\n",
       "  0.6370272,\n",
       "  0.71532845,\n",
       "  0.7551427,\n",
       "  0.80424684,\n",
       "  0.8536828,\n",
       "  0.8755806,\n",
       "  0.898142,\n",
       "  0.91240877,\n",
       "  0.9316523,\n",
       "  0.9359655,\n",
       "  0.9489051,\n",
       "  0.95786333,\n",
       "  0.95786333,\n",
       "  0.9628401,\n",
       "  0.96549433,\n",
       "  0.9671533,\n",
       "  0.9648308,\n",
       "  0.9724618]}"
      ]
     },
     "execution_count": 13,
     "metadata": {},
     "output_type": "execute_result"
    }
   ],
   "source": [
    "history.history"
   ]
  },
  {
   "cell_type": "code",
   "execution_count": 14,
   "metadata": {},
   "outputs": [
    {
     "data": {
      "image/png": "[encoded data removed]",
      "text/plain": [
       "<Figure size 432x288 with 1 Axes>"
      ]
     },
     "metadata": {
      "needs_background": "light"
     },
     "output_type": "display_data"
    }
   ],
   "source": [
    "y_vloss = history.history['val_accuracy']\n",
    "y_loss = history.history['accuracy']\n",
    "\n",
    "x_len = np.arange(len(y_loss))\n",
    "\n",
    "plt.plot(x_len, y_vloss, marker='.', c='red', label='val_accuracy')\n",
    "plt.plot(x_len, y_loss, marker='.', c='blue', label='accuracy')\n",
    "plt.legend()\n",
    "plt.xlabel('epochs')\n",
    "plt.ylabel('loss')\n",
    "plt.grid()\n",
    "plt.show()"
   ]
  },
  {
   "cell_type": "code",
   "execution_count": 15,
   "metadata": {
    "scrolled": true
   },
   "outputs": [
    {
     "data": {
      "image/png": "[encoded data removed]",
      "text/plain": [
       "<Figure size 432x288 with 1 Axes>"
      ]
     },
     "metadata": {
      "needs_background": "light"
     },
     "output_type": "display_data"
    }
   ],
   "source": [
    "y_vloss = history.history['val_loss']\n",
    "y_loss = history.history['loss']\n",
    "\n",
    "x_len = np.arange(len(y_loss))\n",
    "\n",
    "plt.plot(x_len, y_vloss, marker='.', c='red', label='val_set_loss')\n",
    "plt.plot(x_len, y_loss, marker='.', c='blue', label='train_set_oss')\n",
    "plt.legend()\n",
    "plt.xlabel('epochs')\n",
    "plt.ylabel('loss')\n",
    "plt.grid()\n",
    "plt.show()"
   ]
  },
  {
   "cell_type": "code",
   "execution_count": null,
   "metadata": {},
   "outputs": [],
   "source": [
    "# 모델이 너무 과적합 되서 배치정규화로 나아지는지 확인."
   ]
  },
  {
   "cell_type": "code",
   "execution_count": null,
   "metadata": {},
   "outputs": [],
   "source": []
  },
  {
   "cell_type": "code",
   "execution_count": null,
   "metadata": {},
   "outputs": [],
   "source": []
  },
  {
   "cell_type": "code",
   "execution_count": null,
   "metadata": {},
   "outputs": [],
   "source": []
  },
  {
   "cell_type": "markdown",
   "metadata": {},
   "source": [
    "# 모델 앙상블하기\n",
    "https://github.com/KerasKorea/KEKOxTutorial/blob/master/16_Ensembling%20ConvNets%20using%20Keras.md\n",
    "\n",
    "https://github.com/mmxmb/keras_ensemblng/blob/master/keras_ensembling.ipynb"
   ]
  },
  {
   "cell_type": "code",
   "execution_count": null,
   "metadata": {},
   "outputs": [],
   "source": [
    "# 새로운 모델에 적용하기"
   ]
  },
  {
   "cell_type": "code",
   "execution_count": 16,
   "metadata": {},
   "outputs": [
    {
     "name": "stdout",
     "output_type": "stream",
     "text": [
      "(3014, 100, 100, 3)\n",
      "3014\n"
     ]
    }
   ],
   "source": [
    "from keras.models import Model, Input\n",
    "from keras.layers import Conv2D, MaxPooling2D, GlobalAveragePooling2D, Dropout, Activation, Average\n",
    "from keras.utils import to_categorical\n",
    "from keras.losses import categorical_crossentropy\n",
    "from keras.callbacks import ModelCheckpoint, TensorBoard\n",
    "from keras.callbacks import History\n",
    "from keras.engine import training\n",
    "from keras.optimizers import Adam\n",
    "from typing import Tuple, List\n",
    "\n",
    "import glob\n",
    "import numpy as np\n",
    "from tensorflow.python.framework import ops\n",
    "ops.reset_default_graph()\n",
    "import tensorflow as tf\n",
    "'''\n",
    "config = tf.ConfigProto()  텐서플로우 2. 에서 구동안됨\n",
    "module 'tensorflow' has no attribute 'ConfigProto'\n",
    "'''\n",
    "config = tf.compat.v1.ConfigProto()\n",
    "config.gpu_options.allow_growth = True\n",
    "\n",
    "# session = tf.Session(config=config) 자동세션기능\n",
    "X_train, X_test, y_train, y_test = np.load('./multi_image_data.npy',allow_pickle=True)\n",
    "print(X_train.shape)\n",
    "print(X_train.shape[0])"
   ]
  },
  {
   "cell_type": "code",
   "execution_count": null,
   "metadata": {},
   "outputs": [],
   "source": [
    "# 현재 작업 폴더 얻기 os.getcwd()\n",
    "'''\n",
    "CONV_POOL_CNN_WEIGHT_FILE = os.path.join(os.getcwd(), 'weights', 'conv_pool_cnn_pretrained_weights.hdf5')\n",
    "ALL_CNN_WEIGHT_FILE = os.path.join(os.getcwd(), 'weights', 'all_cnn_pretrained_weights.hdf5')\n",
    "NIN_CNN_WEIGHT_FILE = os.path.join(os.getcwd(), 'weights', 'nin_cnn_pretrained_weights.hdf5')\n",
    "''' 에러나서 현재 못씀"
   ]
  },
  {
   "cell_type": "code",
   "execution_count": 17,
   "metadata": {},
   "outputs": [
    {
     "name": "stdout",
     "output_type": "stream",
     "text": [
      "X_train shape: (3014, 100, 100, 3) | y_train shape: (3014, 5)\n",
      "X_test shape : (1005, 100, 100, 3) | y_test shape : (1005, 5)\n"
     ]
    }
   ],
   "source": [
    "categories = [\"corgi\", \"golden\" ,\"dach\" ,\"husky\" ,\"beagle\"]\n",
    "nb_classes = len(categories)\n",
    "\n",
    "#일반화\n",
    "X_train = X_train.astype(float) / 255\n",
    "X_test = X_test.astype(float) / 255\n",
    "\n",
    "print('X_train shape: {} | y_train shape: {}\\nX_test shape : {} | y_test shape : {}'.format(\n",
    "    X_train.shape, y_train.shape, X_test.shape, y_test.shape))\n",
    "\n",
    "\n",
    "#세개의 모델에서 같은 형태의 데이터를 사용할 것, 모든 모델에서 사용할 단일 입력 레이어를 정의.\n",
    "input_shape =X_train[0,:,:,:].shape\n",
    "model_input = Input(shape =input_shape)"
   ]
  },
  {
   "cell_type": "code",
   "execution_count": 18,
   "metadata": {},
   "outputs": [
    {
     "name": "stdout",
     "output_type": "stream",
     "text": [
      "Model: \"nin_cnn\"\n",
      "_________________________________________________________________\n",
      "Layer (type)                 Output Shape              Param #   \n",
      "=================================================================\n",
      "input_1 (InputLayer)         (None, 100, 100, 3)       0         \n",
      "_________________________________________________________________\n",
      "conv2d_1 (Conv2D)            (None, 98, 98, 32)        896       \n",
      "_________________________________________________________________\n",
      "conv2d_2 (Conv2D)            (None, 98, 98, 32)        1056      \n",
      "_________________________________________________________________\n",
      "conv2d_3 (Conv2D)            (None, 98, 98, 32)        1056      \n",
      "_________________________________________________________________\n",
      "max_pooling2d_1 (MaxPooling2 (None, 49, 49, 32)        0         \n",
      "_________________________________________________________________\n",
      "dropout_1 (Dropout)          (None, 49, 49, 32)        0         \n",
      "_________________________________________________________________\n",
      "conv2d_4 (Conv2D)            (None, 47, 47, 64)        18496     \n",
      "_________________________________________________________________\n",
      "conv2d_5 (Conv2D)            (None, 47, 47, 64)        4160      \n",
      "_________________________________________________________________\n",
      "conv2d_6 (Conv2D)            (None, 47, 47, 64)        4160      \n",
      "_________________________________________________________________\n",
      "max_pooling2d_2 (MaxPooling2 (None, 23, 23, 64)        0         \n",
      "_________________________________________________________________\n",
      "dropout_2 (Dropout)          (None, 23, 23, 64)        0         \n",
      "_________________________________________________________________\n",
      "conv2d_7 (Conv2D)            (None, 21, 21, 128)       73856     \n",
      "_________________________________________________________________\n",
      "conv2d_8 (Conv2D)            (None, 21, 21, 32)        4128      \n",
      "_________________________________________________________________\n",
      "conv2d_9 (Conv2D)            (None, 21, 21, 5)         165       \n",
      "_________________________________________________________________\n",
      "global_average_pooling2d_1 ( (None, 5)                 0         \n",
      "_________________________________________________________________\n",
      "activation_1 (Activation)    (None, 5)                 0         \n",
      "=================================================================\n",
      "Total params: 107,973\n",
      "Trainable params: 107,973\n",
      "Non-trainable params: 0\n",
      "_________________________________________________________________\n"
     ]
    }
   ],
   "source": [
    "# 모델보다 작아서 훈련이 훨씬 빠름. 최종 Conv2D\n",
    "def nin_cnn(model_input):\n",
    "    \n",
    "    #mlpconv block 1\n",
    "    x = Conv2D(32, (3, 3), activation='relu',padding='valid')(model_input)\n",
    "    x = Conv2D(32, (1, 1), activation='relu')(x)\n",
    "    x = Conv2D(32, (1, 1), activation='relu')(x)\n",
    "    x = MaxPooling2D((2, 2))(x)\n",
    "    x = Dropout(0.5)(x)\n",
    "    \n",
    "    #mlpconv block2\n",
    "    x = Conv2D(64, (3, 3), activation='relu',padding='valid')(x)\n",
    "    x = Conv2D(64, (1, 1), activation='relu')(x)\n",
    "    x = Conv2D(64, (1, 1), activation='relu')(x)\n",
    "    x = MaxPooling2D((2, 2))(x)\n",
    "    x = Dropout(0.5)(x)\n",
    "    \n",
    "    #mlpconv block3\n",
    "    x = Conv2D(128, (3, 3), activation='relu',padding='valid')(x)\n",
    "    x = Conv2D(32, (1, 1), activation='relu')(x)\n",
    "    x = Conv2D(5, (1, 1))(x)\n",
    "    \n",
    "    x = GlobalAveragePooling2D()(x)\n",
    "    x = Activation(activation='softmax')(x)\n",
    "    \n",
    "    model = Model(model_input, x, name='nin_cnn')\n",
    "    \n",
    "    return model\n",
    "\n",
    "\n",
    "nin_cnn_model = nin_cnn(model_input)\n",
    "nin_cnn_model.summary()"
   ]
  },
  {
   "cell_type": "code",
   "execution_count": 20,
   "metadata": {},
   "outputs": [],
   "source": [
    "''' 단순화를 위해 각 모델은 동일한 매개변수를 사용하여 compile 되고 train\n",
    "32 배치사이즈로 1 epoch 당 1250번의 stpe??) 20 epoch로 사용하면 3가지 모델중 어떤모델이라도\n",
    "국소 최소치(local minimum)를 얻는데는 충분할 것으로 보임. \n",
    "훈련데이터 세트에서 무작위로 validation_split = 20% 데이터 검증으로 사용'''\n",
    "\n",
    "def compile_and_train(model, num_epochs):\n",
    "    model.compile(loss = categorical_crossentropy, optimizer=Adam(), metrics=['acc'])\n",
    "    '''filepath = 'weights/' + model.name + '.{epoch:02d}-{loss:.2f}.hdf5'\n",
    "    checkpoint = ModelCheckpoint(filepath, monitor='loss', verbose=0, \n",
    "                                 save_weights_only=True, save_best_only=True, mode='auto', period=1)\n",
    "    tensor_board = TensorBoard(log_dir='logs/', histogram_freq=0, batch_size=32)\n",
    "    '''\n",
    "    history= model.fit(x=X_train, y=y_train, batch_size=32, epochs=num_epochs, verbose=1,\n",
    "                       validation_split =0.2) #callbacks=[checkpoint, tensor_board]\n",
    "    \n",
    "    # 위에서 weight 에러나서 callback 실현못함.. 누가 알아내줭"
   ]
  },
  {
   "cell_type": "code",
   "execution_count": 21,
   "metadata": {
    "scrolled": true
   },
   "outputs": [
    {
     "name": "stdout",
     "output_type": "stream",
     "text": [
      "Train on 2411 samples, validate on 603 samples\n",
      "Epoch 1/20\n",
      "2411/2411 [==============================] - 24s 10ms/step - loss: 1.5760 - acc: 0.2431 - val_loss: 1.5492 - val_acc: 0.2670\n",
      "Epoch 2/20\n",
      "2411/2411 [==============================] - 22s 9ms/step - loss: 1.5101 - acc: 0.2667 - val_loss: 1.5058 - val_acc: 0.3085\n",
      "Epoch 3/20\n",
      "2411/2411 [==============================] - 23s 10ms/step - loss: 1.4489 - acc: 0.3347 - val_loss: 1.4735 - val_acc: 0.3367\n",
      "Epoch 4/20\n",
      "2411/2411 [==============================] - 23s 9ms/step - loss: 1.3699 - acc: 0.4131 - val_loss: 1.4404 - val_acc: 0.3648\n",
      "Epoch 5/20\n",
      "2411/2411 [==============================] - 23s 9ms/step - loss: 1.3153 - acc: 0.4413 - val_loss: 1.2711 - val_acc: 0.4245\n",
      "Epoch 6/20\n",
      "2411/2411 [==============================] - 23s 10ms/step - loss: 1.2331 - acc: 0.4820 - val_loss: 1.1944 - val_acc: 0.4776\n",
      "Epoch 7/20\n",
      "2411/2411 [==============================] - 23s 10ms/step - loss: 1.1689 - acc: 0.4915 - val_loss: 1.1994 - val_acc: 0.4544\n",
      "Epoch 8/20\n",
      "2411/2411 [==============================] - 23s 10ms/step - loss: 1.0994 - acc: 0.5334 - val_loss: 1.2607 - val_acc: 0.4677\n",
      "Epoch 9/20\n",
      "2411/2411 [==============================] - 23s 10ms/step - loss: 1.0445 - acc: 0.5587 - val_loss: 1.0137 - val_acc: 0.5721\n",
      "Epoch 10/20\n",
      "2411/2411 [==============================] - 23s 10ms/step - loss: 1.0297 - acc: 0.5711 - val_loss: 1.0751 - val_acc: 0.5290\n",
      "Epoch 11/20\n",
      "2411/2411 [==============================] - 23s 10ms/step - loss: 1.0082 - acc: 0.5798 - val_loss: 1.0255 - val_acc: 0.6003\n",
      "Epoch 12/20\n",
      "2411/2411 [==============================] - 23s 10ms/step - loss: 0.9734 - acc: 0.5906 - val_loss: 0.9676 - val_acc: 0.6070\n",
      "Epoch 13/20\n",
      "2411/2411 [==============================] - 23s 10ms/step - loss: 0.9873 - acc: 0.5915 - val_loss: 0.9688 - val_acc: 0.5920\n",
      "Epoch 14/20\n",
      "2411/2411 [==============================] - 23s 10ms/step - loss: 0.9399 - acc: 0.6126 - val_loss: 0.9448 - val_acc: 0.6103\n",
      "Epoch 15/20\n",
      "2411/2411 [==============================] - 23s 10ms/step - loss: 0.9375 - acc: 0.6093 - val_loss: 1.0945 - val_acc: 0.5423\n",
      "Epoch 16/20\n",
      "2411/2411 [==============================] - 23s 10ms/step - loss: 0.9141 - acc: 0.6192 - val_loss: 0.9761 - val_acc: 0.5788\n",
      "Epoch 17/20\n",
      "2411/2411 [==============================] - 23s 10ms/step - loss: 0.9450 - acc: 0.6093 - val_loss: 1.0164 - val_acc: 0.5755\n",
      "Epoch 18/20\n",
      "2411/2411 [==============================] - 23s 9ms/step - loss: 0.9051 - acc: 0.6342 - val_loss: 0.9051 - val_acc: 0.6302\n",
      "Epoch 19/20\n",
      "2411/2411 [==============================] - 24s 10ms/step - loss: 0.8850 - acc: 0.6342 - val_loss: 0.9399 - val_acc: 0.5970\n",
      "Epoch 20/20\n",
      "2411/2411 [==============================] - 24s 10ms/step - loss: 0.8915 - acc: 0.6354 - val_loss: 0.8795 - val_acc: 0.6318\n"
     ]
    }
   ],
   "source": [
    "_ = compile_and_train(nin_cnn_model, num_epochs=20)"
   ]
  },
  {
   "cell_type": "code",
   "execution_count": 22,
   "metadata": {},
   "outputs": [
    {
     "name": "stdout",
     "output_type": "stream",
     "text": [
      "1005/1005 [==============================] - 3s 3ms/step\n",
      "정확도 : 0.6338\n"
     ]
    }
   ],
   "source": [
    "print(\"정확도 : %.4f\" % (nin_cnn_model.evaluate(X_test, y_test)[1]))"
   ]
  },
  {
   "cell_type": "code",
   "execution_count": 34,
   "metadata": {},
   "outputs": [
    {
     "data": {
      "text/plain": [
       "3.981094527363184"
      ]
     },
     "execution_count": 34,
     "metadata": {},
     "output_type": "execute_result"
    }
   ],
   "source": [
    "def evaluate_error(model):\n",
    "    pred = model.predict(X_test, batch_size=32)\n",
    "    pred = np.argmax(pred, axis=1)\n",
    "    pred = np.expand_dims(pred, axis=1) # make same shape as y_test\n",
    "    error = np.sum(np.not_equal(pred, y_test))/ y_test.shape[0]\n",
    "    return error\n",
    "\n",
    "\n",
    "evaluate_error(nin_cnn_model)"
   ]
  },
  {
   "cell_type": "code",
   "execution_count": 25,
   "metadata": {},
   "outputs": [
    {
     "name": "stdout",
     "output_type": "stream",
     "text": [
      "Model: \"young_cnn\"\n",
      "_________________________________________________________________\n",
      "Layer (type)                 Output Shape              Param #   \n",
      "=================================================================\n",
      "input_1 (InputLayer)         (None, 100, 100, 3)       0         \n",
      "_________________________________________________________________\n",
      "conv2d_19 (Conv2D)           (None, 100, 100, 32)      896       \n",
      "_________________________________________________________________\n",
      "conv2d_20 (Conv2D)           (None, 100, 100, 32)      1056      \n",
      "_________________________________________________________________\n",
      "conv2d_21 (Conv2D)           (None, 100, 100, 32)      1056      \n",
      "_________________________________________________________________\n",
      "max_pooling2d_5 (MaxPooling2 (None, 50, 50, 32)        0         \n",
      "_________________________________________________________________\n",
      "dropout_5 (Dropout)          (None, 50, 50, 32)        0         \n",
      "_________________________________________________________________\n",
      "conv2d_22 (Conv2D)           (None, 50, 50, 64)        18496     \n",
      "_________________________________________________________________\n",
      "conv2d_23 (Conv2D)           (None, 50, 50, 64)        4160      \n",
      "_________________________________________________________________\n",
      "conv2d_24 (Conv2D)           (None, 50, 50, 64)        4160      \n",
      "_________________________________________________________________\n",
      "max_pooling2d_6 (MaxPooling2 (None, 25, 25, 64)        0         \n",
      "_________________________________________________________________\n",
      "dropout_6 (Dropout)          (None, 25, 25, 64)        0         \n",
      "_________________________________________________________________\n",
      "conv2d_25 (Conv2D)           (None, 25, 25, 128)       73856     \n",
      "_________________________________________________________________\n",
      "dropout_7 (Dropout)          (None, 25, 25, 128)       0         \n",
      "_________________________________________________________________\n",
      "conv2d_26 (Conv2D)           (None, 25, 25, 64)        8256      \n",
      "_________________________________________________________________\n",
      "conv2d_27 (Conv2D)           (None, 25, 25, 32)        2080      \n",
      "_________________________________________________________________\n",
      "conv2d_28 (Conv2D)           (None, 25, 25, 5)         165       \n",
      "_________________________________________________________________\n",
      "global_average_pooling2d_3 ( (None, 5)                 0         \n",
      "_________________________________________________________________\n",
      "activation_3 (Activation)    (None, 5)                 0         \n",
      "=================================================================\n",
      "Total params: 114,181\n",
      "Trainable params: 114,181\n",
      "Non-trainable params: 0\n",
      "_________________________________________________________________\n"
     ]
    }
   ],
   "source": [
    "# 영택이 모델\n",
    "# 기존의 영택이가 만든 API 와 다름. 모델앙상블을 위해 변형시킴\n",
    "def young_cnn(model_input):\n",
    "    \n",
    "    #mlpconv block 1\n",
    "    x = Conv2D(32, (3, 3), activation='relu',padding='same')(model_input)\n",
    "    x = Conv2D(32, (1, 1), activation='relu')(x)\n",
    "    x = Conv2D(32, (1, 1), activation='relu')(x)\n",
    "    x = MaxPooling2D((2, 2))(x)\n",
    "    x = Dropout(0.25)(x)\n",
    "    \n",
    "    \n",
    "        #mlpconv block2\n",
    "    x = Conv2D(64, (3, 3), activation='relu',padding='same')(x)\n",
    "    x = Conv2D(64, (1, 1), activation='relu')(x)\n",
    "    x = Conv2D(64, (1, 1), activation='relu')(x)\n",
    "    x = MaxPooling2D((2, 2))(x)\n",
    "    x = Dropout(0.25)(x)\n",
    "    \n",
    "    \n",
    "    \n",
    "    #mlpconv block3\n",
    "    x = Conv2D(128, (3, 3), activation='relu',padding='same')(x)\n",
    "    x = Dropout(0.25)(x)\n",
    "    x = Conv2D(64, (1, 1), activation='relu')(x)\n",
    "    x = Conv2D(32, (1, 1), activation='relu')(x)\n",
    "    x = Conv2D(5, (1, 1))(x)\n",
    "    \n",
    "    x = GlobalAveragePooling2D()(x)\n",
    "    x = Activation(activation='softmax')(x)\n",
    "    \n",
    "    model = Model(model_input, x, name='young_cnn')\n",
    "    \n",
    "    return model\n",
    "    \n",
    "young_cnn_model =  young_cnn(model_input)\n",
    "young_cnn_model.summary()"
   ]
  },
  {
   "cell_type": "code",
   "execution_count": 26,
   "metadata": {},
   "outputs": [
    {
     "name": "stdout",
     "output_type": "stream",
     "text": [
      "Train on 2411 samples, validate on 603 samples\n",
      "Epoch 1/20\n",
      "2411/2411 [==============================] - 30s 12ms/step - loss: 1.5923 - acc: 0.2277 - val_loss: 1.5800 - val_acc: 0.2222\n",
      "Epoch 2/20\n",
      "2411/2411 [==============================] - 30s 12ms/step - loss: 1.5554 - acc: 0.2493 - val_loss: 1.5147 - val_acc: 0.2438\n",
      "Epoch 3/20\n",
      "2411/2411 [==============================] - 30s 13ms/step - loss: 1.4946 - acc: 0.2895 - val_loss: 1.4944 - val_acc: 0.2919\n",
      "Epoch 4/20\n",
      "2411/2411 [==============================] - 30s 12ms/step - loss: 1.4407 - acc: 0.3306 - val_loss: 1.4316 - val_acc: 0.3648\n",
      "Epoch 5/20\n",
      "2411/2411 [==============================] - 30s 12ms/step - loss: 1.3777 - acc: 0.3837 - val_loss: 1.4046 - val_acc: 0.3897\n",
      "Epoch 6/20\n",
      "2411/2411 [==============================] - 30s 12ms/step - loss: 1.3258 - acc: 0.4235 - val_loss: 1.4243 - val_acc: 0.3516\n",
      "Epoch 7/20\n",
      "2411/2411 [==============================] - 30s 12ms/step - loss: 1.2988 - acc: 0.4446 - val_loss: 1.2500 - val_acc: 0.4428\n",
      "Epoch 8/20\n",
      "2411/2411 [==============================] - 30s 12ms/step - loss: 1.1868 - acc: 0.4998 - val_loss: 1.1598 - val_acc: 0.4909\n",
      "Epoch 9/20\n",
      "2411/2411 [==============================] - 29s 12ms/step - loss: 1.1447 - acc: 0.5127 - val_loss: 1.1085 - val_acc: 0.5191\n",
      "Epoch 10/20\n",
      "2411/2411 [==============================] - 30s 12ms/step - loss: 1.1107 - acc: 0.5417 - val_loss: 1.2936 - val_acc: 0.4527\n",
      "Epoch 11/20\n",
      "2411/2411 [==============================] - 30s 12ms/step - loss: 1.1409 - acc: 0.5135 - val_loss: 1.0161 - val_acc: 0.5522\n",
      "Epoch 12/20\n",
      "2411/2411 [==============================] - 30s 12ms/step - loss: 1.0417 - acc: 0.5641 - val_loss: 1.0047 - val_acc: 0.5340\n",
      "Epoch 13/20\n",
      "2411/2411 [==============================] - 30s 12ms/step - loss: 0.9747 - acc: 0.5840 - val_loss: 0.9368 - val_acc: 0.5837\n",
      "Epoch 14/20\n",
      "2411/2411 [==============================] - 29s 12ms/step - loss: 1.0105 - acc: 0.5637 - val_loss: 0.9374 - val_acc: 0.5738\n",
      "Epoch 15/20\n",
      "2411/2411 [==============================] - 30s 12ms/step - loss: 0.9668 - acc: 0.5886 - val_loss: 0.9596 - val_acc: 0.5605\n",
      "Epoch 16/20\n",
      "2411/2411 [==============================] - 29s 12ms/step - loss: 0.9649 - acc: 0.5927 - val_loss: 0.8984 - val_acc: 0.5937\n",
      "Epoch 17/20\n",
      "2411/2411 [==============================] - 29s 12ms/step - loss: 0.9720 - acc: 0.5869 - val_loss: 0.9166 - val_acc: 0.6020\n",
      "Epoch 18/20\n",
      "2411/2411 [==============================] - 30s 12ms/step - loss: 0.9774 - acc: 0.5865 - val_loss: 0.9168 - val_acc: 0.5755\n",
      "Epoch 19/20\n",
      "2411/2411 [==============================] - 30s 12ms/step - loss: 0.8790 - acc: 0.6226 - val_loss: 0.8405 - val_acc: 0.6501\n",
      "Epoch 20/20\n",
      "2411/2411 [==============================] - 29s 12ms/step - loss: 0.8616 - acc: 0.6367 - val_loss: 0.8736 - val_acc: 0.5970\n"
     ]
    }
   ],
   "source": [
    "_ = compile_and_train(young_cnn_model, num_epochs=20)"
   ]
  },
  {
   "cell_type": "code",
   "execution_count": 29,
   "metadata": {
    "scrolled": true
   },
   "outputs": [
    {
     "ename": "RuntimeError",
     "evalue": "You must compile a model before training/testing. Use `model.compile(optimizer, loss)`.",
     "output_type": "error",
     "traceback": [
      "\u001b[1;31m---------------------------------------------------------------------------\u001b[0m",
      "\u001b[1;31mRuntimeError\u001b[0m                              Traceback (most recent call last)",
      "\u001b[1;32m<ipython-input-29-f2f37e07dca7>\u001b[0m in \u001b[0;36m<module>\u001b[1;34m\u001b[0m\n\u001b[1;32m----> 1\u001b[1;33m \u001b[0mprint\u001b[0m\u001b[1;33m(\u001b[0m\u001b[1;34m\"정확도 : %.4f\"\u001b[0m \u001b[1;33m%\u001b[0m \u001b[1;33m(\u001b[0m\u001b[0myoung_cnn_model\u001b[0m\u001b[1;33m.\u001b[0m\u001b[0mevaluate\u001b[0m\u001b[1;33m(\u001b[0m\u001b[0mX_test\u001b[0m\u001b[1;33m,\u001b[0m \u001b[0my_test\u001b[0m\u001b[1;33m)\u001b[0m\u001b[1;33m[\u001b[0m\u001b[1;36m1\u001b[0m\u001b[1;33m]\u001b[0m\u001b[1;33m)\u001b[0m\u001b[1;33m)\u001b[0m\u001b[1;33m\u001b[0m\u001b[1;33m\u001b[0m\u001b[0m\n\u001b[0m",
      "\u001b[1;32m~\\Anaconda3\\envs\\tf_test\\lib\\site-packages\\keras\\engine\\training.py\u001b[0m in \u001b[0;36mevaluate\u001b[1;34m(self, x, y, batch_size, verbose, sample_weight, steps, callbacks, max_queue_size, workers, use_multiprocessing)\u001b[0m\n\u001b[0;32m   1347\u001b[0m             \u001b[0mx\u001b[0m\u001b[1;33m,\u001b[0m \u001b[0my\u001b[0m\u001b[1;33m,\u001b[0m\u001b[1;33m\u001b[0m\u001b[1;33m\u001b[0m\u001b[0m\n\u001b[0;32m   1348\u001b[0m             \u001b[0msample_weight\u001b[0m\u001b[1;33m=\u001b[0m\u001b[0msample_weight\u001b[0m\u001b[1;33m,\u001b[0m\u001b[1;33m\u001b[0m\u001b[1;33m\u001b[0m\u001b[0m\n\u001b[1;32m-> 1349\u001b[1;33m             batch_size=batch_size)\n\u001b[0m\u001b[0;32m   1350\u001b[0m         \u001b[1;31m# Prepare inputs, delegate logic to `test_loop`.\u001b[0m\u001b[1;33m\u001b[0m\u001b[1;33m\u001b[0m\u001b[1;33m\u001b[0m\u001b[0m\n\u001b[0;32m   1351\u001b[0m         \u001b[1;32mif\u001b[0m \u001b[0mself\u001b[0m\u001b[1;33m.\u001b[0m\u001b[0m_uses_dynamic_learning_phase\u001b[0m\u001b[1;33m(\u001b[0m\u001b[1;33m)\u001b[0m\u001b[1;33m:\u001b[0m\u001b[1;33m\u001b[0m\u001b[1;33m\u001b[0m\u001b[0m\n",
      "\u001b[1;32m~\\Anaconda3\\envs\\tf_test\\lib\\site-packages\\keras\\engine\\training.py\u001b[0m in \u001b[0;36m_standardize_user_data\u001b[1;34m(self, x, y, sample_weight, class_weight, check_array_lengths, batch_size)\u001b[0m\n\u001b[0;32m    506\u001b[0m         \u001b[1;32mif\u001b[0m \u001b[0my\u001b[0m \u001b[1;32mis\u001b[0m \u001b[1;32mnot\u001b[0m \u001b[1;32mNone\u001b[0m\u001b[1;33m:\u001b[0m\u001b[1;33m\u001b[0m\u001b[1;33m\u001b[0m\u001b[0m\n\u001b[0;32m    507\u001b[0m             \u001b[1;32mif\u001b[0m \u001b[1;32mnot\u001b[0m \u001b[0mself\u001b[0m\u001b[1;33m.\u001b[0m\u001b[0moptimizer\u001b[0m\u001b[1;33m:\u001b[0m\u001b[1;33m\u001b[0m\u001b[1;33m\u001b[0m\u001b[0m\n\u001b[1;32m--> 508\u001b[1;33m                 raise RuntimeError('You must compile a model before '\n\u001b[0m\u001b[0;32m    509\u001b[0m                                    \u001b[1;34m'training/testing. '\u001b[0m\u001b[1;33m\u001b[0m\u001b[1;33m\u001b[0m\u001b[0m\n\u001b[0;32m    510\u001b[0m                                    'Use `model.compile(optimizer, loss)`.')\n",
      "\u001b[1;31mRuntimeError\u001b[0m: You must compile a model before training/testing. Use `model.compile(optimizer, loss)`."
     ]
    }
   ],
   "source": [
    "print(\"정확도 : %.4f\" % (young_cnn_model.evaluate(X_test, y_test)[1]))"
   ]
  },
  {
   "cell_type": "markdown",
   "metadata": {},
   "source": [
    "# Three Model Ensemble"
   ]
  },
  {
   "cell_type": "code",
   "execution_count": 43,
   "metadata": {},
   "outputs": [
    {
     "name": "stdout",
     "output_type": "stream",
     "text": [
      "Model: \"Gina_cnn\"\n",
      "_________________________________________________________________\n",
      "Layer (type)                 Output Shape              Param #   \n",
      "=================================================================\n",
      "input_1 (InputLayer)         (None, 100, 100, 3)       0         \n",
      "_________________________________________________________________\n",
      "conv2d_186 (Conv2D)          (None, 100, 100, 256)     7168      \n",
      "_________________________________________________________________\n",
      "batch_normalization_26 (Batc (None, 100, 100, 256)     1024      \n",
      "_________________________________________________________________\n",
      "max_pooling2d_60 (MaxPooling (None, 50, 50, 256)       0         \n",
      "_________________________________________________________________\n",
      "dropout_70 (Dropout)         (None, 50, 50, 256)       0         \n",
      "_________________________________________________________________\n",
      "conv2d_187 (Conv2D)          (None, 50, 50, 128)       295040    \n",
      "_________________________________________________________________\n",
      "dropout_71 (Dropout)         (None, 50, 50, 128)       0         \n",
      "_________________________________________________________________\n",
      "conv2d_188 (Conv2D)          (None, 50, 50, 64)        8256      \n",
      "_________________________________________________________________\n",
      "conv2d_189 (Conv2D)          (None, 50, 50, 32)        2080      \n",
      "_________________________________________________________________\n",
      "conv2d_190 (Conv2D)          (None, 50, 50, 5)         165       \n",
      "_________________________________________________________________\n",
      "global_average_pooling2d_16  (None, 5)                 0         \n",
      "_________________________________________________________________\n",
      "activation_16 (Activation)   (None, 5)                 0         \n",
      "=================================================================\n",
      "Total params: 313,733\n",
      "Trainable params: 313,221\n",
      "Non-trainable params: 512\n",
      "_________________________________________________________________\n"
     ]
    }
   ],
   "source": [
    "# https://shuuki4.wordpress.com/2016/01/13/batch-normalization-%EC%84%A4%EB%AA%85-%EB%B0%8F-%EA%B5%AC%ED%98%84/\n",
    "from keras.layers import BatchNormalization, Dropout\n",
    "\n",
    "# 배치정규화를 시켜서 모델의 과적합을 낮추고 학습효율을 높인다.\n",
    "def Gina_cnn(model_input):\n",
    "    \n",
    "    #mlpconv block 1\n",
    "    x = Conv2D(16, (3, 3), activation='relu',padding='same')(model_input)\n",
    "    x = Conv2D(16, (1, 1), activation='relu')(x)\n",
    "    x = BatchNormalization()(x)\n",
    "    x = MaxPooling2D((2, 2))(x)\n",
    "    x = Dropout(0.25)(x)\n",
    "    \n",
    "    \n",
    "    #mlpconv block2\n",
    "    x = Conv2D(32, (3, 3), activation='relu',padding='same')(model_input)\n",
    "    x = Conv2D(32, (1, 1), activation='relu')(x)\n",
    "    x = BatchNormalization()(x)\n",
    "    x = MaxPooling2D((2, 2))(x)\n",
    "    x = Dropout(0.25)(x)\n",
    "        \n",
    "    #mlpconv block3    \n",
    "    x = Conv2D(64, (3, 3), activation='relu',padding='same')(x)\n",
    "    x = Conv2D(64, (1, 1), activation='relu')(x)\n",
    "    x = Conv2D(64, (1, 1), activation='relu')(x)\n",
    "    x = MaxPooling2D((2, 2))(x)\n",
    "    x = Dropout(0.25)(x)\n",
    "    \n",
    "    #mlpconv block4\n",
    "    x = Conv2D(64, (3, 3), activation='relu',padding='same')(model_input)\n",
    "    x = Conv2D(64, (1, 1), activation='relu')(x)\n",
    "    x = BatchNormalization()(x)\n",
    "    x = MaxPooling2D((2, 2))(x)\n",
    "    x = Dropout(0.25)(x)\n",
    "    \n",
    "    #mlpconv block5\n",
    "    x = Conv2D(128, (3, 3), activation='relu',padding='same')(model_input)\n",
    "    x = MaxPooling2D((2, 2))(x)\n",
    "    x = Dropout(0.25)(x)\n",
    "        \n",
    "    #mlpconv block6\n",
    "    x = Conv2D(256, (3, 3), activation='relu',padding='same')(model_input)\n",
    "    x = BatchNormalization()(x)\n",
    "    x = MaxPooling2D((2, 2))(x)\n",
    "    x = Dropout(0.25)(x)\n",
    "    \n",
    "    x = Conv2D(128, (3, 3), activation='relu',padding='same')(x)\n",
    "    x = Dropout(0.25)(x)\n",
    "    x = Conv2D(64, (1, 1), activation='relu')(x)\n",
    "    x = Conv2D(32, (1, 1), activation='relu')(x)\n",
    "    x = Conv2D(5, (1, 1))(x)\n",
    "    \n",
    "    x = GlobalAveragePooling2D()(x)\n",
    "    x = Activation(activation='softmax')(x)\n",
    "    \n",
    "    model = Model(model_input, x, name='Gina_cnn')\n",
    "    \n",
    "    return model\n",
    "    \n",
    "\n",
    "Gina_cnn_model =  Gina_cnn(model_input)\n",
    "Gina_cnn_model.summary()"
   ]
  },
  {
   "cell_type": "code",
   "execution_count": null,
   "metadata": {},
   "outputs": [
    {
     "name": "stdout",
     "output_type": "stream",
     "text": [
      "Train on 2411 samples, validate on 603 samples\n",
      "Epoch 1/20\n",
      " 256/2411 [==>...........................] - ETA: 2:57 - loss: 1.6263 - acc: 0.2266"
     ]
    }
   ],
   "source": [
    "_ = compile_and_train(Gina_cnn_model, num_epochs=20)"
   ]
  },
  {
   "cell_type": "code",
   "execution_count": null,
   "metadata": {},
   "outputs": [],
   "source": [
    "print(\"정확도 : %.4f\" % (Gina_cnn_model.evaluate(X_test, y_test)[1]))"
   ]
  },
  {
   "cell_type": "code",
   "execution_count": null,
   "metadata": {},
   "outputs": [],
   "source": [
    "#https://buomsoo-kim.github.io/keras/2018/04/24/Easy-deep-learning-with-Keras-5.md/\n",
    "\n",
    "배치정규화를 하면 드롭아웃 안해도 된다는데.. 공부해봐야겠음"
   ]
  },
  {
   "cell_type": "code",
   "execution_count": null,
   "metadata": {},
   "outputs": [],
   "source": []
  },
  {
   "cell_type": "code",
   "execution_count": 38,
   "metadata": {},
   "outputs": [],
   "source": [
    "nin_cnn_model = nin_cnn(model_input)\n",
    "young_cnn_model = young_cnn(model_input)\n",
    "Gina_cnn_model =  Gina_cnn(model_input)\n",
    "\n",
    "models = [nin_cnn_model, young_cnn_model, Gina_cnn_model]"
   ]
  },
  {
   "cell_type": "code",
   "execution_count": 40,
   "metadata": {},
   "outputs": [
    {
     "ename": "RuntimeError",
     "evalue": "You must compile a model before training/testing. Use `model.compile(optimizer, loss)`.",
     "output_type": "error",
     "traceback": [
      "\u001b[1;31m---------------------------------------------------------------------------\u001b[0m",
      "\u001b[1;31mRuntimeError\u001b[0m                              Traceback (most recent call last)",
      "\u001b[1;32m<ipython-input-40-6179a5bba6f9>\u001b[0m in \u001b[0;36m<module>\u001b[1;34m\u001b[0m\n\u001b[0;32m     10\u001b[0m \u001b[0mensemble_model\u001b[0m \u001b[1;33m=\u001b[0m \u001b[0mensemble\u001b[0m\u001b[1;33m(\u001b[0m\u001b[0mmodels\u001b[0m\u001b[1;33m,\u001b[0m \u001b[0mmodel_input\u001b[0m\u001b[1;33m)\u001b[0m\u001b[1;33m\u001b[0m\u001b[1;33m\u001b[0m\u001b[0m\n\u001b[0;32m     11\u001b[0m \u001b[1;33m\u001b[0m\u001b[0m\n\u001b[1;32m---> 12\u001b[1;33m \u001b[0mprint\u001b[0m\u001b[1;33m(\u001b[0m\u001b[1;34m\"정확도 : %.4f\"\u001b[0m \u001b[1;33m%\u001b[0m \u001b[1;33m(\u001b[0m\u001b[0mensemble_model\u001b[0m\u001b[1;33m.\u001b[0m\u001b[0mevaluate\u001b[0m\u001b[1;33m(\u001b[0m\u001b[0mX_test\u001b[0m\u001b[1;33m,\u001b[0m \u001b[0my_test\u001b[0m\u001b[1;33m)\u001b[0m\u001b[1;33m[\u001b[0m\u001b[1;36m1\u001b[0m\u001b[1;33m]\u001b[0m\u001b[1;33m)\u001b[0m\u001b[1;33m)\u001b[0m\u001b[1;33m\u001b[0m\u001b[1;33m\u001b[0m\u001b[0m\n\u001b[0m",
      "\u001b[1;32m~\\Anaconda3\\envs\\tf_test\\lib\\site-packages\\keras\\engine\\training.py\u001b[0m in \u001b[0;36mevaluate\u001b[1;34m(self, x, y, batch_size, verbose, sample_weight, steps, callbacks, max_queue_size, workers, use_multiprocessing)\u001b[0m\n\u001b[0;32m   1347\u001b[0m             \u001b[0mx\u001b[0m\u001b[1;33m,\u001b[0m \u001b[0my\u001b[0m\u001b[1;33m,\u001b[0m\u001b[1;33m\u001b[0m\u001b[1;33m\u001b[0m\u001b[0m\n\u001b[0;32m   1348\u001b[0m             \u001b[0msample_weight\u001b[0m\u001b[1;33m=\u001b[0m\u001b[0msample_weight\u001b[0m\u001b[1;33m,\u001b[0m\u001b[1;33m\u001b[0m\u001b[1;33m\u001b[0m\u001b[0m\n\u001b[1;32m-> 1349\u001b[1;33m             batch_size=batch_size)\n\u001b[0m\u001b[0;32m   1350\u001b[0m         \u001b[1;31m# Prepare inputs, delegate logic to `test_loop`.\u001b[0m\u001b[1;33m\u001b[0m\u001b[1;33m\u001b[0m\u001b[1;33m\u001b[0m\u001b[0m\n\u001b[0;32m   1351\u001b[0m         \u001b[1;32mif\u001b[0m \u001b[0mself\u001b[0m\u001b[1;33m.\u001b[0m\u001b[0m_uses_dynamic_learning_phase\u001b[0m\u001b[1;33m(\u001b[0m\u001b[1;33m)\u001b[0m\u001b[1;33m:\u001b[0m\u001b[1;33m\u001b[0m\u001b[1;33m\u001b[0m\u001b[0m\n",
      "\u001b[1;32m~\\Anaconda3\\envs\\tf_test\\lib\\site-packages\\keras\\engine\\training.py\u001b[0m in \u001b[0;36m_standardize_user_data\u001b[1;34m(self, x, y, sample_weight, class_weight, check_array_lengths, batch_size)\u001b[0m\n\u001b[0;32m    506\u001b[0m         \u001b[1;32mif\u001b[0m \u001b[0my\u001b[0m \u001b[1;32mis\u001b[0m \u001b[1;32mnot\u001b[0m \u001b[1;32mNone\u001b[0m\u001b[1;33m:\u001b[0m\u001b[1;33m\u001b[0m\u001b[1;33m\u001b[0m\u001b[0m\n\u001b[0;32m    507\u001b[0m             \u001b[1;32mif\u001b[0m \u001b[1;32mnot\u001b[0m \u001b[0mself\u001b[0m\u001b[1;33m.\u001b[0m\u001b[0moptimizer\u001b[0m\u001b[1;33m:\u001b[0m\u001b[1;33m\u001b[0m\u001b[1;33m\u001b[0m\u001b[0m\n\u001b[1;32m--> 508\u001b[1;33m                 raise RuntimeError('You must compile a model before '\n\u001b[0m\u001b[0;32m    509\u001b[0m                                    \u001b[1;34m'training/testing. '\u001b[0m\u001b[1;33m\u001b[0m\u001b[1;33m\u001b[0m\u001b[0m\n\u001b[0;32m    510\u001b[0m                                    'Use `model.compile(optimizer, loss)`.')\n",
      "\u001b[1;31mRuntimeError\u001b[0m: You must compile a model before training/testing. Use `model.compile(optimizer, loss)`."
     ]
    }
   ],
   "source": [
    "def ensemble(models, model_input):\n",
    "    \n",
    "    outputs = [model.outputs[0] for model in models]\n",
    "    y = Average()(outputs)\n",
    "    \n",
    "    model = Model(model_input, y, name='ensemble')\n",
    "    \n",
    "    return model\n",
    "\n",
    "ensemble_model = ensemble(models, model_input)\n",
    "\n",
    "print(\"정확도 : %.4f\" % (ensemble_model.evaluate(X_test, y_test)[1]))\n"
   ]
  }
 ],
 "metadata": {
  "kernelspec": {
   "display_name": "Python 3",
   "language": "python",
   "name": "python3"
  },
  "language_info": {
   "codemirror_mode": {
    "name": "ipython",
    "version": 3
   },
   "file_extension": ".py",
   "mimetype": "text/x-python",
   "name": "python",
   "nbconvert_exporter": "python",
   "pygments_lexer": "ipython3",
   "version": "3.7.4"
  }
 },
 "nbformat": 4,
 "nbformat_minor": 4
}
