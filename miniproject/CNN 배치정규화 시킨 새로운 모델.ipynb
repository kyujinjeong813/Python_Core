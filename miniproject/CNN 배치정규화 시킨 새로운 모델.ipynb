{
 "cells": [
  {
   "cell_type": "code",
   "execution_count": null,
   "metadata": {},
   "outputs": [],
   "source": [
    "https://tykimos.github.io/2017/08/07/Keras_Install_on_Windows/\n",
    "    \n",
    "    # 김태영님 캐글콜리아.\n",
    "    => 프로젝트 디렉토리 만듦, 가상환경 만들어서 가상환경 실행하기\n",
    "    # 수업때 진행했던 것처럼. 가상환경 venv 만들었고\n",
    "    # 여기다가  주요패키지 설치할것\n",
    "    # 딥러닝 라이브러리 설치 => 텐서플로우 2.1 버전 업그레이드\n",
    "    \n",
    "    # 케라스 설치 2.3.1\n",
    "    \n",
    "    # 케라스 구동 API 가 다 틀려서 결국 텐서플로우1.14 버전으로 실행중\n",
    "    아래 소스는 텐서플로우 1버전의 케라스 구동API\n",
    "    텐서플로우 2.0 버전에서 소스뜯다가 실패"
   ]
  },
  {
   "cell_type": "code",
   "execution_count": 5,
   "metadata": {},
   "outputs": [
    {
     "name": "stdout",
     "output_type": "stream",
     "text": [
      "(3014, 100, 100, 3)\n",
      "3014\n",
      "[name: \"/device:CPU:0\"\n",
      "device_type: \"CPU\"\n",
      "memory_limit: 268435456\n",
      "locality {\n",
      "}\n",
      "incarnation: 17016229528493769802\n",
      "]\n"
     ]
    }
   ],
   "source": [
    "import os, glob, numpy as np\n",
    "import tensorflow.keras as keras\n",
    "# module 'tensorflow' has no attribute 'get_default_graph'\n",
    "\n",
    "from keras.models import Sequential\n",
    "from keras.layers import Conv2D, MaxPooling2D, Dense, Flatten, Dropout\n",
    "from keras.layers import BatchNormalization\n",
    "from keras.callbacks import EarlyStopping, ModelCheckpoint\n",
    "from keras.optimizers import Adam\n",
    "from keras.utils import to_categorical\n",
    "from keras.losses import categorical_crossentropy\n",
    "\n",
    "\n",
    "import matplotlib.pyplot as plt\n",
    "import keras.backend.tensorflow_backend as K\n",
    "from tensorflow.python.framework import ops\n",
    "ops.reset_default_graph()\n",
    "import tensorflow as tf\n",
    "'''\n",
    "config = tf.ConfigProto()  텐서플로우 2. 에서 구동안됨\n",
    "module 'tensorflow' has no attribute 'ConfigProto'\n",
    "'''\n",
    "config = tf.compat.v1.ConfigProto()\n",
    "config.gpu_options.allow_growth = True\n",
    "\n",
    "# session = tf.Session(config=config) 자동세션기능\n",
    "X_train, X_test, y_train, y_test = np.load('./multi_image_data.npy',allow_pickle=True)\n",
    "print(X_train.shape)\n",
    "print(X_train.shape[0])\n",
    "\n",
    "from tensorflow.python.client import device_lib\n",
    "print(device_lib.list_local_devices())\n",
    "\n",
    "\n",
    "categories = [\"corgi\", \"golden\" ,\"dach\" ,\"husky\" ,\"beagle\"]\n",
    "nb_classes = len(categories)\n",
    "\n",
    "#일반화\n",
    "X_train = X_train.astype(float) / 255\n",
    "X_test = X_test.astype(float) / 255\n"
   ]
  },
  {
   "cell_type": "code",
   "execution_count": null,
   "metadata": {},
   "outputs": [],
   "source": [
    "모델 평가\n",
    "앞으로 네트워크를 만들 때 배치 정규화는 웬만하면 적용해 주는 것이 좋다\n",
    "(논문에 따르면 뒤에서 나올 regularization의 효과도 있어 배치 정규화를 적용하면 \n",
    " 드랍아웃을 적용하지 않아도 된다고 한다).\n",
    "\n",
    "https://buomsoo-kim.github.io/keras/2018/04/24/Easy-deep-learning-with-Keras-5.md/"
   ]
  },
  {
   "cell_type": "code",
   "execution_count": 7,
   "metadata": {},
   "outputs": [
    {
     "name": "stderr",
     "output_type": "stream",
     "text": [
      "C:\\Users\\ICT01_02\\Anaconda3\\envs\\tf_test\\lib\\site-packages\\ipykernel_launcher.py:5: UserWarning: Update your `Conv2D` call to the Keras 2 API: `Conv2D(16, (3, 3), activation=\"relu\", input_shape=(100, 100,..., padding=\"same\")`\n",
      "  \"\"\"\n",
      "C:\\Users\\ICT01_02\\Anaconda3\\envs\\tf_test\\lib\\site-packages\\ipykernel_launcher.py:9: UserWarning: Update your `Conv2D` call to the Keras 2 API: `Conv2D(32, (3, 3), activation=\"relu\", padding=\"same\")`\n",
      "  if __name__ == '__main__':\n",
      "C:\\Users\\ICT01_02\\Anaconda3\\envs\\tf_test\\lib\\site-packages\\ipykernel_launcher.py:13: UserWarning: Update your `Conv2D` call to the Keras 2 API: `Conv2D(32, (3, 3), activation=\"relu\", padding=\"same\")`\n",
      "  del sys.path[0]\n",
      "C:\\Users\\ICT01_02\\Anaconda3\\envs\\tf_test\\lib\\site-packages\\ipykernel_launcher.py:17: UserWarning: Update your `Conv2D` call to the Keras 2 API: `Conv2D(64, (3, 3), activation=\"relu\", padding=\"same\")`\n"
     ]
    },
    {
     "name": "stdout",
     "output_type": "stream",
     "text": [
      "Model: \"sequential_2\"\n",
      "_________________________________________________________________\n",
      "Layer (type)                 Output Shape              Param #   \n",
      "=================================================================\n",
      "conv2d_6 (Conv2D)            (None, 100, 100, 16)      448       \n",
      "_________________________________________________________________\n",
      "batch_normalization_5 (Batch (None, 100, 100, 16)      64        \n",
      "_________________________________________________________________\n",
      "max_pooling2d_6 (MaxPooling2 (None, 50, 50, 16)        0         \n",
      "_________________________________________________________________\n",
      "conv2d_7 (Conv2D)            (None, 50, 50, 32)        4640      \n",
      "_________________________________________________________________\n",
      "batch_normalization_6 (Batch (None, 50, 50, 32)        128       \n",
      "_________________________________________________________________\n",
      "max_pooling2d_7 (MaxPooling2 (None, 25, 25, 32)        0         \n",
      "_________________________________________________________________\n",
      "conv2d_8 (Conv2D)            (None, 25, 25, 32)        9248      \n",
      "_________________________________________________________________\n",
      "batch_normalization_7 (Batch (None, 25, 25, 32)        128       \n",
      "_________________________________________________________________\n",
      "max_pooling2d_8 (MaxPooling2 (None, 12, 12, 32)        0         \n",
      "_________________________________________________________________\n",
      "conv2d_9 (Conv2D)            (None, 12, 12, 64)        18496     \n",
      "_________________________________________________________________\n",
      "max_pooling2d_9 (MaxPooling2 (None, 6, 6, 64)          0         \n",
      "_________________________________________________________________\n",
      "conv2d_10 (Conv2D)           (None, 6, 6, 64)          36928     \n",
      "_________________________________________________________________\n",
      "batch_normalization_8 (Batch (None, 6, 6, 64)          256       \n",
      "_________________________________________________________________\n",
      "max_pooling2d_10 (MaxPooling (None, 3, 3, 64)          0         \n",
      "_________________________________________________________________\n",
      "flatten_2 (Flatten)          (None, 576)               0         \n",
      "_________________________________________________________________\n",
      "dense_4 (Dense)              (None, 64)                36928     \n",
      "_________________________________________________________________\n",
      "dropout_3 (Dropout)          (None, 64)                0         \n",
      "_________________________________________________________________\n",
      "dense_5 (Dense)              (None, 64)                4160      \n",
      "_________________________________________________________________\n",
      "dropout_4 (Dropout)          (None, 64)                0         \n",
      "_________________________________________________________________\n",
      "dense_6 (Dense)              (None, 5)                 325       \n",
      "=================================================================\n",
      "Total params: 111,749\n",
      "Trainable params: 111,461\n",
      "Non-trainable params: 288\n",
      "_________________________________________________________________\n"
     ]
    },
    {
     "name": "stderr",
     "output_type": "stream",
     "text": [
      "C:\\Users\\ICT01_02\\Anaconda3\\envs\\tf_test\\lib\\site-packages\\ipykernel_launcher.py:20: UserWarning: Update your `Conv2D` call to the Keras 2 API: `Conv2D(64, (3, 3), activation=\"relu\", padding=\"same\")`\n"
     ]
    }
   ],
   "source": [
    "# 배치정규화 시켜서 CNN 모델을 만들자\n",
    "\n",
    "def cnn_model(): # create model \n",
    "    model = Sequential() \n",
    "    \n",
    "    model.add(Conv2D(16, 3, 3, border_mode='same', activation='relu',\n",
    "                            input_shape=X_train.shape[1:]))\n",
    "    model.add(BatchNormalization()) \n",
    "    model.add(MaxPooling2D(pool_size=(2, 2))) \n",
    "    \n",
    "    model.add(Conv2D(32, 3, 3, border_mode='same', activation='relu')) \n",
    "    model.add(BatchNormalization()) \n",
    "    model.add(MaxPooling2D(pool_size=(2, 2))) \n",
    "    \n",
    "    model.add(Conv2D(32, 3, 3, border_mode='same', activation='relu')) \n",
    "    model.add(BatchNormalization()) \n",
    "    model.add(MaxPooling2D(pool_size=(2, 2))) \n",
    "    \n",
    "    model.add(Conv2D(64, 3, 3, border_mode='same', activation='relu')) \n",
    "    model.add(MaxPooling2D(pool_size=(2, 2))) \n",
    "    \n",
    "    model.add(Conv2D(64, 3, 3, border_mode='same', activation='relu')) \n",
    "    model.add(BatchNormalization()) \n",
    "    model.add(MaxPooling2D(pool_size=(2, 2))) \n",
    "    \n",
    "    \n",
    "    model.add(Flatten()) \n",
    "    model.add(Dense(64, activation='relu')) \n",
    "    model.add(Dropout(0.5)) \n",
    "    model.add(Dense(64, activation='relu')) \n",
    "    model.add(Dropout(0.5)) \n",
    "    model.add(Dense(5, activation='softmax')) \n",
    "    return model\n",
    "\n",
    "model2= cnn_model()\n",
    "model2.summary()"
   ]
  },
  {
   "cell_type": "code",
   "execution_count": 13,
   "metadata": {},
   "outputs": [
    {
     "name": "stdout",
     "output_type": "stream",
     "text": [
      "WARNING:tensorflow:From C:\\Users\\ICT01_02\\Anaconda3\\envs\\tf_test\\lib\\site-packages\\keras\\backend\\tensorflow_backend.py:422: The name tf.global_variables is deprecated. Please use tf.compat.v1.global_variables instead.\n",
      "\n",
      "Train on 2411 samples, validate on 603 samples\n",
      "Epoch 1/20\n",
      "2411/2411 [==============================] - 12s 5ms/step - loss: 1.6554 - acc: 0.3073 - val_loss: 1.6303 - val_acc: 0.3134\n",
      "Epoch 2/20\n",
      "2411/2411 [==============================] - 11s 5ms/step - loss: 1.3146 - acc: 0.4152 - val_loss: 1.8757 - val_acc: 0.2272\n",
      "Epoch 3/20\n",
      "2411/2411 [==============================] - 11s 5ms/step - loss: 1.1931 - acc: 0.4890 - val_loss: 1.7394 - val_acc: 0.2604\n",
      "Epoch 4/20\n",
      "2411/2411 [==============================] - 11s 5ms/step - loss: 1.0871 - acc: 0.5350 - val_loss: 1.3405 - val_acc: 0.4362\n",
      "Epoch 5/20\n",
      "2411/2411 [==============================] - 11s 5ms/step - loss: 0.9577 - acc: 0.5964 - val_loss: 0.9844 - val_acc: 0.6285\n",
      "Epoch 6/20\n",
      "2411/2411 [==============================] - 11s 5ms/step - loss: 0.8983 - acc: 0.6387 - val_loss: 0.8857 - val_acc: 0.6451\n",
      "Epoch 7/20\n",
      "2411/2411 [==============================] - 11s 5ms/step - loss: 0.8305 - acc: 0.6636 - val_loss: 0.9170 - val_acc: 0.7214\n",
      "Epoch 8/20\n",
      "2411/2411 [==============================] - 11s 5ms/step - loss: 0.8095 - acc: 0.6815 - val_loss: 0.7598 - val_acc: 0.7164\n",
      "Epoch 9/20\n",
      "2411/2411 [==============================] - 11s 5ms/step - loss: 0.7120 - acc: 0.7283 - val_loss: 0.6467 - val_acc: 0.7479\n",
      "Epoch 10/20\n",
      "2411/2411 [==============================] - 11s 5ms/step - loss: 0.6447 - acc: 0.7681 - val_loss: 0.6049 - val_acc: 0.7828\n",
      "Epoch 11/20\n",
      "2411/2411 [==============================] - 11s 4ms/step - loss: 0.5742 - acc: 0.7972 - val_loss: 0.5827 - val_acc: 0.7960\n",
      "Epoch 12/20\n",
      "2411/2411 [==============================] - 11s 5ms/step - loss: 0.5189 - acc: 0.8187 - val_loss: 0.5787 - val_acc: 0.7761\n",
      "Epoch 13/20\n",
      "2411/2411 [==============================] - 11s 4ms/step - loss: 0.4604 - acc: 0.8391 - val_loss: 1.4144 - val_acc: 0.5158\n",
      "Epoch 14/20\n",
      "2411/2411 [==============================] - 11s 5ms/step - loss: 0.4371 - acc: 0.8540 - val_loss: 0.7636 - val_acc: 0.7662\n",
      "Epoch 15/20\n",
      "2411/2411 [==============================] - 11s 4ms/step - loss: 0.4030 - acc: 0.8652 - val_loss: 0.7596 - val_acc: 0.7662\n",
      "Epoch 16/20\n",
      "2411/2411 [==============================] - 11s 5ms/step - loss: 0.3964 - acc: 0.8689 - val_loss: 1.2761 - val_acc: 0.7032\n",
      "Epoch 17/20\n",
      "2411/2411 [==============================] - 11s 4ms/step - loss: 0.3323 - acc: 0.8930 - val_loss: 0.6527 - val_acc: 0.7844\n",
      "Epoch 18/20\n",
      "2411/2411 [==============================] - 11s 5ms/step - loss: 0.3199 - acc: 0.9017 - val_loss: 0.5147 - val_acc: 0.8375\n",
      "Epoch 19/20\n",
      "2411/2411 [==============================] - 11s 5ms/step - loss: 0.2858 - acc: 0.9108 - val_loss: 0.6192 - val_acc: 0.8209\n",
      "Epoch 20/20\n",
      "2411/2411 [==============================] - 11s 5ms/step - loss: 0.2850 - acc: 0.9125 - val_loss: 0.5132 - val_acc: 0.8474\n"
     ]
    }
   ],
   "source": [
    "def compile_and_train(model, num_epochs):\n",
    "    model.compile(loss = categorical_crossentropy, optimizer=Adam(), metrics=['acc'])\n",
    "    history= model.fit(x=X_train, y=y_train, batch_size=32, epochs=num_epochs, verbose=1,\n",
    "                       validation_split =0.2) \n",
    "\n",
    "    \n",
    "_ = compile_and_train(model2, num_epochs=20)"
   ]
  },
  {
   "cell_type": "code",
   "execution_count": 14,
   "metadata": {},
   "outputs": [
    {
     "name": "stdout",
     "output_type": "stream",
     "text": [
      "1005/1005 [==============================] - 2s 2ms/step\n",
      "정확도 : 0.8438\n"
     ]
    },
    {
     "data": {
      "text/plain": [
       "3.7761194029850746"
      ]
     },
     "execution_count": 14,
     "metadata": {},
     "output_type": "execute_result"
    }
   ],
   "source": [
    "print(\"정확도 : %.4f\" % (model2.evaluate(X_test, y_test)[1]))\n",
    "\n",
    "def evaluate_error(model):\n",
    "    pred = model.predict(X_test, batch_size=32)\n",
    "    pred = np.argmax(pred, axis=1)\n",
    "    pred = np.expand_dims(pred, axis=1) # make same shape as y_test\n",
    "    error = np.sum(np.not_equal(pred, y_test))/ y_test.shape[0]\n",
    "    return error\n",
    "\n",
    "\n",
    "evaluate_error(model2)"
   ]
  },
  {
   "cell_type": "code",
   "execution_count": null,
   "metadata": {},
   "outputs": [],
   "source": []
  }
 ],
 "metadata": {
  "kernelspec": {
   "display_name": "Python 3",
   "language": "python",
   "name": "python3"
  },
  "language_info": {
   "codemirror_mode": {
    "name": "ipython",
    "version": 3
   },
   "file_extension": ".py",
   "mimetype": "text/x-python",
   "name": "python",
   "nbconvert_exporter": "python",
   "pygments_lexer": "ipython3",
   "version": "3.7.6"
  }
 },
 "nbformat": 4,
 "nbformat_minor": 4
}
