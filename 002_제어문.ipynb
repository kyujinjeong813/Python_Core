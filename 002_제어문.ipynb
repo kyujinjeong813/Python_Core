{
 "cells": [
  {
   "cell_type": "markdown",
   "metadata": {},
   "source": [
    "# 2019. 12. 26"
   ]
  },
  {
   "cell_type": "code",
   "execution_count": 6,
   "metadata": {},
   "outputs": [
    {
     "name": "stdout",
     "output_type": "stream",
     "text": [
      "7 2 4\n",
      "3 8\n"
     ]
    }
   ],
   "source": [
    "num1 = 6\n",
    "num1 += 1 # num1 = num1 + 1\n",
    "num2 = 7\n",
    "num2 -= 5 # num2 = num2 - 5\n",
    "num3 = 8\n",
    "num3 /= 2 # num3 = num3 / 2\n",
    "print(num1, num2, round(num3))\n",
    "num1 = 1\n",
    "num1 *= 3\n",
    "num2 = 2\n",
    "num2 **= 3 # num2 = num2 ^ 3\n",
    "print(num1, num2)"
   ]
  },
  {
   "cell_type": "code",
   "execution_count": 9,
   "metadata": {},
   "outputs": [
    {
     "name": "stdout",
     "output_type": "stream",
     "text": [
      "Non-negative\n"
     ]
    }
   ],
   "source": [
    "# 3항 연산\n",
    "x = 5\n",
    "ans = 'Non-negative' if x >= 0 else 'Negative'\n",
    "print(ans) # 문자열 str"
   ]
  },
  {
   "cell_type": "code",
   "execution_count": 12,
   "metadata": {},
   "outputs": [],
   "source": [
    "city = '' # 문자열 거짓, 공백도 문자열, 숫자의 거짓:0, list의 거짓:[], dict:{}, tuple:()\n",
    "if city: # 조건이 참인 경우만 실행\n",
    "    print('empty city')"
   ]
  },
  {
   "cell_type": "markdown",
   "metadata": {},
   "source": [
    "# 날짜"
   ]
  },
  {
   "cell_type": "code",
   "execution_count": 14,
   "metadata": {},
   "outputs": [
    {
     "name": "stdout",
     "output_type": "stream",
     "text": [
      "2019-12-26 10:54:16.458050\n",
      "\n",
      "생년월일(19951031)을 입력하시오20001597\n",
      "당신의 나이는  19\n"
     ]
    }
   ],
   "source": [
    "import datetime\n",
    "dt = datetime.datetime.now()\n",
    "print(dt)\n",
    "print()\n",
    "# 데이터 입력\n",
    "age = input(\"생년월일(19951031)을 입력하시오\")\n",
    "# 데이터 처리\n",
    "year = int(age[0:4])\n",
    "month = int(age[4:6])\n",
    "day = int(age[6:])\n",
    "# 빼기 연산\n",
    "# 분산 : 상계방지 (제곱) >> 표준편차 (분산의 제곱근) >> 표준오차 (표준편차 / 표본의 제곱근) >> 95% 신뢰구간 (평균 +/- 2*표준오차)  \n",
    "year_diff = dt.year - year\n",
    "month_diff = dt.month - month\n",
    "day_diff = dt.day - day\n",
    "if day_diff < 0: # 일 내림 처리\n",
    "    month_diff -= 1\n",
    "if month_diff < 0: # 월 내림 처리\n",
    "    year_diff -= 1\n",
    "# 데이터 출력\n",
    "print(\"당신의 나이는 \", year_diff +1)\n",
    "if year_diff < 18:\n",
    "    print(\"당신의 미성년자입니다.\")"
   ]
  },
  {
   "cell_type": "markdown",
   "metadata": {},
   "source": [
    "# 반복문\n",
    "####  데이터입력 -> 처리(연산자), 제어문(판단문, 한가지 규칙을 여러 데이터에 적용: 반복문)"
   ]
  },
  {
   "cell_type": "code",
   "execution_count": null,
   "metadata": {},
   "outputs": [],
   "source": [
    "# for\n",
    "# for(i=0; i<100; i++) : 인덱스 오버플로우 index overflow \n",
    "# for in 문"
   ]
  },
  {
   "cell_type": "code",
   "execution_count": 25,
   "metadata": {},
   "outputs": [
    {
     "name": "stdout",
     "output_type": "stream",
     "text": [
      "earth air fire water "
     ]
    }
   ],
   "source": [
    "# 데이터를 이용하는 방법\n",
    "elements = ['earth', 'air', 'fire', 'water']\n",
    "for i in elements: # i = 'earth' # collections, iterator, generator, enumerate 가 올 수 있음!\n",
    "    print(i, end =\" \") # default end = \"/n\""
   ]
  },
  {
   "cell_type": "markdown",
   "metadata": {},
   "source": [
    "### collections : list, tuple, dict, set\n",
    "### iterator : range (i=0, i<100; i++)와 같은 방법으로 사용 (start, end, step)\n",
    "### generator : 데이터를 생성 (메모리를 차지하지 않음)\n",
    "### enumerate : 매핑을 해줌 ex. 0: earth, 1: air, 2: fire, 3: water (collections data의 개수를 세줌)"
   ]
  },
  {
   "cell_type": "code",
   "execution_count": 27,
   "metadata": {},
   "outputs": [
    {
     "name": "stdout",
     "output_type": "stream",
     "text": [
      "3\n",
      "4\n",
      "5\n",
      "6\n",
      "7\n"
     ]
    }
   ],
   "source": [
    "# 파이썬은 오버로딩이 없음 : default값으로 처리\n",
    "for i in range(5): # 최종값\n",
    "    print(i)\n",
    "    \n",
    "for i in range(2,7): # start, end\n",
    "    print(i)\n",
    "\n",
    "for i in range(0,10,2): # start, end, step\n",
    "    print(i)"
   ]
  },
  {
   "cell_type": "code",
   "execution_count": 29,
   "metadata": {},
   "outputs": [
    {
     "name": "stdout",
     "output_type": "stream",
     "text": [
      "0\n",
      "earth\n",
      "1\n",
      "air\n",
      "2\n",
      "fire\n",
      "3\n",
      "water\n"
     ]
    }
   ],
   "source": [
    "# 인덱스를 이용하는 방법\n",
    "for i in range(4):\n",
    "    print(i)\n",
    "    print(elements[i])"
   ]
  },
  {
   "cell_type": "code",
   "execution_count": 34,
   "metadata": {},
   "outputs": [
    {
     "name": "stdout",
     "output_type": "stream",
     "text": [
      "range(0, 4)\n",
      "[0, 1, 2, 3]\n",
      "<range_iterator object at 0x0000021641E9A4D0>\n",
      "[3, 2, 1, 0]\n",
      "[5, 4, 3, 2, 1, 0]\n"
     ]
    }
   ],
   "source": [
    "# range는 객체다. for in 문 안에 들어갈때만 제대로 작동\n",
    "ra = range(4)\n",
    "print(ra)\n",
    "print(list(ra)) # list로 캐스팅\n",
    "\n",
    "ra2 = reversed(range(4))\n",
    "print(ra2)\n",
    "print(list(ra2))\n",
    "\n",
    "print(list(range(5,-1,-1)))"
   ]
  },
  {
   "cell_type": "code",
   "execution_count": 35,
   "metadata": {},
   "outputs": [
    {
     "name": "stdout",
     "output_type": "stream",
     "text": [
      "55\n"
     ]
    }
   ],
   "source": [
    "# for in 문을 사용해서 1부터 10까지 더해라\n",
    "# 증가변수, 누적변수\n",
    "sum = 0\n",
    "for x in range(1,11):\n",
    "    sum += x\n",
    "print(sum)"
   ]
  },
  {
   "cell_type": "code",
   "execution_count": 36,
   "metadata": {},
   "outputs": [
    {
     "name": "stdout",
     "output_type": "stream",
     "text": [
      "\n",
      "2 * 2 = 4    2 * 3 = 6    2 * 4 = 8    2 * 5 = 10    2 * 6 = 12    2 * 7 = 14    2 * 8 = 16    2 * 9 = 18    \n",
      "3 * 2 = 6    3 * 3 = 9    3 * 4 = 12    3 * 5 = 15    3 * 6 = 18    3 * 7 = 21    3 * 8 = 24    3 * 9 = 27    "
     ]
    }
   ],
   "source": [
    "# 중첩된 for 문\n",
    "for x in range(2,4):\n",
    "    print()\n",
    "    for y in range(2,10):\n",
    "        print(x, '*', y, '=', x*y, end='    ')"
   ]
  },
  {
   "cell_type": "code",
   "execution_count": 43,
   "metadata": {},
   "outputs": [
    {
     "name": "stdout",
     "output_type": "stream",
     "text": [
      "\n",
      "2 * 2 = 4 \t    3 * 2 = 6 \t    4 * 2 = 8 \t    5 * 2 = 10 \t    6 * 2 = 12 \t    7 * 2 = 14 \t    8 * 2 = 16 \t    9 * 2 = 18 \t    \n",
      "2 * 3 = 6 \t    3 * 3 = 9 \t    4 * 3 = 12 \t    5 * 3 = 15 \t    6 * 3 = 18 \t    7 * 3 = 21 \t    8 * 3 = 24 \t    9 * 3 = 27 \t    \n",
      "2 * 4 = 8 \t    3 * 4 = 12 \t    4 * 4 = 16 \t    5 * 4 = 20 \t    6 * 4 = 24 \t    7 * 4 = 28 \t    8 * 4 = 32 \t    9 * 4 = 36 \t    \n",
      "2 * 5 = 10 \t    3 * 5 = 15 \t    4 * 5 = 20 \t    5 * 5 = 25 \t    6 * 5 = 30 \t    7 * 5 = 35 \t    8 * 5 = 40 \t    9 * 5 = 45 \t    \n",
      "2 * 6 = 12 \t    3 * 6 = 18 \t    4 * 6 = 24 \t    5 * 6 = 30 \t    6 * 6 = 36 \t    7 * 6 = 42 \t    8 * 6 = 48 \t    9 * 6 = 54 \t    \n",
      "2 * 7 = 14 \t    3 * 7 = 21 \t    4 * 7 = 28 \t    5 * 7 = 35 \t    6 * 7 = 42 \t    7 * 7 = 49 \t    8 * 7 = 56 \t    9 * 7 = 63 \t    \n",
      "2 * 8 = 16 \t    3 * 8 = 24 \t    4 * 8 = 32 \t    5 * 8 = 40 \t    6 * 8 = 48 \t    7 * 8 = 56 \t    8 * 8 = 64 \t    9 * 8 = 72 \t    \n",
      "2 * 9 = 18 \t    3 * 9 = 27 \t    4 * 9 = 36 \t    5 * 9 = 45 \t    6 * 9 = 54 \t    7 * 9 = 63 \t    8 * 9 = 72 \t    9 * 9 = 81 \t    "
     ]
    }
   ],
   "source": [
    "for x in range(2,10):\n",
    "    print()\n",
    "    for y in range(2,10):\n",
    "        print(y, '*', x, '=', x*y, '\\t', end=\"    \")"
   ]
  },
  {
   "cell_type": "code",
   "execution_count": 45,
   "metadata": {},
   "outputs": [
    {
     "data": {
      "text/plain": [
       "[0, 1, 2, 3, 4, 5, 6, 7, 8, 9]"
      ]
     },
     "execution_count": 45,
     "metadata": {},
     "output_type": "execute_result"
    }
   ],
   "source": [
    "# 내장리스트 : 동적으로 데이터 생성\n",
    "[i for i in range(10)]"
   ]
  },
  {
   "cell_type": "code",
   "execution_count": 46,
   "metadata": {},
   "outputs": [
    {
     "data": {
      "text/plain": [
       "[0, 1, 4, 9, 16, 25, 36, 49, 64, 81]"
      ]
     },
     "execution_count": 46,
     "metadata": {},
     "output_type": "execute_result"
    }
   ],
   "source": [
    "[i**2 for i in range(10)]"
   ]
  },
  {
   "cell_type": "code",
   "execution_count": 47,
   "metadata": {},
   "outputs": [
    {
     "data": {
      "text/plain": [
       "{0: 0, 1: 1, 2: 8, 3: 27, 4: 64, 5: 125, 6: 216, 7: 343, 8: 512, 9: 729}"
      ]
     },
     "execution_count": 47,
     "metadata": {},
     "output_type": "execute_result"
    }
   ],
   "source": [
    "{i:i**3 for i in range(10)}"
   ]
  },
  {
   "cell_type": "code",
   "execution_count": 48,
   "metadata": {},
   "outputs": [
    {
     "data": {
      "text/plain": [
       "[0, 4, 16, 36, 64]"
      ]
     },
     "execution_count": 48,
     "metadata": {},
     "output_type": "execute_result"
    }
   ],
   "source": [
    "[i**2 for i in range(10) if i%2 == 0]"
   ]
  },
  {
   "cell_type": "code",
   "execution_count": 55,
   "metadata": {},
   "outputs": [
    {
     "data": {
      "text/plain": [
       "[(1, 10),\n",
       " (1, 11),\n",
       " (1, 12),\n",
       " (1, 13),\n",
       " (1, 14),\n",
       " (2, 10),\n",
       " (2, 11),\n",
       " (2, 12),\n",
       " (2, 13),\n",
       " (2, 14),\n",
       " (3, 10),\n",
       " (3, 11),\n",
       " (3, 12),\n",
       " (3, 13),\n",
       " (3, 14),\n",
       " (4, 10),\n",
       " (4, 11),\n",
       " (4, 12),\n",
       " (4, 13),\n",
       " (4, 14)]"
      ]
     },
     "execution_count": 55,
     "metadata": {},
     "output_type": "execute_result"
    }
   ],
   "source": [
    "#for r in rows:\n",
    "#   for c in cols:\n",
    "#         (r,c)\n",
    "rows= range(1,5)\n",
    "cols = range(10,15)\n",
    "vectors = [(r,c) for r in rows for c in cols]\n",
    "vectors"
   ]
  },
  {
   "cell_type": "code",
   "execution_count": 56,
   "metadata": {},
   "outputs": [
    {
     "data": {
      "text/plain": [
       "[1,\n",
       " 2,\n",
       " '3의배수',\n",
       " 4,\n",
       " '5의배수',\n",
       " '3의배수',\n",
       " 7,\n",
       " 8,\n",
       " '3의배수',\n",
       " '5의배수',\n",
       " 11,\n",
       " '3의배수',\n",
       " 13,\n",
       " 14,\n",
       " '3의배수5의배수',\n",
       " 16,\n",
       " 17,\n",
       " '3의배수',\n",
       " 19,\n",
       " '5의배수']"
      ]
     },
     "execution_count": 56,
     "metadata": {},
     "output_type": "execute_result"
    }
   ],
   "source": [
    "# 앞이 참이면 뒤의 것은 계산하지 않음\n",
    "# True == 1, False == 0\n",
    "[\"3의배수\" * (i%3 == 0) + \"5의배수\"*(i%5==0) or i for i in range(1,21)]"
   ]
  },
  {
   "cell_type": "code",
   "execution_count": null,
   "metadata": {},
   "outputs": [],
   "source": [
    "# 점수를 입력받아 A,B,C,D,F학점으로 출력하시오. (점수를 학점으로 mapping)\n",
    "\n",
    "# 나으 풀이\n",
    "score = int(input(\"점수를 입력하시오.\"))\n",
    "grade = \"\"\n",
    "\n",
    "if score >= 90:\n",
    "    grade = \"A\"\n",
    "elif score >=80:\n",
    "    grade = \"B\"\n",
    "elif score >=70:\n",
    "    grade = \"C\"\n",
    "elif score >= 60:\n",
    "    grade = \"D\"\n",
    "else:\n",
    "    grade = \"F\"\n",
    "    \n",
    "print(grade)\n"
   ]
  },
  {
   "cell_type": "code",
   "execution_count": 2,
   "metadata": {},
   "outputs": [
    {
     "name": "stdout",
     "output_type": "stream",
     "text": [
      "점수입력 :  71\n",
      "C\n",
      "점수입력 :  5202\n",
      "A\n",
      "점수입력 :  6123\n",
      "A\n",
      "점수입력 :  1\n",
      "F\n",
      "점수입력 :  25\n",
      "F\n",
      "점수입력 :  93\n",
      "A\n",
      "점수입력 :  45\n",
      "F\n",
      "점수입력 :  0\n"
     ]
    }
   ],
   "source": [
    "# 쌤의 답안\n",
    "while True: # 무한루프\n",
    "    print(\"점수입력 : \", end=\" \")\n",
    "    jumsu = int(input())\n",
    "    if jumsu == 0: # 무한루프인 경우 종료조건 지정\n",
    "        break # 반복문 종료명령\n",
    "    if jumsu >= 90 : print('A')\n",
    "    elif jumsu >= 80 : print('B')\n",
    "    elif jumsu >= 70 : print('C')\n",
    "    elif jumsu >= 60 : print('D')\n",
    "    else: print('F')"
   ]
  },
  {
   "cell_type": "code",
   "execution_count": 3,
   "metadata": {},
   "outputs": [
    {
     "name": "stdout",
     "output_type": "stream",
     "text": [
      "번호를 입력하시오: 1\n",
      "이름을 입력하시오: 홍길동\n",
      "국어 점수 입력 : 90\n",
      "영어 점수 입력 : 75\n",
      "수학 점수 입력 : 99\n",
      "번호를 입력하시오: 2\n",
      "이름을 입력하시오: 김바보\n",
      "국어 점수 입력 : 20\n",
      "영어 점수 입력 : 30\n",
      "수학 점수 입력 : 15\n",
      "번호를 입력하시오: 3\n",
      "이름을 입력하시오: 이천재\n",
      "국어 점수 입력 : 99\n",
      "영어 점수 입력 : 99\n",
      "수학 점수 입력 : 100\n",
      "[['1', '홍길동', '90', '75', '99'], ['2', '김바보', '20', '30', '15'], ['3', '이천재', '99', '99', '100']]\n"
     ]
    }
   ],
   "source": [
    "# 번호 국어 영어 수학 점수를 입력하는 프로그램 작성 (3명분)\n",
    "# 2차원 리스트\n",
    "\n",
    "final = []\n",
    "for i in range(3):\n",
    "    sungjuk = []\n",
    "    num = input(\"번호를 입력하시오: \")\n",
    "    name = input(\"이름을 입력하시오: \")\n",
    "    kor = input(\"국어 점수 입력 : \")\n",
    "    eng = input(\"영어 점수 입력 : \")\n",
    "    math = input(\"수학 점수 입력 : \")\n",
    "    sungjuk.append(num)\n",
    "    sungjuk.append(name)\n",
    "    sungjuk.append(kor)\n",
    "    sungjuk.append(eng)\n",
    "    sungjuk.append(math)\n",
    "    final.append(sungjuk)\n",
    "print(final)"
   ]
  },
  {
   "cell_type": "code",
   "execution_count": null,
   "metadata": {},
   "outputs": [
    {
     "name": "stdout",
     "output_type": "stream",
     "text": [
      "번호를 입력하시오 : \n",
      "이름이 뭐니 : \n",
      "국어 성적은 얼마냐 : \n"
     ]
    }
   ],
   "source": [
    "# 잘못된 예\n",
    "final = []\n",
    "score = [] # 주소를 저장하는데 초기화가 한번밖에 안됨\n",
    "for i in range(3):\n",
    "    num = input(\"번호를 입력하시오 : \")\n",
    "    name = input(\"이름이 뭐니 : \")\n",
    "    kor = input(\"국어 성적은 얼마냐 : \")\n",
    "    eng = input(\"영어는 잘봤니 : \")\n",
    "    math = input(\"수학 몇개나 틀렸어 :\")\n",
    "    score.append(num)\n",
    "    score.append(name)\n",
    "    score.append(kor)\n",
    "    score.append(eng)\n",
    "    score.append(math)\n",
    "    final.append(score)\n",
    "print(final)"
   ]
  },
  {
   "cell_type": "code",
   "execution_count": 13,
   "metadata": {},
   "outputs": [
    {
     "name": "stdout",
     "output_type": "stream",
     "text": [
      "번호를 입력하시오: 1\n",
      "이름을 입력하시오: 홍길동\n",
      "국어 점수 입력 : 90\n",
      "영어 점수 입력 : 80\n",
      "수학 점수 입력 : 7\n",
      "번호를 입력하시오: 2\n",
      "이름을 입력하시오: 정규진\n",
      "국어 점수 입력 : 99\n",
      "영어 점수 입력 : 98\n",
      "수학 점수 입력 : 99\n",
      "번호를 입력하시오: 3\n",
      "이름을 입력하시오: 김바보\n",
      "국어 점수 입력 : 60\n",
      "영어 점수 입력 : 30\n",
      "수학 점수 입력 : 45\n",
      "[['1', '홍길동', 90, 80, 7, 177, 59.0], ['2', '정규진', 99, 98, 99, 296, 98.67], ['3', '김바보', 60, 30, 45, 135, 45.0]]\n"
     ]
    }
   ],
   "source": [
    "# 문제 합계와 평균을 구해서 추가시켜 보시오.\n",
    "# 평균은 소수점 3자리에서 반올림하여 2자리까지 표현하시오\n",
    "final = []\n",
    "for i in range(3):\n",
    "    sungjuk = []\n",
    "    hab = 0\n",
    "    avg = 0\n",
    "    num = input(\"번호를 입력하시오: \")\n",
    "    name = input(\"이름을 입력하시오: \")\n",
    "    kor = int(input(\"국어 점수 입력 : \"))\n",
    "    eng = int(input(\"영어 점수 입력 : \"))\n",
    "    math = int(input(\"수학 점수 입력 : \"))\n",
    "    tot = kor + eng + math\n",
    "    avg = round(tot / 3,2)\n",
    "    # 프로그램은 순서적으로 실행됨 : 순서를 변경하는 것 - 제어문과 함수\n",
    "    # 순서가 있는 자료구조\n",
    "    sungjuk.append(num)\n",
    "    sungjuk.append(name)\n",
    "    sungjuk.append(kor)\n",
    "    sungjuk.append(eng)\n",
    "    sungjuk.append(math)\n",
    "    sungjuk.append(tot)\n",
    "    sungjuk.append(avg)\n",
    "    final.append(sungjuk)\n",
    "print(final)\n",
    "\n",
    "# avg에 따른 grade 추가하는 것 해보긩"
   ]
  },
  {
   "cell_type": "code",
   "execution_count": 17,
   "metadata": {},
   "outputs": [
    {
     "data": {
      "text/plain": [
       "[['1', '홍길동', 90, 80, 7, 177, 59.0],\n",
       " ['2', '정규진', 99, 98, 99, 296, 98.67],\n",
       " ['3', '김바보', 60, 30, 45, 135, 45.0]]"
      ]
     },
     "execution_count": 17,
     "metadata": {},
     "output_type": "execute_result"
    }
   ],
   "source": [
    "# 정렬하고 싶은 경우\n",
    "# 기본데이터 타입 : str, int, float, list, dict, set, tuple\n",
    "# 파이썬은 모든 것이 객체 (변수 + 함수) : 사용자 정의 데이터 타입\n",
    "final.sort()\n",
    "final"
   ]
  },
  {
   "cell_type": "code",
   "execution_count": 19,
   "metadata": {},
   "outputs": [
    {
     "data": {
      "text/plain": [
       "[['1', '홍길동', 90, 80, 7, 177, 59.0],\n",
       " ['2', '정규진', 99, 98, 99, 296, 98.67],\n",
       " ['3', '김바보', 60, 30, 45, 135, 45.0]]"
      ]
     },
     "execution_count": 19,
     "metadata": {},
     "output_type": "execute_result"
    }
   ],
   "source": [
    "# 함수를 키로 한다.\n",
    "def getKey(a1):\n",
    "    return a1[1]\n",
    "final.sort(key=getKey, reverse=True) # 내림차순\n",
    "final"
   ]
  },
  {
   "cell_type": "code",
   "execution_count": null,
   "metadata": {},
   "outputs": [],
   "source": [
    "# lambda 함수 : 무명함수, 간단한 함수를 작성할 때 사용\n",
    "# getKey = lambda row : row[1] 이렇게도 되지만 잘 안씀\n",
    "final.sort(key=lambda row: row[1], reverse = True) # row는 매개변수, row[1]는 해야될 일"
   ]
  },
  {
   "cell_type": "code",
   "execution_count": 5,
   "metadata": {},
   "outputs": [
    {
     "name": "stdout",
     "output_type": "stream",
     "text": [
      "번호를 입력하시오: 1\n",
      "이름을 입력하시오: 가\n",
      "국어 점수 입력 : 100\n",
      "영어 점수 입력 : 20\n",
      "수학 점수 입력 : 40\n",
      "번호를 입력하시오: 2\n",
      "이름을 입력하시오: 나\n",
      "국어 점수 입력 : 53\n",
      "영어 점수 입력 : 74\n",
      "수학 점수 입력 : 42\n",
      "번호를 입력하시오: 3\n",
      "이름을 입력하시오: 다\n",
      "국어 점수 입력 : 68\n",
      "영어 점수 입력 : 98\n",
      "수학 점수 입력 : 99\n",
      "[['3', '다', 68, 98, 99, 265, 88.33, 'B'], ['2', '나', 53, 74, 42, 169, 56.33, 'F'], ['1', '가', 100, 20, 40, 160, 53.33, 'F']]\n"
     ]
    },
    {
     "data": {
      "text/plain": [
       "[['3', '다', 68, 98, 99, 265, 88.33, 'B', 1],\n",
       " ['2', '나', 53, 74, 42, 169, 56.33, 'F', 2],\n",
       " ['1', '가', 100, 20, 40, 160, 53.33, 'F', 3]]"
      ]
     },
     "execution_count": 5,
     "metadata": {},
     "output_type": "execute_result"
    }
   ],
   "source": [
    "# 등수를 입력하는 필드를 추가하시오.\n",
    "\n",
    "final = []\n",
    "for i in range(3):\n",
    "    sungjuk = []\n",
    "    hab = 0\n",
    "    avg = 0\n",
    "    num = input(\"번호를 입력하시오: \")\n",
    "    name = input(\"이름을 입력하시오: \")\n",
    "    kor = int(input(\"국어 점수 입력 : \"))\n",
    "    eng = int(input(\"영어 점수 입력 : \"))\n",
    "    math = int(input(\"수학 점수 입력 : \"))\n",
    "    tot = kor + eng + math\n",
    "    avg = round(tot / 3,2)\n",
    "    grade = ''\n",
    "    if avg >= 90: grade = 'A'\n",
    "    elif avg >= 80: grade = 'B'\n",
    "    elif avg >= 70: grade = 'C'\n",
    "    elif avg >=60: grade = 'D'\n",
    "    else: grade = 'F'\n",
    "    sungjuk.append(num)\n",
    "    sungjuk.append(name)\n",
    "    sungjuk.append(kor)\n",
    "    sungjuk.append(eng)\n",
    "    sungjuk.append(math)\n",
    "    sungjuk.append(tot)\n",
    "    sungjuk.append(avg)\n",
    "    sungjuk.append(grade)\n",
    "    final.append(sungjuk)\n",
    "#역순으로 정렬하고, 등수필드에 넣어주기, 그다음 등수 순으로 다시 정렬\n",
    "# 총점중심 내림차순\n",
    "final.sort(key=lambda row: row[5], reverse=True)\n",
    "print(final)\n",
    "for i in range(3):\n",
    "    final[i].append(i+1)\n",
    "final"
   ]
  },
  {
   "cell_type": "code",
   "execution_count": 7,
   "metadata": {},
   "outputs": [
    {
     "name": "stdout",
     "output_type": "stream",
     "text": [
      "번호 이름 국어 수학 영어 합계 평균 학점 순위 "
     ]
    },
    {
     "ename": "IndexError",
     "evalue": "list index out of range",
     "output_type": "error",
     "traceback": [
      "\u001b[1;31m---------------------------------------------------------------------------\u001b[0m",
      "\u001b[1;31mIndexError\u001b[0m                                Traceback (most recent call last)",
      "\u001b[1;32m<ipython-input-7-3ed2568a57a7>\u001b[0m in \u001b[0;36m<module>\u001b[1;34m\u001b[0m\n\u001b[0;32m      8\u001b[0m \u001b[0mtot_list\u001b[0m \u001b[1;33m=\u001b[0m \u001b[1;33m[\u001b[0m\u001b[1;34m\"번호\"\u001b[0m\u001b[1;33m,\u001b[0m\u001b[1;34m\"이름\"\u001b[0m\u001b[1;33m,\u001b[0m\u001b[1;34m\"국어\"\u001b[0m\u001b[1;33m,\u001b[0m\u001b[1;34m\"수학\"\u001b[0m\u001b[1;33m,\u001b[0m\u001b[1;34m\"영어\"\u001b[0m\u001b[1;33m,\u001b[0m\u001b[1;34m\"합계\"\u001b[0m\u001b[1;33m,\u001b[0m\u001b[1;34m\"평균\"\u001b[0m\u001b[1;33m,\u001b[0m\u001b[1;34m\"학점\"\u001b[0m\u001b[1;33m,\u001b[0m\u001b[1;34m\"순위\"\u001b[0m\u001b[1;33m]\u001b[0m\u001b[1;33m\u001b[0m\u001b[1;33m\u001b[0m\u001b[0m\n\u001b[0;32m      9\u001b[0m \u001b[1;32mfor\u001b[0m \u001b[0mj\u001b[0m \u001b[1;32min\u001b[0m \u001b[0mrange\u001b[0m\u001b[1;33m(\u001b[0m\u001b[0mlen\u001b[0m\u001b[1;33m(\u001b[0m\u001b[0mfinal\u001b[0m\u001b[1;33m[\u001b[0m\u001b[1;36m0\u001b[0m\u001b[1;33m]\u001b[0m\u001b[1;33m)\u001b[0m\u001b[1;33m)\u001b[0m\u001b[1;33m:\u001b[0m\u001b[1;33m\u001b[0m\u001b[1;33m\u001b[0m\u001b[0m\n\u001b[1;32m---> 10\u001b[1;33m     \u001b[0mprint\u001b[0m\u001b[1;33m(\u001b[0m\u001b[0mtot_list\u001b[0m\u001b[1;33m[\u001b[0m\u001b[0mj\u001b[0m\u001b[1;33m]\u001b[0m\u001b[1;33m,\u001b[0m \u001b[0mend\u001b[0m\u001b[1;33m=\u001b[0m\u001b[1;34m\" \"\u001b[0m\u001b[1;33m)\u001b[0m\u001b[1;33m\u001b[0m\u001b[1;33m\u001b[0m\u001b[0m\n\u001b[0m",
      "\u001b[1;31mIndexError\u001b[0m: list index out of range"
     ]
    }
   ],
   "source": [
    "# 쌤의 답안\n",
    "rank = 0\n",
    "for i in range(len(final)):\n",
    "    rank = rank + 1\n",
    "    final[i].append(rank)\n",
    "    \n",
    "final.sort(key=lambda row : row[0]) \n",
    "tot_list = [\"번호\",\"이름\",\"국어\",\"수학\",\"영어\",\"합계\",\"평균\",\"학점\",\"순위\"]\n",
    "for j in range(len(final[0])):\n",
    "    print(tot_list[j], end=\" \")\n",
    "    \n",
    "for i in range(len(final)):\n",
    "    print(end = \"\\n\")\n",
    "    for j in range(9):\n",
    "        print(final[i][j], end=\" \")"
   ]
  },
  {
   "cell_type": "markdown",
   "metadata": {},
   "source": [
    "# 문제 numvber guess ( 숫자 맞추기 게임 1:1 )\n",
    "1) computer 는 숫자를 랜덤으로 발생시킵니다. (1~100)\n",
    "2) 사용자는 숫자를 입력합니다.\n",
    "3) 컴퓨터가 낸 숫자와 사용자가 입력한 숫자가 일치하는지 확인하고 일치하면 확인하고 다시 다음 게임으로 진행합니다.\n",
    "4) 만약 맞추지 못하면 사용자가 입력한 숫자가 컴퓨터가 가지고 있는 수보다 큰지 작은지를 알려줍니다.\n",
    "5) 무한루프로 진행하던 게임은 q가 눌리면 종료합니다.\n",
    "6) 몇회만에 맞추었는지를 확인하여 출력해줍니다.\n",
    "7) 총 진행횟수와 guess 횟수를 누적시킨다음 평균 시도횟수를 출력하시오."
   ]
  },
  {
   "cell_type": "code",
   "execution_count": 3,
   "metadata": {},
   "outputs": [
    {
     "name": "stdout",
     "output_type": "stream",
     "text": [
      "숫자를 입력해주세요50\n",
      "up!\n",
      "숫자를 입력해주세요75\n",
      "up!\n",
      "숫자를 입력해주세요87\n",
      "down!\n",
      "숫자를 입력해주세요80\n",
      "up!\n",
      "숫자를 입력해주세요84\n",
      "up!\n",
      "숫자를 입력해주세요86\n",
      "6 회 만에 정답을 맞췄습니다.\n",
      "숫자를 입력해주세요50\n",
      "up!\n",
      "숫자를 입력해주세요80\n",
      "up!\n",
      "숫자를 입력해주세요90\n",
      "down!\n",
      "숫자를 입력해주세요85\n",
      "up!\n",
      "숫자를 입력해주세요87\n",
      "down!\n",
      "숫자를 입력해주세요86\n",
      "6 회 만에 정답을 맞췄습니다.\n",
      "숫자를 입력해주세요50\n",
      "up!\n",
      "숫자를 입력해주세요80\n",
      "up!\n",
      "숫자를 입력해주세요87\n",
      "down!\n",
      "숫자를 입력해주세요85\n",
      "up!\n",
      "숫자를 입력해주세요86\n",
      "5 회 만에 정답을 맞췄습니다.\n",
      "숫자를 입력해주세요q\n",
      "평균 시도횟수 :  5.666666666666667\n"
     ]
    }
   ],
   "source": [
    "from random import randint \n",
    "n = randint(1, 101)\n",
    "game_count = 0\n",
    "guess = []\n",
    "guess_count = 0\n",
    "while True:\n",
    "    user = input(\"숫자를 입력해주세요 : \")\n",
    "    if user == 'q':\n",
    "        print(\"평균 시도횟수 : \", sum(guess) / game_count, \"회\")\n",
    "        break\n",
    "    if n == int(user) :\n",
    "        guess_count += 1\n",
    "        guess.append(guess_count)\n",
    "        game_count += 1\n",
    "        print(guess_count, \"회 만에 정답을 맞췄습니다.\")\n",
    "        guess_count = 0\n",
    "    elif n > int(user) :\n",
    "        guess_count += 1\n",
    "        print(\"up!\")\n",
    "    else: \n",
    "        guess_count += 1\n",
    "        print(\"down!\")"
   ]
  },
  {
   "cell_type": "code",
   "execution_count": 3,
   "metadata": {},
   "outputs": [
    {
     "name": "stdout",
     "output_type": "stream",
     "text": [
      "상상의 수를 입력 (Q to exit) : 1\n",
      "높은 수를 선택하시오\n",
      "상상의 수를 입력 (Q to exit) : 2\n",
      "정답!\n",
      "상상의 수를 입력 (Q to exit) : 3\n",
      "높은 수를 선택하시오\n",
      "상상의 수를 입력 (Q to exit) : q\n",
      "총게임수:  1 이긴게임수:  1\n",
      "평균 시도횟수 2.0\n"
     ]
    },
    {
     "ename": "SystemExit",
     "evalue": "0",
     "output_type": "error",
     "traceback": [
      "An exception has occurred, use %tb to see the full traceback.\n",
      "\u001b[1;31mSystemExit\u001b[0m\u001b[1;31m:\u001b[0m 0\n"
     ]
    },
    {
     "name": "stderr",
     "output_type": "stream",
     "text": [
      "C:\\Users\\ICT01_05\\Anaconda3\\lib\\site-packages\\IPython\\core\\interactiveshell.py:3334: UserWarning: To exit: use 'exit', 'quit', or Ctrl-D.\n",
      "  warn(\"To exit: use 'exit', 'quit', or Ctrl-D.\", stacklevel=1)\n"
     ]
    }
   ],
   "source": [
    "# 쌤의 풀이\n",
    "# 필요한 변수 : 컴퓨터 선정수, 사용자 입력, 총 횟수, 평균 시도횟수\n",
    "# 경우의 수는 3가지 (정답, 작은 경우, 큰 경우)\n",
    "# 전체 게임 회수와 이긴 회수\n",
    "# 평균 시도회수를 계산하기 위해서 변수를 정의하고 계산\n",
    "\n",
    "from random import randint\n",
    "import sys\n",
    "tot_game = 0 # 총 게임 수\n",
    "win = 0 # 이긴 경우 수\n",
    "tot_attempt = [] # 전체 시도횟수\n",
    "while True:\n",
    "    n = randint(1,101) # 컴퓨터는 수 하나 선택\n",
    "    tot_game += 1\n",
    "    game = 0\n",
    "    while True:\n",
    "        ans = input(\"상상의 수를 입력 (Q to exit) : \")\n",
    "        game += 1\n",
    "        if ans.upper() == \"Q\":\n",
    "            print(\"총게임수: \", tot_game-1, \"이긴게임수: \", win)\n",
    "            game_tot = sum(tot_attempt)\n",
    "            print(\"평균 시도횟수\", game_tot/(tot_game-1))\n",
    "            sys.exit(0)\n",
    "        ians = int(ans)\n",
    "        if (n == ians):\n",
    "            print(\"정답!\"); win += 1; tot_attempt.append(game)\n",
    "            break\n",
    "        elif (n > ians):\n",
    "            print(\"높은 수를 선택하시오\")\n",
    "        else:\n",
    "            print(\"작은 수를 선택하시오\")"
   ]
  },
  {
   "cell_type": "code",
   "execution_count": 10,
   "metadata": {},
   "outputs": [
    {
     "name": "stdout",
     "output_type": "stream",
     "text": [
      "아파트 면적을 입력해주세요(단위: 제곱미터)800\n",
      "중형\n"
     ]
    }
   ],
   "source": [
    "# 문제 1 제곱미터로 입력되는 아파트 면적을 평형으로 계산하여 종류 판정\n",
    "# (30평을 기준으로 판정)하는 프로그램 작성\n",
    "# 소형(17) 중소형(25) 중형(30)\n",
    "# 평형수 = 제곱미터 / 3.305\n",
    "\n",
    "area = int(input(\"아파트 면적을 입력해주세요(단위: 제곱미터) \"))\n",
    "pyng = area / 3.305\n",
    "apt = ''\n",
    "if pyng >= 30: apt = \"중형\"\n",
    "elif pyng >= 25: apt = \"중소형\"\n",
    "else: apt = \"소형\"\n",
    "print(apt)"
   ]
  },
  {
   "cell_type": "code",
   "execution_count": null,
   "metadata": {},
   "outputs": [],
   "source": [
    "# 쌤의 풀이\n",
    "meter = int(input(\"제곱미터를 입력하시오 : \"))\n",
    "p = meter / 3.305\n",
    "if p >= 30:\n",
    "    print(\"아파트 유형은 중형입니다. \", p)\n",
    "elif p >=25:\n",
    "    print(\"아파트 유형은 중소형입니다. \", p)\n",
    "else:\n",
    "    print(\"아파트 유형은 소형입니다. \", p)"
   ]
  },
  {
   "cell_type": "code",
   "execution_count": 11,
   "metadata": {},
   "outputs": [
    {
     "name": "stdout",
     "output_type": "stream",
     "text": [
      "날 수(days)를 입력해주세요. : 5\n",
      "5 일은  432000 초입니다.\n"
     ]
    }
   ],
   "source": [
    "# 문제 2 날 수를 입력하면 이를 초로 변경하는 프로그램 작성\n",
    "#import math\n",
    "#math.floor(days)\n",
    "\n",
    "days = input(\"날 수(days)를 입력해주세요. : \")\n",
    "sec = int(days) * 24 * 60 * 60\n",
    "print(days, \"일은 \", sec, \"초입니다.\")"
   ]
  },
  {
   "cell_type": "code",
   "execution_count": 13,
   "metadata": {},
   "outputs": [
    {
     "name": "stdout",
     "output_type": "stream",
     "text": [
      "소득을 입력해주세요.(단위 : 만원)8600\n",
      "세금은  3182 천만원입니다.\n"
     ]
    }
   ],
   "source": [
    "# 소득세 계산 : 소득 세율표를 구해보고 이를 이용하여 소득이 들어오면 세금이 얼마인지 계산해보시오. (연봉, 단순히 세율만 적용)\n",
    "# 1천만원 미만시 연봉 9.5% / 1천~4천 : 19% / 4~8천 : 29% / 8천이상 : 37%\n",
    "\n",
    "#  나으 풀이 (문제를 잘못이해햤엌ㅋㅋㅋ)\n",
    "income = int(input(\"소득을 입력해주세요.(단위 : 만원)\"))\n",
    "if income >= 8000: tax = income * .37\n",
    "elif income >= 4000: tax = income * .29\n",
    "elif income >= 1000: tax = income * .19\n",
    "else: tax = income * .095\n",
    "print(\"세금은 \", round(tax), \"천만원입니다.\")"
   ]
  },
  {
   "cell_type": "code",
   "execution_count": 14,
   "metadata": {},
   "outputs": [
    {
     "name": "stdout",
     "output_type": "stream",
     "text": [
      "연봉을 입력하시오 : 800000000\n",
      "입력하신 연봉  800000000 에 대한 세금 =  284650000.0\n"
     ]
    }
   ],
   "source": [
    "# 쌤의 풀이\n",
    "annual_income = int(input(\"연봉을 입력하시오 : \"))\n",
    "tax = 0.0\n",
    "if annual_income < 10000000:\n",
    "    tax = annual_income * 0.095\n",
    "elif annual_income < 40000000:\n",
    "    tax = 10000000 * 0.095 + (annual_income - 10000000) * 0.19\n",
    "elif annual_income < 80000000:\n",
    "    tax = 10000000 * 0.095 + 30000000 * 0.19 +  (annual_income - 40000000) * 0.29\n",
    "else:\n",
    "    tax = 10000000 * 0.095 + 30000000 * 0.19 +  40000000 * 0.29 + (annual_income - 80000000) * 0.37\n",
    "print(\"입력하신 연봉 \", annual_income, \"에 대한 세금 = \", tax)"
   ]
  },
  {
   "cell_type": "code",
   "execution_count": 5,
   "metadata": {},
   "outputs": [
    {
     "data": {
      "text/plain": [
       "4"
      ]
     },
     "execution_count": 5,
     "metadata": {},
     "output_type": "execute_result"
    }
   ],
   "source": [
    "# 놀이공원 매표소 단체 입장료 계산하기\n",
    "# 조건 : 팀별 인원 구성을 입력(초등, 청소년, 일반인, 경로대상)하면 입장료 소견표에\n",
    "# 정산요금 : 초등(5000원), 청소년(10000원), 일반인(15000원), 경로대상(3000원)\n",
    "# 팀별 할인 카드 확인\n",
    "# 카드 없음 : 할인 무, 일반카드 : 10%, vip : 20%\n",
    "\n",
    "# 나으 풀이 : 입력을 한번에 받는걸루 (문제를 잘못이해햤엌ㅋㅋㅋ)\n",
    "team = [\"초등\", \"청소년\", \"일반인\",\"경로대상\"]\n",
    "payment = [5000, 10000, 15000, 3000]\n",
    "pop = []\n",
    "card = []\n",
    "\n",
    "for i in range(len(team)):\n",
    "    print(team[i], \"팀의 인원수를 입력해주세요\")\n",
    "    num = int(input())\n",
    "    pop.append(num)\n",
    "    print(team[i], \"팀의 할인카드가 있다면 종류를 적어주세요. (카드없음 / 일반카드 / VIP)\")\n",
    "    card_sort = input()\n",
    "    card.append(card_sort)\n",
    "\n",
    "tot_payment = 0\n",
    "\n",
    "for i in range(len(team)):\n",
    "    sub_payment = 0\n",
    "    if card[i] == \"카드없음\" : discount = 0\n",
    "    elif card[i] == \"일반카드\" : discount = 0.1\n",
    "    else : discount = 0.2\n",
    "    sub_payment = payment[i]*pop[i]*(1-discount)\n",
    "    tot_payment += sub_payment\n",
    "\n",
    "print(\"총 결제금액은 \", tot_payment, \"원입니다.\")"
   ]
  },
  {
   "cell_type": "code",
   "execution_count": 7,
   "metadata": {},
   "outputs": [
    {
     "name": "stdout",
     "output_type": "stream",
     "text": [
      "초등 의 인원수를 입력해주세요\n",
      "10\n",
      "초등 의 할인카드가 있다면 종류를 적어주세요. (카드없음 / 일반카드 / VIP)\n",
      "카드없음\n",
      "청소년 의 인원수를 입력해주세요\n",
      "5\n",
      "청소년 의 할인카드가 있다면 종류를 적어주세요. (카드없음 / 일반카드 / VIP)\n",
      "일반카드\n",
      "일반인 의 인원수를 입력해주세요\n",
      "10\n",
      "일반인 의 할인카드가 있다면 종류를 적어주세요. (카드없음 / 일반카드 / VIP)\n",
      "VIP\n",
      "경로대상 의 인원수를 입력해주세요\n",
      "14\n",
      "경로대상 의 할인카드가 있다면 종류를 적어주세요. (카드없음 / 일반카드 / VIP)\n",
      "카드없음\n"
     ]
    }
   ],
   "source": [
    "ele = int(input(\"초등학생은 몇명입니까?\"))\n",
    "mid = int(input(\"청소년은 몇명입니까?\"))\n",
    "adult = int(input(\"일반은 몇명입니까?\"))\n",
    "old = int(input(\"경로대상은 몇명입니까?\"))\n",
    "\n",
    "ele_tot = 5000 * ele\n",
    "mid_tot = 10000 * mid\n",
    "adult_tot = 15000 * adult\n",
    "old_tot = 3000 * old\n",
    "tot = ele_tot + mid_tot + adult_tot + old_tot\n",
    "\n",
    "#if문을 사용하지 않고 선택! 지니어스!\n",
    "dis = int(input(\"카드없음(0), 일반카드(1), VIP(2)를 선택해주세요\"))\n",
    "select = [tot, tot*0.9, tot*0.8]\n",
    "print(\"총 요금은\", select[dis],\"원 입니다.\")"
   ]
  },
  {
   "cell_type": "markdown",
   "metadata": {},
   "source": [
    "# for문\n",
    "#### 2차원 배열로 된 데이터를 처리할 때 많이 쓰는 2중 for문"
   ]
  },
  {
   "cell_type": "code",
   "execution_count": 16,
   "metadata": {},
   "outputs": [
    {
     "name": "stdout",
     "output_type": "stream",
     "text": [
      "숫자를 입력하시오: 5\n",
      "*\n",
      "**\n",
      "***\n",
      "****\n",
      "*****\n"
     ]
    }
   ],
   "source": [
    "numberOfRows = int(input(\"숫자를 입력하시오: \"))\n",
    "for i in range(numberOfRows):\n",
    "    for j in range(i + 1):\n",
    "        print(\"*\", end=\"\")\n",
    "    print()"
   ]
  },
  {
   "cell_type": "code",
   "execution_count": 19,
   "metadata": {},
   "outputs": [
    {
     "name": "stdout",
     "output_type": "stream",
     "text": [
      "숫자를 입력하시오: 5\n",
      "     *\n",
      "    **\n",
      "   ***\n",
      "  ****\n",
      " *****\n"
     ]
    }
   ],
   "source": [
    "numberOfRows = int(input(\"숫자를 입력하시오: \"))\n",
    "for i in range(numberOfRows):\n",
    "    for j in range(numberOfRows-i):\n",
    "        print(\" \", end=\"\")\n",
    "    for j in range(i+1):\n",
    "        print(\"*\", end=\"\")\n",
    "    print()"
   ]
  },
  {
   "cell_type": "code",
   "execution_count": 21,
   "metadata": {},
   "outputs": [
    {
     "name": "stdout",
     "output_type": "stream",
     "text": [
      "      *\n",
      "     **\n",
      "    ***\n",
      "   ****\n",
      "  *****\n",
      " ******\n"
     ]
    }
   ],
   "source": [
    "for i in range(6):\n",
    "    for j in range(6-i):\n",
    "        print(\" \", end=\"\")\n",
    "    for j in range(i+1):\n",
    "        print(\"*\", end=\"\")\n",
    "    print()"
   ]
  },
  {
   "cell_type": "code",
   "execution_count": 21,
   "metadata": {},
   "outputs": [
    {
     "name": "stdout",
     "output_type": "stream",
     "text": [
      "숫자를 입력하세요: 10\n",
      "                    \n",
      "         *         \n",
      "        ***        \n",
      "       *****       \n",
      "      *******      \n",
      "     *********     \n",
      "    ***********    \n",
      "   *************   \n",
      "  ***************  \n",
      " ***************** \n"
     ]
    }
   ],
   "source": [
    "numberOfRows = int(input(\"숫자를 입력하세요: \"))\n",
    "for i in range(numberOfRows):\n",
    "    for j in range(numberOfRows - i ):\n",
    "        print(\" \", end=\"\")\n",
    "    for j in range(i*2 - 1):\n",
    "        print(\"*\", end=\"\")\n",
    "    for j in range(numberOfRows - i ):\n",
    "        print(\" \", end=\"\")\n",
    "    print()"
   ]
  },
  {
   "cell_type": "code",
   "execution_count": 18,
   "metadata": {},
   "outputs": [
    {
     "name": "stdout",
     "output_type": "stream",
     "text": [
      "          *\n",
      "         ***\n",
      "        *****\n",
      "       *******\n",
      "      *********\n",
      "     ***********\n",
      "    *************\n",
      "   ***************\n",
      "  *****************\n",
      " *******************\n"
     ]
    }
   ],
   "source": [
    "# 쌤의 풀이(1)\n",
    "for i in range(numberOfRows):\n",
    "    for k in range(numberOfRows-i):\n",
    "        print(\" \", end=\"\")\n",
    "    for j in range(i+1):\n",
    "        print(\"*\", end=\"\")\n",
    "    for j in range(i):\n",
    "        print(\"*\", end=\"\")\n",
    "    print()"
   ]
  },
  {
   "cell_type": "code",
   "execution_count": 20,
   "metadata": {},
   "outputs": [
    {
     "name": "stdout",
     "output_type": "stream",
     "text": [
      "\n",
      "          *\n",
      "         ***\n",
      "        *****\n",
      "       *******\n",
      "      *********\n",
      "     ***********\n",
      "    *************\n",
      "   ***************\n",
      "  *****************\n",
      " *******************\n"
     ]
    }
   ],
   "source": [
    "# 쌤의 풀이(2)\n",
    "print(\"\")\n",
    "for i in range(1,11):\n",
    "    print(\" \"*(10-i), \"*\"*(i*2-1))"
   ]
  },
  {
   "cell_type": "code",
   "execution_count": 2,
   "metadata": {},
   "outputs": [
    {
     "name": "stdout",
     "output_type": "stream",
     "text": [
      "숫자를 입력하세요: 10\n",
      "*\n",
      "**\n",
      "***\n",
      "****\n",
      "*****\n",
      "******\n",
      "*******\n",
      "********\n",
      "*********\n",
      "**********\n",
      "*********\n",
      "********\n",
      "*******\n",
      "******\n",
      "*****\n",
      "****\n",
      "***\n",
      "**\n",
      "*\n"
     ]
    }
   ],
   "source": [
    "numberOfRows = int(input(\"숫자를 입력하세요: \"))\n",
    "for i in range(numberOfRows):\n",
    "    for j in range(i+1):\n",
    "        print(\"*\", end=\"\")\n",
    "    print()\n",
    "for i in range(numberOfRows-1):\n",
    "    for k in range(numberOfRows-1-i):\n",
    "        print(\"*\", end=\"\")\n",
    "    print()"
   ]
  },
  {
   "cell_type": "code",
   "execution_count": 5,
   "metadata": {},
   "outputs": [
    {
     "name": "stdout",
     "output_type": "stream",
     "text": [
      "숫자를 입력하세요: 10\n",
      "*\n",
      "**\n",
      "***\n",
      "****\n",
      "*****\n",
      "*****\n",
      "****\n",
      "***\n",
      "**\n",
      "*\n"
     ]
    }
   ],
   "source": [
    "numberOfRows = int(input(\"숫자를 입력하세요: \"))\n",
    "for i in range(numberOfRows):\n",
    "    if i < numberOfRows / 2 :\n",
    "        for j in range(i+1):\n",
    "            print(\"*\", end=\"\")\n",
    "    else:\n",
    "        for j in range(numberOfRows//2-1, -1, -1):\n",
    "            if(j>= i -numberOfRows//2):\n",
    "                print(\"*\", end=\"\")\n",
    "    print()"
   ]
  },
  {
   "cell_type": "code",
   "execution_count": 4,
   "metadata": {},
   "outputs": [
    {
     "name": "stdout",
     "output_type": "stream",
     "text": [
      "\n",
      "*\n",
      "**\n",
      "***\n",
      "****\n",
      "*****\n",
      "****\n",
      "***\n",
      "**\n",
      "*\n"
     ]
    }
   ],
   "source": [
    "print(\"\")\n",
    "for i in range(1,10):\n",
    "    print(\"*\"*(i-int(i/6)*(i*2-10)))"
   ]
  },
  {
   "cell_type": "code",
   "execution_count": 3,
   "metadata": {},
   "outputs": [
    {
     "name": "stdout",
     "output_type": "stream",
     "text": [
      "숫자를 입력하세요: 10\n",
      "*                  *\n",
      "**                **\n",
      "***              ***\n",
      "****            ****\n",
      "*****          *****\n",
      "******        ******\n",
      "*******      *******\n",
      "********    ********\n",
      "*********  *********\n"
     ]
    }
   ],
   "source": [
    "numberOfRows = int(input(\"숫자를 입력하세요: \"))\n",
    "for i in range(numberOfRows-1):\n",
    "    for j in range(i+1):\n",
    "        print(\"*\", end=\"\")\n",
    "    for j in range(2*numberOfRows-2*(i+1)):\n",
    "        print(\" \", end=\"\")\n",
    "    for j in range(i+1):\n",
    "        print(\"*\", end=\"\")\n",
    "    print()"
   ]
  },
  {
   "cell_type": "code",
   "execution_count": 8,
   "metadata": {},
   "outputs": [
    {
     "name": "stdout",
     "output_type": "stream",
     "text": [
      "숫자를 입력하세요: 10\n",
      "*                  *\n",
      "**                **\n",
      "***              ***\n",
      "****            ****\n",
      "*****          *****\n",
      "******        ******\n",
      "*******      *******\n",
      "********    ********\n",
      "*********  *********\n",
      "********************\n",
      "********************\n",
      "********************\n"
     ]
    }
   ],
   "source": [
    "numberOfRows = int(input(\"숫자를 입력하세요: \"))\n",
    "for i in range(numberOfRows):\n",
    "    for j in range(i+1):\n",
    "        print(\"*\", end=\"\")\n",
    "    for j in range(2*numberOfRows-2*(i+1)):\n",
    "        print(\" \", end=\"\")\n",
    "    for j in range(i+1):\n",
    "        print(\"*\", end=\"\")\n",
    "    print()\n",
    "for i in range(numberOfRows, numberOfRows+2):\n",
    "    for j in range(numberOfRows*2):\n",
    "        print(\"*\", end=\"\")\n",
    "    print()\n",
    "    \n",
    "# 아래 3줄이 더 있음 길이는 같아야 함"
   ]
  },
  {
   "cell_type": "code",
   "execution_count": 2,
   "metadata": {},
   "outputs": [
    {
     "name": "stdout",
     "output_type": "stream",
     "text": [
      "숫자를 입력하세요10\n",
      "                    \n",
      "*                  *\n",
      "**                **\n",
      "***              ***\n",
      "****            ****\n",
      "*****          *****\n",
      "******        ******\n",
      "*******      *******\n",
      "********    ********\n",
      "*********  *********\n",
      "********************\n",
      "*********  *********\n",
      "********    ********\n",
      "*******      *******\n",
      "******        ******\n",
      "*****          *****\n",
      "****            ****\n",
      "***              ***\n",
      "**                **\n",
      "*                  *\n"
     ]
    }
   ],
   "source": [
    "numberOfRows = int(input(\"숫자를 입력하세요\"))\n",
    "\n",
    "for i in range(numberOfRows):\n",
    "    for j in range(i):\n",
    "        print(\"*\", end=\"\")\n",
    "    for k in range(numberOfRows*2-i*2):\n",
    "        print(\" \", end=\"\")\n",
    "    for l in range(i):\n",
    "        print(\"*\", end=\"\")\n",
    "    print()\n",
    "for i in range(numberOfRows):\n",
    "    for j in range(numberOfRows-i):\n",
    "        print(\"*\", end=\"\")\n",
    "    for k in range(i*2):\n",
    "        print(\" \", end=\"\")\n",
    "    for l in range(numberOfRows-i):\n",
    "        print(\"*\", end=\"\")\n",
    "    print()"
   ]
  },
  {
   "cell_type": "code",
   "execution_count": null,
   "metadata": {},
   "outputs": [],
   "source": [
    "\n",
    "\n",
    "\n"
   ]
  }
 ],
 "metadata": {
  "kernelspec": {
   "display_name": "Python 3",
   "language": "python",
   "name": "python3"
  },
  "language_info": {
   "codemirror_mode": {
    "name": "ipython",
    "version": 3
   },
   "file_extension": ".py",
   "mimetype": "text/x-python",
   "name": "python",
   "nbconvert_exporter": "python",
   "pygments_lexer": "ipython3",
   "version": "3.7.4"
  }
 },
 "nbformat": 4,
 "nbformat_minor": 2
}
